{
 "cells": [
  {
   "cell_type": "markdown",
   "id": "preceding-asbestos",
   "metadata": {},
   "source": [
    "# 5-1-MBD34-RNAi-H3K4me1ChIP\n",
    "Jakke Neiro$^1$\n",
    "\n",
    "1. Aboobaker laboratory, Department of Zoology, University of Oxford"
   ]
  },
  {
   "cell_type": "markdown",
   "id": "african-incidence",
   "metadata": {},
   "source": [
    "## Contents of notebook"
   ]
  },
  {
   "cell_type": "markdown",
   "id": "black-amplifier",
   "metadata": {},
   "source": [
    "* 1. Introduction\n",
    "* 2. Data quality\n",
    "    * 2.1 Data download\n",
    "    * 2.2 FastQC\n",
    "        * 2.2.1 SRR4089759 (h3k4me1_lpt02)\n",
    "        * 2.2.2 SRR4089760 (h3k4me1_lpt03)\n",
    "        * 2.2.3 SRR4089771 (input_lpt01)\n",
    "        * 2.2.4 SRR4089772 (input_lpt02)\n",
    "        * 2.2.5 SRR4089773 (input_lpt03)\n",
    "        * 2.2.6 SRR4089846 (h3k4me1_lpt01)\n",
    "* 3. Trimming\n",
    "    * 3.1 Trimmomatic\n",
    "    * 3.2 FastQC after trimming\n",
    "        * 3.2.1 SRR4089759 (h3k4me1_lpt02)\n",
    "        * 3.2.2 SRR4089760 (h3k4me1_lpt03)\n",
    "        * 3.2.3 SRR4089771 (input_lpt01)\n",
    "        * 3.2.4 SRR4089772 (input_lpt02)\n",
    "        * 3.2.5 SRR4089773 (input_lpt03)\n",
    "        * 3.2.6 SRR4089846 (h3k4me1_lpt01)\n",
    "* 4. Alignment\n",
    "* 5. Filtering\n",
    "    * 5.1 Sam to Bam\n",
    "    * 5.2 Unique reads and sorting\n",
    "    * 5.3 Removing duplicates\n",
    "    * 5.4 Read retainment\n",
    "        * 5.4.1 SRR4089759 (h3k4me1_lpt02)\n",
    "        * 5.4.2 SRR4089760 (h3k4me1_lpt03)\n",
    "        * 5.4.3 SRR4089771 (input_lpt01)\n",
    "        * 5.4.4 SRR4089772 (input_lpt02)\n",
    "        * 5.4.5 SRR4089773 (input_lpt03)\n",
    "        * 5.4.6 SRR4089846 (h3k4me1_lpt01)\n",
    "* 6. Coverage tracks\n",
    "    * 6.1 ChIP-seq H3K4me1 track\n",
    "    * 6.2 ChIP-seq H3K4me1 WT vs. lpt(RNAi) track"
   ]
  },
  {
   "cell_type": "markdown",
   "id": "diagnostic-department",
   "metadata": {},
   "source": [
    "## Files"
   ]
  },
  {
   "cell_type": "markdown",
   "id": "stable-parks",
   "metadata": {},
   "source": [
    "* Input: Fastq files: SRR4089846, SRR4089759, SRR4089760, SRR4089771, SRR4089772, SRR4089773\n",
    "* Output: h3k4me1RNAilog2.bw"
   ]
  },
  {
   "cell_type": "markdown",
   "id": "deadly-thursday",
   "metadata": {},
   "source": [
    "# 1. Introduction"
   ]
  },
  {
   "cell_type": "markdown",
   "id": "2b138edb",
   "metadata": {},
   "source": [
    "The H3K4me1 ChIP-seq data upon MBD3/4 RNAi was inspected, trimmed, and aligned to the planarian genome. Coverage files were generated. "
   ]
  },
  {
   "cell_type": "markdown",
   "id": "gorgeous-shame",
   "metadata": {},
   "source": [
    "* Monomethylation of histone H3K4 (H3K4me1) is relatively more enriched at metazoan enhancer regions compared to trimethylated histone H3K4 (H3K4me3), which is enriched at transcription start sites in all eukaryotes."
   ]
  },
  {
   "cell_type": "markdown",
   "id": "blind-dover",
   "metadata": {},
   "source": [
    "# 2. Data quality"
   ]
  },
  {
   "cell_type": "markdown",
   "id": "exclusive-entrepreneur",
   "metadata": {},
   "source": [
    "## 2.1 Data download"
   ]
  },
  {
   "cell_type": "code",
   "execution_count": 1,
   "id": "injured-revision",
   "metadata": {},
   "outputs": [
    {
     "name": "stdout",
     "output_type": "stream",
     "text": [
      "SRR4089846\n",
      "SRR4089759\n",
      "SRR4089760\n",
      "SRR4089771\n",
      "SRR4089772\n",
      "SRR4089773\n"
     ]
    }
   ],
   "source": [
    "%%bash\n",
    "cd /hydra/chip_RNAi\n",
    "less sample.txt"
   ]
  },
  {
   "cell_type": "code",
   "execution_count": 2,
   "id": "racial-webmaster",
   "metadata": {},
   "outputs": [
    {
     "name": "stdout",
     "output_type": "stream",
     "text": [
      "#!/bin/bash\n",
      "\n",
      "while read p; do parallel-fastq-dump --sra-id $p --threads 4 --gzip; done < sample.txt\n"
     ]
    }
   ],
   "source": [
    "%%bash\n",
    "cd /hydra/chip_RNAi\n",
    "less data_download.sh"
   ]
  },
  {
   "cell_type": "markdown",
   "id": "latin-civilization",
   "metadata": {},
   "source": [
    "## 2.2 FastQC"
   ]
  },
  {
   "cell_type": "code",
   "execution_count": 10,
   "id": "equipped-judgment",
   "metadata": {},
   "outputs": [
    {
     "name": "stdout",
     "output_type": "stream",
     "text": [
      "#!/bin/bash\n",
      "\n",
      "~/software/FastQC/fastqc SRR4089759_1.fastq.gz SRR4089759_2.fastq.gz SRR4089760_1.fastq.gz SRR4089760_2.fastq.gz SRR4089771_1.fastq.gz SRR4089771_2.fastq.gz SRR4089772_1.fastq.gz SRR4089772_2.fastq.gz SRR4089773_1.fastq.gz SRR4089773_2.fastq.gz SRR4089846_1.fastq.gz SRR4089846_2.fastq.gz\n"
     ]
    }
   ],
   "source": [
    "%%bash\n",
    "cd /hydra/chip_RNAi\n",
    "less fastqc_paired.sh\n",
    "#Script for FastQC of all samples"
   ]
  },
  {
   "cell_type": "code",
   "execution_count": null,
   "id": "authorized-things",
   "metadata": {},
   "outputs": [],
   "source": [
    "#%%bash\n",
    "#cd /hydra/chip_RNAi\n",
    "#nohup ./fastqc_paired.sh &\n",
    "#Running script"
   ]
  },
  {
   "cell_type": "markdown",
   "id": "cosmetic-grain",
   "metadata": {},
   "source": [
    "### 2.2.1 SRR4089759 (h3k4me1_lpt02)"
   ]
  },
  {
   "cell_type": "code",
   "execution_count": 4,
   "id": "lined-blank",
   "metadata": {},
   "outputs": [
    {
     "name": "stdout",
     "output_type": "stream",
     "text": [
      "PASS\tBasic Statistics\tSRR4089759_1.fastq.gz\n",
      "PASS\tPer base sequence quality\tSRR4089759_1.fastq.gz\n",
      "PASS\tPer sequence quality scores\tSRR4089759_1.fastq.gz\n",
      "FAIL\tPer base sequence content\tSRR4089759_1.fastq.gz\n",
      "PASS\tPer sequence GC content\tSRR4089759_1.fastq.gz\n",
      "PASS\tPer base N content\tSRR4089759_1.fastq.gz\n",
      "WARN\tSequence Length Distribution\tSRR4089759_1.fastq.gz\n",
      "PASS\tSequence Duplication Levels\tSRR4089759_1.fastq.gz\n",
      "FAIL\tOverrepresented sequences\tSRR4089759_1.fastq.gz\n",
      "PASS\tAdapter Content\tSRR4089759_1.fastq.gz\n"
     ]
    }
   ],
   "source": [
    "%%bash\n",
    "cd /hydra/chip_RNAi/SRR4089759_1_fastqc\n",
    "less summary.txt"
   ]
  },
  {
   "cell_type": "code",
   "execution_count": 5,
   "id": "independent-jefferson",
   "metadata": {},
   "outputs": [
    {
     "name": "stdout",
     "output_type": "stream",
     "text": [
      ">>Overrepresented sequences\tfail\n",
      "#Sequence\tCount\tPercentage\tPossible Source\n",
      "GATCGGAAGAGCACACGTCTGAACTCCAGTCACGATC\t1387957\t4.3180081294932355\tTruSeq Adapter, Index 9 (100% over 37bp)\n",
      ">>END_MODULE\n",
      ">>Adapter Content\tpass\n"
     ]
    }
   ],
   "source": [
    "%%bash\n",
    "cd /hydra/chip_RNAi/SRR4089759_1_fastqc\n",
    "grep -A 4 \"Overrepresented\" fastqc_data.txt"
   ]
  },
  {
   "cell_type": "code",
   "execution_count": 6,
   "id": "owned-compatibility",
   "metadata": {},
   "outputs": [
    {
     "name": "stdout",
     "output_type": "stream",
     "text": [
      "PASS\tBasic Statistics\tSRR4089759_2.fastq.gz\n",
      "PASS\tPer base sequence quality\tSRR4089759_2.fastq.gz\n",
      "PASS\tPer sequence quality scores\tSRR4089759_2.fastq.gz\n",
      "FAIL\tPer base sequence content\tSRR4089759_2.fastq.gz\n",
      "FAIL\tPer sequence GC content\tSRR4089759_2.fastq.gz\n",
      "PASS\tPer base N content\tSRR4089759_2.fastq.gz\n",
      "WARN\tSequence Length Distribution\tSRR4089759_2.fastq.gz\n",
      "PASS\tSequence Duplication Levels\tSRR4089759_2.fastq.gz\n",
      "FAIL\tOverrepresented sequences\tSRR4089759_2.fastq.gz\n",
      "PASS\tAdapter Content\tSRR4089759_2.fastq.gz\n"
     ]
    }
   ],
   "source": [
    "%%bash\n",
    "cd /hydra/chip_RNAi/SRR4089759_2_fastqc\n",
    "less summary.txt"
   ]
  },
  {
   "cell_type": "code",
   "execution_count": 7,
   "id": "stone-stretch",
   "metadata": {},
   "outputs": [
    {
     "name": "stdout",
     "output_type": "stream",
     "text": [
      ">>Overrepresented sequences\tfail\n",
      "#Sequence\tCount\tPercentage\tPossible Source\n",
      "GGGGGGGGGGGGGGGGGGGGGGGGGGGGGGGGGGGGGGGG\t1331334\t4.141850961572115\tNo Hit\n",
      ">>END_MODULE\n",
      ">>Adapter Content\tpass\n"
     ]
    }
   ],
   "source": [
    "%%bash\n",
    "cd /hydra/chip_RNAi/SRR4089759_2_fastqc\n",
    "grep -A 4 \"Overrepresented\" fastqc_data.txt"
   ]
  },
  {
   "cell_type": "markdown",
   "id": "frank-little",
   "metadata": {},
   "source": [
    "There are overrepresented sequences to be removed"
   ]
  },
  {
   "cell_type": "markdown",
   "id": "arabic-hybrid",
   "metadata": {},
   "source": [
    "### 2.2.2 SRR4089760 (h3k4me1_lpt03)"
   ]
  },
  {
   "cell_type": "code",
   "execution_count": 13,
   "id": "interested-check",
   "metadata": {},
   "outputs": [
    {
     "name": "stdout",
     "output_type": "stream",
     "text": [
      "PASS\tBasic Statistics\tSRR4089760.fastq.gz\n",
      "PASS\tPer base sequence quality\tSRR4089760.fastq.gz\n",
      "PASS\tPer sequence quality scores\tSRR4089760.fastq.gz\n",
      "FAIL\tPer base sequence content\tSRR4089760.fastq.gz\n",
      "WARN\tPer sequence GC content\tSRR4089760.fastq.gz\n",
      "PASS\tPer base N content\tSRR4089760.fastq.gz\n",
      "WARN\tSequence Length Distribution\tSRR4089760.fastq.gz\n",
      "PASS\tSequence Duplication Levels\tSRR4089760.fastq.gz\n",
      "WARN\tOverrepresented sequences\tSRR4089760.fastq.gz\n",
      "PASS\tAdapter Content\tSRR4089760.fastq.gz\n"
     ]
    }
   ],
   "source": [
    "%%bash\n",
    "cd /hydra/chip_RNAi/SRR4089760_fastqc\n",
    "less summary.txt"
   ]
  },
  {
   "cell_type": "code",
   "execution_count": 21,
   "id": "closed-turkish",
   "metadata": {},
   "outputs": [
    {
     "name": "stdout",
     "output_type": "stream",
     "text": [
      "PASS\tBasic Statistics\tSRR4089760.fastq.gz\n",
      "PASS\tPer base sequence quality\tSRR4089760.fastq.gz\n",
      "PASS\tPer sequence quality scores\tSRR4089760.fastq.gz\n",
      "FAIL\tPer base sequence content\tSRR4089760.fastq.gz\n",
      "WARN\tPer sequence GC content\tSRR4089760.fastq.gz\n",
      "PASS\tPer base N content\tSRR4089760.fastq.gz\n",
      "WARN\tSequence Length Distribution\tSRR4089760.fastq.gz\n",
      "PASS\tSequence Duplication Levels\tSRR4089760.fastq.gz\n",
      "WARN\tOverrepresented sequences\tSRR4089760.fastq.gz\n",
      "PASS\tAdapter Content\tSRR4089760.fastq.gz\n"
     ]
    }
   ],
   "source": [
    "%%bash\n",
    "cd /hydra/chip_RNAi/SRR4089760_fastqc\n",
    "less summary.txt"
   ]
  },
  {
   "cell_type": "markdown",
   "id": "referenced-distribution",
   "metadata": {},
   "source": [
    "### 2.2.3 SRR4089771 (input_lpt01)"
   ]
  },
  {
   "cell_type": "code",
   "execution_count": 25,
   "id": "entertaining-deployment",
   "metadata": {},
   "outputs": [
    {
     "name": "stdout",
     "output_type": "stream",
     "text": [
      "PASS\tBasic Statistics\tSRR4089771.fastq.gz\n",
      "PASS\tPer base sequence quality\tSRR4089771.fastq.gz\n",
      "PASS\tPer sequence quality scores\tSRR4089771.fastq.gz\n",
      "FAIL\tPer base sequence content\tSRR4089771.fastq.gz\n",
      "WARN\tPer sequence GC content\tSRR4089771.fastq.gz\n",
      "PASS\tPer base N content\tSRR4089771.fastq.gz\n",
      "WARN\tSequence Length Distribution\tSRR4089771.fastq.gz\n",
      "PASS\tSequence Duplication Levels\tSRR4089771.fastq.gz\n",
      "FAIL\tOverrepresented sequences\tSRR4089771.fastq.gz\n",
      "PASS\tAdapter Content\tSRR4089771.fastq.gz\n"
     ]
    }
   ],
   "source": [
    "%%bash\n",
    "cd /hydra/chip_RNAi/SRR4089771_fastqc\n",
    "less summary.txt"
   ]
  },
  {
   "cell_type": "code",
   "execution_count": 26,
   "id": "legal-mitchell",
   "metadata": {},
   "outputs": [
    {
     "name": "stdout",
     "output_type": "stream",
     "text": [
      ">>Overrepresented sequences\tfail\n",
      "#Sequence\tCount\tPercentage\tPossible Source\n",
      "GATCGGAAGAGCACACGTCTGAACTCCAGTCACCAGATCGGGGGGGGGGG\t855587\t3.484251866695124\tTruSeq Adapter, Index 7 (97% over 39bp)\n",
      ">>END_MODULE\n",
      ">>Adapter Content\tpass\n"
     ]
    }
   ],
   "source": [
    "%%bash\n",
    "cd /hydra/chip_RNAi/SRR4089771_fastqc\n",
    "grep -A 4 \"Overrepresented\" fastqc_data.txt"
   ]
  },
  {
   "cell_type": "markdown",
   "id": "dynamic-oxygen",
   "metadata": {},
   "source": [
    "### 2.2.4 SRR4089772 input_lpt02"
   ]
  },
  {
   "cell_type": "code",
   "execution_count": 27,
   "id": "digital-forth",
   "metadata": {},
   "outputs": [
    {
     "name": "stdout",
     "output_type": "stream",
     "text": [
      "PASS\tBasic Statistics\tSRR4089772.fastq.gz\n",
      "PASS\tPer base sequence quality\tSRR4089772.fastq.gz\n",
      "PASS\tPer sequence quality scores\tSRR4089772.fastq.gz\n",
      "FAIL\tPer base sequence content\tSRR4089772.fastq.gz\n",
      "FAIL\tPer sequence GC content\tSRR4089772.fastq.gz\n",
      "PASS\tPer base N content\tSRR4089772.fastq.gz\n",
      "WARN\tSequence Length Distribution\tSRR4089772.fastq.gz\n",
      "PASS\tSequence Duplication Levels\tSRR4089772.fastq.gz\n",
      "FAIL\tOverrepresented sequences\tSRR4089772.fastq.gz\n",
      "PASS\tAdapter Content\tSRR4089772.fastq.gz\n"
     ]
    }
   ],
   "source": [
    "%%bash\n",
    "cd /hydra/chip_RNAi/SRR4089772_fastqc\n",
    "less summary.txt"
   ]
  },
  {
   "cell_type": "code",
   "execution_count": 28,
   "id": "floating-jamaica",
   "metadata": {},
   "outputs": [
    {
     "name": "stdout",
     "output_type": "stream",
     "text": [
      ">>Overrepresented sequences\tfail\n",
      "#Sequence\tCount\tPercentage\tPossible Source\n",
      "GATCGGAAGAGCACACGTCTGAACTCCAGTCACTTAGGCGGGGGGGGGGG\t1023358\t3.9145702735514827\tTruSeq Adapter, Index 3 (97% over 39bp)\n",
      "CATCGGAAGAGCACACGTCTGAACTCCAGTCACTTAGGCGGGGGGGGGGG\t108452\t0.4148528426095319\tTruSeq Adapter, Index 3 (97% over 39bp)\n",
      ">>END_MODULE\n"
     ]
    }
   ],
   "source": [
    "%%bash\n",
    "cd /hydra/chip_RNAi/SRR4089772_fastqc\n",
    "grep -A 4 \"Overrepresented\" fastqc_data.txt"
   ]
  },
  {
   "cell_type": "markdown",
   "id": "superb-pantyhose",
   "metadata": {},
   "source": [
    "### 2.2.5 SRR4089773 (input_lpt03)"
   ]
  },
  {
   "cell_type": "code",
   "execution_count": 32,
   "id": "antique-wichita",
   "metadata": {},
   "outputs": [
    {
     "name": "stdout",
     "output_type": "stream",
     "text": [
      "PASS\tBasic Statistics\tSRR4089773.fastq.gz\n",
      "PASS\tPer base sequence quality\tSRR4089773.fastq.gz\n",
      "PASS\tPer sequence quality scores\tSRR4089773.fastq.gz\n",
      "FAIL\tPer base sequence content\tSRR4089773.fastq.gz\n",
      "PASS\tPer sequence GC content\tSRR4089773.fastq.gz\n",
      "PASS\tPer base N content\tSRR4089773.fastq.gz\n",
      "WARN\tSequence Length Distribution\tSRR4089773.fastq.gz\n",
      "PASS\tSequence Duplication Levels\tSRR4089773.fastq.gz\n",
      "WARN\tOverrepresented sequences\tSRR4089773.fastq.gz\n",
      "PASS\tAdapter Content\tSRR4089773.fastq.gz\n"
     ]
    }
   ],
   "source": [
    "%%bash\n",
    "cd /hydra/chip_RNAi/SRR4089773_fastqc\n",
    "less summary.txt"
   ]
  },
  {
   "cell_type": "code",
   "execution_count": 34,
   "id": "chubby-illustration",
   "metadata": {},
   "outputs": [
    {
     "name": "stdout",
     "output_type": "stream",
     "text": [
      ">>Overrepresented sequences\twarn\n",
      "#Sequence\tCount\tPercentage\tPossible Source\n",
      "GATCGGAAGAGCACACGTCTGAACTCCAGTCACGGCTACGGGGGGGGGGG\t260405\t0.5541755699625669\tTruSeq Adapter, Index 11 (97% over 39bp)\n",
      ">>END_MODULE\n",
      ">>Adapter Content\tpass\n"
     ]
    }
   ],
   "source": [
    "%%bash\n",
    "cd /hydra/chip_RNAi/SRR4089773_fastqc\n",
    "grep -A 4 \"Overrepresented\" fastqc_data.txt"
   ]
  },
  {
   "cell_type": "markdown",
   "id": "western-advocacy",
   "metadata": {},
   "source": [
    "### 2.2.6 SRR4089846 (h3k4me1_lpt01)"
   ]
  },
  {
   "cell_type": "code",
   "execution_count": 35,
   "id": "driven-cycle",
   "metadata": {},
   "outputs": [
    {
     "name": "stdout",
     "output_type": "stream",
     "text": [
      "PASS\tBasic Statistics\tSRR4089846.fastq.gz\n",
      "PASS\tPer base sequence quality\tSRR4089846.fastq.gz\n",
      "PASS\tPer sequence quality scores\tSRR4089846.fastq.gz\n",
      "FAIL\tPer base sequence content\tSRR4089846.fastq.gz\n",
      "WARN\tPer sequence GC content\tSRR4089846.fastq.gz\n",
      "PASS\tPer base N content\tSRR4089846.fastq.gz\n",
      "WARN\tSequence Length Distribution\tSRR4089846.fastq.gz\n",
      "PASS\tSequence Duplication Levels\tSRR4089846.fastq.gz\n",
      "FAIL\tOverrepresented sequences\tSRR4089846.fastq.gz\n",
      "PASS\tAdapter Content\tSRR4089846.fastq.gz\n"
     ]
    }
   ],
   "source": [
    "%%bash\n",
    "cd /hydra/chip_RNAi/SRR4089846_fastqc\n",
    "less summary.txt"
   ]
  },
  {
   "cell_type": "code",
   "execution_count": 36,
   "id": "reported-person",
   "metadata": {},
   "outputs": [
    {
     "name": "stdout",
     "output_type": "stream",
     "text": [
      ">>Overrepresented sequences\tfail\n",
      "#Sequence\tCount\tPercentage\tPossible Source\n",
      "GATCGGAAGAGCACACGTCTGAACTCCAGTCACATCACGGGGGGGGGGGG\t514629\t3.554279758129214\tTruSeq Adapter, Index 1 (97% over 39bp)\n",
      ">>END_MODULE\n",
      ">>Adapter Content\tpass\n"
     ]
    }
   ],
   "source": [
    "%%bash\n",
    "cd /hydra/chip_RNAi/SRR4089846_fastqc\n",
    "grep -A 4 \"Overrepresented\" fastqc_data.txt"
   ]
  },
  {
   "cell_type": "markdown",
   "id": "premium-force",
   "metadata": {},
   "source": [
    "# 3. Trimming"
   ]
  },
  {
   "cell_type": "code",
   "execution_count": 8,
   "id": "premium-acrobat",
   "metadata": {},
   "outputs": [
    {
     "name": "stdout",
     "output_type": "stream",
     "text": [
      ">TruSeq3_IndexedAdapter\n",
      "AGATCGGAAGAGCACACGTCTGAACTCCAGTCAC\n",
      ">TruSeq3_UniversalAdapter\n",
      "AGATCGGAAGAGCGTCGTGTAGGGAAAGAGTGTA"
     ]
    }
   ],
   "source": [
    "%%bash\n",
    "cd /hydra/software/Trimmomatic-0.39/adapters\n",
    "less TruSeq3-SE.fa"
   ]
  },
  {
   "cell_type": "code",
   "execution_count": 9,
   "id": "accepted-visiting",
   "metadata": {},
   "outputs": [
    {
     "name": "stdout",
     "output_type": "stream",
     "text": [
      ">Truseq9\n",
      "GATCGGAAGAGCACACGTCTGAACTCCAGTCACGATCGGGGGGGGGGGGG\n",
      ">TruSeq5\n",
      "GATCGGAAGAGCACACGTCTGAACTCCAGTCACACAGTGGGGGGGGGGGG\n",
      ">TruSeq7\n",
      "GATCGGAAGAGCACACGTCTGAACTCCAGTCACCAGATCGGGGGGGGGGG\n",
      ">TruSeq3\n",
      "GATCGGAAGAGCACACGTCTGAACTCCAGTCACTTAGGCGGGGGGGGGGG\n",
      ">TruSeq11\n",
      "GATCGGAAGAGCACACGTCTGAACTCCAGTCACGGCTACGGGGGGGGGGG\n",
      ">TruSeq1\n",
      "GATCGGAAGAGCACACGTCTGAACTCCAGTCACATCACGGGGGGGGGGGG\n"
     ]
    }
   ],
   "source": [
    "%%bash\n",
    "cd /hydra/chip_RNAi/\n",
    "less TruSeq9.fa\n",
    "less TruSeq5.fa\n",
    "less TruSeq7.fa\n",
    "less TruSeq3.fa\n",
    "less TruSeq11.fa\n",
    "less TruSeq1.fa"
   ]
  },
  {
   "cell_type": "markdown",
   "id": "tropical-hopkins",
   "metadata": {},
   "source": [
    "## 3.1 Trimmomatic"
   ]
  },
  {
   "cell_type": "code",
   "execution_count": 16,
   "id": "dominican-rubber",
   "metadata": {},
   "outputs": [
    {
     "name": "stdout",
     "output_type": "stream",
     "text": [
      "#!/bin/bash\n",
      "\n",
      "java -jar ~/software/Trimmomatic-0.39/trimmomatic-0.39.jar SE SRR4089759_1.fastq.gz SRR4089759_1.trimmed.fastq.gz ILLUMINACLIP:TruSeq9.fa:2:30:10\n",
      "\n",
      "java -jar ~/software/Trimmomatic-0.39/trimmomatic-0.39.jar SE SRR4089759_2.fastq.gz SRR4089759_2.trimmed.fastq.gz ILLUMINACLIP:TruSeq9.fa:2:30:10\n",
      "\n",
      "java -jar ~/software/Trimmomatic-0.39/trimmomatic-0.39.jar SE SRR4089760_1.fastq.gz SRR4089760_1.trimmed.fastq.gz ILLUMINACLIP:TruSeq5.fa:2:30:10\n",
      "\n",
      "java -jar ~/software/Trimmomatic-0.39/trimmomatic-0.39.jar SE SRR4089760_2.fastq.gz SRR4089760_2.trimmed.fastq.gz ILLUMINACLIP:TruSeq5.fa:2:30:10\n",
      "\n",
      "java -jar ~/software/Trimmomatic-0.39/trimmomatic-0.39.jar SE SRR4089771_1.fastq.gz SRR4089771_1.trimmed.fastq.gz ILLUMINACLIP:TruSeq7.fa:2:30:10\n",
      "\n",
      "java -jar ~/software/Trimmomatic-0.39/trimmomatic-0.39.jar SE SRR4089771_2.fastq.gz SRR4089771_2.trimmed.fastq.gz ILLUMINACLIP:TruSeq7.fa:2:30:10\n",
      "\n",
      "java -jar ~/software/Trimmomatic-0.39/trimmomatic-0.39.jar SE SRR4089772_1.fastq.gz SRR4089772_1.trimmed.fastq.gz ILLUMINACLIP:TruSeq3.fa:2:30:10\n",
      "\n",
      "java -jar ~/software/Trimmomatic-0.39/trimmomatic-0.39.jar SE SRR4089772_2.fastq.gz SRR4089772_2.trimmed.fastq.gz ILLUMINACLIP:TruSeq3.fa:2:30:10\n",
      "\n",
      "java -jar ~/software/Trimmomatic-0.39/trimmomatic-0.39.jar SE SRR4089773_1.fastq.gz SRR4089773_1.trimmed.fastq.gz ILLUMINACLIP:TruSeq11.fa:2:30:10\n",
      "\n",
      "java -jar ~/software/Trimmomatic-0.39/trimmomatic-0.39.jar SE SRR4089773_2.fastq.gz SRR4089773_2.trimmed.fastq.gz ILLUMINACLIP:TruSeq11.fa:2:30:10\n",
      "\n",
      "java -jar ~/software/Trimmomatic-0.39/trimmomatic-0.39.jar SE SRR4089846_1.fastq.gz SRR4089846_1.trimmed.fastq.gz ILLUMINACLIP:TruSeq1.fa:2:30:10\n",
      "\n",
      "java -jar ~/software/Trimmomatic-0.39/trimmomatic-0.39.jar SE SRR4089846_2.fastq.gz SRR4089846_2.trimmed.fastq.gz ILLUMINACLIP:TruSeq1.fa:2:30:10\n"
     ]
    }
   ],
   "source": [
    "%%bash\n",
    "cd /hydra/chip_RNAi/\n",
    "less trimmomatic_paired.sh\n",
    "#Script for trimming with trimmomatic"
   ]
  },
  {
   "cell_type": "code",
   "execution_count": null,
   "id": "planned-macro",
   "metadata": {},
   "outputs": [],
   "source": [
    "#%%bash\n",
    "#cd /hydra/chip_RNAi/\n",
    "#nohup ./trimmomatic_paired.sh &\n",
    "#Running script"
   ]
  },
  {
   "cell_type": "markdown",
   "id": "charged-daughter",
   "metadata": {},
   "source": [
    "## 3.2 FastQC after trimming"
   ]
  },
  {
   "cell_type": "code",
   "execution_count": null,
   "id": "exempt-spoke",
   "metadata": {},
   "outputs": [],
   "source": [
    "#%%bash\n",
    "#cd /hydra/chip_RNAi/\n",
    "#nohup fastqc SRR4089759.trimmed.fastq.gz SRR4089760.trimmed.fastq.gz SRR4089771.trimmed.fastq.gz SRR4089772.trimmed.fastq.gz SRR4089773.trimmed.fastq.gz SRR4089846.trimmed.fastq.gz -o ~/chip/ &"
   ]
  },
  {
   "cell_type": "markdown",
   "id": "intended-protest",
   "metadata": {},
   "source": [
    "### 3.2.1 SRR4089759 (h3k4me1_lpt02)"
   ]
  },
  {
   "cell_type": "code",
   "execution_count": 37,
   "id": "impossible-spice",
   "metadata": {},
   "outputs": [
    {
     "name": "stdout",
     "output_type": "stream",
     "text": [
      "PASS\tBasic Statistics\tSRR4089759.trimmed.fastq.gz\n",
      "PASS\tPer base sequence quality\tSRR4089759.trimmed.fastq.gz\n",
      "PASS\tPer sequence quality scores\tSRR4089759.trimmed.fastq.gz\n",
      "FAIL\tPer base sequence content\tSRR4089759.trimmed.fastq.gz\n",
      "WARN\tPer sequence GC content\tSRR4089759.trimmed.fastq.gz\n",
      "PASS\tPer base N content\tSRR4089759.trimmed.fastq.gz\n",
      "WARN\tSequence Length Distribution\tSRR4089759.trimmed.fastq.gz\n",
      "PASS\tSequence Duplication Levels\tSRR4089759.trimmed.fastq.gz\n",
      "PASS\tOverrepresented sequences\tSRR4089759.trimmed.fastq.gz\n",
      "PASS\tAdapter Content\tSRR4089759.trimmed.fastq.gz\n"
     ]
    }
   ],
   "source": [
    "%%bash\n",
    "cd /hydra/chip_RNAi/SRR4089759.trimmed_fastqc\n",
    "less summary.txt"
   ]
  },
  {
   "cell_type": "code",
   "execution_count": 40,
   "id": "metallic-motel",
   "metadata": {},
   "outputs": [
    {
     "name": "stdout",
     "output_type": "stream",
     "text": [
      ">>Overrepresented sequences\tpass\n",
      ">>END_MODULE\n",
      ">>Adapter Content\tpass\n",
      "#Position\tIllumina Universal Adapter\tIllumina Small RNA 3' Adapter\tIllumina Small RNA 5' Adapter\tNextera Transposase Sequence\tSOLID Small RNA Adapter\n",
      "1\t0.0\t6.524743491127948E-6\t0.0\t6.524743491127948E-6\t0.0\n"
     ]
    }
   ],
   "source": [
    "%%bash\n",
    "cd /hydra/chip_RNAi/SRR4089759.trimmed_fastqc\n",
    "grep -A 4 \"Overrepresented\" fastqc_data.txt"
   ]
  },
  {
   "cell_type": "markdown",
   "id": "industrial-growth",
   "metadata": {},
   "source": [
    "### 3.2.2 SRR4089760 (h3k4me1_lpt03)"
   ]
  },
  {
   "cell_type": "code",
   "execution_count": 41,
   "id": "authorized-brunei",
   "metadata": {},
   "outputs": [
    {
     "name": "stdout",
     "output_type": "stream",
     "text": [
      "PASS\tBasic Statistics\tSRR4089760.trimmed.fastq.gz\n",
      "PASS\tPer base sequence quality\tSRR4089760.trimmed.fastq.gz\n",
      "PASS\tPer sequence quality scores\tSRR4089760.trimmed.fastq.gz\n",
      "FAIL\tPer base sequence content\tSRR4089760.trimmed.fastq.gz\n",
      "WARN\tPer sequence GC content\tSRR4089760.trimmed.fastq.gz\n",
      "PASS\tPer base N content\tSRR4089760.trimmed.fastq.gz\n",
      "WARN\tSequence Length Distribution\tSRR4089760.trimmed.fastq.gz\n",
      "PASS\tSequence Duplication Levels\tSRR4089760.trimmed.fastq.gz\n",
      "PASS\tOverrepresented sequences\tSRR4089760.trimmed.fastq.gz\n",
      "PASS\tAdapter Content\tSRR4089760.trimmed.fastq.gz\n"
     ]
    }
   ],
   "source": [
    "%%bash\n",
    "cd /hydra/chip_RNAi/SRR4089760.trimmed_fastqc\n",
    "less summary.txt"
   ]
  },
  {
   "cell_type": "code",
   "execution_count": 42,
   "id": "charitable-benjamin",
   "metadata": {},
   "outputs": [
    {
     "name": "stdout",
     "output_type": "stream",
     "text": [
      ">>Overrepresented sequences\tpass\n",
      ">>END_MODULE\n",
      ">>Adapter Content\tpass\n",
      "#Position\tIllumina Universal Adapter\tIllumina Small RNA 3' Adapter\tIllumina Small RNA 5' Adapter\tNextera Transposase Sequence\tSOLID Small RNA Adapter\n",
      "1\t3.921217409389684E-6\t1.1763652228169054E-5\t0.0\t7.842434818779368E-6\t1.3070724697965616E-6\n"
     ]
    }
   ],
   "source": [
    "%%bash\n",
    "cd /hydra/chip_RNAi/SRR4089760.trimmed_fastqc\n",
    "grep -A 4 \"Overrepresented\" fastqc_data.txt"
   ]
  },
  {
   "cell_type": "markdown",
   "id": "descending-level",
   "metadata": {},
   "source": [
    "### 3.2.3 SRR4089771 (input_lpt01)"
   ]
  },
  {
   "cell_type": "code",
   "execution_count": 43,
   "id": "activated-framing",
   "metadata": {},
   "outputs": [
    {
     "name": "stdout",
     "output_type": "stream",
     "text": [
      "PASS\tBasic Statistics\tSRR4089771.trimmed.fastq.gz\n",
      "PASS\tPer base sequence quality\tSRR4089771.trimmed.fastq.gz\n",
      "PASS\tPer sequence quality scores\tSRR4089771.trimmed.fastq.gz\n",
      "FAIL\tPer base sequence content\tSRR4089771.trimmed.fastq.gz\n",
      "PASS\tPer sequence GC content\tSRR4089771.trimmed.fastq.gz\n",
      "PASS\tPer base N content\tSRR4089771.trimmed.fastq.gz\n",
      "WARN\tSequence Length Distribution\tSRR4089771.trimmed.fastq.gz\n",
      "PASS\tSequence Duplication Levels\tSRR4089771.trimmed.fastq.gz\n",
      "PASS\tOverrepresented sequences\tSRR4089771.trimmed.fastq.gz\n",
      "PASS\tAdapter Content\tSRR4089771.trimmed.fastq.gz\n"
     ]
    }
   ],
   "source": [
    "%%bash\n",
    "cd /hydra/chip_RNAi/SRR4089771.trimmed_fastqc\n",
    "less summary.txt"
   ]
  },
  {
   "cell_type": "code",
   "execution_count": 44,
   "id": "frank-permission",
   "metadata": {},
   "outputs": [
    {
     "name": "stdout",
     "output_type": "stream",
     "text": [
      ">>Overrepresented sequences\tpass\n",
      ">>END_MODULE\n",
      ">>Adapter Content\tpass\n",
      "#Position\tIllumina Universal Adapter\tIllumina Small RNA 3' Adapter\tIllumina Small RNA 5' Adapter\tNextera Transposase Sequence\tSOLID Small RNA Adapter\n",
      "1\t0.0\t2.117483848150829E-5\t0.0\t4.234967696301658E-6\t0.0\n"
     ]
    }
   ],
   "source": [
    "%%bash\n",
    "cd /hydra/chip_RNAi/SRR4089771.trimmed_fastqc\n",
    "grep -A 4 \"Overrepresented\" fastqc_data.txt"
   ]
  },
  {
   "cell_type": "markdown",
   "id": "dynamic-ribbon",
   "metadata": {},
   "source": [
    "### 3.2.4 SRR4089772 input_lpt02"
   ]
  },
  {
   "cell_type": "code",
   "execution_count": 46,
   "id": "original-olive",
   "metadata": {},
   "outputs": [
    {
     "name": "stdout",
     "output_type": "stream",
     "text": [
      "PASS\tBasic Statistics\tSRR4089772.trimmed.fastq.gz\n",
      "PASS\tPer base sequence quality\tSRR4089772.trimmed.fastq.gz\n",
      "PASS\tPer sequence quality scores\tSRR4089772.trimmed.fastq.gz\n",
      "FAIL\tPer base sequence content\tSRR4089772.trimmed.fastq.gz\n",
      "PASS\tPer sequence GC content\tSRR4089772.trimmed.fastq.gz\n",
      "PASS\tPer base N content\tSRR4089772.trimmed.fastq.gz\n",
      "WARN\tSequence Length Distribution\tSRR4089772.trimmed.fastq.gz\n",
      "PASS\tSequence Duplication Levels\tSRR4089772.trimmed.fastq.gz\n",
      "PASS\tOverrepresented sequences\tSRR4089772.trimmed.fastq.gz\n",
      "PASS\tAdapter Content\tSRR4089772.trimmed.fastq.gz\n"
     ]
    }
   ],
   "source": [
    "%%bash\n",
    "cd /hydra/chip_RNAi/SRR4089772.trimmed_fastqc\n",
    "less summary.txt"
   ]
  },
  {
   "cell_type": "code",
   "execution_count": 47,
   "id": "bulgarian-memphis",
   "metadata": {},
   "outputs": [
    {
     "name": "stdout",
     "output_type": "stream",
     "text": [
      ">>Overrepresented sequences\tpass\n",
      ">>END_MODULE\n",
      ">>Adapter Content\tpass\n",
      "#Position\tIllumina Universal Adapter\tIllumina Small RNA 3' Adapter\tIllumina Small RNA 5' Adapter\tNextera Transposase Sequence\tSOLID Small RNA Adapter\n",
      "1\t4.025835396070745E-6\t1.2077506188212233E-5\t0.0\t8.05167079214149E-6\t4.025835396070745E-6\n"
     ]
    }
   ],
   "source": [
    "%%bash\n",
    "cd /hydra/chip_RNAi/SRR4089772.trimmed_fastqc\n",
    "grep -A 4 \"Overrepresented\" fastqc_data.txt"
   ]
  },
  {
   "cell_type": "markdown",
   "id": "meaningful-example",
   "metadata": {},
   "source": [
    "### 3.2.5 SRR4089773 (input_lpt03)"
   ]
  },
  {
   "cell_type": "code",
   "execution_count": 48,
   "id": "preceding-dating",
   "metadata": {},
   "outputs": [
    {
     "name": "stdout",
     "output_type": "stream",
     "text": [
      "PASS\tBasic Statistics\tSRR4089773.trimmed.fastq.gz\n",
      "PASS\tPer base sequence quality\tSRR4089773.trimmed.fastq.gz\n",
      "PASS\tPer sequence quality scores\tSRR4089773.trimmed.fastq.gz\n",
      "FAIL\tPer base sequence content\tSRR4089773.trimmed.fastq.gz\n",
      "PASS\tPer sequence GC content\tSRR4089773.trimmed.fastq.gz\n",
      "PASS\tPer base N content\tSRR4089773.trimmed.fastq.gz\n",
      "WARN\tSequence Length Distribution\tSRR4089773.trimmed.fastq.gz\n",
      "PASS\tSequence Duplication Levels\tSRR4089773.trimmed.fastq.gz\n",
      "PASS\tOverrepresented sequences\tSRR4089773.trimmed.fastq.gz\n",
      "PASS\tAdapter Content\tSRR4089773.trimmed.fastq.gz\n"
     ]
    }
   ],
   "source": [
    "%%bash\n",
    "cd /hydra/chip_RNAi/SRR4089773.trimmed_fastqc\n",
    "less summary.txt"
   ]
  },
  {
   "cell_type": "code",
   "execution_count": 49,
   "id": "selective-river",
   "metadata": {},
   "outputs": [
    {
     "name": "stdout",
     "output_type": "stream",
     "text": [
      ">>Overrepresented sequences\tpass\n",
      ">>END_MODULE\n",
      ">>Adapter Content\tpass\n",
      "#Position\tIllumina Universal Adapter\tIllumina Small RNA 3' Adapter\tIllumina Small RNA 5' Adapter\tNextera Transposase Sequence\tSOLID Small RNA Adapter\n",
      "1\t2.143082840095674E-6\t2.1430828400956742E-5\t2.143082840095674E-6\t2.143082840095674E-6\t0.0\n"
     ]
    }
   ],
   "source": [
    "%%bash\n",
    "cd /hydra/chip_RNAi/SRR4089773.trimmed_fastqc\n",
    "grep -A 4 \"Overrepresented\" fastqc_data.txt"
   ]
  },
  {
   "cell_type": "markdown",
   "id": "employed-dietary",
   "metadata": {},
   "source": [
    "### 3.2.6 SRR4089846 (h3k4me1_lpt01)"
   ]
  },
  {
   "cell_type": "code",
   "execution_count": 50,
   "id": "vocal-connection",
   "metadata": {},
   "outputs": [
    {
     "name": "stdout",
     "output_type": "stream",
     "text": [
      "PASS\tBasic Statistics\tSRR4089846.trimmed.fastq.gz\n",
      "PASS\tPer base sequence quality\tSRR4089846.trimmed.fastq.gz\n",
      "PASS\tPer sequence quality scores\tSRR4089846.trimmed.fastq.gz\n",
      "FAIL\tPer base sequence content\tSRR4089846.trimmed.fastq.gz\n",
      "WARN\tPer sequence GC content\tSRR4089846.trimmed.fastq.gz\n",
      "PASS\tPer base N content\tSRR4089846.trimmed.fastq.gz\n",
      "WARN\tSequence Length Distribution\tSRR4089846.trimmed.fastq.gz\n",
      "PASS\tSequence Duplication Levels\tSRR4089846.trimmed.fastq.gz\n",
      "PASS\tOverrepresented sequences\tSRR4089846.trimmed.fastq.gz\n",
      "PASS\tAdapter Content\tSRR4089846.trimmed.fastq.gz\n"
     ]
    }
   ],
   "source": [
    "%%bash\n",
    "cd /hydra/chip_RNAi/SRR4089846.trimmed_fastqc\n",
    "less summary.txt"
   ]
  },
  {
   "cell_type": "code",
   "execution_count": 51,
   "id": "brazilian-copyright",
   "metadata": {},
   "outputs": [
    {
     "name": "stdout",
     "output_type": "stream",
     "text": [
      ">>Overrepresented sequences\tpass\n",
      ">>END_MODULE\n",
      ">>Adapter Content\tpass\n",
      "#Position\tIllumina Universal Adapter\tIllumina Small RNA 3' Adapter\tIllumina Small RNA 5' Adapter\tNextera Transposase Sequence\tSOLID Small RNA Adapter\n",
      "1\t0.0\t2.15755005875728E-5\t0.0\t0.0\t0.0\n"
     ]
    }
   ],
   "source": [
    "%%bash\n",
    "cd /hydra/chip_RNAi/SRR4089846.trimmed_fastqc\n",
    "grep -A 4 \"Overrepresented\" fastqc_data.txt"
   ]
  },
  {
   "cell_type": "markdown",
   "id": "romantic-exemption",
   "metadata": {},
   "source": [
    "# 4. Alignment"
   ]
  },
  {
   "cell_type": "code",
   "execution_count": 52,
   "id": "scheduled-people",
   "metadata": {},
   "outputs": [
    {
     "name": "stdout",
     "output_type": "stream",
     "text": [
      "#!/bin/bash\n",
      "~/software/bowtie2-2.4.1/bowtie2-build ~/sexual_genome_annotation_files/sexual_genome_annotation/final_dd_Smed_g4.fa Smed_bowtie2-2.4.1\n"
     ]
    }
   ],
   "source": [
    "%%bash\n",
    "cd /hydra/chip_RNAi/\n",
    "less index.sh"
   ]
  },
  {
   "cell_type": "code",
   "execution_count": null,
   "id": "nutritional-spain",
   "metadata": {},
   "outputs": [],
   "source": [
    "#%%bash\n",
    "#cd ~/../../../../data/ngs/smed/facs_rnaseq_datasets/sexual/chip_RNAi/\n",
    "#nohup ./index.sh &"
   ]
  },
  {
   "cell_type": "code",
   "execution_count": 66,
   "id": "spatial-initial",
   "metadata": {},
   "outputs": [
    {
     "name": "stdout",
     "output_type": "stream",
     "text": [
      "#!/bin/bash\n",
      "\n",
      "~/software/bowtie2-2.4.1/bowtie2 -x Smed_bowtie2-2.4.1 -1 SRR4089759_1.trimmed.fastq.gz -2 SRR4089759_2.trimmed.fastq.gz -p 12 -S SRR4089759_paired.sam\n",
      "\n",
      "~/software/bowtie2-2.4.1/bowtie2 -x Smed_bowtie2-2.4.1 -1 SRR4089760_1.trimmed.fastq.gz -2 SRR4089760_2.trimmed.fastq.gz -p 12 -S SRR4089760_paired.sam\n",
      "\n",
      "~/software/bowtie2-2.4.1/bowtie2 -x Smed_bowtie2-2.4.1 -1 SRR4089771_1.trimmed.fastq.gz -2 SRR4089771_2.trimmed.fastq.gz -p 12 -S SRR4089771_paired.sam\n",
      "\n",
      "~/software/bowtie2-2.4.1/bowtie2 -x Smed_bowtie2-2.4.1 -1 SRR4089772_1.trimmed.fastq.gz -2 SRR4089772_2.trimmed.fastq.gz -p 12 -S SRR4089772_paired.sam\n",
      "\n",
      "~/software/bowtie2-2.4.1/bowtie2 -x Smed_bowtie2-2.4.1 -1 SRR4089773_1.trimmed.fastq.gz -2 SRR4089773_2.trimmed.fastq.gz -p 12 -S SRR4089773_paired.sam\n",
      "\n",
      "~/software/bowtie2-2.4.1/bowtie2 -x Smed_bowtie2-2.4.1 -1 SRR4089846_1.trimmed.fastq.gz -2 SRR4089846_2.trimmed.fastq.gz -p 12 -S SRR4089846_paired.sam\n"
     ]
    }
   ],
   "source": [
    "%%bash\n",
    "cd /hydra/chip_RNAi\n",
    "less align_paired.sh"
   ]
  },
  {
   "cell_type": "code",
   "execution_count": null,
   "id": "continuous-establishment",
   "metadata": {},
   "outputs": [],
   "source": [
    "#%%bash\n",
    "#cd /hydra/chip_RNAi\n",
    "#nohup ./align_paired.sh &"
   ]
  },
  {
   "cell_type": "markdown",
   "id": "prompt-counter",
   "metadata": {},
   "source": [
    "# 5. FIltering"
   ]
  },
  {
   "cell_type": "markdown",
   "id": "spatial-calendar",
   "metadata": {},
   "source": [
    "## 5.1 Sam to bam"
   ]
  },
  {
   "cell_type": "markdown",
   "id": "05b73cd8",
   "metadata": {},
   "source": [
    "The sam files were converted to bam files: "
   ]
  },
  {
   "cell_type": "code",
   "execution_count": 57,
   "id": "nuclear-limit",
   "metadata": {},
   "outputs": [
    {
     "name": "stdout",
     "output_type": "stream",
     "text": [
      "#!/bin/bash\n",
      "\n",
      "samtools view -b -S SRR4089760_paired.sam > SRR4089760.bam\n",
      "\n",
      "samtools view -b -S SRR4089759_paired.sam > SRR4089759.bam\n",
      "\n",
      "samtools view -b -S SRR4089771_paired.sam > SRR4089771.bam\n",
      "\n",
      "samtools view -b -S SRR4089772_paired.sam > SRR4089772.bam\n",
      "\n",
      "samtools view -b -S SRR4089773_paired.sam > SRR4089773.bam\n",
      " \n",
      "samtools view -b -S SRR4089846_paired.sam > SRR4089846.bam\n"
     ]
    }
   ],
   "source": [
    "%%bash\n",
    "cd /hydra/chip_RNAi\n",
    "less sam2bam.sh"
   ]
  },
  {
   "cell_type": "code",
   "execution_count": null,
   "id": "turned-medium",
   "metadata": {},
   "outputs": [],
   "source": [
    "#%%bash\n",
    "#cd ~/../../../../data/ngs/smed/facs_rnaseq_datasets/sexual/chip_RNAi/\n",
    "#sudo nohup ./sam2bam.sh &"
   ]
  },
  {
   "cell_type": "markdown",
   "id": "daily-turkey",
   "metadata": {},
   "source": [
    "## 5.2 Unique reads and sorting"
   ]
  },
  {
   "cell_type": "markdown",
   "id": "0dea2b07",
   "metadata": {},
   "source": [
    "The sam files were quality-filtered:"
   ]
  },
  {
   "cell_type": "code",
   "execution_count": 60,
   "id": "patent-metabolism",
   "metadata": {},
   "outputs": [
    {
     "name": "stdout",
     "output_type": "stream",
     "text": [
      "#!/bin/bash\n",
      "\n",
      "samtools view -q 10 -b SRR4089760.bam > SRR4089760.uniq.bam\n",
      "samtools view -q 10 -b SRR4089759.bam > SRR4089759.uniq.bam\n",
      "samtools view -q 10 -b SRR4089771.bam > SRR4089771.uniq.bam\n",
      "samtools view -q 10 -b SRR4089772.bam > SRR4089772.uniq.bam\n",
      "samtools view -q 10 -b SRR4089773.bam > SRR4089773.uniq.bam\n",
      "samtools view -q 10 -b SRR4089846.bam > SRR4089846.uniq.bam\n",
      "\n",
      "samtools sort SRR4089760.uniq.bam -o SRR4089760.sorted.bam \n",
      "samtools sort SRR4089759.uniq.bam -o SRR4089759.sorted.bam\n",
      "samtools sort SRR4089771.uniq.bam -o SRR4089771.sorted.bam \n",
      "samtools sort SRR4089772.uniq.bam -o SRR4089772.sorted.bam \n",
      "samtools sort SRR4089773.uniq.bam -o SRR4089773.sorted.bam \n",
      "samtools sort SRR4089846.uniq.bam -o SRR4089846.sorted.bam \n"
     ]
    }
   ],
   "source": [
    "%%bash\n",
    "cd /hydra/chip_RNAi\n",
    "less samq.sh"
   ]
  },
  {
   "cell_type": "code",
   "execution_count": null,
   "id": "beautiful-julian",
   "metadata": {},
   "outputs": [],
   "source": [
    "#%%bash\n",
    "#cd ~/../../../../data/ngs/smed/facs_rnaseq_datasets/sexual/chip_RNAi/\n",
    "#nohup ./samq.sh &"
   ]
  },
  {
   "cell_type": "markdown",
   "id": "august-pleasure",
   "metadata": {},
   "source": [
    "## 5.3 Removing duplicates"
   ]
  },
  {
   "cell_type": "markdown",
   "id": "b36d7889",
   "metadata": {},
   "source": [
    "Duplicates were removed: "
   ]
  },
  {
   "cell_type": "code",
   "execution_count": 67,
   "id": "personalized-aside",
   "metadata": {},
   "outputs": [
    {
     "name": "stdout",
     "output_type": "stream",
     "text": [
      "#!/bin/bash\n",
      "\n",
      "samtools rmdup SRR4089760.sorted.bam SRR4089760.sorted.rmdup.bam\n",
      "samtools rmdup SRR4089759.sorted.bam SRR4089759.sorted.rmdup.bam\n",
      "samtools rmdup SRR4089771.sorted.bam SRR4089771.sorted.rmdup.bam\n",
      "samtools rmdup SRR4089772.sorted.bam SRR4089772.sorted.rmdup.bam\n",
      "samtools rmdup SRR4089773.sorted.bam SRR4089773.sorted.rmdup.bam\n",
      "samtools rmdup SRR4089846.sorted.bam SRR4089846.sorted.rmdup.bam\n"
     ]
    }
   ],
   "source": [
    "%%bash\n",
    "cd /hydra/chip_RNAi/\n",
    "less rmdup.sh"
   ]
  },
  {
   "cell_type": "code",
   "execution_count": 68,
   "id": "incredible-toronto",
   "metadata": {},
   "outputs": [],
   "source": [
    "#%%bash\n",
    "#cd /hydra/chip_RNAi/\n",
    "#nohup ./rmdup.sh &"
   ]
  },
  {
   "cell_type": "markdown",
   "id": "5f5b49df",
   "metadata": {},
   "source": [
    "## 5.4 Read retainment "
   ]
  },
  {
   "cell_type": "markdown",
   "id": "4b012183",
   "metadata": {},
   "source": [
    "### 5.4.1 SRR4089759 (h3k4me1_lpt02)"
   ]
  },
  {
   "cell_type": "code",
   "execution_count": 17,
   "id": "8a9dc8f4",
   "metadata": {},
   "outputs": [
    {
     "name": "stdout",
     "output_type": "stream",
     "text": [
      "30652700\n"
     ]
    }
   ],
   "source": [
    "%%bash\n",
    "cd /hydra/chip_RNAi/\n",
    "echo $(zcat SRR4089759_1.trimmed.fastq.gz|wc -l)/4|bc"
   ]
  },
  {
   "cell_type": "code",
   "execution_count": 19,
   "id": "eb3d4b30",
   "metadata": {},
   "outputs": [
    {
     "name": "stdout",
     "output_type": "stream",
     "text": [
      "24472143 + 0 in total (QC-passed reads + QC-failed reads)\n",
      "0 + 0 secondary\n",
      "0 + 0 supplementary\n",
      "0 + 0 duplicates\n",
      "24472143 + 0 mapped (100.00% : N/A)\n",
      "24472143 + 0 paired in sequencing\n",
      "12712605 + 0 read1\n",
      "11759538 + 0 read2\n",
      "12338 + 0 properly paired (0.05% : N/A)\n",
      "20580088 + 0 with itself and mate mapped\n",
      "3892055 + 0 singletons (15.90% : N/A)\n",
      "20426978 + 0 with mate mapped to a different chr\n",
      "20426978 + 0 with mate mapped to a different chr (mapQ>=5)\n"
     ]
    }
   ],
   "source": [
    "%%bash\n",
    "cd /hydra/chip_RNAi/\n",
    "samtools flagstat SRR4089759.sorted.rmdup.bam"
   ]
  },
  {
   "cell_type": "code",
   "execution_count": 20,
   "id": "45016385",
   "metadata": {},
   "outputs": [
    {
     "name": "stdout",
     "output_type": "stream",
     "text": [
      "0.39918413386096496\n"
     ]
    }
   ],
   "source": [
    "print(24472143/(2*30652700))"
   ]
  },
  {
   "cell_type": "markdown",
   "id": "6c91572b",
   "metadata": {},
   "source": [
    "### 5.4.2 SRR4089760 (h3k4me1_lpt03)"
   ]
  },
  {
   "cell_type": "code",
   "execution_count": 18,
   "id": "87d97cd1",
   "metadata": {},
   "outputs": [
    {
     "name": "stdout",
     "output_type": "stream",
     "text": [
      "76507087\n"
     ]
    }
   ],
   "source": [
    "%%bash\n",
    "cd /hydra/chip_RNAi/\n",
    "echo $(zcat SRR4089760_1.trimmed.fastq.gz|wc -l)/4|bc"
   ]
  },
  {
   "cell_type": "code",
   "execution_count": 21,
   "id": "e69826ab",
   "metadata": {},
   "outputs": [
    {
     "name": "stdout",
     "output_type": "stream",
     "text": [
      "54329767 + 0 in total (QC-passed reads + QC-failed reads)\n",
      "0 + 0 secondary\n",
      "0 + 0 supplementary\n",
      "0 + 0 duplicates\n",
      "54329767 + 0 mapped (100.00% : N/A)\n",
      "54329767 + 0 paired in sequencing\n",
      "27500269 + 0 read1\n",
      "26829498 + 0 read2\n",
      "27176 + 0 properly paired (0.05% : N/A)\n",
      "40274224 + 0 with itself and mate mapped\n",
      "14055543 + 0 singletons (25.87% : N/A)\n",
      "39966402 + 0 with mate mapped to a different chr\n",
      "39966402 + 0 with mate mapped to a different chr (mapQ>=5)\n"
     ]
    }
   ],
   "source": [
    "%%bash\n",
    "cd /hydra/chip_RNAi/\n",
    "samtools flagstat SRR4089760.sorted.rmdup.bam"
   ]
  },
  {
   "cell_type": "code",
   "execution_count": 22,
   "id": "bb37ae0d",
   "metadata": {},
   "outputs": [
    {
     "name": "stdout",
     "output_type": "stream",
     "text": [
      "0.3550636230601748\n"
     ]
    }
   ],
   "source": [
    "print(54329767/(2*76507087))"
   ]
  },
  {
   "cell_type": "markdown",
   "id": "75b5a608",
   "metadata": {},
   "source": [
    "### 5.4.3 SRR4089771 (input_lpt01)"
   ]
  },
  {
   "cell_type": "code",
   "execution_count": 23,
   "id": "32f0febd",
   "metadata": {},
   "outputs": [
    {
     "name": "stdout",
     "output_type": "stream",
     "text": [
      "23612971\n"
     ]
    }
   ],
   "source": [
    "%%bash\n",
    "cd /hydra/chip_RNAi/\n",
    "echo $(zcat SRR4089771_1.trimmed.fastq.gz|wc -l)/4|bc"
   ]
  },
  {
   "cell_type": "code",
   "execution_count": 24,
   "id": "ad0197ce",
   "metadata": {},
   "outputs": [
    {
     "name": "stdout",
     "output_type": "stream",
     "text": [
      "17587930 + 0 in total (QC-passed reads + QC-failed reads)\n",
      "0 + 0 secondary\n",
      "0 + 0 supplementary\n",
      "0 + 0 duplicates\n",
      "17587930 + 0 mapped (100.00% : N/A)\n",
      "17587930 + 0 paired in sequencing\n",
      "9075140 + 0 read1\n",
      "8512790 + 0 read2\n",
      "11922 + 0 properly paired (0.07% : N/A)\n",
      "15071078 + 0 with itself and mate mapped\n",
      "2516852 + 0 singletons (14.31% : N/A)\n",
      "14958416 + 0 with mate mapped to a different chr\n",
      "14958416 + 0 with mate mapped to a different chr (mapQ>=5)\n"
     ]
    }
   ],
   "source": [
    "%%bash\n",
    "cd /hydra/chip_RNAi/\n",
    "samtools flagstat SRR4089771.sorted.rmdup.bam"
   ]
  },
  {
   "cell_type": "code",
   "execution_count": 25,
   "id": "85e0d1d7",
   "metadata": {},
   "outputs": [
    {
     "name": "stdout",
     "output_type": "stream",
     "text": [
      "0.37242094609780363\n"
     ]
    }
   ],
   "source": [
    "print(17587930/(2*23612971))"
   ]
  },
  {
   "cell_type": "markdown",
   "id": "0e9ab7d9",
   "metadata": {},
   "source": [
    "### 5.4.4 SRR4089772 (input_lpt02)"
   ]
  },
  {
   "cell_type": "code",
   "execution_count": 26,
   "id": "533f1549",
   "metadata": {},
   "outputs": [
    {
     "name": "stdout",
     "output_type": "stream",
     "text": [
      "24840134\n"
     ]
    }
   ],
   "source": [
    "%%bash\n",
    "cd /hydra/chip_RNAi/\n",
    "echo $(zcat SRR4089772_1.trimmed.fastq.gz|wc -l)/4|bc"
   ]
  },
  {
   "cell_type": "code",
   "execution_count": 27,
   "id": "13178961",
   "metadata": {},
   "outputs": [
    {
     "name": "stdout",
     "output_type": "stream",
     "text": [
      "18968785 + 0 in total (QC-passed reads + QC-failed reads)\n",
      "0 + 0 secondary\n",
      "0 + 0 supplementary\n",
      "0 + 0 duplicates\n",
      "18968785 + 0 mapped (100.00% : N/A)\n",
      "18968785 + 0 paired in sequencing\n",
      "9796939 + 0 read1\n",
      "9171846 + 0 read2\n",
      "12768 + 0 properly paired (0.07% : N/A)\n",
      "16553620 + 0 with itself and mate mapped\n",
      "2415165 + 0 singletons (12.73% : N/A)\n",
      "16429693 + 0 with mate mapped to a different chr\n",
      "16429693 + 0 with mate mapped to a different chr (mapQ>=5)\n"
     ]
    }
   ],
   "source": [
    "%%bash\n",
    "cd /hydra/chip_RNAi/\n",
    "samtools flagstat SRR4089772.sorted.rmdup.bam"
   ]
  },
  {
   "cell_type": "code",
   "execution_count": 28,
   "id": "9ba3af3b",
   "metadata": {},
   "outputs": [
    {
     "name": "stdout",
     "output_type": "stream",
     "text": [
      "0.381817284077453\n"
     ]
    }
   ],
   "source": [
    "print(18968785/(2*24840134))"
   ]
  },
  {
   "cell_type": "markdown",
   "id": "e424846a",
   "metadata": {},
   "source": [
    "### 3.2.5 SRR4089773 (input_lpt03)"
   ]
  },
  {
   "cell_type": "code",
   "execution_count": 29,
   "id": "66bdb73e",
   "metadata": {},
   "outputs": [
    {
     "name": "stdout",
     "output_type": "stream",
     "text": [
      "46661866\n"
     ]
    }
   ],
   "source": [
    "%%bash\n",
    "cd /hydra/chip_RNAi/\n",
    "echo $(zcat SRR4089773_1.trimmed.fastq.gz|wc -l)/4|bc"
   ]
  },
  {
   "cell_type": "code",
   "execution_count": 30,
   "id": "433f1418",
   "metadata": {},
   "outputs": [
    {
     "name": "stdout",
     "output_type": "stream",
     "text": [
      "33320626 + 0 in total (QC-passed reads + QC-failed reads)\n",
      "0 + 0 secondary\n",
      "0 + 0 supplementary\n",
      "0 + 0 duplicates\n",
      "33320626 + 0 mapped (100.00% : N/A)\n",
      "33320626 + 0 paired in sequencing\n",
      "16922439 + 0 read1\n",
      "16398187 + 0 read2\n",
      "22157 + 0 properly paired (0.07% : N/A)\n",
      "26560336 + 0 with itself and mate mapped\n",
      "6760290 + 0 singletons (20.29% : N/A)\n",
      "26356535 + 0 with mate mapped to a different chr\n",
      "26356535 + 0 with mate mapped to a different chr (mapQ>=5)\n"
     ]
    }
   ],
   "source": [
    "%%bash\n",
    "cd /hydra/chip_RNAi/\n",
    "samtools flagstat SRR4089773.sorted.rmdup.bam"
   ]
  },
  {
   "cell_type": "code",
   "execution_count": 31,
   "id": "7655d637",
   "metadata": {},
   "outputs": [
    {
     "name": "stdout",
     "output_type": "stream",
     "text": [
      "0.35704343671125366\n"
     ]
    }
   ],
   "source": [
    "print(33320626/(2*46661866))"
   ]
  },
  {
   "cell_type": "markdown",
   "id": "ebfefc53",
   "metadata": {},
   "source": [
    "### 3.2.6 SRR4089846 (h3k4me1_lpt01)"
   ]
  },
  {
   "cell_type": "code",
   "execution_count": 32,
   "id": "e384196d",
   "metadata": {},
   "outputs": [
    {
     "name": "stdout",
     "output_type": "stream",
     "text": [
      "13904683\n"
     ]
    }
   ],
   "source": [
    "%%bash\n",
    "cd /hydra/chip_RNAi/\n",
    "echo $(zcat SRR4089846_1.trimmed.fastq.gz|wc -l)/4|bc"
   ]
  },
  {
   "cell_type": "code",
   "execution_count": 33,
   "id": "69727fc0",
   "metadata": {},
   "outputs": [
    {
     "name": "stdout",
     "output_type": "stream",
     "text": [
      "10294261 + 0 in total (QC-passed reads + QC-failed reads)\n",
      "0 + 0 secondary\n",
      "0 + 0 supplementary\n",
      "0 + 0 duplicates\n",
      "10294261 + 0 mapped (100.00% : N/A)\n",
      "10294261 + 0 paired in sequencing\n",
      "5329059 + 0 read1\n",
      "4965202 + 0 read2\n",
      "5657 + 0 properly paired (0.05% : N/A)\n",
      "8540865 + 0 with itself and mate mapped\n",
      "1753396 + 0 singletons (17.03% : N/A)\n",
      "8477298 + 0 with mate mapped to a different chr\n",
      "8477298 + 0 with mate mapped to a different chr (mapQ>=5)\n"
     ]
    }
   ],
   "source": [
    "%%bash\n",
    "cd /hydra/chip_RNAi/\n",
    "samtools flagstat SRR4089846.sorted.rmdup.bam"
   ]
  },
  {
   "cell_type": "code",
   "execution_count": 34,
   "id": "12cf3bc3",
   "metadata": {},
   "outputs": [
    {
     "name": "stdout",
     "output_type": "stream",
     "text": [
      "0.37017244477993494\n"
     ]
    }
   ],
   "source": [
    "print(10294261/(2*13904683))"
   ]
  },
  {
   "cell_type": "markdown",
   "id": "signal-thanksgiving",
   "metadata": {},
   "source": [
    "# 6. Coverage tracks"
   ]
  },
  {
   "cell_type": "markdown",
   "id": "comic-radius",
   "metadata": {},
   "source": [
    "## 6.1 ChIP-seq H3K4me1 track"
   ]
  },
  {
   "cell_type": "markdown",
   "id": "modified-vessel",
   "metadata": {},
   "source": [
    "Index files were generated for bam files:"
   ]
  },
  {
   "cell_type": "code",
   "execution_count": 17,
   "id": "olympic-subscription",
   "metadata": {},
   "outputs": [
    {
     "name": "stdout",
     "output_type": "stream",
     "text": [
      "#!/bin/bash\n",
      "\n",
      "samtools index -b SRR4089759.sorted.rmdup.bam\n",
      "samtools index -b SRR4089760.sorted.rmdup.bam\n",
      "samtools index -b SRR4089771.sorted.rmdup.bam\n",
      "samtools index -b SRR4089772.sorted.rmdup.bam\n",
      "samtools index -b SRR4089773.sorted.rmdup.bam\n",
      "samtools index -b SRR4089846.sorted.rmdup.bam\n"
     ]
    }
   ],
   "source": [
    "%%bash\n",
    "cd /hydra/chip_RNAi/\n",
    "less bamindex.sh"
   ]
  },
  {
   "cell_type": "code",
   "execution_count": 18,
   "id": "pointed-potential",
   "metadata": {},
   "outputs": [
    {
     "name": "stdout",
     "output_type": "stream",
     "text": [
      "-rw-r--r-- 1 ubuntu ubuntu 665544 Apr 22  2020 SRR4089759.sorted.rmdup.bam.bai\n",
      "-rw-r--r-- 1 ubuntu ubuntu 916640 Apr 22  2020 SRR4089760.sorted.rmdup.bam.bai\n",
      "-rw-r--r-- 1 ubuntu ubuntu 665704 Apr 22  2020 SRR4089771.sorted.rmdup.bam.bai\n",
      "-rw-r--r-- 1 ubuntu ubuntu 665376 Apr 22  2020 SRR4089772.sorted.rmdup.bam.bai\n",
      "-rw-r--r-- 1 ubuntu ubuntu 673896 Apr 22  2020 SRR4089773.sorted.rmdup.bam.bai\n",
      "-rw-r--r-- 1 ubuntu ubuntu 715680 Apr 22  2020 SRR4089846.sorted.rmdup.bam.bai\n"
     ]
    }
   ],
   "source": [
    "%%bash\n",
    "cd /hydra/chip_RNAi/\n",
    "ls -l *bai"
   ]
  },
  {
   "cell_type": "code",
   "execution_count": 1,
   "id": "flexible-aside",
   "metadata": {},
   "outputs": [
    {
     "name": "stdout",
     "output_type": "stream",
     "text": [
      "#!/bin/bash\n",
      "\n",
      "bamCompare -b1 SRR4089846.sorted.rmdup.bam -b2 SRR4089771.sorted.rmdup.bam -o h3k4me1_lpt01.bdg -of bedgraph --scaleFactorsMethod SES --smoothLength 50 -bs 10\n",
      "bamCompare -b1 SRR4089846.sorted.rmdup.bam -b2 SRR4089771.sorted.rmdup.bam -o h3k4me1_lpt01.bw -of bigwig --scaleFactorsMethod SES --smoothLength 50 -bs 10\n",
      "\n",
      "bamCompare -b1 SRR4089759.sorted.rmdup.bam -b2 SRR4089772.sorted.rmdup.bam -o h3k4me1_lpt02.bdg -of bedgraph --scaleFactorsMethod SES --smoothLength 50 -bs 10\n",
      "bamCompare -b1 SRR4089759.sorted.rmdup.bam -b2 SRR4089772.sorted.rmdup.bam -o h3k4me1_lpt02.bw -of bigwig --scaleFactorsMethod SES --smoothLength 50 -bs 10\n",
      "\n",
      "bamCompare -b1 SRR4089760.sorted.rmdup.bam -b2 SRR4089773.sorted.rmdup.bam -o h3k4me1_lpt03.bdg -of bedgraph --scaleFactorsMethod SES --smoothLength 50 -bs 10\n",
      "bamCompare -b1 SRR4089760.sorted.rmdup.bam -b2 SRR4089773.sorted.rmdup.bam -o h3k4me1_lpt03.bw -of bigwig --scaleFactorsMethod SES --smoothLength 50 -bs 10\n"
     ]
    }
   ],
   "source": [
    "%%bash\n",
    "cd /hydra/chip_RNAi/\n",
    "less bamCov.sh"
   ]
  },
  {
   "cell_type": "markdown",
   "id": "phantom-contamination",
   "metadata": {},
   "source": [
    "The mean of RNAi knockdown samples was calculated:"
   ]
  },
  {
   "cell_type": "code",
   "execution_count": null,
   "id": "competitive-weather",
   "metadata": {},
   "outputs": [],
   "source": [
    "#%%bash\n",
    "#cd /hydra/chip_RNAi/\n",
    "#wiggletools mean h3k4me1_lpt01.bw h3k4me1_lpt02.bw h3k4me3_lpt01.bw > h3k4me1_lpt_mean.wig\n",
    "#wigToBigWig h3k4me1_lpt_mean.wig /hydra/sexual_genome_annotation_files/sexual_genome_annotation/sizes.genome h3k4me1_lpt_mean.bw"
   ]
  },
  {
   "cell_type": "markdown",
   "id": "technical-aaron",
   "metadata": {},
   "source": [
    "## 6.2 ChIP-seq H3K4me1 WT vs. lpt(RNAi) track"
   ]
  },
  {
   "cell_type": "code",
   "execution_count": 14,
   "id": "proper-regulation",
   "metadata": {},
   "outputs": [
    {
     "name": "stdout",
     "output_type": "stream",
     "text": [
      "#!/bin/bash\n",
      "\n",
      "bigwigCompare -b1 h3k4me1_lpt_mean.bw -b2 ../chip_neiro/k4me1/h3k4me1meanlog2.bw -o h3k4me1RNAilog2.bw -of bigwig\n"
     ]
    }
   ],
   "source": [
    "%%bash\n",
    "cd /hydra/chip_RNAi/\n",
    "less h3k4me1RNAilog2.sh"
   ]
  },
  {
   "cell_type": "code",
   "execution_count": 16,
   "id": "important-discharge",
   "metadata": {},
   "outputs": [
    {
     "name": "stdout",
     "output_type": "stream",
     "text": [
      "h3k4me1RNAilog2.bw\n"
     ]
    }
   ],
   "source": [
    "%%bash\n",
    "cd /hydra/chip_RNAi/\n",
    "ls h3k4me1RNAilog2.bw"
   ]
  },
  {
   "cell_type": "markdown",
   "id": "freelance-duplicate",
   "metadata": {},
   "source": [
    "# FINNISHED"
   ]
  }
 ],
 "metadata": {
  "kernelspec": {
   "display_name": "Python 3",
   "language": "python",
   "name": "python3"
  },
  "language_info": {
   "codemirror_mode": {
    "name": "ipython",
    "version": 3
   },
   "file_extension": ".py",
   "mimetype": "text/x-python",
   "name": "python",
   "nbconvert_exporter": "python",
   "pygments_lexer": "ipython3",
   "version": "3.8.8"
  }
 },
 "nbformat": 4,
 "nbformat_minor": 5
}
