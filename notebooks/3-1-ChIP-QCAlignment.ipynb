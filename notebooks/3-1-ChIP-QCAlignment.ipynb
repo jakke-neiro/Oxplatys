{
 "cells": [
  {
   "cell_type": "markdown",
   "metadata": {},
   "source": [
    "# 4-1-ChIP-QCAlignment\n",
    "Jakke Neiro$^1$\n",
    "1. Aboobaker laboratory, Department of Zoology, University of Oxford"
   ]
  },
  {
   "cell_type": "markdown",
   "metadata": {},
   "source": [
    "## Contents of notebook\n",
    "* 1. Introduction\n",
    "* 2. Data quality\n",
    "    * 2.1 Data inspection\n",
    "        * H3K27ac\n",
    "        * H3K4me1\n",
    "    * 2.2 FastQC H3K27ac\n",
    "        * 2.2.1 X1-H3K27ace-_S12_L001_R1_001\n",
    "        * 2.2.2 X1-H3K27ace-_S12_L001_R2_001\n",
    "        * 2.2.3 X1-H3K27ace-_S12_L002_R1_001\n",
    "        * 2.2.4 X1-H3K27ace-_S12_L002_R2_001\n",
    "        * 2.2.5 X1-H3K27ace-_S12_L003_R1_001\n",
    "        * 2.2.6 X1-H3K27ace-_S12_L003_R2_001\n",
    "        * 2.2.7 X1-H3K27ace-_S12_L004_R1_001\n",
    "        * 2.2.8 X1-H3K27ace-_S12_L004_R2_001\n",
    "        * 2.2.9 X1-input-_S9_L001_R1_001\n",
    "        * 2.2.10 X1-input-_S9_L001_R2_001\n",
    "        * 2.2.11 X1-input-_S9_L002_R1_001\n",
    "        * 2.2.12 X1-input-_S9_L002_R2_001\n",
    "        * 2.2.13 X1-input-_S9_L003_R1_001\n",
    "        * 2.2.14 X1-input-_S9_L003_R2_001\n",
    "        * 2.2.15 X1-input-_S9_L004_R1_001\n",
    "        * 2.2.16 X1-input-_S9_L004_R2_001\n",
    "        * 2.2.17 x1_h3k27ac_rep2.R1\n",
    "        * 2.2.18 x1_h3k27ac_rep2.R2\n",
    "        * 2.2.19 x1_h3k27ac_rep3.R1\n",
    "        * 2.2.20 x1_h3k27ac_rep3.R2\n",
    "        * 2.2.21 x1_input_rep2.R1\n",
    "        * 2.2.22 x1_input_rep2.R2\n",
    "        * 2.2.23 x1_input_rep3_R1\n",
    "        * 2.2.24 x1_input_rep3_R2\n",
    "    * 2.3 FastQC H3K4me1\n",
    "        * 2.3.1 h3k4me1_rep1_R1\n",
    "        * 2.3.2 h3k4me1_rep1_R2\n",
    "        * 2.3.3 h3k4me1_rep2_R1\n",
    "        * 2.3.4 h3k4me1_rep2_R2\n",
    "        * 2.3.5 input_rep1_R1\n",
    "        * 2.3.6 input_rep1_R2\n",
    "        * 2.3.7 input_rep2.R1\n",
    "        * 2.3.8 input_rep2.R2\n",
    "* 3. Trimming\n",
    "    * 3.1 H3K27ac\n",
    "        * 3.1.1 X1-H3K27ace-_S12_L001\n",
    "        * 3.1.2 X1-H3K27ace-_S12_L002\n",
    "        * 3.1.3 X1-H3K27ace-_S12_L003\n",
    "        * 3.1.4 X1-H3K27ace-_S12_L004\n",
    "        * 3.1.5 X1-input-_S9_L001\n",
    "        * 3.1.6 X1-input-_S9_L002\n",
    "        * 3.1.7 X1-input-_S9_L003\n",
    "        * 3.1.8 X1-input-_S9_L004\n",
    "    * 3.2 H3K4me1\n",
    "        * 3.2.1 h3k4me1_rep1\n",
    "        * 3.2.2 h3k4me1_rep2\n",
    "        * 3.2.3 input_rep1\n",
    "        * 3.2.4 input_rep2\n",
    "* 4. Alignment\n",
    "    * 4.1 H3K27ac\n",
    "    * 4.2 H3K4me1"
   ]
  },
  {
   "cell_type": "markdown",
   "metadata": {},
   "source": [
    "## Files\n",
    "* Input: X1-H3K27ace-_S12_L001_R1_001.fastq.gz, X1-H3K27ace-_S12_L001_R2_001.fastq.gz, X1-H3K27ace-_S12_L002_R1_001.fastq.gz, X1-H3K27ace-_S12_L002_R2_001.fastq.gz, X1-H3K27ace-_S12_L003_R1_001.fastq.gz, X1-H3K27ace-_S12_L003_R2_001.fastq.gz, X1-H3K27ace-_S12_L004_R1_001.fastq.gz, X1-H3K27ace-_S12_L004_R2_001.fastq.gz, X1-input-_S9_L001_R1_001.fastq.gz, X1-input-_S9_L001_R2_001.fastq.gz,  X1-input-_S9_L002_R1_001.fastq.gz, X1-input-_S9_L002_R2_001.fastq.gz, X1-input-_S9_L003_R1_001.fastq.gz, X1-input-_S9_L003_R2_001.fastq.gz, X1-input-_S9_L004_R1_001.fastq.gz, X1-input-_S9_L004_R2_001.fastq.gz, x1_h3k27ac_rep2.R1.fastq.gz, x1_h3k27ac_rep2.R2.fastq.gz, x1_h3k27ac_rep3.R1.fastq.gz, x1_h3k27ac_rep3.R2.fastq.gz, x1_input_rep2.R1.fastq.gz, x1_input_rep2.R2.fastq.gz, x1_input_rep3_R1.fastq.gz, x1_input_rep3_R2.fastq.gz\n",
    "* Output: X1-H3K27ace-_S12_L001_final.sam, X1-H3K27ace-_S12_L002_final.sam, X1-H3K27ace-_S12_L003_final.sam, X1-H3K27ace-_S12_L004_final.sam, X1-input-_S9_L001_final.sam, X1-input-_S9_L002_final.sam, X1-input-_S9_L003_final.sam, X1-input-_S9_L004_final.sam, x1_h3k27ac_rep2_final.sam, x1_input_rep2_final.sam, x1_h3k27ac_rep3_final.sam, x1_input_rep3_final.sam, h3k4me1_rep1_final.sam, input_rep1_final.sam, h3k4me1_rep2_final.sam, input_rep2_final.sam"
   ]
  },
  {
   "cell_type": "markdown",
   "metadata": {},
   "source": [
    "# 1. Introduction"
   ]
  },
  {
   "cell_type": "markdown",
   "metadata": {},
   "source": [
    "The H3K27ac and H3K4me1 ChIP-seq data was inspected, trimmed and aligned to the planarian genome. "
   ]
  },
  {
   "cell_type": "markdown",
   "metadata": {},
   "source": [
    "# 2. Data quality"
   ]
  },
  {
   "cell_type": "markdown",
   "metadata": {},
   "source": [
    "## 2.1 Data inspection"
   ]
  },
  {
   "cell_type": "markdown",
   "metadata": {},
   "source": [
    "The characteristics of the fastq files were inspected."
   ]
  },
  {
   "cell_type": "markdown",
   "metadata": {},
   "source": [
    "### 2.1.1 H3K27ac"
   ]
  },
  {
   "cell_type": "code",
   "execution_count": 18,
   "metadata": {},
   "outputs": [
    {
     "name": "stdout",
     "output_type": "stream",
     "text": [
      "X1-H3K27ace-_S12_L001_R1_001.fastq.gz\n",
      "X1-H3K27ace-_S12_L001_R1_trimmomatic.fastq.gz\n",
      "X1-H3K27ace-_S12_L001_R2_001.fastq.gz\n",
      "X1-H3K27ace-_S12_L001_R2_trimmomatic.fastq.gz\n",
      "X1-H3K27ace-_S12_L002_R1_001.fastq.gz\n",
      "X1-H3K27ace-_S12_L002_R1_trimmomatic.fastq.gz\n",
      "X1-H3K27ace-_S12_L002_R2_001.fastq.gz\n",
      "X1-H3K27ace-_S12_L002_R2_trimmomatic.fastq.gz\n",
      "X1-H3K27ace-_S12_L003_R1_001.fastq.gz\n",
      "X1-H3K27ace-_S12_L003_R1_trimmomatic.fastq.gz\n",
      "X1-H3K27ace-_S12_L003_R2_001.fastq.gz\n",
      "X1-H3K27ace-_S12_L003_R2_trimmomatic.fastq.gz\n",
      "X1-H3K27ace-_S12_L004_R1_001.fastq.gz\n",
      "X1-H3K27ace-_S12_L004_R1_trimmomatic.fastq.gz\n",
      "X1-H3K27ace-_S12_L004_R2_001.fastq.gz\n",
      "X1-H3K27ace-_S12_L004_R2_trimmomatic.fastq.gz\n",
      "X1-input-_S9_L001_R1_001.fastq.gz\n",
      "X1-input-_S9_L001_R1_trimmomatic.fastq.gz\n",
      "X1-input-_S9_L001_R2_001.fastq.gz\n",
      "X1-input-_S9_L001_R2_trimmomatic.fastq.gz\n",
      "X1-input-_S9_L002_R1_001.fastq.gz\n",
      "X1-input-_S9_L002_R1_trimmomatic.fastq.gz\n",
      "X1-input-_S9_L002_R2_001.fastq.gz\n",
      "X1-input-_S9_L002_R2_trimmomatic.fastq.gz\n",
      "X1-input-_S9_L003_R1_001.fastq.gz\n",
      "X1-input-_S9_L003_R1_trimmomatic.fastq.gz\n",
      "X1-input-_S9_L003_R2_001.fastq.gz\n",
      "X1-input-_S9_L003_R2_trimmomatic.fastq.gz\n",
      "X1-input-_S9_L004_R1_001.fastq.gz\n",
      "X1-input-_S9_L004_R1_trimmomatic.fastq.gz\n",
      "X1-input-_S9_L004_R2_001.fastq.gz\n",
      "X1-input-_S9_L004_R2_trimmomatic.fastq.gz\n",
      "x1_h3k27ac_rep2.R1.fastq.gz\n",
      "x1_h3k27ac_rep2.R2.fastq.gz\n",
      "x1_h3k27ac_rep3.R1.fastq.gz\n",
      "x1_h3k27ac_rep3.R2.fastq.gz\n",
      "x1_input_rep2.R1.fastq.gz\n",
      "x1_input_rep2.R2.fastq.gz\n",
      "x1_input_rep3_R1.fastq.gz\n",
      "x1_input_rep3_R2.fastq.gz\n"
     ]
    }
   ],
   "source": [
    "%%bash\n",
    "cd /hydra/chip_neiro/k27ac\n",
    "ls *fastq.gz"
   ]
  },
  {
   "cell_type": "code",
   "execution_count": 1,
   "metadata": {
    "scrolled": true
   },
   "outputs": [
    {
     "name": "stdout",
     "output_type": "stream",
     "text": [
      "These are three replicate X1 libraries for K27ac. K27ac is hypothesized to be a mark of active enhancers. \n",
      "\n",
      "rep1 was made by Anish on 13/12/2016. Raw reads are in this folder. \n",
      "rep2 and rep3 was made by Divya in 2018. Raw reads are in /data/Divya. \n",
      "Be careful not to confuse the Inputs between the corresponding Samples. \n",
      "The input for K27ac and K9me3 rep1 are the same - made by Anish. \n",
      "The inputs for K27ac and K9me3 rep2 and rep3 are the same - made by Divya. \n"
     ]
    }
   ],
   "source": [
    "%%bash\n",
    "cd /hydra/chip_neiro/k27ac\n",
    "less k27ac.README.txt"
   ]
  },
  {
   "cell_type": "markdown",
   "metadata": {},
   "source": [
    "### 2.1.2 H3K4me1"
   ]
  },
  {
   "cell_type": "code",
   "execution_count": 2,
   "metadata": {},
   "outputs": [
    {
     "name": "stdout",
     "output_type": "stream",
     "text": [
      "K4me1 is a mark of enhancers - regardless of active or inactive. \n",
      "\n",
      "These raw reads were generated by Yuli and are published. \n",
      "\n",
      "For visualization against ATAC BigWigs, to generate input normalized ChIP-seq tracks use: \n",
      "\n",
      "bamCompare -b1 xxx_repx.filtered.sorted.MARKDUP.bam -b2 input_repx.filtered.sorted.MARKDUP.bam -o xxx.input.repx.log2ratio.bw --scaleFactorsMethod SES --smoothLength 50 -bs 10\n"
     ]
    }
   ],
   "source": [
    "%%bash\n",
    "cd /hydra/chip_neiro\n",
    "cd k4me1\n",
    "less k4me1.README.txt"
   ]
  },
  {
   "cell_type": "markdown",
   "metadata": {},
   "source": [
    "## 2.2 Fastqc H3K27ac"
   ]
  },
  {
   "cell_type": "markdown",
   "metadata": {},
   "source": [
    "The quality of the sequencing results was checked with FastQC:"
   ]
  },
  {
   "cell_type": "code",
   "execution_count": 2,
   "metadata": {},
   "outputs": [],
   "source": [
    "#%%bash\n",
    "#cd ../chip_sexual_organised/k27ac\n",
    "#fastqc X1-H3K27ace-_S12_L001_R1_001.fastq.gz X1-H3K27ace-_S12_L001_R2_001.fastq.gz X1-H3K27ace-_S12_L002_R1_001.fastq.gz X1-H3K27ace-_S12_L002_R2_001.fastq.gz X1-H3K27ace-_S12_L003_R1_001.fastq.gz X1-H3K27ace-_S12_L003_R2_001.fastq.gz X1-H3K27ace-_S12_L004_R1_001.fastq.gz X1-H3K27ace-_S12_L004_R2_001.fastq.gz"
   ]
  },
  {
   "cell_type": "code",
   "execution_count": 116,
   "metadata": {},
   "outputs": [],
   "source": [
    "#%%bash\n",
    "#cd ../chip_sexual_organised/k27ac\n",
    "#fastqc X1-input-_S9_L001_R1_001.fastq.gz X1-input-_S9_L001_R2_001.fastq.gz X1-input-_S9_L002_R1_001.fastq.gz X1-input-_S9_L002_R2_001.fastq.gz X1-input-_S9_L003_R1_001.fastq.gz X1-input-_S9_L003_R2_001.fastq.gz X1-input-_S9_L004_R1_001.fastq.gz X1-input-_S9_L004_R2_001.fastq.gz"
   ]
  },
  {
   "cell_type": "code",
   "execution_count": 155,
   "metadata": {},
   "outputs": [],
   "source": [
    "#%%bash\n",
    "#cd ../chip_sexual_organised/k27ac\n",
    "#fastqc x1_h3k27ac_rep2.R1.fastq.gz x1_h3k27ac_rep2.R2.fastq.gz x1_h3k27ac_rep3.R1.fastq.gz x1_h3k27ac_rep3.R2.fastq.gz"
   ]
  },
  {
   "cell_type": "code",
   "execution_count": 157,
   "metadata": {},
   "outputs": [],
   "source": [
    "#%%bash\n",
    "#cd ../chip_sexual_organised/k27ac\n",
    "#fastqc  x1_input_rep2.R1.fastq.gz x1_input_rep2.R2.fastq.gz x1_input_rep3_R1.fastq.gz x1_input_rep3_R2.fastq.gz"
   ]
  },
  {
   "cell_type": "markdown",
   "metadata": {},
   "source": [
    "### 2.2.1 X1-H3K27ace-_S12_L001_R1_001"
   ]
  },
  {
   "cell_type": "markdown",
   "metadata": {},
   "source": [
    "Rep1 was made by Anish Datatni 13/12/2016."
   ]
  },
  {
   "cell_type": "code",
   "execution_count": 7,
   "metadata": {},
   "outputs": [
    {
     "name": "stdout",
     "output_type": "stream",
     "text": [
      "PASS\tBasic Statistics\tX1-H3K27ace-_S12_L001_R1_001.fastq.gz\n",
      "PASS\tPer base sequence quality\tX1-H3K27ace-_S12_L001_R1_001.fastq.gz\n",
      "PASS\tPer tile sequence quality\tX1-H3K27ace-_S12_L001_R1_001.fastq.gz\n",
      "PASS\tPer sequence quality scores\tX1-H3K27ace-_S12_L001_R1_001.fastq.gz\n",
      "FAIL\tPer base sequence content\tX1-H3K27ace-_S12_L001_R1_001.fastq.gz\n",
      "FAIL\tPer sequence GC content\tX1-H3K27ace-_S12_L001_R1_001.fastq.gz\n",
      "PASS\tPer base N content\tX1-H3K27ace-_S12_L001_R1_001.fastq.gz\n",
      "WARN\tSequence Length Distribution\tX1-H3K27ace-_S12_L001_R1_001.fastq.gz\n",
      "PASS\tSequence Duplication Levels\tX1-H3K27ace-_S12_L001_R1_001.fastq.gz\n",
      "FAIL\tOverrepresented sequences\tX1-H3K27ace-_S12_L001_R1_001.fastq.gz\n",
      "PASS\tAdapter Content\tX1-H3K27ace-_S12_L001_R1_001.fastq.gz\n"
     ]
    }
   ],
   "source": [
    "%%bash\n",
    "cd ../chip_sexual_organised/k27ac\n",
    "cd X1-H3K27ace-_S12_L001_R1_001_fastqc\n",
    "less summary.txt"
   ]
  },
  {
   "cell_type": "code",
   "execution_count": 9,
   "metadata": {},
   "outputs": [
    {
     "name": "stdout",
     "output_type": "stream",
     "text": [
      ">>Overrepresented sequences\tfail\n",
      "#Sequence\tCount\tPercentage\tPossible Source\n",
      "GATCGGAAGAGCACACGTCTGAACTCCAGTCACACTTG\t1146568\t7.9896322813008815\tTruSeq Adapter, Index 8 (100% over 38bp)\n",
      "NNNNNNNNNNNNNNNNNNNNNNNNNNNNNNNNNNN\t43664\t0.3042639459070214\tNo Hit\n",
      ">>END_MODULE\n"
     ]
    }
   ],
   "source": [
    "%%bash\n",
    "cd ../chip_sexual_organised/k27ac\n",
    "cd X1-H3K27ace-_S12_L001_R1_001_fastqc\n",
    "grep -A 4 \"Overrepresented\" fastqc_data.txt"
   ]
  },
  {
   "cell_type": "code",
   "execution_count": 3,
   "metadata": {},
   "outputs": [
    {
     "name": "stdout",
     "output_type": "stream",
     "text": [
      "14350698\n"
     ]
    }
   ],
   "source": [
    "%%bash\n",
    "cd ../../../../../data/ngs/smed/facs_rnaseq_datasets/sexual/chip_neiro/k27ac\n",
    "echo $(zcat X1-H3K27ace-_S12_L001_R1_001.fastq.gz|wc -l)/4|bc"
   ]
  },
  {
   "cell_type": "markdown",
   "metadata": {},
   "source": [
    "### 2.2.2 X1-H3K27ace-_S12_L001_R2_001"
   ]
  },
  {
   "cell_type": "markdown",
   "metadata": {},
   "source": [
    "Rep1 was made by Anish Dattani 13/12/2016."
   ]
  },
  {
   "cell_type": "code",
   "execution_count": 14,
   "metadata": {},
   "outputs": [
    {
     "name": "stdout",
     "output_type": "stream",
     "text": [
      "PASS\tBasic Statistics\tX1-H3K27ace-_S12_L001_R2_001.fastq.gz\n",
      "PASS\tPer base sequence quality\tX1-H3K27ace-_S12_L001_R2_001.fastq.gz\n",
      "PASS\tPer tile sequence quality\tX1-H3K27ace-_S12_L001_R2_001.fastq.gz\n",
      "PASS\tPer sequence quality scores\tX1-H3K27ace-_S12_L001_R2_001.fastq.gz\n",
      "FAIL\tPer base sequence content\tX1-H3K27ace-_S12_L001_R2_001.fastq.gz\n",
      "FAIL\tPer sequence GC content\tX1-H3K27ace-_S12_L001_R2_001.fastq.gz\n",
      "PASS\tPer base N content\tX1-H3K27ace-_S12_L001_R2_001.fastq.gz\n",
      "WARN\tSequence Length Distribution\tX1-H3K27ace-_S12_L001_R2_001.fastq.gz\n",
      "PASS\tSequence Duplication Levels\tX1-H3K27ace-_S12_L001_R2_001.fastq.gz\n",
      "FAIL\tOverrepresented sequences\tX1-H3K27ace-_S12_L001_R2_001.fastq.gz\n",
      "PASS\tAdapter Content\tX1-H3K27ace-_S12_L001_R2_001.fastq.gz\n"
     ]
    }
   ],
   "source": [
    "%%bash\n",
    "cd ../chip_sexual_organised/k27ac\n",
    "cd X1-H3K27ace-_S12_L001_R2_001_fastqc\n",
    "less summary.txt"
   ]
  },
  {
   "cell_type": "code",
   "execution_count": 17,
   "metadata": {},
   "outputs": [
    {
     "name": "stdout",
     "output_type": "stream",
     "text": [
      ">>Overrepresented sequences\tfail\n",
      "#Sequence\tCount\tPercentage\tPossible Source\n",
      "GGGGGGGGGGGGGGGGGGGGGGGGGGGGGGGGGGGGGGG\t613075\t4.272091852256942\tNo Hit\n",
      "NNNNNNNNNNNNNNNNNNNNNNNNNNNNNNNNNNN\t53395\t0.372072494313517\tNo Hit\n",
      "GGGGGGGGGGGGGGGGGGGGGGGGGGGGGGGGGGGTGGG\t25343\t0.17659768186885405\tNo Hit\n"
     ]
    }
   ],
   "source": [
    "%%bash\n",
    "cd ../chip_sexual_organised/k27ac\n",
    "cd X1-H3K27ace-_S12_L001_R2_001_fastqc\n",
    "grep -A 4 \"Overrepresented\" fastqc_data.txt"
   ]
  },
  {
   "cell_type": "markdown",
   "metadata": {},
   "source": [
    "For L1:\n",
    "\n",
    "GATCGGAAGAGCACACGTCTGAACTCCAGTCACACTTG\t1146568\t7.9896322813008815\tTruSeq Adapter, Index 8 (100% over 38bp)"
   ]
  },
  {
   "cell_type": "code",
   "execution_count": 4,
   "metadata": {},
   "outputs": [
    {
     "name": "stdout",
     "output_type": "stream",
     "text": [
      "14350698\n"
     ]
    }
   ],
   "source": [
    "%%bash\n",
    "cd ../../../../../data/ngs/smed/facs_rnaseq_datasets/sexual/chip_neiro/k27ac\n",
    "echo $(zcat X1-H3K27ace-_S12_L001_R2_001.fastq.gz|wc -l)/4|bc"
   ]
  },
  {
   "cell_type": "markdown",
   "metadata": {},
   "source": [
    "### 2.2.3 X1-H3K27ace-_S12_L002_R1_001"
   ]
  },
  {
   "cell_type": "markdown",
   "metadata": {},
   "source": [
    "Rep1 was made by Anish on 13/12/2016."
   ]
  },
  {
   "cell_type": "code",
   "execution_count": 20,
   "metadata": {},
   "outputs": [
    {
     "name": "stdout",
     "output_type": "stream",
     "text": [
      "PASS\tBasic Statistics\tX1-H3K27ace-_S12_L002_R1_001.fastq.gz\n",
      "PASS\tPer base sequence quality\tX1-H3K27ace-_S12_L002_R1_001.fastq.gz\n",
      "PASS\tPer tile sequence quality\tX1-H3K27ace-_S12_L002_R1_001.fastq.gz\n",
      "PASS\tPer sequence quality scores\tX1-H3K27ace-_S12_L002_R1_001.fastq.gz\n",
      "FAIL\tPer base sequence content\tX1-H3K27ace-_S12_L002_R1_001.fastq.gz\n",
      "FAIL\tPer sequence GC content\tX1-H3K27ace-_S12_L002_R1_001.fastq.gz\n",
      "PASS\tPer base N content\tX1-H3K27ace-_S12_L002_R1_001.fastq.gz\n",
      "WARN\tSequence Length Distribution\tX1-H3K27ace-_S12_L002_R1_001.fastq.gz\n",
      "PASS\tSequence Duplication Levels\tX1-H3K27ace-_S12_L002_R1_001.fastq.gz\n",
      "FAIL\tOverrepresented sequences\tX1-H3K27ace-_S12_L002_R1_001.fastq.gz\n",
      "PASS\tAdapter Content\tX1-H3K27ace-_S12_L002_R1_001.fastq.gz\n"
     ]
    }
   ],
   "source": [
    "%%bash\n",
    "cd ../chip_sexual_organised/k27ac\n",
    "cd X1-H3K27ace-_S12_L002_R1_001_fastqc\n",
    "less summary.txt"
   ]
  },
  {
   "cell_type": "code",
   "execution_count": 22,
   "metadata": {},
   "outputs": [
    {
     "name": "stdout",
     "output_type": "stream",
     "text": [
      ">>Overrepresented sequences\tfail\n",
      "#Sequence\tCount\tPercentage\tPossible Source\n",
      "GATCGGAAGAGCACACGTCTGAACTCCAGTCACACTTG\t1117707\t7.780274506858495\tTruSeq Adapter, Index 8 (100% over 38bp)\n",
      "NNNNNNNNNNNNNNNNNNNNNNNNNNNNNNNNNNN\t42398\t0.29512929465574295\tNo Hit\n",
      "GATCGGAAGAGCACACGTCTGAACTCCAGTCACACTTGC\t14951\t0.10407278844280421\tTruSeq Adapter, Index 8 (97% over 38bp)\n"
     ]
    }
   ],
   "source": [
    "%%bash\n",
    "cd ../chip_sexual_organised/k27ac\n",
    "cd X1-H3K27ace-_S12_L002_R1_001_fastqc\n",
    "grep -A 4 \"Overrepresented\" fastqc_data.txt"
   ]
  },
  {
   "cell_type": "code",
   "execution_count": 5,
   "metadata": {},
   "outputs": [
    {
     "name": "stdout",
     "output_type": "stream",
     "text": [
      "14365907\n"
     ]
    }
   ],
   "source": [
    "%%bash\n",
    "cd ../../../../../data/ngs/smed/facs_rnaseq_datasets/sexual/chip_neiro/k27ac\n",
    "echo $(zcat X1-H3K27ace-_S12_L002_R1_001.fastq.gz|wc -l)/4|bc"
   ]
  },
  {
   "cell_type": "markdown",
   "metadata": {},
   "source": [
    "### 2.2.4 X1-H3K27ace-_S12_L002_R2_001"
   ]
  },
  {
   "cell_type": "markdown",
   "metadata": {},
   "source": [
    "Rep1 was made by Anish on 13/12/2016."
   ]
  },
  {
   "cell_type": "code",
   "execution_count": 24,
   "metadata": {},
   "outputs": [
    {
     "name": "stdout",
     "output_type": "stream",
     "text": [
      "PASS\tBasic Statistics\tX1-H3K27ace-_S12_L002_R2_001.fastq.gz\n",
      "PASS\tPer base sequence quality\tX1-H3K27ace-_S12_L002_R2_001.fastq.gz\n",
      "PASS\tPer tile sequence quality\tX1-H3K27ace-_S12_L002_R2_001.fastq.gz\n",
      "PASS\tPer sequence quality scores\tX1-H3K27ace-_S12_L002_R2_001.fastq.gz\n",
      "FAIL\tPer base sequence content\tX1-H3K27ace-_S12_L002_R2_001.fastq.gz\n",
      "FAIL\tPer sequence GC content\tX1-H3K27ace-_S12_L002_R2_001.fastq.gz\n",
      "PASS\tPer base N content\tX1-H3K27ace-_S12_L002_R2_001.fastq.gz\n",
      "WARN\tSequence Length Distribution\tX1-H3K27ace-_S12_L002_R2_001.fastq.gz\n",
      "PASS\tSequence Duplication Levels\tX1-H3K27ace-_S12_L002_R2_001.fastq.gz\n",
      "FAIL\tOverrepresented sequences\tX1-H3K27ace-_S12_L002_R2_001.fastq.gz\n",
      "PASS\tAdapter Content\tX1-H3K27ace-_S12_L002_R2_001.fastq.gz\n"
     ]
    }
   ],
   "source": [
    "%%bash\n",
    "cd ../chip_sexual_organised/k27ac\n",
    "cd X1-H3K27ace-_S12_L002_R2_001_fastqc\n",
    "less summary.txt"
   ]
  },
  {
   "cell_type": "code",
   "execution_count": 26,
   "metadata": {},
   "outputs": [
    {
     "name": "stdout",
     "output_type": "stream",
     "text": [
      ">>Overrepresented sequences\tfail\n",
      "#Sequence\tCount\tPercentage\tPossible Source\n",
      "GGGGGGGGGGGGGGGGGGGGGGGGGGGGGGGGGGGGGGG\t522054\t3.633978696924601\tNo Hit\n",
      "NNNNNNNNNNNNNNNNNNNNNNNNNNNNNNNNNNN\t51298\t0.357081526422244\tNo Hit\n",
      "GGGGGGGGGGGGGGGGGGGGGGGGGGGGGGGGGGGTGGG\t26708\t0.1859123826988439\tNo Hit\n"
     ]
    }
   ],
   "source": [
    "%%bash\n",
    "cd ../chip_sexual_organised/k27ac\n",
    "cd X1-H3K27ace-_S12_L002_R2_001_fastqc\n",
    "grep -A 4 \"Overrepresented\" fastqc_data.txt"
   ]
  },
  {
   "cell_type": "markdown",
   "metadata": {},
   "source": [
    "For L2:\n",
    "\n",
    "GATCGGAAGAGCACACGTCTGAACTCCAGTCACACTTG\t1117707\t7.780274506858495\tTruSeq Adapter, Index 8 (100% over 38bp)\n",
    "\n",
    "GATCGGAAGAGCACACGTCTGAACTCCAGTCACACTTGC\t14951\t0.10407278844280421\tTruSeq Adapter, Index 8 (97% over 38bp)"
   ]
  },
  {
   "cell_type": "code",
   "execution_count": 7,
   "metadata": {},
   "outputs": [
    {
     "name": "stdout",
     "output_type": "stream",
     "text": [
      "14365907\n"
     ]
    }
   ],
   "source": [
    "%%bash\n",
    "cd ../../../../../data/ngs/smed/facs_rnaseq_datasets/sexual/chip_neiro/k27ac\n",
    "echo $(zcat X1-H3K27ace-_S12_L002_R2_001.fastq.gz|wc -l)/4|bc"
   ]
  },
  {
   "cell_type": "markdown",
   "metadata": {},
   "source": [
    "### 2.2.5 X1-H3K27ace-_S12_L003_R1_001"
   ]
  },
  {
   "cell_type": "markdown",
   "metadata": {},
   "source": [
    "Rep1 was made by Anish on 13/12/2016."
   ]
  },
  {
   "cell_type": "code",
   "execution_count": 28,
   "metadata": {},
   "outputs": [
    {
     "name": "stdout",
     "output_type": "stream",
     "text": [
      "PASS\tBasic Statistics\tX1-H3K27ace-_S12_L003_R1_001.fastq.gz\n",
      "PASS\tPer base sequence quality\tX1-H3K27ace-_S12_L003_R1_001.fastq.gz\n",
      "PASS\tPer tile sequence quality\tX1-H3K27ace-_S12_L003_R1_001.fastq.gz\n",
      "PASS\tPer sequence quality scores\tX1-H3K27ace-_S12_L003_R1_001.fastq.gz\n",
      "FAIL\tPer base sequence content\tX1-H3K27ace-_S12_L003_R1_001.fastq.gz\n",
      "FAIL\tPer sequence GC content\tX1-H3K27ace-_S12_L003_R1_001.fastq.gz\n",
      "PASS\tPer base N content\tX1-H3K27ace-_S12_L003_R1_001.fastq.gz\n",
      "WARN\tSequence Length Distribution\tX1-H3K27ace-_S12_L003_R1_001.fastq.gz\n",
      "PASS\tSequence Duplication Levels\tX1-H3K27ace-_S12_L003_R1_001.fastq.gz\n",
      "FAIL\tOverrepresented sequences\tX1-H3K27ace-_S12_L003_R1_001.fastq.gz\n",
      "PASS\tAdapter Content\tX1-H3K27ace-_S12_L003_R1_001.fastq.gz\n"
     ]
    }
   ],
   "source": [
    "%%bash\n",
    "cd ../chip_sexual_organised/k27ac\n",
    "cd X1-H3K27ace-_S12_L003_R1_001_fastqc\n",
    "less summary.txt"
   ]
  },
  {
   "cell_type": "code",
   "execution_count": 32,
   "metadata": {},
   "outputs": [
    {
     "name": "stdout",
     "output_type": "stream",
     "text": [
      ">>Overrepresented sequences\tfail\n",
      "#Sequence\tCount\tPercentage\tPossible Source\n",
      "GATCGGAAGAGCACACGTCTGAACTCCAGTCACACTTG\t1112403\t7.83774447175936\tTruSeq Adapter, Index 8 (100% over 38bp)\n",
      "NNNNNNNNNNNNNNNNNNNNNNNNNNNNNNNNNNN\t41787\t0.2944219210496631\tNo Hit\n",
      "GATCGGAAGAGCACACGTCTGAACTCCAGTCACACTTGC\t14474\t0.10198058930463597\tTruSeq Adapter, Index 8 (97% over 38bp)\n"
     ]
    }
   ],
   "source": [
    "%%bash\n",
    "cd ../chip_sexual_organised/k27ac\n",
    "cd X1-H3K27ace-_S12_L003_R1_001_fastqc\n",
    "grep -A 4 \"Overrepresented\" fastqc_data.txt"
   ]
  },
  {
   "cell_type": "code",
   "execution_count": 9,
   "metadata": {},
   "outputs": [
    {
     "name": "stdout",
     "output_type": "stream",
     "text": [
      "14192897\n"
     ]
    }
   ],
   "source": [
    "%%bash\n",
    "cd ../../../../../data/ngs/smed/facs_rnaseq_datasets/sexual/chip_neiro/k27ac\n",
    "echo $(zcat X1-H3K27ace-_S12_L003_R1_001.fastq.gz|wc -l)/4|bc"
   ]
  },
  {
   "cell_type": "markdown",
   "metadata": {},
   "source": [
    "### 2.2.6 X1-H3K27ace-_S12_L003_R2_001"
   ]
  },
  {
   "cell_type": "markdown",
   "metadata": {},
   "source": [
    "Rep1 was made by Anish on 13/12/2016."
   ]
  },
  {
   "cell_type": "code",
   "execution_count": 34,
   "metadata": {},
   "outputs": [
    {
     "name": "stdout",
     "output_type": "stream",
     "text": [
      "PASS\tBasic Statistics\tX1-H3K27ace-_S12_L003_R2_001.fastq.gz\n",
      "PASS\tPer base sequence quality\tX1-H3K27ace-_S12_L003_R2_001.fastq.gz\n",
      "PASS\tPer tile sequence quality\tX1-H3K27ace-_S12_L003_R2_001.fastq.gz\n",
      "PASS\tPer sequence quality scores\tX1-H3K27ace-_S12_L003_R2_001.fastq.gz\n",
      "FAIL\tPer base sequence content\tX1-H3K27ace-_S12_L003_R2_001.fastq.gz\n",
      "FAIL\tPer sequence GC content\tX1-H3K27ace-_S12_L003_R2_001.fastq.gz\n",
      "PASS\tPer base N content\tX1-H3K27ace-_S12_L003_R2_001.fastq.gz\n",
      "WARN\tSequence Length Distribution\tX1-H3K27ace-_S12_L003_R2_001.fastq.gz\n",
      "PASS\tSequence Duplication Levels\tX1-H3K27ace-_S12_L003_R2_001.fastq.gz\n",
      "FAIL\tOverrepresented sequences\tX1-H3K27ace-_S12_L003_R2_001.fastq.gz\n",
      "PASS\tAdapter Content\tX1-H3K27ace-_S12_L003_R2_001.fastq.gz\n"
     ]
    }
   ],
   "source": [
    "%%bash\n",
    "cd ../chip_sexual_organised/k27ac\n",
    "cd X1-H3K27ace-_S12_L003_R2_001_fastqc\n",
    "less summary.txt"
   ]
  },
  {
   "cell_type": "code",
   "execution_count": 36,
   "metadata": {},
   "outputs": [
    {
     "name": "stdout",
     "output_type": "stream",
     "text": [
      ">>Overrepresented sequences\tfail\n",
      "#Sequence\tCount\tPercentage\tPossible Source\n",
      "GGGGGGGGGGGGGGGGGGGGGGGGGGGGGGGGGGGGGGG\t501908\t3.5363322935409167\tNo Hit\n",
      "NNNNNNNNNNNNNNNNNNNNNNNNNNNNNNNNNNN\t45580\t0.3211465566191314\tNo Hit\n",
      "GGGGGGGGGGGGGGGGGGGGGGGGGGGGGGGGTGGGGGG\t30079\t0.21192995341261195\tNo Hit\n"
     ]
    }
   ],
   "source": [
    "%%bash\n",
    "cd ../chip_sexual_organised/k27ac\n",
    "cd X1-H3K27ace-_S12_L003_R2_001_fastqc\n",
    "grep -A 4 \"Overrepresented\" fastqc_data.txt"
   ]
  },
  {
   "cell_type": "markdown",
   "metadata": {},
   "source": [
    "For L3:\n",
    "\n",
    "GATCGGAAGAGCACACGTCTGAACTCCAGTCACACTTG\t1112403\t7.83774447175936\tTruSeq Adapter, Index 8 (100% over 38bp)\n",
    "\n",
    "GATCGGAAGAGCACACGTCTGAACTCCAGTCACACTTGC\t14474\t0.10198058930463597\tTruSeq Adapter, Index 8 (97% over 38bp)"
   ]
  },
  {
   "cell_type": "code",
   "execution_count": 10,
   "metadata": {},
   "outputs": [
    {
     "name": "stdout",
     "output_type": "stream",
     "text": [
      "14192897\n"
     ]
    }
   ],
   "source": [
    "%%bash\n",
    "cd ../../../../../data/ngs/smed/facs_rnaseq_datasets/sexual/chip_neiro/k27ac\n",
    "echo $(zcat X1-H3K27ace-_S12_L003_R2_001.fastq.gz|wc -l)/4|bc"
   ]
  },
  {
   "cell_type": "markdown",
   "metadata": {},
   "source": [
    "### 2.2.7 X1-H3K27ace-_S12_L004_R1_001"
   ]
  },
  {
   "cell_type": "markdown",
   "metadata": {},
   "source": [
    "Rep1 was made by Anish on 13/12/2016."
   ]
  },
  {
   "cell_type": "code",
   "execution_count": 3,
   "metadata": {},
   "outputs": [
    {
     "name": "stdout",
     "output_type": "stream",
     "text": [
      "PASS\tBasic Statistics\tX1-H3K27ace-_S12_L004_R1_001.fastq.gz\n",
      "PASS\tPer base sequence quality\tX1-H3K27ace-_S12_L004_R1_001.fastq.gz\n",
      "PASS\tPer tile sequence quality\tX1-H3K27ace-_S12_L004_R1_001.fastq.gz\n",
      "PASS\tPer sequence quality scores\tX1-H3K27ace-_S12_L004_R1_001.fastq.gz\n",
      "FAIL\tPer base sequence content\tX1-H3K27ace-_S12_L004_R1_001.fastq.gz\n",
      "FAIL\tPer sequence GC content\tX1-H3K27ace-_S12_L004_R1_001.fastq.gz\n",
      "PASS\tPer base N content\tX1-H3K27ace-_S12_L004_R1_001.fastq.gz\n",
      "WARN\tSequence Length Distribution\tX1-H3K27ace-_S12_L004_R1_001.fastq.gz\n",
      "PASS\tSequence Duplication Levels\tX1-H3K27ace-_S12_L004_R1_001.fastq.gz\n",
      "FAIL\tOverrepresented sequences\tX1-H3K27ace-_S12_L004_R1_001.fastq.gz\n",
      "PASS\tAdapter Content\tX1-H3K27ace-_S12_L004_R1_001.fastq.gz\n"
     ]
    }
   ],
   "source": [
    "%%bash\n",
    "cd ../chip_sexual_organised/k27ac\n",
    "cd X1-H3K27ace-_S12_L004_R1_001_fastqc\n",
    "less summary.txt"
   ]
  },
  {
   "cell_type": "code",
   "execution_count": 5,
   "metadata": {},
   "outputs": [
    {
     "name": "stdout",
     "output_type": "stream",
     "text": [
      ">>Overrepresented sequences\tfail\n",
      "#Sequence\tCount\tPercentage\tPossible Source\n",
      "GATCGGAAGAGCACACGTCTGAACTCCAGTCACACTTG\t1102332\t7.6879541422628455\tTruSeq Adapter, Index 8 (100% over 38bp)\n",
      "NNNNNNNNNNNNNNNNNNNNNNNNNNNNNNNNNNN\t40776\t0.28438257993500127\tNo Hit\n",
      "GATCGGAAGAGCACACGTCTGAACTCCAGTCACACTTGC\t14654\t0.1022008614471137\tTruSeq Adapter, Index 8 (97% over 38bp)\n"
     ]
    }
   ],
   "source": [
    "%%bash\n",
    "cd ../chip_sexual_organised/k27ac\n",
    "cd X1-H3K27ace-_S12_L004_R1_001_fastqc\n",
    "grep -A 4 \"Overrepresented\" fastqc_data.txt"
   ]
  },
  {
   "cell_type": "code",
   "execution_count": 11,
   "metadata": {},
   "outputs": [
    {
     "name": "stdout",
     "output_type": "stream",
     "text": [
      "14338431\n"
     ]
    }
   ],
   "source": [
    "%%bash\n",
    "cd ../../../../../data/ngs/smed/facs_rnaseq_datasets/sexual/chip_neiro/k27ac\n",
    "echo $(zcat X1-H3K27ace-_S12_L004_R1_001.fastq.gz|wc -l)/4|bc"
   ]
  },
  {
   "cell_type": "markdown",
   "metadata": {},
   "source": [
    "### 2.2.8 X1-H3K27ace-_S12_L004_R2_001"
   ]
  },
  {
   "cell_type": "markdown",
   "metadata": {},
   "source": [
    "Rep1 was made by Anish on 13/12/2016."
   ]
  },
  {
   "cell_type": "code",
   "execution_count": 10,
   "metadata": {},
   "outputs": [
    {
     "name": "stdout",
     "output_type": "stream",
     "text": [
      "PASS\tBasic Statistics\tX1-H3K27ace-_S12_L004_R2_001.fastq.gz\n",
      "PASS\tPer base sequence quality\tX1-H3K27ace-_S12_L004_R2_001.fastq.gz\n",
      "PASS\tPer tile sequence quality\tX1-H3K27ace-_S12_L004_R2_001.fastq.gz\n",
      "PASS\tPer sequence quality scores\tX1-H3K27ace-_S12_L004_R2_001.fastq.gz\n",
      "FAIL\tPer base sequence content\tX1-H3K27ace-_S12_L004_R2_001.fastq.gz\n",
      "FAIL\tPer sequence GC content\tX1-H3K27ace-_S12_L004_R2_001.fastq.gz\n",
      "PASS\tPer base N content\tX1-H3K27ace-_S12_L004_R2_001.fastq.gz\n",
      "WARN\tSequence Length Distribution\tX1-H3K27ace-_S12_L004_R2_001.fastq.gz\n",
      "PASS\tSequence Duplication Levels\tX1-H3K27ace-_S12_L004_R2_001.fastq.gz\n",
      "FAIL\tOverrepresented sequences\tX1-H3K27ace-_S12_L004_R2_001.fastq.gz\n",
      "PASS\tAdapter Content\tX1-H3K27ace-_S12_L004_R2_001.fastq.gz\n"
     ]
    }
   ],
   "source": [
    "%%bash\n",
    "cd ../chip_sexual_organised/k27ac\n",
    "cd X1-H3K27ace-_S12_L004_R2_001_fastqc\n",
    "less summary.txt"
   ]
  },
  {
   "cell_type": "code",
   "execution_count": 12,
   "metadata": {},
   "outputs": [
    {
     "name": "stdout",
     "output_type": "stream",
     "text": [
      ">>Overrepresented sequences\tfail\n",
      "#Sequence\tCount\tPercentage\tPossible Source\n",
      "GGGGGGGGGGGGGGGGGGGGGGGGGGGGGGGGGGGGGGG\t486248\t3.3912218149949602\tNo Hit\n",
      "NNNNNNNNNNNNNNNNNNNNNNNNNNNNNNNNNNN\t45790\t0.3193515385330515\tNo Hit\n",
      "GGGGGGGGGGGGGGGGGGGGGGGGGGGGGGGGGGGTGGG\t30073\t0.20973703468671012\tNo Hit\n"
     ]
    }
   ],
   "source": [
    "%%bash\n",
    "cd ../chip_sexual_organised/k27ac\n",
    "cd X1-H3K27ace-_S12_L004_R2_001_fastqc\n",
    "grep -A 4 \"Overrepresented\" fastqc_data.txt"
   ]
  },
  {
   "cell_type": "markdown",
   "metadata": {},
   "source": [
    "For L4:\n",
    "\n",
    "GATCGGAAGAGCACACGTCTGAACTCCAGTCACACTTG\t1102332\t7.6879541422628455\tTruSeq Adapter, Index 8 (100% over 38bp)\n",
    "\n",
    "GATCGGAAGAGCACACGTCTGAACTCCAGTCACACTTGC\t14654\t0.1022008614471137\tTruSeq Adapter, Index 8 (97% over 38bp)"
   ]
  },
  {
   "cell_type": "markdown",
   "metadata": {},
   "source": [
    "For L1-4:\n",
    "\n",
    "GATCGGAAGAGCACACGTCTGAACTCCAGTCACACTTG TruSeq Adapter, Index 8 \n",
    "\n",
    "GATCGGAAGAGCACACGTCTGAACTCCAGTCACACTTGC TruSeq Adapter, Index 8"
   ]
  },
  {
   "cell_type": "markdown",
   "metadata": {},
   "source": [
    "### 2.2.9 X1-input-_S9_L001_R1_001"
   ]
  },
  {
   "cell_type": "markdown",
   "metadata": {},
   "source": [
    "Rep1 was made by Anish on 13/12/2016."
   ]
  },
  {
   "cell_type": "code",
   "execution_count": 16,
   "metadata": {},
   "outputs": [
    {
     "name": "stdout",
     "output_type": "stream",
     "text": [
      "PASS\tBasic Statistics\tX1-input-_S9_L001_R1_001.fastq.gz\n",
      "PASS\tPer base sequence quality\tX1-input-_S9_L001_R1_001.fastq.gz\n",
      "PASS\tPer tile sequence quality\tX1-input-_S9_L001_R1_001.fastq.gz\n",
      "PASS\tPer sequence quality scores\tX1-input-_S9_L001_R1_001.fastq.gz\n",
      "FAIL\tPer base sequence content\tX1-input-_S9_L001_R1_001.fastq.gz\n",
      "PASS\tPer sequence GC content\tX1-input-_S9_L001_R1_001.fastq.gz\n",
      "PASS\tPer base N content\tX1-input-_S9_L001_R1_001.fastq.gz\n",
      "WARN\tSequence Length Distribution\tX1-input-_S9_L001_R1_001.fastq.gz\n",
      "PASS\tSequence Duplication Levels\tX1-input-_S9_L001_R1_001.fastq.gz\n",
      "FAIL\tOverrepresented sequences\tX1-input-_S9_L001_R1_001.fastq.gz\n",
      "PASS\tAdapter Content\tX1-input-_S9_L001_R1_001.fastq.gz\n"
     ]
    }
   ],
   "source": [
    "%%bash\n",
    "cd ../chip_sexual_organised/k27ac\n",
    "cd X1-input-_S9_L001_R1_001_fastqc\n",
    "less summary.txt"
   ]
  },
  {
   "cell_type": "code",
   "execution_count": 18,
   "metadata": {},
   "outputs": [
    {
     "name": "stdout",
     "output_type": "stream",
     "text": [
      ">>Overrepresented sequences\tfail\n",
      "#Sequence\tCount\tPercentage\tPossible Source\n",
      "GATCGGAAGAGCACACGTCTGAACTCCAGTCACGAGTGG\t81539\t1.7919481774714145\tTruSeq Adapter, Index 7 (97% over 36bp)\n",
      "NNNNNNNNNNNNNNNNNNNNNNNNNNNNNNNNNNN\t6022\t0.13234295152911932\tNo Hit\n",
      ">>END_MODULE\n"
     ]
    }
   ],
   "source": [
    "%%bash\n",
    "cd ../chip_sexual_organised/k27ac\n",
    "cd X1-input-_S9_L001_R1_001_fastqc\n",
    "grep -A 4 \"Overrepresented\" fastqc_data.txt"
   ]
  },
  {
   "cell_type": "code",
   "execution_count": 13,
   "metadata": {},
   "outputs": [
    {
     "name": "stdout",
     "output_type": "stream",
     "text": [
      "4550299\n"
     ]
    }
   ],
   "source": [
    "%%bash\n",
    "cd ../../../../../data/ngs/smed/facs_rnaseq_datasets/sexual/chip_neiro/k27ac\n",
    "echo $(zcat X1-input-_S9_L001_R1_001.fastq.gz|wc -l)/4|bc"
   ]
  },
  {
   "cell_type": "markdown",
   "metadata": {},
   "source": [
    "### 2.2.10 X1-input-_S9_L001_R2_001"
   ]
  },
  {
   "cell_type": "markdown",
   "metadata": {},
   "source": [
    "Rep1 was made by Anish on 13/12/2016."
   ]
  },
  {
   "cell_type": "code",
   "execution_count": 21,
   "metadata": {},
   "outputs": [
    {
     "name": "stdout",
     "output_type": "stream",
     "text": [
      "PASS\tBasic Statistics\tX1-input-_S9_L001_R2_001.fastq.gz\n",
      "PASS\tPer base sequence quality\tX1-input-_S9_L001_R2_001.fastq.gz\n",
      "PASS\tPer tile sequence quality\tX1-input-_S9_L001_R2_001.fastq.gz\n",
      "PASS\tPer sequence quality scores\tX1-input-_S9_L001_R2_001.fastq.gz\n",
      "FAIL\tPer base sequence content\tX1-input-_S9_L001_R2_001.fastq.gz\n",
      "WARN\tPer sequence GC content\tX1-input-_S9_L001_R2_001.fastq.gz\n",
      "PASS\tPer base N content\tX1-input-_S9_L001_R2_001.fastq.gz\n",
      "WARN\tSequence Length Distribution\tX1-input-_S9_L001_R2_001.fastq.gz\n",
      "PASS\tSequence Duplication Levels\tX1-input-_S9_L001_R2_001.fastq.gz\n",
      "WARN\tOverrepresented sequences\tX1-input-_S9_L001_R2_001.fastq.gz\n",
      "PASS\tAdapter Content\tX1-input-_S9_L001_R2_001.fastq.gz\n"
     ]
    }
   ],
   "source": [
    "%%bash\n",
    "cd ../chip_sexual_organised/k27ac\n",
    "cd X1-input-_S9_L001_R2_001_fastqc\n",
    "less summary.txt"
   ]
  },
  {
   "cell_type": "code",
   "execution_count": 23,
   "metadata": {},
   "outputs": [
    {
     "name": "stdout",
     "output_type": "stream",
     "text": [
      ">>Overrepresented sequences\twarn\n",
      "#Sequence\tCount\tPercentage\tPossible Source\n",
      "GGGGGGGGGGGGGGGGGGGGGGGGGGGGGGGGGGGGGGG\t44916\t0.9870999685954703\tNo Hit\n",
      "NNNNNNNNNNNNNNNNNNNNNNNNNNNNNNNNNNN\t9860\t0.21668905713668488\tNo Hit\n",
      ">>END_MODULE\n"
     ]
    }
   ],
   "source": [
    "%%bash\n",
    "cd ../chip_sexual_organised/k27ac\n",
    "cd X1-input-_S9_L001_R2_001_fastqc\n",
    "grep -A 4 \"Overrepresented\" fastqc_data.txt"
   ]
  },
  {
   "cell_type": "markdown",
   "metadata": {},
   "source": [
    "For L1:\n",
    "\n",
    "GATCGGAAGAGCACACGTCTGAACTCCAGTCACGAGTGG\t81539\t1.7919481774714145\tTruSeq Adapter, Index 7 (97% over 36bp)"
   ]
  },
  {
   "cell_type": "code",
   "execution_count": 14,
   "metadata": {},
   "outputs": [
    {
     "name": "stdout",
     "output_type": "stream",
     "text": [
      "4550299\n"
     ]
    }
   ],
   "source": [
    "%%bash\n",
    "cd ../../../../../data/ngs/smed/facs_rnaseq_datasets/sexual/chip_neiro/k27ac\n",
    "echo $(zcat X1-input-_S9_L001_R2_001.fastq.gz|wc -l)/4|bc"
   ]
  },
  {
   "cell_type": "markdown",
   "metadata": {},
   "source": [
    "### 2.2.11 X1-input-_S9_L002_R1_001"
   ]
  },
  {
   "cell_type": "markdown",
   "metadata": {},
   "source": [
    "Rep1 was made by Anish on 13/12/2016."
   ]
  },
  {
   "cell_type": "code",
   "execution_count": 5,
   "metadata": {},
   "outputs": [
    {
     "name": "stdout",
     "output_type": "stream",
     "text": [
      "PASS\tBasic Statistics\tX1-input-_S9_L002_R1_001.fastq.gz\n",
      "PASS\tPer base sequence quality\tX1-input-_S9_L002_R1_001.fastq.gz\n",
      "PASS\tPer tile sequence quality\tX1-input-_S9_L002_R1_001.fastq.gz\n",
      "PASS\tPer sequence quality scores\tX1-input-_S9_L002_R1_001.fastq.gz\n",
      "FAIL\tPer base sequence content\tX1-input-_S9_L002_R1_001.fastq.gz\n",
      "PASS\tPer sequence GC content\tX1-input-_S9_L002_R1_001.fastq.gz\n",
      "PASS\tPer base N content\tX1-input-_S9_L002_R1_001.fastq.gz\n",
      "WARN\tSequence Length Distribution\tX1-input-_S9_L002_R1_001.fastq.gz\n",
      "PASS\tSequence Duplication Levels\tX1-input-_S9_L002_R1_001.fastq.gz\n",
      "FAIL\tOverrepresented sequences\tX1-input-_S9_L002_R1_001.fastq.gz\n",
      "PASS\tAdapter Content\tX1-input-_S9_L002_R1_001.fastq.gz\n"
     ]
    }
   ],
   "source": [
    "%%bash\n",
    "cd ../chip_sexual_organised/k27ac\n",
    "cd X1-input-_S9_L002_R1_001_fastqc\n",
    "less summary.txt"
   ]
  },
  {
   "cell_type": "code",
   "execution_count": 6,
   "metadata": {},
   "outputs": [
    {
     "name": "stdout",
     "output_type": "stream",
     "text": [
      ">>Overrepresented sequences\tfail\n",
      "#Sequence\tCount\tPercentage\tPossible Source\n",
      "GATCGGAAGAGCACACGTCTGAACTCCAGTCACGAGTGG\t77342\t1.6975028872605418\tTruSeq Adapter, Index 7 (97% over 36bp)\n",
      "NNNNNNNNNNNNNNNNNNNNNNNNNNNNNNNNNNN\t6143\t0.13482661731583756\tNo Hit\n",
      ">>END_MODULE\n"
     ]
    }
   ],
   "source": [
    "%%bash\n",
    "cd ../chip_sexual_organised/k27ac\n",
    "cd X1-input-_S9_L002_R1_001_fastqc\n",
    "grep -A 4 \"Overrepresented\" fastqc_data.txt"
   ]
  },
  {
   "cell_type": "code",
   "execution_count": 15,
   "metadata": {},
   "outputs": [
    {
     "name": "stdout",
     "output_type": "stream",
     "text": [
      "4556222\n"
     ]
    }
   ],
   "source": [
    "%%bash\n",
    "cd ../../../../../data/ngs/smed/facs_rnaseq_datasets/sexual/chip_neiro/k27ac\n",
    "echo $(zcat X1-input-_S9_L002_R1_001.fastq.gz|wc -l)/4|bc"
   ]
  },
  {
   "cell_type": "markdown",
   "metadata": {},
   "source": [
    "### 2.2.12 X1-input-_S9_L002_R2_001"
   ]
  },
  {
   "cell_type": "markdown",
   "metadata": {},
   "source": [
    "Rep1 was made by Anish on 13/12/2016."
   ]
  },
  {
   "cell_type": "code",
   "execution_count": 9,
   "metadata": {},
   "outputs": [
    {
     "name": "stdout",
     "output_type": "stream",
     "text": [
      "PASS\tBasic Statistics\tX1-input-_S9_L002_R2_001.fastq.gz\n",
      "PASS\tPer base sequence quality\tX1-input-_S9_L002_R2_001.fastq.gz\n",
      "PASS\tPer tile sequence quality\tX1-input-_S9_L002_R2_001.fastq.gz\n",
      "PASS\tPer sequence quality scores\tX1-input-_S9_L002_R2_001.fastq.gz\n",
      "FAIL\tPer base sequence content\tX1-input-_S9_L002_R2_001.fastq.gz\n",
      "WARN\tPer sequence GC content\tX1-input-_S9_L002_R2_001.fastq.gz\n",
      "PASS\tPer base N content\tX1-input-_S9_L002_R2_001.fastq.gz\n",
      "WARN\tSequence Length Distribution\tX1-input-_S9_L002_R2_001.fastq.gz\n",
      "PASS\tSequence Duplication Levels\tX1-input-_S9_L002_R2_001.fastq.gz\n",
      "WARN\tOverrepresented sequences\tX1-input-_S9_L002_R2_001.fastq.gz\n",
      "PASS\tAdapter Content\tX1-input-_S9_L002_R2_001.fastq.gz\n"
     ]
    }
   ],
   "source": [
    "%%bash\n",
    "cd ../chip_sexual_organised/k27ac\n",
    "cd X1-input-_S9_L002_R2_001_fastqc\n",
    "less summary.txt"
   ]
  },
  {
   "cell_type": "code",
   "execution_count": 10,
   "metadata": {},
   "outputs": [
    {
     "name": "stdout",
     "output_type": "stream",
     "text": [
      ">>Overrepresented sequences\twarn\n",
      "#Sequence\tCount\tPercentage\tPossible Source\n",
      "GGGGGGGGGGGGGGGGGGGGGGGGGGGGGGGGGGGGGGG\t37226\t0.8170365710889418\tNo Hit\n",
      "NNNNNNNNNNNNNNNNNNNNNNNNNNNNNNNNNNN\t9667\t0.21217139990105838\tNo Hit\n",
      ">>END_MODULE\n"
     ]
    }
   ],
   "source": [
    "%%bash\n",
    "cd ../chip_sexual_organised/k27ac\n",
    "cd X1-input-_S9_L002_R2_001_fastqc\n",
    "grep -A 4 \"Overrepresented\" fastqc_data.txt"
   ]
  },
  {
   "cell_type": "markdown",
   "metadata": {},
   "source": [
    "For L2:\n",
    "\n",
    "GATCGGAAGAGCACACGTCTGAACTCCAGTCACGAGTGG\t77342\t1.6975028872605418\tTruSeq Adapter, Index 7 (97% over 36bp)"
   ]
  },
  {
   "cell_type": "code",
   "execution_count": 16,
   "metadata": {},
   "outputs": [
    {
     "name": "stdout",
     "output_type": "stream",
     "text": [
      "4556222\n"
     ]
    }
   ],
   "source": [
    "%%bash\n",
    "cd ../../../../../data/ngs/smed/facs_rnaseq_datasets/sexual/chip_neiro/k27ac\n",
    "echo $(zcat X1-input-_S9_L002_R2_001.fastq.gz|wc -l)/4|bc"
   ]
  },
  {
   "cell_type": "markdown",
   "metadata": {},
   "source": [
    "### 2.2.13 X1-input-_S9_L003_R1_001"
   ]
  },
  {
   "cell_type": "markdown",
   "metadata": {},
   "source": [
    "Rep1 was made by Anish on 13/12/2016."
   ]
  },
  {
   "cell_type": "code",
   "execution_count": 13,
   "metadata": {},
   "outputs": [
    {
     "name": "stdout",
     "output_type": "stream",
     "text": [
      "PASS\tBasic Statistics\tX1-input-_S9_L003_R1_001.fastq.gz\n",
      "PASS\tPer base sequence quality\tX1-input-_S9_L003_R1_001.fastq.gz\n",
      "PASS\tPer tile sequence quality\tX1-input-_S9_L003_R1_001.fastq.gz\n",
      "PASS\tPer sequence quality scores\tX1-input-_S9_L003_R1_001.fastq.gz\n",
      "FAIL\tPer base sequence content\tX1-input-_S9_L003_R1_001.fastq.gz\n",
      "PASS\tPer sequence GC content\tX1-input-_S9_L003_R1_001.fastq.gz\n",
      "PASS\tPer base N content\tX1-input-_S9_L003_R1_001.fastq.gz\n",
      "WARN\tSequence Length Distribution\tX1-input-_S9_L003_R1_001.fastq.gz\n",
      "PASS\tSequence Duplication Levels\tX1-input-_S9_L003_R1_001.fastq.gz\n",
      "FAIL\tOverrepresented sequences\tX1-input-_S9_L003_R1_001.fastq.gz\n",
      "PASS\tAdapter Content\tX1-input-_S9_L003_R1_001.fastq.gz\n"
     ]
    }
   ],
   "source": [
    "%%bash\n",
    "cd ../chip_sexual_organised/k27ac\n",
    "cd X1-input-_S9_L003_R1_001_fastqc\n",
    "less summary.txt"
   ]
  },
  {
   "cell_type": "code",
   "execution_count": 14,
   "metadata": {},
   "outputs": [
    {
     "name": "stdout",
     "output_type": "stream",
     "text": [
      ">>Overrepresented sequences\tfail\n",
      "#Sequence\tCount\tPercentage\tPossible Source\n",
      "GATCGGAAGAGCACACGTCTGAACTCCAGTCACGAGTGG\t77057\t1.7172433004624212\tTruSeq Adapter, Index 7 (97% over 36bp)\n",
      "NNNNNNNNNNNNNNNNNNNNNNNNNNNNNNNNNNN\t5648\t0.12586773636414286\tNo Hit\n",
      ">>END_MODULE\n"
     ]
    }
   ],
   "source": [
    "%%bash\n",
    "cd ../chip_sexual_organised/k27ac\n",
    "cd X1-input-_S9_L003_R1_001_fastqc\n",
    "grep -A 4 \"Overrepresented\" fastqc_data.txt"
   ]
  },
  {
   "cell_type": "code",
   "execution_count": 17,
   "metadata": {},
   "outputs": [
    {
     "name": "stdout",
     "output_type": "stream",
     "text": [
      "4487250\n"
     ]
    }
   ],
   "source": [
    "%%bash\n",
    "cd ../../../../../data/ngs/smed/facs_rnaseq_datasets/sexual/chip_neiro/k27ac\n",
    "echo $(zcat X1-input-_S9_L003_R1_001.fastq.gz|wc -l)/4|bc"
   ]
  },
  {
   "cell_type": "markdown",
   "metadata": {},
   "source": [
    "### 2.2.14 X1-input-_S9_L003_R2_001"
   ]
  },
  {
   "cell_type": "markdown",
   "metadata": {},
   "source": [
    "Rep1 was made by Anish on 13/12/2016."
   ]
  },
  {
   "cell_type": "code",
   "execution_count": 17,
   "metadata": {},
   "outputs": [
    {
     "name": "stdout",
     "output_type": "stream",
     "text": [
      "PASS\tBasic Statistics\tX1-input-_S9_L003_R2_001.fastq.gz\n",
      "PASS\tPer base sequence quality\tX1-input-_S9_L003_R2_001.fastq.gz\n",
      "PASS\tPer tile sequence quality\tX1-input-_S9_L003_R2_001.fastq.gz\n",
      "PASS\tPer sequence quality scores\tX1-input-_S9_L003_R2_001.fastq.gz\n",
      "FAIL\tPer base sequence content\tX1-input-_S9_L003_R2_001.fastq.gz\n",
      "WARN\tPer sequence GC content\tX1-input-_S9_L003_R2_001.fastq.gz\n",
      "PASS\tPer base N content\tX1-input-_S9_L003_R2_001.fastq.gz\n",
      "WARN\tSequence Length Distribution\tX1-input-_S9_L003_R2_001.fastq.gz\n",
      "PASS\tSequence Duplication Levels\tX1-input-_S9_L003_R2_001.fastq.gz\n",
      "WARN\tOverrepresented sequences\tX1-input-_S9_L003_R2_001.fastq.gz\n",
      "PASS\tAdapter Content\tX1-input-_S9_L003_R2_001.fastq.gz\n"
     ]
    }
   ],
   "source": [
    "%%bash\n",
    "cd ../chip_sexual_organised/k27ac\n",
    "cd X1-input-_S9_L003_R2_001_fastqc\n",
    "less summary.txt"
   ]
  },
  {
   "cell_type": "code",
   "execution_count": 18,
   "metadata": {},
   "outputs": [
    {
     "name": "stdout",
     "output_type": "stream",
     "text": [
      ">>Overrepresented sequences\twarn\n",
      "#Sequence\tCount\tPercentage\tPossible Source\n",
      "GGGGGGGGGGGGGGGGGGGGGGGGGGGGGGGGGGGGGGG\t36007\t0.8024291046854978\tNo Hit\n",
      "NNNNNNNNNNNNNNNNNNNNNNNNNNNNNNNNNNN\t7386\t0.16459969914758482\tNo Hit\n",
      ">>END_MODULE\n"
     ]
    }
   ],
   "source": [
    "%%bash\n",
    "cd ../chip_sexual_organised/k27ac\n",
    "cd X1-input-_S9_L003_R2_001_fastqc\n",
    "grep -A 4 \"Overrepresented\" fastqc_data.txt"
   ]
  },
  {
   "cell_type": "markdown",
   "metadata": {},
   "source": [
    "For L3:\n",
    "\n",
    "GATCGGAAGAGCACACGTCTGAACTCCAGTCACGAGTGG\t77057\t1.7172433004624212\tTruSeq Adapter, Index 7 (97% over 36bp)"
   ]
  },
  {
   "cell_type": "code",
   "execution_count": 18,
   "metadata": {},
   "outputs": [
    {
     "name": "stdout",
     "output_type": "stream",
     "text": [
      "4487250\n"
     ]
    }
   ],
   "source": [
    "%%bash\n",
    "cd ../../../../../data/ngs/smed/facs_rnaseq_datasets/sexual/chip_neiro/k27ac\n",
    "echo $(zcat X1-input-_S9_L003_R2_001.fastq.gz|wc -l)/4|bc"
   ]
  },
  {
   "cell_type": "markdown",
   "metadata": {},
   "source": [
    "### 2.2.15 X1-input-_S9_L004_R1_001"
   ]
  },
  {
   "cell_type": "markdown",
   "metadata": {},
   "source": [
    "Rep1 was made by Anish on 13/12/2016."
   ]
  },
  {
   "cell_type": "code",
   "execution_count": 26,
   "metadata": {},
   "outputs": [
    {
     "name": "stdout",
     "output_type": "stream",
     "text": [
      "PASS\tBasic Statistics\tX1-input-_S9_L004_R1_001.fastq.gz\n",
      "PASS\tPer base sequence quality\tX1-input-_S9_L004_R1_001.fastq.gz\n",
      "PASS\tPer tile sequence quality\tX1-input-_S9_L004_R1_001.fastq.gz\n",
      "PASS\tPer sequence quality scores\tX1-input-_S9_L004_R1_001.fastq.gz\n",
      "FAIL\tPer base sequence content\tX1-input-_S9_L004_R1_001.fastq.gz\n",
      "PASS\tPer sequence GC content\tX1-input-_S9_L004_R1_001.fastq.gz\n",
      "PASS\tPer base N content\tX1-input-_S9_L004_R1_001.fastq.gz\n",
      "WARN\tSequence Length Distribution\tX1-input-_S9_L004_R1_001.fastq.gz\n",
      "PASS\tSequence Duplication Levels\tX1-input-_S9_L004_R1_001.fastq.gz\n",
      "FAIL\tOverrepresented sequences\tX1-input-_S9_L004_R1_001.fastq.gz\n",
      "PASS\tAdapter Content\tX1-input-_S9_L004_R1_001.fastq.gz\n"
     ]
    }
   ],
   "source": [
    "%%bash\n",
    "cd ../chip_sexual_organised/k27ac\n",
    "cd X1-input-_S9_L004_R1_001_fastqc\n",
    "less summary.txt"
   ]
  },
  {
   "cell_type": "code",
   "execution_count": 27,
   "metadata": {},
   "outputs": [
    {
     "name": "stdout",
     "output_type": "stream",
     "text": [
      ">>Overrepresented sequences\tfail\n",
      "#Sequence\tCount\tPercentage\tPossible Source\n",
      "GATCGGAAGAGCACACGTCTGAACTCCAGTCACGAGTGG\t75211\t1.6555104807982268\tTruSeq Adapter, Index 7 (97% over 36bp)\n",
      "NNNNNNNNNNNNNNNNNNNNNNNNNNNNNNNNNNN\t5680\t0.12502558842368705\tNo Hit\n",
      ">>END_MODULE\n"
     ]
    }
   ],
   "source": [
    "%%bash\n",
    "cd ../chip_sexual_organised/k27ac\n",
    "cd X1-input-_S9_L004_R1_001_fastqc\n",
    "grep -A 4 \"Overrepresented\" fastqc_data.txt"
   ]
  },
  {
   "cell_type": "code",
   "execution_count": 19,
   "metadata": {},
   "outputs": [
    {
     "name": "stdout",
     "output_type": "stream",
     "text": [
      "4543070\n"
     ]
    }
   ],
   "source": [
    "%%bash\n",
    "cd ../../../../../data/ngs/smed/facs_rnaseq_datasets/sexual/chip_neiro/k27ac\n",
    "echo $(zcat X1-input-_S9_L004_R1_001.fastq.gz|wc -l)/4|bc"
   ]
  },
  {
   "cell_type": "markdown",
   "metadata": {},
   "source": [
    "### 2.2.16 X1-input-_S9_L004_R2_001"
   ]
  },
  {
   "cell_type": "markdown",
   "metadata": {},
   "source": [
    "Rep1 was made by Anish on 13/12/2016."
   ]
  },
  {
   "cell_type": "code",
   "execution_count": 21,
   "metadata": {},
   "outputs": [
    {
     "name": "stdout",
     "output_type": "stream",
     "text": [
      "PASS\tBasic Statistics\tX1-input-_S9_L004_R2_001.fastq.gz\n",
      "PASS\tPer base sequence quality\tX1-input-_S9_L004_R2_001.fastq.gz\n",
      "PASS\tPer tile sequence quality\tX1-input-_S9_L004_R2_001.fastq.gz\n",
      "PASS\tPer sequence quality scores\tX1-input-_S9_L004_R2_001.fastq.gz\n",
      "FAIL\tPer base sequence content\tX1-input-_S9_L004_R2_001.fastq.gz\n",
      "WARN\tPer sequence GC content\tX1-input-_S9_L004_R2_001.fastq.gz\n",
      "PASS\tPer base N content\tX1-input-_S9_L004_R2_001.fastq.gz\n",
      "WARN\tSequence Length Distribution\tX1-input-_S9_L004_R2_001.fastq.gz\n",
      "PASS\tSequence Duplication Levels\tX1-input-_S9_L004_R2_001.fastq.gz\n",
      "WARN\tOverrepresented sequences\tX1-input-_S9_L004_R2_001.fastq.gz\n",
      "PASS\tAdapter Content\tX1-input-_S9_L004_R2_001.fastq.gz\n"
     ]
    }
   ],
   "source": [
    "%%bash\n",
    "cd ../chip_sexual_organised/k27ac\n",
    "cd X1-input-_S9_L004_R2_001_fastqc\n",
    "less summary.txt"
   ]
  },
  {
   "cell_type": "code",
   "execution_count": 22,
   "metadata": {},
   "outputs": [
    {
     "name": "stdout",
     "output_type": "stream",
     "text": [
      ">>Overrepresented sequences\twarn\n",
      "#Sequence\tCount\tPercentage\tPossible Source\n",
      "GGGGGGGGGGGGGGGGGGGGGGGGGGGGGGGGGGGGGGG\t34257\t0.7540495744067338\tNo Hit\n",
      "NNNNNNNNNNNNNNNNNNNNNNNNNNNNNNNNNNN\t7729\t0.17012724875469673\tNo Hit\n",
      ">>END_MODULE\n"
     ]
    }
   ],
   "source": [
    "%%bash\n",
    "cd ../chip_sexual_organised/k27ac\n",
    "cd X1-input-_S9_L004_R2_001_fastqc\n",
    "grep -A 4 \"Overrepresented\" fastqc_data.txt"
   ]
  },
  {
   "cell_type": "markdown",
   "metadata": {},
   "source": [
    "For L4:\n",
    "\n",
    "GATCGGAAGAGCACACGTCTGAACTCCAGTCACGAGTGG\t75211\t1.6555104807982268\tTruSeq Adapter, Index 7 (97% over 36bp)"
   ]
  },
  {
   "cell_type": "markdown",
   "metadata": {},
   "source": [
    "For L1-4:\n",
    "    \n",
    "GATCGGAAGAGCACACGTCTGAACTCCAGTCACGAGTGG\t81539\t1.7919481774714145\tTruSeq Adapter, Index 7"
   ]
  },
  {
   "cell_type": "code",
   "execution_count": 20,
   "metadata": {},
   "outputs": [
    {
     "name": "stdout",
     "output_type": "stream",
     "text": [
      "4543070\n"
     ]
    }
   ],
   "source": [
    "%%bash\n",
    "cd ../../../../../data/ngs/smed/facs_rnaseq_datasets/sexual/chip_neiro/k27ac\n",
    "echo $(zcat X1-input-_S9_L004_R2_001.fastq.gz|wc -l)/4|bc"
   ]
  },
  {
   "cell_type": "markdown",
   "metadata": {},
   "source": [
    "### 2.2.17 x1_h3k27ac_rep2.R1"
   ]
  },
  {
   "cell_type": "markdown",
   "metadata": {},
   "source": [
    "rep2 and rep3 was made by Divya in 2018"
   ]
  },
  {
   "cell_type": "code",
   "execution_count": 161,
   "metadata": {},
   "outputs": [
    {
     "name": "stdout",
     "output_type": "stream",
     "text": [
      "PASS\tBasic Statistics\tx1_h3k27ac_rep2.R1.fastq.gz\n",
      "PASS\tPer base sequence quality\tx1_h3k27ac_rep2.R1.fastq.gz\n",
      "PASS\tPer tile sequence quality\tx1_h3k27ac_rep2.R1.fastq.gz\n",
      "PASS\tPer sequence quality scores\tx1_h3k27ac_rep2.R1.fastq.gz\n",
      "PASS\tPer base sequence content\tx1_h3k27ac_rep2.R1.fastq.gz\n",
      "PASS\tPer sequence GC content\tx1_h3k27ac_rep2.R1.fastq.gz\n",
      "PASS\tPer base N content\tx1_h3k27ac_rep2.R1.fastq.gz\n",
      "PASS\tSequence Length Distribution\tx1_h3k27ac_rep2.R1.fastq.gz\n",
      "PASS\tSequence Duplication Levels\tx1_h3k27ac_rep2.R1.fastq.gz\n",
      "PASS\tOverrepresented sequences\tx1_h3k27ac_rep2.R1.fastq.gz\n",
      "PASS\tAdapter Content\tx1_h3k27ac_rep2.R1.fastq.gz\n"
     ]
    }
   ],
   "source": [
    "%%bash\n",
    "cd ../chip_sexual_organised/k27ac\n",
    "cd x1_h3k27ac_rep2.R1_fastqc\n",
    "less summary.txt"
   ]
  },
  {
   "cell_type": "code",
   "execution_count": 23,
   "metadata": {},
   "outputs": [
    {
     "name": "stdout",
     "output_type": "stream",
     "text": [
      "27883302\n"
     ]
    }
   ],
   "source": [
    "%%bash\n",
    "cd ../../../../../data/ngs/smed/facs_rnaseq_datasets/sexual/chip_neiro/k27ac\n",
    "echo $(zcat x1_h3k27ac_rep2.R1.fastq.gz|wc -l)/4|bc"
   ]
  },
  {
   "cell_type": "markdown",
   "metadata": {},
   "source": [
    "### 2.2.18 x1_h3k27ac_rep2.R2\n",
    "\n",
    "rep2 and rep3 was made by Divya in 2018"
   ]
  },
  {
   "cell_type": "code",
   "execution_count": 165,
   "metadata": {},
   "outputs": [
    {
     "name": "stdout",
     "output_type": "stream",
     "text": [
      "PASS\tBasic Statistics\tx1_h3k27ac_rep2.R2.fastq.gz\n",
      "PASS\tPer base sequence quality\tx1_h3k27ac_rep2.R2.fastq.gz\n",
      "PASS\tPer tile sequence quality\tx1_h3k27ac_rep2.R2.fastq.gz\n",
      "PASS\tPer sequence quality scores\tx1_h3k27ac_rep2.R2.fastq.gz\n",
      "PASS\tPer base sequence content\tx1_h3k27ac_rep2.R2.fastq.gz\n",
      "PASS\tPer sequence GC content\tx1_h3k27ac_rep2.R2.fastq.gz\n",
      "PASS\tPer base N content\tx1_h3k27ac_rep2.R2.fastq.gz\n",
      "PASS\tSequence Length Distribution\tx1_h3k27ac_rep2.R2.fastq.gz\n",
      "PASS\tSequence Duplication Levels\tx1_h3k27ac_rep2.R2.fastq.gz\n",
      "PASS\tOverrepresented sequences\tx1_h3k27ac_rep2.R2.fastq.gz\n",
      "PASS\tAdapter Content\tx1_h3k27ac_rep2.R2.fastq.gz\n"
     ]
    }
   ],
   "source": [
    "%%bash\n",
    "cd ../chip_sexual_organised/k27ac\n",
    "cd x1_h3k27ac_rep2.R2_fastqc\n",
    "less summary.txt"
   ]
  },
  {
   "cell_type": "code",
   "execution_count": 24,
   "metadata": {},
   "outputs": [
    {
     "name": "stdout",
     "output_type": "stream",
     "text": [
      "27883302\n"
     ]
    }
   ],
   "source": [
    "%%bash\n",
    "cd ../../../../../data/ngs/smed/facs_rnaseq_datasets/sexual/chip_neiro/k27ac\n",
    "echo $(zcat x1_h3k27ac_rep2.R2.fastq.gz|wc -l)/4|bc"
   ]
  },
  {
   "cell_type": "markdown",
   "metadata": {},
   "source": [
    "### 2.2.19 x1_h3k27ac_rep3.R1\n",
    "rep2 and rep3 was made by Divya in 2018"
   ]
  },
  {
   "cell_type": "code",
   "execution_count": 170,
   "metadata": {},
   "outputs": [
    {
     "name": "stdout",
     "output_type": "stream",
     "text": [
      "PASS\tBasic Statistics\tx1_h3k27ac_rep3.R1.fastq.gz\n",
      "PASS\tPer base sequence quality\tx1_h3k27ac_rep3.R1.fastq.gz\n",
      "PASS\tPer tile sequence quality\tx1_h3k27ac_rep3.R1.fastq.gz\n",
      "PASS\tPer sequence quality scores\tx1_h3k27ac_rep3.R1.fastq.gz\n",
      "PASS\tPer base sequence content\tx1_h3k27ac_rep3.R1.fastq.gz\n",
      "PASS\tPer sequence GC content\tx1_h3k27ac_rep3.R1.fastq.gz\n",
      "PASS\tPer base N content\tx1_h3k27ac_rep3.R1.fastq.gz\n",
      "PASS\tSequence Length Distribution\tx1_h3k27ac_rep3.R1.fastq.gz\n",
      "PASS\tSequence Duplication Levels\tx1_h3k27ac_rep3.R1.fastq.gz\n",
      "PASS\tOverrepresented sequences\tx1_h3k27ac_rep3.R1.fastq.gz\n",
      "PASS\tAdapter Content\tx1_h3k27ac_rep3.R1.fastq.gz\n"
     ]
    }
   ],
   "source": [
    "%%bash\n",
    "cd ../chip_sexual_organised/k27ac\n",
    "cd x1_h3k27ac_rep3.R1_fastqc\n",
    "less summary.txt"
   ]
  },
  {
   "cell_type": "code",
   "execution_count": 25,
   "metadata": {},
   "outputs": [
    {
     "name": "stdout",
     "output_type": "stream",
     "text": [
      "29756249\n"
     ]
    }
   ],
   "source": [
    "%%bash\n",
    "cd ../../../../../data/ngs/smed/facs_rnaseq_datasets/sexual/chip_neiro/k27ac\n",
    "echo $(zcat x1_h3k27ac_rep3.R1.fastq.gz|wc -l)/4|bc"
   ]
  },
  {
   "cell_type": "markdown",
   "metadata": {},
   "source": [
    "### 2.2.20 x1_h3k27ac_rep3.R2\n",
    "\n",
    "rep2 and rep3 was made by Divya in 2018"
   ]
  },
  {
   "cell_type": "code",
   "execution_count": 174,
   "metadata": {},
   "outputs": [
    {
     "name": "stdout",
     "output_type": "stream",
     "text": [
      "PASS\tBasic Statistics\tx1_h3k27ac_rep3.R2.fastq.gz\n",
      "PASS\tPer base sequence quality\tx1_h3k27ac_rep3.R2.fastq.gz\n",
      "PASS\tPer tile sequence quality\tx1_h3k27ac_rep3.R2.fastq.gz\n",
      "PASS\tPer sequence quality scores\tx1_h3k27ac_rep3.R2.fastq.gz\n",
      "PASS\tPer base sequence content\tx1_h3k27ac_rep3.R2.fastq.gz\n",
      "PASS\tPer sequence GC content\tx1_h3k27ac_rep3.R2.fastq.gz\n",
      "PASS\tPer base N content\tx1_h3k27ac_rep3.R2.fastq.gz\n",
      "PASS\tSequence Length Distribution\tx1_h3k27ac_rep3.R2.fastq.gz\n",
      "PASS\tSequence Duplication Levels\tx1_h3k27ac_rep3.R2.fastq.gz\n",
      "PASS\tOverrepresented sequences\tx1_h3k27ac_rep3.R2.fastq.gz\n",
      "PASS\tAdapter Content\tx1_h3k27ac_rep3.R2.fastq.gz\n"
     ]
    }
   ],
   "source": [
    "%%bash\n",
    "cd ../chip_sexual_organised/k27ac\n",
    "cd x1_h3k27ac_rep3.R2_fastqc\n",
    "less summary.txt"
   ]
  },
  {
   "cell_type": "code",
   "execution_count": 26,
   "metadata": {},
   "outputs": [
    {
     "name": "stdout",
     "output_type": "stream",
     "text": [
      "29756249\n"
     ]
    }
   ],
   "source": [
    "%%bash\n",
    "cd ../../../../../data/ngs/smed/facs_rnaseq_datasets/sexual/chip_neiro/k27ac\n",
    "echo $(zcat x1_h3k27ac_rep3.R2.fastq.gz|wc -l)/4|bc"
   ]
  },
  {
   "cell_type": "markdown",
   "metadata": {},
   "source": [
    "### 2.2.21 x1_input_rep2.R1\n",
    "\n",
    "rep2 and rep3 was made by Divya in 2018"
   ]
  },
  {
   "cell_type": "code",
   "execution_count": 179,
   "metadata": {},
   "outputs": [
    {
     "name": "stdout",
     "output_type": "stream",
     "text": [
      "PASS\tBasic Statistics\tx1_input_rep2.R1.fastq.gz\n",
      "PASS\tPer base sequence quality\tx1_input_rep2.R1.fastq.gz\n",
      "PASS\tPer tile sequence quality\tx1_input_rep2.R1.fastq.gz\n",
      "PASS\tPer sequence quality scores\tx1_input_rep2.R1.fastq.gz\n",
      "PASS\tPer base sequence content\tx1_input_rep2.R1.fastq.gz\n",
      "PASS\tPer sequence GC content\tx1_input_rep2.R1.fastq.gz\n",
      "PASS\tPer base N content\tx1_input_rep2.R1.fastq.gz\n",
      "PASS\tSequence Length Distribution\tx1_input_rep2.R1.fastq.gz\n",
      "PASS\tSequence Duplication Levels\tx1_input_rep2.R1.fastq.gz\n",
      "PASS\tOverrepresented sequences\tx1_input_rep2.R1.fastq.gz\n",
      "PASS\tAdapter Content\tx1_input_rep2.R1.fastq.gz\n"
     ]
    }
   ],
   "source": [
    "%%bash\n",
    "cd ../chip_sexual_organised/k27ac\n",
    "cd x1_input_rep2.R1_fastqc\n",
    "less summary.txt"
   ]
  },
  {
   "cell_type": "code",
   "execution_count": 27,
   "metadata": {},
   "outputs": [
    {
     "name": "stdout",
     "output_type": "stream",
     "text": [
      "29995548\n"
     ]
    }
   ],
   "source": [
    "%%bash\n",
    "cd ../../../../../data/ngs/smed/facs_rnaseq_datasets/sexual/chip_neiro/k27ac\n",
    "echo $(zcat x1_input_rep2.R1.fastq.gz|wc -l)/4|bc"
   ]
  },
  {
   "cell_type": "markdown",
   "metadata": {},
   "source": [
    "### 2.2.22 x1_input_rep2.R2\n",
    "\n",
    "rep2 and rep3 was made by Divya in 2018"
   ]
  },
  {
   "cell_type": "code",
   "execution_count": 182,
   "metadata": {},
   "outputs": [
    {
     "name": "stdout",
     "output_type": "stream",
     "text": [
      "PASS\tBasic Statistics\tx1_input_rep2.R2.fastq.gz\n",
      "PASS\tPer base sequence quality\tx1_input_rep2.R2.fastq.gz\n",
      "PASS\tPer tile sequence quality\tx1_input_rep2.R2.fastq.gz\n",
      "PASS\tPer sequence quality scores\tx1_input_rep2.R2.fastq.gz\n",
      "PASS\tPer base sequence content\tx1_input_rep2.R2.fastq.gz\n",
      "PASS\tPer sequence GC content\tx1_input_rep2.R2.fastq.gz\n",
      "PASS\tPer base N content\tx1_input_rep2.R2.fastq.gz\n",
      "PASS\tSequence Length Distribution\tx1_input_rep2.R2.fastq.gz\n",
      "PASS\tSequence Duplication Levels\tx1_input_rep2.R2.fastq.gz\n",
      "PASS\tOverrepresented sequences\tx1_input_rep2.R2.fastq.gz\n",
      "PASS\tAdapter Content\tx1_input_rep2.R2.fastq.gz\n"
     ]
    }
   ],
   "source": [
    "%%bash\n",
    "cd ../chip_sexual_organised/k27ac\n",
    "cd x1_input_rep2.R2_fastqc\n",
    "less summary.txt"
   ]
  },
  {
   "cell_type": "code",
   "execution_count": 28,
   "metadata": {},
   "outputs": [
    {
     "name": "stdout",
     "output_type": "stream",
     "text": [
      "29995548\n"
     ]
    }
   ],
   "source": [
    "%%bash\n",
    "cd ../../../../../data/ngs/smed/facs_rnaseq_datasets/sexual/chip_neiro/k27ac\n",
    "echo $(zcat x1_input_rep2.R2.fastq.gz|wc -l)/4|bc"
   ]
  },
  {
   "cell_type": "markdown",
   "metadata": {},
   "source": [
    "### 2.2.23 x1_input_rep3_R1\n",
    "\n",
    "rep2 and rep3 was made by Divya in 2018"
   ]
  },
  {
   "cell_type": "code",
   "execution_count": 186,
   "metadata": {},
   "outputs": [
    {
     "name": "stdout",
     "output_type": "stream",
     "text": [
      "PASS\tBasic Statistics\tx1_input_rep3_R1.fastq.gz\n",
      "PASS\tPer base sequence quality\tx1_input_rep3_R1.fastq.gz\n",
      "PASS\tPer tile sequence quality\tx1_input_rep3_R1.fastq.gz\n",
      "PASS\tPer sequence quality scores\tx1_input_rep3_R1.fastq.gz\n",
      "PASS\tPer base sequence content\tx1_input_rep3_R1.fastq.gz\n",
      "PASS\tPer sequence GC content\tx1_input_rep3_R1.fastq.gz\n",
      "PASS\tPer base N content\tx1_input_rep3_R1.fastq.gz\n",
      "PASS\tSequence Length Distribution\tx1_input_rep3_R1.fastq.gz\n",
      "PASS\tSequence Duplication Levels\tx1_input_rep3_R1.fastq.gz\n",
      "PASS\tOverrepresented sequences\tx1_input_rep3_R1.fastq.gz\n",
      "PASS\tAdapter Content\tx1_input_rep3_R1.fastq.gz\n"
     ]
    }
   ],
   "source": [
    "%%bash\n",
    "cd ../chip_sexual_organised/k27ac\n",
    "cd x1_input_rep3_R1_fastqc\n",
    "less summary.txt"
   ]
  },
  {
   "cell_type": "code",
   "execution_count": 34,
   "metadata": {},
   "outputs": [
    {
     "name": "stdout",
     "output_type": "stream",
     "text": [
      "39350607\n"
     ]
    }
   ],
   "source": [
    "%%bash\n",
    "cd ../../../../../data/ngs/smed/facs_rnaseq_datasets/sexual/chip_neiro/k27ac\n",
    "echo $(zcat x1_input_rep3_R1.fastq.gz|wc -l)/4|bc"
   ]
  },
  {
   "cell_type": "markdown",
   "metadata": {},
   "source": [
    "### 2.2.24 x1_input_rep3_R2\n",
    "\n",
    "rep2 and rep3 was made by Divya in 2018"
   ]
  },
  {
   "cell_type": "code",
   "execution_count": 189,
   "metadata": {},
   "outputs": [
    {
     "name": "stdout",
     "output_type": "stream",
     "text": [
      "PASS\tBasic Statistics\tx1_input_rep3_R2.fastq.gz\n",
      "PASS\tPer base sequence quality\tx1_input_rep3_R2.fastq.gz\n",
      "PASS\tPer tile sequence quality\tx1_input_rep3_R2.fastq.gz\n",
      "PASS\tPer sequence quality scores\tx1_input_rep3_R2.fastq.gz\n",
      "PASS\tPer base sequence content\tx1_input_rep3_R2.fastq.gz\n",
      "PASS\tPer sequence GC content\tx1_input_rep3_R2.fastq.gz\n",
      "PASS\tPer base N content\tx1_input_rep3_R2.fastq.gz\n",
      "PASS\tSequence Length Distribution\tx1_input_rep3_R2.fastq.gz\n",
      "PASS\tSequence Duplication Levels\tx1_input_rep3_R2.fastq.gz\n",
      "PASS\tOverrepresented sequences\tx1_input_rep3_R2.fastq.gz\n",
      "PASS\tAdapter Content\tx1_input_rep3_R2.fastq.gz\n"
     ]
    }
   ],
   "source": [
    "%%bash\n",
    "cd ../chip_sexual_organised/k27ac\n",
    "cd x1_input_rep3_R2_fastqc\n",
    "less summary.txt"
   ]
  },
  {
   "cell_type": "code",
   "execution_count": 35,
   "metadata": {},
   "outputs": [
    {
     "name": "stdout",
     "output_type": "stream",
     "text": [
      "39350607\n"
     ]
    }
   ],
   "source": [
    "%%bash\n",
    "cd ../../../../../data/ngs/smed/facs_rnaseq_datasets/sexual/chip_neiro/k27ac\n",
    "echo $(zcat x1_input_rep3_R2.fastq.gz|wc -l)/4|bc"
   ]
  },
  {
   "cell_type": "markdown",
   "metadata": {},
   "source": [
    "### 2.1.25 Conclusions\n",
    "\n",
    "Rep1 overrepresented sequences:\n",
    "\n",
    "GATCGGAAGAGCACACGTCTGAACTCCAGTCACACTTG TruSeq Adapter, Index 8 \n",
    "\n",
    "GATCGGAAGAGCACACGTCTGAACTCCAGTCACACTTGC TruSeq Adapter, Index 8\n",
    "\n",
    "Rep1 input overrepresented sequences:\n",
    "\n",
    "GATCGGAAGAGCACACGTCTGAACTCCAGTCACGAGTGG\t81539 TruSeq Adapter, Index 7\n",
    "\n",
    "Rep2 and 3 no overrepresnted sequences "
   ]
  },
  {
   "cell_type": "markdown",
   "metadata": {},
   "source": [
    "## 2.3 FastQC H3k4me1"
   ]
  },
  {
   "cell_type": "markdown",
   "metadata": {},
   "source": [
    "These raw reads were generated by Yuli and are published. "
   ]
  },
  {
   "cell_type": "code",
   "execution_count": 31,
   "metadata": {},
   "outputs": [],
   "source": [
    "#%%bash\n",
    "#cd ../chip_sexual_organised/k4me1\n",
    "#fastqc h3k4me1_rep1_R1.fastq.gz h3k4me1_rep1_R2.fastq.gz h3k4me1_rep2_R1.fastq.gz h3k4me1_rep2_R2.fastq.gz"
   ]
  },
  {
   "cell_type": "code",
   "execution_count": 82,
   "metadata": {},
   "outputs": [],
   "source": [
    "#%%bash\n",
    "#cd ../chip_sexual_organised/k4me1\n",
    "#fastqc input_rep1_R1.fastq.gz input_rep1_R2.fastq.gz input_rep2.R1.fastq.gz input_rep2.R2.fastq.gz"
   ]
  },
  {
   "cell_type": "markdown",
   "metadata": {},
   "source": [
    "### 2.3.1 h3k4me1_rep1_R1"
   ]
  },
  {
   "cell_type": "code",
   "execution_count": 36,
   "metadata": {},
   "outputs": [
    {
     "name": "stdout",
     "output_type": "stream",
     "text": [
      "PASS\tBasic Statistics\th3k4me1_rep1_R1.fastq.gz\n",
      "PASS\tPer base sequence quality\th3k4me1_rep1_R1.fastq.gz\n",
      "PASS\tPer sequence quality scores\th3k4me1_rep1_R1.fastq.gz\n",
      "FAIL\tPer base sequence content\th3k4me1_rep1_R1.fastq.gz\n",
      "PASS\tPer sequence GC content\th3k4me1_rep1_R1.fastq.gz\n",
      "PASS\tPer base N content\th3k4me1_rep1_R1.fastq.gz\n",
      "WARN\tSequence Length Distribution\th3k4me1_rep1_R1.fastq.gz\n",
      "PASS\tSequence Duplication Levels\th3k4me1_rep1_R1.fastq.gz\n",
      "FAIL\tOverrepresented sequences\th3k4me1_rep1_R1.fastq.gz\n",
      "PASS\tAdapter Content\th3k4me1_rep1_R1.fastq.gz\n"
     ]
    }
   ],
   "source": [
    "%%bash\n",
    "cd ../chip_sexual_organised/k4me1\n",
    "cd h3k4me1_rep1_R1_fastqc\n",
    "less summary.txt"
   ]
  },
  {
   "cell_type": "code",
   "execution_count": 38,
   "metadata": {},
   "outputs": [
    {
     "name": "stdout",
     "output_type": "stream",
     "text": [
      ">>Overrepresented sequences\tfail\n",
      "#Sequence\tCount\tPercentage\tPossible Source\n",
      "GATCGGAAGAGCACACGTCTGAACTCCAGTCACCGATGT\t1231626\t3.940509670298028\tTruSeq Adapter, Index 2 (100% over 39bp)\n",
      ">>END_MODULE\n",
      ">>Adapter Content\tpass\n"
     ]
    }
   ],
   "source": [
    "%%bash\n",
    "cd ../chip_sexual_organised/k4me1\n",
    "cd h3k4me1_rep1_R1_fastqc\n",
    "grep -A 4 \"Overrepresented\" fastqc_data.txt"
   ]
  },
  {
   "cell_type": "code",
   "execution_count": 39,
   "metadata": {},
   "outputs": [
    {
     "name": "stdout",
     "output_type": "stream",
     "text": [
      "31255500\n"
     ]
    }
   ],
   "source": [
    "%%bash\n",
    "cd ../../../../../data/ngs/smed/facs_rnaseq_datasets/sexual/chip_neiro/k4me1\n",
    "echo $(zcat h3k4me1_rep1_R1.fastq.gz|wc -l)/4|bc"
   ]
  },
  {
   "cell_type": "markdown",
   "metadata": {},
   "source": [
    "### 2.3.2 h3k4me1_rep1_R2"
   ]
  },
  {
   "cell_type": "code",
   "execution_count": 42,
   "metadata": {},
   "outputs": [
    {
     "name": "stdout",
     "output_type": "stream",
     "text": [
      "PASS\tBasic Statistics\th3k4me1_rep1_R2.fastq.gz\n",
      "PASS\tPer base sequence quality\th3k4me1_rep1_R2.fastq.gz\n",
      "PASS\tPer sequence quality scores\th3k4me1_rep1_R2.fastq.gz\n",
      "FAIL\tPer base sequence content\th3k4me1_rep1_R2.fastq.gz\n",
      "WARN\tPer sequence GC content\th3k4me1_rep1_R2.fastq.gz\n",
      "PASS\tPer base N content\th3k4me1_rep1_R2.fastq.gz\n",
      "WARN\tSequence Length Distribution\th3k4me1_rep1_R2.fastq.gz\n",
      "PASS\tSequence Duplication Levels\th3k4me1_rep1_R2.fastq.gz\n",
      "FAIL\tOverrepresented sequences\th3k4me1_rep1_R2.fastq.gz\n",
      "PASS\tAdapter Content\th3k4me1_rep1_R2.fastq.gz\n"
     ]
    }
   ],
   "source": [
    "%%bash\n",
    "cd ../chip_sexual_organised/k4me1\n",
    "cd h3k4me1_rep1_R2_fastqc\n",
    "less summary.txt"
   ]
  },
  {
   "cell_type": "code",
   "execution_count": 43,
   "metadata": {},
   "outputs": [
    {
     "name": "stdout",
     "output_type": "stream",
     "text": [
      ">>Overrepresented sequences\tfail\n",
      "#Sequence\tCount\tPercentage\tPossible Source\n",
      "GGGGGGGGGGGGGGGGGGGGGGGGGGGGGGGGGGGGGGGG\t1197065\t3.829933931628034\tNo Hit\n",
      ">>END_MODULE\n",
      ">>Adapter Content\tpass\n"
     ]
    }
   ],
   "source": [
    "%%bash\n",
    "cd ../chip_sexual_organised/k4me1\n",
    "cd h3k4me1_rep1_R2_fastqc\n",
    "grep -A 4 \"Overrepresented\" fastqc_data.txt"
   ]
  },
  {
   "cell_type": "markdown",
   "metadata": {},
   "source": [
    "For rep1:\n",
    "\n",
    "GATCGGAAGAGCACACGTCTGAACTCCAGTCACCGATGT\t1231626\t3.940509670298028\tTruSeq Adapter, Index 2"
   ]
  },
  {
   "cell_type": "code",
   "execution_count": 40,
   "metadata": {},
   "outputs": [
    {
     "name": "stdout",
     "output_type": "stream",
     "text": [
      "31255500\n"
     ]
    }
   ],
   "source": [
    "%%bash\n",
    "cd ../../../../../data/ngs/smed/facs_rnaseq_datasets/sexual/chip_neiro/k4me1\n",
    "echo $(zcat h3k4me1_rep1_R2.fastq.gz|wc -l)/4|bc"
   ]
  },
  {
   "cell_type": "markdown",
   "metadata": {},
   "source": [
    "### 2.3.3 h3k4me1_rep2_R1"
   ]
  },
  {
   "cell_type": "code",
   "execution_count": 46,
   "metadata": {},
   "outputs": [
    {
     "name": "stdout",
     "output_type": "stream",
     "text": [
      "PASS\tBasic Statistics\th3k4me1_rep2_R1.fastq.gz\n",
      "PASS\tPer base sequence quality\th3k4me1_rep2_R1.fastq.gz\n",
      "PASS\tPer sequence quality scores\th3k4me1_rep2_R1.fastq.gz\n",
      "FAIL\tPer base sequence content\th3k4me1_rep2_R1.fastq.gz\n",
      "PASS\tPer sequence GC content\th3k4me1_rep2_R1.fastq.gz\n",
      "PASS\tPer base N content\th3k4me1_rep2_R1.fastq.gz\n",
      "WARN\tSequence Length Distribution\th3k4me1_rep2_R1.fastq.gz\n",
      "PASS\tSequence Duplication Levels\th3k4me1_rep2_R1.fastq.gz\n",
      "FAIL\tOverrepresented sequences\th3k4me1_rep2_R1.fastq.gz\n",
      "PASS\tAdapter Content\th3k4me1_rep2_R1.fastq.gz\n"
     ]
    }
   ],
   "source": [
    "%%bash\n",
    "cd ../chip_sexual_organised/k4me1\n",
    "cd h3k4me1_rep2_R1_fastqc\n",
    "less summary.txt"
   ]
  },
  {
   "cell_type": "code",
   "execution_count": 47,
   "metadata": {},
   "outputs": [
    {
     "name": "stdout",
     "output_type": "stream",
     "text": [
      ">>Overrepresented sequences\tfail\n",
      "#Sequence\tCount\tPercentage\tPossible Source\n",
      "GATCGGAAGAGCACACGTCTGAACTCCAGTCACTAGCTT\t1316788\t4.335010476645132\tTruSeq Adapter, Index 10 (100% over 39bp)\n",
      ">>END_MODULE\n",
      ">>Adapter Content\tpass\n"
     ]
    }
   ],
   "source": [
    "%%bash\n",
    "cd ../chip_sexual_organised/k4me1\n",
    "cd h3k4me1_rep2_R1_fastqc\n",
    "grep -A 4 \"Overrepresented\" fastqc_data.txt"
   ]
  },
  {
   "cell_type": "code",
   "execution_count": 41,
   "metadata": {},
   "outputs": [
    {
     "name": "stdout",
     "output_type": "stream",
     "text": [
      "30375659\n"
     ]
    }
   ],
   "source": [
    "%%bash\n",
    "cd ../../../../../data/ngs/smed/facs_rnaseq_datasets/sexual/chip_neiro/k4me1\n",
    "echo $(zcat h3k4me1_rep2_R1.fastq.gz|wc -l)/4|bc"
   ]
  },
  {
   "cell_type": "markdown",
   "metadata": {},
   "source": [
    "### 2.3.4 h3k4me1_rep2_R2"
   ]
  },
  {
   "cell_type": "code",
   "execution_count": 51,
   "metadata": {},
   "outputs": [
    {
     "name": "stdout",
     "output_type": "stream",
     "text": [
      "PASS\tBasic Statistics\th3k4me1_rep2_R2.fastq.gz\n",
      "PASS\tPer base sequence quality\th3k4me1_rep2_R2.fastq.gz\n",
      "PASS\tPer sequence quality scores\th3k4me1_rep2_R2.fastq.gz\n",
      "FAIL\tPer base sequence content\th3k4me1_rep2_R2.fastq.gz\n",
      "FAIL\tPer sequence GC content\th3k4me1_rep2_R2.fastq.gz\n",
      "PASS\tPer base N content\th3k4me1_rep2_R2.fastq.gz\n",
      "WARN\tSequence Length Distribution\th3k4me1_rep2_R2.fastq.gz\n",
      "PASS\tSequence Duplication Levels\th3k4me1_rep2_R2.fastq.gz\n",
      "FAIL\tOverrepresented sequences\th3k4me1_rep2_R2.fastq.gz\n",
      "PASS\tAdapter Content\th3k4me1_rep2_R2.fastq.gz\n"
     ]
    }
   ],
   "source": [
    "%%bash\n",
    "cd ../chip_sexual_organised/k4me1\n",
    "cd h3k4me1_rep2_R2_fastqc\n",
    "less summary.txt"
   ]
  },
  {
   "cell_type": "code",
   "execution_count": 52,
   "metadata": {},
   "outputs": [
    {
     "name": "stdout",
     "output_type": "stream",
     "text": [
      ">>Overrepresented sequences\tfail\n",
      "#Sequence\tCount\tPercentage\tPossible Source\n",
      "GGGGGGGGGGGGGGGGGGGGGGGGGGGGGGGGGGGGGGGG\t1287956\t4.240092371329294\tNo Hit\n",
      ">>END_MODULE\n",
      ">>Adapter Content\tpass\n"
     ]
    }
   ],
   "source": [
    "%%bash\n",
    "cd ../chip_sexual_organised/k4me1\n",
    "cd h3k4me1_rep2_R2_fastqc\n",
    "grep -A 4 \"Overrepresented\" fastqc_data.txt"
   ]
  },
  {
   "cell_type": "markdown",
   "metadata": {},
   "source": [
    "For rep2:\n",
    "\n",
    "GATCGGAAGAGCACACGTCTGAACTCCAGTCACTAGCTT\t1316788\t4.335010476645132\tTruSeq Adapter, Index 10 (100% over 39bp)"
   ]
  },
  {
   "cell_type": "code",
   "execution_count": 42,
   "metadata": {},
   "outputs": [
    {
     "name": "stdout",
     "output_type": "stream",
     "text": [
      "30375659\n"
     ]
    }
   ],
   "source": [
    "%%bash\n",
    "cd ../../../../../data/ngs/smed/facs_rnaseq_datasets/sexual/chip_neiro/k4me1\n",
    "echo $(zcat h3k4me1_rep2_R2.fastq.gz|wc -l)/4|bc"
   ]
  },
  {
   "cell_type": "markdown",
   "metadata": {},
   "source": [
    "### 2.3.5 input_rep1_R1"
   ]
  },
  {
   "cell_type": "code",
   "execution_count": 60,
   "metadata": {},
   "outputs": [
    {
     "name": "stdout",
     "output_type": "stream",
     "text": [
      "PASS\tBasic Statistics\tinput_rep1_R1.fastq.gz\n",
      "PASS\tPer base sequence quality\tinput_rep1_R1.fastq.gz\n",
      "PASS\tPer sequence quality scores\tinput_rep1_R1.fastq.gz\n",
      "FAIL\tPer base sequence content\tinput_rep1_R1.fastq.gz\n",
      "PASS\tPer sequence GC content\tinput_rep1_R1.fastq.gz\n",
      "PASS\tPer base N content\tinput_rep1_R1.fastq.gz\n",
      "WARN\tSequence Length Distribution\tinput_rep1_R1.fastq.gz\n",
      "PASS\tSequence Duplication Levels\tinput_rep1_R1.fastq.gz\n",
      "FAIL\tOverrepresented sequences\tinput_rep1_R1.fastq.gz\n",
      "PASS\tAdapter Content\tinput_rep1_R1.fastq.gz\n"
     ]
    }
   ],
   "source": [
    "%%bash\n",
    "cd ../chip_sexual_organised/k4me1\n",
    "cd input_rep1_R1_fastqc\n",
    "less summary.txt"
   ]
  },
  {
   "cell_type": "code",
   "execution_count": 66,
   "metadata": {},
   "outputs": [
    {
     "name": "stdout",
     "output_type": "stream",
     "text": [
      ">>Overrepresented sequences\tfail\n",
      "#Sequence\tCount\tPercentage\tPossible Source\n",
      "GATCGGAAGAGCACACGTCTGAACTCCAGTCACACTTGA\t1534234\t4.698910117127738\tTruSeq Adapter, Index 8 (100% over 39bp)\n",
      ">>END_MODULE\n",
      ">>Adapter Content\tpass\n"
     ]
    }
   ],
   "source": [
    "%%bash\n",
    "cd ../chip_sexual_organised/k4me1\n",
    "cd input_rep1_R1_fastqc\n",
    "grep -A 4 \"Overrepresented\" fastqc_data.txt"
   ]
  },
  {
   "cell_type": "code",
   "execution_count": 43,
   "metadata": {},
   "outputs": [
    {
     "name": "stdout",
     "output_type": "stream",
     "text": [
      "32650848\n"
     ]
    }
   ],
   "source": [
    "%%bash\n",
    "cd ../../../../../data/ngs/smed/facs_rnaseq_datasets/sexual/chip_neiro/k4me1\n",
    "echo $(zcat input_rep1_R1.fastq.gz|wc -l)/4|bc"
   ]
  },
  {
   "cell_type": "markdown",
   "metadata": {},
   "source": [
    "### 2.3.6 input_rep1_R2"
   ]
  },
  {
   "cell_type": "code",
   "execution_count": 65,
   "metadata": {},
   "outputs": [
    {
     "name": "stdout",
     "output_type": "stream",
     "text": [
      "PASS\tBasic Statistics\tinput_rep1_R2.fastq.gz\n",
      "PASS\tPer base sequence quality\tinput_rep1_R2.fastq.gz\n",
      "PASS\tPer sequence quality scores\tinput_rep1_R2.fastq.gz\n",
      "FAIL\tPer base sequence content\tinput_rep1_R2.fastq.gz\n",
      "FAIL\tPer sequence GC content\tinput_rep1_R2.fastq.gz\n",
      "PASS\tPer base N content\tinput_rep1_R2.fastq.gz\n",
      "WARN\tSequence Length Distribution\tinput_rep1_R2.fastq.gz\n",
      "PASS\tSequence Duplication Levels\tinput_rep1_R2.fastq.gz\n",
      "FAIL\tOverrepresented sequences\tinput_rep1_R2.fastq.gz\n",
      "PASS\tAdapter Content\tinput_rep1_R2.fastq.gz\n"
     ]
    }
   ],
   "source": [
    "%%bash\n",
    "cd ../chip_sexual_organised/k4me1\n",
    "cd input_rep1_R2_fastqc\n",
    "less summary.txt"
   ]
  },
  {
   "cell_type": "code",
   "execution_count": 67,
   "metadata": {},
   "outputs": [
    {
     "name": "stdout",
     "output_type": "stream",
     "text": [
      ">>Overrepresented sequences\tfail\n",
      "#Sequence\tCount\tPercentage\tPossible Source\n",
      "GGGGGGGGGGGGGGGGGGGGGGGGGGGGGGGGGGGGGGGG\t1490936\t4.566301003882043\tNo Hit\n",
      ">>END_MODULE\n",
      ">>Adapter Content\tpass\n"
     ]
    }
   ],
   "source": [
    "%%bash\n",
    "cd ../chip_sexual_organised/k4me1\n",
    "cd input_rep1_R2_fastqc\n",
    "grep -A 4 \"Overrepresented\" fastqc_data.txt"
   ]
  },
  {
   "cell_type": "markdown",
   "metadata": {},
   "source": [
    "For rep1 input:\n",
    "\n",
    "GATCGGAAGAGCACACGTCTGAACTCCAGTCACACTTGA\t1534234\t4.698910117127738\tTruSeq Adapter, Index 8 (100% over 39bp)"
   ]
  },
  {
   "cell_type": "code",
   "execution_count": 44,
   "metadata": {},
   "outputs": [
    {
     "name": "stdout",
     "output_type": "stream",
     "text": [
      "32650848\n"
     ]
    }
   ],
   "source": [
    "%%bash\n",
    "cd ../../../../../data/ngs/smed/facs_rnaseq_datasets/sexual/chip_neiro/k4me1\n",
    "echo $(zcat input_rep1_R2.fastq.gz|wc -l)/4|bc"
   ]
  },
  {
   "cell_type": "markdown",
   "metadata": {},
   "source": [
    "### 2.3.7 input_rep2.R1"
   ]
  },
  {
   "cell_type": "code",
   "execution_count": 73,
   "metadata": {},
   "outputs": [
    {
     "name": "stdout",
     "output_type": "stream",
     "text": [
      "PASS\tBasic Statistics\tinput_rep2.R1.fastq.gz\n",
      "PASS\tPer base sequence quality\tinput_rep2.R1.fastq.gz\n",
      "PASS\tPer sequence quality scores\tinput_rep2.R1.fastq.gz\n",
      "FAIL\tPer base sequence content\tinput_rep2.R1.fastq.gz\n",
      "PASS\tPer sequence GC content\tinput_rep2.R1.fastq.gz\n",
      "PASS\tPer base N content\tinput_rep2.R1.fastq.gz\n",
      "WARN\tSequence Length Distribution\tinput_rep2.R1.fastq.gz\n",
      "PASS\tSequence Duplication Levels\tinput_rep2.R1.fastq.gz\n",
      "FAIL\tOverrepresented sequences\tinput_rep2.R1.fastq.gz\n",
      "PASS\tAdapter Content\tinput_rep2.R1.fastq.gz\n"
     ]
    }
   ],
   "source": [
    "%%bash\n",
    "cd ../chip_sexual_organised/k4me1\n",
    "cd input_rep2.R1_fastqc\n",
    "less summary.txt"
   ]
  },
  {
   "cell_type": "code",
   "execution_count": 74,
   "metadata": {},
   "outputs": [
    {
     "name": "stdout",
     "output_type": "stream",
     "text": [
      ">>Overrepresented sequences\tfail\n",
      "#Sequence\tCount\tPercentage\tPossible Source\n",
      "GATCGGAAGAGCACACGTCTGAACTCCAGTCACTGACCA\t918344\t3.4431290053092054\tTruSeq Adapter, Index 4 (100% over 39bp)\n",
      "CATCGGAAGAGCACACGTCTGAACTCCAGTCACTGACCA\t103628\t0.38853041187418047\tTruSeq Adapter, Index 4 (97% over 39bp)\n",
      ">>END_MODULE\n"
     ]
    }
   ],
   "source": [
    "%%bash\n",
    "cd ../chip_sexual_organised/k4me1\n",
    "cd input_rep2.R1_fastqc\n",
    "grep -A 4 \"Overrepresented\" fastqc_data.txt"
   ]
  },
  {
   "cell_type": "code",
   "execution_count": 45,
   "metadata": {},
   "outputs": [
    {
     "name": "stdout",
     "output_type": "stream",
     "text": [
      "26671786\n"
     ]
    }
   ],
   "source": [
    "%%bash\n",
    "cd ../../../../../data/ngs/smed/facs_rnaseq_datasets/sexual/chip_neiro/k4me1\n",
    "echo $(zcat input_rep2.R1.fastq.gz|wc -l)/4|bc"
   ]
  },
  {
   "cell_type": "markdown",
   "metadata": {},
   "source": [
    "### 2.3.8 input_rep2.R2"
   ]
  },
  {
   "cell_type": "code",
   "execution_count": 77,
   "metadata": {},
   "outputs": [
    {
     "name": "stdout",
     "output_type": "stream",
     "text": [
      "PASS\tBasic Statistics\tinput_rep2.R2.fastq.gz\n",
      "PASS\tPer base sequence quality\tinput_rep2.R2.fastq.gz\n",
      "PASS\tPer sequence quality scores\tinput_rep2.R2.fastq.gz\n",
      "FAIL\tPer base sequence content\tinput_rep2.R2.fastq.gz\n",
      "FAIL\tPer sequence GC content\tinput_rep2.R2.fastq.gz\n",
      "PASS\tPer base N content\tinput_rep2.R2.fastq.gz\n",
      "WARN\tSequence Length Distribution\tinput_rep2.R2.fastq.gz\n",
      "PASS\tSequence Duplication Levels\tinput_rep2.R2.fastq.gz\n",
      "FAIL\tOverrepresented sequences\tinput_rep2.R2.fastq.gz\n",
      "PASS\tAdapter Content\tinput_rep2.R2.fastq.gz\n"
     ]
    }
   ],
   "source": [
    "%%bash\n",
    "cd ../chip_sexual_organised/k4me1\n",
    "cd input_rep2.R2_fastqc\n",
    "less summary.txt"
   ]
  },
  {
   "cell_type": "code",
   "execution_count": 78,
   "metadata": {},
   "outputs": [
    {
     "name": "stdout",
     "output_type": "stream",
     "text": [
      ">>Overrepresented sequences\tfail\n",
      "#Sequence\tCount\tPercentage\tPossible Source\n",
      "GGGGGGGGGGGGGGGGGGGGGGGGGGGGGGGGGGGGGGGG\t834923\t3.130360299081584\tNo Hit\n",
      ">>END_MODULE\n",
      ">>Adapter Content\tpass\n"
     ]
    }
   ],
   "source": [
    "%%bash\n",
    "cd ../chip_sexual_organised/k4me1\n",
    "cd input_rep2.R2_fastqc\n",
    "grep -A 4 \"Overrepresented\" fastqc_data.txt"
   ]
  },
  {
   "cell_type": "markdown",
   "metadata": {},
   "source": [
    "For rep2 input:\n",
    "\n",
    "GATCGGAAGAGCACACGTCTGAACTCCAGTCACTGACCA\t918344\t3.4431290053092054\tTruSeq Adapter, Index 4 (100% over 39bp)\n",
    "CATCGGAAGAGCACACGTCTGAACTCCAGTCACTGACCA\t103628\t0.38853041187418047\tTruSeq Adapter, Index 4 (97% over 39bp)"
   ]
  },
  {
   "cell_type": "code",
   "execution_count": 46,
   "metadata": {},
   "outputs": [
    {
     "name": "stdout",
     "output_type": "stream",
     "text": [
      "26671786\n"
     ]
    }
   ],
   "source": [
    "%%bash\n",
    "cd ../../../../../data/ngs/smed/facs_rnaseq_datasets/sexual/chip_neiro/k4me1\n",
    "echo $(zcat input_rep2.R2.fastq.gz|wc -l)/4|bc"
   ]
  },
  {
   "cell_type": "markdown",
   "metadata": {},
   "source": [
    "### Conclusions\n",
    "\n",
    "rep1: GATCGGAAGAGCACACGTCTGAACTCCAGTCACCGATGT\t1231626\t3.940509670298028\tTruSeq Adapter, Index 2\n",
    "\n",
    "rep2: GATCGGAAGAGCACACGTCTGAACTCCAGTCACTAGCTT\t1316788\t4.335010476645132\tTruSeq Adapter, Index 10 (100% over 39bp)\n",
    "\n",
    "rep1 input: GATCGGAAGAGCACACGTCTGAACTCCAGTCACACTTGA 1534234 4.698910117127738 TruSeq Adapter, Index 8 (100% over 39bp)\n",
    "\n",
    "rep2 input:\n",
    "\n",
    "GATCGGAAGAGCACACGTCTGAACTCCAGTCACTGACCA 918344 3.4431290053092054 TruSeq Adapter, Index 4 (100% over 39bp)\n",
    "\n",
    "CATCGGAAGAGCACACGTCTGAACTCCAGTCACTGACCA 103628 0.38853041187418047 TruSeq Adapter, Index 4 (97% over 39bp)"
   ]
  },
  {
   "cell_type": "markdown",
   "metadata": {},
   "source": [
    "# 3. Trimming"
   ]
  },
  {
   "cell_type": "markdown",
   "metadata": {},
   "source": [
    "**H3K27ac**\n",
    "\n",
    "Rep1 overrepresented sequences:\n",
    "\n",
    "GATCGGAAGAGCACACGTCTGAACTCCAGTCACACTTG TruSeq Adapter, Index 8 \n",
    "\n",
    "GATCGGAAGAGCACACGTCTGAACTCCAGTCACACTTGC TruSeq Adapter, Index 8\n",
    "\n",
    "Rep1 input overrepresented sequences:\n",
    "\n",
    "GATCGGAAGAGCACACGTCTGAACTCCAGTCACGAGTGG\t81539 TruSeq Adapter, Index 7\n",
    "\n",
    "Rep2 and 3 no overrepresnted sequences "
   ]
  },
  {
   "cell_type": "markdown",
   "metadata": {},
   "source": [
    "**H3K9me3**\n",
    "X1-input-_S9_allLanes_R1_001: GATCGGAAGAGCACACGTCTGAACTCCAGTCACGAGTGG TruSeq Adapter, Index 7\n",
    "\n",
    "X1-H3K9me3-_S10_allLanes_R1_001: GATCGGAAGAGCACACGTCTGAACTCCAGTCACATCACG TruSeq Adapter, Index 1\n",
    "\n",
    "\n",
    "GATCGGAAGAGCACACGTCTGAACTCCAGTCACTGACCA TruSeq Adapter, Index 4\n",
    "\n",
    "CATCGGAAGAGCACACGTCTGAACTCCAGTCACTGACCA TruSeq Adapter, Index 4\n",
    "\n",
    "GATCGGAAGAGCACACGTCTGAACTCCAGTCACACTTGA TruSeq Adapter, Index 8\n",
    "\n",
    "GATCGGAAGAGCACACGTCTGAACTCCAGTCACTAGCTT TruSeq Adapter, Index 10\n",
    "\n",
    "GATCGGAAGAGCACACGTCTGAACTCCAGTCACCGATGT TruSeq Adapter, Index 2 \n",
    "\n",
    "GATCGGAAGAGCACACGTCTGAACTCCAGTCACGAGTGG TruSeq Adapter, Index 7 \n",
    "\n",
    "GATCGGAAGAGCACACGTCTGAACTCCAGTCACGAGTGG\tTruSeq Adapter, Index 7\n",
    "\n",
    "GATCGGAAGAGCACACGTCTGAACTCCAGTCACACTTG TruSeq Adapter, Index 8"
   ]
  },
  {
   "cell_type": "markdown",
   "metadata": {},
   "source": [
    "## 3.1 H3K27ac"
   ]
  },
  {
   "cell_type": "code",
   "execution_count": 128,
   "metadata": {},
   "outputs": [
    {
     "name": "stdout",
     "output_type": "stream",
     "text": [
      ">TrueSeq8\n",
      "GATCGGAAGAGCACACGTCTGAACTCCAGTCACACTTG\n"
     ]
    }
   ],
   "source": [
    "%%bash\n",
    "cd ../chip_sexual_organised/k27ac/\n",
    "echo \">TrueSeq8\" > TrueSeq8.fa\n",
    "echo \"GATCGGAAGAGCACACGTCTGAACTCCAGTCACACTTG\" >> TrueSeq8.fa\n",
    "less TrueSeq8.fa"
   ]
  },
  {
   "cell_type": "code",
   "execution_count": 25,
   "metadata": {},
   "outputs": [
    {
     "name": "stdout",
     "output_type": "stream",
     "text": [
      ">TrueSeq7\n",
      "GATCGGAAGAGCACACGTCTGAACTCCAGTCACGAGTGG\n"
     ]
    }
   ],
   "source": [
    "%%bash\n",
    "cd ../chip_sexual_organised/k27ac/\n",
    "echo \">TrueSeq7\" > TrueSeq7.fa\n",
    "echo \"GATCGGAAGAGCACACGTCTGAACTCCAGTCACGAGTGG\" >> TrueSeq7.fa\n",
    "less TrueSeq7.fa"
   ]
  },
  {
   "cell_type": "markdown",
   "metadata": {},
   "source": [
    "### 3.1.1 X1-H3K27ace-_S12_L001"
   ]
  },
  {
   "cell_type": "markdown",
   "metadata": {},
   "source": [
    "Trimming:"
   ]
  },
  {
   "cell_type": "code",
   "execution_count": 144,
   "metadata": {},
   "outputs": [],
   "source": [
    "#%%bash\n",
    "#cd ../chip_sexual_organised/k27ac/\n",
    "#java -jar ~/software/Trimmomatic-0.39/trimmomatic-0.39.jar PE X1-H3K27ace-_S12_L001_R1_001.fastq.gz X1-H3K27ace-_S12_L001_R2_001.fastq.gz X1-H3K27ace-_S12_L001_R1_trimmomatic.fastq X1-H3K27ace-_S12_L001_R1_untrimmomatic.fastq X1-H3K27ace-_S12_L001_R2_trimmomatic.fastq X1-H3K27ace-_S12_L001_R2_untrimmomatic.fastq ILLUMINACLIP:TrueSeq8.fa:2:30:10"
   ]
  },
  {
   "cell_type": "code",
   "execution_count": 139,
   "metadata": {},
   "outputs": [
    {
     "name": "stdout",
     "output_type": "stream",
     "text": [
      "13017500\n",
      "13017500\n"
     ]
    }
   ],
   "source": [
    "%%bash\n",
    "cd ../chip_sexual_organised/k27ac/\n",
    "grep -c \"@\" X1-H3K27ace-_S12_L001_R1_trimmomatic.fastq\n",
    "grep -c \"@\" X1-H3K27ace-_S12_L001_R2_trimmomatic.fastq"
   ]
  },
  {
   "cell_type": "markdown",
   "metadata": {},
   "source": [
    "Quality checking:"
   ]
  },
  {
   "cell_type": "code",
   "execution_count": 9,
   "metadata": {},
   "outputs": [],
   "source": [
    "#%%bash\n",
    "#cd ../chip_sexual_organised/k27ac/\n",
    "#fastqc X1-H3K27ace-_S12_L001_R1_trimmomatic.fastq X1-H3K27ace-_S12_L001_R2_trimmomatic.fastq"
   ]
  },
  {
   "cell_type": "markdown",
   "metadata": {},
   "source": [
    "**X1-H3K27ace-_S12_L001_R1_trimmomatic**"
   ]
  },
  {
   "cell_type": "code",
   "execution_count": 14,
   "metadata": {},
   "outputs": [
    {
     "name": "stdout",
     "output_type": "stream",
     "text": [
      "PASS\tBasic Statistics\tX1-H3K27ace-_S12_L001_R1_trimmomatic.fastq\n",
      "PASS\tPer base sequence quality\tX1-H3K27ace-_S12_L001_R1_trimmomatic.fastq\n",
      "PASS\tPer tile sequence quality\tX1-H3K27ace-_S12_L001_R1_trimmomatic.fastq\n",
      "PASS\tPer sequence quality scores\tX1-H3K27ace-_S12_L001_R1_trimmomatic.fastq\n",
      "FAIL\tPer base sequence content\tX1-H3K27ace-_S12_L001_R1_trimmomatic.fastq\n",
      "WARN\tPer sequence GC content\tX1-H3K27ace-_S12_L001_R1_trimmomatic.fastq\n",
      "PASS\tPer base N content\tX1-H3K27ace-_S12_L001_R1_trimmomatic.fastq\n",
      "WARN\tSequence Length Distribution\tX1-H3K27ace-_S12_L001_R1_trimmomatic.fastq\n",
      "PASS\tSequence Duplication Levels\tX1-H3K27ace-_S12_L001_R1_trimmomatic.fastq\n",
      "WARN\tOverrepresented sequences\tX1-H3K27ace-_S12_L001_R1_trimmomatic.fastq\n",
      "PASS\tAdapter Content\tX1-H3K27ace-_S12_L001_R1_trimmomatic.fastq\n"
     ]
    }
   ],
   "source": [
    "%%bash\n",
    "cd ../chip_sexual_organised/k27ac/\n",
    "cd X1-H3K27ace-_S12_L001_R1_trimmomatic_fastqc\n",
    "less summary.txt"
   ]
  },
  {
   "cell_type": "code",
   "execution_count": 15,
   "metadata": {},
   "outputs": [
    {
     "name": "stdout",
     "output_type": "stream",
     "text": [
      ">>Overrepresented sequences\twarn\n",
      "#Sequence\tCount\tPercentage\tPossible Source\n",
      "NNNNNNNNNNNNNNNNNNNNNNNNNNNNNNNNNNN\t43664\t0.3354253888995583\tNo Hit\n",
      ">>END_MODULE\n",
      ">>Adapter Content\tpass\n"
     ]
    }
   ],
   "source": [
    "%%bash\n",
    "cd ../chip_sexual_organised/k27ac/\n",
    "cd X1-H3K27ace-_S12_L001_R1_trimmomatic_fastqc\n",
    "grep -A 4 \"Overrepresented\" fastqc_data.txt"
   ]
  },
  {
   "cell_type": "markdown",
   "metadata": {},
   "source": [
    "**X1-H3K27ace-_S12_L001_R2_trimmomatic**"
   ]
  },
  {
   "cell_type": "code",
   "execution_count": 20,
   "metadata": {},
   "outputs": [
    {
     "name": "stdout",
     "output_type": "stream",
     "text": [
      "PASS\tBasic Statistics\tX1-H3K27ace-_S12_L001_R2_trimmomatic.fastq\n",
      "PASS\tPer base sequence quality\tX1-H3K27ace-_S12_L001_R2_trimmomatic.fastq\n",
      "PASS\tPer tile sequence quality\tX1-H3K27ace-_S12_L001_R2_trimmomatic.fastq\n",
      "PASS\tPer sequence quality scores\tX1-H3K27ace-_S12_L001_R2_trimmomatic.fastq\n",
      "FAIL\tPer base sequence content\tX1-H3K27ace-_S12_L001_R2_trimmomatic.fastq\n",
      "PASS\tPer sequence GC content\tX1-H3K27ace-_S12_L001_R2_trimmomatic.fastq\n",
      "PASS\tPer base N content\tX1-H3K27ace-_S12_L001_R2_trimmomatic.fastq\n",
      "WARN\tSequence Length Distribution\tX1-H3K27ace-_S12_L001_R2_trimmomatic.fastq\n",
      "PASS\tSequence Duplication Levels\tX1-H3K27ace-_S12_L001_R2_trimmomatic.fastq\n",
      "WARN\tOverrepresented sequences\tX1-H3K27ace-_S12_L001_R2_trimmomatic.fastq\n",
      "PASS\tAdapter Content\tX1-H3K27ace-_S12_L001_R2_trimmomatic.fastq\n"
     ]
    }
   ],
   "source": [
    "%%bash\n",
    "cd ../chip_sexual_organised/k27ac/\n",
    "cd X1-H3K27ace-_S12_L001_R2_trimmomatic_fastqc\n",
    "less summary.txt"
   ]
  },
  {
   "cell_type": "code",
   "execution_count": 21,
   "metadata": {},
   "outputs": [
    {
     "name": "stdout",
     "output_type": "stream",
     "text": [
      ">>Overrepresented sequences\twarn\n",
      "#Sequence\tCount\tPercentage\tPossible Source\n",
      "NNNNNNNNNNNNNNNNNNNNNNNNNNNNNNNNNNN\t52310\t0.4018436719800269\tNo Hit\n",
      ">>END_MODULE\n",
      ">>Adapter Content\tpass\n"
     ]
    }
   ],
   "source": [
    "%%bash\n",
    "cd ../chip_sexual_organised/k27ac/\n",
    "cd X1-H3K27ace-_S12_L001_R2_trimmomatic_fastqc\n",
    "grep -A 4 \"Overrepresented\" fastqc_data.txt"
   ]
  },
  {
   "cell_type": "markdown",
   "metadata": {},
   "source": [
    "### 3.1.2 X1-H3K27ace-_S12_L002"
   ]
  },
  {
   "cell_type": "markdown",
   "metadata": {},
   "source": [
    "Trimming:"
   ]
  },
  {
   "cell_type": "code",
   "execution_count": 143,
   "metadata": {},
   "outputs": [],
   "source": [
    "#%%bash\n",
    "#cd ../chip_sexual_organised/k27ac/\n",
    "#java -jar ~/software/Trimmomatic-0.39/trimmomatic-0.39.jar PE X1-H3K27ace-_S12_L002_R1_001.fastq.gz X1-H3K27ace-_S12_L002_R2_001.fastq.gz X1-H3K27ace-_S12_L002_R1_trimmomatic.fastq X1-H3K27ace-_S12_L002_R1_untrimmomatic.fastq X1-H3K27ace-_S12_L002_R2_trimmomatic.fastq X1-H3K27ace-_S12_L002_R2_untrimmomatic.fastq ILLUMINACLIP:TrueSeq8.fa:2:30:10"
   ]
  },
  {
   "cell_type": "code",
   "execution_count": 146,
   "metadata": {},
   "outputs": [
    {
     "name": "stdout",
     "output_type": "stream",
     "text": [
      "13059617\n",
      "13059617\n"
     ]
    }
   ],
   "source": [
    "%%bash\n",
    "cd ../chip_sexual_organised/k27ac/\n",
    "grep -c \"@\" X1-H3K27ace-_S12_L002_R1_trimmomatic.fastq\n",
    "grep -c \"@\" X1-H3K27ace-_S12_L002_R2_trimmomatic.fastq"
   ]
  },
  {
   "cell_type": "markdown",
   "metadata": {},
   "source": [
    "Quality checking:"
   ]
  },
  {
   "cell_type": "code",
   "execution_count": 26,
   "metadata": {},
   "outputs": [],
   "source": [
    "#%%bash\n",
    "#cd ../chip_sexual_organised/k27ac/\n",
    "#fastqc X1-H3K27ace-_S12_L002_R1_trimmomatic.fastq X1-H3K27ace-_S12_L002_R2_trimmomatic.fastq"
   ]
  },
  {
   "cell_type": "markdown",
   "metadata": {},
   "source": [
    "**X1-H3K27ace-_S12_L002_R1_trimmomatic**"
   ]
  },
  {
   "cell_type": "code",
   "execution_count": 32,
   "metadata": {},
   "outputs": [
    {
     "name": "stdout",
     "output_type": "stream",
     "text": [
      "PASS\tBasic Statistics\tX1-H3K27ace-_S12_L002_R1_trimmomatic.fastq\n",
      "PASS\tPer base sequence quality\tX1-H3K27ace-_S12_L002_R1_trimmomatic.fastq\n",
      "PASS\tPer tile sequence quality\tX1-H3K27ace-_S12_L002_R1_trimmomatic.fastq\n",
      "PASS\tPer sequence quality scores\tX1-H3K27ace-_S12_L002_R1_trimmomatic.fastq\n",
      "FAIL\tPer base sequence content\tX1-H3K27ace-_S12_L002_R1_trimmomatic.fastq\n",
      "WARN\tPer sequence GC content\tX1-H3K27ace-_S12_L002_R1_trimmomatic.fastq\n",
      "PASS\tPer base N content\tX1-H3K27ace-_S12_L002_R1_trimmomatic.fastq\n",
      "WARN\tSequence Length Distribution\tX1-H3K27ace-_S12_L002_R1_trimmomatic.fastq\n",
      "PASS\tSequence Duplication Levels\tX1-H3K27ace-_S12_L002_R1_trimmomatic.fastq\n",
      "WARN\tOverrepresented sequences\tX1-H3K27ace-_S12_L002_R1_trimmomatic.fastq\n",
      "PASS\tAdapter Content\tX1-H3K27ace-_S12_L002_R1_trimmomatic.fastq\n"
     ]
    }
   ],
   "source": [
    "%%bash\n",
    "cd ../chip_sexual_organised/k27ac/\n",
    "cd X1-H3K27ace-_S12_L002_R1_trimmomatic_fastqc\n",
    "less summary.txt"
   ]
  },
  {
   "cell_type": "code",
   "execution_count": 33,
   "metadata": {},
   "outputs": [
    {
     "name": "stdout",
     "output_type": "stream",
     "text": [
      ">>Overrepresented sequences\twarn\n",
      "#Sequence\tCount\tPercentage\tPossible Source\n",
      "NNNNNNNNNNNNNNNNNNNNNNNNNNNNNNNNNNN\t42398\t0.3246496432475776\tNo Hit\n",
      ">>END_MODULE\n",
      ">>Adapter Content\tpass\n"
     ]
    }
   ],
   "source": [
    "%%bash\n",
    "cd ../chip_sexual_organised/k27ac/\n",
    "cd X1-H3K27ace-_S12_L002_R1_trimmomatic_fastqc\n",
    "grep -A 4 \"Overrepresented\" fastqc_data.txt"
   ]
  },
  {
   "cell_type": "markdown",
   "metadata": {},
   "source": [
    "**X1-H3K27ace-_S12_L002_R2_trimmomatic**"
   ]
  },
  {
   "cell_type": "code",
   "execution_count": 35,
   "metadata": {},
   "outputs": [
    {
     "name": "stdout",
     "output_type": "stream",
     "text": [
      "PASS\tBasic Statistics\tX1-H3K27ace-_S12_L002_R2_trimmomatic.fastq\n",
      "PASS\tPer base sequence quality\tX1-H3K27ace-_S12_L002_R2_trimmomatic.fastq\n",
      "PASS\tPer tile sequence quality\tX1-H3K27ace-_S12_L002_R2_trimmomatic.fastq\n",
      "PASS\tPer sequence quality scores\tX1-H3K27ace-_S12_L002_R2_trimmomatic.fastq\n",
      "FAIL\tPer base sequence content\tX1-H3K27ace-_S12_L002_R2_trimmomatic.fastq\n",
      "PASS\tPer sequence GC content\tX1-H3K27ace-_S12_L002_R2_trimmomatic.fastq\n",
      "PASS\tPer base N content\tX1-H3K27ace-_S12_L002_R2_trimmomatic.fastq\n",
      "WARN\tSequence Length Distribution\tX1-H3K27ace-_S12_L002_R2_trimmomatic.fastq\n",
      "PASS\tSequence Duplication Levels\tX1-H3K27ace-_S12_L002_R2_trimmomatic.fastq\n",
      "WARN\tOverrepresented sequences\tX1-H3K27ace-_S12_L002_R2_trimmomatic.fastq\n",
      "PASS\tAdapter Content\tX1-H3K27ace-_S12_L002_R2_trimmomatic.fastq\n"
     ]
    }
   ],
   "source": [
    "%%bash\n",
    "cd ../chip_sexual_organised/k27ac/\n",
    "cd X1-H3K27ace-_S12_L002_R2_trimmomatic_fastqc\n",
    "less summary.txt"
   ]
  },
  {
   "cell_type": "code",
   "execution_count": 36,
   "metadata": {},
   "outputs": [
    {
     "name": "stdout",
     "output_type": "stream",
     "text": [
      ">>Overrepresented sequences\twarn\n",
      "#Sequence\tCount\tPercentage\tPossible Source\n",
      "NNNNNNNNNNNNNNNNNNNNNNNNNNNNNNNNNNN\t50283\t0.38502660529784294\tNo Hit\n",
      ">>END_MODULE\n",
      ">>Adapter Content\tpass\n"
     ]
    }
   ],
   "source": [
    "%%bash\n",
    "cd ../chip_sexual_organised/k27ac/\n",
    "cd X1-H3K27ace-_S12_L002_R2_trimmomatic_fastqc\n",
    "grep -A 4 \"Overrepresented\" fastqc_data.txt"
   ]
  },
  {
   "cell_type": "markdown",
   "metadata": {},
   "source": [
    "### 3.1.3 X1-H3K27ace-_S12_L003"
   ]
  },
  {
   "cell_type": "markdown",
   "metadata": {},
   "source": [
    "Trimming:"
   ]
  },
  {
   "cell_type": "code",
   "execution_count": 148,
   "metadata": {},
   "outputs": [],
   "source": [
    "#%%bash\n",
    "#cd ../chip_sexual_organised/k27ac/\n",
    "#java -jar ~/software/Trimmomatic-0.39/trimmomatic-0.39.jar PE X1-H3K27ace-_S12_L003_R1_001.fastq.gz X1-H3K27ace-_S12_L003_R2_001.fastq.gz X1-H3K27ace-_S12_L003_R1_trimmomatic.fastq X1-H3K27ace-_S12_L003_R1_untrimmomatic.fastq X1-H3K27ace-_S12_L003_R2_trimmomatic.fastq X1-H3K27ace-_S12_L003_R2_untrimmomatic.fastq ILLUMINACLIP:TrueSeq8.fa:2:30:10"
   ]
  },
  {
   "cell_type": "code",
   "execution_count": 149,
   "metadata": {},
   "outputs": [
    {
     "name": "stdout",
     "output_type": "stream",
     "text": [
      "12875042\n",
      "12875042\n"
     ]
    }
   ],
   "source": [
    "%%bash\n",
    "cd ../chip_sexual_organised/k27ac/\n",
    "grep -c \"@\" X1-H3K27ace-_S12_L003_R1_trimmomatic.fastq\n",
    "grep -c \"@\" X1-H3K27ace-_S12_L003_R2_trimmomatic.fastq"
   ]
  },
  {
   "cell_type": "code",
   "execution_count": 39,
   "metadata": {},
   "outputs": [],
   "source": [
    "#%%bash\n",
    "#cd ../chip_sexual_organised/k27ac/\n",
    "#fastqc X1-H3K27ace-_S12_L003_R1_trimmomatic.fastq X1-H3K27ace-_S12_L003_R2_trimmomatic.fastq"
   ]
  },
  {
   "cell_type": "markdown",
   "metadata": {},
   "source": [
    "**X1-H3K27ace-_S12_L003_R1_trimmomatic**"
   ]
  },
  {
   "cell_type": "code",
   "execution_count": 42,
   "metadata": {},
   "outputs": [
    {
     "name": "stdout",
     "output_type": "stream",
     "text": [
      "PASS\tBasic Statistics\tX1-H3K27ace-_S12_L003_R1_trimmomatic.fastq\n",
      "PASS\tPer base sequence quality\tX1-H3K27ace-_S12_L003_R1_trimmomatic.fastq\n",
      "PASS\tPer tile sequence quality\tX1-H3K27ace-_S12_L003_R1_trimmomatic.fastq\n",
      "PASS\tPer sequence quality scores\tX1-H3K27ace-_S12_L003_R1_trimmomatic.fastq\n",
      "FAIL\tPer base sequence content\tX1-H3K27ace-_S12_L003_R1_trimmomatic.fastq\n",
      "WARN\tPer sequence GC content\tX1-H3K27ace-_S12_L003_R1_trimmomatic.fastq\n",
      "PASS\tPer base N content\tX1-H3K27ace-_S12_L003_R1_trimmomatic.fastq\n",
      "WARN\tSequence Length Distribution\tX1-H3K27ace-_S12_L003_R1_trimmomatic.fastq\n",
      "PASS\tSequence Duplication Levels\tX1-H3K27ace-_S12_L003_R1_trimmomatic.fastq\n",
      "WARN\tOverrepresented sequences\tX1-H3K27ace-_S12_L003_R1_trimmomatic.fastq\n",
      "PASS\tAdapter Content\tX1-H3K27ace-_S12_L003_R1_trimmomatic.fastq\n"
     ]
    }
   ],
   "source": [
    "%%bash\n",
    "cd ../chip_sexual_organised/k27ac/\n",
    "cd X1-H3K27ace-_S12_L003_R1_trimmomatic_fastqc\n",
    "less summary.txt"
   ]
  },
  {
   "cell_type": "code",
   "execution_count": 43,
   "metadata": {},
   "outputs": [
    {
     "name": "stdout",
     "output_type": "stream",
     "text": [
      ">>Overrepresented sequences\twarn\n",
      "#Sequence\tCount\tPercentage\tPossible Source\n",
      "NNNNNNNNNNNNNNNNNNNNNNNNNNNNNNNNNNN\t41787\t0.3245581645481234\tNo Hit\n",
      ">>END_MODULE\n",
      ">>Adapter Content\tpass\n"
     ]
    }
   ],
   "source": [
    "%%bash\n",
    "cd ../chip_sexual_organised/k27ac/\n",
    "cd X1-H3K27ace-_S12_L003_R1_trimmomatic_fastqc\n",
    "grep -A 4 \"Overrepresented\" fastqc_data.txt"
   ]
  },
  {
   "cell_type": "markdown",
   "metadata": {},
   "source": [
    "**X1-H3K27ace-_S12_L003_R2_trimmomatic**"
   ]
  },
  {
   "cell_type": "code",
   "execution_count": 46,
   "metadata": {},
   "outputs": [
    {
     "name": "stdout",
     "output_type": "stream",
     "text": [
      "PASS\tBasic Statistics\tX1-H3K27ace-_S12_L003_R2_trimmomatic.fastq\n",
      "PASS\tPer base sequence quality\tX1-H3K27ace-_S12_L003_R2_trimmomatic.fastq\n",
      "PASS\tPer tile sequence quality\tX1-H3K27ace-_S12_L003_R2_trimmomatic.fastq\n",
      "PASS\tPer sequence quality scores\tX1-H3K27ace-_S12_L003_R2_trimmomatic.fastq\n",
      "FAIL\tPer base sequence content\tX1-H3K27ace-_S12_L003_R2_trimmomatic.fastq\n",
      "PASS\tPer sequence GC content\tX1-H3K27ace-_S12_L003_R2_trimmomatic.fastq\n",
      "PASS\tPer base N content\tX1-H3K27ace-_S12_L003_R2_trimmomatic.fastq\n",
      "WARN\tSequence Length Distribution\tX1-H3K27ace-_S12_L003_R2_trimmomatic.fastq\n",
      "PASS\tSequence Duplication Levels\tX1-H3K27ace-_S12_L003_R2_trimmomatic.fastq\n",
      "WARN\tOverrepresented sequences\tX1-H3K27ace-_S12_L003_R2_trimmomatic.fastq\n",
      "PASS\tAdapter Content\tX1-H3K27ace-_S12_L003_R2_trimmomatic.fastq\n"
     ]
    }
   ],
   "source": [
    "%%bash\n",
    "cd ../chip_sexual_organised/k27ac/\n",
    "cd X1-H3K27ace-_S12_L003_R2_trimmomatic_fastqc\n",
    "less summary.txt"
   ]
  },
  {
   "cell_type": "code",
   "execution_count": 47,
   "metadata": {},
   "outputs": [
    {
     "name": "stdout",
     "output_type": "stream",
     "text": [
      ">>Overrepresented sequences\twarn\n",
      "#Sequence\tCount\tPercentage\tPossible Source\n",
      "NNNNNNNNNNNNNNNNNNNNNNNNNNNNNNNNNNN\t44850\t0.3483483782033488\tNo Hit\n",
      ">>END_MODULE\n",
      ">>Adapter Content\tpass\n"
     ]
    }
   ],
   "source": [
    "%%bash\n",
    "cd ../chip_sexual_organised/k27ac/\n",
    "cd X1-H3K27ace-_S12_L003_R2_trimmomatic_fastqc\n",
    "grep -A 4 \"Overrepresented\" fastqc_data.txt"
   ]
  },
  {
   "cell_type": "markdown",
   "metadata": {},
   "source": [
    "### 3.1.4 X1-H3K27ace-_S12_L004"
   ]
  },
  {
   "cell_type": "markdown",
   "metadata": {},
   "source": [
    "Trimming:"
   ]
  },
  {
   "cell_type": "code",
   "execution_count": 151,
   "metadata": {},
   "outputs": [],
   "source": [
    "#%%bash\n",
    "#cd ../chip_sexual_organised/k27ac/\n",
    "#java -jar ~/software/Trimmomatic-0.39/trimmomatic-0.39.jar PE X1-H3K27ace-_S12_L004_R1_001.fastq.gz X1-H3K27ace-_S12_L004_R2_001.fastq.gz X1-H3K27ace-_S12_L004_R1_trimmomatic.fastq X1-H3K27ace-_S12_L004_R1_untrimmomatic.fastq X1-H3K27ace-_S12_L004_R2_trimmomatic.fastq X1-H3K27ace-_S12_L004_R2_untrimmomatic.fastq ILLUMINACLIP:TrueSeq8.fa:2:30:10"
   ]
  },
  {
   "cell_type": "code",
   "execution_count": 152,
   "metadata": {},
   "outputs": [
    {
     "name": "stdout",
     "output_type": "stream",
     "text": [
      "13039325\n",
      "13039325\n"
     ]
    }
   ],
   "source": [
    "%%bash\n",
    "cd ../chip_sexual_organised/k27ac/\n",
    "grep -c \"@\" X1-H3K27ace-_S12_L004_R1_trimmomatic.fastq\n",
    "grep -c \"@\" X1-H3K27ace-_S12_L004_R2_trimmomatic.fastq"
   ]
  },
  {
   "cell_type": "code",
   "execution_count": 63,
   "metadata": {},
   "outputs": [],
   "source": [
    "#%%bash\n",
    "#cd ../chip_sexual_organised/k27ac/\n",
    "#fastqc X1-H3K27ace-_S12_L004_R1_trimmomatic.fastq X1-H3K27ace-_S12_L004_R2_trimmomatic.fastq"
   ]
  },
  {
   "cell_type": "markdown",
   "metadata": {},
   "source": [
    "**X1-H3K27ace-_S12_L004_R1_trimmomatic**"
   ]
  },
  {
   "cell_type": "code",
   "execution_count": 70,
   "metadata": {},
   "outputs": [
    {
     "name": "stdout",
     "output_type": "stream",
     "text": [
      "PASS\tBasic Statistics\tX1-H3K27ace-_S12_L004_R1_trimmomatic.fastq\n",
      "PASS\tPer base sequence quality\tX1-H3K27ace-_S12_L004_R1_trimmomatic.fastq\n",
      "PASS\tPer tile sequence quality\tX1-H3K27ace-_S12_L004_R1_trimmomatic.fastq\n",
      "PASS\tPer sequence quality scores\tX1-H3K27ace-_S12_L004_R1_trimmomatic.fastq\n",
      "FAIL\tPer base sequence content\tX1-H3K27ace-_S12_L004_R1_trimmomatic.fastq\n",
      "WARN\tPer sequence GC content\tX1-H3K27ace-_S12_L004_R1_trimmomatic.fastq\n",
      "PASS\tPer base N content\tX1-H3K27ace-_S12_L004_R1_trimmomatic.fastq\n",
      "WARN\tSequence Length Distribution\tX1-H3K27ace-_S12_L004_R1_trimmomatic.fastq\n",
      "PASS\tSequence Duplication Levels\tX1-H3K27ace-_S12_L004_R1_trimmomatic.fastq\n",
      "WARN\tOverrepresented sequences\tX1-H3K27ace-_S12_L004_R1_trimmomatic.fastq\n",
      "PASS\tAdapter Content\tX1-H3K27ace-_S12_L004_R1_trimmomatic.fastq\n"
     ]
    }
   ],
   "source": [
    "%%bash\n",
    "cd ../chip_sexual_organised/k27ac/\n",
    "cd X1-H3K27ace-_S12_L004_R1_trimmomatic_fastqc\n",
    "less summary.txt"
   ]
  },
  {
   "cell_type": "code",
   "execution_count": 73,
   "metadata": {},
   "outputs": [
    {
     "name": "stdout",
     "output_type": "stream",
     "text": [
      ">>Overrepresented sequences\twarn\n",
      "#Sequence\tCount\tPercentage\tPossible Source\n",
      "NNNNNNNNNNNNNNNNNNNNNNNNNNNNNNNNNNN\t40776\t0.31271557385064025\tNo Hit\n",
      ">>END_MODULE\n",
      ">>Adapter Content\tpass\n"
     ]
    }
   ],
   "source": [
    "%%bash\n",
    "cd ../chip_sexual_organised/k27ac/\n",
    "cd X1-H3K27ace-_S12_L004_R1_trimmomatic_fastqc\n",
    "grep -A 4 \"Overrepresented\" fastqc_data.txt"
   ]
  },
  {
   "cell_type": "markdown",
   "metadata": {},
   "source": [
    "**X1-H3K27ace-_S12_L004_R2_trimmomatic**"
   ]
  },
  {
   "cell_type": "code",
   "execution_count": 71,
   "metadata": {},
   "outputs": [
    {
     "name": "stdout",
     "output_type": "stream",
     "text": [
      "PASS\tBasic Statistics\tX1-H3K27ace-_S12_L004_R2_trimmomatic.fastq\n",
      "PASS\tPer base sequence quality\tX1-H3K27ace-_S12_L004_R2_trimmomatic.fastq\n",
      "PASS\tPer tile sequence quality\tX1-H3K27ace-_S12_L004_R2_trimmomatic.fastq\n",
      "PASS\tPer sequence quality scores\tX1-H3K27ace-_S12_L004_R2_trimmomatic.fastq\n",
      "FAIL\tPer base sequence content\tX1-H3K27ace-_S12_L004_R2_trimmomatic.fastq\n",
      "PASS\tPer sequence GC content\tX1-H3K27ace-_S12_L004_R2_trimmomatic.fastq\n",
      "PASS\tPer base N content\tX1-H3K27ace-_S12_L004_R2_trimmomatic.fastq\n",
      "WARN\tSequence Length Distribution\tX1-H3K27ace-_S12_L004_R2_trimmomatic.fastq\n",
      "PASS\tSequence Duplication Levels\tX1-H3K27ace-_S12_L004_R2_trimmomatic.fastq\n",
      "WARN\tOverrepresented sequences\tX1-H3K27ace-_S12_L004_R2_trimmomatic.fastq\n",
      "PASS\tAdapter Content\tX1-H3K27ace-_S12_L004_R2_trimmomatic.fastq\n"
     ]
    }
   ],
   "source": [
    "%%bash\n",
    "cd ../chip_sexual_organised/k27ac/\n",
    "cd X1-H3K27ace-_S12_L004_R2_trimmomatic_fastqc\n",
    "less summary.txt"
   ]
  },
  {
   "cell_type": "code",
   "execution_count": 75,
   "metadata": {},
   "outputs": [
    {
     "name": "stdout",
     "output_type": "stream",
     "text": [
      ">>Overrepresented sequences\twarn\n",
      "#Sequence\tCount\tPercentage\tPossible Source\n",
      "NNNNNNNNNNNNNNNNNNNNNNNNNNNNNNNNNNN\t44986\t0.34500252121946495\tNo Hit\n",
      ">>END_MODULE\n",
      ">>Adapter Content\tpass\n"
     ]
    }
   ],
   "source": [
    "%%bash\n",
    "cd ../chip_sexual_organised/k27ac/\n",
    "cd X1-H3K27ace-_S12_L004_R2_trimmomatic_fastqc\n",
    "grep -A 4 \"Overrepresented\" fastqc_data.txt"
   ]
  },
  {
   "cell_type": "markdown",
   "metadata": {},
   "source": [
    "### 3.1.5 X1-input-_S9_L001"
   ]
  },
  {
   "cell_type": "code",
   "execution_count": 56,
   "metadata": {},
   "outputs": [],
   "source": [
    "#%%bash\n",
    "#cd ../chip_sexual_organised/k27ac/\n",
    "#java -jar ~/software/Trimmomatic-0.39/trimmomatic-0.39.jar PE X1-input-_S9_L001_R1_001.fastq.gz X1-input-_S9_L001_R2_001.fastq.gz X1-input-_S9_L001_R1_trimmomatic.fastq X1-input-_S9_L001_R1_untrimmomatic.fastq X1-input-_S9_L001_R2_trimmomatic.fastq X1-input-_S9_L001_R2_untrimmomatic.fastq ILLUMINACLIP:TrueSeq7.fa:2:30:10"
   ]
  },
  {
   "cell_type": "code",
   "execution_count": 77,
   "metadata": {},
   "outputs": [],
   "source": [
    "#%%bash\n",
    "#cd ../chip_sexual_organised/k27ac/\n",
    "#fastqc X1-input-_S9_L001_R1_trimmomatic.fastq X1-input-_S9_L001_R2_trimmomatic.fastq"
   ]
  },
  {
   "cell_type": "markdown",
   "metadata": {},
   "source": [
    "**X1-input-_S9_L001_R1_trimmomatic**"
   ]
  },
  {
   "cell_type": "code",
   "execution_count": 80,
   "metadata": {},
   "outputs": [
    {
     "name": "stdout",
     "output_type": "stream",
     "text": [
      "PASS\tBasic Statistics\tX1-input-_S9_L001_R1_trimmomatic.fastq\n",
      "PASS\tPer base sequence quality\tX1-input-_S9_L001_R1_trimmomatic.fastq\n",
      "PASS\tPer tile sequence quality\tX1-input-_S9_L001_R1_trimmomatic.fastq\n",
      "PASS\tPer sequence quality scores\tX1-input-_S9_L001_R1_trimmomatic.fastq\n",
      "FAIL\tPer base sequence content\tX1-input-_S9_L001_R1_trimmomatic.fastq\n",
      "PASS\tPer sequence GC content\tX1-input-_S9_L001_R1_trimmomatic.fastq\n",
      "PASS\tPer base N content\tX1-input-_S9_L001_R1_trimmomatic.fastq\n",
      "WARN\tSequence Length Distribution\tX1-input-_S9_L001_R1_trimmomatic.fastq\n",
      "PASS\tSequence Duplication Levels\tX1-input-_S9_L001_R1_trimmomatic.fastq\n",
      "WARN\tOverrepresented sequences\tX1-input-_S9_L001_R1_trimmomatic.fastq\n",
      "PASS\tAdapter Content\tX1-input-_S9_L001_R1_trimmomatic.fastq\n"
     ]
    }
   ],
   "source": [
    "%%bash\n",
    "cd ../chip_sexual_organised/k27ac/\n",
    "cd X1-input-_S9_L001_R1_trimmomatic_fastqc\n",
    "less summary.txt"
   ]
  },
  {
   "cell_type": "code",
   "execution_count": 81,
   "metadata": {},
   "outputs": [
    {
     "name": "stdout",
     "output_type": "stream",
     "text": [
      ">>Overrepresented sequences\twarn\n",
      "#Sequence\tCount\tPercentage\tPossible Source\n",
      "NNNNNNNNNNNNNNNNNNNNNNNNNNNNNNNNNNN\t6022\t0.13517126144954678\tNo Hit\n",
      ">>END_MODULE\n",
      ">>Adapter Content\tpass\n"
     ]
    }
   ],
   "source": [
    "%%bash\n",
    "cd ../chip_sexual_organised/k27ac/\n",
    "cd X1-input-_S9_L001_R1_trimmomatic_fastqc\n",
    "grep -A 4 \"Overrepresented\" fastqc_data.txt"
   ]
  },
  {
   "cell_type": "markdown",
   "metadata": {},
   "source": [
    "**X1-input-_S9_L001_R2_trimmomatic**"
   ]
  },
  {
   "cell_type": "code",
   "execution_count": 85,
   "metadata": {},
   "outputs": [
    {
     "name": "stdout",
     "output_type": "stream",
     "text": [
      "PASS\tBasic Statistics\tX1-input-_S9_L001_R2_trimmomatic.fastq\n",
      "PASS\tPer base sequence quality\tX1-input-_S9_L001_R2_trimmomatic.fastq\n",
      "PASS\tPer tile sequence quality\tX1-input-_S9_L001_R2_trimmomatic.fastq\n",
      "PASS\tPer sequence quality scores\tX1-input-_S9_L001_R2_trimmomatic.fastq\n",
      "FAIL\tPer base sequence content\tX1-input-_S9_L001_R2_trimmomatic.fastq\n",
      "PASS\tPer sequence GC content\tX1-input-_S9_L001_R2_trimmomatic.fastq\n",
      "PASS\tPer base N content\tX1-input-_S9_L001_R2_trimmomatic.fastq\n",
      "WARN\tSequence Length Distribution\tX1-input-_S9_L001_R2_trimmomatic.fastq\n",
      "PASS\tSequence Duplication Levels\tX1-input-_S9_L001_R2_trimmomatic.fastq\n",
      "WARN\tOverrepresented sequences\tX1-input-_S9_L001_R2_trimmomatic.fastq\n",
      "PASS\tAdapter Content\tX1-input-_S9_L001_R2_trimmomatic.fastq\n"
     ]
    }
   ],
   "source": [
    "%%bash\n",
    "cd ../chip_sexual_organised/k27ac/\n",
    "cd X1-input-_S9_L001_R2_trimmomatic_fastqc\n",
    "less summary.txt"
   ]
  },
  {
   "cell_type": "code",
   "execution_count": 86,
   "metadata": {},
   "outputs": [
    {
     "name": "stdout",
     "output_type": "stream",
     "text": [
      ">>Overrepresented sequences\twarn\n",
      "#Sequence\tCount\tPercentage\tPossible Source\n",
      "NNNNNNNNNNNNNNNNNNNNNNNNNNNNNNNNNNN\t6022\t0.13517126144954678\tNo Hit\n",
      ">>END_MODULE\n",
      ">>Adapter Content\tpass\n"
     ]
    }
   ],
   "source": [
    "%%bash\n",
    "cd ../chip_sexual_organised/k27ac/\n",
    "cd X1-input-_S9_L001_R1_trimmomatic_fastqc\n",
    "grep -A 4 \"Overrepresented\" fastqc_data.txt"
   ]
  },
  {
   "cell_type": "markdown",
   "metadata": {},
   "source": [
    "### 3.1.6 X1-input-_S9_L002"
   ]
  },
  {
   "cell_type": "code",
   "execution_count": 57,
   "metadata": {},
   "outputs": [],
   "source": [
    "#%%bash\n",
    "#cd ../chip_sexual_organised/k27ac/\n",
    "#java -jar ~/software/Trimmomatic-0.39/trimmomatic-0.39.jar PE X1-input-_S9_L002_R1_001.fastq.gz X1-input-_S9_L002_R2_001.fastq.gz X1-input-_S9_L002_R1_trimmomatic.fastq X1-input-_S9_L002_R1_untrimmomatic.fastq X1-input-_S9_L002_R2_trimmomatic.fastq X1-input-_S9_L002_R2_untrimmomatic.fastq ILLUMINACLIP:TrueSeq7.fa:2:30:10"
   ]
  },
  {
   "cell_type": "code",
   "execution_count": 88,
   "metadata": {},
   "outputs": [],
   "source": [
    "#%%bash\n",
    "#cd ../chip_sexual_organised/k27ac/\n",
    "#fastqc X1-input-_S9_L002_R1_trimmomatic.fastq X1-input-_S9_L002_R2_trimmomatic.fastq"
   ]
  },
  {
   "cell_type": "code",
   "execution_count": 91,
   "metadata": {},
   "outputs": [
    {
     "name": "stdout",
     "output_type": "stream",
     "text": [
      "PASS\tBasic Statistics\tX1-input-_S9_L002_R1_trimmomatic.fastq\n",
      "PASS\tPer base sequence quality\tX1-input-_S9_L002_R1_trimmomatic.fastq\n",
      "PASS\tPer tile sequence quality\tX1-input-_S9_L002_R1_trimmomatic.fastq\n",
      "PASS\tPer sequence quality scores\tX1-input-_S9_L002_R1_trimmomatic.fastq\n",
      "FAIL\tPer base sequence content\tX1-input-_S9_L002_R1_trimmomatic.fastq\n",
      "PASS\tPer sequence GC content\tX1-input-_S9_L002_R1_trimmomatic.fastq\n",
      "PASS\tPer base N content\tX1-input-_S9_L002_R1_trimmomatic.fastq\n",
      "WARN\tSequence Length Distribution\tX1-input-_S9_L002_R1_trimmomatic.fastq\n",
      "PASS\tSequence Duplication Levels\tX1-input-_S9_L002_R1_trimmomatic.fastq\n",
      "WARN\tOverrepresented sequences\tX1-input-_S9_L002_R1_trimmomatic.fastq\n",
      "PASS\tAdapter Content\tX1-input-_S9_L002_R1_trimmomatic.fastq\n"
     ]
    }
   ],
   "source": [
    "%%bash\n",
    "cd ../chip_sexual_organised/k27ac/\n",
    "cd X1-input-_S9_L002_R1_trimmomatic_fastqc\n",
    "less summary.txt"
   ]
  },
  {
   "cell_type": "code",
   "execution_count": 92,
   "metadata": {},
   "outputs": [
    {
     "name": "stdout",
     "output_type": "stream",
     "text": [
      ">>Overrepresented sequences\twarn\n",
      "#Sequence\tCount\tPercentage\tPossible Source\n",
      "NNNNNNNNNNNNNNNNNNNNNNNNNNNNNNNNNNN\t6143\t0.13758235792376286\tNo Hit\n",
      ">>END_MODULE\n",
      ">>Adapter Content\tpass\n"
     ]
    }
   ],
   "source": [
    "%%bash\n",
    "cd ../chip_sexual_organised/k27ac/\n",
    "cd X1-input-_S9_L002_R1_trimmomatic_fastqc\n",
    "grep -A 4 \"Overrepresented\" fastqc_data.txt"
   ]
  },
  {
   "cell_type": "markdown",
   "metadata": {},
   "source": [
    "### 3.1.7  X1-input-_S9_L003"
   ]
  },
  {
   "cell_type": "code",
   "execution_count": 59,
   "metadata": {},
   "outputs": [],
   "source": [
    "#%%bash\n",
    "#cd ../chip_sexual_organised/k27ac/\n",
    "#java -jar ~/software/Trimmomatic-0.39/trimmomatic-0.39.jar PE X1-input-_S9_L003_R1_001.fastq.gz X1-input-_S9_L003_R2_001.fastq.gz X1-input-_S9_L003_R1_trimmomatic.fastq X1-input-_S9_L003_R1_untrimmomatic.fastq X1-input-_S9_L003_R2_trimmomatic.fastq X1-input-_S9_L003_R2_untrimmomatic.fastq ILLUMINACLIP:TrueSeq7.fa:2:30:10"
   ]
  },
  {
   "cell_type": "code",
   "execution_count": 94,
   "metadata": {},
   "outputs": [],
   "source": [
    "#%%bash\n",
    "#cd ../chip_sexual_organised/k27ac/\n",
    "#fastqc X1-input-_S9_L003_R1_trimmomatic.fastq X1-input-_S9_L003_R2_trimmomatic.fastq"
   ]
  },
  {
   "cell_type": "code",
   "execution_count": 97,
   "metadata": {},
   "outputs": [
    {
     "name": "stdout",
     "output_type": "stream",
     "text": [
      "PASS\tBasic Statistics\tX1-input-_S9_L003_R1_trimmomatic.fastq\n",
      "PASS\tPer base sequence quality\tX1-input-_S9_L003_R1_trimmomatic.fastq\n",
      "PASS\tPer tile sequence quality\tX1-input-_S9_L003_R1_trimmomatic.fastq\n",
      "PASS\tPer sequence quality scores\tX1-input-_S9_L003_R1_trimmomatic.fastq\n",
      "FAIL\tPer base sequence content\tX1-input-_S9_L003_R1_trimmomatic.fastq\n",
      "PASS\tPer sequence GC content\tX1-input-_S9_L003_R1_trimmomatic.fastq\n",
      "PASS\tPer base N content\tX1-input-_S9_L003_R1_trimmomatic.fastq\n",
      "WARN\tSequence Length Distribution\tX1-input-_S9_L003_R1_trimmomatic.fastq\n",
      "PASS\tSequence Duplication Levels\tX1-input-_S9_L003_R1_trimmomatic.fastq\n",
      "WARN\tOverrepresented sequences\tX1-input-_S9_L003_R1_trimmomatic.fastq\n",
      "PASS\tAdapter Content\tX1-input-_S9_L003_R1_trimmomatic.fastq\n"
     ]
    }
   ],
   "source": [
    "%%bash\n",
    "cd ../chip_sexual_organised/k27ac/\n",
    "cd X1-input-_S9_L003_R1_trimmomatic_fastqc\n",
    "less summary.txt"
   ]
  },
  {
   "cell_type": "code",
   "execution_count": 98,
   "metadata": {},
   "outputs": [
    {
     "name": "stdout",
     "output_type": "stream",
     "text": [
      ">>Overrepresented sequences\twarn\n",
      "#Sequence\tCount\tPercentage\tPossible Source\n",
      "NNNNNNNNNNNNNNNNNNNNNNNNNNNNNNNNNNN\t5648\t0.12850048938483122\tNo Hit\n",
      ">>END_MODULE\n",
      ">>Adapter Content\tpass\n"
     ]
    }
   ],
   "source": [
    "%%bash\n",
    "cd ../chip_sexual_organised/k27ac/\n",
    "cd X1-input-_S9_L003_R1_trimmomatic_fastqc\n",
    "grep -A 4 \"Overrepresented\" fastqc_data.txt"
   ]
  },
  {
   "cell_type": "code",
   "execution_count": 102,
   "metadata": {},
   "outputs": [
    {
     "name": "stdout",
     "output_type": "stream",
     "text": [
      "PASS\tBasic Statistics\tX1-input-_S9_L003_R2_trimmomatic.fastq\n",
      "PASS\tPer base sequence quality\tX1-input-_S9_L003_R2_trimmomatic.fastq\n",
      "PASS\tPer tile sequence quality\tX1-input-_S9_L003_R2_trimmomatic.fastq\n",
      "PASS\tPer sequence quality scores\tX1-input-_S9_L003_R2_trimmomatic.fastq\n",
      "FAIL\tPer base sequence content\tX1-input-_S9_L003_R2_trimmomatic.fastq\n",
      "PASS\tPer sequence GC content\tX1-input-_S9_L003_R2_trimmomatic.fastq\n",
      "PASS\tPer base N content\tX1-input-_S9_L003_R2_trimmomatic.fastq\n",
      "WARN\tSequence Length Distribution\tX1-input-_S9_L003_R2_trimmomatic.fastq\n",
      "PASS\tSequence Duplication Levels\tX1-input-_S9_L003_R2_trimmomatic.fastq\n",
      "WARN\tOverrepresented sequences\tX1-input-_S9_L003_R2_trimmomatic.fastq\n",
      "PASS\tAdapter Content\tX1-input-_S9_L003_R2_trimmomatic.fastq\n"
     ]
    }
   ],
   "source": [
    "%%bash\n",
    "cd ../chip_sexual_organised/k27ac/\n",
    "cd X1-input-_S9_L003_R2_trimmomatic_fastqc\n",
    "less summary.txt"
   ]
  },
  {
   "cell_type": "code",
   "execution_count": 103,
   "metadata": {},
   "outputs": [
    {
     "name": "stdout",
     "output_type": "stream",
     "text": [
      ">>Overrepresented sequences\twarn\n",
      "#Sequence\tCount\tPercentage\tPossible Source\n",
      "NNNNNNNNNNNNNNNNNNNNNNNNNNNNNNNNNNN\t7346\t0.16713254161136157\tNo Hit\n",
      ">>END_MODULE\n",
      ">>Adapter Content\tpass\n"
     ]
    }
   ],
   "source": [
    "%%bash\n",
    "cd ../chip_sexual_organised/k27ac/\n",
    "cd X1-input-_S9_L003_R2_trimmomatic_fastqc\n",
    "grep -A 4 \"Overrepresented\" fastqc_data.txt"
   ]
  },
  {
   "cell_type": "markdown",
   "metadata": {},
   "source": [
    "### 3.1.8 X1-input-_S9_L004"
   ]
  },
  {
   "cell_type": "code",
   "execution_count": 61,
   "metadata": {},
   "outputs": [],
   "source": [
    "#%%bash\n",
    "#cd ../chip_sexual_organised/k27ac/\n",
    "#java -jar ~/software/Trimmomatic-0.39/trimmomatic-0.39.jar PE X1-input-_S9_L004_R1_001.fastq.gz X1-input-_S9_L004_R2_001.fastq.gz X1-input-_S9_L004_R1_trimmomatic.fastq X1-input-_S9_L004_R1_untrimmomatic.fastq X1-input-_S9_L004_R2_trimmomatic.fastq X1-input-_S9_L004_R2_untrimmomatic.fastq ILLUMINACLIP:TrueSeq7.fa:2:30:10"
   ]
  },
  {
   "cell_type": "code",
   "execution_count": 105,
   "metadata": {},
   "outputs": [],
   "source": [
    "#%%bash\n",
    "#cd ../chip_sexual_organised/k27ac/\n",
    "#fastqc X1-input-_S9_L004_R1_trimmomatic.fastq X1-input-_S9_L004_R2_trimmomatic.fastq"
   ]
  },
  {
   "cell_type": "code",
   "execution_count": 109,
   "metadata": {},
   "outputs": [
    {
     "name": "stdout",
     "output_type": "stream",
     "text": [
      "PASS\tBasic Statistics\tX1-input-_S9_L004_R1_trimmomatic.fastq\n",
      "PASS\tPer base sequence quality\tX1-input-_S9_L004_R1_trimmomatic.fastq\n",
      "PASS\tPer tile sequence quality\tX1-input-_S9_L004_R1_trimmomatic.fastq\n",
      "PASS\tPer sequence quality scores\tX1-input-_S9_L004_R1_trimmomatic.fastq\n",
      "FAIL\tPer base sequence content\tX1-input-_S9_L004_R1_trimmomatic.fastq\n",
      "PASS\tPer sequence GC content\tX1-input-_S9_L004_R1_trimmomatic.fastq\n",
      "PASS\tPer base N content\tX1-input-_S9_L004_R1_trimmomatic.fastq\n",
      "WARN\tSequence Length Distribution\tX1-input-_S9_L004_R1_trimmomatic.fastq\n",
      "PASS\tSequence Duplication Levels\tX1-input-_S9_L004_R1_trimmomatic.fastq\n",
      "WARN\tOverrepresented sequences\tX1-input-_S9_L004_R1_trimmomatic.fastq\n",
      "PASS\tAdapter Content\tX1-input-_S9_L004_R1_trimmomatic.fastq\n"
     ]
    }
   ],
   "source": [
    "%%bash\n",
    "cd ../chip_sexual_organised/k27ac/\n",
    "cd X1-input-_S9_L004_R1_trimmomatic_fastqc\n",
    "less summary.txt"
   ]
  },
  {
   "cell_type": "code",
   "execution_count": 110,
   "metadata": {},
   "outputs": [
    {
     "name": "stdout",
     "output_type": "stream",
     "text": [
      ">>Overrepresented sequences\twarn\n",
      "#Sequence\tCount\tPercentage\tPossible Source\n",
      "NNNNNNNNNNNNNNNNNNNNNNNNNNNNNNNNNNN\t5680\t0.12754855715185867\tNo Hit\n",
      ">>END_MODULE\n",
      ">>Adapter Content\tpass\n"
     ]
    }
   ],
   "source": [
    "%%bash\n",
    "cd ../chip_sexual_organised/k27ac/\n",
    "cd X1-input-_S9_L004_R1_trimmomatic_fastqc\n",
    "grep -A 4 \"Overrepresented\" fastqc_data.txt"
   ]
  },
  {
   "cell_type": "code",
   "execution_count": 113,
   "metadata": {},
   "outputs": [
    {
     "name": "stdout",
     "output_type": "stream",
     "text": [
      "PASS\tBasic Statistics\tX1-input-_S9_L004_R2_trimmomatic.fastq\n",
      "PASS\tPer base sequence quality\tX1-input-_S9_L004_R2_trimmomatic.fastq\n",
      "PASS\tPer tile sequence quality\tX1-input-_S9_L004_R2_trimmomatic.fastq\n",
      "PASS\tPer sequence quality scores\tX1-input-_S9_L004_R2_trimmomatic.fastq\n",
      "FAIL\tPer base sequence content\tX1-input-_S9_L004_R2_trimmomatic.fastq\n",
      "PASS\tPer sequence GC content\tX1-input-_S9_L004_R2_trimmomatic.fastq\n",
      "PASS\tPer base N content\tX1-input-_S9_L004_R2_trimmomatic.fastq\n",
      "WARN\tSequence Length Distribution\tX1-input-_S9_L004_R2_trimmomatic.fastq\n",
      "PASS\tSequence Duplication Levels\tX1-input-_S9_L004_R2_trimmomatic.fastq\n",
      "WARN\tOverrepresented sequences\tX1-input-_S9_L004_R2_trimmomatic.fastq\n",
      "PASS\tAdapter Content\tX1-input-_S9_L004_R2_trimmomatic.fastq\n"
     ]
    }
   ],
   "source": [
    "%%bash\n",
    "cd ../chip_sexual_organised/k27ac/\n",
    "cd X1-input-_S9_L004_R2_trimmomatic_fastqc\n",
    "less summary.txt"
   ]
  },
  {
   "cell_type": "code",
   "execution_count": 114,
   "metadata": {},
   "outputs": [
    {
     "name": "stdout",
     "output_type": "stream",
     "text": [
      ">>Overrepresented sequences\twarn\n",
      "#Sequence\tCount\tPercentage\tPossible Source\n",
      "NNNNNNNNNNNNNNNNNNNNNNNNNNNNNNNNNNN\t7692\t0.1727294897204396\tNo Hit\n",
      ">>END_MODULE\n",
      ">>Adapter Content\tpass\n"
     ]
    }
   ],
   "source": [
    "%%bash\n",
    "cd ../chip_sexual_organised/k27ac/\n",
    "cd X1-input-_S9_L004_R2_trimmomatic_fastqc\n",
    "grep -A 4 \"Overrepresented\" fastqc_data.txt"
   ]
  },
  {
   "cell_type": "markdown",
   "metadata": {},
   "source": [
    "## 3.2 H3K4me1"
   ]
  },
  {
   "cell_type": "markdown",
   "metadata": {},
   "source": [
    "**H3K4me1**\n",
    "\n",
    "rep1: GATCGGAAGAGCACACGTCTGAACTCCAGTCACCGATGT\t1231626\t3.940509670298028\tTruSeq Adapter, Index 2\n",
    "\n",
    "rep2: GATCGGAAGAGCACACGTCTGAACTCCAGTCACTAGCTT\t1316788\t4.335010476645132\tTruSeq Adapter, Index 10 (100% over 39bp)\n",
    "\n",
    "rep1 input: GATCGGAAGAGCACACGTCTGAACTCCAGTCACACTTGA 1534234 4.698910117127738 TruSeq Adapter, Index 8 (100% over 39bp)\n",
    "\n",
    "rep2 input:\n",
    "\n",
    "GATCGGAAGAGCACACGTCTGAACTCCAGTCACTGACCA 918344 3.4431290053092054 TruSeq Adapter, Index 4 (100% over 39bp)\n",
    "\n",
    "CATCGGAAGAGCACACGTCTGAACTCCAGTCACTGACCA 103628 0.38853041187418047 TruSeq Adapter, Index 4 (97% over 39bp)"
   ]
  },
  {
   "cell_type": "code",
   "execution_count": 121,
   "metadata": {},
   "outputs": [
    {
     "name": "stdout",
     "output_type": "stream",
     "text": [
      ">TrueSeq2\n",
      "GATCGGAAGAGCACACGTCTGAACTCCAGTCACCGATGT\n",
      ">TrueSeq10\n",
      "GATCGGAAGAGCACACGTCTGAACTCCAGTCACTAGCTT\n",
      ">TrueSeq8\n",
      "GATCGGAAGAGCACACGTCTGAACTCCAGTCACACTTGA\n",
      ">TrueSeq4\n",
      "GATCGGAAGAGCACACGTCTGAACTCCAGTCACTGACCA\n"
     ]
    }
   ],
   "source": [
    "%%bash\n",
    "cd ../chip_sexual_organised/k4me1/\n",
    "echo \">TrueSeq2\" > TrueSeqk4me1.fa\n",
    "echo \"GATCGGAAGAGCACACGTCTGAACTCCAGTCACCGATGT\" >> TrueSeqk4me1.fa\n",
    "echo \">TrueSeq10\" >> TrueSeqk4me1.fa\n",
    "echo \"GATCGGAAGAGCACACGTCTGAACTCCAGTCACTAGCTT\" >> TrueSeqk4me1.fa\n",
    "echo \">TrueSeq8\" >> TrueSeqk4me1.fa\n",
    "echo \"GATCGGAAGAGCACACGTCTGAACTCCAGTCACACTTGA\" >> TrueSeqk4me1.fa\n",
    "echo \">TrueSeq4\" >> TrueSeqk4me1.fa\n",
    "echo \"GATCGGAAGAGCACACGTCTGAACTCCAGTCACTGACCA\" >> TrueSeqk4me1.fa\n",
    "less TrueSeqk4me1.fa"
   ]
  },
  {
   "cell_type": "markdown",
   "metadata": {},
   "source": [
    "### 3.2.1 h3k4me1_rep1"
   ]
  },
  {
   "cell_type": "code",
   "execution_count": 125,
   "metadata": {},
   "outputs": [],
   "source": [
    "#%%bash\n",
    "#cd ../chip_sexual_organised/k4me1/\n",
    "#java -jar ~/software/Trimmomatic-0.39/trimmomatic-0.39.jar PE h3k4me1_rep1_R1.fastq.gz h3k4me1_rep1_R2.fastq.gz h3k4me1_rep1_R1_trimmomatic.fastq h3k4me1_rep1_R1_untrimmomatic.fastq h3k4me1_rep1_R2_trimmomatic.fastq h3k4me1_rep1_R2_untrimmomatic.fastq ILLUMINACLIP:TrueSeqk4me1.fa:2:30:10"
   ]
  },
  {
   "cell_type": "code",
   "execution_count": 127,
   "metadata": {},
   "outputs": [],
   "source": [
    "#%%bash\n",
    "#cd ../chip_sexual_organised/k4me1/\n",
    "#fastqc h3k4me1_rep1_R1_trimmomatic.fastq h3k4me1_rep1_R2_trimmomatic.fastq"
   ]
  },
  {
   "cell_type": "code",
   "execution_count": 130,
   "metadata": {},
   "outputs": [
    {
     "name": "stdout",
     "output_type": "stream",
     "text": [
      "PASS\tBasic Statistics\th3k4me1_rep1_R1_trimmomatic.fastq\n",
      "PASS\tPer base sequence quality\th3k4me1_rep1_R1_trimmomatic.fastq\n",
      "PASS\tPer sequence quality scores\th3k4me1_rep1_R1_trimmomatic.fastq\n",
      "FAIL\tPer base sequence content\th3k4me1_rep1_R1_trimmomatic.fastq\n",
      "PASS\tPer sequence GC content\th3k4me1_rep1_R1_trimmomatic.fastq\n",
      "PASS\tPer base N content\th3k4me1_rep1_R1_trimmomatic.fastq\n",
      "WARN\tSequence Length Distribution\th3k4me1_rep1_R1_trimmomatic.fastq\n",
      "PASS\tSequence Duplication Levels\th3k4me1_rep1_R1_trimmomatic.fastq\n",
      "PASS\tOverrepresented sequences\th3k4me1_rep1_R1_trimmomatic.fastq\n",
      "PASS\tAdapter Content\th3k4me1_rep1_R1_trimmomatic.fastq\n"
     ]
    }
   ],
   "source": [
    "%%bash\n",
    "cd ../chip_sexual_organised/k4me1/\n",
    "cd h3k4me1_rep1_R1_trimmomatic_fastqc\n",
    "less summary.txt"
   ]
  },
  {
   "cell_type": "code",
   "execution_count": 133,
   "metadata": {},
   "outputs": [
    {
     "name": "stdout",
     "output_type": "stream",
     "text": [
      "PASS\tBasic Statistics\th3k4me1_rep1_R2_trimmomatic.fastq\n",
      "PASS\tPer base sequence quality\th3k4me1_rep1_R2_trimmomatic.fastq\n",
      "PASS\tPer sequence quality scores\th3k4me1_rep1_R2_trimmomatic.fastq\n",
      "FAIL\tPer base sequence content\th3k4me1_rep1_R2_trimmomatic.fastq\n",
      "PASS\tPer sequence GC content\th3k4me1_rep1_R2_trimmomatic.fastq\n",
      "PASS\tPer base N content\th3k4me1_rep1_R2_trimmomatic.fastq\n",
      "WARN\tSequence Length Distribution\th3k4me1_rep1_R2_trimmomatic.fastq\n",
      "PASS\tSequence Duplication Levels\th3k4me1_rep1_R2_trimmomatic.fastq\n",
      "PASS\tOverrepresented sequences\th3k4me1_rep1_R2_trimmomatic.fastq\n",
      "PASS\tAdapter Content\th3k4me1_rep1_R2_trimmomatic.fastq\n"
     ]
    }
   ],
   "source": [
    "%%bash\n",
    "cd ../chip_sexual_organised/k4me1/\n",
    "cd h3k4me1_rep1_R2_trimmomatic_fastqc\n",
    "less summary.txt"
   ]
  },
  {
   "cell_type": "markdown",
   "metadata": {},
   "source": [
    "### 3.2.2 h3k4me1_rep2"
   ]
  },
  {
   "cell_type": "code",
   "execution_count": 137,
   "metadata": {},
   "outputs": [],
   "source": [
    "#%%bash\n",
    "#cd ../chip_sexual_organised/k4me1/\n",
    "#java -jar ~/software/Trimmomatic-0.39/trimmomatic-0.39.jar PE h3k4me1_rep2_R1.fastq.gz h3k4me1_rep2_R2.fastq.gz h3k4me1_rep2_R1_trimmomatic.fastq h3k4me1_rep2_R1_untrimmomatic.fastq h3k4me1_rep2_R2_trimmomatic.fastq h3k4me1_rep2_R2_untrimmomatic.fastq ILLUMINACLIP:TrueSeqk4me1.fa:2:30:10"
   ]
  },
  {
   "cell_type": "code",
   "execution_count": 139,
   "metadata": {},
   "outputs": [],
   "source": [
    "#%%bash\n",
    "#cd ../chip_sexual_organised/k4me1/\n",
    "#fastqc h3k4me1_rep2_R1_trimmomatic.fastq h3k4me1_rep2_R2_trimmomatic.fastq"
   ]
  },
  {
   "cell_type": "code",
   "execution_count": 142,
   "metadata": {},
   "outputs": [
    {
     "name": "stdout",
     "output_type": "stream",
     "text": [
      "PASS\tBasic Statistics\th3k4me1_rep2_R1_trimmomatic.fastq\n",
      "PASS\tPer base sequence quality\th3k4me1_rep2_R1_trimmomatic.fastq\n",
      "PASS\tPer sequence quality scores\th3k4me1_rep2_R1_trimmomatic.fastq\n",
      "FAIL\tPer base sequence content\th3k4me1_rep2_R1_trimmomatic.fastq\n",
      "PASS\tPer sequence GC content\th3k4me1_rep2_R1_trimmomatic.fastq\n",
      "PASS\tPer base N content\th3k4me1_rep2_R1_trimmomatic.fastq\n",
      "WARN\tSequence Length Distribution\th3k4me1_rep2_R1_trimmomatic.fastq\n",
      "PASS\tSequence Duplication Levels\th3k4me1_rep2_R1_trimmomatic.fastq\n",
      "PASS\tOverrepresented sequences\th3k4me1_rep2_R1_trimmomatic.fastq\n",
      "PASS\tAdapter Content\th3k4me1_rep2_R1_trimmomatic.fastq\n"
     ]
    }
   ],
   "source": [
    "%%bash\n",
    "cd ../chip_sexual_organised/k4me1/\n",
    "cd h3k4me1_rep2_R1_trimmomatic_fastqc\n",
    "less summary.txt"
   ]
  },
  {
   "cell_type": "code",
   "execution_count": 147,
   "metadata": {},
   "outputs": [
    {
     "name": "stdout",
     "output_type": "stream",
     "text": [
      "PASS\tBasic Statistics\th3k4me1_rep2_R2_trimmomatic.fastq\n",
      "PASS\tPer base sequence quality\th3k4me1_rep2_R2_trimmomatic.fastq\n",
      "PASS\tPer sequence quality scores\th3k4me1_rep2_R2_trimmomatic.fastq\n",
      "FAIL\tPer base sequence content\th3k4me1_rep2_R2_trimmomatic.fastq\n",
      "PASS\tPer sequence GC content\th3k4me1_rep2_R2_trimmomatic.fastq\n",
      "PASS\tPer base N content\th3k4me1_rep2_R2_trimmomatic.fastq\n",
      "WARN\tSequence Length Distribution\th3k4me1_rep2_R2_trimmomatic.fastq\n",
      "PASS\tSequence Duplication Levels\th3k4me1_rep2_R2_trimmomatic.fastq\n",
      "PASS\tOverrepresented sequences\th3k4me1_rep2_R2_trimmomatic.fastq\n",
      "PASS\tAdapter Content\th3k4me1_rep2_R2_trimmomatic.fastq\n"
     ]
    }
   ],
   "source": [
    "%%bash\n",
    "cd ../chip_sexual_organised/k4me1/\n",
    "cd h3k4me1_rep2_R2_trimmomatic_fastqc\n",
    "less summary.txt"
   ]
  },
  {
   "cell_type": "markdown",
   "metadata": {},
   "source": [
    "### 3.2.3 input_rep1"
   ]
  },
  {
   "cell_type": "code",
   "execution_count": 149,
   "metadata": {},
   "outputs": [],
   "source": [
    "#%%bash\n",
    "#cd ../chip_sexual_organised/k4me1/\n",
    "#java -jar ~/software/Trimmomatic-0.39/trimmomatic-0.39.jar PE input_rep1_R1.fastq.gz input_rep1_R2.fastq.gz input_rep1_R1_trimmomatic.fastq input_rep1_R1_untrimmomatic.fastq input_rep1_R2_trimmomatic.fastq input_rep1_R2_untrimmomatic.fastq ILLUMINACLIP:TrueSeqk4me1.fa:2:30:10"
   ]
  },
  {
   "cell_type": "code",
   "execution_count": 151,
   "metadata": {},
   "outputs": [],
   "source": [
    "#%%bash\n",
    "#cd ../chip_sexual_organised/k4me1/\n",
    "#fastqc input_rep1_R1_trimmomatic.fastq input_rep1_R2_trimmomatic.fastq"
   ]
  },
  {
   "cell_type": "code",
   "execution_count": 154,
   "metadata": {},
   "outputs": [
    {
     "name": "stdout",
     "output_type": "stream",
     "text": [
      "PASS\tBasic Statistics\tinput_rep1_R1_trimmomatic.fastq\n",
      "PASS\tPer base sequence quality\tinput_rep1_R1_trimmomatic.fastq\n",
      "PASS\tPer sequence quality scores\tinput_rep1_R1_trimmomatic.fastq\n",
      "FAIL\tPer base sequence content\tinput_rep1_R1_trimmomatic.fastq\n",
      "PASS\tPer sequence GC content\tinput_rep1_R1_trimmomatic.fastq\n",
      "PASS\tPer base N content\tinput_rep1_R1_trimmomatic.fastq\n",
      "WARN\tSequence Length Distribution\tinput_rep1_R1_trimmomatic.fastq\n",
      "PASS\tSequence Duplication Levels\tinput_rep1_R1_trimmomatic.fastq\n",
      "PASS\tOverrepresented sequences\tinput_rep1_R1_trimmomatic.fastq\n",
      "PASS\tAdapter Content\tinput_rep1_R1_trimmomatic.fastq\n"
     ]
    }
   ],
   "source": [
    "%%bash\n",
    "cd ../chip_sexual_organised/k4me1/\n",
    "cd input_rep1_R1_trimmomatic_fastqc\n",
    "less summary.txt"
   ]
  },
  {
   "cell_type": "code",
   "execution_count": 158,
   "metadata": {},
   "outputs": [
    {
     "name": "stdout",
     "output_type": "stream",
     "text": [
      "PASS\tBasic Statistics\tinput_rep1_R2_trimmomatic.fastq\n",
      "PASS\tPer base sequence quality\tinput_rep1_R2_trimmomatic.fastq\n",
      "PASS\tPer sequence quality scores\tinput_rep1_R2_trimmomatic.fastq\n",
      "FAIL\tPer base sequence content\tinput_rep1_R2_trimmomatic.fastq\n",
      "PASS\tPer sequence GC content\tinput_rep1_R2_trimmomatic.fastq\n",
      "PASS\tPer base N content\tinput_rep1_R2_trimmomatic.fastq\n",
      "WARN\tSequence Length Distribution\tinput_rep1_R2_trimmomatic.fastq\n",
      "PASS\tSequence Duplication Levels\tinput_rep1_R2_trimmomatic.fastq\n",
      "PASS\tOverrepresented sequences\tinput_rep1_R2_trimmomatic.fastq\n",
      "PASS\tAdapter Content\tinput_rep1_R2_trimmomatic.fastq\n"
     ]
    }
   ],
   "source": [
    "%%bash\n",
    "cd ../chip_sexual_organised/k4me1/\n",
    "cd input_rep1_R2_trimmomatic_fastqc\n",
    "less summary.txt"
   ]
  },
  {
   "cell_type": "markdown",
   "metadata": {},
   "source": [
    "### 3.2.4 input_rep2"
   ]
  },
  {
   "cell_type": "code",
   "execution_count": 161,
   "metadata": {},
   "outputs": [],
   "source": [
    "#%%bash\n",
    "#cd ../chip_sexual_organised/k4me1/\n",
    "#java -jar ~/software/Trimmomatic-0.39/trimmomatic-0.39.jar PE input_rep2.R1.fastq.gz input_rep2.R2.fastq.gz input_rep2_R1_trimmomatic.fastq input_rep2_R1_untrimmomatic.fastq input_rep2_R2_trimmomatic.fastq input_rep2_R2_untrimmomatic.fastq ILLUMINACLIP:TrueSeqk4me1.fa:2:30:10"
   ]
  },
  {
   "cell_type": "code",
   "execution_count": 163,
   "metadata": {},
   "outputs": [],
   "source": [
    "#%%bash\n",
    "#cd ../chip_sexual_organised/k4me1/\n",
    "#fastqc input_rep2_R1_trimmomatic.fastq input_rep2_R2_trimmomatic.fastq"
   ]
  },
  {
   "cell_type": "code",
   "execution_count": 166,
   "metadata": {},
   "outputs": [
    {
     "name": "stdout",
     "output_type": "stream",
     "text": [
      "PASS\tBasic Statistics\tinput_rep2_R1_trimmomatic.fastq\n",
      "PASS\tPer base sequence quality\tinput_rep2_R1_trimmomatic.fastq\n",
      "PASS\tPer sequence quality scores\tinput_rep2_R1_trimmomatic.fastq\n",
      "FAIL\tPer base sequence content\tinput_rep2_R1_trimmomatic.fastq\n",
      "PASS\tPer sequence GC content\tinput_rep2_R1_trimmomatic.fastq\n",
      "PASS\tPer base N content\tinput_rep2_R1_trimmomatic.fastq\n",
      "WARN\tSequence Length Distribution\tinput_rep2_R1_trimmomatic.fastq\n",
      "PASS\tSequence Duplication Levels\tinput_rep2_R1_trimmomatic.fastq\n",
      "PASS\tOverrepresented sequences\tinput_rep2_R1_trimmomatic.fastq\n",
      "PASS\tAdapter Content\tinput_rep2_R1_trimmomatic.fastq\n"
     ]
    }
   ],
   "source": [
    "%%bash\n",
    "cd ../chip_sexual_organised/k4me1/\n",
    "cd input_rep2_R1_trimmomatic_fastqc\n",
    "less summary.txt"
   ]
  },
  {
   "cell_type": "code",
   "execution_count": 14,
   "metadata": {},
   "outputs": [
    {
     "name": "stderr",
     "output_type": "stream",
     "text": [
      "summary.txt: No such file or directory\n"
     ]
    }
   ],
   "source": [
    "%%bash\n",
    "cd /hydra/chip_neiro/k4me1/\n",
    "cd input_rep2_R2_trimmomatic_fastqc\n",
    "less summary.txt"
   ]
  },
  {
   "cell_type": "markdown",
   "metadata": {},
   "source": [
    "# 4. Alignment"
   ]
  },
  {
   "cell_type": "markdown",
   "metadata": {},
   "source": [
    "## 4.1 H3K27ac"
   ]
  },
  {
   "cell_type": "markdown",
   "metadata": {},
   "source": [
    "Rep1 was aligned with bowtie2:"
   ]
  },
  {
   "cell_type": "code",
   "execution_count": 1,
   "metadata": {},
   "outputs": [
    {
     "name": "stdout",
     "output_type": "stream",
     "text": [
      "#!/bin/bash\n",
      "bowtie2 -x ~/sexual_genome_annotation_files/sexual_genome_annotation/final_dd_Smed_g4 -1 X1-H3K27ace-_S12_L001_R1_trimmomatic.fastq -2 X1-H3K27ace-_S12_L001_R2_trimmomatic.fastq -p 12 -S X1-H3K27ace-_S12_L001_final.sam\n",
      "bowtie2 -x ~/sexual_genome_annotation_files/sexual_genome_annotation/final_dd_Smed_g4 -1 X1-H3K27ace-_S12_L002_R1_trimmomatic.fastq -2 X1-H3K27ace-_S12_L002_R2_trimmomatic.fastq -p 12 -S X1-H3K27ace-_S12_L002_final.sam\n",
      "bowtie2 -x ~/sexual_genome_annotation_files/sexual_genome_annotation/final_dd_Smed_g4 -1 X1-H3K27ace-_S12_L003_R1_trimmomatic.fastq -2 X1-H3K27ace-_S12_L003_R2_trimmomatic.fastq -p 12 -S X1-H3K27ace-_S12_L003_final.sam\n",
      "bowtie2 -x ~/sexual_genome_annotation_files/sexual_genome_annotation/final_dd_Smed_g4 -1 X1-H3K27ace-_S12_L004_R1_trimmomatic.fastq -2 X1-H3K27ace-_S12_L004_R2_trimmomatic.fastq -p 12 -S X1-H3K27ace-_S12_L004_final.sam\n",
      "bowtie2 -x ~/sexual_genome_annotation_files/sexual_genome_annotation/final_dd_Smed_g4 -1 X1-input-_S9_L001_R1_trimmomatic.fastq -2 X1-input-_S9_L001_R2_trimmomatic.fastq -p 12 -S X1-input-_S9_L001_final.sam\n",
      "bowtie2 -x ~/sexual_genome_annotation_files/sexual_genome_annotation/final_dd_Smed_g4 -1 X1-input-_S9_L002_R1_trimmomatic.fastq -2 X1-input-_S9_L002_R2_trimmomatic.fastq -p 12 -S X1-input-_S9_L002_final.sam\n",
      "bowtie2 -x ~/sexual_genome_annotation_files/sexual_genome_annotation/final_dd_Smed_g4 -1 X1-input-_S9_L003_R1_trimmomatic.fastq -2 X1-input-_S9_L003_R2_trimmomatic.fastq -p 12 -S X1-input-_S9_L003_final.sam\n",
      "bowtie2 -x ~/sexual_genome_annotation_files/sexual_genome_annotation/final_dd_Smed_g4 -1 X1-input-_S9_L004_R1_trimmomatic.fastq -2 X1-input-_S9_L004_R2_trimmomatic.fastq -p 12 -S X1-input-_S9_L004_final.sam\n"
     ]
    }
   ],
   "source": [
    "%%bash\n",
    "cd ../chip_sexual_organised/k27ac\n",
    "echo \"#!/bin/bash\" > k27ac_final_rep1_bwt.sh\n",
    "echo \"bowtie2 -x ~/sexual_genome_annotation_files/sexual_genome_annotation/final_dd_Smed_g4 -1 X1-H3K27ace-_S12_L001_R1_trimmomatic.fastq -2 X1-H3K27ace-_S12_L001_R2_trimmomatic.fastq -p 12 -S X1-H3K27ace-_S12_L001_final.sam\" >> k27ac_final_rep1_bwt.sh\n",
    "echo \"bowtie2 -x ~/sexual_genome_annotation_files/sexual_genome_annotation/final_dd_Smed_g4 -1 X1-H3K27ace-_S12_L002_R1_trimmomatic.fastq -2 X1-H3K27ace-_S12_L002_R2_trimmomatic.fastq -p 12 -S X1-H3K27ace-_S12_L002_final.sam\" >> k27ac_final_rep1_bwt.sh\n",
    "echo \"bowtie2 -x ~/sexual_genome_annotation_files/sexual_genome_annotation/final_dd_Smed_g4 -1 X1-H3K27ace-_S12_L003_R1_trimmomatic.fastq -2 X1-H3K27ace-_S12_L003_R2_trimmomatic.fastq -p 12 -S X1-H3K27ace-_S12_L003_final.sam\" >> k27ac_final_rep1_bwt.sh\n",
    "echo \"bowtie2 -x ~/sexual_genome_annotation_files/sexual_genome_annotation/final_dd_Smed_g4 -1 X1-H3K27ace-_S12_L004_R1_trimmomatic.fastq -2 X1-H3K27ace-_S12_L004_R2_trimmomatic.fastq -p 12 -S X1-H3K27ace-_S12_L004_final.sam\" >> k27ac_final_rep1_bwt.sh\n",
    "\n",
    "echo \"bowtie2 -x ~/sexual_genome_annotation_files/sexual_genome_annotation/final_dd_Smed_g4 -1 X1-input-_S9_L001_R1_trimmomatic.fastq -2 X1-input-_S9_L001_R2_trimmomatic.fastq -p 12 -S X1-input-_S9_L001_final.sam\" >> k27ac_final_rep1_bwt.sh\n",
    "echo \"bowtie2 -x ~/sexual_genome_annotation_files/sexual_genome_annotation/final_dd_Smed_g4 -1 X1-input-_S9_L002_R1_trimmomatic.fastq -2 X1-input-_S9_L002_R2_trimmomatic.fastq -p 12 -S X1-input-_S9_L002_final.sam\" >> k27ac_final_rep1_bwt.sh\n",
    "echo \"bowtie2 -x ~/sexual_genome_annotation_files/sexual_genome_annotation/final_dd_Smed_g4 -1 X1-input-_S9_L003_R1_trimmomatic.fastq -2 X1-input-_S9_L003_R2_trimmomatic.fastq -p 12 -S X1-input-_S9_L003_final.sam\" >> k27ac_final_rep1_bwt.sh\n",
    "echo \"bowtie2 -x ~/sexual_genome_annotation_files/sexual_genome_annotation/final_dd_Smed_g4 -1 X1-input-_S9_L004_R1_trimmomatic.fastq -2 X1-input-_S9_L004_R2_trimmomatic.fastq -p 12 -S X1-input-_S9_L004_final.sam\" >> k27ac_final_rep1_bwt.sh\n",
    "chmod +x k27ac_final_rep1_bwt.sh\n",
    "less k27ac_final_rep1_bwt.sh"
   ]
  },
  {
   "cell_type": "code",
   "execution_count": 118,
   "metadata": {},
   "outputs": [],
   "source": [
    "#%%bash\n",
    "#cd ../chip_sexual_organised/k27ac\n",
    "#nohup ./k27ac_final_rep1_bwt.sh > nohup_btwfinal.out 2>&1  </dev/null &"
   ]
  },
  {
   "cell_type": "markdown",
   "metadata": {},
   "source": [
    "Rep2 and rep3 were aligned "
   ]
  },
  {
   "cell_type": "code",
   "execution_count": 2,
   "metadata": {},
   "outputs": [
    {
     "name": "stdout",
     "output_type": "stream",
     "text": [
      "#!/bin/bash\n",
      "bowtie2 -x ~/sexual_genome_annotation_files/sexual_genome_annotation/final_dd_Smed_g4 -1 x1_h3k27ac_rep2.R1.fastq.gz -2 x1_h3k27ac_rep2.R2.fastq.gz -p 12 -S x1_h3k27ac_rep2_final.sam\n",
      "bowtie2 -x ~/sexual_genome_annotation_files/sexual_genome_annotation/final_dd_Smed_g4 -1 x1_input_rep2.R1.fastq.gz -2 x1_input_rep2.R2.fastq.gz -p 12 -S x1_input_rep2_final.sam\n",
      "bowtie2 -x ~/sexual_genome_annotation_files/sexual_genome_annotation/final_dd_Smed_g4 -1 x1_h3k27ac_rep3.R1.fastq.gz -2 x1_h3k27ac_rep3.R2.fastq.gz -p 12 -S x1_h3k27ac_rep3_final.sam\n",
      "bowtie2 -x ~/sexual_genome_annotation_files/sexual_genome_annotation/final_dd_Smed_g4 -1 x1_input_rep3_R1.fastq.gz -2 x1_input_rep3_R2.fastq.gz -p 12 -S x1_input_rep3_final.sam\n"
     ]
    }
   ],
   "source": [
    "%%bash\n",
    "cd ../chip_sexual_organised/k27ac\n",
    "echo \"#!/bin/bash\" > k27ac_final_bwt.sh\n",
    "echo \"bowtie2 -x ~/sexual_genome_annotation_files/sexual_genome_annotation/final_dd_Smed_g4 -1 x1_h3k27ac_rep2.R1.fastq.gz -2 x1_h3k27ac_rep2.R2.fastq.gz -p 12 -S x1_h3k27ac_rep2_final.sam\" >> k27ac_final_bwt.sh\n",
    "echo \"bowtie2 -x ~/sexual_genome_annotation_files/sexual_genome_annotation/final_dd_Smed_g4 -1 x1_input_rep2.R1.fastq.gz -2 x1_input_rep2.R2.fastq.gz -p 12 -S x1_input_rep2_final.sam\" >> k27ac_final_bwt.sh\n",
    "echo \"bowtie2 -x ~/sexual_genome_annotation_files/sexual_genome_annotation/final_dd_Smed_g4 -1 x1_h3k27ac_rep3.R1.fastq.gz -2 x1_h3k27ac_rep3.R2.fastq.gz -p 12 -S x1_h3k27ac_rep3_final.sam\" >> k27ac_final_bwt.sh\n",
    "echo \"bowtie2 -x ~/sexual_genome_annotation_files/sexual_genome_annotation/final_dd_Smed_g4 -1 x1_input_rep3_R1.fastq.gz -2 x1_input_rep3_R2.fastq.gz -p 12 -S x1_input_rep3_final.sam\" >> k27ac_final_bwt.sh\n",
    "chmod +x k27ac_final_bwt.sh\n",
    "less k27ac_final_bwt.sh"
   ]
  },
  {
   "cell_type": "code",
   "execution_count": null,
   "metadata": {},
   "outputs": [],
   "source": [
    "#%%bash\n",
    "#cd ../chip_sexual_organised/k27ac\n",
    "#nohup ./k27ac_final_bwt.sh > nohup_btwfinal.out 2>&1  </dev/null &"
   ]
  },
  {
   "cell_type": "markdown",
   "metadata": {},
   "source": [
    "## 4.2 H3K4me1"
   ]
  },
  {
   "cell_type": "code",
   "execution_count": 173,
   "metadata": {},
   "outputs": [
    {
     "name": "stdout",
     "output_type": "stream",
     "text": [
      "#!/bin/bash\n",
      "bowtie2 -x ~/sexual_genome_annotation_files/sexual_genome_annotation/final_dd_Smed_g4 -1 h3k4me1_rep1_R1_trimmomatic.fastq -2 h3k4me1_rep1_R2_trimmomatic.fastq -p 12 -S h3k4me1_rep1_final.sam\n",
      "bowtie2 -x ~/sexual_genome_annotation_files/sexual_genome_annotation/final_dd_Smed_g4 -1 input_rep1_R1_trimmomatic.fastq -2 input_rep1_R2_trimmomatic.fastq -p 12 -S input_rep1_final.sam\n",
      "bowtie2 -x ~/sexual_genome_annotation_files/sexual_genome_annotation/final_dd_Smed_g4 -1 h3k4me1_rep2_R1_trimmomatic.fastq -2 h3k4me1_rep2_R2_trimmomatic.fastq -p 12 -S h3k4me1_rep2_final.sam\n",
      "bowtie2 -x ~/sexual_genome_annotation_files/sexual_genome_annotation/final_dd_Smed_g4 -1 input_rep2_R1_trimmomatic.fastq -2 input_rep2_R2_trimmomatic.fastq -p 12 -S input_rep2_final.sam\n"
     ]
    }
   ],
   "source": [
    "%%bash\n",
    "cd ../chip_sexual_organised/k4me1\n",
    "echo \"#!/bin/bash\" > k4me1_final_bwt.sh\n",
    "echo \"bowtie2 -x ~/sexual_genome_annotation_files/sexual_genome_annotation/final_dd_Smed_g4 -1 h3k4me1_rep1_R1_trimmomatic.fastq -2 h3k4me1_rep1_R2_trimmomatic.fastq -p 12 -S h3k4me1_rep1_final.sam\" >> k4me1_final_bwt.sh\n",
    "echo \"bowtie2 -x ~/sexual_genome_annotation_files/sexual_genome_annotation/final_dd_Smed_g4 -1 input_rep1_R1_trimmomatic.fastq -2 input_rep1_R2_trimmomatic.fastq -p 12 -S input_rep1_final.sam\" >> k4me1_final_bwt.sh\n",
    "echo \"bowtie2 -x ~/sexual_genome_annotation_files/sexual_genome_annotation/final_dd_Smed_g4 -1 h3k4me1_rep2_R1_trimmomatic.fastq -2 h3k4me1_rep2_R2_trimmomatic.fastq -p 12 -S h3k4me1_rep2_final.sam\" >> k4me1_final_bwt.sh\n",
    "echo \"bowtie2 -x ~/sexual_genome_annotation_files/sexual_genome_annotation/final_dd_Smed_g4 -1 input_rep2_R1_trimmomatic.fastq -2 input_rep2_R2_trimmomatic.fastq -p 12 -S input_rep2_final.sam\" >> k4me1_final_bwt.sh\n",
    "chmod +x k4me1_final_bwt.sh\n",
    "less k4me1_final_bwt.sh"
   ]
  },
  {
   "cell_type": "code",
   "execution_count": null,
   "metadata": {},
   "outputs": [],
   "source": [
    "#%%bash\n",
    "#cd ../chip_sexual_organised/k4me1\n",
    "#nohup ./k4me1_final_bwt.sh > nohup_btwfinal.out 2>&1  </dev/null &"
   ]
  },
  {
   "cell_type": "markdown",
   "metadata": {},
   "source": [
    "# FINNISHED"
   ]
  }
 ],
 "metadata": {
  "kernelspec": {
   "display_name": "Python 3 (ipykernel)",
   "language": "python",
   "name": "python3"
  },
  "language_info": {
   "codemirror_mode": {
    "name": "ipython",
    "version": 3
   },
   "file_extension": ".py",
   "mimetype": "text/x-python",
   "name": "python",
   "nbconvert_exporter": "python",
   "pygments_lexer": "ipython3",
   "version": "3.8.12"
  }
 },
 "nbformat": 4,
 "nbformat_minor": 2
}
