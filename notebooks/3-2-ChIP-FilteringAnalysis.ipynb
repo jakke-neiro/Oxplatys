{
 "cells": [
  {
   "cell_type": "markdown",
   "metadata": {},
   "source": [
    "# 3-2-ChIP-Analysis\n",
    "Jakke Neiro$^1$\n",
    "1. Aboobaker laboratory, Department of Zoology, University of Oxford"
   ]
  },
  {
   "cell_type": "markdown",
   "metadata": {},
   "source": [
    "## Contents of notebook\n",
    "* 1. Introduction\n",
    "* 2. Filtering\n",
    "    * 2.1 H3K27ac\n",
    "        * 2.1.1 Filtering\n",
    "        * 2.1.2 Read retainment\n",
    "    * 2.2 H3K4me1\n",
    "        * 2.2.1 Filtering\n",
    "        * 2.2.2 Read retainment\n",
    "* 3. Quality metrics\n",
    "    * 3.1 Fingerprint plots\n",
    "        * 3.1.1 H3K27ac\n",
    "        * 3.2.2 H3K4me1\n",
    "    * 3.2 SSP\n",
    "        * 3.2.1 H3K27ac\n",
    "        * 3.2.2 H3K4me1\n",
    "* 4. Coverage\n",
    "    * 4.1 H3K27ac\n",
    "    * 4.2 H3K4me1\n",
    "* 5. Peak calling\n",
    "    * 5.1 H3K27ac\n",
    "    * 5.2 H3K4me1"
   ]
  },
  {
   "cell_type": "markdown",
   "metadata": {},
   "source": [
    "## Files\n",
    "* Input:  X1-H3K27ace-_S12_L001_final.sam, X1-H3K27ace-_S12_L002_final.sam, X1-H3K27ace-_S12_L003_final.sam, X1-H3K27ace-_S12_L004_final.sam, X1-input-_S9_L001_final.sam, X1-input-_S9_L002_final.sam, X1-input-_S9_L003_final.sam, X1-input-_S9_L004_final.sam, x1_h3k27ac_rep2_final.sam, x1_h3k27ac_rep3_final.sam, x1_input_rep2_final.sam, x1_input_rep3_final.sam, h3k4me1_rep1_final.sam, h3k4me1_rep2_final.sam, input_rep1_final.sam, input_rep2_final.sam\n",
    "* Output: X1-H3K27ac-meanlog2.bw, h3k4me1meanlog2.bw, k27ac_pooled_april21_summits.bed, k4me1_summits.bed"
   ]
  },
  {
   "cell_type": "markdown",
   "metadata": {},
   "source": [
    "# 1. Introduction"
   ]
  },
  {
   "cell_type": "markdown",
   "metadata": {},
   "source": [
    "The H3K27ac and H3K4me1 ChIP-seq alignment files were filtered, quality metrics calculated, coverage files generated and peaks called.  "
   ]
  },
  {
   "cell_type": "markdown",
   "metadata": {},
   "source": [
    "# 2. Filtering reads"
   ]
  },
  {
   "cell_type": "markdown",
   "metadata": {},
   "source": [
    "## 2.1 K27ac"
   ]
  },
  {
   "cell_type": "markdown",
   "metadata": {},
   "source": [
    "### 2.1.1 Filtering"
   ]
  },
  {
   "cell_type": "markdown",
   "metadata": {},
   "source": [
    "Sam files had been generated successfully:"
   ]
  },
  {
   "cell_type": "markdown",
   "metadata": {},
   "source": [
    "The sam files were converted to bam files:"
   ]
  },
  {
   "cell_type": "code",
   "execution_count": 1,
   "metadata": {},
   "outputs": [
    {
     "name": "stdout",
     "output_type": "stream",
     "text": [
      "#!/bin/bash\n",
      "#samtools view -b -S X1-H3K27ace-_S12_L001_final.sam > X1-H3K27ace-_S12_L001_final.bam\n",
      "samtools view -b -S X1-H3K27ace-_S12_L002_final.sam > X1-H3K27ace-_S12_L002_final.bam\n",
      "samtools view -b -S X1-H3K27ace-_S12_L003_final.sam > X1-H3K27ace-_S12_L003_final.bam\n",
      "samtools view -b -S X1-H3K27ace-_S12_L004_final.sam > X1-H3K27ace-_S12_L004_final.bam\n",
      "samtools view -b -S X1-input-_S9_L001_final.sam > X1-input-_S9_L001_final.bam\n",
      "samtools view -b -S X1-input-_S9_L002_final.sam > X1-input-_S9_L002_final.bam\n",
      "samtools view -b -S X1-input-_S9_L003_final.sam > X1-input-_S9_L003_final.bam\n",
      "samtools view -b -S X1-input-_S9_L004_final.sam > X1-input-_S9_L004_final.bam\n"
     ]
    }
   ],
   "source": [
    "%%bash\n",
    "cd /hydra/chip_neiro/k27ac\n",
    "less rep1_sam2bam.sh"
   ]
  },
  {
   "cell_type": "code",
   "execution_count": 2,
   "metadata": {},
   "outputs": [
    {
     "name": "stdout",
     "output_type": "stream",
     "text": [
      "#!/bin/bash\n",
      "\n",
      "samtools view -b -S x1_h3k27ac_rep2_final.sam > x1_h3k27ac_rep2_final.bam\n",
      "samtools view -b -S x1_h3k27ac_rep3_final.sam > x1_h3k27ac_rep3_final.bam\n",
      "samtools view -b -S x1_input_rep2_final.sam > x1_input_rep2_final.bam\n",
      "samtools view -b -S x1_input_rep3_final.sam > x1_input_rep3_final.bam\n"
     ]
    }
   ],
   "source": [
    "%%bash\n",
    "cd /hydra/chip_neiro/k27ac\n",
    "less rep23_sam2bam.sh"
   ]
  },
  {
   "cell_type": "code",
   "execution_count": 24,
   "metadata": {},
   "outputs": [],
   "source": [
    "#%%bash\n",
    "#cd ../../../../../data/ngs/smed/facs_rnaseq_datasets/sexual/chip_neiro/k27ac\n",
    "#nohup ./rep23_sam2bam.sh &\n",
    "#nohup ./rep1_sam2bam.sh &"
   ]
  },
  {
   "cell_type": "markdown",
   "metadata": {},
   "source": [
    "The sam files were quality filtered and duplicates removed:"
   ]
  },
  {
   "cell_type": "code",
   "execution_count": 1,
   "metadata": {},
   "outputs": [
    {
     "name": "stdout",
     "output_type": "stream",
     "text": [
      "#!/bin/bash\n",
      "\n",
      "samtools view -q 10 -b X1-H3K27ace-_S12_L001_final.bam > X1-H3K27ace-L001.uniq.bam\n",
      "samtools view -q 10 -b X1-H3K27ace-_S12_L002_final.bam > X1-H3K27ace-L002.uniq.bam\n",
      "samtools view -q 10 -b X1-H3K27ace-_S12_L003_final.bam > X1-H3K27ace-L003.uniq.bam\n",
      "samtools view -q 10 -b X1-H3K27ace-_S12_L004_final.bam > X1-H3K27ace-L004.uniq.bam\n",
      "samtools view -q 10 -b x1_h3k27ac_rep2_final.bam > x1_h3k27ac_rep2.uniq.bam\n",
      "samtools view -q 10 -b x1_h3k27ac_rep3_final.bam > x1_h3k27ac_rep3.uniq.bam\n",
      "samtools view -q 10 -b x1_input_rep2_final.bam > x1_input_rep2.uniq.bam\n",
      "samtools view -q 10 -b x1_input_rep3_final.bam > x1_input_rep3.uniq.bam \n",
      "samtools view -q 10 -b X1-input-_S9_L001_final.bam > X1-input-L001.uniq.bam\n",
      "samtools view -q 10 -b X1-input-_S9_L002_final.bam > X1-input-L002.uniq.bam\n",
      "samtools view -q 10 -b X1-input-_S9_L003_final.bam > X1-input-L003.uniq.bam\n",
      "samtools view -q 10 -b X1-input-_S9_L004_final.bam > X1-input-L004.uniq.bam\n",
      "\n",
      "samtools sort X1-H3K27ace-L001.uniq.bam -o X1-H3K27ace-L001.uniq.sorted.bam \n",
      "samtools sort X1-H3K27ace-L002.uniq.bam -o X1-H3K27ace-L002.uniq.sorted.bam \n",
      "samtools sort X1-H3K27ace-L003.uniq.bam -o X1-H3K27ace-L003.uniq.sorted.bam \n",
      "samtools sort X1-H3K27ace-L004.uniq.bam -o X1-H3K27ace-L004.uniq.sorted.bam \n",
      "samtools sort x1_h3k27ac_rep2.uniq.bam -o x1_h3k27ac_rep2.uniq.sorted.bam \n",
      "samtools sort x1_h3k27ac_rep3.uniq.bam -o x1_h3k27ac_rep3.uniq.sorted.bam \n",
      "samtools sort x1_input_rep2.uniq.bam -o x1_input_rep2.uniq.sorted.bam \n",
      "samtools sort x1_input_rep3.uniq.bam -o x1_input_rep3.uniq.sorted.bam\n",
      "samtools sort X1-input-L001.uniq.bam -o X1-input-L001.uniq.sorted.bam \n",
      "samtools sort X1-input-L002.uniq.bam -o X1-input-L002.uniq.sorted.bam\n",
      "samtools sort X1-input-L003.uniq.bam -o X1-input-L003.uniq.sorted.bam\n",
      "samtools sort X1-input-L004.uniq.bam -o X1-input-L004.uniq.sorted.bam\n"
     ]
    }
   ],
   "source": [
    "%%bash\n",
    "cd /hydra/chip_neiro/k27ac\n",
    "less samq.sh"
   ]
  },
  {
   "cell_type": "code",
   "execution_count": null,
   "metadata": {},
   "outputs": [],
   "source": [
    "#%%bash\n",
    "#cd ../../../../../data/ngs/smed/facs_rnaseq_datasets/sexual/chip_neiro/k27ac\n",
    "#nohup ./samq.sh &"
   ]
  },
  {
   "cell_type": "code",
   "execution_count": 6,
   "metadata": {},
   "outputs": [
    {
     "name": "stdout",
     "output_type": "stream",
     "text": [
      "#!/bin/bash\n",
      "\n",
      "samtools rmdup X1-H3K27ace-L001.uniq.sorted.bam X1-H3K27ace-L001.uniq.sorted.rmdup.bam \n",
      "samtools rmdup X1-H3K27ace-L002.uniq.sorted.bam X1-H3K27ace-L002.uniq.sorted.rmdup.bam\n",
      "samtools rmdup X1-H3K27ace-L003.uniq.sorted.bam X1-H3K27ace-L003.uniq.sorted.rmdup.bam \n",
      "samtools rmdup X1-H3K27ace-L004.uniq.sorted.bam X1-H3K27ace-L004.uniq.sorted.rmdup.bam\n",
      "\n",
      "samtools rmdup x1_h3k27ac_rep2.uniq.sorted.bam x1_h3k27ac_rep2.uniq.sorted.rmdup.bam \n",
      "samtools rmdup x1_h3k27ac_rep3.uniq.sorted.bam x1_h3k27ac_rep3.uniq.sorted.rmdup.bam \n",
      "samtools rmdup x1_input_rep2.uniq.sorted.bam x1_input_rep2.uniq.sorted.rmdup.bam\n",
      "samtools rmdup x1_input_rep3.uniq.sorted.bam x1_input_rep3.uniq.sorted.rmdup.bam\n",
      "\n",
      "samtools rmdup X1-input-L001.uniq.sorted.bam X1-input-L001.uniq.sorted.rmdup.bam \n",
      "samtools rmdup X1-input-L002.uniq.sorted.bam X1-input-L002.uniq.sorted.rmdup.bam\n",
      "samtools rmdup X1-input-L003.uniq.sorted.bam X1-input-L003.uniq.sorted.rmdup.bam\n",
      "samtools rmdup X1-input-L004.uniq.sorted.bam X1-input-L004.uniq.sorted.rmdup.bam\n"
     ]
    }
   ],
   "source": [
    "%%bash\n",
    "cd /hydra/chip_neiro/k27ac\n",
    "less rmdup.sh"
   ]
  },
  {
   "cell_type": "markdown",
   "metadata": {},
   "source": [
    "The number of reads before filtering:\n",
    "\n",
    "**K27ac**\n",
    "\n",
    "* L1 14350698\n",
    "* L2 14365907\n",
    "* L3 14192897\n",
    "* L4 14338431\n",
    "* Input L1 4550299\n",
    "* Input L2 4556222\n",
    "* Input L3 4487250\n",
    "* Input L4 4543070\n",
    "* Rep2 27883302\n",
    "* Rep3 29756249\n",
    "* Input2 29995548\n",
    "* Input3 39350607\n",
    "\n",
    "**k4me1**\n",
    "\n",
    "* Rep1 31255500\n",
    "* Rep2 30375659\n",
    "* Input1 32650848\n",
    "* Input2 26671786"
   ]
  },
  {
   "cell_type": "markdown",
   "metadata": {},
   "source": [
    "### 2.1.2 Read retainment"
   ]
  },
  {
   "cell_type": "markdown",
   "metadata": {},
   "source": [
    "The retainment of reads after various filtering steps was investigated: "
   ]
  },
  {
   "cell_type": "markdown",
   "metadata": {},
   "source": [
    "### X1-H3K27ace-_S12_L001"
   ]
  },
  {
   "cell_type": "code",
   "execution_count": 5,
   "metadata": {},
   "outputs": [
    {
     "name": "stdout",
     "output_type": "stream",
     "text": [
      "26035000 + 0 in total (QC-passed reads + QC-failed reads)\n",
      "0 + 0 secondary\n",
      "0 + 0 supplementary\n",
      "0 + 0 duplicates\n",
      "21630571 + 0 mapped (83.08% : N/A)\n",
      "26035000 + 0 paired in sequencing\n",
      "13017500 + 0 read1\n",
      "13017500 + 0 read2\n",
      "20802360 + 0 properly paired (79.90% : N/A)\n",
      "21081460 + 0 with itself and mate mapped\n",
      "549111 + 0 singletons (2.11% : N/A)\n",
      "243040 + 0 with mate mapped to a different chr\n",
      "84923 + 0 with mate mapped to a different chr (mapQ>=5)\n"
     ]
    }
   ],
   "source": [
    "%%bash\n",
    "cd /hydra/chip_neiro/k27ac\n",
    "samtools flagstat X1-H3K27ace-_S12_L001_final.bam"
   ]
  },
  {
   "cell_type": "code",
   "execution_count": 7,
   "metadata": {},
   "outputs": [
    {
     "name": "stdout",
     "output_type": "stream",
     "text": [
      "12059938 + 0 in total (QC-passed reads + QC-failed reads)\n",
      "0 + 0 secondary\n",
      "0 + 0 supplementary\n",
      "0 + 0 duplicates\n",
      "12059938 + 0 mapped (100.00% : N/A)\n",
      "12059938 + 0 paired in sequencing\n",
      "6050036 + 0 read1\n",
      "6009902 + 0 read2\n",
      "11684824 + 0 properly paired (96.89% : N/A)\n",
      "11789865 + 0 with itself and mate mapped\n",
      "270073 + 0 singletons (2.24% : N/A)\n",
      "78601 + 0 with mate mapped to a different chr\n",
      "78601 + 0 with mate mapped to a different chr (mapQ>=5)\n"
     ]
    }
   ],
   "source": [
    "%%bash\n",
    "cd /hydra/chip_neiro/k27ac\n",
    "samtools flagstat X1-H3K27ace-L001.uniq.sorted.rmdup.bam"
   ]
  },
  {
   "cell_type": "code",
   "execution_count": 28,
   "metadata": {},
   "outputs": [
    {
     "name": "stdout",
     "output_type": "stream",
     "text": [
      "8750971 + 0 in total (QC-passed reads + QC-failed reads)\n",
      "0 + 0 secondary\n",
      "0 + 0 supplementary\n",
      "0 + 0 duplicates\n",
      "8750971 + 0 mapped (100.00% : N/A)\n",
      "8750971 + 0 paired in sequencing\n",
      "4363444 + 0 read1\n",
      "4387527 + 0 read2\n",
      "8439658 + 0 properly paired (96.44% : N/A)\n",
      "8527488 + 0 with itself and mate mapped\n",
      "223483 + 0 singletons (2.55% : N/A)\n",
      "63199 + 0 with mate mapped to a different chr\n",
      "50844 + 0 with mate mapped to a different chr (mapQ>=5)\n"
     ]
    }
   ],
   "source": [
    "%%bash\n",
    "cd /hydra/chip_neiro/k27ac\n",
    "samtools flagstat X1-H3K27ace-_S12_L001_final.sambamba.bam"
   ]
  },
  {
   "cell_type": "code",
   "execution_count": 29,
   "metadata": {},
   "outputs": [
    {
     "name": "stdout",
     "output_type": "stream",
     "text": [
      "0.9070987348489948\n",
      "0.42018646061675885\n",
      "0.30489705100058545\n"
     ]
    }
   ],
   "source": [
    "print(26035000/(2*14350698))\n",
    "print(12059938/(2*14350698))\n",
    "print(8750971 /(2*14350698))"
   ]
  },
  {
   "cell_type": "code",
   "execution_count": 3,
   "metadata": {},
   "outputs": [
    {
     "name": "stdout",
     "output_type": "stream",
     "text": [
      "8910178 + 0 in total (QC-passed reads + QC-failed reads)\n",
      "0 + 0 secondary\n",
      "0 + 0 supplementary\n",
      "0 + 0 duplicates\n",
      "8269977 + 0 mapped (92.81% : N/A)\n",
      "8910178 + 0 paired in sequencing\n",
      "4455089 + 0 read1\n",
      "4455089 + 0 read2\n",
      "7973294 + 0 properly paired (89.49% : N/A)\n",
      "8074598 + 0 with itself and mate mapped\n",
      "195379 + 0 singletons (2.19% : N/A)\n",
      "91588 + 0 with mate mapped to a different chr\n",
      "32621 + 0 with mate mapped to a different chr (mapQ>=5)\n"
     ]
    }
   ],
   "source": [
    "%%bash\n",
    "cd /hydra/chip_neiro/k27ac\n",
    "samtools flagstat X1-input-_S9_L001_final.bam"
   ]
  },
  {
   "cell_type": "code",
   "execution_count": 6,
   "metadata": {
    "scrolled": true
   },
   "outputs": [
    {
     "name": "stdout",
     "output_type": "stream",
     "text": [
      "4279494 + 0 in total (QC-passed reads + QC-failed reads)\n",
      "0 + 0 secondary\n",
      "0 + 0 supplementary\n",
      "0 + 0 duplicates\n",
      "4279494 + 0 mapped (100.00% : N/A)\n",
      "4279494 + 0 paired in sequencing\n",
      "2147470 + 0 read1\n",
      "2132024 + 0 read2\n",
      "4156786 + 0 properly paired (97.13% : N/A)\n",
      "4193812 + 0 with itself and mate mapped\n",
      "85682 + 0 singletons (2.00% : N/A)\n",
      "30160 + 0 with mate mapped to a different chr\n",
      "30160 + 0 with mate mapped to a different chr (mapQ>=5)\n"
     ]
    }
   ],
   "source": [
    "%%bash\n",
    "cd /hydra/chip_neiro/k27ac\n",
    "samtools flagstat X1-input-L001.uniq.sorted.rmdup.bam"
   ]
  },
  {
   "cell_type": "code",
   "execution_count": 8,
   "metadata": {},
   "outputs": [
    {
     "name": "stdout",
     "output_type": "stream",
     "text": [
      "0.9790761002738502\n",
      "0.47024316424041585\n"
     ]
    }
   ],
   "source": [
    "print(8910178/(2*(4550299)))\n",
    "print(4279494/(2*(4550299)))"
   ]
  },
  {
   "cell_type": "markdown",
   "metadata": {},
   "source": [
    "### X1-H3K27ace-_S12_L002"
   ]
  },
  {
   "cell_type": "code",
   "execution_count": 2,
   "metadata": {},
   "outputs": [
    {
     "name": "stdout",
     "output_type": "stream",
     "text": [
      "26119234 + 0 in total (QC-passed reads + QC-failed reads)\n",
      "0 + 0 secondary\n",
      "0 + 0 supplementary\n",
      "0 + 0 duplicates\n",
      "21662153 + 0 mapped (82.94% : N/A)\n",
      "26119234 + 0 paired in sequencing\n",
      "13059617 + 0 read1\n",
      "13059617 + 0 read2\n",
      "20833028 + 0 properly paired (79.76% : N/A)\n",
      "21107960 + 0 with itself and mate mapped\n",
      "554193 + 0 singletons (2.12% : N/A)\n",
      "239320 + 0 with mate mapped to a different chr\n",
      "82702 + 0 with mate mapped to a different chr (mapQ>=5)\n"
     ]
    }
   ],
   "source": [
    "%%bash\n",
    "cd ../../../../../data/ngs/smed/facs_rnaseq_datasets/sexual/chip_neiro/k27ac\n",
    "samtools flagstat X1-H3K27ace-_S12_L002_final.bam"
   ]
  },
  {
   "cell_type": "code",
   "execution_count": 11,
   "metadata": {},
   "outputs": [
    {
     "name": "stdout",
     "output_type": "stream",
     "text": [
      "12065870 + 0 in total (QC-passed reads + QC-failed reads)\n",
      "0 + 0 secondary\n",
      "0 + 0 supplementary\n",
      "0 + 0 duplicates\n",
      "12065870 + 0 mapped (100.00% : N/A)\n",
      "12065870 + 0 paired in sequencing\n",
      "6054917 + 0 read1\n",
      "6010953 + 0 read2\n",
      "11691446 + 0 properly paired (96.90% : N/A)\n",
      "11794191 + 0 with itself and mate mapped\n",
      "271679 + 0 singletons (2.25% : N/A)\n",
      "76485 + 0 with mate mapped to a different chr\n",
      "76485 + 0 with mate mapped to a different chr (mapQ>=5)\n"
     ]
    }
   ],
   "source": [
    "%%bash\n",
    "cd /hydra/chip_neiro/k27ac\n",
    "samtools flagstat X1-H3K27ace-L002.uniq.sorted.rmdup.bam"
   ]
  },
  {
   "cell_type": "code",
   "execution_count": 14,
   "metadata": {},
   "outputs": [
    {
     "name": "stdout",
     "output_type": "stream",
     "text": [
      "0.9090701338940869\n",
      "0.41994807567666975\n"
     ]
    }
   ],
   "source": [
    "print(26119234/(2*14365907))\n",
    "print(12065870/(2*14365907))"
   ]
  },
  {
   "cell_type": "code",
   "execution_count": 13,
   "metadata": {},
   "outputs": [
    {
     "name": "stdout",
     "output_type": "stream",
     "text": [
      "8910178 + 0 in total (QC-passed reads + QC-failed reads)\n",
      "0 + 0 secondary\n",
      "0 + 0 supplementary\n",
      "0 + 0 duplicates\n",
      "8269977 + 0 mapped (92.81% : N/A)\n",
      "8910178 + 0 paired in sequencing\n",
      "4455089 + 0 read1\n",
      "4455089 + 0 read2\n",
      "7973294 + 0 properly paired (89.49% : N/A)\n",
      "8074598 + 0 with itself and mate mapped\n",
      "195379 + 0 singletons (2.19% : N/A)\n",
      "91588 + 0 with mate mapped to a different chr\n",
      "32621 + 0 with mate mapped to a different chr (mapQ>=5)\n"
     ]
    }
   ],
   "source": [
    "%%bash\n",
    "cd /hydra/chip_neiro/k27ac\n",
    "samtools flagstat X1-input-_S9_L001_final.bam"
   ]
  },
  {
   "cell_type": "code",
   "execution_count": 10,
   "metadata": {},
   "outputs": [
    {
     "name": "stdout",
     "output_type": "stream",
     "text": [
      "4280156 + 0 in total (QC-passed reads + QC-failed reads)\n",
      "0 + 0 secondary\n",
      "0 + 0 supplementary\n",
      "0 + 0 duplicates\n",
      "4280156 + 0 mapped (100.00% : N/A)\n",
      "4280156 + 0 paired in sequencing\n",
      "2149118 + 0 read1\n",
      "2131038 + 0 read2\n",
      "4155986 + 0 properly paired (97.10% : N/A)\n",
      "4192019 + 0 with itself and mate mapped\n",
      "88137 + 0 singletons (2.06% : N/A)\n",
      "29281 + 0 with mate mapped to a different chr\n",
      "29281 + 0 with mate mapped to a different chr (mapQ>=5)\n"
     ]
    }
   ],
   "source": [
    "%%bash\n",
    "cd /hydra/chip_neiro/k27ac\n",
    "samtools flagstat X1-input-L002.uniq.sorted.rmdup.bam"
   ]
  },
  {
   "cell_type": "code",
   "execution_count": 15,
   "metadata": {},
   "outputs": [
    {
     "name": "stdout",
     "output_type": "stream",
     "text": [
      "0.977803320382545\n",
      "0.46970450517994955\n"
     ]
    }
   ],
   "source": [
    "print(8910178/(2*4556222))\n",
    "print(4280156/(2*4556222))"
   ]
  },
  {
   "cell_type": "markdown",
   "metadata": {},
   "source": [
    "### X1-H3K27ace-_S12_L003"
   ]
  },
  {
   "cell_type": "code",
   "execution_count": 3,
   "metadata": {},
   "outputs": [
    {
     "name": "stdout",
     "output_type": "stream",
     "text": [
      "25750084 + 0 in total (QC-passed reads + QC-failed reads)\n",
      "0 + 0 secondary\n",
      "0 + 0 supplementary\n",
      "0 + 0 duplicates\n",
      "21297804 + 0 mapped (82.71% : N/A)\n",
      "25750084 + 0 paired in sequencing\n",
      "12875042 + 0 read1\n",
      "12875042 + 0 read2\n",
      "20488604 + 0 properly paired (79.57% : N/A)\n",
      "20760372 + 0 with itself and mate mapped\n",
      "537432 + 0 singletons (2.09% : N/A)\n",
      "236564 + 0 with mate mapped to a different chr\n",
      "82053 + 0 with mate mapped to a different chr (mapQ>=5)\n"
     ]
    }
   ],
   "source": [
    "%%bash\n",
    "cd ../../../../../data/ngs/smed/facs_rnaseq_datasets/sexual/chip_neiro/k27ac\n",
    "samtools flagstat X1-H3K27ace-_S12_L003_final.bam"
   ]
  },
  {
   "cell_type": "code",
   "execution_count": 12,
   "metadata": {},
   "outputs": [
    {
     "name": "stdout",
     "output_type": "stream",
     "text": [
      "11826799 + 0 in total (QC-passed reads + QC-failed reads)\n",
      "0 + 0 secondary\n",
      "0 + 0 supplementary\n",
      "0 + 0 duplicates\n",
      "11826799 + 0 mapped (100.00% : N/A)\n",
      "11826799 + 0 paired in sequencing\n",
      "5932299 + 0 read1\n",
      "5894500 + 0 read2\n",
      "11463610 + 0 properly paired (96.93% : N/A)\n",
      "11565115 + 0 with itself and mate mapped\n",
      "261684 + 0 singletons (2.21% : N/A)\n",
      "75742 + 0 with mate mapped to a different chr\n",
      "75742 + 0 with mate mapped to a different chr (mapQ>=5)\n"
     ]
    }
   ],
   "source": [
    "%%bash\n",
    "cd /hydra/chip_neiro/k27ac\n",
    "samtools flagstat X1-H3K27ace-L003.uniq.sorted.rmdup.bam"
   ]
  },
  {
   "cell_type": "code",
   "execution_count": 15,
   "metadata": {},
   "outputs": [
    {
     "name": "stdout",
     "output_type": "stream",
     "text": [
      "0.9071468636741322\n",
      "0.41664499502814684\n"
     ]
    }
   ],
   "source": [
    "print(25750084/(2*14192897))\n",
    "print(11826799/(2*14192897))"
   ]
  },
  {
   "cell_type": "code",
   "execution_count": 18,
   "metadata": {},
   "outputs": [
    {
     "name": "stdout",
     "output_type": "stream",
     "text": [
      "8790628 + 0 in total (QC-passed reads + QC-failed reads)\n",
      "0 + 0 secondary\n",
      "0 + 0 supplementary\n",
      "0 + 0 duplicates\n",
      "8138942 + 0 mapped (92.59% : N/A)\n",
      "8790628 + 0 paired in sequencing\n",
      "4395314 + 0 read1\n",
      "4395314 + 0 read2\n",
      "7849684 + 0 properly paired (89.30% : N/A)\n",
      "7948000 + 0 with itself and mate mapped\n",
      "190942 + 0 singletons (2.17% : N/A)\n",
      "88824 + 0 with mate mapped to a different chr\n",
      "31454 + 0 with mate mapped to a different chr (mapQ>=5)\n"
     ]
    }
   ],
   "source": [
    "%%bash\n",
    "cd /hydra/chip_neiro/k27ac\n",
    "samtools flagstat X1-input-_S9_L003_final.bam"
   ]
  },
  {
   "cell_type": "code",
   "execution_count": 19,
   "metadata": {},
   "outputs": [
    {
     "name": "stdout",
     "output_type": "stream",
     "text": [
      "4188930 + 0 in total (QC-passed reads + QC-failed reads)\n",
      "0 + 0 secondary\n",
      "0 + 0 supplementary\n",
      "0 + 0 duplicates\n",
      "4188930 + 0 mapped (100.00% : N/A)\n",
      "4188930 + 0 paired in sequencing\n",
      "2101740 + 0 read1\n",
      "2087190 + 0 read2\n",
      "4069508 + 0 properly paired (97.15% : N/A)\n",
      "4105186 + 0 with itself and mate mapped\n",
      "83744 + 0 singletons (2.00% : N/A)\n",
      "29024 + 0 with mate mapped to a different chr\n",
      "29024 + 0 with mate mapped to a different chr (mapQ>=5)\n"
     ]
    }
   ],
   "source": [
    "%%bash\n",
    "cd /hydra/chip_neiro/k27ac\n",
    "samtools flagstat X1-input-L003.uniq.sorted.rmdup.bam"
   ]
  },
  {
   "cell_type": "code",
   "execution_count": 20,
   "metadata": {},
   "outputs": [
    {
     "name": "stdout",
     "output_type": "stream",
     "text": [
      "0.9795117276728509\n",
      "0.46675915092762826\n"
     ]
    }
   ],
   "source": [
    "print(8790628/(2*4487250))\n",
    "print(4188930/(2*4487250))"
   ]
  },
  {
   "cell_type": "markdown",
   "metadata": {},
   "source": [
    "### X1-H3K27ace-_S12_L004"
   ]
  },
  {
   "cell_type": "code",
   "execution_count": 4,
   "metadata": {},
   "outputs": [
    {
     "name": "stdout",
     "output_type": "stream",
     "text": [
      "26078650 + 0 in total (QC-passed reads + QC-failed reads)\n",
      "0 + 0 secondary\n",
      "0 + 0 supplementary\n",
      "0 + 0 duplicates\n",
      "21587331 + 0 mapped (82.78% : N/A)\n",
      "26078650 + 0 paired in sequencing\n",
      "13039325 + 0 read1\n",
      "13039325 + 0 read2\n",
      "20768416 + 0 properly paired (79.64% : N/A)\n",
      "21041792 + 0 with itself and mate mapped\n",
      "545539 + 0 singletons (2.09% : N/A)\n",
      "237764 + 0 with mate mapped to a different chr\n",
      "82288 + 0 with mate mapped to a different chr (mapQ>=5)\n"
     ]
    }
   ],
   "source": [
    "%%bash\n",
    "cd ../../../../../data/ngs/smed/facs_rnaseq_datasets/sexual/chip_neiro/k27ac\n",
    "samtools flagstat X1-H3K27ace-_S12_L004_final.bam"
   ]
  },
  {
   "cell_type": "code",
   "execution_count": 16,
   "metadata": {},
   "outputs": [
    {
     "name": "stdout",
     "output_type": "stream",
     "text": [
      "11985194 + 0 in total (QC-passed reads + QC-failed reads)\n",
      "0 + 0 secondary\n",
      "0 + 0 supplementary\n",
      "0 + 0 duplicates\n",
      "11985194 + 0 mapped (100.00% : N/A)\n",
      "11985194 + 0 paired in sequencing\n",
      "6012546 + 0 read1\n",
      "5972648 + 0 read2\n",
      "11617396 + 0 properly paired (96.93% : N/A)\n",
      "11719546 + 0 with itself and mate mapped\n",
      "265648 + 0 singletons (2.22% : N/A)\n",
      "75945 + 0 with mate mapped to a different chr\n",
      "75945 + 0 with mate mapped to a different chr (mapQ>=5)\n"
     ]
    }
   ],
   "source": [
    "%%bash\n",
    "cd /hydra/chip_neiro/k27ac\n",
    "samtools flagstat X1-H3K27ace-L004.uniq.sorted.rmdup.bam"
   ]
  },
  {
   "cell_type": "code",
   "execution_count": 17,
   "metadata": {},
   "outputs": [
    {
     "name": "stdout",
     "output_type": "stream",
     "text": [
      "0.909396920764901\n",
      "0.41793952211368174\n"
     ]
    }
   ],
   "source": [
    "print(26078650/(2*14338431))\n",
    "print(11985194/(2*14338431))"
   ]
  },
  {
   "cell_type": "code",
   "execution_count": 22,
   "metadata": {},
   "outputs": [
    {
     "name": "stdout",
     "output_type": "stream",
     "text": [
      "8906412 + 0 in total (QC-passed reads + QC-failed reads)\n",
      "0 + 0 secondary\n",
      "0 + 0 supplementary\n",
      "0 + 0 duplicates\n",
      "8248785 + 0 mapped (92.62% : N/A)\n",
      "8906412 + 0 paired in sequencing\n",
      "4453206 + 0 read1\n",
      "4453206 + 0 read2\n",
      "7953630 + 0 properly paired (89.30% : N/A)\n",
      "8052464 + 0 with itself and mate mapped\n",
      "196321 + 0 singletons (2.20% : N/A)\n",
      "89480 + 0 with mate mapped to a different chr\n",
      "31514 + 0 with mate mapped to a different chr (mapQ>=5)\n"
     ]
    }
   ],
   "source": [
    "%%bash\n",
    "cd /hydra/chip_neiro/k27ac\n",
    "samtools flagstat X1-input-_S9_L004_final.bam"
   ]
  },
  {
   "cell_type": "code",
   "execution_count": 23,
   "metadata": {},
   "outputs": [
    {
     "name": "stdout",
     "output_type": "stream",
     "text": [
      "4247816 + 0 in total (QC-passed reads + QC-failed reads)\n",
      "0 + 0 secondary\n",
      "0 + 0 supplementary\n",
      "0 + 0 duplicates\n",
      "4247816 + 0 mapped (100.00% : N/A)\n",
      "4247816 + 0 paired in sequencing\n",
      "2132107 + 0 read1\n",
      "2115709 + 0 read2\n",
      "4126300 + 0 properly paired (97.14% : N/A)\n",
      "4161909 + 0 with itself and mate mapped\n",
      "85907 + 0 singletons (2.02% : N/A)\n",
      "29105 + 0 with mate mapped to a different chr\n",
      "29105 + 0 with mate mapped to a different chr (mapQ>=5)\n"
     ]
    }
   ],
   "source": [
    "%%bash\n",
    "cd /hydra/chip_neiro/k27ac\n",
    "samtools flagstat X1-input-L004.uniq.sorted.rmdup.bam"
   ]
  },
  {
   "cell_type": "code",
   "execution_count": 25,
   "metadata": {},
   "outputs": [
    {
     "name": "stdout",
     "output_type": "stream",
     "text": [
      "0.9802195431723482\n",
      "0.46750501312988796\n"
     ]
    }
   ],
   "source": [
    "print((8906412)/(2*4543070))\n",
    "print((4247816)/(2*4543070))"
   ]
  },
  {
   "cell_type": "markdown",
   "metadata": {},
   "source": [
    "### x1_h3k27ac_rep2"
   ]
  },
  {
   "cell_type": "code",
   "execution_count": 5,
   "metadata": {},
   "outputs": [
    {
     "name": "stdout",
     "output_type": "stream",
     "text": [
      "55766604 + 0 in total (QC-passed reads + QC-failed reads)\n",
      "0 + 0 secondary\n",
      "0 + 0 supplementary\n",
      "0 + 0 duplicates\n",
      "51471583 + 0 mapped (92.30% : N/A)\n",
      "55766604 + 0 paired in sequencing\n",
      "27883302 + 0 read1\n",
      "27883302 + 0 read2\n",
      "48363804 + 0 properly paired (86.73% : N/A)\n",
      "50218906 + 0 with itself and mate mapped\n",
      "1252677 + 0 singletons (2.25% : N/A)\n",
      "1269740 + 0 with mate mapped to a different chr\n",
      "390241 + 0 with mate mapped to a different chr (mapQ>=5)\n"
     ]
    }
   ],
   "source": [
    "%%bash\n",
    "cd ../../../../../data/ngs/smed/facs_rnaseq_datasets/sexual/chip_neiro/k27ac\n",
    "samtools flagstat x1_h3k27ac_rep2_final.bam"
   ]
  },
  {
   "cell_type": "code",
   "execution_count": 21,
   "metadata": {},
   "outputs": [
    {
     "name": "stdout",
     "output_type": "stream",
     "text": [
      "30534506 + 0 in total (QC-passed reads + QC-failed reads)\n",
      "0 + 0 secondary\n",
      "0 + 0 supplementary\n",
      "0 + 0 duplicates\n",
      "30534506 + 0 mapped (100.00% : N/A)\n",
      "30534506 + 0 paired in sequencing\n",
      "15290610 + 0 read1\n",
      "15243896 + 0 read2\n",
      "29031350 + 0 properly paired (95.08% : N/A)\n",
      "29904870 + 0 with itself and mate mapped\n",
      "629636 + 0 singletons (2.06% : N/A)\n",
      "374451 + 0 with mate mapped to a different chr\n",
      "374451 + 0 with mate mapped to a different chr (mapQ>=5)\n"
     ]
    }
   ],
   "source": [
    "%%bash\n",
    "cd /hydra/chip_neiro/k27ac\n",
    "samtools flagstat x1_h3k27ac_rep2.uniq.sorted.rmdup.bam"
   ]
  },
  {
   "cell_type": "code",
   "execution_count": 23,
   "metadata": {},
   "outputs": [
    {
     "name": "stdout",
     "output_type": "stream",
     "text": [
      "1.0\n",
      "0.5475410695619909\n"
     ]
    }
   ],
   "source": [
    "print(55766604/(2*29756249))\n",
    "print(30534506/(2*29756249))"
   ]
  },
  {
   "cell_type": "code",
   "execution_count": 26,
   "metadata": {},
   "outputs": [
    {
     "name": "stdout",
     "output_type": "stream",
     "text": [
      "59991096 + 0 in total (QC-passed reads + QC-failed reads)\n",
      "0 + 0 secondary\n",
      "0 + 0 supplementary\n",
      "0 + 0 duplicates\n",
      "56530853 + 0 mapped (94.23% : N/A)\n",
      "59991096 + 0 paired in sequencing\n",
      "29995548 + 0 read1\n",
      "29995548 + 0 read2\n",
      "53297566 + 0 properly paired (88.84% : N/A)\n",
      "55140140 + 0 with itself and mate mapped\n",
      "1390713 + 0 singletons (2.32% : N/A)\n",
      "1498486 + 0 with mate mapped to a different chr\n",
      "473456 + 0 with mate mapped to a different chr (mapQ>=5)\n"
     ]
    }
   ],
   "source": [
    "%%bash\n",
    "cd /hydra/chip_neiro/k27ac\n",
    "samtools flagstat x1_input_rep2_final.bam"
   ]
  },
  {
   "cell_type": "code",
   "execution_count": null,
   "metadata": {},
   "outputs": [],
   "source": [
    "%%bash\n",
    "cd /hydra/chip_neiro/k27ac\n"
   ]
  },
  {
   "cell_type": "markdown",
   "metadata": {},
   "source": [
    "### x1_h3k27ac_rep3"
   ]
  },
  {
   "cell_type": "code",
   "execution_count": 6,
   "metadata": {},
   "outputs": [
    {
     "name": "stdout",
     "output_type": "stream",
     "text": [
      "59512498 + 0 in total (QC-passed reads + QC-failed reads)\n",
      "0 + 0 secondary\n",
      "0 + 0 supplementary\n",
      "0 + 0 duplicates\n",
      "52809449 + 0 mapped (88.74% : N/A)\n",
      "59512498 + 0 paired in sequencing\n",
      "29756249 + 0 read1\n",
      "29756249 + 0 read2\n",
      "50277248 + 0 properly paired (84.48% : N/A)\n",
      "51534552 + 0 with itself and mate mapped\n",
      "1274897 + 0 singletons (2.14% : N/A)\n",
      "1055866 + 0 with mate mapped to a different chr\n",
      "355018 + 0 with mate mapped to a different chr (mapQ>=5)\n"
     ]
    }
   ],
   "source": [
    "%%bash\n",
    "cd ../../../../../data/ngs/smed/facs_rnaseq_datasets/sexual/chip_neiro/k27ac\n",
    "samtools flagstat x1_h3k27ac_rep3_final.bam"
   ]
  },
  {
   "cell_type": "code",
   "execution_count": 24,
   "metadata": {},
   "outputs": [
    {
     "name": "stdout",
     "output_type": "stream",
     "text": [
      "31083815 + 0 in total (QC-passed reads + QC-failed reads)\n",
      "0 + 0 secondary\n",
      "0 + 0 supplementary\n",
      "0 + 0 duplicates\n",
      "31083815 + 0 mapped (100.00% : N/A)\n",
      "31083815 + 0 paired in sequencing\n",
      "15590441 + 0 read1\n",
      "15493374 + 0 read2\n",
      "29926450 + 0 properly paired (96.28% : N/A)\n",
      "30425252 + 0 with itself and mate mapped\n",
      "658563 + 0 singletons (2.12% : N/A)\n",
      "339325 + 0 with mate mapped to a different chr\n",
      "339325 + 0 with mate mapped to a different chr (mapQ>=5)\n"
     ]
    }
   ],
   "source": [
    "%%bash\n",
    "cd /hydra/chip_neiro/k27ac\n",
    "samtools flagstat x1_h3k27ac_rep3.uniq.sorted.rmdup.bam"
   ]
  },
  {
   "cell_type": "code",
   "execution_count": 27,
   "metadata": {},
   "outputs": [
    {
     "name": "stdout",
     "output_type": "stream",
     "text": [
      "1.0\n",
      "0.5223073479456366\n"
     ]
    }
   ],
   "source": [
    "print(59512498/(2*(29756249)))\n",
    "print(31083815/(2*(29756249)))"
   ]
  },
  {
   "cell_type": "code",
   "execution_count": 32,
   "metadata": {},
   "outputs": [
    {
     "name": "stdout",
     "output_type": "stream",
     "text": [
      "78701214 + 0 in total (QC-passed reads + QC-failed reads)\n",
      "0 + 0 secondary\n",
      "0 + 0 supplementary\n",
      "0 + 0 duplicates\n",
      "74185510 + 0 mapped (94.26% : N/A)\n",
      "78701214 + 0 paired in sequencing\n",
      "39350607 + 0 read1\n",
      "39350607 + 0 read2\n",
      "71082856 + 0 properly paired (90.32% : N/A)\n",
      "72558088 + 0 with itself and mate mapped\n",
      "1627422 + 0 singletons (2.07% : N/A)\n",
      "1343156 + 0 with mate mapped to a different chr\n",
      "453341 + 0 with mate mapped to a different chr (mapQ>=5)\n"
     ]
    }
   ],
   "source": [
    "%%bash\n",
    "cd /hydra/chip_neiro/k27ac\n",
    "samtools flagstat x1_input_rep3_final.bam"
   ]
  },
  {
   "cell_type": "markdown",
   "metadata": {},
   "source": [
    "## 2.2 K4me1"
   ]
  },
  {
   "cell_type": "markdown",
   "metadata": {},
   "source": [
    "### 2.2.1 Filtering"
   ]
  },
  {
   "cell_type": "markdown",
   "metadata": {},
   "source": [
    "The sam files had been generated successfully.\n",
    "\n",
    "The sam files were converted to bam files:"
   ]
  },
  {
   "cell_type": "code",
   "execution_count": 8,
   "metadata": {},
   "outputs": [
    {
     "name": "stdout",
     "output_type": "stream",
     "text": [
      "#!/bin/bash\n",
      "\n",
      "samtools view -b -S h3k4me1_rep1_final.sam > h3k4me1_rep1_final.bam\n",
      "samtools view -b -S h3k4me1_rep2_final.sam > h3k4me1_rep2_final.bam\n",
      "samtools view -b -S input_rep1_final.sam > input_rep1_final.bam\n",
      "samtools view -b -S input_rep2_final.sam > input_rep2_final.bam\n"
     ]
    }
   ],
   "source": [
    "%%bash\n",
    "cd ../../../../../data/ngs/smed/facs_rnaseq_datasets/sexual/chip_neiro/k4me1\n",
    "less sam2bam.sh"
   ]
  },
  {
   "cell_type": "markdown",
   "metadata": {},
   "source": [
    "The sam files were quality-filtered and duplicates were removed:"
   ]
  },
  {
   "cell_type": "code",
   "execution_count": 44,
   "metadata": {},
   "outputs": [
    {
     "name": "stdout",
     "output_type": "stream",
     "text": [
      "#!/bin/bash\n",
      "\n",
      "samtools view -q 10 -b h3k4me1_rep1_final.bam > h3k4me1_rep1.uniq.bam\n",
      "samtools view -q 10 -b h3k4me1_rep2_final.bam > h3k4me1_rep2.uniq.bam\n",
      "samtools view -q 10 -b input_rep1_final.bam > input_rep1.uniq.bam\n",
      "samtools view -q 10 -b input_rep2_final.bam > input_rep2.uniq.bam\n",
      "\n",
      "samtools sort h3k4me1_rep1.uniq.bam > h3k4me1_rep1.uniq.sorted.bam\n",
      "samtools sort h3k4me1_rep2.uniq.bam > h3k4me1_rep2.uniq.sorted.bam\n",
      "samtools sort input_rep1.uniq.bam > input_rep1.uniq.sorted.bam\n",
      "samtools sort input_rep2.uniq.bam > input_rep2.uniq.sorted.bam\n"
     ]
    }
   ],
   "source": [
    "%%bash\n",
    "cd ../../../../../data/ngs/smed/facs_rnaseq_datasets/sexual/chip_neiro/k4me1\n",
    "less samq.sh"
   ]
  },
  {
   "cell_type": "code",
   "execution_count": null,
   "metadata": {},
   "outputs": [],
   "source": [
    "#%%bash\n",
    "#cd ../../../../../data/ngs/smed/facs_rnaseq_datasets/sexual/chip_neiro/k4me1\n",
    "#nohup ./samq.sh &"
   ]
  },
  {
   "cell_type": "code",
   "execution_count": 7,
   "metadata": {},
   "outputs": [
    {
     "name": "stdout",
     "output_type": "stream",
     "text": [
      "#!/bin/bash\n",
      "\n",
      "samtools rmdup h3k4me1_rep1.uniq.sorted.bam h3k4me1_rep1.uniq.sorted.rmdup.bam\n",
      "samtools rmdup h3k4me1_rep2.uniq.sorted.bam h3k4me1_rep2.uniq.sorted.rmdup.bam\n",
      "samtools rmdup input_rep1.uniq.sorted.bam input_rep1.uniq.sorted.rmdup.bam\n",
      "samtools rmdup input_rep2.uniq.sorted.bam input_rep2.uniq.sorted.rmdup.bam\n"
     ]
    }
   ],
   "source": [
    "%%bash\n",
    "cd ../../../../../data/ngs/smed/facs_rnaseq_datasets/sexual/chip_neiro/k4me1\n",
    "less rmdup.sh"
   ]
  },
  {
   "cell_type": "code",
   "execution_count": null,
   "metadata": {},
   "outputs": [],
   "source": [
    "#%%bash\n",
    "#cd ../../../../../data/ngs/smed/facs_rnaseq_datasets/sexual/chip_neiro/k4me1\n",
    "#nohup ./rmdup.sh &"
   ]
  },
  {
   "cell_type": "markdown",
   "metadata": {},
   "source": [
    "### 2.2.2 Read retainment"
   ]
  },
  {
   "cell_type": "markdown",
   "metadata": {},
   "source": [
    "The retainment of reads after various filtering steps was investigated: "
   ]
  },
  {
   "cell_type": "code",
   "execution_count": 19,
   "metadata": {},
   "outputs": [
    {
     "name": "stdout",
     "output_type": "stream",
     "text": [
      "29513187 + 0 in total (QC-passed reads + QC-failed reads)\n",
      "0 + 0 secondary\n",
      "0 + 0 supplementary\n",
      "0 + 0 duplicates\n",
      "29513187 + 0 mapped (100.00% : N/A)\n",
      "29513187 + 0 paired in sequencing\n",
      "14815743 + 0 read1\n",
      "14697444 + 0 read2\n",
      "28116882 + 0 properly paired (95.27% : N/A)\n",
      "28810034 + 0 with itself and mate mapped\n",
      "703153 + 0 singletons (2.38% : N/A)\n",
      "384549 + 0 with mate mapped to a different chr\n",
      "384549 + 0 with mate mapped to a different chr (mapQ>=5)\n"
     ]
    }
   ],
   "source": [
    "%%bash\n",
    "cd ../../../../../data/ngs/smed/facs_rnaseq_datasets/sexual/chip_neiro/k4me1\n",
    "samtools flagstat h3k4me1_rep1.uniq.sorted.rmdup.bam"
   ]
  },
  {
   "cell_type": "code",
   "execution_count": 33,
   "metadata": {},
   "outputs": [
    {
     "name": "stdout",
     "output_type": "stream",
     "text": [
      "0.47212789749004175\n"
     ]
    }
   ],
   "source": [
    "print(29513187/(2*31255500))"
   ]
  },
  {
   "cell_type": "code",
   "execution_count": 29,
   "metadata": {},
   "outputs": [
    {
     "name": "stdout",
     "output_type": "stream",
     "text": [
      "28596411 + 0 in total (QC-passed reads + QC-failed reads)\n",
      "0 + 0 secondary\n",
      "0 + 0 supplementary\n",
      "0 + 0 duplicates\n",
      "28596411 + 0 mapped (100.00% : N/A)\n",
      "28596411 + 0 paired in sequencing\n",
      "14339549 + 0 read1\n",
      "14256862 + 0 read2\n",
      "27668678 + 0 properly paired (96.76% : N/A)\n",
      "28012848 + 0 with itself and mate mapped\n",
      "583563 + 0 singletons (2.04% : N/A)\n",
      "251396 + 0 with mate mapped to a different chr\n",
      "251396 + 0 with mate mapped to a different chr (mapQ>=5)\n"
     ]
    }
   ],
   "source": [
    "%%bash\n",
    "cd /hydra/chip_neiro/k4me1\n",
    "samtools flagstat input_rep1.uniq.sorted.rmdup.bam"
   ]
  },
  {
   "cell_type": "code",
   "execution_count": 30,
   "metadata": {},
   "outputs": [
    {
     "name": "stdout",
     "output_type": "stream",
     "text": [
      "0.43791222512811917\n"
     ]
    }
   ],
   "source": [
    "print(28596411/(2*32650848))"
   ]
  },
  {
   "cell_type": "code",
   "execution_count": 21,
   "metadata": {},
   "outputs": [
    {
     "name": "stdout",
     "output_type": "stream",
     "text": [
      "30340947 + 0 in total (QC-passed reads + QC-failed reads)\n",
      "0 + 0 secondary\n",
      "0 + 0 supplementary\n",
      "0 + 0 duplicates\n",
      "30340947 + 0 mapped (100.00% : N/A)\n",
      "30340947 + 0 paired in sequencing\n",
      "15227657 + 0 read1\n",
      "15113290 + 0 read2\n",
      "29011620 + 0 properly paired (95.62% : N/A)\n",
      "29637030 + 0 with itself and mate mapped\n",
      "703917 + 0 singletons (2.32% : N/A)\n",
      "365802 + 0 with mate mapped to a different chr\n",
      "365802 + 0 with mate mapped to a different chr (mapQ>=5)\n"
     ]
    }
   ],
   "source": [
    "%%bash\n",
    "cd ../../../../../data/ngs/smed/facs_rnaseq_datasets/sexual/chip_neiro/k4me1\n",
    "samtools flagstat h3k4me1_rep2.uniq.sorted.rmdup.bam"
   ]
  },
  {
   "cell_type": "code",
   "execution_count": 36,
   "metadata": {},
   "outputs": [
    {
     "data": {
      "text/plain": [
       "0.49942876942551023"
      ]
     },
     "execution_count": 36,
     "metadata": {},
     "output_type": "execute_result"
    }
   ],
   "source": [
    "30340947/(2*30375650)"
   ]
  },
  {
   "cell_type": "markdown",
   "metadata": {},
   "source": [
    "%%bash\n",
    "cd /hydra/chip_neiro/k4me1\n",
    "samtools flagstat input_rep2.uniq.sorted.rmdup.bam"
   ]
  },
  {
   "cell_type": "code",
   "execution_count": 37,
   "metadata": {},
   "outputs": [
    {
     "data": {
      "text/plain": [
       "0.5452185693547829"
      ]
     },
     "execution_count": 37,
     "metadata": {},
     "output_type": "execute_result"
    }
   ],
   "source": [
    "26671786/(2*24459719)"
   ]
  },
  {
   "cell_type": "markdown",
   "metadata": {},
   "source": [
    "# 3. Quality metrics"
   ]
  },
  {
   "cell_type": "markdown",
   "metadata": {},
   "source": [
    "The quality of the H3K27ac and H3K4me1 ChIP-seq data was inspected using a number of quality metrics."
   ]
  },
  {
   "cell_type": "markdown",
   "metadata": {},
   "source": [
    "## 3.1 Fingerprint plots"
   ]
  },
  {
   "cell_type": "markdown",
   "metadata": {},
   "source": [
    "Fingerprint plots were generated using Deeptools2."
   ]
  },
  {
   "cell_type": "markdown",
   "metadata": {},
   "source": [
    "### 3.1.1 H3K27ac"
   ]
  },
  {
   "cell_type": "code",
   "execution_count": 3,
   "metadata": {},
   "outputs": [
    {
     "name": "stdout",
     "output_type": "stream",
     "text": [
      "#!/bin/bash\n",
      "plotFingerprint -b X1-H3K27ace-L001.uniq.sorted.rmdup.bam X1-input-L001.uniq.sorted.rmdup.bam -plot fingerprint_plots/h3k27ac_L1_fingerprint.png\n",
      "plotFingerprint -b X1-H3K27ace-L002.uniq.sorted.rmdup.bam X1-input-L002.uniq.sorted.rmdup.bam -plot fingerprint_plots/h3k27ac_L2_fingerprint.png\n",
      "plotFingerprint -b X1-H3K27ace-L003.uniq.sorted.rmdup.bam X1-input-L003.uniq.sorted.rmdup.bam -plot fingerprint_plots/h3k27ac_L3_fingerprint.png\n",
      "plotFingerprint -b X1-H3K27ace-L004.uniq.sorted.rmdup.bam X1-input-L004.uniq.sorted.rmdup.bam -plot fingerprint_plots/h3k27ac_L4_fingerprint.png\n",
      "plotFingerprint -b x1_h3k27ac_rep2.uniq.sorted.rmdup.bam x1_input_rep2_final.bam -plot fingerprint_plots/h3k27ac_rep2_fingerprint.png\n"
     ]
    }
   ],
   "source": [
    "%%bash\n",
    "cd /hydra/chip_neiro/k27ac\n",
    "echo \"#!/bin/bash\" > fingerprintplots.sh\n",
    "echo \"plotFingerprint -b X1-H3K27ace-L001.uniq.sorted.rmdup.bam X1-input-L001.uniq.sorted.rmdup.bam -plot fingerprint_plots/h3k27ac_L1_fingerprint.png\" >> fingerprintplots.sh\n",
    "echo \"plotFingerprint -b X1-H3K27ace-L002.uniq.sorted.rmdup.bam X1-input-L002.uniq.sorted.rmdup.bam -plot fingerprint_plots/h3k27ac_L2_fingerprint.png\" >> fingerprintplots.sh\n",
    "echo \"plotFingerprint -b X1-H3K27ace-L003.uniq.sorted.rmdup.bam X1-input-L003.uniq.sorted.rmdup.bam -plot fingerprint_plots/h3k27ac_L3_fingerprint.png\" >> fingerprintplots.sh\n",
    "echo \"plotFingerprint -b X1-H3K27ace-L004.uniq.sorted.rmdup.bam X1-input-L004.uniq.sorted.rmdup.bam -plot fingerprint_plots/h3k27ac_L4_fingerprint.png\" >> fingerprintplots.sh\n",
    "echo \"plotFingerprint -b x1_h3k27ac_rep2.uniq.sorted.rmdup.bam x1_input_rep2_final.bam -plot fingerprint_plots/h3k27ac_rep2_fingerprint.png\" >> fingerprintplots.sh\n",
    "chmod +x fingerprintplots.sh\n",
    "less fingerprintplots.sh"
   ]
  },
  {
   "cell_type": "code",
   "execution_count": null,
   "metadata": {},
   "outputs": [],
   "source": [
    "#%%bash\n",
    "#cd /hydra/chip_neiro/k27ac\n",
    "#nohup ./fingerprintplots.sh &"
   ]
  },
  {
   "cell_type": "code",
   "execution_count": 40,
   "metadata": {},
   "outputs": [],
   "source": [
    "#%%bash\n",
    "#cd /hydra/chip_neiro/k27ac\n",
    "#plotFingerprint -b x1_h3k27ac_rep3.uniq.sorted.rmdup.bam x1_input_rep3.uniq.sorted.rmdup.bam -plot fingerprint_plots/h3k27ac_rep3_fingerprint.png"
   ]
  },
  {
   "cell_type": "code",
   "execution_count": 4,
   "metadata": {},
   "outputs": [
    {
     "data": {
      "image/png": "[encoded data removed]",
      "text/plain": [
       "<IPython.core.display.Image object>"
      ]
     },
     "execution_count": 4,
     "metadata": {},
     "output_type": "execute_result"
    }
   ],
   "source": [
    "from IPython.display import Image\n",
    "Image(filename='/hydra/chip_neiro/k27ac/fingerprint_plots/h3k27ac_L1_fingerprint.png')"
   ]
  },
  {
   "cell_type": "code",
   "execution_count": 38,
   "metadata": {},
   "outputs": [
    {
     "data": {
      "image/png": "[encoded data removed]",
      "text/plain": [
       "<IPython.core.display.Image object>"
      ]
     },
     "execution_count": 38,
     "metadata": {},
     "output_type": "execute_result"
    }
   ],
   "source": [
    "from IPython.display import Image\n",
    "Image(filename='/hydra/chip_neiro/k27ac/fingerprint_plots/h3k27ac_L2_fingerprint.png')"
   ]
  },
  {
   "cell_type": "code",
   "execution_count": 39,
   "metadata": {},
   "outputs": [
    {
     "data": {
      "image/png": "[encoded data removed]",
      "text/plain": [
       "<IPython.core.display.Image object>"
      ]
     },
     "execution_count": 39,
     "metadata": {},
     "output_type": "execute_result"
    }
   ],
   "source": [
    "from IPython.display import Image\n",
    "Image(filename='/hydra/chip_neiro/k27ac/fingerprint_plots/h3k27ac_L3_fingerprint.png')"
   ]
  },
  {
   "cell_type": "code",
   "execution_count": 40,
   "metadata": {},
   "outputs": [
    {
     "data": {
      "image/png": "[encoded data removed]",
      "text/plain": [
       "<IPython.core.display.Image object>"
      ]
     },
     "execution_count": 40,
     "metadata": {},
     "output_type": "execute_result"
    }
   ],
   "source": [
    "from IPython.display import Image\n",
    "Image(filename='/hydra/chip_neiro/k27ac/fingerprint_plots/h3k27ac_L4_fingerprint.png')"
   ]
  },
  {
   "cell_type": "code",
   "execution_count": 1,
   "metadata": {},
   "outputs": [
    {
     "data": {
      "image/png": "[encoded data removed]",
      "text/plain": [
       "<IPython.core.display.Image object>"
      ]
     },
     "execution_count": 1,
     "metadata": {},
     "output_type": "execute_result"
    }
   ],
   "source": [
    "from IPython.display import Image\n",
    "Image(filename='/hydra/chip_neiro/k27ac/fingerprint_plots/h3k27ac_rep2_fingerprint.png')"
   ]
  },
  {
   "cell_type": "code",
   "execution_count": 41,
   "metadata": {},
   "outputs": [
    {
     "data": {
      "image/png": "[encoded data removed]",
      "text/plain": [
       "<IPython.core.display.Image object>"
      ]
     },
     "execution_count": 41,
     "metadata": {},
     "output_type": "execute_result"
    }
   ],
   "source": [
    "from IPython.display import Image\n",
    "Image(filename='/hydra/chip_neiro/k27ac/fingerprint_plots/h3k27ac_rep3_fingerprint.png')"
   ]
  },
  {
   "cell_type": "markdown",
   "metadata": {},
   "source": [
    "### 3.1.2 H3K4me1"
   ]
  },
  {
   "cell_type": "code",
   "execution_count": null,
   "metadata": {},
   "outputs": [],
   "source": []
  },
  {
   "cell_type": "code",
   "execution_count": 3,
   "metadata": {},
   "outputs": [
    {
     "name": "stdout",
     "output_type": "stream",
     "text": [
      "#!/bin/bash\n",
      "plotFingerprint -b h3k4me1_rep1.uniq.sorted.rmdup.bam input_rep1.uniq.sorted.rmdup.bam -plot fingerprint_plots/h3k4me1_rep1_fingerprint.png\n",
      "plotFingerprint -b h3k4me1_rep2.uniq.sorted.rmdup.bam input_rep2.uniq.sorted.rmdup.bam -plot fingerprint_plots/h3k4me1_rep2_fingerprint.png\n"
     ]
    }
   ],
   "source": [
    "%%bash\n",
    "cd /hydra/chip_neiro/k4me1\n",
    "echo \"#!/bin/bash\" > fingerprintplots.sh\n",
    "echo \"plotFingerprint -b h3k4me1_rep1.uniq.sorted.rmdup.bam input_rep1.uniq.sorted.rmdup.bam -plot fingerprint_plots/h3k4me1_rep1_fingerprint.png\" >> fingerprintplots.sh\n",
    "echo \"plotFingerprint -b h3k4me1_rep2.uniq.sorted.rmdup.bam input_rep2.uniq.sorted.rmdup.bam -plot fingerprint_plots/h3k4me1_rep2_fingerprint.png\" >> fingerprintplots.sh\n",
    "chmod +x fingerprintplots.sh\n",
    "less fingerprintplots.sh"
   ]
  },
  {
   "cell_type": "code",
   "execution_count": null,
   "metadata": {},
   "outputs": [],
   "source": [
    "#%%bash\n",
    "#cd /hydra/chip_neiro/k4me1\n",
    "#nohup ./fingerprintplots.sh &"
   ]
  },
  {
   "cell_type": "code",
   "execution_count": 24,
   "metadata": {},
   "outputs": [
    {
     "data": {
      "image/png": "[encoded data removed]",
      "text/plain": [
       "<IPython.core.display.Image object>"
      ]
     },
     "execution_count": 24,
     "metadata": {},
     "output_type": "execute_result"
    }
   ],
   "source": [
    "from IPython.display import Image\n",
    "Image(filename='/hydra/chip_neiro/k4me1/fingerprint_plots/h3k4me1_rep1_fingerprint.png')"
   ]
  },
  {
   "cell_type": "code",
   "execution_count": 26,
   "metadata": {},
   "outputs": [
    {
     "data": {
      "image/png": "[encoded data removed]",
      "text/plain": [
       "<IPython.core.display.Image object>"
      ]
     },
     "execution_count": 26,
     "metadata": {},
     "output_type": "execute_result"
    }
   ],
   "source": [
    "from IPython.display import Image\n",
    "Image(filename='/hydra/chip_neiro/k4me1/fingerprint_plots/h3k4me1_rep2_fingerprint.png')"
   ]
  },
  {
   "cell_type": "markdown",
   "metadata": {},
   "source": [
    "## 3.2 SSP "
   ]
  },
  {
   "cell_type": "markdown",
   "metadata": {},
   "source": [
    "Quality metrics were calculated using SSP:"
   ]
  },
  {
   "cell_type": "markdown",
   "metadata": {},
   "source": [
    "### 3.2.1 H3K27ac"
   ]
  },
  {
   "cell_type": "code",
   "execution_count": 47,
   "metadata": {},
   "outputs": [
    {
     "name": "stdout",
     "output_type": "stream",
     "text": [
      "#!/bin/bash\n",
      "/hydra/software/SSP/bin/ssp -i X1-H3K27ace-L001.uniq.sorted.rmdup.bam -o h3k27ac_re1L1_ssp --odir h3k27ac_re1L1_ssp --gt /hydra/sexual_genome_annotation_files/sexual_genome_annotation/sizes.genome --pair --ng_from 10000 --ng_to 50000 --ng_step 500 --eachchr\n",
      "/hydra/software/SSP/bin/ssp -i X1-H3K27ace-L002.uniq.sorted.rmdup.bam -o h3k27ac_re1L2_ssp --odir h3k27ac_re1L2_ssp --gt /hydra/sexual_genome_annotation_files/sexual_genome_annotation/sizes.genome --pair --ng_from 10000 --ng_to 50000 --ng_step 500 --eachchr\n",
      "/hydra/software/SSP/bin/ssp -i X1-H3K27ace-L003.uniq.sorted.rmdup.bam -o h3k27ac_re1L3_ssp --odir h3k27ac_re1L3_ssp --gt /hydra/sexual_genome_annotation_files/sexual_genome_annotation/sizes.genome --pair --ng_from 10000 --ng_to 50000 --ng_step 500 --eachchr\n",
      "/hydra/software/SSP/bin/ssp -i X1-H3K27ace-L004.uniq.sorted.rmdup.bam -o h3k27ac_re1L4_ssp --odir h3k27ac_re1L4_ssp --gt /hydra/sexual_genome_annotation_files/sexual_genome_annotation/sizes.genome --pair --ng_from 10000 --ng_to 50000 --ng_step 500 --eachchr\n",
      "/hydra/software/SSP/bin/ssp -i x1_h3k27ac_rep2.uniq.sorted.rmdup.bam -o h3k27ac_rep2_ssp --odir h3k27ac_rep2_ssp --gt /hydra/sexual_genome_annotation_files/sexual_genome_annotation/sizes.genome --pair --ng_from 10000 --ng_to 50000 --ng_step 500 --eachchr\n",
      "/hydra/software/SSP/bin/ssp -i x1_h3k27ac_rep3.uniq.sorted.rmdup.bam -o h3k27ac_rep3_ssp --odir h3k27ac_rep3_ssp --gt /hydra/sexual_genome_annotation_files/sexual_genome_annotation/sizes.genome --pair --ng_from 10000 --ng_to 50000 --ng_step 500 --eachchr\n"
     ]
    }
   ],
   "source": [
    "%%bash\n",
    "cd /hydra/chip_neiro/k27ac\n",
    "echo \"#!/bin/bash\" > ssp.sh\n",
    "echo  \"/hydra/software/SSP/bin/ssp -i X1-H3K27ace-L001.uniq.sorted.rmdup.bam -o h3k27ac_re1L1_ssp --odir h3k27ac_re1L1_ssp --gt /hydra/sexual_genome_annotation_files/sexual_genome_annotation/sizes.genome --pair --ng_from 10000 --ng_to 50000 --ng_step 500 --eachchr\" >> ssp.sh\n",
    "echo  \"/hydra/software/SSP/bin/ssp -i X1-H3K27ace-L002.uniq.sorted.rmdup.bam -o h3k27ac_re1L2_ssp --odir h3k27ac_re1L2_ssp --gt /hydra/sexual_genome_annotation_files/sexual_genome_annotation/sizes.genome --pair --ng_from 10000 --ng_to 50000 --ng_step 500 --eachchr\" >> ssp.sh\n",
    "echo  \"/hydra/software/SSP/bin/ssp -i X1-H3K27ace-L003.uniq.sorted.rmdup.bam -o h3k27ac_re1L3_ssp --odir h3k27ac_re1L3_ssp --gt /hydra/sexual_genome_annotation_files/sexual_genome_annotation/sizes.genome --pair --ng_from 10000 --ng_to 50000 --ng_step 500 --eachchr\" >> ssp.sh\n",
    "echo  \"/hydra/software/SSP/bin/ssp -i X1-H3K27ace-L004.uniq.sorted.rmdup.bam -o h3k27ac_re1L4_ssp --odir h3k27ac_re1L4_ssp --gt /hydra/sexual_genome_annotation_files/sexual_genome_annotation/sizes.genome --pair --ng_from 10000 --ng_to 50000 --ng_step 500 --eachchr\" >> ssp.sh\n",
    "echo  \"/hydra/software/SSP/bin/ssp -i x1_h3k27ac_rep2.uniq.sorted.rmdup.bam -o h3k27ac_rep2_ssp --odir h3k27ac_rep2_ssp --gt /hydra/sexual_genome_annotation_files/sexual_genome_annotation/sizes.genome --pair --ng_from 10000 --ng_to 50000 --ng_step 500 --eachchr\" >> ssp.sh\n",
    "echo  \"/hydra/software/SSP/bin/ssp -i x1_h3k27ac_rep3.uniq.sorted.rmdup.bam -o h3k27ac_rep3_ssp --odir h3k27ac_rep3_ssp --gt /hydra/sexual_genome_annotation_files/sexual_genome_annotation/sizes.genome --pair --ng_from 10000 --ng_to 50000 --ng_step 500 --eachchr\" >> ssp.sh\n",
    "chmod +x ssp.sh\n",
    "less ssp.sh"
   ]
  },
  {
   "cell_type": "code",
   "execution_count": null,
   "metadata": {},
   "outputs": [],
   "source": [
    "#%%bash\n",
    "#cd /hydra/chip_neiro/k27ac\n",
    "#nohup ./ssp.sh &"
   ]
  },
  {
   "cell_type": "markdown",
   "metadata": {},
   "source": [
    "### 3.2.2 H3K4me1"
   ]
  },
  {
   "cell_type": "code",
   "execution_count": 1,
   "metadata": {},
   "outputs": [
    {
     "name": "stdout",
     "output_type": "stream",
     "text": [
      "h3k4me1_rep1.uniq.sorted.rmdup.bam\n",
      "h3k4me1_rep2.uniq.sorted.rmdup.bam\n",
      "input_rep1.uniq.sorted.rmdup.bam\n",
      "input_rep2.uniq.sorted.rmdup.bam\n"
     ]
    }
   ],
   "source": [
    "%%bash\n",
    "cd /hydra/chip_neiro/k4me1\n",
    "ls *bam"
   ]
  },
  {
   "cell_type": "code",
   "execution_count": 2,
   "metadata": {},
   "outputs": [
    {
     "name": "stdout",
     "output_type": "stream",
     "text": [
      "#!/bin/bash\n",
      "/hydra/software/SSP/bin/ssp -i h3k4me1_rep1.uniq.sorted.rmdup.bam -o h3k4me1_rep1_ssp --odir h3k4me1_rep1_ssp --gt /hydra/sexual_genome_annotation_files/sexual_genome_annotation/sizes.genome --pair --ng_from 10000 --ng_to 50000 --ng_step 500 --eachchr\n",
      "/hydra/software/SSP/bin/ssp -i h3k4me1_rep2.uniq.sorted.rmdup.bam -o h3k4me1_rep2_ssp --odir h3k4me1_rep2_ssp --gt /hydra/sexual_genome_annotation_files/sexual_genome_annotation/sizes.genome --pair --ng_from 10000 --ng_to 50000 --ng_step 500 --eachchr\n"
     ]
    }
   ],
   "source": [
    "%%bash\n",
    "cd /hydra/chip_neiro/k4me1\n",
    "echo \"#!/bin/bash\" > ssp.sh\n",
    "echo  \"/hydra/software/SSP/bin/ssp -i h3k4me1_rep1.uniq.sorted.rmdup.bam -o h3k4me1_rep1_ssp --odir h3k4me1_rep1_ssp --gt /hydra/sexual_genome_annotation_files/sexual_genome_annotation/sizes.genome --pair --ng_from 10000 --ng_to 50000 --ng_step 500 --eachchr\" >> ssp.sh\n",
    "echo  \"/hydra/software/SSP/bin/ssp -i h3k4me1_rep2.uniq.sorted.rmdup.bam -o h3k4me1_rep2_ssp --odir h3k4me1_rep2_ssp --gt /hydra/sexual_genome_annotation_files/sexual_genome_annotation/sizes.genome --pair --ng_from 10000 --ng_to 50000 --ng_step 500 --eachchr\" >> ssp.sh\n",
    "chmod +x ssp.sh\n",
    "less ssp.sh"
   ]
  },
  {
   "cell_type": "code",
   "execution_count": null,
   "metadata": {},
   "outputs": [],
   "source": [
    "#%%bash\n",
    "#cd /hydra/chip_neiro/k4me1\n",
    "#nohup ./ssp.sh &"
   ]
  },
  {
   "cell_type": "markdown",
   "metadata": {},
   "source": [
    "# 4. Coverage"
   ]
  },
  {
   "cell_type": "markdown",
   "metadata": {},
   "source": [
    "## 4.1 H3K27ac"
   ]
  },
  {
   "cell_type": "markdown",
   "metadata": {},
   "source": [
    "Indices were generated:"
   ]
  },
  {
   "cell_type": "code",
   "execution_count": 16,
   "metadata": {},
   "outputs": [
    {
     "name": "stdout",
     "output_type": "stream",
     "text": [
      "#!/bin/bash\n",
      "\n",
      "samtools index -b X1-H3K27ace-L001.uniq.sorted.rmdup.bam\n",
      "samtools index -b X1-H3K27ace-L002.uniq.sorted.rmdup.bam\n",
      "samtools index -b X1-H3K27ace-L003.uniq.sorted.rmdup.bam\n",
      "samtools index -b X1-H3K27ace-L004.uniq.sorted.rmdup.bam\n",
      "\n",
      "samtools index -b X1-input-L001.uniq.sorted.rmdup.bam\n",
      "samtools index -b X1-input-L002.uniq.sorted.rmdup.bam\n",
      "samtools index -b X1-input-L003.uniq.sorted.rmdup.bam\n",
      "samtools index -b X1-input-L004.uniq.sorted.rmdup.bam\n",
      "\n",
      "samtools index -b x1_h3k27ac_rep2.uniq.sorted.rmdup.bam\n",
      "samtools index -b x1_input_rep2.uniq.sorted.rmdup.bam\n",
      "samtools index -b x1_h3k27ac_rep3.uniq.sorted.rmdup.bam\n",
      "samtools index -b x1_input_rep3.uniq.sorted.rmdup.bam\n"
     ]
    }
   ],
   "source": [
    "%%bash\n",
    "cd ../../../../../data/ngs/smed/facs_rnaseq_datasets/sexual/chip_neiro/k27ac\n",
    "less bamindex.sh"
   ]
  },
  {
   "cell_type": "code",
   "execution_count": null,
   "metadata": {},
   "outputs": [],
   "source": [
    "#%%bash\n",
    "#cd ../../../../../data/ngs/smed/facs_rnaseq_datasets/sexual/chip_neiro/k27ac\n",
    "#nohup ./bamindex.sh &"
   ]
  },
  {
   "cell_type": "markdown",
   "metadata": {},
   "source": [
    "Coverge files were generated both as bedgraph and bigwig:"
   ]
  },
  {
   "cell_type": "code",
   "execution_count": 1,
   "metadata": {},
   "outputs": [
    {
     "name": "stdout",
     "output_type": "stream",
     "text": [
      "#!/bin/bash\n",
      "\n",
      "bamCompare -b1 X1-H3K27ace-L001.uniq.sorted.rmdup.bam -b2 X1-input-L001.uniq.sorted.rmdup.bam -o X1-H3K27ac-L001log2.bdg -of bedgraph --scaleFactorsMethod SES --smoothLength 50 -bs 10\n",
      "bamCompare -b1 X1-H3K27ace-L001.uniq.sorted.rmdup.bam -b2 X1-input-L001.uniq.sorted.rmdup.bam -o X1-H3K27ac-L001log2.bw -of bigwig --scaleFactorsMethod SES --smoothLength 50 -bs 10\n",
      " \n",
      "bamCompare -b1 X1-H3K27ace-L002.uniq.sorted.rmdup.bam -b2 X1-input-L002.uniq.sorted.rmdup.bam -o X1-H3K27ac-L002log2.bdg -of bedgraph --scaleFactorsMethod SES --smoothLength 50 -bs 10\n",
      "bamCompare -b1 X1-H3K27ace-L002.uniq.sorted.rmdup.bam -b2 X1-input-L002.uniq.sorted.rmdup.bam -o X1-H3K27ac-L002log2.bw -of bigwig --scaleFactorsMethod SES --smoothLength 50 -bs 10\n",
      "\n",
      "bamCompare -b1 X1-H3K27ace-L003.uniq.sorted.rmdup.bam -b2 X1-input-L003.uniq.sorted.rmdup.bam -o X1-H3K27ac-L003log2.bdg -of bedgraph --scaleFactorsMethod SES --smoothLength 50 -bs 10\n",
      "bamCompare -b1 X1-H3K27ace-L003.uniq.sorted.rmdup.bam -b2 X1-input-L003.uniq.sorted.rmdup.bam -o X1-H3K27ac-L003log2.bw -of bigwig --scaleFactorsMethod SES --smoothLength 50 -bs 10\n",
      "\n",
      "bamCompare -b1 X1-H3K27ace-L004.uniq.sorted.rmdup.bam -b2 X1-input-L004.uniq.sorted.rmdup.bam -o X1-H3K27ac-L004log2.bdg -of bedgraph --scaleFactorsMethod SES --smoothLength 50 -bs 10\n",
      "bamCompare -b1 X1-H3K27ace-L004.uniq.sorted.rmdup.bam -b2 X1-input-L004.uniq.sorted.rmdup.bam -o X1-H3K27ac-L004log2.bw -of bigwig --scaleFactorsMethod SES --smoothLength 50 -bs 10\n",
      "\n",
      "\n",
      "\n",
      "bamCompare -b1 x1_h3k27ac_rep2.uniq.sorted.rmdup.bam -b2 x1_input_rep2.uniq.sorted.rmdup.bam -o x1_rep2log2.bdg -of bedgraph --scaleFactorsMethod SES --smoothLength 50 -bs 10\n",
      "bamCompare -b1 x1_h3k27ac_rep2.uniq.sorted.rmdup.bam -b2 x1_input_rep2.uniq.sorted.rmdup.bam -o x1_rep2log2.bw -of bigwig --scaleFactorsMethod SES --smoothLength 50 -bs 10\n",
      "\n",
      "bamCompare -b1 x1_h3k27ac_rep3.uniq.sorted.rmdup.bam -b2 x1_input_rep3.uniq.sorted.rmdup.bam -o x1_rep3log2.bdg -of bedgraph --scaleFactorsMethod SES --smoothLength 50 -bs 10\n",
      "bamCompare -b1 x1_h3k27ac_rep3.uniq.sorted.rmdup.bam -b2 x1_input_rep3.uniq.sorted.rmdup.bam -o x1_rep3log2.bw -of bigwig  --scaleFactorsMethod SES --smoothLength 50 -bs 10\n"
     ]
    }
   ],
   "source": [
    "%%bash\n",
    "cd /hydra/chip_neiro/k27ac\n",
    "less bamCov.sh"
   ]
  },
  {
   "cell_type": "code",
   "execution_count": null,
   "metadata": {},
   "outputs": [],
   "source": [
    "%%bash\n",
    "cd /hydra/chip_neiro/k27ac\n",
    "less bamCov.sh"
   ]
  },
  {
   "cell_type": "code",
   "execution_count": null,
   "metadata": {},
   "outputs": [],
   "source": [
    "#%%bash\n",
    "#cd ../../../../../data/ngs/smed/facs_rnaseq_datasets/sexual/chip_neiro/k27ac\n",
    "#nohup ./bamCov_april21.sh &"
   ]
  },
  {
   "cell_type": "code",
   "execution_count": 4,
   "metadata": {},
   "outputs": [],
   "source": [
    "#%%bash\n",
    "#cd /hydra/chip_neiro/k27ac\n",
    "#bigwigCompare -b1 x1_rep2log2.bw -b2 x1_rep3log2.bw --operation mean -o X1-H3K27ac-meanrep23log2.bw -of bigwig"
   ]
  },
  {
   "cell_type": "code",
   "execution_count": 6,
   "metadata": {},
   "outputs": [],
   "source": [
    "%%bash\n",
    "cd /hydra/chip_neiro/k27ac\n",
    "wiggletools mean x1_rep2log2_april21.bw x1_rep3log2_april21.bw > h3k27ac_mean_april21.bw"
   ]
  },
  {
   "cell_type": "code",
   "execution_count": 22,
   "metadata": {},
   "outputs": [],
   "source": [
    "%%bash\n",
    "cd /hydra/chip_neiro/k27ac\n",
    "wigToBigWig h3k27ac_mean_april21.wig /hydra/sexual_genome_annotation_files/sexual_genome_annotation/sizes.genome h3k27ac_mean_april21.bw"
   ]
  },
  {
   "cell_type": "code",
   "execution_count": 6,
   "metadata": {},
   "outputs": [],
   "source": [
    "%%bash\n",
    "cd /hydra/chip_neiro/k27ac\n",
    "wiggletools mean x1_rep2log2_april21_100bp.bw x1_rep3log2_april21_100bp.bw > h3k27ac_mean_april21_100bp.wig"
   ]
  },
  {
   "cell_type": "code",
   "execution_count": 7,
   "metadata": {},
   "outputs": [],
   "source": [
    "%%bash\n",
    "cd /hydra/chip_neiro/k27ac\n",
    "wigToBigWig h3k27ac_mean_april21_100bp.wig /hydra/sexual_genome_annotation_files/sexual_genome_annotation/sizes.genome h3k27ac_mean_april21_100bp.bw"
   ]
  },
  {
   "cell_type": "code",
   "execution_count": 5,
   "metadata": {},
   "outputs": [
    {
     "name": "stdout",
     "output_type": "stream",
     "text": [
      "X1-H3K27ac-meanrep23log2.bw\n"
     ]
    }
   ],
   "source": [
    "%%bash\n",
    "cd /hydra/chip_neiro/k27ac\n",
    "ls X1-H3K27ac-meanrep23log2.bw"
   ]
  },
  {
   "cell_type": "code",
   "execution_count": 18,
   "metadata": {},
   "outputs": [
    {
     "name": "stdout",
     "output_type": "stream",
     "text": [
      "X1-H3K27ac-meanlog2.bw\n"
     ]
    }
   ],
   "source": [
    "%%bash\n",
    "cd /hydra/chip_neiro/k27ac\n",
    "ls X1-H3K27ac-meanlog2.bw"
   ]
  },
  {
   "cell_type": "markdown",
   "metadata": {},
   "source": [
    "## 4.2 H3K4me1"
   ]
  },
  {
   "cell_type": "markdown",
   "metadata": {},
   "source": [
    "Indices were generated:"
   ]
  },
  {
   "cell_type": "code",
   "execution_count": 17,
   "metadata": {},
   "outputs": [
    {
     "name": "stdout",
     "output_type": "stream",
     "text": [
      "#!/bin/bash\n",
      "\n",
      "samtools index -b h3k4me1_rep1.uniq.sorted.rmdup.bam\n",
      "samtools index -b h3k4me1_rep2.uniq.sorted.rmdup.bam\n",
      "samtools index -b input_rep1.uniq.sorted.rmdup.bam\n",
      "samtools index -b input_rep2.uniq.sorted.rmdup.bam\n"
     ]
    }
   ],
   "source": [
    "%%bash\n",
    "cd ../../../../../data/ngs/smed/facs_rnaseq_datasets/sexual/chip_neiro/k4me1\n",
    "less bamindex.sh"
   ]
  },
  {
   "cell_type": "code",
   "execution_count": null,
   "metadata": {},
   "outputs": [],
   "source": [
    "#%%bash\n",
    "#cd ../../../../../data/ngs/smed/facs_rnaseq_datasets/sexual/chip_neiro/k4me1\n",
    "#nohup ./bamindex.sh &"
   ]
  },
  {
   "cell_type": "markdown",
   "metadata": {},
   "source": [
    "Coverage files were generated both as bedgraph and bigwig:"
   ]
  },
  {
   "cell_type": "code",
   "execution_count": 6,
   "metadata": {},
   "outputs": [
    {
     "name": "stdout",
     "output_type": "stream",
     "text": [
      "#!/bin/bash\n",
      "\n",
      "bamCompare -b1 h3k4me1_rep1.uniq.sorted.rmdup.bam -b2 input_rep1.uniq.sorted.rmdup.bam -o h3k4me1_rep1log2.bdg -of bedgraph --scaleFactorsMethod SES --smoothLength 50 -bs 10\n",
      "bamCompare -b1 h3k4me1_rep1.uniq.sorted.rmdup.bam -b2 input_rep1.uniq.sorted.rmdup.bam -o h3k4me1_rep1log2.bw -of bigwig --scaleFactorsMethod SES --smoothLength 50 -bs 10\n",
      "\n",
      "bamCompare -b1 h3k4me1_rep2.uniq.sorted.rmdup.bam -b2 input_rep2.uniq.sorted.rmdup.bam -o h3k4me1_rep2log2.bdg -of bedgraph --scaleFactorsMethod SES --smoothLength 50 -bs 10\n",
      "bamCompare -b1 h3k4me1_rep2.uniq.sorted.rmdup.bam -b2 input_rep2.uniq.sorted.rmdup.bam -o h3k4me1_rep2log2.bw -of bigwig --scaleFactorsMethod SES --smoothLength 50 -bs 10\n"
     ]
    }
   ],
   "source": [
    "%%bash\n",
    "cd /hydra/chip_neiro/k4me1\n",
    "less bamCov.sh"
   ]
  },
  {
   "cell_type": "code",
   "execution_count": null,
   "metadata": {},
   "outputs": [],
   "source": [
    "#%%bash\n",
    "#cd /hydra/chip_neiro/k4me1\n",
    "#nohup ./bamCov.sh &"
   ]
  },
  {
   "cell_type": "code",
   "execution_count": 3,
   "metadata": {},
   "outputs": [
    {
     "name": "stdout",
     "output_type": "stream",
     "text": [
      "h3k4me1_rep1log2.bw\n",
      "h3k4me1_rep1log2_april21.bw\n",
      "h3k4me1_rep1log2_april21_100bp.bw\n",
      "h3k4me1_rep2log2.bw\n",
      "h3k4me1_rep2log2_april21_100bp.bw\n",
      "h3k4me1meanlog2.bw\n"
     ]
    }
   ],
   "source": [
    "%%bash\n",
    "cd /hydra/chip_neiro/k4me1\n",
    "ls *bw"
   ]
  },
  {
   "cell_type": "markdown",
   "metadata": {},
   "source": [
    "# 5. Peak calling"
   ]
  },
  {
   "cell_type": "markdown",
   "metadata": {},
   "source": [
    "The peaks were called for H3K27ac and H3K4me1 ChIP-seq data. Information and instructions on peak calling were taken from (https://www.encodeproject.org/chip-seq/histone/) and (https://bioinformatics-core-shared-training.github.io/cruk-autumn-school-2017/ChIP/Materials/Lectures/Lecture5_Peak%20Calling_SS.pdf). "
   ]
  },
  {
   "attachments": {
    "image.png": {
     "image/png": "[encoded data removed]"
    }
   },
   "cell_type": "markdown",
   "metadata": {},
   "source": [
    "![image.png](attachment:image.png)"
   ]
  },
  {
   "cell_type": "markdown",
   "metadata": {},
   "source": [
    "The total size of the genome was calculated: "
   ]
  },
  {
   "cell_type": "code",
   "execution_count": 10,
   "metadata": {},
   "outputs": [
    {
     "data": {
      "text/plain": [
       "773939492"
      ]
     },
     "execution_count": 10,
     "metadata": {},
     "output_type": "execute_result"
    }
   ],
   "source": [
    "import pandas as pd\n",
    "sizes = pd.read_csv(\"../sexual_genome_annotation_files/sexual_genome_annotation/sizes.genome\", sep=\"\\t\", header=None)\n",
    "sum(sizes.iloc[:,1])"
   ]
  },
  {
   "cell_type": "markdown",
   "metadata": {},
   "source": [
    "## 5.1 H3K27ac"
   ]
  },
  {
   "cell_type": "markdown",
   "metadata": {},
   "source": [
    "The H3K27ac peaks were called with macs2. All samples were used simultaneously. "
   ]
  },
  {
   "cell_type": "code",
   "execution_count": 4,
   "metadata": {},
   "outputs": [
    {
     "name": "stdout",
     "output_type": "stream",
     "text": [
      "#!/bin/bash\n",
      "\n",
      "macs2 callpeak -t X1-H3K27ace-L001.uniq.sorted.rmdup.bam X1-H3K27ace-L002.uniq.sorted.rmdup.bam X1-H3K27ace-L003.uniq.sorted.rmdup.bam X1-H3K27ace-L004.uniq.sorted.rmdup.bam x1_h3k27ac_rep2.uniq.sorted.rmdup.bam x1_h3k27ac_rep3.uniq.sorted.rmdup.bam -c X1-input-L001.uniq.sorted.rmdup.bam X1-input-L002.uniq.sorted.rmdup.bam X1-input-L003.uniq.sorted.rmdup.bam X1-input-L004.uniq.sorted.rmdup.bam x1_input_rep2.uniq.sorted.rmdup.bam x1_input_rep3.uniq.sorted.rmdup.bam -g 773939492 -n k27ac_pooled_1\n"
     ]
    }
   ],
   "source": [
    "%%bash\n",
    "cd /hydra/chip_neiro/k27ac\n",
    "less peak_call.sh"
   ]
  },
  {
   "cell_type": "markdown",
   "metadata": {},
   "source": [
    "As an alternative, only rep2 and rep3 were used: "
   ]
  },
  {
   "cell_type": "code",
   "execution_count": 11,
   "metadata": {},
   "outputs": [
    {
     "name": "stdout",
     "output_type": "stream",
     "text": [
      "#!/bin/bash\n",
      "\n",
      "macs2 callpeak -t x1_h3k27ac_rep2.uniq.sorted.rmdup.bam x1_h3k27ac_rep3.uniq.sorted.rmdup.bam -c x1_input_rep2.uniq.sorted.rmdup.bam x1_input_rep3.uniq.sorted.rmdup.bam -g 773939492 -n k27ac_pooled_april21\n"
     ]
    }
   ],
   "source": [
    "%%bash\n",
    "cd /hydra/chip_neiro/k27ac\n",
    "less peak_call_april21.sh"
   ]
  },
  {
   "cell_type": "code",
   "execution_count": 3,
   "metadata": {},
   "outputs": [
    {
     "name": "stdout",
     "output_type": "stream",
     "text": [
      "43313 k27ac_pooled_1_summits.bed\n",
      "37345 k27ac_pooled_april21_summits.bed\n"
     ]
    }
   ],
   "source": [
    "%%bash\n",
    "cd /hydra/chip_neiro/k27ac\n",
    "wc -l k27ac_pooled_1_summits.bed\n",
    "wc -l k27ac_pooled_april21_summits.bed"
   ]
  },
  {
   "cell_type": "markdown",
   "metadata": {},
   "source": [
    "The second alternative was used for downstream analyses. "
   ]
  },
  {
   "cell_type": "markdown",
   "metadata": {},
   "source": [
    "## 5.2 H3K4me1"
   ]
  },
  {
   "cell_type": "markdown",
   "metadata": {},
   "source": [
    "The H3K4me1 peaks were called with macs2. Both rep1 and rep2 were used simultaneously. Peaks were called as broad. "
   ]
  },
  {
   "cell_type": "code",
   "execution_count": 5,
   "metadata": {},
   "outputs": [
    {
     "name": "stdout",
     "output_type": "stream",
     "text": [
      "#!/bin/bash\n",
      "\n",
      "macs2 callpeak -t h3k4me1_rep1.uniq.sorted.rmdup.bam h3k4me1_rep2.uniq.sorted.rmdup.bam -c input_rep1.uniq.sorted.rmdup.bam input_rep2.uniq.sorted.rmdup.bam -g 773939492 -n k4me1_pooled_1 --broad\n"
     ]
    }
   ],
   "source": [
    "%%bash\n",
    "cd /hydra/chip_neiro/k4me1\n",
    "less peak_call.sh"
   ]
  },
  {
   "cell_type": "markdown",
   "metadata": {},
   "source": [
    "Narrow peaks were called as an alternative: "
   ]
  },
  {
   "cell_type": "code",
   "execution_count": 8,
   "metadata": {},
   "outputs": [
    {
     "name": "stdout",
     "output_type": "stream",
     "text": [
      "#!/bin/bash\n",
      "\n",
      "macs2 callpeak -t h3k4me1_rep1.uniq.sorted.rmdup.bam h3k4me1_rep2.uniq.sorted.rmdup.bam -c input_rep1.uniq.sorted.rmdup.bam input_rep2.uniq.sorted.rmdup.bam -g 773939492 -n k4me1_pooled_april21\n"
     ]
    }
   ],
   "source": [
    "%%bash\n",
    "cd /hydra/chip_neiro/k4me1\n",
    "less peak_call_april21.sh"
   ]
  },
  {
   "cell_type": "code",
   "execution_count": 9,
   "metadata": {},
   "outputs": [],
   "source": [
    "#%%bash\n",
    "#cd /hydra/chip_neiro/k4me1\n",
    "#nohup ./peak_call_april21.sh &"
   ]
  },
  {
   "cell_type": "code",
   "execution_count": 14,
   "metadata": {},
   "outputs": [
    {
     "name": "stdout",
     "output_type": "stream",
     "text": [
      "13868 k4me1_summits.bed\n"
     ]
    }
   ],
   "source": [
    "%%bash\n",
    "cd /hydra/enhancer_regions\n",
    "wc -l k4me1_summits.bed"
   ]
  },
  {
   "cell_type": "code",
   "execution_count": 16,
   "metadata": {},
   "outputs": [
    {
     "name": "stdout",
     "output_type": "stream",
     "text": [
      "7387 k4me1_pooled_april21_summits.bed\n"
     ]
    }
   ],
   "source": [
    "%%bash\n",
    "cd /hydra/chip_neiro/k4me1\n",
    "wc -l k4me1_pooled_april21_summits.bed"
   ]
  },
  {
   "cell_type": "markdown",
   "metadata": {},
   "source": [
    "More broad peaks were called than narrow peaks, and therefore k4me1_summits.bed was used in downstream steps. "
   ]
  },
  {
   "cell_type": "markdown",
   "metadata": {},
   "source": [
    "# FINNISHED"
   ]
  }
 ],
 "metadata": {
  "kernelspec": {
   "display_name": "Python 3 (ipykernel)",
   "language": "python",
   "name": "python3"
  },
  "language_info": {
   "codemirror_mode": {
    "name": "ipython",
    "version": 3
   },
   "file_extension": ".py",
   "mimetype": "text/x-python",
   "name": "python",
   "nbconvert_exporter": "python",
   "pygments_lexer": "ipython3",
   "version": "3.8.12"
  }
 },
 "nbformat": 4,
 "nbformat_minor": 2
}
