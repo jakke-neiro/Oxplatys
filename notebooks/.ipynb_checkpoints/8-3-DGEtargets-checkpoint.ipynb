{
 "cells": [
  {
   "cell_type": "markdown",
   "id": "2d4b733a",
   "metadata": {},
   "source": [
    "# 8-3-DGEtargets"
   ]
  },
  {
   "cell_type": "markdown",
   "id": "898d8ce1",
   "metadata": {},
   "source": [
    "Jakke Neiro$^1$\n",
    "\n",
    "1. Aboobaker laboratory, Department of Zoology, University of Oxford"
   ]
  },
  {
   "cell_type": "markdown",
   "id": "3036c825",
   "metadata": {},
   "source": [
    "## Contents of notebook"
   ]
  },
  {
   "cell_type": "markdown",
   "id": "a3ce7e99",
   "metadata": {},
   "source": [
    "* 1. Introduction\n",
    "* 2. Cowles 2014\n",
    "* 3. Vogg 2014\n",
    "* 4. Tu 2015\n",
    "* 5. Stowers Institute 2016\n",
    "* 6. Scimone 2017\n",
    "* 7. Ross 2018\n",
    "* 8. Arnold 2021"
   ]
  },
  {
   "cell_type": "markdown",
   "id": "564c0f5c",
   "metadata": {},
   "source": [
    "# 1. Introduction"
   ]
  },
  {
   "cell_type": "markdown",
   "id": "2c631f58",
   "metadata": {},
   "source": [
    "The results of the knockdown RNA-seq data were analyzed."
   ]
  },
  {
   "cell_type": "code",
   "execution_count": 13,
   "id": "8e29a85d",
   "metadata": {},
   "outputs": [],
   "source": [
    "import pandas as pd\n",
    "gffcmp = pd.read_csv(\"/drives/raid/AboobakerLab/jakke/sexual_genome_annotation_files/ncrna_Neiro/gffcmp.stringtie_merged.gtf.tmap\", sep=\"\\t\")"
   ]
  },
  {
   "cell_type": "code",
   "execution_count": 14,
   "id": "6ab979c1",
   "metadata": {},
   "outputs": [],
   "source": [
    "import pandas as pd\n",
    "human_gene_blast = pd.read_csv(\"/drives/raid/AboobakerLab/jakke/sexual_genome_annotation_files/blast_annotation/human_gene_blast.tab\", sep=\"\\t\")"
   ]
  },
  {
   "cell_type": "code",
   "execution_count": 15,
   "id": "96b9024b",
   "metadata": {},
   "outputs": [],
   "source": [
    "def blasted(prep_signf, human_gene_blast, gffcmp):\n",
    "    prep_signf[\"Blast gene\"] = \"-\"\n",
    "    prep_signf[\"refgene\"] = \"-\"\n",
    "    for i in range(0,len(prep_signf)):\n",
    "        blast = human_gene_blast[human_gene_blast[\"geneID\"] == prep_signf.iloc[i,0]]\n",
    "        refgene = gffcmp[gffcmp[\"qry_gene_id\"] == prep_signf.iloc[i,0]]\n",
    "        if len(blast) > 0:\n",
    "            prep_signf[\"Blast gene\"].iloc[i] = blast[\"Gene\"].iloc[0]\n",
    "        if len(refgene) > 0:\n",
    "            prep_signf[\"refgene\"].iloc[i] = refgene[\"ref_gene_id\"].iloc[0]"
   ]
  },
  {
   "cell_type": "markdown",
   "id": "160d24e4",
   "metadata": {},
   "source": [
    "# 2. Cowles 2014"
   ]
  },
  {
   "cell_type": "markdown",
   "id": "26ce63cf",
   "metadata": {},
   "source": [
    "## 2.1 DGE list"
   ]
  },
  {
   "cell_type": "markdown",
   "id": "3666ebcc",
   "metadata": {},
   "source": [
    "The DGE results from 8-2 were uploaded."
   ]
  },
  {
   "cell_type": "code",
   "execution_count": 16,
   "id": "eb6c2eb2",
   "metadata": {},
   "outputs": [],
   "source": [
    "import pandas as pd\n",
    "Cowles2014 = pd.read_csv(\"/drives/raid/AboobakerLab/jakke/TF_RNAi_RNAseq/Cowles2014/res_Cowles2014.csv\")"
   ]
  },
  {
   "cell_type": "code",
   "execution_count": 17,
   "id": "ea8fd9e1",
   "metadata": {},
   "outputs": [],
   "source": [
    "Cowles2014.to_excel(\"/drives/raid/AboobakerLab/jakke/TF_RNAi_RNAseq/Cowles2014/res_Cowles2014.xlsx\")"
   ]
  },
  {
   "cell_type": "markdown",
   "id": "75fcc824",
   "metadata": {},
   "source": [
    "The differentially expressed genes ($p_{adj} < 0.05$) were selected for further study."
   ]
  },
  {
   "cell_type": "code",
   "execution_count": 18,
   "id": "3613433e",
   "metadata": {},
   "outputs": [],
   "source": [
    "Cowles2014 = Cowles2014[Cowles2014[\"padj\"] < 0.05]"
   ]
  },
  {
   "cell_type": "markdown",
   "id": "134ecd7f",
   "metadata": {},
   "source": [
    "The mammalian blast hits were added to the table of DGEs."
   ]
  },
  {
   "cell_type": "code",
   "execution_count": 19,
   "id": "d3b57fe4",
   "metadata": {},
   "outputs": [
    {
     "name": "stderr",
     "output_type": "stream",
     "text": [
      "/drives/raid/AboobakerLab/jakke/anaconda3/lib/python3.8/site-packages/pandas/core/indexing.py:1732: SettingWithCopyWarning: \n",
      "A value is trying to be set on a copy of a slice from a DataFrame\n",
      "\n",
      "See the caveats in the documentation: https://pandas.pydata.org/pandas-docs/stable/user_guide/indexing.html#returning-a-view-versus-a-copy\n",
      "  self._setitem_single_block(indexer, value, name)\n"
     ]
    }
   ],
   "source": [
    "blasted(Cowles2014, human_gene_blast, gffcmp)"
   ]
  },
  {
   "cell_type": "markdown",
   "id": "ca09f5aa",
   "metadata": {},
   "source": [
    "The list of enhancers were uploaded."
   ]
  },
  {
   "cell_type": "code",
   "execution_count": 20,
   "id": "08682543",
   "metadata": {},
   "outputs": [],
   "source": [
    "enhancer_final = pd.read_excel(\"/drives/raid/AboobakerLab/jakke/enhancer_regions/enhancer_all_oct2021.xlsx\").iloc[:,1:]"
   ]
  },
  {
   "cell_type": "code",
   "execution_count": 21,
   "id": "8fe5b7e9",
   "metadata": {},
   "outputs": [
    {
     "data": {
      "text/plain": [
       "4326"
      ]
     },
     "execution_count": 21,
     "metadata": {},
     "output_type": "execute_result"
    }
   ],
   "source": [
    "len(enhancer_final)"
   ]
  },
  {
   "cell_type": "markdown",
   "id": "afa45ccd",
   "metadata": {},
   "source": [
    "The enhancers with bound or unbound motifs of coe were selected from the list of all enhancers."
   ]
  },
  {
   "cell_type": "code",
   "execution_count": 22,
   "id": "801e671b",
   "metadata": {},
   "outputs": [],
   "source": [
    "coe_unbound_enhancers = enhancer_final[enhancer_final[\"Unbound motif names\"].str.contains(\"coe\")]\n",
    "coe_unbound_notenhancers = enhancer_final[~enhancer_final[\"Unbound motif names\"].str.contains(\"coe\")]\n",
    "coe_bound_enhancers = enhancer_final[enhancer_final[\"Bound motif names\"].str.contains(\"coe\")]\n",
    "coe_bound_notenhancers = enhancer_final[~enhancer_final[\"Bound motif names\"].str.contains(\"coe\")]"
   ]
  },
  {
   "cell_type": "markdown",
   "id": "37a49e11",
   "metadata": {},
   "source": [
    "## 2.2 All genes enrichment analysis"
   ]
  },
  {
   "cell_type": "markdown",
   "id": "a1711913",
   "metadata": {},
   "source": [
    "### 2.2.1 Proportions and constants"
   ]
  },
  {
   "cell_type": "markdown",
   "id": "f1b6cc38",
   "metadata": {},
   "source": [
    "$n_{ge}$ is the total number of genes in the genome"
   ]
  },
  {
   "cell_type": "code",
   "execution_count": 23,
   "id": "7a88635c",
   "metadata": {},
   "outputs": [],
   "source": [
    "import pandas as pd\n",
    "n_ge = len(pd.read_csv(\"/drives/raid/AboobakerLab/jakke/TF_RNAi_RNAseq/Cowles2014/res_Cowles2014.csv\"))"
   ]
  },
  {
   "cell_type": "markdown",
   "id": "27bad010",
   "metadata": {},
   "source": [
    "$p_{dge}$ is the proportion of differentially expressed genes (DGEs) upon coe(RNAi) of all genes in the genome."
   ]
  },
  {
   "cell_type": "code",
   "execution_count": 24,
   "id": "f0b2664d",
   "metadata": {},
   "outputs": [
    {
     "name": "stdout",
     "output_type": "stream",
     "text": [
      "869\n"
     ]
    }
   ],
   "source": [
    "print(len(Cowles2014))\n",
    "p_dge = len(Cowles2014)/n_ge"
   ]
  },
  {
   "cell_type": "code",
   "execution_count": 25,
   "id": "6bdaf672",
   "metadata": {},
   "outputs": [
    {
     "data": {
      "text/plain": [
       "0.03103238938685141"
      ]
     },
     "execution_count": 25,
     "metadata": {},
     "output_type": "execute_result"
    }
   ],
   "source": [
    "p_dge"
   ]
  },
  {
   "cell_type": "markdown",
   "id": "7e2ff34f",
   "metadata": {},
   "source": [
    "$p_{cis}$ is the proportion of genes associated with an enhancer of all genes in the genome."
   ]
  },
  {
   "cell_type": "code",
   "execution_count": 26,
   "id": "f4517a22",
   "metadata": {},
   "outputs": [
    {
     "name": "stdout",
     "output_type": "stream",
     "text": [
      "1702\n"
     ]
    }
   ],
   "source": [
    "print(len(pd.Categorical(enhancer_final[\"GeneDescription\"]).categories))\n",
    "p_cis = len(pd.Categorical(enhancer_final[\"GeneDescription\"]).categories)/n_ge"
   ]
  },
  {
   "cell_type": "code",
   "execution_count": 27,
   "id": "a0c072c9",
   "metadata": {},
   "outputs": [
    {
     "data": {
      "text/plain": [
       "0.06077920222833268"
      ]
     },
     "execution_count": 27,
     "metadata": {},
     "output_type": "execute_result"
    }
   ],
   "source": [
    "p_cis"
   ]
  },
  {
   "cell_type": "markdown",
   "id": "d814f93e",
   "metadata": {},
   "source": [
    "$p_{TF}$ is the proportion of all genes associated with an enhancer that contain an unbound motif of coe in the associated enhancers. "
   ]
  },
  {
   "cell_type": "code",
   "execution_count": 28,
   "id": "52bffd30",
   "metadata": {},
   "outputs": [
    {
     "name": "stdout",
     "output_type": "stream",
     "text": [
      "732\n"
     ]
    }
   ],
   "source": [
    "print(len(pd.Categorical(coe_unbound_enhancers[\"GeneDescription\"]).categories))\n",
    "p_TF = len(pd.Categorical(coe_unbound_enhancers[\"GeneDescription\"]).categories)/len(pd.Categorical(enhancer_final[\"GeneDescription\"]).categories)"
   ]
  },
  {
   "cell_type": "markdown",
   "id": "50349a71",
   "metadata": {},
   "source": [
    "$p_{footTF}$ is the proportion of all genes associated with an enhancer that contain a bound motif of coe in the associated enhancers."
   ]
  },
  {
   "cell_type": "code",
   "execution_count": 29,
   "id": "5ae71df0",
   "metadata": {},
   "outputs": [
    {
     "name": "stdout",
     "output_type": "stream",
     "text": [
      "56\n"
     ]
    }
   ],
   "source": [
    "print(len(pd.Categorical(coe_bound_enhancers[\"GeneDescription\"]).categories))\n",
    "p_footTF = len(pd.Categorical(coe_bound_enhancers[\"GeneDescription\"]).categories)/len(pd.Categorical(enhancer_final[\"GeneDescription\"]).categories)"
   ]
  },
  {
   "cell_type": "markdown",
   "id": "010c51c4",
   "metadata": {},
   "source": [
    "### 2.2.2 Expected frequencies"
   ]
  },
  {
   "cell_type": "markdown",
   "id": "47c7438b",
   "metadata": {},
   "source": [
    "The observed frequency of DEGs associated with an enhancer containing an unbound coe motif."
   ]
  },
  {
   "cell_type": "code",
   "execution_count": 30,
   "id": "44b639be",
   "metadata": {},
   "outputs": [
    {
     "name": "stdout",
     "output_type": "stream",
     "text": [
      "33\n"
     ]
    }
   ],
   "source": [
    "observed = len(pd.Categorical(coe_unbound_enhancers[coe_unbound_enhancers[\"geneId\"].isin(Cowles2014.iloc[:,0])][\"GeneDescription\"]).categories)\n",
    "print(observed)"
   ]
  },
  {
   "cell_type": "markdown",
   "id": "52179379",
   "metadata": {},
   "source": [
    "The expected frequency of DEGs is\n",
    "$$p_{dge}p_{cis}p_{TF}n_{ge}$$"
   ]
  },
  {
   "cell_type": "code",
   "execution_count": 31,
   "id": "bd43d6a9",
   "metadata": {},
   "outputs": [
    {
     "name": "stdout",
     "output_type": "stream",
     "text": [
      "22.715709031175233\n"
     ]
    }
   ],
   "source": [
    "expected = p_dge*p_cis*p_TF*n_ge\n",
    "print(expected)"
   ]
  },
  {
   "cell_type": "code",
   "execution_count": 32,
   "id": "2272ec30",
   "metadata": {},
   "outputs": [
    {
     "name": "stdout",
     "output_type": "stream",
     "text": [
      "1.4527391575015562\n"
     ]
    }
   ],
   "source": [
    "print(observed/expected)"
   ]
  },
  {
   "cell_type": "markdown",
   "id": "4c5b6f85",
   "metadata": {},
   "source": [
    "The observed frequency of DEGs associated with an enhancer containing an bound coe motif."
   ]
  },
  {
   "cell_type": "code",
   "execution_count": 33,
   "id": "07aad0d4",
   "metadata": {},
   "outputs": [
    {
     "name": "stdout",
     "output_type": "stream",
     "text": [
      "4\n"
     ]
    }
   ],
   "source": [
    "observed = len(pd.Categorical(coe_bound_enhancers[coe_bound_enhancers[\"geneId\"].isin(Cowles2014.iloc[:,0])][\"GeneDescription\"]).categories)\n",
    "print(observed)"
   ]
  },
  {
   "cell_type": "markdown",
   "id": "62cdaed4",
   "metadata": {},
   "source": [
    "The expected frequency of DEGs is\n",
    "$$p_{dge}p_{cis}p_{footTF}n_{ge}$$"
   ]
  },
  {
   "cell_type": "code",
   "execution_count": 34,
   "id": "c0e90b36",
   "metadata": {},
   "outputs": [
    {
     "name": "stdout",
     "output_type": "stream",
     "text": [
      "1.737813805663679\n"
     ]
    }
   ],
   "source": [
    "expected = p_dge*p_cis*p_footTF*n_ge\n",
    "print(expected)"
   ]
  },
  {
   "cell_type": "markdown",
   "id": "e0fe80d1",
   "metadata": {},
   "source": [
    "## 2.3 Transcription factors enrichment analysis"
   ]
  },
  {
   "cell_type": "markdown",
   "id": "34a222f5",
   "metadata": {},
   "source": [
    "### 2.3.1 Proportions and constants"
   ]
  },
  {
   "cell_type": "code",
   "execution_count": 35,
   "id": "0d0cf223",
   "metadata": {},
   "outputs": [],
   "source": [
    "FACS = pd.read_csv(\"/drives/raid/AboobakerLab/jakke/FACS/FACS_prop.csv\")"
   ]
  },
  {
   "cell_type": "code",
   "execution_count": 36,
   "id": "a5f60784",
   "metadata": {},
   "outputs": [],
   "source": [
    "import pandas as pd\n",
    "TF_table = pd.read_csv(\"/drives/raid/AboobakerLab/jakke/TF_data/Transcription_factors_01072021_values.csv\").iloc[:,1:]"
   ]
  },
  {
   "cell_type": "code",
   "execution_count": 37,
   "id": "6798cc46",
   "metadata": {},
   "outputs": [],
   "source": [
    "TF_table_enhancers = TF_table[TF_table[\"Neiro\"].isin(enhancer_final[\"geneId\"])]"
   ]
  },
  {
   "cell_type": "code",
   "execution_count": 38,
   "id": "75169f7f",
   "metadata": {},
   "outputs": [],
   "source": [
    "import pandas as pd\n",
    "Cowles2014 = pd.read_csv(\"/drives/raid/AboobakerLab/jakke/TF_RNAi_RNAseq/Cowles2014/res_Cowles2014.csv\")\n",
    "Cowles2014diff = Cowles2014[Cowles2014[\"padj\"] < 0.05]\n",
    "Cowles2014TF = Cowles2014diff[Cowles2014diff.iloc[:,0].isin(TF_table_enhancers[\"Neiro\"])]"
   ]
  },
  {
   "cell_type": "code",
   "execution_count": 39,
   "id": "d8010b04",
   "metadata": {},
   "outputs": [
    {
     "name": "stdout",
     "output_type": "stream",
     "text": [
      "6\n"
     ]
    }
   ],
   "source": [
    "print(len(Cowles2014TF))\n",
    "p_dgetf = len(Cowles2014TF)/n_ge"
   ]
  },
  {
   "cell_type": "markdown",
   "id": "355727bb",
   "metadata": {},
   "source": [
    "### 2.3.2 Expected frequencies"
   ]
  },
  {
   "cell_type": "code",
   "execution_count": 40,
   "id": "95207b6b",
   "metadata": {},
   "outputs": [
    {
     "name": "stdout",
     "output_type": "stream",
     "text": [
      "4\n"
     ]
    }
   ],
   "source": [
    "coe_unbound_observed = len(pd.Categorical(coe_unbound_enhancers[coe_unbound_enhancers[\"geneId\"].isin(Cowles2014TF.iloc[:,0])][\"GeneDescription\"]).categories)\n",
    "print(coe_unbound_observed)"
   ]
  },
  {
   "cell_type": "code",
   "execution_count": 41,
   "id": "15e2682a",
   "metadata": {},
   "outputs": [
    {
     "name": "stdout",
     "output_type": "stream",
     "text": [
      "1.737813805663679\n"
     ]
    }
   ],
   "source": [
    "coe_unbound_expected = p_dgetf*p_cis*p_TF*n_ge\n",
    "print(expected)"
   ]
  },
  {
   "cell_type": "code",
   "execution_count": 42,
   "id": "7cf1f4e2",
   "metadata": {},
   "outputs": [
    {
     "name": "stdout",
     "output_type": "stream",
     "text": [
      "25.503642987249545\n"
     ]
    }
   ],
   "source": [
    "coe_unbound_ratio = coe_unbound_observed/coe_unbound_expected\n",
    "print(coe_unbound_ratio)"
   ]
  },
  {
   "cell_type": "code",
   "execution_count": 43,
   "id": "acae07ee",
   "metadata": {},
   "outputs": [
    {
     "name": "stdout",
     "output_type": "stream",
     "text": [
      "1\n"
     ]
    }
   ],
   "source": [
    "coe_bound_observed = len(pd.Categorical(coe_bound_enhancers[coe_bound_enhancers[\"geneId\"].isin(Cowles2014TF.iloc[:,0])][\"GeneDescription\"]).categories)\n",
    "print(coe_bound_observed)"
   ]
  },
  {
   "cell_type": "code",
   "execution_count": 44,
   "id": "11df2965",
   "metadata": {},
   "outputs": [
    {
     "name": "stdout",
     "output_type": "stream",
     "text": [
      "0.01199871442345463\n"
     ]
    }
   ],
   "source": [
    "coe_bound_expected = p_dgetf*p_cis*p_footTF*n_ge\n",
    "print(coe_bound_expected)"
   ]
  },
  {
   "cell_type": "code",
   "execution_count": 45,
   "id": "a373e3ac",
   "metadata": {},
   "outputs": [
    {
     "name": "stdout",
     "output_type": "stream",
     "text": [
      "83.34226190476191\n"
     ]
    }
   ],
   "source": [
    "coe_bound_ratio = coe_bound_observed/coe_bound_expected\n",
    "print(coe_bound_ratio)"
   ]
  },
  {
   "cell_type": "markdown",
   "id": "39f2e6cf",
   "metadata": {},
   "source": [
    "### 2.3.3 Specificity and sensitivity"
   ]
  },
  {
   "cell_type": "markdown",
   "id": "ec2ed7e8",
   "metadata": {},
   "source": [
    "Specificity:\n",
    "$$\n",
    "\\frac{TN}{TN + FP}\n",
    "$$"
   ]
  },
  {
   "cell_type": "code",
   "execution_count": 46,
   "id": "b1d4683d",
   "metadata": {},
   "outputs": [
    {
     "name": "stdout",
     "output_type": "stream",
     "text": [
      "431\n",
      "101\n",
      "0.8101503759398496\n",
      "0.18984962406015038\n"
     ]
    }
   ],
   "source": [
    "TN_coe_unbound = len(TF_table[(~TF_table[\"Neiro\"].isin(Cowles2014diff.iloc[:,0])) & (~TF_table[\"Neiro\"].isin(coe_unbound_enhancers[\"geneId\"]))])\n",
    "print(TN_coe_unbound)\n",
    "FP_coe_unbound = len(pd.Categorical(coe_unbound_enhancers[coe_unbound_enhancers[\"geneId\"].isin(TF_table[\"Neiro\"]) & (~coe_unbound_enhancers[\"geneId\"].isin(Cowles2014TF.iloc[:,0]))][\"GeneDescription\"]).categories)\n",
    "print(FP_coe_unbound)\n",
    "specificity_unbound = TN_coe_unbound/(TN_coe_unbound+FP_coe_unbound)\n",
    "print(specificity_unbound)\n",
    "FPR_unbound_coe = 1 - specificity_unbound\n",
    "print(FPR_unbound_coe)"
   ]
  },
  {
   "cell_type": "code",
   "execution_count": 47,
   "id": "a5f18e51",
   "metadata": {},
   "outputs": [
    {
     "name": "stdout",
     "output_type": "stream",
     "text": [
      "536\n",
      "7\n",
      "0.9871086556169429\n",
      "0.012891344383057057\n"
     ]
    }
   ],
   "source": [
    "TN_coe_bound = len(TF_table[(~TF_table[\"Neiro\"].isin(Cowles2014diff.iloc[:,0])) & (~TF_table[\"Neiro\"].isin(coe_bound_enhancers[\"geneId\"]))])\n",
    "print(TN_coe_bound)\n",
    "FP_coe_bound = len(pd.Categorical(coe_bound_enhancers[coe_bound_enhancers[\"geneId\"].isin(TF_table[\"Neiro\"]) & (~coe_bound_enhancers[\"geneId\"].isin(Cowles2014TF.iloc[:,0]))][\"GeneDescription\"]).categories)\n",
    "print(FP_coe_bound)\n",
    "specificity_bound = TN_coe_bound/(TN_coe_bound+FP_coe_bound)\n",
    "print(specificity_bound)\n",
    "FPR_bound_coe = 1 - specificity_bound\n",
    "print(FPR_bound_coe)"
   ]
  },
  {
   "cell_type": "markdown",
   "id": "b863c090",
   "metadata": {},
   "source": [
    "Sensitivity:\n",
    "$$\n",
    "\\frac{TP}{TP + FN}\n",
    "$$"
   ]
  },
  {
   "cell_type": "code",
   "execution_count": 48,
   "id": "9710abf0",
   "metadata": {},
   "outputs": [
    {
     "name": "stdout",
     "output_type": "stream",
     "text": [
      "4\n",
      "2\n",
      "0.6666666666666666\n"
     ]
    }
   ],
   "source": [
    "TP_coe_unbound = len(pd.Categorical(coe_unbound_enhancers[coe_unbound_enhancers[\"geneId\"].isin(Cowles2014TF.iloc[:,0])][\"GeneDescription\"]).categories)\n",
    "print(TP_coe_unbound)\n",
    "FN_coe_unbound = len(Cowles2014TF[~Cowles2014TF.iloc[:,0].isin(coe_unbound_enhancers[\"geneId\"])])\n",
    "print(FN_coe_unbound)\n",
    "TPR_unbound_coe = TP_coe_unbound/(TP_coe_unbound+FN_coe_unbound)\n",
    "print(TPR_unbound_coe)"
   ]
  },
  {
   "cell_type": "code",
   "execution_count": 49,
   "id": "4414f684",
   "metadata": {},
   "outputs": [
    {
     "name": "stdout",
     "output_type": "stream",
     "text": [
      "1\n",
      "5\n",
      "0.16666666666666666\n"
     ]
    }
   ],
   "source": [
    "TP_coe_bound = len(pd.Categorical(coe_bound_enhancers[coe_bound_enhancers[\"geneId\"].isin(Cowles2014TF.iloc[:,0])][\"GeneDescription\"]).categories)\n",
    "print(TP_coe_bound)\n",
    "FN_coe_bound = len(Cowles2014TF[~Cowles2014TF.iloc[:,0].isin(coe_bound_enhancers[\"geneId\"])])\n",
    "print(FN_coe_bound)\n",
    "TPR_bound_coe = TP_coe_bound/(TP_coe_bound+FN_coe_bound)\n",
    "print(TPR_bound_coe)"
   ]
  },
  {
   "cell_type": "code",
   "execution_count": 50,
   "id": "d7cd6def",
   "metadata": {},
   "outputs": [
    {
     "data": {
      "text/plain": [
       "[<matplotlib.lines.Line2D at 0x7fc986318400>]"
      ]
     },
     "execution_count": 50,
     "metadata": {},
     "output_type": "execute_result"
    },
    {
     "data": {
      "image/png": "[encoded data removed]",
      "text/plain": [
       "<Figure size 432x288 with 1 Axes>"
      ]
     },
     "metadata": {
      "needs_background": "light"
     },
     "output_type": "display_data"
    }
   ],
   "source": [
    "import matplotlib.pyplot as plt\n",
    "import numpy as np\n",
    "plt.plot(np.linspace(0,1, 50), np.linspace(0,1, 50))\n",
    "plt.plot(FPR_unbound_coe, TPR_unbound_coe, \"bo\")\n",
    "plt.plot(FPR_bound_coe, TPR_bound_coe, \"bo\")"
   ]
  },
  {
   "cell_type": "code",
   "execution_count": 51,
   "id": "b4029c63",
   "metadata": {},
   "outputs": [],
   "source": [
    "pd.DataFrame({\"coe\": [FPR_unbound_coe, FPR_bound_coe, TPR_unbound_coe, TPR_bound_coe, coe_unbound_ratio, coe_bound_ratio, TP_coe_unbound, FP_coe_unbound, TN_coe_unbound, FN_coe_unbound, TP_coe_bound, FP_coe_bound, TN_coe_bound, FN_coe_bound, coe_unbound_observed, coe_unbound_expected, coe_bound_observed, coe_bound_expected]}).to_csv(\"/drives/raid/AboobakerLab/jakke/TF_RNAi_RNAseq/Cowles2014/ROC.csv\")"
   ]
  },
  {
   "cell_type": "markdown",
   "id": "c1d6f46b",
   "metadata": {},
   "source": [
    "## 2.4 Transcription factor targets"
   ]
  },
  {
   "cell_type": "code",
   "execution_count": 52,
   "id": "15d0e4ff",
   "metadata": {},
   "outputs": [
    {
     "data": {
      "text/html": [
       "<div>\n",
       "<style scoped>\n",
       "    .dataframe tbody tr th:only-of-type {\n",
       "        vertical-align: middle;\n",
       "    }\n",
       "\n",
       "    .dataframe tbody tr th {\n",
       "        vertical-align: top;\n",
       "    }\n",
       "\n",
       "    .dataframe thead th {\n",
       "        text-align: right;\n",
       "    }\n",
       "</style>\n",
       "<table border=\"1\" class=\"dataframe\">\n",
       "  <thead>\n",
       "    <tr style=\"text-align: right;\">\n",
       "      <th></th>\n",
       "      <th>Rink</th>\n",
       "      <th>Neiro</th>\n",
       "      <th>Symbol</th>\n",
       "      <th>Old symbol</th>\n",
       "      <th>Description</th>\n",
       "      <th>TF group</th>\n",
       "      <th>TF class</th>\n",
       "      <th>Identification</th>\n",
       "      <th>RNAi</th>\n",
       "      <th>In situ</th>\n",
       "      <th>Reference</th>\n",
       "      <th>X1</th>\n",
       "      <th>X2</th>\n",
       "      <th>Xins</th>\n",
       "      <th>X1 percent</th>\n",
       "      <th>X2 percent</th>\n",
       "      <th>Xins percent</th>\n",
       "      <th>Jaspar MatrixID</th>\n",
       "      <th>Jaspar Evalue</th>\n",
       "    </tr>\n",
       "  </thead>\n",
       "  <tbody>\n",
       "    <tr>\n",
       "      <th>55</th>\n",
       "      <td>SMESG000069088.1</td>\n",
       "      <td>MSTRG.19091</td>\n",
       "      <td>coe</td>\n",
       "      <td>coe</td>\n",
       "      <td>Collier/olfactory/early B-cell factor</td>\n",
       "      <td>HLH</td>\n",
       "      <td>Basic domain</td>\n",
       "      <td>1.0</td>\n",
       "      <td>CNS defects</td>\n",
       "      <td>CNS, Pharynx, Mesenchyme</td>\n",
       "      <td>(Cowles et al., 2013)</td>\n",
       "      <td>3.678686</td>\n",
       "      <td>11.531076</td>\n",
       "      <td>2.702819</td>\n",
       "      <td>0.205369</td>\n",
       "      <td>0.643742</td>\n",
       "      <td>0.150889</td>\n",
       "      <td>MA0154.3</td>\n",
       "      <td>0.000000e+00</td>\n",
       "    </tr>\n",
       "    <tr>\n",
       "      <th>130</th>\n",
       "      <td>SMESG000073676.1</td>\n",
       "      <td>MSTRG.20458</td>\n",
       "      <td>rest-2</td>\n",
       "      <td>NaN</td>\n",
       "      <td>RE1-silencing transcription factor 2</td>\n",
       "      <td>REST</td>\n",
       "      <td>Zinc</td>\n",
       "      <td>0.0</td>\n",
       "      <td>0</td>\n",
       "      <td>0</td>\n",
       "      <td>NaN</td>\n",
       "      <td>2.351438</td>\n",
       "      <td>15.839811</td>\n",
       "      <td>9.382819</td>\n",
       "      <td>0.085277</td>\n",
       "      <td>0.574446</td>\n",
       "      <td>0.340277</td>\n",
       "      <td>MA0531.1</td>\n",
       "      <td>6.374640e-10</td>\n",
       "    </tr>\n",
       "    <tr>\n",
       "      <th>350</th>\n",
       "      <td>SMESG000032751.1</td>\n",
       "      <td>MSTRG.10720</td>\n",
       "      <td>prox-3</td>\n",
       "      <td>NaN</td>\n",
       "      <td>Prospero homeobox protein 3</td>\n",
       "      <td>PROX</td>\n",
       "      <td>Helix-turn-helix</td>\n",
       "      <td>0.0</td>\n",
       "      <td>0</td>\n",
       "      <td>0</td>\n",
       "      <td>NaN</td>\n",
       "      <td>0.062141</td>\n",
       "      <td>3.539479</td>\n",
       "      <td>0.635444</td>\n",
       "      <td>0.014666</td>\n",
       "      <td>0.835361</td>\n",
       "      <td>0.149973</td>\n",
       "      <td>0</td>\n",
       "      <td>0.000000e+00</td>\n",
       "    </tr>\n",
       "    <tr>\n",
       "      <th>366</th>\n",
       "      <td>SMESG000013430.1</td>\n",
       "      <td>MSTRG.4837</td>\n",
       "      <td>pou4-1</td>\n",
       "      <td>pou4l-1/pou4</td>\n",
       "      <td>POU class 4 homeobox 1</td>\n",
       "      <td>POU</td>\n",
       "      <td>Helix-turn-helix</td>\n",
       "      <td>1.0</td>\n",
       "      <td>Brain defects</td>\n",
       "      <td>CNS</td>\n",
       "      <td>(Önal et al., 2012; van Wolfswinkel et al., 20...</td>\n",
       "      <td>5.452494</td>\n",
       "      <td>5.756611</td>\n",
       "      <td>2.501233</td>\n",
       "      <td>0.397692</td>\n",
       "      <td>0.419874</td>\n",
       "      <td>0.182434</td>\n",
       "      <td>MA0791.1</td>\n",
       "      <td>1.090100e-75</td>\n",
       "    </tr>\n",
       "    <tr>\n",
       "      <th>374</th>\n",
       "      <td>SMESG000066574.1</td>\n",
       "      <td>MSTRG.19704</td>\n",
       "      <td>pax2/5/8-2</td>\n",
       "      <td>NaN</td>\n",
       "      <td>Paired box 2/5/8 protein 2</td>\n",
       "      <td>PAX</td>\n",
       "      <td>Helix-turn-helix</td>\n",
       "      <td>0.0</td>\n",
       "      <td>0</td>\n",
       "      <td>0</td>\n",
       "      <td>NaN</td>\n",
       "      <td>8.004656</td>\n",
       "      <td>9.021828</td>\n",
       "      <td>6.892441</td>\n",
       "      <td>0.334658</td>\n",
       "      <td>0.377184</td>\n",
       "      <td>0.288158</td>\n",
       "      <td>0</td>\n",
       "      <td>0.000000e+00</td>\n",
       "    </tr>\n",
       "    <tr>\n",
       "      <th>501</th>\n",
       "      <td>SMESG000067290.1</td>\n",
       "      <td>MSTRG.19902</td>\n",
       "      <td>ski-1</td>\n",
       "      <td>ski</td>\n",
       "      <td>Ski oncogene 1</td>\n",
       "      <td>SKI</td>\n",
       "      <td>Other</td>\n",
       "      <td>1.0</td>\n",
       "      <td>0</td>\n",
       "      <td>Neoblasts</td>\n",
       "      <td>(Molinaro et al., 2016; Stückemann et al., 2017)</td>\n",
       "      <td>2.109682</td>\n",
       "      <td>30.611419</td>\n",
       "      <td>23.561391</td>\n",
       "      <td>0.037484</td>\n",
       "      <td>0.543889</td>\n",
       "      <td>0.418627</td>\n",
       "      <td>MA0508.1</td>\n",
       "      <td>7.792400e-01</td>\n",
       "    </tr>\n",
       "  </tbody>\n",
       "</table>\n",
       "</div>"
      ],
      "text/plain": [
       "                 Rink        Neiro      Symbol    Old symbol  \\\n",
       "55   SMESG000069088.1  MSTRG.19091         coe           coe   \n",
       "130  SMESG000073676.1  MSTRG.20458      rest-2           NaN   \n",
       "350  SMESG000032751.1  MSTRG.10720      prox-3           NaN   \n",
       "366  SMESG000013430.1   MSTRG.4837      pou4-1  pou4l-1/pou4   \n",
       "374  SMESG000066574.1  MSTRG.19704  pax2/5/8-2           NaN   \n",
       "501  SMESG000067290.1  MSTRG.19902       ski-1           ski   \n",
       "\n",
       "                               Description TF group          TF class  \\\n",
       "55   Collier/olfactory/early B-cell factor      HLH      Basic domain   \n",
       "130   RE1-silencing transcription factor 2     REST              Zinc   \n",
       "350            Prospero homeobox protein 3     PROX  Helix-turn-helix   \n",
       "366                 POU class 4 homeobox 1      POU  Helix-turn-helix   \n",
       "374             Paired box 2/5/8 protein 2      PAX  Helix-turn-helix   \n",
       "501                         Ski oncogene 1      SKI             Other   \n",
       "\n",
       "     Identification           RNAi                   In situ  \\\n",
       "55              1.0    CNS defects  CNS, Pharynx, Mesenchyme   \n",
       "130             0.0              0                         0   \n",
       "350             0.0              0                         0   \n",
       "366             1.0  Brain defects                       CNS   \n",
       "374             0.0              0                         0   \n",
       "501             1.0              0                 Neoblasts   \n",
       "\n",
       "                                             Reference        X1         X2  \\\n",
       "55                               (Cowles et al., 2013)  3.678686  11.531076   \n",
       "130                                                NaN  2.351438  15.839811   \n",
       "350                                                NaN  0.062141   3.539479   \n",
       "366  (Önal et al., 2012; van Wolfswinkel et al., 20...  5.452494   5.756611   \n",
       "374                                                NaN  8.004656   9.021828   \n",
       "501   (Molinaro et al., 2016; Stückemann et al., 2017)  2.109682  30.611419   \n",
       "\n",
       "          Xins  X1 percent  X2 percent  Xins percent Jaspar MatrixID  \\\n",
       "55    2.702819    0.205369    0.643742      0.150889        MA0154.3   \n",
       "130   9.382819    0.085277    0.574446      0.340277        MA0531.1   \n",
       "350   0.635444    0.014666    0.835361      0.149973               0   \n",
       "366   2.501233    0.397692    0.419874      0.182434        MA0791.1   \n",
       "374   6.892441    0.334658    0.377184      0.288158               0   \n",
       "501  23.561391    0.037484    0.543889      0.418627        MA0508.1   \n",
       "\n",
       "     Jaspar Evalue  \n",
       "55    0.000000e+00  \n",
       "130   6.374640e-10  \n",
       "350   0.000000e+00  \n",
       "366   1.090100e-75  \n",
       "374   0.000000e+00  \n",
       "501   7.792400e-01  "
      ]
     },
     "execution_count": 52,
     "metadata": {},
     "output_type": "execute_result"
    }
   ],
   "source": [
    "TF_table[TF_table[\"Neiro\"].isin(Cowles2014TF.iloc[:,0])]"
   ]
  },
  {
   "cell_type": "code",
   "execution_count": 53,
   "id": "ded0d200",
   "metadata": {},
   "outputs": [
    {
     "name": "stdout",
     "output_type": "stream",
     "text": [
      "['MSTRG.4837']\n"
     ]
    }
   ],
   "source": [
    "coe_target_tf_list = list(pd.Categorical(coe_bound_enhancers[coe_bound_enhancers[\"geneId\"].isin(Cowles2014TF.iloc[:,0])][\"geneId\"]).categories)\n",
    "print(coe_target_tf_list)"
   ]
  },
  {
   "cell_type": "code",
   "execution_count": 54,
   "id": "b7a6ceeb",
   "metadata": {},
   "outputs": [],
   "source": [
    "coe_dge_tf_table = TF_table[TF_table[\"Neiro\"].isin(Cowles2014TF.iloc[:,0])]"
   ]
  },
  {
   "cell_type": "code",
   "execution_count": 55,
   "id": "48c128c5",
   "metadata": {},
   "outputs": [
    {
     "data": {
      "text/html": [
       "<div>\n",
       "<style scoped>\n",
       "    .dataframe tbody tr th:only-of-type {\n",
       "        vertical-align: middle;\n",
       "    }\n",
       "\n",
       "    .dataframe tbody tr th {\n",
       "        vertical-align: top;\n",
       "    }\n",
       "\n",
       "    .dataframe thead th {\n",
       "        text-align: right;\n",
       "    }\n",
       "</style>\n",
       "<table border=\"1\" class=\"dataframe\">\n",
       "  <thead>\n",
       "    <tr style=\"text-align: right;\">\n",
       "      <th></th>\n",
       "      <th>Rink</th>\n",
       "      <th>Neiro</th>\n",
       "      <th>Symbol</th>\n",
       "      <th>Old symbol</th>\n",
       "      <th>Description</th>\n",
       "      <th>TF group</th>\n",
       "      <th>TF class</th>\n",
       "      <th>Identification</th>\n",
       "      <th>RNAi</th>\n",
       "      <th>In situ</th>\n",
       "      <th>Reference</th>\n",
       "      <th>X1</th>\n",
       "      <th>X2</th>\n",
       "      <th>Xins</th>\n",
       "      <th>X1 percent</th>\n",
       "      <th>X2 percent</th>\n",
       "      <th>Xins percent</th>\n",
       "      <th>Jaspar MatrixID</th>\n",
       "      <th>Jaspar Evalue</th>\n",
       "    </tr>\n",
       "  </thead>\n",
       "  <tbody>\n",
       "    <tr>\n",
       "      <th>366</th>\n",
       "      <td>SMESG000013430.1</td>\n",
       "      <td>MSTRG.4837</td>\n",
       "      <td>pou4-1</td>\n",
       "      <td>pou4l-1/pou4</td>\n",
       "      <td>POU class 4 homeobox 1</td>\n",
       "      <td>POU</td>\n",
       "      <td>Helix-turn-helix</td>\n",
       "      <td>1.0</td>\n",
       "      <td>Brain defects</td>\n",
       "      <td>CNS</td>\n",
       "      <td>(Önal et al., 2012; van Wolfswinkel et al., 20...</td>\n",
       "      <td>5.452494</td>\n",
       "      <td>5.756611</td>\n",
       "      <td>2.501233</td>\n",
       "      <td>0.397692</td>\n",
       "      <td>0.419874</td>\n",
       "      <td>0.182434</td>\n",
       "      <td>MA0791.1</td>\n",
       "      <td>1.090100e-75</td>\n",
       "    </tr>\n",
       "  </tbody>\n",
       "</table>\n",
       "</div>"
      ],
      "text/plain": [
       "                 Rink       Neiro  Symbol    Old symbol  \\\n",
       "366  SMESG000013430.1  MSTRG.4837  pou4-1  pou4l-1/pou4   \n",
       "\n",
       "                Description TF group          TF class  Identification  \\\n",
       "366  POU class 4 homeobox 1      POU  Helix-turn-helix             1.0   \n",
       "\n",
       "              RNAi In situ                                          Reference  \\\n",
       "366  Brain defects     CNS  (Önal et al., 2012; van Wolfswinkel et al., 20...   \n",
       "\n",
       "           X1        X2      Xins  X1 percent  X2 percent  Xins percent  \\\n",
       "366  5.452494  5.756611  2.501233    0.397692    0.419874      0.182434   \n",
       "\n",
       "    Jaspar MatrixID  Jaspar Evalue  \n",
       "366        MA0791.1   1.090100e-75  "
      ]
     },
     "execution_count": 55,
     "metadata": {},
     "output_type": "execute_result"
    }
   ],
   "source": [
    "coe_dge_tf_table[coe_dge_tf_table[\"Neiro\"].isin(coe_target_tf_list)]"
   ]
  },
  {
   "cell_type": "markdown",
   "id": "113d1e6a",
   "metadata": {},
   "source": [
    "# 3. Vogg 2014"
   ]
  },
  {
   "cell_type": "markdown",
   "id": "c4f848ff",
   "metadata": {},
   "source": [
    "## 3.1 DGE list"
   ]
  },
  {
   "cell_type": "code",
   "execution_count": 56,
   "id": "1720900c",
   "metadata": {},
   "outputs": [],
   "source": [
    "import pandas as pd\n",
    "Vogg2014 = pd.read_csv(\"/drives/raid/AboobakerLab/jakke/TF_RNAi_RNAseq/Vogg2014/res_Vogg2014_3dpa.csv\")"
   ]
  },
  {
   "cell_type": "code",
   "execution_count": 57,
   "id": "4379957b",
   "metadata": {},
   "outputs": [],
   "source": [
    "Vogg2014.to_excel(\"/drives/raid/AboobakerLab/jakke/TF_RNAi_RNAseq/Vogg2014/res_Vogg2014_3dpa.xlsx\")"
   ]
  },
  {
   "cell_type": "code",
   "execution_count": 58,
   "id": "f1a2b78e",
   "metadata": {},
   "outputs": [
    {
     "name": "stderr",
     "output_type": "stream",
     "text": [
      "/drives/raid/AboobakerLab/jakke/anaconda3/lib/python3.8/site-packages/pandas/core/indexing.py:1732: SettingWithCopyWarning: \n",
      "A value is trying to be set on a copy of a slice from a DataFrame\n",
      "\n",
      "See the caveats in the documentation: https://pandas.pydata.org/pandas-docs/stable/user_guide/indexing.html#returning-a-view-versus-a-copy\n",
      "  self._setitem_single_block(indexer, value, name)\n"
     ]
    }
   ],
   "source": [
    "Vogg2014 = Vogg2014[Vogg2014[\"padj\"] < 0.05]\n",
    "blasted(Vogg2014, human_gene_blast, gffcmp)"
   ]
  },
  {
   "cell_type": "code",
   "execution_count": 59,
   "id": "d7778d47",
   "metadata": {},
   "outputs": [],
   "source": [
    "fox_unbound_enhancers = enhancer_final[enhancer_final[\"Unbound motif names\"].str.contains(\"fox\")]\n",
    "fox_unbound_notenhancers = enhancer_final[~enhancer_final[\"Unbound motif names\"].str.contains(\"fox\")]\n",
    "fox_bound_enhancers = enhancer_final[enhancer_final[\"Bound motif names\"].str.contains(\"fox\")]\n",
    "fox_bound_notenhancers = enhancer_final[~enhancer_final[\"Bound motif names\"].str.contains(\"fox\")]"
   ]
  },
  {
   "cell_type": "markdown",
   "id": "ef3e7b71",
   "metadata": {},
   "source": [
    "## 3.2 All genes enrichment analysis"
   ]
  },
  {
   "cell_type": "markdown",
   "id": "3ce12216",
   "metadata": {},
   "source": [
    "### 3.2.1 Proportions and constants"
   ]
  },
  {
   "cell_type": "code",
   "execution_count": 60,
   "id": "ffb38066",
   "metadata": {},
   "outputs": [],
   "source": [
    "import pandas as pd\n",
    "n_ge = len(pd.read_csv(\"/drives/raid/AboobakerLab/jakke/TF_RNAi_RNAseq/Vogg2014/res_Vogg2014_3dpa.csv\"))"
   ]
  },
  {
   "cell_type": "code",
   "execution_count": 61,
   "id": "8fe6660c",
   "metadata": {},
   "outputs": [
    {
     "name": "stdout",
     "output_type": "stream",
     "text": [
      "59\n"
     ]
    }
   ],
   "source": [
    "print(len(Vogg2014))\n",
    "p_dge = len(Vogg2014)/n_ge"
   ]
  },
  {
   "cell_type": "code",
   "execution_count": 62,
   "id": "0e4de20c",
   "metadata": {},
   "outputs": [
    {
     "name": "stdout",
     "output_type": "stream",
     "text": [
      "1702\n"
     ]
    }
   ],
   "source": [
    "print(len(pd.Categorical(enhancer_final[\"GeneDescription\"]).categories))\n",
    "p_cis = len(pd.Categorical(enhancer_final[\"GeneDescription\"]).categories)/n_ge"
   ]
  },
  {
   "cell_type": "code",
   "execution_count": 63,
   "id": "c98cc874",
   "metadata": {},
   "outputs": [
    {
     "name": "stdout",
     "output_type": "stream",
     "text": [
      "1526\n"
     ]
    }
   ],
   "source": [
    "print(len(pd.Categorical(fox_unbound_enhancers[\"GeneDescription\"]).categories))\n",
    "p_TF = len(pd.Categorical(fox_unbound_enhancers[\"GeneDescription\"]).categories)/len(pd.Categorical(enhancer_final[\"GeneDescription\"]).categories)"
   ]
  },
  {
   "cell_type": "code",
   "execution_count": 64,
   "id": "28e4ca12",
   "metadata": {},
   "outputs": [
    {
     "name": "stdout",
     "output_type": "stream",
     "text": [
      "140\n"
     ]
    }
   ],
   "source": [
    "print(len(pd.Categorical(fox_bound_enhancers[\"GeneDescription\"]).categories))\n",
    "p_footTF = len(pd.Categorical(fox_bound_enhancers[\"GeneDescription\"]).categories)/len(pd.Categorical(enhancer_final[\"GeneDescription\"]).categories)"
   ]
  },
  {
   "cell_type": "markdown",
   "id": "12066261",
   "metadata": {},
   "source": [
    "### 3.2.2 Expected frequencies"
   ]
  },
  {
   "cell_type": "code",
   "execution_count": 65,
   "id": "90bd3780",
   "metadata": {},
   "outputs": [
    {
     "name": "stdout",
     "output_type": "stream",
     "text": [
      "18\n"
     ]
    }
   ],
   "source": [
    "fox_unbound_observed = len(pd.Categorical(fox_unbound_enhancers[fox_unbound_enhancers[\"geneId\"].isin(Vogg2014.iloc[:,0])][\"GeneDescription\"]).categories)\n",
    "print(fox_unbound_observed)"
   ]
  },
  {
   "cell_type": "code",
   "execution_count": 66,
   "id": "33558c0c",
   "metadata": {},
   "outputs": [
    {
     "name": "stdout",
     "output_type": "stream",
     "text": [
      "3.2151555190515304\n"
     ]
    }
   ],
   "source": [
    "fox_unbound_expected = p_dge*p_cis*p_TF*n_ge\n",
    "print(fox_unbound_expected)"
   ]
  },
  {
   "cell_type": "code",
   "execution_count": 67,
   "id": "04053f5d",
   "metadata": {},
   "outputs": [
    {
     "name": "stdout",
     "output_type": "stream",
     "text": [
      "5.598485016771441\n"
     ]
    }
   ],
   "source": [
    "print(fox_unbound_observed/fox_unbound_expected)"
   ]
  },
  {
   "cell_type": "code",
   "execution_count": 68,
   "id": "bf00d7c5",
   "metadata": {},
   "outputs": [
    {
     "name": "stdout",
     "output_type": "stream",
     "text": [
      "2\n"
     ]
    }
   ],
   "source": [
    "fox_bound_observed = len(pd.Categorical(fox_bound_enhancers[fox_bound_enhancers[\"geneId\"].isin(Vogg2014.iloc[:,0])][\"GeneDescription\"]).categories)\n",
    "print(fox_bound_observed)"
   ]
  },
  {
   "cell_type": "code",
   "execution_count": 69,
   "id": "f84574d0",
   "metadata": {},
   "outputs": [
    {
     "name": "stdout",
     "output_type": "stream",
     "text": [
      "0.29496839624325966\n"
     ]
    }
   ],
   "source": [
    "fox_bound_expected = p_dge*p_cis*p_footTF*n_ge\n",
    "print(fox_bound_expected)"
   ]
  },
  {
   "cell_type": "code",
   "execution_count": 70,
   "id": "c081608d",
   "metadata": {},
   "outputs": [
    {
     "name": "stdout",
     "output_type": "stream",
     "text": [
      "6.780387409200968\n"
     ]
    }
   ],
   "source": [
    "print(fox_bound_observed/fox_bound_expected)"
   ]
  },
  {
   "cell_type": "markdown",
   "id": "8108c606",
   "metadata": {},
   "source": [
    "## 3.3 Transcription factors enrichment analysis"
   ]
  },
  {
   "cell_type": "markdown",
   "id": "40ed0850",
   "metadata": {},
   "source": [
    "### 3.3.1 Proportions and constants"
   ]
  },
  {
   "cell_type": "code",
   "execution_count": 71,
   "id": "14e4cfc0",
   "metadata": {},
   "outputs": [],
   "source": [
    "import pandas as pd\n",
    "Vogg2014 = pd.read_csv(\"/drives/raid/AboobakerLab/jakke/TF_RNAi_RNAseq/Vogg2014/res_Vogg2014_3dpa.csv\")\n",
    "Vogg2014diff = Vogg2014[Vogg2014[\"padj\"] < 0.05]\n",
    "Vogg2014TF = Vogg2014diff[Vogg2014diff.iloc[:,0].isin(TF_table[\"Neiro\"])]"
   ]
  },
  {
   "cell_type": "code",
   "execution_count": 72,
   "id": "2c018a03",
   "metadata": {},
   "outputs": [
    {
     "name": "stdout",
     "output_type": "stream",
     "text": [
      "9\n"
     ]
    }
   ],
   "source": [
    "print(len(Vogg2014TF))\n",
    "p_dgetf = len(Vogg2014TF)/n_ge"
   ]
  },
  {
   "cell_type": "markdown",
   "id": "2503ac0a",
   "metadata": {},
   "source": [
    "### 3.3.2 Expected frequencies"
   ]
  },
  {
   "cell_type": "code",
   "execution_count": 73,
   "id": "1b0cc22c",
   "metadata": {},
   "outputs": [
    {
     "name": "stdout",
     "output_type": "stream",
     "text": [
      "7\n"
     ]
    }
   ],
   "source": [
    "fox_unbound_observed = len(pd.Categorical(fox_unbound_enhancers[fox_unbound_enhancers[\"geneId\"].isin(Vogg2014TF.iloc[:,0])][\"GeneDescription\"]).categories)\n",
    "print(fox_unbound_observed)"
   ]
  },
  {
   "cell_type": "code",
   "execution_count": 74,
   "id": "ab26063d",
   "metadata": {},
   "outputs": [
    {
     "name": "stdout",
     "output_type": "stream",
     "text": [
      "0.490447452058708\n"
     ]
    }
   ],
   "source": [
    "fox_unbound_expected = p_dgetf*p_cis*p_TF*n_ge\n",
    "print(fox_unbound_expected)"
   ]
  },
  {
   "cell_type": "code",
   "execution_count": 75,
   "id": "d3c1f79b",
   "metadata": {},
   "outputs": [
    {
     "name": "stdout",
     "output_type": "stream",
     "text": [
      "14.272680937818553\n"
     ]
    }
   ],
   "source": [
    "fox_unbound_ratio = fox_unbound_observed/fox_unbound_expected\n",
    "print(fox_unbound_ratio)"
   ]
  },
  {
   "cell_type": "code",
   "execution_count": 76,
   "id": "3295d33c",
   "metadata": {},
   "outputs": [
    {
     "name": "stdout",
     "output_type": "stream",
     "text": [
      "2\n"
     ]
    }
   ],
   "source": [
    "fox_bound_observed = len(pd.Categorical(fox_bound_enhancers[fox_bound_enhancers[\"geneId\"].isin(Vogg2014TF.iloc[:,0])][\"GeneDescription\"]).categories)\n",
    "print(fox_bound_observed)"
   ]
  },
  {
   "cell_type": "code",
   "execution_count": 77,
   "id": "92713521",
   "metadata": {},
   "outputs": [
    {
     "name": "stdout",
     "output_type": "stream",
     "text": [
      "0.044995179087954855\n"
     ]
    }
   ],
   "source": [
    "fox_bound_expected = p_dgetf*p_cis*p_footTF*n_ge\n",
    "print(fox_bound_expected)"
   ]
  },
  {
   "cell_type": "code",
   "execution_count": 78,
   "id": "33d89a9a",
   "metadata": {},
   "outputs": [
    {
     "name": "stdout",
     "output_type": "stream",
     "text": [
      "44.44920634920636\n"
     ]
    }
   ],
   "source": [
    "fox_bound_ratio = fox_bound_observed/fox_bound_expected\n",
    "print(fox_bound_ratio)"
   ]
  },
  {
   "cell_type": "markdown",
   "id": "eb808b87",
   "metadata": {},
   "source": [
    "### 3.3.3 Specificity and sensitivity"
   ]
  },
  {
   "cell_type": "code",
   "execution_count": 79,
   "id": "6052eddf",
   "metadata": {},
   "outputs": [
    {
     "name": "stdout",
     "output_type": "stream",
     "text": [
      "339\n",
      "174\n",
      "0.6608187134502924\n",
      "0.3391812865497076\n"
     ]
    }
   ],
   "source": [
    "TN_foxd_unbound = len(TF_table[(~TF_table[\"Neiro\"].isin(Vogg2014diff.iloc[:,0])) & (~TF_table[\"Neiro\"].isin(fox_unbound_enhancers[\"geneId\"]))])\n",
    "print(TN_foxd_unbound)\n",
    "#FP = len(pd.Categorical(fox_unbound_enhancers[fox_unbound_enhancers[\"geneId\"].isin(TF_table[\"Neiro\"])][\"GeneDescription\"]).categories)\n",
    "FP_foxd_unbound = len(pd.Categorical(fox_unbound_enhancers[fox_unbound_enhancers[\"geneId\"].isin(TF_table[\"Neiro\"]) & (~fox_unbound_enhancers[\"geneId\"].isin(Vogg2014TF.iloc[:,0]))][\"GeneDescription\"]).categories)\n",
    "print(FP_foxd_unbound)\n",
    "specificity_unbound = TN_foxd_unbound/(TN_foxd_unbound+FP_foxd_unbound)\n",
    "print(specificity_unbound)\n",
    "FPR_unbound_fox = 1 - specificity_unbound\n",
    "print(FPR_unbound_fox)"
   ]
  },
  {
   "cell_type": "code",
   "execution_count": 80,
   "id": "99350acd",
   "metadata": {},
   "outputs": [
    {
     "name": "stdout",
     "output_type": "stream",
     "text": [
      "519\n",
      "21\n",
      "0.9611111111111111\n",
      "0.03888888888888886\n"
     ]
    }
   ],
   "source": [
    "TN_foxd_bound = len(TF_table[(~TF_table[\"Neiro\"].isin(Vogg2014diff.iloc[:,0])) & (~TF_table[\"Neiro\"].isin(fox_bound_enhancers[\"geneId\"]))])\n",
    "print(TN_foxd_bound)\n",
    "#FP = len(pd.Categorical(fox_bound_enhancers[fox_bound_enhancers[\"geneId\"].isin(TF_table[\"Neiro\"])][\"GeneDescription\"]).categories)\n",
    "FP_foxd_bound = len(pd.Categorical(fox_bound_enhancers[fox_bound_enhancers[\"geneId\"].isin(TF_table[\"Neiro\"]) & (~fox_bound_enhancers[\"geneId\"].isin(Vogg2014TF.iloc[:,0]))][\"GeneDescription\"]).categories)\n",
    "print(FP_foxd_bound)\n",
    "specificity_bound = TN_foxd_bound/(TN_foxd_bound+FP_foxd_bound)\n",
    "print(specificity_bound)\n",
    "FPR_bound_fox = 1 - specificity_bound\n",
    "print(FPR_bound_fox)"
   ]
  },
  {
   "cell_type": "code",
   "execution_count": 81,
   "id": "7911fa95",
   "metadata": {},
   "outputs": [
    {
     "name": "stdout",
     "output_type": "stream",
     "text": [
      "7\n",
      "2\n",
      "0.7777777777777778\n"
     ]
    }
   ],
   "source": [
    "TP_foxd_unbound = len(pd.Categorical(fox_unbound_enhancers[fox_unbound_enhancers[\"geneId\"].isin(Vogg2014TF.iloc[:,0])][\"GeneDescription\"]).categories)\n",
    "print(TP_foxd_unbound)\n",
    "FN_foxd_unbound = len(Vogg2014TF[~Vogg2014TF.iloc[:,0].isin(fox_unbound_enhancers[\"geneId\"])])\n",
    "print(FN_foxd_unbound)\n",
    "TPR_unbound_fox = TP_foxd_unbound/(TP_foxd_unbound+FN_foxd_unbound)\n",
    "print(TPR_unbound_fox)"
   ]
  },
  {
   "cell_type": "code",
   "execution_count": 82,
   "id": "04eb1d7f",
   "metadata": {},
   "outputs": [
    {
     "name": "stdout",
     "output_type": "stream",
     "text": [
      "2\n",
      "7\n",
      "0.2222222222222222\n"
     ]
    }
   ],
   "source": [
    "TP_foxd_bound = len(pd.Categorical(fox_bound_enhancers[fox_bound_enhancers[\"geneId\"].isin(Vogg2014TF.iloc[:,0])][\"GeneDescription\"]).categories)\n",
    "print(TP_foxd_bound)\n",
    "FN_foxd_bound = len(Vogg2014TF[~Vogg2014TF.iloc[:,0].isin(fox_bound_enhancers[\"geneId\"])])\n",
    "print(FN_foxd_bound)\n",
    "TPR_bound_fox = TP_foxd_bound/(TP_foxd_bound+FN_foxd_bound)\n",
    "print(TPR_bound_fox)"
   ]
  },
  {
   "cell_type": "code",
   "execution_count": 83,
   "id": "68a2318f",
   "metadata": {},
   "outputs": [
    {
     "data": {
      "text/plain": [
       "[<matplotlib.lines.Line2D at 0x7fc985bc7c40>]"
      ]
     },
     "execution_count": 83,
     "metadata": {},
     "output_type": "execute_result"
    },
    {
     "data": {
      "image/png": "[encoded data removed]",
      "text/plain": [
       "<Figure size 432x288 with 1 Axes>"
      ]
     },
     "metadata": {
      "needs_background": "light"
     },
     "output_type": "display_data"
    }
   ],
   "source": [
    "import matplotlib.pyplot as plt\n",
    "import numpy as np\n",
    "plt.plot(np.linspace(0,1, 50), np.linspace(0,1, 50))\n",
    "plt.plot(FPR_unbound_coe, TPR_unbound_fox, \"bo\")\n",
    "plt.plot(FPR_bound_coe, TPR_bound_fox, \"bo\")\n",
    "plt.plot(FPR_unbound_fox, TPR_unbound_fox, \"bo\")\n",
    "plt.plot(FPR_bound_fox, TPR_bound_fox, \"bo\")"
   ]
  },
  {
   "cell_type": "code",
   "execution_count": 84,
   "id": "8618f4f8",
   "metadata": {},
   "outputs": [],
   "source": [
    "pd.DataFrame({\"fox\": [FPR_unbound_fox, FPR_bound_fox, TPR_unbound_fox, TPR_bound_fox, fox_unbound_ratio, fox_bound_ratio, TP_foxd_unbound, FP_foxd_unbound, TN_foxd_unbound, FN_foxd_unbound, TP_foxd_bound, FP_foxd_bound, TN_foxd_bound, FN_foxd_bound, fox_unbound_observed, fox_unbound_expected, fox_bound_observed, fox_bound_expected]}).to_csv(\"/drives/raid/AboobakerLab/jakke/TF_RNAi_RNAseq/Vogg2014/ROC.csv\")"
   ]
  },
  {
   "cell_type": "code",
   "execution_count": 85,
   "id": "8eaa7b64",
   "metadata": {},
   "outputs": [
    {
     "name": "stdout",
     "output_type": "stream",
     "text": [
      "['MSTRG.4755', 'MSTRG.7999']\n"
     ]
    }
   ],
   "source": [
    "foxd_target_tf_list = list(pd.Categorical(fox_bound_enhancers[fox_bound_enhancers[\"geneId\"].isin(Vogg2014TF.iloc[:,0])][\"geneId\"]).categories)\n",
    "print(foxd_target_tf_list)"
   ]
  },
  {
   "cell_type": "code",
   "execution_count": 86,
   "id": "6d540357",
   "metadata": {},
   "outputs": [
    {
     "data": {
      "text/html": [
       "<div>\n",
       "<style scoped>\n",
       "    .dataframe tbody tr th:only-of-type {\n",
       "        vertical-align: middle;\n",
       "    }\n",
       "\n",
       "    .dataframe tbody tr th {\n",
       "        vertical-align: top;\n",
       "    }\n",
       "\n",
       "    .dataframe thead th {\n",
       "        text-align: right;\n",
       "    }\n",
       "</style>\n",
       "<table border=\"1\" class=\"dataframe\">\n",
       "  <thead>\n",
       "    <tr style=\"text-align: right;\">\n",
       "      <th></th>\n",
       "      <th>Rink</th>\n",
       "      <th>Neiro</th>\n",
       "      <th>Symbol</th>\n",
       "      <th>Old symbol</th>\n",
       "      <th>Description</th>\n",
       "      <th>TF group</th>\n",
       "      <th>TF class</th>\n",
       "      <th>Identification</th>\n",
       "      <th>RNAi</th>\n",
       "      <th>In situ</th>\n",
       "      <th>Reference</th>\n",
       "      <th>X1</th>\n",
       "      <th>X2</th>\n",
       "      <th>Xins</th>\n",
       "      <th>X1 percent</th>\n",
       "      <th>X2 percent</th>\n",
       "      <th>Xins percent</th>\n",
       "      <th>Jaspar MatrixID</th>\n",
       "      <th>Jaspar Evalue</th>\n",
       "    </tr>\n",
       "  </thead>\n",
       "  <tbody>\n",
       "    <tr>\n",
       "      <th>254</th>\n",
       "      <td>SMESG000022668.1</td>\n",
       "      <td>MSTRG.7999</td>\n",
       "      <td>Post-2c</td>\n",
       "      <td>abdBa</td>\n",
       "      <td>Post-2c</td>\n",
       "      <td>HOX</td>\n",
       "      <td>Helix-turn-helix</td>\n",
       "      <td>1.0</td>\n",
       "      <td>No fission defect</td>\n",
       "      <td>Pharynx, Posterior axially restricted</td>\n",
       "      <td>(Currie et al., 2016; Roberts-Galbraith et al....</td>\n",
       "      <td>30.789869</td>\n",
       "      <td>28.450949</td>\n",
       "      <td>28.802261</td>\n",
       "      <td>0.349714</td>\n",
       "      <td>0.323148</td>\n",
       "      <td>0.327138</td>\n",
       "      <td>0</td>\n",
       "      <td>0.000000e+00</td>\n",
       "    </tr>\n",
       "    <tr>\n",
       "      <th>304</th>\n",
       "      <td>SMESG000013307.1</td>\n",
       "      <td>MSTRG.4755</td>\n",
       "      <td>Prep</td>\n",
       "      <td>NaN</td>\n",
       "      <td>PBX/Knotted 1 Homeobox</td>\n",
       "      <td>PNOX</td>\n",
       "      <td>Helix-turn-helix</td>\n",
       "      <td>1.0</td>\n",
       "      <td>Anterior defects</td>\n",
       "      <td>Anterior  axially restricted</td>\n",
       "      <td>(Felix and Aboobaker, 2010; Chen et al. 2013; ...</td>\n",
       "      <td>1.717018</td>\n",
       "      <td>15.142650</td>\n",
       "      <td>5.305422</td>\n",
       "      <td>0.077465</td>\n",
       "      <td>0.683176</td>\n",
       "      <td>0.239359</td>\n",
       "      <td>MA0783.1</td>\n",
       "      <td>4.206750e-63</td>\n",
       "    </tr>\n",
       "  </tbody>\n",
       "</table>\n",
       "</div>"
      ],
      "text/plain": [
       "                 Rink       Neiro   Symbol Old symbol             Description  \\\n",
       "254  SMESG000022668.1  MSTRG.7999  Post-2c      abdBa                 Post-2c   \n",
       "304  SMESG000013307.1  MSTRG.4755     Prep        NaN  PBX/Knotted 1 Homeobox   \n",
       "\n",
       "    TF group          TF class  Identification               RNAi  \\\n",
       "254      HOX  Helix-turn-helix             1.0  No fission defect   \n",
       "304     PNOX  Helix-turn-helix             1.0   Anterior defects   \n",
       "\n",
       "                                   In situ  \\\n",
       "254  Pharynx, Posterior axially restricted   \n",
       "304           Anterior  axially restricted   \n",
       "\n",
       "                                             Reference         X1         X2  \\\n",
       "254  (Currie et al., 2016; Roberts-Galbraith et al....  30.789869  28.450949   \n",
       "304  (Felix and Aboobaker, 2010; Chen et al. 2013; ...   1.717018  15.142650   \n",
       "\n",
       "          Xins  X1 percent  X2 percent  Xins percent Jaspar MatrixID  \\\n",
       "254  28.802261    0.349714    0.323148      0.327138               0   \n",
       "304   5.305422    0.077465    0.683176      0.239359        MA0783.1   \n",
       "\n",
       "     Jaspar Evalue  \n",
       "254   0.000000e+00  \n",
       "304   4.206750e-63  "
      ]
     },
     "execution_count": 86,
     "metadata": {},
     "output_type": "execute_result"
    }
   ],
   "source": [
    "foxd_dge_tf_table = TF_table[TF_table[\"Neiro\"].isin(Vogg2014TF.iloc[:,0])]\n",
    "foxd_dge_tf_table[foxd_dge_tf_table[\"Neiro\"].isin(foxd_target_tf_list)]"
   ]
  },
  {
   "cell_type": "markdown",
   "id": "b2853a06",
   "metadata": {},
   "source": [
    "# 4. Tu 2015"
   ]
  },
  {
   "cell_type": "code",
   "execution_count": 87,
   "id": "2428c19e",
   "metadata": {},
   "outputs": [],
   "source": [
    "import pandas as pd\n",
    "Tu2015 = pd.read_csv(\"/drives/raid/AboobakerLab/jakke/TF_RNAi_RNAseq/Tu2015/res_Tu2015_p53.csv\")"
   ]
  },
  {
   "cell_type": "code",
   "execution_count": 88,
   "id": "7a76d30a",
   "metadata": {},
   "outputs": [
    {
     "name": "stderr",
     "output_type": "stream",
     "text": [
      "/drives/raid/AboobakerLab/jakke/anaconda3/lib/python3.8/site-packages/pandas/core/indexing.py:1732: SettingWithCopyWarning: \n",
      "A value is trying to be set on a copy of a slice from a DataFrame\n",
      "\n",
      "See the caveats in the documentation: https://pandas.pydata.org/pandas-docs/stable/user_guide/indexing.html#returning-a-view-versus-a-copy\n",
      "  self._setitem_single_block(indexer, value, name)\n"
     ]
    }
   ],
   "source": [
    "Tu2015 = Tu2015[Tu2015[\"padj\"] < 0.05]\n",
    "blasted(Tu2015, human_gene_blast, gffcmp)"
   ]
  },
  {
   "cell_type": "code",
   "execution_count": 89,
   "id": "20365275",
   "metadata": {},
   "outputs": [],
   "source": [
    "import pandas as pd\n",
    "n_ge = len(pd.read_csv(\"/drives/raid/AboobakerLab/jakke/TF_RNAi_RNAseq/Tu2015/res_Tu2015_p53.csv\"))"
   ]
  },
  {
   "cell_type": "code",
   "execution_count": 90,
   "id": "bd921360",
   "metadata": {},
   "outputs": [
    {
     "name": "stdout",
     "output_type": "stream",
     "text": [
      "5556\n"
     ]
    }
   ],
   "source": [
    "print(len(Tu2015))\n",
    "p_dge = len(Tu2015)/n_ge"
   ]
  },
  {
   "cell_type": "code",
   "execution_count": 91,
   "id": "d94d3691",
   "metadata": {},
   "outputs": [],
   "source": [
    "enhancer_final = pd.read_excel(\"/drives/raid/AboobakerLab/jakke/enhancer_regions/enhancer_all_oct2021.xlsx\").iloc[:,1:]"
   ]
  },
  {
   "cell_type": "code",
   "execution_count": 92,
   "id": "88226e1d",
   "metadata": {},
   "outputs": [
    {
     "name": "stdout",
     "output_type": "stream",
     "text": [
      "1702\n"
     ]
    }
   ],
   "source": [
    "print(len(pd.Categorical(enhancer_final[\"GeneDescription\"]).categories))\n",
    "p_cis = len(pd.Categorical(enhancer_final[\"GeneDescription\"]).categories)/n_ge"
   ]
  },
  {
   "cell_type": "code",
   "execution_count": 93,
   "id": "f3cad4b7",
   "metadata": {},
   "outputs": [],
   "source": [
    "p53_unbound_enhancers = enhancer_final[enhancer_final[\"Unbound motif names\"].str.contains(\"53\")]\n",
    "p53_unbound_notenhancers = enhancer_final[~enhancer_final[\"Unbound motif names\"].str.contains(\"p53\")]\n",
    "p53_bound_enhancers = enhancer_final[enhancer_final[\"Bound motif names\"].str.contains(\"p53\")]\n",
    "p53_bound_notenhancers = enhancer_final[~enhancer_final[\"Bound motif names\"].str.contains(\"p53\")]"
   ]
  },
  {
   "cell_type": "code",
   "execution_count": 94,
   "id": "b1d9cda4",
   "metadata": {},
   "outputs": [
    {
     "name": "stdout",
     "output_type": "stream",
     "text": [
      "0\n"
     ]
    }
   ],
   "source": [
    "print(len(pd.Categorical(p53_unbound_enhancers[\"GeneDescription\"]).categories))\n",
    "p_TF = len(pd.Categorical(p53_unbound_enhancers[\"GeneDescription\"]).categories)/len(pd.Categorical(enhancer_final[\"GeneDescription\"]).categories)"
   ]
  },
  {
   "cell_type": "code",
   "execution_count": 95,
   "id": "dab80ebe",
   "metadata": {},
   "outputs": [
    {
     "data": {
      "text/plain": [
       "1526"
      ]
     },
     "execution_count": 95,
     "metadata": {},
     "output_type": "execute_result"
    }
   ],
   "source": [
    "len(pd.Categorical(fox_unbound_enhancers[fox_unbound_enhancers[\"geneId\"].isin(Cowles2014.iloc[:,0])][\"GeneDescription\"]).categories)"
   ]
  },
  {
   "cell_type": "markdown",
   "id": "b75226c8",
   "metadata": {},
   "source": [
    "# 5. Stowers Institute 2016"
   ]
  },
  {
   "cell_type": "markdown",
   "id": "e1904b3a",
   "metadata": {},
   "source": [
    "## 5.1 All genes"
   ]
  },
  {
   "cell_type": "code",
   "execution_count": 96,
   "id": "d8690bb0",
   "metadata": {},
   "outputs": [],
   "source": [
    "Stowers2016pax5 = pd.read_csv(\"/drives/raid/AboobakerLab/jakke/TF_RNAi_RNAseq/Stowers2016/res_Stowers2016_pax5whole_18hpa.csv\")"
   ]
  },
  {
   "cell_type": "code",
   "execution_count": 97,
   "id": "0fc1b9a8",
   "metadata": {},
   "outputs": [],
   "source": [
    "Stowers2016pax5 = Stowers2016pax5[Stowers2016pax5[\"padj\"] < 0.05]\n",
    "blasted(Stowers2016pax5, human_gene_blast, gffcmp)"
   ]
  },
  {
   "cell_type": "code",
   "execution_count": 98,
   "id": "967def52",
   "metadata": {},
   "outputs": [],
   "source": [
    "import pandas as pd\n",
    "n_ge = len(pd.read_csv(\"/drives/raid/AboobakerLab/jakke/TF_RNAi_RNAseq/Stowers2016/res_Stowers2016_pax5whole.csv\"))"
   ]
  },
  {
   "cell_type": "code",
   "execution_count": 99,
   "id": "27e28793",
   "metadata": {},
   "outputs": [
    {
     "name": "stdout",
     "output_type": "stream",
     "text": [
      "1581\n"
     ]
    }
   ],
   "source": [
    "print(len(Stowers2016pax5))\n",
    "p_dge = len(Stowers2016pax5)/n_ge"
   ]
  },
  {
   "cell_type": "code",
   "execution_count": 100,
   "id": "d0acc916",
   "metadata": {},
   "outputs": [],
   "source": [
    "enhancer_final = pd.read_excel(\"/drives/raid/AboobakerLab/jakke/enhancer_regions/enhancer_all_oct2021.xlsx\").iloc[:,1:]"
   ]
  },
  {
   "cell_type": "code",
   "execution_count": 101,
   "id": "534dbf09",
   "metadata": {},
   "outputs": [
    {
     "name": "stdout",
     "output_type": "stream",
     "text": [
      "1702\n"
     ]
    }
   ],
   "source": [
    "print(len(pd.Categorical(enhancer_final[\"GeneDescription\"]).categories))\n",
    "p_cis = len(pd.Categorical(enhancer_final[\"GeneDescription\"]).categories)/n_ge"
   ]
  },
  {
   "cell_type": "code",
   "execution_count": 102,
   "id": "dacdab7f",
   "metadata": {},
   "outputs": [],
   "source": [
    "pax5_unbound_enhancers = enhancer_final[enhancer_final[\"Unbound motif names\"].str.contains(\"pax\")]\n",
    "pax5_unbound_notenhancers = enhancer_final[~enhancer_final[\"Unbound motif names\"].str.contains(\"pax\")]\n",
    "pax5_bound_enhancers = enhancer_final[enhancer_final[\"Bound motif names\"].str.contains(\"pax\")]\n",
    "pax5_bound_notenhancers = enhancer_final[~enhancer_final[\"Bound motif names\"].str.contains(\"pax\")]"
   ]
  },
  {
   "cell_type": "code",
   "execution_count": 103,
   "id": "3a3b178d",
   "metadata": {},
   "outputs": [
    {
     "name": "stdout",
     "output_type": "stream",
     "text": [
      "1355\n"
     ]
    }
   ],
   "source": [
    "print(len(pd.Categorical(pax5_unbound_enhancers[\"GeneDescription\"]).categories))\n",
    "p_TF = len(pd.Categorical(pax5_unbound_enhancers[\"GeneDescription\"]).categories)/len(pd.Categorical(enhancer_final[\"GeneDescription\"]).categories)"
   ]
  },
  {
   "cell_type": "code",
   "execution_count": 104,
   "id": "88a5398f",
   "metadata": {},
   "outputs": [
    {
     "name": "stdout",
     "output_type": "stream",
     "text": [
      "218\n"
     ]
    }
   ],
   "source": [
    "print(len(pd.Categorical(pax5_bound_enhancers[\"GeneDescription\"]).categories))\n",
    "p_footTF = len(pd.Categorical(pax5_bound_enhancers[\"GeneDescription\"]).categories)/len(pd.Categorical(enhancer_final[\"GeneDescription\"]).categories)"
   ]
  },
  {
   "cell_type": "code",
   "execution_count": 105,
   "id": "a47115e8",
   "metadata": {},
   "outputs": [
    {
     "data": {
      "text/plain": [
       "149"
      ]
     },
     "execution_count": 105,
     "metadata": {},
     "output_type": "execute_result"
    }
   ],
   "source": [
    "len(pd.Categorical(pax5_unbound_enhancers[pax5_unbound_enhancers[\"geneId\"].isin(Stowers2016pax5.iloc[:,0])][\"GeneDescription\"]).categories)"
   ]
  },
  {
   "cell_type": "code",
   "execution_count": 106,
   "id": "031520fe",
   "metadata": {},
   "outputs": [
    {
     "data": {
      "text/plain": [
       "76.50091061671962"
      ]
     },
     "execution_count": 106,
     "metadata": {},
     "output_type": "execute_result"
    }
   ],
   "source": [
    "p_dge*p_cis*p_TF*n_ge"
   ]
  },
  {
   "cell_type": "code",
   "execution_count": 107,
   "id": "fcbc20ec",
   "metadata": {},
   "outputs": [
    {
     "data": {
      "text/plain": [
       "25"
      ]
     },
     "execution_count": 107,
     "metadata": {},
     "output_type": "execute_result"
    }
   ],
   "source": [
    "len(pd.Categorical(pax5_bound_enhancers[pax5_bound_enhancers[\"geneId\"].isin(Stowers2016pax5.iloc[:,0])][\"GeneDescription\"]).categories)"
   ]
  },
  {
   "cell_type": "code",
   "execution_count": 108,
   "id": "a39d5e11",
   "metadata": {},
   "outputs": [
    {
     "data": {
      "text/plain": [
       "12.307895582616148"
      ]
     },
     "execution_count": 108,
     "metadata": {},
     "output_type": "execute_result"
    }
   ],
   "source": [
    "p_dge*p_cis*p_footTF*n_ge"
   ]
  },
  {
   "cell_type": "code",
   "execution_count": 109,
   "id": "91eee13b",
   "metadata": {},
   "outputs": [
    {
     "data": {
      "text/plain": [
       "196"
      ]
     },
     "execution_count": 109,
     "metadata": {},
     "output_type": "execute_result"
    }
   ],
   "source": [
    "len(pd.Categorical(enhancer_final[enhancer_final[\"geneId\"].isin(Stowers2016pax5.iloc[:,0])][\"GeneDescription\"]).categories)"
   ]
  },
  {
   "cell_type": "markdown",
   "id": "ef2a97aa",
   "metadata": {},
   "source": [
    "## 5.2 Transcription factors"
   ]
  },
  {
   "cell_type": "code",
   "execution_count": 110,
   "id": "935d9e7e",
   "metadata": {},
   "outputs": [],
   "source": [
    "import pandas as pd\n",
    "Stowers2016 = pd.read_csv(\"/drives/raid/AboobakerLab/jakke/TF_RNAi_RNAseq/Stowers2016/res_Stowers2016_pax5whole_18hpa.csv\")\n",
    "Stowers2016diff = Stowers2016[Stowers2016[\"padj\"] < 0.05]\n",
    "Stowers2016TF = Stowers2016diff[Stowers2016diff.iloc[:,0].isin(TF_table[\"Neiro\"])]"
   ]
  },
  {
   "cell_type": "code",
   "execution_count": 111,
   "id": "b7028f60",
   "metadata": {},
   "outputs": [],
   "source": [
    "import pandas as pd\n",
    "Stowers2016 = pd.read_csv(\"/drives/raid/AboobakerLab/jakke/TF_RNAi_RNAseq/Stowers2016/res_Stowers2016_pax5whole_18hpa.csv\")\n",
    "Stowers2016.to_excel(\"/drives/raid/AboobakerLab/jakke/TF_RNAi_RNAseq/Stowers2016/res_Stowers2016_pax5whole_18hpa.xlsx\")"
   ]
  },
  {
   "cell_type": "code",
   "execution_count": 112,
   "id": "df1d6f90",
   "metadata": {},
   "outputs": [
    {
     "name": "stdout",
     "output_type": "stream",
     "text": [
      "50\n"
     ]
    }
   ],
   "source": [
    "print(len(Stowers2016TF))\n",
    "p_dgetf = len(Stowers2016TF)/n_ge"
   ]
  },
  {
   "cell_type": "code",
   "execution_count": 113,
   "id": "a6462380",
   "metadata": {},
   "outputs": [
    {
     "name": "stdout",
     "output_type": "stream",
     "text": [
      "18\n"
     ]
    }
   ],
   "source": [
    "pax5_unbound_observed = len(pd.Categorical(pax5_unbound_enhancers[pax5_unbound_enhancers[\"geneId\"].isin(Stowers2016TF.iloc[:,0])][\"GeneDescription\"]).categories)\n",
    "print(pax5_unbound_observed)"
   ]
  },
  {
   "cell_type": "code",
   "execution_count": 114,
   "id": "a7767948",
   "metadata": {},
   "outputs": [
    {
     "name": "stdout",
     "output_type": "stream",
     "text": [
      "2.4193836374674142\n"
     ]
    }
   ],
   "source": [
    "pax5_unbound_expected = p_dgetf*p_cis*p_TF*n_ge\n",
    "print(pax5_unbound_expected)"
   ]
  },
  {
   "cell_type": "code",
   "execution_count": 115,
   "id": "20ba09f1",
   "metadata": {},
   "outputs": [
    {
     "name": "stdout",
     "output_type": "stream",
     "text": [
      "7.439911439114391\n"
     ]
    }
   ],
   "source": [
    "pax5_unbound_ratio = pax5_unbound_observed/pax5_unbound_expected\n",
    "print(pax5_unbound_ratio)"
   ]
  },
  {
   "cell_type": "code",
   "execution_count": 116,
   "id": "d3099ba4",
   "metadata": {},
   "outputs": [
    {
     "name": "stdout",
     "output_type": "stream",
     "text": [
      "5\n"
     ]
    }
   ],
   "source": [
    "pax5_bound_observed = len(pd.Categorical(pax5_bound_enhancers[pax5_bound_enhancers[\"geneId\"].isin(Stowers2016TF.iloc[:,0])][\"GeneDescription\"]).categories)\n",
    "print(pax5_bound_observed)"
   ]
  },
  {
   "cell_type": "code",
   "execution_count": 117,
   "id": "78c4c89c",
   "metadata": {},
   "outputs": [
    {
     "name": "stdout",
     "output_type": "stream",
     "text": [
      "0.38924400957040317\n"
     ]
    }
   ],
   "source": [
    "pax5_bound_expected = p_dgetf*p_cis*p_footTF*n_ge\n",
    "print(pax5_bound_expected)"
   ]
  },
  {
   "cell_type": "code",
   "execution_count": 118,
   "id": "2f3a85a8",
   "metadata": {},
   "outputs": [
    {
     "name": "stdout",
     "output_type": "stream",
     "text": [
      "12.845412844036698\n"
     ]
    }
   ],
   "source": [
    "pax5_bound_ratio = pax5_bound_observed/pax5_bound_expected\n",
    "print(pax5_bound_ratio)"
   ]
  },
  {
   "cell_type": "code",
   "execution_count": 119,
   "id": "9f90cdc6",
   "metadata": {},
   "outputs": [
    {
     "name": "stdout",
     "output_type": "stream",
     "text": [
      "322\n",
      "154\n",
      "0.6764705882352942\n",
      "0.32352941176470584\n"
     ]
    }
   ],
   "source": [
    "TN_pax5_unbound = len(TF_table[(~TF_table[\"Neiro\"].isin(Stowers2016diff.iloc[:,0])) & (~TF_table[\"Neiro\"].isin(pax5_unbound_enhancers[\"geneId\"]))])\n",
    "print(TN_pax5_unbound)\n",
    "#FP = len(pd.Categorical(pax5_unbound_enhancers[pax5_unbound_enhancers[\"geneId\"].isin(TF_table[\"Neiro\"])][\"GeneDescription\"]).categories)\n",
    "FP_pax5_unbound = len(pd.Categorical(pax5_unbound_enhancers[pax5_unbound_enhancers[\"geneId\"].isin(TF_table[\"Neiro\"]) & (~pax5_unbound_enhancers[\"geneId\"].isin(Stowers2016TF.iloc[:,0]))][\"GeneDescription\"]).categories)\n",
    "print(FP_pax5_unbound)\n",
    "specificity_unbound = TN_pax5_unbound/(TN_pax5_unbound+FP_pax5_unbound)\n",
    "print(specificity_unbound)\n",
    "FPR_unbound_pax5 = 1 - specificity_unbound\n",
    "print(FPR_unbound_pax5)"
   ]
  },
  {
   "cell_type": "code",
   "execution_count": 120,
   "id": "00379a3b",
   "metadata": {},
   "outputs": [
    {
     "name": "stdout",
     "output_type": "stream",
     "text": [
      "473\n",
      "27\n",
      "0.946\n",
      "0.05400000000000005\n"
     ]
    }
   ],
   "source": [
    "TN_pax5_bound = len(TF_table[(~TF_table[\"Neiro\"].isin(Stowers2016diff.iloc[:,0])) & (~TF_table[\"Neiro\"].isin(pax5_bound_enhancers[\"geneId\"]))])\n",
    "print(TN_pax5_bound)\n",
    "#FP = len(pd.Categorical(pax5_bound_enhancers[pax5_bound_enhancers[\"geneId\"].isin(TF_table[\"Neiro\"])][\"GeneDescription\"]).categories)\n",
    "FP_pax5_bound = len(pd.Categorical(pax5_bound_enhancers[pax5_bound_enhancers[\"geneId\"].isin(TF_table[\"Neiro\"]) & (~pax5_bound_enhancers[\"geneId\"].isin(Stowers2016TF.iloc[:,0]))][\"GeneDescription\"]).categories)\n",
    "print(FP_pax5_bound)\n",
    "specificity_bound = TN_pax5_bound/(TN_pax5_bound+FP_pax5_bound)\n",
    "print(specificity_bound)\n",
    "FPR_bound_pax5 = 1 - specificity_bound\n",
    "print(FPR_bound_pax5)"
   ]
  },
  {
   "cell_type": "code",
   "execution_count": 121,
   "id": "8685802e",
   "metadata": {},
   "outputs": [
    {
     "name": "stdout",
     "output_type": "stream",
     "text": [
      "18\n",
      "31\n",
      "0.3673469387755102\n"
     ]
    }
   ],
   "source": [
    "TP_pax5_unbound = len(pd.Categorical(pax5_unbound_enhancers[pax5_unbound_enhancers[\"geneId\"].isin(Stowers2016TF.iloc[:,0])][\"GeneDescription\"]).categories)\n",
    "print(TP_pax5_unbound)\n",
    "FN_pax5_unbound = len(Stowers2016TF[~Stowers2016TF.iloc[:,0].isin(pax5_unbound_enhancers[\"geneId\"])])\n",
    "print(FN_pax5_unbound)\n",
    "TPR_unbound_pax5 = TP_pax5_unbound/(TP_pax5_unbound+FN_pax5_unbound)\n",
    "print(TPR_unbound_pax5)"
   ]
  },
  {
   "cell_type": "code",
   "execution_count": 122,
   "id": "79bcb1cb",
   "metadata": {},
   "outputs": [
    {
     "name": "stdout",
     "output_type": "stream",
     "text": [
      "5\n",
      "45\n",
      "0.1\n"
     ]
    }
   ],
   "source": [
    "TP_pax5_bound = len(pd.Categorical(pax5_bound_enhancers[pax5_bound_enhancers[\"geneId\"].isin(Stowers2016TF.iloc[:,0])][\"GeneDescription\"]).categories)\n",
    "print(TP_pax5_bound)\n",
    "FN_pax5_bound = len(Stowers2016TF[~Stowers2016TF.iloc[:,0].isin(pax5_bound_enhancers[\"geneId\"])])\n",
    "print(FN_pax5_bound)\n",
    "TPR_bound_pax5 = TP_pax5_bound/(TP_pax5_bound+FN_pax5_bound)\n",
    "print(TPR_bound_pax5)"
   ]
  },
  {
   "cell_type": "code",
   "execution_count": 123,
   "id": "b2a934df",
   "metadata": {},
   "outputs": [
    {
     "data": {
      "text/plain": [
       "[<matplotlib.lines.Line2D at 0x7fc98614d940>]"
      ]
     },
     "execution_count": 123,
     "metadata": {},
     "output_type": "execute_result"
    },
    {
     "data": {
      "image/png": "[encoded data removed]",
      "text/plain": [
       "<Figure size 432x288 with 1 Axes>"
      ]
     },
     "metadata": {
      "needs_background": "light"
     },
     "output_type": "display_data"
    }
   ],
   "source": [
    "import matplotlib.pyplot as plt\n",
    "import numpy as np\n",
    "plt.plot(np.linspace(0,1, 50), np.linspace(0,1, 50))\n",
    "plt.plot(FPR_unbound_coe, TPR_unbound_fox, \"bo\")\n",
    "plt.plot(FPR_bound_coe, TPR_bound_fox, \"bo\")\n",
    "plt.plot(FPR_unbound_fox, TPR_unbound_fox, \"bo\")\n",
    "plt.plot(FPR_bound_fox, TPR_bound_fox, \"bo\")\n",
    "plt.plot(FPR_unbound_pax5, TPR_unbound_pax5, \"bo\")\n",
    "plt.plot(FPR_bound_pax5, TPR_bound_pax5, \"bo\")"
   ]
  },
  {
   "cell_type": "code",
   "execution_count": 124,
   "id": "25383879",
   "metadata": {},
   "outputs": [],
   "source": [
    "pd.DataFrame({\"pax5\": [FPR_unbound_pax5, FPR_bound_pax5, TPR_unbound_pax5, TPR_bound_pax5, pax5_unbound_ratio, pax5_bound_ratio, TP_pax5_unbound, FP_pax5_unbound, TN_pax5_unbound, FN_pax5_unbound, TP_pax5_bound, FP_pax5_bound, TN_pax5_bound, FN_pax5_bound, pax5_unbound_observed, pax5_unbound_expected, pax5_bound_observed, pax5_unbound_expected]}).to_csv(\"/drives/raid/AboobakerLab/jakke/TF_RNAi_RNAseq/Stowers2016/ROC.csv\")"
   ]
  },
  {
   "cell_type": "markdown",
   "id": "0efdff07",
   "metadata": {},
   "source": [
    "# 6. Scimone 2017"
   ]
  },
  {
   "cell_type": "markdown",
   "id": "87e329c9",
   "metadata": {},
   "source": [
    "## 6.1 myoD"
   ]
  },
  {
   "cell_type": "markdown",
   "id": "3183b75b",
   "metadata": {},
   "source": [
    "### 6.1.1 All genes"
   ]
  },
  {
   "cell_type": "code",
   "execution_count": 125,
   "id": "34f4745a",
   "metadata": {},
   "outputs": [],
   "source": [
    "import pandas as pd\n",
    "Scimone2017myod = pd.read_csv(\"/drives/raid/AboobakerLab/jakke/TF_RNAi_RNAseq/Scimone2017/res_Scimone2017_myod.csv\")"
   ]
  },
  {
   "cell_type": "code",
   "execution_count": 126,
   "id": "934edaa4",
   "metadata": {},
   "outputs": [],
   "source": [
    "Scimone2017myod.to_excel(\"/drives/raid/AboobakerLab/jakke/TF_RNAi_RNAseq/Scimone2017/res_Scimone2017_myod.xlsx\")"
   ]
  },
  {
   "cell_type": "code",
   "execution_count": 127,
   "id": "f5ba37a5",
   "metadata": {},
   "outputs": [
    {
     "name": "stderr",
     "output_type": "stream",
     "text": [
      "/drives/raid/AboobakerLab/jakke/anaconda3/lib/python3.8/site-packages/pandas/core/indexing.py:1732: SettingWithCopyWarning: \n",
      "A value is trying to be set on a copy of a slice from a DataFrame\n",
      "\n",
      "See the caveats in the documentation: https://pandas.pydata.org/pandas-docs/stable/user_guide/indexing.html#returning-a-view-versus-a-copy\n",
      "  self._setitem_single_block(indexer, value, name)\n"
     ]
    }
   ],
   "source": [
    "Scimone2017myod = Scimone2017myod[Scimone2017myod[\"padj\"] < 0.05]\n",
    "blasted(Scimone2017myod, human_gene_blast, gffcmp)"
   ]
  },
  {
   "cell_type": "code",
   "execution_count": 128,
   "id": "c7db188a",
   "metadata": {},
   "outputs": [],
   "source": [
    "enhancer_final = pd.read_excel(\"/drives/raid/AboobakerLab/jakke/enhancer_regions/enhancer_all_oct2021.xlsx\").iloc[:,1:]"
   ]
  },
  {
   "cell_type": "code",
   "execution_count": 129,
   "id": "0ad9051c",
   "metadata": {},
   "outputs": [],
   "source": [
    "myod_unbound_enhancers = enhancer_final[enhancer_final[\"Unbound motif names\"].str.contains(\"myo\")]\n",
    "myod_unbound_notenhancers = enhancer_final[~enhancer_final[\"Unbound motif names\"].str.contains(\"myo\")]\n",
    "myod_bound_enhancers = enhancer_final[enhancer_final[\"Bound motif names\"].str.contains(\"myo\")]\n",
    "myod_bound_notenhancers = enhancer_final[~enhancer_final[\"Bound motif names\"].str.contains(\"myo\")]"
   ]
  },
  {
   "cell_type": "code",
   "execution_count": 130,
   "id": "73ccc378",
   "metadata": {},
   "outputs": [],
   "source": [
    "import pandas as pd\n",
    "n_ge = len(pd.read_csv(\"/drives/raid/AboobakerLab/jakke/TF_RNAi_RNAseq/Scimone2017/res_Scimone2017_myod.csv\"))"
   ]
  },
  {
   "cell_type": "code",
   "execution_count": 131,
   "id": "5b4fa54d",
   "metadata": {},
   "outputs": [
    {
     "name": "stdout",
     "output_type": "stream",
     "text": [
      "952\n"
     ]
    }
   ],
   "source": [
    "print(len(Scimone2017myod))\n",
    "p_dge = len(Scimone2017myod)/n_ge"
   ]
  },
  {
   "cell_type": "code",
   "execution_count": 132,
   "id": "5a282e58",
   "metadata": {},
   "outputs": [
    {
     "name": "stdout",
     "output_type": "stream",
     "text": [
      "1702\n"
     ]
    }
   ],
   "source": [
    "print(len(pd.Categorical(enhancer_final[\"GeneDescription\"]).categories))\n",
    "p_cis = len(pd.Categorical(enhancer_final[\"GeneDescription\"]).categories)/n_ge"
   ]
  },
  {
   "cell_type": "code",
   "execution_count": 133,
   "id": "e3135111",
   "metadata": {},
   "outputs": [
    {
     "name": "stdout",
     "output_type": "stream",
     "text": [
      "1094\n"
     ]
    }
   ],
   "source": [
    "print(len(pd.Categorical(myod_unbound_enhancers[\"GeneDescription\"]).categories))\n",
    "p_TF = len(pd.Categorical(myod_unbound_enhancers[\"GeneDescription\"]).categories)/len(pd.Categorical(enhancer_final[\"GeneDescription\"]).categories)"
   ]
  },
  {
   "cell_type": "code",
   "execution_count": 134,
   "id": "a46ae105",
   "metadata": {},
   "outputs": [
    {
     "name": "stdout",
     "output_type": "stream",
     "text": [
      "145\n"
     ]
    }
   ],
   "source": [
    "print(len(pd.Categorical(myod_bound_enhancers[\"GeneDescription\"]).categories))\n",
    "p_footTF = len(pd.Categorical(myod_bound_enhancers[\"GeneDescription\"]).categories)/len(pd.Categorical(enhancer_final[\"GeneDescription\"]).categories)"
   ]
  },
  {
   "cell_type": "code",
   "execution_count": 135,
   "id": "fba01881",
   "metadata": {},
   "outputs": [
    {
     "data": {
      "text/plain": [
       "70"
      ]
     },
     "execution_count": 135,
     "metadata": {},
     "output_type": "execute_result"
    }
   ],
   "source": [
    "len(pd.Categorical(myod_unbound_enhancers[myod_unbound_enhancers[\"geneId\"].isin(Scimone2017myod.iloc[:,0])][\"GeneDescription\"]).categories)"
   ]
  },
  {
   "cell_type": "code",
   "execution_count": 136,
   "id": "e82c3659",
   "metadata": {},
   "outputs": [
    {
     "data": {
      "text/plain": [
       "37.19201514123487"
      ]
     },
     "execution_count": 136,
     "metadata": {},
     "output_type": "execute_result"
    }
   ],
   "source": [
    "p_dge*p_cis*p_TF*n_ge"
   ]
  },
  {
   "cell_type": "code",
   "execution_count": 137,
   "id": "f36e417b",
   "metadata": {},
   "outputs": [
    {
     "data": {
      "text/plain": [
       "15"
      ]
     },
     "execution_count": 137,
     "metadata": {},
     "output_type": "execute_result"
    }
   ],
   "source": [
    "len(pd.Categorical(myod_bound_enhancers[myod_bound_enhancers[\"geneId\"].isin(Scimone2017myod.iloc[:,0])][\"GeneDescription\"]).categories)"
   ]
  },
  {
   "cell_type": "code",
   "execution_count": 138,
   "id": "2b151cfb",
   "metadata": {},
   "outputs": [
    {
     "data": {
      "text/plain": [
       "4.92947184230261"
      ]
     },
     "execution_count": 138,
     "metadata": {},
     "output_type": "execute_result"
    }
   ],
   "source": [
    "p_dge*p_cis*p_footTF*n_ge"
   ]
  },
  {
   "cell_type": "markdown",
   "id": "152ca620",
   "metadata": {},
   "source": [
    "### 6.1.2 Transcription factors"
   ]
  },
  {
   "cell_type": "code",
   "execution_count": 139,
   "id": "1d3f720b",
   "metadata": {},
   "outputs": [],
   "source": [
    "import pandas as pd\n",
    "TF_table = pd.read_csv(\"/drives/raid/AboobakerLab/jakke/TF_data/Transcription_factors_01072021_values.csv\").iloc[:,1:]"
   ]
  },
  {
   "cell_type": "code",
   "execution_count": 140,
   "id": "ee823b85",
   "metadata": {},
   "outputs": [],
   "source": [
    "import pandas as pd\n",
    "Scimone2017myod = pd.read_csv(\"/drives/raid/AboobakerLab/jakke/TF_RNAi_RNAseq/Scimone2017/res_Scimone2017_myod.csv\")\n",
    "Scimone2017myoddiff = Scimone2017myod[Scimone2017myod[\"padj\"] < 0.05]\n",
    "Scimone2017myodTF = Scimone2017myoddiff[Scimone2017myoddiff.iloc[:,0].isin(TF_table[\"Neiro\"])]"
   ]
  },
  {
   "cell_type": "code",
   "execution_count": 141,
   "id": "fcdfb430",
   "metadata": {},
   "outputs": [
    {
     "name": "stdout",
     "output_type": "stream",
     "text": [
      "20\n"
     ]
    }
   ],
   "source": [
    "print(len(Scimone2017myodTF))\n",
    "p_dgetf = len(Scimone2017myodTF)/n_ge"
   ]
  },
  {
   "cell_type": "code",
   "execution_count": 142,
   "id": "c12fe2ec",
   "metadata": {},
   "outputs": [
    {
     "name": "stdout",
     "output_type": "stream",
     "text": [
      "11\n"
     ]
    }
   ],
   "source": [
    "myod_unbound_observed = len(pd.Categorical(myod_unbound_enhancers[myod_unbound_enhancers[\"geneId\"].isin(Scimone2017myodTF.iloc[:,0])][\"GeneDescription\"]).categories)\n",
    "print(myod_unbound_observed)"
   ]
  },
  {
   "cell_type": "code",
   "execution_count": 143,
   "id": "d4b6b9b7",
   "metadata": {},
   "outputs": [
    {
     "name": "stdout",
     "output_type": "stream",
     "text": [
      "0.7813448559082955\n"
     ]
    }
   ],
   "source": [
    "myod_unbound_expected = p_dgetf*p_cis*p_TF*n_ge\n",
    "print(myod_unbound_expected)"
   ]
  },
  {
   "cell_type": "code",
   "execution_count": 144,
   "id": "60f25f09",
   "metadata": {},
   "outputs": [
    {
     "name": "stdout",
     "output_type": "stream",
     "text": [
      "14.07829067641682\n"
     ]
    }
   ],
   "source": [
    "myod_whole_unbound_ratio = myod_unbound_observed/myod_unbound_expected\n",
    "print(myod_whole_unbound_ratio)"
   ]
  },
  {
   "cell_type": "code",
   "execution_count": 145,
   "id": "2290aaa3",
   "metadata": {},
   "outputs": [
    {
     "name": "stdout",
     "output_type": "stream",
     "text": [
      "2\n"
     ]
    }
   ],
   "source": [
    "myod_bound_observed = len(pd.Categorical(myod_bound_enhancers[myod_bound_enhancers[\"geneId\"].isin(Scimone2017myodTF.iloc[:,0])][\"GeneDescription\"]).categories)\n",
    "print(myod_bound_observed)"
   ]
  },
  {
   "cell_type": "code",
   "execution_count": 146,
   "id": "35e1a2f0",
   "metadata": {},
   "outputs": [
    {
     "name": "stdout",
     "output_type": "stream",
     "text": [
      "0.1035603328214834\n"
     ]
    }
   ],
   "source": [
    "myod_bound_expected = p_dgetf*p_cis*p_footTF*n_ge\n",
    "print(myod_bound_expected)"
   ]
  },
  {
   "cell_type": "code",
   "execution_count": 147,
   "id": "62429ee8",
   "metadata": {},
   "outputs": [
    {
     "name": "stdout",
     "output_type": "stream",
     "text": [
      "19.31241379310345\n"
     ]
    }
   ],
   "source": [
    "myod_whole_bound_ratio = myod_bound_observed/myod_bound_expected\n",
    "print(myod_whole_bound_ratio)"
   ]
  },
  {
   "cell_type": "code",
   "execution_count": 148,
   "id": "df9f2374",
   "metadata": {},
   "outputs": [
    {
     "name": "stdout",
     "output_type": "stream",
     "text": [
      "381\n",
      "129\n",
      "0.7470588235294118\n",
      "0.2529411764705882\n"
     ]
    }
   ],
   "source": [
    "TN_myod_unbound = len(TF_table[(~TF_table[\"Neiro\"].isin(Scimone2017myoddiff.iloc[:,0])) & (~TF_table[\"Neiro\"].isin(myod_unbound_enhancers[\"geneId\"]))])\n",
    "print(TN_myod_unbound)\n",
    "#FP = len(pd.Categorical(myod_unbound_enhancers[myod_unbound_enhancers[\"geneId\"].isin(TF_table[\"Neiro\"])][\"GeneDescription\"]).categories)\n",
    "FP_myod_unbound = len(pd.Categorical(myod_unbound_enhancers[myod_unbound_enhancers[\"geneId\"].isin(TF_table[\"Neiro\"]) & (~myod_unbound_enhancers[\"geneId\"].isin(Scimone2017myodTF.iloc[:,0]))][\"GeneDescription\"]).categories)\n",
    "print(FP_myod_unbound)\n",
    "specificity_unbound = TN_myod_unbound/(TN_myod_unbound+FP_myod_unbound)\n",
    "print(specificity_unbound)\n",
    "FPR_unbound_myod = 1 - specificity_unbound\n",
    "print(FPR_unbound_myod)"
   ]
  },
  {
   "cell_type": "code",
   "execution_count": 149,
   "id": "0dfd13af",
   "metadata": {},
   "outputs": [
    {
     "name": "stdout",
     "output_type": "stream",
     "text": [
      "514\n",
      "15\n",
      "0.9716446124763705\n",
      "0.02835538752362954\n"
     ]
    }
   ],
   "source": [
    "TN_myod_bound = len(TF_table[(~TF_table[\"Neiro\"].isin(Scimone2017myoddiff.iloc[:,0])) & (~TF_table[\"Neiro\"].isin(myod_bound_enhancers[\"geneId\"]))])\n",
    "print(TN_myod_bound)\n",
    "#FP = len(pd.Categorical(myod_bound_enhancers[myod_bound_enhancers[\"geneId\"].isin(TF_table[\"Neiro\"])][\"GeneDescription\"]).categories)\n",
    "FP_myod_bound = len(pd.Categorical(myod_bound_enhancers[myod_bound_enhancers[\"geneId\"].isin(TF_table[\"Neiro\"]) & (~myod_bound_enhancers[\"geneId\"].isin(Scimone2017myodTF.iloc[:,0]))][\"GeneDescription\"]).categories)\n",
    "print(FP_myod_bound)\n",
    "specificity_bound = TN_myod_bound/(TN_myod_bound+FP_myod_bound)\n",
    "print(specificity_bound)\n",
    "FPR_bound_myod = 1 - specificity_bound\n",
    "print(FPR_bound_myod)"
   ]
  },
  {
   "cell_type": "code",
   "execution_count": 150,
   "id": "a82f1a80",
   "metadata": {},
   "outputs": [
    {
     "name": "stdout",
     "output_type": "stream",
     "text": [
      "11\n",
      "9\n",
      "0.55\n"
     ]
    }
   ],
   "source": [
    "TP_myod_unbound = len(pd.Categorical(myod_unbound_enhancers[myod_unbound_enhancers[\"geneId\"].isin(Scimone2017myodTF.iloc[:,0])][\"GeneDescription\"]).categories)\n",
    "print(TP_myod_unbound)\n",
    "FN_myod_unbound = len(Scimone2017myodTF[~Scimone2017myodTF.iloc[:,0].isin(myod_unbound_enhancers[\"geneId\"])])\n",
    "print(FN_myod_unbound)\n",
    "TPR_unbound_myod = TP_myod_unbound/(TP_myod_unbound+FN_myod_unbound)\n",
    "print(TPR_unbound_myod)"
   ]
  },
  {
   "cell_type": "code",
   "execution_count": 151,
   "id": "4cf278b1",
   "metadata": {},
   "outputs": [
    {
     "name": "stdout",
     "output_type": "stream",
     "text": [
      "2\n",
      "18\n",
      "0.1\n"
     ]
    }
   ],
   "source": [
    "TP_myod_bound = len(pd.Categorical(myod_bound_enhancers[myod_bound_enhancers[\"geneId\"].isin(Scimone2017myodTF.iloc[:,0])][\"GeneDescription\"]).categories)\n",
    "print(TP_myod_bound)\n",
    "FN_myod_bound = len(Scimone2017myodTF[~Scimone2017myodTF.iloc[:,0].isin(myod_bound_enhancers[\"geneId\"])])\n",
    "print(FN_myod_bound)\n",
    "TPR_bound_myod = TP_myod_bound/(TP_myod_bound+FN_myod_bound)\n",
    "print(TPR_bound_myod)"
   ]
  },
  {
   "cell_type": "code",
   "execution_count": 152,
   "id": "0f2f3387",
   "metadata": {},
   "outputs": [
    {
     "data": {
      "text/plain": [
       "[<matplotlib.lines.Line2D at 0x7fc98f629ee0>]"
      ]
     },
     "execution_count": 152,
     "metadata": {},
     "output_type": "execute_result"
    },
    {
     "data": {
      "image/png": "[encoded data removed]",
      "text/plain": [
       "<Figure size 432x288 with 1 Axes>"
      ]
     },
     "metadata": {
      "needs_background": "light"
     },
     "output_type": "display_data"
    }
   ],
   "source": [
    "import matplotlib.pyplot as plt\n",
    "import numpy as np\n",
    "plt.plot(np.linspace(0,1, 50), np.linspace(0,1, 50))\n",
    "plt.plot(FPR_unbound_myod, TPR_unbound_myod, \"bo\")\n",
    "plt.plot(FPR_bound_myod, TPR_bound_myod, \"bo\")"
   ]
  },
  {
   "cell_type": "code",
   "execution_count": 153,
   "id": "7f8d836f",
   "metadata": {},
   "outputs": [],
   "source": [
    "pd.DataFrame({\"myod\": [FPR_unbound_myod, FPR_bound_myod, TPR_unbound_myod, TPR_bound_myod, myod_whole_unbound_ratio, myod_whole_bound_ratio, TP_myod_unbound, FP_myod_unbound, TN_myod_unbound, FN_myod_unbound, TP_myod_bound, FP_myod_bound, TN_myod_bound, FN_myod_bound, myod_unbound_observed, myod_unbound_expected, myod_bound_observed, myod_bound_expected]}).to_csv(\"/drives/raid/AboobakerLab/jakke/TF_RNAi_RNAseq/Scimone2017/ROCmyod.csv\")"
   ]
  },
  {
   "cell_type": "code",
   "execution_count": 154,
   "id": "759982d0",
   "metadata": {},
   "outputs": [
    {
     "name": "stdout",
     "output_type": "stream",
     "text": [
      "['MSTRG.4171', 'MSTRG.6831']\n"
     ]
    },
    {
     "data": {
      "text/html": [
       "<div>\n",
       "<style scoped>\n",
       "    .dataframe tbody tr th:only-of-type {\n",
       "        vertical-align: middle;\n",
       "    }\n",
       "\n",
       "    .dataframe tbody tr th {\n",
       "        vertical-align: top;\n",
       "    }\n",
       "\n",
       "    .dataframe thead th {\n",
       "        text-align: right;\n",
       "    }\n",
       "</style>\n",
       "<table border=\"1\" class=\"dataframe\">\n",
       "  <thead>\n",
       "    <tr style=\"text-align: right;\">\n",
       "      <th></th>\n",
       "      <th>Rink</th>\n",
       "      <th>Neiro</th>\n",
       "      <th>Symbol</th>\n",
       "      <th>Old symbol</th>\n",
       "      <th>Description</th>\n",
       "      <th>TF group</th>\n",
       "      <th>TF class</th>\n",
       "      <th>Identification</th>\n",
       "      <th>RNAi</th>\n",
       "      <th>In situ</th>\n",
       "      <th>Reference</th>\n",
       "      <th>X1</th>\n",
       "      <th>X2</th>\n",
       "      <th>Xins</th>\n",
       "      <th>X1 percent</th>\n",
       "      <th>X2 percent</th>\n",
       "      <th>Xins percent</th>\n",
       "      <th>Jaspar MatrixID</th>\n",
       "      <th>Jaspar Evalue</th>\n",
       "    </tr>\n",
       "  </thead>\n",
       "  <tbody>\n",
       "    <tr>\n",
       "      <th>123</th>\n",
       "      <td>SMESG000011176.1</td>\n",
       "      <td>MSTRG.4171</td>\n",
       "      <td>bcl11b</td>\n",
       "      <td>NaN</td>\n",
       "      <td>B-cell lymphoma/leukemia 11B</td>\n",
       "      <td>BCL</td>\n",
       "      <td>Zinc</td>\n",
       "      <td>0.0</td>\n",
       "      <td>0</td>\n",
       "      <td>0</td>\n",
       "      <td>NaN</td>\n",
       "      <td>2.490477</td>\n",
       "      <td>2.166727</td>\n",
       "      <td>0.408062</td>\n",
       "      <td>0.491677</td>\n",
       "      <td>0.427762</td>\n",
       "      <td>0.080561</td>\n",
       "      <td>0</td>\n",
       "      <td>0.0</td>\n",
       "    </tr>\n",
       "    <tr>\n",
       "      <th>437</th>\n",
       "      <td>SMESG000021468.1</td>\n",
       "      <td>MSTRG.6831</td>\n",
       "      <td>tead3</td>\n",
       "      <td>sd2</td>\n",
       "      <td>TEA domain transcription factor 3</td>\n",
       "      <td>TEAD</td>\n",
       "      <td>Helix-turn-helix</td>\n",
       "      <td>1.0</td>\n",
       "      <td>0</td>\n",
       "      <td>0</td>\n",
       "      <td>(Cheng et al., 2018)</td>\n",
       "      <td>6.401627</td>\n",
       "      <td>13.281705</td>\n",
       "      <td>6.431803</td>\n",
       "      <td>0.245131</td>\n",
       "      <td>0.508583</td>\n",
       "      <td>0.246286</td>\n",
       "      <td>0</td>\n",
       "      <td>0.0</td>\n",
       "    </tr>\n",
       "  </tbody>\n",
       "</table>\n",
       "</div>"
      ],
      "text/plain": [
       "                 Rink       Neiro  Symbol Old symbol  \\\n",
       "123  SMESG000011176.1  MSTRG.4171  bcl11b        NaN   \n",
       "437  SMESG000021468.1  MSTRG.6831   tead3        sd2   \n",
       "\n",
       "                           Description TF group          TF class  \\\n",
       "123       B-cell lymphoma/leukemia 11B      BCL              Zinc   \n",
       "437  TEA domain transcription factor 3     TEAD  Helix-turn-helix   \n",
       "\n",
       "     Identification RNAi In situ             Reference        X1         X2  \\\n",
       "123             0.0    0       0                   NaN  2.490477   2.166727   \n",
       "437             1.0    0       0  (Cheng et al., 2018)  6.401627  13.281705   \n",
       "\n",
       "         Xins  X1 percent  X2 percent  Xins percent Jaspar MatrixID  \\\n",
       "123  0.408062    0.491677    0.427762      0.080561               0   \n",
       "437  6.431803    0.245131    0.508583      0.246286               0   \n",
       "\n",
       "     Jaspar Evalue  \n",
       "123            0.0  \n",
       "437            0.0  "
      ]
     },
     "execution_count": 154,
     "metadata": {},
     "output_type": "execute_result"
    }
   ],
   "source": [
    "myod_target_tf_list = list(pd.Categorical(myod_bound_enhancers[myod_bound_enhancers[\"geneId\"].isin(Scimone2017myodTF.iloc[:,0])][\"geneId\"]).categories)\n",
    "print(myod_target_tf_list)\n",
    "myod_dge_tf_table = TF_table[TF_table[\"Neiro\"].isin(Scimone2017myodTF.iloc[:,0])]\n",
    "myod_dge_tf_table[myod_dge_tf_table[\"Neiro\"].isin(myod_target_tf_list)]"
   ]
  },
  {
   "cell_type": "markdown",
   "id": "87b217ad",
   "metadata": {},
   "source": [
    "## 6.2 myoD blastema"
   ]
  },
  {
   "cell_type": "code",
   "execution_count": 155,
   "id": "2d859477",
   "metadata": {},
   "outputs": [],
   "source": [
    "import pandas as pd\n",
    "Scimone2017myodblas = pd.read_csv(\"/drives/raid/AboobakerLab/jakke/TF_RNAi_RNAseq/Scimone2017/res_Scimone2017_myod_blastema.csv\")\n",
    "Scimone2017myodblasdiff = Scimone2017myodblas[Scimone2017myodblas[\"padj\"] < 0.05]\n",
    "Scimone2017myodblasTF = Scimone2017myodblasdiff[Scimone2017myodblasdiff.iloc[:,0].isin(TF_table[\"Neiro\"])]"
   ]
  },
  {
   "cell_type": "code",
   "execution_count": 156,
   "id": "15153cbf",
   "metadata": {},
   "outputs": [],
   "source": [
    "import pandas as pd\n",
    "Scimone2017myodblas = pd.read_csv(\"/drives/raid/AboobakerLab/jakke/TF_RNAi_RNAseq/Scimone2017/res_Scimone2017_myod_blastema.csv\")\n",
    "Scimone2017myodblas.to_excel(\"/drives/raid/AboobakerLab/jakke/TF_RNAi_RNAseq/Scimone2017/res_Scimone2017_myod_blastema.xlsx\")"
   ]
  },
  {
   "cell_type": "code",
   "execution_count": 157,
   "id": "ac249c8c",
   "metadata": {},
   "outputs": [
    {
     "name": "stdout",
     "output_type": "stream",
     "text": [
      "46\n"
     ]
    }
   ],
   "source": [
    "print(len(Scimone2017myodblasTF))\n",
    "p_dgetf = len(Scimone2017myodblasTF)/n_ge"
   ]
  },
  {
   "cell_type": "code",
   "execution_count": 158,
   "id": "9c65dbd5",
   "metadata": {},
   "outputs": [
    {
     "name": "stdout",
     "output_type": "stream",
     "text": [
      "23\n"
     ]
    }
   ],
   "source": [
    "myod_unbound_observed = len(pd.Categorical(myod_unbound_enhancers[myod_unbound_enhancers[\"geneId\"].isin(Scimone2017myodblasTF.iloc[:,0])][\"GeneDescription\"]).categories)\n",
    "print(myod_unbound_observed)"
   ]
  },
  {
   "cell_type": "code",
   "execution_count": 159,
   "id": "af3af7d8",
   "metadata": {},
   "outputs": [
    {
     "name": "stdout",
     "output_type": "stream",
     "text": [
      "1.7970931685890794\n"
     ]
    }
   ],
   "source": [
    "myod_unbound_expected = p_dgetf*p_cis*p_TF*n_ge\n",
    "print(myod_unbound_expected)"
   ]
  },
  {
   "cell_type": "code",
   "execution_count": 160,
   "id": "3c38ffd1",
   "metadata": {},
   "outputs": [
    {
     "name": "stdout",
     "output_type": "stream",
     "text": [
      "12.798446069469838\n"
     ]
    }
   ],
   "source": [
    "myod_blas_unbound_ratio = myod_unbound_observed/myod_unbound_expected\n",
    "print(myod_blas_unbound_ratio)"
   ]
  },
  {
   "cell_type": "code",
   "execution_count": 161,
   "id": "f8f45d7a",
   "metadata": {},
   "outputs": [
    {
     "name": "stdout",
     "output_type": "stream",
     "text": [
      "3\n"
     ]
    }
   ],
   "source": [
    "myod_bound_observed = len(pd.Categorical(myod_bound_enhancers[myod_bound_enhancers[\"geneId\"].isin(Scimone2017myodblasTF.iloc[:,0])][\"GeneDescription\"]).categories)\n",
    "print(myod_bound_observed)"
   ]
  },
  {
   "cell_type": "code",
   "execution_count": 162,
   "id": "11da03ea",
   "metadata": {},
   "outputs": [
    {
     "name": "stdout",
     "output_type": "stream",
     "text": [
      "0.2381887654894118\n"
     ]
    }
   ],
   "source": [
    "myod_bound_expected = p_dgetf*p_cis*p_footTF*n_ge\n",
    "print(myod_bound_expected)"
   ]
  },
  {
   "cell_type": "code",
   "execution_count": 163,
   "id": "894243d9",
   "metadata": {},
   "outputs": [
    {
     "name": "stdout",
     "output_type": "stream",
     "text": [
      "12.59505247376312\n"
     ]
    }
   ],
   "source": [
    "myod_blas_bound_ratio = myod_bound_observed/myod_bound_expected\n",
    "print(myod_blas_bound_ratio)"
   ]
  },
  {
   "cell_type": "code",
   "execution_count": 164,
   "id": "04086f94",
   "metadata": {},
   "outputs": [
    {
     "name": "stdout",
     "output_type": "stream",
     "text": [
      "367\n",
      "121\n",
      "0.7520491803278688\n",
      "0.24795081967213117\n"
     ]
    }
   ],
   "source": [
    "TN = len(TF_table[(~TF_table[\"Neiro\"].isin(Scimone2017myodblasdiff.iloc[:,0])) & (~TF_table[\"Neiro\"].isin(myod_unbound_enhancers[\"geneId\"]))])\n",
    "print(TN)\n",
    "#FP = len(pd.Categorical(myod_unbound_enhancers[myod_unbound_enhancers[\"geneId\"].isin(TF_table[\"Neiro\"])][\"GeneDescription\"]).categories)\n",
    "FP = len(pd.Categorical(myod_unbound_enhancers[myod_unbound_enhancers[\"geneId\"].isin(TF_table[\"Neiro\"]) & (~myod_unbound_enhancers[\"geneId\"].isin(Scimone2017myodblasTF.iloc[:,0]))][\"GeneDescription\"]).categories)\n",
    "print(FP)\n",
    "specificity_unbound = TN/(TN+FP)\n",
    "print(specificity_unbound)\n",
    "FPR_unbound_myodblas = 1 - specificity_unbound\n",
    "print(FPR_unbound_myodblas)"
   ]
  },
  {
   "cell_type": "code",
   "execution_count": 165,
   "id": "0d1fe9cd",
   "metadata": {},
   "outputs": [
    {
     "name": "stdout",
     "output_type": "stream",
     "text": [
      "489\n",
      "15\n",
      "0.9702380952380952\n",
      "0.029761904761904767\n"
     ]
    }
   ],
   "source": [
    "TN = len(TF_table[(~TF_table[\"Neiro\"].isin(Scimone2017myodblasdiff.iloc[:,0])) & (~TF_table[\"Neiro\"].isin(myod_bound_enhancers[\"geneId\"]))])\n",
    "print(TN)\n",
    "#FP = len(pd.Categorical(myod_bound_enhancers[myod_bound_enhancers[\"geneId\"].isin(TF_table[\"Neiro\"])][\"GeneDescription\"]).categories)\n",
    "FP = len(pd.Categorical(myod_bound_enhancers[myod_bound_enhancers[\"geneId\"].isin(TF_table[\"Neiro\"]) & (~myod_bound_enhancers[\"geneId\"].isin(Scimone2017myodblasTF.iloc[:,0]))][\"GeneDescription\"]).categories)\n",
    "print(FP)\n",
    "specificity_bound = TN/(TN+FP)\n",
    "print(specificity_bound)\n",
    "FPR_bound_myodblas = 1 - specificity_bound\n",
    "print(FPR_bound_myodblas)"
   ]
  },
  {
   "cell_type": "code",
   "execution_count": 166,
   "id": "c2af3429",
   "metadata": {},
   "outputs": [
    {
     "name": "stdout",
     "output_type": "stream",
     "text": [
      "23\n",
      "23\n",
      "0.5\n"
     ]
    }
   ],
   "source": [
    "TP = len(pd.Categorical(myod_unbound_enhancers[myod_unbound_enhancers[\"geneId\"].isin(Scimone2017myodblasTF.iloc[:,0])][\"GeneDescription\"]).categories)\n",
    "print(TP)\n",
    "FN = len(Scimone2017myodblasTF[~Scimone2017myodblasTF.iloc[:,0].isin(myod_unbound_enhancers[\"geneId\"])])\n",
    "print(FN)\n",
    "TPR_unbound_myodblas = TP/(TP+FN)\n",
    "print(TPR_unbound_myodblas)"
   ]
  },
  {
   "cell_type": "code",
   "execution_count": 167,
   "id": "38480246",
   "metadata": {},
   "outputs": [
    {
     "name": "stdout",
     "output_type": "stream",
     "text": [
      "3\n",
      "43\n",
      "0.06521739130434782\n"
     ]
    }
   ],
   "source": [
    "TP = len(pd.Categorical(myod_bound_enhancers[myod_bound_enhancers[\"geneId\"].isin(Scimone2017myodblasTF.iloc[:,0])][\"GeneDescription\"]).categories)\n",
    "print(TP)\n",
    "FN = len(Scimone2017myodblasTF[~Scimone2017myodblasTF.iloc[:,0].isin(myod_bound_enhancers[\"geneId\"])])\n",
    "print(FN)\n",
    "TPR_bound_myodblas = TP/(TP+FN)\n",
    "print(TPR_bound_myodblas)"
   ]
  },
  {
   "cell_type": "code",
   "execution_count": 168,
   "id": "232fd102",
   "metadata": {},
   "outputs": [],
   "source": [
    "pd.DataFrame({\"myoDblas\": [FPR_unbound_myodblas, FPR_bound_myodblas, TPR_unbound_myodblas, TPR_bound_myodblas, myod_blas_unbound_ratio, myod_blas_bound_ratio, myod_unbound_observed, myod_unbound_expected, myod_bound_observed, myod_bound_expected]}).to_csv(\"/drives/raid/AboobakerLab/jakke/TF_RNAi_RNAseq/Scimone2017/ROCmyodblas.csv\")"
   ]
  },
  {
   "cell_type": "code",
   "execution_count": 169,
   "id": "81bdda05",
   "metadata": {},
   "outputs": [
    {
     "name": "stdout",
     "output_type": "stream",
     "text": [
      "['MSTRG.17089', 'MSTRG.19528', 'MSTRG.4171']\n"
     ]
    },
    {
     "data": {
      "text/html": [
       "<div>\n",
       "<style scoped>\n",
       "    .dataframe tbody tr th:only-of-type {\n",
       "        vertical-align: middle;\n",
       "    }\n",
       "\n",
       "    .dataframe tbody tr th {\n",
       "        vertical-align: top;\n",
       "    }\n",
       "\n",
       "    .dataframe thead th {\n",
       "        text-align: right;\n",
       "    }\n",
       "</style>\n",
       "<table border=\"1\" class=\"dataframe\">\n",
       "  <thead>\n",
       "    <tr style=\"text-align: right;\">\n",
       "      <th></th>\n",
       "      <th>Rink</th>\n",
       "      <th>Neiro</th>\n",
       "      <th>Symbol</th>\n",
       "      <th>Old symbol</th>\n",
       "      <th>Description</th>\n",
       "      <th>TF group</th>\n",
       "      <th>TF class</th>\n",
       "      <th>Identification</th>\n",
       "      <th>RNAi</th>\n",
       "      <th>In situ</th>\n",
       "      <th>Reference</th>\n",
       "      <th>X1</th>\n",
       "      <th>X2</th>\n",
       "      <th>Xins</th>\n",
       "      <th>X1 percent</th>\n",
       "      <th>X2 percent</th>\n",
       "      <th>Xins percent</th>\n",
       "      <th>Jaspar MatrixID</th>\n",
       "      <th>Jaspar Evalue</th>\n",
       "    </tr>\n",
       "  </thead>\n",
       "  <tbody>\n",
       "    <tr>\n",
       "      <th>28</th>\n",
       "      <td>SMESG000056587.1</td>\n",
       "      <td>MSTRG.17089</td>\n",
       "      <td>atoh8-2</td>\n",
       "      <td>atonal</td>\n",
       "      <td>Atonal homolog 8-2</td>\n",
       "      <td>NEUROD</td>\n",
       "      <td>Basic domain</td>\n",
       "      <td>1.0</td>\n",
       "      <td>0</td>\n",
       "      <td>Pharynx, Intestine, Mesenchyme</td>\n",
       "      <td>(Cowles et al., 2013; van Wolfswinkel et al., ...</td>\n",
       "      <td>18.768065</td>\n",
       "      <td>14.302523</td>\n",
       "      <td>18.416599</td>\n",
       "      <td>0.364519</td>\n",
       "      <td>0.277788</td>\n",
       "      <td>0.357693</td>\n",
       "      <td>0</td>\n",
       "      <td>0.000000e+00</td>\n",
       "    </tr>\n",
       "    <tr>\n",
       "      <th>123</th>\n",
       "      <td>SMESG000011176.1</td>\n",
       "      <td>MSTRG.4171</td>\n",
       "      <td>bcl11b</td>\n",
       "      <td>NaN</td>\n",
       "      <td>B-cell lymphoma/leukemia 11B</td>\n",
       "      <td>BCL</td>\n",
       "      <td>Zinc</td>\n",
       "      <td>0.0</td>\n",
       "      <td>0</td>\n",
       "      <td>0</td>\n",
       "      <td>NaN</td>\n",
       "      <td>2.490477</td>\n",
       "      <td>2.166727</td>\n",
       "      <td>0.408062</td>\n",
       "      <td>0.491677</td>\n",
       "      <td>0.427762</td>\n",
       "      <td>0.080561</td>\n",
       "      <td>0</td>\n",
       "      <td>0.000000e+00</td>\n",
       "    </tr>\n",
       "    <tr>\n",
       "      <th>420</th>\n",
       "      <td>SMESG000065612.1</td>\n",
       "      <td>MSTRG.19528</td>\n",
       "      <td>ets-1</td>\n",
       "      <td>ETS1</td>\n",
       "      <td>ETS proto-oncogene 1</td>\n",
       "      <td>ETS</td>\n",
       "      <td>Helix-turn-helix</td>\n",
       "      <td>1.0</td>\n",
       "      <td>Pigmentation defects</td>\n",
       "      <td>Pigment cells</td>\n",
       "      <td>(He at al., 2017; Fincher et al., 2018)</td>\n",
       "      <td>5.379877</td>\n",
       "      <td>26.395963</td>\n",
       "      <td>22.248623</td>\n",
       "      <td>0.099582</td>\n",
       "      <td>0.488593</td>\n",
       "      <td>0.411825</td>\n",
       "      <td>MA0098.3</td>\n",
       "      <td>6.038060e-41</td>\n",
       "    </tr>\n",
       "  </tbody>\n",
       "</table>\n",
       "</div>"
      ],
      "text/plain": [
       "                 Rink        Neiro   Symbol Old symbol  \\\n",
       "28   SMESG000056587.1  MSTRG.17089  atoh8-2     atonal   \n",
       "123  SMESG000011176.1   MSTRG.4171   bcl11b        NaN   \n",
       "420  SMESG000065612.1  MSTRG.19528    ets-1       ETS1   \n",
       "\n",
       "                      Description TF group          TF class  Identification  \\\n",
       "28             Atonal homolog 8-2   NEUROD      Basic domain             1.0   \n",
       "123  B-cell lymphoma/leukemia 11B      BCL              Zinc             0.0   \n",
       "420          ETS proto-oncogene 1      ETS  Helix-turn-helix             1.0   \n",
       "\n",
       "                     RNAi                         In situ  \\\n",
       "28                      0  Pharynx, Intestine, Mesenchyme   \n",
       "123                     0                               0   \n",
       "420  Pigmentation defects                   Pigment cells   \n",
       "\n",
       "                                             Reference         X1         X2  \\\n",
       "28   (Cowles et al., 2013; van Wolfswinkel et al., ...  18.768065  14.302523   \n",
       "123                                                NaN   2.490477   2.166727   \n",
       "420            (He at al., 2017; Fincher et al., 2018)   5.379877  26.395963   \n",
       "\n",
       "          Xins  X1 percent  X2 percent  Xins percent Jaspar MatrixID  \\\n",
       "28   18.416599    0.364519    0.277788      0.357693               0   \n",
       "123   0.408062    0.491677    0.427762      0.080561               0   \n",
       "420  22.248623    0.099582    0.488593      0.411825        MA0098.3   \n",
       "\n",
       "     Jaspar Evalue  \n",
       "28    0.000000e+00  \n",
       "123   0.000000e+00  \n",
       "420   6.038060e-41  "
      ]
     },
     "execution_count": 169,
     "metadata": {},
     "output_type": "execute_result"
    }
   ],
   "source": [
    "myodblas_target_tf_list = list(pd.Categorical(myod_bound_enhancers[myod_bound_enhancers[\"geneId\"].isin(Scimone2017myodblasTF.iloc[:,0])][\"geneId\"]).categories)\n",
    "print(myodblas_target_tf_list)\n",
    "myodblas_dge_tf_table = TF_table[TF_table[\"Neiro\"].isin(Scimone2017myodblasTF.iloc[:,0])]\n",
    "myodblas_dge_tf_table[myodblas_dge_tf_table[\"Neiro\"].isin(myodblas_target_tf_list)]"
   ]
  },
  {
   "cell_type": "markdown",
   "id": "d08b95c4",
   "metadata": {},
   "source": [
    "## 6.2 nkx1-1"
   ]
  },
  {
   "cell_type": "markdown",
   "id": "0edea12c",
   "metadata": {},
   "source": [
    "### 6.2.1 All genes"
   ]
  },
  {
   "cell_type": "code",
   "execution_count": 170,
   "id": "7e4cff14",
   "metadata": {},
   "outputs": [],
   "source": [
    "import pandas as pd\n",
    "Scimone2017nkx = pd.read_csv(\"/drives/raid/AboobakerLab/jakke/TF_RNAi_RNAseq/Scimone2017/res_Scimone2017_nkx.csv\")"
   ]
  },
  {
   "cell_type": "code",
   "execution_count": 171,
   "id": "26ef875c",
   "metadata": {},
   "outputs": [
    {
     "name": "stderr",
     "output_type": "stream",
     "text": [
      "/drives/raid/AboobakerLab/jakke/anaconda3/lib/python3.8/site-packages/pandas/core/indexing.py:1732: SettingWithCopyWarning: \n",
      "A value is trying to be set on a copy of a slice from a DataFrame\n",
      "\n",
      "See the caveats in the documentation: https://pandas.pydata.org/pandas-docs/stable/user_guide/indexing.html#returning-a-view-versus-a-copy\n",
      "  self._setitem_single_block(indexer, value, name)\n"
     ]
    }
   ],
   "source": [
    "Scimone2017nkx = Scimone2017nkx[Scimone2017nkx[\"padj\"] < 0.05]\n",
    "blasted(Scimone2017nkx, human_gene_blast, gffcmp)"
   ]
  },
  {
   "cell_type": "code",
   "execution_count": 172,
   "id": "7537734b",
   "metadata": {},
   "outputs": [],
   "source": [
    "enhancer_final = pd.read_excel(\"/drives/raid/AboobakerLab/jakke/enhancer_regions/enhancer_all_oct2021.xlsx\").iloc[:,1:]"
   ]
  },
  {
   "cell_type": "code",
   "execution_count": 173,
   "id": "b1a1a857",
   "metadata": {},
   "outputs": [],
   "source": [
    "import pandas as pd\n",
    "n_ge = len(pd.read_csv(\"/drives/raid/AboobakerLab/jakke/TF_RNAi_RNAseq/Scimone2017/res_Scimone2017_nkx.csv\"))"
   ]
  },
  {
   "cell_type": "code",
   "execution_count": 174,
   "id": "caa67fc5",
   "metadata": {},
   "outputs": [
    {
     "name": "stdout",
     "output_type": "stream",
     "text": [
      "4972\n"
     ]
    }
   ],
   "source": [
    "print(len(Scimone2017nkx))\n",
    "p_dge = len(Scimone2017nkx)/n_ge"
   ]
  },
  {
   "cell_type": "code",
   "execution_count": 175,
   "id": "12a45b35",
   "metadata": {},
   "outputs": [
    {
     "name": "stdout",
     "output_type": "stream",
     "text": [
      "1702\n"
     ]
    }
   ],
   "source": [
    "print(len(pd.Categorical(enhancer_final[\"GeneDescription\"]).categories))\n",
    "p_cis = len(pd.Categorical(enhancer_final[\"GeneDescription\"]).categories)/n_ge"
   ]
  },
  {
   "cell_type": "code",
   "execution_count": 176,
   "id": "930064ff",
   "metadata": {},
   "outputs": [],
   "source": [
    "nkx_unbound_enhancers = enhancer_final[enhancer_final[\"Unbound motif names\"].str.contains(\"nkx\")]\n",
    "nkx_unbound_notenhancers = enhancer_final[~enhancer_final[\"Unbound motif names\"].str.contains(\"nkx\")]\n",
    "nkx_bound_enhancers = enhancer_final[enhancer_final[\"Bound motif names\"].str.contains(\"nkx\")]\n",
    "nkx_bound_notenhancers = enhancer_final[~enhancer_final[\"Bound motif names\"].str.contains(\"nkx\")]"
   ]
  },
  {
   "cell_type": "code",
   "execution_count": 177,
   "id": "9579b079",
   "metadata": {},
   "outputs": [
    {
     "name": "stdout",
     "output_type": "stream",
     "text": [
      "1663\n"
     ]
    }
   ],
   "source": [
    "print(len(pd.Categorical(nkx_unbound_enhancers[\"GeneDescription\"]).categories))\n",
    "p_TF = len(pd.Categorical(nkx_unbound_enhancers[\"GeneDescription\"]).categories)/len(pd.Categorical(enhancer_final[\"GeneDescription\"]).categories)"
   ]
  },
  {
   "cell_type": "code",
   "execution_count": 178,
   "id": "7db374a3",
   "metadata": {},
   "outputs": [
    {
     "name": "stdout",
     "output_type": "stream",
     "text": [
      "202\n"
     ]
    }
   ],
   "source": [
    "print(len(pd.Categorical(nkx_bound_enhancers[\"GeneDescription\"]).categories))\n",
    "p_footTF = len(pd.Categorical(nkx_bound_enhancers[\"GeneDescription\"]).categories)/len(pd.Categorical(enhancer_final[\"GeneDescription\"]).categories)"
   ]
  },
  {
   "cell_type": "code",
   "execution_count": 179,
   "id": "66f97fb6",
   "metadata": {},
   "outputs": [
    {
     "data": {
      "text/plain": [
       "502"
      ]
     },
     "execution_count": 179,
     "metadata": {},
     "output_type": "execute_result"
    }
   ],
   "source": [
    "len(pd.Categorical(nkx_unbound_enhancers[nkx_unbound_enhancers[\"geneId\"].isin(Scimone2017nkx.iloc[:,0])][\"GeneDescription\"]).categories)"
   ]
  },
  {
   "cell_type": "code",
   "execution_count": 180,
   "id": "a4d49f64",
   "metadata": {},
   "outputs": [
    {
     "data": {
      "text/plain": [
       "295.26964968039135"
      ]
     },
     "execution_count": 180,
     "metadata": {},
     "output_type": "execute_result"
    }
   ],
   "source": [
    "p_dge*p_cis*p_TF*n_ge"
   ]
  },
  {
   "cell_type": "code",
   "execution_count": 181,
   "id": "ce8b6171",
   "metadata": {},
   "outputs": [
    {
     "data": {
      "text/plain": [
       "62"
      ]
     },
     "execution_count": 181,
     "metadata": {},
     "output_type": "execute_result"
    }
   ],
   "source": [
    "len(pd.Categorical(nkx_bound_enhancers[nkx_bound_enhancers[\"geneId\"].isin(Scimone2017nkx.iloc[:,0])][\"GeneDescription\"]).categories)"
   ]
  },
  {
   "cell_type": "code",
   "execution_count": 182,
   "id": "60d02ded",
   "metadata": {},
   "outputs": [
    {
     "data": {
      "text/plain": [
       "35.86558583008963"
      ]
     },
     "execution_count": 182,
     "metadata": {},
     "output_type": "execute_result"
    }
   ],
   "source": [
    "p_dge*p_cis*p_footTF*n_ge"
   ]
  },
  {
   "cell_type": "markdown",
   "id": "d27a1925",
   "metadata": {},
   "source": [
    "### 6.2.2 Transcription factors"
   ]
  },
  {
   "cell_type": "code",
   "execution_count": 183,
   "id": "e38a2165",
   "metadata": {},
   "outputs": [],
   "source": [
    "import pandas as pd\n",
    "TF_table = pd.read_csv(\"/drives/raid/AboobakerLab/jakke/TF_data/Transcription_factors_01072021_values.csv\").iloc[:,1:]"
   ]
  },
  {
   "cell_type": "code",
   "execution_count": 184,
   "id": "8f508116",
   "metadata": {},
   "outputs": [],
   "source": [
    "import pandas as pd\n",
    "Scimone2017nkx = pd.read_csv(\"/drives/raid/AboobakerLab/jakke/TF_RNAi_RNAseq/Scimone2017/res_Scimone2017_nkx.csv\")\n",
    "Scimone2017nkxdiff = Scimone2017nkx[Scimone2017nkx[\"padj\"] < 0.05]\n",
    "Scimone2017nkxTF = Scimone2017nkxdiff[Scimone2017nkxdiff.iloc[:,0].isin(TF_table[\"Neiro\"])]"
   ]
  },
  {
   "cell_type": "code",
   "execution_count": 185,
   "id": "51e4aa6f",
   "metadata": {},
   "outputs": [],
   "source": [
    "import pandas as pd\n",
    "Scimone2017nkx = pd.read_csv(\"/drives/raid/AboobakerLab/jakke/TF_RNAi_RNAseq/Scimone2017/res_Scimone2017_nkx.csv\")\n",
    "Scimone2017nkx.to_excel(\"/drives/raid/AboobakerLab/jakke/TF_RNAi_RNAseq/Scimone2017/res_Scimone2017_nkx.xlsx\")"
   ]
  },
  {
   "cell_type": "code",
   "execution_count": 186,
   "id": "54e04e03",
   "metadata": {},
   "outputs": [
    {
     "name": "stdout",
     "output_type": "stream",
     "text": [
      "92\n"
     ]
    }
   ],
   "source": [
    "print(len(Scimone2017nkxTF))\n",
    "p_dgetf = len(Scimone2017nkxTF)/n_ge"
   ]
  },
  {
   "cell_type": "code",
   "execution_count": 187,
   "id": "3f7157b0",
   "metadata": {},
   "outputs": [
    {
     "name": "stdout",
     "output_type": "stream",
     "text": [
      "29\n"
     ]
    }
   ],
   "source": [
    "nkx_unbound_observed = len(pd.Categorical(nkx_unbound_enhancers[nkx_unbound_enhancers[\"geneId\"].isin(Scimone2017nkxTF.iloc[:,0])][\"GeneDescription\"]).categories)\n",
    "print(nkx_unbound_observed)"
   ]
  },
  {
   "cell_type": "code",
   "execution_count": 188,
   "id": "e3fa1785",
   "metadata": {},
   "outputs": [
    {
     "name": "stdout",
     "output_type": "stream",
     "text": [
      "5.463557475984715\n"
     ]
    }
   ],
   "source": [
    "nkx_unbound_expected = p_dgetf*p_cis*p_TF*n_ge\n",
    "print(nkx_unbound_expected)"
   ]
  },
  {
   "cell_type": "code",
   "execution_count": 189,
   "id": "6b610458",
   "metadata": {},
   "outputs": [
    {
     "name": "stdout",
     "output_type": "stream",
     "text": [
      "5.3078969384820525\n"
     ]
    }
   ],
   "source": [
    "nkx_unbound_ratio = nkx_unbound_observed/nkx_unbound_expected\n",
    "print(nkx_unbound_ratio)"
   ]
  },
  {
   "cell_type": "code",
   "execution_count": 190,
   "id": "50e132eb",
   "metadata": {},
   "outputs": [
    {
     "name": "stdout",
     "output_type": "stream",
     "text": [
      "5\n"
     ]
    }
   ],
   "source": [
    "nkx_bound_observed = len(pd.Categorical(nkx_bound_enhancers[nkx_bound_enhancers[\"geneId\"].isin(Scimone2017nkxTF.iloc[:,0])][\"GeneDescription\"]).categories)\n",
    "print(nkx_bound_observed)"
   ]
  },
  {
   "cell_type": "code",
   "execution_count": 191,
   "id": "3ae41958",
   "metadata": {},
   "outputs": [
    {
     "name": "stdout",
     "output_type": "stream",
     "text": [
      "0.6636431810877405\n"
     ]
    }
   ],
   "source": [
    "nkx_bound_expected = p_dgetf*p_cis*p_footTF*n_ge\n",
    "print(nkx_bound_expected)"
   ]
  },
  {
   "cell_type": "code",
   "execution_count": 192,
   "id": "fc591435",
   "metadata": {},
   "outputs": [
    {
     "name": "stdout",
     "output_type": "stream",
     "text": [
      "7.534169177787345\n"
     ]
    }
   ],
   "source": [
    "nkx_bound_ratio = nkx_bound_observed/nkx_bound_expected\n",
    "print(nkx_bound_ratio)"
   ]
  },
  {
   "cell_type": "code",
   "execution_count": 193,
   "id": "304794fb",
   "metadata": {},
   "outputs": [
    {
     "name": "stdout",
     "output_type": "stream",
     "text": [
      "274\n",
      "163\n",
      "0.6270022883295194\n",
      "0.37299771167048057\n"
     ]
    }
   ],
   "source": [
    "TN_nkx_unbound = len(TF_table[(~TF_table[\"Neiro\"].isin(Scimone2017nkxdiff.iloc[:,0])) & (~TF_table[\"Neiro\"].isin(nkx_unbound_enhancers[\"geneId\"]))])\n",
    "print(TN_nkx_unbound)\n",
    "#FP = len(pd.Categorical(nkx_unbound_enhancers[nkx_unbound_enhancers[\"geneId\"].isin(TF_table[\"Neiro\"])][\"GeneDescription\"]).categories)\n",
    "FP_nkx_unbound = len(pd.Categorical(nkx_unbound_enhancers[nkx_unbound_enhancers[\"geneId\"].isin(TF_table[\"Neiro\"]) & (~nkx_unbound_enhancers[\"geneId\"].isin(Scimone2017nkxTF.iloc[:,0]))][\"GeneDescription\"]).categories)\n",
    "print(FP_nkx_unbound)\n",
    "specificity_unbound = TN_nkx_unbound/(TN_nkx_unbound+FP_nkx_unbound)\n",
    "print(specificity_unbound)\n",
    "FPR_unbound_nkx = 1 - specificity_unbound\n",
    "print(FPR_unbound_nkx)"
   ]
  },
  {
   "cell_type": "code",
   "execution_count": 194,
   "id": "1aea41b0",
   "metadata": {},
   "outputs": [
    {
     "name": "stdout",
     "output_type": "stream",
     "text": [
      "433\n",
      "26\n",
      "0.9433551198257081\n",
      "0.05664488017429192\n"
     ]
    }
   ],
   "source": [
    "TN_nkx_bound = len(TF_table[(~TF_table[\"Neiro\"].isin(Scimone2017nkxdiff.iloc[:,0])) & (~TF_table[\"Neiro\"].isin(nkx_bound_enhancers[\"geneId\"]))])\n",
    "print(TN_nkx_bound)\n",
    "#FP = len(pd.Categorical(nkx_bound_enhancers[nkx_bound_enhancers[\"geneId\"].isin(TF_table[\"Neiro\"])][\"GeneDescription\"]).categories)\n",
    "FP_nkx_bound = len(pd.Categorical(nkx_bound_enhancers[nkx_bound_enhancers[\"geneId\"].isin(TF_table[\"Neiro\"]) & (~nkx_bound_enhancers[\"geneId\"].isin(Scimone2017nkxTF.iloc[:,0]))][\"GeneDescription\"]).categories)\n",
    "print(FP_nkx_bound)\n",
    "specificity_bound = TN_nkx_bound/(TN_nkx_bound+FP_nkx_bound)\n",
    "print(specificity_bound)\n",
    "FPR_bound_nkx = 1 - specificity_bound\n",
    "print(FPR_bound_nkx)"
   ]
  },
  {
   "cell_type": "code",
   "execution_count": 195,
   "id": "76013d5f",
   "metadata": {},
   "outputs": [
    {
     "name": "stdout",
     "output_type": "stream",
     "text": [
      "29\n",
      "60\n",
      "0.3258426966292135\n"
     ]
    }
   ],
   "source": [
    "TP_nkx_unbound = len(pd.Categorical(nkx_unbound_enhancers[nkx_unbound_enhancers[\"geneId\"].isin(Scimone2017nkxTF.iloc[:,0])][\"GeneDescription\"]).categories)\n",
    "print(TP_nkx_unbound)\n",
    "FN_nkx_unbound = len(Scimone2017nkxTF[~Scimone2017nkxTF.iloc[:,0].isin(nkx_unbound_enhancers[\"geneId\"])])\n",
    "print(FN_nkx_unbound)\n",
    "TPR_unbound_nkx = TP_nkx_unbound/(TP_nkx_unbound+FN_nkx_unbound)\n",
    "print(TPR_unbound_nkx)"
   ]
  },
  {
   "cell_type": "code",
   "execution_count": 196,
   "id": "24ce1809",
   "metadata": {},
   "outputs": [
    {
     "name": "stdout",
     "output_type": "stream",
     "text": [
      "5\n",
      "87\n",
      "0.05434782608695652\n"
     ]
    }
   ],
   "source": [
    "TP_nkx_bound = len(pd.Categorical(nkx_bound_enhancers[nkx_bound_enhancers[\"geneId\"].isin(Scimone2017nkxTF.iloc[:,0])][\"GeneDescription\"]).categories)\n",
    "print(TP_nkx_bound)\n",
    "FN_nkx_bound = len(Scimone2017nkxTF[~Scimone2017nkxTF.iloc[:,0].isin(nkx_bound_enhancers[\"geneId\"])])\n",
    "print(FN_nkx_bound)\n",
    "TPR_bound_nkx = TP_nkx_bound/(TP_nkx_bound+FN_nkx_bound)\n",
    "print(TPR_bound_nkx)"
   ]
  },
  {
   "cell_type": "code",
   "execution_count": 197,
   "id": "b4346ef6",
   "metadata": {},
   "outputs": [
    {
     "data": {
      "text/plain": [
       "[<matplotlib.lines.Line2D at 0x7fc9844db460>]"
      ]
     },
     "execution_count": 197,
     "metadata": {},
     "output_type": "execute_result"
    },
    {
     "data": {
      "image/png": "[encoded data removed]",
      "text/plain": [
       "<Figure size 432x288 with 1 Axes>"
      ]
     },
     "metadata": {
      "needs_background": "light"
     },
     "output_type": "display_data"
    }
   ],
   "source": [
    "import matplotlib.pyplot as plt\n",
    "import numpy as np\n",
    "plt.plot(np.linspace(0,1, 50), np.linspace(0,1, 50))\n",
    "plt.plot(FPR_unbound_nkx, TPR_unbound_nkx, \"bo\")\n",
    "plt.plot(FPR_bound_nkx, TPR_bound_nkx, \"bo\")"
   ]
  },
  {
   "cell_type": "code",
   "execution_count": 198,
   "id": "257406f8",
   "metadata": {},
   "outputs": [],
   "source": [
    "pd.DataFrame({\"nkx\": [FPR_unbound_nkx, FPR_bound_nkx, TPR_unbound_nkx, TPR_bound_nkx, nkx_unbound_ratio, nkx_bound_ratio, TP_nkx_unbound, FP_nkx_unbound, TN_nkx_unbound, FN_nkx_unbound, TP_nkx_bound, FP_nkx_bound, TN_nkx_bound, FN_nkx_bound, nkx_unbound_observed, nkx_unbound_expected, nkx_bound_observed, nkx_bound_expected]}).to_csv(\"/drives/raid/AboobakerLab/jakke/TF_RNAi_RNAseq/Scimone2017/ROCnkx.csv\")"
   ]
  },
  {
   "cell_type": "code",
   "execution_count": 199,
   "id": "f1304b3f",
   "metadata": {},
   "outputs": [
    {
     "name": "stdout",
     "output_type": "stream",
     "text": [
      "['MSTRG.17089', 'MSTRG.17691', 'MSTRG.21524', 'MSTRG.586', 'MSTRG.6031']\n"
     ]
    },
    {
     "data": {
      "text/html": [
       "<div>\n",
       "<style scoped>\n",
       "    .dataframe tbody tr th:only-of-type {\n",
       "        vertical-align: middle;\n",
       "    }\n",
       "\n",
       "    .dataframe tbody tr th {\n",
       "        vertical-align: top;\n",
       "    }\n",
       "\n",
       "    .dataframe thead th {\n",
       "        text-align: right;\n",
       "    }\n",
       "</style>\n",
       "<table border=\"1\" class=\"dataframe\">\n",
       "  <thead>\n",
       "    <tr style=\"text-align: right;\">\n",
       "      <th></th>\n",
       "      <th>Rink</th>\n",
       "      <th>Neiro</th>\n",
       "      <th>Symbol</th>\n",
       "      <th>Old symbol</th>\n",
       "      <th>Description</th>\n",
       "      <th>TF group</th>\n",
       "      <th>TF class</th>\n",
       "      <th>Identification</th>\n",
       "      <th>RNAi</th>\n",
       "      <th>In situ</th>\n",
       "      <th>Reference</th>\n",
       "      <th>X1</th>\n",
       "      <th>X2</th>\n",
       "      <th>Xins</th>\n",
       "      <th>X1 percent</th>\n",
       "      <th>X2 percent</th>\n",
       "      <th>Xins percent</th>\n",
       "      <th>Jaspar MatrixID</th>\n",
       "      <th>Jaspar Evalue</th>\n",
       "    </tr>\n",
       "  </thead>\n",
       "  <tbody>\n",
       "    <tr>\n",
       "      <th>10</th>\n",
       "      <td>SMESG000026144.1</td>\n",
       "      <td>MSTRG.586</td>\n",
       "      <td>pdp1</td>\n",
       "      <td>NaN</td>\n",
       "      <td>PAR domain protein 1</td>\n",
       "      <td>Pdp</td>\n",
       "      <td>Basic domain</td>\n",
       "      <td>0.0</td>\n",
       "      <td>0</td>\n",
       "      <td>0</td>\n",
       "      <td>NaN</td>\n",
       "      <td>2.359678</td>\n",
       "      <td>13.463532</td>\n",
       "      <td>4.647208</td>\n",
       "      <td>0.115273</td>\n",
       "      <td>0.657707</td>\n",
       "      <td>0.227021</td>\n",
       "      <td>MA0025.1</td>\n",
       "      <td>4.389790e-10</td>\n",
       "    </tr>\n",
       "    <tr>\n",
       "      <th>28</th>\n",
       "      <td>SMESG000056587.1</td>\n",
       "      <td>MSTRG.17089</td>\n",
       "      <td>atoh8-2</td>\n",
       "      <td>atonal</td>\n",
       "      <td>Atonal homolog 8-2</td>\n",
       "      <td>NEUROD</td>\n",
       "      <td>Basic domain</td>\n",
       "      <td>1.0</td>\n",
       "      <td>0</td>\n",
       "      <td>Pharynx, Intestine, Mesenchyme</td>\n",
       "      <td>(Cowles et al., 2013; van Wolfswinkel et al., ...</td>\n",
       "      <td>18.768065</td>\n",
       "      <td>14.302523</td>\n",
       "      <td>18.416599</td>\n",
       "      <td>0.364519</td>\n",
       "      <td>0.277788</td>\n",
       "      <td>0.357693</td>\n",
       "      <td>0</td>\n",
       "      <td>0.000000e+00</td>\n",
       "    </tr>\n",
       "    <tr>\n",
       "      <th>353</th>\n",
       "      <td>SMESG000064905.1</td>\n",
       "      <td>MSTRG.17691</td>\n",
       "      <td>zfhx3</td>\n",
       "      <td>hox3</td>\n",
       "      <td>Zinc finger homeobox protein 3</td>\n",
       "      <td>ZFHX</td>\n",
       "      <td>Helix-turn-helix</td>\n",
       "      <td>1.0</td>\n",
       "      <td>0</td>\n",
       "      <td>Ubiquitous</td>\n",
       "      <td>(van Wolfswinkel et al., 2014; Zhu et al., 2015)</td>\n",
       "      <td>11.334892</td>\n",
       "      <td>20.477093</td>\n",
       "      <td>6.836201</td>\n",
       "      <td>0.293284</td>\n",
       "      <td>0.529833</td>\n",
       "      <td>0.176883</td>\n",
       "      <td>MA0038.1</td>\n",
       "      <td>1.682340e-06</td>\n",
       "    </tr>\n",
       "    <tr>\n",
       "      <th>459</th>\n",
       "      <td>SMESG000078256.1</td>\n",
       "      <td>MSTRG.21524</td>\n",
       "      <td>p53</td>\n",
       "      <td>NaN</td>\n",
       "      <td>Cellular tumor antigen p53</td>\n",
       "      <td>p53</td>\n",
       "      <td>Immunoglobulin-fold</td>\n",
       "      <td>1.0</td>\n",
       "      <td>Hyper-proliferation and terminal depletion</td>\n",
       "      <td>Stem cell progeny</td>\n",
       "      <td>(Pearson and Sánchez Alvarado, 2010; van Wolfs...</td>\n",
       "      <td>78.782380</td>\n",
       "      <td>156.568023</td>\n",
       "      <td>164.774637</td>\n",
       "      <td>0.196894</td>\n",
       "      <td>0.391298</td>\n",
       "      <td>0.411808</td>\n",
       "      <td>0</td>\n",
       "      <td>0.000000e+00</td>\n",
       "    </tr>\n",
       "    <tr>\n",
       "      <th>507</th>\n",
       "      <td>SMESG000018825.1</td>\n",
       "      <td>MSTRG.6031</td>\n",
       "      <td>ski-8</td>\n",
       "      <td>NaN</td>\n",
       "      <td>Ski oncogene 8</td>\n",
       "      <td>SKI</td>\n",
       "      <td>Other</td>\n",
       "      <td>0.0</td>\n",
       "      <td>0</td>\n",
       "      <td>0</td>\n",
       "      <td>NaN</td>\n",
       "      <td>6.500873</td>\n",
       "      <td>14.201349</td>\n",
       "      <td>14.458859</td>\n",
       "      <td>0.184888</td>\n",
       "      <td>0.403894</td>\n",
       "      <td>0.411218</td>\n",
       "      <td>0</td>\n",
       "      <td>0.000000e+00</td>\n",
       "    </tr>\n",
       "  </tbody>\n",
       "</table>\n",
       "</div>"
      ],
      "text/plain": [
       "                 Rink        Neiro   Symbol Old symbol  \\\n",
       "10   SMESG000026144.1    MSTRG.586     pdp1        NaN   \n",
       "28   SMESG000056587.1  MSTRG.17089  atoh8-2     atonal   \n",
       "353  SMESG000064905.1  MSTRG.17691    zfhx3       hox3   \n",
       "459  SMESG000078256.1  MSTRG.21524      p53        NaN   \n",
       "507  SMESG000018825.1   MSTRG.6031    ski-8        NaN   \n",
       "\n",
       "                        Description TF group             TF class  \\\n",
       "10             PAR domain protein 1      Pdp         Basic domain   \n",
       "28               Atonal homolog 8-2   NEUROD         Basic domain   \n",
       "353  Zinc finger homeobox protein 3     ZFHX     Helix-turn-helix   \n",
       "459      Cellular tumor antigen p53      p53  Immunoglobulin-fold   \n",
       "507                  Ski oncogene 8      SKI                Other   \n",
       "\n",
       "     Identification                                        RNAi  \\\n",
       "10              0.0                                           0   \n",
       "28              1.0                                           0   \n",
       "353             1.0                                           0   \n",
       "459             1.0  Hyper-proliferation and terminal depletion   \n",
       "507             0.0                                           0   \n",
       "\n",
       "                            In situ  \\\n",
       "10                                0   \n",
       "28   Pharynx, Intestine, Mesenchyme   \n",
       "353                      Ubiquitous   \n",
       "459               Stem cell progeny   \n",
       "507                               0   \n",
       "\n",
       "                                             Reference         X1          X2  \\\n",
       "10                                                 NaN   2.359678   13.463532   \n",
       "28   (Cowles et al., 2013; van Wolfswinkel et al., ...  18.768065   14.302523   \n",
       "353   (van Wolfswinkel et al., 2014; Zhu et al., 2015)  11.334892   20.477093   \n",
       "459  (Pearson and Sánchez Alvarado, 2010; van Wolfs...  78.782380  156.568023   \n",
       "507                                                NaN   6.500873   14.201349   \n",
       "\n",
       "           Xins  X1 percent  X2 percent  Xins percent Jaspar MatrixID  \\\n",
       "10     4.647208    0.115273    0.657707      0.227021        MA0025.1   \n",
       "28    18.416599    0.364519    0.277788      0.357693               0   \n",
       "353    6.836201    0.293284    0.529833      0.176883        MA0038.1   \n",
       "459  164.774637    0.196894    0.391298      0.411808               0   \n",
       "507   14.458859    0.184888    0.403894      0.411218               0   \n",
       "\n",
       "     Jaspar Evalue  \n",
       "10    4.389790e-10  \n",
       "28    0.000000e+00  \n",
       "353   1.682340e-06  \n",
       "459   0.000000e+00  \n",
       "507   0.000000e+00  "
      ]
     },
     "execution_count": 199,
     "metadata": {},
     "output_type": "execute_result"
    }
   ],
   "source": [
    "nkx_target_tf_list = list(pd.Categorical(nkx_bound_enhancers[nkx_bound_enhancers[\"geneId\"].isin(Scimone2017nkxTF.iloc[:,0])][\"geneId\"]).categories)\n",
    "print(nkx_target_tf_list)\n",
    "nkx_dge_tf_table = TF_table[TF_table[\"Neiro\"].isin(Scimone2017nkxTF.iloc[:,0])]\n",
    "nkx_dge_tf_table[nkx_dge_tf_table[\"Neiro\"].isin(nkx_target_tf_list)]"
   ]
  },
  {
   "cell_type": "markdown",
   "id": "8a686c38",
   "metadata": {},
   "source": [
    "# 7. Ross 2018"
   ]
  },
  {
   "cell_type": "code",
   "execution_count": 200,
   "id": "86f7b8b0",
   "metadata": {},
   "outputs": [],
   "source": [
    "import pandas as pd\n",
    "Ross2018 = pd.read_csv(\"/drives/raid/AboobakerLab/jakke/TF_RNAi_RNAseq/Ross2018/res_Ross2018.csv\")"
   ]
  },
  {
   "cell_type": "code",
   "execution_count": 201,
   "id": "e423cbe6",
   "metadata": {},
   "outputs": [
    {
     "name": "stderr",
     "output_type": "stream",
     "text": [
      "/drives/raid/AboobakerLab/jakke/anaconda3/lib/python3.8/site-packages/pandas/core/indexing.py:1732: SettingWithCopyWarning: \n",
      "A value is trying to be set on a copy of a slice from a DataFrame\n",
      "\n",
      "See the caveats in the documentation: https://pandas.pydata.org/pandas-docs/stable/user_guide/indexing.html#returning-a-view-versus-a-copy\n",
      "  self._setitem_single_block(indexer, value, name)\n"
     ]
    }
   ],
   "source": [
    "Ross2018 = Ross2018[Ross2018[\"padj\"] < 0.05]\n",
    "blasted(Ross2018, human_gene_blast, gffcmp)"
   ]
  },
  {
   "cell_type": "markdown",
   "id": "88db87f7",
   "metadata": {},
   "source": [
    "# 8. Arnold 2021"
   ]
  },
  {
   "cell_type": "code",
   "execution_count": 202,
   "id": "cf128e66",
   "metadata": {},
   "outputs": [
    {
     "data": {
      "text/plain": [
       "['hox1', 'hox1', 'hox3a', 'hox3a', 'hox3b', ..., 'post2b', 'post2b', 'post2b', 'unc', 'unc']\n",
       "Length: 24\n",
       "Categories (6, object): ['hox1', 'hox3a', 'hox3b', 'lox5b', 'post2b', 'unc']"
      ]
     },
     "execution_count": 202,
     "metadata": {},
     "output_type": "execute_result"
    }
   ],
   "source": [
    "import pandas as pd\n",
    "pd.Categorical(pd.read_csv(\"/drives/raid/AboobakerLab/jakke/TF_RNAi_RNAseq/Arnold2021/SraRunTable.txt\")[\"RNAi\"])"
   ]
  },
  {
   "cell_type": "markdown",
   "id": "ffe7e683",
   "metadata": {},
   "source": [
    "* Hox1: Motif\n",
    "* Hox3a: Motif\n",
    "* Hox3b: No motif\n",
    "* Lox5B: Motif\n",
    "* Post2b: No Motoif"
   ]
  },
  {
   "cell_type": "markdown",
   "id": "6ab5a182",
   "metadata": {},
   "source": [
    "## 8.1 Hox1"
   ]
  },
  {
   "cell_type": "markdown",
   "id": "df58ad30",
   "metadata": {},
   "source": [
    "### 8.1.1 All genes"
   ]
  },
  {
   "cell_type": "code",
   "execution_count": 203,
   "id": "21822229",
   "metadata": {},
   "outputs": [],
   "source": [
    "import pandas as pd\n",
    "Arnold2021hox1 = pd.read_csv(\"/drives/raid/AboobakerLab/jakke/TF_RNAi_RNAseq/Arnold2021/res_Arnold2021hox1.csv\")"
   ]
  },
  {
   "cell_type": "code",
   "execution_count": 204,
   "id": "2ddd4cc3",
   "metadata": {},
   "outputs": [],
   "source": [
    "import pandas as pd\n",
    "Arnold2021hox1 = pd.read_csv(\"/drives/raid/AboobakerLab/jakke/TF_RNAi_RNAseq/Arnold2021/res_Arnold2021hox1.csv\")\n",
    "Arnold2021hox1.to_excel(\"/drives/raid/AboobakerLab/jakke/TF_RNAi_RNAseq/Arnold2021/res_Arnold2021hox1.xlsx\")"
   ]
  },
  {
   "cell_type": "code",
   "execution_count": 205,
   "id": "2e225cfa",
   "metadata": {},
   "outputs": [],
   "source": [
    "Arnold2021hox1 = Arnold2021hox1[(Arnold2021hox1[\"padj\"] < 0.05)]\n",
    "blasted(Arnold2021hox1, human_gene_blast, gffcmp)"
   ]
  },
  {
   "cell_type": "code",
   "execution_count": 206,
   "id": "2fba8f74",
   "metadata": {},
   "outputs": [],
   "source": [
    "enhancer_final = pd.read_excel(\"/drives/raid/AboobakerLab/jakke/enhancer_regions/enhancer_all_oct2021.xlsx\").iloc[:,1:]"
   ]
  },
  {
   "cell_type": "code",
   "execution_count": 207,
   "id": "a1231af9",
   "metadata": {},
   "outputs": [],
   "source": [
    "import pandas as pd\n",
    "n_ge = len(pd.read_csv(\"/drives/raid/AboobakerLab/jakke/TF_RNAi_RNAseq/Arnold2021/res_Arnold2021hox1.csv\"))"
   ]
  },
  {
   "cell_type": "code",
   "execution_count": 208,
   "id": "1332d547",
   "metadata": {},
   "outputs": [
    {
     "name": "stdout",
     "output_type": "stream",
     "text": [
      "1350\n"
     ]
    }
   ],
   "source": [
    "print(len(Arnold2021hox1))\n",
    "p_dge = len(Arnold2021hox1)/n_ge"
   ]
  },
  {
   "cell_type": "code",
   "execution_count": 209,
   "id": "b3091859",
   "metadata": {},
   "outputs": [
    {
     "name": "stdout",
     "output_type": "stream",
     "text": [
      "1702\n"
     ]
    }
   ],
   "source": [
    "print(len(pd.Categorical(enhancer_final[\"GeneDescription\"]).categories))\n",
    "p_cis = len(pd.Categorical(enhancer_final[\"GeneDescription\"]).categories)/n_ge"
   ]
  },
  {
   "cell_type": "code",
   "execution_count": 210,
   "id": "be894ecd",
   "metadata": {},
   "outputs": [],
   "source": [
    "hox1_unbound_enhancers = enhancer_final[enhancer_final[\"Unbound motifs\"].str.contains(\"MSTRG.23578\")]\n",
    "hox1_unbound_notenhancers = enhancer_final[~enhancer_final[\"Unbound motifs\"].str.contains(\"MSTRG.23578\")]\n",
    "hox1_bound_enhancers = enhancer_final[enhancer_final[\"Bound motifs\"].str.contains(\"MSTRG.23578\")]\n",
    "hox1_bound_notenhancers = enhancer_final[~enhancer_final[\"Bound motifs\"].str.contains(\"MSTRG.23578\")]"
   ]
  },
  {
   "cell_type": "code",
   "execution_count": 211,
   "id": "32bf14a0",
   "metadata": {},
   "outputs": [],
   "source": [
    "hox1_unbound_enhancers = enhancer_final[enhancer_final[\"Unbound motif names\"].str.contains(\"hox\")]\n",
    "hox1_unbound_notenhancers = enhancer_final[~enhancer_final[\"Unbound motif names\"].str.contains(\"hox\")]\n",
    "hox1_bound_enhancers = enhancer_final[enhancer_final[\"Bound motif names\"].str.contains(\"hox\")]\n",
    "hox1_bound_notenhancers = enhancer_final[~enhancer_final[\"Bound motif names\"].str.contains(\"hox\")]"
   ]
  },
  {
   "cell_type": "code",
   "execution_count": 212,
   "id": "cabe2464",
   "metadata": {},
   "outputs": [
    {
     "name": "stdout",
     "output_type": "stream",
     "text": [
      "1025\n"
     ]
    }
   ],
   "source": [
    "print(len(pd.Categorical(hox1_unbound_enhancers[\"GeneDescription\"]).categories))\n",
    "p_TF = len(pd.Categorical(hox1_unbound_enhancers[\"GeneDescription\"]).categories)/len(pd.Categorical(enhancer_final[\"GeneDescription\"]).categories)"
   ]
  },
  {
   "cell_type": "code",
   "execution_count": 213,
   "id": "7ec58610",
   "metadata": {},
   "outputs": [
    {
     "name": "stdout",
     "output_type": "stream",
     "text": [
      "42\n"
     ]
    }
   ],
   "source": [
    "print(len(pd.Categorical(hox1_bound_enhancers[\"GeneDescription\"]).categories))\n",
    "p_footTF = len(pd.Categorical(hox1_bound_enhancers[\"GeneDescription\"]).categories)/len(pd.Categorical(enhancer_final[\"GeneDescription\"]).categories)"
   ]
  },
  {
   "cell_type": "code",
   "execution_count": 214,
   "id": "12a9dfe5",
   "metadata": {},
   "outputs": [
    {
     "data": {
      "text/plain": [
       "87"
      ]
     },
     "execution_count": 214,
     "metadata": {},
     "output_type": "execute_result"
    }
   ],
   "source": [
    "len(pd.Categorical(hox1_unbound_enhancers[hox1_unbound_enhancers[\"geneId\"].isin(Arnold2021hox1.iloc[:,0])][\"GeneDescription\"]).categories)"
   ]
  },
  {
   "cell_type": "code",
   "execution_count": 215,
   "id": "0ff56dd4",
   "metadata": {},
   "outputs": [
    {
     "data": {
      "text/plain": [
       "49.41434846266471"
      ]
     },
     "execution_count": 215,
     "metadata": {},
     "output_type": "execute_result"
    }
   ],
   "source": [
    "p_dge*p_cis*p_TF*n_ge"
   ]
  },
  {
   "cell_type": "code",
   "execution_count": 216,
   "id": "398e13ba",
   "metadata": {},
   "outputs": [
    {
     "data": {
      "text/plain": [
       "4"
      ]
     },
     "execution_count": 216,
     "metadata": {},
     "output_type": "execute_result"
    }
   ],
   "source": [
    "len(pd.Categorical(hox1_bound_enhancers[hox1_bound_enhancers[\"geneId\"].isin(Arnold2021hox1.iloc[:,0])][\"GeneDescription\"]).categories)"
   ]
  },
  {
   "cell_type": "code",
   "execution_count": 217,
   "id": "ba979410",
   "metadata": {},
   "outputs": [
    {
     "data": {
      "text/plain": [
       "2.0247830589579685"
      ]
     },
     "execution_count": 217,
     "metadata": {},
     "output_type": "execute_result"
    }
   ],
   "source": [
    "p_dge*p_cis*p_footTF*n_ge"
   ]
  },
  {
   "cell_type": "markdown",
   "id": "ffea6a41",
   "metadata": {},
   "source": [
    "### 8.1.2 Transcription factors"
   ]
  },
  {
   "cell_type": "code",
   "execution_count": 218,
   "id": "b4c12a72",
   "metadata": {},
   "outputs": [],
   "source": [
    "import pandas as pd\n",
    "TF_table = pd.read_csv(\"/drives/raid/AboobakerLab/jakke/TF_data/Transcription_factors_01072021_values.csv\").iloc[:,1:]"
   ]
  },
  {
   "cell_type": "code",
   "execution_count": 219,
   "id": "0335d887",
   "metadata": {},
   "outputs": [],
   "source": [
    "import pandas as pd\n",
    "Arnold2021hox1 = pd.read_csv(\"/drives/raid/AboobakerLab/jakke/TF_RNAi_RNAseq/Arnold2021/res_Arnold2021hox1.csv\")\n",
    "Arnold2021hox1diff = Arnold2021hox1[Arnold2021hox1[\"padj\"] < 0.05]\n",
    "Arnold2021hox1TF = Arnold2021hox1diff[Arnold2021hox1diff.iloc[:,0].isin(TF_table[\"Neiro\"])]"
   ]
  },
  {
   "cell_type": "code",
   "execution_count": 220,
   "id": "6f0fce9c",
   "metadata": {},
   "outputs": [
    {
     "name": "stdout",
     "output_type": "stream",
     "text": [
      "38\n"
     ]
    }
   ],
   "source": [
    "print(len(Arnold2021hox1TF))\n",
    "p_dgetf = len(Arnold2021hox1TF)/n_ge"
   ]
  },
  {
   "cell_type": "code",
   "execution_count": 221,
   "id": "af0533e1",
   "metadata": {},
   "outputs": [
    {
     "name": "stdout",
     "output_type": "stream",
     "text": [
      "8\n"
     ]
    }
   ],
   "source": [
    "hox1_unbound_observed = len(pd.Categorical(hox1_unbound_enhancers[hox1_unbound_enhancers[\"geneId\"].isin(Arnold2021hox1TF.iloc[:,0])][\"GeneDescription\"]).categories)\n",
    "print(hox1_unbound_observed)"
   ]
  },
  {
   "cell_type": "code",
   "execution_count": 222,
   "id": "fde2dae2",
   "metadata": {},
   "outputs": [
    {
     "name": "stdout",
     "output_type": "stream",
     "text": [
      "1.390922401171303\n"
     ]
    }
   ],
   "source": [
    "hox1_unbound_expected = p_dgetf*p_cis*p_TF*n_ge\n",
    "print(hox1_unbound_expected)"
   ]
  },
  {
   "cell_type": "code",
   "execution_count": 223,
   "id": "46efa8f2",
   "metadata": {},
   "outputs": [
    {
     "name": "stdout",
     "output_type": "stream",
     "text": [
      "5.751578947368421\n"
     ]
    }
   ],
   "source": [
    "hox1_unbound_ratio = hox1_unbound_observed/hox1_unbound_expected\n",
    "print(hox1_unbound_ratio)"
   ]
  },
  {
   "cell_type": "code",
   "execution_count": 224,
   "id": "182525ee",
   "metadata": {},
   "outputs": [
    {
     "name": "stdout",
     "output_type": "stream",
     "text": [
      "1\n"
     ]
    }
   ],
   "source": [
    "hox1_bound_observed = len(pd.Categorical(hox1_bound_enhancers[hox1_bound_enhancers[\"geneId\"].isin(Arnold2021hox1TF.iloc[:,0])][\"GeneDescription\"]).categories)\n",
    "print(hox1_bound_observed)"
   ]
  },
  {
   "cell_type": "code",
   "execution_count": 225,
   "id": "5b23b64f",
   "metadata": {},
   "outputs": [
    {
     "name": "stdout",
     "output_type": "stream",
     "text": [
      "0.056993893511409495\n"
     ]
    }
   ],
   "source": [
    "hox1_bound_expected = p_dgetf*p_cis*p_footTF*n_ge\n",
    "print(hox1_bound_expected)"
   ]
  },
  {
   "cell_type": "code",
   "execution_count": 226,
   "id": "140ded10",
   "metadata": {},
   "outputs": [
    {
     "name": "stdout",
     "output_type": "stream",
     "text": [
      "17.545739348370926\n"
     ]
    }
   ],
   "source": [
    "hox1_bound_ratio = hox1_bound_observed/hox1_bound_expected\n",
    "print(hox1_bound_ratio)"
   ]
  },
  {
   "cell_type": "code",
   "execution_count": 227,
   "id": "ea697755",
   "metadata": {},
   "outputs": [
    {
     "name": "stdout",
     "output_type": "stream",
     "text": [
      "358\n",
      "134\n",
      "0.7276422764227642\n",
      "0.27235772357723576\n"
     ]
    }
   ],
   "source": [
    "TN = len(TF_table[(~TF_table[\"Neiro\"].isin(Arnold2021hox1diff.iloc[:,0])) & (~TF_table[\"Neiro\"].isin(hox1_unbound_enhancers[\"geneId\"]))])\n",
    "print(TN)\n",
    "#FP = len(pd.Categorical(hox1_unbound_enhancers[hox1_unbound_enhancers[\"geneId\"].isin(TF_table[\"Neiro\"])][\"GeneDescription\"]).categories)\n",
    "FP = len(pd.Categorical(hox1_unbound_enhancers[hox1_unbound_enhancers[\"geneId\"].isin(TF_table[\"Neiro\"]) & (~hox1_unbound_enhancers[\"geneId\"].isin(Arnold2021hox1TF.iloc[:,0]))][\"GeneDescription\"]).categories)\n",
    "print(FP)\n",
    "specificity_unbound = TN/(TN+FP)\n",
    "print(specificity_unbound)\n",
    "FPR_unbound_hox1 = 1 - specificity_unbound\n",
    "print(FPR_unbound_hox1)"
   ]
  },
  {
   "cell_type": "code",
   "execution_count": 228,
   "id": "a2ac157e",
   "metadata": {},
   "outputs": [
    {
     "name": "stdout",
     "output_type": "stream",
     "text": [
      "503\n",
      "10\n",
      "0.9433551198257081\n",
      "0.05664488017429192\n"
     ]
    }
   ],
   "source": [
    "TN = len(TF_table[(~TF_table[\"Neiro\"].isin(Arnold2021hox1diff.iloc[:,0])) & (~TF_table[\"Neiro\"].isin(hox1_bound_enhancers[\"geneId\"]))])\n",
    "print(TN)\n",
    "#FP = len(pd.Categorical(hox1_bound_enhancers[hox1_bound_enhancers[\"geneId\"].isin(TF_table[\"Neiro\"])][\"GeneDescription\"]).categories)\n",
    "FP = len(pd.Categorical(hox1_bound_enhancers[hox1_bound_enhancers[\"geneId\"].isin(TF_table[\"Neiro\"]) & (~hox1_bound_enhancers[\"geneId\"].isin(Arnold2021hox1TF.iloc[:,0]))][\"GeneDescription\"]).categories)\n",
    "print(FP)\n",
    "specificity_unbound = TN/(TN+FP)\n",
    "print(specificity_bound)\n",
    "FPR_bound_hox1 = 1 - specificity_bound\n",
    "print(FPR_bound_hox1)"
   ]
  },
  {
   "cell_type": "code",
   "execution_count": 229,
   "id": "af2c70c0",
   "metadata": {},
   "outputs": [
    {
     "name": "stdout",
     "output_type": "stream",
     "text": [
      "8\n",
      "30\n",
      "0.21052631578947367\n"
     ]
    }
   ],
   "source": [
    "TP = len(pd.Categorical(hox1_unbound_enhancers[hox1_unbound_enhancers[\"geneId\"].isin(Arnold2021hox1TF.iloc[:,0])][\"GeneDescription\"]).categories)\n",
    "print(TP)\n",
    "FN = len(Arnold2021hox1TF[~Arnold2021hox1TF.iloc[:,0].isin(hox1_unbound_enhancers[\"geneId\"])])\n",
    "print(FN)\n",
    "TPR_unbound_hox1 = TP/(TP+FN)\n",
    "print(TPR_unbound_hox1)"
   ]
  },
  {
   "cell_type": "code",
   "execution_count": 230,
   "id": "880a073c",
   "metadata": {},
   "outputs": [
    {
     "name": "stdout",
     "output_type": "stream",
     "text": [
      "1\n",
      "37\n",
      "0.02631578947368421\n"
     ]
    }
   ],
   "source": [
    "TP = len(pd.Categorical(hox1_bound_enhancers[hox1_bound_enhancers[\"geneId\"].isin(Arnold2021hox1TF.iloc[:,0])][\"GeneDescription\"]).categories)\n",
    "print(TP)\n",
    "FN = len(Arnold2021hox1TF[~Arnold2021hox1TF.iloc[:,0].isin(hox1_bound_enhancers[\"geneId\"])])\n",
    "print(FN)\n",
    "TPR_bound_hox1 = TP/(TP+FN)\n",
    "print(TPR_bound_hox1)"
   ]
  },
  {
   "cell_type": "code",
   "execution_count": 231,
   "id": "0fe2837e",
   "metadata": {},
   "outputs": [
    {
     "data": {
      "text/plain": [
       "[<matplotlib.lines.Line2D at 0x7fc98dc8a5b0>]"
      ]
     },
     "execution_count": 231,
     "metadata": {},
     "output_type": "execute_result"
    },
    {
     "data": {
      "image/png": "[encoded data removed]",
      "text/plain": [
       "<Figure size 432x288 with 1 Axes>"
      ]
     },
     "metadata": {
      "needs_background": "light"
     },
     "output_type": "display_data"
    }
   ],
   "source": [
    "import matplotlib.pyplot as plt\n",
    "import numpy as np\n",
    "plt.plot(np.linspace(0,1, 50), np.linspace(0,1, 50))\n",
    "plt.plot(FPR_unbound_hox1, TPR_unbound_hox1, \"bo\")\n",
    "plt.plot(FPR_bound_hox1, TPR_bound_hox1, \"bo\")"
   ]
  },
  {
   "cell_type": "code",
   "execution_count": 232,
   "id": "15bf75d9",
   "metadata": {},
   "outputs": [],
   "source": [
    "pd.DataFrame({\"hox1\": [FPR_unbound_hox1, FPR_bound_hox1, TPR_unbound_hox1, TPR_bound_hox1, hox1_unbound_ratio, hox1_bound_ratio, hox1_unbound_observed, hox1_unbound_expected, hox1_bound_observed, hox1_bound_expected]}).to_csv(\"/drives/raid/AboobakerLab/jakke/TF_RNAi_RNAseq/Arnold2021/ROChox1.csv\")"
   ]
  },
  {
   "cell_type": "code",
   "execution_count": 233,
   "id": "07c22ff7",
   "metadata": {},
   "outputs": [
    {
     "name": "stdout",
     "output_type": "stream",
     "text": [
      "['MSTRG.221']\n"
     ]
    },
    {
     "data": {
      "text/html": [
       "<div>\n",
       "<style scoped>\n",
       "    .dataframe tbody tr th:only-of-type {\n",
       "        vertical-align: middle;\n",
       "    }\n",
       "\n",
       "    .dataframe tbody tr th {\n",
       "        vertical-align: top;\n",
       "    }\n",
       "\n",
       "    .dataframe thead th {\n",
       "        text-align: right;\n",
       "    }\n",
       "</style>\n",
       "<table border=\"1\" class=\"dataframe\">\n",
       "  <thead>\n",
       "    <tr style=\"text-align: right;\">\n",
       "      <th></th>\n",
       "      <th>Rink</th>\n",
       "      <th>Neiro</th>\n",
       "      <th>Symbol</th>\n",
       "      <th>Old symbol</th>\n",
       "      <th>Description</th>\n",
       "      <th>TF group</th>\n",
       "      <th>TF class</th>\n",
       "      <th>Identification</th>\n",
       "      <th>RNAi</th>\n",
       "      <th>In situ</th>\n",
       "      <th>Reference</th>\n",
       "      <th>X1</th>\n",
       "      <th>X2</th>\n",
       "      <th>Xins</th>\n",
       "      <th>X1 percent</th>\n",
       "      <th>X2 percent</th>\n",
       "      <th>Xins percent</th>\n",
       "      <th>Jaspar MatrixID</th>\n",
       "      <th>Jaspar Evalue</th>\n",
       "    </tr>\n",
       "  </thead>\n",
       "  <tbody>\n",
       "    <tr>\n",
       "      <th>235</th>\n",
       "      <td>SMESG000026829.1</td>\n",
       "      <td>MSTRG.221</td>\n",
       "      <td>zf-6</td>\n",
       "      <td>NaN</td>\n",
       "      <td>Zinc finger 6</td>\n",
       "      <td>ZF</td>\n",
       "      <td>Zinc</td>\n",
       "      <td>0.0</td>\n",
       "      <td>0</td>\n",
       "      <td>0</td>\n",
       "      <td>NaN</td>\n",
       "      <td>7.089743</td>\n",
       "      <td>82.193807</td>\n",
       "      <td>87.634045</td>\n",
       "      <td>0.040074</td>\n",
       "      <td>0.464588</td>\n",
       "      <td>0.495338</td>\n",
       "      <td>MA0015.1</td>\n",
       "      <td>1.813010e-12</td>\n",
       "    </tr>\n",
       "  </tbody>\n",
       "</table>\n",
       "</div>"
      ],
      "text/plain": [
       "                 Rink      Neiro Symbol Old symbol    Description TF group  \\\n",
       "235  SMESG000026829.1  MSTRG.221   zf-6        NaN  Zinc finger 6       ZF   \n",
       "\n",
       "    TF class  Identification RNAi In situ Reference        X1         X2  \\\n",
       "235     Zinc             0.0    0       0       NaN  7.089743  82.193807   \n",
       "\n",
       "          Xins  X1 percent  X2 percent  Xins percent Jaspar MatrixID  \\\n",
       "235  87.634045    0.040074    0.464588      0.495338        MA0015.1   \n",
       "\n",
       "     Jaspar Evalue  \n",
       "235   1.813010e-12  "
      ]
     },
     "execution_count": 233,
     "metadata": {},
     "output_type": "execute_result"
    }
   ],
   "source": [
    "hox1_target_tf_list = list(pd.Categorical(hox1_bound_enhancers[hox1_bound_enhancers[\"geneId\"].isin(Arnold2021hox1TF.iloc[:,0])][\"geneId\"]).categories)\n",
    "print(hox1_target_tf_list)\n",
    "hox1_dge_tf_table = TF_table[TF_table[\"Neiro\"].isin(Arnold2021hox1TF.iloc[:,0])]\n",
    "hox1_dge_tf_table[hox1_dge_tf_table[\"Neiro\"].isin(hox1_target_tf_list)]"
   ]
  },
  {
   "cell_type": "markdown",
   "id": "f0982787",
   "metadata": {},
   "source": [
    "## 8.2 Hox3a"
   ]
  },
  {
   "cell_type": "markdown",
   "id": "b36b92bc",
   "metadata": {},
   "source": [
    "### 8.2.1 All genes"
   ]
  },
  {
   "cell_type": "code",
   "execution_count": 234,
   "id": "a3c5b4e8",
   "metadata": {},
   "outputs": [],
   "source": [
    "import pandas as pd\n",
    "Arnold2021hox3a = pd.read_csv(\"/drives/raid/AboobakerLab/jakke/TF_RNAi_RNAseq/Arnold2021/res_Arnold2021hox3a.csv\")"
   ]
  },
  {
   "cell_type": "code",
   "execution_count": 235,
   "id": "e3eb5e77",
   "metadata": {},
   "outputs": [],
   "source": [
    "import pandas as pd\n",
    "Arnold2021hox3a = pd.read_csv(\"/drives/raid/AboobakerLab/jakke/TF_RNAi_RNAseq/Arnold2021/res_Arnold2021hox3a.csv\")\n",
    "Arnold2021hox3a.to_excel(\"/drives/raid/AboobakerLab/jakke/TF_RNAi_RNAseq/Arnold2021/res_Arnold2021hox3a.xlsx\")"
   ]
  },
  {
   "cell_type": "code",
   "execution_count": 236,
   "id": "583d4373",
   "metadata": {},
   "outputs": [
    {
     "name": "stderr",
     "output_type": "stream",
     "text": [
      "/drives/raid/AboobakerLab/jakke/anaconda3/lib/python3.8/site-packages/pandas/core/indexing.py:1732: SettingWithCopyWarning: \n",
      "A value is trying to be set on a copy of a slice from a DataFrame\n",
      "\n",
      "See the caveats in the documentation: https://pandas.pydata.org/pandas-docs/stable/user_guide/indexing.html#returning-a-view-versus-a-copy\n",
      "  self._setitem_single_block(indexer, value, name)\n"
     ]
    }
   ],
   "source": [
    "Arnold2021hox3a = Arnold2021hox3a[(Arnold2021hox3a[\"padj\"] < 0.05)]\n",
    "blasted(Arnold2021hox3a, human_gene_blast, gffcmp)"
   ]
  },
  {
   "cell_type": "code",
   "execution_count": 237,
   "id": "3412610a",
   "metadata": {},
   "outputs": [],
   "source": [
    "enhancer_final = pd.read_excel(\"/drives/raid/AboobakerLab/jakke/enhancer_regions/enhancer_all_oct2021.xlsx\").iloc[:,1:]"
   ]
  },
  {
   "cell_type": "code",
   "execution_count": 238,
   "id": "36d5b20d",
   "metadata": {},
   "outputs": [],
   "source": [
    "import pandas as pd\n",
    "n_ge = len(pd.read_csv(\"/drives/raid/AboobakerLab/jakke/TF_RNAi_RNAseq/Arnold2021/res_Arnold2021hox3a.csv\"))"
   ]
  },
  {
   "cell_type": "code",
   "execution_count": 239,
   "id": "af1d12dc",
   "metadata": {},
   "outputs": [
    {
     "name": "stdout",
     "output_type": "stream",
     "text": [
      "2334\n"
     ]
    }
   ],
   "source": [
    "print(len(Arnold2021hox3a))\n",
    "p_dge = len(Arnold2021hox3a)/n_ge"
   ]
  },
  {
   "cell_type": "code",
   "execution_count": 240,
   "id": "f9de1639",
   "metadata": {},
   "outputs": [
    {
     "name": "stdout",
     "output_type": "stream",
     "text": [
      "1702\n"
     ]
    }
   ],
   "source": [
    "print(len(pd.Categorical(enhancer_final[\"GeneDescription\"]).categories))\n",
    "p_cis = len(pd.Categorical(enhancer_final[\"GeneDescription\"]).categories)/n_ge"
   ]
  },
  {
   "cell_type": "code",
   "execution_count": 241,
   "id": "b8036308",
   "metadata": {},
   "outputs": [],
   "source": [
    "hox3a_unbound_enhancers = enhancer_final[enhancer_final[\"Unbound motif names\"].str.contains(\"hox\")]\n",
    "hox3a_unbound_notenhancers = enhancer_final[~enhancer_final[\"Unbound motif names\"].str.contains(\"hox\")]\n",
    "hox3a_bound_enhancers = enhancer_final[enhancer_final[\"Bound motif names\"].str.contains(\"hox\")]\n",
    "hox3a_bound_notenhancers = enhancer_final[~enhancer_final[\"Bound motif names\"].str.contains(\"hox\")]"
   ]
  },
  {
   "cell_type": "code",
   "execution_count": 242,
   "id": "5d12c954",
   "metadata": {},
   "outputs": [
    {
     "name": "stdout",
     "output_type": "stream",
     "text": [
      "1025\n"
     ]
    }
   ],
   "source": [
    "print(len(pd.Categorical(hox3a_unbound_enhancers[\"GeneDescription\"]).categories))\n",
    "p_TF = len(pd.Categorical(hox3a_unbound_enhancers[\"GeneDescription\"]).categories)/len(pd.Categorical(enhancer_final[\"GeneDescription\"]).categories)"
   ]
  },
  {
   "cell_type": "code",
   "execution_count": 243,
   "id": "b935eba5",
   "metadata": {},
   "outputs": [
    {
     "name": "stdout",
     "output_type": "stream",
     "text": [
      "42\n"
     ]
    }
   ],
   "source": [
    "print(len(pd.Categorical(hox3a_bound_enhancers[\"GeneDescription\"]).categories))\n",
    "p_footTF = len(pd.Categorical(hox3a_bound_enhancers[\"GeneDescription\"]).categories)/len(pd.Categorical(enhancer_final[\"GeneDescription\"]).categories)"
   ]
  },
  {
   "cell_type": "code",
   "execution_count": 244,
   "id": "459c8a60",
   "metadata": {},
   "outputs": [
    {
     "data": {
      "text/plain": [
       "154"
      ]
     },
     "execution_count": 244,
     "metadata": {},
     "output_type": "execute_result"
    }
   ],
   "source": [
    "len(pd.Categorical(hox3a_unbound_enhancers[hox3a_unbound_enhancers[\"geneId\"].isin(Arnold2021hox3a.iloc[:,0])][\"GeneDescription\"]).categories)"
   ]
  },
  {
   "cell_type": "code",
   "execution_count": 245,
   "id": "2d66c6c0",
   "metadata": {},
   "outputs": [
    {
     "data": {
      "text/plain": [
       "85.43191800878476"
      ]
     },
     "execution_count": 245,
     "metadata": {},
     "output_type": "execute_result"
    }
   ],
   "source": [
    "p_dge*p_cis*p_TF*n_ge"
   ]
  },
  {
   "cell_type": "code",
   "execution_count": 246,
   "id": "7a0e8a72",
   "metadata": {},
   "outputs": [
    {
     "data": {
      "text/plain": [
       "5"
      ]
     },
     "execution_count": 246,
     "metadata": {},
     "output_type": "execute_result"
    }
   ],
   "source": [
    "len(pd.Categorical(hox3a_bound_enhancers[hox3a_bound_enhancers[\"geneId\"].isin(Arnold2021hox3a.iloc[:,0])][\"GeneDescription\"]).categories)"
   ]
  },
  {
   "cell_type": "code",
   "execution_count": 247,
   "id": "e1de662d",
   "metadata": {},
   "outputs": [
    {
     "data": {
      "text/plain": [
       "3.500624933042888"
      ]
     },
     "execution_count": 247,
     "metadata": {},
     "output_type": "execute_result"
    }
   ],
   "source": [
    "p_dge*p_cis*p_footTF*n_ge"
   ]
  },
  {
   "cell_type": "markdown",
   "id": "611dc285",
   "metadata": {},
   "source": [
    "### 8.2.2 Transcription factors"
   ]
  },
  {
   "cell_type": "code",
   "execution_count": 248,
   "id": "0116d7aa",
   "metadata": {},
   "outputs": [],
   "source": [
    "import pandas as pd\n",
    "TF_table = pd.read_csv(\"/drives/raid/AboobakerLab/jakke/TF_data/Transcription_factors_01072021_values.csv\").iloc[:,1:]"
   ]
  },
  {
   "cell_type": "code",
   "execution_count": 249,
   "id": "fc159e7e",
   "metadata": {},
   "outputs": [],
   "source": [
    "import pandas as pd\n",
    "Arnold2021hox3a = pd.read_csv(\"/drives/raid/AboobakerLab/jakke/TF_RNAi_RNAseq/Arnold2021/res_Arnold2021hox3a.csv\")\n",
    "Arnold2021hox3adiff = Arnold2021hox3a[Arnold2021hox3a[\"padj\"] < 0.05]\n",
    "Arnold2021hox3aTF = Arnold2021hox3adiff[Arnold2021hox3adiff.iloc[:,0].isin(TF_table[\"Neiro\"])]"
   ]
  },
  {
   "cell_type": "code",
   "execution_count": 250,
   "id": "9b074b02",
   "metadata": {},
   "outputs": [
    {
     "name": "stdout",
     "output_type": "stream",
     "text": [
      "50\n"
     ]
    }
   ],
   "source": [
    "print(len(Arnold2021hox3aTF))\n",
    "p_dgetf = len(Arnold2021hox3aTF)/n_ge"
   ]
  },
  {
   "cell_type": "code",
   "execution_count": 251,
   "id": "a354e619",
   "metadata": {},
   "outputs": [
    {
     "name": "stdout",
     "output_type": "stream",
     "text": [
      "14\n"
     ]
    }
   ],
   "source": [
    "hox3a_unbound_observed = len(pd.Categorical(hox3a_unbound_enhancers[hox3a_unbound_enhancers[\"geneId\"].isin(Arnold2021hox3aTF.iloc[:,0])][\"GeneDescription\"]).categories)\n",
    "print(hox3a_unbound_observed)"
   ]
  },
  {
   "cell_type": "code",
   "execution_count": 252,
   "id": "4a612d8b",
   "metadata": {},
   "outputs": [
    {
     "name": "stdout",
     "output_type": "stream",
     "text": [
      "1.8301610541727673\n"
     ]
    }
   ],
   "source": [
    "hox3a_unbound_expected = p_dgetf*p_cis*p_TF*n_ge\n",
    "print(hox3a_unbound_expected)"
   ]
  },
  {
   "cell_type": "code",
   "execution_count": 253,
   "id": "8f19f118",
   "metadata": {},
   "outputs": [
    {
     "name": "stdout",
     "output_type": "stream",
     "text": [
      "7.6495999999999995\n"
     ]
    }
   ],
   "source": [
    "hox3a_unbound_ratio = hox3a_unbound_observed/hox3a_unbound_expected\n",
    "print(hox3a_unbound_ratio)"
   ]
  },
  {
   "cell_type": "code",
   "execution_count": 254,
   "id": "1daee2e9",
   "metadata": {},
   "outputs": [
    {
     "name": "stdout",
     "output_type": "stream",
     "text": [
      "0\n"
     ]
    }
   ],
   "source": [
    "hox3a_bound_observed = len(pd.Categorical(hox3a_bound_enhancers[hox3a_bound_enhancers[\"geneId\"].isin(Arnold2021hox3aTF.iloc[:,0])][\"GeneDescription\"]).categories)\n",
    "print(hox3a_bound_observed)"
   ]
  },
  {
   "cell_type": "code",
   "execution_count": 255,
   "id": "aaabf778",
   "metadata": {},
   "outputs": [
    {
     "name": "stdout",
     "output_type": "stream",
     "text": [
      "0.07499196514659143\n"
     ]
    }
   ],
   "source": [
    "hox3a_bound_expected = p_dgetf*p_cis*p_footTF*n_ge\n",
    "print(hox3a_bound_expected)"
   ]
  },
  {
   "cell_type": "code",
   "execution_count": 256,
   "id": "1b2a1890",
   "metadata": {},
   "outputs": [
    {
     "name": "stdout",
     "output_type": "stream",
     "text": [
      "0.0\n"
     ]
    }
   ],
   "source": [
    "hox3a_bound_ratio = hox3a_bound_observed/hox3a_bound_expected\n",
    "print(hox3a_bound_ratio)"
   ]
  },
  {
   "cell_type": "code",
   "execution_count": 257,
   "id": "644fb73e",
   "metadata": {},
   "outputs": [
    {
     "name": "stdout",
     "output_type": "stream",
     "text": [
      "352\n",
      "131\n",
      "0.7287784679089027\n",
      "0.27122153209109734\n"
     ]
    }
   ],
   "source": [
    "TN = len(TF_table[(~TF_table[\"Neiro\"].isin(Arnold2021hox3adiff.iloc[:,0])) & (~TF_table[\"Neiro\"].isin(hox3a_unbound_enhancers[\"geneId\"]))])\n",
    "print(TN)\n",
    "#FP = len(pd.Categorical(hox3a_unbound_enhancers[hox3a_unbound_enhancers[\"geneId\"].isin(TF_table[\"Neiro\"])][\"GeneDescription\"]).categories)\n",
    "FP = len(pd.Categorical(hox3a_unbound_enhancers[hox3a_unbound_enhancers[\"geneId\"].isin(TF_table[\"Neiro\"]) & (~hox3a_unbound_enhancers[\"geneId\"].isin(Arnold2021hox3aTF.iloc[:,0]))][\"GeneDescription\"]).categories)\n",
    "print(FP)\n",
    "specificity_unbound = TN/(TN+FP)\n",
    "print(specificity_unbound)\n",
    "FPR_unbound_hox3a = 1 - specificity_unbound\n",
    "print(FPR_unbound_hox3a)"
   ]
  },
  {
   "cell_type": "code",
   "execution_count": 258,
   "id": "58a74575",
   "metadata": {},
   "outputs": [
    {
     "name": "stdout",
     "output_type": "stream",
     "text": [
      "490\n",
      "11\n",
      "0.9780439121756487\n",
      "0.021956087824351322\n"
     ]
    }
   ],
   "source": [
    "TN = len(TF_table[(~TF_table[\"Neiro\"].isin(Arnold2021hox3adiff.iloc[:,0])) & (~TF_table[\"Neiro\"].isin(hox3a_bound_enhancers[\"geneId\"]))])\n",
    "print(TN)\n",
    "#FP = len(pd.Categorical(hox3a_bound_enhancers[hox3a_bound_enhancers[\"geneId\"].isin(TF_table[\"Neiro\"])][\"GeneDescription\"]).categories)\n",
    "FP = len(pd.Categorical(hox3a_bound_enhancers[hox3a_bound_enhancers[\"geneId\"].isin(TF_table[\"Neiro\"]) & (~hox3a_bound_enhancers[\"geneId\"].isin(Arnold2021hox3aTF.iloc[:,0]))][\"GeneDescription\"]).categories)\n",
    "print(FP)\n",
    "specificity_bound = TN/(TN+FP)\n",
    "print(specificity_bound)\n",
    "FPR_bound_hox3a = 1 - specificity_bound\n",
    "print(FPR_bound_hox3a)"
   ]
  },
  {
   "cell_type": "code",
   "execution_count": 259,
   "id": "d77fae98",
   "metadata": {},
   "outputs": [
    {
     "name": "stdout",
     "output_type": "stream",
     "text": [
      "14\n",
      "36\n",
      "0.28\n"
     ]
    }
   ],
   "source": [
    "TP = len(pd.Categorical(hox3a_unbound_enhancers[hox3a_unbound_enhancers[\"geneId\"].isin(Arnold2021hox3aTF.iloc[:,0])][\"GeneDescription\"]).categories)\n",
    "print(TP)\n",
    "FN = len(Arnold2021hox3aTF[~Arnold2021hox3aTF.iloc[:,0].isin(hox3a_unbound_enhancers[\"geneId\"])])\n",
    "print(FN)\n",
    "TPR_unbound_hox3a = TP/(TP+FN)\n",
    "print(TPR_unbound_hox3a)"
   ]
  },
  {
   "cell_type": "code",
   "execution_count": 260,
   "id": "9d8f02d3",
   "metadata": {},
   "outputs": [
    {
     "name": "stdout",
     "output_type": "stream",
     "text": [
      "0\n",
      "50\n",
      "0.0\n"
     ]
    }
   ],
   "source": [
    "TP = len(pd.Categorical(hox3a_bound_enhancers[hox3a_bound_enhancers[\"geneId\"].isin(Arnold2021hox3aTF.iloc[:,0])][\"GeneDescription\"]).categories)\n",
    "print(TP)\n",
    "FN = len(Arnold2021hox3aTF[~Arnold2021hox3aTF.iloc[:,0].isin(hox3a_bound_enhancers[\"geneId\"])])\n",
    "print(FN)\n",
    "TPR_bound_hox3a = TP/(TP+FN)\n",
    "print(TPR_bound_hox3a)"
   ]
  },
  {
   "cell_type": "code",
   "execution_count": 261,
   "id": "db98cc1c",
   "metadata": {},
   "outputs": [
    {
     "data": {
      "text/plain": [
       "[<matplotlib.lines.Line2D at 0x7fc98633efa0>]"
      ]
     },
     "execution_count": 261,
     "metadata": {},
     "output_type": "execute_result"
    },
    {
     "data": {
      "image/png": "[encoded data removed]",
      "text/plain": [
       "<Figure size 432x288 with 1 Axes>"
      ]
     },
     "metadata": {
      "needs_background": "light"
     },
     "output_type": "display_data"
    }
   ],
   "source": [
    "import matplotlib.pyplot as plt\n",
    "import numpy as np\n",
    "plt.plot(np.linspace(0,1, 50), np.linspace(0,1, 50))\n",
    "plt.plot(FPR_unbound_hox3a, TPR_unbound_hox3a, \"bo\")\n",
    "plt.plot(FPR_bound_hox3a, TPR_bound_hox3a, \"bo\")"
   ]
  },
  {
   "cell_type": "code",
   "execution_count": 262,
   "id": "651d20cd",
   "metadata": {},
   "outputs": [],
   "source": [
    "pd.DataFrame({\"hox3a\": [FPR_unbound_hox3a, FPR_bound_hox3a, TPR_unbound_hox3a, TPR_bound_hox3a, hox3a_unbound_ratio, hox3a_bound_ratio, hox3a_unbound_observed, hox3a_unbound_expected, hox3a_bound_observed, hox3a_bound_expected]}).to_csv(\"/drives/raid/AboobakerLab/jakke/TF_RNAi_RNAseq/Arnold2021/ROChox3a.csv\")"
   ]
  },
  {
   "cell_type": "code",
   "execution_count": 263,
   "id": "548debbc",
   "metadata": {},
   "outputs": [
    {
     "name": "stdout",
     "output_type": "stream",
     "text": [
      "[]\n"
     ]
    },
    {
     "data": {
      "text/html": [
       "<div>\n",
       "<style scoped>\n",
       "    .dataframe tbody tr th:only-of-type {\n",
       "        vertical-align: middle;\n",
       "    }\n",
       "\n",
       "    .dataframe tbody tr th {\n",
       "        vertical-align: top;\n",
       "    }\n",
       "\n",
       "    .dataframe thead th {\n",
       "        text-align: right;\n",
       "    }\n",
       "</style>\n",
       "<table border=\"1\" class=\"dataframe\">\n",
       "  <thead>\n",
       "    <tr style=\"text-align: right;\">\n",
       "      <th></th>\n",
       "      <th>Rink</th>\n",
       "      <th>Neiro</th>\n",
       "      <th>Symbol</th>\n",
       "      <th>Old symbol</th>\n",
       "      <th>Description</th>\n",
       "      <th>TF group</th>\n",
       "      <th>TF class</th>\n",
       "      <th>Identification</th>\n",
       "      <th>RNAi</th>\n",
       "      <th>In situ</th>\n",
       "      <th>Reference</th>\n",
       "      <th>X1</th>\n",
       "      <th>X2</th>\n",
       "      <th>Xins</th>\n",
       "      <th>X1 percent</th>\n",
       "      <th>X2 percent</th>\n",
       "      <th>Xins percent</th>\n",
       "      <th>Jaspar MatrixID</th>\n",
       "      <th>Jaspar Evalue</th>\n",
       "    </tr>\n",
       "  </thead>\n",
       "  <tbody>\n",
       "  </tbody>\n",
       "</table>\n",
       "</div>"
      ],
      "text/plain": [
       "Empty DataFrame\n",
       "Columns: [Rink, Neiro, Symbol, Old symbol, Description, TF group, TF class, Identification, RNAi, In situ, Reference, X1, X2, Xins, X1 percent, X2 percent, Xins percent, Jaspar MatrixID, Jaspar Evalue]\n",
       "Index: []"
      ]
     },
     "execution_count": 263,
     "metadata": {},
     "output_type": "execute_result"
    }
   ],
   "source": [
    "hox3a_target_tf_list = list(pd.Categorical(hox3a_bound_enhancers[hox3a_bound_enhancers[\"geneId\"].isin(Arnold2021hox3aTF.iloc[:,0])][\"geneId\"]).categories)\n",
    "print(hox3a_target_tf_list)\n",
    "hox3a_dge_tf_table = TF_table[TF_table[\"Neiro\"].isin(Arnold2021hox3aTF.iloc[:,0])]\n",
    "hox3a_dge_tf_table[hox3a_dge_tf_table[\"Neiro\"].isin(hox3a_target_tf_list)]"
   ]
  },
  {
   "cell_type": "markdown",
   "id": "30d25ce4",
   "metadata": {},
   "source": [
    "## 8.3 lox5b"
   ]
  },
  {
   "cell_type": "markdown",
   "id": "605d9a3c",
   "metadata": {},
   "source": [
    "### All genes"
   ]
  },
  {
   "cell_type": "code",
   "execution_count": 264,
   "id": "87c32756",
   "metadata": {},
   "outputs": [],
   "source": [
    "import pandas as pd\n",
    "Arnold2021lox5b = pd.read_csv(\"/drives/raid/AboobakerLab/jakke/TF_RNAi_RNAseq/Arnold2021/res_Arnold2021lox5b.csv\")"
   ]
  },
  {
   "cell_type": "code",
   "execution_count": 265,
   "id": "141a27f7",
   "metadata": {},
   "outputs": [],
   "source": [
    "import pandas as pd\n",
    "Arnold2021lox5b = pd.read_csv(\"/drives/raid/AboobakerLab/jakke/TF_RNAi_RNAseq/Arnold2021/res_Arnold2021lox5b.csv\")\n",
    "Arnold2021lox5b.to_excel(\"/drives/raid/AboobakerLab/jakke/TF_RNAi_RNAseq/Arnold2021/res_Arnold2021lox5b.xlsx\")"
   ]
  },
  {
   "cell_type": "code",
   "execution_count": 266,
   "id": "43713ae2",
   "metadata": {},
   "outputs": [
    {
     "name": "stderr",
     "output_type": "stream",
     "text": [
      "/drives/raid/AboobakerLab/jakke/anaconda3/lib/python3.8/site-packages/pandas/core/indexing.py:1732: SettingWithCopyWarning: \n",
      "A value is trying to be set on a copy of a slice from a DataFrame\n",
      "\n",
      "See the caveats in the documentation: https://pandas.pydata.org/pandas-docs/stable/user_guide/indexing.html#returning-a-view-versus-a-copy\n",
      "  self._setitem_single_block(indexer, value, name)\n"
     ]
    }
   ],
   "source": [
    "Arnold2021lox5b = Arnold2021lox5b[(Arnold2021lox5b[\"padj\"] < 0.05)]\n",
    "blasted(Arnold2021lox5b, human_gene_blast, gffcmp)"
   ]
  },
  {
   "cell_type": "code",
   "execution_count": 267,
   "id": "2e028686",
   "metadata": {},
   "outputs": [],
   "source": [
    "import pandas as pd\n",
    "n_ge = len(pd.read_csv(\"/drives/raid/AboobakerLab/jakke/TF_RNAi_RNAseq/Arnold2021/res_Arnold2021lox5b.csv\"))"
   ]
  },
  {
   "cell_type": "code",
   "execution_count": 268,
   "id": "d5f32a8c",
   "metadata": {},
   "outputs": [
    {
     "name": "stdout",
     "output_type": "stream",
     "text": [
      "7838\n"
     ]
    }
   ],
   "source": [
    "print(len(Arnold2021lox5b))\n",
    "p_dge = len(Arnold2021lox5b)/n_ge"
   ]
  },
  {
   "cell_type": "code",
   "execution_count": 269,
   "id": "08424c12",
   "metadata": {},
   "outputs": [
    {
     "name": "stdout",
     "output_type": "stream",
     "text": [
      "1702\n"
     ]
    }
   ],
   "source": [
    "print(len(pd.Categorical(enhancer_final[\"GeneDescription\"]).categories))\n",
    "p_cis = len(pd.Categorical(enhancer_final[\"GeneDescription\"]).categories)/n_ge"
   ]
  },
  {
   "cell_type": "code",
   "execution_count": 270,
   "id": "b42417bc",
   "metadata": {},
   "outputs": [],
   "source": [
    "lox5b_unbound_enhancers = enhancer_final[enhancer_final[\"Unbound motif names\"].str.contains(\"Lox\")]\n",
    "lox5b_unbound_notenhancers = enhancer_final[~enhancer_final[\"Unbound motif names\"].str.contains(\"Lox\")]\n",
    "lox5b_bound_enhancers = enhancer_final[enhancer_final[\"Bound motif names\"].str.contains(\"Lox\")]\n",
    "lox5b_bound_notenhancers = enhancer_final[~enhancer_final[\"Bound motif names\"].str.contains(\"Lox\")]"
   ]
  },
  {
   "cell_type": "code",
   "execution_count": 271,
   "id": "4c58e5c6",
   "metadata": {},
   "outputs": [
    {
     "name": "stdout",
     "output_type": "stream",
     "text": [
      "1235\n"
     ]
    }
   ],
   "source": [
    "print(len(pd.Categorical(lox5b_unbound_enhancers[\"GeneDescription\"]).categories))\n",
    "p_TF = len(pd.Categorical(lox5b_unbound_enhancers[\"GeneDescription\"]).categories)/len(pd.Categorical(enhancer_final[\"GeneDescription\"]).categories)"
   ]
  },
  {
   "cell_type": "code",
   "execution_count": 272,
   "id": "91d94e39",
   "metadata": {},
   "outputs": [
    {
     "name": "stdout",
     "output_type": "stream",
     "text": [
      "50\n"
     ]
    }
   ],
   "source": [
    "print(len(pd.Categorical(lox5b_bound_enhancers[\"GeneDescription\"]).categories))\n",
    "p_footTF = len(pd.Categorical(lox5b_bound_enhancers[\"GeneDescription\"]).categories)/len(pd.Categorical(enhancer_final[\"GeneDescription\"]).categories)"
   ]
  },
  {
   "cell_type": "code",
   "execution_count": 273,
   "id": "a9c077e6",
   "metadata": {},
   "outputs": [
    {
     "data": {
      "text/plain": [
       "556"
      ]
     },
     "execution_count": 273,
     "metadata": {},
     "output_type": "execute_result"
    }
   ],
   "source": [
    "len(pd.Categorical(lox5b_unbound_enhancers[lox5b_unbound_enhancers[\"geneId\"].isin(Arnold2021lox5b.iloc[:,0])][\"GeneDescription\"]).categories)"
   ]
  },
  {
   "cell_type": "code",
   "execution_count": 274,
   "id": "6f83fe57",
   "metadata": {},
   "outputs": [
    {
     "data": {
      "text/plain": [
       "345.67474913402134"
      ]
     },
     "execution_count": 274,
     "metadata": {},
     "output_type": "execute_result"
    }
   ],
   "source": [
    "p_dge*p_cis*p_TF*n_ge"
   ]
  },
  {
   "cell_type": "code",
   "execution_count": 275,
   "id": "2833b6e5",
   "metadata": {},
   "outputs": [
    {
     "data": {
      "text/plain": [
       "25"
      ]
     },
     "execution_count": 275,
     "metadata": {},
     "output_type": "execute_result"
    }
   ],
   "source": [
    "len(pd.Categorical(lox5b_bound_enhancers[lox5b_bound_enhancers[\"geneId\"].isin(Arnold2021lox5b.iloc[:,0])][\"GeneDescription\"]).categories)"
   ]
  },
  {
   "cell_type": "code",
   "execution_count": 276,
   "id": "16f09903",
   "metadata": {},
   "outputs": [
    {
     "data": {
      "text/plain": [
       "13.994929114737706"
      ]
     },
     "execution_count": 276,
     "metadata": {},
     "output_type": "execute_result"
    }
   ],
   "source": [
    "p_dge*p_cis*p_footTF*n_ge"
   ]
  },
  {
   "cell_type": "markdown",
   "id": "b00ca4fe",
   "metadata": {},
   "source": [
    "### Transcription factors"
   ]
  },
  {
   "cell_type": "code",
   "execution_count": 277,
   "id": "dd0f6aea",
   "metadata": {},
   "outputs": [],
   "source": [
    "import pandas as pd\n",
    "TF_table = pd.read_csv(\"/drives/raid/AboobakerLab/jakke/TF_data/Transcription_factors_01072021_values.csv\").iloc[:,1:]"
   ]
  },
  {
   "cell_type": "code",
   "execution_count": 278,
   "id": "9fb5de11",
   "metadata": {},
   "outputs": [],
   "source": [
    "import pandas as pd\n",
    "Arnold2021lox5b = pd.read_csv(\"/drives/raid/AboobakerLab/jakke/TF_RNAi_RNAseq/Arnold2021/res_Arnold2021lox5b.csv\")\n",
    "Arnold2021lox5bdiff = Arnold2021lox5b[Arnold2021lox5b[\"padj\"] < 0.05]\n",
    "Arnold2021lox5bTF = Arnold2021lox5bdiff[Arnold2021lox5bdiff.iloc[:,0].isin(TF_table[\"Neiro\"])]"
   ]
  },
  {
   "cell_type": "code",
   "execution_count": 279,
   "id": "b07e5dd2",
   "metadata": {},
   "outputs": [
    {
     "name": "stdout",
     "output_type": "stream",
     "text": [
      "172\n"
     ]
    }
   ],
   "source": [
    "print(len(Arnold2021lox5bTF))\n",
    "p_dgetf = len(Arnold2021lox5bTF)/n_ge"
   ]
  },
  {
   "cell_type": "code",
   "execution_count": 280,
   "id": "5d8a44be",
   "metadata": {},
   "outputs": [
    {
     "name": "stdout",
     "output_type": "stream",
     "text": [
      "53\n"
     ]
    }
   ],
   "source": [
    "lox5b_unbound_observed = len(pd.Categorical(lox5b_unbound_enhancers[lox5b_unbound_enhancers[\"geneId\"].isin(Arnold2021lox5bTF.iloc[:,0])][\"GeneDescription\"]).categories)\n",
    "print(lox5b_unbound_observed)"
   ]
  },
  {
   "cell_type": "code",
   "execution_count": 281,
   "id": "7969d1c4",
   "metadata": {},
   "outputs": [
    {
     "name": "stdout",
     "output_type": "stream",
     "text": [
      "7.58561582687569\n"
     ]
    }
   ],
   "source": [
    "lox5b_unbound_expected = p_dgetf*p_cis*p_TF*n_ge\n",
    "print(lox5b_unbound_expected)"
   ]
  },
  {
   "cell_type": "code",
   "execution_count": 282,
   "id": "4319032a",
   "metadata": {},
   "outputs": [
    {
     "name": "stdout",
     "output_type": "stream",
     "text": [
      "6.986908012428209\n"
     ]
    }
   ],
   "source": [
    "lox5b_unbound_ratio = lox5b_unbound_observed/lox5b_unbound_expected\n",
    "print(lox5b_unbound_ratio)"
   ]
  },
  {
   "cell_type": "code",
   "execution_count": 283,
   "id": "5c5177f8",
   "metadata": {},
   "outputs": [
    {
     "name": "stdout",
     "output_type": "stream",
     "text": [
      "4\n"
     ]
    }
   ],
   "source": [
    "lox5b_bound_observed = len(pd.Categorical(lox5b_bound_enhancers[lox5b_bound_enhancers[\"geneId\"].isin(Arnold2021lox5bTF.iloc[:,0])][\"GeneDescription\"]).categories)\n",
    "print(lox5b_bound_observed)"
   ]
  },
  {
   "cell_type": "code",
   "execution_count": 284,
   "id": "43b5b4ef",
   "metadata": {},
   "outputs": [
    {
     "name": "stdout",
     "output_type": "stream",
     "text": [
      "0.30710995250508866\n"
     ]
    }
   ],
   "source": [
    "lox5b_bound_expected = p_dgetf*p_cis*p_footTF*n_ge\n",
    "print(lox5b_bound_expected)"
   ]
  },
  {
   "cell_type": "code",
   "execution_count": 285,
   "id": "a9e344e3",
   "metadata": {},
   "outputs": [
    {
     "name": "stdout",
     "output_type": "stream",
     "text": [
      "13.0246511627907\n"
     ]
    }
   ],
   "source": [
    "lox5b_bound_ratio = lox5b_bound_observed/lox5b_bound_expected\n",
    "print(lox5b_bound_ratio)"
   ]
  },
  {
   "cell_type": "code",
   "execution_count": 286,
   "id": "d5515dec",
   "metadata": {},
   "outputs": [
    {
     "name": "stdout",
     "output_type": "stream",
     "text": [
      "255\n",
      "114\n",
      "0.6910569105691057\n",
      "0.3089430894308943\n"
     ]
    }
   ],
   "source": [
    "TN = len(TF_table[(~TF_table[\"Neiro\"].isin(Arnold2021lox5bdiff.iloc[:,0])) & (~TF_table[\"Neiro\"].isin(lox5b_unbound_enhancers[\"geneId\"]))])\n",
    "print(TN)\n",
    "#FP = len(pd.Categorical(hox3a_unbound_enhancers[hox3a_unbound_enhancers[\"geneId\"].isin(TF_table[\"Neiro\"])][\"GeneDescription\"]).categories)\n",
    "FP = len(pd.Categorical(lox5b_unbound_enhancers[lox5b_unbound_enhancers[\"geneId\"].isin(TF_table[\"Neiro\"]) & (~lox5b_unbound_enhancers[\"geneId\"].isin(Arnold2021lox5bTF.iloc[:,0]))][\"GeneDescription\"]).categories)\n",
    "print(FP)\n",
    "specificity_unbound = TN/(TN+FP)\n",
    "print(specificity_unbound)\n",
    "FPR_unbound_lox5b = 1 - specificity_unbound\n",
    "print(FPR_unbound_lox5b)"
   ]
  },
  {
   "cell_type": "code",
   "execution_count": 287,
   "id": "b2696178",
   "metadata": {},
   "outputs": [
    {
     "name": "stdout",
     "output_type": "stream",
     "text": [
      "376\n",
      "3\n",
      "0.9920844327176781\n",
      "0.0079155672823219\n"
     ]
    }
   ],
   "source": [
    "TN = len(TF_table[(~TF_table[\"Neiro\"].isin(Arnold2021lox5bdiff.iloc[:,0])) & (~TF_table[\"Neiro\"].isin(lox5b_bound_enhancers[\"geneId\"]))])\n",
    "print(TN)\n",
    "#FP = len(pd.Categorical(hox3a_unbound_enhancers[hox3a_unbound_enhancers[\"geneId\"].isin(TF_table[\"Neiro\"])][\"GeneDescription\"]).categories)\n",
    "FP = len(pd.Categorical(lox5b_bound_enhancers[lox5b_bound_enhancers[\"geneId\"].isin(TF_table[\"Neiro\"]) & (~lox5b_bound_enhancers[\"geneId\"].isin(Arnold2021lox5bTF.iloc[:,0]))][\"GeneDescription\"]).categories)\n",
    "print(FP)\n",
    "specificity_bound = TN/(TN+FP)\n",
    "print(specificity_bound)\n",
    "FPR_bound_lox5b = 1 - specificity_bound\n",
    "print(FPR_bound_lox5b)"
   ]
  },
  {
   "cell_type": "code",
   "execution_count": 288,
   "id": "78bc0013",
   "metadata": {},
   "outputs": [
    {
     "name": "stdout",
     "output_type": "stream",
     "text": [
      "53\n",
      "116\n",
      "0.3136094674556213\n"
     ]
    }
   ],
   "source": [
    "TP = len(pd.Categorical(lox5b_unbound_enhancers[lox5b_unbound_enhancers[\"geneId\"].isin(Arnold2021lox5bTF.iloc[:,0])][\"GeneDescription\"]).categories)\n",
    "print(TP)\n",
    "FN = len(Arnold2021lox5bTF[~Arnold2021lox5bTF.iloc[:,0].isin(lox5b_unbound_enhancers[\"geneId\"])])\n",
    "print(FN)\n",
    "TPR_unbound_lox5b = TP/(TP+FN)\n",
    "print(TPR_unbound_lox5b)"
   ]
  },
  {
   "cell_type": "code",
   "execution_count": 289,
   "id": "ad5aa2f0",
   "metadata": {},
   "outputs": [
    {
     "name": "stdout",
     "output_type": "stream",
     "text": [
      "4\n",
      "168\n",
      "0.023255813953488372\n"
     ]
    }
   ],
   "source": [
    "TP = len(pd.Categorical(lox5b_bound_enhancers[lox5b_bound_enhancers[\"geneId\"].isin(Arnold2021lox5bTF.iloc[:,0])][\"GeneDescription\"]).categories)\n",
    "print(TP)\n",
    "FN = len(Arnold2021lox5bTF[~Arnold2021lox5bTF.iloc[:,0].isin(lox5b_bound_enhancers[\"geneId\"])])\n",
    "print(FN)\n",
    "TPR_bound_lox5b = TP/(TP+FN)\n",
    "print(TPR_bound_lox5b)"
   ]
  },
  {
   "cell_type": "code",
   "execution_count": 290,
   "id": "e672e902",
   "metadata": {},
   "outputs": [],
   "source": [
    "pd.DataFrame({\"lox5b\": [FPR_unbound_lox5b, FPR_bound_lox5b, TPR_unbound_lox5b, TPR_bound_lox5b, lox5b_unbound_ratio, lox5b_bound_ratio, lox5b_unbound_observed, lox5b_unbound_expected, lox5b_bound_observed, lox5b_bound_expected]}).to_csv(\"/drives/raid/AboobakerLab/jakke/TF_RNAi_RNAseq/Arnold2021/ROClox5b.csv\")"
   ]
  },
  {
   "cell_type": "code",
   "execution_count": 291,
   "id": "b551cee5",
   "metadata": {},
   "outputs": [
    {
     "data": {
      "text/html": [
       "<div>\n",
       "<style scoped>\n",
       "    .dataframe tbody tr th:only-of-type {\n",
       "        vertical-align: middle;\n",
       "    }\n",
       "\n",
       "    .dataframe tbody tr th {\n",
       "        vertical-align: top;\n",
       "    }\n",
       "\n",
       "    .dataframe thead th {\n",
       "        text-align: right;\n",
       "    }\n",
       "</style>\n",
       "<table border=\"1\" class=\"dataframe\">\n",
       "  <thead>\n",
       "    <tr style=\"text-align: right;\">\n",
       "      <th></th>\n",
       "      <th>Rink</th>\n",
       "      <th>Neiro</th>\n",
       "      <th>Symbol</th>\n",
       "      <th>Old symbol</th>\n",
       "      <th>Description</th>\n",
       "      <th>TF group</th>\n",
       "      <th>TF class</th>\n",
       "      <th>Identification</th>\n",
       "      <th>RNAi</th>\n",
       "      <th>In situ</th>\n",
       "      <th>Reference</th>\n",
       "      <th>X1</th>\n",
       "      <th>X2</th>\n",
       "      <th>Xins</th>\n",
       "      <th>X1 percent</th>\n",
       "      <th>X2 percent</th>\n",
       "      <th>Xins percent</th>\n",
       "      <th>Jaspar MatrixID</th>\n",
       "      <th>Jaspar Evalue</th>\n",
       "    </tr>\n",
       "  </thead>\n",
       "  <tbody>\n",
       "    <tr>\n",
       "      <th>0</th>\n",
       "      <td>SMESG000003328.1</td>\n",
       "      <td>MSTRG.707</td>\n",
       "      <td>fos-1</td>\n",
       "      <td>NaN</td>\n",
       "      <td>Fos proto-oncogene</td>\n",
       "      <td>FOS</td>\n",
       "      <td>Basic domain</td>\n",
       "      <td>1.0</td>\n",
       "      <td>Cyclopic blastemas and asymmetric tails</td>\n",
       "      <td>Ubiquitous</td>\n",
       "      <td>(Wenemoser et al., 2012; Zhu et al., 2015)</td>\n",
       "      <td>73.531050</td>\n",
       "      <td>56.195082</td>\n",
       "      <td>82.571524</td>\n",
       "      <td>0.346358</td>\n",
       "      <td>0.264699</td>\n",
       "      <td>0.388942</td>\n",
       "      <td>0</td>\n",
       "      <td>0.000000e+00</td>\n",
       "    </tr>\n",
       "    <tr>\n",
       "      <th>1</th>\n",
       "      <td>SMESG000062649.1</td>\n",
       "      <td>MSTRG.18685</td>\n",
       "      <td>batf-3</td>\n",
       "      <td>NaN</td>\n",
       "      <td>Basic leucine zipper transcription factor ATF-...</td>\n",
       "      <td>BATF</td>\n",
       "      <td>Basic domain</td>\n",
       "      <td>0.0</td>\n",
       "      <td>0</td>\n",
       "      <td>0</td>\n",
       "      <td>NaN</td>\n",
       "      <td>67.449376</td>\n",
       "      <td>56.338831</td>\n",
       "      <td>120.661601</td>\n",
       "      <td>0.275923</td>\n",
       "      <td>0.230472</td>\n",
       "      <td>0.493605</td>\n",
       "      <td>0</td>\n",
       "      <td>0.000000e+00</td>\n",
       "    </tr>\n",
       "    <tr>\n",
       "      <th>3</th>\n",
       "      <td>SMESG000044121.1</td>\n",
       "      <td>MSTRG.13956</td>\n",
       "      <td>atf1</td>\n",
       "      <td>ATFl1</td>\n",
       "      <td>Cyclic AMP-dependent transcription factor ATF-1</td>\n",
       "      <td>ATF</td>\n",
       "      <td>Basic domain</td>\n",
       "      <td>1.0</td>\n",
       "      <td>0</td>\n",
       "      <td>0</td>\n",
       "      <td>(Wenemoser et al., 2012)</td>\n",
       "      <td>19.975386</td>\n",
       "      <td>73.754351</td>\n",
       "      <td>29.475104</td>\n",
       "      <td>0.162132</td>\n",
       "      <td>0.598632</td>\n",
       "      <td>0.239237</td>\n",
       "      <td>0</td>\n",
       "      <td>0.000000e+00</td>\n",
       "    </tr>\n",
       "    <tr>\n",
       "      <th>7</th>\n",
       "      <td>SMESG000065680.1</td>\n",
       "      <td>MSTRG.19544</td>\n",
       "      <td>creb3l-1</td>\n",
       "      <td>NaN</td>\n",
       "      <td>Cyclic AMP-responsive element-binding protein ...</td>\n",
       "      <td>CREB</td>\n",
       "      <td>Basic domain</td>\n",
       "      <td>0.0</td>\n",
       "      <td>0</td>\n",
       "      <td>0</td>\n",
       "      <td>NaN</td>\n",
       "      <td>4.978402</td>\n",
       "      <td>59.755874</td>\n",
       "      <td>50.252275</td>\n",
       "      <td>0.043296</td>\n",
       "      <td>0.519677</td>\n",
       "      <td>0.437027</td>\n",
       "      <td>MA0839.1</td>\n",
       "      <td>9.276600e-36</td>\n",
       "    </tr>\n",
       "    <tr>\n",
       "      <th>8</th>\n",
       "      <td>SMESG000052278.1</td>\n",
       "      <td>MSTRG.16107</td>\n",
       "      <td>creb</td>\n",
       "      <td>NaN</td>\n",
       "      <td>Cyclic AMP-responsive element-binding protein</td>\n",
       "      <td>CREB</td>\n",
       "      <td>Basic domain</td>\n",
       "      <td>0.0</td>\n",
       "      <td>0</td>\n",
       "      <td>0</td>\n",
       "      <td>NaN</td>\n",
       "      <td>16.890297</td>\n",
       "      <td>75.276249</td>\n",
       "      <td>47.417197</td>\n",
       "      <td>0.121005</td>\n",
       "      <td>0.539291</td>\n",
       "      <td>0.339704</td>\n",
       "      <td>0</td>\n",
       "      <td>0.000000e+00</td>\n",
       "    </tr>\n",
       "    <tr>\n",
       "      <th>...</th>\n",
       "      <td>...</td>\n",
       "      <td>...</td>\n",
       "      <td>...</td>\n",
       "      <td>...</td>\n",
       "      <td>...</td>\n",
       "      <td>...</td>\n",
       "      <td>...</td>\n",
       "      <td>...</td>\n",
       "      <td>...</td>\n",
       "      <td>...</td>\n",
       "      <td>...</td>\n",
       "      <td>...</td>\n",
       "      <td>...</td>\n",
       "      <td>...</td>\n",
       "      <td>...</td>\n",
       "      <td>...</td>\n",
       "      <td>...</td>\n",
       "      <td>...</td>\n",
       "      <td>...</td>\n",
       "    </tr>\n",
       "    <tr>\n",
       "      <th>507</th>\n",
       "      <td>SMESG000018825.1</td>\n",
       "      <td>MSTRG.6031</td>\n",
       "      <td>ski-8</td>\n",
       "      <td>NaN</td>\n",
       "      <td>Ski oncogene 8</td>\n",
       "      <td>SKI</td>\n",
       "      <td>Other</td>\n",
       "      <td>0.0</td>\n",
       "      <td>0</td>\n",
       "      <td>0</td>\n",
       "      <td>NaN</td>\n",
       "      <td>6.500873</td>\n",
       "      <td>14.201349</td>\n",
       "      <td>14.458859</td>\n",
       "      <td>0.184888</td>\n",
       "      <td>0.403894</td>\n",
       "      <td>0.411218</td>\n",
       "      <td>0</td>\n",
       "      <td>0.000000e+00</td>\n",
       "    </tr>\n",
       "    <tr>\n",
       "      <th>511</th>\n",
       "      <td>SMESG000071434.1</td>\n",
       "      <td>MSTRG.21004</td>\n",
       "      <td>tigd1-1</td>\n",
       "      <td>NaN</td>\n",
       "      <td>Tigger transposable element-derived 1 protein 1</td>\n",
       "      <td>TIGD</td>\n",
       "      <td>Other</td>\n",
       "      <td>0.0</td>\n",
       "      <td>0</td>\n",
       "      <td>0</td>\n",
       "      <td>NaN</td>\n",
       "      <td>0.650905</td>\n",
       "      <td>1.225822</td>\n",
       "      <td>0.474305</td>\n",
       "      <td>0.276859</td>\n",
       "      <td>0.521397</td>\n",
       "      <td>0.201743</td>\n",
       "      <td>0</td>\n",
       "      <td>0.000000e+00</td>\n",
       "    </tr>\n",
       "    <tr>\n",
       "      <th>523</th>\n",
       "      <td>SMESG000013943.1</td>\n",
       "      <td>SMESG000013943.1</td>\n",
       "      <td>tigd5</td>\n",
       "      <td>NaN</td>\n",
       "      <td>Tigger transposable element derived 5</td>\n",
       "      <td>TIGD</td>\n",
       "      <td>Other</td>\n",
       "      <td>0.0</td>\n",
       "      <td>0</td>\n",
       "      <td>0</td>\n",
       "      <td>NaN</td>\n",
       "      <td>0.121708</td>\n",
       "      <td>0.220660</td>\n",
       "      <td>0.049430</td>\n",
       "      <td>0.310640</td>\n",
       "      <td>0.563198</td>\n",
       "      <td>0.126162</td>\n",
       "      <td>0</td>\n",
       "      <td>0.000000e+00</td>\n",
       "    </tr>\n",
       "    <tr>\n",
       "      <th>537</th>\n",
       "      <td>SMESG000021979.1</td>\n",
       "      <td>MSTRG.7811</td>\n",
       "      <td>gtf2e2</td>\n",
       "      <td>NaN</td>\n",
       "      <td>Transcription initiation factor IIE subunit beta</td>\n",
       "      <td>GTF</td>\n",
       "      <td>Other</td>\n",
       "      <td>0.0</td>\n",
       "      <td>0</td>\n",
       "      <td>0</td>\n",
       "      <td>NaN</td>\n",
       "      <td>98.375985</td>\n",
       "      <td>59.315187</td>\n",
       "      <td>42.739180</td>\n",
       "      <td>0.490824</td>\n",
       "      <td>0.295939</td>\n",
       "      <td>0.213237</td>\n",
       "      <td>0</td>\n",
       "      <td>0.000000e+00</td>\n",
       "    </tr>\n",
       "    <tr>\n",
       "      <th>550</th>\n",
       "      <td>SMESG000026051.1</td>\n",
       "      <td>MSTRG.559</td>\n",
       "      <td>gtf2ird2b</td>\n",
       "      <td>NaN</td>\n",
       "      <td>General transcription factor II-I repeat domai...</td>\n",
       "      <td>GTF</td>\n",
       "      <td>Other</td>\n",
       "      <td>0.0</td>\n",
       "      <td>0</td>\n",
       "      <td>0</td>\n",
       "      <td>NaN</td>\n",
       "      <td>5.921239</td>\n",
       "      <td>4.079244</td>\n",
       "      <td>4.640267</td>\n",
       "      <td>0.404435</td>\n",
       "      <td>0.278623</td>\n",
       "      <td>0.316942</td>\n",
       "      <td>0</td>\n",
       "      <td>0.000000e+00</td>\n",
       "    </tr>\n",
       "  </tbody>\n",
       "</table>\n",
       "<p>172 rows × 19 columns</p>\n",
       "</div>"
      ],
      "text/plain": [
       "                 Rink             Neiro     Symbol Old symbol  \\\n",
       "0    SMESG000003328.1         MSTRG.707      fos-1        NaN   \n",
       "1    SMESG000062649.1       MSTRG.18685     batf-3        NaN   \n",
       "3    SMESG000044121.1       MSTRG.13956       atf1      ATFl1   \n",
       "7    SMESG000065680.1       MSTRG.19544   creb3l-1        NaN   \n",
       "8    SMESG000052278.1       MSTRG.16107       creb        NaN   \n",
       "..                ...               ...        ...        ...   \n",
       "507  SMESG000018825.1        MSTRG.6031      ski-8        NaN   \n",
       "511  SMESG000071434.1       MSTRG.21004    tigd1-1        NaN   \n",
       "523  SMESG000013943.1  SMESG000013943.1      tigd5        NaN   \n",
       "537  SMESG000021979.1        MSTRG.7811     gtf2e2        NaN   \n",
       "550  SMESG000026051.1         MSTRG.559  gtf2ird2b        NaN   \n",
       "\n",
       "                                           Description TF group      TF class  \\\n",
       "0                                   Fos proto-oncogene      FOS  Basic domain   \n",
       "1    Basic leucine zipper transcription factor ATF-...     BATF  Basic domain   \n",
       "3      Cyclic AMP-dependent transcription factor ATF-1      ATF  Basic domain   \n",
       "7    Cyclic AMP-responsive element-binding protein ...     CREB  Basic domain   \n",
       "8        Cyclic AMP-responsive element-binding protein     CREB  Basic domain   \n",
       "..                                                 ...      ...           ...   \n",
       "507                                     Ski oncogene 8      SKI         Other   \n",
       "511    Tigger transposable element-derived 1 protein 1     TIGD         Other   \n",
       "523              Tigger transposable element derived 5     TIGD         Other   \n",
       "537   Transcription initiation factor IIE subunit beta      GTF         Other   \n",
       "550  General transcription factor II-I repeat domai...      GTF         Other   \n",
       "\n",
       "     Identification                                     RNAi     In situ  \\\n",
       "0               1.0  Cyclopic blastemas and asymmetric tails  Ubiquitous   \n",
       "1               0.0                                        0           0   \n",
       "3               1.0                                        0           0   \n",
       "7               0.0                                        0           0   \n",
       "8               0.0                                        0           0   \n",
       "..              ...                                      ...         ...   \n",
       "507             0.0                                        0           0   \n",
       "511             0.0                                        0           0   \n",
       "523             0.0                                        0           0   \n",
       "537             0.0                                        0           0   \n",
       "550             0.0                                        0           0   \n",
       "\n",
       "                                      Reference         X1         X2  \\\n",
       "0    (Wenemoser et al., 2012; Zhu et al., 2015)  73.531050  56.195082   \n",
       "1                                           NaN  67.449376  56.338831   \n",
       "3                      (Wenemoser et al., 2012)  19.975386  73.754351   \n",
       "7                                           NaN   4.978402  59.755874   \n",
       "8                                           NaN  16.890297  75.276249   \n",
       "..                                          ...        ...        ...   \n",
       "507                                         NaN   6.500873  14.201349   \n",
       "511                                         NaN   0.650905   1.225822   \n",
       "523                                         NaN   0.121708   0.220660   \n",
       "537                                         NaN  98.375985  59.315187   \n",
       "550                                         NaN   5.921239   4.079244   \n",
       "\n",
       "           Xins  X1 percent  X2 percent  Xins percent Jaspar MatrixID  \\\n",
       "0     82.571524    0.346358    0.264699      0.388942               0   \n",
       "1    120.661601    0.275923    0.230472      0.493605               0   \n",
       "3     29.475104    0.162132    0.598632      0.239237               0   \n",
       "7     50.252275    0.043296    0.519677      0.437027        MA0839.1   \n",
       "8     47.417197    0.121005    0.539291      0.339704               0   \n",
       "..          ...         ...         ...           ...             ...   \n",
       "507   14.458859    0.184888    0.403894      0.411218               0   \n",
       "511    0.474305    0.276859    0.521397      0.201743               0   \n",
       "523    0.049430    0.310640    0.563198      0.126162               0   \n",
       "537   42.739180    0.490824    0.295939      0.213237               0   \n",
       "550    4.640267    0.404435    0.278623      0.316942               0   \n",
       "\n",
       "     Jaspar Evalue  \n",
       "0     0.000000e+00  \n",
       "1     0.000000e+00  \n",
       "3     0.000000e+00  \n",
       "7     9.276600e-36  \n",
       "8     0.000000e+00  \n",
       "..             ...  \n",
       "507   0.000000e+00  \n",
       "511   0.000000e+00  \n",
       "523   0.000000e+00  \n",
       "537   0.000000e+00  \n",
       "550   0.000000e+00  \n",
       "\n",
       "[172 rows x 19 columns]"
      ]
     },
     "execution_count": 291,
     "metadata": {},
     "output_type": "execute_result"
    }
   ],
   "source": [
    "TF_table[TF_table[\"Neiro\"].isin(Arnold2021lox5bTF.iloc[:,0])]"
   ]
  },
  {
   "cell_type": "code",
   "execution_count": 292,
   "id": "ee0ceeb2",
   "metadata": {},
   "outputs": [
    {
     "name": "stdout",
     "output_type": "stream",
     "text": [
      "['MSTRG.16801', 'MSTRG.17691', 'MSTRG.586', 'MSTRG.7078']\n"
     ]
    },
    {
     "data": {
      "text/html": [
       "<div>\n",
       "<style scoped>\n",
       "    .dataframe tbody tr th:only-of-type {\n",
       "        vertical-align: middle;\n",
       "    }\n",
       "\n",
       "    .dataframe tbody tr th {\n",
       "        vertical-align: top;\n",
       "    }\n",
       "\n",
       "    .dataframe thead th {\n",
       "        text-align: right;\n",
       "    }\n",
       "</style>\n",
       "<table border=\"1\" class=\"dataframe\">\n",
       "  <thead>\n",
       "    <tr style=\"text-align: right;\">\n",
       "      <th></th>\n",
       "      <th>Rink</th>\n",
       "      <th>Neiro</th>\n",
       "      <th>Symbol</th>\n",
       "      <th>Old symbol</th>\n",
       "      <th>Description</th>\n",
       "      <th>TF group</th>\n",
       "      <th>TF class</th>\n",
       "      <th>Identification</th>\n",
       "      <th>RNAi</th>\n",
       "      <th>In situ</th>\n",
       "      <th>Reference</th>\n",
       "      <th>X1</th>\n",
       "      <th>X2</th>\n",
       "      <th>Xins</th>\n",
       "      <th>X1 percent</th>\n",
       "      <th>X2 percent</th>\n",
       "      <th>Xins percent</th>\n",
       "      <th>Jaspar MatrixID</th>\n",
       "      <th>Jaspar Evalue</th>\n",
       "    </tr>\n",
       "  </thead>\n",
       "  <tbody>\n",
       "    <tr>\n",
       "      <th>10</th>\n",
       "      <td>SMESG000026144.1</td>\n",
       "      <td>MSTRG.586</td>\n",
       "      <td>pdp1</td>\n",
       "      <td>NaN</td>\n",
       "      <td>PAR domain protein 1</td>\n",
       "      <td>Pdp</td>\n",
       "      <td>Basic domain</td>\n",
       "      <td>0.0</td>\n",
       "      <td>0</td>\n",
       "      <td>0</td>\n",
       "      <td>NaN</td>\n",
       "      <td>2.359678</td>\n",
       "      <td>13.463532</td>\n",
       "      <td>4.647208</td>\n",
       "      <td>0.115273</td>\n",
       "      <td>0.657707</td>\n",
       "      <td>0.227021</td>\n",
       "      <td>MA0025.1</td>\n",
       "      <td>4.389790e-10</td>\n",
       "    </tr>\n",
       "    <tr>\n",
       "      <th>59</th>\n",
       "      <td>SMESG000020242.1</td>\n",
       "      <td>MSTRG.7078</td>\n",
       "      <td>nr1d2</td>\n",
       "      <td>NaN</td>\n",
       "      <td>Nuclear receptor subfamily 1, group D, member 2</td>\n",
       "      <td>NR</td>\n",
       "      <td>Zinc</td>\n",
       "      <td>0.0</td>\n",
       "      <td>0</td>\n",
       "      <td>0</td>\n",
       "      <td>NaN</td>\n",
       "      <td>0.406316</td>\n",
       "      <td>1.655585</td>\n",
       "      <td>0.071535</td>\n",
       "      <td>0.190452</td>\n",
       "      <td>0.776018</td>\n",
       "      <td>0.033531</td>\n",
       "      <td>0</td>\n",
       "      <td>0.000000e+00</td>\n",
       "    </tr>\n",
       "    <tr>\n",
       "      <th>218</th>\n",
       "      <td>SMESG000055576.1</td>\n",
       "      <td>MSTRG.16801</td>\n",
       "      <td>zfand1</td>\n",
       "      <td>NaN</td>\n",
       "      <td>AN1-type zinc finger protein 1</td>\n",
       "      <td>ZFAND</td>\n",
       "      <td>Zinc</td>\n",
       "      <td>0.0</td>\n",
       "      <td>0</td>\n",
       "      <td>0</td>\n",
       "      <td>NaN</td>\n",
       "      <td>85.294419</td>\n",
       "      <td>67.719492</td>\n",
       "      <td>124.401558</td>\n",
       "      <td>0.307461</td>\n",
       "      <td>0.244109</td>\n",
       "      <td>0.448431</td>\n",
       "      <td>0</td>\n",
       "      <td>0.000000e+00</td>\n",
       "    </tr>\n",
       "    <tr>\n",
       "      <th>353</th>\n",
       "      <td>SMESG000064905.1</td>\n",
       "      <td>MSTRG.17691</td>\n",
       "      <td>zfhx3</td>\n",
       "      <td>hox3</td>\n",
       "      <td>Zinc finger homeobox protein 3</td>\n",
       "      <td>ZFHX</td>\n",
       "      <td>Helix-turn-helix</td>\n",
       "      <td>1.0</td>\n",
       "      <td>0</td>\n",
       "      <td>Ubiquitous</td>\n",
       "      <td>(van Wolfswinkel et al., 2014; Zhu et al., 2015)</td>\n",
       "      <td>11.334892</td>\n",
       "      <td>20.477093</td>\n",
       "      <td>6.836201</td>\n",
       "      <td>0.293284</td>\n",
       "      <td>0.529833</td>\n",
       "      <td>0.176883</td>\n",
       "      <td>MA0038.1</td>\n",
       "      <td>1.682340e-06</td>\n",
       "    </tr>\n",
       "  </tbody>\n",
       "</table>\n",
       "</div>"
      ],
      "text/plain": [
       "                 Rink        Neiro  Symbol Old symbol  \\\n",
       "10   SMESG000026144.1    MSTRG.586    pdp1        NaN   \n",
       "59   SMESG000020242.1   MSTRG.7078   nr1d2        NaN   \n",
       "218  SMESG000055576.1  MSTRG.16801  zfand1        NaN   \n",
       "353  SMESG000064905.1  MSTRG.17691   zfhx3       hox3   \n",
       "\n",
       "                                         Description TF group  \\\n",
       "10                              PAR domain protein 1      Pdp   \n",
       "59   Nuclear receptor subfamily 1, group D, member 2       NR   \n",
       "218                   AN1-type zinc finger protein 1    ZFAND   \n",
       "353                   Zinc finger homeobox protein 3     ZFHX   \n",
       "\n",
       "             TF class  Identification RNAi     In situ  \\\n",
       "10       Basic domain             0.0    0           0   \n",
       "59               Zinc             0.0    0           0   \n",
       "218              Zinc             0.0    0           0   \n",
       "353  Helix-turn-helix             1.0    0  Ubiquitous   \n",
       "\n",
       "                                            Reference         X1         X2  \\\n",
       "10                                                NaN   2.359678  13.463532   \n",
       "59                                                NaN   0.406316   1.655585   \n",
       "218                                               NaN  85.294419  67.719492   \n",
       "353  (van Wolfswinkel et al., 2014; Zhu et al., 2015)  11.334892  20.477093   \n",
       "\n",
       "           Xins  X1 percent  X2 percent  Xins percent Jaspar MatrixID  \\\n",
       "10     4.647208    0.115273    0.657707      0.227021        MA0025.1   \n",
       "59     0.071535    0.190452    0.776018      0.033531               0   \n",
       "218  124.401558    0.307461    0.244109      0.448431               0   \n",
       "353    6.836201    0.293284    0.529833      0.176883        MA0038.1   \n",
       "\n",
       "     Jaspar Evalue  \n",
       "10    4.389790e-10  \n",
       "59    0.000000e+00  \n",
       "218   0.000000e+00  \n",
       "353   1.682340e-06  "
      ]
     },
     "execution_count": 292,
     "metadata": {},
     "output_type": "execute_result"
    }
   ],
   "source": [
    "lox5b_target_tf_list = list(pd.Categorical(lox5b_bound_enhancers[lox5b_bound_enhancers[\"geneId\"].isin(Arnold2021lox5bTF.iloc[:,0])][\"geneId\"]).categories)\n",
    "print(lox5b_target_tf_list)\n",
    "lox5b_dge_tf_table = TF_table[TF_table[\"Neiro\"].isin(Arnold2021lox5bTF.iloc[:,0])]\n",
    "lox5b_dge_tf_table[lox5b_dge_tf_table[\"Neiro\"].isin(lox5b_target_tf_list)]"
   ]
  },
  {
   "cell_type": "markdown",
   "id": "1f1cd79f",
   "metadata": {},
   "source": [
    "# FINNISHED"
   ]
  }
 ],
 "metadata": {
  "kernelspec": {
   "display_name": "Python 3 (ipykernel)",
   "language": "python",
   "name": "python3"
  },
  "language_info": {
   "codemirror_mode": {
    "name": "ipython",
    "version": 3
   },
   "file_extension": ".py",
   "mimetype": "text/x-python",
   "name": "python",
   "nbconvert_exporter": "python",
   "pygments_lexer": "ipython3",
   "version": "3.8.12"
  }
 },
 "nbformat": 4,
 "nbformat_minor": 5
}
