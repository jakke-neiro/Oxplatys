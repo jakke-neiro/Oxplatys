{
 "cells": [
  {
   "cell_type": "markdown",
   "id": "2d4b733a",
   "metadata": {},
   "source": [
    "# 8-3-DGEtargets"
   ]
  },
  {
   "cell_type": "markdown",
   "id": "898d8ce1",
   "metadata": {},
   "source": [
    "Jakke Neiro$^1$\n",
    "\n",
    "1. Aboobaker laboratory, Department of Zoology, University of Oxford"
   ]
  },
  {
   "cell_type": "markdown",
   "id": "3036c825",
   "metadata": {},
   "source": [
    "## Contents of notebook"
   ]
  },
  {
   "cell_type": "markdown",
   "id": "a3ce7e99",
   "metadata": {},
   "source": [
    "* 1. Introduction\n",
    "* 2. Cowles 2014\n",
    "* 3. Vogg 2014\n",
    "* 4. Tu 2015\n",
    "* 5. Stowers Institute 2016"
   ]
  },
  {
   "cell_type": "markdown",
   "id": "564c0f5c",
   "metadata": {},
   "source": [
    "# 1. Introduction"
   ]
  },
  {
   "cell_type": "markdown",
   "id": "2c631f58",
   "metadata": {},
   "source": [
    "The results of the knockdown RNA-seq data were analyzed."
   ]
  },
  {
   "cell_type": "code",
   "execution_count": 2,
   "id": "8e29a85d",
   "metadata": {},
   "outputs": [],
   "source": [
    "import pandas as pd\n",
    "gffcmp = pd.read_csv(\"/drives/raid/AboobakerLab/jakke/sexual_genome_annotation_files/ncrna_Neiro/gffcmp.stringtie_merged.gtf.tmap\", sep=\"\\t\")"
   ]
  },
  {
   "cell_type": "code",
   "execution_count": 3,
   "id": "6ab979c1",
   "metadata": {},
   "outputs": [],
   "source": [
    "import pandas as pd\n",
    "human_gene_blast = pd.read_csv(\"/drives/raid/AboobakerLab/jakke/sexual_genome_annotation_files/blast_annotation/human_gene_blast.tab\", sep=\"\\t\")"
   ]
  },
  {
   "cell_type": "code",
   "execution_count": 4,
   "id": "96b9024b",
   "metadata": {},
   "outputs": [],
   "source": [
    "def blasted(prep_signf, human_gene_blast, gffcmp):\n",
    "    prep_signf[\"Blast gene\"] = \"-\"\n",
    "    prep_signf[\"refgene\"] = \"-\"\n",
    "    for i in range(0,len(prep_signf)):\n",
    "        blast = human_gene_blast[human_gene_blast[\"geneID\"] == prep_signf.iloc[i,0]]\n",
    "        refgene = gffcmp[gffcmp[\"qry_gene_id\"] == prep_signf.iloc[i,0]]\n",
    "        if len(blast) > 0:\n",
    "            prep_signf[\"Blast gene\"].iloc[i] = blast[\"Gene\"].iloc[0]\n",
    "        if len(refgene) > 0:\n",
    "            prep_signf[\"refgene\"].iloc[i] = refgene[\"ref_gene_id\"].iloc[0]"
   ]
  },
  {
   "cell_type": "markdown",
   "id": "160d24e4",
   "metadata": {},
   "source": [
    "# 2. Cowles 2014"
   ]
  },
  {
   "cell_type": "markdown",
   "id": "26ce63cf",
   "metadata": {},
   "source": [
    "## 2.1 DGE list"
   ]
  },
  {
   "cell_type": "markdown",
   "id": "3666ebcc",
   "metadata": {},
   "source": [
    "The DGE results from 8-2 were uploaded."
   ]
  },
  {
   "cell_type": "code",
   "execution_count": 5,
   "id": "eb6c2eb2",
   "metadata": {},
   "outputs": [],
   "source": [
    "import pandas as pd\n",
    "Cowles2014 = pd.read_csv(\"/drives/raid/AboobakerLab/jakke/TF_RNAi_RNAseq/Cowles2014/res_Cowles2014.csv\")"
   ]
  },
  {
   "cell_type": "markdown",
   "id": "75fcc824",
   "metadata": {},
   "source": [
    "The differentially expressed genes ($p_{adj} < 0.05$) were selected for further study."
   ]
  },
  {
   "cell_type": "code",
   "execution_count": 6,
   "id": "3613433e",
   "metadata": {},
   "outputs": [],
   "source": [
    "Cowles2014 = Cowles2014[Cowles2014[\"padj\"] < 0.05]"
   ]
  },
  {
   "cell_type": "markdown",
   "id": "134ecd7f",
   "metadata": {},
   "source": [
    "The mammalian blast hits were added to the table of DGEs."
   ]
  },
  {
   "cell_type": "code",
   "execution_count": 7,
   "id": "d3b57fe4",
   "metadata": {},
   "outputs": [
    {
     "name": "stderr",
     "output_type": "stream",
     "text": [
      "/drives/raid/AboobakerLab/jakke/anaconda3/lib/python3.8/site-packages/pandas/core/indexing.py:1732: SettingWithCopyWarning: \n",
      "A value is trying to be set on a copy of a slice from a DataFrame\n",
      "\n",
      "See the caveats in the documentation: https://pandas.pydata.org/pandas-docs/stable/user_guide/indexing.html#returning-a-view-versus-a-copy\n",
      "  self._setitem_single_block(indexer, value, name)\n"
     ]
    }
   ],
   "source": [
    "blasted(Cowles2014, human_gene_blast, gffcmp)"
   ]
  },
  {
   "cell_type": "markdown",
   "id": "ca09f5aa",
   "metadata": {},
   "source": [
    "The list of enhancers were uploaded."
   ]
  },
  {
   "cell_type": "code",
   "execution_count": null,
   "id": "08682543",
   "metadata": {},
   "outputs": [],
   "source": [
    "enhancer_final = pd.read_excel(\"/drives/raid/AboobakerLab/jakke/enhancer_regions/enhancer_all_oct2021.xlsx\").iloc[:,1:]"
   ]
  },
  {
   "cell_type": "code",
   "execution_count": null,
   "id": "8fe5b7e9",
   "metadata": {},
   "outputs": [],
   "source": [
    "len(enhancer_final)"
   ]
  },
  {
   "cell_type": "markdown",
   "id": "afa45ccd",
   "metadata": {},
   "source": [
    "The enhancers with bound or unbound motifs of coe were selected from the list of all enhancers."
   ]
  },
  {
   "cell_type": "code",
   "execution_count": null,
   "id": "801e671b",
   "metadata": {},
   "outputs": [],
   "source": [
    "coe_unbound_enhancers = enhancer_final[enhancer_final[\"Unbound motif names\"].str.contains(\"coe\")]\n",
    "coe_unbound_notenhancers = enhancer_final[~enhancer_final[\"Unbound motif names\"].str.contains(\"coe\")]\n",
    "coe_bound_enhancers = enhancer_final[enhancer_final[\"Bound motif names\"].str.contains(\"coe\")]\n",
    "coe_bound_notenhancers = enhancer_final[~enhancer_final[\"Bound motif names\"].str.contains(\"coe\")]"
   ]
  },
  {
   "cell_type": "markdown",
   "id": "37a49e11",
   "metadata": {},
   "source": [
    "## 2.2 All genes enrichment analysis"
   ]
  },
  {
   "cell_type": "markdown",
   "id": "a1711913",
   "metadata": {},
   "source": [
    "### 2.2.1 Proportions and constants"
   ]
  },
  {
   "cell_type": "markdown",
   "id": "f1b6cc38",
   "metadata": {},
   "source": [
    "$n_{ge}$ is the total number of genes in the genome"
   ]
  },
  {
   "cell_type": "code",
   "execution_count": null,
   "id": "7a88635c",
   "metadata": {},
   "outputs": [],
   "source": [
    "import pandas as pd\n",
    "n_ge = len(pd.read_csv(\"/drives/raid/AboobakerLab/jakke/TF_RNAi_RNAseq/Cowles2014/res_Cowles2014.csv\"))"
   ]
  },
  {
   "cell_type": "markdown",
   "id": "27bad010",
   "metadata": {},
   "source": [
    "$p_{dge}$ is the proportion of differentially expressed genes (DGEs) upon coe(RNAi) of all genes in the genome."
   ]
  },
  {
   "cell_type": "code",
   "execution_count": null,
   "id": "f0b2664d",
   "metadata": {},
   "outputs": [],
   "source": [
    "print(len(Cowles2014))\n",
    "p_dge = len(Cowles2014)/n_ge"
   ]
  },
  {
   "cell_type": "code",
   "execution_count": null,
   "id": "6bdaf672",
   "metadata": {},
   "outputs": [],
   "source": [
    "p_dge"
   ]
  },
  {
   "cell_type": "markdown",
   "id": "7e2ff34f",
   "metadata": {},
   "source": [
    "$p_{cis}$ is the proportion of genes associated with an enhancer of all genes in the genome."
   ]
  },
  {
   "cell_type": "code",
   "execution_count": null,
   "id": "f4517a22",
   "metadata": {},
   "outputs": [],
   "source": [
    "print(len(pd.Categorical(enhancer_final[\"GeneDescription\"]).categories))\n",
    "p_cis = len(pd.Categorical(enhancer_final[\"GeneDescription\"]).categories)/n_ge"
   ]
  },
  {
   "cell_type": "code",
   "execution_count": null,
   "id": "a0c072c9",
   "metadata": {},
   "outputs": [],
   "source": [
    "p_cis"
   ]
  },
  {
   "cell_type": "markdown",
   "id": "d814f93e",
   "metadata": {},
   "source": [
    "$p_{TF}$ is the proportion of all genes associated with an enhancer that contain an unbound motif of coe in the associated enhancers. "
   ]
  },
  {
   "cell_type": "code",
   "execution_count": null,
   "id": "52bffd30",
   "metadata": {},
   "outputs": [],
   "source": [
    "print(len(pd.Categorical(coe_unbound_enhancers[\"GeneDescription\"]).categories))\n",
    "p_TF = len(pd.Categorical(coe_unbound_enhancers[\"GeneDescription\"]).categories)/len(pd.Categorical(enhancer_final[\"GeneDescription\"]).categories)"
   ]
  },
  {
   "cell_type": "markdown",
   "id": "50349a71",
   "metadata": {},
   "source": [
    "$p_{footTF}$ is the proportion of all genes associated with an enhancer that contain a bound motif of coe in the associated enhancers."
   ]
  },
  {
   "cell_type": "code",
   "execution_count": null,
   "id": "5ae71df0",
   "metadata": {},
   "outputs": [],
   "source": [
    "print(len(pd.Categorical(coe_bound_enhancers[\"GeneDescription\"]).categories))\n",
    "p_footTF = len(pd.Categorical(coe_bound_enhancers[\"GeneDescription\"]).categories)/len(pd.Categorical(enhancer_final[\"GeneDescription\"]).categories)"
   ]
  },
  {
   "cell_type": "markdown",
   "id": "010c51c4",
   "metadata": {},
   "source": [
    "### 2.2.2 Expected frequencies"
   ]
  },
  {
   "cell_type": "markdown",
   "id": "47c7438b",
   "metadata": {},
   "source": [
    "The observed frequency of DEGs associated with an enhancer containing an unbound coe motif."
   ]
  },
  {
   "cell_type": "code",
   "execution_count": null,
   "id": "44b639be",
   "metadata": {},
   "outputs": [],
   "source": [
    "observed = len(pd.Categorical(coe_unbound_enhancers[coe_unbound_enhancers[\"geneId\"].isin(Cowles2014.iloc[:,0])][\"GeneDescription\"]).categories)\n",
    "print(observed)"
   ]
  },
  {
   "cell_type": "markdown",
   "id": "52179379",
   "metadata": {},
   "source": [
    "The expected frequency of DEGs is\n",
    "$$p_{dge}p_{cis}p_{TF}n_{ge}$$"
   ]
  },
  {
   "cell_type": "code",
   "execution_count": null,
   "id": "bd43d6a9",
   "metadata": {},
   "outputs": [],
   "source": [
    "expected = p_dge*p_cis*p_TF*n_ge\n",
    "print(expected)"
   ]
  },
  {
   "cell_type": "code",
   "execution_count": null,
   "id": "2272ec30",
   "metadata": {},
   "outputs": [],
   "source": [
    "print(observed/expected)"
   ]
  },
  {
   "cell_type": "markdown",
   "id": "4c5b6f85",
   "metadata": {},
   "source": [
    "The observed frequency of DEGs associated with an enhancer containing an bound coe motif."
   ]
  },
  {
   "cell_type": "code",
   "execution_count": null,
   "id": "07aad0d4",
   "metadata": {},
   "outputs": [],
   "source": [
    "observed = len(pd.Categorical(coe_bound_enhancers[coe_bound_enhancers[\"geneId\"].isin(Cowles2014.iloc[:,0])][\"GeneDescription\"]).categories)\n",
    "print(observed)"
   ]
  },
  {
   "cell_type": "markdown",
   "id": "62cdaed4",
   "metadata": {},
   "source": [
    "The expected frequency of DEGs is\n",
    "$$p_{dge}p_{cis}p_{footTF}n_{ge}$$"
   ]
  },
  {
   "cell_type": "code",
   "execution_count": null,
   "id": "c0e90b36",
   "metadata": {},
   "outputs": [],
   "source": [
    "expected = p_dge*p_cis*p_footTF*n_ge\n",
    "print(expected)"
   ]
  },
  {
   "cell_type": "markdown",
   "id": "e0fe80d1",
   "metadata": {},
   "source": [
    "## 2.3 Transcription factors enrichment analysis"
   ]
  },
  {
   "cell_type": "markdown",
   "id": "34a222f5",
   "metadata": {},
   "source": [
    "### 2.3.1 Proportions and constants"
   ]
  },
  {
   "cell_type": "code",
   "execution_count": null,
   "id": "0d0cf223",
   "metadata": {},
   "outputs": [],
   "source": [
    "FACS = pd.read_csv(\"/drives/raid/AboobakerLab/jakke/FACS/FACS_prop.csv\")"
   ]
  },
  {
   "cell_type": "code",
   "execution_count": null,
   "id": "a5f60784",
   "metadata": {},
   "outputs": [],
   "source": [
    "import pandas as pd\n",
    "TF_table = pd.read_csv(\"/drives/raid/AboobakerLab/jakke/TF_data/Transcription_factors_01072021_values.csv\").iloc[:,1:]"
   ]
  },
  {
   "cell_type": "code",
   "execution_count": null,
   "id": "75169f7f",
   "metadata": {},
   "outputs": [],
   "source": [
    "import pandas as pd\n",
    "Cowles2014 = pd.read_csv(\"/drives/raid/AboobakerLab/jakke/TF_RNAi_RNAseq/Cowles2014/res_Cowles2014.csv\")\n",
    "Cowles2014diff = Cowles2014[Cowles2014[\"padj\"] < 0.05]\n",
    "Cowles2014TF = Cowles2014diff[Cowles2014diff.iloc[:,0].isin(TF_table[\"Neiro\"])]"
   ]
  },
  {
   "cell_type": "code",
   "execution_count": null,
   "id": "d8010b04",
   "metadata": {},
   "outputs": [],
   "source": [
    "print(len(Cowles2014TF))\n",
    "p_dgetf = len(Cowles2014TF)/n_ge"
   ]
  },
  {
   "cell_type": "markdown",
   "id": "355727bb",
   "metadata": {},
   "source": [
    "### 2.3.2 Expected frequencies"
   ]
  },
  {
   "cell_type": "code",
   "execution_count": null,
   "id": "95207b6b",
   "metadata": {},
   "outputs": [],
   "source": [
    "observed = len(pd.Categorical(coe_unbound_enhancers[coe_unbound_enhancers[\"geneId\"].isin(Cowles2014TF.iloc[:,0])][\"GeneDescription\"]).categories)\n",
    "print(observed)"
   ]
  },
  {
   "cell_type": "code",
   "execution_count": null,
   "id": "15e2682a",
   "metadata": {},
   "outputs": [],
   "source": [
    "expected = p_dgetf*p_cis*p_TF*n_ge\n",
    "print(expected)"
   ]
  },
  {
   "cell_type": "code",
   "execution_count": null,
   "id": "7cf1f4e2",
   "metadata": {},
   "outputs": [],
   "source": [
    "print(observed/expected)"
   ]
  },
  {
   "cell_type": "code",
   "execution_count": null,
   "id": "acae07ee",
   "metadata": {},
   "outputs": [],
   "source": [
    "observed = len(pd.Categorical(coe_bound_enhancers[coe_bound_enhancers[\"geneId\"].isin(Cowles2014TF.iloc[:,0])][\"GeneDescription\"]).categories)\n",
    "print(observed)"
   ]
  },
  {
   "cell_type": "code",
   "execution_count": null,
   "id": "11df2965",
   "metadata": {},
   "outputs": [],
   "source": [
    "expected = p_dgetf*p_cis*p_footTF*n_ge\n",
    "print(expected)"
   ]
  },
  {
   "cell_type": "code",
   "execution_count": null,
   "id": "a373e3ac",
   "metadata": {},
   "outputs": [],
   "source": [
    "print(observed/expected)"
   ]
  },
  {
   "cell_type": "markdown",
   "id": "39f2e6cf",
   "metadata": {},
   "source": [
    "### 2.3.3 Specificity and sensitivity"
   ]
  },
  {
   "cell_type": "markdown",
   "id": "ec2ed7e8",
   "metadata": {},
   "source": [
    "Specificity:\n",
    "$$\n",
    "\\frac{TN}{TN + FP}\n",
    "$$"
   ]
  },
  {
   "cell_type": "code",
   "execution_count": null,
   "id": "b1d4683d",
   "metadata": {},
   "outputs": [],
   "source": [
    "TN = len(TF_table[~TF_table[\"Neiro\"].isin(Cowles2014diff.iloc[:,0])])\n",
    "print(TN)\n",
    "FP = len(pd.Categorical(coe_unbound_enhancers[coe_unbound_enhancers[\"geneId\"].isin(TF_table[\"Neiro\"])][\"GeneDescription\"]).categories)\n",
    "print(FP)\n",
    "specificity_unbound = TN/(TN+FP)\n",
    "print(specificity_unbound)\n",
    "FPR_unbound_coe = 1 - specificity_unbound\n",
    "print(FPR_unbound_coe)"
   ]
  },
  {
   "cell_type": "code",
   "execution_count": null,
   "id": "a5f18e51",
   "metadata": {},
   "outputs": [],
   "source": [
    "TN = len(TF_table[~TF_table[\"Neiro\"].isin(Cowles2014diff.iloc[:,0])])\n",
    "print(TN)\n",
    "FP = len(pd.Categorical(coe_bound_enhancers[coe_bound_enhancers[\"geneId\"].isin(TF_table[\"Neiro\"])][\"GeneDescription\"]).categories)\n",
    "print(FP)\n",
    "specificity_bound = TN/(TN+FP)\n",
    "print(specificity_bound)\n",
    "FPR_bound_coe = 1 - specificity_bound\n",
    "print(FPR_bound_coe)"
   ]
  },
  {
   "cell_type": "markdown",
   "id": "b863c090",
   "metadata": {},
   "source": [
    "Sensitivity:\n",
    "$$\n",
    "\\frac{TP}{TP + FN}\n",
    "$$"
   ]
  },
  {
   "cell_type": "code",
   "execution_count": null,
   "id": "9710abf0",
   "metadata": {},
   "outputs": [],
   "source": [
    "TP = len(pd.Categorical(coe_unbound_enhancers[coe_unbound_enhancers[\"geneId\"].isin(Cowles2014TF.iloc[:,0])][\"GeneDescription\"]).categories)\n",
    "print(TP)\n",
    "FN = len(Cowles2014TF[~Cowles2014TF.iloc[:,0].isin(coe_unbound_enhancers[\"geneId\"])])\n",
    "print(FN)\n",
    "TPR_unbound_coe = TP/(TP+FN)\n",
    "print(TPR_unbound_coe)"
   ]
  },
  {
   "cell_type": "code",
   "execution_count": null,
   "id": "4414f684",
   "metadata": {},
   "outputs": [],
   "source": [
    "TP = len(pd.Categorical(coe_bound_enhancers[coe_bound_enhancers[\"geneId\"].isin(Cowles2014TF.iloc[:,0])][\"GeneDescription\"]).categories)\n",
    "print(TP)\n",
    "FN = len(Cowles2014TF[~Cowles2014TF.iloc[:,0].isin(coe_bound_enhancers[\"geneId\"])])\n",
    "print(FN)\n",
    "TPR_bound_coe = TP/(TP+FN)\n",
    "print(TPR_bound_coe)"
   ]
  },
  {
   "cell_type": "code",
   "execution_count": null,
   "id": "d7cd6def",
   "metadata": {},
   "outputs": [],
   "source": [
    "import matplotlib.pyplot as plt\n",
    "import numpy as np\n",
    "plt.plot(np.linspace(0,1, 50), np.linspace(0,1, 50))\n",
    "plt.plot(FPR_unbound_coe, TPR_unbound_coe, \"bo\")\n",
    "plt.plot(FPR_bound_coe, TPR_bound_coe, \"bo\")"
   ]
  },
  {
   "cell_type": "code",
   "execution_count": null,
   "id": "b4029c63",
   "metadata": {},
   "outputs": [],
   "source": [
    "pd.DataFrame({\"coe\": [FPR_unbound_coe, FPR_bound_coe, TPR_unbound_coe, TPR_bound_coe]}).to_csv(\"/drives/raid/AboobakerLab/jakke/TF_RNAi_RNAseq/Cowles2014/ROC.csv\")"
   ]
  },
  {
   "cell_type": "markdown",
   "id": "c1d6f46b",
   "metadata": {},
   "source": [
    "## 2.4 Transcription factor targets"
   ]
  },
  {
   "cell_type": "code",
   "execution_count": null,
   "id": "ded0d200",
   "metadata": {},
   "outputs": [],
   "source": [
    "coe_target_tf_list = list(pd.Categorical(coe_unbound_enhancers[coe_unbound_enhancers[\"geneId\"].isin(Cowles2014TF.iloc[:,0])][\"geneId\"]).categories)\n",
    "print(coe_target_tf_list)"
   ]
  },
  {
   "cell_type": "code",
   "execution_count": null,
   "id": "b7a6ceeb",
   "metadata": {},
   "outputs": [],
   "source": [
    "coe_dge_tf_table = TF_table[TF_table[\"Neiro\"].isin(Cowles2014TF.iloc[:,0])]"
   ]
  },
  {
   "cell_type": "code",
   "execution_count": null,
   "id": "48c128c5",
   "metadata": {},
   "outputs": [],
   "source": [
    "coe_dge_tf_table[coe_dge_tf_table[\"Neiro\"].isin(coe_target_tf_list)]"
   ]
  },
  {
   "cell_type": "markdown",
   "id": "113d1e6a",
   "metadata": {},
   "source": [
    "# 3. Vogg 2014"
   ]
  },
  {
   "cell_type": "markdown",
   "id": "c4f848ff",
   "metadata": {},
   "source": [
    "## 3.1 DGE list"
   ]
  },
  {
   "cell_type": "code",
   "execution_count": null,
   "id": "1720900c",
   "metadata": {},
   "outputs": [],
   "source": [
    "import pandas as pd\n",
    "Vogg2014 = pd.read_csv(\"/drives/raid/AboobakerLab/jakke/TF_RNAi_RNAseq/Vogg2014/res_Vogg2014_3dpa.csv\")"
   ]
  },
  {
   "cell_type": "code",
   "execution_count": null,
   "id": "f1a2b78e",
   "metadata": {},
   "outputs": [],
   "source": [
    "Vogg2014 = Vogg2014[Vogg2014[\"padj\"] < 0.05]\n",
    "blasted(Vogg2014, human_gene_blast, gffcmp)"
   ]
  },
  {
   "cell_type": "code",
   "execution_count": null,
   "id": "d7778d47",
   "metadata": {},
   "outputs": [],
   "source": [
    "fox_unbound_enhancers = enhancer_final[enhancer_final[\"Unbound motif names\"].str.contains(\"fox\")]\n",
    "fox_unbound_notenhancers = enhancer_final[~enhancer_final[\"Unbound motif names\"].str.contains(\"fox\")]\n",
    "fox_bound_enhancers = enhancer_final[enhancer_final[\"Bound motif names\"].str.contains(\"fox\")]\n",
    "fox_bound_notenhancers = enhancer_final[~enhancer_final[\"Bound motif names\"].str.contains(\"fox\")]"
   ]
  },
  {
   "cell_type": "markdown",
   "id": "ef3e7b71",
   "metadata": {},
   "source": [
    "## 3.2 All genes enrichment analysis"
   ]
  },
  {
   "cell_type": "markdown",
   "id": "3ce12216",
   "metadata": {},
   "source": [
    "### 3.2.1 Proportions and constants"
   ]
  },
  {
   "cell_type": "code",
   "execution_count": null,
   "id": "ffb38066",
   "metadata": {},
   "outputs": [],
   "source": [
    "import pandas as pd\n",
    "n_ge = len(pd.read_csv(\"/drives/raid/AboobakerLab/jakke/TF_RNAi_RNAseq/Vogg2014/res_Vogg2014_3dpa.csv\"))"
   ]
  },
  {
   "cell_type": "code",
   "execution_count": null,
   "id": "8fe6660c",
   "metadata": {},
   "outputs": [],
   "source": [
    "print(len(Vogg2014))\n",
    "p_dge = len(Vogg2014)/n_ge"
   ]
  },
  {
   "cell_type": "code",
   "execution_count": null,
   "id": "0e4de20c",
   "metadata": {},
   "outputs": [],
   "source": [
    "print(len(pd.Categorical(enhancer_final[\"GeneDescription\"]).categories))\n",
    "p_cis = len(pd.Categorical(enhancer_final[\"GeneDescription\"]).categories)/n_ge"
   ]
  },
  {
   "cell_type": "code",
   "execution_count": null,
   "id": "c98cc874",
   "metadata": {},
   "outputs": [],
   "source": [
    "print(len(pd.Categorical(fox_unbound_enhancers[\"GeneDescription\"]).categories))\n",
    "p_TF = len(pd.Categorical(fox_unbound_enhancers[\"GeneDescription\"]).categories)/len(pd.Categorical(enhancer_final[\"GeneDescription\"]).categories)"
   ]
  },
  {
   "cell_type": "code",
   "execution_count": null,
   "id": "28e4ca12",
   "metadata": {},
   "outputs": [],
   "source": [
    "print(len(pd.Categorical(fox_bound_enhancers[\"GeneDescription\"]).categories))\n",
    "p_footTF = len(pd.Categorical(fox_bound_enhancers[\"GeneDescription\"]).categories)/len(pd.Categorical(enhancer_final[\"GeneDescription\"]).categories)"
   ]
  },
  {
   "cell_type": "markdown",
   "id": "12066261",
   "metadata": {},
   "source": [
    "### 3.2.2 Expected frequencies"
   ]
  },
  {
   "cell_type": "code",
   "execution_count": null,
   "id": "90bd3780",
   "metadata": {},
   "outputs": [],
   "source": [
    "observed = len(pd.Categorical(fox_unbound_enhancers[fox_unbound_enhancers[\"geneId\"].isin(Vogg2014.iloc[:,0])][\"GeneDescription\"]).categories)\n",
    "print(observed)"
   ]
  },
  {
   "cell_type": "code",
   "execution_count": null,
   "id": "33558c0c",
   "metadata": {},
   "outputs": [],
   "source": [
    "expected = p_dge*p_cis*p_TF*n_ge\n",
    "print(expected)"
   ]
  },
  {
   "cell_type": "code",
   "execution_count": null,
   "id": "04053f5d",
   "metadata": {},
   "outputs": [],
   "source": [
    "print(observed/expected)"
   ]
  },
  {
   "cell_type": "code",
   "execution_count": null,
   "id": "bf00d7c5",
   "metadata": {},
   "outputs": [],
   "source": [
    "observed = len(pd.Categorical(fox_bound_enhancers[fox_bound_enhancers[\"geneId\"].isin(Vogg2014.iloc[:,0])][\"GeneDescription\"]).categories)\n",
    "print(observed)"
   ]
  },
  {
   "cell_type": "code",
   "execution_count": null,
   "id": "f84574d0",
   "metadata": {},
   "outputs": [],
   "source": [
    "expected = p_dge*p_cis*p_footTF*n_ge\n",
    "print(expected)"
   ]
  },
  {
   "cell_type": "code",
   "execution_count": null,
   "id": "c081608d",
   "metadata": {},
   "outputs": [],
   "source": [
    "print(observed/expected)"
   ]
  },
  {
   "cell_type": "markdown",
   "id": "8108c606",
   "metadata": {},
   "source": [
    "## 3.3 Transcription factors enrichment analysis"
   ]
  },
  {
   "cell_type": "markdown",
   "id": "40ed0850",
   "metadata": {},
   "source": [
    "### 3.3.1 Proportions and constants"
   ]
  },
  {
   "cell_type": "code",
   "execution_count": null,
   "id": "14e4cfc0",
   "metadata": {},
   "outputs": [],
   "source": [
    "import pandas as pd\n",
    "Vogg2014 = pd.read_csv(\"/drives/raid/AboobakerLab/jakke/TF_RNAi_RNAseq/Vogg2014/res_Vogg2014_3dpa.csv\")\n",
    "Vogg2014diff = Vogg2014[Vogg2014[\"padj\"] < 0.05]\n",
    "Vogg2014TF = Vogg2014diff[Vogg2014diff.iloc[:,0].isin(TF_table[\"Neiro\"])]"
   ]
  },
  {
   "cell_type": "code",
   "execution_count": null,
   "id": "2c018a03",
   "metadata": {},
   "outputs": [],
   "source": [
    "print(len(Vogg2014TF))\n",
    "p_dgetf = len(Vogg2014TF)/n_ge"
   ]
  },
  {
   "cell_type": "markdown",
   "id": "2503ac0a",
   "metadata": {},
   "source": [
    "### 3.3.2 Expected frequencies"
   ]
  },
  {
   "cell_type": "code",
   "execution_count": null,
   "id": "1b0cc22c",
   "metadata": {},
   "outputs": [],
   "source": [
    "observed = len(pd.Categorical(fox_unbound_enhancers[fox_unbound_enhancers[\"geneId\"].isin(Vogg2014TF.iloc[:,0])][\"GeneDescription\"]).categories)\n",
    "print(observed)"
   ]
  },
  {
   "cell_type": "code",
   "execution_count": null,
   "id": "ab26063d",
   "metadata": {},
   "outputs": [],
   "source": [
    "expected = p_dgetf*p_cis*p_TF*n_ge\n",
    "print(expected)"
   ]
  },
  {
   "cell_type": "code",
   "execution_count": null,
   "id": "d3c1f79b",
   "metadata": {},
   "outputs": [],
   "source": [
    "print(observed/expected)"
   ]
  },
  {
   "cell_type": "code",
   "execution_count": null,
   "id": "3295d33c",
   "metadata": {},
   "outputs": [],
   "source": [
    "observed = len(pd.Categorical(fox_bound_enhancers[fox_bound_enhancers[\"geneId\"].isin(Vogg2014TF.iloc[:,0])][\"GeneDescription\"]).categories)\n",
    "print(observed)"
   ]
  },
  {
   "cell_type": "code",
   "execution_count": null,
   "id": "92713521",
   "metadata": {},
   "outputs": [],
   "source": [
    "expected = p_dgetf*p_cis*p_footTF*n_ge\n",
    "print(expected)"
   ]
  },
  {
   "cell_type": "code",
   "execution_count": null,
   "id": "33d89a9a",
   "metadata": {},
   "outputs": [],
   "source": [
    "print(observed/expected)"
   ]
  },
  {
   "cell_type": "markdown",
   "id": "eb808b87",
   "metadata": {},
   "source": [
    "### 3.3.3 Specificity and sensitivity"
   ]
  },
  {
   "cell_type": "code",
   "execution_count": null,
   "id": "6052eddf",
   "metadata": {},
   "outputs": [],
   "source": [
    "TN = len(TF_table[~TF_table[\"Neiro\"].isin(Vogg2014diff.iloc[:,0])])\n",
    "print(TN)\n",
    "FP = len(pd.Categorical(fox_unbound_enhancers[fox_unbound_enhancers[\"geneId\"].isin(TF_table[\"Neiro\"])][\"GeneDescription\"]).categories)\n",
    "print(FP)\n",
    "specificity_unbound = TN/(TN+FP)\n",
    "print(specificity_unbound)\n",
    "FPR_unbound_fox = 1 - specificity_unbound\n",
    "print(FPR_unbound_fox)"
   ]
  },
  {
   "cell_type": "code",
   "execution_count": null,
   "id": "99350acd",
   "metadata": {},
   "outputs": [],
   "source": [
    "TN = len(TF_table[~TF_table[\"Neiro\"].isin(Vogg2014diff.iloc[:,0])])\n",
    "print(TN)\n",
    "FP = len(pd.Categorical(fox_bound_enhancers[fox_bound_enhancers[\"geneId\"].isin(TF_table[\"Neiro\"])][\"GeneDescription\"]).categories)\n",
    "print(FP)\n",
    "specificity_bound = TN/(TN+FP)\n",
    "print(specificity_bound)\n",
    "FPR_bound_fox = 1 - specificity_bound\n",
    "print(FPR_bound_fox)"
   ]
  },
  {
   "cell_type": "code",
   "execution_count": null,
   "id": "7911fa95",
   "metadata": {},
   "outputs": [],
   "source": [
    "TP = len(pd.Categorical(fox_unbound_enhancers[fox_unbound_enhancers[\"geneId\"].isin(Vogg2014TF.iloc[:,0])][\"GeneDescription\"]).categories)\n",
    "print(TP)\n",
    "FN = len(Vogg2014TF[~Vogg2014TF.iloc[:,0].isin(fox_unbound_enhancers[\"geneId\"])])\n",
    "print(FN)\n",
    "TPR_unbound_fox = TP/(TP+FN)\n",
    "print(TPR_unbound_fox)"
   ]
  },
  {
   "cell_type": "code",
   "execution_count": null,
   "id": "04eb1d7f",
   "metadata": {},
   "outputs": [],
   "source": [
    "TP = len(pd.Categorical(fox_bound_enhancers[fox_bound_enhancers[\"geneId\"].isin(Vogg2014TF.iloc[:,0])][\"GeneDescription\"]).categories)\n",
    "print(TP)\n",
    "FN = len(Vogg2014TF[~Vogg2014TF.iloc[:,0].isin(fox_bound_enhancers[\"geneId\"])])\n",
    "print(FN)\n",
    "TPR_bound_fox = TP/(TP+FN)\n",
    "print(TPR_bound_fox)"
   ]
  },
  {
   "cell_type": "code",
   "execution_count": null,
   "id": "68a2318f",
   "metadata": {},
   "outputs": [],
   "source": [
    "import matplotlib.pyplot as plt\n",
    "import numpy as np\n",
    "plt.plot(np.linspace(0,1, 50), np.linspace(0,1, 50))\n",
    "plt.plot(FPR_unbound_coe, TPR_unbound_fox, \"bo\")\n",
    "plt.plot(FPR_bound_coe, TPR_bound_fox, \"bo\")\n",
    "plt.plot(FPR_unbound_fox, TPR_unbound_fox, \"bo\")\n",
    "plt.plot(FPR_bound_fox, TPR_bound_fox, \"bo\")"
   ]
  },
  {
   "cell_type": "code",
   "execution_count": null,
   "id": "8618f4f8",
   "metadata": {},
   "outputs": [],
   "source": [
    "pd.DataFrame({\"fox\": [FPR_unbound_fox, FPR_bound_fox, TPR_unbound_fox, TPR_bound_fox]}).to_csv(\"/drives/raid/AboobakerLab/jakke/TF_RNAi_RNAseq/Vogg2014/ROC.csv\")"
   ]
  },
  {
   "cell_type": "markdown",
   "id": "b2853a06",
   "metadata": {},
   "source": [
    "# 4. Tu 2015"
   ]
  },
  {
   "cell_type": "code",
   "execution_count": null,
   "id": "2428c19e",
   "metadata": {},
   "outputs": [],
   "source": [
    "import pandas as pd\n",
    "Tu2015 = pd.read_csv(\"/drives/raid/AboobakerLab/jakke/TF_RNAi_RNAseq/Tu2015/res_Tu2015_p53.csv\")"
   ]
  },
  {
   "cell_type": "code",
   "execution_count": null,
   "id": "7a76d30a",
   "metadata": {},
   "outputs": [],
   "source": [
    "Tu2015 = Tu2015[Tu2015[\"padj\"] < 0.05]\n",
    "blasted(Tu2015, human_gene_blast, gffcmp)"
   ]
  },
  {
   "cell_type": "code",
   "execution_count": null,
   "id": "20365275",
   "metadata": {},
   "outputs": [],
   "source": [
    "import pandas as pd\n",
    "n_ge = len(pd.read_csv(\"/drives/raid/AboobakerLab/jakke/TF_RNAi_RNAseq/Tu2015/res_Tu2015_p53.csv\"))"
   ]
  },
  {
   "cell_type": "code",
   "execution_count": null,
   "id": "bd921360",
   "metadata": {},
   "outputs": [],
   "source": [
    "print(len(Tu2015))\n",
    "p_dge = len(Tu2015)/n_ge"
   ]
  },
  {
   "cell_type": "code",
   "execution_count": null,
   "id": "d94d3691",
   "metadata": {},
   "outputs": [],
   "source": [
    "enhancer_final = pd.read_excel(\"/drives/raid/AboobakerLab/jakke/enhancer_regions/enhancer_all_oct2021.xlsx\").iloc[:,1:]"
   ]
  },
  {
   "cell_type": "code",
   "execution_count": null,
   "id": "88226e1d",
   "metadata": {},
   "outputs": [],
   "source": [
    "print(len(pd.Categorical(enhancer_final[\"GeneDescription\"]).categories))\n",
    "p_cis = len(pd.Categorical(enhancer_final[\"GeneDescription\"]).categories)/n_ge"
   ]
  },
  {
   "cell_type": "code",
   "execution_count": null,
   "id": "f3cad4b7",
   "metadata": {},
   "outputs": [],
   "source": [
    "p53_unbound_enhancers = enhancer_final[enhancer_final[\"Unbound motif names\"].str.contains(\"53\")]\n",
    "p53_unbound_notenhancers = enhancer_final[~enhancer_final[\"Unbound motif names\"].str.contains(\"p53\")]\n",
    "p53_bound_enhancers = enhancer_final[enhancer_final[\"Bound motif names\"].str.contains(\"p53\")]\n",
    "p53_bound_notenhancers = enhancer_final[~enhancer_final[\"Bound motif names\"].str.contains(\"p53\")]"
   ]
  },
  {
   "cell_type": "code",
   "execution_count": null,
   "id": "b1d9cda4",
   "metadata": {},
   "outputs": [],
   "source": [
    "print(len(pd.Categorical(p53_unbound_enhancers[\"GeneDescription\"]).categories))\n",
    "p_TF = len(pd.Categorical(p53_unbound_enhancers[\"GeneDescription\"]).categories)/len(pd.Categorical(enhancer_final[\"GeneDescription\"]).categories)"
   ]
  },
  {
   "cell_type": "code",
   "execution_count": null,
   "id": "dab80ebe",
   "metadata": {},
   "outputs": [],
   "source": [
    "len(pd.Categorical(fox_unbound_enhancers[fox_unbound_enhancers[\"geneId\"].isin(Cowles2014.iloc[:,0])][\"GeneDescription\"]).categories)"
   ]
  },
  {
   "cell_type": "markdown",
   "id": "b75226c8",
   "metadata": {},
   "source": [
    "# 5. Stowers Institute 2016"
   ]
  },
  {
   "cell_type": "markdown",
   "id": "e1904b3a",
   "metadata": {},
   "source": [
    "## 5.1 All genes"
   ]
  },
  {
   "cell_type": "code",
   "execution_count": null,
   "id": "d8690bb0",
   "metadata": {},
   "outputs": [],
   "source": [
    "Stowers2016pax5 = pd.read_csv(\"/drives/raid/AboobakerLab/jakke/TF_RNAi_RNAseq/Stowers2016/res_Stowers2016_pax5whole_18hpa.csv\")"
   ]
  },
  {
   "cell_type": "code",
   "execution_count": null,
   "id": "0fc1b9a8",
   "metadata": {},
   "outputs": [],
   "source": [
    "Stowers2016pax5 = Stowers2016pax5[Stowers2016pax5[\"padj\"] < 0.05]\n",
    "blasted(Stowers2016pax5, human_gene_blast, gffcmp)"
   ]
  },
  {
   "cell_type": "code",
   "execution_count": null,
   "id": "967def52",
   "metadata": {},
   "outputs": [],
   "source": [
    "import pandas as pd\n",
    "n_ge = len(pd.read_csv(\"/drives/raid/AboobakerLab/jakke/TF_RNAi_RNAseq/Stowers2016/res_Stowers2016_pax5whole.csv\"))"
   ]
  },
  {
   "cell_type": "code",
   "execution_count": null,
   "id": "27e28793",
   "metadata": {},
   "outputs": [],
   "source": [
    "print(len(Stowers2016pax5))\n",
    "p_dge = len(Stowers2016pax5)/n_ge"
   ]
  },
  {
   "cell_type": "code",
   "execution_count": null,
   "id": "d0acc916",
   "metadata": {},
   "outputs": [],
   "source": [
    "enhancer_final = pd.read_excel(\"/drives/raid/AboobakerLab/jakke/enhancer_regions/enhancer_all_oct2021.xlsx\").iloc[:,1:]"
   ]
  },
  {
   "cell_type": "code",
   "execution_count": null,
   "id": "534dbf09",
   "metadata": {},
   "outputs": [],
   "source": [
    "print(len(pd.Categorical(enhancer_final[\"GeneDescription\"]).categories))\n",
    "p_cis = len(pd.Categorical(enhancer_final[\"GeneDescription\"]).categories)/n_ge"
   ]
  },
  {
   "cell_type": "code",
   "execution_count": null,
   "id": "dacdab7f",
   "metadata": {},
   "outputs": [],
   "source": [
    "pax5_unbound_enhancers = enhancer_final[enhancer_final[\"Unbound motif names\"].str.contains(\"pax\")]\n",
    "pax5_unbound_notenhancers = enhancer_final[~enhancer_final[\"Unbound motif names\"].str.contains(\"pax\")]\n",
    "pax5_bound_enhancers = enhancer_final[enhancer_final[\"Bound motif names\"].str.contains(\"pax\")]\n",
    "pax5_bound_notenhancers = enhancer_final[~enhancer_final[\"Bound motif names\"].str.contains(\"pax\")]"
   ]
  },
  {
   "cell_type": "code",
   "execution_count": null,
   "id": "3a3b178d",
   "metadata": {},
   "outputs": [],
   "source": [
    "print(len(pd.Categorical(pax5_unbound_enhancers[\"GeneDescription\"]).categories))\n",
    "p_TF = len(pd.Categorical(pax5_unbound_enhancers[\"GeneDescription\"]).categories)/len(pd.Categorical(enhancer_final[\"GeneDescription\"]).categories)"
   ]
  },
  {
   "cell_type": "code",
   "execution_count": null,
   "id": "88a5398f",
   "metadata": {},
   "outputs": [],
   "source": [
    "print(len(pd.Categorical(pax5_bound_enhancers[\"GeneDescription\"]).categories))\n",
    "p_footTF = len(pd.Categorical(pax5_bound_enhancers[\"GeneDescription\"]).categories)/len(pd.Categorical(enhancer_final[\"GeneDescription\"]).categories)"
   ]
  },
  {
   "cell_type": "code",
   "execution_count": null,
   "id": "a47115e8",
   "metadata": {},
   "outputs": [],
   "source": [
    "len(pd.Categorical(pax5_unbound_enhancers[pax5_unbound_enhancers[\"geneId\"].isin(Stowers2016pax5.iloc[:,0])][\"GeneDescription\"]).categories)"
   ]
  },
  {
   "cell_type": "code",
   "execution_count": null,
   "id": "031520fe",
   "metadata": {},
   "outputs": [],
   "source": [
    "p_dge*p_cis*p_TF*n_ge"
   ]
  },
  {
   "cell_type": "code",
   "execution_count": null,
   "id": "fcbc20ec",
   "metadata": {},
   "outputs": [],
   "source": [
    "len(pd.Categorical(pax5_bound_enhancers[pax5_bound_enhancers[\"geneId\"].isin(Stowers2016pax5.iloc[:,0])][\"GeneDescription\"]).categories)"
   ]
  },
  {
   "cell_type": "code",
   "execution_count": null,
   "id": "a39d5e11",
   "metadata": {},
   "outputs": [],
   "source": [
    "p_dge*p_cis*p_footTF*n_ge"
   ]
  },
  {
   "cell_type": "code",
   "execution_count": null,
   "id": "91eee13b",
   "metadata": {},
   "outputs": [],
   "source": [
    "len(pd.Categorical(enhancer_final[enhancer_final[\"geneId\"].isin(Stowers2016pax5.iloc[:,0])][\"GeneDescription\"]).categories)"
   ]
  },
  {
   "cell_type": "markdown",
   "id": "ef2a97aa",
   "metadata": {},
   "source": [
    "## 5.2 Transcription factors"
   ]
  },
  {
   "cell_type": "code",
   "execution_count": null,
   "id": "935d9e7e",
   "metadata": {},
   "outputs": [],
   "source": [
    "import pandas as pd\n",
    "Stowers2016 = pd.read_csv(\"/drives/raid/AboobakerLab/jakke/TF_RNAi_RNAseq/Stowers2016/res_Stowers2016_pax5whole.csv\")\n",
    "Stowers2016diff = Stowers2016[Stowers2016[\"padj\"] < 0.05]\n",
    "Stowers2016TF = Stowers2016diff[Stowers2016diff.iloc[:,0].isin(TF_table[\"Neiro\"])]"
   ]
  },
  {
   "cell_type": "code",
   "execution_count": null,
   "id": "df1d6f90",
   "metadata": {},
   "outputs": [],
   "source": [
    "print(len(Stowers2016TF))\n",
    "p_dgetf = len(Stowers2016TF)/n_ge"
   ]
  },
  {
   "cell_type": "code",
   "execution_count": null,
   "id": "a6462380",
   "metadata": {},
   "outputs": [],
   "source": [
    "observed = len(pd.Categorical(pax5_unbound_enhancers[pax5_unbound_enhancers[\"geneId\"].isin(Stowers2016TF.iloc[:,0])][\"GeneDescription\"]).categories)\n",
    "print(observed)"
   ]
  },
  {
   "cell_type": "code",
   "execution_count": null,
   "id": "a7767948",
   "metadata": {},
   "outputs": [],
   "source": [
    "expected = p_dgetf*p_cis*p_TF*n_ge\n",
    "print(expected)"
   ]
  },
  {
   "cell_type": "code",
   "execution_count": null,
   "id": "20ba09f1",
   "metadata": {},
   "outputs": [],
   "source": [
    "print(observed/expected)"
   ]
  },
  {
   "cell_type": "code",
   "execution_count": null,
   "id": "d3099ba4",
   "metadata": {},
   "outputs": [],
   "source": [
    "observed = len(pd.Categorical(pax5_bound_enhancers[pax5_bound_enhancers[\"geneId\"].isin(Stowers2016TF.iloc[:,0])][\"GeneDescription\"]).categories)\n",
    "print(observed)"
   ]
  },
  {
   "cell_type": "code",
   "execution_count": null,
   "id": "78c4c89c",
   "metadata": {},
   "outputs": [],
   "source": [
    "expected = p_dgetf*p_cis*p_footTF*n_ge\n",
    "print(expected)"
   ]
  },
  {
   "cell_type": "code",
   "execution_count": null,
   "id": "2f3a85a8",
   "metadata": {},
   "outputs": [],
   "source": [
    "print(observed/expected)"
   ]
  },
  {
   "cell_type": "code",
   "execution_count": null,
   "id": "9f90cdc6",
   "metadata": {},
   "outputs": [],
   "source": [
    "TN = len(TF_table[~TF_table[\"Neiro\"].isin(Stowers2016diff.iloc[:,0])])\n",
    "print(TN)\n",
    "FP = len(pd.Categorical(pax5_unbound_enhancers[pax5_unbound_enhancers[\"geneId\"].isin(TF_table[\"Neiro\"])][\"GeneDescription\"]).categories)\n",
    "print(FP)\n",
    "specificity_unbound = TN/(TN+FP)\n",
    "print(specificity_unbound)\n",
    "FPR_unbound_pax5 = 1 - specificity_unbound\n",
    "print(FPR_unbound_pax5)"
   ]
  },
  {
   "cell_type": "code",
   "execution_count": null,
   "id": "00379a3b",
   "metadata": {},
   "outputs": [],
   "source": [
    "TN = len(TF_table[~TF_table[\"Neiro\"].isin(Stowers2016diff.iloc[:,0])])\n",
    "print(TN)\n",
    "FP = len(pd.Categorical(pax5_bound_enhancers[pax5_bound_enhancers[\"geneId\"].isin(TF_table[\"Neiro\"])][\"GeneDescription\"]).categories)\n",
    "print(FP)\n",
    "specificity_bound = TN/(TN+FP)\n",
    "print(specificity_bound)\n",
    "FPR_bound_pax5 = 1 - specificity_bound\n",
    "print(FPR_bound_pax5)"
   ]
  },
  {
   "cell_type": "code",
   "execution_count": null,
   "id": "8685802e",
   "metadata": {},
   "outputs": [],
   "source": [
    "TP = len(pd.Categorical(pax5_unbound_enhancers[pax5_unbound_enhancers[\"geneId\"].isin(Stowers2016TF.iloc[:,0])][\"GeneDescription\"]).categories)\n",
    "print(TP)\n",
    "FN = len(Stowers2016TF[~Stowers2016TF.iloc[:,0].isin(pax5_unbound_enhancers[\"geneId\"])])\n",
    "print(FN)\n",
    "TPR_unbound_pax5 = TP/(TP+FN)\n",
    "print(TPR_unbound_pax5)"
   ]
  },
  {
   "cell_type": "code",
   "execution_count": null,
   "id": "79bcb1cb",
   "metadata": {},
   "outputs": [],
   "source": [
    "TP = len(pd.Categorical(pax5_bound_enhancers[pax5_bound_enhancers[\"geneId\"].isin(Stowers2016TF.iloc[:,0])][\"GeneDescription\"]).categories)\n",
    "print(TP)\n",
    "FN = len(Stowers2016TF[~Stowers2016TF.iloc[:,0].isin(pax5_bound_enhancers[\"geneId\"])])\n",
    "print(FN)\n",
    "TPR_bound_pax5 = TP/(TP+FN)\n",
    "print(TPR_bound_pax5)"
   ]
  },
  {
   "cell_type": "code",
   "execution_count": null,
   "id": "b2a934df",
   "metadata": {},
   "outputs": [],
   "source": [
    "import matplotlib.pyplot as plt\n",
    "import numpy as np\n",
    "plt.plot(np.linspace(0,1, 50), np.linspace(0,1, 50))\n",
    "plt.plot(FPR_unbound_coe, TPR_unbound_fox, \"bo\")\n",
    "plt.plot(FPR_bound_coe, TPR_bound_fox, \"bo\")\n",
    "plt.plot(FPR_unbound_fox, TPR_unbound_fox, \"bo\")\n",
    "plt.plot(FPR_bound_fox, TPR_bound_fox, \"bo\")\n",
    "plt.plot(FPR_unbound_pax5, TPR_unbound_pax5, \"bo\")\n",
    "plt.plot(FPR_bound_pax5, TPR_bound_pax5, \"bo\")"
   ]
  },
  {
   "cell_type": "code",
   "execution_count": null,
   "id": "25383879",
   "metadata": {},
   "outputs": [],
   "source": [
    "pd.DataFrame({\"pax5\": [FPR_unbound_pax5, FPR_bound_pax5, TPR_unbound_pax5, TPR_bound_pax5]}).to_csv(\"/drives/raid/AboobakerLab/jakke/TF_RNAi_RNAseq/Stowers2016/ROC.csv\")"
   ]
  },
  {
   "cell_type": "markdown",
   "id": "0efdff07",
   "metadata": {},
   "source": [
    "# 6. Scimone 2017"
   ]
  },
  {
   "cell_type": "markdown",
   "id": "87e329c9",
   "metadata": {},
   "source": [
    "## 6.1 myoD"
   ]
  },
  {
   "cell_type": "markdown",
   "id": "3183b75b",
   "metadata": {},
   "source": [
    "### 6.1.1 All genes"
   ]
  },
  {
   "cell_type": "code",
   "execution_count": null,
   "id": "34f4745a",
   "metadata": {},
   "outputs": [],
   "source": [
    "import pandas as pd\n",
    "Scimone2017myod = pd.read_csv(\"/drives/raid/AboobakerLab/jakke/TF_RNAi_RNAseq/Scimone2017/res_Scimone2017_myod.csv\")"
   ]
  },
  {
   "cell_type": "code",
   "execution_count": null,
   "id": "f5ba37a5",
   "metadata": {},
   "outputs": [],
   "source": [
    "Scimone2017myod = Scimone2017myod[Scimone2017myod[\"padj\"] < 0.05]\n",
    "blasted(Scimone2017myod, human_gene_blast, gffcmp)"
   ]
  },
  {
   "cell_type": "code",
   "execution_count": null,
   "id": "c7db188a",
   "metadata": {},
   "outputs": [],
   "source": [
    "enhancer_final = pd.read_excel(\"/drives/raid/AboobakerLab/jakke/enhancer_regions/enhancer_all_oct2021.xlsx\").iloc[:,1:]"
   ]
  },
  {
   "cell_type": "code",
   "execution_count": null,
   "id": "0ad9051c",
   "metadata": {},
   "outputs": [],
   "source": [
    "myod_unbound_enhancers = enhancer_final[enhancer_final[\"Unbound motif names\"].str.contains(\"myo\")]\n",
    "myod_unbound_notenhancers = enhancer_final[~enhancer_final[\"Unbound motif names\"].str.contains(\"myo\")]\n",
    "myod_bound_enhancers = enhancer_final[enhancer_final[\"Bound motif names\"].str.contains(\"myo\")]\n",
    "myod_bound_notenhancers = enhancer_final[~enhancer_final[\"Bound motif names\"].str.contains(\"myo\")]"
   ]
  },
  {
   "cell_type": "code",
   "execution_count": null,
   "id": "73ccc378",
   "metadata": {},
   "outputs": [],
   "source": [
    "import pandas as pd\n",
    "n_ge = len(pd.read_csv(\"/drives/raid/AboobakerLab/jakke/TF_RNAi_RNAseq/Scimone2017/res_Scimone2017_myod.csv\"))"
   ]
  },
  {
   "cell_type": "code",
   "execution_count": null,
   "id": "5b4fa54d",
   "metadata": {},
   "outputs": [],
   "source": [
    "print(len(Scimone2017myod))\n",
    "p_dge = len(Scimone2017myod)/n_ge"
   ]
  },
  {
   "cell_type": "code",
   "execution_count": null,
   "id": "5a282e58",
   "metadata": {},
   "outputs": [],
   "source": [
    "print(len(pd.Categorical(enhancer_final[\"GeneDescription\"]).categories))\n",
    "p_cis = len(pd.Categorical(enhancer_final[\"GeneDescription\"]).categories)/n_ge"
   ]
  },
  {
   "cell_type": "code",
   "execution_count": null,
   "id": "e3135111",
   "metadata": {},
   "outputs": [],
   "source": [
    "print(len(pd.Categorical(myod_unbound_enhancers[\"GeneDescription\"]).categories))\n",
    "p_TF = len(pd.Categorical(myod_unbound_enhancers[\"GeneDescription\"]).categories)/len(pd.Categorical(enhancer_final[\"GeneDescription\"]).categories)"
   ]
  },
  {
   "cell_type": "code",
   "execution_count": null,
   "id": "a46ae105",
   "metadata": {},
   "outputs": [],
   "source": [
    "print(len(pd.Categorical(myod_bound_enhancers[\"GeneDescription\"]).categories))\n",
    "p_footTF = len(pd.Categorical(myod_bound_enhancers[\"GeneDescription\"]).categories)/len(pd.Categorical(enhancer_final[\"GeneDescription\"]).categories)"
   ]
  },
  {
   "cell_type": "code",
   "execution_count": null,
   "id": "fba01881",
   "metadata": {},
   "outputs": [],
   "source": [
    "len(pd.Categorical(myod_unbound_enhancers[myod_unbound_enhancers[\"geneId\"].isin(Scimone2017myod.iloc[:,0])][\"GeneDescription\"]).categories)"
   ]
  },
  {
   "cell_type": "code",
   "execution_count": null,
   "id": "e82c3659",
   "metadata": {},
   "outputs": [],
   "source": [
    "p_dge*p_cis*p_TF*n_ge"
   ]
  },
  {
   "cell_type": "code",
   "execution_count": null,
   "id": "f36e417b",
   "metadata": {},
   "outputs": [],
   "source": [
    "len(pd.Categorical(myod_bound_enhancers[myod_bound_enhancers[\"geneId\"].isin(Scimone2017myod.iloc[:,0])][\"GeneDescription\"]).categories)"
   ]
  },
  {
   "cell_type": "code",
   "execution_count": null,
   "id": "2b151cfb",
   "metadata": {},
   "outputs": [],
   "source": [
    "p_dge*p_cis*p_footTF*n_ge"
   ]
  },
  {
   "cell_type": "markdown",
   "id": "152ca620",
   "metadata": {},
   "source": [
    "### 6.1.2 Transcription factors"
   ]
  },
  {
   "cell_type": "code",
   "execution_count": null,
   "id": "1d3f720b",
   "metadata": {},
   "outputs": [],
   "source": [
    "import pandas as pd\n",
    "TF_table = pd.read_csv(\"/drives/raid/AboobakerLab/jakke/TF_data/Transcription_factors_01072021_values.csv\").iloc[:,1:]"
   ]
  },
  {
   "cell_type": "code",
   "execution_count": null,
   "id": "ee823b85",
   "metadata": {},
   "outputs": [],
   "source": [
    "import pandas as pd\n",
    "Scimone2017myod = pd.read_csv(\"/drives/raid/AboobakerLab/jakke/TF_RNAi_RNAseq/Scimone2017/res_Scimone2017_myod.csv\")\n",
    "Scimone2017myoddiff = Scimone2017myod[Scimone2017myod[\"padj\"] < 0.05]\n",
    "Scimone2017myodTF = Scimone2017myoddiff[Scimone2017myoddiff.iloc[:,0].isin(TF_table[\"Neiro\"])]"
   ]
  },
  {
   "cell_type": "code",
   "execution_count": null,
   "id": "fcdfb430",
   "metadata": {},
   "outputs": [],
   "source": [
    "print(len(Scimone2017myodTF))\n",
    "p_dgetf = len(Scimone2017myodTF)/n_ge"
   ]
  },
  {
   "cell_type": "code",
   "execution_count": null,
   "id": "c12fe2ec",
   "metadata": {},
   "outputs": [],
   "source": [
    "len(pd.Categorical(myod_unbound_enhancers[myod_unbound_enhancers[\"geneId\"].isin(Scimone2017myodTF.iloc[:,0])][\"GeneDescription\"]).categories)"
   ]
  },
  {
   "cell_type": "code",
   "execution_count": null,
   "id": "d4b6b9b7",
   "metadata": {},
   "outputs": [],
   "source": [
    "p_dgetf*p_cis*p_TF*n_ge"
   ]
  },
  {
   "cell_type": "code",
   "execution_count": null,
   "id": "2290aaa3",
   "metadata": {},
   "outputs": [],
   "source": [
    "len(pd.Categorical(myod_bound_enhancers[myod_bound_enhancers[\"geneId\"].isin(Scimone2017myodTF.iloc[:,0])][\"GeneDescription\"]).categories)"
   ]
  },
  {
   "cell_type": "code",
   "execution_count": null,
   "id": "35e1a2f0",
   "metadata": {},
   "outputs": [],
   "source": [
    "p_dgetf*p_cis*p_footTF*n_ge"
   ]
  },
  {
   "cell_type": "code",
   "execution_count": null,
   "id": "df9f2374",
   "metadata": {},
   "outputs": [],
   "source": [
    "TN = len(TF_table[~TF_table[\"Neiro\"].isin(Scimone2017myoddiff.iloc[:,0])])\n",
    "print(TN)\n",
    "FP = len(pd.Categorical(myod_unbound_enhancers[myod_unbound_enhancers[\"geneId\"].isin(TF_table[\"Neiro\"])][\"GeneDescription\"]).categories)\n",
    "print(FP)\n",
    "specificity_unbound = TN/(TN+FP)\n",
    "print(specificity_unbound)\n",
    "FPR_unbound_myod = 1 - specificity_unbound\n",
    "print(FPR_unbound_myod)"
   ]
  },
  {
   "cell_type": "code",
   "execution_count": null,
   "id": "0dfd13af",
   "metadata": {},
   "outputs": [],
   "source": [
    "TN = len(TF_table[~TF_table[\"Neiro\"].isin(Scimone2017myoddiff.iloc[:,0])])\n",
    "print(TN)\n",
    "FP = len(pd.Categorical(myod_bound_enhancers[myod_bound_enhancers[\"geneId\"].isin(TF_table[\"Neiro\"])][\"GeneDescription\"]).categories)\n",
    "print(FP)\n",
    "specificity_bound = TN/(TN+FP)\n",
    "print(specificity_bound)\n",
    "FPR_bound_myod = 1 - specificity_bound\n",
    "print(FPR_bound_myod)"
   ]
  },
  {
   "cell_type": "code",
   "execution_count": null,
   "id": "a82f1a80",
   "metadata": {},
   "outputs": [],
   "source": [
    "TP = len(pd.Categorical(myod_unbound_enhancers[myod_unbound_enhancers[\"geneId\"].isin(Scimone2017myodTF.iloc[:,0])][\"GeneDescription\"]).categories)\n",
    "print(TP)\n",
    "FN = len(Scimone2017myodTF[~Scimone2017myodTF.iloc[:,0].isin(myod_unbound_enhancers[\"geneId\"])])\n",
    "print(FN)\n",
    "TPR_unbound_myod = TP/(TP+FN)\n",
    "print(TPR_unbound_myod)"
   ]
  },
  {
   "cell_type": "code",
   "execution_count": null,
   "id": "4cf278b1",
   "metadata": {},
   "outputs": [],
   "source": [
    "TP = len(pd.Categorical(myod_bound_enhancers[myod_bound_enhancers[\"geneId\"].isin(Scimone2017myodTF.iloc[:,0])][\"GeneDescription\"]).categories)\n",
    "print(TP)\n",
    "FN = len(Scimone2017myodTF[~Scimone2017myodTF.iloc[:,0].isin(myod_bound_enhancers[\"geneId\"])])\n",
    "print(FN)\n",
    "TPR_bound_myod = TP/(TP+FN)\n",
    "print(TPR_bound_myod)"
   ]
  },
  {
   "cell_type": "code",
   "execution_count": null,
   "id": "0f2f3387",
   "metadata": {},
   "outputs": [],
   "source": [
    "import matplotlib.pyplot as plt\n",
    "import numpy as np\n",
    "plt.plot(np.linspace(0,1, 50), np.linspace(0,1, 50))\n",
    "plt.plot(FPR_unbound_myod, TPR_unbound_myod, \"bo\")\n",
    "plt.plot(FPR_bound_myod, TPR_bound_myod, \"bo\")"
   ]
  },
  {
   "cell_type": "markdown",
   "id": "d08b95c4",
   "metadata": {},
   "source": [
    "## 6.2 nkx"
   ]
  },
  {
   "cell_type": "markdown",
   "id": "0edea12c",
   "metadata": {},
   "source": [
    "### 6.2.1 All genes"
   ]
  },
  {
   "cell_type": "code",
   "execution_count": null,
   "id": "7e4cff14",
   "metadata": {},
   "outputs": [],
   "source": [
    "import pandas as pd\n",
    "Scimone2017nkx = pd.read_csv(\"/drives/raid/AboobakerLab/jakke/TF_RNAi_RNAseq/Scimone2017/res_Scimone2017_nkx.csv\")"
   ]
  },
  {
   "cell_type": "code",
   "execution_count": null,
   "id": "26ef875c",
   "metadata": {},
   "outputs": [],
   "source": [
    "Scimone2017nkx = Scimone2017nkx[Scimone2017nkx[\"padj\"] < 0.05]\n",
    "blasted(Scimone2017nkx, human_gene_blast, gffcmp)"
   ]
  },
  {
   "cell_type": "code",
   "execution_count": null,
   "id": "7537734b",
   "metadata": {},
   "outputs": [],
   "source": [
    "enhancer_final = pd.read_excel(\"/drives/raid/AboobakerLab/jakke/enhancer_regions/enhancer_all_oct2021.xlsx\").iloc[:,1:]"
   ]
  },
  {
   "cell_type": "code",
   "execution_count": null,
   "id": "b1a1a857",
   "metadata": {},
   "outputs": [],
   "source": [
    "import pandas as pd\n",
    "n_ge = len(pd.read_csv(\"/drives/raid/AboobakerLab/jakke/TF_RNAi_RNAseq/Scimone2017/res_Scimone2017_nkx.csv\"))"
   ]
  },
  {
   "cell_type": "code",
   "execution_count": null,
   "id": "caa67fc5",
   "metadata": {},
   "outputs": [],
   "source": [
    "print(len(Scimone2017nkx))\n",
    "p_dge = len(Scimone2017nkx)/n_ge"
   ]
  },
  {
   "cell_type": "code",
   "execution_count": null,
   "id": "12a45b35",
   "metadata": {},
   "outputs": [],
   "source": [
    "print(len(pd.Categorical(enhancer_final[\"GeneDescription\"]).categories))\n",
    "p_cis = len(pd.Categorical(enhancer_final[\"GeneDescription\"]).categories)/n_ge"
   ]
  },
  {
   "cell_type": "code",
   "execution_count": null,
   "id": "930064ff",
   "metadata": {},
   "outputs": [],
   "source": [
    "nkx_unbound_enhancers = enhancer_final[enhancer_final[\"Unbound motif names\"].str.contains(\"nkx\")]\n",
    "nkx_unbound_notenhancers = enhancer_final[~enhancer_final[\"Unbound motif names\"].str.contains(\"nkx\")]\n",
    "nkx_bound_enhancers = enhancer_final[enhancer_final[\"Bound motif names\"].str.contains(\"nkx\")]\n",
    "nkx_bound_notenhancers = enhancer_final[~enhancer_final[\"Bound motif names\"].str.contains(\"nkx\")]"
   ]
  },
  {
   "cell_type": "code",
   "execution_count": null,
   "id": "9579b079",
   "metadata": {},
   "outputs": [],
   "source": [
    "print(len(pd.Categorical(nkx_unbound_enhancers[\"GeneDescription\"]).categories))\n",
    "p_TF = len(pd.Categorical(nkx_unbound_enhancers[\"GeneDescription\"]).categories)/len(pd.Categorical(enhancer_final[\"GeneDescription\"]).categories)"
   ]
  },
  {
   "cell_type": "code",
   "execution_count": null,
   "id": "7db374a3",
   "metadata": {},
   "outputs": [],
   "source": [
    "print(len(pd.Categorical(nkx_bound_enhancers[\"GeneDescription\"]).categories))\n",
    "p_footTF = len(pd.Categorical(nkx_bound_enhancers[\"GeneDescription\"]).categories)/len(pd.Categorical(enhancer_final[\"GeneDescription\"]).categories)"
   ]
  },
  {
   "cell_type": "code",
   "execution_count": null,
   "id": "66f97fb6",
   "metadata": {},
   "outputs": [],
   "source": [
    "len(pd.Categorical(nkx_unbound_enhancers[nkx_unbound_enhancers[\"geneId\"].isin(Scimone2017nkx.iloc[:,0])][\"GeneDescription\"]).categories)"
   ]
  },
  {
   "cell_type": "code",
   "execution_count": null,
   "id": "a4d49f64",
   "metadata": {},
   "outputs": [],
   "source": [
    "p_dge*p_cis*p_TF*n_ge"
   ]
  },
  {
   "cell_type": "code",
   "execution_count": null,
   "id": "ce8b6171",
   "metadata": {},
   "outputs": [],
   "source": [
    "len(pd.Categorical(nkx_bound_enhancers[nkx_bound_enhancers[\"geneId\"].isin(Scimone2017nkx.iloc[:,0])][\"GeneDescription\"]).categories)"
   ]
  },
  {
   "cell_type": "code",
   "execution_count": null,
   "id": "60d02ded",
   "metadata": {},
   "outputs": [],
   "source": [
    "p_dge*p_cis*p_footTF*n_ge"
   ]
  },
  {
   "cell_type": "markdown",
   "id": "d27a1925",
   "metadata": {},
   "source": [
    "### 6.2.2 Transcription factors"
   ]
  },
  {
   "cell_type": "code",
   "execution_count": null,
   "id": "e38a2165",
   "metadata": {},
   "outputs": [],
   "source": [
    "import pandas as pd\n",
    "TF_table = pd.read_csv(\"/drives/raid/AboobakerLab/jakke/TF_data/Transcription_factors_01072021_values.csv\").iloc[:,1:]"
   ]
  },
  {
   "cell_type": "code",
   "execution_count": null,
   "id": "8f508116",
   "metadata": {},
   "outputs": [],
   "source": [
    "import pandas as pd\n",
    "Scimone2017nkx = pd.read_csv(\"/drives/raid/AboobakerLab/jakke/TF_RNAi_RNAseq/Scimone2017/res_Scimone2017_nkx.csv\")\n",
    "Scimone2017nkxdiff = Scimone2017nkx[Scimone2017nkx[\"padj\"] < 0.05]\n",
    "Scimone2017nkxTF = Scimone2017nkxdiff[Scimone2017nkxdiff.iloc[:,0].isin(TF_table[\"Neiro\"])]"
   ]
  },
  {
   "cell_type": "code",
   "execution_count": null,
   "id": "54e04e03",
   "metadata": {},
   "outputs": [],
   "source": [
    "print(len(Scimone2017nkxTF))\n",
    "p_dgetf = len(Scimone2017nkxTF)/n_ge"
   ]
  },
  {
   "cell_type": "code",
   "execution_count": null,
   "id": "3f7157b0",
   "metadata": {},
   "outputs": [],
   "source": [
    "len(pd.Categorical(nkx_unbound_enhancers[nkx_unbound_enhancers[\"geneId\"].isin(Scimone2017nkxTF.iloc[:,0])][\"GeneDescription\"]).categories)"
   ]
  },
  {
   "cell_type": "code",
   "execution_count": null,
   "id": "e3fa1785",
   "metadata": {},
   "outputs": [],
   "source": [
    "p_dgetf*p_cis*p_TF*n_ge"
   ]
  },
  {
   "cell_type": "code",
   "execution_count": null,
   "id": "50e132eb",
   "metadata": {},
   "outputs": [],
   "source": [
    "len(pd.Categorical(nkx_bound_enhancers[nkx_bound_enhancers[\"geneId\"].isin(Scimone2017nkxTF.iloc[:,0])][\"GeneDescription\"]).categories)"
   ]
  },
  {
   "cell_type": "code",
   "execution_count": null,
   "id": "3ae41958",
   "metadata": {},
   "outputs": [],
   "source": [
    "p_dgetf*p_cis*p_footTF*n_ge"
   ]
  },
  {
   "cell_type": "code",
   "execution_count": null,
   "id": "304794fb",
   "metadata": {},
   "outputs": [],
   "source": [
    "TN = len(TF_table[~TF_table[\"Neiro\"].isin(Scimone2017nkxdiff.iloc[:,0])])\n",
    "print(TN)\n",
    "FP = len(pd.Categorical(nkx_unbound_enhancers[nkx_unbound_enhancers[\"geneId\"].isin(TF_table[\"Neiro\"])][\"GeneDescription\"]).categories)\n",
    "print(FP)\n",
    "specificity_unbound = TN/(TN+FP)\n",
    "print(specificity_unbound)\n",
    "FPR_unbound_nkx = 1 - specificity_unbound\n",
    "print(FPR_unbound_nkx)"
   ]
  },
  {
   "cell_type": "code",
   "execution_count": null,
   "id": "1aea41b0",
   "metadata": {},
   "outputs": [],
   "source": [
    "TN = len(TF_table[~TF_table[\"Neiro\"].isin(Scimone2017nkxdiff.iloc[:,0])])\n",
    "print(TN)\n",
    "FP = len(pd.Categorical(nkx_bound_enhancers[nkx_bound_enhancers[\"geneId\"].isin(TF_table[\"Neiro\"])][\"GeneDescription\"]).categories)\n",
    "print(FP)\n",
    "specificity_bound = TN/(TN+FP)\n",
    "print(specificity_bound)\n",
    "FPR_bound_nkx = 1 - specificity_bound\n",
    "print(FPR_bound_nkx)"
   ]
  },
  {
   "cell_type": "code",
   "execution_count": null,
   "id": "76013d5f",
   "metadata": {},
   "outputs": [],
   "source": [
    "TP = len(pd.Categorical(nkx_unbound_enhancers[nkx_unbound_enhancers[\"geneId\"].isin(Scimone2017nkxTF.iloc[:,0])][\"GeneDescription\"]).categories)\n",
    "print(TP)\n",
    "FN = len(Scimone2017nkxTF[~Scimone2017nkxTF.iloc[:,0].isin(nkx_unbound_enhancers[\"geneId\"])])\n",
    "print(FN)\n",
    "TPR_unbound_nkx = TP/(TP+FN)\n",
    "print(TPR_unbound_nkx)"
   ]
  },
  {
   "cell_type": "code",
   "execution_count": null,
   "id": "24ce1809",
   "metadata": {},
   "outputs": [],
   "source": [
    "TP = len(pd.Categorical(nkx_bound_enhancers[nkx_bound_enhancers[\"geneId\"].isin(Scimone2017nkxTF.iloc[:,0])][\"GeneDescription\"]).categories)\n",
    "print(TP)\n",
    "FN = len(Scimone2017nkxTF[~Scimone2017nkxTF.iloc[:,0].isin(nkx_bound_enhancers[\"geneId\"])])\n",
    "print(FN)\n",
    "TPR_bound_nkx = TP/(TP+FN)\n",
    "print(TPR_bound_nkx)"
   ]
  },
  {
   "cell_type": "code",
   "execution_count": null,
   "id": "b4346ef6",
   "metadata": {},
   "outputs": [],
   "source": [
    "import matplotlib.pyplot as plt\n",
    "import numpy as np\n",
    "plt.plot(np.linspace(0,1, 50), np.linspace(0,1, 50))\n",
    "plt.plot(FPR_unbound_nkx, TPR_unbound_nkx, \"bo\")\n",
    "plt.plot(FPR_bound_nkx, TPR_bound_nkx, \"bo\")"
   ]
  },
  {
   "cell_type": "markdown",
   "id": "8a686c38",
   "metadata": {},
   "source": [
    "# 7. Ross 2018"
   ]
  },
  {
   "cell_type": "code",
   "execution_count": null,
   "id": "86f7b8b0",
   "metadata": {},
   "outputs": [],
   "source": [
    "import pandas as pd\n",
    "Ross2018 = pd.read_csv(\"/drives/raid/AboobakerLab/jakke/TF_RNAi_RNAseq/Ross2018/res_Ross2018.csv\")"
   ]
  },
  {
   "cell_type": "code",
   "execution_count": null,
   "id": "e423cbe6",
   "metadata": {},
   "outputs": [],
   "source": [
    "Ross2018 = Ross2018[Ross2018[\"padj\"] < 0.05]\n",
    "blasted(Ross2018, human_gene_blast, gffcmp)"
   ]
  },
  {
   "cell_type": "markdown",
   "id": "88db87f7",
   "metadata": {},
   "source": [
    "# 8. Arnold 2021"
   ]
  },
  {
   "cell_type": "code",
   "execution_count": null,
   "id": "cf128e66",
   "metadata": {},
   "outputs": [],
   "source": [
    "import pandas as pd\n",
    "pd.Categorical(pd.read_csv(\"/drives/raid/AboobakerLab/jakke/TF_RNAi_RNAseq/Arnold2021/SraRunTable.txt\")[\"RNAi\"])"
   ]
  },
  {
   "cell_type": "markdown",
   "id": "ffe7e683",
   "metadata": {},
   "source": [
    "* Hox1: Motif\n",
    "* Hox3a: Motif\n",
    "* Hox3b: No motif\n",
    "* Lox5B: Motif\n",
    "* Post2b: No Motoif"
   ]
  },
  {
   "cell_type": "markdown",
   "id": "6ab5a182",
   "metadata": {},
   "source": [
    "## 8.1 Hox1"
   ]
  },
  {
   "cell_type": "markdown",
   "id": "df58ad30",
   "metadata": {},
   "source": [
    "### 8.1.1 All genes"
   ]
  },
  {
   "cell_type": "code",
   "execution_count": null,
   "id": "21822229",
   "metadata": {},
   "outputs": [],
   "source": [
    "import pandas as pd\n",
    "Arnold2021hox1 = pd.read_csv(\"/drives/raid/AboobakerLab/jakke/TF_RNAi_RNAseq/Arnold2021/res_Arnold2021hox1.csv\")"
   ]
  },
  {
   "cell_type": "code",
   "execution_count": null,
   "id": "2e225cfa",
   "metadata": {},
   "outputs": [],
   "source": [
    "Arnold2021hox1 = Arnold2021hox1[(Arnold2021hox1[\"padj\"] < 0.05)]\n",
    "blasted(Arnold2021hox1, human_gene_blast, gffcmp)"
   ]
  },
  {
   "cell_type": "code",
   "execution_count": null,
   "id": "2fba8f74",
   "metadata": {},
   "outputs": [],
   "source": [
    "enhancer_final = pd.read_excel(\"/drives/raid/AboobakerLab/jakke/enhancer_regions/enhancer_all_oct2021.xlsx\").iloc[:,1:]"
   ]
  },
  {
   "cell_type": "code",
   "execution_count": null,
   "id": "a1231af9",
   "metadata": {},
   "outputs": [],
   "source": [
    "import pandas as pd\n",
    "n_ge = len(pd.read_csv(\"/drives/raid/AboobakerLab/jakke/TF_RNAi_RNAseq/Arnold2021/res_Arnold2021hox1.csv\"))"
   ]
  },
  {
   "cell_type": "code",
   "execution_count": null,
   "id": "1332d547",
   "metadata": {},
   "outputs": [],
   "source": [
    "print(len(Arnold2021hox1))\n",
    "p_dge = len(Arnold2021hox1)/n_ge"
   ]
  },
  {
   "cell_type": "code",
   "execution_count": null,
   "id": "b3091859",
   "metadata": {},
   "outputs": [],
   "source": [
    "print(len(pd.Categorical(enhancer_final[\"GeneDescription\"]).categories))\n",
    "p_cis = len(pd.Categorical(enhancer_final[\"GeneDescription\"]).categories)/n_ge"
   ]
  },
  {
   "cell_type": "code",
   "execution_count": null,
   "id": "be894ecd",
   "metadata": {},
   "outputs": [],
   "source": [
    "hox1_unbound_enhancers = enhancer_final[enhancer_final[\"Unbound motifs\"].str.contains(\"MSTRG.23578\")]\n",
    "hox1_unbound_notenhancers = enhancer_final[~enhancer_final[\"Unbound motifs\"].str.contains(\"MSTRG.23578\")]\n",
    "hox1_bound_enhancers = enhancer_final[enhancer_final[\"Bound motifs\"].str.contains(\"MSTRG.23578\")]\n",
    "hox1_bound_notenhancers = enhancer_final[~enhancer_final[\"Bound motifs\"].str.contains(\"MSTRG.23578\")]"
   ]
  },
  {
   "cell_type": "code",
   "execution_count": null,
   "id": "32bf14a0",
   "metadata": {},
   "outputs": [],
   "source": [
    "hox1_unbound_enhancers = enhancer_final[enhancer_final[\"Unbound motif names\"].str.contains(\"hox\")]\n",
    "hox1_unbound_notenhancers = enhancer_final[~enhancer_final[\"Unbound motif names\"].str.contains(\"hox\")]\n",
    "hox1_bound_enhancers = enhancer_final[enhancer_final[\"Bound motif names\"].str.contains(\"hox\")]\n",
    "hox1_bound_notenhancers = enhancer_final[~enhancer_final[\"Bound motif names\"].str.contains(\"hox\")]"
   ]
  },
  {
   "cell_type": "code",
   "execution_count": null,
   "id": "cabe2464",
   "metadata": {},
   "outputs": [],
   "source": [
    "print(len(pd.Categorical(hox1_unbound_enhancers[\"GeneDescription\"]).categories))\n",
    "p_TF = len(pd.Categorical(hox1_unbound_enhancers[\"GeneDescription\"]).categories)/len(pd.Categorical(enhancer_final[\"GeneDescription\"]).categories)"
   ]
  },
  {
   "cell_type": "code",
   "execution_count": null,
   "id": "7ec58610",
   "metadata": {},
   "outputs": [],
   "source": [
    "print(len(pd.Categorical(hox1_bound_enhancers[\"GeneDescription\"]).categories))\n",
    "p_footTF = len(pd.Categorical(hox1_bound_enhancers[\"GeneDescription\"]).categories)/len(pd.Categorical(enhancer_final[\"GeneDescription\"]).categories)"
   ]
  },
  {
   "cell_type": "code",
   "execution_count": null,
   "id": "12a9dfe5",
   "metadata": {},
   "outputs": [],
   "source": [
    "len(pd.Categorical(hox1_unbound_enhancers[hox1_unbound_enhancers[\"geneId\"].isin(Arnold2021hox1.iloc[:,0])][\"GeneDescription\"]).categories)"
   ]
  },
  {
   "cell_type": "code",
   "execution_count": null,
   "id": "0ff56dd4",
   "metadata": {},
   "outputs": [],
   "source": [
    "p_dge*p_cis*p_TF*n_ge"
   ]
  },
  {
   "cell_type": "code",
   "execution_count": null,
   "id": "398e13ba",
   "metadata": {},
   "outputs": [],
   "source": [
    "len(pd.Categorical(hox1_bound_enhancers[hox1_bound_enhancers[\"geneId\"].isin(Arnold2021hox1.iloc[:,0])][\"GeneDescription\"]).categories)"
   ]
  },
  {
   "cell_type": "code",
   "execution_count": null,
   "id": "ba979410",
   "metadata": {},
   "outputs": [],
   "source": [
    "p_dge*p_cis*p_footTF*n_ge"
   ]
  },
  {
   "cell_type": "markdown",
   "id": "ffea6a41",
   "metadata": {},
   "source": [
    "### 8.1.2 Transcription factors"
   ]
  },
  {
   "cell_type": "code",
   "execution_count": null,
   "id": "b4c12a72",
   "metadata": {},
   "outputs": [],
   "source": [
    "import pandas as pd\n",
    "TF_table = pd.read_csv(\"/drives/raid/AboobakerLab/jakke/TF_data/Transcription_factors_01072021_values.csv\").iloc[:,1:]"
   ]
  },
  {
   "cell_type": "code",
   "execution_count": null,
   "id": "0335d887",
   "metadata": {},
   "outputs": [],
   "source": [
    "import pandas as pd\n",
    "Arnold2021hox1 = pd.read_csv(\"/drives/raid/AboobakerLab/jakke/TF_RNAi_RNAseq/Arnold2021/res_Arnold2021hox1.csv\")\n",
    "Arnold2021hox1diff = Arnold2021hox1[Arnold2021hox1[\"padj\"] < 0.05]\n",
    "Arnold2021hox1TF = Arnold2021hox1diff[Arnold2021hox1diff.iloc[:,0].isin(TF_table[\"Neiro\"])]"
   ]
  },
  {
   "cell_type": "code",
   "execution_count": null,
   "id": "6f0fce9c",
   "metadata": {},
   "outputs": [],
   "source": [
    "print(len(Arnold2021hox1TF))\n",
    "p_dgetf = len(Arnold2021hox1TF)/n_ge"
   ]
  },
  {
   "cell_type": "code",
   "execution_count": null,
   "id": "af0533e1",
   "metadata": {},
   "outputs": [],
   "source": [
    "len(pd.Categorical(myod_unbound_enhancers[myod_unbound_enhancers[\"geneId\"].isin(Arnold2021hox1TF.iloc[:,0])][\"GeneDescription\"]).categories)"
   ]
  },
  {
   "cell_type": "code",
   "execution_count": null,
   "id": "fde2dae2",
   "metadata": {},
   "outputs": [],
   "source": [
    "p_dgetf*p_cis*p_TF*n_ge"
   ]
  },
  {
   "cell_type": "code",
   "execution_count": null,
   "id": "182525ee",
   "metadata": {},
   "outputs": [],
   "source": [
    "len(pd.Categorical(myod_bound_enhancers[myod_bound_enhancers[\"geneId\"].isin(Arnold2021hox1TF.iloc[:,0])][\"GeneDescription\"]).categories)"
   ]
  },
  {
   "cell_type": "code",
   "execution_count": null,
   "id": "5b23b64f",
   "metadata": {},
   "outputs": [],
   "source": [
    "p_dgetf*p_cis*p_footTF*n_ge"
   ]
  },
  {
   "cell_type": "code",
   "execution_count": null,
   "id": "ea697755",
   "metadata": {},
   "outputs": [],
   "source": [
    "TN = len(TF_table[~TF_table[\"Neiro\"].isin(Arnold2021hox1diff.iloc[:,0])])\n",
    "print(TN)\n",
    "FP = len(pd.Categorical(hox1_unbound_enhancers[hox1_unbound_enhancers[\"geneId\"].isin(TF_table[\"Neiro\"])][\"GeneDescription\"]).categories)\n",
    "print(FP)\n",
    "specificity_unbound = TN/(TN+FP)\n",
    "print(specificity_unbound)\n",
    "FPR_unbound_hox1 = 1 - specificity_unbound\n",
    "print(FPR_unbound_hox1)"
   ]
  },
  {
   "cell_type": "code",
   "execution_count": null,
   "id": "a2ac157e",
   "metadata": {},
   "outputs": [],
   "source": [
    "TN = len(TF_table[~TF_table[\"Neiro\"].isin(Arnold2021hox1diff.iloc[:,0])])\n",
    "print(TN)\n",
    "FP = len(pd.Categorical(hox1_bound_enhancers[hox1_bound_enhancers[\"geneId\"].isin(TF_table[\"Neiro\"])][\"GeneDescription\"]).categories)\n",
    "print(FP)\n",
    "specificity_unbound = TN/(TN+FP)\n",
    "print(specificity_bound)\n",
    "FPR_bound_hox1 = 1 - specificity_bound\n",
    "print(FPR_bound_hox1)"
   ]
  },
  {
   "cell_type": "code",
   "execution_count": null,
   "id": "af2c70c0",
   "metadata": {},
   "outputs": [],
   "source": [
    "TP = len(pd.Categorical(hox1_unbound_enhancers[hox1_unbound_enhancers[\"geneId\"].isin(Arnold2021hox1TF.iloc[:,0])][\"GeneDescription\"]).categories)\n",
    "print(TP)\n",
    "FN = len(Arnold2021hox1TF[~Arnold2021hox1TF.iloc[:,0].isin(hox1_unbound_enhancers[\"geneId\"])])\n",
    "print(FN)\n",
    "TPR_unbound_hox1 = TP/(TP+FN)\n",
    "print(TPR_unbound_hox1)"
   ]
  },
  {
   "cell_type": "code",
   "execution_count": null,
   "id": "880a073c",
   "metadata": {},
   "outputs": [],
   "source": [
    "TP = len(pd.Categorical(hox1_bound_enhancers[hox1_bound_enhancers[\"geneId\"].isin(Arnold2021hox1TF.iloc[:,0])][\"GeneDescription\"]).categories)\n",
    "print(TP)\n",
    "FN = len(Arnold2021hox1TF[~Arnold2021hox1TF.iloc[:,0].isin(hox1_bound_enhancers[\"geneId\"])])\n",
    "print(FN)\n",
    "TPR_bound_hox1 = TP/(TP+FN)\n",
    "print(TPR_bound_hox1)"
   ]
  },
  {
   "cell_type": "code",
   "execution_count": null,
   "id": "0fe2837e",
   "metadata": {},
   "outputs": [],
   "source": [
    "import matplotlib.pyplot as plt\n",
    "import numpy as np\n",
    "plt.plot(np.linspace(0,1, 50), np.linspace(0,1, 50))\n",
    "plt.plot(FPR_unbound_hox1, TPR_unbound_hox1, \"bo\")\n",
    "plt.plot(FPR_bound_hox1, TPR_bound_hox1, \"bo\")"
   ]
  },
  {
   "cell_type": "markdown",
   "id": "f0982787",
   "metadata": {},
   "source": [
    "## 8.2 Hox3a"
   ]
  },
  {
   "cell_type": "markdown",
   "id": "b36b92bc",
   "metadata": {},
   "source": [
    "### 8.2.1 All genes"
   ]
  },
  {
   "cell_type": "code",
   "execution_count": null,
   "id": "a3c5b4e8",
   "metadata": {},
   "outputs": [],
   "source": [
    "import pandas as pd\n",
    "Arnold2021hox3a = pd.read_csv(\"/drives/raid/AboobakerLab/jakke/TF_RNAi_RNAseq/Arnold2021/res_Arnold2021hox3a.csv\")"
   ]
  },
  {
   "cell_type": "code",
   "execution_count": null,
   "id": "583d4373",
   "metadata": {},
   "outputs": [],
   "source": [
    "Arnold2021hox3a = Arnold2021hox3a[(Arnold2021hox3a[\"padj\"] < 0.05)]\n",
    "blasted(Arnold2021hox3a, human_gene_blast, gffcmp)"
   ]
  },
  {
   "cell_type": "code",
   "execution_count": null,
   "id": "3412610a",
   "metadata": {},
   "outputs": [],
   "source": [
    "enhancer_final = pd.read_excel(\"/drives/raid/AboobakerLab/jakke/enhancer_regions/enhancer_all_oct2021.xlsx\").iloc[:,1:]"
   ]
  },
  {
   "cell_type": "code",
   "execution_count": null,
   "id": "36d5b20d",
   "metadata": {},
   "outputs": [],
   "source": [
    "import pandas as pd\n",
    "n_ge = len(pd.read_csv(\"/drives/raid/AboobakerLab/jakke/TF_RNAi_RNAseq/Arnold2021/res_Arnold2021hox3a.csv\"))"
   ]
  },
  {
   "cell_type": "code",
   "execution_count": null,
   "id": "af1d12dc",
   "metadata": {},
   "outputs": [],
   "source": [
    "print(len(Arnold2021hox3a))\n",
    "p_dge = len(Arnold2021hox3a)/n_ge"
   ]
  },
  {
   "cell_type": "code",
   "execution_count": null,
   "id": "f9de1639",
   "metadata": {},
   "outputs": [],
   "source": [
    "print(len(pd.Categorical(enhancer_final[\"GeneDescription\"]).categories))\n",
    "p_cis = len(pd.Categorical(enhancer_final[\"GeneDescription\"]).categories)/n_ge"
   ]
  },
  {
   "cell_type": "code",
   "execution_count": null,
   "id": "b8036308",
   "metadata": {},
   "outputs": [],
   "source": [
    "hox3a_unbound_enhancers = enhancer_final[enhancer_final[\"Unbound motif names\"].str.contains(\"hox\")]\n",
    "hox3a_unbound_notenhancers = enhancer_final[~enhancer_final[\"Unbound motif names\"].str.contains(\"hox\")]\n",
    "hox3a_bound_enhancers = enhancer_final[enhancer_final[\"Bound motif names\"].str.contains(\"hox\")]\n",
    "hox3a_bound_notenhancers = enhancer_final[~enhancer_final[\"Bound motif names\"].str.contains(\"hox\")]"
   ]
  },
  {
   "cell_type": "code",
   "execution_count": null,
   "id": "5d12c954",
   "metadata": {},
   "outputs": [],
   "source": [
    "print(len(pd.Categorical(hox3a_unbound_enhancers[\"GeneDescription\"]).categories))\n",
    "p_TF = len(pd.Categorical(hox3a_unbound_enhancers[\"GeneDescription\"]).categories)/len(pd.Categorical(enhancer_final[\"GeneDescription\"]).categories)"
   ]
  },
  {
   "cell_type": "code",
   "execution_count": null,
   "id": "b935eba5",
   "metadata": {},
   "outputs": [],
   "source": [
    "print(len(pd.Categorical(hox3a_bound_enhancers[\"GeneDescription\"]).categories))\n",
    "p_footTF = len(pd.Categorical(hox3a_bound_enhancers[\"GeneDescription\"]).categories)/len(pd.Categorical(enhancer_final[\"GeneDescription\"]).categories)"
   ]
  },
  {
   "cell_type": "code",
   "execution_count": null,
   "id": "459c8a60",
   "metadata": {},
   "outputs": [],
   "source": [
    "len(pd.Categorical(hox3a_unbound_enhancers[hox3a_unbound_enhancers[\"geneId\"].isin(Arnold2021hox3a.iloc[:,0])][\"GeneDescription\"]).categories)"
   ]
  },
  {
   "cell_type": "code",
   "execution_count": null,
   "id": "2d66c6c0",
   "metadata": {},
   "outputs": [],
   "source": [
    "p_dge*p_cis*p_TF*n_ge"
   ]
  },
  {
   "cell_type": "code",
   "execution_count": null,
   "id": "7a0e8a72",
   "metadata": {},
   "outputs": [],
   "source": [
    "len(pd.Categorical(hox3a_bound_enhancers[hox3a_bound_enhancers[\"geneId\"].isin(Arnold2021hox3a.iloc[:,0])][\"GeneDescription\"]).categories)"
   ]
  },
  {
   "cell_type": "code",
   "execution_count": null,
   "id": "e1de662d",
   "metadata": {},
   "outputs": [],
   "source": [
    "p_dge*p_cis*p_footTF*n_ge"
   ]
  },
  {
   "cell_type": "markdown",
   "id": "611dc285",
   "metadata": {},
   "source": [
    "### 8.2.2 Transcription factors"
   ]
  },
  {
   "cell_type": "code",
   "execution_count": null,
   "id": "0116d7aa",
   "metadata": {},
   "outputs": [],
   "source": [
    "import pandas as pd\n",
    "TF_table = pd.read_csv(\"/drives/raid/AboobakerLab/jakke/TF_data/Transcription_factors_01072021_values.csv\").iloc[:,1:]"
   ]
  },
  {
   "cell_type": "code",
   "execution_count": null,
   "id": "fc159e7e",
   "metadata": {},
   "outputs": [],
   "source": [
    "import pandas as pd\n",
    "Arnold2021hox3a = pd.read_csv(\"/drives/raid/AboobakerLab/jakke/TF_RNAi_RNAseq/Arnold2021/res_Arnold2021hox3a.csv\")\n",
    "Arnold2021hox3adiff = Arnold2021hox3a[Arnold2021hox3a[\"padj\"] < 0.05]\n",
    "Arnold2021hox3aTF = Arnold2021hox3adiff[Arnold2021hox3adiff.iloc[:,0].isin(TF_table[\"Neiro\"])]"
   ]
  },
  {
   "cell_type": "code",
   "execution_count": null,
   "id": "9b074b02",
   "metadata": {},
   "outputs": [],
   "source": [
    "print(len(Arnold2021hox3aTF))\n",
    "p_dgetf = len(Arnold2021hox3aTF)/n_ge"
   ]
  },
  {
   "cell_type": "code",
   "execution_count": null,
   "id": "a354e619",
   "metadata": {},
   "outputs": [],
   "source": [
    "len(pd.Categorical(hox3a_unbound_enhancers[hox3a_unbound_enhancers[\"geneId\"].isin(Arnold2021hox3aTF.iloc[:,0])][\"GeneDescription\"]).categories)"
   ]
  },
  {
   "cell_type": "code",
   "execution_count": null,
   "id": "4a612d8b",
   "metadata": {},
   "outputs": [],
   "source": [
    "p_dgetf*p_cis*p_TF*n_ge"
   ]
  },
  {
   "cell_type": "code",
   "execution_count": null,
   "id": "1daee2e9",
   "metadata": {},
   "outputs": [],
   "source": [
    "len(pd.Categorical(hox3a_bound_enhancers[hox3a_bound_enhancers[\"geneId\"].isin(Arnold2021hox3aTF.iloc[:,0])][\"GeneDescription\"]).categories)"
   ]
  },
  {
   "cell_type": "code",
   "execution_count": null,
   "id": "aaabf778",
   "metadata": {},
   "outputs": [],
   "source": [
    "p_dgetf*p_cis*p_footTF*n_ge"
   ]
  },
  {
   "cell_type": "code",
   "execution_count": null,
   "id": "644fb73e",
   "metadata": {},
   "outputs": [],
   "source": [
    "TN = len(TF_table[~TF_table[\"Neiro\"].isin(Arnold2021hox3adiff.iloc[:,0])])\n",
    "print(TN)\n",
    "FP = len(pd.Categorical(hox3a_unbound_enhancers[hox3a_unbound_enhancers[\"geneId\"].isin(TF_table[\"Neiro\"])][\"GeneDescription\"]).categories)\n",
    "print(FP)\n",
    "specificity_unbound = TN/(TN+FP)\n",
    "print(specificity_unbound)\n",
    "FPR_unbound_hox3a = 1 - specificity_unbound\n",
    "print(FPR_unbound_hox3a)"
   ]
  },
  {
   "cell_type": "code",
   "execution_count": null,
   "id": "58a74575",
   "metadata": {},
   "outputs": [],
   "source": [
    "TN = len(TF_table[~TF_table[\"Neiro\"].isin(Arnold2021hox3adiff.iloc[:,0])])\n",
    "print(TN)\n",
    "FP = len(pd.Categorical(hox3a_bound_enhancers[hox3a_bound_enhancers[\"geneId\"].isin(TF_table[\"Neiro\"])][\"GeneDescription\"]).categories)\n",
    "print(FP)\n",
    "specificity_bound = TN/(TN+FP)\n",
    "print(specificity_bound)\n",
    "FPR_bound_hox3a = 1 - specificity_bound\n",
    "print(FPR_bound_hox3a)"
   ]
  },
  {
   "cell_type": "code",
   "execution_count": null,
   "id": "d77fae98",
   "metadata": {},
   "outputs": [],
   "source": [
    "TP = len(pd.Categorical(hox3a_unbound_enhancers[hox3a_unbound_enhancers[\"geneId\"].isin(Arnold2021hox3aTF.iloc[:,0])][\"GeneDescription\"]).categories)\n",
    "print(TP)\n",
    "FN = len(Arnold2021hox3aTF[~Arnold2021hox3aTF.iloc[:,0].isin(hox3a_unbound_enhancers[\"geneId\"])])\n",
    "print(FN)\n",
    "TPR_unbound_hox3a = TP/(TP+FN)\n",
    "print(TPR_unbound_hox3a)"
   ]
  },
  {
   "cell_type": "code",
   "execution_count": null,
   "id": "9d8f02d3",
   "metadata": {},
   "outputs": [],
   "source": [
    "TP = len(pd.Categorical(hox3a_bound_enhancers[hox3a_bound_enhancers[\"geneId\"].isin(Arnold2021hox3aTF.iloc[:,0])][\"GeneDescription\"]).categories)\n",
    "print(TP)\n",
    "FN = len(Arnold2021hox3aTF[~Arnold2021hox3aTF.iloc[:,0].isin(hox3a_bound_enhancers[\"geneId\"])])\n",
    "print(FN)\n",
    "TPR_bound_hox3a = TP/(TP+FN)\n",
    "print(TPR_bound_hox3a)"
   ]
  },
  {
   "cell_type": "code",
   "execution_count": null,
   "id": "db98cc1c",
   "metadata": {},
   "outputs": [],
   "source": [
    "import matplotlib.pyplot as plt\n",
    "import numpy as np\n",
    "plt.plot(np.linspace(0,1, 50), np.linspace(0,1, 50))\n",
    "plt.plot(FPR_unbound_hox3a, TPR_unbound_hox3a, \"bo\")\n",
    "plt.plot(FPR_bound_hox3a, TPR_bound_hox3a, \"bo\")"
   ]
  },
  {
   "cell_type": "markdown",
   "id": "30d25ce4",
   "metadata": {},
   "source": [
    "## 8.3 lox5b"
   ]
  },
  {
   "cell_type": "markdown",
   "id": "605d9a3c",
   "metadata": {},
   "source": [
    "### All genes"
   ]
  },
  {
   "cell_type": "code",
   "execution_count": null,
   "id": "87c32756",
   "metadata": {},
   "outputs": [],
   "source": [
    "import pandas as pd\n",
    "Arnold2021lox5b = pd.read_csv(\"/drives/raid/AboobakerLab/jakke/TF_RNAi_RNAseq/Arnold2021/res_Arnold2021lox5b.csv\")"
   ]
  },
  {
   "cell_type": "code",
   "execution_count": null,
   "id": "43713ae2",
   "metadata": {},
   "outputs": [],
   "source": [
    "Arnold2021lox5b = Arnold2021lox5b[(Arnold2021lox5b[\"padj\"] < 0.05)]\n",
    "blasted(Arnold2021lox5b, human_gene_blast, gffcmp)"
   ]
  },
  {
   "cell_type": "code",
   "execution_count": null,
   "id": "2e028686",
   "metadata": {},
   "outputs": [],
   "source": [
    "import pandas as pd\n",
    "n_ge = len(pd.read_csv(\"/drives/raid/AboobakerLab/jakke/TF_RNAi_RNAseq/Arnold2021/res_Arnold2021lox5b.csv\"))"
   ]
  },
  {
   "cell_type": "code",
   "execution_count": null,
   "id": "d5f32a8c",
   "metadata": {},
   "outputs": [],
   "source": [
    "print(len(Arnold2021lox5b))\n",
    "p_dge = len(Arnold2021lox5b)/n_ge"
   ]
  },
  {
   "cell_type": "code",
   "execution_count": null,
   "id": "08424c12",
   "metadata": {},
   "outputs": [],
   "source": [
    "print(len(pd.Categorical(enhancer_final[\"GeneDescription\"]).categories))\n",
    "p_cis = len(pd.Categorical(enhancer_final[\"GeneDescription\"]).categories)/n_ge"
   ]
  },
  {
   "cell_type": "code",
   "execution_count": null,
   "id": "b42417bc",
   "metadata": {},
   "outputs": [],
   "source": [
    "lox5b_unbound_enhancers = enhancer_final[enhancer_final[\"Unbound motif names\"].str.contains(\"Lox\")]\n",
    "lox5b_unbound_notenhancers = enhancer_final[~enhancer_final[\"Unbound motif names\"].str.contains(\"Lox\")]\n",
    "lox5b_bound_enhancers = enhancer_final[enhancer_final[\"Bound motif names\"].str.contains(\"Lox\")]\n",
    "lox5b_bound_notenhancers = enhancer_final[~enhancer_final[\"Bound motif names\"].str.contains(\"Lox\")]"
   ]
  },
  {
   "cell_type": "code",
   "execution_count": null,
   "id": "4c58e5c6",
   "metadata": {},
   "outputs": [],
   "source": [
    "print(len(pd.Categorical(lox5b_unbound_enhancers[\"GeneDescription\"]).categories))\n",
    "p_TF = len(pd.Categorical(lox5b_unbound_enhancers[\"GeneDescription\"]).categories)/len(pd.Categorical(enhancer_final[\"GeneDescription\"]).categories)"
   ]
  },
  {
   "cell_type": "code",
   "execution_count": null,
   "id": "91d94e39",
   "metadata": {},
   "outputs": [],
   "source": []
  }
 ],
 "metadata": {
  "kernelspec": {
   "display_name": "Python 3 (ipykernel)",
   "language": "python",
   "name": "python3"
  },
  "language_info": {
   "codemirror_mode": {
    "name": "ipython",
    "version": 3
   },
   "file_extension": ".py",
   "mimetype": "text/x-python",
   "name": "python",
   "nbconvert_exporter": "python",
   "pygments_lexer": "ipython3",
   "version": "3.8.12"
  }
 },
 "nbformat": 4,
 "nbformat_minor": 5
}
