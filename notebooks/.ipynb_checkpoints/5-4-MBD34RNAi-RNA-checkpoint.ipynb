{
 "cells": [
  {
   "cell_type": "markdown",
   "id": "metallic-likelihood",
   "metadata": {},
   "source": [
    "# 5-4-MBD34RNAi-RNA\n",
    "Jakke Neiro$^1$\n",
    "\n",
    "1. Aboobaker laboratory, Department of Zoology, University of Oxford"
   ]
  },
  {
   "cell_type": "markdown",
   "id": "satisfied-holmes",
   "metadata": {},
   "source": [
    "## Contents of notebook\n",
    "* 1. Introduction\n",
    "* 2. Data quality\n",
    "    * 2.1 Data download\n",
    "    * 2.2 FastQC\n",
    "        * 2.2.1 SRR4068859 gfp1\n",
    "        * 2.2.2 SRR4068860 gfp2\n",
    "        * 2.2.3 SRR4068861 lpt1 RNAi\n",
    "        * 2.2.4 SRR4068862 lpt2 RNAi\n",
    "* 3. Trimming\n",
    "* 4. Alignment: Kallisto\n",
    "* 5. Target gene table"
   ]
  },
  {
   "cell_type": "markdown",
   "id": "ahead-absence",
   "metadata": {},
   "source": [
    "## Files\n",
    "* Input: SRR4068859, SRR4068860, SRR4068861, SRR4068862\n",
    "* Output: kallisto output files, sleuth_ttg_hconf.csv, sleuth_ttg.csv"
   ]
  },
  {
   "cell_type": "markdown",
   "id": "hindu-insulin",
   "metadata": {},
   "source": [
    "# 1. Introduction"
   ]
  },
  {
   "cell_type": "markdown",
   "id": "9442a7ad",
   "metadata": {},
   "source": [
    "The RNA-seq data upon MBD3/4 RNAi was inspected and pseudo-aligned to the planarian genome. The transcripts were assigned to genes in the annotation.  "
   ]
  },
  {
   "cell_type": "markdown",
   "id": "sunrise-marriage",
   "metadata": {},
   "source": [
    "# 2. Data quality"
   ]
  },
  {
   "cell_type": "markdown",
   "id": "genetic-optimum",
   "metadata": {},
   "source": [
    "## 2.1 Data download"
   ]
  },
  {
   "cell_type": "markdown",
   "id": "44f6cf2b",
   "metadata": {},
   "source": [
    "The files were downloaded:"
   ]
  },
  {
   "cell_type": "code",
   "execution_count": 2,
   "id": "unauthorized-shirt",
   "metadata": {},
   "outputs": [
    {
     "name": "stdout",
     "output_type": "stream",
     "text": [
      "#!/bin/bash\n",
      "\n",
      "while read p; do ~/software/sratoolkit/bin/fastq-dump -A $p --gzip; done < sample.list\n"
     ]
    }
   ],
   "source": [
    "%%bash\n",
    "cd /hydra/chip_RNAi/RNAseq\n",
    "less data_download.sh"
   ]
  },
  {
   "cell_type": "code",
   "execution_count": 1,
   "id": "e99614ae",
   "metadata": {
    "scrolled": true
   },
   "outputs": [
    {
     "name": "stdout",
     "output_type": "stream",
     "text": [
      "SRR4068859.fastq.gz\n",
      "SRR4068859.trimmed.fastq.gz\n",
      "SRR4068859_1.fastq.gz\n",
      "SRR4068859_2.fastq.gz\n",
      "SRR4068859_fastqc.html\n",
      "SRR4068859_fastqc.zip\n",
      "SRR4068860.fastq.gz\n",
      "SRR4068860.trimmed.fastq.gz\n",
      "SRR4068860_1.fastq.gz\n",
      "SRR4068860_2.fastq.gz\n",
      "SRR4068860_fastqc.html\n",
      "SRR4068860_fastqc.zip\n",
      "SRR4068861.fastq.gz\n",
      "SRR4068861.trimmed.fastq.gz\n",
      "SRR4068861_1.fastq.gz\n",
      "SRR4068861_2.fastq.gz\n",
      "SRR4068861_fastqc.html\n",
      "SRR4068861_fastqc.zip\n",
      "SRR4068862.fastq.gz\n",
      "SRR4068862.trimmed.fastq.gz\n",
      "SRR4068862_1.fastq.gz\n",
      "SRR4068862_2.fastq.gz\n",
      "SRR4068862_fastqc.html\n",
      "SRR4068862_fastqc.zip\n",
      "fastqc.sh\n",
      "\n",
      "SRR4068859_fastqc:\n",
      "Icons\n",
      "Images\n",
      "fastqc.fo\n",
      "fastqc_data.txt\n",
      "fastqc_report.html\n",
      "summary.txt\n",
      "\n",
      "SRR4068860_fastqc:\n",
      "Icons\n",
      "Images\n",
      "fastqc.fo\n",
      "fastqc_data.txt\n",
      "fastqc_report.html\n",
      "summary.txt\n",
      "\n",
      "SRR4068861_fastqc:\n",
      "Icons\n",
      "Images\n",
      "fastqc.fo\n",
      "fastqc_data.txt\n",
      "fastqc_report.html\n",
      "summary.txt\n",
      "\n",
      "SRR4068862_fastqc:\n",
      "Icons\n",
      "Images\n",
      "fastqc.fo\n",
      "fastqc_data.txt\n",
      "fastqc_report.html\n",
      "summary.txt\n"
     ]
    }
   ],
   "source": [
    "%%bash\n",
    "cd /hydra/chip_RNAi/RNAseq\n",
    "ls *fastq*"
   ]
  },
  {
   "cell_type": "code",
   "execution_count": 3,
   "id": "intended-medium",
   "metadata": {},
   "outputs": [
    {
     "name": "stdout",
     "output_type": "stream",
     "text": [
      "SRR4068859\n",
      "SRR4068860\n",
      "SRR4068861\n",
      "SRR4068862\n"
     ]
    }
   ],
   "source": [
    "%%bash\n",
    "cd /hydra/chip_RNAi/RNAseq\n",
    "less sample.list"
   ]
  },
  {
   "cell_type": "code",
   "execution_count": 4,
   "id": "eight-diary",
   "metadata": {},
   "outputs": [],
   "source": [
    "#%%bash\n",
    "#cd /hydra/chip_RNAi/RNAseq\n",
    "#nohup ./data_download.sh &"
   ]
  },
  {
   "cell_type": "code",
   "execution_count": null,
   "id": "c79c2030",
   "metadata": {},
   "outputs": [],
   "source": [
    "#%%bash\n",
    "#cd /hydra/chip_RNAi/RNAseq\n",
    "#nohup ./data_download_paired.sh &"
   ]
  },
  {
   "cell_type": "markdown",
   "id": "honest-clerk",
   "metadata": {},
   "source": [
    "## 2.2 FastQC"
   ]
  },
  {
   "cell_type": "markdown",
   "id": "e8a9efd4",
   "metadata": {},
   "source": [
    "FastQC was performed on the RNA-seq samples: "
   ]
  },
  {
   "cell_type": "code",
   "execution_count": 5,
   "id": "future-trinidad",
   "metadata": {},
   "outputs": [
    {
     "name": "stdout",
     "output_type": "stream",
     "text": [
      "#!/bin/bash\n",
      "\n",
      "~/software/FastQC/fastqc *gz\n"
     ]
    }
   ],
   "source": [
    "%%bash\n",
    "cd /hydra/chip_RNAi/RNAseq\n",
    "less fastqc.sh"
   ]
  },
  {
   "cell_type": "code",
   "execution_count": 6,
   "id": "cardiac-strip",
   "metadata": {},
   "outputs": [],
   "source": [
    "#%%bash\n",
    "#cd /hydra/chip_RNAi/RNAseq\n",
    "#nohup ./fastqc.sh &"
   ]
  },
  {
   "cell_type": "markdown",
   "id": "subtle-darwin",
   "metadata": {},
   "source": [
    "### 2.2.1 SRR4068859 (gfp1)"
   ]
  },
  {
   "cell_type": "code",
   "execution_count": 7,
   "id": "addressed-substitute",
   "metadata": {},
   "outputs": [
    {
     "name": "stdout",
     "output_type": "stream",
     "text": [
      "PASS\tBasic Statistics\tSRR4068859.fastq.gz\n",
      "PASS\tPer base sequence quality\tSRR4068859.fastq.gz\n",
      "PASS\tPer sequence quality scores\tSRR4068859.fastq.gz\n",
      "FAIL\tPer base sequence content\tSRR4068859.fastq.gz\n",
      "PASS\tPer sequence GC content\tSRR4068859.fastq.gz\n",
      "PASS\tPer base N content\tSRR4068859.fastq.gz\n",
      "WARN\tSequence Length Distribution\tSRR4068859.fastq.gz\n",
      "WARN\tSequence Duplication Levels\tSRR4068859.fastq.gz\n",
      "PASS\tOverrepresented sequences\tSRR4068859.fastq.gz\n",
      "PASS\tAdapter Content\tSRR4068859.fastq.gz\n"
     ]
    }
   ],
   "source": [
    "%%bash\n",
    "cd /hydra/chip_RNAi/RNAseq\n",
    "cd SRR4068859_fastqc\n",
    "less summary.txt"
   ]
  },
  {
   "cell_type": "code",
   "execution_count": 8,
   "id": "coral-quarterly",
   "metadata": {},
   "outputs": [
    {
     "name": "stdout",
     "output_type": "stream",
     "text": [
      ">>Overrepresented sequences\tpass\n",
      ">>END_MODULE\n",
      ">>Adapter Content\tpass\n",
      "#Position\tIllumina Universal Adapter\tIllumina Small RNA 3' Adapter\tIllumina Small RNA 5' Adapter\tNextera Transposase Sequence\tSOLID Small RNA Adapter\n",
      "1\t0.0\t1.1684759218009174E-5\t0.0\t0.0\t0.0\n"
     ]
    }
   ],
   "source": [
    "%%bash\n",
    "cd /hydra/chip_RNAi/RNAseq\n",
    "cd SRR4068859_fastqc\n",
    "grep -A 4 \"Overrepresented\" fastqc_data.txt"
   ]
  },
  {
   "cell_type": "markdown",
   "id": "lovely-chambers",
   "metadata": {},
   "source": [
    "### 2.2.2 SRR4068860 (gfp2)"
   ]
  },
  {
   "cell_type": "code",
   "execution_count": 9,
   "id": "mathematical-lawrence",
   "metadata": {},
   "outputs": [
    {
     "name": "stdout",
     "output_type": "stream",
     "text": [
      "PASS\tBasic Statistics\tSRR4068860.fastq.gz\n",
      "PASS\tPer base sequence quality\tSRR4068860.fastq.gz\n",
      "PASS\tPer sequence quality scores\tSRR4068860.fastq.gz\n",
      "FAIL\tPer base sequence content\tSRR4068860.fastq.gz\n",
      "PASS\tPer sequence GC content\tSRR4068860.fastq.gz\n",
      "PASS\tPer base N content\tSRR4068860.fastq.gz\n",
      "WARN\tSequence Length Distribution\tSRR4068860.fastq.gz\n",
      "WARN\tSequence Duplication Levels\tSRR4068860.fastq.gz\n",
      "PASS\tOverrepresented sequences\tSRR4068860.fastq.gz\n",
      "PASS\tAdapter Content\tSRR4068860.fastq.gz\n"
     ]
    }
   ],
   "source": [
    "%%bash\n",
    "cd /hydra/chip_RNAi/RNAseq\n",
    "cd SRR4068860_fastqc\n",
    "less summary.txt"
   ]
  },
  {
   "cell_type": "code",
   "execution_count": 10,
   "id": "posted-manchester",
   "metadata": {},
   "outputs": [
    {
     "name": "stdout",
     "output_type": "stream",
     "text": [
      ">>Overrepresented sequences\tpass\n",
      ">>END_MODULE\n",
      ">>Adapter Content\tpass\n",
      "#Position\tIllumina Universal Adapter\tIllumina Small RNA 3' Adapter\tIllumina Small RNA 5' Adapter\tNextera Transposase Sequence\tSOLID Small RNA Adapter\n",
      "1\t0.0\t2.650666968978633E-5\t0.0\t0.0\t0.0\n"
     ]
    }
   ],
   "source": [
    "%%bash\n",
    "cd /hydra/chip_RNAi/RNAseq\n",
    "cd SRR4068860_fastqc\n",
    "grep -A 4 \"Overrepresented\" fastqc_data.txt"
   ]
  },
  {
   "cell_type": "markdown",
   "id": "found-cedar",
   "metadata": {},
   "source": [
    "### 2.2.3 SRR4068861 (lpt1 RNAi)"
   ]
  },
  {
   "cell_type": "code",
   "execution_count": 11,
   "id": "caring-aquatic",
   "metadata": {},
   "outputs": [
    {
     "name": "stdout",
     "output_type": "stream",
     "text": [
      "PASS\tBasic Statistics\tSRR4068861.fastq.gz\n",
      "PASS\tPer base sequence quality\tSRR4068861.fastq.gz\n",
      "PASS\tPer sequence quality scores\tSRR4068861.fastq.gz\n",
      "FAIL\tPer base sequence content\tSRR4068861.fastq.gz\n",
      "PASS\tPer sequence GC content\tSRR4068861.fastq.gz\n",
      "PASS\tPer base N content\tSRR4068861.fastq.gz\n",
      "WARN\tSequence Length Distribution\tSRR4068861.fastq.gz\n",
      "WARN\tSequence Duplication Levels\tSRR4068861.fastq.gz\n",
      "PASS\tOverrepresented sequences\tSRR4068861.fastq.gz\n",
      "PASS\tAdapter Content\tSRR4068861.fastq.gz\n"
     ]
    }
   ],
   "source": [
    "%%bash\n",
    "cd /hydra/chip_RNAi/RNAseq\n",
    "cd SRR4068861_fastqc\n",
    "less summary.txt"
   ]
  },
  {
   "cell_type": "code",
   "execution_count": 13,
   "id": "amateur-guard",
   "metadata": {},
   "outputs": [
    {
     "name": "stdout",
     "output_type": "stream",
     "text": [
      ">>Overrepresented sequences\tpass\n",
      ">>END_MODULE\n",
      ">>Adapter Content\tpass\n",
      "#Position\tIllumina Universal Adapter\tIllumina Small RNA 3' Adapter\tIllumina Small RNA 5' Adapter\tNextera Transposase Sequence\tSOLID Small RNA Adapter\n",
      "1\t0.0\t7.275777807931835E-6\t0.0\t0.0\t0.0\n"
     ]
    }
   ],
   "source": [
    "%%bash\n",
    "cd /hydra/chip_RNAi/RNAseq\n",
    "cd SRR4068861_fastqc\n",
    "grep -A 4 \"Overrepresented\" fastqc_data.txt"
   ]
  },
  {
   "cell_type": "markdown",
   "id": "affected-international",
   "metadata": {},
   "source": [
    "### 2.2.4 SRR4068862 (lpt2 RNAi)"
   ]
  },
  {
   "cell_type": "code",
   "execution_count": 14,
   "id": "sitting-fireplace",
   "metadata": {},
   "outputs": [
    {
     "name": "stdout",
     "output_type": "stream",
     "text": [
      "PASS\tBasic Statistics\tSRR4068862.fastq.gz\n",
      "PASS\tPer base sequence quality\tSRR4068862.fastq.gz\n",
      "PASS\tPer sequence quality scores\tSRR4068862.fastq.gz\n",
      "FAIL\tPer base sequence content\tSRR4068862.fastq.gz\n",
      "WARN\tPer sequence GC content\tSRR4068862.fastq.gz\n",
      "PASS\tPer base N content\tSRR4068862.fastq.gz\n",
      "WARN\tSequence Length Distribution\tSRR4068862.fastq.gz\n",
      "WARN\tSequence Duplication Levels\tSRR4068862.fastq.gz\n",
      "WARN\tOverrepresented sequences\tSRR4068862.fastq.gz\n",
      "PASS\tAdapter Content\tSRR4068862.fastq.gz\n"
     ]
    }
   ],
   "source": [
    "%%bash\n",
    "cd /hydra/chip_RNAi/RNAseq\n",
    "cd SRR4068862_fastqc\n",
    "less summary.txt"
   ]
  },
  {
   "cell_type": "code",
   "execution_count": 1,
   "id": "european-scroll",
   "metadata": {},
   "outputs": [
    {
     "name": "stdout",
     "output_type": "stream",
     "text": [
      ">>Overrepresented sequences\twarn\n",
      "#Sequence\tCount\tPercentage\tPossible Source\n",
      "AGGGGGGGGGGGGGGGGGGGGGGGGGGGGGGGGGGGGGGGGGGGGGGGGG\t186770\t0.2132766952405519\tNo Hit\n",
      ">>END_MODULE\n",
      ">>Adapter Content\tpass\n"
     ]
    }
   ],
   "source": [
    "%%bash\n",
    "cd /hydra/chip_RNAi/RNAseq\n",
    "cd SRR4068862_fastqc\n",
    "grep -A 4 \"Overrepresented\" fastqc_data.txt"
   ]
  },
  {
   "cell_type": "markdown",
   "id": "trained-wesley",
   "metadata": {},
   "source": [
    "# 3. Trimming"
   ]
  },
  {
   "cell_type": "markdown",
   "id": "9e756f7b",
   "metadata": {},
   "source": [
    "The files were trimmed: "
   ]
  },
  {
   "cell_type": "code",
   "execution_count": 15,
   "id": "designing-chapel",
   "metadata": {},
   "outputs": [
    {
     "name": "stdout",
     "output_type": "stream",
     "text": [
      "NexteraPE-PE.fa\n",
      "TruSeq2-PE.fa\n",
      "TruSeq2-SE.fa\n",
      "TruSeq3-PE-2.fa\n",
      "TruSeq3-PE.fa\n",
      "TruSeq3-SE.fa\n"
     ]
    }
   ],
   "source": [
    "%%bash\n",
    "cd /hydra/software/Trimmomatic-0.39/adapters\n",
    "ls"
   ]
  },
  {
   "cell_type": "code",
   "execution_count": 16,
   "id": "domestic-wrong",
   "metadata": {},
   "outputs": [
    {
     "name": "stdout",
     "output_type": "stream",
     "text": [
      "#!/bin/bash\n",
      "\n",
      "java -jar ~/software/Trimmomatic-0.39/trimmomatic-0.39.jar SE SRR4068859.fastq.gz SRR4068859.trimmed.fastq.gz ILLUMINACLIP:NexteraPE-PE.fa:2:30:10\n",
      "\n",
      "java -jar ~/software/Trimmomatic-0.39/trimmomatic-0.39.jar SE SRR4068860.fastq.gz SRR4068860.trimmed.fastq.gz ILLUMINACLIP:NexteraPE-PE.fa:2:30:10\n",
      "\n",
      "java -jar ~/software/Trimmomatic-0.39/trimmomatic-0.39.jar SE SRR4068861.fastq.gz SRR4068861.trimmed.fastq.gz ILLUMINACLIP:NexteraPE-PE.fa:2:30:10\n",
      "\n",
      "java -jar ~/software/Trimmomatic-0.39/trimmomatic-0.39.jar SE SRR4068862.fastq.gz SRR4068862.trimmed.fastq.gz ILLUMINACLIP:NexteraPE-PE.fa:2:30:10\n",
      "\n",
      "\n"
     ]
    }
   ],
   "source": [
    "%%bash\n",
    "cd /hydra/chip_RNAi/RNAseq\n",
    "less trimmomatic.sh"
   ]
  },
  {
   "cell_type": "code",
   "execution_count": 17,
   "id": "dying-jason",
   "metadata": {},
   "outputs": [],
   "source": [
    "#%%bash\n",
    "#cd /hydra/chip_RNAi/RNAseq\n",
    "#nohup ./trimmomatic.sh &"
   ]
  },
  {
   "cell_type": "code",
   "execution_count": 2,
   "id": "eba757c9",
   "metadata": {},
   "outputs": [
    {
     "name": "stdout",
     "output_type": "stream",
     "text": [
      "#!/bin/bash\n",
      "fastp -i SRR4068859_1.fastq.gz -I SRR4068859_2.fastq.gz -o SRR4068859_1.fastp.fastq.gz -O SRR4068859_2.fastp.fastq.gz\n",
      "fastp -i SRR4068860_1.fastq.gz -I SRR4068860_2.fastq.gz -o SRR4068860_1.fastp.fastq.gz -O SRR4068860_2.fastp.fastq.gz\n",
      "fastp -i SRR4068861_1.fastq.gz -I SRR4068861_2.fastq.gz -o SRR4068861_1.fastp.fastq.gz -O SRR4068861_2.fastp.fastq.gz\n",
      "fastp -i SRR4068862_1.fastq.gz -I SRR4068862_2.fastq.gz -o SRR4068862_1.fastp.fastq.gz -O SRR4068862_2.fastp.fastq.gz\n"
     ]
    }
   ],
   "source": [
    "%%bash\n",
    "cd /hydra/chip_RNAi/RNAseq\n",
    "echo \"#!/bin/bash\" > fastp.sh\n",
    "echo \"fastp -i SRR4068859_1.fastq.gz -I SRR4068859_2.fastq.gz -o SRR4068859_1.fastp.fastq.gz -O SRR4068859_2.fastp.fastq.gz\" >> fastp.sh\n",
    "echo \"fastp -i SRR4068860_1.fastq.gz -I SRR4068860_2.fastq.gz -o SRR4068860_1.fastp.fastq.gz -O SRR4068860_2.fastp.fastq.gz\" >> fastp.sh\n",
    "echo \"fastp -i SRR4068861_1.fastq.gz -I SRR4068861_2.fastq.gz -o SRR4068861_1.fastp.fastq.gz -O SRR4068861_2.fastp.fastq.gz\" >> fastp.sh\n",
    "echo \"fastp -i SRR4068862_1.fastq.gz -I SRR4068862_2.fastq.gz -o SRR4068862_1.fastp.fastq.gz -O SRR4068862_2.fastp.fastq.gz\" >> fastp.sh\n",
    "chmod +x fastp.sh\n",
    "less fastp.sh"
   ]
  },
  {
   "cell_type": "markdown",
   "id": "public-prototype",
   "metadata": {},
   "source": [
    "# 4. Alignment: Kallisto"
   ]
  },
  {
   "cell_type": "code",
   "execution_count": null,
   "id": "twelve-wallpaper",
   "metadata": {},
   "outputs": [],
   "source": [
    "#%%bash\n",
    "#cd /hydra/FACS\n",
    "#gffread -w smeshconf_transcripts.fa -g ~/sexual_genome_annotation_files/sexual_genome_annotation/final_dd_Smed_g4.fa /home/likewise-open/ZOO/quee4048/sexual_genome_annotation_files/sexual_genome_annotation/smes_v2_hconf_SMESG.gtf"
   ]
  },
  {
   "cell_type": "code",
   "execution_count": 18,
   "id": "according-lodging",
   "metadata": {},
   "outputs": [
    {
     "name": "stdout",
     "output_type": "stream",
     "text": [
      "#!/bin/bash\n",
      "\n",
      "~/software/kallisto/kallisto index -i stringtie_transcripts_kallisto stringtie_transcripts.fa\n"
     ]
    }
   ],
   "source": [
    "%%bash\n",
    "cd /hydra/chip_RNAi/RNAseq\n",
    "less kallisto_index.sh"
   ]
  },
  {
   "cell_type": "code",
   "execution_count": 19,
   "id": "republican-viewer",
   "metadata": {},
   "outputs": [
    {
     "name": "stdout",
     "output_type": "stream",
     "text": [
      "#!/bin/bash\n",
      "\n",
      "~/software/kallisto/kallisto index -i smeshconf_transcripts_kallisto smeshconf_transcripts.fa\n"
     ]
    }
   ],
   "source": [
    "%%bash\n",
    "cd /hydra/chip_RNAi/RNAseq\n",
    "less kallisto_index_hconf.sh"
   ]
  },
  {
   "cell_type": "code",
   "execution_count": null,
   "id": "continental-titanium",
   "metadata": {},
   "outputs": [],
   "source": [
    "#%%bash\n",
    "#cd /hydra/chip_RNAi/RNAseq\n",
    "#nohup ./kallisto_index.sh &"
   ]
  },
  {
   "cell_type": "code",
   "execution_count": null,
   "id": "blond-bermuda",
   "metadata": {},
   "outputs": [],
   "source": [
    "#%%bash\n",
    "#cd /hydra/chip_RNAi/RNAseq\n",
    "#nohup ./kallisto_index_hconf.sh &"
   ]
  },
  {
   "cell_type": "code",
   "execution_count": 20,
   "id": "legal-pollution",
   "metadata": {},
   "outputs": [
    {
     "name": "stdout",
     "output_type": "stream",
     "text": [
      "-rw-r--r-- 1 ubuntu ubuntu 1066724069 Jun 17  2020 stringtie_transcripts_kallisto\n",
      "-rw-r--r-- 1 ubuntu ubuntu 826718150 Jun 18  2020 smeshconf_transcripts_kallisto\n"
     ]
    }
   ],
   "source": [
    "%%bash\n",
    "cd /hydra/chip_RNAi/RNAseq\n",
    "ls -l stringtie_transcripts_kallisto\n",
    "ls -l smeshconf_transcripts_kallisto"
   ]
  },
  {
   "cell_type": "markdown",
   "id": "590d3345",
   "metadata": {},
   "source": [
    "The fastq files were pseudo-aligned to the transcripts of the new annotation using Kallisto:"
   ]
  },
  {
   "cell_type": "code",
   "execution_count": 21,
   "id": "taken-sense",
   "metadata": {},
   "outputs": [
    {
     "name": "stdout",
     "output_type": "stream",
     "text": [
      "#!/bin/bash\n",
      "\n",
      "~/software/kallisto/kallisto quant -i stringtie_transcripts_kallisto -o SRR4068859_kallisto -b 100 --single -l 200 -s 20 SRR4068859.trimmed.fastq.gz\n",
      "\n",
      "~/software/kallisto/kallisto quant -i stringtie_transcripts_kallisto -o SRR4068860_kallisto -b 100 --single -l 200 -s 20 SRR4068860.trimmed.fastq.gz\n",
      "\n",
      "~/software/kallisto/kallisto quant -i stringtie_transcripts_kallisto -o SRR4068861_kallisto -b 100 --single -l 200 -s 20 SRR4068861.trimmed.fastq.gz\n",
      "\n",
      "~/software/kallisto/kallisto quant -i stringtie_transcripts_kallisto -o SRR4068862_kallisto -b 100 --single -l 200 -s 20 SRR4068862.trimmed.fastq.gz\n"
     ]
    }
   ],
   "source": [
    "%%bash\n",
    "cd /hydra/chip_RNAi/RNAseq\n",
    "less kallisto_align.sh"
   ]
  },
  {
   "cell_type": "markdown",
   "id": "da13a084",
   "metadata": {},
   "source": [
    "The fastq files were pseudo-aligned to the transcripts of the Rink annotation using Kallisto:"
   ]
  },
  {
   "cell_type": "code",
   "execution_count": 22,
   "id": "qualified-standing",
   "metadata": {},
   "outputs": [
    {
     "name": "stdout",
     "output_type": "stream",
     "text": [
      "#!/bin/bash\n",
      "\n",
      "~/software/kallisto/kallisto quant -i smeshconf_transcripts_kallisto -o SRR4068859_kallisto_hconf -b 100 --single -l 200 -s 20 SRR4068859.trimmed.fastq.gz\n",
      "\n",
      "~/software/kallisto/kallisto quant -i smeshconf_transcripts_kallisto -o SRR4068860_kallisto_hconf -b 100 --single -l 200 -s 20 SRR4068860.trimmed.fastq.gz\n",
      "\n",
      "~/software/kallisto/kallisto quant -i smeshconf_transcripts_kallisto -o SRR4068861_kallisto_hconf -b 100 --single -l 200 -s 20 SRR4068861.trimmed.fastq.gz\n",
      "\n",
      "~/software/kallisto/kallisto quant -i smeshconf_transcripts_kallisto -o SRR4068862_kallisto_hconf -b 100 --single -l 200 -s 20 SRR4068862.trimmed.fastq.gz\n"
     ]
    }
   ],
   "source": [
    "%%bash\n",
    "cd /hydra/chip_RNAi/RNAseq\n",
    "less kallisto_align_hconf.sh"
   ]
  },
  {
   "cell_type": "code",
   "execution_count": 9,
   "id": "eac3a6f0",
   "metadata": {},
   "outputs": [
    {
     "name": "stdout",
     "output_type": "stream",
     "text": [
      "#!/bin/bash\n",
      "\n",
      "/hydra/software/kallisto/kallisto quant -i stringtie_transcripts_kallisto -o gfp_kallisto -b 100 -l 200 -s 20 SRR4068859.trimmed.fastq.gz SRR4068860.trimmed.fastq.gz\n",
      "\n",
      "/hydra/software/kallisto/kallisto quant -i stringtie_transcripts_kallisto -o lpt_kallisto -b 100 -l 200 -s 20 SRR4068861.trimmed.fastq.gz SRR4068862.trimmed.fastq.gz\n"
     ]
    }
   ],
   "source": [
    "%%bash\n",
    "cd /hydra/chip_RNAi/RNAseq\n",
    "less kallisto_align_pairedOct21.sh"
   ]
  },
  {
   "cell_type": "code",
   "execution_count": 1,
   "id": "otherwise-still",
   "metadata": {},
   "outputs": [
    {
     "name": "stdout",
     "output_type": "stream",
     "text": [
      "-rw-r--r-- 1 ubuntu ubuntu  826718150 Jun 18  2020 smeshconf_transcripts_kallisto\n",
      "-rw-r--r-- 1 ubuntu ubuntu 1066724069 Jun 17  2020 stringtie_transcripts_kallisto\n",
      "\n",
      "SRR4068859_kallisto:\n",
      "total 45984\n",
      "-rw-r--r-- 1 ubuntu ubuntu 43780405 Jun 17  2020 abundance.h5\n",
      "-rw-r--r-- 1 ubuntu ubuntu  3297438 Jun 17  2020 abundance.tsv\n",
      "-rw-r--r-- 1 ubuntu ubuntu      457 Jun 17  2020 run_info.json\n",
      "\n",
      "SRR4068860_kallisto:\n",
      "total 45736\n",
      "-rw-r--r-- 1 ubuntu ubuntu 43532897 Jun 17  2020 abundance.h5\n",
      "-rw-r--r-- 1 ubuntu ubuntu  3289855 Jun 17  2020 abundance.tsv\n",
      "-rw-r--r-- 1 ubuntu ubuntu      457 Jun 17  2020 run_info.json\n",
      "\n",
      "SRR4068861_kallisto:\n",
      "total 48724\n",
      "-rw-r--r-- 1 ubuntu ubuntu 46544629 Jun 17  2020 abundance.h5\n",
      "-rw-r--r-- 1 ubuntu ubuntu  3338782 Jun 17  2020 abundance.tsv\n",
      "-rw-r--r-- 1 ubuntu ubuntu      457 Jun 17  2020 run_info.json\n",
      "\n",
      "SRR4068862_kallisto:\n",
      "total 50644\n",
      "-rw-r--r-- 1 ubuntu ubuntu 48484201 Jun 17  2020 abundance.h5\n",
      "-rw-r--r-- 1 ubuntu ubuntu  3370522 Jun 17  2020 abundance.tsv\n",
      "-rw-r--r-- 1 ubuntu ubuntu      458 Jun 17  2020 run_info.json\n",
      "\n",
      "gfp_kallisto:\n",
      "total 37744\n",
      "-rw-rw-r-- 1 ubuntu ubuntu 35481990 Oct  1 16:50 abundance.h5\n",
      "-rw-rw-r-- 1 ubuntu ubuntu  3160410 Oct  1 16:27 abundance.tsv\n",
      "-rw-rw-r-- 1 ubuntu ubuntu      442 Oct  1 16:27 run_info.json\n",
      "\n",
      "lpt_kallisto:\n",
      "total 9664\n",
      "-rw-rw-r-- 1 ubuntu ubuntu 6586599 Oct  1 17:14 abundance.h5\n",
      "-rw-rw-r-- 1 ubuntu ubuntu 3229059 Oct  1 17:10 abundance.tsv\n",
      "-rw-rw-r-- 1 ubuntu ubuntu     442 Oct  1 17:10 run_info.json\n"
     ]
    }
   ],
   "source": [
    "%%bash\n",
    "cd /hydra/chip_RNAi/RNAseq\n",
    "ls -l *kallisto"
   ]
  },
  {
   "cell_type": "code",
   "execution_count": 24,
   "id": "synthetic-reply",
   "metadata": {},
   "outputs": [
    {
     "name": "stdout",
     "output_type": "stream",
     "text": [
      "SRR4068859_kallisto_hconf:\n",
      "total 15504\n",
      "-rw-r--r-- 1 ubuntu ubuntu 14634355 Jun 18  2020 abundance.h5\n",
      "-rw-r--r-- 1 ubuntu ubuntu  1233280 Jun 18  2020 abundance.tsv\n",
      "-rw-r--r-- 1 ubuntu ubuntu      464 Jun 18  2020 run_info.json\n",
      "\n",
      "SRR4068860_kallisto_hconf:\n",
      "total 15448\n",
      "-rw-r--r-- 1 ubuntu ubuntu 14576887 Jun 18  2020 abundance.h5\n",
      "-rw-r--r-- 1 ubuntu ubuntu  1233603 Jun 18  2020 abundance.tsv\n",
      "-rw-r--r-- 1 ubuntu ubuntu      464 Jun 18  2020 run_info.json\n",
      "\n",
      "SRR4068861_kallisto_hconf:\n",
      "total 16140\n",
      "-rw-r--r-- 1 ubuntu ubuntu 15275273 Jun 18  2020 abundance.h5\n",
      "-rw-r--r-- 1 ubuntu ubuntu  1244157 Jun 18  2020 abundance.tsv\n",
      "-rw-r--r-- 1 ubuntu ubuntu      464 Jun 18  2020 run_info.json\n",
      "\n",
      "SRR4068862_kallisto_hconf:\n",
      "total 16716\n",
      "-rw-r--r-- 1 ubuntu ubuntu 15854398 Jun 18  2020 abundance.h5\n",
      "-rw-r--r-- 1 ubuntu ubuntu  1253658 Jun 18  2020 abundance.tsv\n",
      "-rw-r--r-- 1 ubuntu ubuntu      464 Jun 18  2020 run_info.json\n"
     ]
    }
   ],
   "source": [
    "%%bash\n",
    "cd /hydra/chip_RNAi/RNAseq\n",
    "ls -l *kallisto_hconf"
   ]
  },
  {
   "cell_type": "markdown",
   "id": "excellent-million",
   "metadata": {},
   "source": [
    "# 5. Target gene table"
   ]
  },
  {
   "cell_type": "markdown",
   "id": "382567e4",
   "metadata": {},
   "source": [
    "The transcripts of the Rink annotation were assigned to genes:"
   ]
  },
  {
   "cell_type": "code",
   "execution_count": 25,
   "id": "hollywood-bradford",
   "metadata": {},
   "outputs": [
    {
     "data": {
      "text/plain": [
       "91068"
      ]
     },
     "execution_count": 25,
     "metadata": {},
     "output_type": "execute_result"
    }
   ],
   "source": [
    "import pandas as pd\n",
    "gffcmp = pd.read_csv(\"/hydra/sexual_genome_annotation_files/ncrna_Neiro/gffcmp.stringtie_merged.gtf.tmap\", sep=\"\\t\")\n",
    "len(gffcmp)"
   ]
  },
  {
   "cell_type": "code",
   "execution_count": null,
   "id": "numerous-scale",
   "metadata": {},
   "outputs": [],
   "source": [
    "pd.DataFrame({\"target_id\": gffcmp.iloc[:, 1], \"ens_gene\": gffcmp.iloc[:, 0]}).to_csv(\"../FACS/sleuth_ttg_hconf.csv\", index=False)"
   ]
  },
  {
   "cell_type": "markdown",
   "id": "213e7cb4",
   "metadata": {},
   "source": [
    "The transcripts of the new annotation were assigned to genes: "
   ]
  },
  {
   "cell_type": "code",
   "execution_count": 27,
   "id": "expected-triangle",
   "metadata": {},
   "outputs": [],
   "source": [
    "import pandas as pd\n",
    "sleuth_gene = pd.read_csv(\"/hydra/FACS/sleuth_gene.csv\")"
   ]
  },
  {
   "cell_type": "code",
   "execution_count": null,
   "id": "furnished-straight",
   "metadata": {},
   "outputs": [],
   "source": [
    "pd.DataFrame({\"target_id\": sleuth_gene.iloc[:, 1], \"ens_gene\": sleuth_gene.iloc[:, 21]}).to_csv(\"../FACS/sleuth_ttg.csv\", index=False)"
   ]
  },
  {
   "cell_type": "markdown",
   "id": "f9267d50",
   "metadata": {},
   "source": [
    "# 6. HISAT2 Alignment"
   ]
  },
  {
   "cell_type": "code",
   "execution_count": 3,
   "id": "0f3ad66b",
   "metadata": {},
   "outputs": [
    {
     "name": "stdout",
     "output_type": "stream",
     "text": [
      "#!/bin/bash\n",
      "/hydra/software/hisat2-2.1.0/hisat2 -p 8 --dta --known-splicesite-infile /hydra/neiro_bam/smes_v2_hconf_hisat2_splice_sites -x /hydra/sexual_genome_annotation_files/sexual_genome_annotation/final_dd_Smed_g4_hisat2 -U SRR4068859.trimmed.fastq.gz -S SRR4068859.sam\n",
      "/hydra/software/hisat2-2.1.0/hisat2 -p 8 --dta --known-splicesite-infile /hydra/neiro_bam/smes_v2_hconf_hisat2_splice_sites -x /hydra/sexual_genome_annotation_files/sexual_genome_annotation/final_dd_Smed_g4_hisat2 -U SRR4068860.trimmed.fastq.gz -S SRR4068860.sam\n",
      "/hydra/software/hisat2-2.1.0/hisat2 -p 8 --dta --known-splicesite-infile /hydra/neiro_bam/smes_v2_hconf_hisat2_splice_sites -x /hydra/sexual_genome_annotation_files/sexual_genome_annotation/final_dd_Smed_g4_hisat2 -U SRR4068861.trimmed.fastq.gz -S SRR4068861.sam\n",
      "/hydra/software/hisat2-2.1.0/hisat2 -p 8 --dta --known-splicesite-infile /hydra/neiro_bam/smes_v2_hconf_hisat2_splice_sites -x /hydra/sexual_genome_annotation_files/sexual_genome_annotation/final_dd_Smed_g4_hisat2 -U SRR4068862.trimmed.fastq.gz -S SRR4068862.sam\n"
     ]
    }
   ],
   "source": [
    "%%bash\n",
    "cd /hydra/chip_RNAi/RNAseq\n",
    "echo \"#!/bin/bash\" > hisat.sh\n",
    "echo \"/hydra/software/hisat2-2.1.0/hisat2 -p 8 --dta --known-splicesite-infile /hydra/neiro_bam/smes_v2_hconf_hisat2_splice_sites -x /hydra/sexual_genome_annotation_files/sexual_genome_annotation/final_dd_Smed_g4_hisat2 -U SRR4068859.trimmed.fastq.gz -S SRR4068859.sam\" >> hisat.sh \n",
    "echo \"/hydra/software/hisat2-2.1.0/hisat2 -p 8 --dta --known-splicesite-infile /hydra/neiro_bam/smes_v2_hconf_hisat2_splice_sites -x /hydra/sexual_genome_annotation_files/sexual_genome_annotation/final_dd_Smed_g4_hisat2 -U SRR4068860.trimmed.fastq.gz -S SRR4068860.sam\" >> hisat.sh\n",
    "echo \"/hydra/software/hisat2-2.1.0/hisat2 -p 8 --dta --known-splicesite-infile /hydra/neiro_bam/smes_v2_hconf_hisat2_splice_sites -x /hydra/sexual_genome_annotation_files/sexual_genome_annotation/final_dd_Smed_g4_hisat2 -U SRR4068861.trimmed.fastq.gz -S SRR4068861.sam\" >> hisat.sh\n",
    "echo \"/hydra/software/hisat2-2.1.0/hisat2 -p 8 --dta --known-splicesite-infile /hydra/neiro_bam/smes_v2_hconf_hisat2_splice_sites -x /hydra/sexual_genome_annotation_files/sexual_genome_annotation/final_dd_Smed_g4_hisat2 -U SRR4068862.trimmed.fastq.gz -S SRR4068862.sam\" >> hisat.sh\n",
    "chmod +x hisat.sh\n",
    "less hisat.sh"
   ]
  },
  {
   "cell_type": "code",
   "execution_count": 2,
   "id": "40ff6ad7",
   "metadata": {},
   "outputs": [
    {
     "name": "stdout",
     "output_type": "stream",
     "text": [
      "#!/bin/bash\n",
      "/hydra/software/hisat2-2.1.0/hisat2 -p 8 --dta --known-splicesite-infile /hydra/neiro_bam/smes_v2_hconf_hisat2_splice_sites -x /hydra/sexual_genome_annotation_files/sexual_genome_annotation/final_dd_Smed_g4_hisat2 -1 SRR4068859.trimmed.fastq.gz -2 SRR4068860.trimmed.fastq.gz -S gfp.sam\n",
      "/hydra/software/hisat2-2.1.0/hisat2 -p 8 --dta --known-splicesite-infile /hydra/neiro_bam/smes_v2_hconf_hisat2_splice_sites -x /hydra/sexual_genome_annotation_files/sexual_genome_annotation/final_dd_Smed_g4_hisat2 -1 SRR4068861.trimmed.fastq.gz -2 SRR4068862.trimmed.fastq.gz -S lpt.sam\n"
     ]
    }
   ],
   "source": [
    "%%bash\n",
    "cd /hydra/chip_RNAi/RNAseq\n",
    "echo \"#!/bin/bash\" > hisat_paired.sh\n",
    "echo \"/hydra/software/hisat2-2.1.0/hisat2 -p 8 --dta --known-splicesite-infile /hydra/neiro_bam/smes_v2_hconf_hisat2_splice_sites -x /hydra/sexual_genome_annotation_files/sexual_genome_annotation/final_dd_Smed_g4_hisat2 -1 SRR4068859.trimmed.fastq.gz -2 SRR4068860.trimmed.fastq.gz -S gfp.sam\" >> hisat_paired.sh \n",
    "echo \"/hydra/software/hisat2-2.1.0/hisat2 -p 8 --dta --known-splicesite-infile /hydra/neiro_bam/smes_v2_hconf_hisat2_splice_sites -x /hydra/sexual_genome_annotation_files/sexual_genome_annotation/final_dd_Smed_g4_hisat2 -1 SRR4068861.trimmed.fastq.gz -2 SRR4068862.trimmed.fastq.gz -S lpt.sam\" >> hisat_paired.sh\n",
    "chmod +x hisat_paired.sh\n",
    "less hisat_paired.sh"
   ]
  },
  {
   "cell_type": "code",
   "execution_count": 1,
   "id": "36e0ada4",
   "metadata": {},
   "outputs": [
    {
     "name": "stdout",
     "output_type": "stream",
     "text": [
      "#!/bin/bash\n",
      "samtools view -b -S SRR4068859.sam > SRR4068859.bam\n",
      "samtools view -b -S SRR4068860.sam > SRR4068860.bam\n",
      "samtools view -b -S SRR4068861.sam > SRR4068861.bam\n",
      "samtools view -b -S SRR4068862.sam > SRR4068862.bam\n"
     ]
    }
   ],
   "source": [
    "%%bash\n",
    "cd /hydra/chip_RNAi/RNAseq\n",
    "echo \"#!/bin/bash\" > samq.sh\n",
    "echo \"samtools view -b -S SRR4068859.sam > SRR4068859.bam\" >> samq.sh\n",
    "echo \"samtools view -b -S SRR4068860.sam > SRR4068860.bam\" >> samq.sh\n",
    "echo \"samtools view -b -S SRR4068861.sam > SRR4068861.bam\" >> samq.sh\n",
    "echo \"samtools view -b -S SRR4068862.sam > SRR4068862.bam\" >> samq.sh\n",
    "chmod +x samq.sh\n",
    "less samq.sh"
   ]
  },
  {
   "cell_type": "code",
   "execution_count": 2,
   "id": "545cd43b",
   "metadata": {},
   "outputs": [
    {
     "name": "stdout",
     "output_type": "stream",
     "text": [
      "#!/bin/bash\n",
      "samtools view -b -S gfp.sam > gfp.bam\n",
      "samtools view -b -S lpt.sam > lpt.bam\n"
     ]
    }
   ],
   "source": [
    "%%bash\n",
    "cd /hydra/chip_RNAi/RNAseq\n",
    "echo \"#!/bin/bash\" > samq_p.sh\n",
    "echo \"samtools view -b -S gfp.sam > gfp.bam\" >> samq_p.sh\n",
    "echo \"samtools view -b -S lpt.sam > lpt.bam\" >> samq_p.sh\n",
    "chmod +x samq_p.sh\n",
    "less samq_p.sh"
   ]
  },
  {
   "cell_type": "code",
   "execution_count": 2,
   "id": "73d97c07",
   "metadata": {},
   "outputs": [
    {
     "name": "stdout",
     "output_type": "stream",
     "text": [
      "#!/bin/bash\n",
      "samtools sort -@ 8 -o SRR4068859.sorted.bam SRR4068859.bam\n",
      "samtools sort -@ 8 -o SRR4068860.sorted.bam SRR4068860.bam\n",
      "samtools sort -@ 8 -o SRR4068861.sorted.bam SRR4068861.bam\n",
      "samtools sort -@ 8 -o SRR4068862.sorted.bam SRR4068862.bam\n",
      "samtools index -b SRR4068859.sorted.bam\n",
      "samtools index -b SRR4068860.sorted.bam\n",
      "samtools index -b SRR4068861.sorted.bam\n",
      "samtools index -b SRR4068862.sorted.bam\n",
      "bamCoverage -b SRR4068859.sorted.bam -o SRR4068859.bw --normalizeUsingRPKM\n",
      "bamCoverage -b SRR4068860.sorted.bam -o SRR4068860.bw --normalizeUsingRPKM\n",
      "bamCoverage -b SRR4068861.sorted.bam -o SRR4068861.bw --normalizeUsingRPKM\n",
      "bamCoverage -b SRR4068862.sorted.bam -o SRR4068862.bw --normalizeUsingRPKM\n"
     ]
    }
   ],
   "source": [
    "%%bash\n",
    "cd /hydra/chip_RNAi/RNAseq\n",
    "echo \"#!/bin/bash\" > samq_2.sh\n",
    "echo \"samtools sort -@ 8 -o SRR4068859.sorted.bam SRR4068859.bam\" >> samq_2.sh\n",
    "echo \"samtools sort -@ 8 -o SRR4068860.sorted.bam SRR4068860.bam\" >> samq_2.sh\n",
    "echo \"samtools sort -@ 8 -o SRR4068861.sorted.bam SRR4068861.bam\" >> samq_2.sh\n",
    "echo \"samtools sort -@ 8 -o SRR4068862.sorted.bam SRR4068862.bam\" >> samq_2.sh\n",
    "echo \"samtools index -b SRR4068859.sorted.bam\" >> samq_2.sh\n",
    "echo \"samtools index -b SRR4068860.sorted.bam\" >> samq_2.sh\n",
    "echo \"samtools index -b SRR4068861.sorted.bam\" >> samq_2.sh\n",
    "echo \"samtools index -b SRR4068862.sorted.bam\" >> samq_2.sh\n",
    "echo \"bamCoverage -b SRR4068859.sorted.bam -o SRR4068859.bw --normalizeUsingRPKM\" >> samq_2.sh\n",
    "echo \"bamCoverage -b SRR4068860.sorted.bam -o SRR4068860.bw --normalizeUsingRPKM\" >> samq_2.sh\n",
    "echo \"bamCoverage -b SRR4068861.sorted.bam -o SRR4068861.bw --normalizeUsingRPKM\" >> samq_2.sh\n",
    "echo \"bamCoverage -b SRR4068862.sorted.bam -o SRR4068862.bw --normalizeUsingRPKM\" >> samq_2.sh\n",
    "chmod +x samq_2.sh\n",
    "less samq_2.sh"
   ]
  },
  {
   "cell_type": "code",
   "execution_count": null,
   "id": "299040aa",
   "metadata": {},
   "outputs": [],
   "source": [
    "%%bash\n",
    "cd /hydra/chip_RNAi/RNAseq\n",
    "echo \"#!/bin/bash\" > samq_2p.sh\n",
    "echo \"samtools sort -@ 8 -o gfp.sorted.bam gfp.bam\" >> samq_2p.sh\n",
    "echo \"samtools sort -@ 8 -o SRR4068860.sorted.bam SRR4068860.bam\" >> samq_2p.sh\n",
    "echo \"samtools index -b SRR4068859.sorted.bam\" >> samq_2p.sh\n",
    "echo \"samtools index -b SRR4068860.sorted.bam\" >> samq_2p.sh\n",
    "echo \"bamCoverage -b SRR4068859.sorted.bam -o SRR4068859.bw --normalizeUsingRPKM\" >> samq_2p.sh\n",
    "echo \"bamCoverage -b SRR4068860.sorted.bam -o SRR4068860.bw --normalizeUsingRPKM\" >> samq_2p.sh\n",
    "chmod +x samq_2p.sh\n",
    "less samq_2p.sh"
   ]
  },
  {
   "cell_type": "code",
   "execution_count": 1,
   "id": "6ffbc186",
   "metadata": {},
   "outputs": [
    {
     "name": "stdout",
     "output_type": "stream",
     "text": [
      "SRR4068859.bw\n",
      "SRR4068860.bw\n",
      "SRR4068861.bw\n",
      "SRR4068862.bw\n",
      "gfp1.bw\n",
      "gfp2.bw\n",
      "gfp_mean.bw\n",
      "lpt1.bw\n",
      "lpt2.bw\n",
      "lpt_mean.bw\n",
      "lptlog2.bw\n"
     ]
    }
   ],
   "source": [
    "%%bash\n",
    "cd /hydra/chip_RNAi/RNAseq\n",
    "ls *bw"
   ]
  },
  {
   "cell_type": "code",
   "execution_count": 2,
   "id": "3dc307b5",
   "metadata": {},
   "outputs": [],
   "source": [
    "%%bash\n",
    "cd /hydra/chip_RNAi/RNAseq\n",
    "wiggletools mean gfp1.bw gfp2.bw > gfp_mean.wig\n",
    "wigToBigWig gfp_mean.wig /hydra/sexual_genome_annotation_files/sexual_genome_annotation/sizes.genome gfp_mean.bw"
   ]
  },
  {
   "cell_type": "code",
   "execution_count": 3,
   "id": "5bd30f98",
   "metadata": {},
   "outputs": [],
   "source": [
    "%%bash\n",
    "cd /hydra/chip_RNAi/RNAseq\n",
    "wiggletools mean lpt1.bw lpt2.bw > lpt_mean.wig\n",
    "wigToBigWig lpt_mean.wig /hydra/sexual_genome_annotation_files/sexual_genome_annotation/sizes.genome lpt_mean.bw"
   ]
  },
  {
   "cell_type": "code",
   "execution_count": null,
   "id": "fc5cffb4",
   "metadata": {},
   "outputs": [],
   "source": [
    "%%bash\n",
    "cd /hydra/chip_RNAi/RNAseq\n",
    "bigwigCompare -b1 lpt_mean.bw -b2 gfp_mean.bw -o lptlog2.bw"
   ]
  },
  {
   "cell_type": "markdown",
   "id": "0df5aaec",
   "metadata": {},
   "source": [
    "# FINNISHED"
   ]
  }
 ],
 "metadata": {
  "kernelspec": {
   "display_name": "Python 3 (ipykernel)",
   "language": "python",
   "name": "python3"
  },
  "language_info": {
   "codemirror_mode": {
    "name": "ipython",
    "version": 3
   },
   "file_extension": ".py",
   "mimetype": "text/x-python",
   "name": "python",
   "nbconvert_exporter": "python",
   "pygments_lexer": "ipython3",
   "version": "3.8.12"
  }
 },
 "nbformat": 4,
 "nbformat_minor": 5
}
