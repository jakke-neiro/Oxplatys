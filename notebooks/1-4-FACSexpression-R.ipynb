{
 "cells": [
  {
   "cell_type": "markdown",
   "metadata": {},
   "source": [
    "# 1-4-FACSexpression-R\n",
    "Jakke Neiro$^1$\n",
    "1. Aboobaker laboratory, Department of Zoology, University of Oxford"
   ]
  },
  {
   "cell_type": "markdown",
   "metadata": {},
   "source": [
    "## Contents of notebook\n",
    "* 1. Introduction\n",
    "* 2. Sleuth and normalisation factors\n",
    "    * 2.1 Sleuth\n",
    "    * 2.2 Transcripts to genes"
   ]
  },
  {
   "cell_type": "markdown",
   "metadata": {},
   "source": [
    "## Files:\n",
    "* Input: salmon_bootstrap directories\n",
    "* Output: sleuth_df.csv, sleuth_gene.csv"
   ]
  },
  {
   "cell_type": "markdown",
   "metadata": {},
   "source": [
    "# 1. Introduction"
   ]
  },
  {
   "cell_type": "markdown",
   "metadata": {},
   "source": [
    "The Salmon pseudoalignment output was used to obtain TPM values for transcripts and genes. The TPM values were used in 1-3-FACSexpression 4. Proportional TPM values. "
   ]
  },
  {
   "cell_type": "markdown",
   "metadata": {},
   "source": [
    "# 2. Sleuth and normalisation factors"
   ]
  },
  {
   "cell_type": "markdown",
   "metadata": {},
   "source": [
    "## 2.1 Sleuth"
   ]
  },
  {
   "cell_type": "markdown",
   "metadata": {},
   "source": [
    "Sleuth and associated packages were uploaded:"
   ]
  },
  {
   "cell_type": "code",
   "execution_count": 5,
   "metadata": {},
   "outputs": [],
   "source": [
    "library(wasabi)\n",
    "library(annotables)\n",
    "library(tidyverse)\n",
    "library(sleuth)"
   ]
  },
  {
   "cell_type": "markdown",
   "metadata": {},
   "source": [
    "Paths to Salmon directories were specified: "
   ]
  },
  {
   "cell_type": "code",
   "execution_count": 7,
   "metadata": {},
   "outputs": [
    {
     "data": {
      "text/html": [
       "<ol class=list-inline>\n",
       "\t<li>'../FACS/salmon_bootstrap/rna_pearson_x1_na_na_SRR2009674_1.fastq.trimmed.fastq.gz'</li>\n",
       "\t<li>'../FACS/salmon_bootstrap/rna_pearson_x1_na_na_SRR2009675_1.fastq.trimmed.fastq.gz'</li>\n",
       "\t<li>'../FACS/salmon_bootstrap/rna_pearson_x2_na_na_SRR2009676_1.fastq.trimmed.fastq.gz'</li>\n",
       "\t<li>'../FACS/salmon_bootstrap/rna_pearson_x2_na_na_SRR2009677_1.fastq.trimmed.fastq.gz'</li>\n",
       "\t<li>'../FACS/salmon_bootstrap/rna_reddien_x1_na_000h_SRR1302023_1.fastq.trimmed.fastq.gz'</li>\n",
       "\t<li>'../FACS/salmon_bootstrap/rna_reddien_x1_na_000h_SRR1302024_1.fastq.trimmed.fastq.gz'</li>\n",
       "\t<li>'../FACS/salmon_bootstrap/rna_reddien_x2_na_000h_SRR1302025_1.fastq.trimmed.fastq.gz'</li>\n",
       "\t<li>'../FACS/salmon_bootstrap/rna_reddien_x2_na_000h_SRR1302026_1.fastq.trimmed.fastq.gz'</li>\n",
       "\t<li>'../FACS/salmon_bootstrap/rna_sanchez_x1_na_na_SRR2407874_1.fastq.trimmed.fastq.gz'</li>\n",
       "\t<li>'../FACS/salmon_bootstrap/rna_sanchez_x1_na_na_SRR2407875_1.fastq.trimmed.fastq.gz'</li>\n",
       "\t<li>'../FACS/salmon_bootstrap/rna_sanchez_x1_na_na_SRR2407876_1.fastq.trimmed.fastq.gz'</li>\n",
       "\t<li>'../FACS/salmon_bootstrap/rna_sanchez_x1_na_na_SRR2407877_1.fastq.trimmed.fastq.gz'</li>\n",
       "\t<li>'../FACS/salmon_bootstrap/rna_sanchez_xins_na_na_SRR2407878_1.fastq.trimmed.fastq.gz'</li>\n",
       "\t<li>'../FACS/salmon_bootstrap/rna_sanchez_xins_na_na_SRR2407879_1.fastq.trimmed.fastq.gz'</li>\n",
       "\t<li>'../FACS/salmon_bootstrap/rna_sanchez_xins_na_na_SRR2407880_1.fastq.trimmed.fastq.gz'</li>\n",
       "\t<li>'../FACS/salmon_bootstrap/rna_sanchez_xins_na_na_SRR2407881_1.fastq.trimmed.fastq.gz'</li>\n",
       "\t<li>'../FACS/salmon_bootstrap/oenalx1'</li>\n",
       "\t<li>'../FACS/salmon_bootstrap/oenalx2'</li>\n",
       "\t<li>'../FACS/salmon_bootstrap/oenalxins'</li>\n",
       "</ol>\n"
      ],
      "text/latex": [
       "\\begin{enumerate*}\n",
       "\\item '../FACS/salmon\\_bootstrap/rna\\_pearson\\_x1\\_na\\_na\\_SRR2009674\\_1.fastq.trimmed.fastq.gz'\n",
       "\\item '../FACS/salmon\\_bootstrap/rna\\_pearson\\_x1\\_na\\_na\\_SRR2009675\\_1.fastq.trimmed.fastq.gz'\n",
       "\\item '../FACS/salmon\\_bootstrap/rna\\_pearson\\_x2\\_na\\_na\\_SRR2009676\\_1.fastq.trimmed.fastq.gz'\n",
       "\\item '../FACS/salmon\\_bootstrap/rna\\_pearson\\_x2\\_na\\_na\\_SRR2009677\\_1.fastq.trimmed.fastq.gz'\n",
       "\\item '../FACS/salmon\\_bootstrap/rna\\_reddien\\_x1\\_na\\_000h\\_SRR1302023\\_1.fastq.trimmed.fastq.gz'\n",
       "\\item '../FACS/salmon\\_bootstrap/rna\\_reddien\\_x1\\_na\\_000h\\_SRR1302024\\_1.fastq.trimmed.fastq.gz'\n",
       "\\item '../FACS/salmon\\_bootstrap/rna\\_reddien\\_x2\\_na\\_000h\\_SRR1302025\\_1.fastq.trimmed.fastq.gz'\n",
       "\\item '../FACS/salmon\\_bootstrap/rna\\_reddien\\_x2\\_na\\_000h\\_SRR1302026\\_1.fastq.trimmed.fastq.gz'\n",
       "\\item '../FACS/salmon\\_bootstrap/rna\\_sanchez\\_x1\\_na\\_na\\_SRR2407874\\_1.fastq.trimmed.fastq.gz'\n",
       "\\item '../FACS/salmon\\_bootstrap/rna\\_sanchez\\_x1\\_na\\_na\\_SRR2407875\\_1.fastq.trimmed.fastq.gz'\n",
       "\\item '../FACS/salmon\\_bootstrap/rna\\_sanchez\\_x1\\_na\\_na\\_SRR2407876\\_1.fastq.trimmed.fastq.gz'\n",
       "\\item '../FACS/salmon\\_bootstrap/rna\\_sanchez\\_x1\\_na\\_na\\_SRR2407877\\_1.fastq.trimmed.fastq.gz'\n",
       "\\item '../FACS/salmon\\_bootstrap/rna\\_sanchez\\_xins\\_na\\_na\\_SRR2407878\\_1.fastq.trimmed.fastq.gz'\n",
       "\\item '../FACS/salmon\\_bootstrap/rna\\_sanchez\\_xins\\_na\\_na\\_SRR2407879\\_1.fastq.trimmed.fastq.gz'\n",
       "\\item '../FACS/salmon\\_bootstrap/rna\\_sanchez\\_xins\\_na\\_na\\_SRR2407880\\_1.fastq.trimmed.fastq.gz'\n",
       "\\item '../FACS/salmon\\_bootstrap/rna\\_sanchez\\_xins\\_na\\_na\\_SRR2407881\\_1.fastq.trimmed.fastq.gz'\n",
       "\\item '../FACS/salmon\\_bootstrap/oenalx1'\n",
       "\\item '../FACS/salmon\\_bootstrap/oenalx2'\n",
       "\\item '../FACS/salmon\\_bootstrap/oenalxins'\n",
       "\\end{enumerate*}\n"
      ],
      "text/markdown": [
       "1. '../FACS/salmon_bootstrap/rna_pearson_x1_na_na_SRR2009674_1.fastq.trimmed.fastq.gz'\n",
       "2. '../FACS/salmon_bootstrap/rna_pearson_x1_na_na_SRR2009675_1.fastq.trimmed.fastq.gz'\n",
       "3. '../FACS/salmon_bootstrap/rna_pearson_x2_na_na_SRR2009676_1.fastq.trimmed.fastq.gz'\n",
       "4. '../FACS/salmon_bootstrap/rna_pearson_x2_na_na_SRR2009677_1.fastq.trimmed.fastq.gz'\n",
       "5. '../FACS/salmon_bootstrap/rna_reddien_x1_na_000h_SRR1302023_1.fastq.trimmed.fastq.gz'\n",
       "6. '../FACS/salmon_bootstrap/rna_reddien_x1_na_000h_SRR1302024_1.fastq.trimmed.fastq.gz'\n",
       "7. '../FACS/salmon_bootstrap/rna_reddien_x2_na_000h_SRR1302025_1.fastq.trimmed.fastq.gz'\n",
       "8. '../FACS/salmon_bootstrap/rna_reddien_x2_na_000h_SRR1302026_1.fastq.trimmed.fastq.gz'\n",
       "9. '../FACS/salmon_bootstrap/rna_sanchez_x1_na_na_SRR2407874_1.fastq.trimmed.fastq.gz'\n",
       "10. '../FACS/salmon_bootstrap/rna_sanchez_x1_na_na_SRR2407875_1.fastq.trimmed.fastq.gz'\n",
       "11. '../FACS/salmon_bootstrap/rna_sanchez_x1_na_na_SRR2407876_1.fastq.trimmed.fastq.gz'\n",
       "12. '../FACS/salmon_bootstrap/rna_sanchez_x1_na_na_SRR2407877_1.fastq.trimmed.fastq.gz'\n",
       "13. '../FACS/salmon_bootstrap/rna_sanchez_xins_na_na_SRR2407878_1.fastq.trimmed.fastq.gz'\n",
       "14. '../FACS/salmon_bootstrap/rna_sanchez_xins_na_na_SRR2407879_1.fastq.trimmed.fastq.gz'\n",
       "15. '../FACS/salmon_bootstrap/rna_sanchez_xins_na_na_SRR2407880_1.fastq.trimmed.fastq.gz'\n",
       "16. '../FACS/salmon_bootstrap/rna_sanchez_xins_na_na_SRR2407881_1.fastq.trimmed.fastq.gz'\n",
       "17. '../FACS/salmon_bootstrap/oenalx1'\n",
       "18. '../FACS/salmon_bootstrap/oenalx2'\n",
       "19. '../FACS/salmon_bootstrap/oenalxins'\n",
       "\n",
       "\n"
      ],
      "text/plain": [
       " [1] \"../FACS/salmon_bootstrap/rna_pearson_x1_na_na_SRR2009674_1.fastq.trimmed.fastq.gz\"  \n",
       " [2] \"../FACS/salmon_bootstrap/rna_pearson_x1_na_na_SRR2009675_1.fastq.trimmed.fastq.gz\"  \n",
       " [3] \"../FACS/salmon_bootstrap/rna_pearson_x2_na_na_SRR2009676_1.fastq.trimmed.fastq.gz\"  \n",
       " [4] \"../FACS/salmon_bootstrap/rna_pearson_x2_na_na_SRR2009677_1.fastq.trimmed.fastq.gz\"  \n",
       " [5] \"../FACS/salmon_bootstrap/rna_reddien_x1_na_000h_SRR1302023_1.fastq.trimmed.fastq.gz\"\n",
       " [6] \"../FACS/salmon_bootstrap/rna_reddien_x1_na_000h_SRR1302024_1.fastq.trimmed.fastq.gz\"\n",
       " [7] \"../FACS/salmon_bootstrap/rna_reddien_x2_na_000h_SRR1302025_1.fastq.trimmed.fastq.gz\"\n",
       " [8] \"../FACS/salmon_bootstrap/rna_reddien_x2_na_000h_SRR1302026_1.fastq.trimmed.fastq.gz\"\n",
       " [9] \"../FACS/salmon_bootstrap/rna_sanchez_x1_na_na_SRR2407874_1.fastq.trimmed.fastq.gz\"  \n",
       "[10] \"../FACS/salmon_bootstrap/rna_sanchez_x1_na_na_SRR2407875_1.fastq.trimmed.fastq.gz\"  \n",
       "[11] \"../FACS/salmon_bootstrap/rna_sanchez_x1_na_na_SRR2407876_1.fastq.trimmed.fastq.gz\"  \n",
       "[12] \"../FACS/salmon_bootstrap/rna_sanchez_x1_na_na_SRR2407877_1.fastq.trimmed.fastq.gz\"  \n",
       "[13] \"../FACS/salmon_bootstrap/rna_sanchez_xins_na_na_SRR2407878_1.fastq.trimmed.fastq.gz\"\n",
       "[14] \"../FACS/salmon_bootstrap/rna_sanchez_xins_na_na_SRR2407879_1.fastq.trimmed.fastq.gz\"\n",
       "[15] \"../FACS/salmon_bootstrap/rna_sanchez_xins_na_na_SRR2407880_1.fastq.trimmed.fastq.gz\"\n",
       "[16] \"../FACS/salmon_bootstrap/rna_sanchez_xins_na_na_SRR2407881_1.fastq.trimmed.fastq.gz\"\n",
       "[17] \"../FACS/salmon_bootstrap/oenalx1\"                                                   \n",
       "[18] \"../FACS/salmon_bootstrap/oenalx2\"                                                   \n",
       "[19] \"../FACS/salmon_bootstrap/oenalxins\"                                                 "
      ]
     },
     "metadata": {},
     "output_type": "display_data"
    }
   ],
   "source": [
    "sf_dirs <- file.path(\"/hydra/FACS/salmon_bootstrap\", \n",
    "        c(\"rna_pearson_x1_na_na_SRR2009674_1.fastq.trimmed.fastq.gz\",\n",
    "          \"rna_pearson_x1_na_na_SRR2009675_1.fastq.trimmed.fastq.gz\",\n",
    "          \"rna_pearson_x2_na_na_SRR2009676_1.fastq.trimmed.fastq.gz\",\n",
    "          \"rna_pearson_x2_na_na_SRR2009677_1.fastq.trimmed.fastq.gz\",\n",
    "          \"rna_reddien_x1_na_000h_SRR1302023_1.fastq.trimmed.fastq.gz\",\n",
    "          \"rna_reddien_x1_na_000h_SRR1302024_1.fastq.trimmed.fastq.gz\",\n",
    "          \"rna_reddien_x2_na_000h_SRR1302025_1.fastq.trimmed.fastq.gz\",\n",
    "          \"rna_reddien_x2_na_000h_SRR1302026_1.fastq.trimmed.fastq.gz\",\n",
    "          \"rna_sanchez_x1_na_na_SRR2407874_1.fastq.trimmed.fastq.gz\",\n",
    "          \"rna_sanchez_x1_na_na_SRR2407875_1.fastq.trimmed.fastq.gz\",\n",
    "          \"rna_sanchez_x1_na_na_SRR2407876_1.fastq.trimmed.fastq.gz\",\n",
    "          \"rna_sanchez_x1_na_na_SRR2407877_1.fastq.trimmed.fastq.gz\",\n",
    "          \"rna_sanchez_xins_na_na_SRR2407878_1.fastq.trimmed.fastq.gz\",\n",
    "          \"rna_sanchez_xins_na_na_SRR2407879_1.fastq.trimmed.fastq.gz\",\n",
    "          \"rna_sanchez_xins_na_na_SRR2407880_1.fastq.trimmed.fastq.gz\", \n",
    "          \"rna_sanchez_xins_na_na_SRR2407881_1.fastq.trimmed.fastq.gz\",\n",
    "          \"oenalx1\",\n",
    "          \"oenalx2\",\n",
    "          \"oenalxins\"))\n",
    "sf_dirs"
   ]
  },
  {
   "cell_type": "code",
   "execution_count": 13,
   "metadata": {},
   "outputs": [],
   "source": [
    "prepare_fish_for_sleuth(sf_dirs)"
   ]
  },
  {
   "cell_type": "code",
   "execution_count": 9,
   "metadata": {},
   "outputs": [
    {
     "data": {
      "text/html": [
       "19"
      ],
      "text/latex": [
       "19"
      ],
      "text/markdown": [
       "19"
      ],
      "text/plain": [
       "[1] 19"
      ]
     },
     "metadata": {},
     "output_type": "display_data"
    }
   ],
   "source": [
    "length(sf_dirs)"
   ]
  },
  {
   "cell_type": "code",
   "execution_count": 10,
   "metadata": {},
   "outputs": [
    {
     "data": {
      "text/html": [
       "<ol class=list-inline>\n",
       "\t<li>'SRR2009674'</li>\n",
       "\t<li>'SRR2009675'</li>\n",
       "\t<li>'SRR2009676'</li>\n",
       "\t<li>'SRR2009677'</li>\n",
       "\t<li>'SRR1302023'</li>\n",
       "\t<li>'SRR1302024'</li>\n",
       "\t<li>'SRR1302025'</li>\n",
       "\t<li>'SRR1302026'</li>\n",
       "\t<li>'SRR2407874'</li>\n",
       "\t<li>'SRR2407875'</li>\n",
       "\t<li>'SRR2407876'</li>\n",
       "\t<li>'SRR2407877'</li>\n",
       "\t<li>'SRR2407878'</li>\n",
       "\t<li>'SRR2407879'</li>\n",
       "\t<li>'SRR2407880'</li>\n",
       "\t<li>'SRR2407881'</li>\n",
       "\t<li>'oenalx1'</li>\n",
       "\t<li>'oenalx2'</li>\n",
       "\t<li>'oenalxins'</li>\n",
       "</ol>\n"
      ],
      "text/latex": [
       "\\begin{enumerate*}\n",
       "\\item 'SRR2009674'\n",
       "\\item 'SRR2009675'\n",
       "\\item 'SRR2009676'\n",
       "\\item 'SRR2009677'\n",
       "\\item 'SRR1302023'\n",
       "\\item 'SRR1302024'\n",
       "\\item 'SRR1302025'\n",
       "\\item 'SRR1302026'\n",
       "\\item 'SRR2407874'\n",
       "\\item 'SRR2407875'\n",
       "\\item 'SRR2407876'\n",
       "\\item 'SRR2407877'\n",
       "\\item 'SRR2407878'\n",
       "\\item 'SRR2407879'\n",
       "\\item 'SRR2407880'\n",
       "\\item 'SRR2407881'\n",
       "\\item 'oenalx1'\n",
       "\\item 'oenalx2'\n",
       "\\item 'oenalxins'\n",
       "\\end{enumerate*}\n"
      ],
      "text/markdown": [
       "1. 'SRR2009674'\n",
       "2. 'SRR2009675'\n",
       "3. 'SRR2009676'\n",
       "4. 'SRR2009677'\n",
       "5. 'SRR1302023'\n",
       "6. 'SRR1302024'\n",
       "7. 'SRR1302025'\n",
       "8. 'SRR1302026'\n",
       "9. 'SRR2407874'\n",
       "10. 'SRR2407875'\n",
       "11. 'SRR2407876'\n",
       "12. 'SRR2407877'\n",
       "13. 'SRR2407878'\n",
       "14. 'SRR2407879'\n",
       "15. 'SRR2407880'\n",
       "16. 'SRR2407881'\n",
       "17. 'oenalx1'\n",
       "18. 'oenalx2'\n",
       "19. 'oenalxins'\n",
       "\n",
       "\n"
      ],
      "text/plain": [
       " [1] \"SRR2009674\" \"SRR2009675\" \"SRR2009676\" \"SRR2009677\" \"SRR1302023\"\n",
       " [6] \"SRR1302024\" \"SRR1302025\" \"SRR1302026\" \"SRR2407874\" \"SRR2407875\"\n",
       "[11] \"SRR2407876\" \"SRR2407877\" \"SRR2407878\" \"SRR2407879\" \"SRR2407880\"\n",
       "[16] \"SRR2407881\" \"oenalx1\"    \"oenalx2\"    \"oenalxins\" "
      ]
     },
     "metadata": {},
     "output_type": "display_data"
    }
   ],
   "source": [
    "sf_dirs_samples = c()\n",
    "for (i in 1:16){\n",
    "    sf_dirs_samples = c(sf_dirs_samples, strsplit(sf_dirs[i], \"_\")[[1]][7])\n",
    "}\n",
    "sf_dirs_samples = c(sf_dirs_samples, \"oenalx1\", \"oenalx2\", \"oenalxins\")\n",
    "sf_dirs_samples"
   ]
  },
  {
   "cell_type": "code",
   "execution_count": 11,
   "metadata": {},
   "outputs": [
    {
     "data": {
      "text/html": [
       "<ol class=list-inline>\n",
       "\t<li>x1</li>\n",
       "\t<li>x1</li>\n",
       "\t<li>x2</li>\n",
       "\t<li>x2</li>\n",
       "\t<li>x1</li>\n",
       "\t<li>x1</li>\n",
       "\t<li>x2</li>\n",
       "\t<li>x2</li>\n",
       "\t<li>x1</li>\n",
       "\t<li>x1</li>\n",
       "\t<li>x1</li>\n",
       "\t<li>x1</li>\n",
       "\t<li>xins</li>\n",
       "\t<li>xins</li>\n",
       "\t<li>xins</li>\n",
       "\t<li>xins</li>\n",
       "\t<li>x1</li>\n",
       "\t<li>x2</li>\n",
       "\t<li>xins</li>\n",
       "</ol>\n",
       "\n",
       "<details>\n",
       "\t<summary style=display:list-item;cursor:pointer>\n",
       "\t\t<strong>Levels</strong>:\n",
       "\t</summary>\n",
       "\t<ol class=list-inline>\n",
       "\t\t<li>'x1'</li>\n",
       "\t\t<li>'x2'</li>\n",
       "\t\t<li>'xins'</li>\n",
       "\t</ol>\n",
       "</details>"
      ],
      "text/latex": [
       "\\begin{enumerate*}\n",
       "\\item x1\n",
       "\\item x1\n",
       "\\item x2\n",
       "\\item x2\n",
       "\\item x1\n",
       "\\item x1\n",
       "\\item x2\n",
       "\\item x2\n",
       "\\item x1\n",
       "\\item x1\n",
       "\\item x1\n",
       "\\item x1\n",
       "\\item xins\n",
       "\\item xins\n",
       "\\item xins\n",
       "\\item xins\n",
       "\\item x1\n",
       "\\item x2\n",
       "\\item xins\n",
       "\\end{enumerate*}\n",
       "\n",
       "\\emph{Levels}: \\begin{enumerate*}\n",
       "\\item 'x1'\n",
       "\\item 'x2'\n",
       "\\item 'xins'\n",
       "\\end{enumerate*}\n"
      ],
      "text/markdown": [
       "1. x1\n",
       "2. x1\n",
       "3. x2\n",
       "4. x2\n",
       "5. x1\n",
       "6. x1\n",
       "7. x2\n",
       "8. x2\n",
       "9. x1\n",
       "10. x1\n",
       "11. x1\n",
       "12. x1\n",
       "13. xins\n",
       "14. xins\n",
       "15. xins\n",
       "16. xins\n",
       "17. x1\n",
       "18. x2\n",
       "19. xins\n",
       "\n",
       "\n",
       "\n",
       "**Levels**: 1. 'x1'\n",
       "2. 'x2'\n",
       "3. 'xins'\n",
       "\n",
       "\n"
      ],
      "text/plain": [
       " [1] x1   x1   x2   x2   x1   x1   x2   x2   x1   x1   x1   x1   xins xins xins\n",
       "[16] xins x1   x2   xins\n",
       "Levels: x1 x2 xins"
      ]
     },
     "metadata": {},
     "output_type": "display_data"
    }
   ],
   "source": [
    "sampletype <- factor(c(c(\"x1\", \"x1\", \"x2\", \"x2\", \"x1\", \"x1\", \"x2\", \"x2\"), rep(\"x1\", 4), rep(\"xins\", 4), c(\"x1\", \"x2\", \"xins\")))\n",
    "sampletype"
   ]
  },
  {
   "cell_type": "code",
   "execution_count": 12,
   "metadata": {},
   "outputs": [
    {
     "data": {
      "text/html": [
       "TRUE"
      ],
      "text/latex": [
       "TRUE"
      ],
      "text/markdown": [
       "TRUE"
      ],
      "text/plain": [
       "[1] TRUE"
      ]
     },
     "metadata": {},
     "output_type": "display_data"
    }
   ],
   "source": [
    "summarydata <- data.frame(sampletype, row.names = sf_dirs_samples)\n",
    "all(sf_dirs_samples == rownames(summarydata))"
   ]
  },
  {
   "cell_type": "code",
   "execution_count": 15,
   "metadata": {},
   "outputs": [
    {
     "data": {
      "text/html": [
       "<dl class=dl-horizontal>\n",
       "\t<dt>SRR2009674</dt>\n",
       "\t\t<dd>'../FACS/salmon_bootstrap/rna_pearson_x1_na_na_SRR2009674_1.fastq.trimmed.fastq.gz'</dd>\n",
       "\t<dt>SRR2009675</dt>\n",
       "\t\t<dd>'../FACS/salmon_bootstrap/rna_pearson_x1_na_na_SRR2009675_1.fastq.trimmed.fastq.gz'</dd>\n",
       "\t<dt>SRR2009676</dt>\n",
       "\t\t<dd>'../FACS/salmon_bootstrap/rna_pearson_x2_na_na_SRR2009676_1.fastq.trimmed.fastq.gz'</dd>\n",
       "\t<dt>SRR2009677</dt>\n",
       "\t\t<dd>'../FACS/salmon_bootstrap/rna_pearson_x2_na_na_SRR2009677_1.fastq.trimmed.fastq.gz'</dd>\n",
       "</dl>\n"
      ],
      "text/latex": [
       "\\begin{description*}\n",
       "\\item[SRR2009674] '../FACS/salmon\\_bootstrap/rna\\_pearson\\_x1\\_na\\_na\\_SRR2009674\\_1.fastq.trimmed.fastq.gz'\n",
       "\\item[SRR2009675] '../FACS/salmon\\_bootstrap/rna\\_pearson\\_x1\\_na\\_na\\_SRR2009675\\_1.fastq.trimmed.fastq.gz'\n",
       "\\item[SRR2009676] '../FACS/salmon\\_bootstrap/rna\\_pearson\\_x2\\_na\\_na\\_SRR2009676\\_1.fastq.trimmed.fastq.gz'\n",
       "\\item[SRR2009677] '../FACS/salmon\\_bootstrap/rna\\_pearson\\_x2\\_na\\_na\\_SRR2009677\\_1.fastq.trimmed.fastq.gz'\n",
       "\\end{description*}\n"
      ],
      "text/markdown": [
       "SRR2009674\n",
       ":   '../FACS/salmon_bootstrap/rna_pearson_x1_na_na_SRR2009674_1.fastq.trimmed.fastq.gz'SRR2009675\n",
       ":   '../FACS/salmon_bootstrap/rna_pearson_x1_na_na_SRR2009675_1.fastq.trimmed.fastq.gz'SRR2009676\n",
       ":   '../FACS/salmon_bootstrap/rna_pearson_x2_na_na_SRR2009676_1.fastq.trimmed.fastq.gz'SRR2009677\n",
       ":   '../FACS/salmon_bootstrap/rna_pearson_x2_na_na_SRR2009677_1.fastq.trimmed.fastq.gz'\n",
       "\n"
      ],
      "text/plain": [
       "                                                                         SRR2009674 \n",
       "\"../FACS/salmon_bootstrap/rna_pearson_x1_na_na_SRR2009674_1.fastq.trimmed.fastq.gz\" \n",
       "                                                                         SRR2009675 \n",
       "\"../FACS/salmon_bootstrap/rna_pearson_x1_na_na_SRR2009675_1.fastq.trimmed.fastq.gz\" \n",
       "                                                                         SRR2009676 \n",
       "\"../FACS/salmon_bootstrap/rna_pearson_x2_na_na_SRR2009676_1.fastq.trimmed.fastq.gz\" \n",
       "                                                                         SRR2009677 \n",
       "\"../FACS/salmon_bootstrap/rna_pearson_x2_na_na_SRR2009677_1.fastq.trimmed.fastq.gz\" "
      ]
     },
     "metadata": {},
     "output_type": "display_data"
    }
   ],
   "source": [
    "names(sf_dirs) = sf_dirs_samples\n",
    "sf_dirs"
   ]
  },
  {
   "cell_type": "code",
   "execution_count": 16,
   "metadata": {},
   "outputs": [],
   "source": [
    "summarydata$sample <- rownames(summarydata)"
   ]
  },
  {
   "cell_type": "code",
   "execution_count": 17,
   "metadata": {},
   "outputs": [],
   "source": [
    "summarydata$path <- sf_dirs"
   ]
  },
  {
   "cell_type": "code",
   "execution_count": 19,
   "metadata": {},
   "outputs": [],
   "source": [
    "design <- ~ sampletype"
   ]
  },
  {
   "cell_type": "markdown",
   "metadata": {},
   "source": [
    "Sleuth was used to process samples: "
   ]
  },
  {
   "cell_type": "code",
   "execution_count": null,
   "metadata": {},
   "outputs": [],
   "source": [
    "so <- sleuth_prep(summarydata, full_model = design, read_bootstrap_tpm = TRUE, extra_bootstrap_summary = TRUE)"
   ]
  },
  {
   "cell_type": "code",
   "execution_count": null,
   "metadata": {},
   "outputs": [],
   "source": [
    "so2 = sleuth_fit(so)"
   ]
  },
  {
   "cell_type": "markdown",
   "metadata": {},
   "source": [
    "TPM values were saved: "
   ]
  },
  {
   "cell_type": "code",
   "execution_count": null,
   "metadata": {},
   "outputs": [],
   "source": [
    "sleuth_matrix = sleuth_to_matrix(so2, \"obs_norm\", \"tpm\")\n",
    "sleuth_df = data.frame(sleuth_matrix)\n",
    "write.csv(sleuth_df, \"../FACS/sleuth_df.csv\")"
   ]
  },
  {
   "cell_type": "markdown",
   "metadata": {},
   "source": [
    "## 2.2 Transcripts to genes"
   ]
  },
  {
   "cell_type": "code",
   "execution_count": 1,
   "metadata": {},
   "outputs": [],
   "source": [
    "sleuth_df = read.csv(\"/hydra/FACS/sleuth_df.csv\")"
   ]
  },
  {
   "cell_type": "markdown",
   "metadata": {},
   "source": [
    "The table contains transcript IDs as rows and sample names as columns:"
   ]
  },
  {
   "cell_type": "code",
   "execution_count": 2,
   "metadata": {},
   "outputs": [
    {
     "data": {
      "text/html": [
       "<table class=\"dataframe\">\n",
       "<caption>A data.frame: 6 × 20</caption>\n",
       "<thead>\n",
       "\t<tr><th></th><th scope=col>X</th><th scope=col>oenalx1</th><th scope=col>oenalx2</th><th scope=col>oenalxins</th><th scope=col>SRR1302023</th><th scope=col>SRR1302024</th><th scope=col>SRR1302025</th><th scope=col>SRR1302026</th><th scope=col>SRR2009674</th><th scope=col>SRR2009675</th><th scope=col>SRR2009676</th><th scope=col>SRR2009677</th><th scope=col>SRR2407874</th><th scope=col>SRR2407875</th><th scope=col>SRR2407876</th><th scope=col>SRR2407877</th><th scope=col>SRR2407878</th><th scope=col>SRR2407879</th><th scope=col>SRR2407880</th><th scope=col>SRR2407881</th></tr>\n",
       "\t<tr><th></th><th scope=col>&lt;chr&gt;</th><th scope=col>&lt;dbl&gt;</th><th scope=col>&lt;dbl&gt;</th><th scope=col>&lt;dbl&gt;</th><th scope=col>&lt;dbl&gt;</th><th scope=col>&lt;dbl&gt;</th><th scope=col>&lt;dbl&gt;</th><th scope=col>&lt;dbl&gt;</th><th scope=col>&lt;dbl&gt;</th><th scope=col>&lt;dbl&gt;</th><th scope=col>&lt;dbl&gt;</th><th scope=col>&lt;dbl&gt;</th><th scope=col>&lt;dbl&gt;</th><th scope=col>&lt;dbl&gt;</th><th scope=col>&lt;dbl&gt;</th><th scope=col>&lt;dbl&gt;</th><th scope=col>&lt;dbl&gt;</th><th scope=col>&lt;dbl&gt;</th><th scope=col>&lt;dbl&gt;</th><th scope=col>&lt;dbl&gt;</th></tr>\n",
       "</thead>\n",
       "<tbody>\n",
       "\t<tr><th scope=row>1</th><td>MSTRG.1.2    </td><td>8.2809785</td><td>17.3345828</td><td> 6.2341117</td><td>1.987248</td><td>0.4025658</td><td> 1.4679588</td><td> 0.4341099</td><td>2.369642</td><td>1.403415</td><td> 5.336480</td><td> 3.266755</td><td>0.000000</td><td>1.035979</td><td> 0.0000000</td><td>0.0000000</td><td> 0.000000</td><td>0.000000</td><td> 0.0000000</td><td>0.000000</td></tr>\n",
       "\t<tr><th scope=row>2</th><td>MSTRG.1.3    </td><td>0.0000000</td><td> 0.0000000</td><td> 0.4596998</td><td>0.000000</td><td>0.0000000</td><td> 0.0000000</td><td> 0.1097060</td><td>0.000000</td><td>0.000000</td><td> 0.000000</td><td> 0.000000</td><td>0.000000</td><td>0.000000</td><td> 0.0000000</td><td>0.0000000</td><td> 0.000000</td><td>0.000000</td><td> 0.2709511</td><td>0.000000</td></tr>\n",
       "\t<tr><th scope=row>3</th><td>MSTRG.10.1   </td><td>0.6112433</td><td> 1.0445691</td><td> 0.0000000</td><td>0.910830</td><td>2.5560896</td><td> 0.7399325</td><td> 1.3662308</td><td>1.380931</td><td>1.184396</td><td> 1.413898</td><td> 1.717768</td><td>1.266333</td><td>1.600544</td><td> 0.8156264</td><td>0.5938287</td><td> 1.382147</td><td>0.000000</td><td> 0.5428738</td><td>0.000000</td></tr>\n",
       "\t<tr><th scope=row>4</th><td>MSTRG.100.2  </td><td>0.0000000</td><td> 0.0000000</td><td> 0.0000000</td><td>0.000000</td><td>5.3850583</td><td> 0.0000000</td><td> 0.0000000</td><td>0.000000</td><td>0.000000</td><td> 4.540264</td><td>10.043158</td><td>0.000000</td><td>0.000000</td><td>13.3110117</td><td>9.0888437</td><td> 0.000000</td><td>0.000000</td><td>13.7831643</td><td>0.000000</td></tr>\n",
       "\t<tr><th scope=row>5</th><td>MSTRG.1000.1 </td><td>0.2619087</td><td> 0.4005167</td><td> 0.0000000</td><td>0.000000</td><td>0.0000000</td><td> 0.0000000</td><td> 0.0000000</td><td>0.000000</td><td>0.000000</td><td> 0.000000</td><td> 0.000000</td><td>0.000000</td><td>0.000000</td><td> 0.0000000</td><td>0.0000000</td><td> 0.000000</td><td>0.000000</td><td> 0.0000000</td><td>0.000000</td></tr>\n",
       "\t<tr><th scope=row>6</th><td>MSTRG.10000.2</td><td>0.0000000</td><td> 2.2529292</td><td>29.9933825</td><td>4.311170</td><td>1.1437629</td><td>10.6575430</td><td>17.0171720</td><td>5.842181</td><td>6.223460</td><td>14.907304</td><td>17.279939</td><td>4.237024</td><td>3.111474</td><td> 0.0000000</td><td>0.0000000</td><td>12.600497</td><td>6.236188</td><td> 3.1978721</td><td>5.097174</td></tr>\n",
       "</tbody>\n",
       "</table>\n"
      ],
      "text/latex": [
       "A data.frame: 6 × 20\n",
       "\\begin{tabular}{r|llllllllllllllllllll}\n",
       "  & X & oenalx1 & oenalx2 & oenalxins & SRR1302023 & SRR1302024 & SRR1302025 & SRR1302026 & SRR2009674 & SRR2009675 & SRR2009676 & SRR2009677 & SRR2407874 & SRR2407875 & SRR2407876 & SRR2407877 & SRR2407878 & SRR2407879 & SRR2407880 & SRR2407881\\\\\n",
       "  & <chr> & <dbl> & <dbl> & <dbl> & <dbl> & <dbl> & <dbl> & <dbl> & <dbl> & <dbl> & <dbl> & <dbl> & <dbl> & <dbl> & <dbl> & <dbl> & <dbl> & <dbl> & <dbl> & <dbl>\\\\\n",
       "\\hline\n",
       "\t1 & MSTRG.1.2     & 8.2809785 & 17.3345828 &  6.2341117 & 1.987248 & 0.4025658 &  1.4679588 &  0.4341099 & 2.369642 & 1.403415 &  5.336480 &  3.266755 & 0.000000 & 1.035979 &  0.0000000 & 0.0000000 &  0.000000 & 0.000000 &  0.0000000 & 0.000000\\\\\n",
       "\t2 & MSTRG.1.3     & 0.0000000 &  0.0000000 &  0.4596998 & 0.000000 & 0.0000000 &  0.0000000 &  0.1097060 & 0.000000 & 0.000000 &  0.000000 &  0.000000 & 0.000000 & 0.000000 &  0.0000000 & 0.0000000 &  0.000000 & 0.000000 &  0.2709511 & 0.000000\\\\\n",
       "\t3 & MSTRG.10.1    & 0.6112433 &  1.0445691 &  0.0000000 & 0.910830 & 2.5560896 &  0.7399325 &  1.3662308 & 1.380931 & 1.184396 &  1.413898 &  1.717768 & 1.266333 & 1.600544 &  0.8156264 & 0.5938287 &  1.382147 & 0.000000 &  0.5428738 & 0.000000\\\\\n",
       "\t4 & MSTRG.100.2   & 0.0000000 &  0.0000000 &  0.0000000 & 0.000000 & 5.3850583 &  0.0000000 &  0.0000000 & 0.000000 & 0.000000 &  4.540264 & 10.043158 & 0.000000 & 0.000000 & 13.3110117 & 9.0888437 &  0.000000 & 0.000000 & 13.7831643 & 0.000000\\\\\n",
       "\t5 & MSTRG.1000.1  & 0.2619087 &  0.4005167 &  0.0000000 & 0.000000 & 0.0000000 &  0.0000000 &  0.0000000 & 0.000000 & 0.000000 &  0.000000 &  0.000000 & 0.000000 & 0.000000 &  0.0000000 & 0.0000000 &  0.000000 & 0.000000 &  0.0000000 & 0.000000\\\\\n",
       "\t6 & MSTRG.10000.2 & 0.0000000 &  2.2529292 & 29.9933825 & 4.311170 & 1.1437629 & 10.6575430 & 17.0171720 & 5.842181 & 6.223460 & 14.907304 & 17.279939 & 4.237024 & 3.111474 &  0.0000000 & 0.0000000 & 12.600497 & 6.236188 &  3.1978721 & 5.097174\\\\\n",
       "\\end{tabular}\n"
      ],
      "text/markdown": [
       "\n",
       "A data.frame: 6 × 20\n",
       "\n",
       "| <!--/--> | X &lt;chr&gt; | oenalx1 &lt;dbl&gt; | oenalx2 &lt;dbl&gt; | oenalxins &lt;dbl&gt; | SRR1302023 &lt;dbl&gt; | SRR1302024 &lt;dbl&gt; | SRR1302025 &lt;dbl&gt; | SRR1302026 &lt;dbl&gt; | SRR2009674 &lt;dbl&gt; | SRR2009675 &lt;dbl&gt; | SRR2009676 &lt;dbl&gt; | SRR2009677 &lt;dbl&gt; | SRR2407874 &lt;dbl&gt; | SRR2407875 &lt;dbl&gt; | SRR2407876 &lt;dbl&gt; | SRR2407877 &lt;dbl&gt; | SRR2407878 &lt;dbl&gt; | SRR2407879 &lt;dbl&gt; | SRR2407880 &lt;dbl&gt; | SRR2407881 &lt;dbl&gt; |\n",
       "|---|---|---|---|---|---|---|---|---|---|---|---|---|---|---|---|---|---|---|---|---|\n",
       "| 1 | MSTRG.1.2     | 8.2809785 | 17.3345828 |  6.2341117 | 1.987248 | 0.4025658 |  1.4679588 |  0.4341099 | 2.369642 | 1.403415 |  5.336480 |  3.266755 | 0.000000 | 1.035979 |  0.0000000 | 0.0000000 |  0.000000 | 0.000000 |  0.0000000 | 0.000000 |\n",
       "| 2 | MSTRG.1.3     | 0.0000000 |  0.0000000 |  0.4596998 | 0.000000 | 0.0000000 |  0.0000000 |  0.1097060 | 0.000000 | 0.000000 |  0.000000 |  0.000000 | 0.000000 | 0.000000 |  0.0000000 | 0.0000000 |  0.000000 | 0.000000 |  0.2709511 | 0.000000 |\n",
       "| 3 | MSTRG.10.1    | 0.6112433 |  1.0445691 |  0.0000000 | 0.910830 | 2.5560896 |  0.7399325 |  1.3662308 | 1.380931 | 1.184396 |  1.413898 |  1.717768 | 1.266333 | 1.600544 |  0.8156264 | 0.5938287 |  1.382147 | 0.000000 |  0.5428738 | 0.000000 |\n",
       "| 4 | MSTRG.100.2   | 0.0000000 |  0.0000000 |  0.0000000 | 0.000000 | 5.3850583 |  0.0000000 |  0.0000000 | 0.000000 | 0.000000 |  4.540264 | 10.043158 | 0.000000 | 0.000000 | 13.3110117 | 9.0888437 |  0.000000 | 0.000000 | 13.7831643 | 0.000000 |\n",
       "| 5 | MSTRG.1000.1  | 0.2619087 |  0.4005167 |  0.0000000 | 0.000000 | 0.0000000 |  0.0000000 |  0.0000000 | 0.000000 | 0.000000 |  0.000000 |  0.000000 | 0.000000 | 0.000000 |  0.0000000 | 0.0000000 |  0.000000 | 0.000000 |  0.0000000 | 0.000000 |\n",
       "| 6 | MSTRG.10000.2 | 0.0000000 |  2.2529292 | 29.9933825 | 4.311170 | 1.1437629 | 10.6575430 | 17.0171720 | 5.842181 | 6.223460 | 14.907304 | 17.279939 | 4.237024 | 3.111474 |  0.0000000 | 0.0000000 | 12.600497 | 6.236188 |  3.1978721 | 5.097174 |\n",
       "\n"
      ],
      "text/plain": [
       "  X             oenalx1   oenalx2    oenalxins  SRR1302023 SRR1302024\n",
       "1 MSTRG.1.2     8.2809785 17.3345828  6.2341117 1.987248   0.4025658 \n",
       "2 MSTRG.1.3     0.0000000  0.0000000  0.4596998 0.000000   0.0000000 \n",
       "3 MSTRG.10.1    0.6112433  1.0445691  0.0000000 0.910830   2.5560896 \n",
       "4 MSTRG.100.2   0.0000000  0.0000000  0.0000000 0.000000   5.3850583 \n",
       "5 MSTRG.1000.1  0.2619087  0.4005167  0.0000000 0.000000   0.0000000 \n",
       "6 MSTRG.10000.2 0.0000000  2.2529292 29.9933825 4.311170   1.1437629 \n",
       "  SRR1302025 SRR1302026 SRR2009674 SRR2009675 SRR2009676 SRR2009677 SRR2407874\n",
       "1  1.4679588  0.4341099 2.369642   1.403415    5.336480   3.266755  0.000000  \n",
       "2  0.0000000  0.1097060 0.000000   0.000000    0.000000   0.000000  0.000000  \n",
       "3  0.7399325  1.3662308 1.380931   1.184396    1.413898   1.717768  1.266333  \n",
       "4  0.0000000  0.0000000 0.000000   0.000000    4.540264  10.043158  0.000000  \n",
       "5  0.0000000  0.0000000 0.000000   0.000000    0.000000   0.000000  0.000000  \n",
       "6 10.6575430 17.0171720 5.842181   6.223460   14.907304  17.279939  4.237024  \n",
       "  SRR2407875 SRR2407876 SRR2407877 SRR2407878 SRR2407879 SRR2407880 SRR2407881\n",
       "1 1.035979    0.0000000 0.0000000   0.000000  0.000000    0.0000000 0.000000  \n",
       "2 0.000000    0.0000000 0.0000000   0.000000  0.000000    0.2709511 0.000000  \n",
       "3 1.600544    0.8156264 0.5938287   1.382147  0.000000    0.5428738 0.000000  \n",
       "4 0.000000   13.3110117 9.0888437   0.000000  0.000000   13.7831643 0.000000  \n",
       "5 0.000000    0.0000000 0.0000000   0.000000  0.000000    0.0000000 0.000000  \n",
       "6 3.111474    0.0000000 0.0000000  12.600497  6.236188    3.1978721 5.097174  "
      ]
     },
     "metadata": {},
     "output_type": "display_data"
    }
   ],
   "source": [
    "head(sleuth_df)"
   ]
  },
  {
   "cell_type": "code",
   "execution_count": 121,
   "metadata": {},
   "outputs": [
    {
     "data": {
      "text/html": [
       "90773"
      ],
      "text/latex": [
       "90773"
      ],
      "text/markdown": [
       "90773"
      ],
      "text/plain": [
       "[1] 90773"
      ]
     },
     "metadata": {},
     "output_type": "display_data"
    }
   ],
   "source": [
    "nrow(sleuth_df)"
   ]
  },
  {
   "cell_type": "code",
   "execution_count": 22,
   "metadata": {},
   "outputs": [],
   "source": [
    "gffcmp = read.table(\"../sexual_genome_annotation_files/ncrna_Neiro/gffcmp.stringtie_merged.gtf.tmap\", head=TRUE)"
   ]
  },
  {
   "cell_type": "code",
   "execution_count": 24,
   "metadata": {},
   "outputs": [
    {
     "data": {
      "text/html": [
       "<table>\n",
       "<caption>A data.frame: 6 × 12</caption>\n",
       "<thead>\n",
       "\t<tr><th></th><th scope=col>ref_gene_id</th><th scope=col>ref_id</th><th scope=col>class_code</th><th scope=col>qry_gene_id</th><th scope=col>qry_id</th><th scope=col>num_exons</th><th scope=col>FPKM</th><th scope=col>TPM</th><th scope=col>cov</th><th scope=col>len</th><th scope=col>major_iso_id</th><th scope=col>ref_match_len</th></tr>\n",
       "\t<tr><th></th><th scope=col>&lt;fct&gt;</th><th scope=col>&lt;fct&gt;</th><th scope=col>&lt;fct&gt;</th><th scope=col>&lt;fct&gt;</th><th scope=col>&lt;fct&gt;</th><th scope=col>&lt;int&gt;</th><th scope=col>&lt;dbl&gt;</th><th scope=col>&lt;dbl&gt;</th><th scope=col>&lt;dbl&gt;</th><th scope=col>&lt;int&gt;</th><th scope=col>&lt;fct&gt;</th><th scope=col>&lt;fct&gt;</th></tr>\n",
       "</thead>\n",
       "<tbody>\n",
       "\t<tr><th scope=row>1</th><td>SMESG000026673.1</td><td>SMEST026673001.1</td><td>=</td><td>MSTRG.1</td><td>SMEST026673001.1</td><td>2</td><td>0</td><td>0</td><td>0</td><td>1072</td><td>SMEST026673001.1</td><td>553</td></tr>\n",
       "\t<tr><th scope=row>2</th><td>SMESG000026673.1</td><td>SMEST026673001.1</td><td>m</td><td>MSTRG.1</td><td>MSTRG.1.2       </td><td>1</td><td>0</td><td>0</td><td>0</td><td>1042</td><td>SMEST026673001.1</td><td>553</td></tr>\n",
       "\t<tr><th scope=row>3</th><td>SMESG000026673.1</td><td>SMEST026673001.1</td><td>o</td><td>MSTRG.1</td><td>MSTRG.1.3       </td><td>2</td><td>0</td><td>0</td><td>0</td><td> 858</td><td>SMEST026673001.1</td><td>553</td></tr>\n",
       "\t<tr><th scope=row>4</th><td>-               </td><td>-               </td><td>u</td><td>MSTRG.2</td><td>MSTRG.2.1       </td><td>2</td><td>0</td><td>0</td><td>0</td><td>1569</td><td>MSTRG.2.1       </td><td>-  </td></tr>\n",
       "\t<tr><th scope=row>5</th><td>-               </td><td>-               </td><td>u</td><td>MSTRG.2</td><td>MSTRG.2.2       </td><td>3</td><td>0</td><td>0</td><td>0</td><td>1474</td><td>MSTRG.2.1       </td><td>-  </td></tr>\n",
       "\t<tr><th scope=row>6</th><td>-               </td><td>-               </td><td>u</td><td>MSTRG.3</td><td>MSTRG.3.1       </td><td>2</td><td>0</td><td>0</td><td>0</td><td> 320</td><td>MSTRG.3.1       </td><td>-  </td></tr>\n",
       "</tbody>\n",
       "</table>\n"
      ],
      "text/latex": [
       "A data.frame: 6 × 12\n",
       "\\begin{tabular}{r|llllllllllll}\n",
       "  & ref\\_gene\\_id & ref\\_id & class\\_code & qry\\_gene\\_id & qry\\_id & num\\_exons & FPKM & TPM & cov & len & major\\_iso\\_id & ref\\_match\\_len\\\\\n",
       "  & <fct> & <fct> & <fct> & <fct> & <fct> & <int> & <dbl> & <dbl> & <dbl> & <int> & <fct> & <fct>\\\\\n",
       "\\hline\n",
       "\t1 & SMESG000026673.1 & SMEST026673001.1 & = & MSTRG.1 & SMEST026673001.1 & 2 & 0 & 0 & 0 & 1072 & SMEST026673001.1 & 553\\\\\n",
       "\t2 & SMESG000026673.1 & SMEST026673001.1 & m & MSTRG.1 & MSTRG.1.2        & 1 & 0 & 0 & 0 & 1042 & SMEST026673001.1 & 553\\\\\n",
       "\t3 & SMESG000026673.1 & SMEST026673001.1 & o & MSTRG.1 & MSTRG.1.3        & 2 & 0 & 0 & 0 &  858 & SMEST026673001.1 & 553\\\\\n",
       "\t4 & -                & -                & u & MSTRG.2 & MSTRG.2.1        & 2 & 0 & 0 & 0 & 1569 & MSTRG.2.1        & -  \\\\\n",
       "\t5 & -                & -                & u & MSTRG.2 & MSTRG.2.2        & 3 & 0 & 0 & 0 & 1474 & MSTRG.2.1        & -  \\\\\n",
       "\t6 & -                & -                & u & MSTRG.3 & MSTRG.3.1        & 2 & 0 & 0 & 0 &  320 & MSTRG.3.1        & -  \\\\\n",
       "\\end{tabular}\n"
      ],
      "text/markdown": [
       "\n",
       "A data.frame: 6 × 12\n",
       "\n",
       "| <!--/--> | ref_gene_id &lt;fct&gt; | ref_id &lt;fct&gt; | class_code &lt;fct&gt; | qry_gene_id &lt;fct&gt; | qry_id &lt;fct&gt; | num_exons &lt;int&gt; | FPKM &lt;dbl&gt; | TPM &lt;dbl&gt; | cov &lt;dbl&gt; | len &lt;int&gt; | major_iso_id &lt;fct&gt; | ref_match_len &lt;fct&gt; |\n",
       "|---|---|---|---|---|---|---|---|---|---|---|---|---|\n",
       "| 1 | SMESG000026673.1 | SMEST026673001.1 | = | MSTRG.1 | SMEST026673001.1 | 2 | 0 | 0 | 0 | 1072 | SMEST026673001.1 | 553 |\n",
       "| 2 | SMESG000026673.1 | SMEST026673001.1 | m | MSTRG.1 | MSTRG.1.2        | 1 | 0 | 0 | 0 | 1042 | SMEST026673001.1 | 553 |\n",
       "| 3 | SMESG000026673.1 | SMEST026673001.1 | o | MSTRG.1 | MSTRG.1.3        | 2 | 0 | 0 | 0 |  858 | SMEST026673001.1 | 553 |\n",
       "| 4 | -                | -                | u | MSTRG.2 | MSTRG.2.1        | 2 | 0 | 0 | 0 | 1569 | MSTRG.2.1        | -   |\n",
       "| 5 | -                | -                | u | MSTRG.2 | MSTRG.2.2        | 3 | 0 | 0 | 0 | 1474 | MSTRG.2.1        | -   |\n",
       "| 6 | -                | -                | u | MSTRG.3 | MSTRG.3.1        | 2 | 0 | 0 | 0 |  320 | MSTRG.3.1        | -   |\n",
       "\n"
      ],
      "text/plain": [
       "  ref_gene_id      ref_id           class_code qry_gene_id qry_id          \n",
       "1 SMESG000026673.1 SMEST026673001.1 =          MSTRG.1     SMEST026673001.1\n",
       "2 SMESG000026673.1 SMEST026673001.1 m          MSTRG.1     MSTRG.1.2       \n",
       "3 SMESG000026673.1 SMEST026673001.1 o          MSTRG.1     MSTRG.1.3       \n",
       "4 -                -                u          MSTRG.2     MSTRG.2.1       \n",
       "5 -                -                u          MSTRG.2     MSTRG.2.2       \n",
       "6 -                -                u          MSTRG.3     MSTRG.3.1       \n",
       "  num_exons FPKM TPM cov len  major_iso_id     ref_match_len\n",
       "1 2         0    0   0   1072 SMEST026673001.1 553          \n",
       "2 1         0    0   0   1042 SMEST026673001.1 553          \n",
       "3 2         0    0   0    858 SMEST026673001.1 553          \n",
       "4 2         0    0   0   1569 MSTRG.2.1        -            \n",
       "5 3         0    0   0   1474 MSTRG.2.1        -            \n",
       "6 2         0    0   0    320 MSTRG.3.1        -            "
      ]
     },
     "metadata": {},
     "output_type": "display_data"
    }
   ],
   "source": [
    "head(gffcmp)"
   ]
  },
  {
   "cell_type": "markdown",
   "metadata": {},
   "source": [
    "The transcripts were assigned to genes: "
   ]
  },
  {
   "cell_type": "code",
   "execution_count": 109,
   "metadata": {},
   "outputs": [],
   "source": [
    "sleuth_gene = sleuth_df"
   ]
  },
  {
   "cell_type": "code",
   "execution_count": null,
   "metadata": {},
   "outputs": [],
   "source": [
    "for (i in 1:nrow(sleuth_gene)){\n",
    "    subset_gene = subset(gffcmp ,gffcmp$qry_id == toString(sleuth_gene$X[i]))\n",
    "    sleuth_gene[i] = toString(subset_gene$qry_gene_id[1])\n",
    "}\n",
    "write.csv(sleuth_gene, \"../FACS/sleuth_gene.csv\")"
   ]
  },
  {
   "cell_type": "code",
   "execution_count": 3,
   "metadata": {},
   "outputs": [],
   "source": [
    "sleuth_gene = read.csv(\"/hydra/FACS/sleuth_gene.csv\")"
   ]
  },
  {
   "cell_type": "markdown",
   "metadata": {},
   "source": [
    "# FINNISHED"
   ]
  }
 ],
 "metadata": {
  "kernelspec": {
   "display_name": "R",
   "language": "R",
   "name": "ir"
  },
  "language_info": {
   "codemirror_mode": "r",
   "file_extension": ".r",
   "mimetype": "text/x-r-source",
   "name": "R",
   "pygments_lexer": "r",
   "version": "4.0.5"
  }
 },
 "nbformat": 4,
 "nbformat_minor": 2
}
