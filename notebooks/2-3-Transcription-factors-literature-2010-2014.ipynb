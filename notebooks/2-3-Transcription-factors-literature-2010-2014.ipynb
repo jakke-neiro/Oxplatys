{
 "cells": [
  {
   "cell_type": "markdown",
   "id": "5f590f93",
   "metadata": {},
   "source": [
    "# 2-3-Transcription-factors-literature-2010-2014\n",
    "\n",
    "Jakke Neiro$^1$\n",
    "\n",
    "1. Aboobaker laboratory, Department of Zoology, University of Oxford"
   ]
  },
  {
   "cell_type": "markdown",
   "id": "cfb21c75",
   "metadata": {},
   "source": [
    "## Contents of notebook\n",
    "* 1. Introduction\n",
    "* 2. 2010\n",
    "    * 2.1 The TALE class homeobox gene Smed-prep defines the anterior compartment for head regeneration\n",
    "    * 2.2 The Zn Finger protein Iguana impacts Hedgehog signaling by promoting ciliogenesis\n",
    "    * 2.3 A planarian p53 homolog regulates proliferation and self-renewal in adult stem cell lineages\n",
    "* 3. 2011\n",
    "    * 3.1 The head-regeneration transcriptome of the planarian Schmidtea mediterranea\n",
    "    * 3.2 A regulatory program for excretory system regeneration in planarians\n",
    "    * 3.3 dlx and sp6-9 Control optic cup regeneration in a prototypic eye\n",
    "    * 3.4 Clonogenic neoblasts are pluripotent adult stem cells that underlie planarian regeneration\n",
    "* 4. 2012\n",
    "    * 4.1 Evolutionarily ancient association of the FoxJ1 transcription factor with the motile ciliogenic program\n",
    "    * 4.2 A molecular wound response program associated with regeneration initiation in planarians\n",
    "    * 4.3 Genetic regulators of a pluripotent adult stem cell system in planarians identified by RNAi and clonal analysis\n",
    "    * 4.4 Transcriptome analysis of the planarian eye identifies ovo as a specific regulator of eye regeneration\n",
    "    * 4.5 Gene expression of pluripotency determinants is conserved between mammalian and planarian stem cells\n",
    "    * 4.6 An RNAi screen reveals intestinal regulators of branching morphogenesis, differentiation, and stem cell proliferation in planarians\n",
    "* 5. 2013\n",
    "    * 5.1 Genome-wide analysis of the bHLH gene family in planarians identifies factors required for adult neurogenesis and neuronal regeneration\n",
    "    * 5.2 PBX/extradenticle is required to re-establish axial structures and polarity during planarian regeneration\n",
    "    * 5.3 pbx is required for pole and eye regeneration in planarians\n",
    "    * 5.4 Transcription factors lhx1/5-1 and pitx are required for the maintenance and regeneration of serotonergic neurons in planarians\n",
    "    * 5.5 A Pitx transcription factor controls the establishment and maintenance of the serotonergic lineage in planarians\n",
    "    * 5.6 A sex-specific transcription factor controls male identity in a simultaneous hermaphrodite\n",
    "* 6. 2014\n",
    "    * 6.1 A forkhead Transcription Factor Is Wound-Induced at the Planarian Midline and Required for Anterior Pole Regeneration\n",
    "    * 6.2 Selective amputation of the pharynx identifies a FoxA-dependent regeneration program in planaria\n",
    "    * 6.3 zic-1 Expression in Planarian neoblasts after injury controls anterior pole regeneration\n",
    "    * 6.4 Neoblast specialization in regeneration of the planarian Schmidtea mediterranea\n",
    "    * 6.5 Neoblast specialization in regeneration of the planarian Schmidtea mediterranea\n",
    "    * 6.6 Single-cell analysis reveals functionally distinct classes within the planarian stem cell compartment.\n",
    "    * 6.7 COE Loss-of-Function Analysis Reveals a Genetic Program Underlying Maintenance and Regeneration of the Nervous System in Planarians\n",
    "    * 6.8 egr-4, a target of EGFR signaling, is required for the formation of the brain primordia and head regeneration in planarians"
   ]
  },
  {
   "cell_type": "markdown",
   "id": "1bb3d54c",
   "metadata": {},
   "source": [
    "## Files\n",
    "* Input: fasta files\n",
    "* Output: ID correspondence csv files"
   ]
  },
  {
   "cell_type": "markdown",
   "id": "3b136797",
   "metadata": {},
   "source": [
    "# 1 Introduction"
   ]
  },
  {
   "cell_type": "markdown",
   "id": "12aa186c",
   "metadata": {},
   "source": [
    "The planarian literature on transcription factors between 2010 and 2014 was reviewed and the correspondence between TFs described in the literature and TFs decribed in this study was established."
   ]
  },
  {
   "cell_type": "code",
   "execution_count": 10,
   "id": "78e7bf08",
   "metadata": {},
   "outputs": [],
   "source": [
    "import pandas as pd\n",
    "gffcmp = pd.read_csv(\"/hydra/sexual_genome_annotation_files/ncrna_Neiro/gffcmp.stringtie_merged.gtf.tmap\", sep=\"\\t\")\n",
    "gene2transcript = gffcmp.iloc[:,[0,3,4]]"
   ]
  },
  {
   "cell_type": "code",
   "execution_count": 11,
   "id": "d61e41ee",
   "metadata": {},
   "outputs": [],
   "source": [
    "def tf_table(blast_table, reference_name, dataframe):\n",
    "    transcript_id = []\n",
    "    gene_id_rink = []\n",
    "    gene_id_neiro = []\n",
    "    original_id = []\n",
    "    original_name = []\n",
    "    for i in range(len(blast_table)):\n",
    "        t_id = blast_table.iloc[i,1]\n",
    "        o_id = blast_table.iloc[i,0]\n",
    "        transcript_id.append(t_id)\n",
    "        gene_id_rink.append(gene2transcript[gene2transcript[\"qry_id\"] == t_id].iloc[0,0])\n",
    "        gene_id_neiro.append(gene2transcript[gene2transcript[\"qry_id\"] == t_id].iloc[0,1])\n",
    "        original_id.append(o_id.rpartition(\".\")[0])\n",
    "        original_name.append(dataframe[dataframe[\"ID\"] == o_id].iloc[0,1])\n",
    "    source = [reference_name] * len(original_name)\n",
    "    TF_table = pd.DataFrame({\"Transcript.ID\": transcript_id, \"Rink.ID\": gene_id_rink, \"Neiro.ID\": gene_id_neiro, \"Original.ID\": original_id, \"Original.name\": original_name, \"Source\": source})\n",
    "    return TF_table"
   ]
  },
  {
   "cell_type": "markdown",
   "id": "8b21e4d3",
   "metadata": {},
   "source": [
    "# 2. 2010"
   ]
  },
  {
   "cell_type": "markdown",
   "id": "3764b18d",
   "metadata": {},
   "source": [
    "## 2.1 The TALE class homeobox gene Smed-prep defines the anterior compartment for head regeneration\n",
    "Felix, D.A. and Aboobaker, A.A., 2010. The TALE class homeobox gene Smed-prep defines the anterior compartment for head regeneration. PLoS Genet, 6(4), p.e1000915.\n"
   ]
  },
  {
   "cell_type": "code",
   "execution_count": 14,
   "id": "6176df4b",
   "metadata": {},
   "outputs": [
    {
     "name": "stdout",
     "output_type": "stream",
     "text": [
      ">GU290186.1 Schmidtea mediterranea strain AAA-1 PREP homeodomain-like protein (prep) mRNA, complete cds\n"
     ]
    }
   ],
   "source": [
    "%%bash\n",
    "cd /hydra/TF_data\n",
    "grep \">\" Felix2010.fa"
   ]
  },
  {
   "cell_type": "code",
   "execution_count": 7,
   "id": "9db79efa",
   "metadata": {},
   "outputs": [],
   "source": [
    "Felix2010 = pd.DataFrame({\"ID\": [\"GU290186.1\"], \"Name\": [\"Prep\"]})"
   ]
  },
  {
   "cell_type": "code",
   "execution_count": null,
   "id": "1e76e6e9",
   "metadata": {},
   "outputs": [],
   "source": [
    "%%bash\n",
    "cd /hydra/TF_data/\n",
    "blastn -db ~/FACS/stringtie_transcripts.fa -query Felix2010.fa -out blast_Felix2010 -outfmt 6"
   ]
  },
  {
   "cell_type": "code",
   "execution_count": 5,
   "id": "1a706a4a",
   "metadata": {},
   "outputs": [],
   "source": [
    "import pandas as pd\n",
    "blast_Felix2010 = pd.read_csv(\"/hydra/TF_data/blast_Felix2010\", sep=\"\\t\", header=None)\n",
    "blast_Felix2010.columns = [\"Seqid\", \"qid\", \"Per\", \"Len\", \"Mis\", \"Gap\", \"Startq\", \"Endq\", \"Starts\", \"Ends\", \"E\", \"Bit\"]\n",
    "blast_Felix2010 = blast_Felix2010.loc[blast_Felix2010.groupby(\"Seqid\")[\"Bit\"].idxmax()]"
   ]
  },
  {
   "cell_type": "code",
   "execution_count": 8,
   "id": "b1e0977a",
   "metadata": {},
   "outputs": [],
   "source": [
    "TF_table_Felix2010= tf_table(blast_Felix2010, \"Felix et al. (2010)\", Felix2010)"
   ]
  },
  {
   "cell_type": "code",
   "execution_count": null,
   "id": "e058a5c2",
   "metadata": {},
   "outputs": [],
   "source": [
    "TF_table_Felix2010.to_csv(\"/hydra/TF_data/TF_Felix2010.csv\", index=False)"
   ]
  },
  {
   "cell_type": "code",
   "execution_count": 10,
   "id": "514f9a9c",
   "metadata": {},
   "outputs": [
    {
     "data": {
      "text/html": [
       "<div>\n",
       "<style scoped>\n",
       "    .dataframe tbody tr th:only-of-type {\n",
       "        vertical-align: middle;\n",
       "    }\n",
       "\n",
       "    .dataframe tbody tr th {\n",
       "        vertical-align: top;\n",
       "    }\n",
       "\n",
       "    .dataframe thead th {\n",
       "        text-align: right;\n",
       "    }\n",
       "</style>\n",
       "<table border=\"1\" class=\"dataframe\">\n",
       "  <thead>\n",
       "    <tr style=\"text-align: right;\">\n",
       "      <th></th>\n",
       "      <th>Transcript.ID</th>\n",
       "      <th>Rink.ID</th>\n",
       "      <th>Neiro.ID</th>\n",
       "      <th>Original.ID</th>\n",
       "      <th>Original.name</th>\n",
       "      <th>Source</th>\n",
       "    </tr>\n",
       "  </thead>\n",
       "  <tbody>\n",
       "    <tr>\n",
       "      <th>0</th>\n",
       "      <td>SMEST013307001.1</td>\n",
       "      <td>SMESG000013307.1</td>\n",
       "      <td>MSTRG.4755</td>\n",
       "      <td>GU290186</td>\n",
       "      <td>Prep</td>\n",
       "      <td>Felix et al. (2010)</td>\n",
       "    </tr>\n",
       "  </tbody>\n",
       "</table>\n",
       "</div>"
      ],
      "text/plain": [
       "      Transcript.ID           Rink.ID    Neiro.ID Original.ID Original.name  \\\n",
       "0  SMEST013307001.1  SMESG000013307.1  MSTRG.4755    GU290186          Prep   \n",
       "\n",
       "                Source  \n",
       "0  Felix et al. (2010)  "
      ]
     },
     "execution_count": 10,
     "metadata": {},
     "output_type": "execute_result"
    }
   ],
   "source": [
    "pd.read_csv(\"/hydra/TF_data/TF_Felix2010.csv\")"
   ]
  },
  {
   "cell_type": "markdown",
   "id": "1173342b",
   "metadata": {},
   "source": [
    "## 2.2 The Zn Finger protein Iguana impacts Hedgehog signaling by promoting ciliogenesis\n",
    "Glazer, A.M., Wilkinson, A.W., Backer, C.B., Lapan, S.W., Gutzman, J.H., Cheeseman, I.M. and Reddien, P.W., 2010. The Zn finger protein Iguana impacts Hedgehog signaling by promoting ciliogenesis. Developmental biology, 337(1), pp.148-156.\n",
    "\n",
    "The gene iguana was discovered in zebrafish as required for Hedgehog signaling, and encodes a novel Zn finger protein. RNA interference of Smed-iguana in the planarian S. mediterranea caused cilia loss and failure to regenerate new cilia, but did not cause defects similar to those observed in hedgehog(RNAi) animals.\n",
    "\n",
    "Similar results were obtained following inhibition of a gene encoding a Gli2-like protein, Smed-gli2-1 (Fig. 5A, B). The similar phenotypes caused by RNAi of hedgehog and gli2-1 indicates that tail formation is promoted by a Hedgehog signaling pathway similar to that of other organisms.\n",
    "\n",
    "* Smed-iguana sequence was obtained using 5’RACE (RLM-RACE, Ambion) and from the NB.10.6h cDNA. The NBE.7.10a RNAi construct was used for RNAi (Reddien et al., 2005). "
   ]
  },
  {
   "cell_type": "markdown",
   "id": "e185433c",
   "metadata": {},
   "source": [
    "## 2.3 A planarian p53 homolog regulates proliferation and self-renewal in adult stem cell lineages\n",
    "Pearson, B.J. and Alvarado, A.S., 2010. A planarian p53 homolog regulates proliferation and self-renewal in adult stem cell lineages. Development, 137(2), pp.213-221."
   ]
  },
  {
   "cell_type": "code",
   "execution_count": 2,
   "id": "6ee394a1",
   "metadata": {},
   "outputs": [
    {
     "name": "stdout",
     "output_type": "stream",
     "text": [
      ">ACN51391.1 SMED-P53 [Schmidtea mediterranea]\n"
     ]
    }
   ],
   "source": [
    "%%bash\n",
    "cd /hydra/TF_data\n",
    "grep \">\" Pearson2010.fa"
   ]
  },
  {
   "cell_type": "code",
   "execution_count": 4,
   "id": "8d18ef34",
   "metadata": {},
   "outputs": [],
   "source": [
    "import pandas as pd\n",
    "Pearson2010 = pd.DataFrame({\"ID\": [\"ACN51391.1\"], \"Name\": [\"p53\"]})"
   ]
  },
  {
   "cell_type": "code",
   "execution_count": 5,
   "id": "22df839c",
   "metadata": {},
   "outputs": [],
   "source": [
    "%%bash\n",
    "cd /hydra/TF_data/\n",
    "tblastn -db /hydra/FACS/stringtie_transcripts.fa -query Pearson2010.fa -out blast_Pearson2010 -outfmt 6"
   ]
  },
  {
   "cell_type": "code",
   "execution_count": 6,
   "id": "9f9ab9cb",
   "metadata": {},
   "outputs": [],
   "source": [
    "import pandas as pd\n",
    "blast_Pearson2010 = pd.read_csv(\"/hydra/TF_data/blast_Pearson2010\", sep=\"\\t\", header=None)\n",
    "blast_Pearson2010.columns = [\"Seqid\", \"qid\", \"Per\", \"Len\", \"Mis\", \"Gap\", \"Startq\", \"Endq\", \"Starts\", \"Ends\", \"E\", \"Bit\"]\n",
    "blast_Pearson2010 = blast_Pearson2010.loc[blast_Pearson2010.groupby(\"Seqid\")[\"Bit\"].idxmax()]"
   ]
  },
  {
   "cell_type": "code",
   "execution_count": 9,
   "id": "a1b8c648",
   "metadata": {},
   "outputs": [],
   "source": [
    "TF_table_Pearson2010= tf_table(blast_Pearson2010, \"Pearson and Sánchez Alvarado (2010)\", Pearson2010)"
   ]
  },
  {
   "cell_type": "code",
   "execution_count": 10,
   "id": "b8d23d23",
   "metadata": {},
   "outputs": [],
   "source": [
    "TF_table_Pearson2010.to_csv(\"/hydra/TF_data/TF_Pearson2010.csv\", index=False)"
   ]
  },
  {
   "cell_type": "code",
   "execution_count": 11,
   "id": "7d1a8853",
   "metadata": {},
   "outputs": [
    {
     "data": {
      "text/html": [
       "<div>\n",
       "<style scoped>\n",
       "    .dataframe tbody tr th:only-of-type {\n",
       "        vertical-align: middle;\n",
       "    }\n",
       "\n",
       "    .dataframe tbody tr th {\n",
       "        vertical-align: top;\n",
       "    }\n",
       "\n",
       "    .dataframe thead th {\n",
       "        text-align: right;\n",
       "    }\n",
       "</style>\n",
       "<table border=\"1\" class=\"dataframe\">\n",
       "  <thead>\n",
       "    <tr style=\"text-align: right;\">\n",
       "      <th></th>\n",
       "      <th>Transcript.ID</th>\n",
       "      <th>Rink.ID</th>\n",
       "      <th>Neiro.ID</th>\n",
       "      <th>Original.ID</th>\n",
       "      <th>Original.name</th>\n",
       "      <th>Source</th>\n",
       "    </tr>\n",
       "  </thead>\n",
       "  <tbody>\n",
       "    <tr>\n",
       "      <th>0</th>\n",
       "      <td>SMEST078256002.1</td>\n",
       "      <td>SMESG000078256.1</td>\n",
       "      <td>MSTRG.21524</td>\n",
       "      <td>ACN51391</td>\n",
       "      <td>p53</td>\n",
       "      <td>Pearson and Sánchez Alvarado (2010)</td>\n",
       "    </tr>\n",
       "  </tbody>\n",
       "</table>\n",
       "</div>"
      ],
      "text/plain": [
       "      Transcript.ID           Rink.ID     Neiro.ID Original.ID Original.name  \\\n",
       "0  SMEST078256002.1  SMESG000078256.1  MSTRG.21524    ACN51391           p53   \n",
       "\n",
       "                                Source  \n",
       "0  Pearson and Sánchez Alvarado (2010)  "
      ]
     },
     "execution_count": 11,
     "metadata": {},
     "output_type": "execute_result"
    }
   ],
   "source": [
    "pd.read_csv(\"/hydra/TF_data/TF_Pearson2010.csv\")"
   ]
  },
  {
   "cell_type": "markdown",
   "id": "c8fc9d0e",
   "metadata": {},
   "source": [
    "# 3. 2011"
   ]
  },
  {
   "cell_type": "markdown",
   "id": "fd20353d",
   "metadata": {},
   "source": [
    "## 3.1 The head-regeneration transcriptome of the planarian Schmidtea mediterranea\n",
    "Sandmann, T., Vogg, M.C., Owlarn, S., Boutros, M. and Bartscherer, K., 2011. The head-regeneration transcriptome of the planarian Schmidtea mediterranea. Genome biology, 12(8), pp.1-19."
   ]
  },
  {
   "cell_type": "code",
   "execution_count": 12,
   "id": "c654c3c3",
   "metadata": {},
   "outputs": [
    {
     "name": "stdout",
     "output_type": "stream",
     "text": [
      ">JF720854.1 Schmidtea mediterranea runt-like 1 protein mRNA, complete cds\n"
     ]
    }
   ],
   "source": [
    "%%bash\n",
    "cd /hydra/TF_data\n",
    "grep \">\" Sandmann2011.fa"
   ]
  },
  {
   "cell_type": "code",
   "execution_count": 15,
   "id": "9fc1470c",
   "metadata": {},
   "outputs": [],
   "source": [
    "Sandmann2011 = pd.DataFrame({\"ID\": [\"JF720854.1\"], \"Name\": [\"runt-like 1\"]})"
   ]
  },
  {
   "cell_type": "code",
   "execution_count": 18,
   "id": "5afd441d",
   "metadata": {},
   "outputs": [],
   "source": [
    "%%bash\n",
    "cd /hydra/TF_data/\n",
    "blastn -db /hydra/FACS/stringtie_transcripts.fa -query Sandmann2011.fa -out blast_Sandmann2011 -outfmt 6"
   ]
  },
  {
   "cell_type": "code",
   "execution_count": 21,
   "id": "bcc560be",
   "metadata": {},
   "outputs": [],
   "source": [
    "import pandas as pd\n",
    "blast_Sandmann2011 = pd.read_csv(\"/hydra/TF_data/blast_Sandmann2011\", sep=\"\\t\", header=None)\n",
    "blast_Sandmann2011.columns = [\"Seqid\", \"qid\", \"Per\", \"Len\", \"Mis\", \"Gap\", \"Startq\", \"Endq\", \"Starts\", \"Ends\", \"E\", \"Bit\"]\n",
    "blast_Sandmann2011 = blast_Sandmann2011.loc[blast_Sandmann2011.groupby(\"Seqid\")[\"Bit\"].idxmax()]"
   ]
  },
  {
   "cell_type": "code",
   "execution_count": 22,
   "id": "cad0b970",
   "metadata": {},
   "outputs": [],
   "source": [
    "TF_table_Sandmann2011= tf_table(blast_Sandmann2011, \"Sandmann et al. (2011)\", Sandmann2011)"
   ]
  },
  {
   "cell_type": "code",
   "execution_count": 23,
   "id": "bcd49e20",
   "metadata": {},
   "outputs": [],
   "source": [
    "TF_table_Sandmann2011.to_csv(\"/hydra/TF_data/TF_Sandmann2011.csv\", index=False)"
   ]
  },
  {
   "cell_type": "code",
   "execution_count": 24,
   "id": "e68cc3fa",
   "metadata": {},
   "outputs": [
    {
     "data": {
      "text/html": [
       "<div>\n",
       "<style scoped>\n",
       "    .dataframe tbody tr th:only-of-type {\n",
       "        vertical-align: middle;\n",
       "    }\n",
       "\n",
       "    .dataframe tbody tr th {\n",
       "        vertical-align: top;\n",
       "    }\n",
       "\n",
       "    .dataframe thead th {\n",
       "        text-align: right;\n",
       "    }\n",
       "</style>\n",
       "<table border=\"1\" class=\"dataframe\">\n",
       "  <thead>\n",
       "    <tr style=\"text-align: right;\">\n",
       "      <th></th>\n",
       "      <th>Transcript.ID</th>\n",
       "      <th>Rink.ID</th>\n",
       "      <th>Neiro.ID</th>\n",
       "      <th>Original.ID</th>\n",
       "      <th>Original.name</th>\n",
       "      <th>Source</th>\n",
       "    </tr>\n",
       "  </thead>\n",
       "  <tbody>\n",
       "    <tr>\n",
       "      <th>0</th>\n",
       "      <td>SMEST014779001.1</td>\n",
       "      <td>SMESG000014779.1</td>\n",
       "      <td>MSTRG.4469</td>\n",
       "      <td>JF720854</td>\n",
       "      <td>runt-like 1</td>\n",
       "      <td>Sandmann et al. (2011)</td>\n",
       "    </tr>\n",
       "  </tbody>\n",
       "</table>\n",
       "</div>"
      ],
      "text/plain": [
       "      Transcript.ID           Rink.ID    Neiro.ID Original.ID Original.name  \\\n",
       "0  SMEST014779001.1  SMESG000014779.1  MSTRG.4469    JF720854   runt-like 1   \n",
       "\n",
       "                   Source  \n",
       "0  Sandmann et al. (2011)  "
      ]
     },
     "execution_count": 24,
     "metadata": {},
     "output_type": "execute_result"
    }
   ],
   "source": [
    "import pandas as pd\n",
    "pd.read_csv(\"/hydra/TF_data/TF_Sandmann2011.csv\")"
   ]
  },
  {
   "cell_type": "markdown",
   "id": "ea214ecb",
   "metadata": {},
   "source": [
    "## 3.2 A regulatory program for excretory system regeneration in planarians\n",
    "Scimone, M.L., Srivastava, M., Bell, G.W. and Reddien, P.W., 2011. A regulatory program for excretory system regeneration in planarians. Development, 138(20), pp.4387-4398."
   ]
  },
  {
   "cell_type": "code",
   "execution_count": 1,
   "id": "836f3b0a",
   "metadata": {},
   "outputs": [
    {
     "name": "stdout",
     "output_type": "stream",
     "text": [
      ">JN837709.1 Schmidtea mediterranea sine oculis 1/2-2-like (Six1/2-2) mRNA, complete sequence\n",
      ">JN837708.1 Schmidtea mediterranea POU2/3-like (POU2/3) mRNA, complete sequence\n",
      ">JN837710.1 Schmidtea mediterranea hunchback-like mRNA, complete sequence\n",
      ">EG345430.1 SAAH-aac83g06.g1 Agen 0058 Schmidtea mediterranea cDNA 5' similar to emb|CAD89531.1| eyes absent protein [Dugesia japonica], mRNA sequence\n",
      ">JN837707.1 Schmidtea mediterranea sal-like protein-like (sall) mRNA, complete sequence\n",
      ">JN837701.1 Schmidtea mediterranea odd skipped-related protein-like (osr) mRNA, partial sequence\n"
     ]
    }
   ],
   "source": [
    "%%bash\n",
    "cd /hydra/TF_data\n",
    "grep \">\" Scimone2011.fa"
   ]
  },
  {
   "cell_type": "code",
   "execution_count": 8,
   "id": "43280aa4",
   "metadata": {},
   "outputs": [],
   "source": [
    "Scimone2011 = pd.DataFrame({\"ID\": [\"JN837709.1\", \"JN837708.1\", \"JN837710.1\", \"EG345430.1\", \"JN837707.1\", \"JN837701.1\"], \"Name\": [\"Six1/2-2\", \"POU2/3\", \"hunchback\", \"Eya\", \"Sall\", \"osr\"]})"
   ]
  },
  {
   "cell_type": "code",
   "execution_count": null,
   "id": "8ee44cc0",
   "metadata": {},
   "outputs": [],
   "source": [
    "%%bash\n",
    "cd /hydra/TF_data/\n",
    "blastn -db ~/FACS/stringtie_transcripts.fa -query Scimone2011.fa -out blast_Scimone2011 -outfmt 6"
   ]
  },
  {
   "cell_type": "code",
   "execution_count": 3,
   "id": "4d9b0060",
   "metadata": {},
   "outputs": [],
   "source": [
    "import pandas as pd\n",
    "blast_Scimone2011 = pd.read_csv(\"/hydra/TF_data/blast_Scimone2011\", sep=\"\\t\", header=None)\n",
    "blast_Scimone2011.columns = [\"Seqid\", \"qid\", \"Per\", \"Len\", \"Mis\", \"Gap\", \"Startq\", \"Endq\", \"Starts\", \"Ends\", \"E\", \"Bit\"]\n",
    "blast_Scimone2011 = blast_Scimone2011.loc[blast_Scimone2011.groupby(\"Seqid\")[\"Bit\"].idxmax()]"
   ]
  },
  {
   "cell_type": "code",
   "execution_count": 15,
   "id": "be040e51",
   "metadata": {},
   "outputs": [],
   "source": [
    "TF_table_Scimone2011= tf_table(blast_Scimone2011, \"Scimone et al. (2011)\", Scimone2011)"
   ]
  },
  {
   "cell_type": "code",
   "execution_count": null,
   "id": "7e3cf5c4",
   "metadata": {},
   "outputs": [],
   "source": [
    "TF_table_Scimone2011.to_csv(\"../TF_data/TF_Scimone2011.csv\", index=False)"
   ]
  },
  {
   "cell_type": "code",
   "execution_count": 16,
   "id": "fa5c42a8",
   "metadata": {},
   "outputs": [
    {
     "data": {
      "text/html": [
       "<div>\n",
       "<style scoped>\n",
       "    .dataframe tbody tr th:only-of-type {\n",
       "        vertical-align: middle;\n",
       "    }\n",
       "\n",
       "    .dataframe tbody tr th {\n",
       "        vertical-align: top;\n",
       "    }\n",
       "\n",
       "    .dataframe thead th {\n",
       "        text-align: right;\n",
       "    }\n",
       "</style>\n",
       "<table border=\"1\" class=\"dataframe\">\n",
       "  <thead>\n",
       "    <tr style=\"text-align: right;\">\n",
       "      <th></th>\n",
       "      <th>Transcript.ID</th>\n",
       "      <th>Rink.ID</th>\n",
       "      <th>Neiro.ID</th>\n",
       "      <th>Original.ID</th>\n",
       "      <th>Original.name</th>\n",
       "      <th>Source</th>\n",
       "    </tr>\n",
       "  </thead>\n",
       "  <tbody>\n",
       "    <tr>\n",
       "      <th>0</th>\n",
       "      <td>SMEST001561001.1</td>\n",
       "      <td>SMESG000001561.1</td>\n",
       "      <td>MSTRG.1422</td>\n",
       "      <td>EG345430</td>\n",
       "      <td>Eya</td>\n",
       "      <td>Scimone et al. (2011)</td>\n",
       "    </tr>\n",
       "    <tr>\n",
       "      <th>1</th>\n",
       "      <td>MSTRG.10142.2</td>\n",
       "      <td>-</td>\n",
       "      <td>MSTRG.10142</td>\n",
       "      <td>JN837701</td>\n",
       "      <td>osr</td>\n",
       "      <td>Scimone et al. (2011)</td>\n",
       "    </tr>\n",
       "    <tr>\n",
       "      <th>2</th>\n",
       "      <td>SMEST076173001.1</td>\n",
       "      <td>SMESG000076173.1</td>\n",
       "      <td>MSTRG.22352</td>\n",
       "      <td>JN837708</td>\n",
       "      <td>POU2/3</td>\n",
       "      <td>Scimone et al. (2011)</td>\n",
       "    </tr>\n",
       "    <tr>\n",
       "      <th>3</th>\n",
       "      <td>SMEST005975001.1</td>\n",
       "      <td>SMESG000005975.1</td>\n",
       "      <td>MSTRG.1743</td>\n",
       "      <td>JN837709</td>\n",
       "      <td>Six1/2-2</td>\n",
       "      <td>Scimone et al. (2011)</td>\n",
       "    </tr>\n",
       "    <tr>\n",
       "      <th>4</th>\n",
       "      <td>SMEST017121003.1</td>\n",
       "      <td>SMESG000017121.1</td>\n",
       "      <td>MSTRG.5364</td>\n",
       "      <td>JN837710</td>\n",
       "      <td>hunchback</td>\n",
       "      <td>Scimone et al. (2011)</td>\n",
       "    </tr>\n",
       "  </tbody>\n",
       "</table>\n",
       "</div>"
      ],
      "text/plain": [
       "      Transcript.ID           Rink.ID     Neiro.ID Original.ID Original.name  \\\n",
       "0  SMEST001561001.1  SMESG000001561.1   MSTRG.1422    EG345430           Eya   \n",
       "1     MSTRG.10142.2                 -  MSTRG.10142    JN837701           osr   \n",
       "2  SMEST076173001.1  SMESG000076173.1  MSTRG.22352    JN837708        POU2/3   \n",
       "3  SMEST005975001.1  SMESG000005975.1   MSTRG.1743    JN837709      Six1/2-2   \n",
       "4  SMEST017121003.1  SMESG000017121.1   MSTRG.5364    JN837710     hunchback   \n",
       "\n",
       "                  Source  \n",
       "0  Scimone et al. (2011)  \n",
       "1  Scimone et al. (2011)  \n",
       "2  Scimone et al. (2011)  \n",
       "3  Scimone et al. (2011)  \n",
       "4  Scimone et al. (2011)  "
      ]
     },
     "execution_count": 16,
     "metadata": {},
     "output_type": "execute_result"
    }
   ],
   "source": [
    "import pandas as pd\n",
    "pd.read_csv(\"/hydra/TF_data/TF_Scimone2011.csv\")"
   ]
  },
  {
   "cell_type": "markdown",
   "id": "8d2a3742",
   "metadata": {},
   "source": [
    "## 3.3 dlx and sp6-9 Control optic cup regeneration in a prototypic eye\n",
    "\n",
    "Lapan, S.W. and Reddien, P.W., 2011. dlx and sp6-9 Control optic cup regeneration in a prototypic eye. PLoS Genet, 7(8), p.e1002226."
   ]
  },
  {
   "cell_type": "code",
   "execution_count": 1,
   "id": "dbf2face",
   "metadata": {},
   "outputs": [
    {
     "name": "stdout",
     "output_type": "stream",
     "text": [
      ">dachshund primer1\n",
      ">dachshund primer2\n",
      ">dachshund primer3\n",
      ">dlx primer1\n",
      ">dlx primer2\n",
      ">dlx primer3\n",
      ">eya primer1\n",
      ">eya primer2\n",
      ">opsin primer1\n",
      ">opsin primer2\n",
      ">opsin primer3\n",
      ">otxA primer1\n",
      ">otxA primer2\n",
      ">otxA primer3\n",
      ">six primer1\n",
      ">six primer2\n",
      ">six primer3\n",
      ">sp6-9 primer1\n",
      ">sp6-9 primer2\n",
      ">sp6-9 primer3\n",
      ">tyrosinase primer1\n",
      ">tyrosinase primer2\n",
      ">tyrosinase primer3\n"
     ]
    }
   ],
   "source": [
    "%%bash\n",
    "cd /hydra/TF_data\n",
    "grep \">\" Lapan2011.fa"
   ]
  },
  {
   "cell_type": "code",
   "execution_count": null,
   "id": "66958b2b",
   "metadata": {},
   "outputs": [],
   "source": [
    "%%bash\n",
    "cd ../TF_data/\n",
    "blastn -db ~/FACS/stringtie_transcripts.fa -query Lapan2011.fa -out blast_Lapan2011 -outfmt 6 -evalue 1.0 -word_size 10"
   ]
  },
  {
   "cell_type": "code",
   "execution_count": 3,
   "id": "b70c7647",
   "metadata": {},
   "outputs": [],
   "source": [
    "import pandas as pd\n",
    "blast_Lapan2011 = pd.read_csv(\"/hydra/TF_data/blast_Lapan2011\", sep=\"\\t\", header=None)\n",
    "blast_Lapan2011.columns = [\"Seqid\", \"qid\", \"Per\", \"Len\", \"Mis\", \"Gap\", \"Startq\", \"Endq\", \"Starts\", \"Ends\", \"E\", \"Bit\"]\n",
    "blast_Lapan2011 = blast_Lapan2011.loc[blast_Lapan2011.groupby(\"Seqid\")[\"Bit\"].idxmax()]"
   ]
  },
  {
   "cell_type": "code",
   "execution_count": 6,
   "id": "3268178f",
   "metadata": {},
   "outputs": [],
   "source": [
    "transcript_id = []\n",
    "gene_id_rink = []\n",
    "gene_id_neiro = []\n",
    "original_id = []\n",
    "original_name = []\n",
    "for i in range(len(blast_Lapan2011)):\n",
    "    t_id = blast_Lapan2011.iloc[i,1]\n",
    "    o_id = \"NA\"\n",
    "    transcript_id.append(t_id)\n",
    "    gene_id_rink.append(gene2transcript[gene2transcript[\"qry_id\"] == t_id].iloc[0,0])\n",
    "    gene_id_neiro.append(gene2transcript[gene2transcript[\"qry_id\"] == t_id].iloc[0,1])\n",
    "    original_id.append(o_id)\n",
    "    original_name.append(blast_Lapan2011.iloc[i,0])\n",
    "source = [\"Lapan et al. (2011)\"] * len(original_name)"
   ]
  },
  {
   "cell_type": "code",
   "execution_count": 7,
   "id": "07c4b5bc",
   "metadata": {},
   "outputs": [],
   "source": [
    "TF_table_Lapan2011 = pd.DataFrame({\"Transcript.ID\": transcript_id, \"Rink.ID\": gene_id_rink, \"Neiro.ID\": gene_id_neiro, \"Original.ID\": original_id, \"Original.name\": original_name, \"Source\": source})"
   ]
  },
  {
   "cell_type": "code",
   "execution_count": null,
   "id": "3d17b85d",
   "metadata": {},
   "outputs": [],
   "source": [
    "TF_table_Lapan2011.to_csv(\"/hydra/TF_data/TF_Lapan2011.csv\", index=False)"
   ]
  },
  {
   "cell_type": "code",
   "execution_count": 8,
   "id": "75668b3c",
   "metadata": {},
   "outputs": [
    {
     "data": {
      "text/html": [
       "<div>\n",
       "<style scoped>\n",
       "    .dataframe tbody tr th:only-of-type {\n",
       "        vertical-align: middle;\n",
       "    }\n",
       "\n",
       "    .dataframe tbody tr th {\n",
       "        vertical-align: top;\n",
       "    }\n",
       "\n",
       "    .dataframe thead th {\n",
       "        text-align: right;\n",
       "    }\n",
       "</style>\n",
       "<table border=\"1\" class=\"dataframe\">\n",
       "  <thead>\n",
       "    <tr style=\"text-align: right;\">\n",
       "      <th></th>\n",
       "      <th>Transcript.ID</th>\n",
       "      <th>Rink.ID</th>\n",
       "      <th>Neiro.ID</th>\n",
       "      <th>Original.ID</th>\n",
       "      <th>Original.name</th>\n",
       "      <th>Source</th>\n",
       "    </tr>\n",
       "  </thead>\n",
       "  <tbody>\n",
       "    <tr>\n",
       "      <th>0</th>\n",
       "      <td>MSTRG.4715.2</td>\n",
       "      <td>SMESG000013159.1</td>\n",
       "      <td>MSTRG.4715</td>\n",
       "      <td>NaN</td>\n",
       "      <td>dachshund</td>\n",
       "      <td>Lapan et al. (2011)</td>\n",
       "    </tr>\n",
       "    <tr>\n",
       "      <th>1</th>\n",
       "      <td>SMEST045025001.1</td>\n",
       "      <td>SMESG000045025.1</td>\n",
       "      <td>MSTRG.14008</td>\n",
       "      <td>NaN</td>\n",
       "      <td>dlx</td>\n",
       "      <td>Lapan et al. (2011)</td>\n",
       "    </tr>\n",
       "    <tr>\n",
       "      <th>2</th>\n",
       "      <td>SMEST001561001.1</td>\n",
       "      <td>SMESG000001561.1</td>\n",
       "      <td>MSTRG.1422</td>\n",
       "      <td>NaN</td>\n",
       "      <td>eya</td>\n",
       "      <td>Lapan et al. (2011)</td>\n",
       "    </tr>\n",
       "    <tr>\n",
       "      <th>3</th>\n",
       "      <td>SMEST074489001.1</td>\n",
       "      <td>SMESG000074489.1</td>\n",
       "      <td>MSTRG.21864</td>\n",
       "      <td>NaN</td>\n",
       "      <td>opsin</td>\n",
       "      <td>Lapan et al. (2011)</td>\n",
       "    </tr>\n",
       "    <tr>\n",
       "      <th>4</th>\n",
       "      <td>MSTRG.10065.7</td>\n",
       "      <td>SMESG000031965.1</td>\n",
       "      <td>MSTRG.10065</td>\n",
       "      <td>NaN</td>\n",
       "      <td>otxA</td>\n",
       "      <td>Lapan et al. (2011)</td>\n",
       "    </tr>\n",
       "    <tr>\n",
       "      <th>5</th>\n",
       "      <td>SMEST001688001.1</td>\n",
       "      <td>SMESG000001688.1</td>\n",
       "      <td>MSTRG.1403</td>\n",
       "      <td>NaN</td>\n",
       "      <td>six</td>\n",
       "      <td>Lapan et al. (2011)</td>\n",
       "    </tr>\n",
       "    <tr>\n",
       "      <th>6</th>\n",
       "      <td>MSTRG.15425.4</td>\n",
       "      <td>SMESG000050160.1</td>\n",
       "      <td>MSTRG.15425</td>\n",
       "      <td>NaN</td>\n",
       "      <td>sp6-9</td>\n",
       "      <td>Lapan et al. (2011)</td>\n",
       "    </tr>\n",
       "    <tr>\n",
       "      <th>7</th>\n",
       "      <td>MSTRG.19564.4</td>\n",
       "      <td>SMESG000065741.1</td>\n",
       "      <td>MSTRG.19564</td>\n",
       "      <td>NaN</td>\n",
       "      <td>tyrosinase</td>\n",
       "      <td>Lapan et al. (2011)</td>\n",
       "    </tr>\n",
       "  </tbody>\n",
       "</table>\n",
       "</div>"
      ],
      "text/plain": [
       "      Transcript.ID           Rink.ID     Neiro.ID  Original.ID Original.name  \\\n",
       "0      MSTRG.4715.2  SMESG000013159.1   MSTRG.4715          NaN     dachshund   \n",
       "1  SMEST045025001.1  SMESG000045025.1  MSTRG.14008          NaN           dlx   \n",
       "2  SMEST001561001.1  SMESG000001561.1   MSTRG.1422          NaN           eya   \n",
       "3  SMEST074489001.1  SMESG000074489.1  MSTRG.21864          NaN         opsin   \n",
       "4     MSTRG.10065.7  SMESG000031965.1  MSTRG.10065          NaN          otxA   \n",
       "5  SMEST001688001.1  SMESG000001688.1   MSTRG.1403          NaN           six   \n",
       "6     MSTRG.15425.4  SMESG000050160.1  MSTRG.15425          NaN         sp6-9   \n",
       "7     MSTRG.19564.4  SMESG000065741.1  MSTRG.19564          NaN    tyrosinase   \n",
       "\n",
       "                Source  \n",
       "0  Lapan et al. (2011)  \n",
       "1  Lapan et al. (2011)  \n",
       "2  Lapan et al. (2011)  \n",
       "3  Lapan et al. (2011)  \n",
       "4  Lapan et al. (2011)  \n",
       "5  Lapan et al. (2011)  \n",
       "6  Lapan et al. (2011)  \n",
       "7  Lapan et al. (2011)  "
      ]
     },
     "execution_count": 8,
     "metadata": {},
     "output_type": "execute_result"
    }
   ],
   "source": [
    "pd.read_csv(\"/hydra/TF_data/TF_Lapan2011.csv\")"
   ]
  },
  {
   "cell_type": "markdown",
   "id": "a77d987b",
   "metadata": {},
   "source": [
    "## 3.4 Clonogenic neoblasts are pluripotent adult stem cells that underlie planarian regeneration\n",
    "Wagner, D.E., Wang, I.E. and Reddien, P.W., 2011. Clonogenic neoblasts are pluripotent adult stem cells that underlie planarian regeneration. Science, 332(6031), pp.811-816."
   ]
  },
  {
   "cell_type": "markdown",
   "id": "71831e31",
   "metadata": {},
   "source": [
    "* hnf4\n",
    "* gata456"
   ]
  },
  {
   "cell_type": "code",
   "execution_count": 2,
   "id": "f47bf4ab",
   "metadata": {},
   "outputs": [
    {
     "name": "stdout",
     "output_type": "stream",
     "text": [
      ">JF802199.1 Schmidtea mediterranea strain CIW4 HNF4 (hnf4) mRNA, complete cds\n",
      ">JF802198.1 Schmidtea mediterranea strain CIW4 GATA456 (gata456) mRNA, complete cds\n"
     ]
    }
   ],
   "source": [
    "%%bash\n",
    "cd /hydra/TF_data\n",
    "grep \">\" Wagner2011.fa"
   ]
  },
  {
   "cell_type": "code",
   "execution_count": 3,
   "id": "6f2d56ca",
   "metadata": {},
   "outputs": [],
   "source": [
    "import pandas as pd\n",
    "Wagner2011 = pd.DataFrame({\"ID\": [\"JF802199.1\", \"JF802198.1\"], \"Name\": [\"hnf4\", \"gata456\"]})"
   ]
  },
  {
   "cell_type": "code",
   "execution_count": 4,
   "id": "b27e83ce",
   "metadata": {},
   "outputs": [],
   "source": [
    "%%bash\n",
    "cd /hydra/TF_data/\n",
    "blastn -db /hydra/FACS/stringtie_transcripts.fa -query Wagner2011.fa -out blast_Wagner2011 -outfmt 6"
   ]
  },
  {
   "cell_type": "code",
   "execution_count": 5,
   "id": "592b0955",
   "metadata": {},
   "outputs": [],
   "source": [
    "import pandas as pd\n",
    "blast_Wagner2011 = pd.read_csv(\"/hydra/TF_data/blast_Wagner2011\", sep=\"\\t\", header=None)\n",
    "blast_Wagner2011.columns = [\"Seqid\", \"qid\", \"Per\", \"Len\", \"Mis\", \"Gap\", \"Startq\", \"Endq\", \"Starts\", \"Ends\", \"E\", \"Bit\"]\n",
    "blast_Wagner2011 = blast_Wagner2011.loc[blast_Wagner2011.groupby(\"Seqid\")[\"Bit\"].idxmax()]"
   ]
  },
  {
   "cell_type": "code",
   "execution_count": 10,
   "id": "fda52aa6",
   "metadata": {},
   "outputs": [],
   "source": [
    "TF_table_Wagner2011 = tf_table(blast_Wagner2011, \"Wagner et al. (2011)\", Wagner2011)"
   ]
  },
  {
   "cell_type": "code",
   "execution_count": 11,
   "id": "9dadbea5",
   "metadata": {},
   "outputs": [],
   "source": [
    "TF_table_Wagner2011.to_csv(\"/hydra/TF_data/TF_Wagner2011.csv\", index=False)"
   ]
  },
  {
   "cell_type": "code",
   "execution_count": 12,
   "id": "1a8bc071",
   "metadata": {},
   "outputs": [
    {
     "data": {
      "text/html": [
       "<div>\n",
       "<style scoped>\n",
       "    .dataframe tbody tr th:only-of-type {\n",
       "        vertical-align: middle;\n",
       "    }\n",
       "\n",
       "    .dataframe tbody tr th {\n",
       "        vertical-align: top;\n",
       "    }\n",
       "\n",
       "    .dataframe thead th {\n",
       "        text-align: right;\n",
       "    }\n",
       "</style>\n",
       "<table border=\"1\" class=\"dataframe\">\n",
       "  <thead>\n",
       "    <tr style=\"text-align: right;\">\n",
       "      <th></th>\n",
       "      <th>Transcript.ID</th>\n",
       "      <th>Rink.ID</th>\n",
       "      <th>Neiro.ID</th>\n",
       "      <th>Original.ID</th>\n",
       "      <th>Original.name</th>\n",
       "      <th>Source</th>\n",
       "    </tr>\n",
       "  </thead>\n",
       "  <tbody>\n",
       "    <tr>\n",
       "      <th>0</th>\n",
       "      <td>MSTRG.12700.1</td>\n",
       "      <td>SMESG000039559.1</td>\n",
       "      <td>MSTRG.12700</td>\n",
       "      <td>JF802198</td>\n",
       "      <td>gata456</td>\n",
       "      <td>Wagner et al. (2011)</td>\n",
       "    </tr>\n",
       "    <tr>\n",
       "      <th>1</th>\n",
       "      <td>SMEST014588001.1</td>\n",
       "      <td>SMESG000014588.1</td>\n",
       "      <td>MSTRG.4403</td>\n",
       "      <td>JF802199</td>\n",
       "      <td>hnf4</td>\n",
       "      <td>Wagner et al. (2011)</td>\n",
       "    </tr>\n",
       "  </tbody>\n",
       "</table>\n",
       "</div>"
      ],
      "text/plain": [
       "      Transcript.ID           Rink.ID     Neiro.ID Original.ID Original.name  \\\n",
       "0     MSTRG.12700.1  SMESG000039559.1  MSTRG.12700    JF802198       gata456   \n",
       "1  SMEST014588001.1  SMESG000014588.1   MSTRG.4403    JF802199          hnf4   \n",
       "\n",
       "                 Source  \n",
       "0  Wagner et al. (2011)  \n",
       "1  Wagner et al. (2011)  "
      ]
     },
     "execution_count": 12,
     "metadata": {},
     "output_type": "execute_result"
    }
   ],
   "source": [
    "pd.read_csv(\"/hydra/TF_data/TF_Wagner2011.csv\")"
   ]
  },
  {
   "cell_type": "markdown",
   "id": "22cfd366",
   "metadata": {},
   "source": [
    "# 4. 2012"
   ]
  },
  {
   "cell_type": "markdown",
   "id": "887f5b05",
   "metadata": {},
   "source": [
    "## 4.1 Evolutionarily ancient association of the FoxJ1 transcription factor with the motile ciliogenic program\n",
    "Vij, S., Rink, J.C., Ho, H.K., Babu, D., Eitel, M., Narasimhan, V., Tiku, V., Westbrook, J., Schierwater, B. and Roy, S., 2012. Evolutionarily ancient association of the FoxJ1 transcription factor with the motile ciliogenic program. PLoS Genet, 8(11), p.e1003019."
   ]
  },
  {
   "cell_type": "markdown",
   "id": "9dec5ed2",
   "metadata": {},
   "source": [
    "## 4.2 A molecular wound response program associated with regeneration initiation in planarians\n",
    "Wenemoser, D., Lapan, S.W., Wilkinson, A.W., Bell, G.W. and Reddien, P.W., 2012. A molecular wound response program associated with regeneration initiation in planarians. Genes & development, 26(9), pp.988-1002."
   ]
  },
  {
   "cell_type": "markdown",
   "id": "006a034c",
   "metadata": {},
   "source": [
    "We identified a large set of wound-induced genes during regeneration initiation in planarians. A class of wound-induced genes was activated directly within neoblasts, including the Runx transcription factor-encoding runt-1 gene. runt-1 was required for specifying different cell types during regeneration, promoting heterogeneity in neoblasts near wounds.\n",
    "\n",
    "Genes that activated within 30 min to 1h and reached maximum expression by 3h were named \"W1\" genes (wound-induced class 1). Multiple W1 genes are homologous to \"immediate early genes\" in other organisms, including those encoding transcription factors such as jun-1, fos-1, egr-2, egr-3, egr-4, and egrl1. \n",
    "\n",
    "Potential roles of W1 genes include wound closure, apoptosis, pathogen defence, activation of neoblast proliferation, or regulation of W2 gene expression. Many W1 genes failed to display an RNAi phenotype, potentially reflecting redundancy between the many activated genes. RNAi of the W1 gene fos-1 led to impaired regeneration, including cyclopic blastemas and asymmetric tails. \n",
    "\n",
    "Some genes were up-regulated in injured but otherwise untreated animals, but not in injured irradiated animals lacking neoblasts, and were classified as \"W4\" genes. W4 genes include those predicted to encode transcription factors, chromatin remodeling proteins, cell cycle factors, and histone methyltransferases. runt-1, runt-2, and cdc25-1 displayed minimal to no detectable expression prior to injury. "
   ]
  },
  {
   "cell_type": "markdown",
   "id": "4352e876",
   "metadata": {},
   "source": [
    "Numerical gene identifiers, homology gene names, and assigned gene\n",
    "name acronyms (based on mammalian acronyms) are summarized in Supplemental Table\n",
    "S7 and sequences were uploaded to GenBank"
   ]
  },
  {
   "cell_type": "code",
   "execution_count": 1,
   "id": "b95a7da3",
   "metadata": {},
   "outputs": [
    {
     "name": "stdout",
     "output_type": "stream",
     "text": [
      ">JF720854.1 Schmidtea mediterranea runt-like 1 protein mRNA, complete cds\n",
      ">JQ425155.1 Schmidtea mediterranea JUNLI-1 mRNA, complete cds\n",
      ">JX010471.1 Schmidtea mediterranea clone SMED_00055_V2 fos-1 mRNA, complete cds\n",
      ">JQ425156.1 Schmidtea mediterranea EGR-1 mRNA, complete cds\n",
      ">JX010470.1 Schmidtea mediterranea clone SMED_05955_V2 ap2 mRNA, complete cds\n",
      ">JX010618.1 Schmidtea mediterranea clone Smed_14967_V2 hmx-1 mRNA, complete cds\n",
      ">JX010525.1 Schmidtea mediterranea clone Smed_01958_V2 soxP-5 mRNA, partial cds\n",
      ">JX010630.1 Schmidtea mediterranea clone Smed_12735_V2 six3-1 mRNA, partial cds\n",
      ">JN983826.1 Schmidtea mediterranea otxA mRNA, complete cds\n",
      ">JX010503.1 Schmidtea mediterranea clone Smed_03546_V2 Pax6A mRNA, complete cds\n",
      ">KJ934811.1 UNVERIFIED: Schmidtea mediterranea pax6b-like mRNA, complete sequence\n",
      ">JX010474.1 Schmidtea mediterranea clone SMED_06579_V2 serum response factor mRNA, complete cds\n"
     ]
    }
   ],
   "source": [
    "%%bash\n",
    "cd /hydra/TF_data\n",
    "grep \">\" Wenemoser2012.fa"
   ]
  },
  {
   "cell_type": "code",
   "execution_count": 8,
   "id": "1e6a4cf7",
   "metadata": {},
   "outputs": [],
   "source": [
    "import pandas as pd\n",
    "Wenemoser2012 = pd.DataFrame({\"ID\": [\"JF720854.1\", \"JQ425155.1\", \"JX010471.1\", \"JQ425156.1\", \"JX010470.1\", \"JX010618.1\", \"JX010525.1\", \"JX010630.1\", \"JN983826.1\", \"JX010503.1\", \"KJ934811.1\", \"JX010474.1\"], \"Name\": [\"runt-1\", \"Jun-1\", \"Fos-1\", \"Egr-1\", \"ap2\", \"hmx-1\", \"soxP-5\", \"six3-1\", \"otxA\", \"Pax6A\", \"Pax6B\", \"SRF\"]})"
   ]
  },
  {
   "cell_type": "code",
   "execution_count": null,
   "id": "b66f5c7b",
   "metadata": {},
   "outputs": [],
   "source": [
    "%%bash\n",
    "cd /hydra/TF_data/\n",
    "blastn -db ~/FACS/stringtie_transcripts.fa -query Wenemoser2012.fa -out blast_Wenemoser2012 -outfmt 6"
   ]
  },
  {
   "cell_type": "code",
   "execution_count": 18,
   "id": "fea882b4",
   "metadata": {},
   "outputs": [],
   "source": [
    "import pandas as pd\n",
    "blast_Wenemoser2012 = pd.read_csv(\"/hydra/TF_data/blast_Wenemoser2012\", sep=\"\\t\", header=None)\n",
    "blast_Wenemoser2012.columns = [\"Seqid\", \"qid\", \"Per\", \"Len\", \"Mis\", \"Gap\", \"Startq\", \"Endq\", \"Starts\", \"Ends\", \"E\", \"Bit\"]\n",
    "blast_Wenemoser2012 = blast_Wenemoser2012.loc[blast_Wenemoser2012.groupby(\"Seqid\")[\"Bit\"].idxmax()]"
   ]
  },
  {
   "cell_type": "code",
   "execution_count": 19,
   "id": "f5357a57",
   "metadata": {},
   "outputs": [
    {
     "data": {
      "text/html": [
       "<div>\n",
       "<style scoped>\n",
       "    .dataframe tbody tr th:only-of-type {\n",
       "        vertical-align: middle;\n",
       "    }\n",
       "\n",
       "    .dataframe tbody tr th {\n",
       "        vertical-align: top;\n",
       "    }\n",
       "\n",
       "    .dataframe thead th {\n",
       "        text-align: right;\n",
       "    }\n",
       "</style>\n",
       "<table border=\"1\" class=\"dataframe\">\n",
       "  <thead>\n",
       "    <tr style=\"text-align: right;\">\n",
       "      <th></th>\n",
       "      <th>Seqid</th>\n",
       "      <th>qid</th>\n",
       "      <th>Per</th>\n",
       "      <th>Len</th>\n",
       "      <th>Mis</th>\n",
       "      <th>Gap</th>\n",
       "      <th>Startq</th>\n",
       "      <th>Endq</th>\n",
       "      <th>Starts</th>\n",
       "      <th>Ends</th>\n",
       "      <th>E</th>\n",
       "      <th>Bit</th>\n",
       "    </tr>\n",
       "  </thead>\n",
       "  <tbody>\n",
       "    <tr>\n",
       "      <th>0</th>\n",
       "      <td>JF720854.1</td>\n",
       "      <td>SMEST014779001.1</td>\n",
       "      <td>99.786</td>\n",
       "      <td>933</td>\n",
       "      <td>2</td>\n",
       "      <td>0</td>\n",
       "      <td>1</td>\n",
       "      <td>933</td>\n",
       "      <td>46</td>\n",
       "      <td>978</td>\n",
       "      <td>0.0</td>\n",
       "      <td>1712</td>\n",
       "    </tr>\n",
       "    <tr>\n",
       "      <th>37</th>\n",
       "      <td>JN983826.1</td>\n",
       "      <td>MSTRG.10065.1</td>\n",
       "      <td>99.679</td>\n",
       "      <td>2180</td>\n",
       "      <td>7</td>\n",
       "      <td>0</td>\n",
       "      <td>1</td>\n",
       "      <td>2180</td>\n",
       "      <td>346</td>\n",
       "      <td>2525</td>\n",
       "      <td>0.0</td>\n",
       "      <td>3988</td>\n",
       "    </tr>\n",
       "    <tr>\n",
       "      <th>7</th>\n",
       "      <td>JQ425155.1</td>\n",
       "      <td>SMEST067959002.1</td>\n",
       "      <td>99.790</td>\n",
       "      <td>1909</td>\n",
       "      <td>4</td>\n",
       "      <td>0</td>\n",
       "      <td>1</td>\n",
       "      <td>1909</td>\n",
       "      <td>49</td>\n",
       "      <td>1957</td>\n",
       "      <td>0.0</td>\n",
       "      <td>3504</td>\n",
       "    </tr>\n",
       "    <tr>\n",
       "      <th>20</th>\n",
       "      <td>JQ425156.1</td>\n",
       "      <td>MSTRG.11197.1</td>\n",
       "      <td>99.266</td>\n",
       "      <td>1362</td>\n",
       "      <td>10</td>\n",
       "      <td>0</td>\n",
       "      <td>1</td>\n",
       "      <td>1362</td>\n",
       "      <td>121</td>\n",
       "      <td>1482</td>\n",
       "      <td>0.0</td>\n",
       "      <td>2460</td>\n",
       "    </tr>\n",
       "    <tr>\n",
       "      <th>23</th>\n",
       "      <td>JX010470.1</td>\n",
       "      <td>SMEST022356001.1</td>\n",
       "      <td>99.667</td>\n",
       "      <td>1801</td>\n",
       "      <td>6</td>\n",
       "      <td>0</td>\n",
       "      <td>3</td>\n",
       "      <td>1803</td>\n",
       "      <td>1479</td>\n",
       "      <td>3279</td>\n",
       "      <td>0.0</td>\n",
       "      <td>3293</td>\n",
       "    </tr>\n",
       "    <tr>\n",
       "      <th>15</th>\n",
       "      <td>JX010471.1</td>\n",
       "      <td>SMEST003328001.1</td>\n",
       "      <td>99.458</td>\n",
       "      <td>1662</td>\n",
       "      <td>7</td>\n",
       "      <td>1</td>\n",
       "      <td>1</td>\n",
       "      <td>1660</td>\n",
       "      <td>693</td>\n",
       "      <td>2354</td>\n",
       "      <td>0.0</td>\n",
       "      <td>3018</td>\n",
       "    </tr>\n",
       "    <tr>\n",
       "      <th>68</th>\n",
       "      <td>JX010474.1</td>\n",
       "      <td>SMEST074732001.1</td>\n",
       "      <td>99.783</td>\n",
       "      <td>921</td>\n",
       "      <td>2</td>\n",
       "      <td>0</td>\n",
       "      <td>2</td>\n",
       "      <td>922</td>\n",
       "      <td>67</td>\n",
       "      <td>987</td>\n",
       "      <td>0.0</td>\n",
       "      <td>1690</td>\n",
       "    </tr>\n",
       "    <tr>\n",
       "      <th>48</th>\n",
       "      <td>JX010503.1</td>\n",
       "      <td>MSTRG.12215.2</td>\n",
       "      <td>99.620</td>\n",
       "      <td>1841</td>\n",
       "      <td>7</td>\n",
       "      <td>0</td>\n",
       "      <td>26</td>\n",
       "      <td>1866</td>\n",
       "      <td>505</td>\n",
       "      <td>2345</td>\n",
       "      <td>0.0</td>\n",
       "      <td>3362</td>\n",
       "    </tr>\n",
       "    <tr>\n",
       "      <th>30</th>\n",
       "      <td>JX010525.1</td>\n",
       "      <td>MSTRG.19831.4</td>\n",
       "      <td>99.475</td>\n",
       "      <td>1142</td>\n",
       "      <td>3</td>\n",
       "      <td>1</td>\n",
       "      <td>10</td>\n",
       "      <td>1148</td>\n",
       "      <td>588</td>\n",
       "      <td>1729</td>\n",
       "      <td>0.0</td>\n",
       "      <td>2073</td>\n",
       "    </tr>\n",
       "    <tr>\n",
       "      <th>28</th>\n",
       "      <td>JX010618.1</td>\n",
       "      <td>SMEST033792001.1</td>\n",
       "      <td>100.000</td>\n",
       "      <td>789</td>\n",
       "      <td>0</td>\n",
       "      <td>0</td>\n",
       "      <td>1</td>\n",
       "      <td>789</td>\n",
       "      <td>309</td>\n",
       "      <td>1097</td>\n",
       "      <td>0.0</td>\n",
       "      <td>1458</td>\n",
       "    </tr>\n",
       "    <tr>\n",
       "      <th>36</th>\n",
       "      <td>JX010630.1</td>\n",
       "      <td>SMEST009894001.1</td>\n",
       "      <td>99.256</td>\n",
       "      <td>1210</td>\n",
       "      <td>5</td>\n",
       "      <td>2</td>\n",
       "      <td>1</td>\n",
       "      <td>1206</td>\n",
       "      <td>777</td>\n",
       "      <td>1986</td>\n",
       "      <td>0.0</td>\n",
       "      <td>2182</td>\n",
       "    </tr>\n",
       "    <tr>\n",
       "      <th>66</th>\n",
       "      <td>KJ934811.1</td>\n",
       "      <td>MSTRG.21546.2</td>\n",
       "      <td>99.656</td>\n",
       "      <td>873</td>\n",
       "      <td>2</td>\n",
       "      <td>1</td>\n",
       "      <td>20</td>\n",
       "      <td>891</td>\n",
       "      <td>65</td>\n",
       "      <td>937</td>\n",
       "      <td>0.0</td>\n",
       "      <td>1594</td>\n",
       "    </tr>\n",
       "  </tbody>\n",
       "</table>\n",
       "</div>"
      ],
      "text/plain": [
       "         Seqid               qid      Per   Len  Mis  Gap  Startq  Endq  \\\n",
       "0   JF720854.1  SMEST014779001.1   99.786   933    2    0       1   933   \n",
       "37  JN983826.1     MSTRG.10065.1   99.679  2180    7    0       1  2180   \n",
       "7   JQ425155.1  SMEST067959002.1   99.790  1909    4    0       1  1909   \n",
       "20  JQ425156.1     MSTRG.11197.1   99.266  1362   10    0       1  1362   \n",
       "23  JX010470.1  SMEST022356001.1   99.667  1801    6    0       3  1803   \n",
       "15  JX010471.1  SMEST003328001.1   99.458  1662    7    1       1  1660   \n",
       "68  JX010474.1  SMEST074732001.1   99.783   921    2    0       2   922   \n",
       "48  JX010503.1     MSTRG.12215.2   99.620  1841    7    0      26  1866   \n",
       "30  JX010525.1     MSTRG.19831.4   99.475  1142    3    1      10  1148   \n",
       "28  JX010618.1  SMEST033792001.1  100.000   789    0    0       1   789   \n",
       "36  JX010630.1  SMEST009894001.1   99.256  1210    5    2       1  1206   \n",
       "66  KJ934811.1     MSTRG.21546.2   99.656   873    2    1      20   891   \n",
       "\n",
       "    Starts  Ends    E   Bit  \n",
       "0       46   978  0.0  1712  \n",
       "37     346  2525  0.0  3988  \n",
       "7       49  1957  0.0  3504  \n",
       "20     121  1482  0.0  2460  \n",
       "23    1479  3279  0.0  3293  \n",
       "15     693  2354  0.0  3018  \n",
       "68      67   987  0.0  1690  \n",
       "48     505  2345  0.0  3362  \n",
       "30     588  1729  0.0  2073  \n",
       "28     309  1097  0.0  1458  \n",
       "36     777  1986  0.0  2182  \n",
       "66      65   937  0.0  1594  "
      ]
     },
     "execution_count": 19,
     "metadata": {},
     "output_type": "execute_result"
    }
   ],
   "source": [
    "blast_Wenemoser2012"
   ]
  },
  {
   "cell_type": "code",
   "execution_count": 10,
   "id": "eea8b670",
   "metadata": {},
   "outputs": [],
   "source": [
    "TF_table_Wenemoser2012 = tf_table(blast_Wenemoser2012, \"Wenemoser et al. (2012)\", Wenemoser2012)"
   ]
  },
  {
   "cell_type": "code",
   "execution_count": null,
   "id": "98d5f341",
   "metadata": {},
   "outputs": [],
   "source": [
    "TF_table_Wenemoser2012.to_csv(\"/hydra/TF_data/TF_Wenemoser2012.csv\", index=False)"
   ]
  },
  {
   "cell_type": "code",
   "execution_count": 11,
   "id": "ad2b4709",
   "metadata": {},
   "outputs": [
    {
     "data": {
      "text/html": [
       "<div>\n",
       "<style scoped>\n",
       "    .dataframe tbody tr th:only-of-type {\n",
       "        vertical-align: middle;\n",
       "    }\n",
       "\n",
       "    .dataframe tbody tr th {\n",
       "        vertical-align: top;\n",
       "    }\n",
       "\n",
       "    .dataframe thead th {\n",
       "        text-align: right;\n",
       "    }\n",
       "</style>\n",
       "<table border=\"1\" class=\"dataframe\">\n",
       "  <thead>\n",
       "    <tr style=\"text-align: right;\">\n",
       "      <th></th>\n",
       "      <th>Transcript.ID</th>\n",
       "      <th>Rink.ID</th>\n",
       "      <th>Neiro.ID</th>\n",
       "      <th>Original.ID</th>\n",
       "      <th>Original.name</th>\n",
       "      <th>Source</th>\n",
       "    </tr>\n",
       "  </thead>\n",
       "  <tbody>\n",
       "    <tr>\n",
       "      <th>0</th>\n",
       "      <td>SMEST014779001.1</td>\n",
       "      <td>SMESG000014779.1</td>\n",
       "      <td>MSTRG.4469</td>\n",
       "      <td>JF720854</td>\n",
       "      <td>runt-1</td>\n",
       "      <td>Wenemoser et al. (2012)</td>\n",
       "    </tr>\n",
       "    <tr>\n",
       "      <th>1</th>\n",
       "      <td>MSTRG.10065.1</td>\n",
       "      <td>SMESG000031965.1</td>\n",
       "      <td>MSTRG.10065</td>\n",
       "      <td>JN983826</td>\n",
       "      <td>otxA</td>\n",
       "      <td>Wenemoser et al. (2012)</td>\n",
       "    </tr>\n",
       "    <tr>\n",
       "      <th>2</th>\n",
       "      <td>SMEST067959002.1</td>\n",
       "      <td>SMESG000067959.1</td>\n",
       "      <td>MSTRG.20106</td>\n",
       "      <td>JQ425155</td>\n",
       "      <td>Jun-1</td>\n",
       "      <td>Wenemoser et al. (2012)</td>\n",
       "    </tr>\n",
       "    <tr>\n",
       "      <th>3</th>\n",
       "      <td>MSTRG.11197.1</td>\n",
       "      <td>SMESG000034285.1</td>\n",
       "      <td>MSTRG.11197</td>\n",
       "      <td>JQ425156</td>\n",
       "      <td>Egr-1</td>\n",
       "      <td>Wenemoser et al. (2012)</td>\n",
       "    </tr>\n",
       "    <tr>\n",
       "      <th>4</th>\n",
       "      <td>SMEST022356001.1</td>\n",
       "      <td>SMESG000022356.1</td>\n",
       "      <td>MSTRG.7890</td>\n",
       "      <td>JX010470</td>\n",
       "      <td>ap2</td>\n",
       "      <td>Wenemoser et al. (2012)</td>\n",
       "    </tr>\n",
       "    <tr>\n",
       "      <th>5</th>\n",
       "      <td>SMEST003328001.1</td>\n",
       "      <td>SMESG000003328.1</td>\n",
       "      <td>MSTRG.707</td>\n",
       "      <td>JX010471</td>\n",
       "      <td>Fos-1</td>\n",
       "      <td>Wenemoser et al. (2012)</td>\n",
       "    </tr>\n",
       "    <tr>\n",
       "      <th>6</th>\n",
       "      <td>SMEST074732001.1</td>\n",
       "      <td>SMESG000074732.1</td>\n",
       "      <td>MSTRG.21952</td>\n",
       "      <td>JX010474</td>\n",
       "      <td>SRF</td>\n",
       "      <td>Wenemoser et al. (2012)</td>\n",
       "    </tr>\n",
       "    <tr>\n",
       "      <th>7</th>\n",
       "      <td>MSTRG.12215.2</td>\n",
       "      <td>SMESG000039056.1</td>\n",
       "      <td>MSTRG.12215</td>\n",
       "      <td>JX010503</td>\n",
       "      <td>Pax6A</td>\n",
       "      <td>Wenemoser et al. (2012)</td>\n",
       "    </tr>\n",
       "    <tr>\n",
       "      <th>8</th>\n",
       "      <td>MSTRG.19831.4</td>\n",
       "      <td>SMESG000066725.1</td>\n",
       "      <td>MSTRG.19831</td>\n",
       "      <td>JX010525</td>\n",
       "      <td>soxP-5</td>\n",
       "      <td>Wenemoser et al. (2012)</td>\n",
       "    </tr>\n",
       "    <tr>\n",
       "      <th>9</th>\n",
       "      <td>SMEST033792001.1</td>\n",
       "      <td>SMESG000033792.1</td>\n",
       "      <td>MSTRG.10592</td>\n",
       "      <td>JX010618</td>\n",
       "      <td>hmx-1</td>\n",
       "      <td>Wenemoser et al. (2012)</td>\n",
       "    </tr>\n",
       "    <tr>\n",
       "      <th>10</th>\n",
       "      <td>SMEST009894001.1</td>\n",
       "      <td>SMESG000009894.1</td>\n",
       "      <td>MSTRG.3785</td>\n",
       "      <td>JX010630</td>\n",
       "      <td>six3-1</td>\n",
       "      <td>Wenemoser et al. (2012)</td>\n",
       "    </tr>\n",
       "    <tr>\n",
       "      <th>11</th>\n",
       "      <td>MSTRG.21546.2</td>\n",
       "      <td>SMESG000077501.1</td>\n",
       "      <td>MSTRG.21546</td>\n",
       "      <td>KJ934811</td>\n",
       "      <td>Pax6B</td>\n",
       "      <td>Wenemoser et al. (2012)</td>\n",
       "    </tr>\n",
       "  </tbody>\n",
       "</table>\n",
       "</div>"
      ],
      "text/plain": [
       "       Transcript.ID           Rink.ID     Neiro.ID Original.ID Original.name  \\\n",
       "0   SMEST014779001.1  SMESG000014779.1   MSTRG.4469    JF720854        runt-1   \n",
       "1      MSTRG.10065.1  SMESG000031965.1  MSTRG.10065    JN983826          otxA   \n",
       "2   SMEST067959002.1  SMESG000067959.1  MSTRG.20106    JQ425155         Jun-1   \n",
       "3      MSTRG.11197.1  SMESG000034285.1  MSTRG.11197    JQ425156         Egr-1   \n",
       "4   SMEST022356001.1  SMESG000022356.1   MSTRG.7890    JX010470           ap2   \n",
       "5   SMEST003328001.1  SMESG000003328.1    MSTRG.707    JX010471         Fos-1   \n",
       "6   SMEST074732001.1  SMESG000074732.1  MSTRG.21952    JX010474           SRF   \n",
       "7      MSTRG.12215.2  SMESG000039056.1  MSTRG.12215    JX010503         Pax6A   \n",
       "8      MSTRG.19831.4  SMESG000066725.1  MSTRG.19831    JX010525        soxP-5   \n",
       "9   SMEST033792001.1  SMESG000033792.1  MSTRG.10592    JX010618         hmx-1   \n",
       "10  SMEST009894001.1  SMESG000009894.1   MSTRG.3785    JX010630        six3-1   \n",
       "11     MSTRG.21546.2  SMESG000077501.1  MSTRG.21546    KJ934811         Pax6B   \n",
       "\n",
       "                     Source  \n",
       "0   Wenemoser et al. (2012)  \n",
       "1   Wenemoser et al. (2012)  \n",
       "2   Wenemoser et al. (2012)  \n",
       "3   Wenemoser et al. (2012)  \n",
       "4   Wenemoser et al. (2012)  \n",
       "5   Wenemoser et al. (2012)  \n",
       "6   Wenemoser et al. (2012)  \n",
       "7   Wenemoser et al. (2012)  \n",
       "8   Wenemoser et al. (2012)  \n",
       "9   Wenemoser et al. (2012)  \n",
       "10  Wenemoser et al. (2012)  \n",
       "11  Wenemoser et al. (2012)  "
      ]
     },
     "execution_count": 11,
     "metadata": {},
     "output_type": "execute_result"
    }
   ],
   "source": [
    "pd.read_csv(\"/hydra/TF_data/TF_Wenemoser2012.csv\")"
   ]
  },
  {
   "cell_type": "markdown",
   "id": "21b560e5",
   "metadata": {},
   "source": [
    "## 4.3 Genetic regulators of a pluripotent adult stem cell system in planarians identified by RNAi and clonal analysis\n",
    "Wagner, D.E., Ho, J.J. and Reddien, P.W., 2012. Genetic regulators of a pluripotent adult stem cell system in planarians identified by RNAi and clonal analysis. Cell stem cell, 10(3), pp.299-311.\n",
    "\n",
    "We utilized transcriptional profiling to identify planarian genes expressed in adulut proliferating, regenerative cells (neoblasts). We also developed quantitative clonal analysis methods for expansion and differentiation of CNeoblast descendants that, together with RNAi, revealed gene roles in stem cell biology. \n",
    "\n",
    "Genetic investigation of planarian stem cell biology, therefore, provides an opportunity to discover gene networks promoting pluripotency, maintenance of pluripotency within adult tissues, and deployment of stem cells for the regeneration of missing cell types.\n",
    "\n",
    "We performed genome-level microarray studies comparing the expression profiles of untreated animals to animals exposed to a lethal does (6,000 rads) of gamma irradiation. \n",
    "\n",
    "The potential role of transcription factors and signaling proteins in planarian stem cell regulation has only received minor attention. We identified seven genes encoding predicted transcription factors expressed in proliferative cells: med-prox-1 (Prospero Homeobox 1), Smed-tcf15 (Transcription Factor 15), Smed-soxP-1, Smed-soxP-2, and Smed-soxP-3 (three genes encoding SRY box containing proteins), Smed-junl-1 (c-jun-like), and Smed-egr-1 (Early Growth Response protein), as well as four genes predicted to encode zinc finger domain-containing proteins, Smed-zfmym-1, Smed-zf207-1, Smed-fhl-1 (a Four and a Half LIM Domain protein), and Smed-zfp-1. \n",
    "\n",
    "zmym-1, soxP-1, fhl-1 and zfp-1 had \"failed colony expansion\" RNAi phenotypes. These data suggest that vasa-1 and zfp-1 function within proliferative cells, prior to significant expression of p53, to promote the process of differentiation. \n",
    "\n",
    "We tested whether RNAi phenotypes initially identified by colony analyses would manifest in adult planarians in the absence or irradiation.  Long-term experiments in unirradiated animals revealed that soxP-1(RNAi) animals experience progressive loss of smedwi-1+ cells, resulting in near complete depletion after 41 days of RNAi. Together these data indicate soxP-1 is necessary for long-term maintenance of adult stem cell activity in the absence of irradiation. Notably, SOXP-1 represents the first known transcription factor expressed broadly in the neoblast population and required for its maintenance.\n",
    "\n",
    "This analysis did not generate strong support for Smed-soxP-1, Smed-soxP-2, or SmedsoxP-3 belonging to any specific Sox families.\n",
    "\n",
    "RNAi of fhl-1 did not result in decline of cell proliferation, indicating that not all genes required for colony expansion will necessarily display defects during normal homeostasis.\n",
    "\n",
    "For both zfp-1 and vasa-1(RNAi) animals, successful head regeneration was observed 7 days after amputation, although regenerated tissues subsequently regressed. \n",
    "\n",
    "Full-length sequences of genes cloned for this study are deposited in Genbank, accession numbers\n",
    "JQ425133- JQ425160"
   ]
  },
  {
   "cell_type": "code",
   "execution_count": 3,
   "id": "99c240eb",
   "metadata": {},
   "outputs": [
    {
     "name": "stdout",
     "output_type": "stream",
     "text": [
      ">JQ425146.1 Schmidtea mediterranea ZMYM-1 mRNA, complete cds\n",
      ">JQ425147.1 Schmidtea mediterranea ZNF207-1 mRNA, complete cds\n",
      ">JQ425148.1 Schmidtea mediterranea FHL-1 mRNA, complete cds\n",
      ">JQ425149.1 Schmidtea mediterranea PROX-1 mRNA, complete cds\n",
      ">JQ425150.1 Schmidtea mediterranea TCF15 mRNA, complete cds\n",
      ">JQ425151.1 Schmidtea mediterranea SOXP-1 mRNA, complete cds\n",
      ">JQ425152.1 Schmidtea mediterranea SOXP-2 mRNA, complete cds\n",
      ">JQ425153.1 Schmidtea mediterranea SOXP-3 mRNA, partial cds\n",
      ">JQ425154.1 Schmidtea mediterranea ZFP-1 mRNA, complete cds\n",
      ">JQ425156.1 Schmidtea mediterranea EGR-1 mRNA, complete cds\n"
     ]
    }
   ],
   "source": [
    "%%bash\n",
    "cd /hydra/TF_data\n",
    "grep \">\" Wagner2012.fa"
   ]
  },
  {
   "cell_type": "code",
   "execution_count": 32,
   "id": "3e8e24fb",
   "metadata": {},
   "outputs": [],
   "source": [
    "import pandas as pd\n",
    "Wagner2012 = pd.DataFrame({\"ID\": [\"JQ425146.1\", \"JQ425147.1\", \"JQ425148.1\", \"JQ425149.1\", \"JQ425150.1\", \"JQ425151.1\", \"JQ425152.1\", \"JQ425153.1\", \"JQ425154.1\", \"JQ425156.1\"], \"Name\": [\"ZMYM-1\", \"ZNF207-1\", \"FHL-1\", \"PROX-1\", \"TCF15\", \"SOXP-1\", \"SOXP-2\", \"SOXP-3\", \"ZFP-1\", \"EGR-1\"]})"
   ]
  },
  {
   "cell_type": "code",
   "execution_count": 11,
   "id": "e2270358",
   "metadata": {},
   "outputs": [],
   "source": [
    "%%bash\n",
    "cd /hydra/TF_data/\n",
    "blastn -db /hydra/FACS/stringtie_transcripts.fa -query Wagner2012.fa -out blast_Wagner2012 -outfmt 6"
   ]
  },
  {
   "cell_type": "code",
   "execution_count": 33,
   "id": "ca08e09e",
   "metadata": {},
   "outputs": [],
   "source": [
    "import pandas as pd\n",
    "blast_Wagner2012 = pd.read_csv(\"/hydra/TF_data/blast_Wagner2012\", sep=\"\\t\", header=None)\n",
    "blast_Wagner2012.columns = [\"Seqid\", \"qid\", \"Per\", \"Len\", \"Mis\", \"Gap\", \"Startq\", \"Endq\", \"Starts\", \"Ends\", \"E\", \"Bit\"]\n",
    "blast_Wagner2012 = blast_Wagner2012.loc[blast_Wagner2012.groupby(\"Seqid\")[\"Bit\"].idxmax()]"
   ]
  },
  {
   "cell_type": "code",
   "execution_count": 34,
   "id": "2ba8410e",
   "metadata": {},
   "outputs": [],
   "source": [
    "TF_table_Wagner2012 = tf_table(blast_Wagner2012, \"Wagner et al. (2012)\", Wagner2012)"
   ]
  },
  {
   "cell_type": "code",
   "execution_count": 37,
   "id": "3ffb888e",
   "metadata": {},
   "outputs": [],
   "source": [
    "TF_table_Wagner2012.to_csv(\"/hydra/TF_data/TF_Wagner2012.csv\", index=False)"
   ]
  },
  {
   "cell_type": "code",
   "execution_count": 38,
   "id": "2d7a2358",
   "metadata": {},
   "outputs": [
    {
     "data": {
      "text/html": [
       "<div>\n",
       "<style scoped>\n",
       "    .dataframe tbody tr th:only-of-type {\n",
       "        vertical-align: middle;\n",
       "    }\n",
       "\n",
       "    .dataframe tbody tr th {\n",
       "        vertical-align: top;\n",
       "    }\n",
       "\n",
       "    .dataframe thead th {\n",
       "        text-align: right;\n",
       "    }\n",
       "</style>\n",
       "<table border=\"1\" class=\"dataframe\">\n",
       "  <thead>\n",
       "    <tr style=\"text-align: right;\">\n",
       "      <th></th>\n",
       "      <th>Transcript.ID</th>\n",
       "      <th>Rink.ID</th>\n",
       "      <th>Neiro.ID</th>\n",
       "      <th>Original.ID</th>\n",
       "      <th>Original.name</th>\n",
       "      <th>Source</th>\n",
       "    </tr>\n",
       "  </thead>\n",
       "  <tbody>\n",
       "    <tr>\n",
       "      <th>0</th>\n",
       "      <td>MSTRG.10122.3</td>\n",
       "      <td>SMESG000032173.1</td>\n",
       "      <td>MSTRG.10122</td>\n",
       "      <td>JQ425146</td>\n",
       "      <td>ZMYM-1</td>\n",
       "      <td>Wagner et al. (2012)</td>\n",
       "    </tr>\n",
       "    <tr>\n",
       "      <th>1</th>\n",
       "      <td>MSTRG.21518.4</td>\n",
       "      <td>SMESG000077995.1</td>\n",
       "      <td>MSTRG.21518</td>\n",
       "      <td>JQ425147</td>\n",
       "      <td>ZNF207-1</td>\n",
       "      <td>Wagner et al. (2012)</td>\n",
       "    </tr>\n",
       "    <tr>\n",
       "      <th>2</th>\n",
       "      <td>SMEST004969001.1</td>\n",
       "      <td>SMESG000004969.1</td>\n",
       "      <td>MSTRG.2394</td>\n",
       "      <td>JQ425148</td>\n",
       "      <td>FHL-1</td>\n",
       "      <td>Wagner et al. (2012)</td>\n",
       "    </tr>\n",
       "    <tr>\n",
       "      <th>3</th>\n",
       "      <td>SMEST068287001.1</td>\n",
       "      <td>SMESG000068287.1</td>\n",
       "      <td>MSTRG.20222</td>\n",
       "      <td>JQ425149</td>\n",
       "      <td>PROX-1</td>\n",
       "      <td>Wagner et al. (2012)</td>\n",
       "    </tr>\n",
       "    <tr>\n",
       "      <th>4</th>\n",
       "      <td>SMEST044395001.1</td>\n",
       "      <td>SMESG000044395.1</td>\n",
       "      <td>MSTRG.13829</td>\n",
       "      <td>JQ425150</td>\n",
       "      <td>TCF15</td>\n",
       "      <td>Wagner et al. (2012)</td>\n",
       "    </tr>\n",
       "    <tr>\n",
       "      <th>5</th>\n",
       "      <td>MSTRG.3856.6</td>\n",
       "      <td>SMESG000010063.1</td>\n",
       "      <td>MSTRG.3856</td>\n",
       "      <td>JQ425151</td>\n",
       "      <td>SOXP-1</td>\n",
       "      <td>Wagner et al. (2012)</td>\n",
       "    </tr>\n",
       "    <tr>\n",
       "      <th>6</th>\n",
       "      <td>MSTRG.21964.3</td>\n",
       "      <td>SMESG000074761.1</td>\n",
       "      <td>MSTRG.21964</td>\n",
       "      <td>JQ425152</td>\n",
       "      <td>SOXP-2</td>\n",
       "      <td>Wagner et al. (2012)</td>\n",
       "    </tr>\n",
       "    <tr>\n",
       "      <th>7</th>\n",
       "      <td>SMEST051170001.1</td>\n",
       "      <td>SMESG000051170.1</td>\n",
       "      <td>MSTRG.13411</td>\n",
       "      <td>JQ425153</td>\n",
       "      <td>SOXP-3</td>\n",
       "      <td>Wagner et al. (2012)</td>\n",
       "    </tr>\n",
       "    <tr>\n",
       "      <th>8</th>\n",
       "      <td>MSTRG.19740.1</td>\n",
       "      <td>SMESG000066384.1</td>\n",
       "      <td>MSTRG.19740</td>\n",
       "      <td>JQ425154</td>\n",
       "      <td>ZFP-1</td>\n",
       "      <td>Wagner et al. (2012)</td>\n",
       "    </tr>\n",
       "    <tr>\n",
       "      <th>9</th>\n",
       "      <td>MSTRG.11197.1</td>\n",
       "      <td>SMESG000034285.1</td>\n",
       "      <td>MSTRG.11197</td>\n",
       "      <td>JQ425156</td>\n",
       "      <td>EGR-1</td>\n",
       "      <td>Wagner et al. (2012)</td>\n",
       "    </tr>\n",
       "  </tbody>\n",
       "</table>\n",
       "</div>"
      ],
      "text/plain": [
       "      Transcript.ID           Rink.ID     Neiro.ID Original.ID Original.name  \\\n",
       "0     MSTRG.10122.3  SMESG000032173.1  MSTRG.10122    JQ425146        ZMYM-1   \n",
       "1     MSTRG.21518.4  SMESG000077995.1  MSTRG.21518    JQ425147      ZNF207-1   \n",
       "2  SMEST004969001.1  SMESG000004969.1   MSTRG.2394    JQ425148         FHL-1   \n",
       "3  SMEST068287001.1  SMESG000068287.1  MSTRG.20222    JQ425149        PROX-1   \n",
       "4  SMEST044395001.1  SMESG000044395.1  MSTRG.13829    JQ425150         TCF15   \n",
       "5      MSTRG.3856.6  SMESG000010063.1   MSTRG.3856    JQ425151        SOXP-1   \n",
       "6     MSTRG.21964.3  SMESG000074761.1  MSTRG.21964    JQ425152        SOXP-2   \n",
       "7  SMEST051170001.1  SMESG000051170.1  MSTRG.13411    JQ425153        SOXP-3   \n",
       "8     MSTRG.19740.1  SMESG000066384.1  MSTRG.19740    JQ425154         ZFP-1   \n",
       "9     MSTRG.11197.1  SMESG000034285.1  MSTRG.11197    JQ425156         EGR-1   \n",
       "\n",
       "                 Source  \n",
       "0  Wagner et al. (2012)  \n",
       "1  Wagner et al. (2012)  \n",
       "2  Wagner et al. (2012)  \n",
       "3  Wagner et al. (2012)  \n",
       "4  Wagner et al. (2012)  \n",
       "5  Wagner et al. (2012)  \n",
       "6  Wagner et al. (2012)  \n",
       "7  Wagner et al. (2012)  \n",
       "8  Wagner et al. (2012)  \n",
       "9  Wagner et al. (2012)  "
      ]
     },
     "execution_count": 38,
     "metadata": {},
     "output_type": "execute_result"
    }
   ],
   "source": [
    "pd.read_csv(\"/hydra/TF_data/TF_Wagner2012.csv\")"
   ]
  },
  {
   "cell_type": "markdown",
   "id": "48d107df",
   "metadata": {},
   "source": [
    "## 4.4 Transcriptome analysis of the planarian eye identifies ovo as a specific regulator of eye regeneration\n",
    "\n",
    "Lapan, S.W. and Reddien, P.W., 2012. Transcriptome analysis of the planarian eye identifies ovo as a specific regulator of eye regeneration. Cell reports, 2(2), pp.294-307."
   ]
  },
  {
   "cell_type": "markdown",
   "id": "84fa27eb",
   "metadata": {},
   "source": [
    "* Here we identified 10 new conserved genes predicted to encode transcription factors with enriched expression in planarian eyes (Figure2B-C)\n",
    "* soxB, ovo, meis, klf, foxQ2, zfp-2, smad6/7-2, crol, nf-i/a, nkx1. Full names and additional orthology information given in Table S1.\n",
    "* The most prominently enriched of these was a member of the Ovo family of zinc finger transcription factor-encoding genes (Figure S3). Expression. \n",
    "* Other previously known eye-expressed transcription factors, eya, six-1/2, sp6-9, and otxA also have expression in the brain and/or elsewhere in the body (Lapan and Reddien, 2011; Pineada et al. 2000, Umesono et al. 1999)"
   ]
  },
  {
   "cell_type": "code",
   "execution_count": 9,
   "id": "e5180452",
   "metadata": {},
   "outputs": [],
   "source": [
    "import pandas as pd\n",
    "Lapan2012xls = pd.read_excel(\"/hydra/TF_data/Lapan2012.xls\")"
   ]
  },
  {
   "cell_type": "code",
   "execution_count": 10,
   "id": "ad18b57f",
   "metadata": {},
   "outputs": [],
   "source": [
    "Lapan2012names = [\"soxB\", \"ovo\", \"meis\", \"klf\", \"foxq2\", \"zfp-2\", \"smad6/7-2\", \"crol\", \"nf-i/a\", \"nkx1\"]"
   ]
  },
  {
   "cell_type": "code",
   "execution_count": 11,
   "id": "be59c8d3",
   "metadata": {},
   "outputs": [],
   "source": [
    "Lapan2012 = Lapan2012xls[Lapan2012xls[\"planarian gene name\"].str.contains(Lapan2012names[0], na=False)]\n",
    "for i in range(1,len(Lapan2012names)):\n",
    "    df = Lapan2012xls[Lapan2012xls[\"planarian gene name\"].str.contains(Lapan2012names[i], na=False)]\n",
    "    Lapan2012 = pd.concat([Lapan2012, df])"
   ]
  },
  {
   "cell_type": "code",
   "execution_count": 23,
   "id": "8665f7c9",
   "metadata": {},
   "outputs": [
    {
     "data": {
      "text/plain": [
       "10"
      ]
     },
     "execution_count": 23,
     "metadata": {},
     "output_type": "execute_result"
    }
   ],
   "source": [
    "len(Lapan2012)"
   ]
  },
  {
   "cell_type": "code",
   "execution_count": 49,
   "id": "7c35e1ae",
   "metadata": {},
   "outputs": [],
   "source": [
    "f = open(\"/hydra/TF_data/Lapan2012.fa\", \"a\")\n",
    "for i in range(len(Lapan2012)):\n",
    "    f.write(\">\"+Lapan2012.iloc[i,4]+\"\\n\")\n",
    "    f.write(Lapan2012.iloc[i,11]+\"\\n\")"
   ]
  },
  {
   "cell_type": "code",
   "execution_count": 54,
   "id": "febca1bb",
   "metadata": {},
   "outputs": [],
   "source": [
    "%%bash\n",
    "cd /hydra/TF_data/\n",
    "head -20  Lapan2012.fa > Lapan2012_2.fa"
   ]
  },
  {
   "cell_type": "code",
   "execution_count": 55,
   "id": "0e4f2ae2",
   "metadata": {},
   "outputs": [],
   "source": [
    "%%bash\n",
    "cd /hydra/TF_data/\n",
    "blastn -db /hydra/FACS/stringtie_transcripts.fa -query Lapan2012_2.fa -out blast_Lapan2012 -outfmt 6 -evalue 1.0 -word_size 10"
   ]
  },
  {
   "cell_type": "code",
   "execution_count": 56,
   "id": "308987ad",
   "metadata": {},
   "outputs": [],
   "source": [
    "import pandas as pd\n",
    "blast_Lapan2012 = pd.read_csv(\"/hydra/TF_data/blast_Lapan2012\", sep=\"\\t\", header=None)\n",
    "blast_Lapan2012.columns = [\"Seqid\", \"qid\", \"Per\", \"Len\", \"Mis\", \"Gap\", \"Startq\", \"Endq\", \"Starts\", \"Ends\", \"E\", \"Bit\"]\n",
    "blast_Lapan2012 = blast_Lapan2012.loc[blast_Lapan2012.groupby(\"Seqid\")[\"Bit\"].idxmax()]"
   ]
  },
  {
   "cell_type": "code",
   "execution_count": 57,
   "id": "db27d97f",
   "metadata": {},
   "outputs": [],
   "source": [
    "transcript_id = []\n",
    "gene_id_rink = []\n",
    "gene_id_neiro = []\n",
    "original_id = []\n",
    "original_name = []\n",
    "for i in range(len(blast_Lapan2012)):\n",
    "    t_id = blast_Lapan2012.iloc[i,1]\n",
    "    o_id = \"NA\"\n",
    "    transcript_id.append(t_id)\n",
    "    gene_id_rink.append(gene2transcript[gene2transcript[\"qry_id\"] == t_id].iloc[0,0])\n",
    "    gene_id_neiro.append(gene2transcript[gene2transcript[\"qry_id\"] == t_id].iloc[0,1])\n",
    "    original_id.append(o_id)\n",
    "    original_name.append(blast_Lapan2012.iloc[i,0])\n",
    "source = [\"Lapan et al. (2012)\"] * len(original_name)"
   ]
  },
  {
   "cell_type": "code",
   "execution_count": 58,
   "id": "a2565bf2",
   "metadata": {},
   "outputs": [],
   "source": [
    "TF_table_Lapan2012 = pd.DataFrame({\"Transcript.ID\": transcript_id, \"Rink.ID\": gene_id_rink, \"Neiro.ID\": gene_id_neiro, \"Original.ID\": original_id, \"Original.name\": original_name, \"Source\": source})"
   ]
  },
  {
   "cell_type": "code",
   "execution_count": 61,
   "id": "1591a8a1",
   "metadata": {},
   "outputs": [],
   "source": [
    "TF_table_Lapan2012.to_csv(\"/hydra/TF_data/TF_Lapan2012.csv\", index=False)"
   ]
  },
  {
   "cell_type": "code",
   "execution_count": 62,
   "id": "f4472a2f",
   "metadata": {},
   "outputs": [
    {
     "data": {
      "text/html": [
       "<div>\n",
       "<style scoped>\n",
       "    .dataframe tbody tr th:only-of-type {\n",
       "        vertical-align: middle;\n",
       "    }\n",
       "\n",
       "    .dataframe tbody tr th {\n",
       "        vertical-align: top;\n",
       "    }\n",
       "\n",
       "    .dataframe thead th {\n",
       "        text-align: right;\n",
       "    }\n",
       "</style>\n",
       "<table border=\"1\" class=\"dataframe\">\n",
       "  <thead>\n",
       "    <tr style=\"text-align: right;\">\n",
       "      <th></th>\n",
       "      <th>Transcript.ID</th>\n",
       "      <th>Rink.ID</th>\n",
       "      <th>Neiro.ID</th>\n",
       "      <th>Original.ID</th>\n",
       "      <th>Original.name</th>\n",
       "      <th>Source</th>\n",
       "    </tr>\n",
       "  </thead>\n",
       "  <tbody>\n",
       "    <tr>\n",
       "      <th>0</th>\n",
       "      <td>MSTRG.20661.2</td>\n",
       "      <td>SMESG000069974.1</td>\n",
       "      <td>MSTRG.20661</td>\n",
       "      <td>NaN</td>\n",
       "      <td>Smed-crol</td>\n",
       "      <td>Lapan et al. (2012)</td>\n",
       "    </tr>\n",
       "    <tr>\n",
       "      <th>1</th>\n",
       "      <td>SMEST062929001.1</td>\n",
       "      <td>SMESG000062929.1</td>\n",
       "      <td>MSTRG.18815</td>\n",
       "      <td>NaN</td>\n",
       "      <td>Smed-foxq2</td>\n",
       "      <td>Lapan et al. (2012)</td>\n",
       "    </tr>\n",
       "    <tr>\n",
       "      <th>2</th>\n",
       "      <td>MSTRG.15979.1</td>\n",
       "      <td>-</td>\n",
       "      <td>MSTRG.15979</td>\n",
       "      <td>NaN</td>\n",
       "      <td>Smed-klf</td>\n",
       "      <td>Lapan et al. (2012)</td>\n",
       "    </tr>\n",
       "    <tr>\n",
       "      <th>3</th>\n",
       "      <td>SMEST006530002.1</td>\n",
       "      <td>SMESG000006530.1</td>\n",
       "      <td>MSTRG.1897</td>\n",
       "      <td>NaN</td>\n",
       "      <td>Smed-meis</td>\n",
       "      <td>Lapan et al. (2012)</td>\n",
       "    </tr>\n",
       "    <tr>\n",
       "      <th>4</th>\n",
       "      <td>SMEST010567001.1</td>\n",
       "      <td>SMESG000010567.1</td>\n",
       "      <td>MSTRG.3965</td>\n",
       "      <td>NaN</td>\n",
       "      <td>Smed-nf-i/a</td>\n",
       "      <td>Lapan et al. (2012)</td>\n",
       "    </tr>\n",
       "    <tr>\n",
       "      <th>5</th>\n",
       "      <td>SMEST041571001.1</td>\n",
       "      <td>SMESG000041571.1</td>\n",
       "      <td>MSTRG.8974</td>\n",
       "      <td>NaN</td>\n",
       "      <td>Smed-nkx1</td>\n",
       "      <td>Lapan et al. (2012)</td>\n",
       "    </tr>\n",
       "    <tr>\n",
       "      <th>6</th>\n",
       "      <td>SMEST081129002.1</td>\n",
       "      <td>SMESG000081129.1</td>\n",
       "      <td>MSTRG.22732</td>\n",
       "      <td>NaN</td>\n",
       "      <td>Smed-ovo</td>\n",
       "      <td>Lapan et al. (2012)</td>\n",
       "    </tr>\n",
       "    <tr>\n",
       "      <th>7</th>\n",
       "      <td>MSTRG.7692.2</td>\n",
       "      <td>SMESG000021574.1</td>\n",
       "      <td>MSTRG.7692</td>\n",
       "      <td>NaN</td>\n",
       "      <td>Smed-smad6/7-2</td>\n",
       "      <td>Lapan et al. (2012)</td>\n",
       "    </tr>\n",
       "    <tr>\n",
       "      <th>8</th>\n",
       "      <td>SMEST011244001.1</td>\n",
       "      <td>SMESG000011244.1</td>\n",
       "      <td>MSTRG.4189</td>\n",
       "      <td>NaN</td>\n",
       "      <td>Smed-soxB</td>\n",
       "      <td>Lapan et al. (2012)</td>\n",
       "    </tr>\n",
       "    <tr>\n",
       "      <th>9</th>\n",
       "      <td>SMEST022971001.1</td>\n",
       "      <td>SMESG000022971.1</td>\n",
       "      <td>MSTRG.7499</td>\n",
       "      <td>NaN</td>\n",
       "      <td>Smed-zfp-2</td>\n",
       "      <td>Lapan et al. (2012)</td>\n",
       "    </tr>\n",
       "  </tbody>\n",
       "</table>\n",
       "</div>"
      ],
      "text/plain": [
       "      Transcript.ID           Rink.ID     Neiro.ID  Original.ID  \\\n",
       "0     MSTRG.20661.2  SMESG000069974.1  MSTRG.20661          NaN   \n",
       "1  SMEST062929001.1  SMESG000062929.1  MSTRG.18815          NaN   \n",
       "2     MSTRG.15979.1                 -  MSTRG.15979          NaN   \n",
       "3  SMEST006530002.1  SMESG000006530.1   MSTRG.1897          NaN   \n",
       "4  SMEST010567001.1  SMESG000010567.1   MSTRG.3965          NaN   \n",
       "5  SMEST041571001.1  SMESG000041571.1   MSTRG.8974          NaN   \n",
       "6  SMEST081129002.1  SMESG000081129.1  MSTRG.22732          NaN   \n",
       "7      MSTRG.7692.2  SMESG000021574.1   MSTRG.7692          NaN   \n",
       "8  SMEST011244001.1  SMESG000011244.1   MSTRG.4189          NaN   \n",
       "9  SMEST022971001.1  SMESG000022971.1   MSTRG.7499          NaN   \n",
       "\n",
       "    Original.name               Source  \n",
       "0       Smed-crol  Lapan et al. (2012)  \n",
       "1      Smed-foxq2  Lapan et al. (2012)  \n",
       "2        Smed-klf  Lapan et al. (2012)  \n",
       "3       Smed-meis  Lapan et al. (2012)  \n",
       "4     Smed-nf-i/a  Lapan et al. (2012)  \n",
       "5       Smed-nkx1  Lapan et al. (2012)  \n",
       "6        Smed-ovo  Lapan et al. (2012)  \n",
       "7  Smed-smad6/7-2  Lapan et al. (2012)  \n",
       "8       Smed-soxB  Lapan et al. (2012)  \n",
       "9      Smed-zfp-2  Lapan et al. (2012)  "
      ]
     },
     "execution_count": 62,
     "metadata": {},
     "output_type": "execute_result"
    }
   ],
   "source": [
    "pd.read_csv(\"/hydra/TF_data/TF_Lapan2012.csv\")"
   ]
  },
  {
   "cell_type": "markdown",
   "id": "e1cad85f",
   "metadata": {},
   "source": [
    "## 4.5 Gene expression of pluripotency determinants is conserved between mammalian and planarian stem cells\n",
    "Önal, P., Grün, D., Adamidi, C., Rybak, A., Solana, J., Mastrobuoni, G., Wang, Y., Rahn, H.P., Chen, W., Kempa, S. and Ziebold, U., 2012. Gene expression of pluripotency determinants is conserved between mammalian and planarian stem cells. The EMBO journal, 31(12), pp.2755-2769."
   ]
  },
  {
   "cell_type": "markdown",
   "id": "ab014418",
   "metadata": {},
   "source": [
    "* CUFF.32446.1 Smed-MSX-1\n",
    "* isotig05838 Smed-DTH-1\n",
    "* CUFF.114724.1 Smed-BARHL1\n",
    "* isotig24657 Smed-BARHL2\n",
    "* isotig25237 Smed-POU1\n",
    "* isotig23172 Smed-POU2/3\n",
    "* isotig21311 Smed-POU4-1\n",
    "* CUFF.259540.1 Smed-POU4-2\n",
    "* isotig19788 Smed-POU6\n",
    "* isotig26184 Smed-POU-P1\n",
    "* CUFF.51041.1 Smed-SOXB-2\n",
    "* CUFF.244913.1 Smed-SOXB-1\n",
    "* isotig23570 Smed-SOX-D1\n",
    "* isotig22872 Smed-SOX-D2\n",
    "* isotig17583 Smed-soxP-3 \n",
    "* isotig23820 Smed-soxP-1\n",
    "* isotig25189 Smed-soxP-2 "
   ]
  },
  {
   "cell_type": "code",
   "execution_count": 4,
   "id": "87edf13f",
   "metadata": {},
   "outputs": [
    {
     "name": "stdout",
     "output_type": "stream",
     "text": [
      ">be_Smed_v2_CUFF.32446.1\n",
      ">be_Smed_v2_isotig05838\n",
      ">be_Smed_v2_CUFF.114724.1\n",
      ">be_Smed_v2_isotig24657\n",
      ">be_Smed_v2_isotig25237\n",
      ">be_Smed_v2_isotig23172\n",
      ">be_Smed_v2_isotig21311\n",
      ">be_Smed_v2_CUFF.259540.1\n",
      ">be_Smed_v2_isotig19788\n",
      ">be_Smed_v2_isotig26184\n",
      ">be_Smed_v2_CUFF.51041.1\n",
      ">be_Smed_v2_CUFF.244913.1\n",
      ">be_Smed_v2_isotig23570\n",
      ">be_Smed_v2_isotig22872\n",
      ">be_Smed_v2_isotig17583\n",
      ">be_Smed_v2_isotig23820\n",
      ">be_Smed_v2_isotig25189\n"
     ]
    }
   ],
   "source": [
    "%%bash\n",
    "cd /hydra/TF_data/\n",
    "grep \">\" Onal2012.fa"
   ]
  },
  {
   "cell_type": "code",
   "execution_count": 3,
   "id": "bfd551bb",
   "metadata": {},
   "outputs": [],
   "source": [
    "%%bash\n",
    "cd /hydra/TF_data/\n",
    "blastn -db /hydra/FACS/stringtie_transcripts.fa -query Onal2012.fa -out blast_Onal2012 -outfmt 6"
   ]
  },
  {
   "cell_type": "code",
   "execution_count": 6,
   "id": "087f6da9",
   "metadata": {},
   "outputs": [],
   "source": [
    "import pandas as pd\n",
    "Onal2012 = pd.DataFrame({\"ID\": [\"be_Smed_v2_CUFF.32446.1\", \"be_Smed_v2_isotig05838\", \"be_Smed_v2_CUFF.114724.1\", \"be_Smed_v2_isotig24657\",\n",
    "                               \"be_Smed_v2_isotig25237\", \"be_Smed_v2_isotig23172\", \"be_Smed_v2_isotig21311\", \"be_Smed_v2_CUFF.259540.1\", \n",
    "                               \"be_Smed_v2_isotig19788\", \"be_Smed_v2_isotig26184\", \"be_Smed_v2_CUFF.51041.1\", \"be_Smed_v2_CUFF.244913.1\", \"be_Smed_v2_isotig23570\", \"be_Smed_v2_isotig22872\", \"be_Smed_v2_isotig17583\", \"be_Smed_v2_isotig23820\", \"be_Smed_v2_isotig25189\"], \n",
    "                         \"Name\": [\"Smed-MSX-1\", \"Smed-DTH-1\", \"Smed-BARHL1\", \"Smed-BARHL2\", \"Smed-POU1\", \"Smed-POU2/3\", \"Smed-POU4-1\", \n",
    "                                 \"Smed-POU4-2\", \"Smed-POU6\", \"Smed-POU-P1\", \"Smed-SOXB-2\", \"Smed-SOXB-1\", \"Smed-SOX-D1\", \"Smed-SOX-D2\", \"Smed-soxP-3\", \"Smed-soxP-1\", \"Smed-soxP-2\"]})"
   ]
  },
  {
   "cell_type": "code",
   "execution_count": 7,
   "id": "fd13f085",
   "metadata": {},
   "outputs": [],
   "source": [
    "import pandas as pd\n",
    "blast_Onal2012 = pd.read_csv(\"/hydra/TF_data/blast_Onal2012\", sep=\"\\t\", header=None)\n",
    "blast_Onal2012.columns = [\"Seqid\", \"qid\", \"Per\", \"Len\", \"Mis\", \"Gap\", \"Startq\", \"Endq\", \"Starts\", \"Ends\", \"E\", \"Bit\"]\n",
    "blast_Onal2012 = blast_Onal2012.loc[blast_Onal2012.groupby(\"Seqid\")[\"Bit\"].idxmax()]"
   ]
  },
  {
   "cell_type": "code",
   "execution_count": 11,
   "id": "217088e6",
   "metadata": {},
   "outputs": [],
   "source": [
    "TF_table_Onal2012 = tf_table(blast_Onal2012, \"Onal et al. (2012)\", Onal2012)"
   ]
  },
  {
   "cell_type": "code",
   "execution_count": 13,
   "id": "4324700d",
   "metadata": {},
   "outputs": [],
   "source": [
    "TF_table_Onal2012.to_csv(\"/hydra/TF_data/TF_Onal2012.csv\", index=False)"
   ]
  },
  {
   "cell_type": "code",
   "execution_count": 14,
   "id": "a7776b40",
   "metadata": {},
   "outputs": [
    {
     "data": {
      "text/html": [
       "<div>\n",
       "<style scoped>\n",
       "    .dataframe tbody tr th:only-of-type {\n",
       "        vertical-align: middle;\n",
       "    }\n",
       "\n",
       "    .dataframe tbody tr th {\n",
       "        vertical-align: top;\n",
       "    }\n",
       "\n",
       "    .dataframe thead th {\n",
       "        text-align: right;\n",
       "    }\n",
       "</style>\n",
       "<table border=\"1\" class=\"dataframe\">\n",
       "  <thead>\n",
       "    <tr style=\"text-align: right;\">\n",
       "      <th></th>\n",
       "      <th>Transcript.ID</th>\n",
       "      <th>Rink.ID</th>\n",
       "      <th>Neiro.ID</th>\n",
       "      <th>Original.ID</th>\n",
       "      <th>Original.name</th>\n",
       "      <th>Source</th>\n",
       "    </tr>\n",
       "  </thead>\n",
       "  <tbody>\n",
       "    <tr>\n",
       "      <th>0</th>\n",
       "      <td>MSTRG.9638.1</td>\n",
       "      <td>SMESG000030375.1</td>\n",
       "      <td>MSTRG.9638</td>\n",
       "      <td>be_Smed_v2_CUFF.114724</td>\n",
       "      <td>Smed-BARHL1</td>\n",
       "      <td>Onal et al. (2012)</td>\n",
       "    </tr>\n",
       "    <tr>\n",
       "      <th>1</th>\n",
       "      <td>SMEST011244001.1</td>\n",
       "      <td>SMESG000011244.1</td>\n",
       "      <td>MSTRG.4189</td>\n",
       "      <td>be_Smed_v2_CUFF.244913</td>\n",
       "      <td>Smed-SOXB-1</td>\n",
       "      <td>Onal et al. (2012)</td>\n",
       "    </tr>\n",
       "    <tr>\n",
       "      <th>2</th>\n",
       "      <td>SMEST030759001.1</td>\n",
       "      <td>SMESG000030759.1</td>\n",
       "      <td>MSTRG.9708</td>\n",
       "      <td>be_Smed_v2_CUFF.259540</td>\n",
       "      <td>Smed-POU4-2</td>\n",
       "      <td>Onal et al. (2012)</td>\n",
       "    </tr>\n",
       "    <tr>\n",
       "      <th>3</th>\n",
       "      <td>SMEST019757001.1</td>\n",
       "      <td>SMESG000019757.1</td>\n",
       "      <td>MSTRG.6954</td>\n",
       "      <td>be_Smed_v2_CUFF.32446</td>\n",
       "      <td>Smed-MSX-1</td>\n",
       "      <td>Onal et al. (2012)</td>\n",
       "    </tr>\n",
       "    <tr>\n",
       "      <th>4</th>\n",
       "      <td>SMEST077970001.1</td>\n",
       "      <td>SMESG000077970.1</td>\n",
       "      <td>MSTRG.21711</td>\n",
       "      <td>be_Smed_v2_CUFF.51041</td>\n",
       "      <td>Smed-SOXB-2</td>\n",
       "      <td>Onal et al. (2012)</td>\n",
       "    </tr>\n",
       "    <tr>\n",
       "      <th>5</th>\n",
       "      <td>MSTRG.23238.1</td>\n",
       "      <td>SMESG000079512.1</td>\n",
       "      <td>MSTRG.23238</td>\n",
       "      <td>NaN</td>\n",
       "      <td>Smed-DTH-1</td>\n",
       "      <td>Onal et al. (2012)</td>\n",
       "    </tr>\n",
       "    <tr>\n",
       "      <th>6</th>\n",
       "      <td>SMEST051170001.1</td>\n",
       "      <td>SMESG000051170.1</td>\n",
       "      <td>MSTRG.13411</td>\n",
       "      <td>NaN</td>\n",
       "      <td>Smed-soxP-3</td>\n",
       "      <td>Onal et al. (2012)</td>\n",
       "    </tr>\n",
       "    <tr>\n",
       "      <th>7</th>\n",
       "      <td>MSTRG.15683.2</td>\n",
       "      <td>SMESG000058834.1</td>\n",
       "      <td>MSTRG.15683</td>\n",
       "      <td>NaN</td>\n",
       "      <td>Smed-POU6</td>\n",
       "      <td>Onal et al. (2012)</td>\n",
       "    </tr>\n",
       "    <tr>\n",
       "      <th>8</th>\n",
       "      <td>SMEST013430001.1</td>\n",
       "      <td>SMESG000013430.1</td>\n",
       "      <td>MSTRG.4837</td>\n",
       "      <td>NaN</td>\n",
       "      <td>Smed-POU4-1</td>\n",
       "      <td>Onal et al. (2012)</td>\n",
       "    </tr>\n",
       "    <tr>\n",
       "      <th>9</th>\n",
       "      <td>MSTRG.15514.3</td>\n",
       "      <td>SMESG000050484.1</td>\n",
       "      <td>MSTRG.15514</td>\n",
       "      <td>NaN</td>\n",
       "      <td>Smed-SOX-D2</td>\n",
       "      <td>Onal et al. (2012)</td>\n",
       "    </tr>\n",
       "    <tr>\n",
       "      <th>10</th>\n",
       "      <td>SMEST076173001.1</td>\n",
       "      <td>SMESG000076173.1</td>\n",
       "      <td>MSTRG.22352</td>\n",
       "      <td>NaN</td>\n",
       "      <td>Smed-POU2/3</td>\n",
       "      <td>Onal et al. (2012)</td>\n",
       "    </tr>\n",
       "    <tr>\n",
       "      <th>11</th>\n",
       "      <td>MSTRG.19831.4</td>\n",
       "      <td>SMESG000066725.1</td>\n",
       "      <td>MSTRG.19831</td>\n",
       "      <td>NaN</td>\n",
       "      <td>Smed-SOX-D1</td>\n",
       "      <td>Onal et al. (2012)</td>\n",
       "    </tr>\n",
       "    <tr>\n",
       "      <th>12</th>\n",
       "      <td>SMEST010063002.1</td>\n",
       "      <td>SMESG000010063.1</td>\n",
       "      <td>MSTRG.3856</td>\n",
       "      <td>NaN</td>\n",
       "      <td>Smed-soxP-1</td>\n",
       "      <td>Onal et al. (2012)</td>\n",
       "    </tr>\n",
       "    <tr>\n",
       "      <th>13</th>\n",
       "      <td>SMEST074896001.1</td>\n",
       "      <td>SMESG000074896.1</td>\n",
       "      <td>MSTRG.21923</td>\n",
       "      <td>NaN</td>\n",
       "      <td>Smed-BARHL2</td>\n",
       "      <td>Onal et al. (2012)</td>\n",
       "    </tr>\n",
       "    <tr>\n",
       "      <th>14</th>\n",
       "      <td>MSTRG.21964.3</td>\n",
       "      <td>SMESG000074761.1</td>\n",
       "      <td>MSTRG.21964</td>\n",
       "      <td>NaN</td>\n",
       "      <td>Smed-soxP-2</td>\n",
       "      <td>Onal et al. (2012)</td>\n",
       "    </tr>\n",
       "    <tr>\n",
       "      <th>15</th>\n",
       "      <td>SMEST057970001.1</td>\n",
       "      <td>SMESG000057970.1</td>\n",
       "      <td>MSTRG.15832</td>\n",
       "      <td>NaN</td>\n",
       "      <td>Smed-POU1</td>\n",
       "      <td>Onal et al. (2012)</td>\n",
       "    </tr>\n",
       "    <tr>\n",
       "      <th>16</th>\n",
       "      <td>MSTRG.10087.2</td>\n",
       "      <td>SMESG000032046.1</td>\n",
       "      <td>MSTRG.10087</td>\n",
       "      <td>NaN</td>\n",
       "      <td>Smed-POU-P1</td>\n",
       "      <td>Onal et al. (2012)</td>\n",
       "    </tr>\n",
       "  </tbody>\n",
       "</table>\n",
       "</div>"
      ],
      "text/plain": [
       "       Transcript.ID           Rink.ID     Neiro.ID             Original.ID  \\\n",
       "0       MSTRG.9638.1  SMESG000030375.1   MSTRG.9638  be_Smed_v2_CUFF.114724   \n",
       "1   SMEST011244001.1  SMESG000011244.1   MSTRG.4189  be_Smed_v2_CUFF.244913   \n",
       "2   SMEST030759001.1  SMESG000030759.1   MSTRG.9708  be_Smed_v2_CUFF.259540   \n",
       "3   SMEST019757001.1  SMESG000019757.1   MSTRG.6954   be_Smed_v2_CUFF.32446   \n",
       "4   SMEST077970001.1  SMESG000077970.1  MSTRG.21711   be_Smed_v2_CUFF.51041   \n",
       "5      MSTRG.23238.1  SMESG000079512.1  MSTRG.23238                     NaN   \n",
       "6   SMEST051170001.1  SMESG000051170.1  MSTRG.13411                     NaN   \n",
       "7      MSTRG.15683.2  SMESG000058834.1  MSTRG.15683                     NaN   \n",
       "8   SMEST013430001.1  SMESG000013430.1   MSTRG.4837                     NaN   \n",
       "9      MSTRG.15514.3  SMESG000050484.1  MSTRG.15514                     NaN   \n",
       "10  SMEST076173001.1  SMESG000076173.1  MSTRG.22352                     NaN   \n",
       "11     MSTRG.19831.4  SMESG000066725.1  MSTRG.19831                     NaN   \n",
       "12  SMEST010063002.1  SMESG000010063.1   MSTRG.3856                     NaN   \n",
       "13  SMEST074896001.1  SMESG000074896.1  MSTRG.21923                     NaN   \n",
       "14     MSTRG.21964.3  SMESG000074761.1  MSTRG.21964                     NaN   \n",
       "15  SMEST057970001.1  SMESG000057970.1  MSTRG.15832                     NaN   \n",
       "16     MSTRG.10087.2  SMESG000032046.1  MSTRG.10087                     NaN   \n",
       "\n",
       "   Original.name              Source  \n",
       "0    Smed-BARHL1  Onal et al. (2012)  \n",
       "1    Smed-SOXB-1  Onal et al. (2012)  \n",
       "2    Smed-POU4-2  Onal et al. (2012)  \n",
       "3     Smed-MSX-1  Onal et al. (2012)  \n",
       "4    Smed-SOXB-2  Onal et al. (2012)  \n",
       "5     Smed-DTH-1  Onal et al. (2012)  \n",
       "6    Smed-soxP-3  Onal et al. (2012)  \n",
       "7      Smed-POU6  Onal et al. (2012)  \n",
       "8    Smed-POU4-1  Onal et al. (2012)  \n",
       "9    Smed-SOX-D2  Onal et al. (2012)  \n",
       "10   Smed-POU2/3  Onal et al. (2012)  \n",
       "11   Smed-SOX-D1  Onal et al. (2012)  \n",
       "12   Smed-soxP-1  Onal et al. (2012)  \n",
       "13   Smed-BARHL2  Onal et al. (2012)  \n",
       "14   Smed-soxP-2  Onal et al. (2012)  \n",
       "15     Smed-POU1  Onal et al. (2012)  \n",
       "16   Smed-POU-P1  Onal et al. (2012)  "
      ]
     },
     "execution_count": 14,
     "metadata": {},
     "output_type": "execute_result"
    }
   ],
   "source": [
    "pd.read_csv(\"/hydra/TF_data/TF_Onal2012.csv\")"
   ]
  },
  {
   "cell_type": "markdown",
   "id": "1f799ee8",
   "metadata": {},
   "source": [
    "## 4.6 An RNAi screen reveals intestinal regulators of branching morphogenesis, differentiation, and stem cell proliferation in planarians\n",
    "Forsthoefel, D.J., James, N.P., Escobar, D.J., Stary, J.M., Vieira, A.P., Waters, F.A. and Newmark, P.A., 2012. An RNAi screen reveals intestinal regulators of branching morphogenesis, differentiation, and stem cell proliferation in planarians. Developmental cell, 23(4), pp.691-704."
   ]
  },
  {
   "cell_type": "markdown",
   "id": "cd75111a",
   "metadata": {},
   "source": [
    "* nkx2.2"
   ]
  },
  {
   "cell_type": "markdown",
   "id": "ea5e5d70",
   "metadata": {},
   "source": [
    "# 5. 2013"
   ]
  },
  {
   "cell_type": "markdown",
   "id": "f888a2fb",
   "metadata": {},
   "source": [
    "## 5.1 Genome-wide analysis of the bHLH gene family in planarians identifies factors required for adult neurogenesis and neuronal regeneration\n",
    "Cowles, M.W., Brown, D.D., Nisperos, S.V., Stanley, B.N., Pearson, B.J. and Zayas, R.M., 2013. Genome-wide analysis of the bHLH gene family in planarians identifies factors required for adult neurogenesis and neuronal regeneration. Development, 140(23), pp.4691-4702."
   ]
  },
  {
   "cell_type": "markdown",
   "id": "afb285ec",
   "metadata": {},
   "source": [
    "* Idenfitied 44 planarian bHLH homologs\n",
    "* Patterns of expression in the animal and assessed functions, RNAi\n",
    "* Homologs of coe, hes (hesl-3), and sim label progenitors in intact planarians. Following amputation we observed an enrichment of coe+ and sim+ at the wound site. \n",
    "* WISH: all genes except for neuroD-2\n",
    "* RNAi: all"
   ]
  },
  {
   "cell_type": "code",
   "execution_count": null,
   "id": "f943516e",
   "metadata": {},
   "outputs": [],
   "source": [
    "import pandas as pd\n",
    "Cowles = pd.read_csv(\"/hydra/TF_data/Cowles.tab\", sep=\"\\t\", header=None)"
   ]
  },
  {
   "cell_type": "code",
   "execution_count": null,
   "id": "88fe8d93",
   "metadata": {},
   "outputs": [],
   "source": [
    "Cowles.iloc[:,1].to_csv(\"/hydra/TF_data/CowlesAccession.txt\", header=None, index=False)"
   ]
  },
  {
   "cell_type": "code",
   "execution_count": null,
   "id": "ead58cfb",
   "metadata": {},
   "outputs": [],
   "source": [
    "import pandas as pd\n",
    "Cowles_Accession = pd.read_csv(\"/hydra/TF_data/CowlesAccession.txt\", sep=\"\\t\", header=None)\n",
    "for i in range(len(Cowles_Accession)):\n",
    "    Cowles_Accession.iloc[i,0] = Cowles_Accession.iloc[i,0].strip()\n",
    "Cowles_Accession.iloc[32,0] = \"KF487100\"\n",
    "Cowles.iloc[:,1] = Cowles_Accession.iloc[:,0]"
   ]
  },
  {
   "cell_type": "code",
   "execution_count": null,
   "id": "bbd6a30d",
   "metadata": {},
   "outputs": [],
   "source": [
    "import pandas as pd\n",
    "blast_Cowles = pd.read_csv(\"../TF_data/blast_Cowles\", sep=\"\\t\", header=None)\n",
    "blast_Cowles.columns = [\"Seqid\", \"qid\", \"Per\", \"Len\", \"Mis\", \"Gap\", \"Startq\", \"Endq\", \"Starts\", \"Ends\", \"E\", \"Bit\"]\n",
    "blast_Cowles = blast_Cowles.loc[blast_Cowles.groupby(\"Seqid\")[\"Bit\"].idxmax()]"
   ]
  },
  {
   "cell_type": "code",
   "execution_count": null,
   "id": "951ae2c1",
   "metadata": {},
   "outputs": [],
   "source": [
    "transcript_id = []\n",
    "gene_id_rink = []\n",
    "gene_id_neiro = []\n",
    "original_id = []\n",
    "original_name = []\n",
    "for i in range(len(blast_Cowles)):\n",
    "    t_id = blast_Cowles.iloc[i,1]\n",
    "    o_id = blast_Cowles.iloc[i,0].rpartition(\".\")[0]\n",
    "    transcript_id.append(t_id)\n",
    "    gene_id_rink.append(gene2transcript[gene2transcript[\"qry_id\"] == t_id].iloc[0,0])\n",
    "    gene_id_neiro.append(gene2transcript[gene2transcript[\"qry_id\"] == t_id].iloc[0,1])\n",
    "    original_id.append(o_id)\n",
    "    original_name.append(Cowles[Cowles.iloc[:,1] == o_id].iloc[0,0])\n",
    "source = [\"Cowles (2013)\"] * len(original_name)"
   ]
  },
  {
   "cell_type": "code",
   "execution_count": null,
   "id": "56608ab0",
   "metadata": {},
   "outputs": [],
   "source": [
    "TF_table_Cowles2013 = pd.DataFrame({\"Transcript.ID\": transcript_id, \"Rink.ID\": gene_id_rink, \"Neiro.ID\": gene_id_neiro, \"Original.ID\": original_id, \"Original.name\": original_name, \"Source\": source})"
   ]
  },
  {
   "cell_type": "code",
   "execution_count": null,
   "id": "be68b839",
   "metadata": {},
   "outputs": [],
   "source": [
    "TF_table_Cowles2013.to_csv(\"/hydra/TF_data/TF_Cowles2013.csv\", index=False)"
   ]
  },
  {
   "cell_type": "code",
   "execution_count": 11,
   "id": "e04409d4",
   "metadata": {},
   "outputs": [],
   "source": [
    "TF_table_Cowles2013 = pd.read_csv(\"/hydra/TF_data/TF_Cowles2013.csv\")"
   ]
  },
  {
   "cell_type": "code",
   "execution_count": 56,
   "id": "1d6fbb12",
   "metadata": {},
   "outputs": [
    {
     "data": {
      "text/html": [
       "<div>\n",
       "<style scoped>\n",
       "    .dataframe tbody tr th:only-of-type {\n",
       "        vertical-align: middle;\n",
       "    }\n",
       "\n",
       "    .dataframe tbody tr th {\n",
       "        vertical-align: top;\n",
       "    }\n",
       "\n",
       "    .dataframe thead th {\n",
       "        text-align: right;\n",
       "    }\n",
       "</style>\n",
       "<table border=\"1\" class=\"dataframe\">\n",
       "  <thead>\n",
       "    <tr style=\"text-align: right;\">\n",
       "      <th></th>\n",
       "      <th>Transcript.ID</th>\n",
       "      <th>Rink.ID</th>\n",
       "      <th>Neiro.ID</th>\n",
       "      <th>Original.ID</th>\n",
       "      <th>Original.name</th>\n",
       "      <th>Source</th>\n",
       "    </tr>\n",
       "  </thead>\n",
       "  <tbody>\n",
       "    <tr>\n",
       "      <th>0</th>\n",
       "      <td>SMEST040081001.1</td>\n",
       "      <td>SMESG000040081.1</td>\n",
       "      <td>MSTRG.12572</td>\n",
       "      <td>DN303577</td>\n",
       "      <td>Smed-pancreas specific transcription factor-5 ...</td>\n",
       "      <td>Cowles (2013)</td>\n",
       "    </tr>\n",
       "    <tr>\n",
       "      <th>1</th>\n",
       "      <td>MSTRG.18571.2</td>\n",
       "      <td>SMESG000062271.1</td>\n",
       "      <td>MSTRG.18571</td>\n",
       "      <td>DN305431</td>\n",
       "      <td>Smed-activating enhancer binding protein-like-...</td>\n",
       "      <td>Cowles (2013)</td>\n",
       "    </tr>\n",
       "    <tr>\n",
       "      <th>2</th>\n",
       "      <td>SMEST066244001.1</td>\n",
       "      <td>SMESG000066244.1</td>\n",
       "      <td>MSTRG.19581</td>\n",
       "      <td>DN305764</td>\n",
       "      <td>Smed-neurogenic differentiation-1 (neuroD-1)</td>\n",
       "      <td>Cowles (2013)</td>\n",
       "    </tr>\n",
       "    <tr>\n",
       "      <th>3</th>\n",
       "      <td>SMEST018830001.1</td>\n",
       "      <td>SMESG000018830.1</td>\n",
       "      <td>MSTRG.6032</td>\n",
       "      <td>DN306140</td>\n",
       "      <td>Smed-atonal homolog 8-1 (atoh8-1)</td>\n",
       "      <td>Cowles (2013)</td>\n",
       "    </tr>\n",
       "    <tr>\n",
       "      <th>4</th>\n",
       "      <td>MSTRG.18688.4</td>\n",
       "      <td>SMESG000062657.1</td>\n",
       "      <td>MSTRG.18688</td>\n",
       "      <td>DN308448</td>\n",
       "      <td>Smed-MYC assciated factor X (max)</td>\n",
       "      <td>Cowles (2013)</td>\n",
       "    </tr>\n",
       "    <tr>\n",
       "      <th>5</th>\n",
       "      <td>SMEST025391001.1</td>\n",
       "      <td>SMESG000025391.1</td>\n",
       "      <td>MSTRG.372</td>\n",
       "      <td>HO006087</td>\n",
       "      <td>Smed-max-like protein x (mlx)</td>\n",
       "      <td>Cowles (2013)</td>\n",
       "    </tr>\n",
       "    <tr>\n",
       "      <th>6</th>\n",
       "      <td>SMEST056587001.1</td>\n",
       "      <td>SMESG000056587.1</td>\n",
       "      <td>MSTRG.17089</td>\n",
       "      <td>HO006843</td>\n",
       "      <td>Smed-atonal homolog 8-2 (atoh8-2)</td>\n",
       "      <td>Cowles (2013)</td>\n",
       "    </tr>\n",
       "    <tr>\n",
       "      <th>7</th>\n",
       "      <td>SMEST081049001.1</td>\n",
       "      <td>SMESG000081049.1</td>\n",
       "      <td>MSTRG.22708</td>\n",
       "      <td>HO007476</td>\n",
       "      <td>Smed-activating enhancer binding protein-like-...</td>\n",
       "      <td>Cowles (2013)</td>\n",
       "    </tr>\n",
       "    <tr>\n",
       "      <th>8</th>\n",
       "      <td>SMEST032619001.1</td>\n",
       "      <td>SMESG000032619.1</td>\n",
       "      <td>MSTRG.10663</td>\n",
       "      <td>KF487091</td>\n",
       "      <td>Smed-achaete scute like-2 (ascl-2)</td>\n",
       "      <td>Cowles (2013)</td>\n",
       "    </tr>\n",
       "    <tr>\n",
       "      <th>9</th>\n",
       "      <td>SMEST080379001.1</td>\n",
       "      <td>SMESG000080379.1</td>\n",
       "      <td>MSTRG.23513</td>\n",
       "      <td>KF487092</td>\n",
       "      <td>Smed-basic helix-loop-helix family, member e22...</td>\n",
       "      <td>Cowles (2013)</td>\n",
       "    </tr>\n",
       "    <tr>\n",
       "      <th>10</th>\n",
       "      <td>MSTRG.10086.5</td>\n",
       "      <td>SMESG000032044.1</td>\n",
       "      <td>MSTRG.10086</td>\n",
       "      <td>KF487093</td>\n",
       "      <td>Smed-daughterless (da)</td>\n",
       "      <td>Cowles (2013)</td>\n",
       "    </tr>\n",
       "    <tr>\n",
       "      <th>11</th>\n",
       "      <td>SMEST029000001.1</td>\n",
       "      <td>SMESG000029000.1</td>\n",
       "      <td>MSTRG.9259</td>\n",
       "      <td>KF487094</td>\n",
       "      <td>Smed-fer3l-1 (fer3l-1)</td>\n",
       "      <td>Cowles (2013)</td>\n",
       "    </tr>\n",
       "    <tr>\n",
       "      <th>12</th>\n",
       "      <td>SMEST019274001.1</td>\n",
       "      <td>SMESG000019274.1</td>\n",
       "      <td>MSTRG.6136</td>\n",
       "      <td>KF487095</td>\n",
       "      <td>Smed-fer3l-2 (fer3l-2)</td>\n",
       "      <td>Cowles (2013)</td>\n",
       "    </tr>\n",
       "    <tr>\n",
       "      <th>13</th>\n",
       "      <td>SMEST062901001.1</td>\n",
       "      <td>SMESG000062901.1</td>\n",
       "      <td>MSTRG.18805</td>\n",
       "      <td>KF487096</td>\n",
       "      <td>Smed-fer3l-3 (fer3l-3)</td>\n",
       "      <td>Cowles (2013)</td>\n",
       "    </tr>\n",
       "    <tr>\n",
       "      <th>14</th>\n",
       "      <td>SMEST000528001.1</td>\n",
       "      <td>SMESG000000528.1</td>\n",
       "      <td>MSTRG.1079</td>\n",
       "      <td>KF487097</td>\n",
       "      <td>Smed-mlx interacting protein-like (mlxipl)</td>\n",
       "      <td>Cowles (2013)</td>\n",
       "    </tr>\n",
       "    <tr>\n",
       "      <th>15</th>\n",
       "      <td>SMEST018258001.1</td>\n",
       "      <td>SMESG000018258.1</td>\n",
       "      <td>MSTRG.6445</td>\n",
       "      <td>KF487098</td>\n",
       "      <td>Smed-musculin</td>\n",
       "      <td>Cowles (2013)</td>\n",
       "    </tr>\n",
       "    <tr>\n",
       "      <th>16</th>\n",
       "      <td>SMEST034317001.1</td>\n",
       "      <td>SMESG000034317.1</td>\n",
       "      <td>MSTRG.11214</td>\n",
       "      <td>KF487099</td>\n",
       "      <td>Smed-myogenic differentiation (myoD)</td>\n",
       "      <td>Cowles (2013)</td>\n",
       "    </tr>\n",
       "    <tr>\n",
       "      <th>17</th>\n",
       "      <td>MSTRG.17998.6</td>\n",
       "      <td>SMESG000060238.1</td>\n",
       "      <td>MSTRG.17998</td>\n",
       "      <td>KF487100</td>\n",
       "      <td>Smed-oligodendrocyte lineage transcription fac...</td>\n",
       "      <td>Cowles (2013)</td>\n",
       "    </tr>\n",
       "    <tr>\n",
       "      <th>18</th>\n",
       "      <td>MSTRG.5969.1</td>\n",
       "      <td>-</td>\n",
       "      <td>MSTRG.5969</td>\n",
       "      <td>KF487101</td>\n",
       "      <td>Smed-pancreas specific transcription factor-1 ...</td>\n",
       "      <td>Cowles (2013)</td>\n",
       "    </tr>\n",
       "    <tr>\n",
       "      <th>19</th>\n",
       "      <td>SMEST000956001.1</td>\n",
       "      <td>SMESG000000956.1</td>\n",
       "      <td>MSTRG.1216</td>\n",
       "      <td>KF487102</td>\n",
       "      <td>Smed-pancreas specific transcription factor-2 ...</td>\n",
       "      <td>Cowles (2013)</td>\n",
       "    </tr>\n",
       "    <tr>\n",
       "      <th>20</th>\n",
       "      <td>SMEST045286002.1</td>\n",
       "      <td>SMESG000045286.1</td>\n",
       "      <td>MSTRG.13983</td>\n",
       "      <td>KF487103</td>\n",
       "      <td>Smed-pancreas specific transcription factor-3 ...</td>\n",
       "      <td>Cowles (2013)</td>\n",
       "    </tr>\n",
       "    <tr>\n",
       "      <th>21</th>\n",
       "      <td>SMEST079648001.1</td>\n",
       "      <td>SMESG000079648.1</td>\n",
       "      <td>MSTRG.23258</td>\n",
       "      <td>KF487104</td>\n",
       "      <td>Smed-pancreas specific transcription factor-4 ...</td>\n",
       "      <td>Cowles (2013)</td>\n",
       "    </tr>\n",
       "    <tr>\n",
       "      <th>22</th>\n",
       "      <td>SMEST067729002.1</td>\n",
       "      <td>SMESG000067729.1</td>\n",
       "      <td>MSTRG.20131</td>\n",
       "      <td>KF487105</td>\n",
       "      <td>Smed-T-cell acute lymphocytic leukemia (tal)</td>\n",
       "      <td>Cowles (2013)</td>\n",
       "    </tr>\n",
       "    <tr>\n",
       "      <th>23</th>\n",
       "      <td>SMEST026385001.1</td>\n",
       "      <td>SMESG000026385.1</td>\n",
       "      <td>MSTRG.657</td>\n",
       "      <td>KF487106</td>\n",
       "      <td>Smed-twist</td>\n",
       "      <td>Cowles (2013)</td>\n",
       "    </tr>\n",
       "    <tr>\n",
       "      <th>24</th>\n",
       "      <td>SMEST070743001.1</td>\n",
       "      <td>SMESG000070743.1</td>\n",
       "      <td>MSTRG.20842</td>\n",
       "      <td>KF487107</td>\n",
       "      <td>Smed-aryl hydrocarbon receptor (ahr)</td>\n",
       "      <td>Cowles (2013)</td>\n",
       "    </tr>\n",
       "    <tr>\n",
       "      <th>25</th>\n",
       "      <td>MSTRG.10887.3</td>\n",
       "      <td>SMESG000035153.1</td>\n",
       "      <td>MSTRG.10887</td>\n",
       "      <td>KF487108</td>\n",
       "      <td>Smed-aryl hydrocarbon receptor nuclear translo...</td>\n",
       "      <td>Cowles (2013)</td>\n",
       "    </tr>\n",
       "    <tr>\n",
       "      <th>26</th>\n",
       "      <td>SMEST069088001.1</td>\n",
       "      <td>SMESG000069088.1</td>\n",
       "      <td>MSTRG.19091</td>\n",
       "      <td>KF487109</td>\n",
       "      <td>Smed-collier (coe)</td>\n",
       "      <td>Cowles (2013)</td>\n",
       "    </tr>\n",
       "    <tr>\n",
       "      <th>27</th>\n",
       "      <td>SMEST053680001.1</td>\n",
       "      <td>SMESG000053680.1</td>\n",
       "      <td>MSTRG.16315</td>\n",
       "      <td>KF487110</td>\n",
       "      <td>Smed-hairy and enhancer of split like-1 (hesl-1)</td>\n",
       "      <td>Cowles (2013)</td>\n",
       "    </tr>\n",
       "    <tr>\n",
       "      <th>28</th>\n",
       "      <td>SMEST068772001.1</td>\n",
       "      <td>SMESG000068772.1</td>\n",
       "      <td>MSTRG.19305</td>\n",
       "      <td>KF487111</td>\n",
       "      <td>Smed-hairy and enhancer of split like-2 (hesl-2)</td>\n",
       "      <td>Cowles (2013)</td>\n",
       "    </tr>\n",
       "    <tr>\n",
       "      <th>29</th>\n",
       "      <td>SMEST009969001.1</td>\n",
       "      <td>SMESG000009969.1</td>\n",
       "      <td>MSTRG.3741</td>\n",
       "      <td>KF487112</td>\n",
       "      <td>Smed-hairy and enhancer of split like-3 (hesl-3)</td>\n",
       "      <td>Cowles (2013)</td>\n",
       "    </tr>\n",
       "    <tr>\n",
       "      <th>30</th>\n",
       "      <td>MSTRG.20970.1</td>\n",
       "      <td>-</td>\n",
       "      <td>MSTRG.20970</td>\n",
       "      <td>KF487113</td>\n",
       "      <td>Smed-helix-loop-helix 1 (hlh1)</td>\n",
       "      <td>Cowles (2013)</td>\n",
       "    </tr>\n",
       "    <tr>\n",
       "      <th>31</th>\n",
       "      <td>SMEST017492001.1</td>\n",
       "      <td>SMESG000017492.1</td>\n",
       "      <td>MSTRG.6243</td>\n",
       "      <td>KF487114</td>\n",
       "      <td>Smed-inhibitor of DNA binding 4 (id4)</td>\n",
       "      <td>Cowles (2013)</td>\n",
       "    </tr>\n",
       "    <tr>\n",
       "      <th>32</th>\n",
       "      <td>SMEST047681001.1</td>\n",
       "      <td>SMESG000047681.1</td>\n",
       "      <td>MSTRG.14764</td>\n",
       "      <td>KF487115</td>\n",
       "      <td>Smed-max-interactor-1 (mxi-1)</td>\n",
       "      <td>Cowles (2013)</td>\n",
       "    </tr>\n",
       "    <tr>\n",
       "      <th>33</th>\n",
       "      <td>SMEST060394001.1</td>\n",
       "      <td>SMESG000060394.1</td>\n",
       "      <td>MSTRG.17930</td>\n",
       "      <td>KF487116</td>\n",
       "      <td>Smed-max-interactor-2 (mxi-2)</td>\n",
       "      <td>Cowles (2013)</td>\n",
       "    </tr>\n",
       "    <tr>\n",
       "      <th>34</th>\n",
       "      <td>SMEST051880001.1</td>\n",
       "      <td>SMESG000051880.1</td>\n",
       "      <td>MSTRG.13225</td>\n",
       "      <td>KF487117</td>\n",
       "      <td>Smed-microphthalmia-associated transcription f...</td>\n",
       "      <td>Cowles (2013)</td>\n",
       "    </tr>\n",
       "    <tr>\n",
       "      <th>35</th>\n",
       "      <td>SMEST077129001.1</td>\n",
       "      <td>SMESG000077129.1</td>\n",
       "      <td>MSTRG.22605</td>\n",
       "      <td>KF487118</td>\n",
       "      <td>Smed-microphthalmia-associated transcription f...</td>\n",
       "      <td>Cowles (2013)</td>\n",
       "    </tr>\n",
       "    <tr>\n",
       "      <th>36</th>\n",
       "      <td>MSTRG.2717.3</td>\n",
       "      <td>SMESG000009137.1</td>\n",
       "      <td>MSTRG.2717</td>\n",
       "      <td>KF487119</td>\n",
       "      <td>Smed-microphthalmia-associated transcription f...</td>\n",
       "      <td>Cowles (2013)</td>\n",
       "    </tr>\n",
       "    <tr>\n",
       "      <th>37</th>\n",
       "      <td>SMEST081091001.1</td>\n",
       "      <td>SMESG000081091.1</td>\n",
       "      <td>MSTRG.22726</td>\n",
       "      <td>KF487120</td>\n",
       "      <td>Smed-neurogenic differentiation-2 (neuroD-2)</td>\n",
       "      <td>Cowles (2013)</td>\n",
       "    </tr>\n",
       "    <tr>\n",
       "      <th>38</th>\n",
       "      <td>SMEST031846001.1</td>\n",
       "      <td>SMESG000031846.1</td>\n",
       "      <td>MSTRG.10387</td>\n",
       "      <td>KF487121</td>\n",
       "      <td>Smed-single minded (sim)</td>\n",
       "      <td>Cowles (2013)</td>\n",
       "    </tr>\n",
       "    <tr>\n",
       "      <th>39</th>\n",
       "      <td>MSTRG.16922.3</td>\n",
       "      <td>SMESG000056019.1</td>\n",
       "      <td>MSTRG.16922</td>\n",
       "      <td>KF487122</td>\n",
       "      <td>Smed-sterol regulatory element binding transcr...</td>\n",
       "      <td>Cowles (2013)</td>\n",
       "    </tr>\n",
       "    <tr>\n",
       "      <th>40</th>\n",
       "      <td>MSTRG.17507.3</td>\n",
       "      <td>SMESG000064300.1</td>\n",
       "      <td>MSTRG.17507</td>\n",
       "      <td>KF487123</td>\n",
       "      <td>Smed-upstream transcription factor (usf)</td>\n",
       "      <td>Cowles (2013)</td>\n",
       "    </tr>\n",
       "  </tbody>\n",
       "</table>\n",
       "</div>"
      ],
      "text/plain": [
       "       Transcript.ID           Rink.ID     Neiro.ID Original.ID  \\\n",
       "0   SMEST040081001.1  SMESG000040081.1  MSTRG.12572    DN303577   \n",
       "1      MSTRG.18571.2  SMESG000062271.1  MSTRG.18571    DN305431   \n",
       "2   SMEST066244001.1  SMESG000066244.1  MSTRG.19581    DN305764   \n",
       "3   SMEST018830001.1  SMESG000018830.1   MSTRG.6032    DN306140   \n",
       "4      MSTRG.18688.4  SMESG000062657.1  MSTRG.18688    DN308448   \n",
       "5   SMEST025391001.1  SMESG000025391.1    MSTRG.372    HO006087   \n",
       "6   SMEST056587001.1  SMESG000056587.1  MSTRG.17089    HO006843   \n",
       "7   SMEST081049001.1  SMESG000081049.1  MSTRG.22708    HO007476   \n",
       "8   SMEST032619001.1  SMESG000032619.1  MSTRG.10663    KF487091   \n",
       "9   SMEST080379001.1  SMESG000080379.1  MSTRG.23513    KF487092   \n",
       "10     MSTRG.10086.5  SMESG000032044.1  MSTRG.10086    KF487093   \n",
       "11  SMEST029000001.1  SMESG000029000.1   MSTRG.9259    KF487094   \n",
       "12  SMEST019274001.1  SMESG000019274.1   MSTRG.6136    KF487095   \n",
       "13  SMEST062901001.1  SMESG000062901.1  MSTRG.18805    KF487096   \n",
       "14  SMEST000528001.1  SMESG000000528.1   MSTRG.1079    KF487097   \n",
       "15  SMEST018258001.1  SMESG000018258.1   MSTRG.6445    KF487098   \n",
       "16  SMEST034317001.1  SMESG000034317.1  MSTRG.11214    KF487099   \n",
       "17     MSTRG.17998.6  SMESG000060238.1  MSTRG.17998    KF487100   \n",
       "18      MSTRG.5969.1                 -   MSTRG.5969    KF487101   \n",
       "19  SMEST000956001.1  SMESG000000956.1   MSTRG.1216    KF487102   \n",
       "20  SMEST045286002.1  SMESG000045286.1  MSTRG.13983    KF487103   \n",
       "21  SMEST079648001.1  SMESG000079648.1  MSTRG.23258    KF487104   \n",
       "22  SMEST067729002.1  SMESG000067729.1  MSTRG.20131    KF487105   \n",
       "23  SMEST026385001.1  SMESG000026385.1    MSTRG.657    KF487106   \n",
       "24  SMEST070743001.1  SMESG000070743.1  MSTRG.20842    KF487107   \n",
       "25     MSTRG.10887.3  SMESG000035153.1  MSTRG.10887    KF487108   \n",
       "26  SMEST069088001.1  SMESG000069088.1  MSTRG.19091    KF487109   \n",
       "27  SMEST053680001.1  SMESG000053680.1  MSTRG.16315    KF487110   \n",
       "28  SMEST068772001.1  SMESG000068772.1  MSTRG.19305    KF487111   \n",
       "29  SMEST009969001.1  SMESG000009969.1   MSTRG.3741    KF487112   \n",
       "30     MSTRG.20970.1                 -  MSTRG.20970    KF487113   \n",
       "31  SMEST017492001.1  SMESG000017492.1   MSTRG.6243    KF487114   \n",
       "32  SMEST047681001.1  SMESG000047681.1  MSTRG.14764    KF487115   \n",
       "33  SMEST060394001.1  SMESG000060394.1  MSTRG.17930    KF487116   \n",
       "34  SMEST051880001.1  SMESG000051880.1  MSTRG.13225    KF487117   \n",
       "35  SMEST077129001.1  SMESG000077129.1  MSTRG.22605    KF487118   \n",
       "36      MSTRG.2717.3  SMESG000009137.1   MSTRG.2717    KF487119   \n",
       "37  SMEST081091001.1  SMESG000081091.1  MSTRG.22726    KF487120   \n",
       "38  SMEST031846001.1  SMESG000031846.1  MSTRG.10387    KF487121   \n",
       "39     MSTRG.16922.3  SMESG000056019.1  MSTRG.16922    KF487122   \n",
       "40     MSTRG.17507.3  SMESG000064300.1  MSTRG.17507    KF487123   \n",
       "\n",
       "                                        Original.name         Source  \n",
       "0   Smed-pancreas specific transcription factor-5 ...  Cowles (2013)  \n",
       "1   Smed-activating enhancer binding protein-like-...  Cowles (2013)  \n",
       "2       Smed-neurogenic differentiation-1 (neuroD-1)   Cowles (2013)  \n",
       "3                  Smed-atonal homolog 8-1 (atoh8-1)   Cowles (2013)  \n",
       "4                  Smed-MYC assciated factor X (max)   Cowles (2013)  \n",
       "5                      Smed-max-like protein x (mlx)   Cowles (2013)  \n",
       "6                  Smed-atonal homolog 8-2 (atoh8-2)   Cowles (2013)  \n",
       "7   Smed-activating enhancer binding protein-like-...  Cowles (2013)  \n",
       "8                 Smed-achaete scute like-2 (ascl-2)   Cowles (2013)  \n",
       "9   Smed-basic helix-loop-helix family, member e22...  Cowles (2013)  \n",
       "10                            Smed-daughterless (da)   Cowles (2013)  \n",
       "11                            Smed-fer3l-1 (fer3l-1)   Cowles (2013)  \n",
       "12                            Smed-fer3l-2 (fer3l-2)   Cowles (2013)  \n",
       "13                            Smed-fer3l-3 (fer3l-3)   Cowles (2013)  \n",
       "14        Smed-mlx interacting protein-like (mlxipl)   Cowles (2013)  \n",
       "15                                     Smed-musculin   Cowles (2013)  \n",
       "16              Smed-myogenic differentiation (myoD)   Cowles (2013)  \n",
       "17  Smed-oligodendrocyte lineage transcription fac...  Cowles (2013)  \n",
       "18  Smed-pancreas specific transcription factor-1 ...  Cowles (2013)  \n",
       "19  Smed-pancreas specific transcription factor-2 ...  Cowles (2013)  \n",
       "20  Smed-pancreas specific transcription factor-3 ...  Cowles (2013)  \n",
       "21  Smed-pancreas specific transcription factor-4 ...  Cowles (2013)  \n",
       "22      Smed-T-cell acute lymphocytic leukemia (tal)   Cowles (2013)  \n",
       "23                                        Smed-twist   Cowles (2013)  \n",
       "24              Smed-aryl hydrocarbon receptor (ahr)   Cowles (2013)  \n",
       "25  Smed-aryl hydrocarbon receptor nuclear translo...  Cowles (2013)  \n",
       "26                                Smed-collier (coe)   Cowles (2013)  \n",
       "27  Smed-hairy and enhancer of split like-1 (hesl-1)   Cowles (2013)  \n",
       "28  Smed-hairy and enhancer of split like-2 (hesl-2)   Cowles (2013)  \n",
       "29  Smed-hairy and enhancer of split like-3 (hesl-3)   Cowles (2013)  \n",
       "30                    Smed-helix-loop-helix 1 (hlh1)   Cowles (2013)  \n",
       "31             Smed-inhibitor of DNA binding 4 (id4)   Cowles (2013)  \n",
       "32                     Smed-max-interactor-1 (mxi-1)   Cowles (2013)  \n",
       "33                     Smed-max-interactor-2 (mxi-2)   Cowles (2013)  \n",
       "34  Smed-microphthalmia-associated transcription f...  Cowles (2013)  \n",
       "35  Smed-microphthalmia-associated transcription f...  Cowles (2013)  \n",
       "36  Smed-microphthalmia-associated transcription f...  Cowles (2013)  \n",
       "37      Smed-neurogenic differentiation-2 (neuroD-2)   Cowles (2013)  \n",
       "38                          Smed-single minded (sim)   Cowles (2013)  \n",
       "39  Smed-sterol regulatory element binding transcr...  Cowles (2013)  \n",
       "40          Smed-upstream transcription factor (usf)   Cowles (2013)  "
      ]
     },
     "execution_count": 56,
     "metadata": {},
     "output_type": "execute_result"
    }
   ],
   "source": [
    "TF_table_Cowles2013"
   ]
  },
  {
   "cell_type": "markdown",
   "id": "415354ad",
   "metadata": {},
   "source": [
    "## 5.2 PBX/extradenticle is required to re-establish axial structures and polarity during planarian regeneration\n",
    "\n",
    "Blassberg, R.A., Felix, D.A., Tejada-Romero, B. and Aboobaker, A.A., 2013. PBX/extradenticle is required to re-establish axial structures and polarity during planarian regeneration. Development, 140(4), pp.730-739."
   ]
  },
  {
   "cell_type": "code",
   "execution_count": 1,
   "id": "ce4df610",
   "metadata": {},
   "outputs": [
    {
     "name": "stdout",
     "output_type": "stream",
     "text": [
      ">KC353351.1 Schmidtea mediterranea PBX mRNA, complete cds\n"
     ]
    }
   ],
   "source": [
    "%%bash\n",
    "cd /hydra/TF_data\n",
    "grep \">\" Blassberg2013.fa"
   ]
  },
  {
   "cell_type": "code",
   "execution_count": 3,
   "id": "406820e1",
   "metadata": {},
   "outputs": [],
   "source": [
    "import pandas as pd\n",
    "Blassberg2013 = pd.DataFrame({\"ID\": [\"KC353351.1\"], \"Name\": [\"Pbx\"]})"
   ]
  },
  {
   "cell_type": "code",
   "execution_count": null,
   "id": "e2d0f664",
   "metadata": {},
   "outputs": [],
   "source": [
    "%%bash\n",
    "cd /hydra/TF_data/\n",
    "blastn -db /hydra/FACS/stringtie_transcripts.fa -query Blassberg2013.fa -out blast_Blassberg2013 -outfmt 6"
   ]
  },
  {
   "cell_type": "code",
   "execution_count": 4,
   "id": "9ee90cc1",
   "metadata": {},
   "outputs": [],
   "source": [
    "import pandas as pd\n",
    "blast_Blassberg2013 = pd.read_csv(\"/hydra/TF_data/blast_Blassberg2013\", sep=\"\\t\", header=None)\n",
    "blast_Blassberg2013.columns = [\"Seqid\", \"qid\", \"Per\", \"Len\", \"Mis\", \"Gap\", \"Startq\", \"Endq\", \"Starts\", \"Ends\", \"E\", \"Bit\"]\n",
    "blast_Blassberg2013 = blast_Blassberg2013.loc[blast_Blassberg2013.groupby(\"Seqid\")[\"Bit\"].idxmax()]"
   ]
  },
  {
   "cell_type": "code",
   "execution_count": 8,
   "id": "d1b50450",
   "metadata": {},
   "outputs": [],
   "source": [
    "TF_table_Blassberg2013 = tf_table(blast_Blassberg2013, \"Blassberg et al. (2013)\", Blassberg2013)"
   ]
  },
  {
   "cell_type": "code",
   "execution_count": null,
   "id": "53a4e0c2",
   "metadata": {},
   "outputs": [],
   "source": [
    "TF_table_Blassberg2013.to_csv(\"/hydra/TF_data/TF_Blassberg2013.csv\", index=False)"
   ]
  },
  {
   "cell_type": "code",
   "execution_count": 9,
   "id": "8a7bbb6a",
   "metadata": {},
   "outputs": [
    {
     "data": {
      "text/html": [
       "<div>\n",
       "<style scoped>\n",
       "    .dataframe tbody tr th:only-of-type {\n",
       "        vertical-align: middle;\n",
       "    }\n",
       "\n",
       "    .dataframe tbody tr th {\n",
       "        vertical-align: top;\n",
       "    }\n",
       "\n",
       "    .dataframe thead th {\n",
       "        text-align: right;\n",
       "    }\n",
       "</style>\n",
       "<table border=\"1\" class=\"dataframe\">\n",
       "  <thead>\n",
       "    <tr style=\"text-align: right;\">\n",
       "      <th></th>\n",
       "      <th>Transcript.ID</th>\n",
       "      <th>Rink.ID</th>\n",
       "      <th>Neiro.ID</th>\n",
       "      <th>Original.ID</th>\n",
       "      <th>Original.name</th>\n",
       "      <th>Source</th>\n",
       "    </tr>\n",
       "  </thead>\n",
       "  <tbody>\n",
       "    <tr>\n",
       "      <th>0</th>\n",
       "      <td>SMEST001913004.1</td>\n",
       "      <td>SMESG000001913.1</td>\n",
       "      <td>MSTRG.1510</td>\n",
       "      <td>KC353351</td>\n",
       "      <td>Pbx</td>\n",
       "      <td>Blassberg et al. (2013)</td>\n",
       "    </tr>\n",
       "  </tbody>\n",
       "</table>\n",
       "</div>"
      ],
      "text/plain": [
       "      Transcript.ID           Rink.ID    Neiro.ID Original.ID Original.name  \\\n",
       "0  SMEST001913004.1  SMESG000001913.1  MSTRG.1510    KC353351           Pbx   \n",
       "\n",
       "                    Source  \n",
       "0  Blassberg et al. (2013)  "
      ]
     },
     "execution_count": 9,
     "metadata": {},
     "output_type": "execute_result"
    }
   ],
   "source": [
    "pd.read_csv(\"/hydra/TF_data/TF_Blassberg2013.csv\")"
   ]
  },
  {
   "cell_type": "markdown",
   "id": "72d4577a",
   "metadata": {},
   "source": [
    "## 5.3 pbx is required for pole and eye regeneration in planarians\n",
    "\n",
    "Chen, C.C.G., Wang, I.E. and Reddien, P.W., 2013. pbx is required for pole and eye regeneration in planarians. Development, 140(4), pp.719-729."
   ]
  },
  {
   "cell_type": "code",
   "execution_count": 10,
   "id": "10fb90ac",
   "metadata": {},
   "outputs": [
    {
     "name": "stdout",
     "output_type": "stream",
     "text": [
      ">pbx\n",
      ">prep\n"
     ]
    }
   ],
   "source": [
    "%%bash\n",
    "cd /hydra/TF_data\n",
    "grep \">\" Chen2013.fa"
   ]
  },
  {
   "cell_type": "code",
   "execution_count": null,
   "id": "efe81afa",
   "metadata": {},
   "outputs": [],
   "source": [
    "Chen2013 = pd.DataFrame({\"ID\": [\"NA\", \"NA\"], \"Name\": [\"pbx\", \"prep\"]})"
   ]
  },
  {
   "cell_type": "code",
   "execution_count": null,
   "id": "b4ed68e9",
   "metadata": {},
   "outputs": [],
   "source": [
    "%%bash\n",
    "cd /hydra/TF_data/\n",
    "blastn -db /hydra/FACS/stringtie_transcripts.fa -query Chen2013.fa -out blast_Chen2013 -outfmt 6 -evalue 1.0 -word_size 10"
   ]
  },
  {
   "cell_type": "code",
   "execution_count": 11,
   "id": "4290ca13",
   "metadata": {},
   "outputs": [],
   "source": [
    "import pandas as pd\n",
    "blast_Chen2013 = pd.read_csv(\"/hydra/TF_data/blast_Chen2013\", sep=\"\\t\", header=None)\n",
    "blast_Chen2013.columns = [\"Seqid\", \"qid\", \"Per\", \"Len\", \"Mis\", \"Gap\", \"Startq\", \"Endq\", \"Starts\", \"Ends\", \"E\", \"Bit\"]\n",
    "blast_Chen2013 = blast_Chen2013.loc[blast_Chen2013.groupby(\"Seqid\")[\"Bit\"].idxmax()]"
   ]
  },
  {
   "cell_type": "code",
   "execution_count": 12,
   "id": "df5f496a",
   "metadata": {},
   "outputs": [],
   "source": [
    "transcript_id = []\n",
    "gene_id_rink = []\n",
    "gene_id_neiro = []\n",
    "original_id = []\n",
    "original_name = []\n",
    "for i in range(len(blast_Chen2013)):\n",
    "    t_id = blast_Chen2013.iloc[i,1]\n",
    "    o_id = \"NA\"\n",
    "    transcript_id.append(t_id)\n",
    "    gene_id_rink.append(gene2transcript[gene2transcript[\"qry_id\"] == t_id].iloc[0,0])\n",
    "    gene_id_neiro.append(gene2transcript[gene2transcript[\"qry_id\"] == t_id].iloc[0,1])\n",
    "    original_id.append(o_id)\n",
    "    original_name.append(blast_Chen2013.iloc[i,0])\n",
    "source = [\"Chen et al. (2013)\"] * len(original_name)"
   ]
  },
  {
   "cell_type": "code",
   "execution_count": null,
   "id": "8e3d9294",
   "metadata": {},
   "outputs": [],
   "source": [
    "TF_table_Chen2013 = pd.DataFrame({\"Transcript.ID\": transcript_id, \"Rink.ID\": gene_id_rink, \"Neiro.ID\": gene_id_neiro, \"Original.ID\": original_id, \"Original.name\": original_name, \"Source\": source})"
   ]
  },
  {
   "cell_type": "code",
   "execution_count": null,
   "id": "335a7aeb",
   "metadata": {},
   "outputs": [],
   "source": [
    "TF_table_Chen2013.to_csv(\"/hydra/TF_data/TF_Chen2013.csv\", index=False)"
   ]
  },
  {
   "cell_type": "code",
   "execution_count": 13,
   "id": "483de679",
   "metadata": {},
   "outputs": [
    {
     "data": {
      "text/html": [
       "<div>\n",
       "<style scoped>\n",
       "    .dataframe tbody tr th:only-of-type {\n",
       "        vertical-align: middle;\n",
       "    }\n",
       "\n",
       "    .dataframe tbody tr th {\n",
       "        vertical-align: top;\n",
       "    }\n",
       "\n",
       "    .dataframe thead th {\n",
       "        text-align: right;\n",
       "    }\n",
       "</style>\n",
       "<table border=\"1\" class=\"dataframe\">\n",
       "  <thead>\n",
       "    <tr style=\"text-align: right;\">\n",
       "      <th></th>\n",
       "      <th>Transcript.ID</th>\n",
       "      <th>Rink.ID</th>\n",
       "      <th>Neiro.ID</th>\n",
       "      <th>Original.ID</th>\n",
       "      <th>Original.name</th>\n",
       "      <th>Source</th>\n",
       "    </tr>\n",
       "  </thead>\n",
       "  <tbody>\n",
       "    <tr>\n",
       "      <th>0</th>\n",
       "      <td>SMEST022232003.1</td>\n",
       "      <td>SMESG000022232.1</td>\n",
       "      <td>MSTRG.7854</td>\n",
       "      <td>NaN</td>\n",
       "      <td>pbx</td>\n",
       "      <td>Chen et al. (2013)</td>\n",
       "    </tr>\n",
       "    <tr>\n",
       "      <th>1</th>\n",
       "      <td>MSTRG.4755.6</td>\n",
       "      <td>SMESG000013307.1</td>\n",
       "      <td>MSTRG.4755</td>\n",
       "      <td>NaN</td>\n",
       "      <td>prep</td>\n",
       "      <td>Chen et al. (2013)</td>\n",
       "    </tr>\n",
       "  </tbody>\n",
       "</table>\n",
       "</div>"
      ],
      "text/plain": [
       "      Transcript.ID           Rink.ID    Neiro.ID  Original.ID Original.name  \\\n",
       "0  SMEST022232003.1  SMESG000022232.1  MSTRG.7854          NaN           pbx   \n",
       "1      MSTRG.4755.6  SMESG000013307.1  MSTRG.4755          NaN          prep   \n",
       "\n",
       "               Source  \n",
       "0  Chen et al. (2013)  \n",
       "1  Chen et al. (2013)  "
      ]
     },
     "execution_count": 13,
     "metadata": {},
     "output_type": "execute_result"
    }
   ],
   "source": [
    "pd.read_csv(\"/hydra/TF_data/TF_Chen2013.csv\")"
   ]
  },
  {
   "cell_type": "markdown",
   "id": "836b08e9",
   "metadata": {},
   "source": [
    "## 5.4 Transcription factors lhx1/5-1 and pitx are required for the maintenance and regeneration of serotonergic neurons in planarians\n",
    "\n",
    "Currie, K.W. and Pearson, B.J., 2013. Transcription factors lhx1/5-1 and pitx are required for the maintenance and regeneration of serotonergic neurons in planarians. Development, 140(17), pp.3577-3588."
   ]
  },
  {
   "cell_type": "markdown",
   "id": "0cfa2457",
   "metadata": {},
   "source": [
    "* Smed-lhx1/5-1, Smed-pitx, Smed-tph, Smed-aadc, Smed-vmat, Smed-sert, Smed-kchan, Smed-hmctn, Smed-upps, Smed-asic and Smed-sh3bp2 sequences were deposited in GenBank as accession numbers: KF134112-KF134122."
   ]
  },
  {
   "cell_type": "code",
   "execution_count": 11,
   "id": "cf0bb179",
   "metadata": {},
   "outputs": [
    {
     "name": "stdout",
     "output_type": "stream",
     "text": [
      ">KF134112.1 Schmidtea mediterranea lhx1-5-1 mRNA, complete cds\n",
      ">KF134113.1 Schmidtea mediterranea pitx mRNA, complete cds\n"
     ]
    }
   ],
   "source": [
    "%%bash\n",
    "cd /hydra/TF_data\n",
    "grep \">\" Currie2013.fa"
   ]
  },
  {
   "cell_type": "code",
   "execution_count": 12,
   "id": "ca208b6e",
   "metadata": {},
   "outputs": [],
   "source": [
    "Currie2013 = pd.DataFrame({\"ID\": [\"KF134112.1\", \"KF134113.1\"], \"Name\": [\"lhx1/5-1\", \"pitx\"]})"
   ]
  },
  {
   "cell_type": "code",
   "execution_count": null,
   "id": "291e14be",
   "metadata": {},
   "outputs": [],
   "source": [
    "%%bash\n",
    "cd /hydra/TF_data/\n",
    "blastn -db /hydra/FACS/stringtie_transcripts.fa -query Currie2013.fa -out blast_Currie2013 -outfmt 6"
   ]
  },
  {
   "cell_type": "code",
   "execution_count": 15,
   "id": "a365da27",
   "metadata": {},
   "outputs": [],
   "source": [
    "import pandas as pd\n",
    "blast_Currie2013 = pd.read_csv(\"/hydra/TF_data/blast_Currie2013\", sep=\"\\t\", header=None)\n",
    "blast_Currie2013.columns = [\"Seqid\", \"qid\", \"Per\", \"Len\", \"Mis\", \"Gap\", \"Startq\", \"Endq\", \"Starts\", \"Ends\", \"E\", \"Bit\"]\n",
    "blast_Currie2013 = blast_Currie2013.loc[blast_Currie2013.groupby(\"Seqid\")[\"Bit\"].idxmax()]"
   ]
  },
  {
   "cell_type": "code",
   "execution_count": 16,
   "id": "a8e72d3e",
   "metadata": {},
   "outputs": [],
   "source": [
    "TF_table_Currie2013 = tf_table(blast_Currie2013, \"Currie and Pearson (2013)\", Currie2013)"
   ]
  },
  {
   "cell_type": "code",
   "execution_count": null,
   "id": "4a3d46e5",
   "metadata": {},
   "outputs": [],
   "source": [
    "TF_table_Currie2013.to_csv(\"../TF_data/TF_Currie2013.csv\", index=False)"
   ]
  },
  {
   "cell_type": "code",
   "execution_count": 17,
   "id": "41eddfea",
   "metadata": {},
   "outputs": [
    {
     "data": {
      "text/html": [
       "<div>\n",
       "<style scoped>\n",
       "    .dataframe tbody tr th:only-of-type {\n",
       "        vertical-align: middle;\n",
       "    }\n",
       "\n",
       "    .dataframe tbody tr th {\n",
       "        vertical-align: top;\n",
       "    }\n",
       "\n",
       "    .dataframe thead th {\n",
       "        text-align: right;\n",
       "    }\n",
       "</style>\n",
       "<table border=\"1\" class=\"dataframe\">\n",
       "  <thead>\n",
       "    <tr style=\"text-align: right;\">\n",
       "      <th></th>\n",
       "      <th>Transcript.ID</th>\n",
       "      <th>Rink.ID</th>\n",
       "      <th>Neiro.ID</th>\n",
       "      <th>Original.ID</th>\n",
       "      <th>Original.name</th>\n",
       "      <th>Source</th>\n",
       "    </tr>\n",
       "  </thead>\n",
       "  <tbody>\n",
       "    <tr>\n",
       "      <th>0</th>\n",
       "      <td>SMEST043039005.1</td>\n",
       "      <td>SMESG000043039.1</td>\n",
       "      <td>MSTRG.13692</td>\n",
       "      <td>KF134112</td>\n",
       "      <td>lhx1/5-1</td>\n",
       "      <td>Currie et al. (2013)</td>\n",
       "    </tr>\n",
       "    <tr>\n",
       "      <th>1</th>\n",
       "      <td>SMEST080359001.1</td>\n",
       "      <td>SMESG000080359.1</td>\n",
       "      <td>MSTRG.23506</td>\n",
       "      <td>KF134113</td>\n",
       "      <td>pitx</td>\n",
       "      <td>Currie et al. (2013)</td>\n",
       "    </tr>\n",
       "  </tbody>\n",
       "</table>\n",
       "</div>"
      ],
      "text/plain": [
       "      Transcript.ID           Rink.ID     Neiro.ID Original.ID Original.name  \\\n",
       "0  SMEST043039005.1  SMESG000043039.1  MSTRG.13692    KF134112      lhx1/5-1   \n",
       "1  SMEST080359001.1  SMESG000080359.1  MSTRG.23506    KF134113          pitx   \n",
       "\n",
       "                 Source  \n",
       "0  Currie et al. (2013)  \n",
       "1  Currie et al. (2013)  "
      ]
     },
     "execution_count": 17,
     "metadata": {},
     "output_type": "execute_result"
    }
   ],
   "source": [
    "pd.read_csv(\"/hydra/TF_data/TF_Currie2013.csv\")"
   ]
  },
  {
   "cell_type": "markdown",
   "id": "bea28b2e",
   "metadata": {},
   "source": [
    "## 5.5 A Pitx transcription factor controls the establishment and maintenance of the serotonergic lineage in planarians\n",
    "\n",
    "März, M., Seebeck, F. and Bartscherer, K., 2013. A Pitx transcription factor controls the establishment and maintenance of the serotonergic lineage in planarians. Development, 140(22), pp.4499-4509."
   ]
  },
  {
   "cell_type": "code",
   "execution_count": 26,
   "id": "664c8c98",
   "metadata": {},
   "outputs": [
    {
     "name": "stdout",
     "output_type": "stream",
     "text": [
      ">KC568450.1 Schmidtea mediterranea paired-like homeodomain protein (pitx) mRNA, complete cds\n",
      ">KC568454.1 Schmidtea mediterranea insulin gene enhancer protein isl-1 (islet1) mRNA, complete cds\n"
     ]
    }
   ],
   "source": [
    "%%bash\n",
    "cd /hydra/TF_data\n",
    "grep \">\" Marz2013.fa"
   ]
  },
  {
   "cell_type": "code",
   "execution_count": 27,
   "id": "7a2266cc",
   "metadata": {},
   "outputs": [],
   "source": [
    "import pandas as pd\n",
    "Marz2013 = pd.DataFrame({\"ID\": [\"KC568450.1\", \"KC568454.1\"], \"Name\": [\"Pitx\", \"islet1\"]})"
   ]
  },
  {
   "cell_type": "code",
   "execution_count": null,
   "id": "d1cf61a0",
   "metadata": {},
   "outputs": [],
   "source": [
    "%%bash\n",
    "cd /hydra/TF_data/\n",
    "blastn -db ~/FACS/stringtie_transcripts.fa -query Marz2013.fa -out blast_Marz2013 -outfmt 6"
   ]
  },
  {
   "cell_type": "code",
   "execution_count": 28,
   "id": "de3371d6",
   "metadata": {},
   "outputs": [],
   "source": [
    "import pandas as pd\n",
    "blast_Marz2013 = pd.read_csv(\"/hydra/TF_data/blast_Marz2013\", sep=\"\\t\", header=None)\n",
    "blast_Marz2013.columns = [\"Seqid\", \"qid\", \"Per\", \"Len\", \"Mis\", \"Gap\", \"Startq\", \"Endq\", \"Starts\", \"Ends\", \"E\", \"Bit\"]\n",
    "blast_Marz2013 = blast_Marz2013.loc[blast_Marz2013.groupby(\"Seqid\")[\"Bit\"].idxmax()]"
   ]
  },
  {
   "cell_type": "code",
   "execution_count": 29,
   "id": "1b65809c",
   "metadata": {},
   "outputs": [],
   "source": [
    "TF_table_Marz2013 = tf_table(blast_Marz2013, \"Marz et al. (2013)\", Marz2013)"
   ]
  },
  {
   "cell_type": "code",
   "execution_count": null,
   "id": "85dc6023",
   "metadata": {},
   "outputs": [],
   "source": [
    "TF_table_Marz2013.to_csv(\"/hydra/TF_data/TF_Marz2013.csv\", index=False)"
   ]
  },
  {
   "cell_type": "code",
   "execution_count": 30,
   "id": "e54a01ff",
   "metadata": {},
   "outputs": [
    {
     "data": {
      "text/html": [
       "<div>\n",
       "<style scoped>\n",
       "    .dataframe tbody tr th:only-of-type {\n",
       "        vertical-align: middle;\n",
       "    }\n",
       "\n",
       "    .dataframe tbody tr th {\n",
       "        vertical-align: top;\n",
       "    }\n",
       "\n",
       "    .dataframe thead th {\n",
       "        text-align: right;\n",
       "    }\n",
       "</style>\n",
       "<table border=\"1\" class=\"dataframe\">\n",
       "  <thead>\n",
       "    <tr style=\"text-align: right;\">\n",
       "      <th></th>\n",
       "      <th>Transcript.ID</th>\n",
       "      <th>Rink.ID</th>\n",
       "      <th>Neiro.ID</th>\n",
       "      <th>Original.ID</th>\n",
       "      <th>Original.name</th>\n",
       "      <th>Source</th>\n",
       "    </tr>\n",
       "  </thead>\n",
       "  <tbody>\n",
       "    <tr>\n",
       "      <th>0</th>\n",
       "      <td>SMEST080359001.1</td>\n",
       "      <td>SMESG000080359.1</td>\n",
       "      <td>MSTRG.23506</td>\n",
       "      <td>KC568450</td>\n",
       "      <td>Pitx</td>\n",
       "      <td>Marz et al. (2013)</td>\n",
       "    </tr>\n",
       "    <tr>\n",
       "      <th>1</th>\n",
       "      <td>SMEST059633001.1</td>\n",
       "      <td>SMESG000059633.1</td>\n",
       "      <td>MSTRG.17848</td>\n",
       "      <td>KC568454</td>\n",
       "      <td>islet1</td>\n",
       "      <td>Marz et al. (2013)</td>\n",
       "    </tr>\n",
       "  </tbody>\n",
       "</table>\n",
       "</div>"
      ],
      "text/plain": [
       "      Transcript.ID           Rink.ID     Neiro.ID Original.ID Original.name  \\\n",
       "0  SMEST080359001.1  SMESG000080359.1  MSTRG.23506    KC568450          Pitx   \n",
       "1  SMEST059633001.1  SMESG000059633.1  MSTRG.17848    KC568454        islet1   \n",
       "\n",
       "               Source  \n",
       "0  Marz et al. (2013)  \n",
       "1  Marz et al. (2013)  "
      ]
     },
     "execution_count": 30,
     "metadata": {},
     "output_type": "execute_result"
    }
   ],
   "source": [
    "pd.read_csv(\"/hydra/TF_data/TF_Marz2013.csv\")"
   ]
  },
  {
   "cell_type": "markdown",
   "id": "49ceced1",
   "metadata": {},
   "source": [
    "## 5.6 A sex-specific transcription factor controls male identity in a simultaneous hermaphrodite\n",
    "\n",
    "Chong, T., Collins, J.J., Brubacher, J.L., Zarkower, D. and Newmark, P.A., 2013. A sex-specific transcription factor controls male identity in a simultaneous hermaphrodite. Nature communications, 4(1), pp.1-12.\n",
    "\n",
    "GenBank/EMBL/DDBJ under accession numbers KC736555 (dmd-1 splice form 1), KC736556 (dmd-1 splice form 2), KC736557 (dmd-1 splice form 3), KC736558 (dmd-1 splice form 4), KC736559 (dmd-2 splice form 1), KC736560 (dmd-2 splice form 2), KC736561 (dmd-3) and KC736562 (dmd-4)."
   ]
  },
  {
   "cell_type": "code",
   "execution_count": 32,
   "id": "248051a4",
   "metadata": {},
   "outputs": [
    {
     "name": "stdout",
     "output_type": "stream",
     "text": [
      ">KC736555.1 Schmidtea mediterranea Dmd-1 splice form 1 mRNA, complete cds, alternatively spliced\n",
      ">KC736556.1 Schmidtea mediterranea Dmd-1 splice form 2 mRNA, complete cds, alternatively spliced\n",
      ">KC736557.1 Schmidtea mediterranea Dmd-1 splice form 3 mRNA, complete cds, alternatively spliced\n",
      ">KC736558.1 Schmidtea mediterranea Dmd-1 splice form 4 mRNA, complete cds, alternatively spliced\n",
      ">KC736559.1 Schmidtea mediterranea Dmd-2 splice form 1 mRNA, partial cds, alternatively spliced\n",
      ">KC736560.1 Schmidtea mediterranea Dmd-2 splice form 2 mRNA, partial cds, alternatively spliced\n",
      ">KC736561.1 Schmidtea mediterranea Dmd-3 mRNA, partial cds\n",
      ">KC736562.1 Schmidtea mediterranea Dmd-4 mRNA, partial cds\n"
     ]
    }
   ],
   "source": [
    "%%bash\n",
    "cd /hydra/TF_data\n",
    "grep \">\" Chong2013.fa"
   ]
  },
  {
   "cell_type": "code",
   "execution_count": null,
   "id": "f06d1df3",
   "metadata": {},
   "outputs": [],
   "source": [
    "Chong2013 = pd.DataFrame({\"ID\": [\"KC736555.1\", \"KC736556.1\", \"KC736557.1\", \"KC736558.1\", \"KC736559.1\", \"KC736560.1\", \"KC736561.1\", \"KC736562.1\"], \"Name\": [\"Dmd-1 splice form 1\", \"Dmd-1 splice form 2\", \"Dmd-1 splice form 3\", \"Dmd-1 splice form 4\", \"Dmd-2 splice form 1\", \"Dmd-2 splice form 2\", \"Dmd-3\", \"Dmd-4\"]})"
   ]
  },
  {
   "cell_type": "code",
   "execution_count": null,
   "id": "adf45a51",
   "metadata": {},
   "outputs": [],
   "source": [
    "%%bash\n",
    "cd /hydra/TF_data/\n",
    "blastn -db /hydra/FACS/stringtie_transcripts.fa -query Chong2013.fa -out blast_Chong2013 -outfmt 6"
   ]
  },
  {
   "cell_type": "code",
   "execution_count": 33,
   "id": "ad32864b",
   "metadata": {},
   "outputs": [],
   "source": [
    "import pandas as pd\n",
    "blast_Chong2013 = pd.read_csv(\"/hydra/TF_data/blast_Chong2013\", sep=\"\\t\", header=None)\n",
    "blast_Chong2013.columns = [\"Seqid\", \"qid\", \"Per\", \"Len\", \"Mis\", \"Gap\", \"Startq\", \"Endq\", \"Starts\", \"Ends\", \"E\", \"Bit\"]\n",
    "blast_Chong2013 = blast_Chong2013.loc[blast_Chong2013.groupby(\"Seqid\")[\"Bit\"].idxmax()]"
   ]
  },
  {
   "cell_type": "code",
   "execution_count": null,
   "id": "0a00fbb4",
   "metadata": {},
   "outputs": [],
   "source": [
    "TF_table_Chong2013 = tf_table(blast_Marz2013, \"Marz et al. (2013)\", Marz2013)"
   ]
  },
  {
   "cell_type": "code",
   "execution_count": null,
   "id": "7718784a",
   "metadata": {},
   "outputs": [],
   "source": [
    "TF_table_Chong2013.to_csv(\"/hydra/TF_data/TF_Chong2013.csv\", index=False)"
   ]
  },
  {
   "cell_type": "code",
   "execution_count": 34,
   "id": "4e54037f",
   "metadata": {},
   "outputs": [
    {
     "data": {
      "text/html": [
       "<div>\n",
       "<style scoped>\n",
       "    .dataframe tbody tr th:only-of-type {\n",
       "        vertical-align: middle;\n",
       "    }\n",
       "\n",
       "    .dataframe tbody tr th {\n",
       "        vertical-align: top;\n",
       "    }\n",
       "\n",
       "    .dataframe thead th {\n",
       "        text-align: right;\n",
       "    }\n",
       "</style>\n",
       "<table border=\"1\" class=\"dataframe\">\n",
       "  <thead>\n",
       "    <tr style=\"text-align: right;\">\n",
       "      <th></th>\n",
       "      <th>Transcript.ID</th>\n",
       "      <th>Rink.ID</th>\n",
       "      <th>Neiro.ID</th>\n",
       "      <th>Original.ID</th>\n",
       "      <th>Original.name</th>\n",
       "      <th>Source</th>\n",
       "    </tr>\n",
       "  </thead>\n",
       "  <tbody>\n",
       "    <tr>\n",
       "      <th>0</th>\n",
       "      <td>SMEST080385001.1</td>\n",
       "      <td>SMESG000080385.1</td>\n",
       "      <td>MSTRG.23516</td>\n",
       "      <td>KC736555</td>\n",
       "      <td>Dmd-1 splice form 1</td>\n",
       "      <td>Chong et al. (2013)</td>\n",
       "    </tr>\n",
       "    <tr>\n",
       "      <th>1</th>\n",
       "      <td>SMEST080385001.1</td>\n",
       "      <td>SMESG000080385.1</td>\n",
       "      <td>MSTRG.23516</td>\n",
       "      <td>KC736556</td>\n",
       "      <td>Dmd-1 splice form 2</td>\n",
       "      <td>Chong et al. (2013)</td>\n",
       "    </tr>\n",
       "    <tr>\n",
       "      <th>2</th>\n",
       "      <td>SMEST080385001.1</td>\n",
       "      <td>SMESG000080385.1</td>\n",
       "      <td>MSTRG.23516</td>\n",
       "      <td>KC736557</td>\n",
       "      <td>Dmd-1 splice form 3</td>\n",
       "      <td>Chong et al. (2013)</td>\n",
       "    </tr>\n",
       "    <tr>\n",
       "      <th>3</th>\n",
       "      <td>SMEST080385001.1</td>\n",
       "      <td>SMESG000080385.1</td>\n",
       "      <td>MSTRG.23516</td>\n",
       "      <td>KC736558</td>\n",
       "      <td>Dmd-1 splice form 4</td>\n",
       "      <td>Chong et al. (2013)</td>\n",
       "    </tr>\n",
       "    <tr>\n",
       "      <th>4</th>\n",
       "      <td>SMEST075920001.1</td>\n",
       "      <td>SMESG000075920.1</td>\n",
       "      <td>MSTRG.22289</td>\n",
       "      <td>KC736559</td>\n",
       "      <td>Dmd-2 splice form 1</td>\n",
       "      <td>Chong et al. (2013)</td>\n",
       "    </tr>\n",
       "    <tr>\n",
       "      <th>5</th>\n",
       "      <td>SMEST075920001.1</td>\n",
       "      <td>SMESG000075920.1</td>\n",
       "      <td>MSTRG.22289</td>\n",
       "      <td>KC736560</td>\n",
       "      <td>Dmd-2 splice form 2</td>\n",
       "      <td>Chong et al. (2013)</td>\n",
       "    </tr>\n",
       "    <tr>\n",
       "      <th>6</th>\n",
       "      <td>SMEST023052002.1</td>\n",
       "      <td>SMESG000023052.1</td>\n",
       "      <td>MSTRG.7259</td>\n",
       "      <td>KC736561</td>\n",
       "      <td>Dmd-3</td>\n",
       "      <td>Chong et al. (2013)</td>\n",
       "    </tr>\n",
       "    <tr>\n",
       "      <th>7</th>\n",
       "      <td>SMEST006521001.1</td>\n",
       "      <td>SMESG000006521.1</td>\n",
       "      <td>MSTRG.1891</td>\n",
       "      <td>KC736562</td>\n",
       "      <td>Dmd-4</td>\n",
       "      <td>Chong et al. (2013)</td>\n",
       "    </tr>\n",
       "  </tbody>\n",
       "</table>\n",
       "</div>"
      ],
      "text/plain": [
       "      Transcript.ID           Rink.ID     Neiro.ID Original.ID  \\\n",
       "0  SMEST080385001.1  SMESG000080385.1  MSTRG.23516    KC736555   \n",
       "1  SMEST080385001.1  SMESG000080385.1  MSTRG.23516    KC736556   \n",
       "2  SMEST080385001.1  SMESG000080385.1  MSTRG.23516    KC736557   \n",
       "3  SMEST080385001.1  SMESG000080385.1  MSTRG.23516    KC736558   \n",
       "4  SMEST075920001.1  SMESG000075920.1  MSTRG.22289    KC736559   \n",
       "5  SMEST075920001.1  SMESG000075920.1  MSTRG.22289    KC736560   \n",
       "6  SMEST023052002.1  SMESG000023052.1   MSTRG.7259    KC736561   \n",
       "7  SMEST006521001.1  SMESG000006521.1   MSTRG.1891    KC736562   \n",
       "\n",
       "         Original.name               Source  \n",
       "0  Dmd-1 splice form 1  Chong et al. (2013)  \n",
       "1  Dmd-1 splice form 2  Chong et al. (2013)  \n",
       "2  Dmd-1 splice form 3  Chong et al. (2013)  \n",
       "3  Dmd-1 splice form 4  Chong et al. (2013)  \n",
       "4  Dmd-2 splice form 1  Chong et al. (2013)  \n",
       "5  Dmd-2 splice form 2  Chong et al. (2013)  \n",
       "6                Dmd-3  Chong et al. (2013)  \n",
       "7                Dmd-4  Chong et al. (2013)  "
      ]
     },
     "execution_count": 34,
     "metadata": {},
     "output_type": "execute_result"
    }
   ],
   "source": [
    "pd.read_csv(\"/hydra/TF_data/TF_Chong2013.csv\")"
   ]
  },
  {
   "cell_type": "markdown",
   "id": "dca99a5c",
   "metadata": {},
   "source": [
    "# 6. 2014"
   ]
  },
  {
   "cell_type": "markdown",
   "id": "32d3f6ce",
   "metadata": {},
   "source": [
    "## 6.1 A forkhead Transcription Factor Is Wound-Induced at the Planarian Midline and Required for Anterior Pole Regeneration\n",
    "Scimone, M.L., Lapan, S.W. and Reddien, P.W., 2014. A forkhead transcription factor is wound-induced at the planarian midline and required for anterior pole regeneration. PLoS Genet, 10(1), p.e1003999."
   ]
  },
  {
   "cell_type": "markdown",
   "id": "58a5ac02",
   "metadata": {},
   "source": [
    "* foxD"
   ]
  },
  {
   "cell_type": "markdown",
   "id": "08270698",
   "metadata": {},
   "source": [
    "## 6.2 Selective amputation of the pharynx identifies a FoxA-dependent regeneration program in planaria\n",
    "Adler, C.E., Seidel, C.W., McKinney, S.A. and Alvarado, A.S., 2014. Selective amputation of the pharynx identifies a FoxA-dependent regeneration program in planaria. Elife, 3, p.e02238."
   ]
  },
  {
   "cell_type": "code",
   "execution_count": 1,
   "id": "6fd3fb3a",
   "metadata": {},
   "outputs": [
    {
     "name": "stdout",
     "output_type": "stream",
     "text": [
      ">FoxA.1\n",
      ">FoxA.2\n"
     ]
    }
   ],
   "source": [
    "%%bash\n",
    "cd /hydra/TF_data\n",
    "grep \">\" Adler2014.fa"
   ]
  },
  {
   "cell_type": "code",
   "execution_count": 3,
   "id": "54ffad26",
   "metadata": {},
   "outputs": [],
   "source": [
    "import pandas as pd\n",
    "Adler2014 = pd.DataFrame({\"ID\": [\"FoxA.1\", \"FoxA.2\"], \"Name\": [\"FoxA\", \"FoxA\"]})"
   ]
  },
  {
   "cell_type": "code",
   "execution_count": 7,
   "id": "26f15504",
   "metadata": {},
   "outputs": [],
   "source": [
    "%%bash\n",
    "cd /hydra/TF_data/\n",
    "blastn -db /hydra/FACS/stringtie_transcripts.fa -query Adler2014.fa -out blast_Adler2014 -outfmt 6 -evalue 1.0 -word_size 10"
   ]
  },
  {
   "cell_type": "code",
   "execution_count": 8,
   "id": "4a25de0a",
   "metadata": {},
   "outputs": [],
   "source": [
    "import pandas as pd\n",
    "blast_Adler2014 = pd.read_csv(\"/hydra/TF_data/blast_Adler2014\", sep=\"\\t\", header=None)\n",
    "blast_Adler2014.columns = [\"Seqid\", \"qid\", \"Per\", \"Len\", \"Mis\", \"Gap\", \"Startq\", \"Endq\", \"Starts\", \"Ends\", \"E\", \"Bit\"]\n",
    "blast_Adler2014 = blast_Adler2014.loc[blast_Adler2014.groupby(\"Seqid\")[\"Bit\"].idxmax()]"
   ]
  },
  {
   "cell_type": "code",
   "execution_count": 12,
   "id": "7ab14bc9",
   "metadata": {},
   "outputs": [],
   "source": [
    "TF_table_Adler2014 = tf_table(blast_Adler2014, \"Adler et al. (2014)\", Adler2014)"
   ]
  },
  {
   "cell_type": "code",
   "execution_count": 13,
   "id": "69c5bf53",
   "metadata": {},
   "outputs": [],
   "source": [
    "TF_table_Adler2014.to_csv(\"/hydra/TF_data/TF_Adler2014.csv\", index=False)"
   ]
  },
  {
   "cell_type": "code",
   "execution_count": 14,
   "id": "a5bb2bd0",
   "metadata": {},
   "outputs": [
    {
     "data": {
      "text/html": [
       "<div>\n",
       "<style scoped>\n",
       "    .dataframe tbody tr th:only-of-type {\n",
       "        vertical-align: middle;\n",
       "    }\n",
       "\n",
       "    .dataframe tbody tr th {\n",
       "        vertical-align: top;\n",
       "    }\n",
       "\n",
       "    .dataframe thead th {\n",
       "        text-align: right;\n",
       "    }\n",
       "</style>\n",
       "<table border=\"1\" class=\"dataframe\">\n",
       "  <thead>\n",
       "    <tr style=\"text-align: right;\">\n",
       "      <th></th>\n",
       "      <th>Transcript.ID</th>\n",
       "      <th>Rink.ID</th>\n",
       "      <th>Neiro.ID</th>\n",
       "      <th>Original.ID</th>\n",
       "      <th>Original.name</th>\n",
       "      <th>Source</th>\n",
       "    </tr>\n",
       "  </thead>\n",
       "  <tbody>\n",
       "    <tr>\n",
       "      <th>0</th>\n",
       "      <td>SMEST065670001.1</td>\n",
       "      <td>SMESG000065670.1</td>\n",
       "      <td>MSTRG.19539</td>\n",
       "      <td>FoxA</td>\n",
       "      <td>FoxA</td>\n",
       "      <td>Adler et al. (2014)</td>\n",
       "    </tr>\n",
       "    <tr>\n",
       "      <th>1</th>\n",
       "      <td>SMEST065670001.1</td>\n",
       "      <td>SMESG000065670.1</td>\n",
       "      <td>MSTRG.19539</td>\n",
       "      <td>FoxA</td>\n",
       "      <td>FoxA</td>\n",
       "      <td>Adler et al. (2014)</td>\n",
       "    </tr>\n",
       "  </tbody>\n",
       "</table>\n",
       "</div>"
      ],
      "text/plain": [
       "      Transcript.ID           Rink.ID     Neiro.ID Original.ID Original.name  \\\n",
       "0  SMEST065670001.1  SMESG000065670.1  MSTRG.19539        FoxA          FoxA   \n",
       "1  SMEST065670001.1  SMESG000065670.1  MSTRG.19539        FoxA          FoxA   \n",
       "\n",
       "                Source  \n",
       "0  Adler et al. (2014)  \n",
       "1  Adler et al. (2014)  "
      ]
     },
     "execution_count": 14,
     "metadata": {},
     "output_type": "execute_result"
    }
   ],
   "source": [
    "pd.read_csv(\"/hydra/TF_data/TF_Adler2014.csv\")"
   ]
  },
  {
   "cell_type": "markdown",
   "id": "8d025073",
   "metadata": {},
   "source": [
    "## 6.3 zic-1 Expression in Planarian neoblasts after injury controls anterior pole regeneration\n",
    "Vásquez-Doorman, C. and Petersen, C.P., 2014. zic-1 Expression in Planarian neoblasts after injury controls anterior pole regeneration. PLoS Genet, 10(7), p.e1004452."
   ]
  },
  {
   "cell_type": "markdown",
   "id": "21f937c0",
   "metadata": {},
   "source": [
    "* zic-1: dd_Smed_v4_22585_0_1"
   ]
  },
  {
   "cell_type": "code",
   "execution_count": 4,
   "id": "d357ba46",
   "metadata": {},
   "outputs": [
    {
     "name": "stdout",
     "output_type": "stream",
     "text": [
      ">dd_Smed_v6_22585_0_1\n",
      ">dd_Smed_v6_15531_0_1\n"
     ]
    }
   ],
   "source": [
    "%%bash\n",
    "cd /hydra/TF_data\n",
    "grep \">\" VasquezDoorman2014.fa"
   ]
  },
  {
   "cell_type": "code",
   "execution_count": 6,
   "id": "9ba6f516",
   "metadata": {},
   "outputs": [],
   "source": [
    "%%bash\n",
    "cd /hydra/TF_data/\n",
    "blastn -db /hydra/FACS/stringtie_transcripts.fa -query VasquezDoorman2014.fa -out blast_VasquezDoorman2014 -outfmt 6"
   ]
  },
  {
   "cell_type": "code",
   "execution_count": 7,
   "id": "ce159738",
   "metadata": {},
   "outputs": [],
   "source": [
    "import pandas as pd\n",
    "blast_VasquezDoorman2014 = pd.read_csv(\"/hydra/TF_data/blast_VasquezDoorman2014\", sep=\"\\t\", header=None)\n",
    "blast_VasquezDoorman2014.columns = [\"Seqid\", \"qid\", \"Per\", \"Len\", \"Mis\", \"Gap\", \"Startq\", \"Endq\", \"Starts\", \"Ends\", \"E\", \"Bit\"]\n",
    "blast_VasquezDoorman2014 = blast_VasquezDoorman2014.loc[blast_VasquezDoorman2014.groupby(\"Seqid\")[\"Bit\"].idxmax()]"
   ]
  },
  {
   "cell_type": "code",
   "execution_count": 9,
   "id": "9fa2b882",
   "metadata": {},
   "outputs": [],
   "source": [
    "VasquezDoorman2014 = pd.DataFrame({\"ID\": [\"dd_Smed_v6_22585_0_1\", \"dd_Smed_v6_15531_0_1\"], \"Name\": [\"zic-1\", \"zic-2\"]})"
   ]
  },
  {
   "cell_type": "code",
   "execution_count": 10,
   "id": "edc1b44c",
   "metadata": {},
   "outputs": [],
   "source": [
    "TF_table_VasquezDoorman2014 = tf_table(blast_VasquezDoorman2014, \"Vásquez-Doorman et al. (2014)\", VasquezDoorman2014)"
   ]
  },
  {
   "cell_type": "code",
   "execution_count": 12,
   "id": "89460c8c",
   "metadata": {},
   "outputs": [],
   "source": [
    "TF_table_VasquezDoorman2014.to_csv(\"/hydra/TF_data/TF_VasquezDoorman2014.csv\", index=False)"
   ]
  },
  {
   "cell_type": "code",
   "execution_count": 13,
   "id": "cddedaaa",
   "metadata": {},
   "outputs": [
    {
     "data": {
      "text/html": [
       "<div>\n",
       "<style scoped>\n",
       "    .dataframe tbody tr th:only-of-type {\n",
       "        vertical-align: middle;\n",
       "    }\n",
       "\n",
       "    .dataframe tbody tr th {\n",
       "        vertical-align: top;\n",
       "    }\n",
       "\n",
       "    .dataframe thead th {\n",
       "        text-align: right;\n",
       "    }\n",
       "</style>\n",
       "<table border=\"1\" class=\"dataframe\">\n",
       "  <thead>\n",
       "    <tr style=\"text-align: right;\">\n",
       "      <th></th>\n",
       "      <th>Transcript.ID</th>\n",
       "      <th>Rink.ID</th>\n",
       "      <th>Neiro.ID</th>\n",
       "      <th>Original.ID</th>\n",
       "      <th>Original.name</th>\n",
       "      <th>Source</th>\n",
       "    </tr>\n",
       "  </thead>\n",
       "  <tbody>\n",
       "    <tr>\n",
       "      <th>0</th>\n",
       "      <td>SMEST052644001.1</td>\n",
       "      <td>SMESG000052644.1</td>\n",
       "      <td>MSTRG.16036</td>\n",
       "      <td>NaN</td>\n",
       "      <td>zic-2</td>\n",
       "      <td>Vásquez-Doorman et al. (2014)</td>\n",
       "    </tr>\n",
       "    <tr>\n",
       "      <th>1</th>\n",
       "      <td>SMEST022958001.1</td>\n",
       "      <td>SMESG000022958.1</td>\n",
       "      <td>MSTRG.7487</td>\n",
       "      <td>NaN</td>\n",
       "      <td>zic-1</td>\n",
       "      <td>Vásquez-Doorman et al. (2014)</td>\n",
       "    </tr>\n",
       "  </tbody>\n",
       "</table>\n",
       "</div>"
      ],
      "text/plain": [
       "      Transcript.ID           Rink.ID     Neiro.ID  Original.ID Original.name  \\\n",
       "0  SMEST052644001.1  SMESG000052644.1  MSTRG.16036          NaN         zic-2   \n",
       "1  SMEST022958001.1  SMESG000022958.1   MSTRG.7487          NaN         zic-1   \n",
       "\n",
       "                          Source  \n",
       "0  Vásquez-Doorman et al. (2014)  \n",
       "1  Vásquez-Doorman et al. (2014)  "
      ]
     },
     "execution_count": 13,
     "metadata": {},
     "output_type": "execute_result"
    }
   ],
   "source": [
    "import pandas as pd\n",
    "pd.read_csv(\"/hydra/TF_data/TF_VasquezDoorman2014.csv\")"
   ]
  },
  {
   "cell_type": "markdown",
   "id": "0efcc81d",
   "metadata": {},
   "source": [
    "## 6.4 Stem cell-dependent formation of a functional anterior regeneration pole in planarians requires Zic and Forkhead transcription factors\n",
    "\n",
    "Vogg, M.C., Owlarn, S., Rico, Y.A.P., Xie, J., Suzuki, Y., Gentile, L., Wu, W. and Bartscherer, K., 2014. Stem cell-dependent formation of a functional anterior regeneration pole in planarians requires Zic and Forkhead transcription factors. Developmental Biology, 390(2), pp.136-148."
   ]
  },
  {
   "cell_type": "code",
   "execution_count": 23,
   "id": "be2f4a08",
   "metadata": {},
   "outputs": [],
   "source": [
    "import pandas as pd\n",
    "Vogg2014 = pd.DataFrame({\"ID\": [\"KC577557.1\", \"KF751216.1\"], \"Name\": [\"FoxD\", \"zicA\"]}) "
   ]
  },
  {
   "cell_type": "code",
   "execution_count": null,
   "id": "02b73bbf",
   "metadata": {},
   "outputs": [],
   "source": [
    "%%bash\n",
    "cd /hydra/TF_data/\n",
    "blastn -db /hydra/FACS/stringtie_transcripts.fa -query Vogg2014.fa -out blast_Vogg2014 -outfmt 6"
   ]
  },
  {
   "cell_type": "code",
   "execution_count": 22,
   "id": "11a3b950",
   "metadata": {},
   "outputs": [],
   "source": [
    "import pandas as pd\n",
    "blast_Vogg2014 = pd.read_csv(\"/hydra/TF_data/blast_Vogg2014\", sep=\"\\t\", header=None)\n",
    "blast_Vogg2014.columns = [\"Seqid\", \"qid\", \"Per\", \"Len\", \"Mis\", \"Gap\", \"Startq\", \"Endq\", \"Starts\", \"Ends\", \"E\", \"Bit\"]\n",
    "blast_Vogg2014 = blast_Vogg2014.loc[blast_Vogg2014.groupby(\"Seqid\")[\"Bit\"].idxmax()]"
   ]
  },
  {
   "cell_type": "code",
   "execution_count": 24,
   "id": "ecb8e709",
   "metadata": {},
   "outputs": [],
   "source": [
    "TF_table_Vogg2014 = tf_table(blast_Vogg2014, \"Vogg et al. (2014)\", Vogg2014)"
   ]
  },
  {
   "cell_type": "code",
   "execution_count": null,
   "id": "f490f78b",
   "metadata": {},
   "outputs": [],
   "source": [
    "TF_table_Vogg2014.to_csv(\"/hydra/TF_data/TF_Vogg2014.csv\", index=False)"
   ]
  },
  {
   "cell_type": "code",
   "execution_count": 25,
   "id": "c9d25186",
   "metadata": {},
   "outputs": [
    {
     "data": {
      "text/html": [
       "<div>\n",
       "<style scoped>\n",
       "    .dataframe tbody tr th:only-of-type {\n",
       "        vertical-align: middle;\n",
       "    }\n",
       "\n",
       "    .dataframe tbody tr th {\n",
       "        vertical-align: top;\n",
       "    }\n",
       "\n",
       "    .dataframe thead th {\n",
       "        text-align: right;\n",
       "    }\n",
       "</style>\n",
       "<table border=\"1\" class=\"dataframe\">\n",
       "  <thead>\n",
       "    <tr style=\"text-align: right;\">\n",
       "      <th></th>\n",
       "      <th>Transcript.ID</th>\n",
       "      <th>Rink.ID</th>\n",
       "      <th>Neiro.ID</th>\n",
       "      <th>Original.ID</th>\n",
       "      <th>Original.name</th>\n",
       "      <th>Source</th>\n",
       "    </tr>\n",
       "  </thead>\n",
       "  <tbody>\n",
       "    <tr>\n",
       "      <th>0</th>\n",
       "      <td>SMEST077075001.1</td>\n",
       "      <td>SMESG000077075.1</td>\n",
       "      <td>MSTRG.22528</td>\n",
       "      <td>KC577557</td>\n",
       "      <td>FoxD</td>\n",
       "      <td>Vogg et al. (2014)</td>\n",
       "    </tr>\n",
       "    <tr>\n",
       "      <th>1</th>\n",
       "      <td>SMEST022958001.1</td>\n",
       "      <td>SMESG000022958.1</td>\n",
       "      <td>MSTRG.7487</td>\n",
       "      <td>KF751216</td>\n",
       "      <td>zicA</td>\n",
       "      <td>Vogg et al. (2014)</td>\n",
       "    </tr>\n",
       "  </tbody>\n",
       "</table>\n",
       "</div>"
      ],
      "text/plain": [
       "      Transcript.ID           Rink.ID     Neiro.ID Original.ID Original.name  \\\n",
       "0  SMEST077075001.1  SMESG000077075.1  MSTRG.22528    KC577557          FoxD   \n",
       "1  SMEST022958001.1  SMESG000022958.1   MSTRG.7487    KF751216          zicA   \n",
       "\n",
       "               Source  \n",
       "0  Vogg et al. (2014)  \n",
       "1  Vogg et al. (2014)  "
      ]
     },
     "execution_count": 25,
     "metadata": {},
     "output_type": "execute_result"
    }
   ],
   "source": [
    "pd.read_csv(\"/hydra/TF_data/TF_Vogg2014.csv\")"
   ]
  },
  {
   "cell_type": "markdown",
   "id": "c898b392",
   "metadata": {},
   "source": [
    "## 6.5 Neoblast specialization in regeneration of the planarian Schmidtea mediterranea\n",
    "Scimone, M.L., Kravarik, K.M., Lapan, S.W. and Reddien, P.W., 2014. Neoblast specialization in regeneration of the planarian Schmidtea mediterranea. Stem cell reports, 3(2), pp.339-352."
   ]
  },
  {
   "cell_type": "code",
   "execution_count": null,
   "id": "c11d5c5a",
   "metadata": {},
   "outputs": [],
   "source": [
    "Scimone2014accession = []\n",
    "for i in range(799,819):\n",
    "    Scimone2014accession.append(\"KJ934\"+str(i))"
   ]
  },
  {
   "cell_type": "code",
   "execution_count": null,
   "id": "408ffcef",
   "metadata": {},
   "outputs": [],
   "source": [
    "pd.Series(Scimone2014accession).to_csv(\"/hydra/TF_data/ScimoneAccession.txt\", header=None, index=False)"
   ]
  },
  {
   "cell_type": "code",
   "execution_count": 1,
   "id": "ad06e9fb",
   "metadata": {},
   "outputs": [
    {
     "name": "stdout",
     "output_type": "stream",
     "text": [
      ">KJ934799.1 UNVERIFIED: Schmidtea mediterranea elf-like mRNA, complete sequence\n",
      "GGACTGATCTTCTTAGAAATAAAGGAAGTAGTGTCATTCATTTCCCGATTGAAGACGAGCTGAAATCCGG\n",
      "ATTGTAGTTATATATTAGACAGCCGATGATAGAAGGACTCGAGCAGAAGTTAGATCCATTTTCGAATGGA\n",
      "GCAGCAAACAAACAAGTAAACAATTTTGAAGGAAGGAATTCTAATAACAATTCGAGGAAAAAACAATGTG\n"
     ]
    }
   ],
   "source": [
    "%%bash\n",
    "cd /hydra/TF_data\n",
    "head -4 Scimone.fa"
   ]
  },
  {
   "cell_type": "code",
   "execution_count": null,
   "id": "d953a149",
   "metadata": {},
   "outputs": [],
   "source": [
    "%%bash\n",
    "cd /hydra/TF_data\n",
    "grep \">\" Scimone.fa > Scimone2014header.txt"
   ]
  },
  {
   "cell_type": "code",
   "execution_count": null,
   "id": "8e4f999b",
   "metadata": {},
   "outputs": [],
   "source": [
    "Scimone_header = pd.read_csv(\"/hydra/TF_data/Scimone2014header.txt\", header=None)\n",
    "Scimone_id = []\n",
    "Scimone_name = []\n",
    "for i in range(len(Scimone_header)):\n",
    "    i_id = Scimone_header.iloc[i,0].split(\" \")[0].split(\">\")[1]\n",
    "    n_id = Scimone_header.iloc[i,0].split(\" \")[4]\n",
    "    Scimone_id.append(i_id)\n",
    "    Scimone_name.append(n_id)\n",
    "Scimone = pd.DataFrame({\"ID\":Scimone_id, \"Name\": Scimone_name})"
   ]
  },
  {
   "cell_type": "code",
   "execution_count": null,
   "id": "a2e72080",
   "metadata": {},
   "outputs": [],
   "source": [
    "%%bash\n",
    "cd /hydra/TF_data/\n",
    "blastn -db /hydra/FACS/stringtie_transcripts.fa -query Scimone.fa -out blast_Scimone -outfmt 6 &"
   ]
  },
  {
   "cell_type": "code",
   "execution_count": null,
   "id": "895f5f09",
   "metadata": {},
   "outputs": [],
   "source": [
    "import pandas as pd\n",
    "blast_Scimone = pd.read_csv(\"/hydra/TF_data/blast_Scimone\", sep=\"\\t\", header=None)\n",
    "blast_Scimone.columns = [\"Seqid\", \"qid\", \"Per\", \"Len\", \"Mis\", \"Gap\", \"Startq\", \"Endq\", \"Starts\", \"Ends\", \"E\", \"Bit\"]\n",
    "blast_Scimone = blast_Scimone.loc[blast_Scimone.groupby(\"Seqid\")[\"Bit\"].idxmax()]"
   ]
  },
  {
   "cell_type": "code",
   "execution_count": null,
   "id": "bbcb06a7",
   "metadata": {},
   "outputs": [],
   "source": [
    "transcript_id = []\n",
    "gene_id_rink = []\n",
    "gene_id_neiro = []\n",
    "original_id = []\n",
    "original_name = []\n",
    "for i in range(len(blast_Currie)):\n",
    "    t_id = blast_Scimone.iloc[i,1]\n",
    "    o_id = Scimone[Scimone.iloc[:,0] == blast_Scimone.iloc[i,0]].iloc[0,0]\n",
    "    transcript_id.append(t_id)\n",
    "    gene_id_rink.append(gene2transcript[gene2transcript[\"qry_id\"] == t_id].iloc[0,0])\n",
    "    gene_id_neiro.append(gene2transcript[gene2transcript[\"qry_id\"] == t_id].iloc[0,1])\n",
    "    original_id.append(o_id.rpartition(\".\")[0])\n",
    "    original_name.append(Scimone[Scimone.iloc[:,0] == o_id].iloc[0,1])\n",
    "source = [\"Scimone et al. (2014)\"] * len(original_name)"
   ]
  },
  {
   "cell_type": "code",
   "execution_count": null,
   "id": "34d0d9f1",
   "metadata": {},
   "outputs": [],
   "source": [
    "TF_table_Scimone2014 = pd.DataFrame({\"Transcript.ID\": transcript_id, \"Rink.ID\": gene_id_rink, \"Neiro.ID\": gene_id_neiro, \"Original.ID\": original_id, \"Original.name\": original_name, \"Source\": source})"
   ]
  },
  {
   "cell_type": "code",
   "execution_count": null,
   "id": "2e67f7be",
   "metadata": {},
   "outputs": [],
   "source": [
    "TF_table_Scimone2014.to_csv(\"/hydra/TF_data/TF_Scimone2014.csv\", index=False)"
   ]
  },
  {
   "cell_type": "code",
   "execution_count": 3,
   "id": "8cefba05",
   "metadata": {},
   "outputs": [
    {
     "data": {
      "text/html": [
       "<div>\n",
       "<style scoped>\n",
       "    .dataframe tbody tr th:only-of-type {\n",
       "        vertical-align: middle;\n",
       "    }\n",
       "\n",
       "    .dataframe tbody tr th {\n",
       "        vertical-align: top;\n",
       "    }\n",
       "\n",
       "    .dataframe thead th {\n",
       "        text-align: right;\n",
       "    }\n",
       "</style>\n",
       "<table border=\"1\" class=\"dataframe\">\n",
       "  <thead>\n",
       "    <tr style=\"text-align: right;\">\n",
       "      <th></th>\n",
       "      <th>Transcript.ID</th>\n",
       "      <th>Rink.ID</th>\n",
       "      <th>Neiro.ID</th>\n",
       "      <th>Original.ID</th>\n",
       "      <th>Original.name</th>\n",
       "      <th>Source</th>\n",
       "    </tr>\n",
       "  </thead>\n",
       "  <tbody>\n",
       "    <tr>\n",
       "      <th>0</th>\n",
       "      <td>MSTRG.23472.2</td>\n",
       "      <td>SMESG000080027.1</td>\n",
       "      <td>MSTRG.23472</td>\n",
       "      <td>KJ934799</td>\n",
       "      <td>elf-like</td>\n",
       "      <td>Scimone et al. (2014)</td>\n",
       "    </tr>\n",
       "    <tr>\n",
       "      <th>1</th>\n",
       "      <td>MSTRG.22994.4</td>\n",
       "      <td>SMESG000078333.1</td>\n",
       "      <td>MSTRG.22994</td>\n",
       "      <td>KJ934800</td>\n",
       "      <td>fli1-like</td>\n",
       "      <td>Scimone et al. (2014)</td>\n",
       "    </tr>\n",
       "    <tr>\n",
       "      <th>2</th>\n",
       "      <td>MSTRG.22295.3</td>\n",
       "      <td>SMESG000075929.1</td>\n",
       "      <td>MSTRG.22295</td>\n",
       "      <td>KJ934801</td>\n",
       "      <td>foxf-like</td>\n",
       "      <td>Scimone et al. (2014)</td>\n",
       "    </tr>\n",
       "    <tr>\n",
       "      <th>3</th>\n",
       "      <td>SMEST000679001.1</td>\n",
       "      <td>SMESG000000679.1</td>\n",
       "      <td>MSTRG.1201</td>\n",
       "      <td>KJ934802</td>\n",
       "      <td>glass-like</td>\n",
       "      <td>Scimone et al. (2014)</td>\n",
       "    </tr>\n",
       "    <tr>\n",
       "      <th>4</th>\n",
       "      <td>MSTRG.4069.2</td>\n",
       "      <td>SMESG000010916.1</td>\n",
       "      <td>MSTRG.4069</td>\n",
       "      <td>KJ934803</td>\n",
       "      <td>lhx2/9-like</td>\n",
       "      <td>Scimone et al. (2014)</td>\n",
       "    </tr>\n",
       "    <tr>\n",
       "      <th>5</th>\n",
       "      <td>MSTRG.20979.2</td>\n",
       "      <td>SMESG000071273.1</td>\n",
       "      <td>MSTRG.20979</td>\n",
       "      <td>KJ934804</td>\n",
       "      <td>lhx3/4-like</td>\n",
       "      <td>Scimone et al. (2014)</td>\n",
       "    </tr>\n",
       "    <tr>\n",
       "      <th>6</th>\n",
       "      <td>SMEST042373004.1</td>\n",
       "      <td>SMESG000042373.1</td>\n",
       "      <td>MSTRG.8797</td>\n",
       "      <td>KJ934805</td>\n",
       "      <td>Na-dependent</td>\n",
       "      <td>Scimone et al. (2014)</td>\n",
       "    </tr>\n",
       "    <tr>\n",
       "      <th>7</th>\n",
       "      <td>SMEST081885001.1</td>\n",
       "      <td>SMESG000081885.1</td>\n",
       "      <td>MSTRG.22888</td>\n",
       "      <td>KJ934806</td>\n",
       "      <td>nkx2-like</td>\n",
       "      <td>Scimone et al. (2014)</td>\n",
       "    </tr>\n",
       "    <tr>\n",
       "      <th>8</th>\n",
       "      <td>SMEST002774001.1</td>\n",
       "      <td>SMESG000002774.1</td>\n",
       "      <td>MSTRG.764</td>\n",
       "      <td>KJ934807</td>\n",
       "      <td>nkx6-like</td>\n",
       "      <td>Scimone et al. (2014)</td>\n",
       "    </tr>\n",
       "    <tr>\n",
       "      <th>9</th>\n",
       "      <td>MSTRG.8071.2</td>\n",
       "      <td>SMESG000024492.1</td>\n",
       "      <td>MSTRG.8071</td>\n",
       "      <td>KJ934808</td>\n",
       "      <td>nuclear</td>\n",
       "      <td>Scimone et al. (2014)</td>\n",
       "    </tr>\n",
       "    <tr>\n",
       "      <th>10</th>\n",
       "      <td>MSTRG.8421.5</td>\n",
       "      <td>SMESG000023717.1</td>\n",
       "      <td>MSTRG.8421</td>\n",
       "      <td>KJ934809</td>\n",
       "      <td>otxb-like</td>\n",
       "      <td>Scimone et al. (2014)</td>\n",
       "    </tr>\n",
       "    <tr>\n",
       "      <th>11</th>\n",
       "      <td>MSTRG.9597.1</td>\n",
       "      <td>SMESG000030143.1</td>\n",
       "      <td>MSTRG.9597</td>\n",
       "      <td>KJ934810</td>\n",
       "      <td>pax3/7-like</td>\n",
       "      <td>Scimone et al. (2014)</td>\n",
       "    </tr>\n",
       "    <tr>\n",
       "      <th>12</th>\n",
       "      <td>MSTRG.21546.2</td>\n",
       "      <td>SMESG000077501.1</td>\n",
       "      <td>MSTRG.21546</td>\n",
       "      <td>KJ934811</td>\n",
       "      <td>pax6b-like</td>\n",
       "      <td>Scimone et al. (2014)</td>\n",
       "    </tr>\n",
       "    <tr>\n",
       "      <th>13</th>\n",
       "      <td>SMEST035419001.1</td>\n",
       "      <td>SMESG000035419.1</td>\n",
       "      <td>MSTRG.11112</td>\n",
       "      <td>KJ934812</td>\n",
       "      <td>prox-2-like</td>\n",
       "      <td>Scimone et al. (2014)</td>\n",
       "    </tr>\n",
       "    <tr>\n",
       "      <th>14</th>\n",
       "      <td>SMEST041786001.1</td>\n",
       "      <td>SMESG000041786.1</td>\n",
       "      <td>MSTRG.9027</td>\n",
       "      <td>KJ934813</td>\n",
       "      <td>scratch-like</td>\n",
       "      <td>Scimone et al. (2014)</td>\n",
       "    </tr>\n",
       "    <tr>\n",
       "      <th>15</th>\n",
       "      <td>MSTRG.17678.2</td>\n",
       "      <td>SMESG000064846.1</td>\n",
       "      <td>MSTRG.17678</td>\n",
       "      <td>KJ934814</td>\n",
       "      <td>snail-like</td>\n",
       "      <td>Scimone et al. (2014)</td>\n",
       "    </tr>\n",
       "  </tbody>\n",
       "</table>\n",
       "</div>"
      ],
      "text/plain": [
       "       Transcript.ID           Rink.ID     Neiro.ID Original.ID Original.name  \\\n",
       "0      MSTRG.23472.2  SMESG000080027.1  MSTRG.23472    KJ934799      elf-like   \n",
       "1      MSTRG.22994.4  SMESG000078333.1  MSTRG.22994    KJ934800     fli1-like   \n",
       "2      MSTRG.22295.3  SMESG000075929.1  MSTRG.22295    KJ934801     foxf-like   \n",
       "3   SMEST000679001.1  SMESG000000679.1   MSTRG.1201    KJ934802    glass-like   \n",
       "4       MSTRG.4069.2  SMESG000010916.1   MSTRG.4069    KJ934803   lhx2/9-like   \n",
       "5      MSTRG.20979.2  SMESG000071273.1  MSTRG.20979    KJ934804   lhx3/4-like   \n",
       "6   SMEST042373004.1  SMESG000042373.1   MSTRG.8797    KJ934805  Na-dependent   \n",
       "7   SMEST081885001.1  SMESG000081885.1  MSTRG.22888    KJ934806     nkx2-like   \n",
       "8   SMEST002774001.1  SMESG000002774.1    MSTRG.764    KJ934807     nkx6-like   \n",
       "9       MSTRG.8071.2  SMESG000024492.1   MSTRG.8071    KJ934808       nuclear   \n",
       "10      MSTRG.8421.5  SMESG000023717.1   MSTRG.8421    KJ934809     otxb-like   \n",
       "11      MSTRG.9597.1  SMESG000030143.1   MSTRG.9597    KJ934810   pax3/7-like   \n",
       "12     MSTRG.21546.2  SMESG000077501.1  MSTRG.21546    KJ934811    pax6b-like   \n",
       "13  SMEST035419001.1  SMESG000035419.1  MSTRG.11112    KJ934812   prox-2-like   \n",
       "14  SMEST041786001.1  SMESG000041786.1   MSTRG.9027    KJ934813  scratch-like   \n",
       "15     MSTRG.17678.2  SMESG000064846.1  MSTRG.17678    KJ934814    snail-like   \n",
       "\n",
       "                   Source  \n",
       "0   Scimone et al. (2014)  \n",
       "1   Scimone et al. (2014)  \n",
       "2   Scimone et al. (2014)  \n",
       "3   Scimone et al. (2014)  \n",
       "4   Scimone et al. (2014)  \n",
       "5   Scimone et al. (2014)  \n",
       "6   Scimone et al. (2014)  \n",
       "7   Scimone et al. (2014)  \n",
       "8   Scimone et al. (2014)  \n",
       "9   Scimone et al. (2014)  \n",
       "10  Scimone et al. (2014)  \n",
       "11  Scimone et al. (2014)  \n",
       "12  Scimone et al. (2014)  \n",
       "13  Scimone et al. (2014)  \n",
       "14  Scimone et al. (2014)  \n",
       "15  Scimone et al. (2014)  "
      ]
     },
     "execution_count": 3,
     "metadata": {},
     "output_type": "execute_result"
    }
   ],
   "source": [
    "import pandas as pd\n",
    "pd.read_csv(\"/hydra/TF_data/TF_Scimone2014.csv\")"
   ]
  },
  {
   "cell_type": "markdown",
   "id": "2f02ef31",
   "metadata": {},
   "source": [
    "## 6.6 Single-cell analysis reveals functionally distinct classes within the planarian stem cell compartment.\n",
    "van Wolfswinkel, J.C., Wagner, D.E. and Reddien, P.W., 2014. Single-cell analysis reveals functionally distinct classes within the planarian stem cell compartment. Cell stem cell, 15(3), pp.326-339."
   ]
  },
  {
   "cell_type": "code",
   "execution_count": 5,
   "id": "c84598a0",
   "metadata": {},
   "outputs": [],
   "source": [
    "#%%bash\n",
    "#cd /hydra/TF_data\n",
    "#wget https://www.ncbi.nlm.nih.gov/pmc/articles/PMC4171737/bin/NIHMS613504-supplement-04.xls"
   ]
  },
  {
   "cell_type": "code",
   "execution_count": 2,
   "id": "bd7f0fa5",
   "metadata": {},
   "outputs": [],
   "source": [
    "Wolfswinkel2014xls = pd.read_excel(\"/hydra/TF_data/NIHMS613504-supplement-04.xls\")"
   ]
  },
  {
   "cell_type": "code",
   "execution_count": 16,
   "id": "4be24c6f",
   "metadata": {},
   "outputs": [],
   "source": [
    "f = open(\"/hydra/TF_data/Wolfswinkel2014.fa\", \"a\")\n",
    "for i in range(len(Wolfswinkel2014xls)):\n",
    "    f.write(\">\"+Wolfswinkel2014xls.iloc[i,0]+\"\\n\")\n",
    "    f.write(Wolfswinkel2014xls.iloc[i,2]+\"\\n\")"
   ]
  },
  {
   "cell_type": "code",
   "execution_count": 20,
   "id": "85f461ec",
   "metadata": {},
   "outputs": [],
   "source": [
    "%%bash\n",
    "cd /hydra/TF_data/\n",
    "blastn -db /hydra/FACS/stringtie_transcripts.fa -query Wolfswinkel2014.fa -out blast_Wolfswinkel2014 -outfmt 6"
   ]
  },
  {
   "cell_type": "code",
   "execution_count": 1,
   "id": "85df5365",
   "metadata": {},
   "outputs": [],
   "source": [
    "import pandas as pd\n",
    "blast_Wolfswinkel2014 = pd.read_csv(\"/hydra/TF_data/blast_Wolfswinkel2014\", sep=\"\\t\", header=None)\n",
    "blast_Wolfswinkel2014.columns = [\"Seqid\", \"qid\", \"Per\", \"Len\", \"Mis\", \"Gap\", \"Startq\", \"Endq\", \"Starts\", \"Ends\", \"E\", \"Bit\"]\n",
    "blast_Wolfswinkel2014 = blast_Wolfswinkel2014.loc[blast_Wolfswinkel2014.groupby(\"Seqid\")[\"Bit\"].idxmax()]"
   ]
  },
  {
   "cell_type": "code",
   "execution_count": 27,
   "id": "bb208207",
   "metadata": {},
   "outputs": [
    {
     "data": {
      "text/html": [
       "<div>\n",
       "<style scoped>\n",
       "    .dataframe tbody tr th:only-of-type {\n",
       "        vertical-align: middle;\n",
       "    }\n",
       "\n",
       "    .dataframe tbody tr th {\n",
       "        vertical-align: top;\n",
       "    }\n",
       "\n",
       "    .dataframe thead th {\n",
       "        text-align: right;\n",
       "    }\n",
       "</style>\n",
       "<table border=\"1\" class=\"dataframe\">\n",
       "  <thead>\n",
       "    <tr style=\"text-align: right;\">\n",
       "      <th></th>\n",
       "      <th>Seqid</th>\n",
       "      <th>qid</th>\n",
       "      <th>Per</th>\n",
       "      <th>Len</th>\n",
       "      <th>Mis</th>\n",
       "      <th>Gap</th>\n",
       "      <th>Startq</th>\n",
       "      <th>Endq</th>\n",
       "      <th>Starts</th>\n",
       "      <th>Ends</th>\n",
       "      <th>E</th>\n",
       "      <th>Bit</th>\n",
       "    </tr>\n",
       "  </thead>\n",
       "  <tbody>\n",
       "    <tr>\n",
       "      <th>632</th>\n",
       "      <td>Smed-abdBa</td>\n",
       "      <td>MSTRG.9883.1</td>\n",
       "      <td>99.775</td>\n",
       "      <td>1331</td>\n",
       "      <td>0</td>\n",
       "      <td>1</td>\n",
       "      <td>7</td>\n",
       "      <td>1337</td>\n",
       "      <td>1470</td>\n",
       "      <td>143</td>\n",
       "      <td>0.000000e+00</td>\n",
       "      <td>2438.0</td>\n",
       "    </tr>\n",
       "    <tr>\n",
       "      <th>573</th>\n",
       "      <td>Smed-abdBb</td>\n",
       "      <td>SMEST033048001.1</td>\n",
       "      <td>99.762</td>\n",
       "      <td>1680</td>\n",
       "      <td>4</td>\n",
       "      <td>0</td>\n",
       "      <td>5</td>\n",
       "      <td>1684</td>\n",
       "      <td>2974</td>\n",
       "      <td>1295</td>\n",
       "      <td>0.000000e+00</td>\n",
       "      <td>3081.0</td>\n",
       "    </tr>\n",
       "    <tr>\n",
       "      <th>135</th>\n",
       "      <td>Smed-armc1</td>\n",
       "      <td>MSTRG.22209.2</td>\n",
       "      <td>98.456</td>\n",
       "      <td>1101</td>\n",
       "      <td>2</td>\n",
       "      <td>1</td>\n",
       "      <td>7</td>\n",
       "      <td>1092</td>\n",
       "      <td>1101</td>\n",
       "      <td>1</td>\n",
       "      <td>0.000000e+00</td>\n",
       "      <td>1925.0</td>\n",
       "    </tr>\n",
       "    <tr>\n",
       "      <th>155</th>\n",
       "      <td>Smed-bruli</td>\n",
       "      <td>MSTRG.8219.4</td>\n",
       "      <td>99.317</td>\n",
       "      <td>293</td>\n",
       "      <td>2</td>\n",
       "      <td>0</td>\n",
       "      <td>1</td>\n",
       "      <td>293</td>\n",
       "      <td>574</td>\n",
       "      <td>866</td>\n",
       "      <td>6.230000e-150</td>\n",
       "      <td>531.0</td>\n",
       "    </tr>\n",
       "    <tr>\n",
       "      <th>634</th>\n",
       "      <td>Smed-chd-4</td>\n",
       "      <td>SMEST068192002.1</td>\n",
       "      <td>99.671</td>\n",
       "      <td>5776</td>\n",
       "      <td>19</td>\n",
       "      <td>0</td>\n",
       "      <td>2</td>\n",
       "      <td>5777</td>\n",
       "      <td>23</td>\n",
       "      <td>5798</td>\n",
       "      <td>0.000000e+00</td>\n",
       "      <td>10562.0</td>\n",
       "    </tr>\n",
       "    <tr>\n",
       "      <th>...</th>\n",
       "      <td>...</td>\n",
       "      <td>...</td>\n",
       "      <td>...</td>\n",
       "      <td>...</td>\n",
       "      <td>...</td>\n",
       "      <td>...</td>\n",
       "      <td>...</td>\n",
       "      <td>...</td>\n",
       "      <td>...</td>\n",
       "      <td>...</td>\n",
       "      <td>...</td>\n",
       "      <td>...</td>\n",
       "    </tr>\n",
       "    <tr>\n",
       "      <th>630</th>\n",
       "      <td>six6*</td>\n",
       "      <td>SMEST060967001.1</td>\n",
       "      <td>100.000</td>\n",
       "      <td>885</td>\n",
       "      <td>0</td>\n",
       "      <td>0</td>\n",
       "      <td>1</td>\n",
       "      <td>885</td>\n",
       "      <td>121</td>\n",
       "      <td>1005</td>\n",
       "      <td>0.000000e+00</td>\n",
       "      <td>1635.0</td>\n",
       "    </tr>\n",
       "    <tr>\n",
       "      <th>599</th>\n",
       "      <td>smedwi-1</td>\n",
       "      <td>SMEST036375001.1</td>\n",
       "      <td>99.766</td>\n",
       "      <td>2566</td>\n",
       "      <td>5</td>\n",
       "      <td>1</td>\n",
       "      <td>1</td>\n",
       "      <td>2566</td>\n",
       "      <td>185</td>\n",
       "      <td>2749</td>\n",
       "      <td>0.000000e+00</td>\n",
       "      <td>4704.0</td>\n",
       "    </tr>\n",
       "    <tr>\n",
       "      <th>667</th>\n",
       "      <td>smedwi-2</td>\n",
       "      <td>SMEST069981002.1</td>\n",
       "      <td>99.125</td>\n",
       "      <td>2628</td>\n",
       "      <td>11</td>\n",
       "      <td>1</td>\n",
       "      <td>463</td>\n",
       "      <td>3078</td>\n",
       "      <td>7182</td>\n",
       "      <td>9809</td>\n",
       "      <td>0.000000e+00</td>\n",
       "      <td>4715.0</td>\n",
       "    </tr>\n",
       "    <tr>\n",
       "      <th>68</th>\n",
       "      <td>smedwi-3</td>\n",
       "      <td>SMEST081970001.1</td>\n",
       "      <td>99.710</td>\n",
       "      <td>3104</td>\n",
       "      <td>9</td>\n",
       "      <td>0</td>\n",
       "      <td>12</td>\n",
       "      <td>3115</td>\n",
       "      <td>3254</td>\n",
       "      <td>151</td>\n",
       "      <td>0.000000e+00</td>\n",
       "      <td>5683.0</td>\n",
       "    </tr>\n",
       "    <tr>\n",
       "      <th>312</th>\n",
       "      <td>sp5*</td>\n",
       "      <td>SMEST023227001.1</td>\n",
       "      <td>99.855</td>\n",
       "      <td>1380</td>\n",
       "      <td>2</td>\n",
       "      <td>0</td>\n",
       "      <td>1</td>\n",
       "      <td>1380</td>\n",
       "      <td>269</td>\n",
       "      <td>1648</td>\n",
       "      <td>0.000000e+00</td>\n",
       "      <td>2538.0</td>\n",
       "    </tr>\n",
       "  </tbody>\n",
       "</table>\n",
       "<p>89 rows × 12 columns</p>\n",
       "</div>"
      ],
      "text/plain": [
       "          Seqid               qid      Per   Len  Mis  Gap  Startq  Endq  \\\n",
       "632  Smed-abdBa      MSTRG.9883.1   99.775  1331    0    1       7  1337   \n",
       "573  Smed-abdBb  SMEST033048001.1   99.762  1680    4    0       5  1684   \n",
       "135  Smed-armc1     MSTRG.22209.2   98.456  1101    2    1       7  1092   \n",
       "155  Smed-bruli      MSTRG.8219.4   99.317   293    2    0       1   293   \n",
       "634  Smed-chd-4  SMEST068192002.1   99.671  5776   19    0       2  5777   \n",
       "..          ...               ...      ...   ...  ...  ...     ...   ...   \n",
       "630       six6*  SMEST060967001.1  100.000   885    0    0       1   885   \n",
       "599    smedwi-1  SMEST036375001.1   99.766  2566    5    1       1  2566   \n",
       "667    smedwi-2  SMEST069981002.1   99.125  2628   11    1     463  3078   \n",
       "68     smedwi-3  SMEST081970001.1   99.710  3104    9    0      12  3115   \n",
       "312        sp5*  SMEST023227001.1   99.855  1380    2    0       1  1380   \n",
       "\n",
       "     Starts  Ends              E      Bit  \n",
       "632    1470   143   0.000000e+00   2438.0  \n",
       "573    2974  1295   0.000000e+00   3081.0  \n",
       "135    1101     1   0.000000e+00   1925.0  \n",
       "155     574   866  6.230000e-150    531.0  \n",
       "634      23  5798   0.000000e+00  10562.0  \n",
       "..      ...   ...            ...      ...  \n",
       "630     121  1005   0.000000e+00   1635.0  \n",
       "599     185  2749   0.000000e+00   4704.0  \n",
       "667    7182  9809   0.000000e+00   4715.0  \n",
       "68     3254   151   0.000000e+00   5683.0  \n",
       "312     269  1648   0.000000e+00   2538.0  \n",
       "\n",
       "[89 rows x 12 columns]"
      ]
     },
     "execution_count": 27,
     "metadata": {},
     "output_type": "execute_result"
    }
   ],
   "source": [
    "Wolfswinkel2014"
   ]
  },
  {
   "cell_type": "code",
   "execution_count": 6,
   "id": "20a09c47",
   "metadata": {},
   "outputs": [],
   "source": [
    "transcript_id = []\n",
    "gene_id_rink = []\n",
    "gene_id_neiro = []\n",
    "original_id = []\n",
    "original_name = []\n",
    "for i in range(len(blast_Wolfswinkel2014)):\n",
    "    t_id = blast_Wolfswinkel2014.iloc[i,1]\n",
    "    o_id = Wolfswinkel2014xls[Wolfswinkel2014xls.iloc[:,0] == blast_Wolfswinkel2014.iloc[i,0]].iloc[0,0]\n",
    "    transcript_id.append(t_id)\n",
    "    gene_id_rink.append(gene2transcript[gene2transcript[\"qry_id\"] == t_id].iloc[0,0])\n",
    "    gene_id_neiro.append(gene2transcript[gene2transcript[\"qry_id\"] == t_id].iloc[0,1])\n",
    "    original_id.append(o_id.rpartition(\".\")[0])\n",
    "    original_name.append(Wolfswinkel2014xls[Wolfswinkel2014xls.iloc[:,0] == o_id].iloc[0,0])\n",
    "source = [\"van Wolfswinkel et al. (2014)\"] * len(original_name)"
   ]
  },
  {
   "cell_type": "code",
   "execution_count": 7,
   "id": "1e6b6299",
   "metadata": {},
   "outputs": [],
   "source": [
    "TF_table_Wolfswinkel2014 = pd.DataFrame({\"Transcript.ID\": transcript_id, \"Rink.ID\": gene_id_rink, \"Neiro.ID\": gene_id_neiro, \"Original.ID\": original_id, \"Original.name\": original_name, \"Source\": source})"
   ]
  },
  {
   "cell_type": "code",
   "execution_count": 8,
   "id": "39eb9f15",
   "metadata": {},
   "outputs": [],
   "source": [
    "TF_table_Wolfswinkel2014.to_csv(\"/hydra/TF_data/TF_Wolfswinkel2014.csv\", index=False)"
   ]
  },
  {
   "cell_type": "code",
   "execution_count": 12,
   "id": "447940b9",
   "metadata": {},
   "outputs": [
    {
     "data": {
      "text/html": [
       "<div>\n",
       "<style scoped>\n",
       "    .dataframe tbody tr th:only-of-type {\n",
       "        vertical-align: middle;\n",
       "    }\n",
       "\n",
       "    .dataframe tbody tr th {\n",
       "        vertical-align: top;\n",
       "    }\n",
       "\n",
       "    .dataframe thead th {\n",
       "        text-align: right;\n",
       "    }\n",
       "</style>\n",
       "<table border=\"1\" class=\"dataframe\">\n",
       "  <thead>\n",
       "    <tr style=\"text-align: right;\">\n",
       "      <th></th>\n",
       "      <th>Transcript.ID</th>\n",
       "      <th>Rink.ID</th>\n",
       "      <th>Neiro.ID</th>\n",
       "      <th>Original.ID</th>\n",
       "      <th>Original.name</th>\n",
       "      <th>Source</th>\n",
       "    </tr>\n",
       "  </thead>\n",
       "  <tbody>\n",
       "    <tr>\n",
       "      <th>80</th>\n",
       "      <td>MSTRG.15683.1</td>\n",
       "      <td>SMESG000058834.1</td>\n",
       "      <td>MSTRG.15683</td>\n",
       "      <td></td>\n",
       "      <td>pou6*-2</td>\n",
       "      <td>van Wolfswinkel et al. (2014)</td>\n",
       "    </tr>\n",
       "    <tr>\n",
       "      <th>81</th>\n",
       "      <td>SMEST017202001.1</td>\n",
       "      <td>SMESG000017202.1</td>\n",
       "      <td>MSTRG.5418</td>\n",
       "      <td></td>\n",
       "      <td>rfx3*</td>\n",
       "      <td>van Wolfswinkel et al. (2014)</td>\n",
       "    </tr>\n",
       "    <tr>\n",
       "      <th>82</th>\n",
       "      <td>SMEST021065001.1</td>\n",
       "      <td>SMESG000021065.1</td>\n",
       "      <td>MSTRG.6725</td>\n",
       "      <td></td>\n",
       "      <td>rfx7*</td>\n",
       "      <td>van Wolfswinkel et al. (2014)</td>\n",
       "    </tr>\n",
       "    <tr>\n",
       "      <th>83</th>\n",
       "      <td>SMEST009304001.1</td>\n",
       "      <td>SMESG000009304.1</td>\n",
       "      <td>MSTRG.2777</td>\n",
       "      <td></td>\n",
       "      <td>ror*</td>\n",
       "      <td>van Wolfswinkel et al. (2014)</td>\n",
       "    </tr>\n",
       "    <tr>\n",
       "      <th>84</th>\n",
       "      <td>SMEST060967001.1</td>\n",
       "      <td>SMESG000060967.1</td>\n",
       "      <td>MSTRG.18230</td>\n",
       "      <td></td>\n",
       "      <td>six6*</td>\n",
       "      <td>van Wolfswinkel et al. (2014)</td>\n",
       "    </tr>\n",
       "    <tr>\n",
       "      <th>85</th>\n",
       "      <td>SMEST036375001.1</td>\n",
       "      <td>SMESG000036375.1</td>\n",
       "      <td>MSTRG.11390</td>\n",
       "      <td></td>\n",
       "      <td>smedwi-1</td>\n",
       "      <td>van Wolfswinkel et al. (2014)</td>\n",
       "    </tr>\n",
       "    <tr>\n",
       "      <th>86</th>\n",
       "      <td>SMEST069981002.1</td>\n",
       "      <td>SMESG000069981.1</td>\n",
       "      <td>MSTRG.20670</td>\n",
       "      <td></td>\n",
       "      <td>smedwi-2</td>\n",
       "      <td>van Wolfswinkel et al. (2014)</td>\n",
       "    </tr>\n",
       "    <tr>\n",
       "      <th>87</th>\n",
       "      <td>SMEST081970001.1</td>\n",
       "      <td>SMESG000081970.1</td>\n",
       "      <td>MSTRG.22903</td>\n",
       "      <td></td>\n",
       "      <td>smedwi-3</td>\n",
       "      <td>van Wolfswinkel et al. (2014)</td>\n",
       "    </tr>\n",
       "    <tr>\n",
       "      <th>88</th>\n",
       "      <td>SMEST023227001.1</td>\n",
       "      <td>SMESG000023227.1</td>\n",
       "      <td>MSTRG.7606</td>\n",
       "      <td></td>\n",
       "      <td>sp5*</td>\n",
       "      <td>van Wolfswinkel et al. (2014)</td>\n",
       "    </tr>\n",
       "  </tbody>\n",
       "</table>\n",
       "</div>"
      ],
      "text/plain": [
       "       Transcript.ID           Rink.ID     Neiro.ID Original.ID Original.name  \\\n",
       "80     MSTRG.15683.1  SMESG000058834.1  MSTRG.15683                   pou6*-2   \n",
       "81  SMEST017202001.1  SMESG000017202.1   MSTRG.5418                     rfx3*   \n",
       "82  SMEST021065001.1  SMESG000021065.1   MSTRG.6725                     rfx7*   \n",
       "83  SMEST009304001.1  SMESG000009304.1   MSTRG.2777                      ror*   \n",
       "84  SMEST060967001.1  SMESG000060967.1  MSTRG.18230                     six6*   \n",
       "85  SMEST036375001.1  SMESG000036375.1  MSTRG.11390                  smedwi-1   \n",
       "86  SMEST069981002.1  SMESG000069981.1  MSTRG.20670                  smedwi-2   \n",
       "87  SMEST081970001.1  SMESG000081970.1  MSTRG.22903                  smedwi-3   \n",
       "88  SMEST023227001.1  SMESG000023227.1   MSTRG.7606                      sp5*   \n",
       "\n",
       "                           Source  \n",
       "80  van Wolfswinkel et al. (2014)  \n",
       "81  van Wolfswinkel et al. (2014)  \n",
       "82  van Wolfswinkel et al. (2014)  \n",
       "83  van Wolfswinkel et al. (2014)  \n",
       "84  van Wolfswinkel et al. (2014)  \n",
       "85  van Wolfswinkel et al. (2014)  \n",
       "86  van Wolfswinkel et al. (2014)  \n",
       "87  van Wolfswinkel et al. (2014)  \n",
       "88  van Wolfswinkel et al. (2014)  "
      ]
     },
     "execution_count": 12,
     "metadata": {},
     "output_type": "execute_result"
    }
   ],
   "source": [
    "TF_table_Wolfswinkel2014.iloc[80:100, :]"
   ]
  },
  {
   "cell_type": "markdown",
   "id": "40b21290",
   "metadata": {},
   "source": [
    "## 6.7 COE Loss-of-Function Analysis Reveals a Genetic Program Underlying Maintenance and Regeneration of the Nervous System in Planarians\n",
    "Cowles, M.W., Omuro, K.C., Stanley, B.N., Quintanilla, C.G. and Zayas, R.M., 2014. COE loss-of-function analysis reveals a genetic program underlying maintenance and regeneration of the nervous system in planarians. PLoS Genet, 10(10), p.e1004746."
   ]
  },
  {
   "cell_type": "code",
   "execution_count": 1,
   "id": "2da0b541",
   "metadata": {},
   "outputs": [
    {
     "name": "stdout",
     "output_type": "stream",
     "text": [
      ">KF487109.1 Schmidtea mediterranea coe protein (coe) mRNA, partial cds\n",
      ">DN306897.1 PL05012B1C02 cDNA from sexually mature hermaphodites Schmidtea mediterranea cDNA 3', mRNA sequence\n",
      ">HO006644.1 PL08007B1G02 cDNA from juvenile hermaphodites Schmidtea mediterranea cDNA 3', mRNA sequence\n",
      ">KJ187188.1 Schmidtea mediterranea pou4l-1 (pou4l-1) mRNA, partial cds\n",
      ">KJ187190.1 Schmidtea mediterranea tlx (tlx) mRNA, partial cds\n"
     ]
    }
   ],
   "source": [
    "%%bash\n",
    "cd /hydra/TF_data/\n",
    "grep \">\" Cowles2014.fa"
   ]
  },
  {
   "cell_type": "markdown",
   "id": "c122594f",
   "metadata": {},
   "source": [
    "* litaf, nkx2l-1"
   ]
  },
  {
   "cell_type": "code",
   "execution_count": 3,
   "id": "502fe1e4",
   "metadata": {},
   "outputs": [],
   "source": [
    "import pandas as pd\n",
    "Cowles2014 = pd.DataFrame({\"ID\": [\"KF487109.1\", \"DN306897.1\", \"HO006644.1\", \"KJ187188.1\", \"KJ187190.1\"], \"Name\": [\"coe\", \"litaf\", \"nkx2l-1\", \"pou4l-1\", \"tlx\"]}) "
   ]
  },
  {
   "cell_type": "code",
   "execution_count": 2,
   "id": "86cf501c",
   "metadata": {},
   "outputs": [],
   "source": [
    "%%bash\n",
    "cd /hydra/TF_data/\n",
    "blastn -db /hydra/FACS/stringtie_transcripts.fa -query Cowles2014.fa -out blast_Cowles2014 -outfmt 6"
   ]
  },
  {
   "cell_type": "code",
   "execution_count": 4,
   "id": "60c84c6f",
   "metadata": {},
   "outputs": [],
   "source": [
    "import pandas as pd\n",
    "blast_Cowles2014 = pd.read_csv(\"/hydra/TF_data/blast_Cowles2014\", sep=\"\\t\", header=None)\n",
    "blast_Cowles2014.columns = [\"Seqid\", \"qid\", \"Per\", \"Len\", \"Mis\", \"Gap\", \"Startq\", \"Endq\", \"Starts\", \"Ends\", \"E\", \"Bit\"]\n",
    "blast_Cowles2014 = blast_Cowles2014.loc[blast_Cowles2014.groupby(\"Seqid\")[\"Bit\"].idxmax()]"
   ]
  },
  {
   "cell_type": "code",
   "execution_count": 8,
   "id": "fa1f855c",
   "metadata": {},
   "outputs": [],
   "source": [
    "TF_table_Cowles2014 = tf_table(blast_Cowles2014, \"Cowles et al. (2014)\", Cowles2014)"
   ]
  },
  {
   "cell_type": "code",
   "execution_count": 9,
   "id": "0dd5b3a3",
   "metadata": {},
   "outputs": [],
   "source": [
    "TF_table_Cowles2014.to_csv(\"/hydra/TF_data/TF_Cowles2014.csv\", index=False)"
   ]
  },
  {
   "cell_type": "code",
   "execution_count": 10,
   "id": "58fff870",
   "metadata": {},
   "outputs": [
    {
     "data": {
      "text/html": [
       "<div>\n",
       "<style scoped>\n",
       "    .dataframe tbody tr th:only-of-type {\n",
       "        vertical-align: middle;\n",
       "    }\n",
       "\n",
       "    .dataframe tbody tr th {\n",
       "        vertical-align: top;\n",
       "    }\n",
       "\n",
       "    .dataframe thead th {\n",
       "        text-align: right;\n",
       "    }\n",
       "</style>\n",
       "<table border=\"1\" class=\"dataframe\">\n",
       "  <thead>\n",
       "    <tr style=\"text-align: right;\">\n",
       "      <th></th>\n",
       "      <th>Transcript.ID</th>\n",
       "      <th>Rink.ID</th>\n",
       "      <th>Neiro.ID</th>\n",
       "      <th>Original.ID</th>\n",
       "      <th>Original.name</th>\n",
       "      <th>Source</th>\n",
       "    </tr>\n",
       "  </thead>\n",
       "  <tbody>\n",
       "    <tr>\n",
       "      <th>0</th>\n",
       "      <td>SMEST020865001.1</td>\n",
       "      <td>SMESG000020865.1</td>\n",
       "      <td>MSTRG.6652</td>\n",
       "      <td>DN306897</td>\n",
       "      <td>litaf</td>\n",
       "      <td>Cowles et al. (2014)</td>\n",
       "    </tr>\n",
       "    <tr>\n",
       "      <th>1</th>\n",
       "      <td>SMEST018735002.1</td>\n",
       "      <td>SMESG000018735.1</td>\n",
       "      <td>MSTRG.6003</td>\n",
       "      <td>HO006644</td>\n",
       "      <td>nkx2l-1</td>\n",
       "      <td>Cowles et al. (2014)</td>\n",
       "    </tr>\n",
       "    <tr>\n",
       "      <th>2</th>\n",
       "      <td>SMEST069088001.1</td>\n",
       "      <td>SMESG000069088.1</td>\n",
       "      <td>MSTRG.19091</td>\n",
       "      <td>KF487109</td>\n",
       "      <td>coe</td>\n",
       "      <td>Cowles et al. (2014)</td>\n",
       "    </tr>\n",
       "    <tr>\n",
       "      <th>3</th>\n",
       "      <td>SMEST013430001.1</td>\n",
       "      <td>SMESG000013430.1</td>\n",
       "      <td>MSTRG.4837</td>\n",
       "      <td>KJ187188</td>\n",
       "      <td>pou4l-1</td>\n",
       "      <td>Cowles et al. (2014)</td>\n",
       "    </tr>\n",
       "    <tr>\n",
       "      <th>4</th>\n",
       "      <td>SMEST017206001.1</td>\n",
       "      <td>SMESG000017206.1</td>\n",
       "      <td>MSTRG.5414</td>\n",
       "      <td>KJ187190</td>\n",
       "      <td>tlx</td>\n",
       "      <td>Cowles et al. (2014)</td>\n",
       "    </tr>\n",
       "  </tbody>\n",
       "</table>\n",
       "</div>"
      ],
      "text/plain": [
       "      Transcript.ID           Rink.ID     Neiro.ID Original.ID Original.name  \\\n",
       "0  SMEST020865001.1  SMESG000020865.1   MSTRG.6652    DN306897         litaf   \n",
       "1  SMEST018735002.1  SMESG000018735.1   MSTRG.6003    HO006644       nkx2l-1   \n",
       "2  SMEST069088001.1  SMESG000069088.1  MSTRG.19091    KF487109           coe   \n",
       "3  SMEST013430001.1  SMESG000013430.1   MSTRG.4837    KJ187188       pou4l-1   \n",
       "4  SMEST017206001.1  SMESG000017206.1   MSTRG.5414    KJ187190           tlx   \n",
       "\n",
       "                 Source  \n",
       "0  Cowles et al. (2014)  \n",
       "1  Cowles et al. (2014)  \n",
       "2  Cowles et al. (2014)  \n",
       "3  Cowles et al. (2014)  \n",
       "4  Cowles et al. (2014)  "
      ]
     },
     "execution_count": 10,
     "metadata": {},
     "output_type": "execute_result"
    }
   ],
   "source": [
    "pd.read_csv(\"/hydra/TF_data/TF_Cowles2014.csv\")"
   ]
  },
  {
   "cell_type": "markdown",
   "id": "543f496e",
   "metadata": {},
   "source": [
    "## 6.8 egr-4, a target of EGFR signaling, is required for the formation of the brain primordia and head regeneration in planarians\n",
    "Fraguas, S., Barberán, S., Iglesias, M., Rodríguez-Esteban, G. and Cebrià, F., 2014. egr-4, a target of EGFR signaling, is required for the formation of the brain primordia and head regeneration in planarians. Development, 141(9), pp.1835-1847."
   ]
  },
  {
   "cell_type": "markdown",
   "id": "7fbe680a",
   "metadata": {},
   "source": [
    "Sequence analyses revealed that this gene corresponded to the previously annotated egr-4 (Wenemoser et al., 2012) and phylogenetic analyses confirmed that egr-4 belongs to this gene family (supplementary material Fig. S4)."
   ]
  }
 ],
 "metadata": {
  "kernelspec": {
   "display_name": "Python 3",
   "language": "python",
   "name": "python3"
  },
  "language_info": {
   "codemirror_mode": {
    "name": "ipython",
    "version": 3
   },
   "file_extension": ".py",
   "mimetype": "text/x-python",
   "name": "python",
   "nbconvert_exporter": "python",
   "pygments_lexer": "ipython3",
   "version": "3.9.4"
  }
 },
 "nbformat": 4,
 "nbformat_minor": 5
}
