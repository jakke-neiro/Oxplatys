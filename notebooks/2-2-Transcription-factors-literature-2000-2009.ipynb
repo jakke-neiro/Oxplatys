{
 "cells": [
  {
   "cell_type": "markdown",
   "id": "a3eebdc7",
   "metadata": {},
   "source": [
    "# 2-2-Transcription-factors-literature-2000-2009\n",
    "Jakke Neiro$^1$\n",
    "1. Aboobaker laboratory, Department of Zoology, University of Oxford"
   ]
  },
  {
   "cell_type": "markdown",
   "id": "50458607",
   "metadata": {},
   "source": [
    "## Contents of notebook\n",
    "* 1. Introduction\n",
    "* 2. 2005\n",
    "    * 2.1 Identification of genes needed for regeneration, stem cell function, and tissue homeostasis by systematic gene perturbation in planaria\n",
    "* 3. 2006\n",
    "* 4. 2007\n",
    "* 5. 2008\n",
    "    * 5.1 Expression of a retinal homeobox (Rx) gene during planarian regeneration\n",
    "    * 5.2 Molecular analysis of stem cells and their descendents during cell turnover and regeneration in the planarian Schmidtea mediterranea\n",
    "* 6. 2009\n",
    "    * 6.1 Planarian Hh signaling regulates regeneration polarity and links Hh pathway evolution to cilia"
   ]
  },
  {
   "cell_type": "markdown",
   "id": "e72d3010",
   "metadata": {},
   "source": [
    "## Files\n",
    "* Input: fasta files\n",
    "* Output: ID correspondence csv files"
   ]
  },
  {
   "cell_type": "markdown",
   "id": "ffc39681",
   "metadata": {},
   "source": [
    "# 1. Introduction"
   ]
  },
  {
   "cell_type": "markdown",
   "id": "07719a85",
   "metadata": {},
   "source": [
    "The planarian literature on transcription factors between 2000 and 2009 was reviewed and the correspondence between TFs described in the literature and TFs decribed in this study was established. "
   ]
  },
  {
   "cell_type": "code",
   "execution_count": 9,
   "id": "780554e2",
   "metadata": {},
   "outputs": [],
   "source": [
    "import pandas as pd\n",
    "gffcmp = pd.read_csv(\"/hydra/sexual_genome_annotation_files/ncrna_Neiro/gffcmp.stringtie_merged.gtf.tmap\", sep=\"\\t\")\n",
    "gene2transcript = gffcmp.iloc[:,[0,3,4]]"
   ]
  },
  {
   "cell_type": "code",
   "execution_count": 6,
   "id": "3bbc26ee",
   "metadata": {},
   "outputs": [],
   "source": [
    "def tf_table(blast_table, reference_name, dataframe):\n",
    "    transcript_id = []\n",
    "    gene_id_rink = []\n",
    "    gene_id_neiro = []\n",
    "    original_id = []\n",
    "    original_name = []\n",
    "    for i in range(len(blast_table)):\n",
    "        t_id = blast_table.iloc[i,1]\n",
    "        o_id = blast_table.iloc[i,0]\n",
    "        transcript_id.append(t_id)\n",
    "        gene_id_rink.append(gene2transcript[gene2transcript[\"qry_id\"] == t_id].iloc[0,0])\n",
    "        gene_id_neiro.append(gene2transcript[gene2transcript[\"qry_id\"] == t_id].iloc[0,1])\n",
    "        original_id.append(o_id.rpartition(\".\")[0])\n",
    "        original_name.append(dataframe[dataframe[\"ID\"] == o_id].iloc[0,1])\n",
    "    source = [reference_name] * len(original_name)\n",
    "    TF_table = pd.DataFrame({\"Transcript.ID\": transcript_id, \"Rink.ID\": gene_id_rink, \"Neiro.ID\": gene_id_neiro, \"Original.ID\": original_id, \"Original.name\": original_name, \"Source\": source})\n",
    "    return TF_table"
   ]
  },
  {
   "cell_type": "code",
   "execution_count": null,
   "id": "9b249a4a",
   "metadata": {},
   "outputs": [],
   "source": [
    "%%bash\n",
    "cd /hydra/TF_data/\n",
    "makeblastdb -in ~/FACS/stringtie_transcripts.fa -parse_seqids -blastdb_version 5 -dbtype nucl"
   ]
  },
  {
   "cell_type": "markdown",
   "id": "59efd2ae",
   "metadata": {},
   "source": [
    "# 2. 2005"
   ]
  },
  {
   "cell_type": "markdown",
   "id": "9187c058",
   "metadata": {},
   "source": [
    "## 2.1 Identification of genes needed for regeneration, stem cell function, and tissue homeostasis by systematic gene perturbation in planaria\n",
    "Reddien, P.W., Bermange, A.L., Murfitt, K.J., Jennings, J.R. and Alvarado, A.S., 2005. Identification of genes needed for regeneration, stem cell function, and tissue homeostasis by systematic gene perturbation in planaria. Developmental cell, 8(5), pp.635-649."
   ]
  },
  {
   "cell_type": "markdown",
   "id": "0a531c7d",
   "metadata": {},
   "source": [
    "### RNAi reduces regeneration, BLST(2–2.5), and perturbs behavior (n=11)\n",
    "* NBE.5.04A\tPOU domain gene 50\n",
    "\n",
    "### RNAi allows regeneration but perturbs photoreceptor formation (n=26)\n",
    "* HE.2.05E\tmyocyte enhancing factor 2\n",
    "\n",
    "### RNAi allows regeneration but causes abnormal behavior (n=25)\n",
    "* NBE.6.12B\tTranscription factor BTF3\n",
    "* NBE.7.10A Zinc Finger Iguana/Dzip1 \n",
    "\n",
    "### RNAi allows regeneration but causes other defects (n=27)\n",
    "* NBE.3.07F\thunchback TXN factor"
   ]
  },
  {
   "cell_type": "code",
   "execution_count": 22,
   "id": "a53f8b44",
   "metadata": {},
   "outputs": [
    {
     "name": "stdout",
     "output_type": "stream",
     "text": [
      ">AY967629.1 Schmidtea mediterranea clone NBE.5.04A mRNA sequence\n",
      ">AY967495.1 Schmidtea mediterranea clone HE.2.05E mRNA sequence\n",
      ">AY967662.1 Schmidtea mediterranea clone NBE.6.12B mRNA sequence\n",
      ">AY967686.1 Schmidtea mediterranea clone NBE.7.10A mRNA sequence\n",
      ">AY967596.1 Schmidtea mediterranea clone NBE.3.07F mRNA sequence\n"
     ]
    }
   ],
   "source": [
    "%%bash\n",
    "cd /hydra/TF_data\n",
    "grep \">\" Reddien2005.fa"
   ]
  },
  {
   "cell_type": "code",
   "execution_count": 23,
   "id": "cd7c6094",
   "metadata": {},
   "outputs": [],
   "source": [
    "import pandas as pd\n",
    "Reddien2005 = pd.DataFrame({\"ID\": [\"AY967629.1\", \"AY967495.1\", \"AY967662.1\", \"AY967686.1\", \"AY967596.1\"], \"Name\": [\"POU50\", \"Mef2\", \"Btf3\", \"Iguana\", \"Hb\"]})"
   ]
  },
  {
   "cell_type": "code",
   "execution_count": 24,
   "id": "c052cb14",
   "metadata": {},
   "outputs": [],
   "source": [
    "%%bash\n",
    "cd /hydra/TF_data/\n",
    "blastn -db /hydra/FACS/stringtie_transcripts.fa -query Reddien2005.fa -out blast_Reddien2005 -outfmt 6"
   ]
  },
  {
   "cell_type": "code",
   "execution_count": 25,
   "id": "c7973bb2",
   "metadata": {},
   "outputs": [],
   "source": [
    "import pandas as pd\n",
    "blast_Reddien2005 = pd.read_csv(\"/hydra/TF_data/blast_Reddien2005\", sep=\"\\t\", header=None)\n",
    "blast_Reddien2005.columns = [\"Seqid\", \"qid\", \"Per\", \"Len\", \"Mis\", \"Gap\", \"Startq\", \"Endq\", \"Starts\", \"Ends\", \"E\", \"Bit\"]\n",
    "blast_Reddien2005 = blast_Reddien2005.loc[blast_Reddien2005.groupby(\"Seqid\")[\"Bit\"].idxmax()]"
   ]
  },
  {
   "cell_type": "code",
   "execution_count": 26,
   "id": "d454d27e",
   "metadata": {},
   "outputs": [],
   "source": [
    "TF_table_Reddien2005 = tf_table(blast_Reddien2005, \"Reddien et al. (2005)\", Reddien2005)"
   ]
  },
  {
   "cell_type": "code",
   "execution_count": 27,
   "id": "2d5ee077",
   "metadata": {},
   "outputs": [],
   "source": [
    "TF_table_Reddien2005.to_csv(\"/hydra/TF_data/TF_Reddien2005.csv\", index=False)"
   ]
  },
  {
   "cell_type": "code",
   "execution_count": 28,
   "id": "9947c86a",
   "metadata": {},
   "outputs": [
    {
     "data": {
      "text/html": [
       "<div>\n",
       "<style scoped>\n",
       "    .dataframe tbody tr th:only-of-type {\n",
       "        vertical-align: middle;\n",
       "    }\n",
       "\n",
       "    .dataframe tbody tr th {\n",
       "        vertical-align: top;\n",
       "    }\n",
       "\n",
       "    .dataframe thead th {\n",
       "        text-align: right;\n",
       "    }\n",
       "</style>\n",
       "<table border=\"1\" class=\"dataframe\">\n",
       "  <thead>\n",
       "    <tr style=\"text-align: right;\">\n",
       "      <th></th>\n",
       "      <th>Transcript.ID</th>\n",
       "      <th>Rink.ID</th>\n",
       "      <th>Neiro.ID</th>\n",
       "      <th>Original.ID</th>\n",
       "      <th>Original.name</th>\n",
       "      <th>Source</th>\n",
       "    </tr>\n",
       "  </thead>\n",
       "  <tbody>\n",
       "    <tr>\n",
       "      <th>0</th>\n",
       "      <td>MSTRG.12930.3</td>\n",
       "      <td>SMESG000040479.1</td>\n",
       "      <td>MSTRG.12930</td>\n",
       "      <td>AY967495</td>\n",
       "      <td>Mef2</td>\n",
       "      <td>Reddien et al. (2005)</td>\n",
       "    </tr>\n",
       "    <tr>\n",
       "      <th>1</th>\n",
       "      <td>SMEST017121002.1</td>\n",
       "      <td>SMESG000017121.1</td>\n",
       "      <td>MSTRG.5364</td>\n",
       "      <td>AY967596</td>\n",
       "      <td>Hb</td>\n",
       "      <td>Reddien et al. (2005)</td>\n",
       "    </tr>\n",
       "    <tr>\n",
       "      <th>2</th>\n",
       "      <td>SMEST076173001.1</td>\n",
       "      <td>SMESG000076173.1</td>\n",
       "      <td>MSTRG.22352</td>\n",
       "      <td>AY967629</td>\n",
       "      <td>POU50</td>\n",
       "      <td>Reddien et al. (2005)</td>\n",
       "    </tr>\n",
       "    <tr>\n",
       "      <th>3</th>\n",
       "      <td>SMEST059040001.1</td>\n",
       "      <td>SMESG000059040.1</td>\n",
       "      <td>MSTRG.15727</td>\n",
       "      <td>AY967686</td>\n",
       "      <td>Iguana</td>\n",
       "      <td>Reddien et al. (2005)</td>\n",
       "    </tr>\n",
       "  </tbody>\n",
       "</table>\n",
       "</div>"
      ],
      "text/plain": [
       "      Transcript.ID           Rink.ID     Neiro.ID Original.ID Original.name  \\\n",
       "0     MSTRG.12930.3  SMESG000040479.1  MSTRG.12930    AY967495          Mef2   \n",
       "1  SMEST017121002.1  SMESG000017121.1   MSTRG.5364    AY967596            Hb   \n",
       "2  SMEST076173001.1  SMESG000076173.1  MSTRG.22352    AY967629         POU50   \n",
       "3  SMEST059040001.1  SMESG000059040.1  MSTRG.15727    AY967686        Iguana   \n",
       "\n",
       "                  Source  \n",
       "0  Reddien et al. (2005)  \n",
       "1  Reddien et al. (2005)  \n",
       "2  Reddien et al. (2005)  \n",
       "3  Reddien et al. (2005)  "
      ]
     },
     "execution_count": 28,
     "metadata": {},
     "output_type": "execute_result"
    }
   ],
   "source": [
    "pd.read_csv(\"/hydra/TF_data/TF_Reddien2005.csv\")"
   ]
  },
  {
   "cell_type": "markdown",
   "id": "d2db45f0",
   "metadata": {},
   "source": [
    "# 3. 2006"
   ]
  },
  {
   "cell_type": "markdown",
   "id": "8da68b42",
   "metadata": {},
   "source": [
    "# 4. 2007"
   ]
  },
  {
   "cell_type": "markdown",
   "id": "a281fe31",
   "metadata": {},
   "source": [
    "# 5. 2008\n",
    "\n",
    "## 5.1 Expression of a retinal homeobox (Rx) gene during planarian regeneration\n",
    "\n",
    "Mannini, L., Deri, P., Picchi, J. and Batistoni, R., 2008. Expression of a retinal homeobox (Rx) gene during planarian regeneration. International Journal of Developmental Biology, 52(8), pp.1113-1117."
   ]
  },
  {
   "cell_type": "markdown",
   "id": "8a8eda5c",
   "metadata": {},
   "source": [
    "* AM942443"
   ]
  },
  {
   "cell_type": "code",
   "execution_count": 1,
   "id": "ccca8aca",
   "metadata": {},
   "outputs": [
    {
     "name": "stdout",
     "output_type": "stream",
     "text": [
      ">AM942443.1 Schmidtea mediterranea mRNA for retinal homeobox protein Rx (Rx gene), asexual strain\n"
     ]
    }
   ],
   "source": [
    "%%bash\n",
    "cd /hydra/TF_data\n",
    "grep \">\" Mannini2008.fa"
   ]
  },
  {
   "cell_type": "code",
   "execution_count": 2,
   "id": "eb7bddfd",
   "metadata": {},
   "outputs": [],
   "source": [
    "import pandas as pd\n",
    "Mannini2008 = pd.DataFrame({\"ID\": [\"AM942443.1\"], \"Name\": [\"Rx\"]})"
   ]
  },
  {
   "cell_type": "code",
   "execution_count": 3,
   "id": "5f6c0829",
   "metadata": {},
   "outputs": [],
   "source": [
    "%%bash\n",
    "cd /hydra/TF_data/\n",
    "blastn -db /hydra/FACS/stringtie_transcripts.fa -query Mannini2008.fa -out blast_Mannini2008 -outfmt 6"
   ]
  },
  {
   "cell_type": "code",
   "execution_count": 4,
   "id": "43fb584e",
   "metadata": {},
   "outputs": [],
   "source": [
    "import pandas as pd\n",
    "blast_Mannini2008 = pd.read_csv(\"/hydra/TF_data/blast_Mannini2008\", sep=\"\\t\", header=None)\n",
    "blast_Mannini2008.columns = [\"Seqid\", \"qid\", \"Per\", \"Len\", \"Mis\", \"Gap\", \"Startq\", \"Endq\", \"Starts\", \"Ends\", \"E\", \"Bit\"]\n",
    "blast_Mannini2008 = blast_Mannini2008.loc[blast_Mannini2008.groupby(\"Seqid\")[\"Bit\"].idxmax()]"
   ]
  },
  {
   "cell_type": "code",
   "execution_count": 10,
   "id": "b5720324",
   "metadata": {},
   "outputs": [],
   "source": [
    "TF_table_Mannini2008 = tf_table(blast_Mannini2008, \"Mannini et al. (2008)\", Mannini2008)"
   ]
  },
  {
   "cell_type": "code",
   "execution_count": 11,
   "id": "0cfa5229",
   "metadata": {},
   "outputs": [],
   "source": [
    "TF_table_Mannini2008.to_csv(\"/hydra/TF_data/TF_Mannini2008.csv\", index=False)"
   ]
  },
  {
   "cell_type": "code",
   "execution_count": 12,
   "id": "1040d136",
   "metadata": {},
   "outputs": [
    {
     "data": {
      "text/html": [
       "<div>\n",
       "<style scoped>\n",
       "    .dataframe tbody tr th:only-of-type {\n",
       "        vertical-align: middle;\n",
       "    }\n",
       "\n",
       "    .dataframe tbody tr th {\n",
       "        vertical-align: top;\n",
       "    }\n",
       "\n",
       "    .dataframe thead th {\n",
       "        text-align: right;\n",
       "    }\n",
       "</style>\n",
       "<table border=\"1\" class=\"dataframe\">\n",
       "  <thead>\n",
       "    <tr style=\"text-align: right;\">\n",
       "      <th></th>\n",
       "      <th>Transcript.ID</th>\n",
       "      <th>Rink.ID</th>\n",
       "      <th>Neiro.ID</th>\n",
       "      <th>Original.ID</th>\n",
       "      <th>Original.name</th>\n",
       "      <th>Source</th>\n",
       "    </tr>\n",
       "  </thead>\n",
       "  <tbody>\n",
       "    <tr>\n",
       "      <th>0</th>\n",
       "      <td>SMEST033843001.1</td>\n",
       "      <td>SMESG000033843.1</td>\n",
       "      <td>MSTRG.10612</td>\n",
       "      <td>AM942443</td>\n",
       "      <td>Rx</td>\n",
       "      <td>Mannini et al. (2008)</td>\n",
       "    </tr>\n",
       "  </tbody>\n",
       "</table>\n",
       "</div>"
      ],
      "text/plain": [
       "      Transcript.ID           Rink.ID     Neiro.ID Original.ID Original.name  \\\n",
       "0  SMEST033843001.1  SMESG000033843.1  MSTRG.10612    AM942443            Rx   \n",
       "\n",
       "                  Source  \n",
       "0  Mannini et al. (2008)  "
      ]
     },
     "execution_count": 12,
     "metadata": {},
     "output_type": "execute_result"
    }
   ],
   "source": [
    "pd.read_csv(\"/hydra/TF_data/TF_Mannini2008.csv\")"
   ]
  },
  {
   "cell_type": "markdown",
   "id": "756d1002",
   "metadata": {},
   "source": [
    "## 5.2 Molecular analysis of stem cells and their descendents during cell turnover and regeneration in the planarian Schmidtea mediterranea\n",
    "\n",
    "Eisenhoffer, G.T., Kang, H. and Alvarado, A.S., 2008. Molecular analysis of stem cells and their descendants during cell turnover and regeneration in the planarian Schmidtea mediterranea. Cell stem cell, 3(3), pp.327-339."
   ]
  },
  {
   "cell_type": "markdown",
   "id": "29821bdf",
   "metadata": {},
   "source": [
    "We find that genes with severely downregulated expression after irradiation molecularly define at least three discrete subpopulations of cells."
   ]
  },
  {
   "cell_type": "markdown",
   "id": "a214d7e7",
   "metadata": {},
   "source": [
    "# 6. 2009"
   ]
  },
  {
   "cell_type": "markdown",
   "id": "6dce74a4",
   "metadata": {},
   "source": [
    "## 6.1 Planarian Hh signaling regulates regeneration polarity and links Hh pathway evolution to cilia\n",
    "\n",
    "Rink, J.C., Gurley, K.A., Elliott, S.A. and Alvarado, A.S., 2009. Planarian Hh signaling regulates regeneration polarity and links Hh pathway evolution to cilia. science, 326(5958), pp.1406-1410."
   ]
  },
  {
   "cell_type": "markdown",
   "id": "05fcaf95",
   "metadata": {},
   "source": [
    "* We characterize Hh pathway in planarians\n",
    "* Systematic sequence homology searching of the S. mediterranea genome identified three homologs for Gli. Of the Gli homologs, only Smed-gli-1 exhibited an obvious role in Hh signaling. \n",
    "* gli-1 expression in cells surrounding the gut enterocytes and particularly strong ptc upregulation upon sufu(RNAi) in the same region may indicate a conserved function of Hh in the gastrovascular system. "
   ]
  },
  {
   "cell_type": "code",
   "execution_count": 1,
   "id": "98836247",
   "metadata": {},
   "outputs": [],
   "source": [
    "import pandas as pd\n",
    "Rink2009 = pd.DataFrame({\"ID\": [\"GQ337478.1\", \"GQ337479.1\", \"GQ337480.1\"], \"Name\": [\"gli-1\", \"gli-2\", \"gli-3\"]})"
   ]
  },
  {
   "cell_type": "code",
   "execution_count": 2,
   "id": "0fe5e6f2",
   "metadata": {},
   "outputs": [
    {
     "name": "stdout",
     "output_type": "stream",
     "text": [
      ">GQ337478.1 Schmidtea mediterranea GLI-1 (gli-1) mRNA, complete cds\n",
      ">GQ337479.1 Schmidtea mediterranea GLI-2 (gli-2) mRNA, complete cds\n",
      ">GQ337480.1 Schmidtea mediterranea GLI-3 (gli-3) mRNA, complete cds\n"
     ]
    }
   ],
   "source": [
    "%%bash\n",
    "cd /hydra/TF_data\n",
    "grep \">\" Rink2009.fa"
   ]
  },
  {
   "cell_type": "code",
   "execution_count": null,
   "id": "91936ce2",
   "metadata": {},
   "outputs": [],
   "source": [
    "%%bash\n",
    "cd /hydra/TF_data/\n",
    "blastn -db ~/FACS/stringtie_transcripts.fa -query Rink2009.fa -out blast_Rink2009 -outfmt 6"
   ]
  },
  {
   "cell_type": "code",
   "execution_count": 3,
   "id": "e0545a79",
   "metadata": {},
   "outputs": [],
   "source": [
    "import pandas as pd\n",
    "blast_Rink2009 = pd.read_csv(\"/hydra/TF_data/blast_Rink2009\", sep=\"\\t\", header=None)\n",
    "blast_Rink2009.columns = [\"Seqid\", \"qid\", \"Per\", \"Len\", \"Mis\", \"Gap\", \"Startq\", \"Endq\", \"Starts\", \"Ends\", \"E\", \"Bit\"]\n",
    "blast_Rink2009 = blast_Rink2009.loc[blast_Rink2009.groupby(\"Seqid\")[\"Bit\"].idxmax()]"
   ]
  },
  {
   "cell_type": "code",
   "execution_count": 6,
   "id": "016d4d6f",
   "metadata": {},
   "outputs": [],
   "source": [
    "transcript_id = []\n",
    "gene_id_rink = []\n",
    "gene_id_neiro = []\n",
    "original_id = []\n",
    "original_name = []\n",
    "for i in range(len(blast_Rink2009)):\n",
    "    t_id = blast_Rink2009.iloc[i,1]\n",
    "    o_id = blast_Rink2009.iloc[i,0]\n",
    "    transcript_id.append(t_id)\n",
    "    gene_id_rink.append(gene2transcript[gene2transcript[\"qry_id\"] == t_id].iloc[0,0])\n",
    "    gene_id_neiro.append(gene2transcript[gene2transcript[\"qry_id\"] == t_id].iloc[0,1])\n",
    "    original_id.append(o_id.rpartition(\".\")[0])\n",
    "    original_name.append(Rink2009[Rink2009[\"ID\"] == o_id].iloc[0,1])\n",
    "source = [\"Rink et al. (2009)\"] * len(original_name)"
   ]
  },
  {
   "cell_type": "code",
   "execution_count": 7,
   "id": "b16b2d5a",
   "metadata": {},
   "outputs": [],
   "source": [
    "TF_table_Rink2009 = pd.DataFrame({\"Transcript.ID\": transcript_id, \"Rink.ID\": gene_id_rink, \"Neiro.ID\": gene_id_neiro, \"Original.ID\": original_id, \"Original.name\": original_name, \"Source\": source})"
   ]
  },
  {
   "cell_type": "code",
   "execution_count": null,
   "id": "22f28274",
   "metadata": {},
   "outputs": [],
   "source": [
    "TF_table_Rink2009.to_csv(\"/hydra/TF_data/TF_Rink2009.csv\", index=False)"
   ]
  },
  {
   "cell_type": "code",
   "execution_count": 8,
   "id": "ee16225b",
   "metadata": {},
   "outputs": [
    {
     "data": {
      "text/html": [
       "<div>\n",
       "<style scoped>\n",
       "    .dataframe tbody tr th:only-of-type {\n",
       "        vertical-align: middle;\n",
       "    }\n",
       "\n",
       "    .dataframe tbody tr th {\n",
       "        vertical-align: top;\n",
       "    }\n",
       "\n",
       "    .dataframe thead th {\n",
       "        text-align: right;\n",
       "    }\n",
       "</style>\n",
       "<table border=\"1\" class=\"dataframe\">\n",
       "  <thead>\n",
       "    <tr style=\"text-align: right;\">\n",
       "      <th></th>\n",
       "      <th>Transcript.ID</th>\n",
       "      <th>Rink.ID</th>\n",
       "      <th>Neiro.ID</th>\n",
       "      <th>Original.ID</th>\n",
       "      <th>Original.name</th>\n",
       "      <th>Source</th>\n",
       "    </tr>\n",
       "  </thead>\n",
       "  <tbody>\n",
       "    <tr>\n",
       "      <th>0</th>\n",
       "      <td>MSTRG.20466.1</td>\n",
       "      <td>SMESG000073727.1</td>\n",
       "      <td>MSTRG.20466</td>\n",
       "      <td>GQ337478</td>\n",
       "      <td>gli-1</td>\n",
       "      <td>Rink et al. (2009)</td>\n",
       "    </tr>\n",
       "    <tr>\n",
       "      <th>1</th>\n",
       "      <td>SMEST060276001.1</td>\n",
       "      <td>SMESG000060276.1</td>\n",
       "      <td>MSTRG.17923</td>\n",
       "      <td>GQ337479</td>\n",
       "      <td>gli-2</td>\n",
       "      <td>Rink et al. (2009)</td>\n",
       "    </tr>\n",
       "    <tr>\n",
       "      <th>2</th>\n",
       "      <td>MSTRG.22990.2</td>\n",
       "      <td>SMESG000078300.1</td>\n",
       "      <td>MSTRG.22990</td>\n",
       "      <td>GQ337480</td>\n",
       "      <td>gli-3</td>\n",
       "      <td>Rink et al. (2009)</td>\n",
       "    </tr>\n",
       "  </tbody>\n",
       "</table>\n",
       "</div>"
      ],
      "text/plain": [
       "      Transcript.ID           Rink.ID     Neiro.ID Original.ID Original.name  \\\n",
       "0     MSTRG.20466.1  SMESG000073727.1  MSTRG.20466    GQ337478         gli-1   \n",
       "1  SMEST060276001.1  SMESG000060276.1  MSTRG.17923    GQ337479         gli-2   \n",
       "2     MSTRG.22990.2  SMESG000078300.1  MSTRG.22990    GQ337480         gli-3   \n",
       "\n",
       "               Source  \n",
       "0  Rink et al. (2009)  \n",
       "1  Rink et al. (2009)  \n",
       "2  Rink et al. (2009)  "
      ]
     },
     "execution_count": 8,
     "metadata": {},
     "output_type": "execute_result"
    }
   ],
   "source": [
    "pd.read_csv(\"/hydra/TF_data/TF_Rink2009.csv\")"
   ]
  },
  {
   "cell_type": "markdown",
   "id": "7765ba70",
   "metadata": {},
   "source": [
    "# FINNISHED"
   ]
  }
 ],
 "metadata": {
  "kernelspec": {
   "display_name": "Python 3",
   "language": "python",
   "name": "python3"
  },
  "language_info": {
   "codemirror_mode": {
    "name": "ipython",
    "version": 3
   },
   "file_extension": ".py",
   "mimetype": "text/x-python",
   "name": "python",
   "nbconvert_exporter": "python",
   "pygments_lexer": "ipython3",
   "version": "3.9.4"
  }
 },
 "nbformat": 4,
 "nbformat_minor": 5
}
