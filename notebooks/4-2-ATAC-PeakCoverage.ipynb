{
 "cells": [
  {
   "cell_type": "markdown",
   "metadata": {},
   "source": [
    "# 4-2-ATAC-PeakCoverage\n",
    "Jakke Neiro$^1$\n",
    "1. Aboobaker laboratory, Department of Zoology, University of Oxford"
   ]
  },
  {
   "cell_type": "markdown",
   "metadata": {},
   "source": [
    "## Contents of notebook\n",
    "* 1. Introduction\n",
    "* 2. Coverage \n",
    "    * 3.1 X1\n",
    "    * 3.2 X2\n",
    "    * 3.3 Xins\n",
    "    * 3.4 Blastemal ATAC-seq\n",
    "* 3. Peak calling\n",
    "    * 3.1 X1\n",
    "        * 3.1.1 MACS2\n",
    "        * 3.1.2 Genrich\n",
    "    * 3.2 X2\n",
    "        * 3.2.1 MACS2\n",
    "        * 3.2.2 Genrich\n",
    "    * 3.3 Xins\n",
    "        * 3.3.1 MACS2\n",
    "        * 3.3.2 Genrich\n",
    "    * 3.4 Blastemal ATAC-seq\n",
    "        * 3.4.1 MACS2\n",
    "        * 3.4.2 Genrich"
   ]
  },
  {
   "cell_type": "markdown",
   "metadata": {},
   "source": [
    "## Files\n",
    "* Input: x1lysis.marked.bam, x1wcs.marked.bam, x2lysis.marked.bam, x2wcs.marked.bam, xinsATAC.marked.bam, xins2.marked.bam, SRR8441376.marked.bam, SRR8441377.marked.bam, SRR8441378.marked.bam, SRR8441379.marked.bam\n",
    "* Output: x1coverage_mean_april2021.bw, x2coverage_mean_april2021.bw, xinscoverage_mean_april2021.bw, mansi6h_april2021.bw, mansi0h_april2021.bw, x1atacapril21_summits.bed, x2atacapril21_summits.bed, xinsatacapril21_summits.bed, x1Genrich_april2021.narrowPeak, x2Genrich_april2021.narrowPeak, xinsGenrich_april2021.narrowPeak, 6hapril2021_summits.bed, 0hapril2021_summits.bed, 6hGenrich_april2021.narrowPeak, 0hGenrich_april2021.narrowPeak"
   ]
  },
  {
   "cell_type": "markdown",
   "metadata": {},
   "source": [
    "# 1. Introduction"
   ]
  },
  {
   "cell_type": "markdown",
   "metadata": {},
   "source": [
    "Coverage files were generated for ATAC-seq data and peaks were called."
   ]
  },
  {
   "cell_type": "markdown",
   "metadata": {},
   "source": [
    "# 2. Coverage"
   ]
  },
  {
   "cell_type": "markdown",
   "metadata": {},
   "source": [
    "Coverage files were generated for X1, X2, Xins and blastemal ATAC-seq samples."
   ]
  },
  {
   "cell_type": "markdown",
   "metadata": {},
   "source": [
    "## 2.1 X1"
   ]
  },
  {
   "cell_type": "markdown",
   "metadata": {},
   "source": [
    "The coverage for X1 samples was generated: "
   ]
  },
  {
   "cell_type": "code",
   "execution_count": 2,
   "metadata": {},
   "outputs": [
    {
     "name": "stdout",
     "output_type": "stream",
     "text": [
      "#!/bin/bash\n",
      "bamCoverage -b x1lysis.marked.bam -o x1lysiscoverage_april2021.bw -of bigwig --normalizeUsing RPKM\n",
      "bamCoverage -b x1wcs.marked.bam -o x1wcscoverage_april2021.bw -of bigwig --normalizeUsing RPKM\n",
      "bigwigCompare -b1 x1lysiscoverage_april2021.bw -b2 x1wcscoverage_april2021.bw -o x1coverage_mean_april2021.bw -of bigwig --operation mean\n"
     ]
    }
   ],
   "source": [
    "%%bash\n",
    "cd /hydra/atac_sexual_final/x1/\n",
    "echo \"#!/bin/bash\" > bamCoverage_mean_April2021.sh\n",
    "echo \"bamCoverage -b x1lysis.marked.bam -o x1lysiscoverage_april2021.bw -of bigwig --normalizeUsing RPKM\" >> bamCoverage_mean_April2021.sh\n",
    "echo \"bamCoverage -b x1wcs.marked.bam -o x1wcscoverage_april2021.bw -of bigwig --normalizeUsing RPKM\" >> bamCoverage_mean_April2021.sh\n",
    "echo \"bigwigCompare -b1 x1lysiscoverage_april2021.bw -b2 x1wcscoverage_april2021.bw -o x1coverage_mean_april2021.bw -of bigwig --operation mean\" >> bamCoverage_mean_April2021.sh\n",
    "chmod +x bamCoverage_mean_April2021.sh\n",
    "less bamCoverage_mean_April2021.sh"
   ]
  },
  {
   "cell_type": "code",
   "execution_count": 3,
   "metadata": {},
   "outputs": [
    {
     "name": "stdout",
     "output_type": "stream",
     "text": [
      "x1lysis.marked.bam\n",
      "x1merged.marked.bam\n",
      "x1wcs.marked.bam\n"
     ]
    }
   ],
   "source": [
    "%%bash\n",
    "cd /drives/raid/AboobakerLab/jakke/atac_sexual_final/x1/\n",
    "ls *.marked.bam"
   ]
  },
  {
   "cell_type": "code",
   "execution_count": null,
   "metadata": {},
   "outputs": [],
   "source": [
    "#%%bash\n",
    "#cd /hydra/atac_sexual/x1/\n",
    "#nohup ./bamCoverage_mean_April2021.sh > nohup_cov.out 2>&1  </dev/null &"
   ]
  },
  {
   "cell_type": "code",
   "execution_count": 1,
   "metadata": {},
   "outputs": [
    {
     "name": "stdout",
     "output_type": "stream",
     "text": [
      "x1coverage_mean_april2021.bw\n"
     ]
    }
   ],
   "source": [
    "%%bash\n",
    "cd /hydra/atac_sexual_final/x1/\n",
    "ls x1coverage_mean_april2021.bw"
   ]
  },
  {
   "cell_type": "markdown",
   "metadata": {},
   "source": [
    "## 2.2 X2"
   ]
  },
  {
   "cell_type": "markdown",
   "metadata": {},
   "source": [
    "The coverage for X2 samples was generated:"
   ]
  },
  {
   "cell_type": "code",
   "execution_count": 1,
   "metadata": {},
   "outputs": [
    {
     "name": "stdout",
     "output_type": "stream",
     "text": [
      "#!/bin/bash\n",
      "bamCoverage -b x2lysis.marked.bam -o x2lysiscoverage_april2021.bw -of bigwig --normalizeUsing RPKM\n",
      "bamCoverage -b x2wcs.marked.bam -o x2wcscoverage_april2021.bw -of bigwig --normalizeUsing RPKM\n",
      "bigwigCompare -b1 x2lysiscoverage_april2021.bw -b2 x2wcscoverage_april2021.bw -o x2coverage_mean_april2021.bw -of bigwig --operation mean\n"
     ]
    }
   ],
   "source": [
    "%%bash\n",
    "cd /hydra/atac_sexual_final/x2/\n",
    "echo \"#!/bin/bash\" > bamCoverage_mean_April2021.sh\n",
    "echo \"bamCoverage -b x2lysis.marked.bam -o x2lysiscoverage_april2021.bw -of bigwig --normalizeUsing RPKM\" >> bamCoverage_mean_April2021.sh\n",
    "echo \"bamCoverage -b x2wcs.marked.bam -o x2wcscoverage_april2021.bw -of bigwig --normalizeUsing RPKM\" >> bamCoverage_mean_April2021.sh\n",
    "echo \"bigwigCompare -b1 x2lysiscoverage_april2021.bw -b2 x2wcscoverage_april2021.bw -o x2coverage_mean_april2021.bw -of bigwig --operation mean\" >> bamCoverage_mean_April2021.sh\n",
    "chmod +x bamCoverage_mean_April2021.sh\n",
    "less bamCoverage_mean_April2021.sh"
   ]
  },
  {
   "cell_type": "code",
   "execution_count": null,
   "metadata": {},
   "outputs": [],
   "source": [
    "#%%bash\n",
    "#cd /hydra/atac_sexual/x2/\n",
    "#nohup ./bamCoverage_mean_April2021.sh > nohup_cov.out 2>&1  </dev/null &"
   ]
  },
  {
   "cell_type": "code",
   "execution_count": 2,
   "metadata": {},
   "outputs": [
    {
     "name": "stdout",
     "output_type": "stream",
     "text": [
      "x2coverage_mean_april2021.bw\n"
     ]
    }
   ],
   "source": [
    "%%bash\n",
    "cd /hydra/atac_sexual_final/x2/\n",
    "ls x2coverage_mean_april2021.bw"
   ]
  },
  {
   "cell_type": "markdown",
   "metadata": {},
   "source": [
    "## 2.3 Xins"
   ]
  },
  {
   "cell_type": "markdown",
   "metadata": {},
   "source": [
    "The coverage for Xins samples was generated: "
   ]
  },
  {
   "cell_type": "code",
   "execution_count": 7,
   "metadata": {},
   "outputs": [
    {
     "name": "stdout",
     "output_type": "stream",
     "text": [
      "#!/bin/bash\n",
      "bamCoverage -b xins2.marked.bam -o xins2scoverage_april2021.bw -of bigwig --normalizeUsing RPKM\n",
      "bamCoverage -b xinsATAC.marked.bam -o xins1overage_april2021.bw -of bigwig --normalizeUsing RPKM\n",
      "bigwigCompare -b1 xins2scoverage_april2021.bw -b2 xins1overage_april2021.bw -o xinscoverage_mean_april2021.bw -of bigwig --operation mean\n"
     ]
    }
   ],
   "source": [
    "%%bash\n",
    "cd /hydra/atac_sexual_final/xins/\n",
    "echo \"#!/bin/bash\" > bamCoverage_mean_April2021.sh\n",
    "echo \"bamCoverage -b xins2.marked.bam -o xins2scoverage_april2021.bw -of bigwig --normalizeUsing RPKM\" >> bamCoverage_mean_April2021.sh\n",
    "echo \"bamCoverage -b xinsATAC.marked.bam -o xins1overage_april2021.bw -of bigwig --normalizeUsing RPKM\" >> bamCoverage_mean_April2021.sh\n",
    "echo \"bigwigCompare -b1 xins2scoverage_april2021.bw -b2 xins1overage_april2021.bw -o xinscoverage_mean_april2021.bw -of bigwig --operation mean\" >> bamCoverage_mean_April2021.sh\n",
    "chmod +x bamCoverage_mean_April2021.sh\n",
    "less bamCoverage_mean_April2021.sh"
   ]
  },
  {
   "cell_type": "code",
   "execution_count": null,
   "metadata": {},
   "outputs": [],
   "source": [
    "#%%bash\n",
    "#cd /hydra/atac_sexual_final/xins/\n",
    "#nohup ./bamCoverage_mean_April2021.sh > nohup_cov.out 2>&1  </dev/null &"
   ]
  },
  {
   "cell_type": "code",
   "execution_count": 9,
   "metadata": {},
   "outputs": [
    {
     "name": "stdout",
     "output_type": "stream",
     "text": [
      "xinscoverage_mean_april2021.bw\n"
     ]
    }
   ],
   "source": [
    "%%bash\n",
    "cd /hydra/atac_sexual_final/xins/\n",
    "ls xinscoverage_mean_april2021.bw"
   ]
  },
  {
   "cell_type": "markdown",
   "metadata": {},
   "source": [
    "## 2.4 Blastemal ATAC-seq"
   ]
  },
  {
   "cell_type": "markdown",
   "metadata": {},
   "source": [
    "The coverage for blastemal ATAC-seq samples was generated: "
   ]
  },
  {
   "cell_type": "code",
   "execution_count": 8,
   "metadata": {},
   "outputs": [
    {
     "name": "stdout",
     "output_type": "stream",
     "text": [
      "#!/bin/bash\n",
      "bamCoverage -b SRR8441376.marked.bam -o SRR8441376_april2021.bw -of bigwig --normalizeUsing RPKM\n",
      "bamCoverage -b SRR8441377.marked.bam -o SRR8441377_april2021.bw -of bigwig --normalizeUsing RPKM\n",
      "bamCoverage -b SRR8441378.marked.bam -o SRR8441378_april2021.bw -of bigwig --normalizeUsing RPKM\n",
      "bamCoverage -b SRR8441379.marked.bam -o SRR8441379_april2021.bw -of bigwig --normalizeUsing RPKM\n"
     ]
    }
   ],
   "source": [
    "%%bash\n",
    "cd /hydra/atac_sexual_final/mansi_atac/\n",
    "echo \"#!/bin/bash\" > bamCoverage_mean_April2021.sh\n",
    "echo \"bamCoverage -b SRR8441376.marked.bam -o SRR8441376_april2021.bw -of bigwig --normalizeUsing RPKM\" >> bamCoverage_mean_April2021.sh\n",
    "echo \"bamCoverage -b SRR8441377.marked.bam -o SRR8441377_april2021.bw -of bigwig --normalizeUsing RPKM\" >> bamCoverage_mean_April2021.sh\n",
    "echo \"bamCoverage -b SRR8441378.marked.bam -o SRR8441378_april2021.bw -of bigwig --normalizeUsing RPKM\" >> bamCoverage_mean_April2021.sh\n",
    "echo \"bamCoverage -b SRR8441379.marked.bam -o SRR8441379_april2021.bw -of bigwig --normalizeUsing RPKM\" >> bamCoverage_mean_April2021.sh\n",
    "chmod +x bamCoverage_mean_April2021.sh\n",
    "less bamCoverage_mean_April2021.sh"
   ]
  },
  {
   "cell_type": "code",
   "execution_count": null,
   "metadata": {},
   "outputs": [],
   "source": [
    "#%%bash\n",
    "#cd /hydra/atac_sexual_final/mansi_atac/\n",
    "#nohup ./bamCoverage_mean_April2021.sh > nohup_cov.out 2>&1  </dev/null &"
   ]
  },
  {
   "cell_type": "code",
   "execution_count": 10,
   "metadata": {},
   "outputs": [],
   "source": [
    "%%bash\n",
    "cd /hydra/atac_sexual_final/mansi_atac/\n",
    "wiggletools mean SRR8441376_april2021.bw SRR8441377_april2021.bw > mansi6h_2021.wig"
   ]
  },
  {
   "cell_type": "code",
   "execution_count": 11,
   "metadata": {},
   "outputs": [],
   "source": [
    "%%bash\n",
    "cd /hydra/atac_sexual_final/mansi_atac/\n",
    "wiggletools mean SRR8441378_april2021.bw SRR8441379_april2021.bw > mansi0h_2021.wig"
   ]
  },
  {
   "cell_type": "code",
   "execution_count": 12,
   "metadata": {},
   "outputs": [],
   "source": [
    "%%bash\n",
    "cd /hydra/atac_sexual_final/mansi_atac/\n",
    "wigToBigWig mansi6h_2021.wig /hydra/sexual_genome_annotation_files/sexual_genome_annotation/sizes.genome mansi6h_april2021.bw"
   ]
  },
  {
   "cell_type": "code",
   "execution_count": 13,
   "metadata": {},
   "outputs": [],
   "source": [
    "%%bash\n",
    "cd /hydra/atac_sexual_final/mansi_atac/\n",
    "wigToBigWig mansi0h_2021.wig /hydra/sexual_genome_annotation_files/sexual_genome_annotation/sizes.genome mansi0h_april2021.bw"
   ]
  },
  {
   "cell_type": "code",
   "execution_count": 2,
   "metadata": {},
   "outputs": [
    {
     "name": "stdout",
     "output_type": "stream",
     "text": [
      "mansi6h_april2021.bw\n",
      "mansi0h_april2021.bw\n"
     ]
    }
   ],
   "source": [
    "%%bash\n",
    "cd /hydra/atac_sexual_final/mansi_atac/\n",
    "ls mansi6h_april2021.bw\n",
    "ls mansi0h_april2021.bw"
   ]
  },
  {
   "cell_type": "markdown",
   "metadata": {},
   "source": [
    "# 3. Peak calling "
   ]
  },
  {
   "cell_type": "markdown",
   "metadata": {},
   "source": [
    "## 3.1 X1"
   ]
  },
  {
   "cell_type": "markdown",
   "metadata": {},
   "source": [
    "### 3.1.1 MACS2"
   ]
  },
  {
   "cell_type": "code",
   "execution_count": 14,
   "metadata": {},
   "outputs": [
    {
     "name": "stdout",
     "output_type": "stream",
     "text": [
      "#!/bin/bash\n",
      "macs2 callpeak -t x1lysis.marked.bam x1wcs.marked.bam --nomodel --extsize 200 --shift -100 -n x1atacapril21\n"
     ]
    }
   ],
   "source": [
    "%%bash\n",
    "cd /hydra/atac_sexual_final/x1/\n",
    "echo \"#!/bin/bash\" > macs2peak_april2021.sh\n",
    "echo \"macs2 callpeak -t x1lysis.marked.bam x1wcs.marked.bam --nomodel --extsize 200 --shift -100 -n x1atacapril21\" >> macs2peak_april2021.sh\n",
    "chmod +x macs2peak_april2021.sh\n",
    "less macs2peak_april2021.sh"
   ]
  },
  {
   "cell_type": "code",
   "execution_count": null,
   "metadata": {},
   "outputs": [],
   "source": [
    "#%%bash\n",
    "#cd /hydra/atac_sexual_final/x1/\n",
    "#nohup ./macs2peak_april2021.sh > nohup_cov.out 2>&1  </dev/null &"
   ]
  },
  {
   "cell_type": "code",
   "execution_count": 4,
   "metadata": {},
   "outputs": [
    {
     "name": "stdout",
     "output_type": "stream",
     "text": [
      "98867 x1atacapril21_summits.bed\n"
     ]
    }
   ],
   "source": [
    "%%bash\n",
    "cd /hydra/atac_sexual_final/x1/\n",
    "wc -l x1atacapril21_summits.bed"
   ]
  },
  {
   "cell_type": "markdown",
   "metadata": {},
   "source": [
    "### 3.1.2 Genrich"
   ]
  },
  {
   "cell_type": "code",
   "execution_count": 15,
   "metadata": {},
   "outputs": [
    {
     "name": "stderr",
     "output_type": "stream",
     "text": [
      "[bam_sort_core] merging from 9 files and 1 in-memory blocks...\n",
      "[bam_sort_core] merging from 8 files and 1 in-memory blocks...\n"
     ]
    }
   ],
   "source": [
    "%%bash\n",
    "cd /hydra/atac_sexual_final/x1/\n",
    "samtools sort -o x1lysis.marked.sorted.bam -n x1lysis.marked.bam\n",
    "samtools sort -o x1wcs.marked.sorted.bam -n x1wcs.marked.bam "
   ]
  },
  {
   "cell_type": "code",
   "execution_count": 17,
   "metadata": {},
   "outputs": [
    {
     "name": "stdout",
     "output_type": "stream",
     "text": [
      "#!/bin/bash\n",
      "/hydra/software/Genrich/Genrich -t x1lysis.marked.sorted.bam,x1wcs.marked.sorted.bam -o x1Genrich_april2021.narrowPeak -f x1Genrich_april2021.bed -y -j -v\n"
     ]
    }
   ],
   "source": [
    "%%bash\n",
    "cd /hydra/atac_sexual_final/x1/\n",
    "echo \"#!/bin/bash\" > genrichpeak_april2021.sh\n",
    "echo \"/hydra/software/Genrich/Genrich -t x1lysis.marked.sorted.bam,x1wcs.marked.sorted.bam -o x1Genrich_april2021.narrowPeak -f x1Genrich_april2021.bed -y -j -v\" >> genrichpeak_april2021.sh\n",
    "chmod +x genrichpeak_april2021.sh\n",
    "less genrichpeak_april2021.sh"
   ]
  },
  {
   "cell_type": "code",
   "execution_count": null,
   "metadata": {},
   "outputs": [],
   "source": [
    "#%%bash\n",
    "#cd /hydra/atac_sexual_final/x1/\n",
    "#nohup ./genrichpeak_april2021.sh > nohup_cov.out 2>&1  </dev/null &"
   ]
  },
  {
   "cell_type": "code",
   "execution_count": 25,
   "metadata": {},
   "outputs": [
    {
     "name": "stdout",
     "output_type": "stream",
     "text": [
      "6860 x1Genrich_april2021.narrowPeak\n"
     ]
    }
   ],
   "source": [
    "%%bash\n",
    "cd /hydra/atac_sexual_final/x1/\n",
    "wc -l x1Genrich_april2021.narrowPeak"
   ]
  },
  {
   "cell_type": "markdown",
   "metadata": {},
   "source": [
    "## 3.2 X2"
   ]
  },
  {
   "cell_type": "markdown",
   "metadata": {},
   "source": [
    "### 3.2.1 MACS2"
   ]
  },
  {
   "cell_type": "code",
   "execution_count": 5,
   "metadata": {},
   "outputs": [
    {
     "name": "stdout",
     "output_type": "stream",
     "text": [
      "#!/bin/bash\n",
      "macs2 callpeak -t x2lysis.marked.bam x2wcs.marked.bam --nomodel --extsize 200 --shift -100 -n x2atacapril21\n"
     ]
    }
   ],
   "source": [
    "%%bash\n",
    "cd /hydra/atac_sexual_final/x2/\n",
    "echo \"#!/bin/bash\" > macs2peak_april2021.sh\n",
    "echo \"macs2 callpeak -t x2lysis.marked.bam x2wcs.marked.bam --nomodel --extsize 200 --shift -100 -n x2atacapril21\" >> macs2peak_april2021.sh\n",
    "chmod +x macs2peak_april2021.sh\n",
    "less macs2peak_april2021.sh"
   ]
  },
  {
   "cell_type": "code",
   "execution_count": null,
   "metadata": {},
   "outputs": [],
   "source": [
    "#%%bash\n",
    "#cd /hydra/atac_sexual_final/x2/\n",
    "#nohup ./macs2peak_april2021.sh > nohup_cov.out 2>&1  </dev/null &"
   ]
  },
  {
   "cell_type": "code",
   "execution_count": 7,
   "metadata": {},
   "outputs": [
    {
     "name": "stdout",
     "output_type": "stream",
     "text": [
      "152403 x2atacapril21_summits.bed\n"
     ]
    }
   ],
   "source": [
    "%%bash\n",
    "cd /hydra/atac_sexual_final/x2/\n",
    "wc -l x2atacapril21_summits.bed"
   ]
  },
  {
   "cell_type": "markdown",
   "metadata": {},
   "source": [
    "### 3.2.2 Genrich"
   ]
  },
  {
   "cell_type": "code",
   "execution_count": 27,
   "metadata": {},
   "outputs": [
    {
     "name": "stdout",
     "output_type": "stream",
     "text": [
      "#!/bin/bash\n",
      "samtools sort -o x2lysis.marked.sorted.bam -n x2lysis.marked.bam\n",
      "samtools sort -o x2wcs.marked.sorted.bam -n x2wcs.marked.bam\n",
      "/hydra/software/Genrich/Genrich -t x2lysis.marked.sorted.bam,x2wcs.marked.sorted.bam -o x2Genrich_april2021.narrowPeak -f x2Genrich_april2021.bed -y -j -v\n"
     ]
    }
   ],
   "source": [
    "%%bash\n",
    "cd /hydra/atac_sexual_final/x2/\n",
    "echo \"#!/bin/bash\" > genrichpeak_april2021.sh\n",
    "echo \"samtools sort -o x2lysis.marked.sorted.bam -n x2lysis.marked.bam\" >> genrichpeak_april2021.sh\n",
    "echo \"samtools sort -o x2wcs.marked.sorted.bam -n x2wcs.marked.bam\" >> genrichpeak_april2021.sh\n",
    "echo \"/hydra/software/Genrich/Genrich -t x2lysis.marked.sorted.bam,x2wcs.marked.sorted.bam -o x2Genrich_april2021.narrowPeak -f x2Genrich_april2021.bed -y -j -v\" >> genrichpeak_april2021.sh\n",
    "chmod +x genrichpeak_april2021.sh\n",
    "less genrichpeak_april2021.sh"
   ]
  },
  {
   "cell_type": "code",
   "execution_count": null,
   "metadata": {},
   "outputs": [],
   "source": [
    "#%%bash\n",
    "#cd /hydra/atac_sexual_final/x2/\n",
    "#nohup ./genrichpeak_april2021.sh > nohup_cov.out 2>&1  </dev/null &"
   ]
  },
  {
   "cell_type": "code",
   "execution_count": 30,
   "metadata": {},
   "outputs": [
    {
     "name": "stdout",
     "output_type": "stream",
     "text": [
      "9756 x2Genrich_april2021.narrowPeak\n"
     ]
    }
   ],
   "source": [
    "%%bash\n",
    "cd /hydra/atac_sexual_final/x2/\n",
    "wc -l x2Genrich_april2021.narrowPeak"
   ]
  },
  {
   "cell_type": "markdown",
   "metadata": {},
   "source": [
    "## 3.3 Xins"
   ]
  },
  {
   "cell_type": "markdown",
   "metadata": {},
   "source": [
    "### 3.3.1 MACS2"
   ]
  },
  {
   "cell_type": "code",
   "execution_count": 6,
   "metadata": {},
   "outputs": [
    {
     "name": "stdout",
     "output_type": "stream",
     "text": [
      "#!/bin/bash\n",
      "macs2 callpeak -t xins2.marked.bam xinsATAC.marked.bam --nomodel --extsize 200 --shift -100 -n xinsatacapril21\n"
     ]
    }
   ],
   "source": [
    "%%bash\n",
    "cd /hydra/atac_sexual_final/xins/\n",
    "echo \"#!/bin/bash\" > macs2peak_april2021.sh\n",
    "echo \"macs2 callpeak -t xins2.marked.bam xinsATAC.marked.bam --nomodel --extsize 200 --shift -100 -n xinsatacapril21\" >> macs2peak_april2021.sh\n",
    "chmod +x macs2peak_april2021.sh\n",
    "less macs2peak_april2021.sh"
   ]
  },
  {
   "cell_type": "code",
   "execution_count": null,
   "metadata": {},
   "outputs": [],
   "source": [
    "#%%bash\n",
    "#cd /hydra/atac_sexual_final/xins/\n",
    "#nohup ./macs2peak_april2021.sh > nohup_cov.out 2>&1  </dev/null &"
   ]
  },
  {
   "cell_type": "code",
   "execution_count": 8,
   "metadata": {},
   "outputs": [
    {
     "name": "stdout",
     "output_type": "stream",
     "text": [
      "123165 xinsatacapril21_summits.bed\n"
     ]
    }
   ],
   "source": [
    "%%bash\n",
    "cd /hydra/atac_sexual_final/xins/\n",
    "wc -l xinsatacapril21_summits.bed"
   ]
  },
  {
   "cell_type": "markdown",
   "metadata": {},
   "source": [
    "### 3.3.2 Genrich"
   ]
  },
  {
   "cell_type": "code",
   "execution_count": 32,
   "metadata": {},
   "outputs": [
    {
     "name": "stdout",
     "output_type": "stream",
     "text": [
      "#!/bin/bash\n",
      "samtools sort -o xins2.marked.sorted.bam -n xins2.marked.bam\n",
      "samtools sort -o xinsATAC.marked.sorted.bam -n xinsATAC.marked.bam\n",
      "/hydra/software/Genrich/Genrich -t xins2.marked.sorted.bam,xinsATAC.marked.sorted.bam -o xinsGenrich_april2021.narrowPeak -f xinsGenrich_april2021.bed -y -j -v\n"
     ]
    }
   ],
   "source": [
    "%%bash\n",
    "cd /hydra/atac_sexual_final/xins/\n",
    "echo \"#!/bin/bash\" > genrichpeak_april2021.sh\n",
    "echo \"samtools sort -o xins2.marked.sorted.bam -n xins2.marked.bam\" >> genrichpeak_april2021.sh\n",
    "echo \"samtools sort -o xinsATAC.marked.sorted.bam -n xinsATAC.marked.bam\" >> genrichpeak_april2021.sh\n",
    "echo \"/hydra/software/Genrich/Genrich -t xins2.marked.sorted.bam,xinsATAC.marked.sorted.bam -o xinsGenrich_april2021.narrowPeak -f xinsGenrich_april2021.bed -y -j -v\" >> genrichpeak_april2021.sh\n",
    "chmod +x genrichpeak_april2021.sh\n",
    "less genrichpeak_april2021.sh"
   ]
  },
  {
   "cell_type": "code",
   "execution_count": null,
   "metadata": {},
   "outputs": [],
   "source": [
    "#%%bash\n",
    "#cd /hydra/atac_sexual_final/xins/\n",
    "#nohup ./genrichpeak_april2021.sh > nohup_cov.out 2>&1  </dev/null &"
   ]
  },
  {
   "cell_type": "code",
   "execution_count": 34,
   "metadata": {},
   "outputs": [
    {
     "name": "stdout",
     "output_type": "stream",
     "text": [
      "10478 xinsGenrich_april2021.narrowPeak\n"
     ]
    }
   ],
   "source": [
    "%%bash\n",
    "cd /hydra/atac_sexual_final/xins/\n",
    "wc -l xinsGenrich_april2021.narrowPeak"
   ]
  },
  {
   "cell_type": "markdown",
   "metadata": {},
   "source": [
    "## 3.4 Blastemal ATAC-seq"
   ]
  },
  {
   "cell_type": "markdown",
   "metadata": {},
   "source": [
    "### 3.4.1 MACS2"
   ]
  },
  {
   "cell_type": "code",
   "execution_count": 10,
   "metadata": {},
   "outputs": [
    {
     "name": "stdout",
     "output_type": "stream",
     "text": [
      "#!/bin/bash\n",
      "macs2 callpeak -t SRR8441376.marked.bam SRR8441377.marked.bam --nomodel --extsize 200 --shift -100 -n 6hapril2021\n",
      "macs2 callpeak -t SRR8441378.marked.bam SRR8441379.marked.bam --nomodel --extsize 200 --shift -100 -n 0hapril2021\n"
     ]
    }
   ],
   "source": [
    "%%bash\n",
    "cd /hydra/atac_sexual_final/mansi_atac/\n",
    "echo \"#!/bin/bash\" > macs2peak_april2021.sh\n",
    "echo \"macs2 callpeak -t SRR8441376.marked.bam SRR8441377.marked.bam --nomodel --extsize 200 --shift -100 -n 6hapril2021\" >> macs2peak_april2021.sh\n",
    "echo \"macs2 callpeak -t SRR8441378.marked.bam SRR8441379.marked.bam --nomodel --extsize 200 --shift -100 -n 0hapril2021\" >> macs2peak_april2021.sh\n",
    "chmod +x macs2peak_april2021.sh\n",
    "less macs2peak_april2021.sh"
   ]
  },
  {
   "cell_type": "code",
   "execution_count": null,
   "metadata": {},
   "outputs": [],
   "source": [
    "#%%bash\n",
    "#cd /hydra/atac_sexual_final/mansi_atac/\n",
    "#nohup ./macs2peak_april2021.sh > nohup_cov.out 2>&1  </dev/null &"
   ]
  },
  {
   "cell_type": "code",
   "execution_count": 12,
   "metadata": {},
   "outputs": [
    {
     "name": "stdout",
     "output_type": "stream",
     "text": [
      "7836 6hapril2021_summits.bed\n",
      "13664 0hapril2021_summits.bed\n"
     ]
    }
   ],
   "source": [
    "%%bash\n",
    "cd /hydra/atac_sexual_final/mansi_atac/\n",
    "wc -l 6hapril2021_summits.bed\n",
    "wc -l 0hapril2021_summits.bed"
   ]
  },
  {
   "cell_type": "markdown",
   "metadata": {},
   "source": [
    "### 3.4.2 Genrich"
   ]
  },
  {
   "cell_type": "code",
   "execution_count": 33,
   "metadata": {},
   "outputs": [
    {
     "name": "stdout",
     "output_type": "stream",
     "text": [
      "#!/bin/bash\n",
      "samtools sort -o SRR8441376.marked.sorted.bam -n SRR8441376.marked.bam\n",
      "samtools sort -o SRR8441377.marked.sorted.bam -n SRR8441377.marked.bam\n",
      "samtools sort -o SRR8441378.marked.sorted.bam -n SRR8441378.marked.bam\n",
      "samtools sort -o SRR8441379.marked.sorted.bam -n SRR8441379.marked.bam\n",
      "/hydra/software/Genrich/Genrich -t SRR8441376.marked.sorted.bam,SRR8441377.marked.sorted.bam -o 6hGenrich_april2021.narrowPeak -f 6hGenrich_april2021.bed -y -j -v\n",
      "/hydra/software/Genrich/Genrich -t SRR8441378.marked.sorted.bam,SRR8441379.marked.sorted.bam -o 0hGenrich_april2021.narrowPeak -f 0hGenrich_april2021.bed -y -j -v\n"
     ]
    }
   ],
   "source": [
    "%%bash\n",
    "cd /hydra/atac_sexual_final/mansi_atac/\n",
    "echo \"#!/bin/bash\" > genrichpeak_april2021.sh\n",
    "echo \"samtools sort -o SRR8441376.marked.sorted.bam -n SRR8441376.marked.bam\" >> genrichpeak_april2021.sh\n",
    "echo \"samtools sort -o SRR8441377.marked.sorted.bam -n SRR8441377.marked.bam\" >> genrichpeak_april2021.sh\n",
    "echo \"samtools sort -o SRR8441378.marked.sorted.bam -n SRR8441378.marked.bam\" >> genrichpeak_april2021.sh\n",
    "echo \"samtools sort -o SRR8441379.marked.sorted.bam -n SRR8441379.marked.bam\" >> genrichpeak_april2021.sh\n",
    "echo \"/hydra/software/Genrich/Genrich -t SRR8441376.marked.sorted.bam,SRR8441377.marked.sorted.bam -o 6hGenrich_april2021.narrowPeak -f 6hGenrich_april2021.bed -y -j -v\" >> genrichpeak_april2021.sh\n",
    "echo \"/hydra/software/Genrich/Genrich -t SRR8441378.marked.sorted.bam,SRR8441379.marked.sorted.bam -o 0hGenrich_april2021.narrowPeak -f 0hGenrich_april2021.bed -y -j -v\" >> genrichpeak_april2021.sh\n",
    "chmod +x genrichpeak_april2021.sh\n",
    "less genrichpeak_april2021.sh"
   ]
  },
  {
   "cell_type": "code",
   "execution_count": null,
   "metadata": {},
   "outputs": [],
   "source": [
    "#%%bash\n",
    "#cd /hydra/atac_sexual_final/mansi_atac/\n",
    "#nohup ./genrichpeak_april2021.sh > nohup_cov.out 2>&1  </dev/null &"
   ]
  },
  {
   "cell_type": "code",
   "execution_count": null,
   "metadata": {},
   "outputs": [],
   "source": [
    "%%bash\n",
    "cd /hydra/atac_sexual_final/mansi_atac/\n",
    "wc -l 6hGenrich_april2021.narrowPeak\n",
    "wc -l 0hGenrich_april2021.narrowPeak"
   ]
  },
  {
   "cell_type": "markdown",
   "metadata": {},
   "source": [
    "# FINNISHED"
   ]
  }
 ],
 "metadata": {
  "kernelspec": {
   "display_name": "Python 3 (ipykernel)",
   "language": "python",
   "name": "python3"
  },
  "language_info": {
   "codemirror_mode": {
    "name": "ipython",
    "version": 3
   },
   "file_extension": ".py",
   "mimetype": "text/x-python",
   "name": "python",
   "nbconvert_exporter": "python",
   "pygments_lexer": "ipython3",
   "version": "3.8.12"
  }
 },
 "nbformat": 4,
 "nbformat_minor": 2
}
