{
 "cells": [
  {
   "cell_type": "markdown",
   "id": "f3597fb8",
   "metadata": {},
   "source": [
    "# 1-Genomeannotation\n",
    "Jakke Neiro$^1$\n",
    "1. Aboobaker lab, Department of Zoology, University of Oxford"
   ]
  },
  {
   "cell_type": "markdown",
   "id": "d1e1bc41",
   "metadata": {},
   "source": [
    "## Contents of notebook\n",
    "* 1. Introduction\n",
    "* 2. Data quality\n",
    "* 3. Alignment\n",
    "* 4. Transcript assembly and merge"
   ]
  },
  {
   "cell_type": "markdown",
   "id": "77deac61",
   "metadata": {},
   "source": [
    "## Files\n",
    "* Input: 183 RNA-seq samples\n",
    "* Output: stringtie_merged.gtf"
   ]
  },
  {
   "cell_type": "markdown",
   "id": "4d66530d",
   "metadata": {},
   "source": [
    "# 1. Introduction"
   ]
  },
  {
   "cell_type": "markdown",
   "id": "dd6c06cb",
   "metadata": {},
   "source": [
    "This notebook describes the annotation of the sexual planarian genome (*Schmidtea mediterranea*) based on total RNA-seq data from this species. In short, took advantage of the Stringtie annotation pipeline by using 183 planarian RNA-seq reads as the raw RNA-seq material and the PlanMine sexual genome annotation (SMESG-high) as the reference annotation. More information on the stringtie annotation process can be found at http://ccb.jhu.edu/software/stringtie/index.shtml."
   ]
  },
  {
   "cell_type": "code",
   "execution_count": null,
   "id": "thirty-action",
   "metadata": {},
   "outputs": [],
   "source": [
    "%%bash\n",
    "cd /hydra/sexual_genome_annotation_files/ncrna_Neiro\n",
    "grep -v -P '\\t\\.\\t\\.\\t' stringtie_merged.gtf > stringtie.Bioconductor.gtf"
   ]
  },
  {
   "cell_type": "markdown",
   "id": "09c7b8ec",
   "metadata": {},
   "source": [
    "# 2. Data quality"
   ]
  },
  {
   "cell_type": "markdown",
   "id": "b350a3c1",
   "metadata": {},
   "source": [
    "In total 183 RNA-seq data sets sequenced in the planarian were used as the raw pool of RNA-seq reads for the expression-driven annotation. The sample IDs are listed below:"
   ]
  },
  {
   "cell_type": "code",
   "execution_count": 3,
   "id": "512f401c",
   "metadata": {},
   "outputs": [
    {
     "name": "stdout",
     "output_type": "stream",
     "text": [
      "183 sample_ids.txt\n",
      "SRR1012785\n",
      "SRR1012838\n",
      "SRR1012831\n",
      "SRR1012832\n",
      "SRR1012833\n",
      "SRR1012834\n",
      "SRR1012835\n",
      "SRR1012836\n",
      "ERR032074\n",
      "ERR032075\n",
      "ERR032076\n",
      "ERR032073\n",
      "SRR867380\n",
      "SRR867381\n",
      "SRR867382\n",
      "SRR2009682\n",
      "SRR2009683\n",
      "SRR2009678\n",
      "SRR2009679\n",
      "SRR867383\n",
      "SRR867384\n",
      "SRR867385\n",
      "SRR2009680\n",
      "SRR2009681\n",
      "SRR867386\n",
      "SRR867387\n",
      "SRR867388\n",
      "SRR2009674\n",
      "SRR2009675\n",
      "SRR2009676\n",
      "SRR2009677\n",
      "SRR1302027\n",
      "SRR1302028\n",
      "SRR1302033\n",
      "SRR1302034\n",
      "SRR1208934\n",
      "SRR1266970\n",
      "SRR1266971\n",
      "SRR1266972\n",
      "SRR1266967\n",
      "SRR1266968\n",
      "SRR1266969\n",
      "SRR1266973\n",
      "SRR1266974\n",
      "SRR1266975\n",
      "SRR1302023\n",
      "SRR1302024\n",
      "SRR1302029\n",
      "SRR1302030\n",
      "SRR1302025\n",
      "SRR1302026\n",
      "SRR1302031\n",
      "SRR1302032\n",
      "SRR900846\n",
      "SRR900847\n",
      "SRR900848\n",
      "SRR900849\n",
      "SRR900850\n",
      "SRR900851\n",
      "SRR900852\n",
      "SRR900853\n",
      "SRR2183571\n",
      "SRR2183572\n",
      "SRR2183573\n",
      "SRR2183574\n",
      "SRR2183575\n",
      "SRR2183576\n",
      "SRR2183577\n",
      "SRR2183578\n",
      "SRR2183579\n",
      "SRR2183580\n",
      "SRR2183581\n",
      "SRR2183582\n",
      "SRR2183583\n",
      "SRR2183584\n",
      "SRR2183585\n",
      "SRR2658130\n",
      "SRR2658131\n",
      "SRR2658132\n",
      "SRR2658133\n",
      "SRR2658126\n",
      "SRR2658127\n",
      "SRR2658128\n",
      "SRR2658129\n",
      "SRR2183586\n",
      "SRR2183587\n",
      "SRR2183588\n",
      "SRR2183589\n",
      "SRR2183590\n",
      "SRR2183591\n",
      "SRR2183592\n",
      "SRR2183593\n",
      "SRR2183594\n",
      "SRR2183595\n",
      "SRR2183596\n",
      "SRR2183597\n",
      "SRR2183598\n",
      "SRR2183599\n",
      "SRR2183600\n",
      "SRR2183601\n",
      "SRR2183602\n",
      "SRR2658086\n",
      "SRR2658087\n",
      "SRR2658088\n",
      "SRR2658089\n",
      "SRR2658094\n",
      "SRR2658095\n",
      "SRR2658096\n",
      "SRR2658097\n",
      "SRR2183603\n",
      "SRR2183604\n",
      "SRR2183605\n",
      "SRR2183606\n",
      "SRR2183607\n",
      "SRR2183608\n",
      "SRR2658102\n",
      "SRR2658103\n",
      "SRR2658104\n",
      "SRR2658105\n",
      "SRR2183609\n",
      "SRR2183610\n",
      "SRR2183611\n",
      "SRR2658110\n",
      "SRR2658111\n",
      "SRR2658112\n",
      "SRR2658113\n",
      "SRR2658138\n",
      "SRR2658139\n",
      "SRR2658140\n",
      "SRR2658141\n",
      "SRR2183612\n",
      "SRR2183613\n",
      "SRR2183614\n",
      "SRR2658134\n",
      "SRR2658135\n",
      "SRR2658136\n",
      "SRR2658137\n",
      "SRR2183615\n",
      "SRR2183616\n",
      "SRR2183617\n",
      "SRR2183618\n",
      "SRR2183619\n",
      "SRR2183620\n",
      "SRR2658082\n",
      "SRR2658083\n",
      "SRR2658084\n",
      "SRR2658085\n",
      "SRR2658078\n",
      "SRR2658079\n",
      "SRR2658080\n",
      "SRR2658081\n",
      "SRR2407874\n",
      "SRR2407875\n",
      "SRR2407876\n",
      "SRR2407877\n",
      "SRR2658090\n",
      "SRR2658091\n",
      "SRR2658092\n",
      "SRR2658093\n",
      "SRR2658098\n",
      "SRR2658099\n",
      "SRR2658100\n",
      "SRR2658101\n",
      "SRR2658106\n",
      "SRR2658107\n",
      "SRR2658108\n",
      "SRR2658109\n",
      "SRR2658114\n",
      "SRR2658115\n",
      "SRR2658116\n",
      "SRR2658117\n",
      "SRR2658122\n",
      "SRR2658123\n",
      "SRR2658124\n",
      "SRR2658125\n",
      "SRR2658118\n",
      "SRR2658119\n",
      "SRR2658120\n",
      "SRR2658121\n",
      "SRR2407878\n",
      "SRR2407879\n",
      "SRR2407880\n",
      "SRR2407881\n"
     ]
    }
   ],
   "source": [
    "%%bash\n",
    "cd /drives/raid/AboobakerLab/jakke/sexual_genome_annotation_files/sexual_genome_annotation/\n",
    "wc -l sample_ids.txt\n",
    "less sample_ids.txt"
   ]
  },
  {
   "cell_type": "markdown",
   "id": "7ad70fea",
   "metadata": {},
   "source": [
    "# 3. Alignment"
   ]
  },
  {
   "cell_type": "markdown",
   "id": "bf88d13d",
   "metadata": {},
   "source": [
    "The SMESG-high genome annotation and gene models were downloaded from PlanMine v3.0."
   ]
  },
  {
   "cell_type": "code",
   "execution_count": 2,
   "id": "a8b04ca5",
   "metadata": {},
   "outputs": [],
   "source": [
    "#%%bash\n",
    "#cd ../sexual_genome_annotation_files/sexual_genome_annotation/\n",
    "#wget http://planmine.mpi-cbg.de/planmine/model/bulkdata/smes_v2_hconf_SMESG.gff3.zip\n",
    "#unzip smes_v2_hconf_SMESG.gff3.zip"
   ]
  },
  {
   "cell_type": "markdown",
   "id": "f6d51fa9",
   "metadata": {},
   "source": [
    "The gff3 file was converted into a gtf file:"
   ]
  },
  {
   "cell_type": "code",
   "execution_count": null,
   "id": "d527dc08",
   "metadata": {},
   "outputs": [],
   "source": [
    "%%bash\n",
    "cd ../sexual_genome_annotation_files/sexual_genome_annotation/\n",
    "gffread smes_v2_hconf_SMESG.gff3 -T -o smes_v2_hconf_SMESG.gtf"
   ]
  },
  {
   "cell_type": "markdown",
   "id": "1c097d34",
   "metadata": {},
   "source": [
    "The splice sites were extracted for hisat2:"
   ]
  },
  {
   "cell_type": "code",
   "execution_count": null,
   "id": "d3dd477f",
   "metadata": {},
   "outputs": [],
   "source": [
    "%%bash\n",
    "cd ../sexual_genome_annotation_files/sexual_genome_annotation/\n",
    "~/software/hisat2-2.1.0/hisat2_extract_splice_sites.py smes_v2_hconf_SMESG.gtf > smes_v2_hconf_hisat2_splice_sites"
   ]
  },
  {
   "cell_type": "markdown",
   "id": "bd0b6af7",
   "metadata": {},
   "source": [
    "The exon sites were extracted for hisat2:"
   ]
  },
  {
   "cell_type": "code",
   "execution_count": null,
   "id": "347a7cb2",
   "metadata": {},
   "outputs": [],
   "source": [
    "%%bash\n",
    "cd ../sexual_genome_annotation_files/sexual_genome_annotation/\n",
    "~/software/hisat2-2.1.0/hisat2_extract_exons.py smes_v2_hconf_SMESG.gtf > smes_v2_hconf_hisat2_exons"
   ]
  },
  {
   "cell_type": "markdown",
   "id": "38488dc7",
   "metadata": {},
   "source": [
    "The hisat2 index was build for alignment:"
   ]
  },
  {
   "cell_type": "code",
   "execution_count": null,
   "id": "25354f72",
   "metadata": {},
   "outputs": [],
   "source": [
    "%%bash\n",
    "cd ../sexual_genome_annotation_files/sexual_genome_annotation/\n",
    "nohup ~/software/hisat2-2.1.0/hisat2-build final_dd_Smed_g4.fa final_dd_Smed_g4_hisat2 > nohup_hisat_index &"
   ]
  },
  {
   "cell_type": "markdown",
   "id": "66036b47",
   "metadata": {},
   "source": [
    "All RNA-seq libraries were aligned to the sexual planarian genome with HISAT2:"
   ]
  },
  {
   "cell_type": "code",
   "execution_count": 3,
   "id": "8af9057f",
   "metadata": {},
   "outputs": [
    {
     "name": "stdout",
     "output_type": "stream",
     "text": [
      "#!/bin/bash\n",
      "\n",
      "for f in ../anish_trimmed_files/*.gz; do ~/software/hisat2-2.1.0/hisat2 -p 8 --dta --known-splicesite-infile smes_v2_hconf_hisat2_splice_sites -x ~/sexual_genome_annotation_files/sexual_genome_annotation/final_dd_Smed_g4_hisat2 -U $f -S ${f:23}.sam; done\n"
     ]
    }
   ],
   "source": [
    "%%bash\n",
    "cd /hydra/neiro_bam\n",
    "less hisat2_align.sh"
   ]
  },
  {
   "cell_type": "code",
   "execution_count": null,
   "id": "b8f3cf75",
   "metadata": {},
   "outputs": [],
   "source": [
    "#%%bash\n",
    "#cd /hydra/neiro_bam\n",
    "#nohup ./hisat2_align.sh &"
   ]
  },
  {
   "cell_type": "markdown",
   "id": "e6527530",
   "metadata": {},
   "source": [
    "Finally, all the sam files were converted into bam files:"
   ]
  },
  {
   "cell_type": "code",
   "execution_count": 4,
   "id": "7fccaad9",
   "metadata": {},
   "outputs": [
    {
     "name": "stdout",
     "output_type": "stream",
     "text": [
      "#!/bin/bash\n",
      "\n",
      "for f in *.sam; do samtools sort -@ 8 -o ${f%%.gz.sam}.bam $f; done\n"
     ]
    }
   ],
   "source": [
    "%%bash\n",
    "cd /hydra/neiro_bam\n",
    "less hisat_samtools.sh"
   ]
  },
  {
   "cell_type": "code",
   "execution_count": null,
   "id": "58a17f89",
   "metadata": {},
   "outputs": [],
   "source": [
    "#%%bash\n",
    "#nohup ./hisat_samtools.sh &"
   ]
  },
  {
   "cell_type": "markdown",
   "id": "0ca00146",
   "metadata": {},
   "source": [
    "# 4. Transcript assembly and merge\n",
    "The assembly process used Stringtie. First, the RNA-seq reads were assembled into transcripts for each sample using the exisiting SMESG-high annotation."
   ]
  },
  {
   "cell_type": "code",
   "execution_count": 5,
   "id": "84b825e2",
   "metadata": {},
   "outputs": [
    {
     "name": "stdout",
     "output_type": "stream",
     "text": [
      "#!/bin/bash\n",
      "\n",
      "for f in *.bam; do ~/software/stringtie-2.1.1/stringtie -p 8 -G ~/sexual_genome_annotation_files/sexual_genome_annotation/smes_v2_hconf_SMESG.gtf -o ${f%%.fastq.trimmed.fastq.bam}.gtf -l ${f%%.fastq.trimmed.fastq.bam} $f; done\n"
     ]
    }
   ],
   "source": [
    "%%bash\n",
    "cd /hydra/neiro_bam\n",
    "less stringtie.sh"
   ]
  },
  {
   "cell_type": "code",
   "execution_count": null,
   "id": "8d5833f6",
   "metadata": {},
   "outputs": [],
   "source": [
    "#%%bash\n",
    "#cd /hydra/neiro_bam\n",
    "#nohup ./stringtie.sh &"
   ]
  },
  {
   "cell_type": "markdown",
   "id": "a021cf43",
   "metadata": {},
   "source": [
    "All the bam files generated in the previous step were collected into a single list:"
   ]
  },
  {
   "cell_type": "code",
   "execution_count": null,
   "id": "3366a30b",
   "metadata": {},
   "outputs": [],
   "source": [
    "%%bash\n",
    "cd /hydra/neiro_bam\n",
    "for f in *.gtf; do echo $f >> mergelist.txt; done"
   ]
  },
  {
   "cell_type": "markdown",
   "id": "e7f18095",
   "metadata": {},
   "source": [
    "Finally, all the sample-specific annotations were merged into one final annotation."
   ]
  },
  {
   "cell_type": "code",
   "execution_count": 6,
   "id": "3ab2d502",
   "metadata": {},
   "outputs": [
    {
     "name": "stdout",
     "output_type": "stream",
     "text": [
      "#!/bin/bash\n",
      "\n",
      "~/software/stringtie-2.1.1/stringtie --merge -p 8 -G ~/sexual_genome_annotation_files/sexual_genome_annotation/smes_v2_hconf_SMESG.gtf -o stringtie_merged.gtf mergelist.txt\n"
     ]
    }
   ],
   "source": [
    "%%bash\n",
    "cd /hydra/neiro_bam\n",
    "less stringtie_merge.sh"
   ]
  },
  {
   "cell_type": "code",
   "execution_count": null,
   "id": "e23fabc1",
   "metadata": {},
   "outputs": [],
   "source": [
    "%%bash\n",
    "cd /hydra/neiro_bam\n",
    "nohup ./stringtie_merge.sh &"
   ]
  },
  {
   "cell_type": "markdown",
   "id": "d282d656",
   "metadata": {},
   "source": [
    "# FINNISHED"
   ]
  }
 ],
 "metadata": {
  "kernelspec": {
   "display_name": "Python 3 (ipykernel)",
   "language": "python",
   "name": "python3"
  },
  "language_info": {
   "codemirror_mode": {
    "name": "ipython",
    "version": 3
   },
   "file_extension": ".py",
   "mimetype": "text/x-python",
   "name": "python",
   "nbconvert_exporter": "python",
   "pygments_lexer": "ipython3",
   "version": "3.8.12"
  }
 },
 "nbformat": 4,
 "nbformat_minor": 5
}
