{
 "cells": [
  {
   "cell_type": "markdown",
   "id": "6d50b68f",
   "metadata": {},
   "source": [
    "# 1-6-BLAST\n",
    "Jakke Neiro$^1$\n",
    "1. Aboobaker laboratory, Department of Zoology, University of Oxford"
   ]
  },
  {
   "cell_type": "markdown",
   "id": "488e2247",
   "metadata": {},
   "source": [
    "## Contents of notebook\n",
    "* 1. Introduction\n",
    "* 2. BLAST\n",
    "    * 2.1 BLAST of sequences\n",
    "    * 2.2 Processing results"
   ]
  },
  {
   "cell_type": "markdown",
   "id": "6d20285f",
   "metadata": {},
   "source": [
    "## Files:\n",
    "* Input: stringtie_transcripts.fa, Homo_sapiens.GRCh38.pep.all.fa\n",
    "* Output: human_gene_blast"
   ]
  },
  {
   "cell_type": "markdown",
   "id": "405a71bd",
   "metadata": {},
   "source": [
    "# 1. Introduction"
   ]
  },
  {
   "cell_type": "markdown",
   "id": "5776f1de",
   "metadata": {},
   "source": [
    "The planarian transcripts from the new annotation were blasted against human genes to find homologs."
   ]
  },
  {
   "cell_type": "markdown",
   "id": "0736901f",
   "metadata": {},
   "source": [
    "### Conserved regions in long non-coding RNAs contain abundant translation and protein–RNA interaction signatures. \n",
    "We searched for significant sequence similarity hits between mouse annotated transcripts and human transcripts using BLASTN (45). To ensure completeness, we used a human transcriptome that contains annotated genes as well as de novo assembled transcripts obtained from high-coverage RNA sequencing data (RNA-Seq) from different tissues (46), which is available from http://dx.doi.org/10.6084/m9.figshare.4702375. The BLASTN parameters we used were: -evalue 10−5, -strand plus, -max_target_seqs 15, -window_size 12. Next, we defined ‘conserved regions’ in mouse transcripts as the ones showing significant sequence similarity (E-value < 10−5) to human transcripts, with a minimum length of 30 nucleotides. "
   ]
  },
  {
   "cell_type": "markdown",
   "id": "2fed71c0",
   "metadata": {},
   "source": [
    "# 2. BLAST"
   ]
  },
  {
   "cell_type": "markdown",
   "id": "a46f1f92",
   "metadata": {},
   "source": [
    "## 2.1 BLAST of sequences"
   ]
  },
  {
   "cell_type": "markdown",
   "id": "23df3cb2",
   "metadata": {},
   "source": [
    "### 2.1.1 BLAST Coding sequences"
   ]
  },
  {
   "cell_type": "code",
   "execution_count": 1,
   "id": "fcd8cc89",
   "metadata": {},
   "outputs": [
    {
     "name": "stdout",
     "output_type": "stream",
     "text": [
      "91068\n"
     ]
    }
   ],
   "source": [
    "%%bash\n",
    "cd /hydra/FACS\n",
    "grep -c \">\" stringtie_transcripts.fa"
   ]
  },
  {
   "cell_type": "markdown",
   "id": "8fe9a114",
   "metadata": {},
   "source": [
    "A blast database was made for the human peptides: "
   ]
  },
  {
   "cell_type": "code",
   "execution_count": 59,
   "id": "124729fc",
   "metadata": {},
   "outputs": [],
   "source": [
    "#%%bash\n",
    "#cd /hydra/sexual_genome_annotation_files/blast_annotation\n",
    "#makeblastdb -in Homo_sapiens.GRCh38.pep.all.fa -parse_seqids -blastdb_version 5 -dbtype prot"
   ]
  },
  {
   "cell_type": "markdown",
   "id": "6340f698",
   "metadata": {},
   "source": [
    "The planarian transcripts were blasted to the peptides: "
   ]
  },
  {
   "cell_type": "code",
   "execution_count": 65,
   "id": "2e3cec14",
   "metadata": {},
   "outputs": [
    {
     "name": "stdout",
     "output_type": "stream",
     "text": [
      "#!/bin/bash\n",
      "blastx -query /hydra/FACS/stringtie_transcripts.fa -db Homo_sapiens.GRCh38.pep.all.fa -out stringtie2human_blast.tab -outfmt 6\n"
     ]
    }
   ],
   "source": [
    "%%bash\n",
    "cd /hydra/sexual_genome_annotation_files/blast_annotation\n",
    "echo \"#!/bin/bash\" > blast_human.sh\n",
    "echo \"blastx -query /hydra/FACS/stringtie_transcripts.fa -db Homo_sapiens.GRCh38.pep.all.fa -out stringtie2human_blast.tab -outfmt 6\" >> blast_human.sh\n",
    "chmod +x blast_human.sh\n",
    "less blast_human.sh"
   ]
  },
  {
   "cell_type": "code",
   "execution_count": 20,
   "id": "3841f144",
   "metadata": {},
   "outputs": [],
   "source": [
    "#%%bash\n",
    "#cd /hydra/sexual_genome_annotation_files/blast_annotation\n",
    "#makeblastdb -in Drosophila_melanogaster.BDGP6.32.pep.all.fa -parse_seqids -blastdb_version 5 -dbtype prot "
   ]
  },
  {
   "cell_type": "code",
   "execution_count": 21,
   "id": "051d69e5",
   "metadata": {},
   "outputs": [
    {
     "name": "stdout",
     "output_type": "stream",
     "text": [
      "#!/bin/bash\n",
      "blastx -query /hydra/FACS/stringtie_transcripts.fa -db Drosophila_melanogaster.BDGP6.32.pep.all.fa -out stringtie2fly_blast.tab -outfmt 6\n"
     ]
    }
   ],
   "source": [
    "%%bash\n",
    "cd /hydra/sexual_genome_annotation_files/blast_annotation\n",
    "echo \"#!/bin/bash\" > blast_fly.sh\n",
    "echo \"blastx -query /hydra/FACS/stringtie_transcripts.fa -db Drosophila_melanogaster.BDGP6.32.pep.all.fa -out stringtie2fly_blast.tab -outfmt 6\" >> blast_fly.sh\n",
    "chmod +x blast_fly.sh\n",
    "less blast_fly.sh"
   ]
  },
  {
   "cell_type": "code",
   "execution_count": 2,
   "id": "134af34a",
   "metadata": {},
   "outputs": [
    {
     "name": "stdout",
     "output_type": "stream",
     "text": [
      "19530460 stringtie2human_blast.tab\n"
     ]
    }
   ],
   "source": [
    "%%bash\n",
    "cd /hydra/sexual_genome_annotation_files/blast_annotation\n",
    "wc -l stringtie2human_blast.tab"
   ]
  },
  {
   "cell_type": "code",
   "execution_count": 10,
   "id": "bbfbd95b",
   "metadata": {},
   "outputs": [
    {
     "data": {
      "text/plain": [
       "3530460"
      ]
     },
     "execution_count": 10,
     "metadata": {},
     "output_type": "execute_result"
    }
   ],
   "source": [
    "19530460-16000000"
   ]
  },
  {
   "cell_type": "markdown",
   "id": "b64c06d2",
   "metadata": {},
   "source": [
    "### 2.1.2 BLAST non-coding sequences"
   ]
  },
  {
   "cell_type": "code",
   "execution_count": 5,
   "id": "6f9307d3",
   "metadata": {},
   "outputs": [],
   "source": [
    "#%%bash\n",
    "#cd /drives/raid/AboobakerLab/jakke/sexual_genome_annotation_files/blast_annotation\n",
    "#wget https://ftp.ncbi.nlm.nih.gov/genomes/all/GCF/000/001/405/GCF_000001405.39_GRCh38.p13/GCF_000001405.39_GRCh38.p13_rna.fna.gz"
   ]
  },
  {
   "cell_type": "code",
   "execution_count": 32,
   "id": "42d7468e",
   "metadata": {},
   "outputs": [],
   "source": [
    "#%%bash\n",
    "#cd /drives/raid/AboobakerLab/jakke/sexual_genome_annotation_files/blast_annotation\n",
    "#wget https://ftp.ebi.ac.uk/pub/databases/gencode/Gencode_human/release_38/gencode.v38.transcripts.fa.gz"
   ]
  },
  {
   "cell_type": "code",
   "execution_count": 34,
   "id": "6f0f3f73",
   "metadata": {},
   "outputs": [],
   "source": [
    "#%%bash\n",
    "#cd /drives/raid/AboobakerLab/jakke/sexual_genome_annotation_files/blast_annotation\n",
    "#gunzip gencode.v38.transcripts.fa.gz"
   ]
  },
  {
   "cell_type": "code",
   "execution_count": 39,
   "id": "07b3a7c0",
   "metadata": {},
   "outputs": [
    {
     "name": "stdout",
     "output_type": "stream",
     "text": [
      ">ENST00000456328.2|ENSG00000223972.5|OTTHUMG00000000961.2|OTTHUMT00000362751.1|DDX11L1-202|DDX11L1|1657|processed_transcript|\n",
      "GTTAACTTGCCGTCAGCCTTTTCTTTGACCTCTTCTTTCTGTTCATGTGTATTTGCTGTC\n",
      "TCTTAGCCCAGACTTCCCGTGTCCTTTCCACCGGGCCTTTGAGAGGTCACAGGGTCTTGA\n",
      "TGCTGTGGTCTTCATCTGCAGGTGTCTGACTTCCAGCAACTGCTGGCCTGTGCCAGGGTG\n",
      "CAAGCTGAGCACTGGAGTGGAGTTTTCCTGTGGAGAGGAGCCATGCCTAGAGTGGGATGG\n",
      "GCCATTGTTCATCTTCTGGCCCCTGTTGTCTGCATGTAACTTAATACCACAACCAGGCAT\n",
      "AGGGGAAAGATTGGAGGAAAGATGAGTGAGAGCATCAACTTCTCTCACAACCTAGGCCAG\n",
      "TGTGTGGTGATGCCAGGCATGCCCTTCCCCAGCATCAGGTCTCCAGAGCTGCAGAAGACG\n",
      "ACGGCCGACTTGGATCACACTCTTGTGAGTGTCCCCAGTGTTGCAGAGGCAGGGCCATCA\n",
      "GGCACCAAAGGGATTCTGCCAGCATAGTGCTCCTGGACCAGTGATACACCCGGCACCCTG\n"
     ]
    }
   ],
   "source": [
    "%%bash\n",
    "cd /drives/raid/AboobakerLab/jakke/sexual_genome_annotation_files/blast_annotation\n",
    "head gencode.v38.transcripts.fa"
   ]
  },
  {
   "cell_type": "code",
   "execution_count": 16,
   "id": "62412abf",
   "metadata": {},
   "outputs": [],
   "source": [
    "#%%bash\n",
    "#cd /drives/raid/AboobakerLab/jakke/sexual_genome_annotation_files/blast_annotation\n",
    "#makeblastdb -in GCF_000001405.39_GRCh38.p13_rna.fna -parse_seqids -blastdb_version 5 -dbtype nucl"
   ]
  },
  {
   "cell_type": "code",
   "execution_count": 42,
   "id": "da1a114b",
   "metadata": {},
   "outputs": [],
   "source": [
    "#%%bash\n",
    "#cd /drives/raid/AboobakerLab/jakke/sexual_genome_annotation_files/blast_annotation\n",
    "#makeblastdb -in gencode_transcripts.fa -parse_seqids -blastdb_version 5 -dbtype nucl"
   ]
  },
  {
   "cell_type": "code",
   "execution_count": 25,
   "id": "33bd26cf",
   "metadata": {},
   "outputs": [
    {
     "name": "stdout",
     "output_type": "stream",
     "text": [
      "#!/bin/bash\n",
      "blastn -query /drives/raid/AboobakerLab/jakke/FACS/noncoding_transcripts.fa -db GCF_000001405.39_GRCh38.p13_rna.fna -out noncodinghuman_blast.tab -outfmt 6\n"
     ]
    }
   ],
   "source": [
    "%%bash\n",
    "cd /drives/raid/AboobakerLab/jakke/sexual_genome_annotation_files/blast_annotation\n",
    "echo \"#!/bin/bash\" > blast_noncodinghuman.sh\n",
    "echo \"blastn -query /drives/raid/AboobakerLab/jakke/FACS/noncoding_transcripts.fa -db GCF_000001405.39_GRCh38.p13_rna.fna -out noncodinghuman_blast.tab -outfmt 6\" >> blast_noncodinghuman.sh\n",
    "chmod +x blast_noncodinghuman.sh\n",
    "less blast_noncodinghuman.sh"
   ]
  },
  {
   "cell_type": "code",
   "execution_count": 44,
   "id": "c402fe67",
   "metadata": {},
   "outputs": [
    {
     "name": "stdout",
     "output_type": "stream",
     "text": [
      "#!/bin/bash\n",
      "blastn -query /drives/raid/AboobakerLab/jakke/FACS/noncoding_transcripts.fa -db gencode_transcripts.fa -out noncodinghuman_blast_2.tab -outfmt 6\n"
     ]
    }
   ],
   "source": [
    "%%bash\n",
    "cd /drives/raid/AboobakerLab/jakke/sexual_genome_annotation_files/blast_annotation\n",
    "echo \"#!/bin/bash\" > blast_noncodinghuman_2.sh\n",
    "echo \"blastn -query /drives/raid/AboobakerLab/jakke/FACS/noncoding_transcripts.fa -db gencode_transcripts.fa -out noncodinghuman_blast_2.tab -outfmt 6\" >> blast_noncodinghuman_2.sh\n",
    "chmod +x blast_noncodinghuman_2.sh\n",
    "less blast_noncodinghuman_2.sh"
   ]
  },
  {
   "cell_type": "code",
   "execution_count": 18,
   "id": "e825001c",
   "metadata": {},
   "outputs": [],
   "source": [
    "#%%bash\n",
    "#cd /drives/raid/AboobakerLab/jakke/sexual_genome_annotation_files/blast_annotation\n",
    "#nohup ./blast_noncodinghuman.sh &"
   ]
  },
  {
   "cell_type": "code",
   "execution_count": null,
   "id": "ca22cbf5",
   "metadata": {},
   "outputs": [],
   "source": [
    "#%%bash\n",
    "#cd /drives/raid/AboobakerLab/jakke/sexual_genome_annotation_files/blast_annotation\n",
    "#nohup ./blast_noncodinghuman_2.sh &"
   ]
  },
  {
   "cell_type": "markdown",
   "id": "30c49976",
   "metadata": {},
   "source": [
    "## 2.2 Processing results"
   ]
  },
  {
   "cell_type": "markdown",
   "id": "1758e081",
   "metadata": {},
   "source": [
    "### 2.2.1 Coding results"
   ]
  },
  {
   "cell_type": "markdown",
   "id": "1ff2fb14",
   "metadata": {},
   "source": [
    "The results file were split up to make computations easier: "
   ]
  },
  {
   "cell_type": "code",
   "execution_count": 12,
   "id": "adc2120f",
   "metadata": {},
   "outputs": [
    {
     "name": "stdout",
     "output_type": "stream",
     "text": [
      "2000000 stringtie2human_blast_1.tab\n",
      "2000000 stringtie2human_blast_2.tab\n",
      "2000000 stringtie2human_blast_3.tab\n",
      "2000000 stringtie2human_blast_4.tab\n",
      "2000000 stringtie2human_blast_5.tab\n",
      "2000000 stringtie2human_blast_6.tab\n",
      "2000000 stringtie2human_blast_7.tab\n",
      "2000000 stringtie2human_blast_8.tab\n",
      "3530460 stringtie2human_blast_9.tab\n"
     ]
    }
   ],
   "source": [
    "%%bash\n",
    "cd /hydra/sexual_genome_annotation_files/blast_annotation\n",
    "head -2000000 stringtie2human_blast.tab > stringtie2human_blast_1.tab\n",
    "wc -l stringtie2human_blast_1.tab\n",
    "head -4000000 stringtie2human_blast.tab | tail -2000000 - > stringtie2human_blast_2.tab\n",
    "wc -l stringtie2human_blast_2.tab\n",
    "head -6000000 stringtie2human_blast.tab | tail -2000000 - > stringtie2human_blast_3.tab\n",
    "wc -l stringtie2human_blast_3.tab\n",
    "head -8000000 stringtie2human_blast.tab | tail -2000000 - > stringtie2human_blast_4.tab\n",
    "wc -l stringtie2human_blast_4.tab\n",
    "head -10000000 stringtie2human_blast.tab | tail -2000000 - > stringtie2human_blast_5.tab\n",
    "wc -l stringtie2human_blast_5.tab\n",
    "head -12000000 stringtie2human_blast.tab | tail -2000000 - > stringtie2human_blast_6.tab\n",
    "wc -l stringtie2human_blast_6.tab\n",
    "head -14000000 stringtie2human_blast.tab | tail -2000000 - > stringtie2human_blast_7.tab\n",
    "wc -l stringtie2human_blast_7.tab\n",
    "head -16000000 stringtie2human_blast.tab | tail -2000000 - > stringtie2human_blast_8.tab\n",
    "wc -l stringtie2human_blast_8.tab\n",
    "head -19530460 stringtie2human_blast.tab | tail -3530460 - > stringtie2human_blast_9.tab\n",
    "wc -l stringtie2human_blast_9.tab"
   ]
  },
  {
   "cell_type": "markdown",
   "id": "6d5156c5",
   "metadata": {},
   "source": [
    "The best hit for each planarian transcript was selected: "
   ]
  },
  {
   "cell_type": "code",
   "execution_count": null,
   "id": "0a8b8d89",
   "metadata": {},
   "outputs": [],
   "source": [
    "import pandas as pd\n",
    "for i in range(1,10):\n",
    "    human = pd.read_csv(\"/hydra/sexual_genome_annotation_files/blast_annotation/stringtie2human_blast_\"+str(i)+\".tab\", sep=\"\\t\", header=None)\n",
    "    human.columns = [\"Seqid\", \"qid\", \"Per\", \"Len\", \"Mis\", \"Gap\", \"Startq\", \"Endq\", \"Starts\", \"Ends\", \"E\", \"Bit\"]\n",
    "    human = human.loc[human.groupby(\"Seqid\")[\"Bit\"].idxmax()]\n",
    "    human.to_csv(\"/hydra/sexual_genome_annotation_files/blast_annotation/human\"+str(i)+\".tab\", sep=\"\\t\", index=False, header=None)\n",
    "    print(i)\n",
    "    print(len(human))"
   ]
  },
  {
   "cell_type": "code",
   "execution_count": 39,
   "id": "7447f355",
   "metadata": {},
   "outputs": [],
   "source": [
    "%%bash\n",
    "cd /hydra/sexual_genome_annotation_files/blast_annotation\n",
    "cat human1.tab human2.tab human3.tab human4.tab human5.tab human6.tab human7.tab human8.tab human9.tab > human_filtered.tab"
   ]
  },
  {
   "cell_type": "code",
   "execution_count": 40,
   "id": "a9fa6200",
   "metadata": {},
   "outputs": [
    {
     "name": "stdout",
     "output_type": "stream",
     "text": [
      "MSTRG.1.2\tENSP00000340164.3\t49.057\t106\t54\t0\t144\t461\t22\t127\t2.21e-26\t103.0\n",
      "MSTRG.1.3\tENSP00000341213.3\t56.863\t51\t22\t0\t7\t159\t22\t72\t1.13e-14\t71.2\n",
      "MSTRG.100.2\tENSP00000360672.2\t56.087\t230\t99\t2\t103\t789\t23\t251\t5.88e-69\t224.0\n",
      "MSTRG.1000.1\tENSP00000481080.2\t64.706\t119\t42\t0\t77\t433\t1284\t1402\t1.66e-46\t167.0\n",
      "MSTRG.1001.1\tENSP00000427521.1\t33.654\t208\t135\t2\t173\t793\t283\t488\t5.1999999999999994e-23\t100.0\n",
      "MSTRG.1001.10\tENSP00000498265.2\t37.037\t54\t33\t1\t1415\t1254\t1848\t1900\t6.5\t31.2\n",
      "MSTRG.1001.3\tENSP00000395160.1\t29.437\t231\t145\t3\t538\t1221\t270\t485\t1.45e-18\t89.4\n",
      "MSTRG.1001.4\tENSP00000285238.8\t34.711\t121\t79\t0\t2\t364\t334\t454\t1.65e-15\t76.3\n",
      "MSTRG.1001.5\tENSP00000507301.1\t30.0\t60\t42\t0\t2\t181\t334\t393\t0.000557\t39.3\n",
      "MSTRG.1001.6\tENSP00000481080.2\t30.769\t78\t49\t2\t752\t976\t83\t158\t0.000578\t43.9\n"
     ]
    }
   ],
   "source": [
    "%%bash\n",
    "cd /hydra/sexual_genome_annotation_files/blast_annotation\n",
    "head human_filtered.tab"
   ]
  },
  {
   "cell_type": "code",
   "execution_count": 46,
   "id": "3d4a84d6",
   "metadata": {},
   "outputs": [],
   "source": [
    "human = pd.read_csv(\"/hydra/sexual_genome_annotation_files/blast_annotation/human_filtered.tab\", sep=\"\\t\", header=None)\n",
    "human.columns = [\"Seqid\", \"qid\", \"Per\", \"Len\", \"Mis\", \"Gap\", \"Startq\", \"Endq\", \"Starts\", \"Ends\", \"E\", \"Bit\"]\n",
    "human = human.loc[human.groupby(\"Seqid\")[\"Bit\"].idxmax()]\n",
    "human.to_csv(\"/hydra/sexual_genome_annotation_files/blast_annotation/human_final.tab\", sep=\"\\t\", index=False)"
   ]
  },
  {
   "cell_type": "code",
   "execution_count": 19,
   "id": "0d6a939a",
   "metadata": {},
   "outputs": [],
   "source": [
    "human = pd.read_csv(\"/drives/raid/AboobakerLab/jakke/sexual_genome_annotation_files/blast_annotation/human_final.tab\", sep=\"\\t\")\n",
    "human[human[\"E\"] < 10**(-10)].to_csv(\"/drives/raid/AboobakerLab/jakke/sexual_genome_annotation_files/blast_annotation/human_final_e10.tab\", sep=\"\\t\", index=False)"
   ]
  },
  {
   "cell_type": "markdown",
   "id": "f08d4479",
   "metadata": {},
   "source": [
    "Gene symbols and gene names were assigned to all hits: "
   ]
  },
  {
   "cell_type": "code",
   "execution_count": 1,
   "id": "c00ce4b1",
   "metadata": {},
   "outputs": [],
   "source": [
    "import pandas as pd\n",
    "human = pd.read_csv(\"/hydra/sexual_genome_annotation_files/blast_annotation/human_final.tab\", sep=\"\\t\")"
   ]
  },
  {
   "cell_type": "code",
   "execution_count": 2,
   "id": "3377d1f9",
   "metadata": {},
   "outputs": [],
   "source": [
    "import pandas as pd\n",
    "mart = pd.read_csv(\"/hydra/sexual_genome_annotation_files/blast_annotation/mart.tsv\", sep=\"\\t\")"
   ]
  },
  {
   "cell_type": "code",
   "execution_count": null,
   "id": "4de497a5",
   "metadata": {},
   "outputs": [],
   "source": [
    "human[\"Gene\"] = \"a\"\n",
    "human[\"Description\"] = \"a\"\n",
    "human[\"Synonym\"] = \"a\"\n",
    "human[\"Symbol\"] = \"a\"\n",
    "for i in range(len(human)):\n",
    "    qid = human.iloc[i, 1].split(\".\")[0]\n",
    "    table = mart[mart.iloc[:,4] == qid]\n",
    "    human.iloc[i, 12] = table.iloc[0, 7]\n",
    "    human.iloc[i, 13] = table.iloc[0, 6]\n",
    "    human.iloc[i, 14] = table.iloc[0, 9]\n",
    "    human.iloc[i, 15] = table.iloc[0, 10]\n",
    "    if i%100 == 1:\n",
    "        print(i)\n",
    "human.to_csv(\"/hydra/sexual_genome_annotation_files/blast_annotation/human_annotated_blast.tab\", sep=\"\\t\", index=False)"
   ]
  },
  {
   "cell_type": "markdown",
   "id": "3b5fb2ea",
   "metadata": {},
   "source": [
    "A table with planarian gene IDs and homologous human gene names and symbols was generated: "
   ]
  },
  {
   "cell_type": "code",
   "execution_count": 2,
   "id": "a0d35d75",
   "metadata": {},
   "outputs": [],
   "source": [
    "import pandas as pd\n",
    "human = pd.read_csv(\"/hydra/sexual_genome_annotation_files/blast_annotation/human_annotated_blast.tab\", sep=\"\\t\")"
   ]
  },
  {
   "cell_type": "code",
   "execution_count": 3,
   "id": "6e038036",
   "metadata": {},
   "outputs": [],
   "source": [
    "import pandas as pd\n",
    "gffcmp = pd.read_csv(\"/hydra/sexual_genome_annotation_files/ncrna_Neiro/gffcmp.stringtie_merged.gtf.tmap\", sep=\"\\t\")\n",
    "gene2transcript = gffcmp.iloc[:,[0,3,4]]"
   ]
  },
  {
   "cell_type": "code",
   "execution_count": null,
   "id": "ae029744",
   "metadata": {},
   "outputs": [],
   "source": [
    "human[\"geneID\"] = \"a\"\n",
    "for i in range(len(human)):\n",
    "    seqid= human.iloc[i, 0]\n",
    "    human.iloc[i, 16] = gene2transcript[gene2transcript.iloc[:,2] == seqid].iloc[0,1]\n",
    "    if i%1000 == 1:\n",
    "        print(i)\n",
    "human.to_csv(\"/hydra/sexual_genome_annotation_files/blast_annotation/human_gene_blast.tab\", sep=\"\\t\", index=False)"
   ]
  },
  {
   "cell_type": "code",
   "execution_count": 1,
   "id": "ce321e82",
   "metadata": {},
   "outputs": [],
   "source": [
    "import pandas as pd\n",
    "human_gene_blast = pd.read_csv(\"/drives/raid/AboobakerLab/jakke/sexual_genome_annotation_files/blast_annotation/human_gene_blast.tab\", sep=\"\\t\")"
   ]
  },
  {
   "cell_type": "code",
   "execution_count": 2,
   "id": "7ecb503e",
   "metadata": {},
   "outputs": [
    {
     "data": {
      "text/html": [
       "<div>\n",
       "<style scoped>\n",
       "    .dataframe tbody tr th:only-of-type {\n",
       "        vertical-align: middle;\n",
       "    }\n",
       "\n",
       "    .dataframe tbody tr th {\n",
       "        vertical-align: top;\n",
       "    }\n",
       "\n",
       "    .dataframe thead th {\n",
       "        text-align: right;\n",
       "    }\n",
       "</style>\n",
       "<table border=\"1\" class=\"dataframe\">\n",
       "  <thead>\n",
       "    <tr style=\"text-align: right;\">\n",
       "      <th></th>\n",
       "      <th>Seqid</th>\n",
       "      <th>qid</th>\n",
       "      <th>Per</th>\n",
       "      <th>Len</th>\n",
       "      <th>Mis</th>\n",
       "      <th>Gap</th>\n",
       "      <th>Startq</th>\n",
       "      <th>Endq</th>\n",
       "      <th>Starts</th>\n",
       "      <th>Ends</th>\n",
       "      <th>E</th>\n",
       "      <th>Bit</th>\n",
       "      <th>Gene</th>\n",
       "      <th>Description</th>\n",
       "      <th>Synonym</th>\n",
       "      <th>Symbol</th>\n",
       "      <th>geneID</th>\n",
       "    </tr>\n",
       "  </thead>\n",
       "  <tbody>\n",
       "    <tr>\n",
       "      <th>0</th>\n",
       "      <td>MSTRG.1.2</td>\n",
       "      <td>ENSP00000340164.3</td>\n",
       "      <td>49.057</td>\n",
       "      <td>106</td>\n",
       "      <td>54</td>\n",
       "      <td>0</td>\n",
       "      <td>144</td>\n",
       "      <td>461</td>\n",
       "      <td>22</td>\n",
       "      <td>127</td>\n",
       "      <td>2.210000e-26</td>\n",
       "      <td>103.0</td>\n",
       "      <td>RAB5IF</td>\n",
       "      <td>RAB5 interacting factor [Source:HGNC Symbol;Ac...</td>\n",
       "      <td>C20orf24</td>\n",
       "      <td>RAB5IF</td>\n",
       "      <td>MSTRG.1</td>\n",
       "    </tr>\n",
       "    <tr>\n",
       "      <th>1</th>\n",
       "      <td>MSTRG.1.3</td>\n",
       "      <td>ENSP00000341213.3</td>\n",
       "      <td>56.863</td>\n",
       "      <td>51</td>\n",
       "      <td>22</td>\n",
       "      <td>0</td>\n",
       "      <td>7</td>\n",
       "      <td>159</td>\n",
       "      <td>22</td>\n",
       "      <td>72</td>\n",
       "      <td>1.130000e-14</td>\n",
       "      <td>71.2</td>\n",
       "      <td>RAB5IF</td>\n",
       "      <td>RAB5 interacting factor [Source:HGNC Symbol;Ac...</td>\n",
       "      <td>C20orf24</td>\n",
       "      <td>RAB5IF</td>\n",
       "      <td>MSTRG.1</td>\n",
       "    </tr>\n",
       "    <tr>\n",
       "      <th>2</th>\n",
       "      <td>MSTRG.100.2</td>\n",
       "      <td>ENSP00000360672.2</td>\n",
       "      <td>56.087</td>\n",
       "      <td>230</td>\n",
       "      <td>99</td>\n",
       "      <td>2</td>\n",
       "      <td>103</td>\n",
       "      <td>789</td>\n",
       "      <td>23</td>\n",
       "      <td>251</td>\n",
       "      <td>5.880000e-69</td>\n",
       "      <td>224.0</td>\n",
       "      <td>PARD6B</td>\n",
       "      <td>par-6 family cell polarity regulator beta [Sou...</td>\n",
       "      <td>PAR-6B</td>\n",
       "      <td>PARD6B</td>\n",
       "      <td>MSTRG.100</td>\n",
       "    </tr>\n",
       "    <tr>\n",
       "      <th>3</th>\n",
       "      <td>MSTRG.1000.1</td>\n",
       "      <td>ENSP00000481080.2</td>\n",
       "      <td>64.706</td>\n",
       "      <td>119</td>\n",
       "      <td>42</td>\n",
       "      <td>0</td>\n",
       "      <td>77</td>\n",
       "      <td>433</td>\n",
       "      <td>1284</td>\n",
       "      <td>1402</td>\n",
       "      <td>1.660000e-46</td>\n",
       "      <td>167.0</td>\n",
       "      <td>ABCC1</td>\n",
       "      <td>ATP binding cassette subfamily C member 1 [Sou...</td>\n",
       "      <td>GS-X</td>\n",
       "      <td>ABCC1</td>\n",
       "      <td>MSTRG.1000</td>\n",
       "    </tr>\n",
       "    <tr>\n",
       "      <th>4</th>\n",
       "      <td>MSTRG.10000.2</td>\n",
       "      <td>ENSP00000371462.1</td>\n",
       "      <td>22.482</td>\n",
       "      <td>427</td>\n",
       "      <td>273</td>\n",
       "      <td>15</td>\n",
       "      <td>312</td>\n",
       "      <td>1484</td>\n",
       "      <td>126</td>\n",
       "      <td>530</td>\n",
       "      <td>1.180000e-13</td>\n",
       "      <td>77.8</td>\n",
       "      <td>MAP1A</td>\n",
       "      <td>microtubule associated protein 1A [Source:HGNC...</td>\n",
       "      <td>MAP1L</td>\n",
       "      <td>MAP1A</td>\n",
       "      <td>MSTRG.10000</td>\n",
       "    </tr>\n",
       "    <tr>\n",
       "      <th>...</th>\n",
       "      <td>...</td>\n",
       "      <td>...</td>\n",
       "      <td>...</td>\n",
       "      <td>...</td>\n",
       "      <td>...</td>\n",
       "      <td>...</td>\n",
       "      <td>...</td>\n",
       "      <td>...</td>\n",
       "      <td>...</td>\n",
       "      <td>...</td>\n",
       "      <td>...</td>\n",
       "      <td>...</td>\n",
       "      <td>...</td>\n",
       "      <td>...</td>\n",
       "      <td>...</td>\n",
       "      <td>...</td>\n",
       "      <td>...</td>\n",
       "    </tr>\n",
       "    <tr>\n",
       "      <th>78753</th>\n",
       "      <td>SMEST081995001.1</td>\n",
       "      <td>ENSP00000415336.2</td>\n",
       "      <td>25.794</td>\n",
       "      <td>535</td>\n",
       "      <td>332</td>\n",
       "      <td>9</td>\n",
       "      <td>857</td>\n",
       "      <td>2338</td>\n",
       "      <td>61</td>\n",
       "      <td>571</td>\n",
       "      <td>1.240000e-64</td>\n",
       "      <td>228.0</td>\n",
       "      <td>ATL2</td>\n",
       "      <td>atlastin GTPase 2 [Source:HGNC Symbol;Acc:HGNC...</td>\n",
       "      <td>ARL6IP2</td>\n",
       "      <td>ATL2</td>\n",
       "      <td>SMESG000081995.1</td>\n",
       "    </tr>\n",
       "    <tr>\n",
       "      <th>78754</th>\n",
       "      <td>SMEST081995002.1</td>\n",
       "      <td>ENSP00000368237.4</td>\n",
       "      <td>26.511</td>\n",
       "      <td>513</td>\n",
       "      <td>319</td>\n",
       "      <td>8</td>\n",
       "      <td>857</td>\n",
       "      <td>2293</td>\n",
       "      <td>61</td>\n",
       "      <td>549</td>\n",
       "      <td>7.440000e-66</td>\n",
       "      <td>231.0</td>\n",
       "      <td>ATL2</td>\n",
       "      <td>atlastin GTPase 2 [Source:HGNC Symbol;Acc:HGNC...</td>\n",
       "      <td>ARL6IP2</td>\n",
       "      <td>ATL2</td>\n",
       "      <td>SMESG000081995.1</td>\n",
       "    </tr>\n",
       "    <tr>\n",
       "      <th>78755</th>\n",
       "      <td>SMEST081995003.1</td>\n",
       "      <td>ENSP00000390743.2</td>\n",
       "      <td>26.195</td>\n",
       "      <td>523</td>\n",
       "      <td>328</td>\n",
       "      <td>8</td>\n",
       "      <td>2890</td>\n",
       "      <td>4356</td>\n",
       "      <td>33</td>\n",
       "      <td>531</td>\n",
       "      <td>3.850000e-64</td>\n",
       "      <td>231.0</td>\n",
       "      <td>ATL2</td>\n",
       "      <td>atlastin GTPase 2 [Source:HGNC Symbol;Acc:HGNC...</td>\n",
       "      <td>ARL6IP2</td>\n",
       "      <td>ATL2</td>\n",
       "      <td>SMESG000081995.1</td>\n",
       "    </tr>\n",
       "    <tr>\n",
       "      <th>78756</th>\n",
       "      <td>SMEST081995005.1</td>\n",
       "      <td>ENSP00000415336.2</td>\n",
       "      <td>26.535</td>\n",
       "      <td>505</td>\n",
       "      <td>312</td>\n",
       "      <td>7</td>\n",
       "      <td>1620</td>\n",
       "      <td>3035</td>\n",
       "      <td>73</td>\n",
       "      <td>551</td>\n",
       "      <td>2.450000e-63</td>\n",
       "      <td>228.0</td>\n",
       "      <td>ATL2</td>\n",
       "      <td>atlastin GTPase 2 [Source:HGNC Symbol;Acc:HGNC...</td>\n",
       "      <td>ARL6IP2</td>\n",
       "      <td>ATL2</td>\n",
       "      <td>SMESG000081995.1</td>\n",
       "    </tr>\n",
       "    <tr>\n",
       "      <th>78757</th>\n",
       "      <td>SMEST081995006.1</td>\n",
       "      <td>ENSP00000415336.2</td>\n",
       "      <td>25.992</td>\n",
       "      <td>504</td>\n",
       "      <td>314</td>\n",
       "      <td>7</td>\n",
       "      <td>1982</td>\n",
       "      <td>3394</td>\n",
       "      <td>73</td>\n",
       "      <td>550</td>\n",
       "      <td>5.830000e-63</td>\n",
       "      <td>227.0</td>\n",
       "      <td>ATL2</td>\n",
       "      <td>atlastin GTPase 2 [Source:HGNC Symbol;Acc:HGNC...</td>\n",
       "      <td>ARL6IP2</td>\n",
       "      <td>ATL2</td>\n",
       "      <td>SMESG000081995.1</td>\n",
       "    </tr>\n",
       "  </tbody>\n",
       "</table>\n",
       "<p>78758 rows × 17 columns</p>\n",
       "</div>"
      ],
      "text/plain": [
       "                  Seqid                qid     Per  Len  Mis  Gap  Startq  \\\n",
       "0             MSTRG.1.2  ENSP00000340164.3  49.057  106   54    0     144   \n",
       "1             MSTRG.1.3  ENSP00000341213.3  56.863   51   22    0       7   \n",
       "2           MSTRG.100.2  ENSP00000360672.2  56.087  230   99    2     103   \n",
       "3          MSTRG.1000.1  ENSP00000481080.2  64.706  119   42    0      77   \n",
       "4         MSTRG.10000.2  ENSP00000371462.1  22.482  427  273   15     312   \n",
       "...                 ...                ...     ...  ...  ...  ...     ...   \n",
       "78753  SMEST081995001.1  ENSP00000415336.2  25.794  535  332    9     857   \n",
       "78754  SMEST081995002.1  ENSP00000368237.4  26.511  513  319    8     857   \n",
       "78755  SMEST081995003.1  ENSP00000390743.2  26.195  523  328    8    2890   \n",
       "78756  SMEST081995005.1  ENSP00000415336.2  26.535  505  312    7    1620   \n",
       "78757  SMEST081995006.1  ENSP00000415336.2  25.992  504  314    7    1982   \n",
       "\n",
       "       Endq  Starts  Ends             E    Bit    Gene  \\\n",
       "0       461      22   127  2.210000e-26  103.0  RAB5IF   \n",
       "1       159      22    72  1.130000e-14   71.2  RAB5IF   \n",
       "2       789      23   251  5.880000e-69  224.0  PARD6B   \n",
       "3       433    1284  1402  1.660000e-46  167.0   ABCC1   \n",
       "4      1484     126   530  1.180000e-13   77.8   MAP1A   \n",
       "...     ...     ...   ...           ...    ...     ...   \n",
       "78753  2338      61   571  1.240000e-64  228.0    ATL2   \n",
       "78754  2293      61   549  7.440000e-66  231.0    ATL2   \n",
       "78755  4356      33   531  3.850000e-64  231.0    ATL2   \n",
       "78756  3035      73   551  2.450000e-63  228.0    ATL2   \n",
       "78757  3394      73   550  5.830000e-63  227.0    ATL2   \n",
       "\n",
       "                                             Description   Synonym  Symbol  \\\n",
       "0      RAB5 interacting factor [Source:HGNC Symbol;Ac...  C20orf24  RAB5IF   \n",
       "1      RAB5 interacting factor [Source:HGNC Symbol;Ac...  C20orf24  RAB5IF   \n",
       "2      par-6 family cell polarity regulator beta [Sou...    PAR-6B  PARD6B   \n",
       "3      ATP binding cassette subfamily C member 1 [Sou...      GS-X   ABCC1   \n",
       "4      microtubule associated protein 1A [Source:HGNC...     MAP1L   MAP1A   \n",
       "...                                                  ...       ...     ...   \n",
       "78753  atlastin GTPase 2 [Source:HGNC Symbol;Acc:HGNC...   ARL6IP2    ATL2   \n",
       "78754  atlastin GTPase 2 [Source:HGNC Symbol;Acc:HGNC...   ARL6IP2    ATL2   \n",
       "78755  atlastin GTPase 2 [Source:HGNC Symbol;Acc:HGNC...   ARL6IP2    ATL2   \n",
       "78756  atlastin GTPase 2 [Source:HGNC Symbol;Acc:HGNC...   ARL6IP2    ATL2   \n",
       "78757  atlastin GTPase 2 [Source:HGNC Symbol;Acc:HGNC...   ARL6IP2    ATL2   \n",
       "\n",
       "                 geneID  \n",
       "0               MSTRG.1  \n",
       "1               MSTRG.1  \n",
       "2             MSTRG.100  \n",
       "3            MSTRG.1000  \n",
       "4           MSTRG.10000  \n",
       "...                 ...  \n",
       "78753  SMESG000081995.1  \n",
       "78754  SMESG000081995.1  \n",
       "78755  SMESG000081995.1  \n",
       "78756  SMESG000081995.1  \n",
       "78757  SMESG000081995.1  \n",
       "\n",
       "[78758 rows x 17 columns]"
      ]
     },
     "execution_count": 2,
     "metadata": {},
     "output_type": "execute_result"
    }
   ],
   "source": [
    "human_gene_blast"
   ]
  },
  {
   "cell_type": "code",
   "execution_count": 8,
   "id": "9459a60b",
   "metadata": {},
   "outputs": [
    {
     "data": {
      "text/plain": [
       "1e-10"
      ]
     },
     "execution_count": 8,
     "metadata": {},
     "output_type": "execute_result"
    }
   ],
   "source": [
    "10**(-10)"
   ]
  },
  {
   "cell_type": "code",
   "execution_count": 10,
   "id": "441fc2bb",
   "metadata": {},
   "outputs": [],
   "source": [
    "human_gene_blast[human_gene_blast[\"E\"] < 10**(-10)].to_csv(\"/drives/raid/AboobakerLab/jakke/sexual_genome_annotation_files/blast_annotation/human_gene_blast_e10.tab\", sep=\"\\t\", index=False)"
   ]
  },
  {
   "cell_type": "markdown",
   "id": "00aa90ba",
   "metadata": {},
   "source": [
    "### 2.2.2 Non-coding results"
   ]
  },
  {
   "cell_type": "code",
   "execution_count": 46,
   "id": "1e611d1e",
   "metadata": {},
   "outputs": [
    {
     "name": "stdout",
     "output_type": "stream",
     "text": [
      "-rw-r--r-- 1 quee4048 domain users 95191 Nov  5 17:23 noncodinghuman_blast.tab\n"
     ]
    }
   ],
   "source": [
    "%%bash\n",
    "cd /drives/raid/AboobakerLab/jakke/sexual_genome_annotation_files/blast_annotation\n",
    "ls -l noncodinghuman_blast.tab "
   ]
  },
  {
   "cell_type": "code",
   "execution_count": 50,
   "id": "5374b5d8",
   "metadata": {},
   "outputs": [],
   "source": [
    "import pandas as pd\n",
    "human_non = pd.read_csv(\"/drives/raid/AboobakerLab/jakke/sexual_genome_annotation_files/blast_annotation/noncodinghuman_blast.tab\", sep=\"\\t\", header=None)\n",
    "human_non.columns = [\"Seqid\", \"qid\", \"Per\", \"Len\", \"Mis\", \"Gap\", \"Startq\", \"Endq\", \"Starts\", \"Ends\", \"E\", \"Bit\"]\n",
    "human_non = human_non.loc[human_non.groupby(\"Seqid\")[\"Bit\"].idxmax()]\n",
    "human_non.to_csv(\"/drives/raid/AboobakerLab/jakke/sexual_genome_annotation_files/blast_annotation/human_noncod_final.tab\", sep=\"\\t\", index=False)"
   ]
  },
  {
   "cell_type": "code",
   "execution_count": 33,
   "id": "066709c1",
   "metadata": {},
   "outputs": [],
   "source": [
    "import pandas as pd\n",
    "human_non = pd.read_csv(\"/drives/raid/AboobakerLab/jakke/sexual_genome_annotation_files/blast_annotation/noncodinghuman_blast.tab\", sep=\"\\t\", header=None)\n",
    "human_non.columns = [\"Seqid\", \"qid\", \"Per\", \"Len\", \"Mis\", \"Gap\", \"Startq\", \"Endq\", \"Starts\", \"Ends\", \"E\", \"Bit\"]\n",
    "human_non = human_non.loc[human_non.groupby(\"Seqid\")[\"Bit\"].idxmax()]\n",
    "human_non[human_non[\"E\"] < 10**(-5)].to_csv(\"/drives/raid/AboobakerLab/jakke/sexual_genome_annotation_files/blast_annotation/human_noncod_final_e10.tab\", sep=\"\\t\", index=False)"
   ]
  },
  {
   "cell_type": "markdown",
   "id": "131c7186",
   "metadata": {},
   "source": [
    "# 3. Transcriptomes of Schmidtea and Dugesia"
   ]
  },
  {
   "cell_type": "markdown",
   "id": "c8e3e543",
   "metadata": {},
   "source": [
    "## 3.1 BLAST to Dugesia japonica"
   ]
  },
  {
   "cell_type": "code",
   "execution_count": 4,
   "id": "ea0dcf9a",
   "metadata": {},
   "outputs": [],
   "source": [
    "#%%bash\n",
    "#cd /hydra/Dugesia/TF_interpro\n",
    "#gffread -w Dugesia_transcripts.fa -g /hydra/Dugesia/Dj_genome_v1.fasta /hydra/Dugesia/Dugesia_Oxford_v1.gtf"
   ]
  },
  {
   "cell_type": "code",
   "execution_count": 5,
   "id": "2c22fcc7",
   "metadata": {},
   "outputs": [
    {
     "name": "stdout",
     "output_type": "stream",
     "text": [
      "Dugesia_transcripts.fa\n"
     ]
    }
   ],
   "source": [
    "%%bash\n",
    "cd /hydra/Dugesia/TF_interpro\n",
    "ls *fa"
   ]
  },
  {
   "cell_type": "code",
   "execution_count": 2,
   "id": "afbae87e",
   "metadata": {},
   "outputs": [
    {
     "name": "stdout",
     "output_type": "stream",
     "text": [
      "\n",
      "\n",
      "Building a new DB, current time: 08/01/2021 21:43:57\n",
      "New DB name:   /hydra/Dugesia/TF_interpro/Dugesia_transcripts.fa\n",
      "New DB title:  Dugesia_transcripts.fa\n",
      "Sequence type: Nucleotide\n",
      "Keep MBits: T\n",
      "Maximum file size: 1000000000B\n",
      "Adding sequences from FASTA; added 70353 sequences in 4.98477 seconds.\n"
     ]
    }
   ],
   "source": [
    "%%bash\n",
    "cd /hydra/Dugesia/TF_interpro\n",
    "makeblastdb -in Dugesia_transcripts.fa -parse_seqids -dbtype nucl"
   ]
  },
  {
   "cell_type": "code",
   "execution_count": 6,
   "id": "bf37ec97",
   "metadata": {},
   "outputs": [
    {
     "name": "stdout",
     "output_type": "stream",
     "text": [
      "#!/bin/bash\n",
      "blastn -query /hydra/FACS/stringtie_transcripts.fa -db Dugesia_transcripts.fa -outfmt 6 -out smed_to_djap_trans.out -num_threads 8\n"
     ]
    }
   ],
   "source": [
    "%%bash\n",
    "cd /hydra/Dugesia/TF_interpro\n",
    "echo \"#!/bin/bash\" > blast_smeddjap.sh\n",
    "echo \"blastn -query /hydra/FACS/stringtie_transcripts.fa -db Dugesia_transcripts.fa -outfmt 6 -out smed_to_djap_trans.out -num_threads 8\" >> blast_smeddjap.sh\n",
    "chmod +x blast_smeddjap.sh\n",
    "less blast_smeddjap.sh"
   ]
  },
  {
   "cell_type": "code",
   "execution_count": null,
   "id": "9908fa98",
   "metadata": {},
   "outputs": [],
   "source": [
    "%%bash\n",
    "cd /hydra/FACS/\n",
    "gffread -w noncoding_transcripts.fa -g /hydra/sexual_genome_annotation_files/sexual_genome_annotation/final_dd_Smed_g4.fa /hydra/sexual_genome_annotation_files/ncrna_Neiro/noncoding_final_May2021.gtf"
   ]
  },
  {
   "cell_type": "code",
   "execution_count": 86,
   "id": "25defca0",
   "metadata": {},
   "outputs": [
    {
     "name": "stdout",
     "output_type": "stream",
     "text": [
      "11663\n"
     ]
    }
   ],
   "source": [
    "%%bash\n",
    "cd /hydra/FACS/\n",
    "grep -c \">\" noncoding_transcripts.fa"
   ]
  },
  {
   "cell_type": "code",
   "execution_count": 3,
   "id": "8030ddbd",
   "metadata": {},
   "outputs": [
    {
     "name": "stdout",
     "output_type": "stream",
     "text": [
      "#!/bin/bash\n",
      "blastn -query /hydra/FACS/noncoding_transcripts.fa -db Dugesia_transcripts.fa -outfmt 6 -out smed_to_djap_trans_param.out -num_threads 8 -word_size 6\n"
     ]
    }
   ],
   "source": [
    "%%bash\n",
    "cd /hydra/Dugesia/TF_interpro\n",
    "echo \"#!/bin/bash\" > blast_smeddjap_2.sh\n",
    "echo \"blastn -query /hydra/FACS/noncoding_transcripts.fa -db Dugesia_transcripts.fa -outfmt 6 -out smed_to_djap_trans_param.out -num_threads 8 -word_size 6\" >> blast_smeddjap_2.sh\n",
    "chmod +x blast_smeddjap_2.sh\n",
    "less blast_smeddjap_2.sh"
   ]
  },
  {
   "cell_type": "code",
   "execution_count": null,
   "id": "09877f1e",
   "metadata": {},
   "outputs": [],
   "source": [
    "%%bash\n",
    "cd /hydra/FACS/\n",
    "ls"
   ]
  },
  {
   "cell_type": "code",
   "execution_count": 16,
   "id": "fdbf90e3",
   "metadata": {},
   "outputs": [],
   "source": [
    "%%bash\n",
    "cd /hydra/FACS/\n",
    "seqkit range -r 1:5000 stringtie_transcripts.fa > stringtie_transcripts_1.fa\n",
    "seqkit range -r 5001:10000 stringtie_transcripts.fa > stringtie_transcripts_2.fa\n",
    "seqkit range -r 10001:15000 stringtie_transcripts.fa > stringtie_transcripts_3.fa\n",
    "seqkit range -r 15001:20000 stringtie_transcripts.fa > stringtie_transcripts_4.fa\n",
    "seqkit range -r 20001:25000 stringtie_transcripts.fa > stringtie_transcripts_5.fa\n",
    "seqkit range -r 25001:30000 stringtie_transcripts.fa > stringtie_transcripts_6.fa\n",
    "seqkit range -r 30001:35000 stringtie_transcripts.fa > stringtie_transcripts_7.fa\n",
    "seqkit range -r 35001:40000 stringtie_transcripts.fa > stringtie_transcripts_8.fa\n",
    "seqkit range -r 40001:45000 stringtie_transcripts.fa > stringtie_transcripts_9.fa\n",
    "seqkit range -r 45001:50000 stringtie_transcripts.fa > stringtie_transcripts_10.fa\n",
    "seqkit range -r 50001:55000 stringtie_transcripts.fa > stringtie_transcripts_11.fa\n",
    "seqkit range -r 55001:60000 stringtie_transcripts.fa > stringtie_transcripts_12.fa\n",
    "seqkit range -r 60001:65000 stringtie_transcripts.fa > stringtie_transcripts_13.fa\n",
    "seqkit range -r 65001:70000 stringtie_transcripts.fa > stringtie_transcripts_14.fa\n",
    "seqkit range -r 70001:75000 stringtie_transcripts.fa > stringtie_transcripts_15.fa\n",
    "seqkit range -r 75001:80000 stringtie_transcripts.fa > stringtie_transcripts_16.fa\n",
    "seqkit range -r 80001:85000 stringtie_transcripts.fa > stringtie_transcripts_17.fa\n",
    "seqkit range -r 85001:91068 stringtie_transcripts.fa > stringtie_transcripts_18.fa"
   ]
  },
  {
   "cell_type": "code",
   "execution_count": 27,
   "id": "996419e6",
   "metadata": {},
   "outputs": [],
   "source": [
    "%%bash\n",
    "cd /hydra/Dugesia/TF_interpro\n",
    "for i in {1..18}\n",
    "  do \n",
    "     echo \"#!/bin/bash\" > tblastx_smeddjap_$i.sh\n",
    "     echo \"tblastx -query /hydra/FACS/stringtie_transcripts_$i.fa -db Dugesia_transcripts.fa -outfmt 6 -out smed_to_djap_tblastx_$i.out -num_threads 8\" >> tblastx_smeddjap_$i.sh\n",
    "     chmod +x tblastx_smeddjap_$i.sh\n",
    "  done"
   ]
  },
  {
   "cell_type": "code",
   "execution_count": 28,
   "id": "9fab2383",
   "metadata": {},
   "outputs": [
    {
     "name": "stdout",
     "output_type": "stream",
     "text": [
      "#!/bin/bash\n",
      "tblastx -query /hydra/FACS/stringtie_transcripts_18.fa -db Dugesia_transcripts.fa -outfmt 6 -out smed_to_djap_tblastx_18.out -num_threads 8\n"
     ]
    }
   ],
   "source": [
    "%%bash\n",
    "cd /hydra/Dugesia/TF_interpro\n",
    "less tblastx_smeddjap_18.sh"
   ]
  },
  {
   "cell_type": "code",
   "execution_count": null,
   "id": "6929573c",
   "metadata": {},
   "outputs": [],
   "source": [
    "#%%bash\n",
    "#cd /hydra/Dugesia/TF_interpro\n",
    "#nohup ./tblastx_smeddjap_1.sh &"
   ]
  },
  {
   "cell_type": "code",
   "execution_count": null,
   "id": "9873b7a0",
   "metadata": {},
   "outputs": [],
   "source": [
    "import pandas as pd\n",
    "for i in range(1,19):\n",
    "    human = pd.read_csv(\"/hydra/Dugesia/TF_interpro/smed_to_djap_tblastx_\"+str(i)+\".out\", sep=\"\\t\", header=None)\n",
    "    human.columns = [\"Seqid\", \"qid\", \"Per\", \"Len\", \"Mis\", \"Gap\", \"Startq\", \"Endq\", \"Starts\", \"Ends\", \"E\", \"Bit\"]\n",
    "    human = human.loc[human.groupby(\"Seqid\")[\"Bit\"].idxmax()]\n",
    "    human.to_csv(\"/hydra/sexual_genome_annotation_files/blast_annotation/dugesiasmed\"+str(i)+\".tab\", sep=\"\\t\", index=False, header=None)\n",
    "    print(i)\n",
    "    print(len(human))"
   ]
  },
  {
   "cell_type": "code",
   "execution_count": 34,
   "id": "043271d1",
   "metadata": {},
   "outputs": [
    {
     "name": "stdout",
     "output_type": "stream",
     "text": [
      "9997\n",
      "14991\n",
      "19986\n",
      "24985\n",
      "29985\n",
      "34985\n",
      "39984\n",
      "44981\n",
      "49969\n",
      "54963\n",
      "59962\n",
      "64960\n",
      "69960\n",
      "74960\n",
      "79960\n",
      "84960\n",
      "91020\n"
     ]
    }
   ],
   "source": [
    "import pandas as pd\n",
    "tblastx_smedjap = pd.read_csv(\"/drives/raid/AboobakerLab/jakke/sexual_genome_annotation_files/blast_annotation/dugesiasmed\"+str(1)+\".tab\", sep=\"\\t\", header=None)\n",
    "for i in range(2,19):\n",
    "    tblastx_smedjap = pd.concat([tblastx_smedjap, pd.read_csv(\"/drives/raid/AboobakerLab/jakke/sexual_genome_annotation_files/blast_annotation/dugesiasmed\"+str(i)+\".tab\", sep=\"\\t\", header=None)])\n",
    "    print(len(tblastx_smedjap))"
   ]
  },
  {
   "cell_type": "code",
   "execution_count": 24,
   "id": "140cd34e",
   "metadata": {},
   "outputs": [],
   "source": [
    "tblastx_smedjap.columns = [\"Seqid\", \"qid\", \"Per\", \"Len\", \"Mis\", \"Gap\", \"Startq\", \"Endq\", \"Starts\", \"Ends\", \"E\", \"Bit\"]\n",
    "#tblastx_smedjap = tblastx_smedjap.loc[tblastx_smedjap.groupby(\"Seqid\")[\"Bit\"].idxmax()]\n",
    "tblastx_smedjap.to_csv(\"/hydra/sexual_genome_annotation_files/blast_annotation/dugesiasmed_final.tab\", sep=\"\\t\", index=False)"
   ]
  },
  {
   "cell_type": "code",
   "execution_count": 16,
   "id": "7a7f502f",
   "metadata": {},
   "outputs": [],
   "source": [
    "#E-10\n",
    "tblastx_smedjap.columns = [\"Seqid\", \"qid\", \"Per\", \"Len\", \"Mis\", \"Gap\", \"Startq\", \"Endq\", \"Starts\", \"Ends\", \"E\", \"Bit\"]\n",
    "tblastx_smedjap = tblastx_smedjap.loc[tblastx_smedjap.groupby(\"Seqid\")[\"Bit\"].idxmax()]\n",
    "tblastx_smedjap = tblastx_smedjap[tblastx_smedjap[\"E\"] < 10**(-10)]\n",
    "tblastx_smedjap.to_csv(\"/drives/raid/AboobakerLab/jakke/sexual_genome_annotation_files/blast_annotation/dugesiasmed_final_e10.tab\", sep=\"\\t\", index=False)"
   ]
  },
  {
   "cell_type": "code",
   "execution_count": 35,
   "id": "91e33130",
   "metadata": {},
   "outputs": [],
   "source": [
    "#E-5\n",
    "tblastx_smedjap.columns = [\"Seqid\", \"qid\", \"Per\", \"Len\", \"Mis\", \"Gap\", \"Startq\", \"Endq\", \"Starts\", \"Ends\", \"E\", \"Bit\"]\n",
    "tblastx_smedjap = tblastx_smedjap.loc[tblastx_smedjap.groupby(\"Seqid\")[\"Bit\"].idxmax()]\n",
    "tblastx_smedjap = tblastx_smedjap[tblastx_smedjap[\"E\"] < 10**(-5)]\n",
    "tblastx_smedjap.to_csv(\"/drives/raid/AboobakerLab/jakke/sexual_genome_annotation_files/blast_annotation/dugesiasmed_final_e5.tab\", sep=\"\\t\", index=False)"
   ]
  },
  {
   "cell_type": "markdown",
   "id": "b448c469",
   "metadata": {},
   "source": [
    "### 3.1.2 Protein to protein"
   ]
  },
  {
   "cell_type": "code",
   "execution_count": 6,
   "id": "2e377519",
   "metadata": {},
   "outputs": [
    {
     "name": "stdout",
     "output_type": "stream",
     "text": [
      ">g9.t1.p1 type:complete len:182 gc:universal g9.t1:1-546(+)\n",
      "MSFDLILSKESTQINGIICFFDLEGCDRKSLETWSDPQLLKSINRIWQDAFPIRMKGIIYYKAPTIFNVVLKIIKFFIAEKHKQRMFQIENLENLFSKNLGLDEIMPIEYGGKGGKLEDKVENWIKNVKCFFSNKNLWWKICVDEAKRLPETKTYLKTYDDYKGETLSGIQGSFVKYDNVF\n"
     ]
    }
   ],
   "source": [
    "%%bash\n",
    "cd /hydra/Dugesia/TF_interpro/Transdecoder_all\n",
    "head -2 longest_orfs_ip.pep"
   ]
  },
  {
   "cell_type": "code",
   "execution_count": 10,
   "id": "c728bc2c",
   "metadata": {},
   "outputs": [
    {
     "name": "stdout",
     "output_type": "stream",
     "text": [
      ">MSTRG.2.1.p1 type:complete len:250 gc:universal MSTRG.2.1:1042-293(-)\n",
      "MKGDDFNIITAPVPINRIWWYSLTNRQRIALVFYMSFYVAGTLTNTASMFIDKFYIYIMRLESLQMGSADPIDYKYLLEVQIVRGFWREDVHEVVDKVFRGKSIGYIKTNLMIPVEIWNNCQVRSFRGIPCHSVAIICLIFGMLILYYHCTTVALFRTFMILNANLAAILLFIAMSMEYSAAVEYDYCVNSVFMNRKTGGKAFVRGRYYNRTLEASGSTFKLMMVGDILFFCPMIGLGCYLLFCNRENL\n"
     ]
    }
   ],
   "source": [
    "%%bash\n",
    "cd /hydra/sexual_genome_annotation_files/ncrna_Neiro/Transdecoder_final/\n",
    "#cp longest_orfs.pep longest_orfs_ip.pep\n",
    "#sed -i 's_*__g' longest_orfs_ip.pep\n",
    "head -2 longest_orfs_ip.pep"
   ]
  },
  {
   "cell_type": "code",
   "execution_count": 11,
   "id": "3d025821",
   "metadata": {},
   "outputs": [
    {
     "name": "stdout",
     "output_type": "stream",
     "text": [
      "\n",
      "\n",
      "Building a new DB, current time: 08/11/2021 13:04:56\n",
      "New DB name:   /hydra/Dugesia/TF_interpro/Transdecoder_all/longest_orfs_ip.pep\n",
      "New DB title:  longest_orfs_ip.pep\n",
      "Sequence type: Protein\n",
      "Keep MBits: T\n",
      "Maximum file size: 1000000000B\n",
      "Adding sequences from FASTA; added 69147 sequences in 4.32484 seconds.\n"
     ]
    }
   ],
   "source": [
    "%%bash\n",
    "cd /hydra/Dugesia/TF_interpro/Transdecoder_all\n",
    "makeblastdb -in longest_orfs_ip.pep -parse_seqids -dbtype prot"
   ]
  },
  {
   "cell_type": "markdown",
   "id": "787e15df",
   "metadata": {},
   "source": [
    "## 3.2 New transcripts and Dugesia"
   ]
  },
  {
   "cell_type": "code",
   "execution_count": 18,
   "id": "5bd17beb",
   "metadata": {},
   "outputs": [],
   "source": [
    "import pandas as pd\n",
    "djap = pd.read_csv(\"/hydra/Dugesia/TF_interpro/smed_to_djap_noncod_param.out\", sep=\"\\t\", header=None, skiprows=15869)\n",
    "djap.columns = [\"Seqid\", \"qid\", \"Per\", \"Len\", \"Mis\", \"Gap\", \"Startq\", \"Endq\", \"Starts\", \"Ends\", \"E\", \"Bit\"]\n",
    "djap = djap.loc[djap.groupby(\"Seqid\")[\"Bit\"].idxmax()]\n",
    "djap.to_csv(\"/hydra/Dugesia/TF_interpro/smed_to_djap_noncod_param_filtered.out\", index=None)"
   ]
  },
  {
   "cell_type": "code",
   "execution_count": 2,
   "id": "aa7cef13",
   "metadata": {},
   "outputs": [],
   "source": [
    "import pandas as pd\n",
    "djap = pd.read_csv(\"/hydra/Dugesia/TF_interpro/smed_to_djap_noncod_param_filtered.out\")"
   ]
  },
  {
   "cell_type": "code",
   "execution_count": 26,
   "id": "2cc650c1",
   "metadata": {},
   "outputs": [],
   "source": [
    "djap = djap[djap[\"E\"] < 0.01]"
   ]
  },
  {
   "cell_type": "code",
   "execution_count": 3,
   "id": "883964d9",
   "metadata": {},
   "outputs": [
    {
     "data": {
      "text/plain": [
       "11556"
      ]
     },
     "execution_count": 3,
     "metadata": {},
     "output_type": "execute_result"
    }
   ],
   "source": [
    "len(pd.Categorical(djap[\"Seqid\"]).categories)"
   ]
  },
  {
   "cell_type": "code",
   "execution_count": 1,
   "id": "56045909",
   "metadata": {},
   "outputs": [],
   "source": [
    "import pandas as pd\n",
    "coding_new = pd.read_csv(\"/hydra/sexual_genome_annotation_files/ncrna_Neiro/interproscan_less100aa_24082020/coding_new.csv\", sep=\"\\t\", header=None)"
   ]
  },
  {
   "cell_type": "code",
   "execution_count": 2,
   "id": "1c076fb4",
   "metadata": {},
   "outputs": [
    {
     "data": {
      "text/html": [
       "<div>\n",
       "<style scoped>\n",
       "    .dataframe tbody tr th:only-of-type {\n",
       "        vertical-align: middle;\n",
       "    }\n",
       "\n",
       "    .dataframe tbody tr th {\n",
       "        vertical-align: top;\n",
       "    }\n",
       "\n",
       "    .dataframe thead th {\n",
       "        text-align: right;\n",
       "    }\n",
       "</style>\n",
       "<table border=\"1\" class=\"dataframe\">\n",
       "  <thead>\n",
       "    <tr style=\"text-align: right;\">\n",
       "      <th></th>\n",
       "      <th>0</th>\n",
       "    </tr>\n",
       "  </thead>\n",
       "  <tbody>\n",
       "    <tr>\n",
       "      <th>0</th>\n",
       "      <td>MSTRG.2.1</td>\n",
       "    </tr>\n",
       "    <tr>\n",
       "      <th>1</th>\n",
       "      <td>MSTRG.2.2</td>\n",
       "    </tr>\n",
       "    <tr>\n",
       "      <th>2</th>\n",
       "      <td>MSTRG.7.1</td>\n",
       "    </tr>\n",
       "    <tr>\n",
       "      <th>3</th>\n",
       "      <td>MSTRG.20.1</td>\n",
       "    </tr>\n",
       "    <tr>\n",
       "      <th>4</th>\n",
       "      <td>MSTRG.25.1</td>\n",
       "    </tr>\n",
       "    <tr>\n",
       "      <th>...</th>\n",
       "      <td>...</td>\n",
       "    </tr>\n",
       "    <tr>\n",
       "      <th>5060</th>\n",
       "      <td>MSTRG.23687.1</td>\n",
       "    </tr>\n",
       "    <tr>\n",
       "      <th>5061</th>\n",
       "      <td>MSTRG.23692.1</td>\n",
       "    </tr>\n",
       "    <tr>\n",
       "      <th>5062</th>\n",
       "      <td>MSTRG.23693.4</td>\n",
       "    </tr>\n",
       "    <tr>\n",
       "      <th>5063</th>\n",
       "      <td>MSTRG.23693.6</td>\n",
       "    </tr>\n",
       "    <tr>\n",
       "      <th>5064</th>\n",
       "      <td>MSTRG.23693.7</td>\n",
       "    </tr>\n",
       "  </tbody>\n",
       "</table>\n",
       "<p>5065 rows × 1 columns</p>\n",
       "</div>"
      ],
      "text/plain": [
       "                  0\n",
       "0         MSTRG.2.1\n",
       "1         MSTRG.2.2\n",
       "2         MSTRG.7.1\n",
       "3        MSTRG.20.1\n",
       "4        MSTRG.25.1\n",
       "...             ...\n",
       "5060  MSTRG.23687.1\n",
       "5061  MSTRG.23692.1\n",
       "5062  MSTRG.23693.4\n",
       "5063  MSTRG.23693.6\n",
       "5064  MSTRG.23693.7\n",
       "\n",
       "[5065 rows x 1 columns]"
      ]
     },
     "execution_count": 2,
     "metadata": {},
     "output_type": "execute_result"
    }
   ],
   "source": [
    "coding_new "
   ]
  },
  {
   "cell_type": "code",
   "execution_count": 5,
   "id": "8c3818e4",
   "metadata": {},
   "outputs": [],
   "source": [
    "import pandas as pd\n",
    "noncoding_new = pd.read_csv(\"/hydra/sexual_genome_annotation_files/ncrna_Neiro/interproscan_less100aa_24082020/noncoding.csv\", sep=\"\\t\", header=None)"
   ]
  },
  {
   "cell_type": "code",
   "execution_count": 27,
   "id": "ca15fdb0",
   "metadata": {},
   "outputs": [
    {
     "name": "stdout",
     "output_type": "stream",
     "text": [
      "6190\n",
      "2432\n"
     ]
    }
   ],
   "source": [
    "print(len(noncoding_new))\n",
    "print(len(noncoding_new[noncoding_new.iloc[:,0].isin(djap.iloc[:,0])]))"
   ]
  },
  {
   "cell_type": "code",
   "execution_count": 18,
   "id": "9907ef9e",
   "metadata": {},
   "outputs": [
    {
     "data": {
      "text/plain": [
       "0.392891760904685"
      ]
     },
     "execution_count": 18,
     "metadata": {},
     "output_type": "execute_result"
    }
   ],
   "source": [
    "2432/6190"
   ]
  },
  {
   "cell_type": "code",
   "execution_count": 16,
   "id": "2bda1646",
   "metadata": {},
   "outputs": [],
   "source": [
    "tblastx_smedjap = pd.read_csv(\"/hydra/sexual_genome_annotation_files/blast_annotation/dugesiasmed_final.tab\", sep=\"\\t\")"
   ]
  },
  {
   "cell_type": "code",
   "execution_count": 90,
   "id": "3dd461b8",
   "metadata": {},
   "outputs": [
    {
     "name": "stdout",
     "output_type": "stream",
     "text": [
      "5065\n",
      "4677\n"
     ]
    }
   ],
   "source": [
    "print(len(coding_new))\n",
    "print(len(coding_new[coding_new.iloc[:,0].isin(tblastx_smedjap.iloc[:,0])]))"
   ]
  },
  {
   "cell_type": "code",
   "execution_count": 10,
   "id": "75f859e2",
   "metadata": {},
   "outputs": [],
   "source": [
    "table = coding_new[coding_new.iloc[:,0].isin(tblastx_smedjap.iloc[:,0])]\n",
    "genes = []\n",
    "for i in range(len(table)):\n",
    "    genes.append(table.iloc[i,0].split(\".\")[1])\n",
    "table = coding_new\n",
    "genes_cod = []\n",
    "for i in range(len(table)):\n",
    "    name = table.iloc[i,0].split(\".\")\n",
    "    if name[0] == \"MSTRG\":\n",
    "        genes_cod.append(table.iloc[i,0].split(\".\")[1])\n",
    "    else:\n",
    "        genes_cod.append(table.iloc[i,0].split(\".\")[0])"
   ]
  },
  {
   "cell_type": "code",
   "execution_count": 16,
   "id": "78b1e7c2",
   "metadata": {},
   "outputs": [
    {
     "name": "stdout",
     "output_type": "stream",
     "text": [
      "3312\n",
      "3126\n"
     ]
    }
   ],
   "source": [
    "print(len(pd.Categorical(genes_cod).categories))\n",
    "print(len(pd.Categorical(genes).categories))"
   ]
  },
  {
   "cell_type": "code",
   "execution_count": 17,
   "id": "64331696",
   "metadata": {},
   "outputs": [
    {
     "data": {
      "text/plain": [
       "0.9438405797101449"
      ]
     },
     "execution_count": 17,
     "metadata": {},
     "output_type": "execute_result"
    }
   ],
   "source": [
    "3126/3312"
   ]
  },
  {
   "cell_type": "markdown",
   "id": "020b202d",
   "metadata": {},
   "source": [
    "## 3.3 New transcripts to Metazoa"
   ]
  },
  {
   "cell_type": "code",
   "execution_count": 4,
   "id": "bcf73835",
   "metadata": {},
   "outputs": [],
   "source": [
    "%%bash\n",
    "cd /hydra/FACS/\n",
    "gffread -w coding_transcripts.fa -g /hydra/sexual_genome_annotation_files/sexual_genome_annotation/final_dd_Smed_g4.fa /hydra/sexual_genome_annotation_files/ncrna_Neiro/coding_final_May2021.gtf"
   ]
  },
  {
   "cell_type": "code",
   "execution_count": 15,
   "id": "aa3264a8",
   "metadata": {},
   "outputs": [
    {
     "name": "stdout",
     "output_type": "stream",
     "text": [
      "#!/bin/bash\n",
      "tblastx -query /hydra/FACS/coding_transcripts.fa -db nr -remote -outfmt 6 -out smed_newmetazoa.out -entrez_query \"Metazoa [Organism]\"\n"
     ]
    }
   ],
   "source": [
    "%%bash\n",
    "cd /hydra/FACS/\n",
    "echo \"#!/bin/bash\" > blast_smeddjap_newmetazoa.sh\n",
    "echo \"tblastx -query /hydra/FACS/coding_transcripts.fa -db nr -remote -outfmt 6 -out smed_newmetazoa.out -entrez_query \\\"Metazoa [Organism]\\\"\" >> blast_smeddjap_newmetazoa.sh\n",
    "chmod +x blast_smeddjap_newmetazoa.sh\n",
    "less blast_smeddjap_newmetazoa.sh"
   ]
  },
  {
   "cell_type": "code",
   "execution_count": 1,
   "id": "75be968c",
   "metadata": {},
   "outputs": [
    {
     "name": "stdout",
     "output_type": "stream",
     "text": [
      "#!/bin/bash\n",
      "blastx -query /hydra/FACS/coding_transcripts.fa -db nr -remote -outfmt \"6 qseqid sseqid pident length mismatch gapopen qstart qend sstart send evalue bitscore sscinames scomnames\" -out smed_newmetazoa_blastx.out -entrez_query \"Metazoa [Organism] NOT Schmidtea mediterranea [Organism]\"\n"
     ]
    }
   ],
   "source": [
    "%%bash\n",
    "cd /hydra/FACS/\n",
    "echo \"#!/bin/bash\" > blastx_smeddjap_newmetazoa.sh\n",
    "echo \"blastx -query /hydra/FACS/coding_transcripts.fa -db nr -remote -outfmt \\\"6 qseqid sseqid pident length mismatch gapopen qstart qend sstart send evalue bitscore sscinames scomnames\\\" -out smed_newmetazoa_blastx.out -entrez_query \\\"Metazoa [Organism] NOT Schmidtea mediterranea [Organism]\\\"\" >> blastx_smeddjap_newmetazoa.sh\n",
    "chmod +x blastx_smeddjap_newmetazoa.sh\n",
    "less blastx_smeddjap_newmetazoa.sh"
   ]
  },
  {
   "cell_type": "code",
   "execution_count": 1,
   "id": "228db807",
   "metadata": {},
   "outputs": [
    {
     "name": "stdout",
     "output_type": "stream",
     "text": [
      "10847\n"
     ]
    }
   ],
   "source": [
    "%%bash\n",
    "cd /hydra/FACS/\n",
    "grep -c \">\" coding_transcripts.fa"
   ]
  },
  {
   "cell_type": "code",
   "execution_count": 2,
   "id": "3237c731",
   "metadata": {},
   "outputs": [],
   "source": [
    "%%bash\n",
    "cd /hydra/FACS/\n",
    "seqkit range -r 1:2000 coding_transcripts.fa > coding_transcripts_1.fa\n",
    "seqkit range -r 2001:4000 coding_transcripts.fa > coding_transcripts_2.fa\n",
    "seqkit range -r 4001:6000 coding_transcripts.fa > coding_transcripts_3.fa\n",
    "seqkit range -r 6001:8000 coding_transcripts.fa > coding_transcripts_4.fa\n",
    "seqkit range -r 8001:10847 coding_transcripts.fa > coding_transcripts_5.fa"
   ]
  },
  {
   "cell_type": "code",
   "execution_count": 3,
   "id": "526577b0",
   "metadata": {},
   "outputs": [
    {
     "name": "stdout",
     "output_type": "stream",
     "text": [
      "#!/bin/bash\n",
      "blastx -query /hydra/FACS/coding_transcripts_1.fa -db nr -remote -outfmt \"6 qseqid sseqid pident length mismatch gapopen qstart qend sstart send evalue bitscore sscinames scomnames\" -out smed_newmetazoa_blastx1.out -entrez_query \"Metazoa [Organism] NOT Schmidtea mediterranea [Organism]\"\n",
      "blastx -query /hydra/FACS/coding_transcripts_2.fa -db nr -remote -outfmt \"6 qseqid sseqid pident length mismatch gapopen qstart qend sstart send evalue bitscore sscinames scomnames\" -out smed_newmetazoa_blastx2.out -entrez_query \"Metazoa [Organism] NOT Schmidtea mediterranea [Organism]\"\n",
      "blastx -query /hydra/FACS/coding_transcripts_3.fa -db nr -remote -outfmt \"6 qseqid sseqid pident length mismatch gapopen qstart qend sstart send evalue bitscore sscinames scomnames\" -out smed_newmetazoa_blastx3.out -entrez_query \"Metazoa [Organism] NOT Schmidtea mediterranea [Organism]\"\n",
      "blastx -query /hydra/FACS/coding_transcripts_4.fa -db nr -remote -outfmt \"6 qseqid sseqid pident length mismatch gapopen qstart qend sstart send evalue bitscore sscinames scomnames\" -out smed_newmetazoa_blastx4.out -entrez_query \"Metazoa [Organism] NOT Schmidtea mediterranea [Organism]\"\n",
      "blastx -query /hydra/FACS/coding_transcripts_5.fa -db nr -remote -outfmt \"6 qseqid sseqid pident length mismatch gapopen qstart qend sstart send evalue bitscore sscinames scomnames\" -out smed_newmetazoa_blastx5.out -entrez_query \"Metazoa [Organism] NOT Schmidtea mediterranea [Organism]\"\n"
     ]
    }
   ],
   "source": [
    "%%bash\n",
    "cd /hydra/FACS/\n",
    "echo \"#!/bin/bash\" > blastx_smeddjap_newmetazoa_parts.sh\n",
    "echo \"blastx -query /hydra/FACS/coding_transcripts_1.fa -db nr -remote -outfmt \\\"6 qseqid sseqid pident length mismatch gapopen qstart qend sstart send evalue bitscore sscinames scomnames\\\" -out smed_newmetazoa_blastx1.out -entrez_query \\\"Metazoa [Organism] NOT Schmidtea mediterranea [Organism]\\\"\" >> blastx_smeddjap_newmetazoa_parts.sh\n",
    "echo \"blastx -query /hydra/FACS/coding_transcripts_2.fa -db nr -remote -outfmt \\\"6 qseqid sseqid pident length mismatch gapopen qstart qend sstart send evalue bitscore sscinames scomnames\\\" -out smed_newmetazoa_blastx2.out -entrez_query \\\"Metazoa [Organism] NOT Schmidtea mediterranea [Organism]\\\"\" >> blastx_smeddjap_newmetazoa_parts.sh\n",
    "echo \"blastx -query /hydra/FACS/coding_transcripts_3.fa -db nr -remote -outfmt \\\"6 qseqid sseqid pident length mismatch gapopen qstart qend sstart send evalue bitscore sscinames scomnames\\\" -out smed_newmetazoa_blastx3.out -entrez_query \\\"Metazoa [Organism] NOT Schmidtea mediterranea [Organism]\\\"\" >> blastx_smeddjap_newmetazoa_parts.sh\n",
    "echo \"blastx -query /hydra/FACS/coding_transcripts_4.fa -db nr -remote -outfmt \\\"6 qseqid sseqid pident length mismatch gapopen qstart qend sstart send evalue bitscore sscinames scomnames\\\" -out smed_newmetazoa_blastx4.out -entrez_query \\\"Metazoa [Organism] NOT Schmidtea mediterranea [Organism]\\\"\" >> blastx_smeddjap_newmetazoa_parts.sh\n",
    "echo \"blastx -query /hydra/FACS/coding_transcripts_5.fa -db nr -remote -outfmt \\\"6 qseqid sseqid pident length mismatch gapopen qstart qend sstart send evalue bitscore sscinames scomnames\\\" -out smed_newmetazoa_blastx5.out -entrez_query \\\"Metazoa [Organism] NOT Schmidtea mediterranea [Organism]\\\"\" >> blastx_smeddjap_newmetazoa_parts.sh\n",
    "chmod +x blastx_smeddjap_newmetazoa_parts.sh\n",
    "less blastx_smeddjap_newmetazoa_parts.sh"
   ]
  },
  {
   "cell_type": "code",
   "execution_count": 6,
   "id": "eeef90e6",
   "metadata": {},
   "outputs": [],
   "source": [
    "import pandas as pd\n",
    "human = pd.read_csv(\"/hydra/sexual_genome_annotation_files/blast_annotation/human_final.tab\", sep=\"\\t\")"
   ]
  },
  {
   "cell_type": "code",
   "execution_count": 12,
   "id": "d9c505de",
   "metadata": {},
   "outputs": [],
   "source": [
    "coding = pd.read_csv(\"/hydra/sexual_genome_annotation_files/ncrna_Neiro/interproscan_less100aa_24082020/coding_new.csv\", header=None)"
   ]
  },
  {
   "cell_type": "code",
   "execution_count": 22,
   "id": "23431a20",
   "metadata": {},
   "outputs": [
    {
     "data": {
      "text/plain": [
       "3398"
      ]
     },
     "execution_count": 22,
     "metadata": {},
     "output_type": "execute_result"
    }
   ],
   "source": [
    "len(coding[coding.iloc[:,0].isin(human[\"Seqid\"])])"
   ]
  },
  {
   "cell_type": "code",
   "execution_count": 23,
   "id": "803d7db0",
   "metadata": {},
   "outputs": [
    {
     "data": {
      "text/plain": [
       "5065"
      ]
     },
     "execution_count": 23,
     "metadata": {},
     "output_type": "execute_result"
    }
   ],
   "source": [
    "len(coding)"
   ]
  },
  {
   "cell_type": "code",
   "execution_count": 4,
   "id": "1623c249",
   "metadata": {},
   "outputs": [],
   "source": [
    "import pandas as pd\n",
    "noncoding_new = pd.read_csv(\"/hydra/sexual_genome_annotation_files/ncrna_Neiro/interproscan_less100aa_24082020/noncoding.csv\", sep=\"\\t\", header=None)"
   ]
  },
  {
   "cell_type": "code",
   "execution_count": 7,
   "id": "4e4a5748",
   "metadata": {},
   "outputs": [
    {
     "data": {
      "text/plain": [
       "3350"
      ]
     },
     "execution_count": 7,
     "metadata": {},
     "output_type": "execute_result"
    }
   ],
   "source": [
    "len(noncoding_new[noncoding_new.iloc[:,0].isin(human[\"Seqid\"])])"
   ]
  },
  {
   "cell_type": "code",
   "execution_count": 8,
   "id": "62545c2e",
   "metadata": {},
   "outputs": [
    {
     "data": {
      "text/plain": [
       "6190"
      ]
     },
     "execution_count": 8,
     "metadata": {},
     "output_type": "execute_result"
    }
   ],
   "source": [
    "len(noncoding_new)"
   ]
  },
  {
   "cell_type": "code",
   "execution_count": 22,
   "id": "0da11df8",
   "metadata": {},
   "outputs": [
    {
     "data": {
      "text/plain": [
       "3158"
      ]
     },
     "execution_count": 22,
     "metadata": {},
     "output_type": "execute_result"
    }
   ],
   "source": [
    "len(noncoding_new[noncoding_new.iloc[:,0].isin(human[\"Seqid\"])&noncoding_new.iloc[:,0].isin(tblastx_smedjap[\"Seqid\"])])"
   ]
  },
  {
   "cell_type": "code",
   "execution_count": 15,
   "id": "3aa7b52e",
   "metadata": {},
   "outputs": [
    {
     "data": {
      "text/html": [
       "<div>\n",
       "<style scoped>\n",
       "    .dataframe tbody tr th:only-of-type {\n",
       "        vertical-align: middle;\n",
       "    }\n",
       "\n",
       "    .dataframe tbody tr th {\n",
       "        vertical-align: top;\n",
       "    }\n",
       "\n",
       "    .dataframe thead th {\n",
       "        text-align: right;\n",
       "    }\n",
       "</style>\n",
       "<table border=\"1\" class=\"dataframe\">\n",
       "  <thead>\n",
       "    <tr style=\"text-align: right;\">\n",
       "      <th></th>\n",
       "      <th>Seqid</th>\n",
       "      <th>qid</th>\n",
       "      <th>Per</th>\n",
       "      <th>Len</th>\n",
       "      <th>Mis</th>\n",
       "      <th>Gap</th>\n",
       "      <th>Startq</th>\n",
       "      <th>Endq</th>\n",
       "      <th>Starts</th>\n",
       "      <th>Ends</th>\n",
       "      <th>E</th>\n",
       "      <th>Bit</th>\n",
       "    </tr>\n",
       "  </thead>\n",
       "  <tbody>\n",
       "    <tr>\n",
       "      <th>0</th>\n",
       "      <td>MSTRG.10004.1</td>\n",
       "      <td>MSTRG.14275.1</td>\n",
       "      <td>95.652</td>\n",
       "      <td>23</td>\n",
       "      <td>1</td>\n",
       "      <td>0</td>\n",
       "      <td>158</td>\n",
       "      <td>180</td>\n",
       "      <td>1618</td>\n",
       "      <td>1596</td>\n",
       "      <td>7.000000e-02</td>\n",
       "      <td>38.1</td>\n",
       "    </tr>\n",
       "    <tr>\n",
       "      <th>1</th>\n",
       "      <td>MSTRG.1001.1</td>\n",
       "      <td>g9403.t1</td>\n",
       "      <td>75.993</td>\n",
       "      <td>554</td>\n",
       "      <td>113</td>\n",
       "      <td>18</td>\n",
       "      <td>212</td>\n",
       "      <td>755</td>\n",
       "      <td>1159</td>\n",
       "      <td>1702</td>\n",
       "      <td>7.340000e-71</td>\n",
       "      <td>268.0</td>\n",
       "    </tr>\n",
       "    <tr>\n",
       "      <th>2</th>\n",
       "      <td>MSTRG.1001.10</td>\n",
       "      <td>MSTRG.25519.7</td>\n",
       "      <td>85.714</td>\n",
       "      <td>42</td>\n",
       "      <td>6</td>\n",
       "      <td>0</td>\n",
       "      <td>481</td>\n",
       "      <td>522</td>\n",
       "      <td>14</td>\n",
       "      <td>55</td>\n",
       "      <td>2.000000e-03</td>\n",
       "      <td>45.4</td>\n",
       "    </tr>\n",
       "    <tr>\n",
       "      <th>3</th>\n",
       "      <td>MSTRG.1001.11</td>\n",
       "      <td>MSTRG.27838.3</td>\n",
       "      <td>84.091</td>\n",
       "      <td>44</td>\n",
       "      <td>3</td>\n",
       "      <td>4</td>\n",
       "      <td>13</td>\n",
       "      <td>54</td>\n",
       "      <td>221</td>\n",
       "      <td>262</td>\n",
       "      <td>4.600000e-02</td>\n",
       "      <td>39.9</td>\n",
       "    </tr>\n",
       "    <tr>\n",
       "      <th>4</th>\n",
       "      <td>MSTRG.1001.3</td>\n",
       "      <td>g9403.t1</td>\n",
       "      <td>75.253</td>\n",
       "      <td>396</td>\n",
       "      <td>82</td>\n",
       "      <td>14</td>\n",
       "      <td>610</td>\n",
       "      <td>997</td>\n",
       "      <td>1159</td>\n",
       "      <td>1546</td>\n",
       "      <td>2.430000e-42</td>\n",
       "      <td>174.0</td>\n",
       "    </tr>\n",
       "    <tr>\n",
       "      <th>...</th>\n",
       "      <td>...</td>\n",
       "      <td>...</td>\n",
       "      <td>...</td>\n",
       "      <td>...</td>\n",
       "      <td>...</td>\n",
       "      <td>...</td>\n",
       "      <td>...</td>\n",
       "      <td>...</td>\n",
       "      <td>...</td>\n",
       "      <td>...</td>\n",
       "      <td>...</td>\n",
       "      <td>...</td>\n",
       "    </tr>\n",
       "    <tr>\n",
       "      <th>11551</th>\n",
       "      <td>SMEST077010001.1</td>\n",
       "      <td>g7253.t1</td>\n",
       "      <td>74.783</td>\n",
       "      <td>230</td>\n",
       "      <td>52</td>\n",
       "      <td>2</td>\n",
       "      <td>636</td>\n",
       "      <td>865</td>\n",
       "      <td>124</td>\n",
       "      <td>347</td>\n",
       "      <td>2.200000e-19</td>\n",
       "      <td>99.0</td>\n",
       "    </tr>\n",
       "    <tr>\n",
       "      <th>11552</th>\n",
       "      <td>SMEST077057001.1</td>\n",
       "      <td>MSTRG.29741.1</td>\n",
       "      <td>73.387</td>\n",
       "      <td>744</td>\n",
       "      <td>163</td>\n",
       "      <td>27</td>\n",
       "      <td>876</td>\n",
       "      <td>1595</td>\n",
       "      <td>1</td>\n",
       "      <td>733</td>\n",
       "      <td>2.500000e-63</td>\n",
       "      <td>244.0</td>\n",
       "    </tr>\n",
       "    <tr>\n",
       "      <th>11553</th>\n",
       "      <td>SMEST077057002.1</td>\n",
       "      <td>MSTRG.29741.1</td>\n",
       "      <td>73.387</td>\n",
       "      <td>744</td>\n",
       "      <td>163</td>\n",
       "      <td>27</td>\n",
       "      <td>2416</td>\n",
       "      <td>3135</td>\n",
       "      <td>1</td>\n",
       "      <td>733</td>\n",
       "      <td>4.850000e-63</td>\n",
       "      <td>244.0</td>\n",
       "    </tr>\n",
       "    <tr>\n",
       "      <th>11554</th>\n",
       "      <td>SMEST077235001.1</td>\n",
       "      <td>MSTRG.22703.2</td>\n",
       "      <td>72.782</td>\n",
       "      <td>834</td>\n",
       "      <td>197</td>\n",
       "      <td>21</td>\n",
       "      <td>338</td>\n",
       "      <td>1151</td>\n",
       "      <td>139</td>\n",
       "      <td>962</td>\n",
       "      <td>8.700000e-67</td>\n",
       "      <td>255.0</td>\n",
       "    </tr>\n",
       "    <tr>\n",
       "      <th>11555</th>\n",
       "      <td>SMEST077235002.1</td>\n",
       "      <td>MSTRG.22703.2</td>\n",
       "      <td>72.782</td>\n",
       "      <td>834</td>\n",
       "      <td>197</td>\n",
       "      <td>21</td>\n",
       "      <td>348</td>\n",
       "      <td>1161</td>\n",
       "      <td>139</td>\n",
       "      <td>962</td>\n",
       "      <td>8.770000e-67</td>\n",
       "      <td>255.0</td>\n",
       "    </tr>\n",
       "  </tbody>\n",
       "</table>\n",
       "<p>11556 rows × 12 columns</p>\n",
       "</div>"
      ],
      "text/plain": [
       "                  Seqid            qid     Per  Len  Mis  Gap  Startq  Endq  \\\n",
       "0         MSTRG.10004.1  MSTRG.14275.1  95.652   23    1    0     158   180   \n",
       "1          MSTRG.1001.1       g9403.t1  75.993  554  113   18     212   755   \n",
       "2         MSTRG.1001.10  MSTRG.25519.7  85.714   42    6    0     481   522   \n",
       "3         MSTRG.1001.11  MSTRG.27838.3  84.091   44    3    4      13    54   \n",
       "4          MSTRG.1001.3       g9403.t1  75.253  396   82   14     610   997   \n",
       "...                 ...            ...     ...  ...  ...  ...     ...   ...   \n",
       "11551  SMEST077010001.1       g7253.t1  74.783  230   52    2     636   865   \n",
       "11552  SMEST077057001.1  MSTRG.29741.1  73.387  744  163   27     876  1595   \n",
       "11553  SMEST077057002.1  MSTRG.29741.1  73.387  744  163   27    2416  3135   \n",
       "11554  SMEST077235001.1  MSTRG.22703.2  72.782  834  197   21     338  1151   \n",
       "11555  SMEST077235002.1  MSTRG.22703.2  72.782  834  197   21     348  1161   \n",
       "\n",
       "       Starts  Ends             E    Bit  \n",
       "0        1618  1596  7.000000e-02   38.1  \n",
       "1        1159  1702  7.340000e-71  268.0  \n",
       "2          14    55  2.000000e-03   45.4  \n",
       "3         221   262  4.600000e-02   39.9  \n",
       "4        1159  1546  2.430000e-42  174.0  \n",
       "...       ...   ...           ...    ...  \n",
       "11551     124   347  2.200000e-19   99.0  \n",
       "11552       1   733  2.500000e-63  244.0  \n",
       "11553       1   733  4.850000e-63  244.0  \n",
       "11554     139   962  8.700000e-67  255.0  \n",
       "11555     139   962  8.770000e-67  255.0  \n",
       "\n",
       "[11556 rows x 12 columns]"
      ]
     },
     "execution_count": 15,
     "metadata": {},
     "output_type": "execute_result"
    }
   ],
   "source": [
    "djap"
   ]
  },
  {
   "cell_type": "code",
   "execution_count": 18,
   "id": "bde7f055",
   "metadata": {},
   "outputs": [
    {
     "data": {
      "text/plain": [
       "4677"
      ]
     },
     "execution_count": 18,
     "metadata": {},
     "output_type": "execute_result"
    }
   ],
   "source": [
    "len(coding[coding.iloc[:,0].isin(tblastx_smedjap[\"Seqid\"])])"
   ]
  },
  {
   "cell_type": "code",
   "execution_count": 21,
   "id": "9ca767c7",
   "metadata": {},
   "outputs": [
    {
     "data": {
      "text/plain": [
       "3098"
      ]
     },
     "execution_count": 21,
     "metadata": {},
     "output_type": "execute_result"
    }
   ],
   "source": [
    "len(coding[coding.iloc[:,0].isin(human[\"Seqid\"])&coding.iloc[:,0].isin(tblastx_smedjap[\"Seqid\"])])"
   ]
  },
  {
   "cell_type": "code",
   "execution_count": null,
   "id": "38ed7a71",
   "metadata": {},
   "outputs": [],
   "source": [
    "len(coding[coding.iloc[:,0].isin(human[\"Seqid\"])&~coding.iloc[:,0].isin(tblastx_smedjap[\"Seqid\"])])"
   ]
  },
  {
   "cell_type": "markdown",
   "id": "82e2cded",
   "metadata": {},
   "source": [
    "### Gene numbers coding"
   ]
  },
  {
   "cell_type": "code",
   "execution_count": 31,
   "id": "be6cc692",
   "metadata": {},
   "outputs": [],
   "source": [
    "import pandas as pd\n",
    "#human = pd.read_csv(\"/drives/raid/AboobakerLab/jakke/sexual_genome_annotation_files/blast_annotation/human_final.tab\", sep=\"\\t\")\n",
    "human = pd.read_csv(\"/drives/raid/AboobakerLab/jakke/sexual_genome_annotation_files/blast_annotation/human_final_e10.tab\", sep=\"\\t\")\n",
    "#human_noncod = pd.read_csv(\"/drives/raid/AboobakerLab/jakke/sexual_genome_annotation_files/blast_annotation/human_noncod_final.tab\", sep=\"\\t\")\n",
    "human_noncod = pd.read_csv(\"/drives/raid/AboobakerLab/jakke/sexual_genome_annotation_files/blast_annotation/human_noncod_final.tab\", sep=\"\\t\")\n",
    "coding = pd.read_csv(\"/drives/raid/AboobakerLab/jakke/sexual_genome_annotation_files/ncrna_Neiro/interproscan_less100aa_24082020/coding_new.csv\", header=None)\n",
    "noncoding_new = pd.read_csv(\"/drives/raid/AboobakerLab/jakke/sexual_genome_annotation_files/ncrna_Neiro/interproscan_less100aa_24082020/noncoding.csv\", sep=\"\\t\", header=None)\n",
    "gffcmp = pd.read_csv(\"/drives/raid/AboobakerLab/jakke/sexual_genome_annotation_files/ncrna_Neiro/gffcmp.stringtie_merged.gtf.tmap\", sep=\"\\t\")\n",
    "#tblastx_smedjap = pd.read_csv(\"/drives/raid/AboobakerLab/jakke/sexual_genome_annotation_files/blast_annotation/dugesiasmed_final.tab\", sep=\"\\t\")\n",
    "tblastx_smedjap = pd.read_csv(\"/drives/raid/AboobakerLab/jakke/sexual_genome_annotation_files/blast_annotation/dugesiasmed_final_e10.tab\", sep=\"\\t\")"
   ]
  },
  {
   "cell_type": "code",
   "execution_count": 21,
   "id": "65d78ff4",
   "metadata": {},
   "outputs": [],
   "source": [
    "coding_genes = []\n",
    "for i in range(0, len(coding)):\n",
    "    tr_id = coding.iloc[i,0]\n",
    "    gene_id = gffcmp[gffcmp[\"qry_id\"] == tr_id][\"qry_gene_id\"].iloc[0]\n",
    "    if gene_id not in coding_genes:\n",
    "        if gene_id not in list(pd.Categorical(gffcmp[~gffcmp[\"class_code\"].isin(['u', 'i', \"x\"])][\"qry_gene_id\"]).categories):\n",
    "            coding_genes.append(gene_id)"
   ]
  },
  {
   "cell_type": "code",
   "execution_count": 16,
   "id": "9e2c1fa2",
   "metadata": {},
   "outputs": [
    {
     "name": "stdout",
     "output_type": "stream",
     "text": [
      "All new coding genes: 3121\n"
     ]
    }
   ],
   "source": [
    "print(\"All new coding genes: \" + str(len(coding_genes)))"
   ]
  },
  {
   "cell_type": "code",
   "execution_count": 23,
   "id": "a4360975",
   "metadata": {},
   "outputs": [
    {
     "name": "stdout",
     "output_type": "stream",
     "text": [
      "All new coding genes e-10: 3121\n"
     ]
    }
   ],
   "source": [
    "print(\"All new coding genes e-10: \" + str(len(coding_genes)))"
   ]
  },
  {
   "cell_type": "code",
   "execution_count": 24,
   "id": "1248fd1b",
   "metadata": {},
   "outputs": [],
   "source": [
    "coding_in_djaphuman = coding[coding.iloc[:,0].isin(human[\"Seqid\"])|coding.iloc[:,0].isin(tblastx_smedjap[\"Seqid\"])]\n",
    "djaphumancoding_genes = []\n",
    "for i in range(0, len(coding_in_djaphuman)):\n",
    "    tr_id = coding_in_djaphuman.iloc[i,0]\n",
    "    gene_id = gffcmp[gffcmp[\"qry_id\"] == tr_id][\"qry_gene_id\"].iloc[0]\n",
    "    if gene_id not in djaphumancoding_genes:\n",
    "        if gene_id not in list(pd.Categorical(gffcmp[~gffcmp[\"class_code\"].isin(['u', 'i', \"x\"])][\"qry_gene_id\"]).categories):\n",
    "            djaphumancoding_genes.append(gene_id)"
   ]
  },
  {
   "cell_type": "code",
   "execution_count": 3,
   "id": "91ddff61",
   "metadata": {},
   "outputs": [
    {
     "name": "stdout",
     "output_type": "stream",
     "text": [
      "Coding genes homolog in Human or Djap: 3076\n"
     ]
    }
   ],
   "source": [
    "print(\"Coding genes homolog in Human or Djap: \" + str(len(djaphumancoding_genes)))"
   ]
  },
  {
   "cell_type": "code",
   "execution_count": 25,
   "id": "936c614a",
   "metadata": {},
   "outputs": [
    {
     "name": "stdout",
     "output_type": "stream",
     "text": [
      "Coding genes homolog in Human or Djap e-10: 929\n"
     ]
    }
   ],
   "source": [
    "print(\"Coding genes homolog in Human or Djap e-10: \" + str(len(djaphumancoding_genes)))"
   ]
  },
  {
   "cell_type": "code",
   "execution_count": 26,
   "id": "2b2c4780",
   "metadata": {},
   "outputs": [],
   "source": [
    "coding_in_human = coding[coding.iloc[:,0].isin(human[\"Seqid\"])]\n",
    "humancoding_genes = []\n",
    "for i in range(0, len(coding_in_human)):\n",
    "    tr_id = coding_in_human.iloc[i,0]\n",
    "    gene_id = gffcmp[gffcmp[\"qry_id\"] == tr_id][\"qry_gene_id\"].iloc[0]\n",
    "    if gene_id not in humancoding_genes:\n",
    "        if gene_id not in list(pd.Categorical(gffcmp[~gffcmp[\"class_code\"].isin(['u', 'i', \"x\"])][\"qry_gene_id\"]).categories):\n",
    "            humancoding_genes.append(gene_id)"
   ]
  },
  {
   "cell_type": "code",
   "execution_count": 5,
   "id": "77d488c7",
   "metadata": {},
   "outputs": [
    {
     "name": "stdout",
     "output_type": "stream",
     "text": [
      "Human genes: 2278\n"
     ]
    }
   ],
   "source": [
    "counter = 0\n",
    "for i in humancoding_genes:\n",
    "    if i in djaphumancoding_genes:\n",
    "        counter = counter + 1\n",
    "print(\"Human genes: \" + str(counter))"
   ]
  },
  {
   "cell_type": "code",
   "execution_count": 27,
   "id": "181e4ba7",
   "metadata": {},
   "outputs": [
    {
     "name": "stdout",
     "output_type": "stream",
     "text": [
      "Human genes e-10: 439\n"
     ]
    }
   ],
   "source": [
    "counter = 0\n",
    "for i in humancoding_genes:\n",
    "    if i in djaphumancoding_genes:\n",
    "        counter = counter + 1\n",
    "print(\"Human genes e-10: \" + str(counter))"
   ]
  },
  {
   "cell_type": "markdown",
   "id": "21880a8c",
   "metadata": {},
   "source": [
    "### Gene numbers non-coding"
   ]
  },
  {
   "cell_type": "code",
   "execution_count": 37,
   "id": "9dcd29e8",
   "metadata": {},
   "outputs": [],
   "source": [
    "import pandas as pd\n",
    "#human = pd.read_csv(\"/drives/raid/AboobakerLab/jakke/sexual_genome_annotation_files/blast_annotation/human_final.tab\", sep=\"\\t\")\n",
    "human = pd.read_csv(\"/drives/raid/AboobakerLab/jakke/sexual_genome_annotation_files/blast_annotation/human_final_e10.tab\", sep=\"\\t\")\n",
    "#human_noncod = pd.read_csv(\"/drives/raid/AboobakerLab/jakke/sexual_genome_annotation_files/blast_annotation/human_noncod_final.tab\", sep=\"\\t\")\n",
    "human_noncod = pd.read_csv(\"/drives/raid/AboobakerLab/jakke/sexual_genome_annotation_files/blast_annotation/human_noncod_final.tab\", sep=\"\\t\")\n",
    "coding = pd.read_csv(\"/drives/raid/AboobakerLab/jakke/sexual_genome_annotation_files/ncrna_Neiro/interproscan_less100aa_24082020/coding_new.csv\", header=None)\n",
    "noncoding_new = pd.read_csv(\"/drives/raid/AboobakerLab/jakke/sexual_genome_annotation_files/ncrna_Neiro/interproscan_less100aa_24082020/noncoding.csv\", sep=\"\\t\", header=None)\n",
    "gffcmp = pd.read_csv(\"/drives/raid/AboobakerLab/jakke/sexual_genome_annotation_files/ncrna_Neiro/gffcmp.stringtie_merged.gtf.tmap\", sep=\"\\t\")\n",
    "#tblastx_smedjap = pd.read_csv(\"/drives/raid/AboobakerLab/jakke/sexual_genome_annotation_files/blast_annotation/dugesiasmed_final.tab\", sep=\"\\t\")\n",
    "tblastx_smedjap = pd.read_csv(\"/drives/raid/AboobakerLab/jakke/sexual_genome_annotation_files/blast_annotation/dugesiasmed_final_e5.tab\", sep=\"\\t\")"
   ]
  },
  {
   "cell_type": "code",
   "execution_count": 38,
   "id": "816998b6",
   "metadata": {},
   "outputs": [],
   "source": [
    "noncoding_genes = []\n",
    "for i in range(0, len(noncoding_new)):\n",
    "    tr_id = noncoding_new.iloc[i,0]\n",
    "    gene_id = gffcmp[gffcmp[\"qry_id\"] == tr_id][\"qry_gene_id\"].iloc[0]\n",
    "    if gene_id not in noncoding_genes:\n",
    "        if gene_id not in list(pd.Categorical(gffcmp[~gffcmp[\"class_code\"].isin(['u', 'i', \"x\"])][\"qry_gene_id\"]).categories):\n",
    "            noncoding_genes.append(gene_id)"
   ]
  },
  {
   "cell_type": "code",
   "execution_count": 18,
   "id": "60d56d61",
   "metadata": {},
   "outputs": [
    {
     "name": "stdout",
     "output_type": "stream",
     "text": [
      "All non-coding: 4291\n"
     ]
    }
   ],
   "source": [
    "print(\"All non-coding: \" + str(len(noncoding_genes)))"
   ]
  },
  {
   "cell_type": "code",
   "execution_count": 39,
   "id": "4f1b0a15",
   "metadata": {},
   "outputs": [
    {
     "name": "stdout",
     "output_type": "stream",
     "text": [
      "All non-coding e5: 4291\n"
     ]
    }
   ],
   "source": [
    "print(\"All non-coding e5: \" + str(len(noncoding_genes)))"
   ]
  },
  {
   "cell_type": "code",
   "execution_count": 40,
   "id": "f3e35b18",
   "metadata": {},
   "outputs": [],
   "source": [
    "noncoding_in_djaphuman = noncoding_new[noncoding_new.iloc[:,0].isin(human_noncod[\"Seqid\"])|noncoding_new.iloc[:,0].isin(tblastx_smedjap[\"Seqid\"])]\n",
    "djaphumannoncoding_genes = []\n",
    "for i in range(0, len(noncoding_in_djaphuman)):\n",
    "    tr_id = noncoding_in_djaphuman.iloc[i,0]\n",
    "    gene_id = gffcmp[gffcmp[\"qry_id\"] == tr_id][\"qry_gene_id\"].iloc[0]\n",
    "    if gene_id not in djaphumannoncoding_genes:\n",
    "        if gene_id not in list(pd.Categorical(gffcmp[~gffcmp[\"class_code\"].isin(['u', 'i', \"x\"])][\"qry_gene_id\"]).categories):\n",
    "            djaphumannoncoding_genes.append(gene_id)"
   ]
  },
  {
   "cell_type": "code",
   "execution_count": 54,
   "id": "7cc5e776",
   "metadata": {},
   "outputs": [
    {
     "name": "stdout",
     "output_type": "stream",
     "text": [
      "Non-coding genes in Human and Djap: 4062\n"
     ]
    }
   ],
   "source": [
    "print(\"Non-coding genes in Human and Djap: \" + str(len(djaphumannoncoding_genes)))"
   ]
  },
  {
   "cell_type": "code",
   "execution_count": 41,
   "id": "36467ef1",
   "metadata": {},
   "outputs": [
    {
     "name": "stdout",
     "output_type": "stream",
     "text": [
      "Non-coding genes in Human and Djap e5: 693\n"
     ]
    }
   ],
   "source": [
    "print(\"Non-coding genes in Human and Djap e5: \" + str(len(djaphumannoncoding_genes)))"
   ]
  },
  {
   "cell_type": "code",
   "execution_count": 42,
   "id": "796422f1",
   "metadata": {},
   "outputs": [],
   "source": [
    "noncoding_in_human = noncoding_new[noncoding_new.iloc[:,0].isin(human_noncod[\"Seqid\"])]\n",
    "humannoncoding_genes = []\n",
    "for i in range(0, len(noncoding_in_human)):\n",
    "    tr_id = noncoding_in_human.iloc[i,0]\n",
    "    gene_id = gffcmp[gffcmp[\"qry_id\"] == tr_id][\"qry_gene_id\"].iloc[0]\n",
    "    if gene_id not in humannoncoding_genes:\n",
    "        humannoncoding_genes.append(gene_id)"
   ]
  },
  {
   "cell_type": "code",
   "execution_count": 56,
   "id": "63c27c50",
   "metadata": {},
   "outputs": [
    {
     "name": "stdout",
     "output_type": "stream",
     "text": [
      "Human non-coding loci: 27\n"
     ]
    }
   ],
   "source": [
    "counter = 0\n",
    "for i in humannoncoding_genes:\n",
    "    if i in djaphumannoncoding_genes:\n",
    "        counter = counter + 1\n",
    "print(\"Human non-coding loci: \" + str(counter))"
   ]
  },
  {
   "cell_type": "code",
   "execution_count": 43,
   "id": "fd808f94",
   "metadata": {},
   "outputs": [
    {
     "name": "stdout",
     "output_type": "stream",
     "text": [
      "Human non-coding loci e5: 27\n"
     ]
    }
   ],
   "source": [
    "counter = 0\n",
    "for i in humannoncoding_genes:\n",
    "    if i in djaphumannoncoding_genes:\n",
    "        counter = counter + 1\n",
    "print(\"Human non-coding loci e5: \" + str(counter))"
   ]
  },
  {
   "cell_type": "code",
   "execution_count": 19,
   "id": "e11719f0",
   "metadata": {},
   "outputs": [
    {
     "data": {
      "text/plain": [
       "7412"
      ]
     },
     "execution_count": 19,
     "metadata": {},
     "output_type": "execute_result"
    }
   ],
   "source": [
    "3121+4291"
   ]
  },
  {
   "cell_type": "code",
   "execution_count": 21,
   "id": "7d83e787",
   "metadata": {},
   "outputs": [
    {
     "data": {
      "text/plain": [
       "5065"
      ]
     },
     "execution_count": 21,
     "metadata": {},
     "output_type": "execute_result"
    }
   ],
   "source": [
    "len(coding)"
   ]
  },
  {
   "cell_type": "code",
   "execution_count": 20,
   "id": "df85aa1d",
   "metadata": {},
   "outputs": [
    {
     "data": {
      "text/plain": [
       "6190"
      ]
     },
     "execution_count": 20,
     "metadata": {},
     "output_type": "execute_result"
    }
   ],
   "source": [
    "len(noncoding_new)"
   ]
  },
  {
   "cell_type": "code",
   "execution_count": 22,
   "id": "41dd6e19",
   "metadata": {},
   "outputs": [
    {
     "data": {
      "text/plain": [
       "11255"
      ]
     },
     "execution_count": 22,
     "metadata": {},
     "output_type": "execute_result"
    }
   ],
   "source": [
    "5065+6190"
   ]
  },
  {
   "cell_type": "code",
   "execution_count": 25,
   "id": "990188e4",
   "metadata": {},
   "outputs": [
    {
     "data": {
      "text/html": [
       "<div>\n",
       "<style scoped>\n",
       "    .dataframe tbody tr th:only-of-type {\n",
       "        vertical-align: middle;\n",
       "    }\n",
       "\n",
       "    .dataframe tbody tr th {\n",
       "        vertical-align: top;\n",
       "    }\n",
       "\n",
       "    .dataframe thead th {\n",
       "        text-align: right;\n",
       "    }\n",
       "</style>\n",
       "<table border=\"1\" class=\"dataframe\">\n",
       "  <thead>\n",
       "    <tr style=\"text-align: right;\">\n",
       "      <th></th>\n",
       "      <th>0</th>\n",
       "    </tr>\n",
       "  </thead>\n",
       "  <tbody>\n",
       "    <tr>\n",
       "      <th>0</th>\n",
       "      <td>MSTRG.2.1</td>\n",
       "    </tr>\n",
       "    <tr>\n",
       "      <th>1</th>\n",
       "      <td>MSTRG.2.2</td>\n",
       "    </tr>\n",
       "    <tr>\n",
       "      <th>2</th>\n",
       "      <td>MSTRG.7.1</td>\n",
       "    </tr>\n",
       "    <tr>\n",
       "      <th>3</th>\n",
       "      <td>MSTRG.20.1</td>\n",
       "    </tr>\n",
       "    <tr>\n",
       "      <th>4</th>\n",
       "      <td>MSTRG.25.1</td>\n",
       "    </tr>\n",
       "    <tr>\n",
       "      <th>...</th>\n",
       "      <td>...</td>\n",
       "    </tr>\n",
       "    <tr>\n",
       "      <th>5060</th>\n",
       "      <td>MSTRG.23687.1</td>\n",
       "    </tr>\n",
       "    <tr>\n",
       "      <th>5061</th>\n",
       "      <td>MSTRG.23692.1</td>\n",
       "    </tr>\n",
       "    <tr>\n",
       "      <th>5062</th>\n",
       "      <td>MSTRG.23693.4</td>\n",
       "    </tr>\n",
       "    <tr>\n",
       "      <th>5063</th>\n",
       "      <td>MSTRG.23693.6</td>\n",
       "    </tr>\n",
       "    <tr>\n",
       "      <th>5064</th>\n",
       "      <td>MSTRG.23693.7</td>\n",
       "    </tr>\n",
       "  </tbody>\n",
       "</table>\n",
       "<p>5065 rows × 1 columns</p>\n",
       "</div>"
      ],
      "text/plain": [
       "                  0\n",
       "0         MSTRG.2.1\n",
       "1         MSTRG.2.2\n",
       "2         MSTRG.7.1\n",
       "3        MSTRG.20.1\n",
       "4        MSTRG.25.1\n",
       "...             ...\n",
       "5060  MSTRG.23687.1\n",
       "5061  MSTRG.23692.1\n",
       "5062  MSTRG.23693.4\n",
       "5063  MSTRG.23693.6\n",
       "5064  MSTRG.23693.7\n",
       "\n",
       "[5065 rows x 1 columns]"
      ]
     },
     "execution_count": 25,
     "metadata": {},
     "output_type": "execute_result"
    }
   ],
   "source": [
    "coding"
   ]
  },
  {
   "cell_type": "code",
   "execution_count": 27,
   "id": "8b26ba3d",
   "metadata": {},
   "outputs": [
    {
     "data": {
      "text/plain": [
       "4752"
      ]
     },
     "execution_count": 27,
     "metadata": {},
     "output_type": "execute_result"
    }
   ],
   "source": [
    "sum(gffcmp[gffcmp[\"qry_gene_id\"].isin(coding_genes)][\"qry_id\"].isin(coding.iloc[:,0]))"
   ]
  },
  {
   "cell_type": "code",
   "execution_count": 28,
   "id": "bb75cf2d",
   "metadata": {},
   "outputs": [
    {
     "data": {
      "text/plain": [
       "5884"
      ]
     },
     "execution_count": 28,
     "metadata": {},
     "output_type": "execute_result"
    }
   ],
   "source": [
    "sum(gffcmp[gffcmp[\"qry_gene_id\"].isin(noncoding_genes)][\"qry_id\"].isin(noncoding_new.iloc[:,0]))"
   ]
  },
  {
   "cell_type": "code",
   "execution_count": 29,
   "id": "d31ea28e",
   "metadata": {},
   "outputs": [
    {
     "data": {
      "text/plain": [
       "10636"
      ]
     },
     "execution_count": 29,
     "metadata": {},
     "output_type": "execute_result"
    }
   ],
   "source": [
    "4752+5884"
   ]
  },
  {
   "cell_type": "markdown",
   "id": "827431d6",
   "metadata": {},
   "source": [
    "# 4. Isoform number and BLAST"
   ]
  },
  {
   "cell_type": "code",
   "execution_count": 9,
   "id": "45f42deb",
   "metadata": {},
   "outputs": [],
   "source": [
    "counts = pd.read_csv(\"/hydra/sexual_genome_annotation_files/ncrna_Neiro/genetranscriptcounts.csv\")"
   ]
  },
  {
   "cell_type": "code",
   "execution_count": 10,
   "id": "61af4cdd",
   "metadata": {},
   "outputs": [],
   "source": [
    "import pandas as pd\n",
    "human_gene_blast = pd.read_csv(\"/hydra/sexual_genome_annotation_files/blast_annotation/human_gene_blast.tab\", sep=\"\\t\")"
   ]
  },
  {
   "cell_type": "code",
   "execution_count": 23,
   "id": "b985ad9e",
   "metadata": {},
   "outputs": [],
   "source": [
    "counts[\"Description\"] = \" \"\n",
    "counts[\"Synonym\"] = \" \"\n",
    "counts[\"Symbol\"] = \" \""
   ]
  },
  {
   "cell_type": "code",
   "execution_count": 26,
   "id": "ac9bfe25",
   "metadata": {},
   "outputs": [],
   "source": [
    "#for i in range(len(counts)):\n",
    "#    table = human_gene_blast[human_gene_blast[\"geneID\"] == counts.iloc[i,0]]\n",
    "#    if len(table) > 0:\n",
    "#        counts[\"Description\"].iloc[i] = table[\"Description\"].iloc[0]\n",
    "#        counts[\"Synonym\"].iloc[i] = table[\"Synonym\"].iloc[0]\n",
    "#        counts[\"Symbol\"].iloc[i] = table[\"Symbol\"].iloc[0]\n",
    "#    if i%1000 == 1:\n",
    "#        print(i)"
   ]
  },
  {
   "cell_type": "code",
   "execution_count": 27,
   "id": "2025d3bd",
   "metadata": {},
   "outputs": [],
   "source": [
    "counts.to_csv(\"/hydra/sexual_genome_annotation_files/ncrna_Neiro/counts_annotated.csv\", index=False)"
   ]
  },
  {
   "cell_type": "code",
   "execution_count": 49,
   "id": "561e034f",
   "metadata": {},
   "outputs": [],
   "source": [
    "import pandas as pd\n",
    "counts = pd.read_csv(\"/hydra/sexual_genome_annotation_files/ncrna_Neiro/counts_annotated.csv\")"
   ]
  },
  {
   "cell_type": "code",
   "execution_count": 47,
   "id": "c4e34942",
   "metadata": {},
   "outputs": [
    {
     "data": {
      "text/html": [
       "<div>\n",
       "<style scoped>\n",
       "    .dataframe tbody tr th:only-of-type {\n",
       "        vertical-align: middle;\n",
       "    }\n",
       "\n",
       "    .dataframe tbody tr th {\n",
       "        vertical-align: top;\n",
       "    }\n",
       "\n",
       "    .dataframe thead th {\n",
       "        text-align: right;\n",
       "    }\n",
       "</style>\n",
       "<table border=\"1\" class=\"dataframe\">\n",
       "  <thead>\n",
       "    <tr style=\"text-align: right;\">\n",
       "      <th></th>\n",
       "      <th>Genes</th>\n",
       "      <th>Counts</th>\n",
       "      <th>Description</th>\n",
       "      <th>Symbol</th>\n",
       "      <th>Synonym</th>\n",
       "    </tr>\n",
       "  </thead>\n",
       "  <tbody>\n",
       "    <tr>\n",
       "      <th>11907</th>\n",
       "      <td>MSTRG.20714</td>\n",
       "      <td>571.0</td>\n",
       "      <td>transmembrane protein 25 [Source:HGNC Symbol;A...</td>\n",
       "      <td>TMEM25</td>\n",
       "      <td>FLJ14399</td>\n",
       "    </tr>\n",
       "    <tr>\n",
       "      <th>10894</th>\n",
       "      <td>MSTRG.19803</td>\n",
       "      <td>291.0</td>\n",
       "      <td>C-type lectin domain family 18 member B [Sourc...</td>\n",
       "      <td>CLEC18B</td>\n",
       "      <td>MRCL2</td>\n",
       "    </tr>\n",
       "    <tr>\n",
       "      <th>3991</th>\n",
       "      <td>MSTRG.13590</td>\n",
       "      <td>206.0</td>\n",
       "      <td>ankyrin 2 [Source:HGNC Symbol;Acc:HGNC:493]</td>\n",
       "      <td>ANK2</td>\n",
       "      <td>CFAP87</td>\n",
       "    </tr>\n",
       "    <tr>\n",
       "      <th>13789</th>\n",
       "      <td>MSTRG.22408</td>\n",
       "      <td>143.0</td>\n",
       "      <td>GA binding protein transcription factor subuni...</td>\n",
       "      <td>GABPB2</td>\n",
       "      <td>MGC29891</td>\n",
       "    </tr>\n",
       "    <tr>\n",
       "      <th>1458</th>\n",
       "      <td>MSTRG.1131</td>\n",
       "      <td>138.0</td>\n",
       "      <td>parkin coregulated [Source:HGNC Symbol;Acc:HGN...</td>\n",
       "      <td>PACRG</td>\n",
       "      <td>FLJ32724</td>\n",
       "    </tr>\n",
       "    <tr>\n",
       "      <th>17004</th>\n",
       "      <td>MSTRG.3975</td>\n",
       "      <td>112.0</td>\n",
       "      <td>ankyrin 3 [Source:HGNC Symbol;Acc:HGNC:494]</td>\n",
       "      <td>ANK3</td>\n",
       "      <td>NaN</td>\n",
       "    </tr>\n",
       "    <tr>\n",
       "      <th>4094</th>\n",
       "      <td>MSTRG.13683</td>\n",
       "      <td>106.0</td>\n",
       "      <td>dystonin [Source:HGNC Symbol;Acc:HGNC:1090]</td>\n",
       "      <td>DST</td>\n",
       "      <td>BP240</td>\n",
       "    </tr>\n",
       "    <tr>\n",
       "      <th>20328</th>\n",
       "      <td>MSTRG.6967</td>\n",
       "      <td>104.0</td>\n",
       "      <td>ankyrin 3 [Source:HGNC Symbol;Acc:HGNC:494]</td>\n",
       "      <td>ANK3</td>\n",
       "      <td>NaN</td>\n",
       "    </tr>\n",
       "    <tr>\n",
       "      <th>1864</th>\n",
       "      <td>MSTRG.11676</td>\n",
       "      <td>91.0</td>\n",
       "      <td>ubiquitin specific peptidase 2 [Source:HGNC Sy...</td>\n",
       "      <td>USP2</td>\n",
       "      <td>UBP41</td>\n",
       "    </tr>\n",
       "    <tr>\n",
       "      <th>3818</th>\n",
       "      <td>MSTRG.13434</td>\n",
       "      <td>87.0</td>\n",
       "      <td>SH3 domain containing GRB2 like, endophilin B1...</td>\n",
       "      <td>SH3GLB1</td>\n",
       "      <td>Bif-1</td>\n",
       "    </tr>\n",
       "    <tr>\n",
       "      <th>13740</th>\n",
       "      <td>MSTRG.22364</td>\n",
       "      <td>82.0</td>\n",
       "      <td>receptor interacting serine/threonine kinase 4...</td>\n",
       "      <td>RIPK4</td>\n",
       "      <td>ANKK2</td>\n",
       "    </tr>\n",
       "    <tr>\n",
       "      <th>12954</th>\n",
       "      <td>MSTRG.21657</td>\n",
       "      <td>78.0</td>\n",
       "      <td>C-type lectin domain family 18 member B [Sourc...</td>\n",
       "      <td>CLEC18B</td>\n",
       "      <td>MRCL2</td>\n",
       "    </tr>\n",
       "    <tr>\n",
       "      <th>6235</th>\n",
       "      <td>MSTRG.1561</td>\n",
       "      <td>75.0</td>\n",
       "      <td>MX dynamin like GTPase 2 [Source:HGNC Symbol;A...</td>\n",
       "      <td>MX2</td>\n",
       "      <td>MXB</td>\n",
       "    </tr>\n",
       "    <tr>\n",
       "      <th>7055</th>\n",
       "      <td>MSTRG.16348</td>\n",
       "      <td>67.0</td>\n",
       "      <td>mannose receptor C-type 1 [Source:HGNC Symbol;...</td>\n",
       "      <td>MRC1</td>\n",
       "      <td>bA541I19.1</td>\n",
       "    </tr>\n",
       "    <tr>\n",
       "      <th>13809</th>\n",
       "      <td>MSTRG.22426</td>\n",
       "      <td>60.0</td>\n",
       "      <td>ankyrin 1 [Source:HGNC Symbol;Acc:HGNC:492]</td>\n",
       "      <td>ANK1</td>\n",
       "      <td>ANK</td>\n",
       "    </tr>\n",
       "    <tr>\n",
       "      <th>18571</th>\n",
       "      <td>MSTRG.5385</td>\n",
       "      <td>59.0</td>\n",
       "      <td>ankyrin repeat and KH domain containing 1 [Sou...</td>\n",
       "      <td>ANKHD1</td>\n",
       "      <td>FLJ10042</td>\n",
       "    </tr>\n",
       "    <tr>\n",
       "      <th>2190</th>\n",
       "      <td>MSTRG.1197</td>\n",
       "      <td>58.0</td>\n",
       "      <td>ankyrin 3 [Source:HGNC Symbol;Acc:HGNC:494]</td>\n",
       "      <td>ANK3</td>\n",
       "      <td>NaN</td>\n",
       "    </tr>\n",
       "    <tr>\n",
       "      <th>13775</th>\n",
       "      <td>MSTRG.22396</td>\n",
       "      <td>57.0</td>\n",
       "      <td>kinase D interacting substrate 220 [Source:HGN...</td>\n",
       "      <td>KIDINS220</td>\n",
       "      <td>ARMS</td>\n",
       "    </tr>\n",
       "    <tr>\n",
       "      <th>18694</th>\n",
       "      <td>MSTRG.5496</td>\n",
       "      <td>57.0</td>\n",
       "      <td>filamin A [Source:HGNC Symbol;Acc:HGNC:3754]</td>\n",
       "      <td>FLNA</td>\n",
       "      <td>ABP-280</td>\n",
       "    </tr>\n",
       "    <tr>\n",
       "      <th>3314</th>\n",
       "      <td>MSTRG.12981</td>\n",
       "      <td>56.0</td>\n",
       "      <td>ankyrin repeat domain 28 [Source:HGNC Symbol;A...</td>\n",
       "      <td>ANKRD28</td>\n",
       "      <td>CFAP79</td>\n",
       "    </tr>\n",
       "    <tr>\n",
       "      <th>8234</th>\n",
       "      <td>MSTRG.17409</td>\n",
       "      <td>56.0</td>\n",
       "      <td>microtubule associated protein 1S [Source:HGNC...</td>\n",
       "      <td>MAP1S</td>\n",
       "      <td>BPY2IP1</td>\n",
       "    </tr>\n",
       "    <tr>\n",
       "      <th>7021</th>\n",
       "      <td>MSTRG.16317</td>\n",
       "      <td>55.0</td>\n",
       "      <td>von Willebrand factor A domain containing 5A [...</td>\n",
       "      <td>VWA5A</td>\n",
       "      <td>BCSC-1</td>\n",
       "    </tr>\n",
       "    <tr>\n",
       "      <th>1569</th>\n",
       "      <td>MSTRG.1141</td>\n",
       "      <td>54.0</td>\n",
       "      <td>zinc finger MYM-type containing 6 [Source:HGNC...</td>\n",
       "      <td>ZMYM6</td>\n",
       "      <td>Buster2</td>\n",
       "    </tr>\n",
       "    <tr>\n",
       "      <th>6600</th>\n",
       "      <td>MSTRG.15939</td>\n",
       "      <td>53.0</td>\n",
       "      <td>ankyrin 2 [Source:HGNC Symbol;Acc:HGNC:493]</td>\n",
       "      <td>ANK2</td>\n",
       "      <td>CFAP87</td>\n",
       "    </tr>\n",
       "    <tr>\n",
       "      <th>13782</th>\n",
       "      <td>MSTRG.22401</td>\n",
       "      <td>53.0</td>\n",
       "      <td>ankyrin 1 [Source:HGNC Symbol;Acc:HGNC:492]</td>\n",
       "      <td>ANK1</td>\n",
       "      <td>ANK</td>\n",
       "    </tr>\n",
       "    <tr>\n",
       "      <th>16890</th>\n",
       "      <td>MSTRG.3872</td>\n",
       "      <td>53.0</td>\n",
       "      <td>SET binding factor 2 [Source:HGNC Symbol;Acc:H...</td>\n",
       "      <td>SBF2</td>\n",
       "      <td>CMT4B2</td>\n",
       "    </tr>\n",
       "    <tr>\n",
       "      <th>7411</th>\n",
       "      <td>MSTRG.16669</td>\n",
       "      <td>52.0</td>\n",
       "      <td>tigger transposable element derived 1 [Source:...</td>\n",
       "      <td>TIGD1</td>\n",
       "      <td>EEYORE</td>\n",
       "    </tr>\n",
       "  </tbody>\n",
       "</table>\n",
       "</div>"
      ],
      "text/plain": [
       "             Genes  Counts                                        Description  \\\n",
       "11907  MSTRG.20714   571.0  transmembrane protein 25 [Source:HGNC Symbol;A...   \n",
       "10894  MSTRG.19803   291.0  C-type lectin domain family 18 member B [Sourc...   \n",
       "3991   MSTRG.13590   206.0        ankyrin 2 [Source:HGNC Symbol;Acc:HGNC:493]   \n",
       "13789  MSTRG.22408   143.0  GA binding protein transcription factor subuni...   \n",
       "1458    MSTRG.1131   138.0  parkin coregulated [Source:HGNC Symbol;Acc:HGN...   \n",
       "17004   MSTRG.3975   112.0        ankyrin 3 [Source:HGNC Symbol;Acc:HGNC:494]   \n",
       "4094   MSTRG.13683   106.0        dystonin [Source:HGNC Symbol;Acc:HGNC:1090]   \n",
       "20328   MSTRG.6967   104.0        ankyrin 3 [Source:HGNC Symbol;Acc:HGNC:494]   \n",
       "1864   MSTRG.11676    91.0  ubiquitin specific peptidase 2 [Source:HGNC Sy...   \n",
       "3818   MSTRG.13434    87.0  SH3 domain containing GRB2 like, endophilin B1...   \n",
       "13740  MSTRG.22364    82.0  receptor interacting serine/threonine kinase 4...   \n",
       "12954  MSTRG.21657    78.0  C-type lectin domain family 18 member B [Sourc...   \n",
       "6235    MSTRG.1561    75.0  MX dynamin like GTPase 2 [Source:HGNC Symbol;A...   \n",
       "7055   MSTRG.16348    67.0  mannose receptor C-type 1 [Source:HGNC Symbol;...   \n",
       "13809  MSTRG.22426    60.0        ankyrin 1 [Source:HGNC Symbol;Acc:HGNC:492]   \n",
       "18571   MSTRG.5385    59.0  ankyrin repeat and KH domain containing 1 [Sou...   \n",
       "2190    MSTRG.1197    58.0        ankyrin 3 [Source:HGNC Symbol;Acc:HGNC:494]   \n",
       "13775  MSTRG.22396    57.0  kinase D interacting substrate 220 [Source:HGN...   \n",
       "18694   MSTRG.5496    57.0       filamin A [Source:HGNC Symbol;Acc:HGNC:3754]   \n",
       "3314   MSTRG.12981    56.0  ankyrin repeat domain 28 [Source:HGNC Symbol;A...   \n",
       "8234   MSTRG.17409    56.0  microtubule associated protein 1S [Source:HGNC...   \n",
       "7021   MSTRG.16317    55.0  von Willebrand factor A domain containing 5A [...   \n",
       "1569    MSTRG.1141    54.0  zinc finger MYM-type containing 6 [Source:HGNC...   \n",
       "6600   MSTRG.15939    53.0        ankyrin 2 [Source:HGNC Symbol;Acc:HGNC:493]   \n",
       "13782  MSTRG.22401    53.0        ankyrin 1 [Source:HGNC Symbol;Acc:HGNC:492]   \n",
       "16890   MSTRG.3872    53.0  SET binding factor 2 [Source:HGNC Symbol;Acc:H...   \n",
       "7411   MSTRG.16669    52.0  tigger transposable element derived 1 [Source:...   \n",
       "\n",
       "          Symbol     Synonym  \n",
       "11907     TMEM25    FLJ14399  \n",
       "10894    CLEC18B       MRCL2  \n",
       "3991        ANK2      CFAP87  \n",
       "13789     GABPB2    MGC29891  \n",
       "1458       PACRG    FLJ32724  \n",
       "17004       ANK3         NaN  \n",
       "4094         DST       BP240  \n",
       "20328       ANK3         NaN  \n",
       "1864        USP2       UBP41  \n",
       "3818     SH3GLB1       Bif-1  \n",
       "13740      RIPK4       ANKK2  \n",
       "12954    CLEC18B       MRCL2  \n",
       "6235         MX2         MXB  \n",
       "7055        MRC1  bA541I19.1  \n",
       "13809       ANK1         ANK  \n",
       "18571     ANKHD1    FLJ10042  \n",
       "2190        ANK3         NaN  \n",
       "13775  KIDINS220        ARMS  \n",
       "18694       FLNA     ABP-280  \n",
       "3314     ANKRD28      CFAP79  \n",
       "8234       MAP1S     BPY2IP1  \n",
       "7021       VWA5A      BCSC-1  \n",
       "1569       ZMYM6     Buster2  \n",
       "6600        ANK2      CFAP87  \n",
       "13782       ANK1         ANK  \n",
       "16890       SBF2      CMT4B2  \n",
       "7411       TIGD1      EEYORE  "
      ]
     },
     "execution_count": 47,
     "metadata": {},
     "output_type": "execute_result"
    }
   ],
   "source": [
    "counts[counts[\"Counts\"] > 50].sort_values(by=\"Counts\", ascending=False)"
   ]
  },
  {
   "cell_type": "code",
   "execution_count": 38,
   "id": "efb1ffc0",
   "metadata": {},
   "outputs": [],
   "source": [
    "gffcmp = pd.read_csv(\"/hydra/sexual_genome_annotation_files/ncrna_Neiro/gffcmp.stringtie_merged.gtf.tmap\", sep=\"\\t\")"
   ]
  },
  {
   "cell_type": "markdown",
   "id": "89a77c4c",
   "metadata": {},
   "source": [
    "# FINNISHED"
   ]
  }
 ],
 "metadata": {
  "kernelspec": {
   "display_name": "Python 3 (ipykernel)",
   "language": "python",
   "name": "python3"
  },
  "language_info": {
   "codemirror_mode": {
    "name": "ipython",
    "version": 3
   },
   "file_extension": ".py",
   "mimetype": "text/x-python",
   "name": "python",
   "nbconvert_exporter": "python",
   "pygments_lexer": "ipython3",
   "version": "3.8.12"
  }
 },
 "nbformat": 4,
 "nbformat_minor": 5
}
