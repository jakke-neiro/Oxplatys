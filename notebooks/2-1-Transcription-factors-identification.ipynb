{
 "cells": [
  {
   "cell_type": "markdown",
   "id": "d752a842",
   "metadata": {},
   "source": [
    "# 2-1-Transcription-factors-identification\n",
    "Jakke Neiro$^1$\n",
    "1. Aboobaker laboratory, Department of Zoology, University of Oxford"
   ]
  },
  {
   "cell_type": "markdown",
   "id": "c6a57478",
   "metadata": {},
   "source": [
    "## Contents of notebook"
   ]
  },
  {
   "cell_type": "markdown",
   "id": "1911b6f7",
   "metadata": {},
   "source": [
    "* 1. Introduction\n",
    "* 2.  Classification of protein families: interproscan\n",
    "    * 2.1 Transdecoder\n",
    "    * 2.2 Interproscan\n",
    "* 3. Identification of transcription factors\n",
    "    * 3.1 Transcription factor IDs\n",
    "    * 3.2 Transcription factor IDs in interproscan result\n",
    "    * 3.3 From Interproscan result to gene IDs\n",
    "    * 3.4 Comparison with Swapna et al. 2018\n",
    "* 4. Manual curation"
   ]
  },
  {
   "cell_type": "markdown",
   "id": "b8f0d117",
   "metadata": {},
   "source": [
    "## Files\n",
    "* Input: stringtie_transcripts.fa\n",
    "* Output:"
   ]
  },
  {
   "cell_type": "markdown",
   "id": "e01866e7",
   "metadata": {},
   "source": [
    "# 1. Introduction"
   ]
  },
  {
   "cell_type": "markdown",
   "id": "ed1e1050",
   "metadata": {},
   "source": [
    "Transcription factors were identified based on the new annotation. ORFs and peptide sequences were generated with Transdecoder and TF-like protein domains were scanned with Interproscan. Transcription factors were identified based on three criteria: pfam IDs, Superfamily IDs, and the description \"Transcription factor\" in the description. Lastly, the computationally derived TFs were manually curated. "
   ]
  },
  {
   "cell_type": "markdown",
   "id": "fef3fc1d",
   "metadata": {},
   "source": [
    "# 2. Classification of protein families: interproscan"
   ]
  },
  {
   "cell_type": "markdown",
   "id": "c201d82a",
   "metadata": {},
   "source": [
    "## 2.1 Transdecoder"
   ]
  },
  {
   "cell_type": "code",
   "execution_count": 2,
   "id": "3302d9a1",
   "metadata": {},
   "outputs": [
    {
     "name": "stdout",
     "output_type": "stream",
     "text": [
      "91068\n"
     ]
    }
   ],
   "source": [
    "%%bash\n",
    "cd /hydra/FACS/\n",
    "grep -c \">\" stringtie_transcripts.fa"
   ]
  },
  {
   "cell_type": "markdown",
   "id": "814c336e",
   "metadata": {},
   "source": [
    "Transdecoder was used to obtain reading frames"
   ]
  },
  {
   "cell_type": "code",
   "execution_count": null,
   "id": "6ab7753b",
   "metadata": {},
   "outputs": [],
   "source": [
    "#%%bash\n",
    "#cd /hydra/FACS/\n",
    "#nohup TransDecoder.LongOrfs -t stringtie_transcripts.fa -O Transdecoder_all &"
   ]
  },
  {
   "cell_type": "markdown",
   "id": "f64119f6",
   "metadata": {},
   "source": [
    "The last * from each protein sequence was removed:"
   ]
  },
  {
   "cell_type": "code",
   "execution_count": null,
   "id": "9a283b25",
   "metadata": {},
   "outputs": [],
   "source": [
    "#%%bash\n",
    "#cd /hydra/FACS/Transdecoder_all\n",
    "#cp longest_orfs.pep longest_orfs_ip.pep\n",
    "#sed -i 's_*__g' longest_orfs_ip.pep\n",
    "#head longest_orfs_ip.pep"
   ]
  },
  {
   "cell_type": "code",
   "execution_count": 4,
   "id": "652c9e68",
   "metadata": {},
   "outputs": [
    {
     "name": "stdout",
     "output_type": "stream",
     "text": [
      "112819\n"
     ]
    }
   ],
   "source": [
    "%%bash\n",
    "cd /hydra/FACS/Transdecoder_all\n",
    "grep -c \">\" longest_orfs_ip.pep"
   ]
  },
  {
   "cell_type": "markdown",
   "id": "2b21b8c8",
   "metadata": {},
   "source": [
    "## 2.2 Interproscan"
   ]
  },
  {
   "cell_type": "markdown",
   "id": "cc9836ca",
   "metadata": {},
   "source": [
    "Interproscan was performed on the sequences, including -goterms:"
   ]
  },
  {
   "cell_type": "code",
   "execution_count": null,
   "id": "b885de29",
   "metadata": {},
   "outputs": [],
   "source": [
    "%%bash\n",
    "cd /hydra/FACS\n",
    "cd TF_interpro\n",
    "echo \"#!/bin/bash\" > interproscan_TF.sh\n",
    "echo \"/hydra/software/interproscan-5.46-81.0/interproscan.sh -i /hydra/FACS/Transdecoder_all/longest_orfs_ip.pep -d /hydra/FACS/TF_interpro/interproscan_24082020 -goterms \" >> interproscan_TF.sh\n",
    "chmod +x interproscan_TF.sh\n",
    "less interproscan_TF.sh"
   ]
  },
  {
   "cell_type": "code",
   "execution_count": null,
   "id": "7b2179e9",
   "metadata": {},
   "outputs": [],
   "source": [
    "#%%bash\n",
    "#cd /hydra/FACS/TF_interpro\n",
    "#nohup ./interproscan_TF.sh &"
   ]
  },
  {
   "cell_type": "markdown",
   "id": "e3038c81",
   "metadata": {},
   "source": [
    "# 3. Identification of transcription factors"
   ]
  },
  {
   "cell_type": "markdown",
   "id": "2fcb286e",
   "metadata": {},
   "source": [
    "Transcription factors were identified based on three criteria: pfam IDs, Superfamily IDs, and the description \"Transcription factor\" in the description. "
   ]
  },
  {
   "cell_type": "markdown",
   "id": "cee2a023",
   "metadata": {},
   "source": [
    "## 3.1 Transcription factor IDs"
   ]
  },
  {
   "cell_type": "markdown",
   "id": "e6ca1ff7",
   "metadata": {},
   "source": [
    "The Pfam IDs were reorganised into a list:"
   ]
  },
  {
   "cell_type": "code",
   "execution_count": null,
   "id": "290fa962",
   "metadata": {},
   "outputs": [],
   "source": [
    "import pandas as pd\n",
    "pfam_tf = pd.read_csv(\"/hydra/sexual_genome_annotation_files/Swapna/pfam_tf.txt\", sep=\"\\t\", header=None)"
   ]
  },
  {
   "cell_type": "code",
   "execution_count": null,
   "id": "4259a45e",
   "metadata": {},
   "outputs": [],
   "source": [
    "pfam_tf.iloc[:,1].to_csv(\"/hydra/sexual_genome_annotation_files/Swapna/pfam_tf_list.txt\", index=False, header=None)"
   ]
  },
  {
   "cell_type": "markdown",
   "id": "dd9cecef",
   "metadata": {},
   "source": [
    "The Superfamily IDs were reorganised into a list: "
   ]
  },
  {
   "cell_type": "code",
   "execution_count": null,
   "id": "d73ba6d8",
   "metadata": {},
   "outputs": [],
   "source": [
    "import pandas as pd\n",
    "superfamily_tf = pd.read_csv(\"/hydra/sexual_genome_annotation_files/Swapna/SUPERFAMILY_1_69.dbds.v2.03.txt\", sep=\"\\t\", header=None)\n",
    "superfamily_tf_id = []\n",
    "for i in range(0, len(superfamily_tf)):\n",
    "    superfamily_tf_id.append(\"SSF\"+str(superfamily_tf.iloc[i,5]))\n",
    "superfamily_tf_id[0:5]"
   ]
  },
  {
   "cell_type": "code",
   "execution_count": null,
   "id": "74648e17",
   "metadata": {},
   "outputs": [],
   "source": [
    "pd.DataFrame(superfamily_tf_id).to_csv(\"/hydra/sexual_genome_annotation_files/Swapna/superfamily_list.txt\", index=False, header=None)"
   ]
  },
  {
   "cell_type": "code",
   "execution_count": null,
   "id": "dd4c64b5",
   "metadata": {},
   "outputs": [],
   "source": [
    "%%bash\n",
    "cd /hydra/sexual_genome_annotation_files/Swapna\n",
    "wc -l superfamily_list.txt"
   ]
  },
  {
   "cell_type": "code",
   "execution_count": 6,
   "id": "2631969a",
   "metadata": {},
   "outputs": [
    {
     "name": "stdout",
     "output_type": "stream",
     "text": [
      "SSF56548\n",
      "SSF49417\n"
     ]
    }
   ],
   "source": [
    "%%bash\n",
    "cd /hydra/sexual_genome_annotation_files/Swapna\n",
    "head -2 superfamily_list.txt"
   ]
  },
  {
   "cell_type": "markdown",
   "id": "33749d52",
   "metadata": {},
   "source": [
    "## 3.2 Transcription factor IDs in interproscan result"
   ]
  },
  {
   "cell_type": "code",
   "execution_count": 7,
   "id": "d03abc3d",
   "metadata": {},
   "outputs": [
    {
     "name": "stdout",
     "output_type": "stream",
     "text": [
      "700276 longest_orfs_ip.pep.tsv\n"
     ]
    }
   ],
   "source": [
    "%%bash\n",
    "cd /hydra/FACS/TF_interpro/interproscan_24082020\n",
    "wc -l longest_orfs_ip.pep.tsv"
   ]
  },
  {
   "cell_type": "markdown",
   "id": "b71b946f",
   "metadata": {},
   "source": [
    "Transcription factors were chosen based on pfam_ids:"
   ]
  },
  {
   "cell_type": "code",
   "execution_count": null,
   "id": "ced28192",
   "metadata": {},
   "outputs": [],
   "source": [
    "#%%bash\n",
    "#cd /hydra/FACS/TF_interpro/interproscan_24082020\n",
    "#while read p; do grep -w $p longest_orfs_ip.pep.tsv >> pfam.tf.pep.tsv ; done < /hydra/sexual_genome_annotation_files/Swapna/pfam_tf_list.txt"
   ]
  },
  {
   "cell_type": "code",
   "execution_count": 8,
   "id": "25058353",
   "metadata": {},
   "outputs": [
    {
     "name": "stdout",
     "output_type": "stream",
     "text": [
      "4202 pfam.tf.pep.tsv\n"
     ]
    }
   ],
   "source": [
    "%%bash\n",
    "cd /hydra/FACS/TF_interpro/interproscan_24082020\n",
    "wc -l pfam.tf.pep.tsv"
   ]
  },
  {
   "cell_type": "markdown",
   "id": "f8e7448c",
   "metadata": {},
   "source": [
    "Transcription factors were chosen based on superfamily_ids:"
   ]
  },
  {
   "cell_type": "code",
   "execution_count": null,
   "id": "034df730",
   "metadata": {},
   "outputs": [],
   "source": [
    "#%%bash\n",
    "#cd /hydra/FACS/TF_interpro/interproscan_24082020\n",
    "#while read p; do grep -w $p longest_orfs_ip.pep.tsv >> superfamily.tf.pep.tsv ; done < /hydra/sexual_genome_annotation_files/Swapna/superfamily_list.txt"
   ]
  },
  {
   "cell_type": "code",
   "execution_count": 9,
   "id": "833133ac",
   "metadata": {},
   "outputs": [
    {
     "name": "stdout",
     "output_type": "stream",
     "text": [
      "132410 superfamily.tf.pep.tsv\n"
     ]
    }
   ],
   "source": [
    "%%bash\n",
    "cd /hydra/FACS/TF_interpro/interproscan_24082020\n",
    "wc -l superfamily.tf.pep.tsv"
   ]
  },
  {
   "cell_type": "markdown",
   "id": "ebbcdcc5",
   "metadata": {},
   "source": [
    "Transcription factors were chosen based on the name \"Transcription factor\" in Interproscan results:"
   ]
  },
  {
   "cell_type": "code",
   "execution_count": null,
   "id": "69e6c122",
   "metadata": {},
   "outputs": [],
   "source": [
    "%%bash\n",
    "cd /hydra/FACS/TF_interpro/interproscan_24082020\n",
    "grep \"Transcription factor\" longest_orfs_ip.pep.tsv > transcription_factor.tf.pep.tsv"
   ]
  },
  {
   "cell_type": "code",
   "execution_count": null,
   "id": "4d384ff5",
   "metadata": {},
   "outputs": [],
   "source": [
    "%%bash\n",
    "cd /hydra/FACS/TF_interpro/interproscan_24082020\n",
    "wc -l transcription_factor.tf.pep.tsv"
   ]
  },
  {
   "cell_type": "markdown",
   "id": "406a46f2",
   "metadata": {},
   "source": [
    "The results were combined:"
   ]
  },
  {
   "cell_type": "code",
   "execution_count": null,
   "id": "380c727d",
   "metadata": {},
   "outputs": [],
   "source": [
    "%%bash\n",
    "cd /hydra/FACS/TF_interpro/interproscan_24082020\n",
    "cat pfam.tf.pep.tsv superfamily.tf.pep.tsv transcription_factor.tf.pep.tsv > final.tf.pep.tsv"
   ]
  },
  {
   "cell_type": "code",
   "execution_count": 10,
   "id": "ad7fb726",
   "metadata": {},
   "outputs": [
    {
     "name": "stdout",
     "output_type": "stream",
     "text": [
      "137758 final.tf.pep.tsv\n"
     ]
    }
   ],
   "source": [
    "%%bash\n",
    "cd /hydra/FACS/TF_interpro/interproscan_24082020\n",
    "wc -l final.tf.pep.tsv"
   ]
  },
  {
   "cell_type": "markdown",
   "id": "0e0f450a",
   "metadata": {},
   "source": [
    "## 3.3 From Interproscan result to gene IDs "
   ]
  },
  {
   "cell_type": "code",
   "execution_count": null,
   "id": "cdf451e7",
   "metadata": {},
   "outputs": [],
   "source": [
    "import pandas as pd\n",
    "interpro_all_df = pd.read_csv(\"/hydra/FACS/TF_interpro/interproscan_24082020/final.tf.pep.tsv\", sep=\"\\t\", header=None, low_memory=False)"
   ]
  },
  {
   "cell_type": "code",
   "execution_count": null,
   "id": "b802e71b",
   "metadata": {},
   "outputs": [],
   "source": [
    "len(interpro_all_df)"
   ]
  },
  {
   "cell_type": "markdown",
   "id": "ad7043f9",
   "metadata": {},
   "source": [
    "Protein IDs are converted into transcript ids:"
   ]
  },
  {
   "cell_type": "code",
   "execution_count": null,
   "id": "0b0cc1d8",
   "metadata": {},
   "outputs": [],
   "source": [
    "interpro_all_df_transcript_ids = []\n",
    "for i in range(len(interpro_all_df)):\n",
    "    id_i = interpro_all_df.iloc[i,0].split(\".p\")[0]\n",
    "    if id_i not in interpro_all_df_transcript_ids:\n",
    "        interpro_all_df_transcript_ids.append(id_i)"
   ]
  },
  {
   "cell_type": "code",
   "execution_count": null,
   "id": "029b4c4c",
   "metadata": {},
   "outputs": [],
   "source": [
    "len(interpro_all_df_transcript_ids)"
   ]
  },
  {
   "cell_type": "markdown",
   "id": "85c4339e",
   "metadata": {},
   "source": [
    "The table containing the correspondence between transcript ID and gene ID is uploaded:"
   ]
  },
  {
   "cell_type": "code",
   "execution_count": null,
   "id": "ab25a01c",
   "metadata": {},
   "outputs": [],
   "source": [
    "gffcmp = pd.read_csv(\"/hydra/sexual_genome_annotation_files/ncrna_Neiro/gffcmp.stringtie_merged.gtf.tmap\", sep=\"\\t\")\n",
    "gene2transcript = gffcmp.iloc[:,[0,3,4]]\n",
    "gene2transcript"
   ]
  },
  {
   "cell_type": "markdown",
   "id": "4b5c2eb3",
   "metadata": {},
   "source": [
    "Transcripts with a TF ID are selected:"
   ]
  },
  {
   "cell_type": "code",
   "execution_count": null,
   "id": "92664922",
   "metadata": {},
   "outputs": [],
   "source": [
    "tf_transcripts = gene2transcript[gene2transcript[\"qry_id\"].isin(interpro_all_df_transcript_ids)]"
   ]
  },
  {
   "cell_type": "code",
   "execution_count": null,
   "id": "f78314d7",
   "metadata": {},
   "outputs": [],
   "source": [
    "qry_gene_id = pd.Categorical(tf_transcripts[\"qry_gene_id\"]).categories.to_list()\n",
    "ref_gene_id = []\n",
    "for i in range(len(qry_gene_id)):\n",
    "    ref_gene_id.append(tf_transcripts[tf_transcripts[\"qry_gene_id\"] == qry_gene_id[i]].iloc[0,0])\n",
    "tf_genes_Aug2020 = pd.DataFrame({\"Rink\": ref_gene_id, \"Neiro\": qry_gene_id})"
   ]
  },
  {
   "cell_type": "code",
   "execution_count": null,
   "id": "765ce8b0",
   "metadata": {},
   "outputs": [],
   "source": [
    "len(tf_genes_Aug2020)"
   ]
  },
  {
   "cell_type": "code",
   "execution_count": 2,
   "id": "94c48b6c",
   "metadata": {},
   "outputs": [],
   "source": [
    "import pandas as pd\n",
    "tf_genes_Aug2020 = pd.read_csv(\"/hydra/FACS/TF_interpro/tf_genes_Aug2020.csv\")"
   ]
  },
  {
   "cell_type": "code",
   "execution_count": 3,
   "id": "464ae001",
   "metadata": {},
   "outputs": [
    {
     "data": {
      "text/plain": [
       "982"
      ]
     },
     "execution_count": 3,
     "metadata": {},
     "output_type": "execute_result"
    }
   ],
   "source": [
    "len(tf_genes_Aug2020)"
   ]
  },
  {
   "cell_type": "markdown",
   "id": "90d0540f",
   "metadata": {},
   "source": [
    "## 3.4 Comparison with Swapna et al. 2018"
   ]
  },
  {
   "cell_type": "code",
   "execution_count": null,
   "id": "fbd82ccb",
   "metadata": {},
   "outputs": [],
   "source": [
    "tf_genes_Aug2020[\"Swapna\"] = \"-\"\n",
    "for i in range(len(tf_genes_Aug2020)):\n",
    "    swapna_id = tf_genes[tf_genes.iloc[:, 0] == tf_genes_Aug2020.iloc[i,1]]\n",
    "    if (len(swapna_id) == 1):\n",
    "        tf_genes_Aug2020[\"Swapna\"] = swapna_id.iloc[0,1]"
   ]
  },
  {
   "cell_type": "markdown",
   "id": "cd4da6a6",
   "metadata": {},
   "source": [
    "The table is saved as a csv file."
   ]
  },
  {
   "cell_type": "code",
   "execution_count": null,
   "id": "6a8fbfcb",
   "metadata": {},
   "outputs": [],
   "source": [
    "tf_genes_Aug2020.to_csv(\"/hydra/FACS/TF_interpro/tf_genes_Aug2020.csv\", index=0)"
   ]
  },
  {
   "cell_type": "markdown",
   "id": "caaf2886",
   "metadata": {},
   "source": [
    "The IDs are saved as a txt file."
   ]
  },
  {
   "cell_type": "code",
   "execution_count": null,
   "id": "ba4db6ce",
   "metadata": {},
   "outputs": [],
   "source": [
    "tf_genes_Aug2020[\"Neiro\"].to_csv(\"/hydra/FACS/TF_interpro/tf_genes_Aug2020_NeiroIDs.txt\", index=0, header=None)"
   ]
  },
  {
   "cell_type": "markdown",
   "id": "e61c8c9a",
   "metadata": {},
   "source": [
    "# 4. Manual curation"
   ]
  },
  {
   "cell_type": "markdown",
   "id": "66252195",
   "metadata": {},
   "source": [
    "The results were manually curated and transcripts blasting to transposons or non-TF genes were removed. The resulting file was tf_genes_April2021.csv."
   ]
  },
  {
   "cell_type": "markdown",
   "id": "200cbcba",
   "metadata": {},
   "source": [
    "The planarian literature was reviewed and TFs that had not been computationally derived were added to the list. The resulting file tf_genes_May2021.xlsx contains the literature-derived TFs."
   ]
  },
  {
   "cell_type": "code",
   "execution_count": 6,
   "id": "ca61d19e",
   "metadata": {},
   "outputs": [
    {
     "name": "stdout",
     "output_type": "stream",
     "text": [
      "-rwxrwxr-x 1 ubuntu ubuntu 53682 Apr 26 20:19 /hydra/TF_data/tf_genes_April2021.csv\n",
      "-rwxrwxr-x 1 ubuntu ubuntu 60449 Jun  7 20:34 /hydra/TF_data/tf_genes_May2021.xlsx\n"
     ]
    }
   ],
   "source": [
    "%%bash\n",
    "ls -l /hydra/TF_data/tf_genes_April2021.csv\n",
    "ls -l /hydra/TF_data/tf_genes_May2021.xlsx"
   ]
  },
  {
   "cell_type": "code",
   "execution_count": 9,
   "id": "5e43303b",
   "metadata": {},
   "outputs": [],
   "source": [
    "import pandas as pd\n",
    "pd.read_excel(\"/hydra/TF_data/tf_genes_May2021.xlsx\").to_csv(\"/hydra/TF_data/tf_genes_May2021.xlsx\", index=False)"
   ]
  },
  {
   "cell_type": "markdown",
   "id": "2dc1d057",
   "metadata": {},
   "source": [
    "The review of planarian literature is described in 2-2-Transcription-factors-literature-2000-2009, "
   ]
  },
  {
   "cell_type": "markdown",
   "id": "274d8a4d",
   "metadata": {},
   "source": [
    "# FINNISHED"
   ]
  }
 ],
 "metadata": {
  "kernelspec": {
   "display_name": "Python 3 (ipykernel)",
   "language": "python",
   "name": "python3"
  },
  "language_info": {
   "codemirror_mode": {
    "name": "ipython",
    "version": 3
   },
   "file_extension": ".py",
   "mimetype": "text/x-python",
   "name": "python",
   "nbconvert_exporter": "python",
   "pygments_lexer": "ipython3",
   "version": "3.8.12"
  }
 },
 "nbformat": 4,
 "nbformat_minor": 5
}
