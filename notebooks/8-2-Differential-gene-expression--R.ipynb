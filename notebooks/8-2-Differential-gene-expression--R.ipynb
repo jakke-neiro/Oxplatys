{
 "cells": [
  {
   "cell_type": "markdown",
   "id": "c92a8753",
   "metadata": {},
   "source": [
    "# 8-2-Differential-gene-expression-R\n",
    "Jakke Neiro$^1$\n",
    "\n",
    "1. Aboobaker laboratory, Department of Zoology, University of Oxford"
   ]
  },
  {
   "cell_type": "markdown",
   "id": "5c6c8515",
   "metadata": {},
   "source": [
    "# 1. Introduction"
   ]
  },
  {
   "cell_type": "code",
   "execution_count": 6,
   "id": "28a62bf2",
   "metadata": {},
   "outputs": [],
   "source": [
    "library(tximport)\n",
    "library(tidyverse)"
   ]
  },
  {
   "cell_type": "markdown",
   "id": "1ed66b70",
   "metadata": {},
   "source": [
    "# 2. Cowles 2014"
   ]
  },
  {
   "cell_type": "markdown",
   "id": "784bc382",
   "metadata": {},
   "source": [
    "Differential gene expression analysis of coe(RNAi) and control worms was performed. Cowles et al. (2014) performed RNA-seq on whole worms at a single timepoint. All samples are used in analysis."
   ]
  },
  {
   "cell_type": "code",
   "execution_count": 6,
   "id": "f7206b75",
   "metadata": {},
   "outputs": [],
   "source": [
    "sf_dirs <- file.path(\"/drives/raid/AboobakerLab/jakke/TF_RNAi_RNAseq/Cowles2014\", \n",
    "        c(\"SRR1133800.fastp.fq_kallisto/abundance.h5\",\n",
    "          \"SRR2486925.fastp.fq_kallisto/abundance.h5\",\n",
    "          \"SRR2486926.fastp.fq_kallisto/abundance.h5\",\n",
    "          \"SRR2486927.fastp.fq_kallisto/abundance.h5\",\n",
    "          \"SRR2486928.fastp.fq_kallisto/abundance.h5\",\n",
    "          \"SRR2486929.fastp.fq_kallisto/abundance.h5\"\n",
    "          ))"
   ]
  },
  {
   "cell_type": "code",
   "execution_count": 7,
   "id": "5199bb3c",
   "metadata": {},
   "outputs": [],
   "source": [
    "sf_dirs_samples = c(\"coe1\", \"coe2\", \"coe3\", \"a1\", \"a2\", \"a3\")\n",
    "names(sf_dirs) = sf_dirs_samples"
   ]
  },
  {
   "cell_type": "code",
   "execution_count": 8,
   "id": "21e7ab5e",
   "metadata": {},
   "outputs": [],
   "source": [
    "ttg = read.csv(\"/drives/raid/AboobakerLab/jakke/FACS/sleuth_ttg.csv\")"
   ]
  },
  {
   "cell_type": "code",
   "execution_count": 9,
   "id": "ed07af3c",
   "metadata": {},
   "outputs": [
    {
     "name": "stderr",
     "output_type": "stream",
     "text": [
      "1 \n",
      "2 \n",
      "3 \n",
      "4 \n",
      "5 \n",
      "6 \n",
      "\n",
      "\n",
      "transcripts missing from tx2gene: 295\n",
      "\n",
      "summarizing abundance\n",
      "\n",
      "summarizing counts\n",
      "\n",
      "summarizing length\n",
      "\n",
      "summarizing inferential replicates\n",
      "\n"
     ]
    }
   ],
   "source": [
    "txi <- tximport(sf_dirs, type=\"kallisto\", tx2gene=ttg, countsFromAbundance=\"lengthScaledTPM\")"
   ]
  },
  {
   "cell_type": "code",
   "execution_count": 10,
   "id": "8f65caec",
   "metadata": {},
   "outputs": [],
   "source": [
    "sampletype = factor(c(\"coe\", \"coe\", \"coe\", \"a\", \"a\", \"a\"))\n",
    "meta <- data.frame(sampletype, row.names = colnames(txi$counts))"
   ]
  },
  {
   "cell_type": "code",
   "execution_count": 11,
   "id": "90f0ab64",
   "metadata": {},
   "outputs": [
    {
     "data": {
      "text/html": [
       "<style>\n",
       ".list-inline {list-style: none; margin:0; padding: 0}\n",
       ".list-inline>li {display: inline-block}\n",
       ".list-inline>li:not(:last-child)::after {content: \"\\00b7\"; padding: 0 .5ex}\n",
       "</style>\n",
       "<ol class=list-inline><li>'coe1'</li><li>'coe2'</li><li>'coe3'</li><li>'a1'</li><li>'a2'</li><li>'a3'</li></ol>\n"
      ],
      "text/latex": [
       "\\begin{enumerate*}\n",
       "\\item 'coe1'\n",
       "\\item 'coe2'\n",
       "\\item 'coe3'\n",
       "\\item 'a1'\n",
       "\\item 'a2'\n",
       "\\item 'a3'\n",
       "\\end{enumerate*}\n"
      ],
      "text/markdown": [
       "1. 'coe1'\n",
       "2. 'coe2'\n",
       "3. 'coe3'\n",
       "4. 'a1'\n",
       "5. 'a2'\n",
       "6. 'a3'\n",
       "\n",
       "\n"
      ],
      "text/plain": [
       "[1] \"coe1\" \"coe2\" \"coe3\" \"a1\"   \"a2\"   \"a3\"  "
      ]
     },
     "metadata": {},
     "output_type": "display_data"
    }
   ],
   "source": [
    "rownames(meta)"
   ]
  },
  {
   "cell_type": "code",
   "execution_count": 12,
   "id": "f72a9310",
   "metadata": {},
   "outputs": [
    {
     "data": {
      "text/html": [
       "TRUE"
      ],
      "text/latex": [
       "TRUE"
      ],
      "text/markdown": [
       "TRUE"
      ],
      "text/plain": [
       "[1] TRUE"
      ]
     },
     "metadata": {},
     "output_type": "display_data"
    },
    {
     "data": {
      "text/html": [
       "TRUE"
      ],
      "text/latex": [
       "TRUE"
      ],
      "text/markdown": [
       "TRUE"
      ],
      "text/plain": [
       "[1] TRUE"
      ]
     },
     "metadata": {},
     "output_type": "display_data"
    }
   ],
   "source": [
    "all(colnames(txi$counts) %in% rownames(meta))\n",
    "all(colnames(txi$counts) == rownames(meta))"
   ]
  },
  {
   "cell_type": "code",
   "execution_count": 14,
   "id": "9e5d8657",
   "metadata": {},
   "outputs": [],
   "source": [
    "library(DESeq2)"
   ]
  },
  {
   "cell_type": "code",
   "execution_count": 20,
   "id": "2e90b504",
   "metadata": {},
   "outputs": [
    {
     "name": "stderr",
     "output_type": "stream",
     "text": [
      "using just counts from tximport\n",
      "\n"
     ]
    }
   ],
   "source": [
    "dds_sample <- DESeqDataSetFromTximport(txi, colData = meta, design = ~ sampletype)"
   ]
  },
  {
   "cell_type": "code",
   "execution_count": 21,
   "id": "68fe2d5d",
   "metadata": {},
   "outputs": [
    {
     "name": "stderr",
     "output_type": "stream",
     "text": [
      "estimating size factors\n",
      "\n",
      "estimating dispersions\n",
      "\n",
      "gene-wise dispersion estimates\n",
      "\n",
      "mean-dispersion relationship\n",
      "\n",
      "final dispersion estimates\n",
      "\n",
      "fitting model and testing\n",
      "\n"
     ]
    }
   ],
   "source": [
    "dds_sample <- DESeq(dds_sample)"
   ]
  },
  {
   "cell_type": "code",
   "execution_count": 25,
   "id": "5d463060",
   "metadata": {},
   "outputs": [],
   "source": [
    "res_Cowles2014 = results(dds_sample)"
   ]
  },
  {
   "cell_type": "code",
   "execution_count": 26,
   "id": "d29e4728",
   "metadata": {},
   "outputs": [],
   "source": [
    "res_Cowles2014 = res_Cowles2014 %>% data.frame() \n",
    "res_Cowles2014 = res_Cowles2014[order(res_Cowles2014$padj),]"
   ]
  },
  {
   "cell_type": "code",
   "execution_count": 28,
   "id": "8a04f052",
   "metadata": {},
   "outputs": [],
   "source": [
    "write.csv(res_Cowles2014, \"/drives/raid/AboobakerLab/jakke/TF_RNAi_RNAseq/Cowles2014/res_Cowles2014.csv\")"
   ]
  },
  {
   "cell_type": "markdown",
   "id": "36a435a9",
   "metadata": {},
   "source": [
    "# 3. Vogg 2014"
   ]
  },
  {
   "cell_type": "markdown",
   "id": "5bf0a25b",
   "metadata": {},
   "source": [
    "Differential gene expression analysis of foxD1(RNAi) and control worms was performed. Vogg et al. (2014) performed RNA-seq on blastemas at 0 dpa and 3 dpa. DGE analysis was performed at 3 dpa (control vs foxD1) as discussed further in Vogg et al. (2014)."
   ]
  },
  {
   "cell_type": "code",
   "execution_count": 15,
   "id": "e627cf38",
   "metadata": {},
   "outputs": [],
   "source": [
    "sf_dirs <- file.path(\"/drives/raid/AboobakerLab/jakke/TF_RNAi_RNAseq/Vogg2014\", \n",
    "        c(\"SRR1012785.fastp.fq_kallisto/abundance.h5\",\n",
    "          \"SRR1012831.fastp.fq_kallisto/abundance.h5\",\n",
    "          \"SRR1012832.fastp.fq_kallisto/abundance.h5\",\n",
    "          \"SRR1012838.fastp.fq_kallisto/abundance.h5\",\n",
    "          \"SRR1012833.fastp.fq_kallisto/abundance.h5\",\n",
    "          \"SRR1012834.fastp.fq_kallisto/abundance.h5\",\n",
    "          \"SRR1012835.fastp.fq_kallisto/abundance.h5\",\n",
    "          \"SRR1012836.fastp.fq_kallisto/abundance.h5\"\n",
    "          ))"
   ]
  },
  {
   "cell_type": "code",
   "execution_count": 81,
   "id": "4cfff877",
   "metadata": {},
   "outputs": [],
   "source": [
    "sf_dirs_samples = c(\"foxD1\", \"foxD2\", \"foxD3\", \"foxD4\", \"control1\", \"control2\", \"control3\", \"control4\")\n",
    "names(sf_dirs) = sf_dirs_samples"
   ]
  },
  {
   "cell_type": "code",
   "execution_count": 82,
   "id": "668bfd9c",
   "metadata": {},
   "outputs": [],
   "source": [
    "ttg = read.csv(\"/drives/raid/AboobakerLab/jakke/FACS/sleuth_ttg.csv\")"
   ]
  },
  {
   "cell_type": "code",
   "execution_count": 83,
   "id": "a384095f",
   "metadata": {},
   "outputs": [
    {
     "name": "stderr",
     "output_type": "stream",
     "text": [
      "1 \n",
      "2 \n",
      "3 \n",
      "4 \n",
      "5 \n",
      "6 \n",
      "7 \n",
      "8 \n",
      "\n",
      "\n",
      "transcripts missing from tx2gene: 295\n",
      "\n",
      "summarizing abundance\n",
      "\n",
      "summarizing counts\n",
      "\n",
      "summarizing length\n",
      "\n",
      "summarizing inferential replicates\n",
      "\n"
     ]
    }
   ],
   "source": [
    "txi <- tximport(sf_dirs, type=\"kallisto\", tx2gene=ttg, countsFromAbundance=\"lengthScaledTPM\")"
   ]
  },
  {
   "cell_type": "code",
   "execution_count": 84,
   "id": "35f458ad",
   "metadata": {},
   "outputs": [
    {
     "data": {
      "text/html": [
       "<style>\n",
       ".list-inline {list-style: none; margin:0; padding: 0}\n",
       ".list-inline>li {display: inline-block}\n",
       ".list-inline>li:not(:last-child)::after {content: \"\\00b7\"; padding: 0 .5ex}\n",
       "</style>\n",
       "<ol class=list-inline><li>'foxD1'</li><li>'foxD2'</li><li>'foxD3'</li><li>'foxD4'</li><li>'control1'</li><li>'control2'</li><li>'control3'</li><li>'control4'</li></ol>\n"
      ],
      "text/latex": [
       "\\begin{enumerate*}\n",
       "\\item 'foxD1'\n",
       "\\item 'foxD2'\n",
       "\\item 'foxD3'\n",
       "\\item 'foxD4'\n",
       "\\item 'control1'\n",
       "\\item 'control2'\n",
       "\\item 'control3'\n",
       "\\item 'control4'\n",
       "\\end{enumerate*}\n"
      ],
      "text/markdown": [
       "1. 'foxD1'\n",
       "2. 'foxD2'\n",
       "3. 'foxD3'\n",
       "4. 'foxD4'\n",
       "5. 'control1'\n",
       "6. 'control2'\n",
       "7. 'control3'\n",
       "8. 'control4'\n",
       "\n",
       "\n"
      ],
      "text/plain": [
       "[1] \"foxD1\"    \"foxD2\"    \"foxD3\"    \"foxD4\"    \"control1\" \"control2\" \"control3\"\n",
       "[8] \"control4\""
      ]
     },
     "metadata": {},
     "output_type": "display_data"
    }
   ],
   "source": [
    "colnames(txi$counts)"
   ]
  },
  {
   "cell_type": "code",
   "execution_count": 100,
   "id": "2463a7e2",
   "metadata": {},
   "outputs": [
    {
     "data": {
      "text/html": [
       "TRUE"
      ],
      "text/latex": [
       "TRUE"
      ],
      "text/markdown": [
       "TRUE"
      ],
      "text/plain": [
       "[1] TRUE"
      ]
     },
     "metadata": {},
     "output_type": "display_data"
    },
    {
     "data": {
      "text/html": [
       "TRUE"
      ],
      "text/latex": [
       "TRUE"
      ],
      "text/markdown": [
       "TRUE"
      ],
      "text/plain": [
       "[1] TRUE"
      ]
     },
     "metadata": {},
     "output_type": "display_data"
    }
   ],
   "source": [
    "sampletype = factor(c(\"foxD\", \"foxD\", \"foxD\", \"foxD\", \"control\", \"control\", \"control\", \"control\"))\n",
    "sampletime = factor(c(\"foxD_0dpa\", \"foxD_3dpa\", \"foxD_3dpa\", \"foxD_0dpa\", \"control_0dpa\", \"control_0dpa\", \"control_3dpa\", \"control_3dpa\"))\n",
    "meta = data.frame(sampletype, sampletime, row.names = colnames(txi$counts))\n",
    "all(colnames(txi$counts) %in% rownames(meta))\n",
    "all(colnames(txi$counts) == rownames(meta))"
   ]
  },
  {
   "cell_type": "code",
   "execution_count": 88,
   "id": "219aff90",
   "metadata": {},
   "outputs": [],
   "source": [
    "library(DESeq2)"
   ]
  },
  {
   "cell_type": "code",
   "execution_count": 89,
   "id": "69ada864",
   "metadata": {},
   "outputs": [
    {
     "name": "stderr",
     "output_type": "stream",
     "text": [
      "using just counts from tximport\n",
      "\n"
     ]
    }
   ],
   "source": [
    "dds_sample <- DESeqDataSetFromTximport(txi, colData = meta, design = ~ sampletype)"
   ]
  },
  {
   "cell_type": "code",
   "execution_count": 90,
   "id": "e21ee428",
   "metadata": {},
   "outputs": [
    {
     "name": "stderr",
     "output_type": "stream",
     "text": [
      "estimating size factors\n",
      "\n",
      "estimating dispersions\n",
      "\n",
      "gene-wise dispersion estimates\n",
      "\n",
      "mean-dispersion relationship\n",
      "\n",
      "final dispersion estimates\n",
      "\n",
      "fitting model and testing\n",
      "\n"
     ]
    }
   ],
   "source": [
    "dds_sample <- DESeq(dds_sample)"
   ]
  },
  {
   "cell_type": "code",
   "execution_count": 91,
   "id": "fc20a13f",
   "metadata": {},
   "outputs": [],
   "source": [
    "res_Vogg2014 = results(dds_sample)"
   ]
  },
  {
   "cell_type": "code",
   "execution_count": 92,
   "id": "e865d141",
   "metadata": {},
   "outputs": [],
   "source": [
    "res_Vogg2014 = res_Vogg2014 %>% data.frame() \n",
    "res_Vogg2014 = res_Vogg2014[order(res_Vogg2014$padj),]"
   ]
  },
  {
   "cell_type": "code",
   "execution_count": 95,
   "id": "aba50b55",
   "metadata": {},
   "outputs": [],
   "source": [
    "write.csv(res_Vogg2014, \"/drives/raid/AboobakerLab/jakke/TF_RNAi_RNAseq/Vogg2014/res_Vogg2014general.csv\")"
   ]
  },
  {
   "cell_type": "code",
   "execution_count": 101,
   "id": "a23c5e8b",
   "metadata": {},
   "outputs": [
    {
     "name": "stderr",
     "output_type": "stream",
     "text": [
      "using just counts from tximport\n",
      "\n"
     ]
    }
   ],
   "source": [
    "dds_time <- DESeqDataSetFromTximport(txi, colData = meta, design = ~ sampletime)"
   ]
  },
  {
   "cell_type": "code",
   "execution_count": 102,
   "id": "66ef7b91",
   "metadata": {},
   "outputs": [
    {
     "name": "stderr",
     "output_type": "stream",
     "text": [
      "estimating size factors\n",
      "\n",
      "estimating dispersions\n",
      "\n",
      "gene-wise dispersion estimates\n",
      "\n",
      "mean-dispersion relationship\n",
      "\n",
      "final dispersion estimates\n",
      "\n",
      "fitting model and testing\n",
      "\n"
     ]
    }
   ],
   "source": [
    "dds_time <- DESeq(dds_time)"
   ]
  },
  {
   "cell_type": "code",
   "execution_count": 104,
   "id": "b8b20e68",
   "metadata": {},
   "outputs": [],
   "source": [
    "res_Vogg3dpa = results(dds_time, contrast=c(\"sampletime\",\"foxD_3dpa\",\"control_3dpa\"))"
   ]
  },
  {
   "cell_type": "code",
   "execution_count": 106,
   "id": "59d16acc",
   "metadata": {},
   "outputs": [],
   "source": [
    "res_Vogg3dpa = res_Vogg3dpa %>% data.frame() \n",
    "res_Vogg3dpa = res_Vogg3dpa[order(res_Vogg3dpa$padj),]"
   ]
  },
  {
   "cell_type": "code",
   "execution_count": 108,
   "id": "ef00552a",
   "metadata": {},
   "outputs": [],
   "source": [
    "write.csv(res_Vogg3dpa, \"/drives/raid/AboobakerLab/jakke/TF_RNAi_RNAseq/Vogg2014/res_Vogg2014_3dpa.csv\")"
   ]
  },
  {
   "cell_type": "markdown",
   "id": "3ae21ed3",
   "metadata": {},
   "source": [
    "# 4. Tu 2015"
   ]
  },
  {
   "cell_type": "code",
   "execution_count": 16,
   "id": "4f6dff05",
   "metadata": {},
   "outputs": [],
   "source": [
    "table = read.csv(\"/drives/raid/AboobakerLab/jakke/TF_RNAi_RNAseq/Tu2015/SraRunTable.txt\")"
   ]
  },
  {
   "cell_type": "code",
   "execution_count": 52,
   "id": "d844c5b0",
   "metadata": {},
   "outputs": [
    {
     "data": {
      "text/html": [
       "<style>\n",
       ".list-inline {list-style: none; margin:0; padding: 0}\n",
       ".list-inline>li {display: inline-block}\n",
       ".list-inline>li:not(:last-child)::after {content: \"\\00b7\"; padding: 0 .5ex}\n",
       "</style>\n",
       "<ol class=list-inline><li>'CHD4'</li><li>'CHD4'</li><li>'CHD4'</li><li>'CHD4'</li><li>'CHD4'</li><li>'CHD4'</li><li>'CHD4'</li><li>'CHD4'</li><li>'CHD4'</li><li>'CHD4'</li><li>'CHD4'</li><li>'CHD4'</li><li>'CHD4'</li><li>'CHD4'</li><li>'CHD4'</li><li>'p53'</li><li>'p53'</li><li>'p53'</li><li>'p53'</li><li>'p53'</li><li>'p53'</li><li>'p53'</li><li>'p53'</li><li>'p53'</li><li>'p53'</li><li>'p53'</li><li>'p53'</li><li>'p53'</li><li>'p53'</li><li>'p53'</li><li>'p53'</li><li>'p53'</li><li>'unc22'</li><li>'unc22'</li><li>'unc22'</li><li>'unc22'</li><li>'unc22'</li><li>'unc22'</li><li>'unc22'</li><li>'unc22'</li><li>'unc22'</li><li>'unc22'</li><li>'unc22'</li><li>'unc22'</li><li>'unc22'</li><li>'unc22'</li><li>'unc22'</li><li>'unc22'</li><li>'unc22'</li><li>'unc22'</li></ol>\n"
      ],
      "text/latex": [
       "\\begin{enumerate*}\n",
       "\\item 'CHD4'\n",
       "\\item 'CHD4'\n",
       "\\item 'CHD4'\n",
       "\\item 'CHD4'\n",
       "\\item 'CHD4'\n",
       "\\item 'CHD4'\n",
       "\\item 'CHD4'\n",
       "\\item 'CHD4'\n",
       "\\item 'CHD4'\n",
       "\\item 'CHD4'\n",
       "\\item 'CHD4'\n",
       "\\item 'CHD4'\n",
       "\\item 'CHD4'\n",
       "\\item 'CHD4'\n",
       "\\item 'CHD4'\n",
       "\\item 'p53'\n",
       "\\item 'p53'\n",
       "\\item 'p53'\n",
       "\\item 'p53'\n",
       "\\item 'p53'\n",
       "\\item 'p53'\n",
       "\\item 'p53'\n",
       "\\item 'p53'\n",
       "\\item 'p53'\n",
       "\\item 'p53'\n",
       "\\item 'p53'\n",
       "\\item 'p53'\n",
       "\\item 'p53'\n",
       "\\item 'p53'\n",
       "\\item 'p53'\n",
       "\\item 'p53'\n",
       "\\item 'p53'\n",
       "\\item 'unc22'\n",
       "\\item 'unc22'\n",
       "\\item 'unc22'\n",
       "\\item 'unc22'\n",
       "\\item 'unc22'\n",
       "\\item 'unc22'\n",
       "\\item 'unc22'\n",
       "\\item 'unc22'\n",
       "\\item 'unc22'\n",
       "\\item 'unc22'\n",
       "\\item 'unc22'\n",
       "\\item 'unc22'\n",
       "\\item 'unc22'\n",
       "\\item 'unc22'\n",
       "\\item 'unc22'\n",
       "\\item 'unc22'\n",
       "\\item 'unc22'\n",
       "\\item 'unc22'\n",
       "\\end{enumerate*}\n"
      ],
      "text/markdown": [
       "1. 'CHD4'\n",
       "2. 'CHD4'\n",
       "3. 'CHD4'\n",
       "4. 'CHD4'\n",
       "5. 'CHD4'\n",
       "6. 'CHD4'\n",
       "7. 'CHD4'\n",
       "8. 'CHD4'\n",
       "9. 'CHD4'\n",
       "10. 'CHD4'\n",
       "11. 'CHD4'\n",
       "12. 'CHD4'\n",
       "13. 'CHD4'\n",
       "14. 'CHD4'\n",
       "15. 'CHD4'\n",
       "16. 'p53'\n",
       "17. 'p53'\n",
       "18. 'p53'\n",
       "19. 'p53'\n",
       "20. 'p53'\n",
       "21. 'p53'\n",
       "22. 'p53'\n",
       "23. 'p53'\n",
       "24. 'p53'\n",
       "25. 'p53'\n",
       "26. 'p53'\n",
       "27. 'p53'\n",
       "28. 'p53'\n",
       "29. 'p53'\n",
       "30. 'p53'\n",
       "31. 'p53'\n",
       "32. 'p53'\n",
       "33. 'unc22'\n",
       "34. 'unc22'\n",
       "35. 'unc22'\n",
       "36. 'unc22'\n",
       "37. 'unc22'\n",
       "38. 'unc22'\n",
       "39. 'unc22'\n",
       "40. 'unc22'\n",
       "41. 'unc22'\n",
       "42. 'unc22'\n",
       "43. 'unc22'\n",
       "44. 'unc22'\n",
       "45. 'unc22'\n",
       "46. 'unc22'\n",
       "47. 'unc22'\n",
       "48. 'unc22'\n",
       "49. 'unc22'\n",
       "50. 'unc22'\n",
       "\n",
       "\n"
      ],
      "text/plain": [
       " [1] \"CHD4\"  \"CHD4\"  \"CHD4\"  \"CHD4\"  \"CHD4\"  \"CHD4\"  \"CHD4\"  \"CHD4\"  \"CHD4\" \n",
       "[10] \"CHD4\"  \"CHD4\"  \"CHD4\"  \"CHD4\"  \"CHD4\"  \"CHD4\"  \"p53\"   \"p53\"   \"p53\"  \n",
       "[19] \"p53\"   \"p53\"   \"p53\"   \"p53\"   \"p53\"   \"p53\"   \"p53\"   \"p53\"   \"p53\"  \n",
       "[28] \"p53\"   \"p53\"   \"p53\"   \"p53\"   \"p53\"   \"unc22\" \"unc22\" \"unc22\" \"unc22\"\n",
       "[37] \"unc22\" \"unc22\" \"unc22\" \"unc22\" \"unc22\" \"unc22\" \"unc22\" \"unc22\" \"unc22\"\n",
       "[46] \"unc22\" \"unc22\" \"unc22\" \"unc22\" \"unc22\""
      ]
     },
     "metadata": {},
     "output_type": "display_data"
    }
   ],
   "source": [
    "table$RNAi"
   ]
  },
  {
   "cell_type": "code",
   "execution_count": 56,
   "id": "711a9354",
   "metadata": {},
   "outputs": [],
   "source": [
    "sf_dirs <- file.path(\"/drives/raid/AboobakerLab/jakke/TF_RNAi_RNAseq/Tu2015\", table$Run)\n",
    "for (i in 1:length(sf_dirs)){\n",
    "    sf_dirs[i] = paste(sf_dirs[i], \".fastp.fq_kallisto/abundance.h5\", sep=\"\") \n",
    "} "
   ]
  },
  {
   "cell_type": "code",
   "execution_count": 57,
   "id": "4904878f",
   "metadata": {},
   "outputs": [],
   "source": [
    "sf_dirs_samples = table$Run\n",
    "names(sf_dirs) = sf_dirs_samples"
   ]
  },
  {
   "cell_type": "code",
   "execution_count": 58,
   "id": "aa567dc4",
   "metadata": {},
   "outputs": [
    {
     "name": "stderr",
     "output_type": "stream",
     "text": [
      "1 \n",
      "2 \n",
      "3 \n",
      "4 \n",
      "5 \n",
      "6 \n",
      "7 \n",
      "8 \n",
      "9 \n",
      "10 \n",
      "11 \n",
      "12 \n",
      "13 \n",
      "14 \n",
      "15 \n",
      "16 \n",
      "17 \n",
      "18 \n",
      "19 \n",
      "20 \n",
      "21 \n",
      "22 \n",
      "23 \n",
      "24 \n",
      "25 \n",
      "26 \n",
      "27 \n",
      "28 \n",
      "29 \n",
      "30 \n",
      "31 \n",
      "32 \n",
      "33 \n",
      "34 \n",
      "35 \n",
      "36 \n",
      "37 \n",
      "38 \n",
      "39 \n",
      "40 \n",
      "41 \n",
      "42 \n",
      "43 \n",
      "44 \n",
      "45 \n",
      "46 \n",
      "47 \n",
      "48 \n",
      "49 \n",
      "50 \n",
      "\n",
      "\n",
      "transcripts missing from tx2gene: 295\n",
      "\n",
      "summarizing abundance\n",
      "\n",
      "summarizing counts\n",
      "\n",
      "summarizing length\n",
      "\n",
      "summarizing inferential replicates\n",
      "\n"
     ]
    }
   ],
   "source": [
    "txi <- tximport(sf_dirs, type=\"kallisto\", tx2gene=ttg, countsFromAbundance=\"lengthScaledTPM\")"
   ]
  },
  {
   "cell_type": "code",
   "execution_count": 61,
   "id": "7bb46d4a",
   "metadata": {},
   "outputs": [
    {
     "data": {
      "text/html": [
       "<style>\n",
       ".list-inline {list-style: none; margin:0; padding: 0}\n",
       ".list-inline>li {display: inline-block}\n",
       ".list-inline>li:not(:last-child)::after {content: \"\\00b7\"; padding: 0 .5ex}\n",
       "</style>\n",
       "<ol class=list-inline><li>'CHD4'</li><li>'CHD4'</li><li>'CHD4'</li><li>'CHD4'</li><li>'CHD4'</li><li>'CHD4'</li><li>'CHD4'</li><li>'CHD4'</li><li>'CHD4'</li><li>'CHD4'</li><li>'CHD4'</li><li>'CHD4'</li><li>'CHD4'</li><li>'CHD4'</li><li>'CHD4'</li><li>'p53'</li><li>'p53'</li><li>'p53'</li><li>'p53'</li><li>'p53'</li><li>'p53'</li><li>'p53'</li><li>'p53'</li><li>'p53'</li><li>'p53'</li><li>'p53'</li><li>'p53'</li><li>'p53'</li><li>'p53'</li><li>'p53'</li><li>'p53'</li><li>'p53'</li><li>'unc22'</li><li>'unc22'</li><li>'unc22'</li><li>'unc22'</li><li>'unc22'</li><li>'unc22'</li><li>'unc22'</li><li>'unc22'</li><li>'unc22'</li><li>'unc22'</li><li>'unc22'</li><li>'unc22'</li><li>'unc22'</li><li>'unc22'</li><li>'unc22'</li><li>'unc22'</li><li>'unc22'</li><li>'unc22'</li></ol>\n"
      ],
      "text/latex": [
       "\\begin{enumerate*}\n",
       "\\item 'CHD4'\n",
       "\\item 'CHD4'\n",
       "\\item 'CHD4'\n",
       "\\item 'CHD4'\n",
       "\\item 'CHD4'\n",
       "\\item 'CHD4'\n",
       "\\item 'CHD4'\n",
       "\\item 'CHD4'\n",
       "\\item 'CHD4'\n",
       "\\item 'CHD4'\n",
       "\\item 'CHD4'\n",
       "\\item 'CHD4'\n",
       "\\item 'CHD4'\n",
       "\\item 'CHD4'\n",
       "\\item 'CHD4'\n",
       "\\item 'p53'\n",
       "\\item 'p53'\n",
       "\\item 'p53'\n",
       "\\item 'p53'\n",
       "\\item 'p53'\n",
       "\\item 'p53'\n",
       "\\item 'p53'\n",
       "\\item 'p53'\n",
       "\\item 'p53'\n",
       "\\item 'p53'\n",
       "\\item 'p53'\n",
       "\\item 'p53'\n",
       "\\item 'p53'\n",
       "\\item 'p53'\n",
       "\\item 'p53'\n",
       "\\item 'p53'\n",
       "\\item 'p53'\n",
       "\\item 'unc22'\n",
       "\\item 'unc22'\n",
       "\\item 'unc22'\n",
       "\\item 'unc22'\n",
       "\\item 'unc22'\n",
       "\\item 'unc22'\n",
       "\\item 'unc22'\n",
       "\\item 'unc22'\n",
       "\\item 'unc22'\n",
       "\\item 'unc22'\n",
       "\\item 'unc22'\n",
       "\\item 'unc22'\n",
       "\\item 'unc22'\n",
       "\\item 'unc22'\n",
       "\\item 'unc22'\n",
       "\\item 'unc22'\n",
       "\\item 'unc22'\n",
       "\\item 'unc22'\n",
       "\\end{enumerate*}\n"
      ],
      "text/markdown": [
       "1. 'CHD4'\n",
       "2. 'CHD4'\n",
       "3. 'CHD4'\n",
       "4. 'CHD4'\n",
       "5. 'CHD4'\n",
       "6. 'CHD4'\n",
       "7. 'CHD4'\n",
       "8. 'CHD4'\n",
       "9. 'CHD4'\n",
       "10. 'CHD4'\n",
       "11. 'CHD4'\n",
       "12. 'CHD4'\n",
       "13. 'CHD4'\n",
       "14. 'CHD4'\n",
       "15. 'CHD4'\n",
       "16. 'p53'\n",
       "17. 'p53'\n",
       "18. 'p53'\n",
       "19. 'p53'\n",
       "20. 'p53'\n",
       "21. 'p53'\n",
       "22. 'p53'\n",
       "23. 'p53'\n",
       "24. 'p53'\n",
       "25. 'p53'\n",
       "26. 'p53'\n",
       "27. 'p53'\n",
       "28. 'p53'\n",
       "29. 'p53'\n",
       "30. 'p53'\n",
       "31. 'p53'\n",
       "32. 'p53'\n",
       "33. 'unc22'\n",
       "34. 'unc22'\n",
       "35. 'unc22'\n",
       "36. 'unc22'\n",
       "37. 'unc22'\n",
       "38. 'unc22'\n",
       "39. 'unc22'\n",
       "40. 'unc22'\n",
       "41. 'unc22'\n",
       "42. 'unc22'\n",
       "43. 'unc22'\n",
       "44. 'unc22'\n",
       "45. 'unc22'\n",
       "46. 'unc22'\n",
       "47. 'unc22'\n",
       "48. 'unc22'\n",
       "49. 'unc22'\n",
       "50. 'unc22'\n",
       "\n",
       "\n"
      ],
      "text/plain": [
       " [1] \"CHD4\"  \"CHD4\"  \"CHD4\"  \"CHD4\"  \"CHD4\"  \"CHD4\"  \"CHD4\"  \"CHD4\"  \"CHD4\" \n",
       "[10] \"CHD4\"  \"CHD4\"  \"CHD4\"  \"CHD4\"  \"CHD4\"  \"CHD4\"  \"p53\"   \"p53\"   \"p53\"  \n",
       "[19] \"p53\"   \"p53\"   \"p53\"   \"p53\"   \"p53\"   \"p53\"   \"p53\"   \"p53\"   \"p53\"  \n",
       "[28] \"p53\"   \"p53\"   \"p53\"   \"p53\"   \"p53\"   \"unc22\" \"unc22\" \"unc22\" \"unc22\"\n",
       "[37] \"unc22\" \"unc22\" \"unc22\" \"unc22\" \"unc22\" \"unc22\" \"unc22\" \"unc22\" \"unc22\"\n",
       "[46] \"unc22\" \"unc22\" \"unc22\" \"unc22\" \"unc22\""
      ]
     },
     "metadata": {},
     "output_type": "display_data"
    }
   ],
   "source": [
    "table$RNAi"
   ]
  },
  {
   "cell_type": "code",
   "execution_count": 62,
   "id": "e9bb6372",
   "metadata": {},
   "outputs": [
    {
     "data": {
      "text/html": [
       "TRUE"
      ],
      "text/latex": [
       "TRUE"
      ],
      "text/markdown": [
       "TRUE"
      ],
      "text/plain": [
       "[1] TRUE"
      ]
     },
     "metadata": {},
     "output_type": "display_data"
    },
    {
     "data": {
      "text/html": [
       "TRUE"
      ],
      "text/latex": [
       "TRUE"
      ],
      "text/markdown": [
       "TRUE"
      ],
      "text/plain": [
       "[1] TRUE"
      ]
     },
     "metadata": {},
     "output_type": "display_data"
    }
   ],
   "source": [
    "sampletype = factor(c('CHD4', 'CHD4', 'CHD4', 'CHD4', 'CHD4', 'CHD4', 'CHD4', 'CHD4', 'CHD4',\n",
    "                      'CHD4', 'CHD4', 'CHD4', 'CHD4', 'CHD4', 'CHD4', 'p53', 'p53', 'p53', 'p53',\n",
    "                      'p53', 'p53', 'p53', 'p53', 'p53', 'p53', 'p53', 'p53', 'p53', 'p53', 'p53', 'p53',\n",
    "                      'p53', 'control', 'control', 'control', 'control', 'control', 'control', 'control', 'control',\n",
    "                      'control', 'control', 'control', 'control', 'control', 'control', 'control', 'control', 'control', 'control'))\n",
    "meta = data.frame(sampletype, row.names = colnames(txi$counts))\n",
    "all(colnames(txi$counts) %in% rownames(meta))\n",
    "all(colnames(txi$counts) == rownames(meta))"
   ]
  },
  {
   "cell_type": "code",
   "execution_count": 63,
   "id": "e20328cc",
   "metadata": {},
   "outputs": [
    {
     "name": "stderr",
     "output_type": "stream",
     "text": [
      "  it appears that the last variable in the design formula, 'sampletype',\n",
      "  has a factor level, 'control', which is not the reference level. we recommend\n",
      "  to use factor(...,levels=...) or relevel() to set this as the reference level\n",
      "  before proceeding. for more information, please see the 'Note on factor levels'\n",
      "  in vignette('DESeq2').\n",
      "\n",
      "using just counts from tximport\n",
      "\n"
     ]
    }
   ],
   "source": [
    "dds_sample <- DESeqDataSetFromTximport(txi, colData = meta, design = ~ sampletype)"
   ]
  },
  {
   "cell_type": "code",
   "execution_count": 64,
   "id": "573c6e79",
   "metadata": {},
   "outputs": [
    {
     "name": "stderr",
     "output_type": "stream",
     "text": [
      "estimating size factors\n",
      "\n",
      "estimating dispersions\n",
      "\n",
      "gene-wise dispersion estimates\n",
      "\n",
      "mean-dispersion relationship\n",
      "\n",
      "final dispersion estimates\n",
      "\n",
      "fitting model and testing\n",
      "\n",
      "-- replacing outliers and refitting for 44 genes\n",
      "-- DESeq argument 'minReplicatesForReplace' = 7 \n",
      "-- original counts are preserved in counts(dds)\n",
      "\n",
      "estimating dispersions\n",
      "\n",
      "fitting model and testing\n",
      "\n"
     ]
    }
   ],
   "source": [
    "dds_sample <- DESeq(dds_sample)"
   ]
  },
  {
   "cell_type": "code",
   "execution_count": 65,
   "id": "21c7ea0e",
   "metadata": {},
   "outputs": [],
   "source": [
    "res_Tu2015_p53 = results(dds_sample, contrast=c(\"sampletype\",\"p53\",\"control\"))\n",
    "res_Tu2015_p53 = res_Tu2015_p53 %>% data.frame() \n",
    "res_Tu2015_p53 = res_Tu2015_p53[order(res_Tu2015_p53$padj),]\n",
    "write.csv(res_Tu2015_p53, \"/drives/raid/AboobakerLab/jakke/TF_RNAi_RNAseq/Tu2015/res_Tu2015_p53.csv\")"
   ]
  },
  {
   "cell_type": "code",
   "execution_count": 66,
   "id": "956c2f0e",
   "metadata": {},
   "outputs": [],
   "source": [
    "res_Tu2015_CHD4 = results(dds_sample, contrast=c(\"sampletype\",\"CHD4\",\"control\"))\n",
    "res_Tu2015_CHD4 = res_Tu2015_CHD4 %>% data.frame() \n",
    "res_Tu2015_CHD4 = res_Tu2015_CHD4[order(res_Tu2015_CHD4$padj),]\n",
    "write.csv(res_Tu2015_CHD4, \"/drives/raid/AboobakerLab/jakke/TF_RNAi_RNAseq/Tu2015/res_Tu2015_CHD4.csv\")"
   ]
  },
  {
   "cell_type": "markdown",
   "id": "8d4a08c7",
   "metadata": {},
   "source": [
    "# 5. Stowers 2016"
   ]
  },
  {
   "cell_type": "markdown",
   "id": "ea85db07",
   "metadata": {},
   "source": [
    "Differential gene expression analysis of pax5(RNAi) and control worms was primarily performed, as only pax5 could be assigned a motif for footprinting analysis. Stowers Institute (2016) performed RNA-seq 6, 12, and 18 dpa on whole worm tissue (pax5, sox8, zfp1, control) and 6, 9, and 13 dpa on X1 cells (p53, zfp1, control)."
   ]
  },
  {
   "cell_type": "code",
   "execution_count": 72,
   "id": "ac0d5a5e",
   "metadata": {},
   "outputs": [],
   "source": [
    "table1 = read.csv(\"/drives/raid/AboobakerLab/jakke/TF_RNAi_RNAseq/Stowers2016/SraRunTable.txt\")"
   ]
  },
  {
   "cell_type": "code",
   "execution_count": 18,
   "id": "ab9be0c0",
   "metadata": {},
   "outputs": [],
   "source": [
    "table2 = read.csv(\"/drives/raid/AboobakerLab/jakke/TF_RNAi_RNAseq/Stowers2016/SraRunTable2.txt\")"
   ]
  },
  {
   "cell_type": "markdown",
   "id": "5485f09c",
   "metadata": {},
   "source": [
    "## 5.1 X1 cells "
   ]
  },
  {
   "cell_type": "code",
   "execution_count": 21,
   "id": "26b8ccd3",
   "metadata": {},
   "outputs": [],
   "source": [
    "sf_dirs <- file.path(\"/drives/raid/AboobakerLab/jakke/TF_RNAi_RNAseq/Stowers2016\", table2$Run)\n",
    "for (i in 1:length(sf_dirs)){\n",
    "    sf_dirs[i] = paste(sf_dirs[i], \"_kallisto/abundance.h5\", sep=\"\") \n",
    "} "
   ]
  },
  {
   "cell_type": "code",
   "execution_count": 22,
   "id": "17896ca0",
   "metadata": {},
   "outputs": [],
   "source": [
    "sf_dirs_samples = table2$Run\n",
    "names(sf_dirs) = sf_dirs_samples"
   ]
  },
  {
   "cell_type": "code",
   "execution_count": 23,
   "id": "c8524f12",
   "metadata": {},
   "outputs": [],
   "source": [
    "ttg = read.csv(\"/drives/raid/AboobakerLab/jakke/FACS/sleuth_ttg.csv\")"
   ]
  },
  {
   "cell_type": "code",
   "execution_count": 24,
   "id": "ae7e5453",
   "metadata": {},
   "outputs": [
    {
     "name": "stderr",
     "output_type": "stream",
     "text": [
      "1 \n",
      "2 \n",
      "3 \n",
      "4 \n",
      "5 \n",
      "6 \n",
      "7 \n",
      "8 \n",
      "9 \n",
      "10 \n",
      "11 \n",
      "12 \n",
      "13 \n",
      "14 \n",
      "15 \n",
      "16 \n",
      "17 \n",
      "18 \n",
      "19 \n",
      "20 \n",
      "21 \n",
      "22 \n",
      "23 \n",
      "24 \n",
      "25 \n",
      "26 \n",
      "27 \n",
      "28 \n",
      "29 \n",
      "30 \n",
      "31 \n",
      "32 \n",
      "33 \n",
      "34 \n",
      "35 \n",
      "\n",
      "\n",
      "transcripts missing from tx2gene: 295\n",
      "\n",
      "summarizing abundance\n",
      "\n",
      "summarizing counts\n",
      "\n",
      "summarizing length\n",
      "\n",
      "summarizing inferential replicates\n",
      "\n"
     ]
    }
   ],
   "source": [
    "txi <- tximport(sf_dirs, type=\"kallisto\", tx2gene=ttg, countsFromAbundance=\"lengthScaledTPM\")"
   ]
  },
  {
   "cell_type": "code",
   "execution_count": 68,
   "id": "9e81d852",
   "metadata": {},
   "outputs": [
    {
     "data": {
      "text/html": [
       "TRUE"
      ],
      "text/latex": [
       "TRUE"
      ],
      "text/markdown": [
       "TRUE"
      ],
      "text/plain": [
       "[1] TRUE"
      ]
     },
     "metadata": {},
     "output_type": "display_data"
    },
    {
     "data": {
      "text/html": [
       "TRUE"
      ],
      "text/latex": [
       "TRUE"
      ],
      "text/markdown": [
       "TRUE"
      ],
      "text/plain": [
       "[1] TRUE"
      ]
     },
     "metadata": {},
     "output_type": "display_data"
    }
   ],
   "source": [
    "sampletype = factor(c('p53','p53','p53','p53','p53','p53','p53','p53',\n",
    "                      'p53','p53','p53','p53','zfp1','zfp1','zfp1','zfp1','zfp1','zfp1',\n",
    "                      'zfp1','zfp1','zfp1','zfp1','zfp1','zfp1','control','control','control',\n",
    "                      'control','control','control','control','control','control','control','control'))\n",
    "meta = data.frame(sampletype, row.names = colnames(txi$counts))\n",
    "all(colnames(txi$counts) %in% rownames(meta))\n",
    "all(colnames(txi$counts) == rownames(meta))"
   ]
  },
  {
   "cell_type": "code",
   "execution_count": 69,
   "id": "e294022d",
   "metadata": {},
   "outputs": [
    {
     "name": "stderr",
     "output_type": "stream",
     "text": [
      "using just counts from tximport\n",
      "\n"
     ]
    }
   ],
   "source": [
    "dds_sample <- DESeqDataSetFromTximport(txi, colData = meta, design = ~ sampletype)"
   ]
  },
  {
   "cell_type": "code",
   "execution_count": 70,
   "id": "43587b4d",
   "metadata": {},
   "outputs": [
    {
     "name": "stderr",
     "output_type": "stream",
     "text": [
      "estimating size factors\n",
      "\n",
      "estimating dispersions\n",
      "\n",
      "gene-wise dispersion estimates\n",
      "\n",
      "mean-dispersion relationship\n",
      "\n",
      "final dispersion estimates\n",
      "\n",
      "fitting model and testing\n",
      "\n",
      "-- replacing outliers and refitting for 39 genes\n",
      "-- DESeq argument 'minReplicatesForReplace' = 7 \n",
      "-- original counts are preserved in counts(dds)\n",
      "\n",
      "estimating dispersions\n",
      "\n",
      "fitting model and testing\n",
      "\n"
     ]
    }
   ],
   "source": [
    "dds_sample <- DESeq(dds_sample)"
   ]
  },
  {
   "cell_type": "code",
   "execution_count": 72,
   "id": "a0faf544",
   "metadata": {},
   "outputs": [],
   "source": [
    "res_Stowers2016_p53 = results(dds_sample, contrast=c(\"sampletype\",\"p53\",\"control\"))"
   ]
  },
  {
   "cell_type": "code",
   "execution_count": 73,
   "id": "9569ee8b",
   "metadata": {},
   "outputs": [],
   "source": [
    "res_Stowers2016_p53 = res_Stowers2016_p53 %>% data.frame() \n",
    "res_Stowers2016_p53 = res_Stowers2016_p53[order(res_Stowers2016_p53$padj),]"
   ]
  },
  {
   "cell_type": "code",
   "execution_count": 74,
   "id": "9f577df4",
   "metadata": {},
   "outputs": [],
   "source": [
    "write.csv(res_Stowers2016_p53, \"/drives/raid/AboobakerLab/jakke/TF_RNAi_RNAseq/Stowers2016/res_Stowers2016_p53X1cells.csv\")"
   ]
  },
  {
   "cell_type": "code",
   "execution_count": 75,
   "id": "f7b171b0",
   "metadata": {},
   "outputs": [],
   "source": [
    "res_Stowers2016_zfp1 = results(dds_sample, contrast=c(\"sampletype\",\"zfp1\",\"control\"))\n",
    "res_Stowers2016_zfp1 = res_Stowers2016_zfp1 %>% data.frame() \n",
    "res_Stowers2016_zfp1 = res_Stowers2016_zfp1[order(res_Stowers2016_zfp1$padj),]\n",
    "write.csv(res_Stowers2016_zfp1, \"/drives/raid/AboobakerLab/jakke/TF_RNAi_RNAseq/Stowers2016/res_Stowers2016_zfp1X1cells.csv\")"
   ]
  },
  {
   "cell_type": "markdown",
   "id": "6463b07b",
   "metadata": {},
   "source": [
    "## 5.2 Whole worm tissue"
   ]
  },
  {
   "cell_type": "code",
   "execution_count": 58,
   "id": "437f9eb7",
   "metadata": {},
   "outputs": [],
   "source": [
    "sf_dirs <- file.path(\"/drives/raid/AboobakerLab/jakke/TF_RNAi_RNAseq/Stowers2016\", table1$Run)\n",
    "for (i in 1:length(sf_dirs)){\n",
    "    sf_dirs[i] = paste(sf_dirs[i], \".fastp.fq_kallisto/abundance.h5\", sep=\"\") \n",
    "} "
   ]
  },
  {
   "cell_type": "code",
   "execution_count": 59,
   "id": "6c046417",
   "metadata": {},
   "outputs": [],
   "source": [
    "sf_dirs_samples = table1$Run\n",
    "names(sf_dirs) = sf_dirs_samples"
   ]
  },
  {
   "cell_type": "code",
   "execution_count": 60,
   "id": "d4d19d22",
   "metadata": {},
   "outputs": [],
   "source": [
    "ttg = read.csv(\"/drives/raid/AboobakerLab/jakke/FACS/sleuth_ttg.csv\")"
   ]
  },
  {
   "cell_type": "code",
   "execution_count": 61,
   "id": "2baeabd0",
   "metadata": {},
   "outputs": [
    {
     "name": "stderr",
     "output_type": "stream",
     "text": [
      "1 \n",
      "2 \n",
      "3 \n",
      "4 \n",
      "5 \n",
      "6 \n",
      "7 \n",
      "8 \n",
      "9 \n",
      "10 \n",
      "11 \n",
      "12 \n",
      "13 \n",
      "14 \n",
      "15 \n",
      "16 \n",
      "17 \n",
      "18 \n",
      "19 \n",
      "20 \n",
      "21 \n",
      "22 \n",
      "23 \n",
      "24 \n",
      "25 \n",
      "26 \n",
      "27 \n",
      "28 \n",
      "29 \n",
      "30 \n",
      "31 \n",
      "32 \n",
      "33 \n",
      "34 \n",
      "35 \n",
      "36 \n",
      "37 \n",
      "38 \n",
      "39 \n",
      "40 \n",
      "41 \n",
      "42 \n",
      "43 \n",
      "44 \n",
      "45 \n",
      "46 \n",
      "47 \n",
      "48 \n",
      "\n",
      "\n",
      "transcripts missing from tx2gene: 295\n",
      "\n",
      "summarizing abundance\n",
      "\n",
      "summarizing counts\n",
      "\n",
      "summarizing length\n",
      "\n",
      "summarizing inferential replicates\n",
      "\n"
     ]
    }
   ],
   "source": [
    "txi <- tximport(sf_dirs, type=\"kallisto\", tx2gene=ttg, countsFromAbundance=\"lengthScaledTPM\")"
   ]
  },
  {
   "cell_type": "code",
   "execution_count": 63,
   "id": "3d712ec8",
   "metadata": {
    "scrolled": true
   },
   "outputs": [
    {
     "data": {
      "text/html": [
       "TRUE"
      ],
      "text/latex": [
       "TRUE"
      ],
      "text/markdown": [
       "TRUE"
      ],
      "text/plain": [
       "[1] TRUE"
      ]
     },
     "metadata": {},
     "output_type": "display_data"
    },
    {
     "data": {
      "text/html": [
       "TRUE"
      ],
      "text/latex": [
       "TRUE"
      ],
      "text/markdown": [
       "TRUE"
      ],
      "text/plain": [
       "[1] TRUE"
      ]
     },
     "metadata": {},
     "output_type": "display_data"
    }
   ],
   "source": [
    "sampletype = factor(c('pax5', 'pax5', 'pax5', 'pax5', 'pax5', 'pax5', 'pax5', 'pax5', 'pax5', 'pax5',\n",
    "                      'pax5', 'pax5', 'sox8', 'sox8', 'sox8', 'sox8', 'sox8', 'sox8', 'sox8', 'sox8', 'sox8',\n",
    "                      'sox8', 'sox8', 'sox8', 'control', 'control', 'control', 'control', 'control', 'control', 'control',\n",
    "                      'control', 'control', 'control', 'control', 'control', 'zfp1', 'zfp1', 'zfp1', 'zfp1', 'zfp1',\n",
    "                      'zfp1', 'zfp1', 'zfp1', 'zfp1', 'zfp1', 'zfp1', 'zfp1'))\n",
    "sampletypetime = factor(c('pax5 6h', 'pax5 6h', 'pax5 6h', 'pax5 6h', 'pax5 12h', 'pax5 12h', 'pax5 12h', 'pax5 12h', 'pax5 18h', 'pax5 18h',\n",
    "                      'pax5 18h', 'pax5 18h', 'sox8 6h', 'sox8 6h', 'sox8 6h', 'sox8 6h', 'sox8 12h', 'sox8 12h', 'sox8 12h', 'sox8 12h', 'sox8 18h',\n",
    "                      'sox8 18h', 'sox8 18h', 'sox8 18h', 'control 6h', 'control 6h', 'control 6h', 'control 6h', 'control 12h', 'control 12h', 'control 12h',\n",
    "                      'control 12h', 'control 18h', 'control 18h', 'control 18h', 'control 18h', 'zfp1 6h', 'zfp1 6h', 'zfp1 6h', 'zfp1 6h', 'zfp1 12h',\n",
    "                      'zfp1 12h', 'zfp1 12h', 'zfp1 12h', 'zfp1 18h', 'zfp1 18h', 'zfp1 18h', 'zfp1 18h'))\n",
    "meta = data.frame(sampletype, sampletypetime, row.names = colnames(txi$counts))\n",
    "all(colnames(txi$counts) %in% rownames(meta))\n",
    "all(colnames(txi$counts) == rownames(meta))"
   ]
  },
  {
   "cell_type": "code",
   "execution_count": 31,
   "id": "b1859c48",
   "metadata": {},
   "outputs": [],
   "source": [
    "library(DESeq2)"
   ]
  },
  {
   "cell_type": "markdown",
   "id": "11c19fb9",
   "metadata": {},
   "source": [
    "### 5.2.1 All timepoints"
   ]
  },
  {
   "cell_type": "code",
   "execution_count": 64,
   "id": "817ecd73",
   "metadata": {},
   "outputs": [
    {
     "name": "stderr",
     "output_type": "stream",
     "text": [
      "using just counts from tximport\n",
      "\n"
     ]
    }
   ],
   "source": [
    "dds_sample <- DESeqDataSetFromTximport(txi, colData = meta, design = ~ sampletype)"
   ]
  },
  {
   "cell_type": "code",
   "execution_count": 65,
   "id": "bf0bf792",
   "metadata": {},
   "outputs": [
    {
     "name": "stderr",
     "output_type": "stream",
     "text": [
      "estimating size factors\n",
      "\n",
      "estimating dispersions\n",
      "\n",
      "gene-wise dispersion estimates\n",
      "\n",
      "mean-dispersion relationship\n",
      "\n",
      "final dispersion estimates\n",
      "\n",
      "fitting model and testing\n",
      "\n",
      "-- replacing outliers and refitting for 33 genes\n",
      "-- DESeq argument 'minReplicatesForReplace' = 7 \n",
      "-- original counts are preserved in counts(dds)\n",
      "\n",
      "estimating dispersions\n",
      "\n",
      "fitting model and testing\n",
      "\n"
     ]
    }
   ],
   "source": [
    "dds_sample <- DESeq(dds_sample)"
   ]
  },
  {
   "cell_type": "code",
   "execution_count": 44,
   "id": "b1707dbc",
   "metadata": {},
   "outputs": [],
   "source": [
    "res_Stowers2016_zfp1 = results(dds_sample, contrast=c(\"sampletype\",\"zfp1\",\"control\"))\n",
    "res_Stowers2016_zfp1 = res_Stowers2016_zfp1 %>% data.frame() \n",
    "res_Stowers2016_zfp1 = res_Stowers2016_zfp1[order(res_Stowers2016_zfp1$padj),]\n",
    "write.csv(res_Stowers2016_zfp1, \"/drives/raid/AboobakerLab/jakke/TF_RNAi_RNAseq/Stowers2016/res_Stowers2016_zfp1whole.csv\")"
   ]
  },
  {
   "cell_type": "code",
   "execution_count": 45,
   "id": "c5abb56e",
   "metadata": {},
   "outputs": [],
   "source": [
    "res_Stowers2016_pax5 = results(dds_sample, contrast=c(\"sampletype\",\"pax5\",\"control\"))\n",
    "res_Stowers2016_pax5 = res_Stowers2016_pax5 %>% data.frame() \n",
    "res_Stowers2016_pax5 = res_Stowers2016_pax5[order(res_Stowers2016_pax5$padj),]\n",
    "write.csv(res_Stowers2016_pax5, \"/drives/raid/AboobakerLab/jakke/TF_RNAi_RNAseq/Stowers2016/res_Stowers2016_pax5whole.csv\")"
   ]
  },
  {
   "cell_type": "code",
   "execution_count": 47,
   "id": "adf29fab",
   "metadata": {},
   "outputs": [],
   "source": [
    "res_Stowers2016_sox8 = results(dds_sample, contrast=c(\"sampletype\",\"sox8\",\"control\"))\n",
    "res_Stowers2016_sox8 = res_Stowers2016_sox8 %>% data.frame() \n",
    "res_Stowers2016_sox8 = res_Stowers2016_sox8[order(res_Stowers2016_sox8$padj),]\n",
    "write.csv(res_Stowers2016_sox8, \"/drives/raid/AboobakerLab/jakke/TF_RNAi_RNAseq/Stowers2016/res_Stowers2016_sox8whole.csv\")"
   ]
  },
  {
   "cell_type": "markdown",
   "id": "56d298d9",
   "metadata": {},
   "source": [
    "### 5.2.2 18 hpa"
   ]
  },
  {
   "cell_type": "code",
   "execution_count": 66,
   "id": "d1066094",
   "metadata": {},
   "outputs": [
    {
     "name": "stderr",
     "output_type": "stream",
     "text": [
      "  Note: levels of factors in the design contain characters other than\n",
      "  letters, numbers, '_' and '.'. It is recommended (but not required) to use\n",
      "  only letters, numbers, and delimiters '_' or '.', as these are safe characters\n",
      "  for column names in R. [This is a message, not a warning or an error]\n",
      "\n",
      "using just counts from tximport\n",
      "\n"
     ]
    }
   ],
   "source": [
    "dds_sample <- DESeqDataSetFromTximport(txi, colData = meta, design = ~ sampletypetime)"
   ]
  },
  {
   "cell_type": "code",
   "execution_count": 67,
   "id": "93e985c3",
   "metadata": {},
   "outputs": [
    {
     "name": "stderr",
     "output_type": "stream",
     "text": [
      "estimating size factors\n",
      "\n",
      "  Note: levels of factors in the design contain characters other than\n",
      "  letters, numbers, '_' and '.'. It is recommended (but not required) to use\n",
      "  only letters, numbers, and delimiters '_' or '.', as these are safe characters\n",
      "  for column names in R. [This is a message, not a warning or an error]\n",
      "\n",
      "estimating dispersions\n",
      "\n",
      "gene-wise dispersion estimates\n",
      "\n",
      "mean-dispersion relationship\n",
      "\n",
      "  Note: levels of factors in the design contain characters other than\n",
      "  letters, numbers, '_' and '.'. It is recommended (but not required) to use\n",
      "  only letters, numbers, and delimiters '_' or '.', as these are safe characters\n",
      "  for column names in R. [This is a message, not a warning or an error]\n",
      "\n",
      "final dispersion estimates\n",
      "\n",
      "  Note: levels of factors in the design contain characters other than\n",
      "  letters, numbers, '_' and '.'. It is recommended (but not required) to use\n",
      "  only letters, numbers, and delimiters '_' or '.', as these are safe characters\n",
      "  for column names in R. [This is a message, not a warning or an error]\n",
      "\n",
      "fitting model and testing\n",
      "\n"
     ]
    }
   ],
   "source": [
    "dds_sample <- DESeq(dds_sample)"
   ]
  },
  {
   "cell_type": "code",
   "execution_count": 70,
   "id": "28decc53",
   "metadata": {},
   "outputs": [],
   "source": [
    "res_Stowers2016_pax518h = results(dds_sample, contrast=c(\"sampletypetime\",\"pax5 18h\",\"control 18h\"))\n",
    "res_Stowers2016_pax518h = res_Stowers2016_pax518h %>% data.frame() \n",
    "res_Stowers2016_pax518h = res_Stowers2016_pax518h[order(res_Stowers2016_pax518h$padj),]\n",
    "write.csv(res_Stowers2016_pax518h, \"/drives/raid/AboobakerLab/jakke/TF_RNAi_RNAseq/Stowers2016/res_Stowers2016_pax5whole_18hpa.csv\")"
   ]
  },
  {
   "cell_type": "markdown",
   "id": "3e7afa15",
   "metadata": {},
   "source": [
    "# 6. Scimone 2017"
   ]
  },
  {
   "cell_type": "markdown",
   "id": "2d201e5f",
   "metadata": {},
   "source": [
    "## 6.1 Whole worm"
   ]
  },
  {
   "cell_type": "code",
   "execution_count": 92,
   "id": "685e3510",
   "metadata": {},
   "outputs": [],
   "source": [
    "table = read.csv(\"/drives/raid/AboobakerLab/jakke/TF_RNAi_RNAseq/Scimone2017/SraRunTable.txt\")"
   ]
  },
  {
   "cell_type": "code",
   "execution_count": 77,
   "id": "b7baa897",
   "metadata": {},
   "outputs": [],
   "source": [
    "sf_dirs <- file.path(\"/drives/raid/AboobakerLab/jakke/TF_RNAi_RNAseq/Scimone2017\", table$Run)\n",
    "for (i in 1:length(sf_dirs)){\n",
    "    sf_dirs[i] = paste(sf_dirs[i], \"_kallisto/abundance.h5\", sep=\"\") \n",
    "} "
   ]
  },
  {
   "cell_type": "code",
   "execution_count": 78,
   "id": "ee82a3f0",
   "metadata": {},
   "outputs": [],
   "source": [
    "sf_dirs_samples = table$Run\n",
    "names(sf_dirs) = sf_dirs_samples"
   ]
  },
  {
   "cell_type": "code",
   "execution_count": 79,
   "id": "9a17969d",
   "metadata": {},
   "outputs": [],
   "source": [
    "ttg = read.csv(\"/drives/raid/AboobakerLab/jakke/FACS/sleuth_ttg.csv\")"
   ]
  },
  {
   "cell_type": "code",
   "execution_count": 80,
   "id": "3894c53a",
   "metadata": {},
   "outputs": [
    {
     "name": "stderr",
     "output_type": "stream",
     "text": [
      "1 \n",
      "2 \n",
      "3 \n",
      "4 \n",
      "5 \n",
      "6 \n",
      "7 \n",
      "8 \n",
      "9 \n",
      "10 \n",
      "11 \n",
      "12 \n",
      "13 \n",
      "14 \n",
      "15 \n",
      "16 \n",
      "17 \n",
      "18 \n",
      "19 \n",
      "20 \n",
      "21 \n",
      "22 \n",
      "23 \n",
      "24 \n",
      "\n",
      "\n",
      "transcripts missing from tx2gene: 295\n",
      "\n",
      "summarizing abundance\n",
      "\n",
      "summarizing counts\n",
      "\n",
      "summarizing length\n",
      "\n",
      "summarizing inferential replicates\n",
      "\n"
     ]
    }
   ],
   "source": [
    "txi <- tximport(sf_dirs, type=\"kallisto\", tx2gene=ttg, countsFromAbundance=\"lengthScaledTPM\")"
   ]
  },
  {
   "cell_type": "code",
   "execution_count": 93,
   "id": "1d5a1ef0",
   "metadata": {},
   "outputs": [
    {
     "data": {
      "text/html": [
       "<style>\n",
       ".list-inline {list-style: none; margin:0; padding: 0}\n",
       ".list-inline>li {display: inline-block}\n",
       ".list-inline>li:not(:last-child)::after {content: \"\\00b7\"; padding: 0 .5ex}\n",
       "</style>\n",
       "<ol class=list-inline><li>'unc-22'</li><li>'unc-22'</li><li>'nkx1-1'</li><li>'nkx1-1'</li><li>'nkx1-1'</li><li>'nkx1-1'</li><li>'unc-22'</li><li>'unc-22'</li><li>'unc-22'</li><li>'myoD'</li><li>'myoD'</li><li>'myoD'</li><li>'unc-22'</li><li>'unc-22'</li><li>'unc-22'</li><li>'nkx1-1'</li><li>'nkx1-1'</li><li>'nkx1-1'</li><li>'unc-22'</li><li>'unc-22'</li><li>'unc-22'</li><li>'myoD'</li><li>'myoD'</li><li>'myoD'</li></ol>\n"
      ],
      "text/latex": [
       "\\begin{enumerate*}\n",
       "\\item 'unc-22'\n",
       "\\item 'unc-22'\n",
       "\\item 'nkx1-1'\n",
       "\\item 'nkx1-1'\n",
       "\\item 'nkx1-1'\n",
       "\\item 'nkx1-1'\n",
       "\\item 'unc-22'\n",
       "\\item 'unc-22'\n",
       "\\item 'unc-22'\n",
       "\\item 'myoD'\n",
       "\\item 'myoD'\n",
       "\\item 'myoD'\n",
       "\\item 'unc-22'\n",
       "\\item 'unc-22'\n",
       "\\item 'unc-22'\n",
       "\\item 'nkx1-1'\n",
       "\\item 'nkx1-1'\n",
       "\\item 'nkx1-1'\n",
       "\\item 'unc-22'\n",
       "\\item 'unc-22'\n",
       "\\item 'unc-22'\n",
       "\\item 'myoD'\n",
       "\\item 'myoD'\n",
       "\\item 'myoD'\n",
       "\\end{enumerate*}\n"
      ],
      "text/markdown": [
       "1. 'unc-22'\n",
       "2. 'unc-22'\n",
       "3. 'nkx1-1'\n",
       "4. 'nkx1-1'\n",
       "5. 'nkx1-1'\n",
       "6. 'nkx1-1'\n",
       "7. 'unc-22'\n",
       "8. 'unc-22'\n",
       "9. 'unc-22'\n",
       "10. 'myoD'\n",
       "11. 'myoD'\n",
       "12. 'myoD'\n",
       "13. 'unc-22'\n",
       "14. 'unc-22'\n",
       "15. 'unc-22'\n",
       "16. 'nkx1-1'\n",
       "17. 'nkx1-1'\n",
       "18. 'nkx1-1'\n",
       "19. 'unc-22'\n",
       "20. 'unc-22'\n",
       "21. 'unc-22'\n",
       "22. 'myoD'\n",
       "23. 'myoD'\n",
       "24. 'myoD'\n",
       "\n",
       "\n"
      ],
      "text/plain": [
       " [1] \"unc-22\" \"unc-22\" \"nkx1-1\" \"nkx1-1\" \"nkx1-1\" \"nkx1-1\" \"unc-22\" \"unc-22\"\n",
       " [9] \"unc-22\" \"myoD\"   \"myoD\"   \"myoD\"   \"unc-22\" \"unc-22\" \"unc-22\" \"nkx1-1\"\n",
       "[17] \"nkx1-1\" \"nkx1-1\" \"unc-22\" \"unc-22\" \"unc-22\" \"myoD\"   \"myoD\"   \"myoD\"  "
      ]
     },
     "metadata": {},
     "output_type": "display_data"
    }
   ],
   "source": [
    "table$RNAi"
   ]
  },
  {
   "cell_type": "code",
   "execution_count": 21,
   "id": "78278153",
   "metadata": {},
   "outputs": [
    {
     "data": {
      "text/html": [
       "TRUE"
      ],
      "text/latex": [
       "TRUE"
      ],
      "text/markdown": [
       "TRUE"
      ],
      "text/plain": [
       "[1] TRUE"
      ]
     },
     "metadata": {},
     "output_type": "display_data"
    },
    {
     "data": {
      "text/html": [
       "TRUE"
      ],
      "text/latex": [
       "TRUE"
      ],
      "text/markdown": [
       "TRUE"
      ],
      "text/plain": [
       "[1] TRUE"
      ]
     },
     "metadata": {},
     "output_type": "display_data"
    }
   ],
   "source": [
    "sampletype = factor(c('control', 'control', 'nkx1-1', 'nkx1-1', 'nkx1-1', 'nkx1-1', 'control', 'control', 'control', \n",
    "                     'myoD', 'myoD', 'myoD', 'control', 'control', 'control', 'nkx1-1', 'nkx1-1', 'nkx1-1', \n",
    "                     'control', 'control', 'control', 'myoD', 'myoD', 'myoD'))\n",
    "samplefeeding = factor(table$RNAi_feedings)\n",
    "meta = data.frame(sampletype, samplefeeding, row.names = colnames(txi$counts))\n",
    "all(colnames(txi$counts) %in% rownames(meta))\n",
    "all(colnames(txi$counts) == rownames(meta))"
   ]
  },
  {
   "cell_type": "code",
   "execution_count": 22,
   "id": "c560d979",
   "metadata": {},
   "outputs": [],
   "source": [
    "library(DESeq2)"
   ]
  },
  {
   "cell_type": "code",
   "execution_count": 23,
   "id": "8dea2b37",
   "metadata": {},
   "outputs": [
    {
     "name": "stderr",
     "output_type": "stream",
     "text": [
      "  Note: levels of factors in the design contain characters other than\n",
      "  letters, numbers, '_' and '.'. It is recommended (but not required) to use\n",
      "  only letters, numbers, and delimiters '_' or '.', as these are safe characters\n",
      "  for column names in R. [This is a message, not a warning or an error]\n",
      "\n",
      "using just counts from tximport\n",
      "\n"
     ]
    }
   ],
   "source": [
    "dds_sample <- DESeqDataSetFromTximport(txi, colData = meta, design = ~ sampletype)"
   ]
  },
  {
   "cell_type": "code",
   "execution_count": 24,
   "id": "7838d7a7",
   "metadata": {},
   "outputs": [
    {
     "name": "stderr",
     "output_type": "stream",
     "text": [
      "estimating size factors\n",
      "\n",
      "  Note: levels of factors in the design contain characters other than\n",
      "  letters, numbers, '_' and '.'. It is recommended (but not required) to use\n",
      "  only letters, numbers, and delimiters '_' or '.', as these are safe characters\n",
      "  for column names in R. [This is a message, not a warning or an error]\n",
      "\n",
      "estimating dispersions\n",
      "\n",
      "gene-wise dispersion estimates\n",
      "\n",
      "mean-dispersion relationship\n",
      "\n",
      "  Note: levels of factors in the design contain characters other than\n",
      "  letters, numbers, '_' and '.'. It is recommended (but not required) to use\n",
      "  only letters, numbers, and delimiters '_' or '.', as these are safe characters\n",
      "  for column names in R. [This is a message, not a warning or an error]\n",
      "\n",
      "final dispersion estimates\n",
      "\n",
      "  Note: levels of factors in the design contain characters other than\n",
      "  letters, numbers, '_' and '.'. It is recommended (but not required) to use\n",
      "  only letters, numbers, and delimiters '_' or '.', as these are safe characters\n",
      "  for column names in R. [This is a message, not a warning or an error]\n",
      "\n",
      "fitting model and testing\n",
      "\n",
      "  Note: levels of factors in the design contain characters other than\n",
      "  letters, numbers, '_' and '.'. It is recommended (but not required) to use\n",
      "  only letters, numbers, and delimiters '_' or '.', as these are safe characters\n",
      "  for column names in R. [This is a message, not a warning or an error]\n",
      "\n",
      "-- replacing outliers and refitting for 36 genes\n",
      "-- DESeq argument 'minReplicatesForReplace' = 7 \n",
      "-- original counts are preserved in counts(dds)\n",
      "\n",
      "estimating dispersions\n",
      "\n",
      "  Note: levels of factors in the design contain characters other than\n",
      "  letters, numbers, '_' and '.'. It is recommended (but not required) to use\n",
      "  only letters, numbers, and delimiters '_' or '.', as these are safe characters\n",
      "  for column names in R. [This is a message, not a warning or an error]\n",
      "\n",
      "fitting model and testing\n",
      "\n",
      "  Note: levels of factors in the design contain characters other than\n",
      "  letters, numbers, '_' and '.'. It is recommended (but not required) to use\n",
      "  only letters, numbers, and delimiters '_' or '.', as these are safe characters\n",
      "  for column names in R. [This is a message, not a warning or an error]\n",
      "\n"
     ]
    }
   ],
   "source": [
    "dds_sample <- DESeq(dds_sample)"
   ]
  },
  {
   "cell_type": "code",
   "execution_count": 27,
   "id": "5660be37",
   "metadata": {},
   "outputs": [],
   "source": [
    "res_Scimone2017_myod = results(dds_sample, contrast=c(\"sampletype\",\"myoD\",\"control\"))"
   ]
  },
  {
   "cell_type": "code",
   "execution_count": 29,
   "id": "20bc9454",
   "metadata": {},
   "outputs": [],
   "source": [
    "res_Scimone2017_myod = res_Scimone2017_myod %>% data.frame() \n",
    "res_Scimone2017_myod = res_Scimone2017_myod[order(res_Scimone2017_myod$padj),]"
   ]
  },
  {
   "cell_type": "code",
   "execution_count": 31,
   "id": "e70fadaa",
   "metadata": {},
   "outputs": [],
   "source": [
    "write.csv(res_Scimone2017_myod, \"/drives/raid/AboobakerLab/jakke/TF_RNAi_RNAseq/Scimone2017/res_Scimone2017_myod.csv\")"
   ]
  },
  {
   "cell_type": "code",
   "execution_count": 32,
   "id": "59a8b4d6",
   "metadata": {},
   "outputs": [],
   "source": [
    "res_Scimone2017_nkx = results(dds_sample, contrast=c(\"sampletype\",\"nkx1-1\",\"control\"))"
   ]
  },
  {
   "cell_type": "code",
   "execution_count": 34,
   "id": "f3a3d5f9",
   "metadata": {},
   "outputs": [],
   "source": [
    "res_Scimone2017_nkx = res_Scimone2017_nkx %>% data.frame() \n",
    "res_Scimone2017_nkx = res_Scimone2017_nkx[order(res_Scimone2017_nkx$padj),]"
   ]
  },
  {
   "cell_type": "code",
   "execution_count": 36,
   "id": "6e1f3218",
   "metadata": {},
   "outputs": [],
   "source": [
    "write.csv(res_Scimone2017_nkx, \"/drives/raid/AboobakerLab/jakke/TF_RNAi_RNAseq/Scimone2017/res_Scimone2017_nkx.csv\")"
   ]
  },
  {
   "cell_type": "markdown",
   "id": "162a64d5",
   "metadata": {},
   "source": [
    "## 6.2 Blastema"
   ]
  },
  {
   "cell_type": "code",
   "execution_count": 1,
   "id": "cadcb4e8",
   "metadata": {},
   "outputs": [],
   "source": [
    "table2 = read.csv(\"/drives/raid/AboobakerLab/jakke/TF_RNAi_RNAseq/Scimone2017/SraRunTable2.txt\")"
   ]
  },
  {
   "cell_type": "code",
   "execution_count": 2,
   "id": "c00c0cae",
   "metadata": {},
   "outputs": [],
   "source": [
    "sf_dirs <- file.path(\"/drives/raid/AboobakerLab/jakke/TF_RNAi_RNAseq/Scimone2017\", table2$Run)\n",
    "for (i in 1:length(sf_dirs)){\n",
    "    sf_dirs[i] = paste(sf_dirs[i], \"_kallisto/abundance.h5\", sep=\"\") \n",
    "} "
   ]
  },
  {
   "cell_type": "code",
   "execution_count": 3,
   "id": "e3431ed6",
   "metadata": {},
   "outputs": [],
   "source": [
    "sf_dirs_samples = table2$Run\n",
    "names(sf_dirs) = sf_dirs_samples"
   ]
  },
  {
   "cell_type": "code",
   "execution_count": 8,
   "id": "efb4dca0",
   "metadata": {},
   "outputs": [],
   "source": [
    "ttg = read.csv(\"/drives/raid/AboobakerLab/jakke/FACS/sleuth_ttg.csv\")"
   ]
  },
  {
   "cell_type": "code",
   "execution_count": 9,
   "id": "8d43c101",
   "metadata": {},
   "outputs": [
    {
     "name": "stderr",
     "output_type": "stream",
     "text": [
      "1 \n",
      "2 \n",
      "3 \n",
      "4 \n",
      "5 \n",
      "6 \n",
      "7 \n",
      "8 \n",
      "9 \n",
      "10 \n",
      "11 \n",
      "12 \n",
      "13 \n",
      "14 \n",
      "15 \n",
      "16 \n",
      "17 \n",
      "18 \n",
      "19 \n",
      "20 \n",
      "21 \n",
      "22 \n",
      "23 \n",
      "24 \n",
      "25 \n",
      "26 \n",
      "27 \n",
      "28 \n",
      "29 \n",
      "30 \n",
      "31 \n",
      "32 \n",
      "33 \n",
      "34 \n",
      "35 \n",
      "36 \n",
      "37 \n",
      "38 \n",
      "39 \n",
      "40 \n",
      "41 \n",
      "42 \n",
      "43 \n",
      "44 \n",
      "45 \n",
      "46 \n",
      "47 \n",
      "48 \n",
      "\n",
      "\n",
      "transcripts missing from tx2gene: 295\n",
      "\n",
      "summarizing abundance\n",
      "\n",
      "summarizing counts\n",
      "\n",
      "summarizing length\n",
      "\n",
      "summarizing inferential replicates\n",
      "\n"
     ]
    }
   ],
   "source": [
    "txi <- tximport(sf_dirs, type=\"kallisto\", tx2gene=ttg, countsFromAbundance=\"lengthScaledTPM\")"
   ]
  },
  {
   "cell_type": "code",
   "execution_count": 11,
   "id": "750ad32d",
   "metadata": {},
   "outputs": [
    {
     "data": {
      "text/html": [
       "<table class=\"dataframe\">\n",
       "<caption>A data.frame: 48 × 28</caption>\n",
       "<thead>\n",
       "\t<tr><th scope=col>Run</th><th scope=col>Assay.Type</th><th scope=col>AvgSpotLen</th><th scope=col>Bases</th><th scope=col>BioProject</th><th scope=col>BioSample</th><th scope=col>Bytes</th><th scope=col>Center.Name</th><th scope=col>Consent</th><th scope=col>DATASTORE.filetype</th><th scope=col>⋯</th><th scope=col>Organism</th><th scope=col>Platform</th><th scope=col>ReleaseDate</th><th scope=col>RNAi_feedings</th><th scope=col>RNAi</th><th scope=col>Sample.Name</th><th scope=col>source_name</th><th scope=col>SRA.Study</th><th scope=col>strain</th><th scope=col>tissue</th></tr>\n",
       "\t<tr><th scope=col>&lt;chr&gt;</th><th scope=col>&lt;chr&gt;</th><th scope=col>&lt;int&gt;</th><th scope=col>&lt;int&gt;</th><th scope=col>&lt;chr&gt;</th><th scope=col>&lt;chr&gt;</th><th scope=col>&lt;int&gt;</th><th scope=col>&lt;chr&gt;</th><th scope=col>&lt;chr&gt;</th><th scope=col>&lt;chr&gt;</th><th scope=col>⋯</th><th scope=col>&lt;chr&gt;</th><th scope=col>&lt;chr&gt;</th><th scope=col>&lt;chr&gt;</th><th scope=col>&lt;chr&gt;</th><th scope=col>&lt;chr&gt;</th><th scope=col>&lt;chr&gt;</th><th scope=col>&lt;chr&gt;</th><th scope=col>&lt;chr&gt;</th><th scope=col>&lt;chr&gt;</th><th scope=col>&lt;chr&gt;</th></tr>\n",
       "</thead>\n",
       "<tbody>\n",
       "\t<tr><td>SRR5573172</td><td>RNA-Seq</td><td>40</td><td> 770794360</td><td>PRJNA387024</td><td>SAMN07138395</td><td>503062224</td><td>GEO</td><td>public</td><td>fastq,sra</td><td>⋯</td><td>Schmidtea mediterranea</td><td>ILLUMINA</td><td>2017-10-30T00:00:00Z</td><td>10F</td><td>myoD  </td><td>GSM2630544</td><td>Wound tissue from tail fragment</td><td>SRP107207</td><td>CIW4</td><td>Tail fragment</td></tr>\n",
       "\t<tr><td>SRR5573173</td><td>RNA-Seq</td><td>40</td><td> 750505960</td><td>PRJNA387024</td><td>SAMN07138348</td><td>491929425</td><td>GEO</td><td>public</td><td>fastq,sra</td><td>⋯</td><td>Schmidtea mediterranea</td><td>ILLUMINA</td><td>2017-10-30T00:00:00Z</td><td>10F</td><td>unc-22</td><td>GSM2630545</td><td>Wound tissue from tail fragment</td><td>SRP107207</td><td>CIW4</td><td>Tail fragment</td></tr>\n",
       "\t<tr><td>SRR5573176</td><td>RNA-Seq</td><td>40</td><td> 711194880</td><td>PRJNA387024</td><td>SAMN07138392</td><td>464598314</td><td>GEO</td><td>public</td><td>fastq,sra</td><td>⋯</td><td>Schmidtea mediterranea</td><td>ILLUMINA</td><td>2017-10-30T00:00:00Z</td><td>10F</td><td>myoD  </td><td>GSM2630548</td><td>Wound tissue from tail fragment</td><td>SRP107207</td><td>CIW4</td><td>Tail fragment</td></tr>\n",
       "\t<tr><td>SRR5573178</td><td>RNA-Seq</td><td>40</td><td> 854320480</td><td>PRJNA387024</td><td>SAMN07138390</td><td>556736764</td><td>GEO</td><td>public</td><td>fastq,sra</td><td>⋯</td><td>Schmidtea mediterranea</td><td>ILLUMINA</td><td>2017-10-30T00:00:00Z</td><td>10F</td><td>myoD  </td><td>GSM2630550</td><td>Wound tissue from tail fragment</td><td>SRP107207</td><td>CIW4</td><td>Tail fragment</td></tr>\n",
       "\t<tr><td>SRR5573181</td><td>RNA-Seq</td><td>40</td><td> 698866960</td><td>PRJNA387024</td><td>SAMN07138385</td><td>456524331</td><td>GEO</td><td>public</td><td>fastq,sra</td><td>⋯</td><td>Schmidtea mediterranea</td><td>ILLUMINA</td><td>2017-10-30T00:00:00Z</td><td>10F</td><td>unc-22</td><td>GSM2630553</td><td>Wound tissue from tail fragment</td><td>SRP107207</td><td>CIW4</td><td>Tail fragment</td></tr>\n",
       "\t<tr><td>SRR5573183</td><td>RNA-Seq</td><td>50</td><td>1219558050</td><td>PRJNA387024</td><td>SAMN07138383</td><td>745582086</td><td>GEO</td><td>public</td><td>fastq,sra</td><td>⋯</td><td>Schmidtea mediterranea</td><td>ILLUMINA</td><td>2017-10-30T00:00:00Z</td><td>10F</td><td>myoD  </td><td>GSM2630555</td><td>Wound tissue from tail fragment</td><td>SRP107207</td><td>CIW4</td><td>Tail fragment</td></tr>\n",
       "\t<tr><td>SRR5573184</td><td>RNA-Seq</td><td>50</td><td> 874844250</td><td>PRJNA387024</td><td>SAMN07138382</td><td>529138115</td><td>GEO</td><td>public</td><td>fastq,sra</td><td>⋯</td><td>Schmidtea mediterranea</td><td>ILLUMINA</td><td>2017-10-30T00:00:00Z</td><td>10F</td><td>myoD  </td><td>GSM2630556</td><td>Wound tissue from tail fragment</td><td>SRP107207</td><td>CIW4</td><td>Tail fragment</td></tr>\n",
       "\t<tr><td>SRR5573185</td><td>RNA-Seq</td><td>50</td><td> 802082200</td><td>PRJNA387024</td><td>SAMN07138381</td><td>490653557</td><td>GEO</td><td>public</td><td>fastq,sra</td><td>⋯</td><td>Schmidtea mediterranea</td><td>ILLUMINA</td><td>2017-10-30T00:00:00Z</td><td>10F</td><td>unc-22</td><td>GSM2630557</td><td>Wound tissue from tail fragment</td><td>SRP107207</td><td>CIW4</td><td>Tail fragment</td></tr>\n",
       "\t<tr><td>SRR5573188</td><td>RNA-Seq</td><td>50</td><td>1103679550</td><td>PRJNA387024</td><td>SAMN07138378</td><td>669940266</td><td>GEO</td><td>public</td><td>fastq,sra</td><td>⋯</td><td>Schmidtea mediterranea</td><td>ILLUMINA</td><td>2017-10-30T00:00:00Z</td><td>10F</td><td>myoD  </td><td>GSM2630560</td><td>Wound tissue from tail fragment</td><td>SRP107207</td><td>CIW4</td><td>Tail fragment</td></tr>\n",
       "\t<tr><td>SRR5573189</td><td>RNA-Seq</td><td>50</td><td> 767285650</td><td>PRJNA387024</td><td>SAMN07138377</td><td>463965032</td><td>GEO</td><td>public</td><td>fastq,sra</td><td>⋯</td><td>Schmidtea mediterranea</td><td>ILLUMINA</td><td>2017-10-30T00:00:00Z</td><td>10F</td><td>myoD  </td><td>GSM2630561</td><td>Wound tissue from tail fragment</td><td>SRP107207</td><td>CIW4</td><td>Tail fragment</td></tr>\n",
       "\t<tr><td>SRR5573190</td><td>RNA-Seq</td><td>50</td><td> 799939100</td><td>PRJNA387024</td><td>SAMN07138376</td><td>483201290</td><td>GEO</td><td>public</td><td>fastq,sra</td><td>⋯</td><td>Schmidtea mediterranea</td><td>ILLUMINA</td><td>2017-10-30T00:00:00Z</td><td>10F</td><td>myoD  </td><td>GSM2630562</td><td>Wound tissue from tail fragment</td><td>SRP107207</td><td>CIW4</td><td>Tail fragment</td></tr>\n",
       "\t<tr><td>SRR5573191</td><td>RNA-Seq</td><td>50</td><td> 870085550</td><td>PRJNA387024</td><td>SAMN07138375</td><td>526893481</td><td>GEO</td><td>public</td><td>fastq,sra</td><td>⋯</td><td>Schmidtea mediterranea</td><td>ILLUMINA</td><td>2017-10-30T00:00:00Z</td><td>10F</td><td>unc-22</td><td>GSM2630563</td><td>Wound tissue from tail fragment</td><td>SRP107207</td><td>CIW4</td><td>Tail fragment</td></tr>\n",
       "\t<tr><td>SRR5573192</td><td>RNA-Seq</td><td>50</td><td> 797061050</td><td>PRJNA387024</td><td>SAMN07138374</td><td>481258345</td><td>GEO</td><td>public</td><td>fastq,sra</td><td>⋯</td><td>Schmidtea mediterranea</td><td>ILLUMINA</td><td>2017-10-30T00:00:00Z</td><td>10F</td><td>unc-22</td><td>GSM2630564</td><td>Wound tissue from tail fragment</td><td>SRP107207</td><td>CIW4</td><td>Tail fragment</td></tr>\n",
       "\t<tr><td>SRR5573193</td><td>RNA-Seq</td><td>50</td><td> 849518600</td><td>PRJNA387024</td><td>SAMN07138373</td><td>512156626</td><td>GEO</td><td>public</td><td>fastq,sra</td><td>⋯</td><td>Schmidtea mediterranea</td><td>ILLUMINA</td><td>2017-10-30T00:00:00Z</td><td>10F</td><td>unc-22</td><td>GSM2630565</td><td>Wound tissue from tail fragment</td><td>SRP107207</td><td>CIW4</td><td>Tail fragment</td></tr>\n",
       "\t<tr><td>SRR5573195</td><td>RNA-Seq</td><td>50</td><td>1257267500</td><td>PRJNA387024</td><td>SAMN07138371</td><td>763137758</td><td>GEO</td><td>public</td><td>fastq,sra</td><td>⋯</td><td>Schmidtea mediterranea</td><td>ILLUMINA</td><td>2017-10-30T00:00:00Z</td><td>6F </td><td>unc-22</td><td>GSM2630567</td><td>Wound tissue from tail fragment</td><td>SRP107207</td><td>CIW4</td><td>Tail fragment</td></tr>\n",
       "\t<tr><td>SRR5573197</td><td>RNA-Seq</td><td>50</td><td> 589157200</td><td>PRJNA387024</td><td>SAMN07138369</td><td>358263507</td><td>GEO</td><td>public</td><td>fastq,sra</td><td>⋯</td><td>Schmidtea mediterranea</td><td>ILLUMINA</td><td>2017-10-30T00:00:00Z</td><td>6F </td><td>fst   </td><td>GSM2630569</td><td>Wound tissue from tail fragment</td><td>SRP107207</td><td>CIW4</td><td>Tail fragment</td></tr>\n",
       "\t<tr><td>SRR5573200</td><td>RNA-Seq</td><td>50</td><td> 955997350</td><td>PRJNA387024</td><td>SAMN07138366</td><td>587392707</td><td>GEO</td><td>public</td><td>fastq,sra</td><td>⋯</td><td>Schmidtea mediterranea</td><td>ILLUMINA</td><td>2017-10-30T00:00:00Z</td><td>6F </td><td>unc-22</td><td>GSM2630572</td><td>Wound tissue from tail fragment</td><td>SRP107207</td><td>CIW4</td><td>Tail fragment</td></tr>\n",
       "\t<tr><td>SRR5573202</td><td>RNA-Seq</td><td>50</td><td> 951724800</td><td>PRJNA387024</td><td>SAMN07138364</td><td>578261884</td><td>GEO</td><td>public</td><td>fastq,sra</td><td>⋯</td><td>Schmidtea mediterranea</td><td>ILLUMINA</td><td>2017-10-30T00:00:00Z</td><td>6F </td><td>unc-22</td><td>GSM2630574</td><td>Wound tissue from tail fragment</td><td>SRP107207</td><td>CIW4</td><td>Tail fragment</td></tr>\n",
       "\t<tr><td>SRR5573203</td><td>RNA-Seq</td><td>50</td><td>1139865600</td><td>PRJNA387024</td><td>SAMN07138363</td><td>727209212</td><td>GEO</td><td>public</td><td>fastq,sra</td><td>⋯</td><td>Schmidtea mediterranea</td><td>ILLUMINA</td><td>2017-10-30T00:00:00Z</td><td>6F </td><td>fst   </td><td>GSM2630575</td><td>Wound tissue from tail fragment</td><td>SRP107207</td><td>CIW4</td><td>Tail fragment</td></tr>\n",
       "\t<tr><td>SRR5573204</td><td>RNA-Seq</td><td>50</td><td> 996817300</td><td>PRJNA387024</td><td>SAMN07138362</td><td>634405555</td><td>GEO</td><td>public</td><td>fastq,sra</td><td>⋯</td><td>Schmidtea mediterranea</td><td>ILLUMINA</td><td>2017-10-30T00:00:00Z</td><td>6F </td><td>fst   </td><td>GSM2630576</td><td>Wound tissue from tail fragment</td><td>SRP107207</td><td>CIW4</td><td>Tail fragment</td></tr>\n",
       "\t<tr><td>SRR5573205</td><td>RNA-Seq</td><td>50</td><td>1061146750</td><td>PRJNA387024</td><td>SAMN07138361</td><td>678272534</td><td>GEO</td><td>public</td><td>fastq,sra</td><td>⋯</td><td>Schmidtea mediterranea</td><td>ILLUMINA</td><td>2017-10-30T00:00:00Z</td><td>6F </td><td>fst   </td><td>GSM2630577</td><td>Wound tissue from tail fragment</td><td>SRP107207</td><td>CIW4</td><td>Tail fragment</td></tr>\n",
       "\t<tr><td>SRR5573207</td><td>RNA-Seq</td><td>50</td><td> 965507050</td><td>PRJNA387024</td><td>SAMN07138359</td><td>615642005</td><td>GEO</td><td>public</td><td>fastq,sra</td><td>⋯</td><td>Schmidtea mediterranea</td><td>ILLUMINA</td><td>2017-10-30T00:00:00Z</td><td>6F </td><td>unc-22</td><td>GSM2630579</td><td>Wound tissue from tail fragment</td><td>SRP107207</td><td>CIW4</td><td>Tail fragment</td></tr>\n",
       "\t<tr><td>SRR5573209</td><td>RNA-Seq</td><td>50</td><td> 564424750</td><td>PRJNA387024</td><td>SAMN07138357</td><td>405172452</td><td>GEO</td><td>public</td><td>fastq,sra</td><td>⋯</td><td>Schmidtea mediterranea</td><td>ILLUMINA</td><td>2017-10-30T00:00:00Z</td><td>6F </td><td>fst   </td><td>GSM2630581</td><td>Wound tissue from tail fragment</td><td>SRP107207</td><td>CIW4</td><td>Tail fragment</td></tr>\n",
       "\t<tr><td>SRR5573213</td><td>RNA-Seq</td><td>50</td><td> 600649200</td><td>PRJNA387024</td><td>SAMN07138353</td><td>429986129</td><td>GEO</td><td>public</td><td>fastq,sra</td><td>⋯</td><td>Schmidtea mediterranea</td><td>ILLUMINA</td><td>2017-10-30T00:00:00Z</td><td>6F </td><td>unc-22</td><td>GSM2630585</td><td>Wound tissue from tail fragment</td><td>SRP107207</td><td>CIW4</td><td>Tail fragment</td></tr>\n",
       "\t<tr><td>SRR5573215</td><td>RNA-Seq</td><td>50</td><td> 684108650</td><td>PRJNA387024</td><td>SAMN07138351</td><td>476091500</td><td>GEO</td><td>public</td><td>fastq,sra</td><td>⋯</td><td>Schmidtea mediterranea</td><td>ILLUMINA</td><td>2017-10-30T00:00:00Z</td><td>6F </td><td>fst   </td><td>GSM2630587</td><td>Wound tissue from tail fragment</td><td>SRP107207</td><td>CIW4</td><td>Tail fragment</td></tr>\n",
       "\t<tr><td>SRR5573216</td><td>RNA-Seq</td><td>50</td><td> 609552700</td><td>PRJNA387024</td><td>SAMN07138350</td><td>436922669</td><td>GEO</td><td>public</td><td>fastq,sra</td><td>⋯</td><td>Schmidtea mediterranea</td><td>ILLUMINA</td><td>2017-10-30T00:00:00Z</td><td>6F </td><td>fst   </td><td>GSM2630588</td><td>Wound tissue from tail fragment</td><td>SRP107207</td><td>CIW4</td><td>Tail fragment</td></tr>\n",
       "\t<tr><td>SRR5573170</td><td>RNA-Seq</td><td>40</td><td> 833817640</td><td>PRJNA387024</td><td>SAMN07138394</td><td>544829361</td><td>GEO</td><td>public</td><td>fastq,sra</td><td>⋯</td><td>Schmidtea mediterranea</td><td>ILLUMINA</td><td>2017-10-30T00:00:00Z</td><td>10F</td><td>myoD  </td><td>GSM2630542</td><td>Wound tissue from tail fragment</td><td>SRP107207</td><td>CIW4</td><td>Tail fragment</td></tr>\n",
       "\t<tr><td>SRR5573171</td><td>RNA-Seq</td><td>40</td><td> 888637240</td><td>PRJNA387024</td><td>SAMN07138393</td><td>580291956</td><td>GEO</td><td>public</td><td>fastq,sra</td><td>⋯</td><td>Schmidtea mediterranea</td><td>ILLUMINA</td><td>2017-10-30T00:00:00Z</td><td>10F</td><td>myoD  </td><td>GSM2630543</td><td>Wound tissue from tail fragment</td><td>SRP107207</td><td>CIW4</td><td>Tail fragment</td></tr>\n",
       "\t<tr><td>SRR5573174</td><td>RNA-Seq</td><td>40</td><td> 657022640</td><td>PRJNA387024</td><td>SAMN07138388</td><td>430009821</td><td>GEO</td><td>public</td><td>fastq,sra</td><td>⋯</td><td>Schmidtea mediterranea</td><td>ILLUMINA</td><td>2017-10-30T00:00:00Z</td><td>10F</td><td>unc-22</td><td>GSM2630546</td><td>Wound tissue from tail fragment</td><td>SRP107207</td><td>CIW4</td><td>Tail fragment</td></tr>\n",
       "\t<tr><td>SRR5573175</td><td>RNA-Seq</td><td>40</td><td> 885778120</td><td>PRJNA387024</td><td>SAMN07138387</td><td>577646821</td><td>GEO</td><td>public</td><td>fastq,sra</td><td>⋯</td><td>Schmidtea mediterranea</td><td>ILLUMINA</td><td>2017-10-30T00:00:00Z</td><td>10F</td><td>unc-22</td><td>GSM2630547</td><td>Wound tissue from tail fragment</td><td>SRP107207</td><td>CIW4</td><td>Tail fragment</td></tr>\n",
       "\t<tr><td>SRR5573177</td><td>RNA-Seq</td><td>40</td><td> 879490520</td><td>PRJNA387024</td><td>SAMN07138391</td><td>574225925</td><td>GEO</td><td>public</td><td>fastq,sra</td><td>⋯</td><td>Schmidtea mediterranea</td><td>ILLUMINA</td><td>2017-10-30T00:00:00Z</td><td>10F</td><td>myoD  </td><td>GSM2630549</td><td>Wound tissue from tail fragment</td><td>SRP107207</td><td>CIW4</td><td>Tail fragment</td></tr>\n",
       "\t<tr><td>SRR5573179</td><td>RNA-Seq</td><td>40</td><td> 720589320</td><td>PRJNA387024</td><td>SAMN07138389</td><td>474935665</td><td>GEO</td><td>public</td><td>fastq,sra</td><td>⋯</td><td>Schmidtea mediterranea</td><td>ILLUMINA</td><td>2017-10-30T00:00:00Z</td><td>10F</td><td>unc-22</td><td>GSM2630551</td><td>Wound tissue from tail fragment</td><td>SRP107207</td><td>CIW4</td><td>Tail fragment</td></tr>\n",
       "\t<tr><td>SRR5573180</td><td>RNA-Seq</td><td>40</td><td> 828805320</td><td>PRJNA387024</td><td>SAMN07138386</td><td>545015858</td><td>GEO</td><td>public</td><td>fastq,sra</td><td>⋯</td><td>Schmidtea mediterranea</td><td>ILLUMINA</td><td>2017-10-30T00:00:00Z</td><td>10F</td><td>unc-22</td><td>GSM2630552</td><td>Wound tissue from tail fragment</td><td>SRP107207</td><td>CIW4</td><td>Tail fragment</td></tr>\n",
       "\t<tr><td>SRR5573182</td><td>RNA-Seq</td><td>50</td><td> 871070600</td><td>PRJNA387024</td><td>SAMN07138384</td><td>537535947</td><td>GEO</td><td>public</td><td>fastq,sra</td><td>⋯</td><td>Schmidtea mediterranea</td><td>ILLUMINA</td><td>2017-10-30T00:00:00Z</td><td>10F</td><td>myoD  </td><td>GSM2630554</td><td>Wound tissue from tail fragment</td><td>SRP107207</td><td>CIW4</td><td>Tail fragment</td></tr>\n",
       "\t<tr><td>SRR5573186</td><td>RNA-Seq</td><td>50</td><td> 876596850</td><td>PRJNA387024</td><td>SAMN07138380</td><td>530650007</td><td>GEO</td><td>public</td><td>fastq,sra</td><td>⋯</td><td>Schmidtea mediterranea</td><td>ILLUMINA</td><td>2017-10-30T00:00:00Z</td><td>10F</td><td>unc-22</td><td>GSM2630558</td><td>Wound tissue from tail fragment</td><td>SRP107207</td><td>CIW4</td><td>Tail fragment</td></tr>\n",
       "\t<tr><td>SRR5573187</td><td>RNA-Seq</td><td>50</td><td>1266350250</td><td>PRJNA387024</td><td>SAMN07138379</td><td>766708841</td><td>GEO</td><td>public</td><td>fastq,sra</td><td>⋯</td><td>Schmidtea mediterranea</td><td>ILLUMINA</td><td>2017-10-30T00:00:00Z</td><td>10F</td><td>unc-22</td><td>GSM2630559</td><td>Wound tissue from tail fragment</td><td>SRP107207</td><td>CIW4</td><td>Tail fragment</td></tr>\n",
       "\t<tr><td>SRR5573194</td><td>RNA-Seq</td><td>50</td><td> 896768100</td><td>PRJNA387024</td><td>SAMN07138372</td><td>545694636</td><td>GEO</td><td>public</td><td>fastq,sra</td><td>⋯</td><td>Schmidtea mediterranea</td><td>ILLUMINA</td><td>2017-10-30T00:00:00Z</td><td>6F </td><td>unc-22</td><td>GSM2630566</td><td>Wound tissue from tail fragment</td><td>SRP107207</td><td>CIW4</td><td>Tail fragment</td></tr>\n",
       "\t<tr><td>SRR5573196</td><td>RNA-Seq</td><td>50</td><td> 914926100</td><td>PRJNA387024</td><td>SAMN07138370</td><td>555707955</td><td>GEO</td><td>public</td><td>fastq,sra</td><td>⋯</td><td>Schmidtea mediterranea</td><td>ILLUMINA</td><td>2017-10-30T00:00:00Z</td><td>6F </td><td>unc-22</td><td>GSM2630568</td><td>Wound tissue from tail fragment</td><td>SRP107207</td><td>CIW4</td><td>Tail fragment</td></tr>\n",
       "\t<tr><td>SRR5573198</td><td>RNA-Seq</td><td>50</td><td>1012833150</td><td>PRJNA387024</td><td>SAMN07138368</td><td>615802897</td><td>GEO</td><td>public</td><td>fastq,sra</td><td>⋯</td><td>Schmidtea mediterranea</td><td>ILLUMINA</td><td>2017-10-30T00:00:00Z</td><td>6F </td><td>fst   </td><td>GSM2630570</td><td>Wound tissue from tail fragment</td><td>SRP107207</td><td>CIW4</td><td>Tail fragment</td></tr>\n",
       "\t<tr><td>SRR5573199</td><td>RNA-Seq</td><td>50</td><td>1108708400</td><td>PRJNA387024</td><td>SAMN07138367</td><td>671385426</td><td>GEO</td><td>public</td><td>fastq,sra</td><td>⋯</td><td>Schmidtea mediterranea</td><td>ILLUMINA</td><td>2017-10-30T00:00:00Z</td><td>6F </td><td>fst   </td><td>GSM2630571</td><td>Wound tissue from tail fragment</td><td>SRP107207</td><td>CIW4</td><td>Tail fragment</td></tr>\n",
       "\t<tr><td>SRR5573201</td><td>RNA-Seq</td><td>50</td><td> 606050900</td><td>PRJNA387024</td><td>SAMN07138365</td><td>372875864</td><td>GEO</td><td>public</td><td>fastq,sra</td><td>⋯</td><td>Schmidtea mediterranea</td><td>ILLUMINA</td><td>2017-10-30T00:00:00Z</td><td>6F </td><td>unc-22</td><td>GSM2630573</td><td>Wound tissue from tail fragment</td><td>SRP107207</td><td>CIW4</td><td>Tail fragment</td></tr>\n",
       "\t<tr><td>SRR5573206</td><td>RNA-Seq</td><td>50</td><td> 954368950</td><td>PRJNA387024</td><td>SAMN07138360</td><td>611264594</td><td>GEO</td><td>public</td><td>fastq,sra</td><td>⋯</td><td>Schmidtea mediterranea</td><td>ILLUMINA</td><td>2017-10-30T00:00:00Z</td><td>6F </td><td>unc-22</td><td>GSM2630578</td><td>Wound tissue from tail fragment</td><td>SRP107207</td><td>CIW4</td><td>Tail fragment</td></tr>\n",
       "\t<tr><td>SRR5573208</td><td>RNA-Seq</td><td>50</td><td>1071048350</td><td>PRJNA387024</td><td>SAMN07138358</td><td>681216917</td><td>GEO</td><td>public</td><td>fastq,sra</td><td>⋯</td><td>Schmidtea mediterranea</td><td>ILLUMINA</td><td>2017-10-30T00:00:00Z</td><td>6F </td><td>unc-22</td><td>GSM2630580</td><td>Wound tissue from tail fragment</td><td>SRP107207</td><td>CIW4</td><td>Tail fragment</td></tr>\n",
       "\t<tr><td>SRR5573210</td><td>RNA-Seq</td><td>50</td><td>1175467650</td><td>PRJNA387024</td><td>SAMN07138356</td><td>838827942</td><td>GEO</td><td>public</td><td>fastq,sra</td><td>⋯</td><td>Schmidtea mediterranea</td><td>ILLUMINA</td><td>2017-10-30T00:00:00Z</td><td>6F </td><td>fst   </td><td>GSM2630582</td><td>Wound tissue from tail fragment</td><td>SRP107207</td><td>CIW4</td><td>Tail fragment</td></tr>\n",
       "\t<tr><td>SRR5573211</td><td>RNA-Seq</td><td>50</td><td> 821141500</td><td>PRJNA387024</td><td>SAMN07138355</td><td>586132836</td><td>GEO</td><td>public</td><td>fastq,sra</td><td>⋯</td><td>Schmidtea mediterranea</td><td>ILLUMINA</td><td>2017-10-30T00:00:00Z</td><td>6F </td><td>fst   </td><td>GSM2630583</td><td>Wound tissue from tail fragment</td><td>SRP107207</td><td>CIW4</td><td>Tail fragment</td></tr>\n",
       "\t<tr><td>SRR5573212</td><td>RNA-Seq</td><td>50</td><td> 658450250</td><td>PRJNA387024</td><td>SAMN07138354</td><td>472006365</td><td>GEO</td><td>public</td><td>fastq,sra</td><td>⋯</td><td>Schmidtea mediterranea</td><td>ILLUMINA</td><td>2017-10-30T00:00:00Z</td><td>6F </td><td>unc-22</td><td>GSM2630584</td><td>Wound tissue from tail fragment</td><td>SRP107207</td><td>CIW4</td><td>Tail fragment</td></tr>\n",
       "\t<tr><td>SRR5573214</td><td>RNA-Seq</td><td>50</td><td> 461188500</td><td>PRJNA387024</td><td>SAMN07138352</td><td>330378442</td><td>GEO</td><td>public</td><td>fastq,sra</td><td>⋯</td><td>Schmidtea mediterranea</td><td>ILLUMINA</td><td>2017-10-30T00:00:00Z</td><td>6F </td><td>unc-22</td><td>GSM2630586</td><td>Wound tissue from tail fragment</td><td>SRP107207</td><td>CIW4</td><td>Tail fragment</td></tr>\n",
       "\t<tr><td>SRR5573217</td><td>RNA-Seq</td><td>50</td><td> 626221900</td><td>PRJNA387024</td><td>SAMN07138349</td><td>447033439</td><td>GEO</td><td>public</td><td>fastq,sra</td><td>⋯</td><td>Schmidtea mediterranea</td><td>ILLUMINA</td><td>2017-10-30T00:00:00Z</td><td>6F </td><td>fst   </td><td>GSM2630589</td><td>Wound tissue from tail fragment</td><td>SRP107207</td><td>CIW4</td><td>Tail fragment</td></tr>\n",
       "</tbody>\n",
       "</table>\n"
      ],
      "text/latex": [
       "A data.frame: 48 × 28\n",
       "\\begin{tabular}{lllllllllllllllllllll}\n",
       " Run & Assay.Type & AvgSpotLen & Bases & BioProject & BioSample & Bytes & Center.Name & Consent & DATASTORE.filetype & ⋯ & Organism & Platform & ReleaseDate & RNAi\\_feedings & RNAi & Sample.Name & source\\_name & SRA.Study & strain & tissue\\\\\n",
       " <chr> & <chr> & <int> & <int> & <chr> & <chr> & <int> & <chr> & <chr> & <chr> & ⋯ & <chr> & <chr> & <chr> & <chr> & <chr> & <chr> & <chr> & <chr> & <chr> & <chr>\\\\\n",
       "\\hline\n",
       "\t SRR5573172 & RNA-Seq & 40 &  770794360 & PRJNA387024 & SAMN07138395 & 503062224 & GEO & public & fastq,sra & ⋯ & Schmidtea mediterranea & ILLUMINA & 2017-10-30T00:00:00Z & 10F & myoD   & GSM2630544 & Wound tissue from tail fragment & SRP107207 & CIW4 & Tail fragment\\\\\n",
       "\t SRR5573173 & RNA-Seq & 40 &  750505960 & PRJNA387024 & SAMN07138348 & 491929425 & GEO & public & fastq,sra & ⋯ & Schmidtea mediterranea & ILLUMINA & 2017-10-30T00:00:00Z & 10F & unc-22 & GSM2630545 & Wound tissue from tail fragment & SRP107207 & CIW4 & Tail fragment\\\\\n",
       "\t SRR5573176 & RNA-Seq & 40 &  711194880 & PRJNA387024 & SAMN07138392 & 464598314 & GEO & public & fastq,sra & ⋯ & Schmidtea mediterranea & ILLUMINA & 2017-10-30T00:00:00Z & 10F & myoD   & GSM2630548 & Wound tissue from tail fragment & SRP107207 & CIW4 & Tail fragment\\\\\n",
       "\t SRR5573178 & RNA-Seq & 40 &  854320480 & PRJNA387024 & SAMN07138390 & 556736764 & GEO & public & fastq,sra & ⋯ & Schmidtea mediterranea & ILLUMINA & 2017-10-30T00:00:00Z & 10F & myoD   & GSM2630550 & Wound tissue from tail fragment & SRP107207 & CIW4 & Tail fragment\\\\\n",
       "\t SRR5573181 & RNA-Seq & 40 &  698866960 & PRJNA387024 & SAMN07138385 & 456524331 & GEO & public & fastq,sra & ⋯ & Schmidtea mediterranea & ILLUMINA & 2017-10-30T00:00:00Z & 10F & unc-22 & GSM2630553 & Wound tissue from tail fragment & SRP107207 & CIW4 & Tail fragment\\\\\n",
       "\t SRR5573183 & RNA-Seq & 50 & 1219558050 & PRJNA387024 & SAMN07138383 & 745582086 & GEO & public & fastq,sra & ⋯ & Schmidtea mediterranea & ILLUMINA & 2017-10-30T00:00:00Z & 10F & myoD   & GSM2630555 & Wound tissue from tail fragment & SRP107207 & CIW4 & Tail fragment\\\\\n",
       "\t SRR5573184 & RNA-Seq & 50 &  874844250 & PRJNA387024 & SAMN07138382 & 529138115 & GEO & public & fastq,sra & ⋯ & Schmidtea mediterranea & ILLUMINA & 2017-10-30T00:00:00Z & 10F & myoD   & GSM2630556 & Wound tissue from tail fragment & SRP107207 & CIW4 & Tail fragment\\\\\n",
       "\t SRR5573185 & RNA-Seq & 50 &  802082200 & PRJNA387024 & SAMN07138381 & 490653557 & GEO & public & fastq,sra & ⋯ & Schmidtea mediterranea & ILLUMINA & 2017-10-30T00:00:00Z & 10F & unc-22 & GSM2630557 & Wound tissue from tail fragment & SRP107207 & CIW4 & Tail fragment\\\\\n",
       "\t SRR5573188 & RNA-Seq & 50 & 1103679550 & PRJNA387024 & SAMN07138378 & 669940266 & GEO & public & fastq,sra & ⋯ & Schmidtea mediterranea & ILLUMINA & 2017-10-30T00:00:00Z & 10F & myoD   & GSM2630560 & Wound tissue from tail fragment & SRP107207 & CIW4 & Tail fragment\\\\\n",
       "\t SRR5573189 & RNA-Seq & 50 &  767285650 & PRJNA387024 & SAMN07138377 & 463965032 & GEO & public & fastq,sra & ⋯ & Schmidtea mediterranea & ILLUMINA & 2017-10-30T00:00:00Z & 10F & myoD   & GSM2630561 & Wound tissue from tail fragment & SRP107207 & CIW4 & Tail fragment\\\\\n",
       "\t SRR5573190 & RNA-Seq & 50 &  799939100 & PRJNA387024 & SAMN07138376 & 483201290 & GEO & public & fastq,sra & ⋯ & Schmidtea mediterranea & ILLUMINA & 2017-10-30T00:00:00Z & 10F & myoD   & GSM2630562 & Wound tissue from tail fragment & SRP107207 & CIW4 & Tail fragment\\\\\n",
       "\t SRR5573191 & RNA-Seq & 50 &  870085550 & PRJNA387024 & SAMN07138375 & 526893481 & GEO & public & fastq,sra & ⋯ & Schmidtea mediterranea & ILLUMINA & 2017-10-30T00:00:00Z & 10F & unc-22 & GSM2630563 & Wound tissue from tail fragment & SRP107207 & CIW4 & Tail fragment\\\\\n",
       "\t SRR5573192 & RNA-Seq & 50 &  797061050 & PRJNA387024 & SAMN07138374 & 481258345 & GEO & public & fastq,sra & ⋯ & Schmidtea mediterranea & ILLUMINA & 2017-10-30T00:00:00Z & 10F & unc-22 & GSM2630564 & Wound tissue from tail fragment & SRP107207 & CIW4 & Tail fragment\\\\\n",
       "\t SRR5573193 & RNA-Seq & 50 &  849518600 & PRJNA387024 & SAMN07138373 & 512156626 & GEO & public & fastq,sra & ⋯ & Schmidtea mediterranea & ILLUMINA & 2017-10-30T00:00:00Z & 10F & unc-22 & GSM2630565 & Wound tissue from tail fragment & SRP107207 & CIW4 & Tail fragment\\\\\n",
       "\t SRR5573195 & RNA-Seq & 50 & 1257267500 & PRJNA387024 & SAMN07138371 & 763137758 & GEO & public & fastq,sra & ⋯ & Schmidtea mediterranea & ILLUMINA & 2017-10-30T00:00:00Z & 6F  & unc-22 & GSM2630567 & Wound tissue from tail fragment & SRP107207 & CIW4 & Tail fragment\\\\\n",
       "\t SRR5573197 & RNA-Seq & 50 &  589157200 & PRJNA387024 & SAMN07138369 & 358263507 & GEO & public & fastq,sra & ⋯ & Schmidtea mediterranea & ILLUMINA & 2017-10-30T00:00:00Z & 6F  & fst    & GSM2630569 & Wound tissue from tail fragment & SRP107207 & CIW4 & Tail fragment\\\\\n",
       "\t SRR5573200 & RNA-Seq & 50 &  955997350 & PRJNA387024 & SAMN07138366 & 587392707 & GEO & public & fastq,sra & ⋯ & Schmidtea mediterranea & ILLUMINA & 2017-10-30T00:00:00Z & 6F  & unc-22 & GSM2630572 & Wound tissue from tail fragment & SRP107207 & CIW4 & Tail fragment\\\\\n",
       "\t SRR5573202 & RNA-Seq & 50 &  951724800 & PRJNA387024 & SAMN07138364 & 578261884 & GEO & public & fastq,sra & ⋯ & Schmidtea mediterranea & ILLUMINA & 2017-10-30T00:00:00Z & 6F  & unc-22 & GSM2630574 & Wound tissue from tail fragment & SRP107207 & CIW4 & Tail fragment\\\\\n",
       "\t SRR5573203 & RNA-Seq & 50 & 1139865600 & PRJNA387024 & SAMN07138363 & 727209212 & GEO & public & fastq,sra & ⋯ & Schmidtea mediterranea & ILLUMINA & 2017-10-30T00:00:00Z & 6F  & fst    & GSM2630575 & Wound tissue from tail fragment & SRP107207 & CIW4 & Tail fragment\\\\\n",
       "\t SRR5573204 & RNA-Seq & 50 &  996817300 & PRJNA387024 & SAMN07138362 & 634405555 & GEO & public & fastq,sra & ⋯ & Schmidtea mediterranea & ILLUMINA & 2017-10-30T00:00:00Z & 6F  & fst    & GSM2630576 & Wound tissue from tail fragment & SRP107207 & CIW4 & Tail fragment\\\\\n",
       "\t SRR5573205 & RNA-Seq & 50 & 1061146750 & PRJNA387024 & SAMN07138361 & 678272534 & GEO & public & fastq,sra & ⋯ & Schmidtea mediterranea & ILLUMINA & 2017-10-30T00:00:00Z & 6F  & fst    & GSM2630577 & Wound tissue from tail fragment & SRP107207 & CIW4 & Tail fragment\\\\\n",
       "\t SRR5573207 & RNA-Seq & 50 &  965507050 & PRJNA387024 & SAMN07138359 & 615642005 & GEO & public & fastq,sra & ⋯ & Schmidtea mediterranea & ILLUMINA & 2017-10-30T00:00:00Z & 6F  & unc-22 & GSM2630579 & Wound tissue from tail fragment & SRP107207 & CIW4 & Tail fragment\\\\\n",
       "\t SRR5573209 & RNA-Seq & 50 &  564424750 & PRJNA387024 & SAMN07138357 & 405172452 & GEO & public & fastq,sra & ⋯ & Schmidtea mediterranea & ILLUMINA & 2017-10-30T00:00:00Z & 6F  & fst    & GSM2630581 & Wound tissue from tail fragment & SRP107207 & CIW4 & Tail fragment\\\\\n",
       "\t SRR5573213 & RNA-Seq & 50 &  600649200 & PRJNA387024 & SAMN07138353 & 429986129 & GEO & public & fastq,sra & ⋯ & Schmidtea mediterranea & ILLUMINA & 2017-10-30T00:00:00Z & 6F  & unc-22 & GSM2630585 & Wound tissue from tail fragment & SRP107207 & CIW4 & Tail fragment\\\\\n",
       "\t SRR5573215 & RNA-Seq & 50 &  684108650 & PRJNA387024 & SAMN07138351 & 476091500 & GEO & public & fastq,sra & ⋯ & Schmidtea mediterranea & ILLUMINA & 2017-10-30T00:00:00Z & 6F  & fst    & GSM2630587 & Wound tissue from tail fragment & SRP107207 & CIW4 & Tail fragment\\\\\n",
       "\t SRR5573216 & RNA-Seq & 50 &  609552700 & PRJNA387024 & SAMN07138350 & 436922669 & GEO & public & fastq,sra & ⋯ & Schmidtea mediterranea & ILLUMINA & 2017-10-30T00:00:00Z & 6F  & fst    & GSM2630588 & Wound tissue from tail fragment & SRP107207 & CIW4 & Tail fragment\\\\\n",
       "\t SRR5573170 & RNA-Seq & 40 &  833817640 & PRJNA387024 & SAMN07138394 & 544829361 & GEO & public & fastq,sra & ⋯ & Schmidtea mediterranea & ILLUMINA & 2017-10-30T00:00:00Z & 10F & myoD   & GSM2630542 & Wound tissue from tail fragment & SRP107207 & CIW4 & Tail fragment\\\\\n",
       "\t SRR5573171 & RNA-Seq & 40 &  888637240 & PRJNA387024 & SAMN07138393 & 580291956 & GEO & public & fastq,sra & ⋯ & Schmidtea mediterranea & ILLUMINA & 2017-10-30T00:00:00Z & 10F & myoD   & GSM2630543 & Wound tissue from tail fragment & SRP107207 & CIW4 & Tail fragment\\\\\n",
       "\t SRR5573174 & RNA-Seq & 40 &  657022640 & PRJNA387024 & SAMN07138388 & 430009821 & GEO & public & fastq,sra & ⋯ & Schmidtea mediterranea & ILLUMINA & 2017-10-30T00:00:00Z & 10F & unc-22 & GSM2630546 & Wound tissue from tail fragment & SRP107207 & CIW4 & Tail fragment\\\\\n",
       "\t SRR5573175 & RNA-Seq & 40 &  885778120 & PRJNA387024 & SAMN07138387 & 577646821 & GEO & public & fastq,sra & ⋯ & Schmidtea mediterranea & ILLUMINA & 2017-10-30T00:00:00Z & 10F & unc-22 & GSM2630547 & Wound tissue from tail fragment & SRP107207 & CIW4 & Tail fragment\\\\\n",
       "\t SRR5573177 & RNA-Seq & 40 &  879490520 & PRJNA387024 & SAMN07138391 & 574225925 & GEO & public & fastq,sra & ⋯ & Schmidtea mediterranea & ILLUMINA & 2017-10-30T00:00:00Z & 10F & myoD   & GSM2630549 & Wound tissue from tail fragment & SRP107207 & CIW4 & Tail fragment\\\\\n",
       "\t SRR5573179 & RNA-Seq & 40 &  720589320 & PRJNA387024 & SAMN07138389 & 474935665 & GEO & public & fastq,sra & ⋯ & Schmidtea mediterranea & ILLUMINA & 2017-10-30T00:00:00Z & 10F & unc-22 & GSM2630551 & Wound tissue from tail fragment & SRP107207 & CIW4 & Tail fragment\\\\\n",
       "\t SRR5573180 & RNA-Seq & 40 &  828805320 & PRJNA387024 & SAMN07138386 & 545015858 & GEO & public & fastq,sra & ⋯ & Schmidtea mediterranea & ILLUMINA & 2017-10-30T00:00:00Z & 10F & unc-22 & GSM2630552 & Wound tissue from tail fragment & SRP107207 & CIW4 & Tail fragment\\\\\n",
       "\t SRR5573182 & RNA-Seq & 50 &  871070600 & PRJNA387024 & SAMN07138384 & 537535947 & GEO & public & fastq,sra & ⋯ & Schmidtea mediterranea & ILLUMINA & 2017-10-30T00:00:00Z & 10F & myoD   & GSM2630554 & Wound tissue from tail fragment & SRP107207 & CIW4 & Tail fragment\\\\\n",
       "\t SRR5573186 & RNA-Seq & 50 &  876596850 & PRJNA387024 & SAMN07138380 & 530650007 & GEO & public & fastq,sra & ⋯ & Schmidtea mediterranea & ILLUMINA & 2017-10-30T00:00:00Z & 10F & unc-22 & GSM2630558 & Wound tissue from tail fragment & SRP107207 & CIW4 & Tail fragment\\\\\n",
       "\t SRR5573187 & RNA-Seq & 50 & 1266350250 & PRJNA387024 & SAMN07138379 & 766708841 & GEO & public & fastq,sra & ⋯ & Schmidtea mediterranea & ILLUMINA & 2017-10-30T00:00:00Z & 10F & unc-22 & GSM2630559 & Wound tissue from tail fragment & SRP107207 & CIW4 & Tail fragment\\\\\n",
       "\t SRR5573194 & RNA-Seq & 50 &  896768100 & PRJNA387024 & SAMN07138372 & 545694636 & GEO & public & fastq,sra & ⋯ & Schmidtea mediterranea & ILLUMINA & 2017-10-30T00:00:00Z & 6F  & unc-22 & GSM2630566 & Wound tissue from tail fragment & SRP107207 & CIW4 & Tail fragment\\\\\n",
       "\t SRR5573196 & RNA-Seq & 50 &  914926100 & PRJNA387024 & SAMN07138370 & 555707955 & GEO & public & fastq,sra & ⋯ & Schmidtea mediterranea & ILLUMINA & 2017-10-30T00:00:00Z & 6F  & unc-22 & GSM2630568 & Wound tissue from tail fragment & SRP107207 & CIW4 & Tail fragment\\\\\n",
       "\t SRR5573198 & RNA-Seq & 50 & 1012833150 & PRJNA387024 & SAMN07138368 & 615802897 & GEO & public & fastq,sra & ⋯ & Schmidtea mediterranea & ILLUMINA & 2017-10-30T00:00:00Z & 6F  & fst    & GSM2630570 & Wound tissue from tail fragment & SRP107207 & CIW4 & Tail fragment\\\\\n",
       "\t SRR5573199 & RNA-Seq & 50 & 1108708400 & PRJNA387024 & SAMN07138367 & 671385426 & GEO & public & fastq,sra & ⋯ & Schmidtea mediterranea & ILLUMINA & 2017-10-30T00:00:00Z & 6F  & fst    & GSM2630571 & Wound tissue from tail fragment & SRP107207 & CIW4 & Tail fragment\\\\\n",
       "\t SRR5573201 & RNA-Seq & 50 &  606050900 & PRJNA387024 & SAMN07138365 & 372875864 & GEO & public & fastq,sra & ⋯ & Schmidtea mediterranea & ILLUMINA & 2017-10-30T00:00:00Z & 6F  & unc-22 & GSM2630573 & Wound tissue from tail fragment & SRP107207 & CIW4 & Tail fragment\\\\\n",
       "\t SRR5573206 & RNA-Seq & 50 &  954368950 & PRJNA387024 & SAMN07138360 & 611264594 & GEO & public & fastq,sra & ⋯ & Schmidtea mediterranea & ILLUMINA & 2017-10-30T00:00:00Z & 6F  & unc-22 & GSM2630578 & Wound tissue from tail fragment & SRP107207 & CIW4 & Tail fragment\\\\\n",
       "\t SRR5573208 & RNA-Seq & 50 & 1071048350 & PRJNA387024 & SAMN07138358 & 681216917 & GEO & public & fastq,sra & ⋯ & Schmidtea mediterranea & ILLUMINA & 2017-10-30T00:00:00Z & 6F  & unc-22 & GSM2630580 & Wound tissue from tail fragment & SRP107207 & CIW4 & Tail fragment\\\\\n",
       "\t SRR5573210 & RNA-Seq & 50 & 1175467650 & PRJNA387024 & SAMN07138356 & 838827942 & GEO & public & fastq,sra & ⋯ & Schmidtea mediterranea & ILLUMINA & 2017-10-30T00:00:00Z & 6F  & fst    & GSM2630582 & Wound tissue from tail fragment & SRP107207 & CIW4 & Tail fragment\\\\\n",
       "\t SRR5573211 & RNA-Seq & 50 &  821141500 & PRJNA387024 & SAMN07138355 & 586132836 & GEO & public & fastq,sra & ⋯ & Schmidtea mediterranea & ILLUMINA & 2017-10-30T00:00:00Z & 6F  & fst    & GSM2630583 & Wound tissue from tail fragment & SRP107207 & CIW4 & Tail fragment\\\\\n",
       "\t SRR5573212 & RNA-Seq & 50 &  658450250 & PRJNA387024 & SAMN07138354 & 472006365 & GEO & public & fastq,sra & ⋯ & Schmidtea mediterranea & ILLUMINA & 2017-10-30T00:00:00Z & 6F  & unc-22 & GSM2630584 & Wound tissue from tail fragment & SRP107207 & CIW4 & Tail fragment\\\\\n",
       "\t SRR5573214 & RNA-Seq & 50 &  461188500 & PRJNA387024 & SAMN07138352 & 330378442 & GEO & public & fastq,sra & ⋯ & Schmidtea mediterranea & ILLUMINA & 2017-10-30T00:00:00Z & 6F  & unc-22 & GSM2630586 & Wound tissue from tail fragment & SRP107207 & CIW4 & Tail fragment\\\\\n",
       "\t SRR5573217 & RNA-Seq & 50 &  626221900 & PRJNA387024 & SAMN07138349 & 447033439 & GEO & public & fastq,sra & ⋯ & Schmidtea mediterranea & ILLUMINA & 2017-10-30T00:00:00Z & 6F  & fst    & GSM2630589 & Wound tissue from tail fragment & SRP107207 & CIW4 & Tail fragment\\\\\n",
       "\\end{tabular}\n"
      ],
      "text/markdown": [
       "\n",
       "A data.frame: 48 × 28\n",
       "\n",
       "| Run &lt;chr&gt; | Assay.Type &lt;chr&gt; | AvgSpotLen &lt;int&gt; | Bases &lt;int&gt; | BioProject &lt;chr&gt; | BioSample &lt;chr&gt; | Bytes &lt;int&gt; | Center.Name &lt;chr&gt; | Consent &lt;chr&gt; | DATASTORE.filetype &lt;chr&gt; | ⋯ ⋯ | Organism &lt;chr&gt; | Platform &lt;chr&gt; | ReleaseDate &lt;chr&gt; | RNAi_feedings &lt;chr&gt; | RNAi &lt;chr&gt; | Sample.Name &lt;chr&gt; | source_name &lt;chr&gt; | SRA.Study &lt;chr&gt; | strain &lt;chr&gt; | tissue &lt;chr&gt; |\n",
       "|---|---|---|---|---|---|---|---|---|---|---|---|---|---|---|---|---|---|---|---|---|\n",
       "| SRR5573172 | RNA-Seq | 40 |  770794360 | PRJNA387024 | SAMN07138395 | 503062224 | GEO | public | fastq,sra | ⋯ | Schmidtea mediterranea | ILLUMINA | 2017-10-30T00:00:00Z | 10F | myoD   | GSM2630544 | Wound tissue from tail fragment | SRP107207 | CIW4 | Tail fragment |\n",
       "| SRR5573173 | RNA-Seq | 40 |  750505960 | PRJNA387024 | SAMN07138348 | 491929425 | GEO | public | fastq,sra | ⋯ | Schmidtea mediterranea | ILLUMINA | 2017-10-30T00:00:00Z | 10F | unc-22 | GSM2630545 | Wound tissue from tail fragment | SRP107207 | CIW4 | Tail fragment |\n",
       "| SRR5573176 | RNA-Seq | 40 |  711194880 | PRJNA387024 | SAMN07138392 | 464598314 | GEO | public | fastq,sra | ⋯ | Schmidtea mediterranea | ILLUMINA | 2017-10-30T00:00:00Z | 10F | myoD   | GSM2630548 | Wound tissue from tail fragment | SRP107207 | CIW4 | Tail fragment |\n",
       "| SRR5573178 | RNA-Seq | 40 |  854320480 | PRJNA387024 | SAMN07138390 | 556736764 | GEO | public | fastq,sra | ⋯ | Schmidtea mediterranea | ILLUMINA | 2017-10-30T00:00:00Z | 10F | myoD   | GSM2630550 | Wound tissue from tail fragment | SRP107207 | CIW4 | Tail fragment |\n",
       "| SRR5573181 | RNA-Seq | 40 |  698866960 | PRJNA387024 | SAMN07138385 | 456524331 | GEO | public | fastq,sra | ⋯ | Schmidtea mediterranea | ILLUMINA | 2017-10-30T00:00:00Z | 10F | unc-22 | GSM2630553 | Wound tissue from tail fragment | SRP107207 | CIW4 | Tail fragment |\n",
       "| SRR5573183 | RNA-Seq | 50 | 1219558050 | PRJNA387024 | SAMN07138383 | 745582086 | GEO | public | fastq,sra | ⋯ | Schmidtea mediterranea | ILLUMINA | 2017-10-30T00:00:00Z | 10F | myoD   | GSM2630555 | Wound tissue from tail fragment | SRP107207 | CIW4 | Tail fragment |\n",
       "| SRR5573184 | RNA-Seq | 50 |  874844250 | PRJNA387024 | SAMN07138382 | 529138115 | GEO | public | fastq,sra | ⋯ | Schmidtea mediterranea | ILLUMINA | 2017-10-30T00:00:00Z | 10F | myoD   | GSM2630556 | Wound tissue from tail fragment | SRP107207 | CIW4 | Tail fragment |\n",
       "| SRR5573185 | RNA-Seq | 50 |  802082200 | PRJNA387024 | SAMN07138381 | 490653557 | GEO | public | fastq,sra | ⋯ | Schmidtea mediterranea | ILLUMINA | 2017-10-30T00:00:00Z | 10F | unc-22 | GSM2630557 | Wound tissue from tail fragment | SRP107207 | CIW4 | Tail fragment |\n",
       "| SRR5573188 | RNA-Seq | 50 | 1103679550 | PRJNA387024 | SAMN07138378 | 669940266 | GEO | public | fastq,sra | ⋯ | Schmidtea mediterranea | ILLUMINA | 2017-10-30T00:00:00Z | 10F | myoD   | GSM2630560 | Wound tissue from tail fragment | SRP107207 | CIW4 | Tail fragment |\n",
       "| SRR5573189 | RNA-Seq | 50 |  767285650 | PRJNA387024 | SAMN07138377 | 463965032 | GEO | public | fastq,sra | ⋯ | Schmidtea mediterranea | ILLUMINA | 2017-10-30T00:00:00Z | 10F | myoD   | GSM2630561 | Wound tissue from tail fragment | SRP107207 | CIW4 | Tail fragment |\n",
       "| SRR5573190 | RNA-Seq | 50 |  799939100 | PRJNA387024 | SAMN07138376 | 483201290 | GEO | public | fastq,sra | ⋯ | Schmidtea mediterranea | ILLUMINA | 2017-10-30T00:00:00Z | 10F | myoD   | GSM2630562 | Wound tissue from tail fragment | SRP107207 | CIW4 | Tail fragment |\n",
       "| SRR5573191 | RNA-Seq | 50 |  870085550 | PRJNA387024 | SAMN07138375 | 526893481 | GEO | public | fastq,sra | ⋯ | Schmidtea mediterranea | ILLUMINA | 2017-10-30T00:00:00Z | 10F | unc-22 | GSM2630563 | Wound tissue from tail fragment | SRP107207 | CIW4 | Tail fragment |\n",
       "| SRR5573192 | RNA-Seq | 50 |  797061050 | PRJNA387024 | SAMN07138374 | 481258345 | GEO | public | fastq,sra | ⋯ | Schmidtea mediterranea | ILLUMINA | 2017-10-30T00:00:00Z | 10F | unc-22 | GSM2630564 | Wound tissue from tail fragment | SRP107207 | CIW4 | Tail fragment |\n",
       "| SRR5573193 | RNA-Seq | 50 |  849518600 | PRJNA387024 | SAMN07138373 | 512156626 | GEO | public | fastq,sra | ⋯ | Schmidtea mediterranea | ILLUMINA | 2017-10-30T00:00:00Z | 10F | unc-22 | GSM2630565 | Wound tissue from tail fragment | SRP107207 | CIW4 | Tail fragment |\n",
       "| SRR5573195 | RNA-Seq | 50 | 1257267500 | PRJNA387024 | SAMN07138371 | 763137758 | GEO | public | fastq,sra | ⋯ | Schmidtea mediterranea | ILLUMINA | 2017-10-30T00:00:00Z | 6F  | unc-22 | GSM2630567 | Wound tissue from tail fragment | SRP107207 | CIW4 | Tail fragment |\n",
       "| SRR5573197 | RNA-Seq | 50 |  589157200 | PRJNA387024 | SAMN07138369 | 358263507 | GEO | public | fastq,sra | ⋯ | Schmidtea mediterranea | ILLUMINA | 2017-10-30T00:00:00Z | 6F  | fst    | GSM2630569 | Wound tissue from tail fragment | SRP107207 | CIW4 | Tail fragment |\n",
       "| SRR5573200 | RNA-Seq | 50 |  955997350 | PRJNA387024 | SAMN07138366 | 587392707 | GEO | public | fastq,sra | ⋯ | Schmidtea mediterranea | ILLUMINA | 2017-10-30T00:00:00Z | 6F  | unc-22 | GSM2630572 | Wound tissue from tail fragment | SRP107207 | CIW4 | Tail fragment |\n",
       "| SRR5573202 | RNA-Seq | 50 |  951724800 | PRJNA387024 | SAMN07138364 | 578261884 | GEO | public | fastq,sra | ⋯ | Schmidtea mediterranea | ILLUMINA | 2017-10-30T00:00:00Z | 6F  | unc-22 | GSM2630574 | Wound tissue from tail fragment | SRP107207 | CIW4 | Tail fragment |\n",
       "| SRR5573203 | RNA-Seq | 50 | 1139865600 | PRJNA387024 | SAMN07138363 | 727209212 | GEO | public | fastq,sra | ⋯ | Schmidtea mediterranea | ILLUMINA | 2017-10-30T00:00:00Z | 6F  | fst    | GSM2630575 | Wound tissue from tail fragment | SRP107207 | CIW4 | Tail fragment |\n",
       "| SRR5573204 | RNA-Seq | 50 |  996817300 | PRJNA387024 | SAMN07138362 | 634405555 | GEO | public | fastq,sra | ⋯ | Schmidtea mediterranea | ILLUMINA | 2017-10-30T00:00:00Z | 6F  | fst    | GSM2630576 | Wound tissue from tail fragment | SRP107207 | CIW4 | Tail fragment |\n",
       "| SRR5573205 | RNA-Seq | 50 | 1061146750 | PRJNA387024 | SAMN07138361 | 678272534 | GEO | public | fastq,sra | ⋯ | Schmidtea mediterranea | ILLUMINA | 2017-10-30T00:00:00Z | 6F  | fst    | GSM2630577 | Wound tissue from tail fragment | SRP107207 | CIW4 | Tail fragment |\n",
       "| SRR5573207 | RNA-Seq | 50 |  965507050 | PRJNA387024 | SAMN07138359 | 615642005 | GEO | public | fastq,sra | ⋯ | Schmidtea mediterranea | ILLUMINA | 2017-10-30T00:00:00Z | 6F  | unc-22 | GSM2630579 | Wound tissue from tail fragment | SRP107207 | CIW4 | Tail fragment |\n",
       "| SRR5573209 | RNA-Seq | 50 |  564424750 | PRJNA387024 | SAMN07138357 | 405172452 | GEO | public | fastq,sra | ⋯ | Schmidtea mediterranea | ILLUMINA | 2017-10-30T00:00:00Z | 6F  | fst    | GSM2630581 | Wound tissue from tail fragment | SRP107207 | CIW4 | Tail fragment |\n",
       "| SRR5573213 | RNA-Seq | 50 |  600649200 | PRJNA387024 | SAMN07138353 | 429986129 | GEO | public | fastq,sra | ⋯ | Schmidtea mediterranea | ILLUMINA | 2017-10-30T00:00:00Z | 6F  | unc-22 | GSM2630585 | Wound tissue from tail fragment | SRP107207 | CIW4 | Tail fragment |\n",
       "| SRR5573215 | RNA-Seq | 50 |  684108650 | PRJNA387024 | SAMN07138351 | 476091500 | GEO | public | fastq,sra | ⋯ | Schmidtea mediterranea | ILLUMINA | 2017-10-30T00:00:00Z | 6F  | fst    | GSM2630587 | Wound tissue from tail fragment | SRP107207 | CIW4 | Tail fragment |\n",
       "| SRR5573216 | RNA-Seq | 50 |  609552700 | PRJNA387024 | SAMN07138350 | 436922669 | GEO | public | fastq,sra | ⋯ | Schmidtea mediterranea | ILLUMINA | 2017-10-30T00:00:00Z | 6F  | fst    | GSM2630588 | Wound tissue from tail fragment | SRP107207 | CIW4 | Tail fragment |\n",
       "| SRR5573170 | RNA-Seq | 40 |  833817640 | PRJNA387024 | SAMN07138394 | 544829361 | GEO | public | fastq,sra | ⋯ | Schmidtea mediterranea | ILLUMINA | 2017-10-30T00:00:00Z | 10F | myoD   | GSM2630542 | Wound tissue from tail fragment | SRP107207 | CIW4 | Tail fragment |\n",
       "| SRR5573171 | RNA-Seq | 40 |  888637240 | PRJNA387024 | SAMN07138393 | 580291956 | GEO | public | fastq,sra | ⋯ | Schmidtea mediterranea | ILLUMINA | 2017-10-30T00:00:00Z | 10F | myoD   | GSM2630543 | Wound tissue from tail fragment | SRP107207 | CIW4 | Tail fragment |\n",
       "| SRR5573174 | RNA-Seq | 40 |  657022640 | PRJNA387024 | SAMN07138388 | 430009821 | GEO | public | fastq,sra | ⋯ | Schmidtea mediterranea | ILLUMINA | 2017-10-30T00:00:00Z | 10F | unc-22 | GSM2630546 | Wound tissue from tail fragment | SRP107207 | CIW4 | Tail fragment |\n",
       "| SRR5573175 | RNA-Seq | 40 |  885778120 | PRJNA387024 | SAMN07138387 | 577646821 | GEO | public | fastq,sra | ⋯ | Schmidtea mediterranea | ILLUMINA | 2017-10-30T00:00:00Z | 10F | unc-22 | GSM2630547 | Wound tissue from tail fragment | SRP107207 | CIW4 | Tail fragment |\n",
       "| SRR5573177 | RNA-Seq | 40 |  879490520 | PRJNA387024 | SAMN07138391 | 574225925 | GEO | public | fastq,sra | ⋯ | Schmidtea mediterranea | ILLUMINA | 2017-10-30T00:00:00Z | 10F | myoD   | GSM2630549 | Wound tissue from tail fragment | SRP107207 | CIW4 | Tail fragment |\n",
       "| SRR5573179 | RNA-Seq | 40 |  720589320 | PRJNA387024 | SAMN07138389 | 474935665 | GEO | public | fastq,sra | ⋯ | Schmidtea mediterranea | ILLUMINA | 2017-10-30T00:00:00Z | 10F | unc-22 | GSM2630551 | Wound tissue from tail fragment | SRP107207 | CIW4 | Tail fragment |\n",
       "| SRR5573180 | RNA-Seq | 40 |  828805320 | PRJNA387024 | SAMN07138386 | 545015858 | GEO | public | fastq,sra | ⋯ | Schmidtea mediterranea | ILLUMINA | 2017-10-30T00:00:00Z | 10F | unc-22 | GSM2630552 | Wound tissue from tail fragment | SRP107207 | CIW4 | Tail fragment |\n",
       "| SRR5573182 | RNA-Seq | 50 |  871070600 | PRJNA387024 | SAMN07138384 | 537535947 | GEO | public | fastq,sra | ⋯ | Schmidtea mediterranea | ILLUMINA | 2017-10-30T00:00:00Z | 10F | myoD   | GSM2630554 | Wound tissue from tail fragment | SRP107207 | CIW4 | Tail fragment |\n",
       "| SRR5573186 | RNA-Seq | 50 |  876596850 | PRJNA387024 | SAMN07138380 | 530650007 | GEO | public | fastq,sra | ⋯ | Schmidtea mediterranea | ILLUMINA | 2017-10-30T00:00:00Z | 10F | unc-22 | GSM2630558 | Wound tissue from tail fragment | SRP107207 | CIW4 | Tail fragment |\n",
       "| SRR5573187 | RNA-Seq | 50 | 1266350250 | PRJNA387024 | SAMN07138379 | 766708841 | GEO | public | fastq,sra | ⋯ | Schmidtea mediterranea | ILLUMINA | 2017-10-30T00:00:00Z | 10F | unc-22 | GSM2630559 | Wound tissue from tail fragment | SRP107207 | CIW4 | Tail fragment |\n",
       "| SRR5573194 | RNA-Seq | 50 |  896768100 | PRJNA387024 | SAMN07138372 | 545694636 | GEO | public | fastq,sra | ⋯ | Schmidtea mediterranea | ILLUMINA | 2017-10-30T00:00:00Z | 6F  | unc-22 | GSM2630566 | Wound tissue from tail fragment | SRP107207 | CIW4 | Tail fragment |\n",
       "| SRR5573196 | RNA-Seq | 50 |  914926100 | PRJNA387024 | SAMN07138370 | 555707955 | GEO | public | fastq,sra | ⋯ | Schmidtea mediterranea | ILLUMINA | 2017-10-30T00:00:00Z | 6F  | unc-22 | GSM2630568 | Wound tissue from tail fragment | SRP107207 | CIW4 | Tail fragment |\n",
       "| SRR5573198 | RNA-Seq | 50 | 1012833150 | PRJNA387024 | SAMN07138368 | 615802897 | GEO | public | fastq,sra | ⋯ | Schmidtea mediterranea | ILLUMINA | 2017-10-30T00:00:00Z | 6F  | fst    | GSM2630570 | Wound tissue from tail fragment | SRP107207 | CIW4 | Tail fragment |\n",
       "| SRR5573199 | RNA-Seq | 50 | 1108708400 | PRJNA387024 | SAMN07138367 | 671385426 | GEO | public | fastq,sra | ⋯ | Schmidtea mediterranea | ILLUMINA | 2017-10-30T00:00:00Z | 6F  | fst    | GSM2630571 | Wound tissue from tail fragment | SRP107207 | CIW4 | Tail fragment |\n",
       "| SRR5573201 | RNA-Seq | 50 |  606050900 | PRJNA387024 | SAMN07138365 | 372875864 | GEO | public | fastq,sra | ⋯ | Schmidtea mediterranea | ILLUMINA | 2017-10-30T00:00:00Z | 6F  | unc-22 | GSM2630573 | Wound tissue from tail fragment | SRP107207 | CIW4 | Tail fragment |\n",
       "| SRR5573206 | RNA-Seq | 50 |  954368950 | PRJNA387024 | SAMN07138360 | 611264594 | GEO | public | fastq,sra | ⋯ | Schmidtea mediterranea | ILLUMINA | 2017-10-30T00:00:00Z | 6F  | unc-22 | GSM2630578 | Wound tissue from tail fragment | SRP107207 | CIW4 | Tail fragment |\n",
       "| SRR5573208 | RNA-Seq | 50 | 1071048350 | PRJNA387024 | SAMN07138358 | 681216917 | GEO | public | fastq,sra | ⋯ | Schmidtea mediterranea | ILLUMINA | 2017-10-30T00:00:00Z | 6F  | unc-22 | GSM2630580 | Wound tissue from tail fragment | SRP107207 | CIW4 | Tail fragment |\n",
       "| SRR5573210 | RNA-Seq | 50 | 1175467650 | PRJNA387024 | SAMN07138356 | 838827942 | GEO | public | fastq,sra | ⋯ | Schmidtea mediterranea | ILLUMINA | 2017-10-30T00:00:00Z | 6F  | fst    | GSM2630582 | Wound tissue from tail fragment | SRP107207 | CIW4 | Tail fragment |\n",
       "| SRR5573211 | RNA-Seq | 50 |  821141500 | PRJNA387024 | SAMN07138355 | 586132836 | GEO | public | fastq,sra | ⋯ | Schmidtea mediterranea | ILLUMINA | 2017-10-30T00:00:00Z | 6F  | fst    | GSM2630583 | Wound tissue from tail fragment | SRP107207 | CIW4 | Tail fragment |\n",
       "| SRR5573212 | RNA-Seq | 50 |  658450250 | PRJNA387024 | SAMN07138354 | 472006365 | GEO | public | fastq,sra | ⋯ | Schmidtea mediterranea | ILLUMINA | 2017-10-30T00:00:00Z | 6F  | unc-22 | GSM2630584 | Wound tissue from tail fragment | SRP107207 | CIW4 | Tail fragment |\n",
       "| SRR5573214 | RNA-Seq | 50 |  461188500 | PRJNA387024 | SAMN07138352 | 330378442 | GEO | public | fastq,sra | ⋯ | Schmidtea mediterranea | ILLUMINA | 2017-10-30T00:00:00Z | 6F  | unc-22 | GSM2630586 | Wound tissue from tail fragment | SRP107207 | CIW4 | Tail fragment |\n",
       "| SRR5573217 | RNA-Seq | 50 |  626221900 | PRJNA387024 | SAMN07138349 | 447033439 | GEO | public | fastq,sra | ⋯ | Schmidtea mediterranea | ILLUMINA | 2017-10-30T00:00:00Z | 6F  | fst    | GSM2630589 | Wound tissue from tail fragment | SRP107207 | CIW4 | Tail fragment |\n",
       "\n"
      ],
      "text/plain": [
       "   Run        Assay.Type AvgSpotLen Bases      BioProject  BioSample   \n",
       "1  SRR5573172 RNA-Seq    40          770794360 PRJNA387024 SAMN07138395\n",
       "2  SRR5573173 RNA-Seq    40          750505960 PRJNA387024 SAMN07138348\n",
       "3  SRR5573176 RNA-Seq    40          711194880 PRJNA387024 SAMN07138392\n",
       "4  SRR5573178 RNA-Seq    40          854320480 PRJNA387024 SAMN07138390\n",
       "5  SRR5573181 RNA-Seq    40          698866960 PRJNA387024 SAMN07138385\n",
       "6  SRR5573183 RNA-Seq    50         1219558050 PRJNA387024 SAMN07138383\n",
       "7  SRR5573184 RNA-Seq    50          874844250 PRJNA387024 SAMN07138382\n",
       "8  SRR5573185 RNA-Seq    50          802082200 PRJNA387024 SAMN07138381\n",
       "9  SRR5573188 RNA-Seq    50         1103679550 PRJNA387024 SAMN07138378\n",
       "10 SRR5573189 RNA-Seq    50          767285650 PRJNA387024 SAMN07138377\n",
       "11 SRR5573190 RNA-Seq    50          799939100 PRJNA387024 SAMN07138376\n",
       "12 SRR5573191 RNA-Seq    50          870085550 PRJNA387024 SAMN07138375\n",
       "13 SRR5573192 RNA-Seq    50          797061050 PRJNA387024 SAMN07138374\n",
       "14 SRR5573193 RNA-Seq    50          849518600 PRJNA387024 SAMN07138373\n",
       "15 SRR5573195 RNA-Seq    50         1257267500 PRJNA387024 SAMN07138371\n",
       "16 SRR5573197 RNA-Seq    50          589157200 PRJNA387024 SAMN07138369\n",
       "17 SRR5573200 RNA-Seq    50          955997350 PRJNA387024 SAMN07138366\n",
       "18 SRR5573202 RNA-Seq    50          951724800 PRJNA387024 SAMN07138364\n",
       "19 SRR5573203 RNA-Seq    50         1139865600 PRJNA387024 SAMN07138363\n",
       "20 SRR5573204 RNA-Seq    50          996817300 PRJNA387024 SAMN07138362\n",
       "21 SRR5573205 RNA-Seq    50         1061146750 PRJNA387024 SAMN07138361\n",
       "22 SRR5573207 RNA-Seq    50          965507050 PRJNA387024 SAMN07138359\n",
       "23 SRR5573209 RNA-Seq    50          564424750 PRJNA387024 SAMN07138357\n",
       "24 SRR5573213 RNA-Seq    50          600649200 PRJNA387024 SAMN07138353\n",
       "25 SRR5573215 RNA-Seq    50          684108650 PRJNA387024 SAMN07138351\n",
       "26 SRR5573216 RNA-Seq    50          609552700 PRJNA387024 SAMN07138350\n",
       "27 SRR5573170 RNA-Seq    40          833817640 PRJNA387024 SAMN07138394\n",
       "28 SRR5573171 RNA-Seq    40          888637240 PRJNA387024 SAMN07138393\n",
       "29 SRR5573174 RNA-Seq    40          657022640 PRJNA387024 SAMN07138388\n",
       "30 SRR5573175 RNA-Seq    40          885778120 PRJNA387024 SAMN07138387\n",
       "31 SRR5573177 RNA-Seq    40          879490520 PRJNA387024 SAMN07138391\n",
       "32 SRR5573179 RNA-Seq    40          720589320 PRJNA387024 SAMN07138389\n",
       "33 SRR5573180 RNA-Seq    40          828805320 PRJNA387024 SAMN07138386\n",
       "34 SRR5573182 RNA-Seq    50          871070600 PRJNA387024 SAMN07138384\n",
       "35 SRR5573186 RNA-Seq    50          876596850 PRJNA387024 SAMN07138380\n",
       "36 SRR5573187 RNA-Seq    50         1266350250 PRJNA387024 SAMN07138379\n",
       "37 SRR5573194 RNA-Seq    50          896768100 PRJNA387024 SAMN07138372\n",
       "38 SRR5573196 RNA-Seq    50          914926100 PRJNA387024 SAMN07138370\n",
       "39 SRR5573198 RNA-Seq    50         1012833150 PRJNA387024 SAMN07138368\n",
       "40 SRR5573199 RNA-Seq    50         1108708400 PRJNA387024 SAMN07138367\n",
       "41 SRR5573201 RNA-Seq    50          606050900 PRJNA387024 SAMN07138365\n",
       "42 SRR5573206 RNA-Seq    50          954368950 PRJNA387024 SAMN07138360\n",
       "43 SRR5573208 RNA-Seq    50         1071048350 PRJNA387024 SAMN07138358\n",
       "44 SRR5573210 RNA-Seq    50         1175467650 PRJNA387024 SAMN07138356\n",
       "45 SRR5573211 RNA-Seq    50          821141500 PRJNA387024 SAMN07138355\n",
       "46 SRR5573212 RNA-Seq    50          658450250 PRJNA387024 SAMN07138354\n",
       "47 SRR5573214 RNA-Seq    50          461188500 PRJNA387024 SAMN07138352\n",
       "48 SRR5573217 RNA-Seq    50          626221900 PRJNA387024 SAMN07138349\n",
       "   Bytes     Center.Name Consent DATASTORE.filetype ⋯ Organism              \n",
       "1  503062224 GEO         public  fastq,sra          ⋯ Schmidtea mediterranea\n",
       "2  491929425 GEO         public  fastq,sra          ⋯ Schmidtea mediterranea\n",
       "3  464598314 GEO         public  fastq,sra          ⋯ Schmidtea mediterranea\n",
       "4  556736764 GEO         public  fastq,sra          ⋯ Schmidtea mediterranea\n",
       "5  456524331 GEO         public  fastq,sra          ⋯ Schmidtea mediterranea\n",
       "6  745582086 GEO         public  fastq,sra          ⋯ Schmidtea mediterranea\n",
       "7  529138115 GEO         public  fastq,sra          ⋯ Schmidtea mediterranea\n",
       "8  490653557 GEO         public  fastq,sra          ⋯ Schmidtea mediterranea\n",
       "9  669940266 GEO         public  fastq,sra          ⋯ Schmidtea mediterranea\n",
       "10 463965032 GEO         public  fastq,sra          ⋯ Schmidtea mediterranea\n",
       "11 483201290 GEO         public  fastq,sra          ⋯ Schmidtea mediterranea\n",
       "12 526893481 GEO         public  fastq,sra          ⋯ Schmidtea mediterranea\n",
       "13 481258345 GEO         public  fastq,sra          ⋯ Schmidtea mediterranea\n",
       "14 512156626 GEO         public  fastq,sra          ⋯ Schmidtea mediterranea\n",
       "15 763137758 GEO         public  fastq,sra          ⋯ Schmidtea mediterranea\n",
       "16 358263507 GEO         public  fastq,sra          ⋯ Schmidtea mediterranea\n",
       "17 587392707 GEO         public  fastq,sra          ⋯ Schmidtea mediterranea\n",
       "18 578261884 GEO         public  fastq,sra          ⋯ Schmidtea mediterranea\n",
       "19 727209212 GEO         public  fastq,sra          ⋯ Schmidtea mediterranea\n",
       "20 634405555 GEO         public  fastq,sra          ⋯ Schmidtea mediterranea\n",
       "21 678272534 GEO         public  fastq,sra          ⋯ Schmidtea mediterranea\n",
       "22 615642005 GEO         public  fastq,sra          ⋯ Schmidtea mediterranea\n",
       "23 405172452 GEO         public  fastq,sra          ⋯ Schmidtea mediterranea\n",
       "24 429986129 GEO         public  fastq,sra          ⋯ Schmidtea mediterranea\n",
       "25 476091500 GEO         public  fastq,sra          ⋯ Schmidtea mediterranea\n",
       "26 436922669 GEO         public  fastq,sra          ⋯ Schmidtea mediterranea\n",
       "27 544829361 GEO         public  fastq,sra          ⋯ Schmidtea mediterranea\n",
       "28 580291956 GEO         public  fastq,sra          ⋯ Schmidtea mediterranea\n",
       "29 430009821 GEO         public  fastq,sra          ⋯ Schmidtea mediterranea\n",
       "30 577646821 GEO         public  fastq,sra          ⋯ Schmidtea mediterranea\n",
       "31 574225925 GEO         public  fastq,sra          ⋯ Schmidtea mediterranea\n",
       "32 474935665 GEO         public  fastq,sra          ⋯ Schmidtea mediterranea\n",
       "33 545015858 GEO         public  fastq,sra          ⋯ Schmidtea mediterranea\n",
       "34 537535947 GEO         public  fastq,sra          ⋯ Schmidtea mediterranea\n",
       "35 530650007 GEO         public  fastq,sra          ⋯ Schmidtea mediterranea\n",
       "36 766708841 GEO         public  fastq,sra          ⋯ Schmidtea mediterranea\n",
       "37 545694636 GEO         public  fastq,sra          ⋯ Schmidtea mediterranea\n",
       "38 555707955 GEO         public  fastq,sra          ⋯ Schmidtea mediterranea\n",
       "39 615802897 GEO         public  fastq,sra          ⋯ Schmidtea mediterranea\n",
       "40 671385426 GEO         public  fastq,sra          ⋯ Schmidtea mediterranea\n",
       "41 372875864 GEO         public  fastq,sra          ⋯ Schmidtea mediterranea\n",
       "42 611264594 GEO         public  fastq,sra          ⋯ Schmidtea mediterranea\n",
       "43 681216917 GEO         public  fastq,sra          ⋯ Schmidtea mediterranea\n",
       "44 838827942 GEO         public  fastq,sra          ⋯ Schmidtea mediterranea\n",
       "45 586132836 GEO         public  fastq,sra          ⋯ Schmidtea mediterranea\n",
       "46 472006365 GEO         public  fastq,sra          ⋯ Schmidtea mediterranea\n",
       "47 330378442 GEO         public  fastq,sra          ⋯ Schmidtea mediterranea\n",
       "48 447033439 GEO         public  fastq,sra          ⋯ Schmidtea mediterranea\n",
       "   Platform ReleaseDate          RNAi_feedings RNAi   Sample.Name\n",
       "1  ILLUMINA 2017-10-30T00:00:00Z 10F           myoD   GSM2630544 \n",
       "2  ILLUMINA 2017-10-30T00:00:00Z 10F           unc-22 GSM2630545 \n",
       "3  ILLUMINA 2017-10-30T00:00:00Z 10F           myoD   GSM2630548 \n",
       "4  ILLUMINA 2017-10-30T00:00:00Z 10F           myoD   GSM2630550 \n",
       "5  ILLUMINA 2017-10-30T00:00:00Z 10F           unc-22 GSM2630553 \n",
       "6  ILLUMINA 2017-10-30T00:00:00Z 10F           myoD   GSM2630555 \n",
       "7  ILLUMINA 2017-10-30T00:00:00Z 10F           myoD   GSM2630556 \n",
       "8  ILLUMINA 2017-10-30T00:00:00Z 10F           unc-22 GSM2630557 \n",
       "9  ILLUMINA 2017-10-30T00:00:00Z 10F           myoD   GSM2630560 \n",
       "10 ILLUMINA 2017-10-30T00:00:00Z 10F           myoD   GSM2630561 \n",
       "11 ILLUMINA 2017-10-30T00:00:00Z 10F           myoD   GSM2630562 \n",
       "12 ILLUMINA 2017-10-30T00:00:00Z 10F           unc-22 GSM2630563 \n",
       "13 ILLUMINA 2017-10-30T00:00:00Z 10F           unc-22 GSM2630564 \n",
       "14 ILLUMINA 2017-10-30T00:00:00Z 10F           unc-22 GSM2630565 \n",
       "15 ILLUMINA 2017-10-30T00:00:00Z 6F            unc-22 GSM2630567 \n",
       "16 ILLUMINA 2017-10-30T00:00:00Z 6F            fst    GSM2630569 \n",
       "17 ILLUMINA 2017-10-30T00:00:00Z 6F            unc-22 GSM2630572 \n",
       "18 ILLUMINA 2017-10-30T00:00:00Z 6F            unc-22 GSM2630574 \n",
       "19 ILLUMINA 2017-10-30T00:00:00Z 6F            fst    GSM2630575 \n",
       "20 ILLUMINA 2017-10-30T00:00:00Z 6F            fst    GSM2630576 \n",
       "21 ILLUMINA 2017-10-30T00:00:00Z 6F            fst    GSM2630577 \n",
       "22 ILLUMINA 2017-10-30T00:00:00Z 6F            unc-22 GSM2630579 \n",
       "23 ILLUMINA 2017-10-30T00:00:00Z 6F            fst    GSM2630581 \n",
       "24 ILLUMINA 2017-10-30T00:00:00Z 6F            unc-22 GSM2630585 \n",
       "25 ILLUMINA 2017-10-30T00:00:00Z 6F            fst    GSM2630587 \n",
       "26 ILLUMINA 2017-10-30T00:00:00Z 6F            fst    GSM2630588 \n",
       "27 ILLUMINA 2017-10-30T00:00:00Z 10F           myoD   GSM2630542 \n",
       "28 ILLUMINA 2017-10-30T00:00:00Z 10F           myoD   GSM2630543 \n",
       "29 ILLUMINA 2017-10-30T00:00:00Z 10F           unc-22 GSM2630546 \n",
       "30 ILLUMINA 2017-10-30T00:00:00Z 10F           unc-22 GSM2630547 \n",
       "31 ILLUMINA 2017-10-30T00:00:00Z 10F           myoD   GSM2630549 \n",
       "32 ILLUMINA 2017-10-30T00:00:00Z 10F           unc-22 GSM2630551 \n",
       "33 ILLUMINA 2017-10-30T00:00:00Z 10F           unc-22 GSM2630552 \n",
       "34 ILLUMINA 2017-10-30T00:00:00Z 10F           myoD   GSM2630554 \n",
       "35 ILLUMINA 2017-10-30T00:00:00Z 10F           unc-22 GSM2630558 \n",
       "36 ILLUMINA 2017-10-30T00:00:00Z 10F           unc-22 GSM2630559 \n",
       "37 ILLUMINA 2017-10-30T00:00:00Z 6F            unc-22 GSM2630566 \n",
       "38 ILLUMINA 2017-10-30T00:00:00Z 6F            unc-22 GSM2630568 \n",
       "39 ILLUMINA 2017-10-30T00:00:00Z 6F            fst    GSM2630570 \n",
       "40 ILLUMINA 2017-10-30T00:00:00Z 6F            fst    GSM2630571 \n",
       "41 ILLUMINA 2017-10-30T00:00:00Z 6F            unc-22 GSM2630573 \n",
       "42 ILLUMINA 2017-10-30T00:00:00Z 6F            unc-22 GSM2630578 \n",
       "43 ILLUMINA 2017-10-30T00:00:00Z 6F            unc-22 GSM2630580 \n",
       "44 ILLUMINA 2017-10-30T00:00:00Z 6F            fst    GSM2630582 \n",
       "45 ILLUMINA 2017-10-30T00:00:00Z 6F            fst    GSM2630583 \n",
       "46 ILLUMINA 2017-10-30T00:00:00Z 6F            unc-22 GSM2630584 \n",
       "47 ILLUMINA 2017-10-30T00:00:00Z 6F            unc-22 GSM2630586 \n",
       "48 ILLUMINA 2017-10-30T00:00:00Z 6F            fst    GSM2630589 \n",
       "   source_name                     SRA.Study strain tissue       \n",
       "1  Wound tissue from tail fragment SRP107207 CIW4   Tail fragment\n",
       "2  Wound tissue from tail fragment SRP107207 CIW4   Tail fragment\n",
       "3  Wound tissue from tail fragment SRP107207 CIW4   Tail fragment\n",
       "4  Wound tissue from tail fragment SRP107207 CIW4   Tail fragment\n",
       "5  Wound tissue from tail fragment SRP107207 CIW4   Tail fragment\n",
       "6  Wound tissue from tail fragment SRP107207 CIW4   Tail fragment\n",
       "7  Wound tissue from tail fragment SRP107207 CIW4   Tail fragment\n",
       "8  Wound tissue from tail fragment SRP107207 CIW4   Tail fragment\n",
       "9  Wound tissue from tail fragment SRP107207 CIW4   Tail fragment\n",
       "10 Wound tissue from tail fragment SRP107207 CIW4   Tail fragment\n",
       "11 Wound tissue from tail fragment SRP107207 CIW4   Tail fragment\n",
       "12 Wound tissue from tail fragment SRP107207 CIW4   Tail fragment\n",
       "13 Wound tissue from tail fragment SRP107207 CIW4   Tail fragment\n",
       "14 Wound tissue from tail fragment SRP107207 CIW4   Tail fragment\n",
       "15 Wound tissue from tail fragment SRP107207 CIW4   Tail fragment\n",
       "16 Wound tissue from tail fragment SRP107207 CIW4   Tail fragment\n",
       "17 Wound tissue from tail fragment SRP107207 CIW4   Tail fragment\n",
       "18 Wound tissue from tail fragment SRP107207 CIW4   Tail fragment\n",
       "19 Wound tissue from tail fragment SRP107207 CIW4   Tail fragment\n",
       "20 Wound tissue from tail fragment SRP107207 CIW4   Tail fragment\n",
       "21 Wound tissue from tail fragment SRP107207 CIW4   Tail fragment\n",
       "22 Wound tissue from tail fragment SRP107207 CIW4   Tail fragment\n",
       "23 Wound tissue from tail fragment SRP107207 CIW4   Tail fragment\n",
       "24 Wound tissue from tail fragment SRP107207 CIW4   Tail fragment\n",
       "25 Wound tissue from tail fragment SRP107207 CIW4   Tail fragment\n",
       "26 Wound tissue from tail fragment SRP107207 CIW4   Tail fragment\n",
       "27 Wound tissue from tail fragment SRP107207 CIW4   Tail fragment\n",
       "28 Wound tissue from tail fragment SRP107207 CIW4   Tail fragment\n",
       "29 Wound tissue from tail fragment SRP107207 CIW4   Tail fragment\n",
       "30 Wound tissue from tail fragment SRP107207 CIW4   Tail fragment\n",
       "31 Wound tissue from tail fragment SRP107207 CIW4   Tail fragment\n",
       "32 Wound tissue from tail fragment SRP107207 CIW4   Tail fragment\n",
       "33 Wound tissue from tail fragment SRP107207 CIW4   Tail fragment\n",
       "34 Wound tissue from tail fragment SRP107207 CIW4   Tail fragment\n",
       "35 Wound tissue from tail fragment SRP107207 CIW4   Tail fragment\n",
       "36 Wound tissue from tail fragment SRP107207 CIW4   Tail fragment\n",
       "37 Wound tissue from tail fragment SRP107207 CIW4   Tail fragment\n",
       "38 Wound tissue from tail fragment SRP107207 CIW4   Tail fragment\n",
       "39 Wound tissue from tail fragment SRP107207 CIW4   Tail fragment\n",
       "40 Wound tissue from tail fragment SRP107207 CIW4   Tail fragment\n",
       "41 Wound tissue from tail fragment SRP107207 CIW4   Tail fragment\n",
       "42 Wound tissue from tail fragment SRP107207 CIW4   Tail fragment\n",
       "43 Wound tissue from tail fragment SRP107207 CIW4   Tail fragment\n",
       "44 Wound tissue from tail fragment SRP107207 CIW4   Tail fragment\n",
       "45 Wound tissue from tail fragment SRP107207 CIW4   Tail fragment\n",
       "46 Wound tissue from tail fragment SRP107207 CIW4   Tail fragment\n",
       "47 Wound tissue from tail fragment SRP107207 CIW4   Tail fragment\n",
       "48 Wound tissue from tail fragment SRP107207 CIW4   Tail fragment"
      ]
     },
     "metadata": {},
     "output_type": "display_data"
    }
   ],
   "source": [
    "table2"
   ]
  },
  {
   "cell_type": "code",
   "execution_count": 12,
   "id": "b0ea1c56",
   "metadata": {},
   "outputs": [
    {
     "data": {
      "text/html": [
       "TRUE"
      ],
      "text/latex": [
       "TRUE"
      ],
      "text/markdown": [
       "TRUE"
      ],
      "text/plain": [
       "[1] TRUE"
      ]
     },
     "metadata": {},
     "output_type": "display_data"
    },
    {
     "data": {
      "text/html": [
       "TRUE"
      ],
      "text/latex": [
       "TRUE"
      ],
      "text/markdown": [
       "TRUE"
      ],
      "text/plain": [
       "[1] TRUE"
      ]
     },
     "metadata": {},
     "output_type": "display_data"
    }
   ],
   "source": [
    "sampletype = factor(c('myoD', 'control', 'myoD', 'myoD', 'control', 'myoD', 'myoD',\n",
    "                      'control', 'myoD', 'myoD', 'myoD', 'control', 'control', 'control',\n",
    "                      'control', 'fst', 'control', 'control', 'fst', 'fst', 'fst', 'control',\n",
    "                      'fst', 'control', 'fst', 'fst', 'myoD', 'myoD', 'control', 'control',\n",
    "                      'myoD', 'control', 'control', 'myoD', 'control', 'control', 'control',\n",
    "                      'control', 'fst', 'fst', 'control', 'control', 'control', 'fst',\n",
    "                      'fst', 'control', 'control', 'fst'))\n",
    "sampletypetime = factor(c('myoD 10F', 'control 10F', 'myoD 10F', 'myoD 10F', 'control 10F', 'myoD 10F', 'myoD 10F',\n",
    "                      'control 10F', 'myoD 10F', 'myoD 10F', 'myoD 10F', 'control 10F', 'control 10F', 'control 10F',\n",
    "                      'control 6F', 'fst 6F', 'control 6F', 'control 6F', 'fst 6F', 'fst 6F', 'fst 6F', 'control 6F',\n",
    "                      'fst 6F', 'control 6F', 'fst 6F', 'fst 6F', 'myoD 10F', 'myoD 10F', 'control 10F', 'control 10F',\n",
    "                      'myoD 10F', 'control 10F', 'control 10F', 'myoD 10F', 'control 10F', 'control 10F', 'control 6F',\n",
    "                      'control 6F', 'fst 6F', 'fst 6F', 'control 6F', 'control 6F', 'control 6F', 'fst 6F',\n",
    "                      'fst 6F', 'control 6F', 'control 6F', 'fst 6F'))\n",
    "samplefeeding = factor(table2$RNAi_feedings)\n",
    "meta = data.frame(sampletype, sampletypetime, row.names = colnames(txi$counts))\n",
    "all(colnames(txi$counts) %in% rownames(meta))\n",
    "all(colnames(txi$counts) == rownames(meta))"
   ]
  },
  {
   "cell_type": "code",
   "execution_count": 14,
   "id": "9f024ea0",
   "metadata": {},
   "outputs": [],
   "source": [
    "library(DESeq2)"
   ]
  },
  {
   "cell_type": "code",
   "execution_count": 15,
   "id": "0eac2f3e",
   "metadata": {},
   "outputs": [
    {
     "name": "stderr",
     "output_type": "stream",
     "text": [
      "using just counts from tximport\n",
      "\n"
     ]
    }
   ],
   "source": [
    "dds_sample <- DESeqDataSetFromTximport(txi, colData = meta, design = ~ sampletype)"
   ]
  },
  {
   "cell_type": "code",
   "execution_count": 16,
   "id": "fb891e54",
   "metadata": {},
   "outputs": [
    {
     "name": "stderr",
     "output_type": "stream",
     "text": [
      "estimating size factors\n",
      "\n",
      "estimating dispersions\n",
      "\n",
      "gene-wise dispersion estimates\n",
      "\n",
      "mean-dispersion relationship\n",
      "\n",
      "final dispersion estimates\n",
      "\n",
      "fitting model and testing\n",
      "\n",
      "-- replacing outliers and refitting for 87 genes\n",
      "-- DESeq argument 'minReplicatesForReplace' = 7 \n",
      "-- original counts are preserved in counts(dds)\n",
      "\n",
      "estimating dispersions\n",
      "\n",
      "fitting model and testing\n",
      "\n"
     ]
    }
   ],
   "source": [
    "dds_sample <- DESeq(dds_sample)"
   ]
  },
  {
   "cell_type": "code",
   "execution_count": 17,
   "id": "b1125776",
   "metadata": {},
   "outputs": [],
   "source": [
    "res_Scimone2017_myod_blas = results(dds_sample, contrast=c(\"sampletype\",\"myoD\",\"control\"))\n",
    "res_Scimone2017_myod_blas = res_Scimone2017_myod_blas %>% data.frame() \n",
    "res_Scimone2017_myod_blas = res_Scimone2017_myod_blas[order(res_Scimone2017_myod_blas$padj),]"
   ]
  },
  {
   "cell_type": "code",
   "execution_count": 18,
   "id": "fbf6bab9",
   "metadata": {},
   "outputs": [],
   "source": [
    "write.csv(res_Scimone2017_myod_blas, \"/drives/raid/AboobakerLab/jakke/TF_RNAi_RNAseq/Scimone2017/res_Scimone2017_myod_blastema.csv\")"
   ]
  },
  {
   "cell_type": "code",
   "execution_count": 22,
   "id": "ef3d41ca",
   "metadata": {},
   "outputs": [
    {
     "name": "stderr",
     "output_type": "stream",
     "text": [
      "  Note: levels of factors in the design contain characters other than\n",
      "  letters, numbers, '_' and '.'. It is recommended (but not required) to use\n",
      "  only letters, numbers, and delimiters '_' or '.', as these are safe characters\n",
      "  for column names in R. [This is a message, not a warning or an error]\n",
      "\n",
      "using just counts from tximport\n",
      "\n"
     ]
    }
   ],
   "source": [
    "dds_sample <- DESeqDataSetFromTximport(txi, colData = meta, design = ~ sampletypetime)"
   ]
  },
  {
   "cell_type": "code",
   "execution_count": 23,
   "id": "6eedc308",
   "metadata": {},
   "outputs": [
    {
     "name": "stderr",
     "output_type": "stream",
     "text": [
      "estimating size factors\n",
      "\n",
      "  Note: levels of factors in the design contain characters other than\n",
      "  letters, numbers, '_' and '.'. It is recommended (but not required) to use\n",
      "  only letters, numbers, and delimiters '_' or '.', as these are safe characters\n",
      "  for column names in R. [This is a message, not a warning or an error]\n",
      "\n",
      "estimating dispersions\n",
      "\n",
      "gene-wise dispersion estimates\n",
      "\n",
      "mean-dispersion relationship\n",
      "\n",
      "  Note: levels of factors in the design contain characters other than\n",
      "  letters, numbers, '_' and '.'. It is recommended (but not required) to use\n",
      "  only letters, numbers, and delimiters '_' or '.', as these are safe characters\n",
      "  for column names in R. [This is a message, not a warning or an error]\n",
      "\n",
      "final dispersion estimates\n",
      "\n",
      "  Note: levels of factors in the design contain characters other than\n",
      "  letters, numbers, '_' and '.'. It is recommended (but not required) to use\n",
      "  only letters, numbers, and delimiters '_' or '.', as these are safe characters\n",
      "  for column names in R. [This is a message, not a warning or an error]\n",
      "\n",
      "fitting model and testing\n",
      "\n",
      "  Note: levels of factors in the design contain characters other than\n",
      "  letters, numbers, '_' and '.'. It is recommended (but not required) to use\n",
      "  only letters, numbers, and delimiters '_' or '.', as these are safe characters\n",
      "  for column names in R. [This is a message, not a warning or an error]\n",
      "\n",
      "-- replacing outliers and refitting for 64 genes\n",
      "-- DESeq argument 'minReplicatesForReplace' = 7 \n",
      "-- original counts are preserved in counts(dds)\n",
      "\n",
      "estimating dispersions\n",
      "\n",
      "  Note: levels of factors in the design contain characters other than\n",
      "  letters, numbers, '_' and '.'. It is recommended (but not required) to use\n",
      "  only letters, numbers, and delimiters '_' or '.', as these are safe characters\n",
      "  for column names in R. [This is a message, not a warning or an error]\n",
      "\n",
      "fitting model and testing\n",
      "\n",
      "  Note: levels of factors in the design contain characters other than\n",
      "  letters, numbers, '_' and '.'. It is recommended (but not required) to use\n",
      "  only letters, numbers, and delimiters '_' or '.', as these are safe characters\n",
      "  for column names in R. [This is a message, not a warning or an error]\n",
      "\n"
     ]
    }
   ],
   "source": [
    "dds_sample <- DESeq(dds_sample)"
   ]
  },
  {
   "cell_type": "code",
   "execution_count": 24,
   "id": "5623c9d0",
   "metadata": {},
   "outputs": [],
   "source": [
    "res_Scimone2017_myod_blas10F = results(dds_sample, contrast=c(\"sampletypetime\", \"myoD 10F\", \"control 10F\"))\n",
    "res_Scimone2017_myod_blas10F = res_Scimone2017_myod_blas10F %>% data.frame() \n",
    "res_Scimone2017_myod_blas10F = res_Scimone2017_myod_blas10F[order(res_Scimone2017_myod_blas10F$padj),]"
   ]
  },
  {
   "cell_type": "code",
   "execution_count": 25,
   "id": "878e1cd9",
   "metadata": {},
   "outputs": [],
   "source": [
    "write.csv(res_Scimone2017_myod_blas10F, \"/drives/raid/AboobakerLab/jakke/TF_RNAi_RNAseq/Scimone2017/res_Scimone2017_myod_blastema10F.csv\")"
   ]
  },
  {
   "cell_type": "markdown",
   "id": "105b001a",
   "metadata": {},
   "source": [
    "# Ross 2018"
   ]
  },
  {
   "cell_type": "code",
   "execution_count": 110,
   "id": "9c5ae45e",
   "metadata": {},
   "outputs": [],
   "source": [
    "table = read.csv(\"/drives/raid/AboobakerLab/jakke/TF_RNAi_RNAseq/Ross2018/SraRunTable.txt\")"
   ]
  },
  {
   "cell_type": "code",
   "execution_count": 114,
   "id": "e316b6a4",
   "metadata": {},
   "outputs": [
    {
     "data": {
      "text/html": [
       "<style>\n",
       ".list-inline {list-style: none; margin:0; padding: 0}\n",
       ".list-inline>li {display: inline-block}\n",
       ".list-inline>li:not(:last-child)::after {content: \"\\00b7\"; padding: 0 .5ex}\n",
       "</style>\n",
       "<ol class=list-inline><li>'Day 24 soxB1-2 RNAi Biological Replicate 2'</li><li>'Day 24 soxB1-2 RNAi Biological Replicate 3'</li><li>'Day 14 soxB1-2 RNAi Biological Replicate 3'</li><li>'Day 24 soxB1-2 RNAi Biological Replicate 1'</li><li>'Day 14 soxB1-2 RNAi Biological Replicate 1'</li><li>'Day 14 soxB1-2 RNAi Biological Replicate 2'</li><li>'Day 6 Biological soxB1-2 RNAi Replicate 2'</li><li>'Day 6 soxB1-2 RNAi Biological Replicate 3'</li><li>'Day 24 Biological Replicate 3'</li><li>'Day 6 soxB1-2 RNAi Biological Replicate 1'</li><li>'Day 24 Biological Replicate 1'</li><li>'Day 24 Biological Replicate 2'</li><li>'Day 14 Biological Replicate 2'</li><li>'Day 14 Biological Replicate 3'</li><li>'Day 6 Biological Replicate 3'</li><li>'Day 14 Biological Replicate 1'</li><li>'Day 6 Biological Replicate 1'</li><li>'Day 6 Biological Replicate 2'</li></ol>\n"
      ],
      "text/latex": [
       "\\begin{enumerate*}\n",
       "\\item 'Day 24 soxB1-2 RNAi Biological Replicate 2'\n",
       "\\item 'Day 24 soxB1-2 RNAi Biological Replicate 3'\n",
       "\\item 'Day 14 soxB1-2 RNAi Biological Replicate 3'\n",
       "\\item 'Day 24 soxB1-2 RNAi Biological Replicate 1'\n",
       "\\item 'Day 14 soxB1-2 RNAi Biological Replicate 1'\n",
       "\\item 'Day 14 soxB1-2 RNAi Biological Replicate 2'\n",
       "\\item 'Day 6 Biological soxB1-2 RNAi Replicate 2'\n",
       "\\item 'Day 6 soxB1-2 RNAi Biological Replicate 3'\n",
       "\\item 'Day 24 Biological Replicate 3'\n",
       "\\item 'Day 6 soxB1-2 RNAi Biological Replicate 1'\n",
       "\\item 'Day 24 Biological Replicate 1'\n",
       "\\item 'Day 24 Biological Replicate 2'\n",
       "\\item 'Day 14 Biological Replicate 2'\n",
       "\\item 'Day 14 Biological Replicate 3'\n",
       "\\item 'Day 6 Biological Replicate 3'\n",
       "\\item 'Day 14 Biological Replicate 1'\n",
       "\\item 'Day 6 Biological Replicate 1'\n",
       "\\item 'Day 6 Biological Replicate 2'\n",
       "\\end{enumerate*}\n"
      ],
      "text/markdown": [
       "1. 'Day 24 soxB1-2 RNAi Biological Replicate 2'\n",
       "2. 'Day 24 soxB1-2 RNAi Biological Replicate 3'\n",
       "3. 'Day 14 soxB1-2 RNAi Biological Replicate 3'\n",
       "4. 'Day 24 soxB1-2 RNAi Biological Replicate 1'\n",
       "5. 'Day 14 soxB1-2 RNAi Biological Replicate 1'\n",
       "6. 'Day 14 soxB1-2 RNAi Biological Replicate 2'\n",
       "7. 'Day 6 Biological soxB1-2 RNAi Replicate 2'\n",
       "8. 'Day 6 soxB1-2 RNAi Biological Replicate 3'\n",
       "9. 'Day 24 Biological Replicate 3'\n",
       "10. 'Day 6 soxB1-2 RNAi Biological Replicate 1'\n",
       "11. 'Day 24 Biological Replicate 1'\n",
       "12. 'Day 24 Biological Replicate 2'\n",
       "13. 'Day 14 Biological Replicate 2'\n",
       "14. 'Day 14 Biological Replicate 3'\n",
       "15. 'Day 6 Biological Replicate 3'\n",
       "16. 'Day 14 Biological Replicate 1'\n",
       "17. 'Day 6 Biological Replicate 1'\n",
       "18. 'Day 6 Biological Replicate 2'\n",
       "\n",
       "\n"
      ],
      "text/plain": [
       " [1] \"Day 24 soxB1-2 RNAi Biological Replicate 2\"\n",
       " [2] \"Day 24 soxB1-2 RNAi Biological Replicate 3\"\n",
       " [3] \"Day 14 soxB1-2 RNAi Biological Replicate 3\"\n",
       " [4] \"Day 24 soxB1-2 RNAi Biological Replicate 1\"\n",
       " [5] \"Day 14 soxB1-2 RNAi Biological Replicate 1\"\n",
       " [6] \"Day 14 soxB1-2 RNAi Biological Replicate 2\"\n",
       " [7] \"Day 6 Biological soxB1-2 RNAi Replicate 2\" \n",
       " [8] \"Day 6 soxB1-2 RNAi Biological Replicate 3\" \n",
       " [9] \"Day 24 Biological Replicate 3\"             \n",
       "[10] \"Day 6 soxB1-2 RNAi Biological Replicate 1\" \n",
       "[11] \"Day 24 Biological Replicate 1\"             \n",
       "[12] \"Day 24 Biological Replicate 2\"             \n",
       "[13] \"Day 14 Biological Replicate 2\"             \n",
       "[14] \"Day 14 Biological Replicate 3\"             \n",
       "[15] \"Day 6 Biological Replicate 3\"              \n",
       "[16] \"Day 14 Biological Replicate 1\"             \n",
       "[17] \"Day 6 Biological Replicate 1\"              \n",
       "[18] \"Day 6 Biological Replicate 2\"              "
      ]
     },
     "metadata": {},
     "output_type": "display_data"
    }
   ],
   "source": [
    "table$replicate"
   ]
  },
  {
   "cell_type": "code",
   "execution_count": 145,
   "id": "6333e526",
   "metadata": {},
   "outputs": [
    {
     "data": {
      "text/html": [
       "<style>\n",
       ".list-inline {list-style: none; margin:0; padding: 0}\n",
       ".list-inline>li {display: inline-block}\n",
       ".list-inline>li:not(:last-child)::after {content: \"\\00b7\"; padding: 0 .5ex}\n",
       "</style>\n",
       "<ol class=list-inline><li>'/drives/raid/AboobakerLab/jakke/TF_RNAi_RNAseq/Ross2018/SRR7760055.fastp.fq_kallisto/abundance.h5'</li><li>'/drives/raid/AboobakerLab/jakke/TF_RNAi_RNAseq/Ross2018/SRR7760056.fastp.fq_kallisto/abundance.h5'</li><li>'/drives/raid/AboobakerLab/jakke/TF_RNAi_RNAseq/Ross2018/SRR7760057.fastp.fq_kallisto/abundance.h5'</li><li>'/drives/raid/AboobakerLab/jakke/TF_RNAi_RNAseq/Ross2018/SRR7760058.fastp.fq_kallisto/abundance.h5'</li><li>'/drives/raid/AboobakerLab/jakke/TF_RNAi_RNAseq/Ross2018/SRR7760059.fastp.fq_kallisto/abundance.h5'</li><li>'/drives/raid/AboobakerLab/jakke/TF_RNAi_RNAseq/Ross2018/SRR7760060.fastp.fq_kallisto/abundance.h5'</li><li>'/drives/raid/AboobakerLab/jakke/TF_RNAi_RNAseq/Ross2018/SRR7760061.fastp.fq_kallisto/abundance.h5'</li><li>'/drives/raid/AboobakerLab/jakke/TF_RNAi_RNAseq/Ross2018/SRR7760062.fastp.fq_kallisto/abundance.h5'</li><li>'/drives/raid/AboobakerLab/jakke/TF_RNAi_RNAseq/Ross2018/SRR7760063.fastp.fq_kallisto/abundance.h5'</li><li>'/drives/raid/AboobakerLab/jakke/TF_RNAi_RNAseq/Ross2018/SRR7760064.fastp.fq_kallisto/abundance.h5'</li><li>'/drives/raid/AboobakerLab/jakke/TF_RNAi_RNAseq/Ross2018/SRR7760065.fastp.fq_kallisto/abundance.h5'</li><li>'/drives/raid/AboobakerLab/jakke/TF_RNAi_RNAseq/Ross2018/SRR7760066.fastp.fq_kallisto/abundance.h5'</li><li>'/drives/raid/AboobakerLab/jakke/TF_RNAi_RNAseq/Ross2018/SRR7760067.fastp.fq_kallisto/abundance.h5'</li><li>'/drives/raid/AboobakerLab/jakke/TF_RNAi_RNAseq/Ross2018/SRR7760068.fastp.fq_kallisto/abundance.h5'</li><li>'/drives/raid/AboobakerLab/jakke/TF_RNAi_RNAseq/Ross2018/SRR7760069.fastp.fq_kallisto/abundance.h5'</li><li>'/drives/raid/AboobakerLab/jakke/TF_RNAi_RNAseq/Ross2018/SRR7760070.fastp.fq_kallisto/abundance.h5'</li><li>'/drives/raid/AboobakerLab/jakke/TF_RNAi_RNAseq/Ross2018/SRR7760071.fastp.fq_kallisto/abundance.h5'</li><li>'/drives/raid/AboobakerLab/jakke/TF_RNAi_RNAseq/Ross2018/SRR7760072.fastp.fq_kallisto/abundance.h5'</li></ol>\n"
      ],
      "text/latex": [
       "\\begin{enumerate*}\n",
       "\\item '/drives/raid/AboobakerLab/jakke/TF\\_RNAi\\_RNAseq/Ross2018/SRR7760055.fastp.fq\\_kallisto/abundance.h5'\n",
       "\\item '/drives/raid/AboobakerLab/jakke/TF\\_RNAi\\_RNAseq/Ross2018/SRR7760056.fastp.fq\\_kallisto/abundance.h5'\n",
       "\\item '/drives/raid/AboobakerLab/jakke/TF\\_RNAi\\_RNAseq/Ross2018/SRR7760057.fastp.fq\\_kallisto/abundance.h5'\n",
       "\\item '/drives/raid/AboobakerLab/jakke/TF\\_RNAi\\_RNAseq/Ross2018/SRR7760058.fastp.fq\\_kallisto/abundance.h5'\n",
       "\\item '/drives/raid/AboobakerLab/jakke/TF\\_RNAi\\_RNAseq/Ross2018/SRR7760059.fastp.fq\\_kallisto/abundance.h5'\n",
       "\\item '/drives/raid/AboobakerLab/jakke/TF\\_RNAi\\_RNAseq/Ross2018/SRR7760060.fastp.fq\\_kallisto/abundance.h5'\n",
       "\\item '/drives/raid/AboobakerLab/jakke/TF\\_RNAi\\_RNAseq/Ross2018/SRR7760061.fastp.fq\\_kallisto/abundance.h5'\n",
       "\\item '/drives/raid/AboobakerLab/jakke/TF\\_RNAi\\_RNAseq/Ross2018/SRR7760062.fastp.fq\\_kallisto/abundance.h5'\n",
       "\\item '/drives/raid/AboobakerLab/jakke/TF\\_RNAi\\_RNAseq/Ross2018/SRR7760063.fastp.fq\\_kallisto/abundance.h5'\n",
       "\\item '/drives/raid/AboobakerLab/jakke/TF\\_RNAi\\_RNAseq/Ross2018/SRR7760064.fastp.fq\\_kallisto/abundance.h5'\n",
       "\\item '/drives/raid/AboobakerLab/jakke/TF\\_RNAi\\_RNAseq/Ross2018/SRR7760065.fastp.fq\\_kallisto/abundance.h5'\n",
       "\\item '/drives/raid/AboobakerLab/jakke/TF\\_RNAi\\_RNAseq/Ross2018/SRR7760066.fastp.fq\\_kallisto/abundance.h5'\n",
       "\\item '/drives/raid/AboobakerLab/jakke/TF\\_RNAi\\_RNAseq/Ross2018/SRR7760067.fastp.fq\\_kallisto/abundance.h5'\n",
       "\\item '/drives/raid/AboobakerLab/jakke/TF\\_RNAi\\_RNAseq/Ross2018/SRR7760068.fastp.fq\\_kallisto/abundance.h5'\n",
       "\\item '/drives/raid/AboobakerLab/jakke/TF\\_RNAi\\_RNAseq/Ross2018/SRR7760069.fastp.fq\\_kallisto/abundance.h5'\n",
       "\\item '/drives/raid/AboobakerLab/jakke/TF\\_RNAi\\_RNAseq/Ross2018/SRR7760070.fastp.fq\\_kallisto/abundance.h5'\n",
       "\\item '/drives/raid/AboobakerLab/jakke/TF\\_RNAi\\_RNAseq/Ross2018/SRR7760071.fastp.fq\\_kallisto/abundance.h5'\n",
       "\\item '/drives/raid/AboobakerLab/jakke/TF\\_RNAi\\_RNAseq/Ross2018/SRR7760072.fastp.fq\\_kallisto/abundance.h5'\n",
       "\\end{enumerate*}\n"
      ],
      "text/markdown": [
       "1. '/drives/raid/AboobakerLab/jakke/TF_RNAi_RNAseq/Ross2018/SRR7760055.fastp.fq_kallisto/abundance.h5'\n",
       "2. '/drives/raid/AboobakerLab/jakke/TF_RNAi_RNAseq/Ross2018/SRR7760056.fastp.fq_kallisto/abundance.h5'\n",
       "3. '/drives/raid/AboobakerLab/jakke/TF_RNAi_RNAseq/Ross2018/SRR7760057.fastp.fq_kallisto/abundance.h5'\n",
       "4. '/drives/raid/AboobakerLab/jakke/TF_RNAi_RNAseq/Ross2018/SRR7760058.fastp.fq_kallisto/abundance.h5'\n",
       "5. '/drives/raid/AboobakerLab/jakke/TF_RNAi_RNAseq/Ross2018/SRR7760059.fastp.fq_kallisto/abundance.h5'\n",
       "6. '/drives/raid/AboobakerLab/jakke/TF_RNAi_RNAseq/Ross2018/SRR7760060.fastp.fq_kallisto/abundance.h5'\n",
       "7. '/drives/raid/AboobakerLab/jakke/TF_RNAi_RNAseq/Ross2018/SRR7760061.fastp.fq_kallisto/abundance.h5'\n",
       "8. '/drives/raid/AboobakerLab/jakke/TF_RNAi_RNAseq/Ross2018/SRR7760062.fastp.fq_kallisto/abundance.h5'\n",
       "9. '/drives/raid/AboobakerLab/jakke/TF_RNAi_RNAseq/Ross2018/SRR7760063.fastp.fq_kallisto/abundance.h5'\n",
       "10. '/drives/raid/AboobakerLab/jakke/TF_RNAi_RNAseq/Ross2018/SRR7760064.fastp.fq_kallisto/abundance.h5'\n",
       "11. '/drives/raid/AboobakerLab/jakke/TF_RNAi_RNAseq/Ross2018/SRR7760065.fastp.fq_kallisto/abundance.h5'\n",
       "12. '/drives/raid/AboobakerLab/jakke/TF_RNAi_RNAseq/Ross2018/SRR7760066.fastp.fq_kallisto/abundance.h5'\n",
       "13. '/drives/raid/AboobakerLab/jakke/TF_RNAi_RNAseq/Ross2018/SRR7760067.fastp.fq_kallisto/abundance.h5'\n",
       "14. '/drives/raid/AboobakerLab/jakke/TF_RNAi_RNAseq/Ross2018/SRR7760068.fastp.fq_kallisto/abundance.h5'\n",
       "15. '/drives/raid/AboobakerLab/jakke/TF_RNAi_RNAseq/Ross2018/SRR7760069.fastp.fq_kallisto/abundance.h5'\n",
       "16. '/drives/raid/AboobakerLab/jakke/TF_RNAi_RNAseq/Ross2018/SRR7760070.fastp.fq_kallisto/abundance.h5'\n",
       "17. '/drives/raid/AboobakerLab/jakke/TF_RNAi_RNAseq/Ross2018/SRR7760071.fastp.fq_kallisto/abundance.h5'\n",
       "18. '/drives/raid/AboobakerLab/jakke/TF_RNAi_RNAseq/Ross2018/SRR7760072.fastp.fq_kallisto/abundance.h5'\n",
       "\n",
       "\n"
      ],
      "text/plain": [
       " [1] \"/drives/raid/AboobakerLab/jakke/TF_RNAi_RNAseq/Ross2018/SRR7760055.fastp.fq_kallisto/abundance.h5\"\n",
       " [2] \"/drives/raid/AboobakerLab/jakke/TF_RNAi_RNAseq/Ross2018/SRR7760056.fastp.fq_kallisto/abundance.h5\"\n",
       " [3] \"/drives/raid/AboobakerLab/jakke/TF_RNAi_RNAseq/Ross2018/SRR7760057.fastp.fq_kallisto/abundance.h5\"\n",
       " [4] \"/drives/raid/AboobakerLab/jakke/TF_RNAi_RNAseq/Ross2018/SRR7760058.fastp.fq_kallisto/abundance.h5\"\n",
       " [5] \"/drives/raid/AboobakerLab/jakke/TF_RNAi_RNAseq/Ross2018/SRR7760059.fastp.fq_kallisto/abundance.h5\"\n",
       " [6] \"/drives/raid/AboobakerLab/jakke/TF_RNAi_RNAseq/Ross2018/SRR7760060.fastp.fq_kallisto/abundance.h5\"\n",
       " [7] \"/drives/raid/AboobakerLab/jakke/TF_RNAi_RNAseq/Ross2018/SRR7760061.fastp.fq_kallisto/abundance.h5\"\n",
       " [8] \"/drives/raid/AboobakerLab/jakke/TF_RNAi_RNAseq/Ross2018/SRR7760062.fastp.fq_kallisto/abundance.h5\"\n",
       " [9] \"/drives/raid/AboobakerLab/jakke/TF_RNAi_RNAseq/Ross2018/SRR7760063.fastp.fq_kallisto/abundance.h5\"\n",
       "[10] \"/drives/raid/AboobakerLab/jakke/TF_RNAi_RNAseq/Ross2018/SRR7760064.fastp.fq_kallisto/abundance.h5\"\n",
       "[11] \"/drives/raid/AboobakerLab/jakke/TF_RNAi_RNAseq/Ross2018/SRR7760065.fastp.fq_kallisto/abundance.h5\"\n",
       "[12] \"/drives/raid/AboobakerLab/jakke/TF_RNAi_RNAseq/Ross2018/SRR7760066.fastp.fq_kallisto/abundance.h5\"\n",
       "[13] \"/drives/raid/AboobakerLab/jakke/TF_RNAi_RNAseq/Ross2018/SRR7760067.fastp.fq_kallisto/abundance.h5\"\n",
       "[14] \"/drives/raid/AboobakerLab/jakke/TF_RNAi_RNAseq/Ross2018/SRR7760068.fastp.fq_kallisto/abundance.h5\"\n",
       "[15] \"/drives/raid/AboobakerLab/jakke/TF_RNAi_RNAseq/Ross2018/SRR7760069.fastp.fq_kallisto/abundance.h5\"\n",
       "[16] \"/drives/raid/AboobakerLab/jakke/TF_RNAi_RNAseq/Ross2018/SRR7760070.fastp.fq_kallisto/abundance.h5\"\n",
       "[17] \"/drives/raid/AboobakerLab/jakke/TF_RNAi_RNAseq/Ross2018/SRR7760071.fastp.fq_kallisto/abundance.h5\"\n",
       "[18] \"/drives/raid/AboobakerLab/jakke/TF_RNAi_RNAseq/Ross2018/SRR7760072.fastp.fq_kallisto/abundance.h5\""
      ]
     },
     "metadata": {},
     "output_type": "display_data"
    }
   ],
   "source": [
    "sf_dirs <- file.path(\"/drives/raid/AboobakerLab/jakke/TF_RNAi_RNAseq/Ross2018\", table$Run)\n",
    "for (i in 1:length(sf_dirs)){\n",
    "    sf_dirs[i] = paste(sf_dirs[i], \".fastp.fq_kallisto/abundance.h5\", sep=\"\") \n",
    "} \n",
    "sf_dirs"
   ]
  },
  {
   "cell_type": "code",
   "execution_count": 146,
   "id": "32413ad1",
   "metadata": {},
   "outputs": [],
   "source": [
    "sf_dirs_samples = c(\"soxB1_24_2\", \"soxB1_24_3\", \"soxB1_14_3\",\n",
    "                    \"soxB1_24_1\", \"soxB1_14_1\", \"soxB1_14_2\",\n",
    "                    \"soxB1_6_2\", \"soxB1_6_3\", \"gfp_24_3\",\n",
    "                   \"soxB1_6_1\", \"gfp_24_1\", \"gfp_24_2\",\n",
    "                   \"gfp_14_2\", \"gfp_14_3\", \"gfp_6_3\", \"gfp_14_1\",\n",
    "                   \"gfp_6_1\", \"gfp_6_2\")\n",
    "names(sf_dirs) = sf_dirs_samples"
   ]
  },
  {
   "cell_type": "code",
   "execution_count": 124,
   "id": "41268f68",
   "metadata": {},
   "outputs": [],
   "source": [
    "ttg = read.csv(\"/drives/raid/AboobakerLab/jakke/FACS/sleuth_ttg.csv\")"
   ]
  },
  {
   "cell_type": "code",
   "execution_count": 147,
   "id": "b95bb1f8",
   "metadata": {},
   "outputs": [
    {
     "name": "stderr",
     "output_type": "stream",
     "text": [
      "1 \n",
      "2 \n",
      "3 \n",
      "4 \n",
      "5 \n",
      "6 \n",
      "7 \n",
      "8 \n",
      "9 \n",
      "10 \n",
      "11 \n",
      "12 \n",
      "13 \n",
      "14 \n",
      "15 \n",
      "16 \n",
      "17 \n",
      "18 \n",
      "\n",
      "\n",
      "transcripts missing from tx2gene: 295\n",
      "\n",
      "summarizing abundance\n",
      "\n",
      "summarizing counts\n",
      "\n",
      "summarizing length\n",
      "\n",
      "summarizing inferential replicates\n",
      "\n"
     ]
    }
   ],
   "source": [
    "txi <- tximport(sf_dirs, type=\"kallisto\", tx2gene=ttg, countsFromAbundance=\"lengthScaledTPM\")"
   ]
  },
  {
   "cell_type": "code",
   "execution_count": null,
   "id": "b627cc03",
   "metadata": {},
   "outputs": [],
   "source": [
    "sf_dirs_samples = c(\"soxB1_24_2\", \"soxB1_24_3\", \"soxB1_14_3\",\n",
    "                    \"soxB1_24_1\", \"soxB1_14_1\", \"soxB1_14_2\",\n",
    "                    \"soxB1_6_2\", \"soxB1_6_3\", \"gfp_24_3\",\n",
    "                   \"soxB1_6_1\", \"gfp_24_1\", \"gfp_24_2\",\n",
    "                   \"gfp_14_2\", \"gfp_14_3\", \"gfp_6_3\", \"gfp_14_1\",\n",
    "                   \"gfp_6_1\", \"gfp_6_2\")"
   ]
  },
  {
   "cell_type": "code",
   "execution_count": 148,
   "id": "40ed3ee0",
   "metadata": {},
   "outputs": [
    {
     "data": {
      "text/html": [
       "TRUE"
      ],
      "text/latex": [
       "TRUE"
      ],
      "text/markdown": [
       "TRUE"
      ],
      "text/plain": [
       "[1] TRUE"
      ]
     },
     "metadata": {},
     "output_type": "display_data"
    },
    {
     "data": {
      "text/html": [
       "TRUE"
      ],
      "text/latex": [
       "TRUE"
      ],
      "text/markdown": [
       "TRUE"
      ],
      "text/plain": [
       "[1] TRUE"
      ]
     },
     "metadata": {},
     "output_type": "display_data"
    }
   ],
   "source": [
    "sampletype = factor(c(\"soxB1\", \"soxB1\", \"soxB1\",\n",
    "                    \"soxB1\", \"soxB1\", \"soxB1\",\n",
    "                    \"soxB1\", \"soxB1\", \"gfp\",\n",
    "                   \"soxB1\", \"gfp\", \"gfp\",\n",
    "                   \"gfp\", \"gfp\", \"gfp\", \"gfp\",\n",
    "                   \"gfp\", \"gfp\"))\n",
    "sampletime = factor(c(\"soxB1_24\", \"soxB1_24\", \"soxB1_14\",\n",
    "                    \"soxB1_24\", \"soxB1_14\", \"soxB1_14\",\n",
    "                    \"soxB1_6\", \"soxB1_6\", \"gfp_24\",\n",
    "                   \"soxB1_6\", \"gfp_24\", \"gfp_24\",\n",
    "                   \"gfp_14\", \"gfp_14\", \"gfp_6\", \"gfp_14\",\n",
    "                   \"gfp_6\", \"gfp_6\"))\n",
    "meta = data.frame(sampletype, sampletime, row.names = colnames(txi$counts))\n",
    "all(colnames(txi$counts) %in% rownames(meta))\n",
    "all(colnames(txi$counts) == rownames(meta))"
   ]
  },
  {
   "cell_type": "code",
   "execution_count": 149,
   "id": "3143b788",
   "metadata": {},
   "outputs": [],
   "source": [
    "library(DESeq2)"
   ]
  },
  {
   "cell_type": "code",
   "execution_count": 150,
   "id": "1309a88e",
   "metadata": {},
   "outputs": [
    {
     "name": "stderr",
     "output_type": "stream",
     "text": [
      "using just counts from tximport\n",
      "\n"
     ]
    }
   ],
   "source": [
    "dds_sample <- DESeqDataSetFromTximport(txi, colData = meta, design = ~ sampletype)"
   ]
  },
  {
   "cell_type": "code",
   "execution_count": 151,
   "id": "c452bd54",
   "metadata": {},
   "outputs": [
    {
     "name": "stderr",
     "output_type": "stream",
     "text": [
      "estimating size factors\n",
      "\n",
      "estimating dispersions\n",
      "\n",
      "gene-wise dispersion estimates\n",
      "\n",
      "mean-dispersion relationship\n",
      "\n",
      "final dispersion estimates\n",
      "\n",
      "fitting model and testing\n",
      "\n",
      "-- replacing outliers and refitting for 25 genes\n",
      "-- DESeq argument 'minReplicatesForReplace' = 7 \n",
      "-- original counts are preserved in counts(dds)\n",
      "\n",
      "estimating dispersions\n",
      "\n",
      "fitting model and testing\n",
      "\n"
     ]
    }
   ],
   "source": [
    "dds_sample <- DESeq(dds_sample)"
   ]
  },
  {
   "cell_type": "code",
   "execution_count": 152,
   "id": "ceabf49f",
   "metadata": {},
   "outputs": [],
   "source": [
    "res_Ross2018 = results(dds_sample)"
   ]
  },
  {
   "cell_type": "code",
   "execution_count": 153,
   "id": "67f04b28",
   "metadata": {},
   "outputs": [],
   "source": [
    "res_Ross2018 = res_Ross2018 %>% data.frame() \n",
    "res_Ross2018 = res_Ross2018[order(res_Ross2018$padj),]"
   ]
  },
  {
   "cell_type": "code",
   "execution_count": 155,
   "id": "1be31140",
   "metadata": {},
   "outputs": [],
   "source": [
    "write.csv(res_Ross2018, \"/drives/raid/AboobakerLab/jakke/TF_RNAi_RNAseq/Ross2018/res_Ross2018.csv\")"
   ]
  },
  {
   "cell_type": "markdown",
   "id": "978342bb",
   "metadata": {},
   "source": [
    "# Reddien 2021"
   ]
  },
  {
   "cell_type": "code",
   "execution_count": 28,
   "id": "a0695fac",
   "metadata": {},
   "outputs": [],
   "source": [
    "table = read.csv(\"/drives/raid/AboobakerLab/jakke/TF_RNAi_RNAseq/Reddien2021/SraRunTable.txt\")"
   ]
  },
  {
   "cell_type": "code",
   "execution_count": 27,
   "id": "79a51e96",
   "metadata": {},
   "outputs": [
    {
     "data": {
      "text/html": [
       "<table class=\"dataframe\">\n",
       "<caption>A data.frame: 60 × 28</caption>\n",
       "<thead>\n",
       "\t<tr><th scope=col>Run</th><th scope=col>Assay.Type</th><th scope=col>AvgSpotLen</th><th scope=col>Bases</th><th scope=col>BioProject</th><th scope=col>BioSample</th><th scope=col>Bytes</th><th scope=col>Center.Name</th><th scope=col>Consent</th><th scope=col>DATASTORE.filetype</th><th scope=col>⋯</th><th scope=col>Organism</th><th scope=col>Platform</th><th scope=col>ReleaseDate</th><th scope=col>RNAi_feedings</th><th scope=col>RNAi</th><th scope=col>Sample.Name</th><th scope=col>source_name</th><th scope=col>SRA.Study</th><th scope=col>strain</th><th scope=col>time</th></tr>\n",
       "\t<tr><th scope=col>&lt;chr&gt;</th><th scope=col>&lt;chr&gt;</th><th scope=col>&lt;int&gt;</th><th scope=col>&lt;int&gt;</th><th scope=col>&lt;chr&gt;</th><th scope=col>&lt;chr&gt;</th><th scope=col>&lt;int&gt;</th><th scope=col>&lt;chr&gt;</th><th scope=col>&lt;chr&gt;</th><th scope=col>&lt;chr&gt;</th><th scope=col>⋯</th><th scope=col>&lt;chr&gt;</th><th scope=col>&lt;chr&gt;</th><th scope=col>&lt;chr&gt;</th><th scope=col>&lt;chr&gt;</th><th scope=col>&lt;chr&gt;</th><th scope=col>&lt;chr&gt;</th><th scope=col>&lt;chr&gt;</th><th scope=col>&lt;chr&gt;</th><th scope=col>&lt;chr&gt;</th><th scope=col>&lt;chr&gt;</th></tr>\n",
       "</thead>\n",
       "<tbody>\n",
       "\t<tr><td>SRR15016078</td><td>RNA-Seq</td><td>50</td><td>1104898700</td><td>PRJNA743073</td><td>SAMN19992351</td><td>449534748</td><td>GEO</td><td>public</td><td>fastq,sra</td><td>⋯</td><td>Schmidtea mediterranea</td><td>ILLUMINA</td><td>2021-09-05T00:00:00Z</td><td>4 feedings</td><td>unc-22</td><td>GSM5413721</td><td>anterior facing wound fragment</td><td>SRP326526</td><td>CIW4</td><td>0 hpa </td></tr>\n",
       "\t<tr><td>SRR15016079</td><td>RNA-Seq</td><td>50</td><td>1243862150</td><td>PRJNA743073</td><td>SAMN19992350</td><td>505773923</td><td>GEO</td><td>public</td><td>fastq,sra</td><td>⋯</td><td>Schmidtea mediterranea</td><td>ILLUMINA</td><td>2021-09-05T00:00:00Z</td><td>4 feedings</td><td>unc-22</td><td>GSM5413722</td><td>anterior facing wound fragment</td><td>SRP326526</td><td>CIW4</td><td>0 hpa </td></tr>\n",
       "\t<tr><td>SRR15016080</td><td>RNA-Seq</td><td>50</td><td>1095305000</td><td>PRJNA743073</td><td>SAMN19992349</td><td>449293911</td><td>GEO</td><td>public</td><td>fastq,sra</td><td>⋯</td><td>Schmidtea mediterranea</td><td>ILLUMINA</td><td>2021-09-05T00:00:00Z</td><td>4 feedings</td><td>unc-22</td><td>GSM5413723</td><td>anterior facing wound fragment</td><td>SRP326526</td><td>CIW4</td><td>0 hpa </td></tr>\n",
       "\t<tr><td>SRR15016081</td><td>RNA-Seq</td><td>50</td><td>1157734150</td><td>PRJNA743073</td><td>SAMN19992348</td><td>472014186</td><td>GEO</td><td>public</td><td>fastq,sra</td><td>⋯</td><td>Schmidtea mediterranea</td><td>ILLUMINA</td><td>2021-09-05T00:00:00Z</td><td>4 feedings</td><td>unc-22</td><td>GSM5413724</td><td>anterior facing wound fragment</td><td>SRP326526</td><td>CIW4</td><td>0 hpa </td></tr>\n",
       "\t<tr><td>SRR15016082</td><td>RNA-Seq</td><td>50</td><td>1216355150</td><td>PRJNA743073</td><td>SAMN19992347</td><td>495950842</td><td>GEO</td><td>public</td><td>fastq,sra</td><td>⋯</td><td>Schmidtea mediterranea</td><td>ILLUMINA</td><td>2021-09-05T00:00:00Z</td><td>4 feedings</td><td>unc-22</td><td>GSM5413725</td><td>anterior facing wound fragment</td><td>SRP326526</td><td>CIW4</td><td>0 hpa </td></tr>\n",
       "\t<tr><td>SRR15016083</td><td>RNA-Seq</td><td>50</td><td>1013806300</td><td>PRJNA743073</td><td>SAMN19992346</td><td>428289203</td><td>GEO</td><td>public</td><td>fastq,sra</td><td>⋯</td><td>Schmidtea mediterranea</td><td>ILLUMINA</td><td>2021-09-05T00:00:00Z</td><td>4 feedings</td><td>unc-22</td><td>GSM5413726</td><td>anterior facing wound fragment</td><td>SRP326526</td><td>CIW4</td><td>3 hpa </td></tr>\n",
       "\t<tr><td>SRR15016084</td><td>RNA-Seq</td><td>50</td><td>1155702350</td><td>PRJNA743073</td><td>SAMN19992345</td><td>483410722</td><td>GEO</td><td>public</td><td>fastq,sra</td><td>⋯</td><td>Schmidtea mediterranea</td><td>ILLUMINA</td><td>2021-09-05T00:00:00Z</td><td>4 feedings</td><td>unc-22</td><td>GSM5413727</td><td>anterior facing wound fragment</td><td>SRP326526</td><td>CIW4</td><td>3 hpa </td></tr>\n",
       "\t<tr><td>SRR15016085</td><td>RNA-Seq</td><td>50</td><td>1125055700</td><td>PRJNA743073</td><td>SAMN19992344</td><td>472431258</td><td>GEO</td><td>public</td><td>fastq,sra</td><td>⋯</td><td>Schmidtea mediterranea</td><td>ILLUMINA</td><td>2021-09-05T00:00:00Z</td><td>4 feedings</td><td>unc-22</td><td>GSM5413728</td><td>anterior facing wound fragment</td><td>SRP326526</td><td>CIW4</td><td>3 hpa </td></tr>\n",
       "\t<tr><td>SRR15016086</td><td>RNA-Seq</td><td>50</td><td>1311085050</td><td>PRJNA743073</td><td>SAMN19992343</td><td>546601072</td><td>GEO</td><td>public</td><td>fastq,sra</td><td>⋯</td><td>Schmidtea mediterranea</td><td>ILLUMINA</td><td>2021-09-05T00:00:00Z</td><td>4 feedings</td><td>unc-22</td><td>GSM5413729</td><td>anterior facing wound fragment</td><td>SRP326526</td><td>CIW4</td><td>3 hpa </td></tr>\n",
       "\t<tr><td>SRR15016087</td><td>RNA-Seq</td><td>50</td><td>1048758600</td><td>PRJNA743073</td><td>SAMN19992342</td><td>440159258</td><td>GEO</td><td>public</td><td>fastq,sra</td><td>⋯</td><td>Schmidtea mediterranea</td><td>ILLUMINA</td><td>2021-09-05T00:00:00Z</td><td>4 feedings</td><td>unc-22</td><td>GSM5413730</td><td>anterior facing wound fragment</td><td>SRP326526</td><td>CIW4</td><td>3 hpa </td></tr>\n",
       "\t<tr><td>SRR15016088</td><td>RNA-Seq</td><td>50</td><td> 917629700</td><td>PRJNA743073</td><td>SAMN19992341</td><td>457275088</td><td>GEO</td><td>public</td><td>fastq,sra</td><td>⋯</td><td>Schmidtea mediterranea</td><td>ILLUMINA</td><td>2021-09-05T00:00:00Z</td><td>4 feedings</td><td>unc-22</td><td>GSM5413731</td><td>anterior facing wound fragment</td><td>SRP326526</td><td>CIW4</td><td>6 hpa </td></tr>\n",
       "\t<tr><td>SRR15016089</td><td>RNA-Seq</td><td>50</td><td>1662458100</td><td>PRJNA743073</td><td>SAMN19992340</td><td>824813713</td><td>GEO</td><td>public</td><td>fastq,sra</td><td>⋯</td><td>Schmidtea mediterranea</td><td>ILLUMINA</td><td>2021-09-05T00:00:00Z</td><td>4 feedings</td><td>unc-22</td><td>GSM5413732</td><td>anterior facing wound fragment</td><td>SRP326526</td><td>CIW4</td><td>6 hpa </td></tr>\n",
       "\t<tr><td>SRR15016090</td><td>RNA-Seq</td><td>50</td><td> 994433200</td><td>PRJNA743073</td><td>SAMN19992339</td><td>498856791</td><td>GEO</td><td>public</td><td>fastq,sra</td><td>⋯</td><td>Schmidtea mediterranea</td><td>ILLUMINA</td><td>2021-09-05T00:00:00Z</td><td>4 feedings</td><td>unc-22</td><td>GSM5413733</td><td>anterior facing wound fragment</td><td>SRP326526</td><td>CIW4</td><td>6 hpa </td></tr>\n",
       "\t<tr><td>SRR15016091</td><td>RNA-Seq</td><td>50</td><td>1224222550</td><td>PRJNA743073</td><td>SAMN19992233</td><td>610052666</td><td>GEO</td><td>public</td><td>fastq,sra</td><td>⋯</td><td>Schmidtea mediterranea</td><td>ILLUMINA</td><td>2021-09-05T00:00:00Z</td><td>4 feedings</td><td>unc-22</td><td>GSM5413734</td><td>anterior facing wound fragment</td><td>SRP326526</td><td>CIW4</td><td>6 hpa </td></tr>\n",
       "\t<tr><td>SRR15016092</td><td>RNA-Seq</td><td>50</td><td>1069254750</td><td>PRJNA743073</td><td>SAMN19992232</td><td>461654635</td><td>GEO</td><td>public</td><td>fastq,sra</td><td>⋯</td><td>Schmidtea mediterranea</td><td>ILLUMINA</td><td>2021-09-05T00:00:00Z</td><td>4 feedings</td><td>unc-22</td><td>GSM5413735</td><td>anterior facing wound fragment</td><td>SRP326526</td><td>CIW4</td><td>6 hpa </td></tr>\n",
       "\t<tr><td>SRR15016093</td><td>RNA-Seq</td><td>50</td><td>1010852250</td><td>PRJNA743073</td><td>SAMN19992231</td><td>407130839</td><td>GEO</td><td>public</td><td>fastq,sra</td><td>⋯</td><td>Schmidtea mediterranea</td><td>ILLUMINA</td><td>2021-09-05T00:00:00Z</td><td>4 feedings</td><td>unc-22</td><td>GSM5413736</td><td>anterior facing wound fragment</td><td>SRP326526</td><td>CIW4</td><td>16 hpa</td></tr>\n",
       "\t<tr><td>SRR15016094</td><td>RNA-Seq</td><td>50</td><td>1067728550</td><td>PRJNA743073</td><td>SAMN19992230</td><td>429190671</td><td>GEO</td><td>public</td><td>fastq,sra</td><td>⋯</td><td>Schmidtea mediterranea</td><td>ILLUMINA</td><td>2021-09-05T00:00:00Z</td><td>4 feedings</td><td>unc-22</td><td>GSM5413737</td><td>anterior facing wound fragment</td><td>SRP326526</td><td>CIW4</td><td>16 hpa</td></tr>\n",
       "\t<tr><td>SRR15016095</td><td>RNA-Seq</td><td>50</td><td>1192935700</td><td>PRJNA743073</td><td>SAMN19992229</td><td>483672783</td><td>GEO</td><td>public</td><td>fastq,sra</td><td>⋯</td><td>Schmidtea mediterranea</td><td>ILLUMINA</td><td>2021-09-05T00:00:00Z</td><td>4 feedings</td><td>unc-22</td><td>GSM5413738</td><td>anterior facing wound fragment</td><td>SRP326526</td><td>CIW4</td><td>16 hpa</td></tr>\n",
       "\t<tr><td>SRR15016096</td><td>RNA-Seq</td><td>50</td><td>1382669200</td><td>PRJNA743073</td><td>SAMN19992228</td><td>555564819</td><td>GEO</td><td>public</td><td>fastq,sra</td><td>⋯</td><td>Schmidtea mediterranea</td><td>ILLUMINA</td><td>2021-09-05T00:00:00Z</td><td>4 feedings</td><td>unc-22</td><td>GSM5413739</td><td>anterior facing wound fragment</td><td>SRP326526</td><td>CIW4</td><td>16 hpa</td></tr>\n",
       "\t<tr><td>SRR15016097</td><td>RNA-Seq</td><td>50</td><td>1218123300</td><td>PRJNA743073</td><td>SAMN19992227</td><td>490315227</td><td>GEO</td><td>public</td><td>fastq,sra</td><td>⋯</td><td>Schmidtea mediterranea</td><td>ILLUMINA</td><td>2021-09-05T00:00:00Z</td><td>4 feedings</td><td>unc-22</td><td>GSM5413740</td><td>anterior facing wound fragment</td><td>SRP326526</td><td>CIW4</td><td>16 hpa</td></tr>\n",
       "\t<tr><td>SRR15016098</td><td>RNA-Seq</td><td>50</td><td>1082369550</td><td>PRJNA743073</td><td>SAMN19992385</td><td>441533633</td><td>GEO</td><td>public</td><td>fastq,sra</td><td>⋯</td><td>Schmidtea mediterranea</td><td>ILLUMINA</td><td>2021-09-05T00:00:00Z</td><td>4 feedings</td><td>unc-22</td><td>GSM5413741</td><td>anterior facing wound fragment</td><td>SRP326526</td><td>CIW4</td><td>24 hpa</td></tr>\n",
       "\t<tr><td>SRR15016099</td><td>RNA-Seq</td><td>50</td><td>1204730400</td><td>PRJNA743073</td><td>SAMN19992384</td><td>485933379</td><td>GEO</td><td>public</td><td>fastq,sra</td><td>⋯</td><td>Schmidtea mediterranea</td><td>ILLUMINA</td><td>2021-09-05T00:00:00Z</td><td>4 feedings</td><td>unc-22</td><td>GSM5413742</td><td>anterior facing wound fragment</td><td>SRP326526</td><td>CIW4</td><td>24 hpa</td></tr>\n",
       "\t<tr><td>SRR15016100</td><td>RNA-Seq</td><td>50</td><td>1117442350</td><td>PRJNA743073</td><td>SAMN19992383</td><td>452551378</td><td>GEO</td><td>public</td><td>fastq,sra</td><td>⋯</td><td>Schmidtea mediterranea</td><td>ILLUMINA</td><td>2021-09-05T00:00:00Z</td><td>4 feedings</td><td>unc-22</td><td>GSM5413743</td><td>anterior facing wound fragment</td><td>SRP326526</td><td>CIW4</td><td>24 hpa</td></tr>\n",
       "\t<tr><td>SRR15016101</td><td>RNA-Seq</td><td>50</td><td>1332006350</td><td>PRJNA743073</td><td>SAMN19992382</td><td>535579680</td><td>GEO</td><td>public</td><td>fastq,sra</td><td>⋯</td><td>Schmidtea mediterranea</td><td>ILLUMINA</td><td>2021-09-05T00:00:00Z</td><td>4 feedings</td><td>unc-22</td><td>GSM5413744</td><td>anterior facing wound fragment</td><td>SRP326526</td><td>CIW4</td><td>24 hpa</td></tr>\n",
       "\t<tr><td>SRR15016102</td><td>RNA-Seq</td><td>50</td><td>1060427900</td><td>PRJNA743073</td><td>SAMN19992226</td><td>427874943</td><td>GEO</td><td>public</td><td>fastq,sra</td><td>⋯</td><td>Schmidtea mediterranea</td><td>ILLUMINA</td><td>2021-09-05T00:00:00Z</td><td>4 feedings</td><td>unc-22</td><td>GSM5413745</td><td>anterior facing wound fragment</td><td>SRP326526</td><td>CIW4</td><td>24 hpa</td></tr>\n",
       "\t<tr><td>SRR15016103</td><td>RNA-Seq</td><td>50</td><td>1219889950</td><td>PRJNA743073</td><td>SAMN19992225</td><td>500043904</td><td>GEO</td><td>public</td><td>fastq,sra</td><td>⋯</td><td>Schmidtea mediterranea</td><td>ILLUMINA</td><td>2021-09-05T00:00:00Z</td><td>4 feedings</td><td>unc-22</td><td>GSM5413746</td><td>anterior facing wound fragment</td><td>SRP326526</td><td>CIW4</td><td>48 hpa</td></tr>\n",
       "\t<tr><td>SRR15016104</td><td>RNA-Seq</td><td>50</td><td>1233611900</td><td>PRJNA743073</td><td>SAMN19992387</td><td>505216865</td><td>GEO</td><td>public</td><td>fastq,sra</td><td>⋯</td><td>Schmidtea mediterranea</td><td>ILLUMINA</td><td>2021-09-05T00:00:00Z</td><td>4 feedings</td><td>unc-22</td><td>GSM5413747</td><td>anterior facing wound fragment</td><td>SRP326526</td><td>CIW4</td><td>48 hpa</td></tr>\n",
       "\t<tr><td>SRR15016105</td><td>RNA-Seq</td><td>50</td><td>1030170850</td><td>PRJNA743073</td><td>SAMN19992386</td><td>424215998</td><td>GEO</td><td>public</td><td>fastq,sra</td><td>⋯</td><td>Schmidtea mediterranea</td><td>ILLUMINA</td><td>2021-09-05T00:00:00Z</td><td>4 feedings</td><td>unc-22</td><td>GSM5413748</td><td>anterior facing wound fragment</td><td>SRP326526</td><td>CIW4</td><td>48 hpa</td></tr>\n",
       "\t<tr><td>SRR15016106</td><td>RNA-Seq</td><td>50</td><td> 991444650</td><td>PRJNA743073</td><td>SAMN19992381</td><td>407669674</td><td>GEO</td><td>public</td><td>fastq,sra</td><td>⋯</td><td>Schmidtea mediterranea</td><td>ILLUMINA</td><td>2021-09-05T00:00:00Z</td><td>4 feedings</td><td>unc-22</td><td>GSM5413749</td><td>anterior facing wound fragment</td><td>SRP326526</td><td>CIW4</td><td>48 hpa</td></tr>\n",
       "\t<tr><td>SRR15016107</td><td>RNA-Seq</td><td>50</td><td>1119079600</td><td>PRJNA743073</td><td>SAMN19992380</td><td>458113242</td><td>GEO</td><td>public</td><td>fastq,sra</td><td>⋯</td><td>Schmidtea mediterranea</td><td>ILLUMINA</td><td>2021-09-05T00:00:00Z</td><td>4 feedings</td><td>unc-22</td><td>GSM5413750</td><td>anterior facing wound fragment</td><td>SRP326526</td><td>CIW4</td><td>48 hpa</td></tr>\n",
       "\t<tr><td>SRR15016108</td><td>RNA-Seq</td><td>50</td><td>1467089550</td><td>PRJNA743073</td><td>SAMN19992379</td><td>593434678</td><td>GEO</td><td>public</td><td>fastq,sra</td><td>⋯</td><td>Schmidtea mediterranea</td><td>ILLUMINA</td><td>2021-09-05T00:00:00Z</td><td>4 feedings</td><td>bmp4  </td><td>GSM5413751</td><td>anterior facing wound fragment</td><td>SRP326526</td><td>CIW4</td><td>0 hpa </td></tr>\n",
       "\t<tr><td>SRR15016109</td><td>RNA-Seq</td><td>50</td><td>1263571700</td><td>PRJNA743073</td><td>SAMN19992378</td><td>513051408</td><td>GEO</td><td>public</td><td>fastq,sra</td><td>⋯</td><td>Schmidtea mediterranea</td><td>ILLUMINA</td><td>2021-09-05T00:00:00Z</td><td>4 feedings</td><td>bmp4  </td><td>GSM5413752</td><td>anterior facing wound fragment</td><td>SRP326526</td><td>CIW4</td><td>0 hpa </td></tr>\n",
       "\t<tr><td>SRR15016110</td><td>RNA-Seq</td><td>50</td><td>1131520000</td><td>PRJNA743073</td><td>SAMN19992377</td><td>459381687</td><td>GEO</td><td>public</td><td>fastq,sra</td><td>⋯</td><td>Schmidtea mediterranea</td><td>ILLUMINA</td><td>2021-09-05T00:00:00Z</td><td>4 feedings</td><td>bmp4  </td><td>GSM5413753</td><td>anterior facing wound fragment</td><td>SRP326526</td><td>CIW4</td><td>0 hpa </td></tr>\n",
       "\t<tr><td>SRR15016111</td><td>RNA-Seq</td><td>50</td><td>1122201300</td><td>PRJNA743073</td><td>SAMN19992376</td><td>459206805</td><td>GEO</td><td>public</td><td>fastq,sra</td><td>⋯</td><td>Schmidtea mediterranea</td><td>ILLUMINA</td><td>2021-09-05T00:00:00Z</td><td>4 feedings</td><td>bmp4  </td><td>GSM5413754</td><td>anterior facing wound fragment</td><td>SRP326526</td><td>CIW4</td><td>0 hpa </td></tr>\n",
       "\t<tr><td>SRR15016112</td><td>RNA-Seq</td><td>50</td><td>1255017750</td><td>PRJNA743073</td><td>SAMN19992375</td><td>512349964</td><td>GEO</td><td>public</td><td>fastq,sra</td><td>⋯</td><td>Schmidtea mediterranea</td><td>ILLUMINA</td><td>2021-09-05T00:00:00Z</td><td>4 feedings</td><td>bmp4  </td><td>GSM5413755</td><td>anterior facing wound fragment</td><td>SRP326526</td><td>CIW4</td><td>0 hpa </td></tr>\n",
       "\t<tr><td>SRR15016113</td><td>RNA-Seq</td><td>50</td><td>1078122450</td><td>PRJNA743073</td><td>SAMN19992374</td><td>451532698</td><td>GEO</td><td>public</td><td>fastq,sra</td><td>⋯</td><td>Schmidtea mediterranea</td><td>ILLUMINA</td><td>2021-09-05T00:00:00Z</td><td>4 feedings</td><td>bmp4  </td><td>GSM5413756</td><td>anterior facing wound fragment</td><td>SRP326526</td><td>CIW4</td><td>3 hpa </td></tr>\n",
       "\t<tr><td>SRR15016114</td><td>RNA-Seq</td><td>50</td><td> 894109100</td><td>PRJNA743073</td><td>SAMN19992373</td><td>453248848</td><td>GEO</td><td>public</td><td>fastq,sra</td><td>⋯</td><td>Schmidtea mediterranea</td><td>ILLUMINA</td><td>2021-09-05T00:00:00Z</td><td>4 feedings</td><td>bmp4  </td><td>GSM5413757</td><td>anterior facing wound fragment</td><td>SRP326526</td><td>CIW4</td><td>3 hpa </td></tr>\n",
       "\t<tr><td>SRR15016115</td><td>RNA-Seq</td><td>50</td><td>1080877650</td><td>PRJNA743073</td><td>SAMN19992372</td><td>546945199</td><td>GEO</td><td>public</td><td>fastq,sra</td><td>⋯</td><td>Schmidtea mediterranea</td><td>ILLUMINA</td><td>2021-09-05T00:00:00Z</td><td>4 feedings</td><td>bmp4  </td><td>GSM5413758</td><td>anterior facing wound fragment</td><td>SRP326526</td><td>CIW4</td><td>3 hpa </td></tr>\n",
       "\t<tr><td>SRR15016116</td><td>RNA-Seq</td><td>50</td><td> 436937950</td><td>PRJNA743073</td><td>SAMN19992371</td><td>224597185</td><td>GEO</td><td>public</td><td>fastq,sra</td><td>⋯</td><td>Schmidtea mediterranea</td><td>ILLUMINA</td><td>2021-09-05T00:00:00Z</td><td>4 feedings</td><td>bmp4  </td><td>GSM5413759</td><td>anterior facing wound fragment</td><td>SRP326526</td><td>CIW4</td><td>3 hpa </td></tr>\n",
       "\t<tr><td>SRR15016117</td><td>RNA-Seq</td><td>50</td><td>1289751500</td><td>PRJNA743073</td><td>SAMN19992370</td><td>651374046</td><td>GEO</td><td>public</td><td>fastq,sra</td><td>⋯</td><td>Schmidtea mediterranea</td><td>ILLUMINA</td><td>2021-09-05T00:00:00Z</td><td>4 feedings</td><td>bmp4  </td><td>GSM5413760</td><td>anterior facing wound fragment</td><td>SRP326526</td><td>CIW4</td><td>3 hpa </td></tr>\n",
       "\t<tr><td>SRR15016118</td><td>RNA-Seq</td><td>50</td><td>1283614750</td><td>PRJNA743073</td><td>SAMN19992369</td><td>555013217</td><td>GEO</td><td>public</td><td>fastq,sra</td><td>⋯</td><td>Schmidtea mediterranea</td><td>ILLUMINA</td><td>2021-09-05T00:00:00Z</td><td>4 feedings</td><td>bmp4  </td><td>GSM5413761</td><td>anterior facing wound fragment</td><td>SRP326526</td><td>CIW4</td><td>6 hpa </td></tr>\n",
       "\t<tr><td>SRR15016119</td><td>RNA-Seq</td><td>50</td><td>1039125000</td><td>PRJNA743073</td><td>SAMN19992368</td><td>454762627</td><td>GEO</td><td>public</td><td>fastq,sra</td><td>⋯</td><td>Schmidtea mediterranea</td><td>ILLUMINA</td><td>2021-09-05T00:00:00Z</td><td>4 feedings</td><td>bmp4  </td><td>GSM5413762</td><td>anterior facing wound fragment</td><td>SRP326526</td><td>CIW4</td><td>6 hpa </td></tr>\n",
       "\t<tr><td>SRR15016120</td><td>RNA-Seq</td><td>50</td><td>1219640100</td><td>PRJNA743073</td><td>SAMN19992367</td><td>526948544</td><td>GEO</td><td>public</td><td>fastq,sra</td><td>⋯</td><td>Schmidtea mediterranea</td><td>ILLUMINA</td><td>2021-09-05T00:00:00Z</td><td>4 feedings</td><td>bmp4  </td><td>GSM5413763</td><td>anterior facing wound fragment</td><td>SRP326526</td><td>CIW4</td><td>6 hpa </td></tr>\n",
       "\t<tr><td>SRR15016121</td><td>RNA-Seq</td><td>50</td><td>1105447700</td><td>PRJNA743073</td><td>SAMN19992366</td><td>476614341</td><td>GEO</td><td>public</td><td>fastq,sra</td><td>⋯</td><td>Schmidtea mediterranea</td><td>ILLUMINA</td><td>2021-09-05T00:00:00Z</td><td>4 feedings</td><td>bmp4  </td><td>GSM5413764</td><td>anterior facing wound fragment</td><td>SRP326526</td><td>CIW4</td><td>6 hpa </td></tr>\n",
       "\t<tr><td>SRR15016122</td><td>RNA-Seq</td><td>50</td><td>1402712100</td><td>PRJNA743073</td><td>SAMN19992365</td><td>604961015</td><td>GEO</td><td>public</td><td>fastq,sra</td><td>⋯</td><td>Schmidtea mediterranea</td><td>ILLUMINA</td><td>2021-09-05T00:00:00Z</td><td>4 feedings</td><td>bmp4  </td><td>GSM5413765</td><td>anterior facing wound fragment</td><td>SRP326526</td><td>CIW4</td><td>6 hpa </td></tr>\n",
       "\t<tr><td>SRR15016123</td><td>RNA-Seq</td><td>50</td><td>1376423000</td><td>PRJNA743073</td><td>SAMN19992364</td><td>552437926</td><td>GEO</td><td>public</td><td>fastq,sra</td><td>⋯</td><td>Schmidtea mediterranea</td><td>ILLUMINA</td><td>2021-09-05T00:00:00Z</td><td>4 feedings</td><td>bmp4  </td><td>GSM5413766</td><td>anterior facing wound fragment</td><td>SRP326526</td><td>CIW4</td><td>16 hpa</td></tr>\n",
       "\t<tr><td>SRR15016124</td><td>RNA-Seq</td><td>50</td><td> 941465400</td><td>PRJNA743073</td><td>SAMN19992362</td><td>379387545</td><td>GEO</td><td>public</td><td>fastq,sra</td><td>⋯</td><td>Schmidtea mediterranea</td><td>ILLUMINA</td><td>2021-09-05T00:00:00Z</td><td>4 feedings</td><td>bmp4  </td><td>GSM5413767</td><td>anterior facing wound fragment</td><td>SRP326526</td><td>CIW4</td><td>16 hpa</td></tr>\n",
       "\t<tr><td>SRR15016125</td><td>RNA-Seq</td><td>50</td><td>1083120450</td><td>PRJNA743073</td><td>SAMN19992361</td><td>434965014</td><td>GEO</td><td>public</td><td>fastq,sra</td><td>⋯</td><td>Schmidtea mediterranea</td><td>ILLUMINA</td><td>2021-09-05T00:00:00Z</td><td>4 feedings</td><td>bmp4  </td><td>GSM5413768</td><td>anterior facing wound fragment</td><td>SRP326526</td><td>CIW4</td><td>16 hpa</td></tr>\n",
       "\t<tr><td>SRR15016126</td><td>RNA-Seq</td><td>50</td><td> 866651200</td><td>PRJNA743073</td><td>SAMN19992360</td><td>351817854</td><td>GEO</td><td>public</td><td>fastq,sra</td><td>⋯</td><td>Schmidtea mediterranea</td><td>ILLUMINA</td><td>2021-09-05T00:00:00Z</td><td>4 feedings</td><td>bmp4  </td><td>GSM5413769</td><td>anterior facing wound fragment</td><td>SRP326526</td><td>CIW4</td><td>16 hpa</td></tr>\n",
       "\t<tr><td>SRR15016127</td><td>RNA-Seq</td><td>50</td><td> 953492050</td><td>PRJNA743073</td><td>SAMN19992359</td><td>384020268</td><td>GEO</td><td>public</td><td>fastq,sra</td><td>⋯</td><td>Schmidtea mediterranea</td><td>ILLUMINA</td><td>2021-09-05T00:00:00Z</td><td>4 feedings</td><td>bmp4  </td><td>GSM5413770</td><td>anterior facing wound fragment</td><td>SRP326526</td><td>CIW4</td><td>16 hpa</td></tr>\n",
       "\t<tr><td>SRR15016128</td><td>RNA-Seq</td><td>50</td><td> 995832250</td><td>PRJNA743073</td><td>SAMN19992358</td><td>401851886</td><td>GEO</td><td>public</td><td>fastq,sra</td><td>⋯</td><td>Schmidtea mediterranea</td><td>ILLUMINA</td><td>2021-09-05T00:00:00Z</td><td>4 feedings</td><td>bmp4  </td><td>GSM5413771</td><td>anterior facing wound fragment</td><td>SRP326526</td><td>CIW4</td><td>24 hpa</td></tr>\n",
       "\t<tr><td>SRR15016129</td><td>RNA-Seq</td><td>50</td><td> 951668050</td><td>PRJNA743073</td><td>SAMN19992357</td><td>383229543</td><td>GEO</td><td>public</td><td>fastq,sra</td><td>⋯</td><td>Schmidtea mediterranea</td><td>ILLUMINA</td><td>2021-09-05T00:00:00Z</td><td>4 feedings</td><td>bmp4  </td><td>GSM5413772</td><td>anterior facing wound fragment</td><td>SRP326526</td><td>CIW4</td><td>24 hpa</td></tr>\n",
       "\t<tr><td>SRR15016130</td><td>RNA-Seq</td><td>50</td><td>1101140400</td><td>PRJNA743073</td><td>SAMN19992391</td><td>443325290</td><td>GEO</td><td>public</td><td>fastq,sra</td><td>⋯</td><td>Schmidtea mediterranea</td><td>ILLUMINA</td><td>2021-09-05T00:00:00Z</td><td>4 feedings</td><td>bmp4  </td><td>GSM5413773</td><td>anterior facing wound fragment</td><td>SRP326526</td><td>CIW4</td><td>24 hpa</td></tr>\n",
       "\t<tr><td>SRR15016131</td><td>RNA-Seq</td><td>50</td><td> 987633100</td><td>PRJNA743073</td><td>SAMN19992390</td><td>403220193</td><td>GEO</td><td>public</td><td>fastq,sra</td><td>⋯</td><td>Schmidtea mediterranea</td><td>ILLUMINA</td><td>2021-09-05T00:00:00Z</td><td>4 feedings</td><td>bmp4  </td><td>GSM5413774</td><td>anterior facing wound fragment</td><td>SRP326526</td><td>CIW4</td><td>24 hpa</td></tr>\n",
       "\t<tr><td>SRR15016132</td><td>RNA-Seq</td><td>50</td><td>1276289650</td><td>PRJNA743073</td><td>SAMN19992363</td><td>515233515</td><td>GEO</td><td>public</td><td>fastq,sra</td><td>⋯</td><td>Schmidtea mediterranea</td><td>ILLUMINA</td><td>2021-09-05T00:00:00Z</td><td>4 feedings</td><td>bmp4  </td><td>GSM5413775</td><td>anterior facing wound fragment</td><td>SRP326526</td><td>CIW4</td><td>24 hpa</td></tr>\n",
       "\t<tr><td>SRR15016133</td><td>RNA-Seq</td><td>50</td><td>1179404000</td><td>PRJNA743073</td><td>SAMN19992389</td><td>483528201</td><td>GEO</td><td>public</td><td>fastq,sra</td><td>⋯</td><td>Schmidtea mediterranea</td><td>ILLUMINA</td><td>2021-09-05T00:00:00Z</td><td>4 feedings</td><td>bmp4  </td><td>GSM5413776</td><td>anterior facing wound fragment</td><td>SRP326526</td><td>CIW4</td><td>48 hpa</td></tr>\n",
       "\t<tr><td>SRR15016134</td><td>RNA-Seq</td><td>50</td><td>1395433550</td><td>PRJNA743073</td><td>SAMN19992388</td><td>576718083</td><td>GEO</td><td>public</td><td>fastq,sra</td><td>⋯</td><td>Schmidtea mediterranea</td><td>ILLUMINA</td><td>2021-09-05T00:00:00Z</td><td>4 feedings</td><td>bmp4  </td><td>GSM5413777</td><td>anterior facing wound fragment</td><td>SRP326526</td><td>CIW4</td><td>48 hpa</td></tr>\n",
       "\t<tr><td>SRR15016135</td><td>RNA-Seq</td><td>50</td><td>1461277800</td><td>PRJNA743073</td><td>SAMN19992224</td><td>600358893</td><td>GEO</td><td>public</td><td>fastq,sra</td><td>⋯</td><td>Schmidtea mediterranea</td><td>ILLUMINA</td><td>2021-09-05T00:00:00Z</td><td>4 feedings</td><td>bmp4  </td><td>GSM5413778</td><td>anterior facing wound fragment</td><td>SRP326526</td><td>CIW4</td><td>48 hpa</td></tr>\n",
       "\t<tr><td>SRR15016136</td><td>RNA-Seq</td><td>50</td><td>1434859800</td><td>PRJNA743073</td><td>SAMN19992223</td><td>588038312</td><td>GEO</td><td>public</td><td>fastq,sra</td><td>⋯</td><td>Schmidtea mediterranea</td><td>ILLUMINA</td><td>2021-09-05T00:00:00Z</td><td>4 feedings</td><td>bmp4  </td><td>GSM5413779</td><td>anterior facing wound fragment</td><td>SRP326526</td><td>CIW4</td><td>48 hpa</td></tr>\n",
       "\t<tr><td>SRR15016137</td><td>RNA-Seq</td><td>50</td><td>1261857750</td><td>PRJNA743073</td><td>SAMN19992222</td><td>517029540</td><td>GEO</td><td>public</td><td>fastq,sra</td><td>⋯</td><td>Schmidtea mediterranea</td><td>ILLUMINA</td><td>2021-09-05T00:00:00Z</td><td>4 feedings</td><td>bmp4  </td><td>GSM5413780</td><td>anterior facing wound fragment</td><td>SRP326526</td><td>CIW4</td><td>48 hpa</td></tr>\n",
       "</tbody>\n",
       "</table>\n"
      ],
      "text/latex": [
       "A data.frame: 60 × 28\n",
       "\\begin{tabular}{lllllllllllllllllllll}\n",
       " Run & Assay.Type & AvgSpotLen & Bases & BioProject & BioSample & Bytes & Center.Name & Consent & DATASTORE.filetype & ⋯ & Organism & Platform & ReleaseDate & RNAi\\_feedings & RNAi & Sample.Name & source\\_name & SRA.Study & strain & time\\\\\n",
       " <chr> & <chr> & <int> & <int> & <chr> & <chr> & <int> & <chr> & <chr> & <chr> & ⋯ & <chr> & <chr> & <chr> & <chr> & <chr> & <chr> & <chr> & <chr> & <chr> & <chr>\\\\\n",
       "\\hline\n",
       "\t SRR15016078 & RNA-Seq & 50 & 1104898700 & PRJNA743073 & SAMN19992351 & 449534748 & GEO & public & fastq,sra & ⋯ & Schmidtea mediterranea & ILLUMINA & 2021-09-05T00:00:00Z & 4 feedings & unc-22 & GSM5413721 & anterior facing wound fragment & SRP326526 & CIW4 & 0 hpa \\\\\n",
       "\t SRR15016079 & RNA-Seq & 50 & 1243862150 & PRJNA743073 & SAMN19992350 & 505773923 & GEO & public & fastq,sra & ⋯ & Schmidtea mediterranea & ILLUMINA & 2021-09-05T00:00:00Z & 4 feedings & unc-22 & GSM5413722 & anterior facing wound fragment & SRP326526 & CIW4 & 0 hpa \\\\\n",
       "\t SRR15016080 & RNA-Seq & 50 & 1095305000 & PRJNA743073 & SAMN19992349 & 449293911 & GEO & public & fastq,sra & ⋯ & Schmidtea mediterranea & ILLUMINA & 2021-09-05T00:00:00Z & 4 feedings & unc-22 & GSM5413723 & anterior facing wound fragment & SRP326526 & CIW4 & 0 hpa \\\\\n",
       "\t SRR15016081 & RNA-Seq & 50 & 1157734150 & PRJNA743073 & SAMN19992348 & 472014186 & GEO & public & fastq,sra & ⋯ & Schmidtea mediterranea & ILLUMINA & 2021-09-05T00:00:00Z & 4 feedings & unc-22 & GSM5413724 & anterior facing wound fragment & SRP326526 & CIW4 & 0 hpa \\\\\n",
       "\t SRR15016082 & RNA-Seq & 50 & 1216355150 & PRJNA743073 & SAMN19992347 & 495950842 & GEO & public & fastq,sra & ⋯ & Schmidtea mediterranea & ILLUMINA & 2021-09-05T00:00:00Z & 4 feedings & unc-22 & GSM5413725 & anterior facing wound fragment & SRP326526 & CIW4 & 0 hpa \\\\\n",
       "\t SRR15016083 & RNA-Seq & 50 & 1013806300 & PRJNA743073 & SAMN19992346 & 428289203 & GEO & public & fastq,sra & ⋯ & Schmidtea mediterranea & ILLUMINA & 2021-09-05T00:00:00Z & 4 feedings & unc-22 & GSM5413726 & anterior facing wound fragment & SRP326526 & CIW4 & 3 hpa \\\\\n",
       "\t SRR15016084 & RNA-Seq & 50 & 1155702350 & PRJNA743073 & SAMN19992345 & 483410722 & GEO & public & fastq,sra & ⋯ & Schmidtea mediterranea & ILLUMINA & 2021-09-05T00:00:00Z & 4 feedings & unc-22 & GSM5413727 & anterior facing wound fragment & SRP326526 & CIW4 & 3 hpa \\\\\n",
       "\t SRR15016085 & RNA-Seq & 50 & 1125055700 & PRJNA743073 & SAMN19992344 & 472431258 & GEO & public & fastq,sra & ⋯ & Schmidtea mediterranea & ILLUMINA & 2021-09-05T00:00:00Z & 4 feedings & unc-22 & GSM5413728 & anterior facing wound fragment & SRP326526 & CIW4 & 3 hpa \\\\\n",
       "\t SRR15016086 & RNA-Seq & 50 & 1311085050 & PRJNA743073 & SAMN19992343 & 546601072 & GEO & public & fastq,sra & ⋯ & Schmidtea mediterranea & ILLUMINA & 2021-09-05T00:00:00Z & 4 feedings & unc-22 & GSM5413729 & anterior facing wound fragment & SRP326526 & CIW4 & 3 hpa \\\\\n",
       "\t SRR15016087 & RNA-Seq & 50 & 1048758600 & PRJNA743073 & SAMN19992342 & 440159258 & GEO & public & fastq,sra & ⋯ & Schmidtea mediterranea & ILLUMINA & 2021-09-05T00:00:00Z & 4 feedings & unc-22 & GSM5413730 & anterior facing wound fragment & SRP326526 & CIW4 & 3 hpa \\\\\n",
       "\t SRR15016088 & RNA-Seq & 50 &  917629700 & PRJNA743073 & SAMN19992341 & 457275088 & GEO & public & fastq,sra & ⋯ & Schmidtea mediterranea & ILLUMINA & 2021-09-05T00:00:00Z & 4 feedings & unc-22 & GSM5413731 & anterior facing wound fragment & SRP326526 & CIW4 & 6 hpa \\\\\n",
       "\t SRR15016089 & RNA-Seq & 50 & 1662458100 & PRJNA743073 & SAMN19992340 & 824813713 & GEO & public & fastq,sra & ⋯ & Schmidtea mediterranea & ILLUMINA & 2021-09-05T00:00:00Z & 4 feedings & unc-22 & GSM5413732 & anterior facing wound fragment & SRP326526 & CIW4 & 6 hpa \\\\\n",
       "\t SRR15016090 & RNA-Seq & 50 &  994433200 & PRJNA743073 & SAMN19992339 & 498856791 & GEO & public & fastq,sra & ⋯ & Schmidtea mediterranea & ILLUMINA & 2021-09-05T00:00:00Z & 4 feedings & unc-22 & GSM5413733 & anterior facing wound fragment & SRP326526 & CIW4 & 6 hpa \\\\\n",
       "\t SRR15016091 & RNA-Seq & 50 & 1224222550 & PRJNA743073 & SAMN19992233 & 610052666 & GEO & public & fastq,sra & ⋯ & Schmidtea mediterranea & ILLUMINA & 2021-09-05T00:00:00Z & 4 feedings & unc-22 & GSM5413734 & anterior facing wound fragment & SRP326526 & CIW4 & 6 hpa \\\\\n",
       "\t SRR15016092 & RNA-Seq & 50 & 1069254750 & PRJNA743073 & SAMN19992232 & 461654635 & GEO & public & fastq,sra & ⋯ & Schmidtea mediterranea & ILLUMINA & 2021-09-05T00:00:00Z & 4 feedings & unc-22 & GSM5413735 & anterior facing wound fragment & SRP326526 & CIW4 & 6 hpa \\\\\n",
       "\t SRR15016093 & RNA-Seq & 50 & 1010852250 & PRJNA743073 & SAMN19992231 & 407130839 & GEO & public & fastq,sra & ⋯ & Schmidtea mediterranea & ILLUMINA & 2021-09-05T00:00:00Z & 4 feedings & unc-22 & GSM5413736 & anterior facing wound fragment & SRP326526 & CIW4 & 16 hpa\\\\\n",
       "\t SRR15016094 & RNA-Seq & 50 & 1067728550 & PRJNA743073 & SAMN19992230 & 429190671 & GEO & public & fastq,sra & ⋯ & Schmidtea mediterranea & ILLUMINA & 2021-09-05T00:00:00Z & 4 feedings & unc-22 & GSM5413737 & anterior facing wound fragment & SRP326526 & CIW4 & 16 hpa\\\\\n",
       "\t SRR15016095 & RNA-Seq & 50 & 1192935700 & PRJNA743073 & SAMN19992229 & 483672783 & GEO & public & fastq,sra & ⋯ & Schmidtea mediterranea & ILLUMINA & 2021-09-05T00:00:00Z & 4 feedings & unc-22 & GSM5413738 & anterior facing wound fragment & SRP326526 & CIW4 & 16 hpa\\\\\n",
       "\t SRR15016096 & RNA-Seq & 50 & 1382669200 & PRJNA743073 & SAMN19992228 & 555564819 & GEO & public & fastq,sra & ⋯ & Schmidtea mediterranea & ILLUMINA & 2021-09-05T00:00:00Z & 4 feedings & unc-22 & GSM5413739 & anterior facing wound fragment & SRP326526 & CIW4 & 16 hpa\\\\\n",
       "\t SRR15016097 & RNA-Seq & 50 & 1218123300 & PRJNA743073 & SAMN19992227 & 490315227 & GEO & public & fastq,sra & ⋯ & Schmidtea mediterranea & ILLUMINA & 2021-09-05T00:00:00Z & 4 feedings & unc-22 & GSM5413740 & anterior facing wound fragment & SRP326526 & CIW4 & 16 hpa\\\\\n",
       "\t SRR15016098 & RNA-Seq & 50 & 1082369550 & PRJNA743073 & SAMN19992385 & 441533633 & GEO & public & fastq,sra & ⋯ & Schmidtea mediterranea & ILLUMINA & 2021-09-05T00:00:00Z & 4 feedings & unc-22 & GSM5413741 & anterior facing wound fragment & SRP326526 & CIW4 & 24 hpa\\\\\n",
       "\t SRR15016099 & RNA-Seq & 50 & 1204730400 & PRJNA743073 & SAMN19992384 & 485933379 & GEO & public & fastq,sra & ⋯ & Schmidtea mediterranea & ILLUMINA & 2021-09-05T00:00:00Z & 4 feedings & unc-22 & GSM5413742 & anterior facing wound fragment & SRP326526 & CIW4 & 24 hpa\\\\\n",
       "\t SRR15016100 & RNA-Seq & 50 & 1117442350 & PRJNA743073 & SAMN19992383 & 452551378 & GEO & public & fastq,sra & ⋯ & Schmidtea mediterranea & ILLUMINA & 2021-09-05T00:00:00Z & 4 feedings & unc-22 & GSM5413743 & anterior facing wound fragment & SRP326526 & CIW4 & 24 hpa\\\\\n",
       "\t SRR15016101 & RNA-Seq & 50 & 1332006350 & PRJNA743073 & SAMN19992382 & 535579680 & GEO & public & fastq,sra & ⋯ & Schmidtea mediterranea & ILLUMINA & 2021-09-05T00:00:00Z & 4 feedings & unc-22 & GSM5413744 & anterior facing wound fragment & SRP326526 & CIW4 & 24 hpa\\\\\n",
       "\t SRR15016102 & RNA-Seq & 50 & 1060427900 & PRJNA743073 & SAMN19992226 & 427874943 & GEO & public & fastq,sra & ⋯ & Schmidtea mediterranea & ILLUMINA & 2021-09-05T00:00:00Z & 4 feedings & unc-22 & GSM5413745 & anterior facing wound fragment & SRP326526 & CIW4 & 24 hpa\\\\\n",
       "\t SRR15016103 & RNA-Seq & 50 & 1219889950 & PRJNA743073 & SAMN19992225 & 500043904 & GEO & public & fastq,sra & ⋯ & Schmidtea mediterranea & ILLUMINA & 2021-09-05T00:00:00Z & 4 feedings & unc-22 & GSM5413746 & anterior facing wound fragment & SRP326526 & CIW4 & 48 hpa\\\\\n",
       "\t SRR15016104 & RNA-Seq & 50 & 1233611900 & PRJNA743073 & SAMN19992387 & 505216865 & GEO & public & fastq,sra & ⋯ & Schmidtea mediterranea & ILLUMINA & 2021-09-05T00:00:00Z & 4 feedings & unc-22 & GSM5413747 & anterior facing wound fragment & SRP326526 & CIW4 & 48 hpa\\\\\n",
       "\t SRR15016105 & RNA-Seq & 50 & 1030170850 & PRJNA743073 & SAMN19992386 & 424215998 & GEO & public & fastq,sra & ⋯ & Schmidtea mediterranea & ILLUMINA & 2021-09-05T00:00:00Z & 4 feedings & unc-22 & GSM5413748 & anterior facing wound fragment & SRP326526 & CIW4 & 48 hpa\\\\\n",
       "\t SRR15016106 & RNA-Seq & 50 &  991444650 & PRJNA743073 & SAMN19992381 & 407669674 & GEO & public & fastq,sra & ⋯ & Schmidtea mediterranea & ILLUMINA & 2021-09-05T00:00:00Z & 4 feedings & unc-22 & GSM5413749 & anterior facing wound fragment & SRP326526 & CIW4 & 48 hpa\\\\\n",
       "\t SRR15016107 & RNA-Seq & 50 & 1119079600 & PRJNA743073 & SAMN19992380 & 458113242 & GEO & public & fastq,sra & ⋯ & Schmidtea mediterranea & ILLUMINA & 2021-09-05T00:00:00Z & 4 feedings & unc-22 & GSM5413750 & anterior facing wound fragment & SRP326526 & CIW4 & 48 hpa\\\\\n",
       "\t SRR15016108 & RNA-Seq & 50 & 1467089550 & PRJNA743073 & SAMN19992379 & 593434678 & GEO & public & fastq,sra & ⋯ & Schmidtea mediterranea & ILLUMINA & 2021-09-05T00:00:00Z & 4 feedings & bmp4   & GSM5413751 & anterior facing wound fragment & SRP326526 & CIW4 & 0 hpa \\\\\n",
       "\t SRR15016109 & RNA-Seq & 50 & 1263571700 & PRJNA743073 & SAMN19992378 & 513051408 & GEO & public & fastq,sra & ⋯ & Schmidtea mediterranea & ILLUMINA & 2021-09-05T00:00:00Z & 4 feedings & bmp4   & GSM5413752 & anterior facing wound fragment & SRP326526 & CIW4 & 0 hpa \\\\\n",
       "\t SRR15016110 & RNA-Seq & 50 & 1131520000 & PRJNA743073 & SAMN19992377 & 459381687 & GEO & public & fastq,sra & ⋯ & Schmidtea mediterranea & ILLUMINA & 2021-09-05T00:00:00Z & 4 feedings & bmp4   & GSM5413753 & anterior facing wound fragment & SRP326526 & CIW4 & 0 hpa \\\\\n",
       "\t SRR15016111 & RNA-Seq & 50 & 1122201300 & PRJNA743073 & SAMN19992376 & 459206805 & GEO & public & fastq,sra & ⋯ & Schmidtea mediterranea & ILLUMINA & 2021-09-05T00:00:00Z & 4 feedings & bmp4   & GSM5413754 & anterior facing wound fragment & SRP326526 & CIW4 & 0 hpa \\\\\n",
       "\t SRR15016112 & RNA-Seq & 50 & 1255017750 & PRJNA743073 & SAMN19992375 & 512349964 & GEO & public & fastq,sra & ⋯ & Schmidtea mediterranea & ILLUMINA & 2021-09-05T00:00:00Z & 4 feedings & bmp4   & GSM5413755 & anterior facing wound fragment & SRP326526 & CIW4 & 0 hpa \\\\\n",
       "\t SRR15016113 & RNA-Seq & 50 & 1078122450 & PRJNA743073 & SAMN19992374 & 451532698 & GEO & public & fastq,sra & ⋯ & Schmidtea mediterranea & ILLUMINA & 2021-09-05T00:00:00Z & 4 feedings & bmp4   & GSM5413756 & anterior facing wound fragment & SRP326526 & CIW4 & 3 hpa \\\\\n",
       "\t SRR15016114 & RNA-Seq & 50 &  894109100 & PRJNA743073 & SAMN19992373 & 453248848 & GEO & public & fastq,sra & ⋯ & Schmidtea mediterranea & ILLUMINA & 2021-09-05T00:00:00Z & 4 feedings & bmp4   & GSM5413757 & anterior facing wound fragment & SRP326526 & CIW4 & 3 hpa \\\\\n",
       "\t SRR15016115 & RNA-Seq & 50 & 1080877650 & PRJNA743073 & SAMN19992372 & 546945199 & GEO & public & fastq,sra & ⋯ & Schmidtea mediterranea & ILLUMINA & 2021-09-05T00:00:00Z & 4 feedings & bmp4   & GSM5413758 & anterior facing wound fragment & SRP326526 & CIW4 & 3 hpa \\\\\n",
       "\t SRR15016116 & RNA-Seq & 50 &  436937950 & PRJNA743073 & SAMN19992371 & 224597185 & GEO & public & fastq,sra & ⋯ & Schmidtea mediterranea & ILLUMINA & 2021-09-05T00:00:00Z & 4 feedings & bmp4   & GSM5413759 & anterior facing wound fragment & SRP326526 & CIW4 & 3 hpa \\\\\n",
       "\t SRR15016117 & RNA-Seq & 50 & 1289751500 & PRJNA743073 & SAMN19992370 & 651374046 & GEO & public & fastq,sra & ⋯ & Schmidtea mediterranea & ILLUMINA & 2021-09-05T00:00:00Z & 4 feedings & bmp4   & GSM5413760 & anterior facing wound fragment & SRP326526 & CIW4 & 3 hpa \\\\\n",
       "\t SRR15016118 & RNA-Seq & 50 & 1283614750 & PRJNA743073 & SAMN19992369 & 555013217 & GEO & public & fastq,sra & ⋯ & Schmidtea mediterranea & ILLUMINA & 2021-09-05T00:00:00Z & 4 feedings & bmp4   & GSM5413761 & anterior facing wound fragment & SRP326526 & CIW4 & 6 hpa \\\\\n",
       "\t SRR15016119 & RNA-Seq & 50 & 1039125000 & PRJNA743073 & SAMN19992368 & 454762627 & GEO & public & fastq,sra & ⋯ & Schmidtea mediterranea & ILLUMINA & 2021-09-05T00:00:00Z & 4 feedings & bmp4   & GSM5413762 & anterior facing wound fragment & SRP326526 & CIW4 & 6 hpa \\\\\n",
       "\t SRR15016120 & RNA-Seq & 50 & 1219640100 & PRJNA743073 & SAMN19992367 & 526948544 & GEO & public & fastq,sra & ⋯ & Schmidtea mediterranea & ILLUMINA & 2021-09-05T00:00:00Z & 4 feedings & bmp4   & GSM5413763 & anterior facing wound fragment & SRP326526 & CIW4 & 6 hpa \\\\\n",
       "\t SRR15016121 & RNA-Seq & 50 & 1105447700 & PRJNA743073 & SAMN19992366 & 476614341 & GEO & public & fastq,sra & ⋯ & Schmidtea mediterranea & ILLUMINA & 2021-09-05T00:00:00Z & 4 feedings & bmp4   & GSM5413764 & anterior facing wound fragment & SRP326526 & CIW4 & 6 hpa \\\\\n",
       "\t SRR15016122 & RNA-Seq & 50 & 1402712100 & PRJNA743073 & SAMN19992365 & 604961015 & GEO & public & fastq,sra & ⋯ & Schmidtea mediterranea & ILLUMINA & 2021-09-05T00:00:00Z & 4 feedings & bmp4   & GSM5413765 & anterior facing wound fragment & SRP326526 & CIW4 & 6 hpa \\\\\n",
       "\t SRR15016123 & RNA-Seq & 50 & 1376423000 & PRJNA743073 & SAMN19992364 & 552437926 & GEO & public & fastq,sra & ⋯ & Schmidtea mediterranea & ILLUMINA & 2021-09-05T00:00:00Z & 4 feedings & bmp4   & GSM5413766 & anterior facing wound fragment & SRP326526 & CIW4 & 16 hpa\\\\\n",
       "\t SRR15016124 & RNA-Seq & 50 &  941465400 & PRJNA743073 & SAMN19992362 & 379387545 & GEO & public & fastq,sra & ⋯ & Schmidtea mediterranea & ILLUMINA & 2021-09-05T00:00:00Z & 4 feedings & bmp4   & GSM5413767 & anterior facing wound fragment & SRP326526 & CIW4 & 16 hpa\\\\\n",
       "\t SRR15016125 & RNA-Seq & 50 & 1083120450 & PRJNA743073 & SAMN19992361 & 434965014 & GEO & public & fastq,sra & ⋯ & Schmidtea mediterranea & ILLUMINA & 2021-09-05T00:00:00Z & 4 feedings & bmp4   & GSM5413768 & anterior facing wound fragment & SRP326526 & CIW4 & 16 hpa\\\\\n",
       "\t SRR15016126 & RNA-Seq & 50 &  866651200 & PRJNA743073 & SAMN19992360 & 351817854 & GEO & public & fastq,sra & ⋯ & Schmidtea mediterranea & ILLUMINA & 2021-09-05T00:00:00Z & 4 feedings & bmp4   & GSM5413769 & anterior facing wound fragment & SRP326526 & CIW4 & 16 hpa\\\\\n",
       "\t SRR15016127 & RNA-Seq & 50 &  953492050 & PRJNA743073 & SAMN19992359 & 384020268 & GEO & public & fastq,sra & ⋯ & Schmidtea mediterranea & ILLUMINA & 2021-09-05T00:00:00Z & 4 feedings & bmp4   & GSM5413770 & anterior facing wound fragment & SRP326526 & CIW4 & 16 hpa\\\\\n",
       "\t SRR15016128 & RNA-Seq & 50 &  995832250 & PRJNA743073 & SAMN19992358 & 401851886 & GEO & public & fastq,sra & ⋯ & Schmidtea mediterranea & ILLUMINA & 2021-09-05T00:00:00Z & 4 feedings & bmp4   & GSM5413771 & anterior facing wound fragment & SRP326526 & CIW4 & 24 hpa\\\\\n",
       "\t SRR15016129 & RNA-Seq & 50 &  951668050 & PRJNA743073 & SAMN19992357 & 383229543 & GEO & public & fastq,sra & ⋯ & Schmidtea mediterranea & ILLUMINA & 2021-09-05T00:00:00Z & 4 feedings & bmp4   & GSM5413772 & anterior facing wound fragment & SRP326526 & CIW4 & 24 hpa\\\\\n",
       "\t SRR15016130 & RNA-Seq & 50 & 1101140400 & PRJNA743073 & SAMN19992391 & 443325290 & GEO & public & fastq,sra & ⋯ & Schmidtea mediterranea & ILLUMINA & 2021-09-05T00:00:00Z & 4 feedings & bmp4   & GSM5413773 & anterior facing wound fragment & SRP326526 & CIW4 & 24 hpa\\\\\n",
       "\t SRR15016131 & RNA-Seq & 50 &  987633100 & PRJNA743073 & SAMN19992390 & 403220193 & GEO & public & fastq,sra & ⋯ & Schmidtea mediterranea & ILLUMINA & 2021-09-05T00:00:00Z & 4 feedings & bmp4   & GSM5413774 & anterior facing wound fragment & SRP326526 & CIW4 & 24 hpa\\\\\n",
       "\t SRR15016132 & RNA-Seq & 50 & 1276289650 & PRJNA743073 & SAMN19992363 & 515233515 & GEO & public & fastq,sra & ⋯ & Schmidtea mediterranea & ILLUMINA & 2021-09-05T00:00:00Z & 4 feedings & bmp4   & GSM5413775 & anterior facing wound fragment & SRP326526 & CIW4 & 24 hpa\\\\\n",
       "\t SRR15016133 & RNA-Seq & 50 & 1179404000 & PRJNA743073 & SAMN19992389 & 483528201 & GEO & public & fastq,sra & ⋯ & Schmidtea mediterranea & ILLUMINA & 2021-09-05T00:00:00Z & 4 feedings & bmp4   & GSM5413776 & anterior facing wound fragment & SRP326526 & CIW4 & 48 hpa\\\\\n",
       "\t SRR15016134 & RNA-Seq & 50 & 1395433550 & PRJNA743073 & SAMN19992388 & 576718083 & GEO & public & fastq,sra & ⋯ & Schmidtea mediterranea & ILLUMINA & 2021-09-05T00:00:00Z & 4 feedings & bmp4   & GSM5413777 & anterior facing wound fragment & SRP326526 & CIW4 & 48 hpa\\\\\n",
       "\t SRR15016135 & RNA-Seq & 50 & 1461277800 & PRJNA743073 & SAMN19992224 & 600358893 & GEO & public & fastq,sra & ⋯ & Schmidtea mediterranea & ILLUMINA & 2021-09-05T00:00:00Z & 4 feedings & bmp4   & GSM5413778 & anterior facing wound fragment & SRP326526 & CIW4 & 48 hpa\\\\\n",
       "\t SRR15016136 & RNA-Seq & 50 & 1434859800 & PRJNA743073 & SAMN19992223 & 588038312 & GEO & public & fastq,sra & ⋯ & Schmidtea mediterranea & ILLUMINA & 2021-09-05T00:00:00Z & 4 feedings & bmp4   & GSM5413779 & anterior facing wound fragment & SRP326526 & CIW4 & 48 hpa\\\\\n",
       "\t SRR15016137 & RNA-Seq & 50 & 1261857750 & PRJNA743073 & SAMN19992222 & 517029540 & GEO & public & fastq,sra & ⋯ & Schmidtea mediterranea & ILLUMINA & 2021-09-05T00:00:00Z & 4 feedings & bmp4   & GSM5413780 & anterior facing wound fragment & SRP326526 & CIW4 & 48 hpa\\\\\n",
       "\\end{tabular}\n"
      ],
      "text/markdown": [
       "\n",
       "A data.frame: 60 × 28\n",
       "\n",
       "| Run &lt;chr&gt; | Assay.Type &lt;chr&gt; | AvgSpotLen &lt;int&gt; | Bases &lt;int&gt; | BioProject &lt;chr&gt; | BioSample &lt;chr&gt; | Bytes &lt;int&gt; | Center.Name &lt;chr&gt; | Consent &lt;chr&gt; | DATASTORE.filetype &lt;chr&gt; | ⋯ ⋯ | Organism &lt;chr&gt; | Platform &lt;chr&gt; | ReleaseDate &lt;chr&gt; | RNAi_feedings &lt;chr&gt; | RNAi &lt;chr&gt; | Sample.Name &lt;chr&gt; | source_name &lt;chr&gt; | SRA.Study &lt;chr&gt; | strain &lt;chr&gt; | time &lt;chr&gt; |\n",
       "|---|---|---|---|---|---|---|---|---|---|---|---|---|---|---|---|---|---|---|---|---|\n",
       "| SRR15016078 | RNA-Seq | 50 | 1104898700 | PRJNA743073 | SAMN19992351 | 449534748 | GEO | public | fastq,sra | ⋯ | Schmidtea mediterranea | ILLUMINA | 2021-09-05T00:00:00Z | 4 feedings | unc-22 | GSM5413721 | anterior facing wound fragment | SRP326526 | CIW4 | 0 hpa  |\n",
       "| SRR15016079 | RNA-Seq | 50 | 1243862150 | PRJNA743073 | SAMN19992350 | 505773923 | GEO | public | fastq,sra | ⋯ | Schmidtea mediterranea | ILLUMINA | 2021-09-05T00:00:00Z | 4 feedings | unc-22 | GSM5413722 | anterior facing wound fragment | SRP326526 | CIW4 | 0 hpa  |\n",
       "| SRR15016080 | RNA-Seq | 50 | 1095305000 | PRJNA743073 | SAMN19992349 | 449293911 | GEO | public | fastq,sra | ⋯ | Schmidtea mediterranea | ILLUMINA | 2021-09-05T00:00:00Z | 4 feedings | unc-22 | GSM5413723 | anterior facing wound fragment | SRP326526 | CIW4 | 0 hpa  |\n",
       "| SRR15016081 | RNA-Seq | 50 | 1157734150 | PRJNA743073 | SAMN19992348 | 472014186 | GEO | public | fastq,sra | ⋯ | Schmidtea mediterranea | ILLUMINA | 2021-09-05T00:00:00Z | 4 feedings | unc-22 | GSM5413724 | anterior facing wound fragment | SRP326526 | CIW4 | 0 hpa  |\n",
       "| SRR15016082 | RNA-Seq | 50 | 1216355150 | PRJNA743073 | SAMN19992347 | 495950842 | GEO | public | fastq,sra | ⋯ | Schmidtea mediterranea | ILLUMINA | 2021-09-05T00:00:00Z | 4 feedings | unc-22 | GSM5413725 | anterior facing wound fragment | SRP326526 | CIW4 | 0 hpa  |\n",
       "| SRR15016083 | RNA-Seq | 50 | 1013806300 | PRJNA743073 | SAMN19992346 | 428289203 | GEO | public | fastq,sra | ⋯ | Schmidtea mediterranea | ILLUMINA | 2021-09-05T00:00:00Z | 4 feedings | unc-22 | GSM5413726 | anterior facing wound fragment | SRP326526 | CIW4 | 3 hpa  |\n",
       "| SRR15016084 | RNA-Seq | 50 | 1155702350 | PRJNA743073 | SAMN19992345 | 483410722 | GEO | public | fastq,sra | ⋯ | Schmidtea mediterranea | ILLUMINA | 2021-09-05T00:00:00Z | 4 feedings | unc-22 | GSM5413727 | anterior facing wound fragment | SRP326526 | CIW4 | 3 hpa  |\n",
       "| SRR15016085 | RNA-Seq | 50 | 1125055700 | PRJNA743073 | SAMN19992344 | 472431258 | GEO | public | fastq,sra | ⋯ | Schmidtea mediterranea | ILLUMINA | 2021-09-05T00:00:00Z | 4 feedings | unc-22 | GSM5413728 | anterior facing wound fragment | SRP326526 | CIW4 | 3 hpa  |\n",
       "| SRR15016086 | RNA-Seq | 50 | 1311085050 | PRJNA743073 | SAMN19992343 | 546601072 | GEO | public | fastq,sra | ⋯ | Schmidtea mediterranea | ILLUMINA | 2021-09-05T00:00:00Z | 4 feedings | unc-22 | GSM5413729 | anterior facing wound fragment | SRP326526 | CIW4 | 3 hpa  |\n",
       "| SRR15016087 | RNA-Seq | 50 | 1048758600 | PRJNA743073 | SAMN19992342 | 440159258 | GEO | public | fastq,sra | ⋯ | Schmidtea mediterranea | ILLUMINA | 2021-09-05T00:00:00Z | 4 feedings | unc-22 | GSM5413730 | anterior facing wound fragment | SRP326526 | CIW4 | 3 hpa  |\n",
       "| SRR15016088 | RNA-Seq | 50 |  917629700 | PRJNA743073 | SAMN19992341 | 457275088 | GEO | public | fastq,sra | ⋯ | Schmidtea mediterranea | ILLUMINA | 2021-09-05T00:00:00Z | 4 feedings | unc-22 | GSM5413731 | anterior facing wound fragment | SRP326526 | CIW4 | 6 hpa  |\n",
       "| SRR15016089 | RNA-Seq | 50 | 1662458100 | PRJNA743073 | SAMN19992340 | 824813713 | GEO | public | fastq,sra | ⋯ | Schmidtea mediterranea | ILLUMINA | 2021-09-05T00:00:00Z | 4 feedings | unc-22 | GSM5413732 | anterior facing wound fragment | SRP326526 | CIW4 | 6 hpa  |\n",
       "| SRR15016090 | RNA-Seq | 50 |  994433200 | PRJNA743073 | SAMN19992339 | 498856791 | GEO | public | fastq,sra | ⋯ | Schmidtea mediterranea | ILLUMINA | 2021-09-05T00:00:00Z | 4 feedings | unc-22 | GSM5413733 | anterior facing wound fragment | SRP326526 | CIW4 | 6 hpa  |\n",
       "| SRR15016091 | RNA-Seq | 50 | 1224222550 | PRJNA743073 | SAMN19992233 | 610052666 | GEO | public | fastq,sra | ⋯ | Schmidtea mediterranea | ILLUMINA | 2021-09-05T00:00:00Z | 4 feedings | unc-22 | GSM5413734 | anterior facing wound fragment | SRP326526 | CIW4 | 6 hpa  |\n",
       "| SRR15016092 | RNA-Seq | 50 | 1069254750 | PRJNA743073 | SAMN19992232 | 461654635 | GEO | public | fastq,sra | ⋯ | Schmidtea mediterranea | ILLUMINA | 2021-09-05T00:00:00Z | 4 feedings | unc-22 | GSM5413735 | anterior facing wound fragment | SRP326526 | CIW4 | 6 hpa  |\n",
       "| SRR15016093 | RNA-Seq | 50 | 1010852250 | PRJNA743073 | SAMN19992231 | 407130839 | GEO | public | fastq,sra | ⋯ | Schmidtea mediterranea | ILLUMINA | 2021-09-05T00:00:00Z | 4 feedings | unc-22 | GSM5413736 | anterior facing wound fragment | SRP326526 | CIW4 | 16 hpa |\n",
       "| SRR15016094 | RNA-Seq | 50 | 1067728550 | PRJNA743073 | SAMN19992230 | 429190671 | GEO | public | fastq,sra | ⋯ | Schmidtea mediterranea | ILLUMINA | 2021-09-05T00:00:00Z | 4 feedings | unc-22 | GSM5413737 | anterior facing wound fragment | SRP326526 | CIW4 | 16 hpa |\n",
       "| SRR15016095 | RNA-Seq | 50 | 1192935700 | PRJNA743073 | SAMN19992229 | 483672783 | GEO | public | fastq,sra | ⋯ | Schmidtea mediterranea | ILLUMINA | 2021-09-05T00:00:00Z | 4 feedings | unc-22 | GSM5413738 | anterior facing wound fragment | SRP326526 | CIW4 | 16 hpa |\n",
       "| SRR15016096 | RNA-Seq | 50 | 1382669200 | PRJNA743073 | SAMN19992228 | 555564819 | GEO | public | fastq,sra | ⋯ | Schmidtea mediterranea | ILLUMINA | 2021-09-05T00:00:00Z | 4 feedings | unc-22 | GSM5413739 | anterior facing wound fragment | SRP326526 | CIW4 | 16 hpa |\n",
       "| SRR15016097 | RNA-Seq | 50 | 1218123300 | PRJNA743073 | SAMN19992227 | 490315227 | GEO | public | fastq,sra | ⋯ | Schmidtea mediterranea | ILLUMINA | 2021-09-05T00:00:00Z | 4 feedings | unc-22 | GSM5413740 | anterior facing wound fragment | SRP326526 | CIW4 | 16 hpa |\n",
       "| SRR15016098 | RNA-Seq | 50 | 1082369550 | PRJNA743073 | SAMN19992385 | 441533633 | GEO | public | fastq,sra | ⋯ | Schmidtea mediterranea | ILLUMINA | 2021-09-05T00:00:00Z | 4 feedings | unc-22 | GSM5413741 | anterior facing wound fragment | SRP326526 | CIW4 | 24 hpa |\n",
       "| SRR15016099 | RNA-Seq | 50 | 1204730400 | PRJNA743073 | SAMN19992384 | 485933379 | GEO | public | fastq,sra | ⋯ | Schmidtea mediterranea | ILLUMINA | 2021-09-05T00:00:00Z | 4 feedings | unc-22 | GSM5413742 | anterior facing wound fragment | SRP326526 | CIW4 | 24 hpa |\n",
       "| SRR15016100 | RNA-Seq | 50 | 1117442350 | PRJNA743073 | SAMN19992383 | 452551378 | GEO | public | fastq,sra | ⋯ | Schmidtea mediterranea | ILLUMINA | 2021-09-05T00:00:00Z | 4 feedings | unc-22 | GSM5413743 | anterior facing wound fragment | SRP326526 | CIW4 | 24 hpa |\n",
       "| SRR15016101 | RNA-Seq | 50 | 1332006350 | PRJNA743073 | SAMN19992382 | 535579680 | GEO | public | fastq,sra | ⋯ | Schmidtea mediterranea | ILLUMINA | 2021-09-05T00:00:00Z | 4 feedings | unc-22 | GSM5413744 | anterior facing wound fragment | SRP326526 | CIW4 | 24 hpa |\n",
       "| SRR15016102 | RNA-Seq | 50 | 1060427900 | PRJNA743073 | SAMN19992226 | 427874943 | GEO | public | fastq,sra | ⋯ | Schmidtea mediterranea | ILLUMINA | 2021-09-05T00:00:00Z | 4 feedings | unc-22 | GSM5413745 | anterior facing wound fragment | SRP326526 | CIW4 | 24 hpa |\n",
       "| SRR15016103 | RNA-Seq | 50 | 1219889950 | PRJNA743073 | SAMN19992225 | 500043904 | GEO | public | fastq,sra | ⋯ | Schmidtea mediterranea | ILLUMINA | 2021-09-05T00:00:00Z | 4 feedings | unc-22 | GSM5413746 | anterior facing wound fragment | SRP326526 | CIW4 | 48 hpa |\n",
       "| SRR15016104 | RNA-Seq | 50 | 1233611900 | PRJNA743073 | SAMN19992387 | 505216865 | GEO | public | fastq,sra | ⋯ | Schmidtea mediterranea | ILLUMINA | 2021-09-05T00:00:00Z | 4 feedings | unc-22 | GSM5413747 | anterior facing wound fragment | SRP326526 | CIW4 | 48 hpa |\n",
       "| SRR15016105 | RNA-Seq | 50 | 1030170850 | PRJNA743073 | SAMN19992386 | 424215998 | GEO | public | fastq,sra | ⋯ | Schmidtea mediterranea | ILLUMINA | 2021-09-05T00:00:00Z | 4 feedings | unc-22 | GSM5413748 | anterior facing wound fragment | SRP326526 | CIW4 | 48 hpa |\n",
       "| SRR15016106 | RNA-Seq | 50 |  991444650 | PRJNA743073 | SAMN19992381 | 407669674 | GEO | public | fastq,sra | ⋯ | Schmidtea mediterranea | ILLUMINA | 2021-09-05T00:00:00Z | 4 feedings | unc-22 | GSM5413749 | anterior facing wound fragment | SRP326526 | CIW4 | 48 hpa |\n",
       "| SRR15016107 | RNA-Seq | 50 | 1119079600 | PRJNA743073 | SAMN19992380 | 458113242 | GEO | public | fastq,sra | ⋯ | Schmidtea mediterranea | ILLUMINA | 2021-09-05T00:00:00Z | 4 feedings | unc-22 | GSM5413750 | anterior facing wound fragment | SRP326526 | CIW4 | 48 hpa |\n",
       "| SRR15016108 | RNA-Seq | 50 | 1467089550 | PRJNA743073 | SAMN19992379 | 593434678 | GEO | public | fastq,sra | ⋯ | Schmidtea mediterranea | ILLUMINA | 2021-09-05T00:00:00Z | 4 feedings | bmp4   | GSM5413751 | anterior facing wound fragment | SRP326526 | CIW4 | 0 hpa  |\n",
       "| SRR15016109 | RNA-Seq | 50 | 1263571700 | PRJNA743073 | SAMN19992378 | 513051408 | GEO | public | fastq,sra | ⋯ | Schmidtea mediterranea | ILLUMINA | 2021-09-05T00:00:00Z | 4 feedings | bmp4   | GSM5413752 | anterior facing wound fragment | SRP326526 | CIW4 | 0 hpa  |\n",
       "| SRR15016110 | RNA-Seq | 50 | 1131520000 | PRJNA743073 | SAMN19992377 | 459381687 | GEO | public | fastq,sra | ⋯ | Schmidtea mediterranea | ILLUMINA | 2021-09-05T00:00:00Z | 4 feedings | bmp4   | GSM5413753 | anterior facing wound fragment | SRP326526 | CIW4 | 0 hpa  |\n",
       "| SRR15016111 | RNA-Seq | 50 | 1122201300 | PRJNA743073 | SAMN19992376 | 459206805 | GEO | public | fastq,sra | ⋯ | Schmidtea mediterranea | ILLUMINA | 2021-09-05T00:00:00Z | 4 feedings | bmp4   | GSM5413754 | anterior facing wound fragment | SRP326526 | CIW4 | 0 hpa  |\n",
       "| SRR15016112 | RNA-Seq | 50 | 1255017750 | PRJNA743073 | SAMN19992375 | 512349964 | GEO | public | fastq,sra | ⋯ | Schmidtea mediterranea | ILLUMINA | 2021-09-05T00:00:00Z | 4 feedings | bmp4   | GSM5413755 | anterior facing wound fragment | SRP326526 | CIW4 | 0 hpa  |\n",
       "| SRR15016113 | RNA-Seq | 50 | 1078122450 | PRJNA743073 | SAMN19992374 | 451532698 | GEO | public | fastq,sra | ⋯ | Schmidtea mediterranea | ILLUMINA | 2021-09-05T00:00:00Z | 4 feedings | bmp4   | GSM5413756 | anterior facing wound fragment | SRP326526 | CIW4 | 3 hpa  |\n",
       "| SRR15016114 | RNA-Seq | 50 |  894109100 | PRJNA743073 | SAMN19992373 | 453248848 | GEO | public | fastq,sra | ⋯ | Schmidtea mediterranea | ILLUMINA | 2021-09-05T00:00:00Z | 4 feedings | bmp4   | GSM5413757 | anterior facing wound fragment | SRP326526 | CIW4 | 3 hpa  |\n",
       "| SRR15016115 | RNA-Seq | 50 | 1080877650 | PRJNA743073 | SAMN19992372 | 546945199 | GEO | public | fastq,sra | ⋯ | Schmidtea mediterranea | ILLUMINA | 2021-09-05T00:00:00Z | 4 feedings | bmp4   | GSM5413758 | anterior facing wound fragment | SRP326526 | CIW4 | 3 hpa  |\n",
       "| SRR15016116 | RNA-Seq | 50 |  436937950 | PRJNA743073 | SAMN19992371 | 224597185 | GEO | public | fastq,sra | ⋯ | Schmidtea mediterranea | ILLUMINA | 2021-09-05T00:00:00Z | 4 feedings | bmp4   | GSM5413759 | anterior facing wound fragment | SRP326526 | CIW4 | 3 hpa  |\n",
       "| SRR15016117 | RNA-Seq | 50 | 1289751500 | PRJNA743073 | SAMN19992370 | 651374046 | GEO | public | fastq,sra | ⋯ | Schmidtea mediterranea | ILLUMINA | 2021-09-05T00:00:00Z | 4 feedings | bmp4   | GSM5413760 | anterior facing wound fragment | SRP326526 | CIW4 | 3 hpa  |\n",
       "| SRR15016118 | RNA-Seq | 50 | 1283614750 | PRJNA743073 | SAMN19992369 | 555013217 | GEO | public | fastq,sra | ⋯ | Schmidtea mediterranea | ILLUMINA | 2021-09-05T00:00:00Z | 4 feedings | bmp4   | GSM5413761 | anterior facing wound fragment | SRP326526 | CIW4 | 6 hpa  |\n",
       "| SRR15016119 | RNA-Seq | 50 | 1039125000 | PRJNA743073 | SAMN19992368 | 454762627 | GEO | public | fastq,sra | ⋯ | Schmidtea mediterranea | ILLUMINA | 2021-09-05T00:00:00Z | 4 feedings | bmp4   | GSM5413762 | anterior facing wound fragment | SRP326526 | CIW4 | 6 hpa  |\n",
       "| SRR15016120 | RNA-Seq | 50 | 1219640100 | PRJNA743073 | SAMN19992367 | 526948544 | GEO | public | fastq,sra | ⋯ | Schmidtea mediterranea | ILLUMINA | 2021-09-05T00:00:00Z | 4 feedings | bmp4   | GSM5413763 | anterior facing wound fragment | SRP326526 | CIW4 | 6 hpa  |\n",
       "| SRR15016121 | RNA-Seq | 50 | 1105447700 | PRJNA743073 | SAMN19992366 | 476614341 | GEO | public | fastq,sra | ⋯ | Schmidtea mediterranea | ILLUMINA | 2021-09-05T00:00:00Z | 4 feedings | bmp4   | GSM5413764 | anterior facing wound fragment | SRP326526 | CIW4 | 6 hpa  |\n",
       "| SRR15016122 | RNA-Seq | 50 | 1402712100 | PRJNA743073 | SAMN19992365 | 604961015 | GEO | public | fastq,sra | ⋯ | Schmidtea mediterranea | ILLUMINA | 2021-09-05T00:00:00Z | 4 feedings | bmp4   | GSM5413765 | anterior facing wound fragment | SRP326526 | CIW4 | 6 hpa  |\n",
       "| SRR15016123 | RNA-Seq | 50 | 1376423000 | PRJNA743073 | SAMN19992364 | 552437926 | GEO | public | fastq,sra | ⋯ | Schmidtea mediterranea | ILLUMINA | 2021-09-05T00:00:00Z | 4 feedings | bmp4   | GSM5413766 | anterior facing wound fragment | SRP326526 | CIW4 | 16 hpa |\n",
       "| SRR15016124 | RNA-Seq | 50 |  941465400 | PRJNA743073 | SAMN19992362 | 379387545 | GEO | public | fastq,sra | ⋯ | Schmidtea mediterranea | ILLUMINA | 2021-09-05T00:00:00Z | 4 feedings | bmp4   | GSM5413767 | anterior facing wound fragment | SRP326526 | CIW4 | 16 hpa |\n",
       "| SRR15016125 | RNA-Seq | 50 | 1083120450 | PRJNA743073 | SAMN19992361 | 434965014 | GEO | public | fastq,sra | ⋯ | Schmidtea mediterranea | ILLUMINA | 2021-09-05T00:00:00Z | 4 feedings | bmp4   | GSM5413768 | anterior facing wound fragment | SRP326526 | CIW4 | 16 hpa |\n",
       "| SRR15016126 | RNA-Seq | 50 |  866651200 | PRJNA743073 | SAMN19992360 | 351817854 | GEO | public | fastq,sra | ⋯ | Schmidtea mediterranea | ILLUMINA | 2021-09-05T00:00:00Z | 4 feedings | bmp4   | GSM5413769 | anterior facing wound fragment | SRP326526 | CIW4 | 16 hpa |\n",
       "| SRR15016127 | RNA-Seq | 50 |  953492050 | PRJNA743073 | SAMN19992359 | 384020268 | GEO | public | fastq,sra | ⋯ | Schmidtea mediterranea | ILLUMINA | 2021-09-05T00:00:00Z | 4 feedings | bmp4   | GSM5413770 | anterior facing wound fragment | SRP326526 | CIW4 | 16 hpa |\n",
       "| SRR15016128 | RNA-Seq | 50 |  995832250 | PRJNA743073 | SAMN19992358 | 401851886 | GEO | public | fastq,sra | ⋯ | Schmidtea mediterranea | ILLUMINA | 2021-09-05T00:00:00Z | 4 feedings | bmp4   | GSM5413771 | anterior facing wound fragment | SRP326526 | CIW4 | 24 hpa |\n",
       "| SRR15016129 | RNA-Seq | 50 |  951668050 | PRJNA743073 | SAMN19992357 | 383229543 | GEO | public | fastq,sra | ⋯ | Schmidtea mediterranea | ILLUMINA | 2021-09-05T00:00:00Z | 4 feedings | bmp4   | GSM5413772 | anterior facing wound fragment | SRP326526 | CIW4 | 24 hpa |\n",
       "| SRR15016130 | RNA-Seq | 50 | 1101140400 | PRJNA743073 | SAMN19992391 | 443325290 | GEO | public | fastq,sra | ⋯ | Schmidtea mediterranea | ILLUMINA | 2021-09-05T00:00:00Z | 4 feedings | bmp4   | GSM5413773 | anterior facing wound fragment | SRP326526 | CIW4 | 24 hpa |\n",
       "| SRR15016131 | RNA-Seq | 50 |  987633100 | PRJNA743073 | SAMN19992390 | 403220193 | GEO | public | fastq,sra | ⋯ | Schmidtea mediterranea | ILLUMINA | 2021-09-05T00:00:00Z | 4 feedings | bmp4   | GSM5413774 | anterior facing wound fragment | SRP326526 | CIW4 | 24 hpa |\n",
       "| SRR15016132 | RNA-Seq | 50 | 1276289650 | PRJNA743073 | SAMN19992363 | 515233515 | GEO | public | fastq,sra | ⋯ | Schmidtea mediterranea | ILLUMINA | 2021-09-05T00:00:00Z | 4 feedings | bmp4   | GSM5413775 | anterior facing wound fragment | SRP326526 | CIW4 | 24 hpa |\n",
       "| SRR15016133 | RNA-Seq | 50 | 1179404000 | PRJNA743073 | SAMN19992389 | 483528201 | GEO | public | fastq,sra | ⋯ | Schmidtea mediterranea | ILLUMINA | 2021-09-05T00:00:00Z | 4 feedings | bmp4   | GSM5413776 | anterior facing wound fragment | SRP326526 | CIW4 | 48 hpa |\n",
       "| SRR15016134 | RNA-Seq | 50 | 1395433550 | PRJNA743073 | SAMN19992388 | 576718083 | GEO | public | fastq,sra | ⋯ | Schmidtea mediterranea | ILLUMINA | 2021-09-05T00:00:00Z | 4 feedings | bmp4   | GSM5413777 | anterior facing wound fragment | SRP326526 | CIW4 | 48 hpa |\n",
       "| SRR15016135 | RNA-Seq | 50 | 1461277800 | PRJNA743073 | SAMN19992224 | 600358893 | GEO | public | fastq,sra | ⋯ | Schmidtea mediterranea | ILLUMINA | 2021-09-05T00:00:00Z | 4 feedings | bmp4   | GSM5413778 | anterior facing wound fragment | SRP326526 | CIW4 | 48 hpa |\n",
       "| SRR15016136 | RNA-Seq | 50 | 1434859800 | PRJNA743073 | SAMN19992223 | 588038312 | GEO | public | fastq,sra | ⋯ | Schmidtea mediterranea | ILLUMINA | 2021-09-05T00:00:00Z | 4 feedings | bmp4   | GSM5413779 | anterior facing wound fragment | SRP326526 | CIW4 | 48 hpa |\n",
       "| SRR15016137 | RNA-Seq | 50 | 1261857750 | PRJNA743073 | SAMN19992222 | 517029540 | GEO | public | fastq,sra | ⋯ | Schmidtea mediterranea | ILLUMINA | 2021-09-05T00:00:00Z | 4 feedings | bmp4   | GSM5413780 | anterior facing wound fragment | SRP326526 | CIW4 | 48 hpa |\n",
       "\n"
      ],
      "text/plain": [
       "   Run         Assay.Type AvgSpotLen Bases      BioProject  BioSample   \n",
       "1  SRR15016078 RNA-Seq    50         1104898700 PRJNA743073 SAMN19992351\n",
       "2  SRR15016079 RNA-Seq    50         1243862150 PRJNA743073 SAMN19992350\n",
       "3  SRR15016080 RNA-Seq    50         1095305000 PRJNA743073 SAMN19992349\n",
       "4  SRR15016081 RNA-Seq    50         1157734150 PRJNA743073 SAMN19992348\n",
       "5  SRR15016082 RNA-Seq    50         1216355150 PRJNA743073 SAMN19992347\n",
       "6  SRR15016083 RNA-Seq    50         1013806300 PRJNA743073 SAMN19992346\n",
       "7  SRR15016084 RNA-Seq    50         1155702350 PRJNA743073 SAMN19992345\n",
       "8  SRR15016085 RNA-Seq    50         1125055700 PRJNA743073 SAMN19992344\n",
       "9  SRR15016086 RNA-Seq    50         1311085050 PRJNA743073 SAMN19992343\n",
       "10 SRR15016087 RNA-Seq    50         1048758600 PRJNA743073 SAMN19992342\n",
       "11 SRR15016088 RNA-Seq    50          917629700 PRJNA743073 SAMN19992341\n",
       "12 SRR15016089 RNA-Seq    50         1662458100 PRJNA743073 SAMN19992340\n",
       "13 SRR15016090 RNA-Seq    50          994433200 PRJNA743073 SAMN19992339\n",
       "14 SRR15016091 RNA-Seq    50         1224222550 PRJNA743073 SAMN19992233\n",
       "15 SRR15016092 RNA-Seq    50         1069254750 PRJNA743073 SAMN19992232\n",
       "16 SRR15016093 RNA-Seq    50         1010852250 PRJNA743073 SAMN19992231\n",
       "17 SRR15016094 RNA-Seq    50         1067728550 PRJNA743073 SAMN19992230\n",
       "18 SRR15016095 RNA-Seq    50         1192935700 PRJNA743073 SAMN19992229\n",
       "19 SRR15016096 RNA-Seq    50         1382669200 PRJNA743073 SAMN19992228\n",
       "20 SRR15016097 RNA-Seq    50         1218123300 PRJNA743073 SAMN19992227\n",
       "21 SRR15016098 RNA-Seq    50         1082369550 PRJNA743073 SAMN19992385\n",
       "22 SRR15016099 RNA-Seq    50         1204730400 PRJNA743073 SAMN19992384\n",
       "23 SRR15016100 RNA-Seq    50         1117442350 PRJNA743073 SAMN19992383\n",
       "24 SRR15016101 RNA-Seq    50         1332006350 PRJNA743073 SAMN19992382\n",
       "25 SRR15016102 RNA-Seq    50         1060427900 PRJNA743073 SAMN19992226\n",
       "26 SRR15016103 RNA-Seq    50         1219889950 PRJNA743073 SAMN19992225\n",
       "27 SRR15016104 RNA-Seq    50         1233611900 PRJNA743073 SAMN19992387\n",
       "28 SRR15016105 RNA-Seq    50         1030170850 PRJNA743073 SAMN19992386\n",
       "29 SRR15016106 RNA-Seq    50          991444650 PRJNA743073 SAMN19992381\n",
       "30 SRR15016107 RNA-Seq    50         1119079600 PRJNA743073 SAMN19992380\n",
       "31 SRR15016108 RNA-Seq    50         1467089550 PRJNA743073 SAMN19992379\n",
       "32 SRR15016109 RNA-Seq    50         1263571700 PRJNA743073 SAMN19992378\n",
       "33 SRR15016110 RNA-Seq    50         1131520000 PRJNA743073 SAMN19992377\n",
       "34 SRR15016111 RNA-Seq    50         1122201300 PRJNA743073 SAMN19992376\n",
       "35 SRR15016112 RNA-Seq    50         1255017750 PRJNA743073 SAMN19992375\n",
       "36 SRR15016113 RNA-Seq    50         1078122450 PRJNA743073 SAMN19992374\n",
       "37 SRR15016114 RNA-Seq    50          894109100 PRJNA743073 SAMN19992373\n",
       "38 SRR15016115 RNA-Seq    50         1080877650 PRJNA743073 SAMN19992372\n",
       "39 SRR15016116 RNA-Seq    50          436937950 PRJNA743073 SAMN19992371\n",
       "40 SRR15016117 RNA-Seq    50         1289751500 PRJNA743073 SAMN19992370\n",
       "41 SRR15016118 RNA-Seq    50         1283614750 PRJNA743073 SAMN19992369\n",
       "42 SRR15016119 RNA-Seq    50         1039125000 PRJNA743073 SAMN19992368\n",
       "43 SRR15016120 RNA-Seq    50         1219640100 PRJNA743073 SAMN19992367\n",
       "44 SRR15016121 RNA-Seq    50         1105447700 PRJNA743073 SAMN19992366\n",
       "45 SRR15016122 RNA-Seq    50         1402712100 PRJNA743073 SAMN19992365\n",
       "46 SRR15016123 RNA-Seq    50         1376423000 PRJNA743073 SAMN19992364\n",
       "47 SRR15016124 RNA-Seq    50          941465400 PRJNA743073 SAMN19992362\n",
       "48 SRR15016125 RNA-Seq    50         1083120450 PRJNA743073 SAMN19992361\n",
       "49 SRR15016126 RNA-Seq    50          866651200 PRJNA743073 SAMN19992360\n",
       "50 SRR15016127 RNA-Seq    50          953492050 PRJNA743073 SAMN19992359\n",
       "51 SRR15016128 RNA-Seq    50          995832250 PRJNA743073 SAMN19992358\n",
       "52 SRR15016129 RNA-Seq    50          951668050 PRJNA743073 SAMN19992357\n",
       "53 SRR15016130 RNA-Seq    50         1101140400 PRJNA743073 SAMN19992391\n",
       "54 SRR15016131 RNA-Seq    50          987633100 PRJNA743073 SAMN19992390\n",
       "55 SRR15016132 RNA-Seq    50         1276289650 PRJNA743073 SAMN19992363\n",
       "56 SRR15016133 RNA-Seq    50         1179404000 PRJNA743073 SAMN19992389\n",
       "57 SRR15016134 RNA-Seq    50         1395433550 PRJNA743073 SAMN19992388\n",
       "58 SRR15016135 RNA-Seq    50         1461277800 PRJNA743073 SAMN19992224\n",
       "59 SRR15016136 RNA-Seq    50         1434859800 PRJNA743073 SAMN19992223\n",
       "60 SRR15016137 RNA-Seq    50         1261857750 PRJNA743073 SAMN19992222\n",
       "   Bytes     Center.Name Consent DATASTORE.filetype ⋯ Organism              \n",
       "1  449534748 GEO         public  fastq,sra          ⋯ Schmidtea mediterranea\n",
       "2  505773923 GEO         public  fastq,sra          ⋯ Schmidtea mediterranea\n",
       "3  449293911 GEO         public  fastq,sra          ⋯ Schmidtea mediterranea\n",
       "4  472014186 GEO         public  fastq,sra          ⋯ Schmidtea mediterranea\n",
       "5  495950842 GEO         public  fastq,sra          ⋯ Schmidtea mediterranea\n",
       "6  428289203 GEO         public  fastq,sra          ⋯ Schmidtea mediterranea\n",
       "7  483410722 GEO         public  fastq,sra          ⋯ Schmidtea mediterranea\n",
       "8  472431258 GEO         public  fastq,sra          ⋯ Schmidtea mediterranea\n",
       "9  546601072 GEO         public  fastq,sra          ⋯ Schmidtea mediterranea\n",
       "10 440159258 GEO         public  fastq,sra          ⋯ Schmidtea mediterranea\n",
       "11 457275088 GEO         public  fastq,sra          ⋯ Schmidtea mediterranea\n",
       "12 824813713 GEO         public  fastq,sra          ⋯ Schmidtea mediterranea\n",
       "13 498856791 GEO         public  fastq,sra          ⋯ Schmidtea mediterranea\n",
       "14 610052666 GEO         public  fastq,sra          ⋯ Schmidtea mediterranea\n",
       "15 461654635 GEO         public  fastq,sra          ⋯ Schmidtea mediterranea\n",
       "16 407130839 GEO         public  fastq,sra          ⋯ Schmidtea mediterranea\n",
       "17 429190671 GEO         public  fastq,sra          ⋯ Schmidtea mediterranea\n",
       "18 483672783 GEO         public  fastq,sra          ⋯ Schmidtea mediterranea\n",
       "19 555564819 GEO         public  fastq,sra          ⋯ Schmidtea mediterranea\n",
       "20 490315227 GEO         public  fastq,sra          ⋯ Schmidtea mediterranea\n",
       "21 441533633 GEO         public  fastq,sra          ⋯ Schmidtea mediterranea\n",
       "22 485933379 GEO         public  fastq,sra          ⋯ Schmidtea mediterranea\n",
       "23 452551378 GEO         public  fastq,sra          ⋯ Schmidtea mediterranea\n",
       "24 535579680 GEO         public  fastq,sra          ⋯ Schmidtea mediterranea\n",
       "25 427874943 GEO         public  fastq,sra          ⋯ Schmidtea mediterranea\n",
       "26 500043904 GEO         public  fastq,sra          ⋯ Schmidtea mediterranea\n",
       "27 505216865 GEO         public  fastq,sra          ⋯ Schmidtea mediterranea\n",
       "28 424215998 GEO         public  fastq,sra          ⋯ Schmidtea mediterranea\n",
       "29 407669674 GEO         public  fastq,sra          ⋯ Schmidtea mediterranea\n",
       "30 458113242 GEO         public  fastq,sra          ⋯ Schmidtea mediterranea\n",
       "31 593434678 GEO         public  fastq,sra          ⋯ Schmidtea mediterranea\n",
       "32 513051408 GEO         public  fastq,sra          ⋯ Schmidtea mediterranea\n",
       "33 459381687 GEO         public  fastq,sra          ⋯ Schmidtea mediterranea\n",
       "34 459206805 GEO         public  fastq,sra          ⋯ Schmidtea mediterranea\n",
       "35 512349964 GEO         public  fastq,sra          ⋯ Schmidtea mediterranea\n",
       "36 451532698 GEO         public  fastq,sra          ⋯ Schmidtea mediterranea\n",
       "37 453248848 GEO         public  fastq,sra          ⋯ Schmidtea mediterranea\n",
       "38 546945199 GEO         public  fastq,sra          ⋯ Schmidtea mediterranea\n",
       "39 224597185 GEO         public  fastq,sra          ⋯ Schmidtea mediterranea\n",
       "40 651374046 GEO         public  fastq,sra          ⋯ Schmidtea mediterranea\n",
       "41 555013217 GEO         public  fastq,sra          ⋯ Schmidtea mediterranea\n",
       "42 454762627 GEO         public  fastq,sra          ⋯ Schmidtea mediterranea\n",
       "43 526948544 GEO         public  fastq,sra          ⋯ Schmidtea mediterranea\n",
       "44 476614341 GEO         public  fastq,sra          ⋯ Schmidtea mediterranea\n",
       "45 604961015 GEO         public  fastq,sra          ⋯ Schmidtea mediterranea\n",
       "46 552437926 GEO         public  fastq,sra          ⋯ Schmidtea mediterranea\n",
       "47 379387545 GEO         public  fastq,sra          ⋯ Schmidtea mediterranea\n",
       "48 434965014 GEO         public  fastq,sra          ⋯ Schmidtea mediterranea\n",
       "49 351817854 GEO         public  fastq,sra          ⋯ Schmidtea mediterranea\n",
       "50 384020268 GEO         public  fastq,sra          ⋯ Schmidtea mediterranea\n",
       "51 401851886 GEO         public  fastq,sra          ⋯ Schmidtea mediterranea\n",
       "52 383229543 GEO         public  fastq,sra          ⋯ Schmidtea mediterranea\n",
       "53 443325290 GEO         public  fastq,sra          ⋯ Schmidtea mediterranea\n",
       "54 403220193 GEO         public  fastq,sra          ⋯ Schmidtea mediterranea\n",
       "55 515233515 GEO         public  fastq,sra          ⋯ Schmidtea mediterranea\n",
       "56 483528201 GEO         public  fastq,sra          ⋯ Schmidtea mediterranea\n",
       "57 576718083 GEO         public  fastq,sra          ⋯ Schmidtea mediterranea\n",
       "58 600358893 GEO         public  fastq,sra          ⋯ Schmidtea mediterranea\n",
       "59 588038312 GEO         public  fastq,sra          ⋯ Schmidtea mediterranea\n",
       "60 517029540 GEO         public  fastq,sra          ⋯ Schmidtea mediterranea\n",
       "   Platform ReleaseDate          RNAi_feedings RNAi   Sample.Name\n",
       "1  ILLUMINA 2021-09-05T00:00:00Z 4 feedings    unc-22 GSM5413721 \n",
       "2  ILLUMINA 2021-09-05T00:00:00Z 4 feedings    unc-22 GSM5413722 \n",
       "3  ILLUMINA 2021-09-05T00:00:00Z 4 feedings    unc-22 GSM5413723 \n",
       "4  ILLUMINA 2021-09-05T00:00:00Z 4 feedings    unc-22 GSM5413724 \n",
       "5  ILLUMINA 2021-09-05T00:00:00Z 4 feedings    unc-22 GSM5413725 \n",
       "6  ILLUMINA 2021-09-05T00:00:00Z 4 feedings    unc-22 GSM5413726 \n",
       "7  ILLUMINA 2021-09-05T00:00:00Z 4 feedings    unc-22 GSM5413727 \n",
       "8  ILLUMINA 2021-09-05T00:00:00Z 4 feedings    unc-22 GSM5413728 \n",
       "9  ILLUMINA 2021-09-05T00:00:00Z 4 feedings    unc-22 GSM5413729 \n",
       "10 ILLUMINA 2021-09-05T00:00:00Z 4 feedings    unc-22 GSM5413730 \n",
       "11 ILLUMINA 2021-09-05T00:00:00Z 4 feedings    unc-22 GSM5413731 \n",
       "12 ILLUMINA 2021-09-05T00:00:00Z 4 feedings    unc-22 GSM5413732 \n",
       "13 ILLUMINA 2021-09-05T00:00:00Z 4 feedings    unc-22 GSM5413733 \n",
       "14 ILLUMINA 2021-09-05T00:00:00Z 4 feedings    unc-22 GSM5413734 \n",
       "15 ILLUMINA 2021-09-05T00:00:00Z 4 feedings    unc-22 GSM5413735 \n",
       "16 ILLUMINA 2021-09-05T00:00:00Z 4 feedings    unc-22 GSM5413736 \n",
       "17 ILLUMINA 2021-09-05T00:00:00Z 4 feedings    unc-22 GSM5413737 \n",
       "18 ILLUMINA 2021-09-05T00:00:00Z 4 feedings    unc-22 GSM5413738 \n",
       "19 ILLUMINA 2021-09-05T00:00:00Z 4 feedings    unc-22 GSM5413739 \n",
       "20 ILLUMINA 2021-09-05T00:00:00Z 4 feedings    unc-22 GSM5413740 \n",
       "21 ILLUMINA 2021-09-05T00:00:00Z 4 feedings    unc-22 GSM5413741 \n",
       "22 ILLUMINA 2021-09-05T00:00:00Z 4 feedings    unc-22 GSM5413742 \n",
       "23 ILLUMINA 2021-09-05T00:00:00Z 4 feedings    unc-22 GSM5413743 \n",
       "24 ILLUMINA 2021-09-05T00:00:00Z 4 feedings    unc-22 GSM5413744 \n",
       "25 ILLUMINA 2021-09-05T00:00:00Z 4 feedings    unc-22 GSM5413745 \n",
       "26 ILLUMINA 2021-09-05T00:00:00Z 4 feedings    unc-22 GSM5413746 \n",
       "27 ILLUMINA 2021-09-05T00:00:00Z 4 feedings    unc-22 GSM5413747 \n",
       "28 ILLUMINA 2021-09-05T00:00:00Z 4 feedings    unc-22 GSM5413748 \n",
       "29 ILLUMINA 2021-09-05T00:00:00Z 4 feedings    unc-22 GSM5413749 \n",
       "30 ILLUMINA 2021-09-05T00:00:00Z 4 feedings    unc-22 GSM5413750 \n",
       "31 ILLUMINA 2021-09-05T00:00:00Z 4 feedings    bmp4   GSM5413751 \n",
       "32 ILLUMINA 2021-09-05T00:00:00Z 4 feedings    bmp4   GSM5413752 \n",
       "33 ILLUMINA 2021-09-05T00:00:00Z 4 feedings    bmp4   GSM5413753 \n",
       "34 ILLUMINA 2021-09-05T00:00:00Z 4 feedings    bmp4   GSM5413754 \n",
       "35 ILLUMINA 2021-09-05T00:00:00Z 4 feedings    bmp4   GSM5413755 \n",
       "36 ILLUMINA 2021-09-05T00:00:00Z 4 feedings    bmp4   GSM5413756 \n",
       "37 ILLUMINA 2021-09-05T00:00:00Z 4 feedings    bmp4   GSM5413757 \n",
       "38 ILLUMINA 2021-09-05T00:00:00Z 4 feedings    bmp4   GSM5413758 \n",
       "39 ILLUMINA 2021-09-05T00:00:00Z 4 feedings    bmp4   GSM5413759 \n",
       "40 ILLUMINA 2021-09-05T00:00:00Z 4 feedings    bmp4   GSM5413760 \n",
       "41 ILLUMINA 2021-09-05T00:00:00Z 4 feedings    bmp4   GSM5413761 \n",
       "42 ILLUMINA 2021-09-05T00:00:00Z 4 feedings    bmp4   GSM5413762 \n",
       "43 ILLUMINA 2021-09-05T00:00:00Z 4 feedings    bmp4   GSM5413763 \n",
       "44 ILLUMINA 2021-09-05T00:00:00Z 4 feedings    bmp4   GSM5413764 \n",
       "45 ILLUMINA 2021-09-05T00:00:00Z 4 feedings    bmp4   GSM5413765 \n",
       "46 ILLUMINA 2021-09-05T00:00:00Z 4 feedings    bmp4   GSM5413766 \n",
       "47 ILLUMINA 2021-09-05T00:00:00Z 4 feedings    bmp4   GSM5413767 \n",
       "48 ILLUMINA 2021-09-05T00:00:00Z 4 feedings    bmp4   GSM5413768 \n",
       "49 ILLUMINA 2021-09-05T00:00:00Z 4 feedings    bmp4   GSM5413769 \n",
       "50 ILLUMINA 2021-09-05T00:00:00Z 4 feedings    bmp4   GSM5413770 \n",
       "51 ILLUMINA 2021-09-05T00:00:00Z 4 feedings    bmp4   GSM5413771 \n",
       "52 ILLUMINA 2021-09-05T00:00:00Z 4 feedings    bmp4   GSM5413772 \n",
       "53 ILLUMINA 2021-09-05T00:00:00Z 4 feedings    bmp4   GSM5413773 \n",
       "54 ILLUMINA 2021-09-05T00:00:00Z 4 feedings    bmp4   GSM5413774 \n",
       "55 ILLUMINA 2021-09-05T00:00:00Z 4 feedings    bmp4   GSM5413775 \n",
       "56 ILLUMINA 2021-09-05T00:00:00Z 4 feedings    bmp4   GSM5413776 \n",
       "57 ILLUMINA 2021-09-05T00:00:00Z 4 feedings    bmp4   GSM5413777 \n",
       "58 ILLUMINA 2021-09-05T00:00:00Z 4 feedings    bmp4   GSM5413778 \n",
       "59 ILLUMINA 2021-09-05T00:00:00Z 4 feedings    bmp4   GSM5413779 \n",
       "60 ILLUMINA 2021-09-05T00:00:00Z 4 feedings    bmp4   GSM5413780 \n",
       "   source_name                    SRA.Study strain time  \n",
       "1  anterior facing wound fragment SRP326526 CIW4   0 hpa \n",
       "2  anterior facing wound fragment SRP326526 CIW4   0 hpa \n",
       "3  anterior facing wound fragment SRP326526 CIW4   0 hpa \n",
       "4  anterior facing wound fragment SRP326526 CIW4   0 hpa \n",
       "5  anterior facing wound fragment SRP326526 CIW4   0 hpa \n",
       "6  anterior facing wound fragment SRP326526 CIW4   3 hpa \n",
       "7  anterior facing wound fragment SRP326526 CIW4   3 hpa \n",
       "8  anterior facing wound fragment SRP326526 CIW4   3 hpa \n",
       "9  anterior facing wound fragment SRP326526 CIW4   3 hpa \n",
       "10 anterior facing wound fragment SRP326526 CIW4   3 hpa \n",
       "11 anterior facing wound fragment SRP326526 CIW4   6 hpa \n",
       "12 anterior facing wound fragment SRP326526 CIW4   6 hpa \n",
       "13 anterior facing wound fragment SRP326526 CIW4   6 hpa \n",
       "14 anterior facing wound fragment SRP326526 CIW4   6 hpa \n",
       "15 anterior facing wound fragment SRP326526 CIW4   6 hpa \n",
       "16 anterior facing wound fragment SRP326526 CIW4   16 hpa\n",
       "17 anterior facing wound fragment SRP326526 CIW4   16 hpa\n",
       "18 anterior facing wound fragment SRP326526 CIW4   16 hpa\n",
       "19 anterior facing wound fragment SRP326526 CIW4   16 hpa\n",
       "20 anterior facing wound fragment SRP326526 CIW4   16 hpa\n",
       "21 anterior facing wound fragment SRP326526 CIW4   24 hpa\n",
       "22 anterior facing wound fragment SRP326526 CIW4   24 hpa\n",
       "23 anterior facing wound fragment SRP326526 CIW4   24 hpa\n",
       "24 anterior facing wound fragment SRP326526 CIW4   24 hpa\n",
       "25 anterior facing wound fragment SRP326526 CIW4   24 hpa\n",
       "26 anterior facing wound fragment SRP326526 CIW4   48 hpa\n",
       "27 anterior facing wound fragment SRP326526 CIW4   48 hpa\n",
       "28 anterior facing wound fragment SRP326526 CIW4   48 hpa\n",
       "29 anterior facing wound fragment SRP326526 CIW4   48 hpa\n",
       "30 anterior facing wound fragment SRP326526 CIW4   48 hpa\n",
       "31 anterior facing wound fragment SRP326526 CIW4   0 hpa \n",
       "32 anterior facing wound fragment SRP326526 CIW4   0 hpa \n",
       "33 anterior facing wound fragment SRP326526 CIW4   0 hpa \n",
       "34 anterior facing wound fragment SRP326526 CIW4   0 hpa \n",
       "35 anterior facing wound fragment SRP326526 CIW4   0 hpa \n",
       "36 anterior facing wound fragment SRP326526 CIW4   3 hpa \n",
       "37 anterior facing wound fragment SRP326526 CIW4   3 hpa \n",
       "38 anterior facing wound fragment SRP326526 CIW4   3 hpa \n",
       "39 anterior facing wound fragment SRP326526 CIW4   3 hpa \n",
       "40 anterior facing wound fragment SRP326526 CIW4   3 hpa \n",
       "41 anterior facing wound fragment SRP326526 CIW4   6 hpa \n",
       "42 anterior facing wound fragment SRP326526 CIW4   6 hpa \n",
       "43 anterior facing wound fragment SRP326526 CIW4   6 hpa \n",
       "44 anterior facing wound fragment SRP326526 CIW4   6 hpa \n",
       "45 anterior facing wound fragment SRP326526 CIW4   6 hpa \n",
       "46 anterior facing wound fragment SRP326526 CIW4   16 hpa\n",
       "47 anterior facing wound fragment SRP326526 CIW4   16 hpa\n",
       "48 anterior facing wound fragment SRP326526 CIW4   16 hpa\n",
       "49 anterior facing wound fragment SRP326526 CIW4   16 hpa\n",
       "50 anterior facing wound fragment SRP326526 CIW4   16 hpa\n",
       "51 anterior facing wound fragment SRP326526 CIW4   24 hpa\n",
       "52 anterior facing wound fragment SRP326526 CIW4   24 hpa\n",
       "53 anterior facing wound fragment SRP326526 CIW4   24 hpa\n",
       "54 anterior facing wound fragment SRP326526 CIW4   24 hpa\n",
       "55 anterior facing wound fragment SRP326526 CIW4   24 hpa\n",
       "56 anterior facing wound fragment SRP326526 CIW4   48 hpa\n",
       "57 anterior facing wound fragment SRP326526 CIW4   48 hpa\n",
       "58 anterior facing wound fragment SRP326526 CIW4   48 hpa\n",
       "59 anterior facing wound fragment SRP326526 CIW4   48 hpa\n",
       "60 anterior facing wound fragment SRP326526 CIW4   48 hpa"
      ]
     },
     "metadata": {},
     "output_type": "display_data"
    }
   ],
   "source": [
    "table"
   ]
  },
  {
   "cell_type": "code",
   "execution_count": 29,
   "id": "ea705336",
   "metadata": {},
   "outputs": [
    {
     "data": {
      "text/html": [
       "<style>\n",
       ".list-inline {list-style: none; margin:0; padding: 0}\n",
       ".list-inline>li {display: inline-block}\n",
       ".list-inline>li:not(:last-child)::after {content: \"\\00b7\"; padding: 0 .5ex}\n",
       "</style>\n",
       "<ol class=list-inline><li>'unc-22'</li><li>'unc-22'</li><li>'unc-22'</li><li>'unc-22'</li><li>'unc-22'</li><li>'unc-22'</li><li>'unc-22'</li><li>'unc-22'</li><li>'unc-22'</li><li>'unc-22'</li><li>'unc-22'</li><li>'unc-22'</li><li>'unc-22'</li><li>'unc-22'</li><li>'unc-22'</li><li>'unc-22'</li><li>'unc-22'</li><li>'unc-22'</li><li>'unc-22'</li><li>'unc-22'</li><li>'unc-22'</li><li>'unc-22'</li><li>'unc-22'</li><li>'unc-22'</li><li>'unc-22'</li><li>'unc-22'</li><li>'unc-22'</li><li>'unc-22'</li><li>'unc-22'</li><li>'unc-22'</li><li>'bmp4'</li><li>'bmp4'</li><li>'bmp4'</li><li>'bmp4'</li><li>'bmp4'</li><li>'bmp4'</li><li>'bmp4'</li><li>'bmp4'</li><li>'bmp4'</li><li>'bmp4'</li><li>'bmp4'</li><li>'bmp4'</li><li>'bmp4'</li><li>'bmp4'</li><li>'bmp4'</li><li>'bmp4'</li><li>'bmp4'</li><li>'bmp4'</li><li>'bmp4'</li><li>'bmp4'</li><li>'bmp4'</li><li>'bmp4'</li><li>'bmp4'</li><li>'bmp4'</li><li>'bmp4'</li><li>'bmp4'</li><li>'bmp4'</li><li>'bmp4'</li><li>'bmp4'</li><li>'bmp4'</li></ol>\n"
      ],
      "text/latex": [
       "\\begin{enumerate*}\n",
       "\\item 'unc-22'\n",
       "\\item 'unc-22'\n",
       "\\item 'unc-22'\n",
       "\\item 'unc-22'\n",
       "\\item 'unc-22'\n",
       "\\item 'unc-22'\n",
       "\\item 'unc-22'\n",
       "\\item 'unc-22'\n",
       "\\item 'unc-22'\n",
       "\\item 'unc-22'\n",
       "\\item 'unc-22'\n",
       "\\item 'unc-22'\n",
       "\\item 'unc-22'\n",
       "\\item 'unc-22'\n",
       "\\item 'unc-22'\n",
       "\\item 'unc-22'\n",
       "\\item 'unc-22'\n",
       "\\item 'unc-22'\n",
       "\\item 'unc-22'\n",
       "\\item 'unc-22'\n",
       "\\item 'unc-22'\n",
       "\\item 'unc-22'\n",
       "\\item 'unc-22'\n",
       "\\item 'unc-22'\n",
       "\\item 'unc-22'\n",
       "\\item 'unc-22'\n",
       "\\item 'unc-22'\n",
       "\\item 'unc-22'\n",
       "\\item 'unc-22'\n",
       "\\item 'unc-22'\n",
       "\\item 'bmp4'\n",
       "\\item 'bmp4'\n",
       "\\item 'bmp4'\n",
       "\\item 'bmp4'\n",
       "\\item 'bmp4'\n",
       "\\item 'bmp4'\n",
       "\\item 'bmp4'\n",
       "\\item 'bmp4'\n",
       "\\item 'bmp4'\n",
       "\\item 'bmp4'\n",
       "\\item 'bmp4'\n",
       "\\item 'bmp4'\n",
       "\\item 'bmp4'\n",
       "\\item 'bmp4'\n",
       "\\item 'bmp4'\n",
       "\\item 'bmp4'\n",
       "\\item 'bmp4'\n",
       "\\item 'bmp4'\n",
       "\\item 'bmp4'\n",
       "\\item 'bmp4'\n",
       "\\item 'bmp4'\n",
       "\\item 'bmp4'\n",
       "\\item 'bmp4'\n",
       "\\item 'bmp4'\n",
       "\\item 'bmp4'\n",
       "\\item 'bmp4'\n",
       "\\item 'bmp4'\n",
       "\\item 'bmp4'\n",
       "\\item 'bmp4'\n",
       "\\item 'bmp4'\n",
       "\\end{enumerate*}\n"
      ],
      "text/markdown": [
       "1. 'unc-22'\n",
       "2. 'unc-22'\n",
       "3. 'unc-22'\n",
       "4. 'unc-22'\n",
       "5. 'unc-22'\n",
       "6. 'unc-22'\n",
       "7. 'unc-22'\n",
       "8. 'unc-22'\n",
       "9. 'unc-22'\n",
       "10. 'unc-22'\n",
       "11. 'unc-22'\n",
       "12. 'unc-22'\n",
       "13. 'unc-22'\n",
       "14. 'unc-22'\n",
       "15. 'unc-22'\n",
       "16. 'unc-22'\n",
       "17. 'unc-22'\n",
       "18. 'unc-22'\n",
       "19. 'unc-22'\n",
       "20. 'unc-22'\n",
       "21. 'unc-22'\n",
       "22. 'unc-22'\n",
       "23. 'unc-22'\n",
       "24. 'unc-22'\n",
       "25. 'unc-22'\n",
       "26. 'unc-22'\n",
       "27. 'unc-22'\n",
       "28. 'unc-22'\n",
       "29. 'unc-22'\n",
       "30. 'unc-22'\n",
       "31. 'bmp4'\n",
       "32. 'bmp4'\n",
       "33. 'bmp4'\n",
       "34. 'bmp4'\n",
       "35. 'bmp4'\n",
       "36. 'bmp4'\n",
       "37. 'bmp4'\n",
       "38. 'bmp4'\n",
       "39. 'bmp4'\n",
       "40. 'bmp4'\n",
       "41. 'bmp4'\n",
       "42. 'bmp4'\n",
       "43. 'bmp4'\n",
       "44. 'bmp4'\n",
       "45. 'bmp4'\n",
       "46. 'bmp4'\n",
       "47. 'bmp4'\n",
       "48. 'bmp4'\n",
       "49. 'bmp4'\n",
       "50. 'bmp4'\n",
       "51. 'bmp4'\n",
       "52. 'bmp4'\n",
       "53. 'bmp4'\n",
       "54. 'bmp4'\n",
       "55. 'bmp4'\n",
       "56. 'bmp4'\n",
       "57. 'bmp4'\n",
       "58. 'bmp4'\n",
       "59. 'bmp4'\n",
       "60. 'bmp4'\n",
       "\n",
       "\n"
      ],
      "text/plain": [
       " [1] \"unc-22\" \"unc-22\" \"unc-22\" \"unc-22\" \"unc-22\" \"unc-22\" \"unc-22\" \"unc-22\"\n",
       " [9] \"unc-22\" \"unc-22\" \"unc-22\" \"unc-22\" \"unc-22\" \"unc-22\" \"unc-22\" \"unc-22\"\n",
       "[17] \"unc-22\" \"unc-22\" \"unc-22\" \"unc-22\" \"unc-22\" \"unc-22\" \"unc-22\" \"unc-22\"\n",
       "[25] \"unc-22\" \"unc-22\" \"unc-22\" \"unc-22\" \"unc-22\" \"unc-22\" \"bmp4\"   \"bmp4\"  \n",
       "[33] \"bmp4\"   \"bmp4\"   \"bmp4\"   \"bmp4\"   \"bmp4\"   \"bmp4\"   \"bmp4\"   \"bmp4\"  \n",
       "[41] \"bmp4\"   \"bmp4\"   \"bmp4\"   \"bmp4\"   \"bmp4\"   \"bmp4\"   \"bmp4\"   \"bmp4\"  \n",
       "[49] \"bmp4\"   \"bmp4\"   \"bmp4\"   \"bmp4\"   \"bmp4\"   \"bmp4\"   \"bmp4\"   \"bmp4\"  \n",
       "[57] \"bmp4\"   \"bmp4\"   \"bmp4\"   \"bmp4\"  "
      ]
     },
     "metadata": {},
     "output_type": "display_data"
    }
   ],
   "source": [
    "table$RNAi"
   ]
  },
  {
   "cell_type": "code",
   "execution_count": 30,
   "id": "a9ef7397",
   "metadata": {},
   "outputs": [],
   "source": [
    "sf_dirs <- file.path(\"/drives/raid/AboobakerLab/jakke/TF_RNAi_RNAseq/Reddien2021\", table$Run)\n",
    "for (i in 1:length(sf_dirs)){\n",
    "    sf_dirs[i] = paste(sf_dirs[i], \".fastp.fq_kallisto/abundance.h5\", sep=\"\") \n",
    "} "
   ]
  },
  {
   "cell_type": "code",
   "execution_count": 31,
   "id": "70553886",
   "metadata": {},
   "outputs": [],
   "source": [
    "sf_dirs_samples = table$Run\n",
    "names(sf_dirs) = sf_dirs_samples"
   ]
  },
  {
   "cell_type": "code",
   "execution_count": 32,
   "id": "be6c82b5",
   "metadata": {},
   "outputs": [],
   "source": [
    "ttg = read.csv(\"/drives/raid/AboobakerLab/jakke/FACS/sleuth_ttg.csv\")"
   ]
  },
  {
   "cell_type": "code",
   "execution_count": 33,
   "id": "d0129d75",
   "metadata": {},
   "outputs": [
    {
     "name": "stderr",
     "output_type": "stream",
     "text": [
      "1 \n",
      "2 \n",
      "3 \n",
      "4 \n",
      "5 \n",
      "6 \n",
      "7 \n",
      "8 \n",
      "9 \n",
      "10 \n",
      "11 \n",
      "12 \n",
      "13 \n",
      "14 \n",
      "15 \n",
      "16 \n",
      "17 \n",
      "18 \n",
      "19 \n",
      "20 \n",
      "21 \n",
      "22 \n",
      "23 \n",
      "24 \n",
      "25 \n",
      "26 \n",
      "27 \n",
      "28 \n",
      "29 \n",
      "30 \n",
      "31 \n",
      "32 \n",
      "33 \n",
      "34 \n",
      "35 \n",
      "36 \n",
      "37 \n",
      "38 \n",
      "39 \n",
      "40 \n",
      "41 \n",
      "42 \n",
      "43 \n",
      "44 \n",
      "45 \n",
      "46 \n",
      "47 \n",
      "48 \n",
      "49 \n",
      "50 \n",
      "51 \n",
      "52 \n",
      "53 \n",
      "54 \n",
      "55 \n",
      "56 \n",
      "57 \n",
      "58 \n",
      "59 \n",
      "60 \n",
      "\n",
      "\n",
      "transcripts missing from tx2gene: 295\n",
      "\n",
      "summarizing abundance\n",
      "\n",
      "summarizing counts\n",
      "\n",
      "summarizing length\n",
      "\n",
      "summarizing inferential replicates\n",
      "\n"
     ]
    }
   ],
   "source": [
    "txi <- tximport(sf_dirs, type=\"kallisto\", tx2gene=ttg, countsFromAbundance=\"lengthScaledTPM\")"
   ]
  },
  {
   "cell_type": "code",
   "execution_count": 35,
   "id": "0ec5575f",
   "metadata": {},
   "outputs": [
    {
     "data": {
      "text/html": [
       "<style>\n",
       ".list-inline {list-style: none; margin:0; padding: 0}\n",
       ".list-inline>li {display: inline-block}\n",
       ".list-inline>li:not(:last-child)::after {content: \"\\00b7\"; padding: 0 .5ex}\n",
       "</style>\n",
       "<ol class=list-inline><li>a</li><li>a</li><li>a</li><li>a</li><li>a</li><li>a</li><li>a</li><li>a</li><li>a</li><li>a</li><li>a</li><li>a</li><li>a</li><li>a</li><li>a</li><li>a</li><li>a</li><li>a</li><li>a</li><li>a</li><li>a</li><li>a</li><li>a</li><li>a</li><li>a</li><li>a</li><li>a</li><li>a</li><li>a</li><li>a</li><li>bmp4</li><li>bmp4</li><li>bmp4</li><li>bmp4</li><li>bmp4</li><li>bmp4</li><li>bmp4</li><li>bmp4</li><li>bmp4</li><li>bmp4</li><li>bmp4</li><li>bmp4</li><li>bmp4</li><li>bmp4</li><li>bmp4</li><li>bmp4</li><li>bmp4</li><li>bmp4</li><li>bmp4</li><li>bmp4</li><li>bmp4</li><li>bmp4</li><li>bmp4</li><li>bmp4</li><li>bmp4</li><li>bmp4</li><li>bmp4</li><li>bmp4</li><li>bmp4</li><li>bmp4</li></ol>\n",
       "\n",
       "<details>\n",
       "\t<summary style=display:list-item;cursor:pointer>\n",
       "\t\t<strong>Levels</strong>:\n",
       "\t</summary>\n",
       "\t<style>\n",
       "\t.list-inline {list-style: none; margin:0; padding: 0}\n",
       "\t.list-inline>li {display: inline-block}\n",
       "\t.list-inline>li:not(:last-child)::after {content: \"\\00b7\"; padding: 0 .5ex}\n",
       "\t</style>\n",
       "\t<ol class=list-inline><li>'a'</li><li>'bmp4'</li></ol>\n",
       "</details>"
      ],
      "text/latex": [
       "\\begin{enumerate*}\n",
       "\\item a\n",
       "\\item a\n",
       "\\item a\n",
       "\\item a\n",
       "\\item a\n",
       "\\item a\n",
       "\\item a\n",
       "\\item a\n",
       "\\item a\n",
       "\\item a\n",
       "\\item a\n",
       "\\item a\n",
       "\\item a\n",
       "\\item a\n",
       "\\item a\n",
       "\\item a\n",
       "\\item a\n",
       "\\item a\n",
       "\\item a\n",
       "\\item a\n",
       "\\item a\n",
       "\\item a\n",
       "\\item a\n",
       "\\item a\n",
       "\\item a\n",
       "\\item a\n",
       "\\item a\n",
       "\\item a\n",
       "\\item a\n",
       "\\item a\n",
       "\\item bmp4\n",
       "\\item bmp4\n",
       "\\item bmp4\n",
       "\\item bmp4\n",
       "\\item bmp4\n",
       "\\item bmp4\n",
       "\\item bmp4\n",
       "\\item bmp4\n",
       "\\item bmp4\n",
       "\\item bmp4\n",
       "\\item bmp4\n",
       "\\item bmp4\n",
       "\\item bmp4\n",
       "\\item bmp4\n",
       "\\item bmp4\n",
       "\\item bmp4\n",
       "\\item bmp4\n",
       "\\item bmp4\n",
       "\\item bmp4\n",
       "\\item bmp4\n",
       "\\item bmp4\n",
       "\\item bmp4\n",
       "\\item bmp4\n",
       "\\item bmp4\n",
       "\\item bmp4\n",
       "\\item bmp4\n",
       "\\item bmp4\n",
       "\\item bmp4\n",
       "\\item bmp4\n",
       "\\item bmp4\n",
       "\\end{enumerate*}\n",
       "\n",
       "\\emph{Levels}: \\begin{enumerate*}\n",
       "\\item 'a'\n",
       "\\item 'bmp4'\n",
       "\\end{enumerate*}\n"
      ],
      "text/markdown": [
       "1. a\n",
       "2. a\n",
       "3. a\n",
       "4. a\n",
       "5. a\n",
       "6. a\n",
       "7. a\n",
       "8. a\n",
       "9. a\n",
       "10. a\n",
       "11. a\n",
       "12. a\n",
       "13. a\n",
       "14. a\n",
       "15. a\n",
       "16. a\n",
       "17. a\n",
       "18. a\n",
       "19. a\n",
       "20. a\n",
       "21. a\n",
       "22. a\n",
       "23. a\n",
       "24. a\n",
       "25. a\n",
       "26. a\n",
       "27. a\n",
       "28. a\n",
       "29. a\n",
       "30. a\n",
       "31. bmp4\n",
       "32. bmp4\n",
       "33. bmp4\n",
       "34. bmp4\n",
       "35. bmp4\n",
       "36. bmp4\n",
       "37. bmp4\n",
       "38. bmp4\n",
       "39. bmp4\n",
       "40. bmp4\n",
       "41. bmp4\n",
       "42. bmp4\n",
       "43. bmp4\n",
       "44. bmp4\n",
       "45. bmp4\n",
       "46. bmp4\n",
       "47. bmp4\n",
       "48. bmp4\n",
       "49. bmp4\n",
       "50. bmp4\n",
       "51. bmp4\n",
       "52. bmp4\n",
       "53. bmp4\n",
       "54. bmp4\n",
       "55. bmp4\n",
       "56. bmp4\n",
       "57. bmp4\n",
       "58. bmp4\n",
       "59. bmp4\n",
       "60. bmp4\n",
       "\n",
       "\n",
       "\n",
       "**Levels**: 1. 'a'\n",
       "2. 'bmp4'\n",
       "\n",
       "\n"
      ],
      "text/plain": [
       " [1] a    a    a    a    a    a    a    a    a    a    a    a    a    a    a   \n",
       "[16] a    a    a    a    a    a    a    a    a    a    a    a    a    a    a   \n",
       "[31] bmp4 bmp4 bmp4 bmp4 bmp4 bmp4 bmp4 bmp4 bmp4 bmp4 bmp4 bmp4 bmp4 bmp4 bmp4\n",
       "[46] bmp4 bmp4 bmp4 bmp4 bmp4 bmp4 bmp4 bmp4 bmp4 bmp4 bmp4 bmp4 bmp4 bmp4 bmp4\n",
       "Levels: a bmp4"
      ]
     },
     "metadata": {},
     "output_type": "display_data"
    }
   ],
   "source": [
    "factor(c(rep(\"a\", 30), rep('bmp4', 30)))"
   ]
  },
  {
   "cell_type": "code",
   "execution_count": 36,
   "id": "e05fb974",
   "metadata": {},
   "outputs": [
    {
     "data": {
      "text/html": [
       "TRUE"
      ],
      "text/latex": [
       "TRUE"
      ],
      "text/markdown": [
       "TRUE"
      ],
      "text/plain": [
       "[1] TRUE"
      ]
     },
     "metadata": {},
     "output_type": "display_data"
    },
    {
     "data": {
      "text/html": [
       "TRUE"
      ],
      "text/latex": [
       "TRUE"
      ],
      "text/markdown": [
       "TRUE"
      ],
      "text/plain": [
       "[1] TRUE"
      ]
     },
     "metadata": {},
     "output_type": "display_data"
    }
   ],
   "source": [
    "sampletype = factor(c(rep(\"a\", 30), rep('bmp4', 30)))\n",
    "sampletime = factor(table$time)\n",
    "meta = data.frame(sampletype, sampletime, row.names = colnames(txi$counts))\n",
    "all(colnames(txi$counts) %in% rownames(meta))\n",
    "all(colnames(txi$counts) == rownames(meta))"
   ]
  },
  {
   "cell_type": "code",
   "execution_count": 39,
   "id": "c2ad04c3",
   "metadata": {},
   "outputs": [],
   "source": [
    "library(DESeq2)"
   ]
  },
  {
   "cell_type": "code",
   "execution_count": 40,
   "id": "3cfdf53c",
   "metadata": {},
   "outputs": [
    {
     "name": "stderr",
     "output_type": "stream",
     "text": [
      "  Note: levels of factors in the design contain characters other than\n",
      "  letters, numbers, '_' and '.'. It is recommended (but not required) to use\n",
      "  only letters, numbers, and delimiters '_' or '.', as these are safe characters\n",
      "  for column names in R. [This is a message, not a warning or an error]\n",
      "\n",
      "using just counts from tximport\n",
      "\n",
      "estimating size factors\n",
      "\n",
      "  Note: levels of factors in the design contain characters other than\n",
      "  letters, numbers, '_' and '.'. It is recommended (but not required) to use\n",
      "  only letters, numbers, and delimiters '_' or '.', as these are safe characters\n",
      "  for column names in R. [This is a message, not a warning or an error]\n",
      "\n",
      "estimating dispersions\n",
      "\n",
      "gene-wise dispersion estimates\n",
      "\n",
      "mean-dispersion relationship\n",
      "\n",
      "  Note: levels of factors in the design contain characters other than\n",
      "  letters, numbers, '_' and '.'. It is recommended (but not required) to use\n",
      "  only letters, numbers, and delimiters '_' or '.', as these are safe characters\n",
      "  for column names in R. [This is a message, not a warning or an error]\n",
      "\n",
      "final dispersion estimates\n",
      "\n",
      "  Note: levels of factors in the design contain characters other than\n",
      "  letters, numbers, '_' and '.'. It is recommended (but not required) to use\n",
      "  only letters, numbers, and delimiters '_' or '.', as these are safe characters\n",
      "  for column names in R. [This is a message, not a warning or an error]\n",
      "\n",
      "fitting model and testing\n",
      "\n"
     ]
    }
   ],
   "source": [
    "dds_sample <- DESeqDataSetFromTximport(txi, colData = meta, design = ~ sampletype*sampletime)\n",
    "dds_sample <- DESeq(dds_sample)"
   ]
  },
  {
   "cell_type": "code",
   "execution_count": 41,
   "id": "88ae203b",
   "metadata": {},
   "outputs": [
    {
     "data": {
      "text/plain": [
       "class: DESeqDataSet \n",
       "dim: 28003 60 \n",
       "metadata(1): version\n",
       "assays(4): counts mu H cooks\n",
       "rownames(28003): MSTRG.1 MSTRG.10 ... SMESG000081986.1 SMESG000081995.1\n",
       "rowData names(62): baseMean baseVar ... deviance maxCooks\n",
       "colnames(60): SRR15016078 SRR15016079 ... SRR15016136 SRR15016137\n",
       "colData names(3): sampletype sampletime sizeFactor"
      ]
     },
     "metadata": {},
     "output_type": "display_data"
    }
   ],
   "source": [
    "dds_sample"
   ]
  },
  {
   "cell_type": "code",
   "execution_count": 46,
   "id": "f5428fb0",
   "metadata": {},
   "outputs": [
    {
     "ename": "ERROR",
     "evalue": "Error in cleanContrast(object, contrast, expanded = isExpanded, listValues = listValues, : 48 hpa and 0 hpa should be levels of sampletype such that sampletype_48.hpa_vs_a and sampletype_0.hpa_vs_a are contained in 'resultsNames(object)'\n",
     "output_type": "error",
     "traceback": [
      "Error in cleanContrast(object, contrast, expanded = isExpanded, listValues = listValues, : 48 hpa and 0 hpa should be levels of sampletype such that sampletype_48.hpa_vs_a and sampletype_0.hpa_vs_a are contained in 'resultsNames(object)'\nTraceback:\n",
      "1. results(dds_sample, contrast = c(\"sampletype\", \"48 hpa\", \"0 hpa\"))",
      "2. cleanContrast(object, contrast, expanded = isExpanded, listValues = listValues, \n .     test = test, useT = useT, minmu = minmu)",
      "3. stop(paste(contrastNumLevel, \"and\", contrastDenomLevel, \"should be levels of\", \n .     contrastFactor, \"such that\", contrastNumColumn, \"and\", contrastDenomColumn, \n .     \"are contained in 'resultsNames(object)'\"))"
     ]
    }
   ],
   "source": [
    "res_Reddien2021 = results(dds_sample, contrast=c(\"sampletype\",\"48 hpa\",\"0 hpa\"))"
   ]
  },
  {
   "cell_type": "code",
   "execution_count": 45,
   "id": "149e56cc",
   "metadata": {},
   "outputs": [
    {
     "data": {
      "text/plain": [
       "log2 fold change (MLE): sampletype bmp4 vs a \n",
       "Wald test p-value: sampletype bmp4 vs a \n",
       "DataFrame with 28003 rows and 6 columns\n",
       "                   baseMean log2FoldChange     lfcSE      stat    pvalue\n",
       "                  <numeric>      <numeric> <numeric> <numeric> <numeric>\n",
       "MSTRG.1           120.65461     -0.0916643 0.1102652 -0.831307 0.4058003\n",
       "MSTRG.10            3.25673      0.7122358 0.6282434  1.133694 0.2569229\n",
       "MSTRG.100         867.96671     -0.0774778 0.0523332 -1.480472 0.1387473\n",
       "MSTRG.1000        144.10723     -0.3966013 0.1699374 -2.333809 0.0196058\n",
       "MSTRG.10000      3796.87215     -0.1050574 0.1078863 -0.973779 0.3301665\n",
       "...                     ...            ...       ...       ...       ...\n",
       "SMESG000081816.1    2.64725       0.355389  1.123933  0.316201 0.7518500\n",
       "SMESG000081849.1    4.13584       1.280794  0.679358  1.885301 0.0593892\n",
       "SMESG000081971.1    1.07627       1.407492  1.334284  1.054867 0.2914862\n",
       "SMESG000081986.1    8.44858      -0.801081  0.526005 -1.522952 0.1277708\n",
       "SMESG000081995.1   16.89631       0.228158  0.328956  0.693583 0.4879440\n",
       "                      padj\n",
       "                 <numeric>\n",
       "MSTRG.1           0.748984\n",
       "MSTRG.10                NA\n",
       "MSTRG.100         0.458786\n",
       "MSTRG.1000        0.130819\n",
       "MSTRG.10000       0.688187\n",
       "...                    ...\n",
       "SMESG000081816.1        NA\n",
       "SMESG000081849.1        NA\n",
       "SMESG000081971.1        NA\n",
       "SMESG000081986.1  0.439874\n",
       "SMESG000081995.1  0.804534"
      ]
     },
     "metadata": {},
     "output_type": "display_data"
    }
   ],
   "source": [
    "res_Reddien2021"
   ]
  },
  {
   "cell_type": "markdown",
   "id": "9fd99e42",
   "metadata": {},
   "source": [
    "# Arnold 2021"
   ]
  },
  {
   "cell_type": "code",
   "execution_count": 26,
   "id": "5297e2dd",
   "metadata": {},
   "outputs": [],
   "source": [
    "table = read.csv(\"/drives/raid/AboobakerLab/jakke/TF_RNAi_RNAseq/Arnold2021/SraRunTable.txt\")"
   ]
  },
  {
   "cell_type": "code",
   "execution_count": 2,
   "id": "c267b13d",
   "metadata": {},
   "outputs": [
    {
     "data": {
      "text/html": [
       "<style>\n",
       ".list-inline {list-style: none; margin:0; padding: 0}\n",
       ".list-inline>li {display: inline-block}\n",
       ".list-inline>li:not(:last-child)::after {content: \"\\00b7\"; padding: 0 .5ex}\n",
       "</style>\n",
       "<ol class=list-inline><li>'hox1'</li><li>'hox1'</li><li>'hox3a'</li><li>'hox3a'</li><li>'hox3b'</li><li>'hox3b'</li><li>'lox5b'</li><li>'lox5b'</li><li>'lox5b'</li><li>'post2b'</li><li>'unc'</li><li>'unc'</li><li>'hox1'</li><li>'hox1'</li><li>'hox3a'</li><li>'hox3a'</li><li>'hox3b'</li><li>'hox3b'</li><li>'lox5b'</li><li>'post2b'</li><li>'post2b'</li><li>'post2b'</li><li>'unc'</li><li>'unc'</li></ol>\n"
      ],
      "text/latex": [
       "\\begin{enumerate*}\n",
       "\\item 'hox1'\n",
       "\\item 'hox1'\n",
       "\\item 'hox3a'\n",
       "\\item 'hox3a'\n",
       "\\item 'hox3b'\n",
       "\\item 'hox3b'\n",
       "\\item 'lox5b'\n",
       "\\item 'lox5b'\n",
       "\\item 'lox5b'\n",
       "\\item 'post2b'\n",
       "\\item 'unc'\n",
       "\\item 'unc'\n",
       "\\item 'hox1'\n",
       "\\item 'hox1'\n",
       "\\item 'hox3a'\n",
       "\\item 'hox3a'\n",
       "\\item 'hox3b'\n",
       "\\item 'hox3b'\n",
       "\\item 'lox5b'\n",
       "\\item 'post2b'\n",
       "\\item 'post2b'\n",
       "\\item 'post2b'\n",
       "\\item 'unc'\n",
       "\\item 'unc'\n",
       "\\end{enumerate*}\n"
      ],
      "text/markdown": [
       "1. 'hox1'\n",
       "2. 'hox1'\n",
       "3. 'hox3a'\n",
       "4. 'hox3a'\n",
       "5. 'hox3b'\n",
       "6. 'hox3b'\n",
       "7. 'lox5b'\n",
       "8. 'lox5b'\n",
       "9. 'lox5b'\n",
       "10. 'post2b'\n",
       "11. 'unc'\n",
       "12. 'unc'\n",
       "13. 'hox1'\n",
       "14. 'hox1'\n",
       "15. 'hox3a'\n",
       "16. 'hox3a'\n",
       "17. 'hox3b'\n",
       "18. 'hox3b'\n",
       "19. 'lox5b'\n",
       "20. 'post2b'\n",
       "21. 'post2b'\n",
       "22. 'post2b'\n",
       "23. 'unc'\n",
       "24. 'unc'\n",
       "\n",
       "\n"
      ],
      "text/plain": [
       " [1] \"hox1\"   \"hox1\"   \"hox3a\"  \"hox3a\"  \"hox3b\"  \"hox3b\"  \"lox5b\"  \"lox5b\" \n",
       " [9] \"lox5b\"  \"post2b\" \"unc\"    \"unc\"    \"hox1\"   \"hox1\"   \"hox3a\"  \"hox3a\" \n",
       "[17] \"hox3b\"  \"hox3b\"  \"lox5b\"  \"post2b\" \"post2b\" \"post2b\" \"unc\"    \"unc\"   "
      ]
     },
     "metadata": {},
     "output_type": "display_data"
    }
   ],
   "source": [
    "table$RNAi"
   ]
  },
  {
   "cell_type": "code",
   "execution_count": 3,
   "id": "ba42985e",
   "metadata": {},
   "outputs": [],
   "source": [
    "sf_dirs <- file.path(\"/drives/raid/AboobakerLab/jakke/TF_RNAi_RNAseq/Arnold2021\", table$Run)\n",
    "for (i in 1:length(sf_dirs)){\n",
    "    sf_dirs[i] = paste(sf_dirs[i], \".fastp.fq_kallisto/abundance.h5\", sep=\"\") \n",
    "} "
   ]
  },
  {
   "cell_type": "code",
   "execution_count": 4,
   "id": "97639b3d",
   "metadata": {},
   "outputs": [],
   "source": [
    "sf_dirs_samples = table$Run\n",
    "names(sf_dirs) = sf_dirs_samples"
   ]
  },
  {
   "cell_type": "code",
   "execution_count": 5,
   "id": "b5bb8a94",
   "metadata": {},
   "outputs": [],
   "source": [
    "ttg = read.csv(\"/drives/raid/AboobakerLab/jakke/FACS/sleuth_ttg.csv\")"
   ]
  },
  {
   "cell_type": "code",
   "execution_count": 8,
   "id": "b82a9ce6",
   "metadata": {},
   "outputs": [
    {
     "name": "stderr",
     "output_type": "stream",
     "text": [
      "1 \n",
      "2 \n",
      "3 \n",
      "4 \n",
      "5 \n",
      "6 \n",
      "7 \n",
      "8 \n",
      "9 \n",
      "10 \n",
      "11 \n",
      "12 \n",
      "13 \n",
      "14 \n",
      "15 \n",
      "16 \n",
      "17 \n",
      "18 \n",
      "19 \n",
      "20 \n",
      "21 \n",
      "22 \n",
      "23 \n",
      "24 \n",
      "\n",
      "\n",
      "transcripts missing from tx2gene: 295\n",
      "\n",
      "summarizing abundance\n",
      "\n",
      "summarizing counts\n",
      "\n",
      "summarizing length\n",
      "\n",
      "summarizing inferential replicates\n",
      "\n"
     ]
    }
   ],
   "source": [
    "txi <- tximport(sf_dirs, type=\"kallisto\", tx2gene=ttg, countsFromAbundance=\"lengthScaledTPM\")"
   ]
  },
  {
   "cell_type": "code",
   "execution_count": 9,
   "id": "49bcb7a4",
   "metadata": {},
   "outputs": [
    {
     "data": {
      "text/html": [
       "TRUE"
      ],
      "text/latex": [
       "TRUE"
      ],
      "text/markdown": [
       "TRUE"
      ],
      "text/plain": [
       "[1] TRUE"
      ]
     },
     "metadata": {},
     "output_type": "display_data"
    },
    {
     "data": {
      "text/html": [
       "TRUE"
      ],
      "text/latex": [
       "TRUE"
      ],
      "text/markdown": [
       "TRUE"
      ],
      "text/plain": [
       "[1] TRUE"
      ]
     },
     "metadata": {},
     "output_type": "display_data"
    }
   ],
   "source": [
    "sampletype = factor(c('hox1','hox1','hox3a','hox3a','hox3b','hox3b','lox5b','lox5b','lox5b','post2b',\n",
    "  'control', 'control', 'hox1', 'hox1', 'hox3a', 'hox3a', 'hox3b', \n",
    "  'hox3b', 'lox5b', 'post2b', 'post2b', 'post2b', 'control', 'control'))\n",
    "meta = data.frame(sampletype, row.names = colnames(txi$counts))\n",
    "all(colnames(txi$counts) %in% rownames(meta))\n",
    "all(colnames(txi$counts) == rownames(meta))"
   ]
  },
  {
   "cell_type": "code",
   "execution_count": 13,
   "id": "dd4a9f8a",
   "metadata": {},
   "outputs": [
    {
     "name": "stderr",
     "output_type": "stream",
     "text": [
      "using just counts from tximport\n",
      "\n",
      "estimating size factors\n",
      "\n",
      "estimating dispersions\n",
      "\n",
      "gene-wise dispersion estimates\n",
      "\n",
      "mean-dispersion relationship\n",
      "\n",
      "final dispersion estimates\n",
      "\n",
      "fitting model and testing\n",
      "\n"
     ]
    }
   ],
   "source": [
    "dds_sample <- DESeqDataSetFromTximport(txi, colData = meta, design = ~ sampletype)\n",
    "dds_sample <- DESeq(dds_sample)"
   ]
  },
  {
   "cell_type": "code",
   "execution_count": 14,
   "id": "bfeeec75",
   "metadata": {},
   "outputs": [],
   "source": [
    "res_Arnold2021hox1 = results(dds_sample, contrast=c(\"sampletype\",\"hox1\",\"control\"))"
   ]
  },
  {
   "cell_type": "code",
   "execution_count": 15,
   "id": "57ca5600",
   "metadata": {},
   "outputs": [],
   "source": [
    "res_Arnold2021hox1 = res_Arnold2021hox1 %>% data.frame() \n",
    "res_Arnold2021hox1 = res_Arnold2021hox1[order(res_Arnold2021hox1$padj),]"
   ]
  },
  {
   "cell_type": "code",
   "execution_count": 64,
   "id": "4c710a88",
   "metadata": {},
   "outputs": [],
   "source": [
    "write.csv(res_Arnold2021hox1, \"/drives/raid/AboobakerLab/jakke/TF_RNAi_RNAseq/Arnold2021/res_Arnold2021hox1.csv\")"
   ]
  },
  {
   "cell_type": "code",
   "execution_count": 16,
   "id": "135f5dc5",
   "metadata": {},
   "outputs": [],
   "source": [
    "res_Arnold2021hox3a = results(dds_sample, contrast=c(\"sampletype\",\"hox3a\",\"control\"))"
   ]
  },
  {
   "cell_type": "code",
   "execution_count": 69,
   "id": "b0ec0c8c",
   "metadata": {},
   "outputs": [],
   "source": [
    "res_Arnold2021hox3a = res_Arnold2021hox3a %>% data.frame() \n",
    "res_Arnold2021hox3a = res_Arnold2021hox3a[order(res_Arnold2021hox3a$padj),]\n",
    "write.csv(res_Arnold2021hox3a, \"/drives/raid/AboobakerLab/jakke/TF_RNAi_RNAseq/Arnold2021/res_Arnold2021hox3a.csv\")"
   ]
  },
  {
   "cell_type": "code",
   "execution_count": 17,
   "id": "4396c874",
   "metadata": {},
   "outputs": [],
   "source": [
    "res_Arnold2021hox3b = results(dds_sample, contrast=c(\"sampletype\",\"hox3b\",\"control\"))"
   ]
  },
  {
   "cell_type": "code",
   "execution_count": 74,
   "id": "ccf06aa6",
   "metadata": {},
   "outputs": [],
   "source": [
    "res_Arnold2021hox3b = res_Arnold2021hox3b %>% data.frame() \n",
    "res_Arnold2021hox3b = res_Arnold2021hox3b[order(res_Arnold2021hox3b$padj),]\n",
    "write.csv(res_Arnold2021hox3b, \"/drives/raid/AboobakerLab/jakke/TF_RNAi_RNAseq/Arnold2021/res_Arnold2021hox3b.csv\")"
   ]
  },
  {
   "cell_type": "code",
   "execution_count": null,
   "id": "6f9fe673",
   "metadata": {},
   "outputs": [],
   "source": [
    "res_Arnold2021lox5b = results(dds_sample, contrast=c(\"sampletype\",\"lox5b\",\"control\"))"
   ]
  },
  {
   "cell_type": "code",
   "execution_count": null,
   "id": "dc1f09b7",
   "metadata": {},
   "outputs": [],
   "source": [
    "res_Arnold2021lox5b = res_Arnold2021lox5b %>% data.frame() \n",
    "res_Arnold2021lox5b = res_Arnold2021lox5b[order(res_Arnold2021lox5b$padj),]\n",
    "write.csv(res_Arnold2021lox5b, \"/drives/raid/AboobakerLab/jakke/TF_RNAi_RNAseq/Arnold2021/res_Arnold2021lox5b.csv\")"
   ]
  },
  {
   "cell_type": "code",
   "execution_count": 21,
   "id": "daf6f657",
   "metadata": {},
   "outputs": [],
   "source": [
    "res_Arnold2021post2b = results(dds_sample, contrast=c(\"sampletype\",\"post2b\",\"control\"))"
   ]
  },
  {
   "cell_type": "code",
   "execution_count": 22,
   "id": "bc9e3e87",
   "metadata": {},
   "outputs": [],
   "source": [
    "res_Arnold2021post2b = res_Arnold2021post2b %>% data.frame() \n",
    "res_Arnold2021post2b = res_Arnold2021post2b[order(res_Arnold2021post2b$padj),]\n",
    "write.csv(res_Arnold2021post2b, \"/drives/raid/AboobakerLab/jakke/TF_RNAi_RNAseq/Arnold2021/res_Arnold2021post2b.csv\")"
   ]
  },
  {
   "cell_type": "markdown",
   "id": "5b66cbe6",
   "metadata": {},
   "source": [
    "# Finnish"
   ]
  }
 ],
 "metadata": {
  "kernelspec": {
   "display_name": "R",
   "language": "R",
   "name": "ir"
  },
  "language_info": {
   "codemirror_mode": "r",
   "file_extension": ".r",
   "mimetype": "text/x-r-source",
   "name": "R",
   "pygments_lexer": "r",
   "version": "4.1.2"
  }
 },
 "nbformat": 4,
 "nbformat_minor": 5
}
