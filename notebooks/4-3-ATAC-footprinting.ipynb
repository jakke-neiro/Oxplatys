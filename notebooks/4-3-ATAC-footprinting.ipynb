{
 "cells": [
  {
   "cell_type": "markdown",
   "id": "e48c88c3",
   "metadata": {},
   "source": [
    "# 4-3-ATAC-Footprinting\n",
    "Jakke Neiro$^1$\n",
    "1. Aboobaker laboratory, Department of Zoology, University of Oxford"
   ]
  },
  {
   "cell_type": "markdown",
   "id": "01afa533",
   "metadata": {},
   "source": [
    "## Contents of notebook\n",
    "* 1. Introduction\n",
    "* 2. Footprinting TOBIAS\n",
    "    * 2.1 ATACCorrect\n",
    "        * 2.1.1 X1\n",
    "        * 2.1.2 X2\n",
    "        * 2.1.3 Xins\n",
    "     * 2.2 ScoreBigWig\n",
    "        * 2.2.1 X1\n",
    "        * 2.2.2 X2\n",
    "        * 2.2.3 Xins\n",
    "        * 2.2.4 \n",
    "    * 2.3 BindDetect\n",
    "        * 2.3.1 X1\n",
    "        * 2.3.2 X1 vs X2 vs Xins"
   ]
  },
  {
   "cell_type": "markdown",
   "id": "7ce75b26",
   "metadata": {},
   "source": [
    "## Files\n",
    "* Input:\n",
    "* Output:"
   ]
  },
  {
   "cell_type": "markdown",
   "id": "d7195469",
   "metadata": {},
   "source": [
    "# 1. Introduction"
   ]
  },
  {
   "cell_type": "markdown",
   "id": "639e6e51",
   "metadata": {},
   "source": [
    "# 2. Footprinting TOBIAS"
   ]
  },
  {
   "cell_type": "markdown",
   "id": "f6c10c5a",
   "metadata": {},
   "source": [
    "## 2.1 ATACCorrect"
   ]
  },
  {
   "cell_type": "markdown",
   "id": "a050f61b",
   "metadata": {},
   "source": [
    "Let's first check the files:"
   ]
  },
  {
   "cell_type": "code",
   "execution_count": 2,
   "id": "b0f8d133",
   "metadata": {},
   "outputs": [
    {
     "name": "stdout",
     "output_type": "stream",
     "text": [
      "-rw-rw-r-- 1 ubuntu ubuntu 382060 Jul  5 14:02 chip_summits_july21.bed\n",
      "dd_Smes_g4_1\t780847\t781226\tk27ac_pooled_april21_peak_22\t4.59145\n",
      "dd_Smes_g4_1\t863082\t863552\tk27ac_pooled_april21_peak_28\t2.19864\n"
     ]
    }
   ],
   "source": [
    "%%bash\n",
    "cd /hydra/enhancer_regions\n",
    "ls -l chip_summits_july21.bed\n",
    "head -2 chip_summits_july21.bed"
   ]
  },
  {
   "cell_type": "code",
   "execution_count": 8,
   "id": "4fd9deaa",
   "metadata": {},
   "outputs": [],
   "source": [
    "import pandas as pd\n",
    "chip_summits = pd.read_csv(\"/hydra/enhancer_regions/chip_summits_july21.bed\", sep=\"\\t\", header=None)\n",
    "chip_summits[\"Start\"] = (chip_summits.iloc[:,1]+chip_summits.iloc[:,2])//2\n",
    "chip_summits[\"Stop\"] = chip_summits[\"Start\"] + 1"
   ]
  },
  {
   "cell_type": "code",
   "execution_count": 17,
   "id": "8f10954d",
   "metadata": {},
   "outputs": [],
   "source": [
    "chip_summits.iloc[:,[0,5,6]].to_csv(\"/hydra/enhancer_regions/chip_peaks_july21.bed\", sep=\"\\t\", index=False, header=None)"
   ]
  },
  {
   "cell_type": "code",
   "execution_count": 19,
   "id": "a7ab1cde",
   "metadata": {},
   "outputs": [],
   "source": [
    "%%bash\n",
    "cd /hydra/enhancer_regions\n",
    "bedtools slop -i /hydra/enhancer_regions/chip_peaks_july21.bed -g /hydra/sexual_genome_annotation_files/sexual_genome_annotation/sizes.genome -b 1000 > /hydra/enhancer_regions/chip_summits_regions.bed"
   ]
  },
  {
   "cell_type": "code",
   "execution_count": 7,
   "id": "c4de6eb3",
   "metadata": {},
   "outputs": [],
   "source": [
    "%%bash\n",
    "cd /hydra/enhancer_regions\n",
    "bedtools slop -i /hydra/enhancer_regions/random_peaks.bed -g /hydra/sexual_genome_annotation_files/sexual_genome_annotation/sizes.genome -b 1000 > /hydra/enhancer_regions/random_regions.bed"
   ]
  },
  {
   "cell_type": "code",
   "execution_count": 1,
   "id": "d339a816",
   "metadata": {},
   "outputs": [
    {
     "name": "stdout",
     "output_type": "stream",
     "text": [
      "5529 chip_summits_regions.bed\n",
      "dd_Smes_g4_1\t780036\t782037\n",
      "dd_Smes_g4_1\t862317\t864318\n",
      "dd_Smes_g4_80\t0\t1283\t1\t1\t-\n",
      "dd_Smes_g4_14\t4271595\t4273596\t2\t1\t+\n"
     ]
    }
   ],
   "source": [
    "%%bash\n",
    "cd /hydra/enhancer_regions\n",
    "wc -l chip_summits_regions.bed\n",
    "head -2 chip_summits_regions.bed\n",
    "head -2 random_regions.bed"
   ]
  },
  {
   "cell_type": "markdown",
   "id": "8ab98a89",
   "metadata": {},
   "source": [
    "### 2.1.1 X1 "
   ]
  },
  {
   "cell_type": "code",
   "execution_count": 4,
   "id": "89dfee0b",
   "metadata": {},
   "outputs": [
    {
     "name": "stdout",
     "output_type": "stream",
     "text": [
      "#!/bin/bash\n",
      "cd /hydra/atac_sexual_final/x1\n",
      "TOBIAS ATACorrect --bam x1lysis.marked.bam --genome /hydra/sexual_genome_annotation_files/sexual_genome_annotation/final_dd_Smed_g4.fa --peaks /hydra/enhancer_regions/chip_summits_regions.bed --outdir /hydra/atac_sexual_final/x1_lysis_atacorrect_regions --cores 2\n",
      "TOBIAS ATACorrect --bam x1wcs.marked.bam --genome /hydra/sexual_genome_annotation_files/sexual_genome_annotation/final_dd_Smed_g4.fa --peaks /hydra/enhancer_regions/chip_summits_regions.bed --outdir /hydra/atac_sexual_final/x1_wcs_atacorrect_regions --cores 2\n"
     ]
    }
   ],
   "source": [
    "%%bash\n",
    "cd /hydra/atac_sexual_final\n",
    "echo \"#!/bin/bash\" > x1_ataccorrect_april21regions.sh\n",
    "echo \"cd /hydra/atac_sexual_final/x1\" >> x1_ataccorrect_april21regions.sh\n",
    "echo \"TOBIAS ATACorrect --bam x1lysis.marked.bam --genome /hydra/sexual_genome_annotation_files/sexual_genome_annotation/final_dd_Smed_g4.fa --peaks /hydra/enhancer_regions/chip_summits_regions.bed --outdir /hydra/atac_sexual_final/x1_lysis_atacorrect_regions --cores 2\" >> x1_ataccorrect_april21regions.sh\n",
    "echo \"TOBIAS ATACorrect --bam x1wcs.marked.bam --genome /hydra/sexual_genome_annotation_files/sexual_genome_annotation/final_dd_Smed_g4.fa --peaks /hydra/enhancer_regions/chip_summits_regions.bed --outdir /hydra/atac_sexual_final/x1_wcs_atacorrect_regions --cores 2\" >> x1_ataccorrect_april21regions.sh\n",
    "chmod +x x1_ataccorrect_april21regions.sh\n",
    "less x1_ataccorrect_april21regions.sh"
   ]
  },
  {
   "cell_type": "code",
   "execution_count": null,
   "id": "03d99173",
   "metadata": {},
   "outputs": [],
   "source": [
    "#%%bash\n",
    "#cd /hydra/atac_sexual_final\n",
    "#nohup ./x1_ataccorrect_april21regions.sh &"
   ]
  },
  {
   "cell_type": "markdown",
   "id": "9ab63685",
   "metadata": {},
   "source": [
    "### 2.1.2 X2"
   ]
  },
  {
   "cell_type": "code",
   "execution_count": 5,
   "id": "e775bebb",
   "metadata": {},
   "outputs": [
    {
     "name": "stdout",
     "output_type": "stream",
     "text": [
      "#!/bin/bash\n",
      "cd /hydra/atac_sexual_final/x2\n",
      "TOBIAS ATACorrect --bam x2lysis.marked.bam --genome /hydra/sexual_genome_annotation_files/sexual_genome_annotation/final_dd_Smed_g4.fa --peaks /hydra/enhancer_regions/chip_summits_regions.bed --outdir /hydra/atac_sexual_final/x2_lysis_atacorrect_regions --cores 2\n",
      "TOBIAS ATACorrect --bam x2wcs.marked.bam --genome /hydra/sexual_genome_annotation_files/sexual_genome_annotation/final_dd_Smed_g4.fa --peaks /hydra/enhancer_regions/chip_summits_regions.bed --outdir /hydra/atac_sexual_final/x2_wcs_atacorrect_regions --cores 2\n"
     ]
    }
   ],
   "source": [
    "%%bash\n",
    "cd /hydra/atac_sexual_final\n",
    "echo \"#!/bin/bash\" > x2_ataccorrect_april21regions.sh\n",
    "echo \"cd /hydra/atac_sexual_final/x2\" >> x2_ataccorrect_april21regions.sh\n",
    "echo \"TOBIAS ATACorrect --bam x2lysis.marked.bam --genome /hydra/sexual_genome_annotation_files/sexual_genome_annotation/final_dd_Smed_g4.fa --peaks /hydra/enhancer_regions/chip_summits_regions.bed --outdir /hydra/atac_sexual_final/x2_lysis_atacorrect_regions --cores 2\" >> x2_ataccorrect_april21regions.sh\n",
    "echo \"TOBIAS ATACorrect --bam x2wcs.marked.bam --genome /hydra/sexual_genome_annotation_files/sexual_genome_annotation/final_dd_Smed_g4.fa --peaks /hydra/enhancer_regions/chip_summits_regions.bed --outdir /hydra/atac_sexual_final/x2_wcs_atacorrect_regions --cores 2\" >> x2_ataccorrect_april21regions.sh\n",
    "chmod +x x2_ataccorrect_april21regions.sh\n",
    "less x2_ataccorrect_april21regions.sh"
   ]
  },
  {
   "cell_type": "code",
   "execution_count": null,
   "id": "d21d4e4c",
   "metadata": {},
   "outputs": [],
   "source": [
    "#%%bash\n",
    "#cd /hydra/atac_sexual_final\n",
    "#nohup ./x2_ataccorrect_april21regions.sh &"
   ]
  },
  {
   "cell_type": "markdown",
   "id": "fce21c05",
   "metadata": {},
   "source": [
    "### 2.1.3 Xins"
   ]
  },
  {
   "cell_type": "code",
   "execution_count": 4,
   "id": "a2539842",
   "metadata": {},
   "outputs": [
    {
     "name": "stdout",
     "output_type": "stream",
     "text": [
      "#!/bin/bash\n",
      "cd /hydra/atac_sexual_final/xins\n",
      "TOBIAS ATACorrect --bam xins2.marked.bam --genome /hydra/sexual_genome_annotation_files/sexual_genome_annotation/final_dd_Smed_g4.fa --peaks /hydra/enhancer_regions/chip_summits_regions.bed --outdir /hydra/atac_sexual_final/xins_2_atacorrect_regions --cores 2\n",
      "TOBIAS ATACorrect --bam xinsATAC.marked.bam --genome /hydra/sexual_genome_annotation_files/sexual_genome_annotation/final_dd_Smed_g4.fa --peaks /hydra/enhancer_regions/chip_summits_regions.bed --outdir /hydra/atac_sexual_final/xins_1_atacorrect_regions --cores 2\n"
     ]
    }
   ],
   "source": [
    "%%bash\n",
    "cd /hydra/atac_sexual_final\n",
    "echo \"#!/bin/bash\" > xins_ataccorrect_april21regions.sh\n",
    "echo \"cd /hydra/atac_sexual_final/xins\" >> xins_ataccorrect_april21regions.sh\n",
    "echo \"TOBIAS ATACorrect --bam xins2.marked.bam --genome /hydra/sexual_genome_annotation_files/sexual_genome_annotation/final_dd_Smed_g4.fa --peaks /hydra/enhancer_regions/chip_summits_regions.bed --outdir /hydra/atac_sexual_final/xins_2_atacorrect_regions --cores 2\" >> xins_ataccorrect_april21regions.sh\n",
    "echo \"TOBIAS ATACorrect --bam xinsATAC.marked.bam --genome /hydra/sexual_genome_annotation_files/sexual_genome_annotation/final_dd_Smed_g4.fa --peaks /hydra/enhancer_regions/chip_summits_regions.bed --outdir /hydra/atac_sexual_final/xins_1_atacorrect_regions --cores 2\" >> xins_ataccorrect_april21regions.sh\n",
    "chmod +x xins_ataccorrect_april21regions.sh\n",
    "less xins_ataccorrect_april21regions.sh"
   ]
  },
  {
   "cell_type": "code",
   "execution_count": null,
   "id": "5111e04c",
   "metadata": {},
   "outputs": [],
   "source": [
    "#%%bash\n",
    "#cd /hydra/atac_sexual_final\n",
    "#nohup ./xins_ataccorrect_april21regions.sh &"
   ]
  },
  {
   "cell_type": "markdown",
   "id": "a40d40e6",
   "metadata": {},
   "source": [
    "### 2.1.4 Random peaks"
   ]
  },
  {
   "cell_type": "code",
   "execution_count": 8,
   "id": "e765695b",
   "metadata": {},
   "outputs": [
    {
     "name": "stdout",
     "output_type": "stream",
     "text": [
      "#!/bin/bash\n",
      "cd /hydra/atac_sexual_final/x1\n",
      "TOBIAS ATACorrect --bam x1lysis.marked.bam --genome /hydra/sexual_genome_annotation_files/sexual_genome_annotation/final_dd_Smed_g4.fa --peaks /hydra/enhancer_regions/random_regions.bed --outdir /hydra/atac_sexual_final/randomx1_lysis_atacorrect_regions --cores 8\n",
      "TOBIAS ATACorrect --bam x1wcs.marked.bam --genome /hydra/sexual_genome_annotation_files/sexual_genome_annotation/final_dd_Smed_g4.fa --peaks /hydra/enhancer_regions/random_regions.bed --outdir /hydra/atac_sexual_final/randomx1_wcs_atacorrect_regions --cores 8\n"
     ]
    }
   ],
   "source": [
    "%%bash\n",
    "cd /hydra/atac_sexual_final\n",
    "echo \"#!/bin/bash\" > randomx1_ataccorrect_april21regions.sh\n",
    "echo \"cd /hydra/atac_sexual_final/x1\" >> randomx1_ataccorrect_april21regions.sh\n",
    "echo \"TOBIAS ATACorrect --bam x1lysis.marked.bam --genome /hydra/sexual_genome_annotation_files/sexual_genome_annotation/final_dd_Smed_g4.fa --peaks /hydra/enhancer_regions/random_regions.bed --outdir /hydra/atac_sexual_final/randomx1_lysis_atacorrect_regions --cores 8\" >> randomx1_ataccorrect_april21regions.sh\n",
    "echo \"TOBIAS ATACorrect --bam x1wcs.marked.bam --genome /hydra/sexual_genome_annotation_files/sexual_genome_annotation/final_dd_Smed_g4.fa --peaks /hydra/enhancer_regions/random_regions.bed --outdir /hydra/atac_sexual_final/randomx1_wcs_atacorrect_regions --cores 8\" >> randomx1_ataccorrect_april21regions.sh\n",
    "chmod +x randomx1_ataccorrect_april21regions.sh\n",
    "less randomx1_ataccorrect_april21regions.sh"
   ]
  },
  {
   "cell_type": "code",
   "execution_count": null,
   "id": "6196d616",
   "metadata": {},
   "outputs": [],
   "source": [
    "#%%bash\n",
    "#cd /hydra/atac_sexual_final\n",
    "#nohup ./randomx1_ataccorrect_april21regions.sh &"
   ]
  },
  {
   "cell_type": "markdown",
   "id": "b3acc422",
   "metadata": {},
   "source": [
    "## 2.2 ScoreBigWig"
   ]
  },
  {
   "cell_type": "markdown",
   "id": "6e0056b4",
   "metadata": {},
   "source": [
    "### 2.2.1 X1"
   ]
  },
  {
   "cell_type": "code",
   "execution_count": 2,
   "id": "2131bef4",
   "metadata": {},
   "outputs": [
    {
     "name": "stdout",
     "output_type": "stream",
     "text": [
      "#!/bin/bash\n",
      "cd /hydra/atac_sexual_final/footprinting\n",
      "TOBIAS FootprintScores --signal /hydra/atac_sexual_final/x1_lysis_atacorrect_regions/x1lysis.marked_corrected.bw --regions /hydra/enhancer_regions/chip_summits_regions.bed --output x1lysismarked_footprints_regions.bw --cores 2\n",
      "TOBIAS FootprintScores --signal /hydra/atac_sexual_final/x1_wcs_atacorrect_regions/x1wcs.marked_corrected.bw --regions /hydra/enhancer_regions/chip_summits_regions.bed --output x1wcsmarked_footprints_regions.bw --cores 2\n"
     ]
    }
   ],
   "source": [
    "%%bash\n",
    "cd /hydra/atac_sexual_final\n",
    "echo \"#!/bin/bash\" > x1_scorebigwig_april21regions.sh\n",
    "echo \"cd /hydra/atac_sexual_final/footprinting\" >> x1_scorebigwig_april21regions.sh\n",
    "echo \"TOBIAS FootprintScores --signal /hydra/atac_sexual_final/x1_lysis_atacorrect_regions/x1lysis.marked_corrected.bw --regions /hydra/enhancer_regions/chip_summits_regions.bed --output x1lysismarked_footprints_regions.bw --cores 2\" >> x1_scorebigwig_april21regions.sh\n",
    "echo \"TOBIAS FootprintScores --signal /hydra/atac_sexual_final/x1_wcs_atacorrect_regions/x1wcs.marked_corrected.bw --regions /hydra/enhancer_regions/chip_summits_regions.bed --output x1wcsmarked_footprints_regions.bw --cores 2\" >> x1_scorebigwig_april21regions.sh\n",
    "chmod +x x1_scorebigwig_april21regions.sh\n",
    "less x1_scorebigwig_april21regions.sh"
   ]
  },
  {
   "cell_type": "code",
   "execution_count": null,
   "id": "9b2e2cef",
   "metadata": {},
   "outputs": [],
   "source": [
    "#%%bash\n",
    "#cd /hydra/atac_sexual_final\n",
    "#nohup ./x1_scorebigwig_april21regions.sh &"
   ]
  },
  {
   "cell_type": "code",
   "execution_count": 1,
   "id": "25035542",
   "metadata": {},
   "outputs": [],
   "source": [
    "%%bash\n",
    "cd /hydra/atac_sexual_final/footprinting\n",
    "wiggletools mean x1lysismarked_footprints_regions.bw  x1wcsmarked_footprints_regions.bw > x1marked_footprints_regions.wig"
   ]
  },
  {
   "cell_type": "code",
   "execution_count": 2,
   "id": "cbb62dcd",
   "metadata": {},
   "outputs": [],
   "source": [
    "%%bash\n",
    "cd /hydra/atac_sexual_final/footprinting\n",
    "wigToBigWig x1marked_footprints_regions.wig /hydra/sexual_genome_annotation_files/sexual_genome_annotation/sizes.genome x1marked_footprints_regions.bw"
   ]
  },
  {
   "cell_type": "markdown",
   "id": "742e35b9",
   "metadata": {},
   "source": [
    "### 2.2.2 X2"
   ]
  },
  {
   "cell_type": "code",
   "execution_count": 5,
   "id": "c7510fb5",
   "metadata": {},
   "outputs": [
    {
     "name": "stdout",
     "output_type": "stream",
     "text": [
      "#!/bin/bash\n",
      "cd /hydra/atac_sexual_final/footprinting\n",
      "TOBIAS FootprintScores --signal /hydra/atac_sexual_final/x2_lysis_atacorrect_regions/x2lysis.marked_corrected.bw --regions /hydra/enhancer_regions/chip_summits_regions.bed --output x2lysismarked_footprints_regions.bw --cores 2\n",
      "TOBIAS FootprintScores --signal /hydra/atac_sexual_final/x2_wcs_atacorrect_regions/x2wcs.marked_corrected.bw --regions /hydra/enhancer_regions/chip_summits_regions.bed --output x2wcsmarked_footprints_regions.bw --cores 2\n"
     ]
    }
   ],
   "source": [
    "%%bash\n",
    "cd /hydra/atac_sexual_final\n",
    "echo \"#!/bin/bash\" > x2_scorebigwig_april21regions.sh\n",
    "echo \"cd /hydra/atac_sexual_final/footprinting\" >> x2_scorebigwig_april21regions.sh\n",
    "echo \"TOBIAS FootprintScores --signal /hydra/atac_sexual_final/x2_lysis_atacorrect_regions/x2lysis.marked_corrected.bw --regions /hydra/enhancer_regions/chip_summits_regions.bed --output x2lysismarked_footprints_regions.bw --cores 2\" >> x2_scorebigwig_april21regions.sh\n",
    "echo \"TOBIAS FootprintScores --signal /hydra/atac_sexual_final/x2_wcs_atacorrect_regions/x2wcs.marked_corrected.bw --regions /hydra/enhancer_regions/chip_summits_regions.bed --output x2wcsmarked_footprints_regions.bw --cores 2\" >> x2_scorebigwig_april21regions.sh\n",
    "chmod +x x2_scorebigwig_april21regions.sh\n",
    "less x2_scorebigwig_april21regions.sh"
   ]
  },
  {
   "cell_type": "code",
   "execution_count": null,
   "id": "7b876c7c",
   "metadata": {},
   "outputs": [],
   "source": [
    "#%%bash\n",
    "#cd /hydra/atac_sexual_final\n",
    "#nohup ./x2_scorebigwig_april21regions.sh &"
   ]
  },
  {
   "cell_type": "code",
   "execution_count": 3,
   "id": "5a08d225",
   "metadata": {},
   "outputs": [],
   "source": [
    "%%bash\n",
    "cd /hydra/atac_sexual_final/footprinting\n",
    "wiggletools mean x2lysismarked_footprints_regions.bw  x2wcsmarked_footprints_regions.bw > x2marked_footprints_regions.wig"
   ]
  },
  {
   "cell_type": "code",
   "execution_count": 4,
   "id": "8fcea649",
   "metadata": {},
   "outputs": [],
   "source": [
    "%%bash\n",
    "cd /hydra/atac_sexual_final/footprinting\n",
    "wigToBigWig x2marked_footprints_regions.wig /hydra/sexual_genome_annotation_files/sexual_genome_annotation/sizes.genome x2marked_footprints_regions.bw"
   ]
  },
  {
   "cell_type": "markdown",
   "id": "5f3999d6",
   "metadata": {},
   "source": [
    "### 2.2.3 Xins"
   ]
  },
  {
   "cell_type": "code",
   "execution_count": 81,
   "id": "606e25b1",
   "metadata": {},
   "outputs": [
    {
     "name": "stdout",
     "output_type": "stream",
     "text": [
      "#!/bin/bash\n",
      "cd /hydra/atac_sexual_final/footprinting\n",
      "TOBIAS FootprintScores --signal /hydra/atac_sexual_final/xins_1_atacorrect_regions/xinsATAC.marked_corrected.bw --regions /hydra/enhancer_regions/chip_summits_regions.bed --output xins1marked_footprints_regions.bw --cores 2\n",
      "TOBIAS FootprintScores --signal /hydra/atac_sexual_final/xins_2_atacorrect_regions/xins2.marked_corrected.bw --regions /hydra/enhancer_regions/chip_summits_regions.bed --output xins2marked_footprints_regions.bw --cores 2\n"
     ]
    }
   ],
   "source": [
    "%%bash\n",
    "cd /hydra/atac_sexual_final\n",
    "echo \"#!/bin/bash\" > xins_scorebigwig_april21regions.sh\n",
    "echo \"cd /hydra/atac_sexual_final/footprinting\" >> xins_scorebigwig_april21regions.sh\n",
    "echo \"TOBIAS FootprintScores --signal /hydra/atac_sexual_final/xins_1_atacorrect_regions/xinsATAC.marked_corrected.bw --regions /hydra/enhancer_regions/chip_summits_regions.bed --output xins1marked_footprints_regions.bw --cores 2\" >> xins_scorebigwig_april21regions.sh\n",
    "echo \"TOBIAS FootprintScores --signal /hydra/atac_sexual_final/xins_2_atacorrect_regions/xins2.marked_corrected.bw --regions /hydra/enhancer_regions/chip_summits_regions.bed --output xins2marked_footprints_regions.bw --cores 2\" >> xins_scorebigwig_april21regions.sh\n",
    "chmod +x xins_scorebigwig_april21regions.sh\n",
    "less xins_scorebigwig_april21regions.sh"
   ]
  },
  {
   "cell_type": "code",
   "execution_count": 76,
   "id": "964b6e55",
   "metadata": {},
   "outputs": [],
   "source": [
    "#%%bash\n",
    "#cd /hydra/atac_sexual_final\n",
    "#nohup ./xins_scorebigwig_april21regions.sh &"
   ]
  },
  {
   "cell_type": "code",
   "execution_count": 5,
   "id": "c9cb693a",
   "metadata": {},
   "outputs": [],
   "source": [
    "%%bash\n",
    "cd /hydra/atac_sexual_final/footprinting\n",
    "wiggletools mean xins1marked_footprints_regions.bw xins2marked_footprints_regions.bw > xinsmarked_footprints_regions.wig"
   ]
  },
  {
   "cell_type": "code",
   "execution_count": 6,
   "id": "80875bd5",
   "metadata": {},
   "outputs": [],
   "source": [
    "%%bash\n",
    "cd /hydra/atac_sexual_final/footprinting\n",
    "wigToBigWig xinsmarked_footprints_regions.wig /hydra/sexual_genome_annotation_files/sexual_genome_annotation/sizes.genome xinsmarked_footprints_regions.bw"
   ]
  },
  {
   "cell_type": "markdown",
   "id": "06a8be65",
   "metadata": {},
   "source": [
    "### 2.2.4 Random peaks"
   ]
  },
  {
   "cell_type": "code",
   "execution_count": 10,
   "id": "41bb0682",
   "metadata": {},
   "outputs": [
    {
     "name": "stdout",
     "output_type": "stream",
     "text": [
      "#!/bin/bash\n",
      "cd /hydra/atac_sexual_final/footprinting\n",
      "TOBIAS FootprintScores --signal /hydra/atac_sexual_final/randomx1_lysis_atacorrect_regions/x1lysis.marked_corrected.bw --regions /hydra/enhancer_regions/random_regions.bed --output randomx1lysismarked_footprints_regions.bw --cores 8\n",
      "TOBIAS FootprintScores --signal /hydra/atac_sexual_final/randomx1_wcs_atacorrect_regions/x1wcs.marked_corrected.bw --regions /hydra/enhancer_regions/random_regions.bed --output randomx1wcsmarked_footprints_regions.bw --cores 8\n"
     ]
    }
   ],
   "source": [
    "%%bash\n",
    "cd /hydra/atac_sexual_final\n",
    "echo \"#!/bin/bash\" > randomx1_scorebigwig_april21regions.sh\n",
    "echo \"cd /hydra/atac_sexual_final/footprinting\" >> randomx1_scorebigwig_april21regions.sh\n",
    "echo \"TOBIAS FootprintScores --signal /hydra/atac_sexual_final/randomx1_lysis_atacorrect_regions/x1lysis.marked_corrected.bw --regions /hydra/enhancer_regions/random_regions.bed --output randomx1lysismarked_footprints_regions.bw --cores 8\" >> randomx1_scorebigwig_april21regions.sh\n",
    "echo \"TOBIAS FootprintScores --signal /hydra/atac_sexual_final/randomx1_wcs_atacorrect_regions/x1wcs.marked_corrected.bw --regions /hydra/enhancer_regions/random_regions.bed --output randomx1wcsmarked_footprints_regions.bw --cores 8\" >> randomx1_scorebigwig_april21regions.sh\n",
    "chmod +x randomx1_scorebigwig_april21regions.sh\n",
    "less randomx1_scorebigwig_april21regions.sh"
   ]
  },
  {
   "cell_type": "code",
   "execution_count": null,
   "id": "8f22e71f",
   "metadata": {},
   "outputs": [],
   "source": [
    "#%%bash\n",
    "#cd /hydra/atac_sexual_final\n",
    "#nohup ./randomx1_scorebigwig_april21regions.sh &"
   ]
  },
  {
   "cell_type": "code",
   "execution_count": 12,
   "id": "2c263cb6",
   "metadata": {},
   "outputs": [],
   "source": [
    "#%%bash\n",
    "#cd /hydra/atac_sexual_final/footprinting\n",
    "#wiggletools mean randomx1lysismarked_footprints_regions.bw randomx1wcsmarked_footprints_regions.bw > randomx1_footprints_regions.wig"
   ]
  },
  {
   "cell_type": "code",
   "execution_count": null,
   "id": "a861a555",
   "metadata": {},
   "outputs": [],
   "source": [
    "#%%bash\n",
    "#cd /hydra/atac_sexual_final/footprinting\n",
    "#wigToBigWig randomx1_footprints_regions.wig /hydra/sexual_genome_annotation_files/sexual_genome_annotation/sizes.genome randomx1_footprints_regions.bw"
   ]
  },
  {
   "cell_type": "code",
   "execution_count": null,
   "id": "24924db2",
   "metadata": {},
   "outputs": [],
   "source": []
  },
  {
   "cell_type": "markdown",
   "id": "8cb3af60",
   "metadata": {},
   "source": [
    "## 2.3 BindDetect"
   ]
  },
  {
   "cell_type": "code",
   "execution_count": 7,
   "id": "8135fad2",
   "metadata": {},
   "outputs": [
    {
     "name": "stdout",
     "output_type": "stream",
     "text": [
      "-rw-rw-r-- 1 ubuntu ubuntu 98110 Jun  7 21:50 all.meme\n"
     ]
    }
   ],
   "source": [
    "%%bash\n",
    "cd /hydra/TF_data/April2021motifs\n",
    "ls -l all.meme"
   ]
  },
  {
   "cell_type": "markdown",
   "id": "6d00a06f",
   "metadata": {},
   "source": [
    "### 2.3.1 X1"
   ]
  },
  {
   "cell_type": "code",
   "execution_count": 8,
   "id": "037c2a07",
   "metadata": {},
   "outputs": [
    {
     "name": "stdout",
     "output_type": "stream",
     "text": [
      "#!/bin/bash\n",
      "cd /hydra/atac_sexual_final/footprinting\n",
      "TOBIAS BINDetect --motifs /hydra/TF_data/April2021motifs/all.meme --signals x1marked_footprints_regions.bw --genome /hydra/sexual_genome_annotation_files/sexual_genome_annotation/final_dd_Smed_g4.fa --peaks /hydra/enhancer_regions/chip_summits_regions.bed --outdir BINDetect_X1 --cond_names X1\n"
     ]
    }
   ],
   "source": [
    "%%bash\n",
    "cd /hydra/atac_sexual_final\n",
    "echo \"#!/bin/bash\" > x1binddetect_april21regions.sh\n",
    "echo \"cd /hydra/atac_sexual_final/footprinting\" >> x1binddetect_april21regions.sh\n",
    "echo \"TOBIAS BINDetect --motifs /hydra/TF_data/April2021motifs/all.meme --signals x1marked_footprints_regions.bw --genome /hydra/sexual_genome_annotation_files/sexual_genome_annotation/final_dd_Smed_g4.fa --peaks /hydra/enhancer_regions/chip_summits_regions.bed --outdir BINDetect_X1 --cond_names X1\" >> x1binddetect_april21regions.sh\n",
    "chmod +x x1binddetect_april21regions.sh \n",
    "less x1binddetect_april21regions.sh"
   ]
  },
  {
   "cell_type": "code",
   "execution_count": null,
   "id": "e296ad45",
   "metadata": {},
   "outputs": [],
   "source": [
    "#%%bash\n",
    "#cd /hydra/atac_sexual_final\n",
    "#nohup ./x1binddetect_april21regions.sh &"
   ]
  },
  {
   "cell_type": "code",
   "execution_count": 1,
   "id": "e40072a9",
   "metadata": {},
   "outputs": [
    {
     "name": "stdout",
     "output_type": "stream",
     "text": [
      "#!/bin/bash\n",
      "cd /hydra/atac_sexual_final/footprinting\n",
      "TOBIAS BINDetect --motifs /hydra/TF_data/April2021motifs/all.meme --signals randomx1_footprints_regions.bw --genome /hydra/sexual_genome_annotation_files/sexual_genome_annotation/final_dd_Smed_g4.fa --peaks /hydra/enhancer_regions/random_regions.bed --outdir BINDetect_random --cond_names X1\n"
     ]
    }
   ],
   "source": [
    "%%bash\n",
    "cd /hydra/atac_sexual_final\n",
    "echo \"#!/bin/bash\" > randomx1binddetect_april21regions.sh\n",
    "echo \"cd /hydra/atac_sexual_final/footprinting\" >> randomx1binddetect_april21regions.sh\n",
    "echo \"TOBIAS BINDetect --motifs /hydra/TF_data/April2021motifs/all.meme --signals randomx1_footprints_regions.bw --genome /hydra/sexual_genome_annotation_files/sexual_genome_annotation/final_dd_Smed_g4.fa --peaks /hydra/enhancer_regions/random_regions.bed --outdir BINDetect_random --cond_names X1\" >> randomx1binddetect_april21regions.sh\n",
    "chmod +x randomx1binddetect_april21regions.sh \n",
    "less randomx1binddetect_april21regions.sh"
   ]
  },
  {
   "cell_type": "code",
   "execution_count": null,
   "id": "0a8cf93b",
   "metadata": {},
   "outputs": [],
   "source": [
    "#%%bash\n",
    "#cd /hydra/atac_sexual_final\n",
    "#nohup ./randomx1binddetect_april21regions.sh &"
   ]
  },
  {
   "cell_type": "code",
   "execution_count": 4,
   "id": "25433879",
   "metadata": {},
   "outputs": [
    {
     "name": "stdout",
     "output_type": "stream",
     "text": [
      "-rw-rw-r-- 1 ubuntu ubuntu 706 Aug 13 21:17 bindetect_figures.pdf\n"
     ]
    }
   ],
   "source": [
    "%%bash\n",
    "cd /hydra/atac_sexual_final/footprinting/BINDetect_random\n",
    "ls -l bindetect_figures.pdf"
   ]
  },
  {
   "cell_type": "markdown",
   "id": "1bce52fc",
   "metadata": {},
   "source": [
    "### 2.3.2 X1 vs X2 vs Xins"
   ]
  },
  {
   "cell_type": "markdown",
   "id": "bd8d2ace",
   "metadata": {},
   "source": [
    "All X1, X2 and Xins: "
   ]
  },
  {
   "cell_type": "code",
   "execution_count": 4,
   "id": "2ffe33ce",
   "metadata": {},
   "outputs": [
    {
     "name": "stdout",
     "output_type": "stream",
     "text": [
      "#!/bin/bash\n",
      "cd /hydra/atac_sexual_final/footprinting\n",
      "TOBIAS BINDetect --motifs /hydra/TF_data/April2021motifs/all.meme --signals x1marked_footprints_regions.bw x2marked_footprints_regions.bw xinsmarked_footprints_regions.bw --genome /hydra/sexual_genome_annotation_files/sexual_genome_annotation/final_dd_Smed_g4.fa --peaks /hydra/enhancer_regions/chip_summits_regions.bed --outdir BINDetect_output --cond_names X1 X2 Xins --cores 2\n"
     ]
    }
   ],
   "source": [
    "%%bash\n",
    "cd /hydra/atac_sexual_final\n",
    "echo \"#!/bin/bash\" > binddetect_april21.sh\n",
    "echo \"cd /hydra/atac_sexual_final/footprinting\" >> binddetect_april21.sh\n",
    "echo \"TOBIAS BINDetect --motifs /hydra/TF_data/April2021motifs/all.meme --signals x1marked_footprints_regions.bw x2marked_footprints_regions.bw xinsmarked_footprints_regions.bw --genome /hydra/sexual_genome_annotation_files/sexual_genome_annotation/final_dd_Smed_g4.fa --peaks /hydra/enhancer_regions/chip_summits_regions.bed --outdir BINDetect_output --cond_names X1 X2 Xins --cores 2\" >> binddetect_april21.sh\n",
    "chmod +x binddetect_april21.sh \n",
    "less binddetect_april21.sh "
   ]
  },
  {
   "cell_type": "code",
   "execution_count": null,
   "id": "3990ebdc",
   "metadata": {},
   "outputs": [],
   "source": [
    "#%%bash\n",
    "#cd /hydra/atac_sexual_final\n",
    "#nohup ./binddetect_april21.sh &"
   ]
  },
  {
   "cell_type": "code",
   "execution_count": null,
   "id": "c0a49f7c",
   "metadata": {},
   "outputs": [],
   "source": []
  },
  {
   "cell_type": "markdown",
   "id": "3dad01fc",
   "metadata": {},
   "source": [
    "# 3. Footprinting result"
   ]
  },
  {
   "cell_type": "code",
   "execution_count": null,
   "id": "cafe3181",
   "metadata": {},
   "outputs": [],
   "source": []
  },
  {
   "cell_type": "code",
   "execution_count": 9,
   "id": "5532ca11",
   "metadata": {},
   "outputs": [
    {
     "name": "stdout",
     "output_type": "stream",
     "text": [
      "output_prefix\tname\tmotif_id\tcluster\ttotal_tfbs\tX1_mean_score\tX1_bound\n",
      "PAX5_MA0014.2\tPAX5\tMA0014.2\tC_PAX5\t4893\t4.99228\t415\n"
     ]
    }
   ],
   "source": [
    "%%bash\n",
    "cd /hydra/atac_sexual_final/footprinting/BINDetect_X1\n",
    "head -2 bindetect_results.txt"
   ]
  },
  {
   "cell_type": "markdown",
   "id": "c93df6b5",
   "metadata": {},
   "source": [
    "* TF_name: name\n",
    "* total_tfbs: number of binding sites found in input --peaks\n",
    "* (condition) bound: number of sites predicted bound in the given condition. This is estimated independently per condition based on the distribution of scores, and is therefore very dependent on how well the threshold for bound/unbound was set. If conflict, the change score is the nore correct metric to use."
   ]
  },
  {
   "cell_type": "code",
   "execution_count": 10,
   "id": "98dc0152",
   "metadata": {},
   "outputs": [
    {
     "name": "stdout",
     "output_type": "stream",
     "text": [
      "Alx4_MA0853.1_X1_bound.bed\n",
      "Alx4_MA0853.1_X1_unbound.bed\n",
      "Alx4_MA0853.1_all.bed\n",
      "Alx4_MA0853.1_x1marked_footprints_regions_bound.bed\n",
      "Alx4_MA0853.1_x1marked_footprints_regions_unbound.bed\n"
     ]
    }
   ],
   "source": [
    "%%bash\n",
    "cd /hydra/atac_sexual_final/footprinting/BINDetect_X1/Alx4_MA0853.1/beds\n",
    "ls"
   ]
  },
  {
   "cell_type": "code",
   "execution_count": 11,
   "id": "7629af13",
   "metadata": {},
   "outputs": [
    {
     "name": "stdout",
     "output_type": "stream",
     "text": [
      "TFBS_chr\tTFBS_start\tTFBS_end\tTFBS_name\tTFBS_score\tTFBS_strand\tpeak_chr\tpeak_start\tpeak_end\tX1_score\tX1_bound\n",
      "dd_Smes_g4_1\t862512\t862529\tAlx4_MA0853.1\t8.56061\t+\tdd_Smes_g4_1\t862317\t864318\t4.02295\t0\n"
     ]
    }
   ],
   "source": [
    "%%bash\n",
    "cd /hydra/atac_sexual_final/footprinting/BINDetect_X1/Alx4_MA0853.1\n",
    "head -2 Alx4_MA0853.1_overview.txt"
   ]
  },
  {
   "cell_type": "code",
   "execution_count": 12,
   "id": "1f5abede",
   "metadata": {},
   "outputs": [
    {
     "name": "stdout",
     "output_type": "stream",
     "text": [
      "dd_Smes_g4_103\t396330\t396347\tAlx4_MA0853.1\t9.17845\t+\tdd_Smes_g4_103\t395679\t397680\t7.75063\n",
      "dd_Smes_g4_105\t1815577\t1815594\tAlx4_MA0853.1\t11.01749\t-\tdd_Smes_g4_105\t1814564\t1816565\t7.6562\n"
     ]
    }
   ],
   "source": [
    "%%bash\n",
    "cd /hydra/atac_sexual_final/footprinting/BINDetect_X1/Alx4_MA0853.1/beds\n",
    "head -2 Alx4_MA0853.1_X1_bound.bed"
   ]
  },
  {
   "cell_type": "code",
   "execution_count": 1,
   "id": "f11c112e",
   "metadata": {},
   "outputs": [],
   "source": [
    "import pandas as pd\n",
    "X1bind = pd.read_csv(\"/hydra/atac_sexual_final/footprinting/BINDetect_X1/bindetect_results.txt\", sep=\"\\t\")"
   ]
  },
  {
   "cell_type": "code",
   "execution_count": 2,
   "id": "7a5cac30",
   "metadata": {},
   "outputs": [
    {
     "data": {
      "text/html": [
       "<div>\n",
       "<style scoped>\n",
       "    .dataframe tbody tr th:only-of-type {\n",
       "        vertical-align: middle;\n",
       "    }\n",
       "\n",
       "    .dataframe tbody tr th {\n",
       "        vertical-align: top;\n",
       "    }\n",
       "\n",
       "    .dataframe thead th {\n",
       "        text-align: right;\n",
       "    }\n",
       "</style>\n",
       "<table border=\"1\" class=\"dataframe\">\n",
       "  <thead>\n",
       "    <tr style=\"text-align: right;\">\n",
       "      <th></th>\n",
       "      <th>output_prefix</th>\n",
       "      <th>name</th>\n",
       "      <th>motif_id</th>\n",
       "      <th>cluster</th>\n",
       "      <th>total_tfbs</th>\n",
       "      <th>X1_mean_score</th>\n",
       "      <th>X1_bound</th>\n",
       "    </tr>\n",
       "  </thead>\n",
       "  <tbody>\n",
       "    <tr>\n",
       "      <th>0</th>\n",
       "      <td>PAX5_MA0014.2</td>\n",
       "      <td>PAX5</td>\n",
       "      <td>MA0014.2</td>\n",
       "      <td>C_PAX5</td>\n",
       "      <td>4893</td>\n",
       "      <td>4.99228</td>\n",
       "      <td>415</td>\n",
       "    </tr>\n",
       "    <tr>\n",
       "      <th>1</th>\n",
       "      <td>Cf2_MA0015.1</td>\n",
       "      <td>Cf2</td>\n",
       "      <td>MA0015.1</td>\n",
       "      <td>C_Cf2</td>\n",
       "      <td>753</td>\n",
       "      <td>4.19929</td>\n",
       "      <td>43</td>\n",
       "    </tr>\n",
       "    <tr>\n",
       "      <th>2</th>\n",
       "      <td>usp_MA0016.1</td>\n",
       "      <td>usp</td>\n",
       "      <td>MA0016.1</td>\n",
       "      <td>C_usp</td>\n",
       "      <td>3348</td>\n",
       "      <td>4.61456</td>\n",
       "      <td>207</td>\n",
       "    </tr>\n",
       "    <tr>\n",
       "      <th>3</th>\n",
       "      <td>NR2F1_MA0017.2</td>\n",
       "      <td>NR2F1</td>\n",
       "      <td>MA0017.2</td>\n",
       "      <td>C_NR2F1</td>\n",
       "      <td>2328</td>\n",
       "      <td>4.51672</td>\n",
       "      <td>128</td>\n",
       "    </tr>\n",
       "    <tr>\n",
       "      <th>4</th>\n",
       "      <td>NFIL3_MA0025.1</td>\n",
       "      <td>NFIL3</td>\n",
       "      <td>MA0025.1</td>\n",
       "      <td>C_NFIL3</td>\n",
       "      <td>988</td>\n",
       "      <td>3.87753</td>\n",
       "      <td>29</td>\n",
       "    </tr>\n",
       "    <tr>\n",
       "      <th>...</th>\n",
       "      <td>...</td>\n",
       "      <td>...</td>\n",
       "      <td>...</td>\n",
       "      <td>...</td>\n",
       "      <td>...</td>\n",
       "      <td>...</td>\n",
       "      <td>...</td>\n",
       "    </tr>\n",
       "    <tr>\n",
       "      <th>163</th>\n",
       "      <td>Hoxb5_MA0904.1</td>\n",
       "      <td>Hoxb5</td>\n",
       "      <td>MA0904.1</td>\n",
       "      <td>C_Hoxb5</td>\n",
       "      <td>1032</td>\n",
       "      <td>4.38395</td>\n",
       "      <td>47</td>\n",
       "    </tr>\n",
       "    <tr>\n",
       "      <th>164</th>\n",
       "      <td>Hoxd3_MA0912.1</td>\n",
       "      <td>Hoxd3</td>\n",
       "      <td>MA0912.1</td>\n",
       "      <td>C_Hoxb5</td>\n",
       "      <td>1376</td>\n",
       "      <td>4.37121</td>\n",
       "      <td>64</td>\n",
       "    </tr>\n",
       "    <tr>\n",
       "      <th>165</th>\n",
       "      <td>ISL2_MA0914.1</td>\n",
       "      <td>ISL2</td>\n",
       "      <td>MA0914.1</td>\n",
       "      <td>C_ISL2</td>\n",
       "      <td>1268</td>\n",
       "      <td>4.27484</td>\n",
       "      <td>42</td>\n",
       "    </tr>\n",
       "    <tr>\n",
       "      <th>166</th>\n",
       "      <td>gcm2_MA0917.1</td>\n",
       "      <td>gcm2</td>\n",
       "      <td>MA0917.1</td>\n",
       "      <td>C_gcm2</td>\n",
       "      <td>2786</td>\n",
       "      <td>4.61897</td>\n",
       "      <td>193</td>\n",
       "    </tr>\n",
       "    <tr>\n",
       "      <th>167</th>\n",
       "      <td>Hes1_MA1099.1</td>\n",
       "      <td>Hes1</td>\n",
       "      <td>MA1099.1</td>\n",
       "      <td>C_Hes1</td>\n",
       "      <td>3225</td>\n",
       "      <td>4.95960</td>\n",
       "      <td>285</td>\n",
       "    </tr>\n",
       "  </tbody>\n",
       "</table>\n",
       "<p>168 rows × 7 columns</p>\n",
       "</div>"
      ],
      "text/plain": [
       "      output_prefix   name  motif_id  cluster  total_tfbs  X1_mean_score  \\\n",
       "0     PAX5_MA0014.2   PAX5  MA0014.2   C_PAX5        4893        4.99228   \n",
       "1      Cf2_MA0015.1    Cf2  MA0015.1    C_Cf2         753        4.19929   \n",
       "2      usp_MA0016.1    usp  MA0016.1    C_usp        3348        4.61456   \n",
       "3    NR2F1_MA0017.2  NR2F1  MA0017.2  C_NR2F1        2328        4.51672   \n",
       "4    NFIL3_MA0025.1  NFIL3  MA0025.1  C_NFIL3         988        3.87753   \n",
       "..              ...    ...       ...      ...         ...            ...   \n",
       "163  Hoxb5_MA0904.1  Hoxb5  MA0904.1  C_Hoxb5        1032        4.38395   \n",
       "164  Hoxd3_MA0912.1  Hoxd3  MA0912.1  C_Hoxb5        1376        4.37121   \n",
       "165   ISL2_MA0914.1   ISL2  MA0914.1   C_ISL2        1268        4.27484   \n",
       "166   gcm2_MA0917.1   gcm2  MA0917.1   C_gcm2        2786        4.61897   \n",
       "167   Hes1_MA1099.1   Hes1  MA1099.1   C_Hes1        3225        4.95960   \n",
       "\n",
       "     X1_bound  \n",
       "0         415  \n",
       "1          43  \n",
       "2         207  \n",
       "3         128  \n",
       "4          29  \n",
       "..        ...  \n",
       "163        47  \n",
       "164        64  \n",
       "165        42  \n",
       "166       193  \n",
       "167       285  \n",
       "\n",
       "[168 rows x 7 columns]"
      ]
     },
     "execution_count": 2,
     "metadata": {},
     "output_type": "execute_result"
    }
   ],
   "source": [
    "X1bind "
   ]
  },
  {
   "cell_type": "code",
   "execution_count": 11,
   "id": "7dea07dd",
   "metadata": {
    "scrolled": true
   },
   "outputs": [
    {
     "name": "stderr",
     "output_type": "stream",
     "text": [
      "/home/ubuntu/anaconda3/envs/r4-base/lib/python3.9/site-packages/pandas/core/indexing.py:1637: SettingWithCopyWarning: \n",
      "A value is trying to be set on a copy of a slice from a DataFrame\n",
      "\n",
      "See the caveats in the documentation: https://pandas.pydata.org/pandas-docs/stable/user_guide/indexing.html#returning-a-view-versus-a-copy\n",
      "  self._setitem_single_block(indexer, value, name)\n"
     ]
    }
   ],
   "source": [
    "tf_prop = pd.read_csv(\"/hydra/TF_data/Transcription_factors_01072021_values.csv\").iloc[:,1:]\n",
    "X1bind[\"Name\"] = \"-\"\n",
    "for i in range(len(X1bind)):\n",
    "    matrix_id = X1bind.iloc[i, 0].split(\"_\")[1]\n",
    "    gene_id_table = tf_prop[tf_prop[\"Jaspar MatrixID\"] == matrix_id]\n",
    "    if len(gene_id_table) > 0:\n",
    "        name_str = gene_id_table.iloc[0,2]\n",
    "        for j in range(1,len(gene_id_table)):\n",
    "            name_str = name_str + \", \" + gene_id_table.iloc[j,2]\n",
    "    X1bind[\"Name\"].iloc[i] = name_str"
   ]
  },
  {
   "cell_type": "code",
   "execution_count": 15,
   "id": "58c1cbcf",
   "metadata": {},
   "outputs": [],
   "source": [
    "X1bind.sort_values(by=\"X1_bound\", ascending=False).to_excel(\"/hydra/atac_sexual_final/footprinting/BINDetect_X1/bindetect_results_names.xlsx\", index=False) "
   ]
  },
  {
   "cell_type": "code",
   "execution_count": 5,
   "id": "05a52bb6",
   "metadata": {},
   "outputs": [],
   "source": [
    "tf_prop = pd.read_csv(\"/hydra/TF_data/Transcription_factors_01072021_values.csv\").iloc[:,1:]"
   ]
  },
  {
   "cell_type": "code",
   "execution_count": null,
   "id": "9fecacbd",
   "metadata": {},
   "outputs": [],
   "source": [
    "X1bind"
   ]
  },
  {
   "cell_type": "code",
   "execution_count": 4,
   "id": "ee3e0c33",
   "metadata": {},
   "outputs": [],
   "source": [
    "tf_prop = pd.read_csv(\"/hydra/TF_data/Transcription_factors_01072021_values.csv\").iloc[:,1:]"
   ]
  },
  {
   "cell_type": "code",
   "execution_count": 5,
   "id": "8bc78c3d",
   "metadata": {},
   "outputs": [],
   "source": [
    "%%bash\n",
    "cd /hydra/atac_sexual_final/footprinting/BINDetect_X1\n",
    "ls -d *M* > dict.list"
   ]
  },
  {
   "cell_type": "code",
   "execution_count": 6,
   "id": "ba32f5d3",
   "metadata": {},
   "outputs": [],
   "source": [
    "dicts = pd.read_csv(\"/hydra/atac_sexual_final/footprinting/BINDetect_X1/dict.list\", header=None)"
   ]
  },
  {
   "cell_type": "code",
   "execution_count": 7,
   "id": "f011ce6a",
   "metadata": {},
   "outputs": [],
   "source": [
    "motif_dict = dicts.iloc[0, 0]\n",
    "table = pd.read_csv(\"/hydra/atac_sexual_final/footprinting/BINDetect_X1/\"+motif_dict+\"/\"+motif_dict+\"_overview.txt\", sep=\"\\t\")\n",
    "for i in range(1, len(dicts)):\n",
    "    motif_dict = dicts.iloc[i, 0]\n",
    "    table1 = pd.read_csv(\"/hydra/atac_sexual_final/footprinting/BINDetect_X1/\"+motif_dict+\"/\"+motif_dict+\"_overview.txt\", sep=\"\\t\")\n",
    "    table = pd.concat([table, table1])"
   ]
  },
  {
   "cell_type": "code",
   "execution_count": 8,
   "id": "0a7f66e2",
   "metadata": {},
   "outputs": [],
   "source": [
    "X1_table = table"
   ]
  },
  {
   "cell_type": "code",
   "execution_count": 9,
   "id": "eb17a20e",
   "metadata": {},
   "outputs": [
    {
     "data": {
      "text/plain": [
       "465629"
      ]
     },
     "execution_count": 9,
     "metadata": {},
     "output_type": "execute_result"
    }
   ],
   "source": [
    "len(X1_table)"
   ]
  },
  {
   "cell_type": "code",
   "execution_count": 23,
   "id": "3177c615",
   "metadata": {},
   "outputs": [
    {
     "name": "stdout",
     "output_type": "stream",
     "text": [
      "1\n",
      "10001\n",
      "20001\n",
      "30001\n",
      "40001\n",
      "50001\n",
      "60001\n",
      "70001\n",
      "80001\n",
      "90001\n",
      "100001\n",
      "110001\n",
      "120001\n",
      "130001\n",
      "140001\n",
      "150001\n",
      "160001\n",
      "170001\n",
      "180001\n",
      "190001\n",
      "200001\n",
      "220001\n",
      "230001\n",
      "240001\n",
      "260001\n",
      "270001\n",
      "280001\n",
      "290001\n",
      "300001\n",
      "310001\n",
      "320001\n",
      "330001\n",
      "340001\n",
      "350001\n",
      "360001\n",
      "370001\n",
      "380001\n",
      "390001\n",
      "400001\n",
      "410001\n",
      "420001\n",
      "430001\n",
      "440001\n",
      "450001\n",
      "460001\n"
     ]
    }
   ],
   "source": [
    "X1_table[\"GeneID\"] = \"a\"\n",
    "X1_table[\"TF name\"] = \"a\"\n",
    "for i in range(0, len(X1_table)):\n",
    "    matrix_id = X1_table.iloc[i, 3].split(\"_\")[1]\n",
    "    gene_id_table = tf_prop[tf_prop[\"Jaspar MatrixID\"] == matrix_id]\n",
    "    if len(gene_id_table) == 0:\n",
    "        continue\n",
    "    gene_id_str = gene_id_table.iloc[0,1]\n",
    "    name_id_str = gene_id_table.iloc[0,2]\n",
    "    for j in range(1,len(gene_id_table)):\n",
    "        gene_id_str = gene_id_str + \":\" + gene_id_table.iloc[j,1]\n",
    "        name_id_str = name_id_str + \":\" + gene_id_table.iloc[j,2]\n",
    "    X1_table[\"GeneID\"].iloc[i] = gene_id_str\n",
    "    X1_table[\"TF name\"].iloc[i] = name_id_str\n",
    "    if i%10000 == 1:\n",
    "        print(i)\n",
    "X1_table.to_csv(\"/hydra/atac_sexual_final/footprinting/BINDetect_X1/X1_table.csv\", index=False)"
   ]
  },
  {
   "cell_type": "code",
   "execution_count": 24,
   "id": "0e16cbc1",
   "metadata": {},
   "outputs": [],
   "source": [
    "import pandas as pd\n",
    "X1_table = pd.read_csv(\"/hydra/atac_sexual_final/footprinting/BINDetect_X1/X1_table.csv\")"
   ]
  },
  {
   "cell_type": "code",
   "execution_count": 26,
   "id": "bfeef839",
   "metadata": {},
   "outputs": [
    {
     "data": {
      "text/html": [
       "<div>\n",
       "<style scoped>\n",
       "    .dataframe tbody tr th:only-of-type {\n",
       "        vertical-align: middle;\n",
       "    }\n",
       "\n",
       "    .dataframe tbody tr th {\n",
       "        vertical-align: top;\n",
       "    }\n",
       "\n",
       "    .dataframe thead th {\n",
       "        text-align: right;\n",
       "    }\n",
       "</style>\n",
       "<table border=\"1\" class=\"dataframe\">\n",
       "  <thead>\n",
       "    <tr style=\"text-align: right;\">\n",
       "      <th></th>\n",
       "      <th>TFBS_chr</th>\n",
       "      <th>TFBS_start</th>\n",
       "      <th>TFBS_end</th>\n",
       "      <th>TFBS_name</th>\n",
       "      <th>TFBS_score</th>\n",
       "      <th>TFBS_strand</th>\n",
       "      <th>peak_chr</th>\n",
       "      <th>peak_start</th>\n",
       "      <th>peak_end</th>\n",
       "      <th>X1_score</th>\n",
       "      <th>X1_bound</th>\n",
       "      <th>GeneID</th>\n",
       "      <th>TF name</th>\n",
       "    </tr>\n",
       "  </thead>\n",
       "  <tbody>\n",
       "    <tr>\n",
       "      <th>0</th>\n",
       "      <td>dd_Smes_g4_1</td>\n",
       "      <td>781790</td>\n",
       "      <td>781798</td>\n",
       "      <td>ARNTHIF1A_MA0259.1</td>\n",
       "      <td>7.99208</td>\n",
       "      <td>+</td>\n",
       "      <td>dd_Smes_g4_1</td>\n",
       "      <td>780036</td>\n",
       "      <td>782037</td>\n",
       "      <td>1.76295</td>\n",
       "      <td>0</td>\n",
       "      <td>MSTRG.10887</td>\n",
       "      <td>arnt-1</td>\n",
       "    </tr>\n",
       "    <tr>\n",
       "      <th>1</th>\n",
       "      <td>dd_Smes_g4_1</td>\n",
       "      <td>862704</td>\n",
       "      <td>862712</td>\n",
       "      <td>ARNTHIF1A_MA0259.1</td>\n",
       "      <td>9.79696</td>\n",
       "      <td>-</td>\n",
       "      <td>dd_Smes_g4_1</td>\n",
       "      <td>862317</td>\n",
       "      <td>864318</td>\n",
       "      <td>5.07253</td>\n",
       "      <td>0</td>\n",
       "      <td>MSTRG.10887</td>\n",
       "      <td>arnt-1</td>\n",
       "    </tr>\n",
       "    <tr>\n",
       "      <th>2</th>\n",
       "      <td>dd_Smes_g4_1</td>\n",
       "      <td>864116</td>\n",
       "      <td>864124</td>\n",
       "      <td>ARNTHIF1A_MA0259.1</td>\n",
       "      <td>9.79696</td>\n",
       "      <td>-</td>\n",
       "      <td>dd_Smes_g4_1</td>\n",
       "      <td>862317</td>\n",
       "      <td>864318</td>\n",
       "      <td>3.48371</td>\n",
       "      <td>0</td>\n",
       "      <td>MSTRG.10887</td>\n",
       "      <td>arnt-1</td>\n",
       "    </tr>\n",
       "    <tr>\n",
       "      <th>3</th>\n",
       "      <td>dd_Smes_g4_1</td>\n",
       "      <td>909263</td>\n",
       "      <td>909271</td>\n",
       "      <td>ARNTHIF1A_MA0259.1</td>\n",
       "      <td>8.30049</td>\n",
       "      <td>-</td>\n",
       "      <td>dd_Smes_g4_1</td>\n",
       "      <td>908180</td>\n",
       "      <td>910181</td>\n",
       "      <td>5.97867</td>\n",
       "      <td>0</td>\n",
       "      <td>MSTRG.10887</td>\n",
       "      <td>arnt-1</td>\n",
       "    </tr>\n",
       "    <tr>\n",
       "      <th>4</th>\n",
       "      <td>dd_Smes_g4_1</td>\n",
       "      <td>2151927</td>\n",
       "      <td>2151935</td>\n",
       "      <td>ARNTHIF1A_MA0259.1</td>\n",
       "      <td>8.12221</td>\n",
       "      <td>+</td>\n",
       "      <td>dd_Smes_g4_1</td>\n",
       "      <td>2150212</td>\n",
       "      <td>2152213</td>\n",
       "      <td>4.46171</td>\n",
       "      <td>0</td>\n",
       "      <td>MSTRG.10887</td>\n",
       "      <td>arnt-1</td>\n",
       "    </tr>\n",
       "  </tbody>\n",
       "</table>\n",
       "</div>"
      ],
      "text/plain": [
       "       TFBS_chr  TFBS_start  TFBS_end           TFBS_name  TFBS_score  \\\n",
       "0  dd_Smes_g4_1      781790    781798  ARNTHIF1A_MA0259.1     7.99208   \n",
       "1  dd_Smes_g4_1      862704    862712  ARNTHIF1A_MA0259.1     9.79696   \n",
       "2  dd_Smes_g4_1      864116    864124  ARNTHIF1A_MA0259.1     9.79696   \n",
       "3  dd_Smes_g4_1      909263    909271  ARNTHIF1A_MA0259.1     8.30049   \n",
       "4  dd_Smes_g4_1     2151927   2151935  ARNTHIF1A_MA0259.1     8.12221   \n",
       "\n",
       "  TFBS_strand      peak_chr  peak_start  peak_end  X1_score  X1_bound  \\\n",
       "0           +  dd_Smes_g4_1      780036    782037   1.76295         0   \n",
       "1           -  dd_Smes_g4_1      862317    864318   5.07253         0   \n",
       "2           -  dd_Smes_g4_1      862317    864318   3.48371         0   \n",
       "3           -  dd_Smes_g4_1      908180    910181   5.97867         0   \n",
       "4           +  dd_Smes_g4_1     2150212   2152213   4.46171         0   \n",
       "\n",
       "        GeneID TF name  \n",
       "0  MSTRG.10887  arnt-1  \n",
       "1  MSTRG.10887  arnt-1  \n",
       "2  MSTRG.10887  arnt-1  \n",
       "3  MSTRG.10887  arnt-1  \n",
       "4  MSTRG.10887  arnt-1  "
      ]
     },
     "execution_count": 26,
     "metadata": {},
     "output_type": "execute_result"
    }
   ],
   "source": [
    "X1_table.head()"
   ]
  },
  {
   "cell_type": "code",
   "execution_count": null,
   "id": "1a5ae125",
   "metadata": {},
   "outputs": [],
   "source": []
  },
  {
   "cell_type": "markdown",
   "id": "7c7b6bd0",
   "metadata": {},
   "source": [
    "## X1 vs X2 vs Xins"
   ]
  },
  {
   "cell_type": "code",
   "execution_count": 27,
   "id": "2b249df1",
   "metadata": {},
   "outputs": [],
   "source": [
    "%%bash\n",
    "cd /hydra/atac_sexual_final/footprinting/BINDetect_output\n",
    "ls -d *M* > dict.list"
   ]
  },
  {
   "cell_type": "code",
   "execution_count": 28,
   "id": "459352a8",
   "metadata": {},
   "outputs": [],
   "source": [
    "import pandas as pd\n",
    "dicts = pd.read_csv(\"/hydra/atac_sexual_final/footprinting/BINDetect_output/dict.list\", header=None)"
   ]
  },
  {
   "cell_type": "code",
   "execution_count": 29,
   "id": "a63d0c2f",
   "metadata": {},
   "outputs": [],
   "source": [
    "motif_dict = dicts.iloc[0, 0]\n",
    "table = pd.read_csv(\"/hydra/atac_sexual_final/footprinting/BINDetect_output/\"+motif_dict+\"/\"+motif_dict+\"_overview.txt\", sep=\"\\t\")\n",
    "for i in range(1, len(dicts)):\n",
    "    motif_dict = dicts.iloc[i, 0]\n",
    "    table1 = pd.read_csv(\"/hydra/atac_sexual_final/footprinting/BINDetect_output/\"+motif_dict+\"/\"+motif_dict+\"_overview.txt\", sep=\"\\t\")\n",
    "    table = pd.concat([table, table1])"
   ]
  },
  {
   "cell_type": "code",
   "execution_count": 30,
   "id": "5d2cbee8",
   "metadata": {},
   "outputs": [],
   "source": [
    "X1X2Xins_table = table"
   ]
  },
  {
   "cell_type": "code",
   "execution_count": 31,
   "id": "82b95244",
   "metadata": {},
   "outputs": [
    {
     "data": {
      "text/html": [
       "<div>\n",
       "<style scoped>\n",
       "    .dataframe tbody tr th:only-of-type {\n",
       "        vertical-align: middle;\n",
       "    }\n",
       "\n",
       "    .dataframe tbody tr th {\n",
       "        vertical-align: top;\n",
       "    }\n",
       "\n",
       "    .dataframe thead th {\n",
       "        text-align: right;\n",
       "    }\n",
       "</style>\n",
       "<table border=\"1\" class=\"dataframe\">\n",
       "  <thead>\n",
       "    <tr style=\"text-align: right;\">\n",
       "      <th></th>\n",
       "      <th>TFBS_chr</th>\n",
       "      <th>TFBS_start</th>\n",
       "      <th>TFBS_end</th>\n",
       "      <th>TFBS_name</th>\n",
       "      <th>TFBS_score</th>\n",
       "      <th>TFBS_strand</th>\n",
       "      <th>peak_chr</th>\n",
       "      <th>peak_start</th>\n",
       "      <th>peak_end</th>\n",
       "      <th>X1_score</th>\n",
       "      <th>X2_score</th>\n",
       "      <th>Xins_score</th>\n",
       "      <th>X1_bound</th>\n",
       "      <th>X2_bound</th>\n",
       "      <th>Xins_bound</th>\n",
       "      <th>X1_X2_log2fc</th>\n",
       "      <th>X1_Xins_log2fc</th>\n",
       "      <th>X2_Xins_log2fc</th>\n",
       "    </tr>\n",
       "  </thead>\n",
       "  <tbody>\n",
       "    <tr>\n",
       "      <th>0</th>\n",
       "      <td>dd_Smes_g4_1</td>\n",
       "      <td>781790</td>\n",
       "      <td>781798</td>\n",
       "      <td>ARNTHIF1A_MA0259.1</td>\n",
       "      <td>7.99208</td>\n",
       "      <td>+</td>\n",
       "      <td>dd_Smes_g4_1</td>\n",
       "      <td>780036</td>\n",
       "      <td>782037</td>\n",
       "      <td>1.49152</td>\n",
       "      <td>2.57592</td>\n",
       "      <td>0.66551</td>\n",
       "      <td>0</td>\n",
       "      <td>0</td>\n",
       "      <td>0</td>\n",
       "      <td>-0.49105</td>\n",
       "      <td>0.53293</td>\n",
       "      <td>1.02398</td>\n",
       "    </tr>\n",
       "    <tr>\n",
       "      <th>1</th>\n",
       "      <td>dd_Smes_g4_1</td>\n",
       "      <td>862704</td>\n",
       "      <td>862712</td>\n",
       "      <td>ARNTHIF1A_MA0259.1</td>\n",
       "      <td>9.79696</td>\n",
       "      <td>-</td>\n",
       "      <td>dd_Smes_g4_1</td>\n",
       "      <td>862317</td>\n",
       "      <td>864318</td>\n",
       "      <td>5.29087</td>\n",
       "      <td>5.02908</td>\n",
       "      <td>7.11393</td>\n",
       "      <td>0</td>\n",
       "      <td>0</td>\n",
       "      <td>1</td>\n",
       "      <td>0.05955</td>\n",
       "      <td>-0.35795</td>\n",
       "      <td>-0.41750</td>\n",
       "    </tr>\n",
       "    <tr>\n",
       "      <th>2</th>\n",
       "      <td>dd_Smes_g4_1</td>\n",
       "      <td>864116</td>\n",
       "      <td>864124</td>\n",
       "      <td>ARNTHIF1A_MA0259.1</td>\n",
       "      <td>9.79696</td>\n",
       "      <td>-</td>\n",
       "      <td>dd_Smes_g4_1</td>\n",
       "      <td>862317</td>\n",
       "      <td>864318</td>\n",
       "      <td>3.30255</td>\n",
       "      <td>4.51975</td>\n",
       "      <td>4.01300</td>\n",
       "      <td>0</td>\n",
       "      <td>0</td>\n",
       "      <td>0</td>\n",
       "      <td>-0.34638</td>\n",
       "      <td>-0.21212</td>\n",
       "      <td>0.13426</td>\n",
       "    </tr>\n",
       "    <tr>\n",
       "      <th>3</th>\n",
       "      <td>dd_Smes_g4_1</td>\n",
       "      <td>909263</td>\n",
       "      <td>909271</td>\n",
       "      <td>ARNTHIF1A_MA0259.1</td>\n",
       "      <td>8.30049</td>\n",
       "      <td>-</td>\n",
       "      <td>dd_Smes_g4_1</td>\n",
       "      <td>908180</td>\n",
       "      <td>910181</td>\n",
       "      <td>6.43145</td>\n",
       "      <td>5.71373</td>\n",
       "      <td>4.34066</td>\n",
       "      <td>0</td>\n",
       "      <td>0</td>\n",
       "      <td>0</td>\n",
       "      <td>0.14283</td>\n",
       "      <td>0.46312</td>\n",
       "      <td>0.32029</td>\n",
       "    </tr>\n",
       "    <tr>\n",
       "      <th>4</th>\n",
       "      <td>dd_Smes_g4_1</td>\n",
       "      <td>2151927</td>\n",
       "      <td>2151935</td>\n",
       "      <td>ARNTHIF1A_MA0259.1</td>\n",
       "      <td>8.12221</td>\n",
       "      <td>+</td>\n",
       "      <td>dd_Smes_g4_1</td>\n",
       "      <td>2150212</td>\n",
       "      <td>2152213</td>\n",
       "      <td>4.51220</td>\n",
       "      <td>2.21507</td>\n",
       "      <td>4.03954</td>\n",
       "      <td>0</td>\n",
       "      <td>0</td>\n",
       "      <td>0</td>\n",
       "      <td>0.74504</td>\n",
       "      <td>0.12500</td>\n",
       "      <td>-0.62005</td>\n",
       "    </tr>\n",
       "  </tbody>\n",
       "</table>\n",
       "</div>"
      ],
      "text/plain": [
       "       TFBS_chr  TFBS_start  TFBS_end           TFBS_name  TFBS_score  \\\n",
       "0  dd_Smes_g4_1      781790    781798  ARNTHIF1A_MA0259.1     7.99208   \n",
       "1  dd_Smes_g4_1      862704    862712  ARNTHIF1A_MA0259.1     9.79696   \n",
       "2  dd_Smes_g4_1      864116    864124  ARNTHIF1A_MA0259.1     9.79696   \n",
       "3  dd_Smes_g4_1      909263    909271  ARNTHIF1A_MA0259.1     8.30049   \n",
       "4  dd_Smes_g4_1     2151927   2151935  ARNTHIF1A_MA0259.1     8.12221   \n",
       "\n",
       "  TFBS_strand      peak_chr  peak_start  peak_end  X1_score  X2_score  \\\n",
       "0           +  dd_Smes_g4_1      780036    782037   1.49152   2.57592   \n",
       "1           -  dd_Smes_g4_1      862317    864318   5.29087   5.02908   \n",
       "2           -  dd_Smes_g4_1      862317    864318   3.30255   4.51975   \n",
       "3           -  dd_Smes_g4_1      908180    910181   6.43145   5.71373   \n",
       "4           +  dd_Smes_g4_1     2150212   2152213   4.51220   2.21507   \n",
       "\n",
       "   Xins_score  X1_bound  X2_bound  Xins_bound  X1_X2_log2fc  X1_Xins_log2fc  \\\n",
       "0     0.66551         0         0           0      -0.49105         0.53293   \n",
       "1     7.11393         0         0           1       0.05955        -0.35795   \n",
       "2     4.01300         0         0           0      -0.34638        -0.21212   \n",
       "3     4.34066         0         0           0       0.14283         0.46312   \n",
       "4     4.03954         0         0           0       0.74504         0.12500   \n",
       "\n",
       "   X2_Xins_log2fc  \n",
       "0         1.02398  \n",
       "1        -0.41750  \n",
       "2         0.13426  \n",
       "3         0.32029  \n",
       "4        -0.62005  "
      ]
     },
     "execution_count": 31,
     "metadata": {},
     "output_type": "execute_result"
    }
   ],
   "source": [
    "X1X2Xins_table.head()"
   ]
  },
  {
   "cell_type": "code",
   "execution_count": 32,
   "id": "aeccca1b",
   "metadata": {},
   "outputs": [
    {
     "name": "stderr",
     "output_type": "stream",
     "text": [
      "/home/ubuntu/anaconda3/lib/python3.8/site-packages/pandas/core/indexing.py:1637: SettingWithCopyWarning: \n",
      "A value is trying to be set on a copy of a slice from a DataFrame\n",
      "\n",
      "See the caveats in the documentation: https://pandas.pydata.org/pandas-docs/stable/user_guide/indexing.html#returning-a-view-versus-a-copy\n",
      "  self._setitem_single_block(indexer, value, name)\n"
     ]
    },
    {
     "name": "stdout",
     "output_type": "stream",
     "text": [
      "1\n",
      "10001\n",
      "20001\n",
      "30001\n",
      "40001\n",
      "50001\n",
      "60001\n",
      "70001\n",
      "80001\n",
      "90001\n",
      "100001\n",
      "110001\n",
      "120001\n",
      "130001\n",
      "140001\n",
      "150001\n",
      "160001\n",
      "170001\n",
      "180001\n",
      "190001\n",
      "200001\n",
      "220001\n",
      "230001\n",
      "240001\n",
      "260001\n",
      "270001\n",
      "280001\n",
      "290001\n",
      "300001\n",
      "310001\n",
      "320001\n",
      "330001\n",
      "340001\n",
      "350001\n",
      "360001\n",
      "370001\n",
      "380001\n",
      "390001\n",
      "400001\n",
      "410001\n",
      "420001\n",
      "430001\n",
      "440001\n",
      "450001\n",
      "460001\n"
     ]
    }
   ],
   "source": [
    "X1X2Xins_table[\"GeneID\"] = \"a\"\n",
    "X1X2Xins_table[\"TF name\"] = \"a\"\n",
    "for i in range(0, len(X1X2Xins_table)):\n",
    "    matrix_id = X1X2Xins_table.iloc[i, 3].split(\"_\")[1]\n",
    "    gene_id_table = tf_prop[tf_prop[\"Jaspar MatrixID\"] == matrix_id]\n",
    "    if len(gene_id_table) == 0:\n",
    "        continue\n",
    "    gene_id_str = gene_id_table.iloc[0,1]\n",
    "    name_id_str = gene_id_table.iloc[0,2]\n",
    "    for j in range(1,len(gene_id_table)):\n",
    "        gene_id_str = gene_id_str + \":\" + gene_id_table.iloc[j,1]\n",
    "        name_id_str = name_id_str + \":\" + gene_id_table.iloc[j,2]\n",
    "    X1X2Xins_table[\"GeneID\"].iloc[i] = gene_id_str\n",
    "    X1X2Xins_table[\"TF name\"].iloc[i] = name_id_str\n",
    "    if i%10000 == 1:\n",
    "        print(i)\n",
    "X1X2Xins_table.to_csv(\"/hydra/atac_sexual_final/footprinting/BINDetect_output/X1X2Xins_table.csv\", index=False)"
   ]
  },
  {
   "cell_type": "markdown",
   "id": "d1dddb8b",
   "metadata": {},
   "source": [
    "# foxG and Wnt"
   ]
  },
  {
   "cell_type": "code",
   "execution_count": 6,
   "id": "b4015025",
   "metadata": {},
   "outputs": [
    {
     "name": "stdout",
     "output_type": "stream",
     "text": [
      "dd_Smes_g4_197\t264500\t265500\n",
      "dd_Smes_g4_197\t266000\t267000\n"
     ]
    }
   ],
   "source": [
    "%%bash\n",
    "cd /hydra/atac_sexual_final/footprinting\n",
    "echo -e \"dd_Smes_g4_197\\t264500\\t265500\" > wnt_enhancer.bed\n",
    "echo -e \"dd_Smes_g4_197\\t266000\\t267000\" >> wnt_enhancer.bed\n",
    "less wnt_enhancer.bed"
   ]
  },
  {
   "cell_type": "code",
   "execution_count": null,
   "id": "5efc2d3d",
   "metadata": {},
   "outputs": [],
   "source": [
    "SMESG000024191"
   ]
  },
  {
   "cell_type": "code",
   "execution_count": 4,
   "id": "c7b32f62",
   "metadata": {},
   "outputs": [
    {
     "name": "stderr",
     "output_type": "stream",
     "text": [
      "--2021-08-18 22:35:32--  http://jaspar.genereg.net/api/v1/matrix/MA0458.1/?format=meme\n",
      "Resolving jaspar.genereg.net (jaspar.genereg.net)... 193.60.222.202\n",
      "Connecting to jaspar.genereg.net (jaspar.genereg.net)|193.60.222.202|:80... connected.\n",
      "HTTP request sent, awaiting response... 200 OK\n",
      "Length: 672 [text/meme]\n",
      "Saving to: ‘MA0458.meme’\n",
      "\n",
      "     0K                                                       100% 99.8M=0s\n",
      "\n",
      "2021-08-18 22:35:32 (99.8 MB/s) - ‘MA0458.meme’ saved [672/672]\n",
      "\n"
     ]
    }
   ],
   "source": [
    "%%bash\n",
    "cd /hydra/TF_data/April2021motifs\n",
    "wget http://jaspar.genereg.net/api/v1/matrix/MA0458.1/?format=meme -O MA0458.meme"
   ]
  },
  {
   "cell_type": "code",
   "execution_count": 7,
   "id": "5056f936",
   "metadata": {},
   "outputs": [
    {
     "name": "stdout",
     "output_type": "stream",
     "text": [
      "#!/bin/bash\n",
      "cd /hydra/atac_sexual_final/footprinting\n",
      "TOBIAS BINDetect --motifs /hydra/TF_data/April2021motifs/MA0458.meme --signals x1marked_footprints_regions.bw --genome /hydra/sexual_genome_annotation_files/sexual_genome_annotation/final_dd_Smed_g4.fa --peaks /hydra/enhancer_regions/chip_summits_regions.bed --outdir BINDetect_wnt --cond_names X1\n"
     ]
    }
   ],
   "source": [
    "%%bash\n",
    "cd /hydra/atac_sexual_final\n",
    "echo \"#!/bin/bash\" > x1binddetect_wnts.sh\n",
    "echo \"cd /hydra/atac_sexual_final/footprinting\" >> x1binddetect_wnts.sh\n",
    "echo \"TOBIAS BINDetect --motifs /hydra/TF_data/April2021motifs/MA0458.meme --signals x1marked_footprints_regions.bw --genome /hydra/sexual_genome_annotation_files/sexual_genome_annotation/final_dd_Smed_g4.fa --peaks /hydra/enhancer_regions/chip_summits_regions.bed --outdir BINDetect_wnt --cond_names X1\" >> x1binddetect_wnts.sh\n",
    "chmod +x x1binddetect_wnts.sh\n",
    "less x1binddetect_wnts.sh"
   ]
  },
  {
   "cell_type": "code",
   "execution_count": 24,
   "id": "f86988ac",
   "metadata": {},
   "outputs": [
    {
     "name": "stdout",
     "output_type": "stream",
     "text": [
      "slp1.bed\n",
      "slp1_MA0458.1_X1_bound.bed\n",
      "slp1_MA0458.1_X1_unbound.bed\n",
      "slp1_MA0458.1_all.bed\n"
     ]
    }
   ],
   "source": [
    "%%bash\n",
    "ls /hydra/atac_sexual_final/footprinting/BINDetect_wnt/slp1_MA0458.1/beds/"
   ]
  },
  {
   "cell_type": "code",
   "execution_count": 25,
   "id": "43ac5cee",
   "metadata": {},
   "outputs": [],
   "source": [
    "import pandas as pd\n",
    "X1_table = pd.read_csv(\"/hydra/atac_sexual_final/footprinting/BINDetect_wnt/slp1_MA0458.1/beds/slp1_MA0458.1_X1_unbound.bed\", sep=\"\\t\", header=None)\n",
    "X1_table.iloc[:,0:3].to_csv(\"/hydra/atac_sexual_final/footprinting/BINDetect_wnt/slp1_MA0458.1/beds/slp1.bed\", index=False, header=None, sep=\"\\t\")"
   ]
  },
  {
   "cell_type": "code",
   "execution_count": null,
   "id": "592e0684",
   "metadata": {},
   "outputs": [],
   "source": [
    "ndl-3, ptk7, and trig-1 "
   ]
  },
  {
   "cell_type": "code",
   "execution_count": null,
   "id": "60a9f333",
   "metadata": {},
   "outputs": [],
   "source": []
  }
 ],
 "metadata": {
  "kernelspec": {
   "display_name": "Python 3 (ipykernel)",
   "language": "python",
   "name": "python3"
  },
  "language_info": {
   "codemirror_mode": {
    "name": "ipython",
    "version": 3
   },
   "file_extension": ".py",
   "mimetype": "text/x-python",
   "name": "python",
   "nbconvert_exporter": "python",
   "pygments_lexer": "ipython3",
   "version": "3.8.12"
  }
 },
 "nbformat": 4,
 "nbformat_minor": 5
}
