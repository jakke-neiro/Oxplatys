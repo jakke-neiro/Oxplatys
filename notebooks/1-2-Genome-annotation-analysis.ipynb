{
 "cells": [
  {
   "cell_type": "markdown",
   "id": "compliant-mainland",
   "metadata": {},
   "source": [
    "# 1-2-Genome-annotation-analysis\n",
    "Jakke Neiro$^1$\n",
    "1. Aboobaker laboratory, Department of Zoology, University of Oxford"
   ]
  },
  {
   "cell_type": "markdown",
   "id": "ultimate-badge",
   "metadata": {},
   "source": [
    "## Contents of notebook\n",
    "* 1. Introduction\n",
    "* 2. Comparison of annotations\n",
    "    * 2.1 Rink High-confidence vs. Neiro\n",
    "* 3. GO terms for Rink high-confidence transcripts\n",
    "    * 3.1 High-confidence transcripts from annotation file\n",
    "    * 3.2 Transdecoder\n",
    "    * 3.3 Interproscan\n",
    "    * 3.4 GO terms\n",
    "* 4. Coding and non-coding transcripts from new annotation\n",
    "    * 4.1 Putative ncRNAs from annotation file\n",
    "    * 4.2 Transdecoder\n",
    "        * 4.2.1 Open reading frames\n",
    "        * 4.2.2 Preparation for Interproscan\n",
    "    * 4.3 Inteproscan\n",
    "        * 4.3.1 Sequences longer than 100 amino acids\n",
    "        * 4.3.2 Sequences shorter than 1000 amino acids\n",
    "    * 4.4 Characterisation of transcripts\n",
    "        * 4.4.1 Coding sequences longer than 100 amino acids\n",
    "        * 4.4.2 Coding sequences shorter than 100 amino acids\n",
    "        * 4.4.3 Non-coding transcripts"
   ]
  },
  {
   "cell_type": "markdown",
   "id": "searching-former",
   "metadata": {},
   "source": [
    "## Files:\n",
    "* Input: stringtie_merged.gtf\n",
    "* Output: interpro_rink.GO.tab, ncrna_coding_May2021.GO.tab, ncrna_new_coding_May2021.GO.tab, noncoding_final_May2021.csv"
   ]
  },
  {
   "cell_type": "markdown",
   "id": "historic-jersey",
   "metadata": {},
   "source": [
    "# 1. Introduction"
   ]
  },
  {
   "cell_type": "markdown",
   "id": "2ea9a94a",
   "metadata": {},
   "source": [
    "The genome annotation generated in 1-1-Genomeannotation was used to identify new coding and non-coding transcripts. In addition, GO terms were assigned to transcripts from the Rink high-confidence transcripts. "
   ]
  },
  {
   "cell_type": "markdown",
   "id": "polished-submission",
   "metadata": {},
   "source": [
    "# 2. Comparison of annotations"
   ]
  },
  {
   "cell_type": "markdown",
   "id": "eadd24d7",
   "metadata": {},
   "source": [
    "First, the new annotation was compared to previous annotations. "
   ]
  },
  {
   "cell_type": "markdown",
   "id": "valid-prompt",
   "metadata": {},
   "source": [
    "## 2.1 Rink High-confidence vs. Neiro"
   ]
  },
  {
   "cell_type": "markdown",
   "id": "ff866e00",
   "metadata": {},
   "source": [
    "The new annotation (\"Neiro\") was compared to the Rink's high-confidence annotation from Planmine (\"Rink High-confidence\")(http://planmine.mpi-cbg.de/planmine/aspect.do?name=Gene%20Predictions) with gffcompare. "
   ]
  },
  {
   "cell_type": "code",
   "execution_count": null,
   "id": "special-exploration",
   "metadata": {},
   "outputs": [],
   "source": [
    "#%%bash\n",
    "#cd /hydra/neiro_bam\n",
    "#/hydra/software/gffcompare-0.11.5/gffcompare -r ~/sexual_genome_annotation_files/sexual_genome_annotation/smes_v2_hconf_SMESG.gtf -G stringtie_merged.gtf"
   ]
  },
  {
   "cell_type": "markdown",
   "id": "d281a521",
   "metadata": {},
   "source": [
    "The gffcompare results were investigated:"
   ]
  },
  {
   "cell_type": "code",
   "execution_count": 2,
   "id": "conceptual-credits",
   "metadata": {},
   "outputs": [
    {
     "name": "stdout",
     "output_type": "stream",
     "text": [
      "# gffcompare v0.11.5 | Command line was:\n",
      "#/home/likewise-open/ZOO/quee4048/software/gffcompare-0.11.5/gffcompare -r /home/likewise-open/ZOO/quee4048/sexual_genome_annotation_files/sexual_genome_annotation/smes_v2_hconf_SMESG.gtf -G stringtie_merged.gtf\n",
      "#\n",
      "\n",
      "#= Summary for dataset: stringtie_merged.gtf \n",
      "#     Query mRNAs :   91068 in   28097 loci  (82514 multi-exon transcripts)\n",
      "#            (14673 multi-transcript loci, ~3.2 transcripts per locus)\n",
      "# Reference mRNAs :   28173 in   22129 loci  (22798 multi-exon)\n",
      "# Super-loci w/ reference transcripts:    20781\n",
      "#-----------------| Sensitivity | Precision  |\n",
      "        Base level:   100.0     |    81.0    |\n",
      "        Exon level:    98.0     |    57.3    |\n",
      "      Intron level:   100.0     |    69.8    |\n",
      "Intron chain level:   100.0     |    27.6    |\n",
      "  Transcript level:   100.0     |    30.9    |\n",
      "       Locus level:   100.0     |    73.9    |\n",
      "\n",
      "     Matching intron chains:   22798\n",
      "       Matching transcripts:   28160\n",
      "              Matching loci:   22120\n",
      "\n",
      "          Missed exons:       0/134497\t(  0.0%)\n",
      "           Novel exons:   35901/247071\t( 14.5%)\n",
      "        Missed introns:      10/109355\t(  0.0%)\n",
      "         Novel introns:   21768/156685\t( 13.9%)\n",
      "           Missed loci:       0/22129\t(  0.0%)\n",
      "            Novel loci:    7316/28097\t( 26.0%)\n",
      "\n",
      " Total union super-loci across all input datasets: 28097 \n",
      "91068 out of 91068 consensus transcripts written in gffcmp.annotated.gtf (0 discarded as redundant)\n"
     ]
    }
   ],
   "source": [
    "%%bash\n",
    "cd /hydra/neiro_bam\n",
    "less gffcmp.stats"
   ]
  },
  {
   "cell_type": "code",
   "execution_count": 3,
   "id": "legislative-translation",
   "metadata": {},
   "outputs": [
    {
     "name": "stdout",
     "output_type": "stream",
     "text": [
      "TCONS_00000001\tXLOC_000001\tSMESG000026673.1|SMEST026673001.1\t=\tq1:MSTRG.1|SMEST026673001.1|2|0.000000|0.000000|0.000000|1072\n",
      "TCONS_00000002\tXLOC_000001\tSMESG000026673.1|SMEST026673001.1\tm\tq1:MSTRG.1|MSTRG.1.2|1|0.000000|0.000000|0.000000|1042\n"
     ]
    }
   ],
   "source": [
    "%%bash\n",
    "cd /hydra/neiro_bam\n",
    "head -2 gffcmp.tracking"
   ]
  },
  {
   "cell_type": "code",
   "execution_count": 5,
   "id": "accurate-primary",
   "metadata": {},
   "outputs": [
    {
     "name": "stdout",
     "output_type": "stream",
     "text": [
      "XLOC_000001\tdd_Smes_g4_1[+]20346-21503\tSMESG000026673.1|SMEST026673001.1\tSMEST026673001.1,MSTRG.1.2,MSTRG.1.3\n",
      "XLOC_000002\tdd_Smes_g4_1[+]30235-31845\t-\tMSTRG.2.1,MSTRG.2.2\n"
     ]
    }
   ],
   "source": [
    "%%bash\n",
    "cd /hydra/neiro_bam\n",
    "head -2 gffcmp.loci"
   ]
  },
  {
   "cell_type": "code",
   "execution_count": 6,
   "id": "rural-inspection",
   "metadata": {},
   "outputs": [
    {
     "name": "stdout",
     "output_type": "stream",
     "text": [
      "ref_gene_id\tref_id\tclass_code\tqry_id_list\n",
      "SMESG000026673.1\tSMEST026673001.1\t=\tMSTRG.1|SMEST026673001.1\n"
     ]
    }
   ],
   "source": [
    "%%bash\n",
    "cd /hydra/neiro_bam\n",
    "head -2 gffcmp.stringtie_merged.gtf.refmap"
   ]
  },
  {
   "cell_type": "code",
   "execution_count": 7,
   "id": "realistic-binding",
   "metadata": {},
   "outputs": [
    {
     "name": "stdout",
     "output_type": "stream",
     "text": [
      "ref_gene_id\tref_id\tclass_code\tqry_gene_id\tqry_id\tnum_exons\tFPKM\tTPM\t\tcov\tlen\tmajor_iso_id\tref_match_len\n",
      "SMESG000026673.1\tSMEST026673001.1\t=\tMSTRG.1\tSMEST026673001.1\t2\t0.000000\t0.000000\t0.000000\t1072\tSMEST026673001.1\t553\n"
     ]
    }
   ],
   "source": [
    "%%bash\n",
    "cd /hydra/neiro_bam\n",
    "head -2 gffcmp.stringtie_merged.gtf.tmap"
   ]
  },
  {
   "cell_type": "code",
   "execution_count": 9,
   "id": "fixed-canal",
   "metadata": {},
   "outputs": [
    {
     "name": "stdout",
     "output_type": "stream",
     "text": [
      "dd_Smes_g4_1\tStringTie\ttranscript\t20346\t21503\t.\t+\t.\ttranscript_id \"SMEST026673001.1\"; gene_id \"MSTRG.1\"; gene_name \"SMESG000026673.1\"; xloc \"XLOC_000001\"; ref_gene_id \"SMESG000026673.1\"; cmp_ref \"SMEST026673001.1\"; class_code \"=\"; tss_id \"TSS1\";\n",
      "dd_Smes_g4_1\tStringTie\texon\t20346\t20485\t.\t+\t.\ttranscript_id \"SMEST026673001.1\"; gene_id \"MSTRG.1\"; exon_number \"1\";\n"
     ]
    }
   ],
   "source": [
    "%%bash\n",
    "cd /hydra/neiro_bam\n",
    "head -2 gffcmp.annotated.gtf"
   ]
  },
  {
   "cell_type": "code",
   "execution_count": 2,
   "id": "6df2726d",
   "metadata": {},
   "outputs": [],
   "source": [
    "%%bash\n",
    "cd /hydra/neiro_bam\n",
    "grep -v -P '\\t\\.\\t\\.\\t' stringtie_merged.gtf > stringtie_merged_R.gtf"
   ]
  },
  {
   "cell_type": "code",
   "execution_count": 1,
   "id": "684e0b05",
   "metadata": {},
   "outputs": [
    {
     "data": {
      "text/plain": [
       "5968"
      ]
     },
     "execution_count": 1,
     "metadata": {},
     "output_type": "execute_result"
    }
   ],
   "source": [
    "28097-22129"
   ]
  },
  {
   "cell_type": "code",
   "execution_count": null,
   "id": "25ea7bf2",
   "metadata": {},
   "outputs": [],
   "source": []
  },
  {
   "cell_type": "markdown",
   "id": "4053fd50",
   "metadata": {},
   "source": [
    "# 3. GO terms for Rink high-confidence transcripts"
   ]
  },
  {
   "cell_type": "markdown",
   "id": "effd1e74",
   "metadata": {},
   "source": [
    "The GO terms for Rink's high-confidence transcripts were extracted with Interproscan. The GO terms of these transcripts were later compared to the new identified transcripts (1-3-Genome-annotation-analysis-R, 3. Gene ontology analysis of new coding transcripts).   "
   ]
  },
  {
   "cell_type": "markdown",
   "id": "d345e9b9",
   "metadata": {},
   "source": [
    "## 3.1 High-confidence transcripts from annotation file"
   ]
  },
  {
   "cell_type": "markdown",
   "id": "a9a9ed43",
   "metadata": {},
   "source": [
    "The high-confidence transcripts were extracted from the annotation file."
   ]
  },
  {
   "cell_type": "code",
   "execution_count": null,
   "id": "bfab6393",
   "metadata": {},
   "outputs": [],
   "source": [
    "%%bash\n",
    "cd /hydra/GO\n",
    "gffread -x final_dd_Smed_g4_transcripts.fa -g ~/sexual_genome_annotation_files/sexual_genome_annotation/final_dd_Smed_g4.fa ~/sexual_genome_annotation_files/sexual_genome_annotation/smes_v2_hconf_SMESG.gff3"
   ]
  },
  {
   "cell_type": "code",
   "execution_count": 4,
   "id": "004f232a",
   "metadata": {},
   "outputs": [
    {
     "name": "stderr",
     "output_type": "stream",
     "text": [
      "0.12.1\n"
     ]
    }
   ],
   "source": [
    "%%bash\n",
    "cd /hydra/GO\n",
    "gffread --version"
   ]
  },
  {
   "cell_type": "code",
   "execution_count": 1,
   "id": "1e7abe7f",
   "metadata": {},
   "outputs": [
    {
     "name": "stdout",
     "output_type": "stream",
     "text": [
      "31102\n"
     ]
    }
   ],
   "source": [
    "%%bash\n",
    "cd /hydra/GO\n",
    "grep -c \">\" final_dd_Smed_g4_transcripts.fa"
   ]
  },
  {
   "cell_type": "markdown",
   "id": "597bb674",
   "metadata": {},
   "source": [
    "## 3.2 Transdecoder"
   ]
  },
  {
   "cell_type": "markdown",
   "id": "b2233427",
   "metadata": {},
   "source": [
    "The open reading frames were computed with Transdecoder."
   ]
  },
  {
   "cell_type": "code",
   "execution_count": null,
   "id": "a25eaa3c",
   "metadata": {},
   "outputs": [],
   "source": [
    "#%%bash\n",
    "#cd /hydra/GO\n",
    "#TransDecoder.LongOrfs -t final_dd_Smed_g4_transcripts.fa -o Transdecoder_final"
   ]
  },
  {
   "cell_type": "code",
   "execution_count": 5,
   "id": "1356d54e",
   "metadata": {},
   "outputs": [
    {
     "name": "stdout",
     "output_type": "stream",
     "text": [
      "TransDecoder.LongOrfs 5.5.0\n"
     ]
    }
   ],
   "source": [
    "%%bash\n",
    "cd /hydra/GO\n",
    "TransDecoder.LongOrfs --version"
   ]
  },
  {
   "cell_type": "code",
   "execution_count": 2,
   "id": "43fef4aa",
   "metadata": {},
   "outputs": [
    {
     "name": "stdout",
     "output_type": "stream",
     "text": [
      "36368\n"
     ]
    }
   ],
   "source": [
    "%%bash\n",
    "cd /hydra/GO/Transdecoder_final\n",
    "grep -c \">\" longest_orfs.pep"
   ]
  },
  {
   "cell_type": "markdown",
   "id": "ac6b7c2e",
   "metadata": {},
   "source": [
    "The last \"\\*\" character of the peptide sequences was removed."
   ]
  },
  {
   "cell_type": "code",
   "execution_count": null,
   "id": "37a11ebe",
   "metadata": {},
   "outputs": [],
   "source": [
    "%%bash\n",
    "cd /hydra/GO/Transdecoder_final\n",
    "cp longest_orfs.pep longest_orfs_ip.pep\n",
    "sed -i 's_*__g' longest_orfs_ip.pep\n",
    "head longest_orfs_ip.pep"
   ]
  },
  {
   "cell_type": "markdown",
   "id": "32c9a90a",
   "metadata": {},
   "source": [
    "## 3.3 Interproscan"
   ]
  },
  {
   "cell_type": "markdown",
   "id": "ee4cd454",
   "metadata": {},
   "source": [
    "The peptide file generated with Transdecoder was split up into parts for Interproscan:"
   ]
  },
  {
   "cell_type": "code",
   "execution_count": null,
   "id": "aa583c0b",
   "metadata": {},
   "outputs": [],
   "source": [
    "%%bash\n",
    "cd /hydra/GO/Transdecoder_final\n",
    "seqkit range -r 1:5000 longest_orfs_ip.pep > orfs_1_5k.fa.pep\n",
    "seqkit range -r 5001:10000 longest_orfs_ip.pep > orfs_5k_10k.fa.pep\n",
    "seqkit range -r 10001:15000 longest_orfs_ip.pep > orfs_10k_15k.fa.pep\n",
    "seqkit range -r 15001:20000 longest_orfs_ip.pep > orfs_15k_20k.fa.pep\n",
    "seqkit range -r 20001:25000 longest_orfs_ip.pep > orfs_20k_25k.fa.pep\n",
    "seqkit range -r 25001:30000 longest_orfs_ip.pep > orfs_25k_30k.fa.pep\n",
    "seqkit range -r 30001:36368 longest_orfs_ip.pep > orfs_30k_36k.fa.pep"
   ]
  },
  {
   "cell_type": "markdown",
   "id": "f69ea090",
   "metadata": {},
   "source": [
    "The GO terms (and other peptide domain information) were obtained with Interproscan: "
   ]
  },
  {
   "cell_type": "code",
   "execution_count": null,
   "id": "5c9bbd05",
   "metadata": {},
   "outputs": [],
   "source": [
    "#%%bash\n",
    "#cd /hydra/GO\n",
    "#nohup ~/software/interproscan-5.39-77.0/interproscan.sh -i ./Transdecoder_final/orfs_1_5k.fa.pep -d interpro -appl Pfam, SUPERFAMILY -goterms &\n",
    "#nohup ~/software/interproscan-5.39-77.0/interproscan.sh -i ./Transdecoder_final/orfs_5k_10k.fa.pep -d interpro -appl Pfam, SUPERFAMILY -goterms &\n",
    "#nohup ~/software/interproscan-5.39-77.0/interproscan.sh -i ./Transdecoder_final/orfs_10k_15k.fa.pep -d interpro -appl Pfam, SUPERFAMILY -goterms &\n",
    "#nohup ~/software/interproscan-5.39-77.0/interproscan.sh -i ./Transdecoder_final/orfs_15k_20k.fa.pep -d interpro -appl Pfam, SUPERFAMILY -goterms &\n",
    "#nohup ~/software/interproscan-5.39-77.0/interproscan.sh -i ./Transdecoder_final/orfs_20k_25k.fa.pep -d interpro -appl Pfam, SUPERFAMILY -goterms &\n",
    "#nohup ~/software/interproscan-5.39-77.0/interproscan.sh -i ./Transdecoder_final/orfs_25k_30k.fa.pep -d interpro -appl Pfam, SUPERFAMILY -goterms &\n",
    "#nohup ~/software/interproscan-5.39-77.0/interproscan.sh -i ./Transdecoder_final/orfs_30k_36k.fa.pep -d interpro -appl Pfam, SUPERFAMILY -goterms &"
   ]
  },
  {
   "cell_type": "markdown",
   "id": "9bf26647",
   "metadata": {},
   "source": [
    "## 3.4 GO terms"
   ]
  },
  {
   "cell_type": "markdown",
   "id": "5778c0b2",
   "metadata": {},
   "source": [
    "The GO terms were extracted from the Interproscan output file and retabulated (interpro_rink.GO.tab). "
   ]
  },
  {
   "cell_type": "code",
   "execution_count": 3,
   "id": "0f93865d",
   "metadata": {},
   "outputs": [
    {
     "name": "stdout",
     "output_type": "stream",
     "text": [
      "orfs_10k_15k.fa.pep.tsv\n",
      "orfs_15k_20k.fa.pep.tsv\n",
      "orfs_1_5k.fa.pep.tsv\n",
      "orfs_20k_25k.fa.pep.tsv\n",
      "orfs_25k_30k.fa.pep.tsv\n",
      "orfs_30k_31k.fa.pep.tsv\n",
      "orfs_5k_10k.fa.pep.tsv\n"
     ]
    }
   ],
   "source": [
    "%%bash\n",
    "cd /hydra/GO/interpro\n",
    "ls *tsv"
   ]
  },
  {
   "cell_type": "code",
   "execution_count": null,
   "id": "091c175f",
   "metadata": {},
   "outputs": [],
   "source": [
    "paths = [\"../GO/interpro/orfs_1_5k.fa.pep.tsv\", \"../GO/interpro/orfs_5k_10k.fa.pep.tsv\", \"../GO/interpro/orfs_10k_15k.fa.pep.tsv\", \"../GO/interpro/orfs_15k_20k.fa.pep.tsv\", \"../GO/interpro/orfs_20k_25k.fa.pep.tsv\", \"../GO/interpro/orfs_25k_30k.fa.pep.tsv\"]\n",
    "transcripts = []\n",
    "gos = []\n",
    "for path in paths:\n",
    "    f = open(path)\n",
    "    content = f.readlines()\n",
    "    print(len(content))\n",
    "    for i in range(0, len(content)):\n",
    "        if len(content[i].split(\"\\t\")) == 14 and content[i].split(\"\\t\")[13] != \"\\n\":\n",
    "            transcript = content[i].split(\"\\t\")[0].rpartition(\".\")[0]\n",
    "            go = content[i].split(\"\\t\")[13].split(\"\\n\")[0].split(\"|\")\n",
    "            #transcripts were only included once\n",
    "            if transcript not in transcripts:\n",
    "                transcripts.append(transcript)\n",
    "                gos.append(go)"
   ]
  },
  {
   "cell_type": "code",
   "execution_count": null,
   "id": "cbe27d63",
   "metadata": {},
   "outputs": [],
   "source": [
    "f = open(\"../GO/interpro/interpro_rink.GO.tab\", \"a+\")\n",
    "for i in range(0, len(transcripts)):\n",
    "    f.write(str(transcripts[i])+\"\\t\")\n",
    "    for j in range(0, len(gos[i])):\n",
    "        if j == (len(gos[i])-1):\n",
    "            f.write(str(gos[i][j])+\"\\n\")\n",
    "        else:\n",
    "            f.write(str(gos[i][j])+\", \")"
   ]
  },
  {
   "cell_type": "code",
   "execution_count": 4,
   "id": "4e501ef2",
   "metadata": {},
   "outputs": [
    {
     "name": "stdout",
     "output_type": "stream",
     "text": [
      "SMEST000228003.1\tGO:0046983\n",
      "SMEST026320001.1\tGO:0003723\n",
      "11194 interpro_rink.GO.tab\n"
     ]
    }
   ],
   "source": [
    "%%bash\n",
    "cd /hydra/GO/interpro/\n",
    "head -2 interpro_rink.GO.tab\n",
    "wc -l interpro_rink.GO.tab"
   ]
  },
  {
   "cell_type": "markdown",
   "id": "stuffed-service",
   "metadata": {},
   "source": [
    "# 4. Coding and non-coding transcripts from new annotation"
   ]
  },
  {
   "cell_type": "markdown",
   "id": "92cf9244",
   "metadata": {},
   "source": [
    "The transcripts from the new annotation were characterised."
   ]
  },
  {
   "cell_type": "markdown",
   "id": "fifty-specification",
   "metadata": {},
   "source": [
    "## 4.1 Putative ncRNAs from annotation file"
   ]
  },
  {
   "cell_type": "markdown",
   "id": "2f44f21d",
   "metadata": {},
   "source": [
    "The gffcompare tmap file was imported:"
   ]
  },
  {
   "cell_type": "code",
   "execution_count": 1,
   "id": "progressive-denmark",
   "metadata": {},
   "outputs": [],
   "source": [
    "import pandas as pd\n",
    "gffcmp = pd.read_csv(\"/hydra/sexual_genome_annotation_files/ncrna_Neiro/gffcmp.stringtie_merged.gtf.tmap\", sep=\"\\t\")"
   ]
  },
  {
   "cell_type": "code",
   "execution_count": null,
   "id": "2bef082e",
   "metadata": {},
   "outputs": [],
   "source": []
  },
  {
   "cell_type": "markdown",
   "id": "3e47eb1f",
   "metadata": {},
   "source": [
    "The total number of transcripts in the new annotation was calculated:"
   ]
  },
  {
   "cell_type": "code",
   "execution_count": 13,
   "id": "e9df5c8c",
   "metadata": {},
   "outputs": [
    {
     "data": {
      "text/plain": [
       "91068"
      ]
     },
     "execution_count": 13,
     "metadata": {},
     "output_type": "execute_result"
    }
   ],
   "source": [
    "len(gffcmp)"
   ]
  },
  {
   "cell_type": "code",
   "execution_count": null,
   "id": "5ee0ed79",
   "metadata": {},
   "outputs": [],
   "source": [
    "The total number"
   ]
  },
  {
   "cell_type": "code",
   "execution_count": 10,
   "id": "31fe20be",
   "metadata": {},
   "outputs": [
    {
     "data": {
      "text/plain": [
       "28624"
      ]
     },
     "execution_count": 10,
     "metadata": {},
     "output_type": "execute_result"
    }
   ],
   "source": [
    "len(gffcmp[gffcmp[\"class_code\"] == \"=\"])"
   ]
  },
  {
   "cell_type": "code",
   "execution_count": 13,
   "id": "ranging-privacy",
   "metadata": {},
   "outputs": [],
   "source": [
    "ncrna = gffcmp[gffcmp[\"class_code\"].isin(['u', 'i', \"x\"])]"
   ]
  },
  {
   "cell_type": "code",
   "execution_count": 14,
   "id": "excellent-departure",
   "metadata": {},
   "outputs": [
    {
     "data": {
      "text/plain": [
       "11255"
      ]
     },
     "execution_count": 14,
     "metadata": {},
     "output_type": "execute_result"
    }
   ],
   "source": [
    "len(ncrna)"
   ]
  },
  {
   "cell_type": "code",
   "execution_count": 52,
   "id": "accredited-repeat",
   "metadata": {},
   "outputs": [
    {
     "data": {
      "text/plain": [
       "50834"
      ]
     },
     "execution_count": 52,
     "metadata": {},
     "output_type": "execute_result"
    }
   ],
   "source": [
    "len(gffcmp[gffcmp[\"class_code\"].isin(['c', 'k', 'm', 'n', 'j', 'e', 'o'])])"
   ]
  },
  {
   "cell_type": "markdown",
   "id": "fbeb81cc",
   "metadata": {},
   "source": [
    "The IDs of the putative ncRNAs were saves as a list file:"
   ]
  },
  {
   "cell_type": "code",
   "execution_count": 57,
   "id": "consecutive-anniversary",
   "metadata": {},
   "outputs": [],
   "source": [
    "#ncrna.iloc[:, 4].to_csv(\"../sexual_genome_annotation_files/ncrna_Neiro/ncrna_list.csv\", sep =\"\\t\", index=False)"
   ]
  },
  {
   "cell_type": "markdown",
   "id": "0b7f8e15",
   "metadata": {},
   "source": [
    "The ncRNAs were extracted as a gtf file:"
   ]
  },
  {
   "cell_type": "code",
   "execution_count": null,
   "id": "headed-knitting",
   "metadata": {},
   "outputs": [],
   "source": [
    "#%%bash\n",
    "#cd ../../../../../../data/ngs/smed/facs_rnaseq_datasets/sexual/neiro_bam\n",
    "#grep -F -f ~/sexual_genome_annotation_files/ncrna_Neiro/ncrna_list.csv gffcmp.annotated.gtf > ~/sexual_genome_annotation_files/ncrna_Neiro/stringtie.annotated.ncrna.gtf"
   ]
  },
  {
   "cell_type": "code",
   "execution_count": 19,
   "id": "compressed-steps",
   "metadata": {},
   "outputs": [
    {
     "name": "stdout",
     "output_type": "stream",
     "text": [
      "dd_Smes_g4_1\tStringTie\ttranscript\t30235\t31845\t.\t+\t.\ttranscript_id \"MSTRG.2.1\"; gene_id \"MSTRG.2\"; xloc \"XLOC_000002\"; class_code \"u\"; tss_id \"TSS4\";\n",
      "dd_Smes_g4_1\tStringTie\texon\t30235\t30464\t.\t+\t.\ttranscript_id \"MSTRG.2.1\"; gene_id \"MSTRG.2\"; exon_number \"1\";\n"
     ]
    }
   ],
   "source": [
    "%%bash\n",
    "cd /hydra/sexual_genome_annotation_files/ncrna_Neiro\n",
    "head -2 stringtie.annotated.ncrna.gtf"
   ]
  },
  {
   "cell_type": "markdown",
   "id": "f0802858",
   "metadata": {},
   "source": [
    "The ncRNA sequences were extracted using the gtf file:"
   ]
  },
  {
   "cell_type": "code",
   "execution_count": null,
   "id": "arabic-somewhere",
   "metadata": {},
   "outputs": [],
   "source": [
    "#%%bash\n",
    "#cd ~/sexual_genome_annotation_files/ncrna_Neiro\n",
    "#gffread -w ncrna_transcripts.fa -g ../sexual_genome_annotation/final_dd_Smed_g4.fa stringtie.annotated.ncrna.gtf"
   ]
  },
  {
   "cell_type": "code",
   "execution_count": 21,
   "id": "ancient-silver",
   "metadata": {},
   "outputs": [
    {
     "name": "stdout",
     "output_type": "stream",
     "text": [
      ">MSTRG.2.1\n",
      "GTAAAGTTAACCAAAACTTGTATTTGTTTATAACAATTGTTTAAATAATGTCTACTTCATCAAAAATATT\n"
     ]
    }
   ],
   "source": [
    "%%bash\n",
    "cd /hydra/sexual_genome_annotation_files/ncrna_Neiro\n",
    "head -2 ncrna_transcripts.fa"
   ]
  },
  {
   "cell_type": "code",
   "execution_count": 22,
   "id": "mounted-protection",
   "metadata": {},
   "outputs": [
    {
     "name": "stdout",
     "output_type": "stream",
     "text": [
      "11361\n"
     ]
    }
   ],
   "source": [
    "%%bash\n",
    "cd /hydra/sexual_genome_annotation_files/ncrna_Neiro\n",
    "grep -c \">\" ncrna_transcripts.fa"
   ]
  },
  {
   "cell_type": "markdown",
   "id": "3e71c06a",
   "metadata": {},
   "source": [
    "Because of the grep function, some false postivies were included in the fasta file."
   ]
  },
  {
   "cell_type": "markdown",
   "id": "qualified-overall",
   "metadata": {},
   "source": [
    "## 4.2 Transdecoder"
   ]
  },
  {
   "cell_type": "markdown",
   "id": "strange-knife",
   "metadata": {},
   "source": [
    "### 4.2.1 Open reading frames"
   ]
  },
  {
   "cell_type": "markdown",
   "id": "e40ea9c7",
   "metadata": {},
   "source": [
    "The open reading frames for new transcripts were computed with Transdecoder:"
   ]
  },
  {
   "cell_type": "code",
   "execution_count": null,
   "id": "another-junction",
   "metadata": {},
   "outputs": [],
   "source": [
    "#%%bash\n",
    "#cd ~/sexual_genome_annotation_files/ncrna_Neiro\n",
    "#TransDecoder.LongOrfs -t ncrna_transcripts.fa -m 10 -O Transdecoder_final"
   ]
  },
  {
   "cell_type": "code",
   "execution_count": 24,
   "id": "upper-worse",
   "metadata": {},
   "outputs": [
    {
     "name": "stdout",
     "output_type": "stream",
     "text": [
      "144368\n"
     ]
    }
   ],
   "source": [
    "%%bash\n",
    "cd /hydra/sexual_genome_annotation_files/ncrna_Neiro/Transdecoder_final/\n",
    "grep -c \">\" longest_orfs.pep"
   ]
  },
  {
   "cell_type": "code",
   "execution_count": 26,
   "id": "knowing-cinema",
   "metadata": {},
   "outputs": [
    {
     "name": "stdout",
     "output_type": "stream",
     "text": [
      "MSTRG.2.1\ttransdecoder\tgene\t1\t1569\t.\t-\t.\tID=GENE.MSTRG.2.1~~MSTRG.2.1.p1;Name=ORF%20type%3Acomplete%20len%3A250%20%28-%29\n",
      "MSTRG.2.1\ttransdecoder\tmRNA\t1\t1569\t.\t-\t.\tID=MSTRG.2.1.p1;Parent=GENE.MSTRG.2.1~~MSTRG.2.1.p1;Name=ORF%20type%3Acomplete%20len%3A250%20%28-%29\n"
     ]
    }
   ],
   "source": [
    "%%bash\n",
    "cd /hydra/sexual_genome_annotation_files/ncrna_Neiro/Transdecoder_final/\n",
    "head -2 longest_orfs.gff3"
   ]
  },
  {
   "cell_type": "code",
   "execution_count": 27,
   "id": "corrected-feeding",
   "metadata": {},
   "outputs": [
    {
     "name": "stdout",
     "output_type": "stream",
     "text": [
      ">MSTRG.2.1.p1 type:complete len:250 gc:universal MSTRG.2.1:1042-293(-)\n",
      "MKGDDFNIITAPVPINRIWWYSLTNRQRIALVFYMSFYVAGTLTNTASMFIDKFYIYIMRLESLQMGSADPIDYKYLLEVQIVRGFWREDVHEVVDKVFRGKSIGYIKTNLMIPVEIWNNCQVRSFRGIPCHSVAIICLIFGMLILYYHCTTVALFRTFMILNANLAAILLFIAMSMEYSAAVEYDYCVNSVFMNRKTGGKAFVRGRYYNRTLEASGSTFKLMMVGDILFFCPMIGLGCYLLFCNRENL*\n"
     ]
    }
   ],
   "source": [
    "%%bash\n",
    "cd /hydra/sexual_genome_annotation_files/ncrna_Neiro/Transdecoder_final/\n",
    "head -2 longest_orfs.pep"
   ]
  },
  {
   "cell_type": "markdown",
   "id": "40e1abd4",
   "metadata": {},
   "source": [
    "Transcripts without an open reading frame were extracted:"
   ]
  },
  {
   "cell_type": "code",
   "execution_count": null,
   "id": "coupled-instrument",
   "metadata": {},
   "outputs": [],
   "source": [
    "import pandas as pd\n",
    "orf10 = pd.read_csv(\"../sexual_genome_annotation_files/ncrna_Neiro/Transdecoder_final/longest_orfs.gff3\", sep=\"\\t\", header=None)"
   ]
  },
  {
   "cell_type": "code",
   "execution_count": null,
   "id": "multiple-stomach",
   "metadata": {},
   "outputs": [],
   "source": [
    "non_orf = []\n",
    "orfs = pd.Categorical(orf10.iloc[:,0]).categories\n",
    "for i in range(len(ncrna_list)):\n",
    "    if ncrna_list.iloc[i, 0] not in orfs:\n",
    "          non_orf.append(ncrna_list.iloc[i, 0])"
   ]
  },
  {
   "cell_type": "code",
   "execution_count": null,
   "id": "beautiful-democrat",
   "metadata": {},
   "outputs": [],
   "source": [
    "pd.Series(non_orf).to_csv(\"../sexual_genome_annotation_files/ncrna_Neiro/noncoding10aa_list.csv\""
   ]
  },
  {
   "cell_type": "code",
   "execution_count": 28,
   "id": "front-twenty",
   "metadata": {},
   "outputs": [
    {
     "name": "stdout",
     "output_type": "stream",
     "text": [
      "1 noncoding10aa_list.csv\n"
     ]
    }
   ],
   "source": [
    "%%bash\n",
    "cd /hydra/sexual_genome_annotation_files/ncrna_Neiro/\n",
    "wc -l noncoding10aa_list.csv"
   ]
  },
  {
   "cell_type": "markdown",
   "id": "medieval-chassis",
   "metadata": {},
   "source": [
    "### 4.2.2 Preparation for Interproscan"
   ]
  },
  {
   "cell_type": "markdown",
   "id": "fc543989",
   "metadata": {},
   "source": [
    "The peptide fasta file was split up into two parts: sequences longer than 100 amino acids and sequences shorter than 100 amino acids. "
   ]
  },
  {
   "cell_type": "code",
   "execution_count": null,
   "id": "incoming-bronze",
   "metadata": {},
   "outputs": [],
   "source": [
    "%%bash\n",
    "cd ~/sexual_genome_annotation_files/ncrna_Neiro/Transdecoder_final/\n",
    "seqkit seq -m 100 longest_orfs.pep > aa100longer_merged.fa.pep"
   ]
  },
  {
   "cell_type": "code",
   "execution_count": null,
   "id": "answering-terrain",
   "metadata": {},
   "outputs": [],
   "source": [
    "%%bash\n",
    "cd ~/sexual_genome_annotation_files/ncrna_Neiro/Transdecoder_final/\n",
    "seqkit seq -M 100 longest_orfs.pep > aa100shorter_merged.fa.pep"
   ]
  },
  {
   "cell_type": "code",
   "execution_count": 30,
   "id": "fourth-proceeding",
   "metadata": {},
   "outputs": [],
   "source": [
    "#%%bash\n",
    "#cd /hydra/sexual_genome_annotation_files/ncrna_Neiro/Transdecoder_final/\n",
    "#head -2 aa100longer_merged.fa.pep"
   ]
  },
  {
   "cell_type": "code",
   "execution_count": 31,
   "id": "exciting-monday",
   "metadata": {},
   "outputs": [],
   "source": [
    "#%%bash\n",
    "#cd /hydra/sexual_genome_annotation_files/ncrna_Neiro/Transdecoder_final/\n",
    "#head aa100shorter_merged.fa.pep"
   ]
  },
  {
   "cell_type": "code",
   "execution_count": 32,
   "id": "reasonable-smooth",
   "metadata": {},
   "outputs": [
    {
     "name": "stdout",
     "output_type": "stream",
     "text": [
      "2771\n"
     ]
    }
   ],
   "source": [
    "%%bash\n",
    "cd /hydra/sexual_genome_annotation_files/ncrna_Neiro/Transdecoder_final/\n",
    "grep -c \">\" aa100longer_merged.fa.pep"
   ]
  },
  {
   "cell_type": "code",
   "execution_count": 33,
   "id": "fuzzy-comparative",
   "metadata": {},
   "outputs": [
    {
     "name": "stdout",
     "output_type": "stream",
     "text": [
      "141661\n"
     ]
    }
   ],
   "source": [
    "%%bash\n",
    "cd /hydra/sexual_genome_annotation_files/ncrna_Neiro/Transdecoder_final/\n",
    "grep -c \">\" aa100shorter_merged.fa.pep"
   ]
  },
  {
   "cell_type": "code",
   "execution_count": 36,
   "id": "civic-acrylic",
   "metadata": {},
   "outputs": [
    {
     "name": "stdout",
     "output_type": "stream",
     "text": [
      ">MSTRG.2.1.p1 type:complete len:250 gc:universal MSTRG.2.1:1042-293(-)\n",
      "MKGDDFNIITAPVPINRIWWYSLTNRQRIALVFYMSFYVAGTLTNTASMFIDKFYIYIMR\n"
     ]
    }
   ],
   "source": [
    "%%bash\n",
    "cd /hydra/sexual_genome_annotation_files/ncrna_Neiro/Transdecoder_final/\n",
    "#cp aa100longer_merged.fa.pep aa100longer_merged_ip.fa.pep\n",
    "#sed -i 's_*__g' aa100longer_merged_ip.fa.pep\n",
    "head -2 aa100longer_merged_ip.fa.pep"
   ]
  },
  {
   "cell_type": "code",
   "execution_count": 37,
   "id": "seventh-elimination",
   "metadata": {},
   "outputs": [
    {
     "name": "stdout",
     "output_type": "stream",
     "text": [
      ">MSTRG.2.1.p2 type:complete len:47 gc:universal MSTRG.2.1:48-188(+)\n",
      "MSTSSKIFLASSFGFCLGMFGFVHISQKLERDVDLFSLINIIFNLF\n"
     ]
    }
   ],
   "source": [
    "%%bash\n",
    "cd /hydra/sexual_genome_annotation_files/ncrna_Neiro/Transdecoder_final/\n",
    "#cp aa100shorter_merged.fa.pep aa100shorter_merged_ip.fa.pep\n",
    "#sed -i 's_*__g' aa100shorter_merged_ip.fa.pep\n",
    "head -2 aa100shorter_merged_ip.fa.pep"
   ]
  },
  {
   "cell_type": "markdown",
   "id": "considered-cambridge",
   "metadata": {},
   "source": [
    "## 4.3 Interproscan"
   ]
  },
  {
   "cell_type": "markdown",
   "id": "atomic-thing",
   "metadata": {},
   "source": [
    "### 4.3.1 Sequences longer than 100 amino acids"
   ]
  },
  {
   "cell_type": "markdown",
   "id": "2d1aafac",
   "metadata": {},
   "source": [
    "Interproscan was run on sequences longer than 100 amino acids."
   ]
  },
  {
   "cell_type": "code",
   "execution_count": null,
   "id": "social-taste",
   "metadata": {},
   "outputs": [],
   "source": [
    "%%bash\n",
    "cd /hydra/sexual_genome_annotation_files/ncrna_Neiro/\n",
    "echo \"#!/bin/bash\" > interproscan_more100aa_24082020.sh\n",
    "echo \"/hydra/software/interproscan-5.46-81.0/interproscan.sh -i /hydra/sexual_genome_annotation_files/ncrna_Neiro/Transdecoder_final/aa100longer_merged_ip.fa.pep -d /hydra/sexual_genome_annotation_files/ncrna_Neiro/interproscan_more100aa_24082020 -goterms \" >> interproscan_more100aa_24082020.sh\n",
    "chmod +x interproscan_more100aa_24082020.sh\n",
    "less interproscan_more100aa_24082020.sh"
   ]
  },
  {
   "cell_type": "code",
   "execution_count": null,
   "id": "hydraulic-beads",
   "metadata": {},
   "outputs": [],
   "source": [
    "#%%bash\n",
    "#cd ~/sexual_genome_annotation_files/ncrna_Neiro/\n",
    "#sudo nohup ./interproscan_more100aa_24082020.sh &"
   ]
  },
  {
   "cell_type": "markdown",
   "id": "cloudy-german",
   "metadata": {},
   "source": [
    "### 4.3.2 Sequences shorter than 1000 amino acids"
   ]
  },
  {
   "cell_type": "markdown",
   "id": "b70da56d",
   "metadata": {},
   "source": [
    "Interproscan was run on sequences shorter than 100 amino acids."
   ]
  },
  {
   "cell_type": "code",
   "execution_count": null,
   "id": "retained-nashville",
   "metadata": {},
   "outputs": [],
   "source": [
    "%%bash\n",
    "cd /hydra/sexual_genome_annotation_files/ncrna_Neiro/Transdecoder_final/\n",
    "grep -c \">\" aa100shorter_merged_ip.fa.pep"
   ]
  },
  {
   "cell_type": "code",
   "execution_count": null,
   "id": "comic-scotland",
   "metadata": {},
   "outputs": [],
   "source": [
    "%%bash\n",
    "cd /hydra/sexual_genome_annotation_files/ncrna_Neiro/\n",
    "sudo nohup /hydra/software/interproscan-5.46-81.0/interproscan.sh -i /hydra/sexual_genome_annotation_files/ncrna_Neiro/Transdecoder_final/aa100shorter_merged_ip.fa.pep -d /hydra/sexual_genome_annotation_files/ncrna_Neiro/interproscan_less100aa_24082020 -goterms & "
   ]
  },
  {
   "cell_type": "markdown",
   "id": "usual-basis",
   "metadata": {},
   "source": [
    "# 4.4 Characterisation of transcripts"
   ]
  },
  {
   "cell_type": "markdown",
   "id": "59275314",
   "metadata": {},
   "source": [
    "The new transcripts were characterised: "
   ]
  },
  {
   "cell_type": "markdown",
   "id": "sufficient-korean",
   "metadata": {},
   "source": [
    "### 4.4.1 Coding sequences longer than 100 amino acids"
   ]
  },
  {
   "cell_type": "markdown",
   "id": "46763e8c",
   "metadata": {},
   "source": [
    "All new transcripts with an open reading frame longer than 100 amino acids were selected:"
   ]
  },
  {
   "cell_type": "code",
   "execution_count": null,
   "id": "d3a99e54",
   "metadata": {},
   "outputs": [],
   "source": [
    "%%bash\n",
    "cd /hydra/sexual_genome_annotation_files/ncrna_Neiro/Transdecoder_final/\n",
    "ls"
   ]
  },
  {
   "cell_type": "code",
   "execution_count": null,
   "id": "nominated-triangle",
   "metadata": {},
   "outputs": [],
   "source": [
    "%%bash\n",
    "cd /hydra/sexual_genome_annotation_files/ncrna_Neiro/Transdecoder_final/\n",
    "grep \">\" aa100longer_merged_ip.fa.pep > aa100longer_merged_ip.list.txt"
   ]
  },
  {
   "cell_type": "code",
   "execution_count": 5,
   "id": "suspended-dressing",
   "metadata": {},
   "outputs": [],
   "source": [
    "import pandas as pd\n",
    "aa100longer_orf_pd = pd.read_csv(\"/hydra/sexual_genome_annotation_files/ncrna_Neiro/Transdecoder_final/aa100longer_merged_ip.list.txt\", header=None)"
   ]
  },
  {
   "cell_type": "code",
   "execution_count": 6,
   "id": "democratic-netscape",
   "metadata": {},
   "outputs": [],
   "source": [
    "aa100longer_orf = []\n",
    "for i in range(0, len(aa100longer_orf_pd)):\n",
    "    aa100longer_orf.append(aa100longer_orf_pd.iloc[i,0].split(\" \")[0].split(\">\")[1].split(\".p\")[0])"
   ]
  },
  {
   "cell_type": "code",
   "execution_count": 7,
   "id": "delayed-preservation",
   "metadata": {},
   "outputs": [],
   "source": [
    "aa100longer_orf = pd.Categorical(aa100longer_orf).categories"
   ]
  },
  {
   "cell_type": "code",
   "execution_count": 8,
   "id": "moved-invalid",
   "metadata": {},
   "outputs": [
    {
     "data": {
      "text/plain": [
       "2077"
      ]
     },
     "execution_count": 8,
     "metadata": {},
     "output_type": "execute_result"
    }
   ],
   "source": [
    "len(aa100longer_orf)"
   ]
  },
  {
   "cell_type": "code",
   "execution_count": 9,
   "id": "available-desktop",
   "metadata": {},
   "outputs": [],
   "source": [
    "import pandas as pd\n",
    "ncrna_list = pd.read_csv(\"/hydra/sexual_genome_annotation_files/ncrna_Neiro/ncrna_list.csv\", header=None)"
   ]
  },
  {
   "cell_type": "code",
   "execution_count": 10,
   "id": "tropical-movie",
   "metadata": {},
   "outputs": [],
   "source": [
    "aa100longer_final = ncrna_list[ncrna_list.iloc[:,0].isin(aa100longer_orf)]"
   ]
  },
  {
   "cell_type": "code",
   "execution_count": 11,
   "id": "a636b1bc",
   "metadata": {},
   "outputs": [
    {
     "data": {
      "text/plain": [
       "2002"
      ]
     },
     "execution_count": 11,
     "metadata": {},
     "output_type": "execute_result"
    }
   ],
   "source": [
    "len(aa100longer_final)"
   ]
  },
  {
   "cell_type": "code",
   "execution_count": null,
   "id": "southern-kazakhstan",
   "metadata": {},
   "outputs": [],
   "source": [
    "#import pandas as pd\n",
    "#pd.Series(pd.Categorical(aa100longer_final.iloc[:,0]).categories).to_csv(\"../sexual_genome_annotation_files/ncrna_Neiro/interproscan_more100aa/codingmore100aa.csv\")"
   ]
  },
  {
   "cell_type": "code",
   "execution_count": 63,
   "id": "cutting-interpretation",
   "metadata": {},
   "outputs": [
    {
     "name": "stdout",
     "output_type": "stream",
     "text": [
      "2002 /hydra/sexual_genome_annotation_files/ncrna_Neiro/interproscan_more100aa/codingmore100aa.csv\n"
     ]
    }
   ],
   "source": [
    "%%bash\n",
    "wc -l /hydra/sexual_genome_annotation_files/ncrna_Neiro/interproscan_more100aa/codingmore100aa.csv"
   ]
  },
  {
   "cell_type": "markdown",
   "id": "e30785b3",
   "metadata": {},
   "source": [
    "In total, there were 2002 new transcripts with an open reading frame longer than 100 amino acids."
   ]
  },
  {
   "cell_type": "code",
   "execution_count": 12,
   "id": "experimental-missile",
   "metadata": {},
   "outputs": [],
   "source": [
    "import pandas as pd\n",
    "interpro_more100aa_df = pd.read_csv(\"/hydra/sexual_genome_annotation_files/ncrna_Neiro/interproscan_more100aa_24082020/aa100longer_merged_ip.fa.pep.tsv\", sep=\"\\t\",  header=None)"
   ]
  },
  {
   "cell_type": "code",
   "execution_count": 13,
   "id": "perfect-packaging",
   "metadata": {},
   "outputs": [],
   "source": [
    "interpro_more100aa_genes = []\n",
    "for i in range(0, len(interpro_more100aa_df)):\n",
    "    interpro_more100aa_genes.append(interpro_more100aa_df.iloc[i,0].rpartition(\".\")[0])\n",
    "interpro_more100aa_df[\"gene\"] = interpro_more100aa_genes\n",
    "interpro_more100aa_genes = pd.Categorical(interpro_more100aa_genes).categories"
   ]
  },
  {
   "cell_type": "code",
   "execution_count": 14,
   "id": "convenient-isolation",
   "metadata": {},
   "outputs": [
    {
     "data": {
      "text/plain": [
       "1320"
      ]
     },
     "execution_count": 14,
     "metadata": {},
     "output_type": "execute_result"
    }
   ],
   "source": [
    "len(interpro_more100aa_genes)"
   ]
  },
  {
   "cell_type": "markdown",
   "id": "bb8f9b91",
   "metadata": {},
   "source": [
    "In total, 1320 of the 2002 transcripts had an Interproscan hit and were thus classified as coding transcripts."
   ]
  },
  {
   "cell_type": "markdown",
   "id": "incredible-drive",
   "metadata": {},
   "source": [
    "GO terms were assigned to the new coding sequences longer than 100 amino acids:"
   ]
  },
  {
   "cell_type": "code",
   "execution_count": 12,
   "id": "isolated-northeast",
   "metadata": {},
   "outputs": [],
   "source": [
    "import pandas as pd\n",
    "ncrna_list = pd.read_csv(\"/hydra/sexual_genome_annotation_files/ncrna_Neiro/ncrna_list.csv\", header=None)"
   ]
  },
  {
   "cell_type": "code",
   "execution_count": 19,
   "id": "lesser-edwards",
   "metadata": {},
   "outputs": [],
   "source": [
    "interpro_more100aa_GO_draft = interpro_more100aa_df[interpro_more100aa_df[\"gene\"].isin(ncrna_list.iloc[:,0].to_list())]"
   ]
  },
  {
   "cell_type": "code",
   "execution_count": 29,
   "id": "friendly-disorder",
   "metadata": {},
   "outputs": [],
   "source": [
    "interpro_more100aa_GO = interpro_more100aa_GO_draft[interpro_more100aa_GO_draft.iloc[:,13].notnull()]"
   ]
  },
  {
   "cell_type": "code",
   "execution_count": 31,
   "id": "favorite-austin",
   "metadata": {},
   "outputs": [],
   "source": [
    "interpro_more100aa_GO_genes = []\n",
    "interpro_more100aa_GO_go = []\n",
    "for i in range(0, len(interpro_more100aa_GO)):\n",
    "    gene = interpro_more100aa_GO.iloc[i,0].rpartition(\".\")[0]\n",
    "    gene2 = interpro_more100aa_GO.iloc[i,0]\n",
    "    if gene not in interpro_more100aa_GO_genes:\n",
    "        interpro_more100aa_GO_genes.append(gene)\n",
    "        df = interpro_more100aa_GO[interpro_more100aa_GO.iloc[:,0] == gene2]\n",
    "        gos_final = []\n",
    "        for j in range(0, len(df)):\n",
    "            gos = df.iloc[j, 13].split(\"|\")\n",
    "            for k in gos:\n",
    "                if k not in gos_final:\n",
    "                    gos_final.append(k)\n",
    "        interpro_more100aa_GO_go.append(gos_final)"
   ]
  },
  {
   "cell_type": "code",
   "execution_count": 34,
   "id": "christian-delta",
   "metadata": {},
   "outputs": [],
   "source": [
    "f = open(\"/hydra/sexual_genome_annotation_files/ncrna_Neiro/interproscan_more100aa_24082020/interpro_more100aa.GO.May2021.tab\", \"a+\")\n",
    "for i in range(0, len(interpro_more100aa_GO_genes)):\n",
    "    f.write(str(interpro_more100aa_GO_genes[i])+\"\\t\")\n",
    "    for j in range(0, len(interpro_more100aa_GO_go[i])):\n",
    "        f.write(str(interpro_more100aa_GO_go[i][j])+\", \")\n",
    "        if j == (len(interpro_more100aa_GO_go[i])-1):\n",
    "            f.write(str(interpro_more100aa_GO_go[i][j])+\"\\n\")"
   ]
  },
  {
   "cell_type": "code",
   "execution_count": 11,
   "id": "august-olive",
   "metadata": {},
   "outputs": [
    {
     "name": "stdout",
     "output_type": "stream",
     "text": [
      "552 interpro_more100aa.GO.May2021.tab\n"
     ]
    }
   ],
   "source": [
    "%%bash\n",
    "cd /hydra/sexual_genome_annotation_files/ncrna_Neiro/interproscan_more100aa_24082020/\n",
    "wc -l interpro_more100aa.GO.May2021.tab"
   ]
  },
  {
   "cell_type": "markdown",
   "id": "analyzed-factory",
   "metadata": {},
   "source": [
    "### 4.4.2 Coding sequences shorter than 100 amino acids"
   ]
  },
  {
   "cell_type": "markdown",
   "id": "8719c9a9",
   "metadata": {},
   "source": [
    "All new transcripts with an open reading frame shorter than 100 amino acids were selected:"
   ]
  },
  {
   "cell_type": "code",
   "execution_count": 39,
   "id": "differential-bacon",
   "metadata": {},
   "outputs": [],
   "source": [
    "%%bash\n",
    "cd /hydra/sexual_genome_annotation_files/ncrna_Neiro/Transdecoder_final/\n",
    "grep \">\" aa100shorter_merged_ip.fa.pep > aa100shorter_merged_ip.list.txt"
   ]
  },
  {
   "cell_type": "code",
   "execution_count": 15,
   "id": "moderate-aircraft",
   "metadata": {},
   "outputs": [],
   "source": [
    "import pandas as pd\n",
    "aa100shorter_orf_pd = pd.read_csv(\"/hydra/sexual_genome_annotation_files/ncrna_Neiro/Transdecoder_final/aa100shorter_merged_ip.list.txt\", header=None)"
   ]
  },
  {
   "cell_type": "code",
   "execution_count": 16,
   "id": "indonesian-bouquet",
   "metadata": {},
   "outputs": [],
   "source": [
    "aa100shorter_orf = []\n",
    "for i in range(0, len(aa100shorter_orf_pd)):\n",
    "    aa100shorter_orf.append(aa100shorter_orf_pd.iloc[i,0].split(\" \")[0].split(\">\")[1].split(\".p\")[0])"
   ]
  },
  {
   "cell_type": "code",
   "execution_count": 17,
   "id": "incomplete-documentary",
   "metadata": {},
   "outputs": [],
   "source": [
    "aa100shorter_orf = pd.Categorical(aa100shorter_orf).categories"
   ]
  },
  {
   "cell_type": "code",
   "execution_count": 18,
   "id": "peaceful-courage",
   "metadata": {},
   "outputs": [
    {
     "data": {
      "text/plain": [
       "11357"
      ]
     },
     "execution_count": 18,
     "metadata": {},
     "output_type": "execute_result"
    }
   ],
   "source": [
    "len(aa100shorter_orf)"
   ]
  },
  {
   "cell_type": "code",
   "execution_count": 20,
   "id": "competent-divide",
   "metadata": {},
   "outputs": [],
   "source": [
    "aa100shorter_final = ncrna_list[ncrna_list.iloc[:,0].isin(aa100shorter_orf)]"
   ]
  },
  {
   "cell_type": "code",
   "execution_count": 49,
   "id": "stable-boulder",
   "metadata": {},
   "outputs": [],
   "source": [
    "import pandas as pd\n",
    "pd.Series(pd.Categorical(aa100shorter_final.iloc[:,0]).categories).to_csv(\"/hydra/sexual_genome_annotation_files/ncrna_Neiro/interproscan_less100aa_24082020/codingless100aa.csv\")"
   ]
  },
  {
   "cell_type": "code",
   "execution_count": 50,
   "id": "sixth-taste",
   "metadata": {},
   "outputs": [
    {
     "name": "stdout",
     "output_type": "stream",
     "text": [
      "11252 /hydra/sexual_genome_annotation_files/ncrna_Neiro/interproscan_less100aa_24082020/codingless100aa.csv\n"
     ]
    }
   ],
   "source": [
    "%%bash\n",
    "wc -l /hydra/sexual_genome_annotation_files/ncrna_Neiro/interproscan_less100aa_24082020/codingless100aa.csv"
   ]
  },
  {
   "cell_type": "code",
   "execution_count": 22,
   "id": "removed-pitch",
   "metadata": {},
   "outputs": [],
   "source": [
    "import pandas as pd\n",
    "interpro_less100aa_df = pd.read_csv(\"/hydra/sexual_genome_annotation_files/ncrna_Neiro/interproscan_less100aa_24082020/aa100shorter_merged_ip.fa.pep.tsv\", sep=\"\\t\",  header=None)"
   ]
  },
  {
   "cell_type": "code",
   "execution_count": 23,
   "id": "suitable-jungle",
   "metadata": {},
   "outputs": [],
   "source": [
    "interpro_less100aa_genes = []\n",
    "for i in range(0, len(interpro_less100aa_df)):\n",
    "    interpro_less100aa_genes.append(interpro_less100aa_df.iloc[i,0].rpartition(\".\")[0])\n",
    "interpro_less100aa_df[\"gene\"] = interpro_less100aa_genes\n",
    "interpro_less100aa_genes = pd.Categorical(interpro_less100aa_genes).categories"
   ]
  },
  {
   "cell_type": "code",
   "execution_count": 24,
   "id": "postal-northern",
   "metadata": {},
   "outputs": [
    {
     "data": {
      "text/plain": [
       "4408"
      ]
     },
     "execution_count": 24,
     "metadata": {},
     "output_type": "execute_result"
    }
   ],
   "source": [
    "len(interpro_less100aa_genes)"
   ]
  },
  {
   "cell_type": "code",
   "execution_count": 25,
   "id": "magnetic-mustang",
   "metadata": {},
   "outputs": [],
   "source": [
    "interpro_less100aa_genes = interpro_less100aa_genes[~interpro_less100aa_genes.isin(interpro_more100aa_genes)]"
   ]
  },
  {
   "cell_type": "code",
   "execution_count": 26,
   "id": "subjective-implementation",
   "metadata": {},
   "outputs": [
    {
     "data": {
      "text/plain": [
       "3841"
      ]
     },
     "execution_count": 26,
     "metadata": {},
     "output_type": "execute_result"
    }
   ],
   "source": [
    "len(interpro_less100aa_genes)"
   ]
  },
  {
   "cell_type": "markdown",
   "id": "f218a731",
   "metadata": {},
   "source": [
    "In total, 3841 transcripts of the 11252 had an interpro hit and were classified as coding, and were not present in the longer sequences already."
   ]
  },
  {
   "cell_type": "markdown",
   "id": "aa672868",
   "metadata": {},
   "source": [
    "GO terms were assigned to the new coding sequences shorter than 100 amino acids:"
   ]
  },
  {
   "cell_type": "code",
   "execution_count": 53,
   "id": "lightweight-motorcycle",
   "metadata": {},
   "outputs": [],
   "source": [
    "interpro_less100aa_GO_draft = interpro_less100aa_df[interpro_less100aa_df[\"gene\"].isin(ncrna_list.iloc[:,0].to_list())]"
   ]
  },
  {
   "cell_type": "code",
   "execution_count": 58,
   "id": "answering-underground",
   "metadata": {},
   "outputs": [],
   "source": [
    "interpro_less100aa_GO = interpro_less100aa_GO_draft[interpro_less100aa_GO_draft.iloc[:,13].notnull()]"
   ]
  },
  {
   "cell_type": "code",
   "execution_count": 62,
   "id": "noted-screening",
   "metadata": {},
   "outputs": [],
   "source": [
    "interpro_less100aa_GO = interpro_less100aa_GO[interpro_less100aa_GO[\"gene\"].isin(interpro_less100aa_genes)]"
   ]
  },
  {
   "cell_type": "code",
   "execution_count": 63,
   "id": "cosmetic-reception",
   "metadata": {},
   "outputs": [],
   "source": [
    "interpro_less100aa_GO_genes = []\n",
    "interpro_less100aa_GO_go = []\n",
    "for i in range(0, len(interpro_less100aa_GO)):\n",
    "    gene = interpro_less100aa_GO.iloc[i,0].rpartition(\".\")[0]\n",
    "    gene2 = interpro_less100aa_GO.iloc[i,0]\n",
    "    if gene not in interpro_less100aa_GO_genes:\n",
    "        interpro_less100aa_GO_genes.append(gene)\n",
    "        df = interpro_less100aa_GO[interpro_less100aa_GO.iloc[:,0] == gene2]\n",
    "        gos_final = []\n",
    "        for j in range(0, len(df)):\n",
    "            gos = df.iloc[j, 13].split(\"|\")\n",
    "            for k in gos:\n",
    "                if k not in gos_final:\n",
    "                    gos_final.append(k)\n",
    "        interpro_less100aa_GO_go.append(gos_final)"
   ]
  },
  {
   "cell_type": "code",
   "execution_count": 64,
   "id": "representative-beijing",
   "metadata": {},
   "outputs": [],
   "source": [
    "f = open(\"/hydra/sexual_genome_annotation_files/ncrna_Neiro/interproscan_less100aa_24082020/interpro_less100aa.GO.May2021.tab\", \"a+\")\n",
    "for i in range(0, len(interpro_less100aa_GO_genes)):\n",
    "    f.write(str(interpro_less100aa_GO_genes[i])+\"\\t\")\n",
    "    for j in range(0, len(interpro_less100aa_GO_go[i])):\n",
    "        f.write(str(interpro_less100aa_GO_go[i][j])+\", \")\n",
    "        if j == (len(interpro_less100aa_GO_go[i])-1):\n",
    "            f.write(str(interpro_less100aa_GO_go[i][j])+\"\\n\")"
   ]
  },
  {
   "cell_type": "code",
   "execution_count": 66,
   "id": "muslim-sample",
   "metadata": {},
   "outputs": [
    {
     "name": "stdout",
     "output_type": "stream",
     "text": [
      "179 interpro_less100aa.GO.May2021.tab\n"
     ]
    }
   ],
   "source": [
    "%%bash\n",
    "cd /hydra/sexual_genome_annotation_files/ncrna_Neiro/interproscan_less100aa_24082020/\n",
    "wc -l interpro_less100aa.GO.May2021.tab"
   ]
  },
  {
   "cell_type": "markdown",
   "id": "developmental-utilization",
   "metadata": {},
   "source": [
    "Merging the GO table for all new coding transcripts:"
   ]
  },
  {
   "cell_type": "code",
   "execution_count": 1,
   "id": "latter-creature",
   "metadata": {},
   "outputs": [],
   "source": [
    "%%bash\n",
    "cd /hydra/GO/interpro/\n",
    "cat /hydra/sexual_genome_annotation_files/ncrna_Neiro/interproscan_more100aa_24082020/interpro_more100aa.GO.May2021.tab /hydra/sexual_genome_annotation_files/ncrna_Neiro/interproscan_less100aa_24082020/interpro_less100aa.GO.May2021.tab > ncrna_new_coding_May2021.GO.tab"
   ]
  },
  {
   "cell_type": "markdown",
   "id": "0b65d1fc",
   "metadata": {},
   "source": [
    "Merging the GO table for all coding transcripts:"
   ]
  },
  {
   "cell_type": "code",
   "execution_count": 69,
   "id": "abroad-america",
   "metadata": {},
   "outputs": [],
   "source": [
    "%%bash\n",
    "cd /hydra/GO/interpro/\n",
    "cat /hydra/sexual_genome_annotation_files/ncrna_Neiro/interproscan_more100aa_24082020/interpro_more100aa.GO.May2021.tab /hydra/sexual_genome_annotation_files/ncrna_Neiro/interproscan_less100aa_24082020/interpro_less100aa.GO.May2021.tab interpro_rink.GO.tab > ncrna_coding_May2021.GO.tab"
   ]
  },
  {
   "cell_type": "code",
   "execution_count": 2,
   "id": "1f64f5c6",
   "metadata": {},
   "outputs": [
    {
     "name": "stdout",
     "output_type": "stream",
     "text": [
      "731 ncrna_new_coding_May2021.GO.tab\n"
     ]
    }
   ],
   "source": [
    "%%bash\n",
    "cd /hydra/GO/interpro/\n",
    "wc -l ncrna_new_coding_May2021.GO.tab"
   ]
  },
  {
   "cell_type": "markdown",
   "id": "helpful-jordan",
   "metadata": {},
   "source": [
    "### 4.4.3 Non-coding transcripts"
   ]
  },
  {
   "cell_type": "markdown",
   "id": "405f9291",
   "metadata": {},
   "source": [
    "The list of non-coding transcripts was defined as the complement of the new coding transcripts from the previous section. "
   ]
  },
  {
   "cell_type": "code",
   "execution_count": 116,
   "id": "straight-papua",
   "metadata": {},
   "outputs": [],
   "source": [
    "import pandas as pd\n",
    "ncrna_list = pd.read_csv(\"/hydra/sexual_genome_annotation_files/ncrna_Neiro/ncrna_list.csv\", header=None)"
   ]
  },
  {
   "cell_type": "code",
   "execution_count": 117,
   "id": "secure-annex",
   "metadata": {},
   "outputs": [],
   "source": [
    "noncoding = ncrna_list[~ncrna_list.iloc[:,0].isin(interpro_more100aa_genes)]\n",
    "noncoding = noncoding[~noncoding.iloc[:,0].isin(interpro_less100aa_genes)]"
   ]
  },
  {
   "cell_type": "code",
   "execution_count": 27,
   "id": "7d2bcd39",
   "metadata": {},
   "outputs": [],
   "source": [
    "coding = ncrna_list[ncrna_list.iloc[:,0].isin(interpro_more100aa_genes)|ncrna_list.iloc[:,0].isin(interpro_less100aa_genes)]"
   ]
  },
  {
   "cell_type": "markdown",
   "id": "b1648590",
   "metadata": {},
   "source": [
    "The non-coding transcripts were saved as a csv file."
   ]
  },
  {
   "cell_type": "code",
   "execution_count": 118,
   "id": "remarkable-hindu",
   "metadata": {},
   "outputs": [],
   "source": [
    "noncoding.to_csv(\"/hydra/sexual_genome_annotation_files/ncrna_Neiro/interproscan_less100aa_24082020/noncoding.csv\", index=False, header=None)"
   ]
  },
  {
   "cell_type": "code",
   "execution_count": 119,
   "id": "unique-carry",
   "metadata": {},
   "outputs": [
    {
     "name": "stdout",
     "output_type": "stream",
     "text": [
      "6190 /hydra/sexual_genome_annotation_files/ncrna_Neiro/interproscan_less100aa_24082020/noncoding.csv\n"
     ]
    }
   ],
   "source": [
    "%%bash\n",
    "wc -l /hydra/sexual_genome_annotation_files/ncrna_Neiro/interproscan_less100aa_24082020/noncoding.csv"
   ]
  },
  {
   "cell_type": "code",
   "execution_count": 28,
   "id": "6edfa9ba",
   "metadata": {},
   "outputs": [],
   "source": [
    "coding.to_csv(\"/hydra/sexual_genome_annotation_files/ncrna_Neiro/interproscan_less100aa_24082020/coding_new.csv\", index=False, header=None)"
   ]
  },
  {
   "cell_type": "code",
   "execution_count": 29,
   "id": "a722c256",
   "metadata": {},
   "outputs": [
    {
     "name": "stdout",
     "output_type": "stream",
     "text": [
      "5065 /hydra/sexual_genome_annotation_files/ncrna_Neiro/interproscan_less100aa_24082020/coding_new.csv\n"
     ]
    }
   ],
   "source": [
    "%%bash\n",
    "wc -l /hydra/sexual_genome_annotation_files/ncrna_Neiro/interproscan_less100aa_24082020/coding_new.csv"
   ]
  },
  {
   "cell_type": "markdown",
   "id": "a2fd5727",
   "metadata": {},
   "source": [
    "The non-coding transcripts with the non-codiing transcripts without ORFs:"
   ]
  },
  {
   "cell_type": "code",
   "execution_count": 120,
   "id": "framed-banking",
   "metadata": {},
   "outputs": [],
   "source": [
    "%%bash\n",
    "cd /hydra/sexual_genome_annotation_files/ncrna_Neiro/\n",
    "cat noncoding10aa_list.csv interproscan_less100aa_24082020/noncoding.csv > noncoding_final_May2021.csv"
   ]
  },
  {
   "cell_type": "code",
   "execution_count": 5,
   "id": "51e8875e",
   "metadata": {},
   "outputs": [],
   "source": [
    "%%bash\n",
    "cd /hydra/sexual_genome_annotation_files/ncrna_Neiro/\n",
    "grep -f noncoding_final_May2021.csv stringtie_merged_exp.gtf > noncoding_final_May2021.gtf"
   ]
  },
  {
   "cell_type": "code",
   "execution_count": 1,
   "id": "78db9bda",
   "metadata": {},
   "outputs": [],
   "source": [
    "%%bash\n",
    "cd /hydra/sexual_genome_annotation_files/ncrna_Neiro/\n",
    "grep -f interproscan_less100aa_24082020/coding_new.csv stringtie_merged_exp.gtf > coding_final_May2021.gtf"
   ]
  },
  {
   "cell_type": "code",
   "execution_count": 6,
   "id": "1480ff11",
   "metadata": {},
   "outputs": [
    {
     "name": "stdout",
     "output_type": "stream",
     "text": [
      "65237 noncoding_final_May2021.gtf\n"
     ]
    }
   ],
   "source": [
    "%%bash\n",
    "cd /hydra/sexual_genome_annotation_files/ncrna_Neiro/\n",
    "wc -l noncoding_final_May2021.gtf"
   ]
  },
  {
   "cell_type": "code",
   "execution_count": 2,
   "id": "541d8663",
   "metadata": {},
   "outputs": [
    {
     "name": "stdout",
     "output_type": "stream",
     "text": [
      "65182 coding_final_May2021.gtf\n"
     ]
    }
   ],
   "source": [
    "%%bash\n",
    "cd /hydra/sexual_genome_annotation_files/ncrna_Neiro/\n",
    "wc -l coding_final_May2021.gtf"
   ]
  },
  {
   "cell_type": "code",
   "execution_count": 8,
   "id": "e93663bd",
   "metadata": {},
   "outputs": [
    {
     "name": "stdout",
     "output_type": "stream",
     "text": [
      "6191 noncoding_final_May2021.csv\n"
     ]
    }
   ],
   "source": [
    "%%bash\n",
    "cd /hydra/sexual_genome_annotation_files/ncrna_Neiro/\n",
    "wc -l noncoding_final_May2021.csv"
   ]
  },
  {
   "cell_type": "markdown",
   "id": "c439babe",
   "metadata": {},
   "source": [
    "The final frequencies are:\n",
    "* All transcripts: 91068\n",
    "* Identical to Rink: 28624\n",
    "* Novel coding: 5161\n",
    "* Novel non-coding: 6191"
   ]
  },
  {
   "cell_type": "markdown",
   "id": "hourly-equilibrium",
   "metadata": {},
   "source": [
    "# FINNISHED"
   ]
  }
 ],
 "metadata": {
  "kernelspec": {
   "display_name": "Python 3 (ipykernel)",
   "language": "python",
   "name": "python3"
  },
  "language_info": {
   "codemirror_mode": {
    "name": "ipython",
    "version": 3
   },
   "file_extension": ".py",
   "mimetype": "text/x-python",
   "name": "python",
   "nbconvert_exporter": "python",
   "pygments_lexer": "ipython3",
   "version": "3.8.12"
  }
 },
 "nbformat": 4,
 "nbformat_minor": 5
}
