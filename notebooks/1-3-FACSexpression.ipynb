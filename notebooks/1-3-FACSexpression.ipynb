{
 "cells": [
  {
   "cell_type": "markdown",
   "id": "32466ec5",
   "metadata": {},
   "source": [
    "# 1-3-FACSexpression\n",
    "Jakke Neiro$^1$\n",
    "1. Aboobaker laboraotry, Department of Zoology, University of Oxford\n",
    "\n"
   ]
  },
  {
   "cell_type": "markdown",
   "id": "2171bcca",
   "metadata": {},
   "source": [
    "## Contents of the notebook\n",
    "* 1. Introduction\n",
    "* 2. Alignment\n",
    "    * 2.1 Hisat alignment\n",
    "    * 2.2 Salmon pseudoalingment\n",
    "* 3. Coverage\n",
    "* 4. Proportional TPM values\n",
    "    * 4.1 Calculation of proportional values\n",
    "    * 4.2 Inspection of proportional values\n",
    "* 5. Transcripts per gene"
   ]
  },
  {
   "cell_type": "markdown",
   "id": "21bd3e50",
   "metadata": {},
   "source": [
    "## Files\n",
    "* Input:\n",
    "    * oenalx1_1.fastq.gz, oenalx1_2.fastq.gz, oenalx2_1.fastq.gz, oenalx2_2.fastq.gz, oenalxins_1.fastq.gz, oenalxins_2.fastq.gz\n",
    "    * sleuth_gene.csv\n",
    "* Output:\n",
    "    * /hydra/FACS/salmon_bootstrap\n",
    "    * x1_mean_final.bw\n",
    "    * FACS_prop.csv"
   ]
  },
  {
   "cell_type": "markdown",
   "id": "f7013cbd",
   "metadata": {},
   "source": [
    "# 1. Introduction"
   ]
  },
  {
   "cell_type": "markdown",
   "id": "d45d7855",
   "metadata": {},
   "source": [
    "RNA-seq samples from X1, X2 and Xins compartments were used to generate coverage tracks and compartment-specific TPM values for X1, X2 and Xins."
   ]
  },
  {
   "cell_type": "markdown",
   "id": "c212f353",
   "metadata": {},
   "source": [
    "# 2. Alignment"
   ]
  },
  {
   "cell_type": "markdown",
   "id": "92e31faa",
   "metadata": {},
   "source": [
    "## 2.1 Hisat alignment"
   ]
  },
  {
   "cell_type": "markdown",
   "id": "d1ec6a74",
   "metadata": {},
   "source": [
    "The Önal et al. (2012) X1, X2 and Xins RNA-seq samples were aligned to the genome. with Hisat2. The other RNA-seq samples had already been aligned in 1-1-Genomeannotation. "
   ]
  },
  {
   "cell_type": "code",
   "execution_count": 1,
   "id": "28b7127e",
   "metadata": {},
   "outputs": [
    {
     "name": "stdout",
     "output_type": "stream",
     "text": [
      "#!/bin/bash\n",
      "\n",
      "~/software/hisat2-2.1.0/hisat2 -p 8 --dta --known-splicesite-infile smes_v2_hconf_hisat2_splice_sites -x ~/sexual_genome_annotation_files/sexual_genome_annotation/final_dd_Smed_g4_hisat2 -1 oenalx1_1.fastq.gz -2 oenalx1_2.fastq.gz -S oenalx1.sam\n",
      "\n",
      "~/software/hisat2-2.1.0/hisat2 -p 8 --dta --known-splicesite-infile smes_v2_hconf_hisat2_splice_sites -x ~/sexual_genome_annotation_files/sexual_genome_annotation/final_dd_Smed_g4_hisat2 -1 oenalx2_1.fastq.gz -2 oenalx2_2.fastq.gz -S oenalx2.sam\n",
      "\n",
      "~/software/hisat2-2.1.0/hisat2 -p 8 --dta --known-splicesite-infile smes_v2_hconf_hisat2_splice_sites -x ~/sexual_genome_annotation_files/sexual_genome_annotation/final_dd_Smed_g4_hisat2 -1 oenalxins_1.fastq.gz -2 oenalxins_2.fastq.gz -S oenalxins.sam\n",
      "\n"
     ]
    }
   ],
   "source": [
    "%%bash\n",
    "cd /hydra/neiro_bam/\n",
    "less hisat2_align_oenal.sh"
   ]
  },
  {
   "cell_type": "code",
   "execution_count": null,
   "id": "f55b71ff",
   "metadata": {},
   "outputs": [],
   "source": [
    "#%%bash\n",
    "#cd /hydra/neiro_bam/\n",
    "#sudo nohup ./hisat2_align.sh &"
   ]
  },
  {
   "cell_type": "markdown",
   "id": "eab447c9",
   "metadata": {},
   "source": [
    "The sam files were converted to bam files."
   ]
  },
  {
   "cell_type": "code",
   "execution_count": 2,
   "id": "8b904afa",
   "metadata": {},
   "outputs": [
    {
     "name": "stdout",
     "output_type": "stream",
     "text": [
      "#!/bin/bash\n",
      "\n",
      "samtools view -b -S oenalx1.sam > oenalx1.bam\n",
      "samtools view -b -S oenalx2.sam > oenalx2.bam\n",
      "samtools view -b -S oenalxins.sam > oenalxins.bam\n",
      "\n"
     ]
    }
   ],
   "source": [
    "%%bash\n",
    "cd /hydra/neiro_bam/\n",
    "less hisat_samtools_oenal.sh"
   ]
  },
  {
   "cell_type": "code",
   "execution_count": null,
   "id": "c92bfb74",
   "metadata": {},
   "outputs": [],
   "source": [
    "#%%bash\n",
    "#cd /hydra/neiro_bam/\n",
    "#sudo nohup ./hisat_samtools_oenal.sh &"
   ]
  },
  {
   "cell_type": "markdown",
   "id": "fc926736",
   "metadata": {},
   "source": [
    "The bam files were sorted:"
   ]
  },
  {
   "cell_type": "code",
   "execution_count": 14,
   "id": "1e2fcbb4",
   "metadata": {},
   "outputs": [],
   "source": [
    "#%%bash\n",
    "#cd /hydra/neiro_bam/\n",
    "#samtools sort -@ 8 -o oenalx1.sorted.bam oenalx1.bam\n",
    "#samtools sort -@ 8 -o oenalx2.sorted.bam oenalx2.bam\n",
    "#samtools sort -@ 8 -o oenalxins.sorted.bam oenalxins.bam"
   ]
  },
  {
   "cell_type": "markdown",
   "id": "66fe297b",
   "metadata": {},
   "source": [
    "The aligned files were later used to generate coverage tracks (bigwigs)."
   ]
  },
  {
   "cell_type": "markdown",
   "id": "badd6c91",
   "metadata": {},
   "source": [
    "## 2.2 Salmon pseudoalignment"
   ]
  },
  {
   "cell_type": "markdown",
   "id": "949e2134",
   "metadata": {},
   "source": [
    "First, the transcripts were extracted by using the new annotation: "
   ]
  },
  {
   "cell_type": "code",
   "execution_count": 2,
   "id": "f17d660f",
   "metadata": {},
   "outputs": [],
   "source": [
    "%%bash\n",
    "cd /hydra/FACS\n",
    "gffread -w stringtie_transcripts.fa -g ~/sexual_genome_annotation_files/sexual_genome_annotation/final_dd_Smed_g4.fa /hydra/sexual_genome_annotation_files/ncrna_Neiro/stringtie_merged.gtf"
   ]
  },
  {
   "cell_type": "code",
   "execution_count": 3,
   "id": "cc31088e",
   "metadata": {},
   "outputs": [
    {
     "name": "stdout",
     "output_type": "stream",
     "text": [
      "91068\n",
      ">SMEST026673001.1\n",
      ">MSTRG.1.2\n",
      ">MSTRG.1.3\n",
      ">MSTRG.2.1\n",
      ">MSTRG.2.2\n"
     ]
    }
   ],
   "source": [
    "%%bash\n",
    "cd /hydra/FACS\n",
    "grep -c \">\" stringtie_transcripts.fa\n",
    "grep \">\" stringtie_transcripts.fa | head -5"
   ]
  },
  {
   "cell_type": "markdown",
   "id": "1f7af762",
   "metadata": {},
   "source": [
    "The transcripts were used to generate the salmon index: "
   ]
  },
  {
   "cell_type": "code",
   "execution_count": null,
   "id": "f8e3c5c2",
   "metadata": {},
   "outputs": [],
   "source": [
    "%%bash\n",
    "cd ../FACS\n",
    "echo \"#!/bin/bash\" > salmon_index_stringtie.sh\n",
    "echo \"~/software/salmon/bin/salmon index -t ~/FACS/stringtie_transcripts.fa -i salmon_index_stringtie -k 31\" >> salmon_index_stringtie.sh\n",
    "chmod +x salmon_index_stringtie.sh\n",
    "less salmon_index_stringtie.sh"
   ]
  },
  {
   "cell_type": "code",
   "execution_count": null,
   "id": "82a19f76",
   "metadata": {},
   "outputs": [],
   "source": [
    "#%%bash\n",
    "#cd /hydra/FACS\n",
    "#./salmon_index_stringtie.sh"
   ]
  },
  {
   "cell_type": "markdown",
   "id": "dbab0dd8",
   "metadata": {},
   "source": [
    "Salmon was used to pseudoalign samples to the transcripts: "
   ]
  },
  {
   "cell_type": "code",
   "execution_count": null,
   "id": "70f2effe",
   "metadata": {},
   "outputs": [],
   "source": [
    "%%bash\n",
    "cd ../FACS\n",
    "echo \"#!/bin/bash\" > salmon_quant_bootstrap.sh\n",
    "echo \"for f in ../../../../../data/ngs/smed/facs_rnaseq_datasets/sexual/anish_trimmed_files/*fastq.gz; do ~/software/salmon/bin/salmon quant -i salmon_index_stringtie -l A -r \\$f --validateMappings -o salmon_bootstrap/\\${f:77} --numBootstraps 50; done\" >> salmon_quant_bootstrap.sh\n",
    "chmod +x salmon_quant_bootstrap.sh\n",
    "less salmon_quant_bootstrap.sh"
   ]
  },
  {
   "cell_type": "code",
   "execution_count": null,
   "id": "c4254dd3",
   "metadata": {},
   "outputs": [],
   "source": [
    "#%%bash\n",
    "#cd ../FACS\n",
    "#nohup ./salmon_quant_bootstrap.sh &"
   ]
  },
  {
   "cell_type": "code",
   "execution_count": null,
   "id": "f77fe18e",
   "metadata": {},
   "outputs": [],
   "source": [
    "#%%bash\n",
    "#cd ../FACS\n",
    "#nohup ~/software/salmon/bin/salmon quant -i salmon_index_stringtie -l A -1 ../../../../../data/ngs/smed/facs_rnaseq_datasets/sexual/neiro_bam/oenalx1_1.fastq.gz -2 ../../../../../data/ngs/smed/facs_rnaseq_datasets/sexual/neiro_bam/oenalx1_2.fastq.gz --validateMappings -o salmon_bootstrap/oenalx1 --numBootstraps 50 & \n",
    "#nohup ~/software/salmon/bin/salmon quant -i salmon_index_stringtie -l A -1 ../../../../../data/ngs/smed/facs_rnaseq_datasets/sexual/neiro_bam/oenalx2_1.fastq.gz -2 ../../../../../data/ngs/smed/facs_rnaseq_datasets/sexual/neiro_bam/oenalx2_2.fastq.gz --validateMappings -o salmon_bootstrap/oenalx2 --numBootstraps 50 &\n",
    "#nohup ~/software/salmon/bin/salmon quant -i salmon_index_stringtie -l A -1 ../../../../../data/ngs/smed/facs_rnaseq_datasets/sexual/neiro_bam/oenalxins_1.fastq.gz -2 ../../../../../data/ngs/smed/facs_rnaseq_datasets/sexual/neiro_bam/oenalxins_2.fastq.gz --validateMappings -o salmon_bootstrap/oenalxins --numBootstraps 50 &"
   ]
  },
  {
   "cell_type": "code",
   "execution_count": 18,
   "id": "919e8b64",
   "metadata": {},
   "outputs": [
    {
     "name": "stdout",
     "output_type": "stream",
     "text": [
      "188\n"
     ]
    }
   ],
   "source": [
    "%%bash\n",
    "cd /hydra/FACS/salmon_bootstrap\n",
    "ls -l | wc -l"
   ]
  },
  {
   "cell_type": "markdown",
   "id": "12de217c",
   "metadata": {},
   "source": [
    "The names of all samples were included in a list: "
   ]
  },
  {
   "cell_type": "code",
   "execution_count": null,
   "id": "39261ed5",
   "metadata": {},
   "outputs": [],
   "source": [
    "%%bash\n",
    "cd /hydra/FACS/salmon_bootstrap\n",
    "ls -d rna* > rna_list_tpm.txt"
   ]
  },
  {
   "cell_type": "code",
   "execution_count": 16,
   "id": "2325cdd5",
   "metadata": {},
   "outputs": [
    {
     "name": "stdout",
     "output_type": "stream",
     "text": [
      "aux_info\n",
      "cmd_info.json\n",
      "libParams\n",
      "lib_format_counts.json\n",
      "logs\n",
      "quant.sf\n"
     ]
    }
   ],
   "source": [
    "%%bash\n",
    "cd /hydra/FACS/salmon_bootstrap\n",
    "cd rna_bartscherer_tail_foxd_000h_SRR1012785_1.fastq.trimmed.fastq.gz\n",
    "ls"
   ]
  },
  {
   "cell_type": "markdown",
   "id": "cd5cfe2a",
   "metadata": {},
   "source": [
    "# 3. Coverage"
   ]
  },
  {
   "cell_type": "markdown",
   "id": "d4018186",
   "metadata": {},
   "source": [
    "The bam files for X1, X2 and Xins samples were used to generate coverage tracks (bigwig files)."
   ]
  },
  {
   "cell_type": "code",
   "execution_count": null,
   "id": "c8dd1217",
   "metadata": {},
   "outputs": [],
   "source": [
    "%%bash\n",
    "cd /hydra/neiro_bam\n",
    "echo \"#!/bin/bash\" > rna_coverage.sh\n",
    "echo \"cd ~/../../../../data/ngs/smed/facs_rnaseq_datasets/sexual/neiro_bam\" >> rna_coverage.sh\n",
    "echo \"samtools index -b oenalx1.sorted.bam\" >> rna_coverage.sh\n",
    "echo \"samtools index -b oenalx2.sorted.bam\" >> rna_coverage.sh\n",
    "echo \"samtools index -b oenalxins.sorted.bam\" >> rna_coverage.sh\n",
    "echo \"samtools index -b rna_pearson_x1_na_na_SRR2009674_1.fastq.trimmed.fastq.bam\" >> rna_coverage.sh\n",
    "echo \"samtools index -b rna_pearson_x1_na_na_SRR2009675_1.fastq.trimmed.fastq.bam\" >> rna_coverage.sh\n",
    "echo \"samtools index -b rna_pearson_x2_na_na_SRR2009676_1.fastq.trimmed.fastq.bam\" >> rna_coverage.sh\n",
    "echo \"samtools index -b rna_pearson_x2_na_na_SRR2009677_1.fastq.trimmed.fastq.bam\" >> rna_coverage.sh\n",
    "echo \"samtools index -b rna_reddien_x1_na_000h_SRR1302023_1.fastq.trimmed.fastq.bam\" >> rna_coverage.sh\n",
    "echo \"samtools index -b rna_reddien_x1_na_000h_SRR1302024_1.fastq.trimmed.fastq.bam\" >> rna_coverage.sh\n",
    "echo \"samtools index -b rna_reddien_x2_na_000h_SRR1302025_1.fastq.trimmed.fastq.bam\" >> rna_coverage.sh\n",
    "echo \"samtools index -b rna_reddien_x2_na_000h_SRR1302026_1.fastq.trimmed.fastq.bam\" >> rna_coverage.sh\n",
    "echo \"samtools index -b rna_sanchez_x1_na_na_SRR2407874_1.fastq.trimmed.fastq.bam\" >> rna_coverage.sh\n",
    "echo \"samtools index -b rna_sanchez_x1_na_na_SRR2407875_1.fastq.trimmed.fastq.bam\" >> rna_coverage.sh\n",
    "echo \"samtools index -b rna_sanchez_x1_na_na_SRR2407876_1.fastq.trimmed.fastq.bam\" >> rna_coverage.sh\n",
    "echo \"samtools index -b rna_sanchez_x1_na_na_SRR2407877_1.fastq.trimmed.fastq.bam\" >> rna_coverage.sh\n",
    "echo \"samtools index -b rna_sanchez_xins_na_na_SRR2407878_1.fastq.trimmed.fastq.bam\" >> rna_coverage.sh\n",
    "echo \"samtools index -b rna_sanchez_xins_na_na_SRR2407879_1.fastq.trimmed.fastq.bam\" >> rna_coverage.sh\n",
    "echo \"samtools index -b rna_sanchez_xins_na_na_SRR2407880_1.fastq.trimmed.fastq.bam\" >> rna_coverage.sh\n",
    "echo \"samtools index -b rna_sanchez_xins_na_na_SRR2407881_1.fastq.trimmed.fastq.bam\" >> rna_coverage.sh\n",
    "\n",
    "echo \"bamCoverage -b oenalx1.sorted.bam -o oenalx1.bw --normalizeUsingRPKM\" >> rna_coverage.sh\n",
    "echo \"bamCoverage -b oenalx2.sorted.bam -o oenalx2.bw --normalizeUsingRPKM\" >> rna_coverage.sh\n",
    "echo \"bamCoverage -b oenalxins.sorted.bam -o oenalxins.bw --normalizeUsingRPKM\" >> rna_coverage.sh\n",
    "echo \"bamCoverage -b rna_pearson_x1_na_na_SRR2009674_1.fastq.trimmed.fastq.bam -o pearson_x1_1.bw --normalizeUsingRPKM\" >> rna_coverage.sh\n",
    "echo \"bamCoverage -b rna_pearson_x1_na_na_SRR2009675_1.fastq.trimmed.fastq.bam -o pearson_x1_2.bw --normalizeUsingRPKM\" >> rna_coverage.sh\n",
    "echo \"bamCoverage -b rna_pearson_x2_na_na_SRR2009676_1.fastq.trimmed.fastq.bam -o pearson_x2_1.bw --normalizeUsingRPKM\" >> rna_coverage.sh\n",
    "echo \"bamCoverage -b rna_pearson_x2_na_na_SRR2009677_1.fastq.trimmed.fastq.bam -o pearson_x2_2.bw --normalizeUsingRPKM\" >> rna_coverage.sh\n",
    "echo \"bamCoverage -b rna_reddien_x1_na_000h_SRR1302023_1.fastq.trimmed.fastq.bam -o reddien_x1_1.bw --normalizeUsingRPKM\" >> rna_coverage.sh\n",
    "echo \"bamCoverage -b rna_reddien_x1_na_000h_SRR1302024_1.fastq.trimmed.fastq.bam -o reddien_x1_2.bw --normalizeUsingRPKM\" >> rna_coverage.sh\n",
    "echo \"bamCoverage -b rna_reddien_x2_na_000h_SRR1302025_1.fastq.trimmed.fastq.bam -o reddien_x2_1.bw --normalizeUsingRPKM\" >> rna_coverage.sh\n",
    "echo \"bamCoverage -b rna_reddien_x2_na_000h_SRR1302026_1.fastq.trimmed.fastq.bam -o reddien_x2_2.bw --normalizeUsingRPKM\" >> rna_coverage.sh\n",
    "echo \"bamCoverage -b rna_sanchez_x1_na_na_SRR2407874_1.fastq.trimmed.fastq.bam -o sanchez_x1_1.bw --normalizeUsingRPKM\" >> rna_coverage.sh\n",
    "echo \"bamCoverage -b rna_sanchez_x1_na_na_SRR2407875_1.fastq.trimmed.fastq.bam -o sanchez_x1_2.bw --normalizeUsingRPKM\" >> rna_coverage.sh\n",
    "echo \"bamCoverage -b rna_sanchez_x1_na_na_SRR2407876_1.fastq.trimmed.fastq.bam -o sanchez_x1_3.bw --normalizeUsingRPKM\" >> rna_coverage.sh\n",
    "echo \"bamCoverage -b rna_sanchez_x1_na_na_SRR2407877_1.fastq.trimmed.fastq.bam -o sanchez_x1_4.bw --normalizeUsingRPKM\" >> rna_coverage.sh\n",
    "echo \"bamCoverage -b rna_sanchez_xins_na_na_SRR2407878_1.fastq.trimmed.fastq.bam -o sanchez_xins_1.bw --normalizeUsingRPKM\" >> rna_coverage.sh\n",
    "echo \"bamCoverage -b rna_sanchez_xins_na_na_SRR2407879_1.fastq.trimmed.fastq.bam -o sanchez_xins_2.bw --normalizeUsingRPKM\" >> rna_coverage.sh\n",
    "echo \"bamCoverage -b rna_sanchez_xins_na_na_SRR2407880_1.fastq.trimmed.fastq.bam -o sanchez_xins_3.bw --normalizeUsingRPKM\" >> rna_coverage.sh\n",
    "echo \"bamCoverage -b rna_sanchez_xins_na_na_SRR2407881_1.fastq.trimmed.fastq.bam -o sanchez_xins_4.bw --normalizeUsingRPKM\" >> rna_coverage.sh\n",
    "chmod +x rna_coverage.sh"
   ]
  },
  {
   "cell_type": "code",
   "execution_count": 19,
   "id": "526ff20c",
   "metadata": {},
   "outputs": [],
   "source": [
    "#%%bash\n",
    "#cd /hydra/neiro_bam\n",
    "#nohup ./coverage_rna.sh &"
   ]
  },
  {
   "cell_type": "markdown",
   "id": "d5a528dc",
   "metadata": {},
   "source": [
    "Wiggletools was used to generate a mean coverage track of all the samples: "
   ]
  },
  {
   "cell_type": "code",
   "execution_count": 10,
   "id": "c70ae5e7",
   "metadata": {},
   "outputs": [
    {
     "name": "stdout",
     "output_type": "stream",
     "text": [
      "#!/bin/bash\n",
      "wiggletools mean oenalx1.bw pearson_x1_1.bw pearson_x1_2.bw reddien_x1_1.bw reddien_x1_2.bw sanchez_x1_1.bw sanchez_x1_2.bw sanchez_x1_3.bw sanchez_x1_4.bw > x1_mean_final.wig\n",
      "\n",
      "wiggletools mean oenalx2.bw pearson_x2_1.bw pearson_x2_2.bw reddien_x2_1.bw reddien_x2_2.bw > x2_mean_final.wig\n",
      "\n",
      "wiggletools mean oenalxins.bw sanchez_xins_1.bw sanchez_xins_2.bw sanchez_xins_3.bw sanchez_xins_4.bw > xins_mean_final.bw \n"
     ]
    }
   ],
   "source": [
    "%%bash\n",
    "cd /hydra/neiro_bam/\n",
    "less coverage_mean_wiggle.sh"
   ]
  },
  {
   "cell_type": "code",
   "execution_count": 11,
   "id": "f1a14d15",
   "metadata": {},
   "outputs": [
    {
     "name": "stdout",
     "output_type": "stream",
     "text": [
      "x1_mean_final.wig\n"
     ]
    }
   ],
   "source": [
    "%%bash\n",
    "cd /hydra/neiro_bam/\n",
    "ls x1_mean_final.wig"
   ]
  },
  {
   "cell_type": "code",
   "execution_count": null,
   "id": "d2d4fc4c",
   "metadata": {},
   "outputs": [],
   "source": [
    "%%bash\n",
    "cd /hydra/neiro_bam\n",
    "wigToBigWig x1_mean_final.wig ~/sexual_genome_annotation_files/sexual_genome_annotation/sizes.genome x1_mean_final.bw"
   ]
  },
  {
   "cell_type": "code",
   "execution_count": 12,
   "id": "97ef2711",
   "metadata": {},
   "outputs": [
    {
     "name": "stdout",
     "output_type": "stream",
     "text": [
      "forward.sum.bw\n",
      "reverse.sum.bw\n",
      "x1_mean_final.bw\n"
     ]
    }
   ],
   "source": [
    "%%bash\n",
    "cd /hydra/FACS\n",
    "ls *bw"
   ]
  },
  {
   "cell_type": "markdown",
   "id": "a843fa69",
   "metadata": {},
   "source": [
    "# 4. Proportional TPM values "
   ]
  },
  {
   "cell_type": "markdown",
   "id": "15527ef6",
   "metadata": {},
   "source": [
    "In order to find genes enriched in the X1 compartment, proportional TPM values were assigned to the X1, X2 and Xins."
   ]
  },
  {
   "cell_type": "markdown",
   "id": "1e01afeb",
   "metadata": {},
   "source": [
    "## 4.1 Calculation of proportional values"
   ]
  },
  {
   "cell_type": "code",
   "execution_count": 10,
   "id": "c2af5f30",
   "metadata": {},
   "outputs": [],
   "source": [
    "import pandas as pd\n",
    "sleuth_gene = pd.read_csv(\"/hydra/FACS/sleuth_gene.csv\")"
   ]
  },
  {
   "cell_type": "code",
   "execution_count": 14,
   "id": "f431bf40",
   "metadata": {},
   "outputs": [],
   "source": [
    "sleuth_gene = sleuth_gene.iloc[:,2:22]"
   ]
  },
  {
   "cell_type": "code",
   "execution_count": 16,
   "id": "b63a4c1b",
   "metadata": {},
   "outputs": [],
   "source": [
    "sleuth_agg = sleuth_gene.groupby(['gene']).sum()"
   ]
  },
  {
   "cell_type": "markdown",
   "id": "07eb4550",
   "metadata": {},
   "source": [
    "* X1: oenalx1, SRR2009674, SRR2009675, SRR1302023, SRR1302024, SRR2407874, SRR2407875, SRR2407876, SRR2407877\n",
    "* X2: oenalx2, SRR2009676, SRR2009677, SRR1302025, SRR1302026\n",
    "* Xins: oenalxins, SRR2407878, SRR2407879, SRR2407880, SRR2407881"
   ]
  },
  {
   "cell_type": "code",
   "execution_count": 18,
   "id": "c12de809",
   "metadata": {},
   "outputs": [],
   "source": [
    "x1_agg = sleuth_agg.iloc[:,[0,3, 4, 7,8, 11, 12, 13, 14]]\n",
    "x2_agg = sleuth_agg.iloc[:,[1,5, 6, 9, 10]]\n",
    "xins_agg = sleuth_agg.iloc[:,[2,15, 16, 17, 18]]"
   ]
  },
  {
   "cell_type": "markdown",
   "id": "bb84523f",
   "metadata": {},
   "source": [
    "Means were calculated for each gene in each compartment:"
   ]
  },
  {
   "cell_type": "code",
   "execution_count": null,
   "id": "a11ea94c",
   "metadata": {},
   "outputs": [],
   "source": [
    "x1_agg['mean'] = x1_agg.mean(axis=1)\n",
    "x2_agg['mean'] = x2_agg.mean(axis=1)\n",
    "xins_agg['mean'] = xins_agg.mean(axis=1)"
   ]
  },
  {
   "cell_type": "markdown",
   "id": "964157fd",
   "metadata": {},
   "source": [
    "The proportional values were calculated by dividing the gene expression value in each compartment by the total sum."
   ]
  },
  {
   "cell_type": "code",
   "execution_count": 20,
   "id": "774f7c52",
   "metadata": {},
   "outputs": [],
   "source": [
    "tpm_prop = pd.DataFrame({\"X1\": x1_agg['mean'], \"X2\": x2_agg['mean'], \"Xins\": xins_agg[\"mean\"]})\n",
    "tpm_prop[\"total\"] = tpm_prop.sum(axis=1)\n",
    "tpm_prop[\"X1.prop\"] = tpm_prop[\"X1\"]/tpm_prop[\"total\"]\n",
    "tpm_prop[\"X2.prop\"] = tpm_prop[\"X2\"]/tpm_prop[\"total\"]\n",
    "tpm_prop[\"Xins.prop\"] = tpm_prop[\"Xins\"]/tpm_prop[\"total\"]"
   ]
  },
  {
   "cell_type": "markdown",
   "id": "422ba304",
   "metadata": {},
   "source": [
    "The original Rink IDs were added to the table: "
   ]
  },
  {
   "cell_type": "code",
   "execution_count": 21,
   "id": "e31ba335",
   "metadata": {},
   "outputs": [],
   "source": [
    "gffcmp = pd.read_csv(\"/hydra/sexual_genome_annotation_files/ncrna_Neiro/gffcmp.stringtie_merged.gtf.tmap\", sep=\"\\t\")"
   ]
  },
  {
   "cell_type": "code",
   "execution_count": null,
   "id": "7a91c82d",
   "metadata": {},
   "outputs": [],
   "source": [
    "rink_genes = []\n",
    "for i in range(0, len(tpm_prop)):\n",
    "    gene = tpm_prop.index[i]\n",
    "    rink_gene = gffcmp[gffcmp[\"qry_gene_id\"] == gene].iloc[0,0]\n",
    "    if rink_gene != \"-\":\n",
    "        rink_genes.append(rink_gene)\n",
    "    else:\n",
    "        rink_genes.append(gene)"
   ]
  },
  {
   "cell_type": "code",
   "execution_count": null,
   "id": "3befd5e6",
   "metadata": {},
   "outputs": [],
   "source": [
    "tpm_prop[\"Rink.ID\"] = rink_genes"
   ]
  },
  {
   "cell_type": "code",
   "execution_count": null,
   "id": "9873ee16",
   "metadata": {},
   "outputs": [],
   "source": [
    "tpm_prop.to_csv(\"/hydra/FACS/FACS_prop.csv\")"
   ]
  },
  {
   "cell_type": "markdown",
   "id": "cce1e7bd",
   "metadata": {},
   "source": [
    "## 4.2 Inspection of proportional values"
   ]
  },
  {
   "cell_type": "markdown",
   "id": "c9164376",
   "metadata": {},
   "source": [
    "The frequencies in different enrichment categories were calculated: "
   ]
  },
  {
   "cell_type": "code",
   "execution_count": 20,
   "id": "0bd102c1",
   "metadata": {},
   "outputs": [],
   "source": [
    "import pandas as pd\n",
    "tpm_prop = pd.read_csv(\"/hydra/FACS/FACS_prop.csv\")"
   ]
  },
  {
   "cell_type": "code",
   "execution_count": 21,
   "id": "ccc6b677",
   "metadata": {},
   "outputs": [
    {
     "data": {
      "text/html": [
       "<div>\n",
       "<style scoped>\n",
       "    .dataframe tbody tr th:only-of-type {\n",
       "        vertical-align: middle;\n",
       "    }\n",
       "\n",
       "    .dataframe tbody tr th {\n",
       "        vertical-align: top;\n",
       "    }\n",
       "\n",
       "    .dataframe thead th {\n",
       "        text-align: right;\n",
       "    }\n",
       "</style>\n",
       "<table border=\"1\" class=\"dataframe\">\n",
       "  <thead>\n",
       "    <tr style=\"text-align: right;\">\n",
       "      <th></th>\n",
       "      <th>gene</th>\n",
       "      <th>X1</th>\n",
       "      <th>X2</th>\n",
       "      <th>Xins</th>\n",
       "      <th>total</th>\n",
       "      <th>X1.prop</th>\n",
       "      <th>X2.prop</th>\n",
       "      <th>Xins.prop</th>\n",
       "      <th>Rink.ID</th>\n",
       "    </tr>\n",
       "  </thead>\n",
       "  <tbody>\n",
       "    <tr>\n",
       "      <th>0</th>\n",
       "      <td>MSTRG.1</td>\n",
       "      <td>36.191056</td>\n",
       "      <td>25.270065</td>\n",
       "      <td>54.627823</td>\n",
       "      <td>116.088943</td>\n",
       "      <td>0.311753</td>\n",
       "      <td>0.217678</td>\n",
       "      <td>0.470569</td>\n",
       "      <td>SMESG000026673.1</td>\n",
       "    </tr>\n",
       "    <tr>\n",
       "      <th>1</th>\n",
       "      <td>MSTRG.10</td>\n",
       "      <td>1.213314</td>\n",
       "      <td>1.256480</td>\n",
       "      <td>0.385004</td>\n",
       "      <td>2.854797</td>\n",
       "      <td>0.425009</td>\n",
       "      <td>0.440129</td>\n",
       "      <td>0.134862</td>\n",
       "      <td>MSTRG.10</td>\n",
       "    </tr>\n",
       "    <tr>\n",
       "      <th>2</th>\n",
       "      <td>MSTRG.100</td>\n",
       "      <td>13.166939</td>\n",
       "      <td>22.418585</td>\n",
       "      <td>39.262879</td>\n",
       "      <td>74.848402</td>\n",
       "      <td>0.175915</td>\n",
       "      <td>0.299520</td>\n",
       "      <td>0.524565</td>\n",
       "      <td>SMESG000026500.1</td>\n",
       "    </tr>\n",
       "    <tr>\n",
       "      <th>3</th>\n",
       "      <td>MSTRG.1000</td>\n",
       "      <td>11.094835</td>\n",
       "      <td>6.709955</td>\n",
       "      <td>6.726305</td>\n",
       "      <td>24.531095</td>\n",
       "      <td>0.452276</td>\n",
       "      <td>0.273529</td>\n",
       "      <td>0.274195</td>\n",
       "      <td>SMESG000000245.1</td>\n",
       "    </tr>\n",
       "    <tr>\n",
       "      <th>4</th>\n",
       "      <td>MSTRG.10000</td>\n",
       "      <td>18.631952</td>\n",
       "      <td>49.453499</td>\n",
       "      <td>49.371953</td>\n",
       "      <td>117.457403</td>\n",
       "      <td>0.158627</td>\n",
       "      <td>0.421033</td>\n",
       "      <td>0.420339</td>\n",
       "      <td>SMESG000030021.1</td>\n",
       "    </tr>\n",
       "  </tbody>\n",
       "</table>\n",
       "</div>"
      ],
      "text/plain": [
       "          gene         X1         X2       Xins       total   X1.prop  \\\n",
       "0      MSTRG.1  36.191056  25.270065  54.627823  116.088943  0.311753   \n",
       "1     MSTRG.10   1.213314   1.256480   0.385004    2.854797  0.425009   \n",
       "2    MSTRG.100  13.166939  22.418585  39.262879   74.848402  0.175915   \n",
       "3   MSTRG.1000  11.094835   6.709955   6.726305   24.531095  0.452276   \n",
       "4  MSTRG.10000  18.631952  49.453499  49.371953  117.457403  0.158627   \n",
       "\n",
       "    X2.prop  Xins.prop           Rink.ID  \n",
       "0  0.217678   0.470569  SMESG000026673.1  \n",
       "1  0.440129   0.134862          MSTRG.10  \n",
       "2  0.299520   0.524565  SMESG000026500.1  \n",
       "3  0.273529   0.274195  SMESG000000245.1  \n",
       "4  0.421033   0.420339  SMESG000030021.1  "
      ]
     },
     "execution_count": 21,
     "metadata": {},
     "output_type": "execute_result"
    }
   ],
   "source": [
    "tpm_prop.head()"
   ]
  },
  {
   "cell_type": "markdown",
   "id": "22647584",
   "metadata": {},
   "source": [
    "Total number of genes: "
   ]
  },
  {
   "cell_type": "code",
   "execution_count": 2,
   "id": "bdb7e852",
   "metadata": {},
   "outputs": [
    {
     "data": {
      "text/plain": [
       "28003"
      ]
     },
     "execution_count": 2,
     "metadata": {},
     "output_type": "execute_result"
    }
   ],
   "source": [
    "len(tpm_prop)"
   ]
  },
  {
   "cell_type": "markdown",
   "id": "ecfef832",
   "metadata": {},
   "source": [
    "X1 enrichment category:"
   ]
  },
  {
   "cell_type": "code",
   "execution_count": 3,
   "id": "3bc0acba",
   "metadata": {},
   "outputs": [
    {
     "data": {
      "text/plain": [
       "4376"
      ]
     },
     "execution_count": 3,
     "metadata": {},
     "output_type": "execute_result"
    }
   ],
   "source": [
    "len(tpm_prop[tpm_prop[\"X1.prop\"] >= 0.5])"
   ]
  },
  {
   "cell_type": "markdown",
   "id": "d5f15cc9",
   "metadata": {},
   "source": [
    "X2 enrichment category: "
   ]
  },
  {
   "cell_type": "code",
   "execution_count": 4,
   "id": "3701ab4c",
   "metadata": {},
   "outputs": [
    {
     "data": {
      "text/plain": [
       "5284"
      ]
     },
     "execution_count": 4,
     "metadata": {},
     "output_type": "execute_result"
    }
   ],
   "source": [
    "len(tpm_prop[tpm_prop[\"X2.prop\"] >= 0.5])"
   ]
  },
  {
   "cell_type": "markdown",
   "id": "92aabd79",
   "metadata": {},
   "source": [
    "Xins enrichment category: "
   ]
  },
  {
   "cell_type": "code",
   "execution_count": 5,
   "id": "7b3172bb",
   "metadata": {},
   "outputs": [
    {
     "data": {
      "text/plain": [
       "7944"
      ]
     },
     "execution_count": 5,
     "metadata": {},
     "output_type": "execute_result"
    }
   ],
   "source": [
    "len(tpm_prop[tpm_prop[\"Xins.prop\"] >= 0.5])"
   ]
  },
  {
   "cell_type": "markdown",
   "id": "4c57d56c",
   "metadata": {},
   "source": [
    "X1 and X2 enrichment category: "
   ]
  },
  {
   "cell_type": "code",
   "execution_count": 6,
   "id": "cfb50b72",
   "metadata": {},
   "outputs": [
    {
     "data": {
      "text/plain": [
       "2992"
      ]
     },
     "execution_count": 6,
     "metadata": {},
     "output_type": "execute_result"
    }
   ],
   "source": [
    "len(tpm_prop[((tpm_prop[\"X1.prop\"] + tpm_prop[\"X2.prop\"]) >= 0.75) & (tpm_prop[\"X1.prop\"] < 0.5) & (tpm_prop[\"X2.prop\"] < 0.5)])"
   ]
  },
  {
   "cell_type": "markdown",
   "id": "7df76198",
   "metadata": {},
   "source": [
    "X1 and Xins enrichment category:"
   ]
  },
  {
   "cell_type": "code",
   "execution_count": 7,
   "id": "7604ccb1",
   "metadata": {},
   "outputs": [
    {
     "data": {
      "text/plain": [
       "1251"
      ]
     },
     "execution_count": 7,
     "metadata": {},
     "output_type": "execute_result"
    }
   ],
   "source": [
    "len(tpm_prop[((tpm_prop[\"X1.prop\"] + tpm_prop[\"Xins.prop\"]) >= 0.75) & (tpm_prop[\"X1.prop\"] < 0.5) & (tpm_prop[\"Xins.prop\"] < 0.5)])"
   ]
  },
  {
   "cell_type": "markdown",
   "id": "fde3afe1",
   "metadata": {},
   "source": [
    "X2 and Xins enrichment category: "
   ]
  },
  {
   "cell_type": "code",
   "execution_count": 8,
   "id": "7ff13dc0",
   "metadata": {},
   "outputs": [
    {
     "data": {
      "text/plain": [
       "2054"
      ]
     },
     "execution_count": 8,
     "metadata": {},
     "output_type": "execute_result"
    }
   ],
   "source": [
    "len(tpm_prop[((tpm_prop[\"X2.prop\"] + tpm_prop[\"Xins.prop\"]) >= 0.75) & (tpm_prop[\"X2.prop\"] < 0.5) & (tpm_prop[\"Xins.prop\"] < 0.5)])"
   ]
  },
  {
   "cell_type": "markdown",
   "id": "5e91fbed",
   "metadata": {},
   "source": [
    "Ubiquitous enrichment category: "
   ]
  },
  {
   "cell_type": "code",
   "execution_count": 9,
   "id": "f643503d",
   "metadata": {},
   "outputs": [
    {
     "data": {
      "text/plain": [
       "4102"
      ]
     },
     "execution_count": 9,
     "metadata": {},
     "output_type": "execute_result"
    }
   ],
   "source": [
    "28003-4376-5284-7944-2992-1251-2054"
   ]
  },
  {
   "cell_type": "markdown",
   "id": "e3a1f431",
   "metadata": {},
   "source": [
    "* Ubiquitous: 4102\n",
    "* X1: 4376\n",
    "* X1 and X2: 2992\n",
    "* X1 and Xins: 1251\n",
    "* X2: 5284\n",
    "* X2 and Xins: 2054\n",
    "* Xins: 7944"
   ]
  },
  {
   "cell_type": "markdown",
   "id": "72964744",
   "metadata": {},
   "source": [
    "# 5. Transcripts per gene"
   ]
  },
  {
   "cell_type": "code",
   "execution_count": 2,
   "id": "e63c8dcb",
   "metadata": {},
   "outputs": [],
   "source": [
    "import pandas as pd\n",
    "gffcmp = pd.read_csv(\"/hydra/sexual_genome_annotation_files/ncrna_Neiro/gffcmp.stringtie_merged.gtf.tmap\", sep=\"\\t\")"
   ]
  },
  {
   "cell_type": "code",
   "execution_count": 9,
   "id": "9c4d9bb5",
   "metadata": {},
   "outputs": [],
   "source": [
    "import numpy as np\n",
    "genes = list(pd.Categorical(gffcmp[\"qry_gene_id\"]).categories)\n",
    "counts = np.zeros(len(genes))"
   ]
  },
  {
   "cell_type": "code",
   "execution_count": 13,
   "id": "63fda479",
   "metadata": {},
   "outputs": [
    {
     "data": {
      "text/plain": [
       "3"
      ]
     },
     "execution_count": 13,
     "metadata": {},
     "output_type": "execute_result"
    }
   ],
   "source": [
    "len(gffcmp[gffcmp.iloc[:,3] == genes[1]])"
   ]
  },
  {
   "cell_type": "code",
   "execution_count": 22,
   "id": "343b5b98",
   "metadata": {},
   "outputs": [],
   "source": [
    "#for i in range(len(genes)):\n",
    "#    counts[i] = len(gffcmp[gffcmp.iloc[:,3] == genes[i]])\n",
    "#    if i % 1000 == 0:\n",
    "#        print(i)"
   ]
  },
  {
   "cell_type": "code",
   "execution_count": 23,
   "id": "89f7f4f6",
   "metadata": {},
   "outputs": [],
   "source": [
    "pd.DataFrame({\"Genes\": genes, \"Counts\": counts}).to_csv(\"/hydra/sexual_genome_annotation_files/ncrna_Neiro/genetranscriptcounts.csv\", index=False)"
   ]
  },
  {
   "cell_type": "code",
   "execution_count": 25,
   "id": "2122006e",
   "metadata": {},
   "outputs": [],
   "source": [
    "counts = pd.read_csv(\"/hydra/sexual_genome_annotation_files/ncrna_Neiro/genetranscriptcounts.csv\")"
   ]
  },
  {
   "cell_type": "code",
   "execution_count": 28,
   "id": "aeb38a8f",
   "metadata": {},
   "outputs": [
    {
     "data": {
      "text/html": [
       "<div>\n",
       "<style scoped>\n",
       "    .dataframe tbody tr th:only-of-type {\n",
       "        vertical-align: middle;\n",
       "    }\n",
       "\n",
       "    .dataframe tbody tr th {\n",
       "        vertical-align: top;\n",
       "    }\n",
       "\n",
       "    .dataframe thead th {\n",
       "        text-align: right;\n",
       "    }\n",
       "</style>\n",
       "<table border=\"1\" class=\"dataframe\">\n",
       "  <thead>\n",
       "    <tr style=\"text-align: right;\">\n",
       "      <th></th>\n",
       "      <th>Genes</th>\n",
       "      <th>Counts</th>\n",
       "    </tr>\n",
       "  </thead>\n",
       "  <tbody>\n",
       "    <tr>\n",
       "      <th>1458</th>\n",
       "      <td>MSTRG.1131</td>\n",
       "      <td>138.0</td>\n",
       "    </tr>\n",
       "    <tr>\n",
       "      <th>3991</th>\n",
       "      <td>MSTRG.13590</td>\n",
       "      <td>206.0</td>\n",
       "    </tr>\n",
       "    <tr>\n",
       "      <th>4094</th>\n",
       "      <td>MSTRG.13683</td>\n",
       "      <td>106.0</td>\n",
       "    </tr>\n",
       "    <tr>\n",
       "      <th>10894</th>\n",
       "      <td>MSTRG.19803</td>\n",
       "      <td>291.0</td>\n",
       "    </tr>\n",
       "    <tr>\n",
       "      <th>11907</th>\n",
       "      <td>MSTRG.20714</td>\n",
       "      <td>571.0</td>\n",
       "    </tr>\n",
       "    <tr>\n",
       "      <th>13789</th>\n",
       "      <td>MSTRG.22408</td>\n",
       "      <td>143.0</td>\n",
       "    </tr>\n",
       "    <tr>\n",
       "      <th>17004</th>\n",
       "      <td>MSTRG.3975</td>\n",
       "      <td>112.0</td>\n",
       "    </tr>\n",
       "    <tr>\n",
       "      <th>20328</th>\n",
       "      <td>MSTRG.6967</td>\n",
       "      <td>104.0</td>\n",
       "    </tr>\n",
       "  </tbody>\n",
       "</table>\n",
       "</div>"
      ],
      "text/plain": [
       "             Genes  Counts\n",
       "1458    MSTRG.1131   138.0\n",
       "3991   MSTRG.13590   206.0\n",
       "4094   MSTRG.13683   106.0\n",
       "10894  MSTRG.19803   291.0\n",
       "11907  MSTRG.20714   571.0\n",
       "13789  MSTRG.22408   143.0\n",
       "17004   MSTRG.3975   112.0\n",
       "20328   MSTRG.6967   104.0"
      ]
     },
     "execution_count": 28,
     "metadata": {},
     "output_type": "execute_result"
    }
   ],
   "source": [
    "counts[counts.iloc[:,1] > 100]"
   ]
  },
  {
   "cell_type": "markdown",
   "id": "1aba062b",
   "metadata": {},
   "source": [
    "# FINNISHED"
   ]
  }
 ],
 "metadata": {
  "kernelspec": {
   "display_name": "Python 3 (ipykernel)",
   "language": "python",
   "name": "python3"
  },
  "language_info": {
   "codemirror_mode": {
    "name": "ipython",
    "version": 3
   },
   "file_extension": ".py",
   "mimetype": "text/x-python",
   "name": "python",
   "nbconvert_exporter": "python",
   "pygments_lexer": "ipython3",
   "version": "3.8.12"
  }
 },
 "nbformat": 4,
 "nbformat_minor": 5
}
